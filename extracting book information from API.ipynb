{
 "cells": [
  {
   "cell_type": "markdown",
   "id": "1fb9bc1d",
   "metadata": {},
   "source": [
    "https://gist.github.com/IT102Gists/aa31be3ac569878cc7df3a8b37ae25a4"
   ]
  },
  {
   "cell_type": "code",
   "execution_count": 1,
   "id": "654c40a0",
   "metadata": {},
   "outputs": [],
   "source": [
    "# import libraries\n",
    "import json\n",
    "from urllib.request import urlopen\n",
    "import numpy as np\n",
    "import pandas as pd"
   ]
  },
  {
   "cell_type": "code",
   "execution_count": 2,
   "id": "6d2c469a",
   "metadata": {},
   "outputs": [],
   "source": [
    "# set api url\n",
    "api = \"https://www.googleapis.com/books/v1/volumes?q=isbn:\""
   ]
  },
  {
   "cell_type": "code",
   "execution_count": 3,
   "id": "92262710",
   "metadata": {},
   "outputs": [],
   "source": [
    "# define funtion, if clauses added to bypass missing values\n",
    "def locate_data (books):\n",
    "    data = []  \n",
    "    for isbn in books: \n",
    "        resp = urlopen(api + isbn)\n",
    "        book_data = json.load(resp)\n",
    "        volume_info = book_data[\"items\"][0][\"volumeInfo\"]\n",
    "        author = volume_info[\"authors\"]\n",
    "        prettify_author = author if len(author) > 1 else author[0]\n",
    "        if \"averageRating\" in volume_info:\n",
    "            volume_info['averageRating']\n",
    "        else: \n",
    "            volume_info['averageRating'] =np.nan\n",
    "\n",
    "        if \"ratingsCount\" in volume_info:\n",
    "            volume_info['ratingsCount']\n",
    "        else: \n",
    "            volume_info['ratingsCount'] =np.nan\n",
    "\n",
    "\n",
    "        data.append({\"ISBN\": isbn, \n",
    "                \"Title\" :volume_info['title'], \n",
    "                \"Author\": prettify_author,\n",
    "                \"Page Count\": volume_info['pageCount'],\n",
    "                \"Publication Date\" : volume_info['publishedDate'],\n",
    "                \"Language\" : volume_info[\"language\"], \n",
    "                 \"AverageRating\": volume_info['averageRating'], \n",
    "                     \"RatingsCount\":volume_info['ratingsCount'],\n",
    "                    })\n",
    "    return data"
   ]
  },
  {
   "cell_type": "code",
   "execution_count": 4,
   "id": "4dfb13fd",
   "metadata": {
    "scrolled": true
   },
   "outputs": [
    {
     "name": "stdout",
     "output_type": "stream",
     "text": [
      "<class 'pandas.core.frame.DataFrame'>\n",
      "RangeIndex: 104 entries, 0 to 103\n",
      "Data columns (total 3 columns):\n",
      " #   Column   Non-Null Count  Dtype \n",
      "---  ------   --------------  ----- \n",
      " 0   ISBN     104 non-null    object\n",
      " 1   Status   104 non-null    object\n",
      " 2   Date     48 non-null     object\n",
      "dtypes: object(3)\n",
      "memory usage: 2.6+ KB\n"
     ]
    }
   ],
   "source": [
    "# import csv of isbn\n",
    "raw_data = pd.read_csv(\"ISBN Data first 100 - Sheet1.csv\")\n",
    "raw_data[\"ISBN\"]= raw_data[\"ISBN\"].astype(str)\n",
    "raw_data.info()"
   ]
  },
  {
   "cell_type": "code",
   "execution_count": 6,
   "id": "861407c6",
   "metadata": {
    "scrolled": true
   },
   "outputs": [],
   "source": [
    "# due to internet limitations, gather data in sections and store in dataframe\n",
    "df1_25 = pd.DataFrame(locate_data(raw_data[\"ISBN\"][:25]))"
   ]
  },
  {
   "cell_type": "code",
   "execution_count": 7,
   "id": "36c53985",
   "metadata": {},
   "outputs": [],
   "source": [
    "df25_50 = pd.DataFrame(locate_data(raw_data[\"ISBN\"][25:50]))"
   ]
  },
  {
   "cell_type": "code",
   "execution_count": 8,
   "id": "c1c09bcd",
   "metadata": {},
   "outputs": [],
   "source": [
    "df50_75 = pd.DataFrame(locate_data(raw_data[\"ISBN\"][50:75]))"
   ]
  },
  {
   "cell_type": "code",
   "execution_count": 9,
   "id": "350a613f",
   "metadata": {},
   "outputs": [],
   "source": [
    "df75_100 = pd.DataFrame(locate_data(raw_data[\"ISBN\"][75:100]))"
   ]
  },
  {
   "cell_type": "code",
   "execution_count": 10,
   "id": "b7847f63",
   "metadata": {},
   "outputs": [],
   "source": [
    "df100_104 = pd.DataFrame(locate_data(raw_data[\"ISBN\"][100:]))"
   ]
  },
  {
   "cell_type": "code",
   "execution_count": 11,
   "id": "720c9eaf",
   "metadata": {
    "scrolled": true
   },
   "outputs": [],
   "source": [
    "# set isbn to index\n",
    "df1_25.set_index(\"ISBN\", inplace = True)\n",
    "df25_50.set_index(\"ISBN\", inplace = True)\n",
    "df50_75.set_index(\"ISBN\", inplace = True)\n",
    "df75_100.set_index(\"ISBN\", inplace = True)\n",
    "df100_104.set_index(\"ISBN\", inplace = True)"
   ]
  },
  {
   "cell_type": "code",
   "execution_count": 12,
   "id": "edd801d7",
   "metadata": {},
   "outputs": [],
   "source": [
    "# join the list together\n",
    "API_Data1 = [df1_25, df25_50,df50_75,df75_100, df100_104]\n",
    "Books1_104 = pd.concat(API_Data1)"
   ]
  },
  {
   "cell_type": "code",
   "execution_count": 13,
   "id": "b2d88de6",
   "metadata": {},
   "outputs": [
    {
     "data": {
      "text/html": [
       "<div>\n",
       "<style scoped>\n",
       "    .dataframe tbody tr th:only-of-type {\n",
       "        vertical-align: middle;\n",
       "    }\n",
       "\n",
       "    .dataframe tbody tr th {\n",
       "        vertical-align: top;\n",
       "    }\n",
       "\n",
       "    .dataframe thead th {\n",
       "        text-align: right;\n",
       "    }\n",
       "</style>\n",
       "<table border=\"1\" class=\"dataframe\">\n",
       "  <thead>\n",
       "    <tr style=\"text-align: right;\">\n",
       "      <th></th>\n",
       "      <th>Title</th>\n",
       "      <th>Author</th>\n",
       "      <th>Page Count</th>\n",
       "      <th>Publication Date</th>\n",
       "      <th>Language</th>\n",
       "      <th>AverageRating</th>\n",
       "      <th>RatingsCount</th>\n",
       "    </tr>\n",
       "    <tr>\n",
       "      <th>ISBN</th>\n",
       "      <th></th>\n",
       "      <th></th>\n",
       "      <th></th>\n",
       "      <th></th>\n",
       "      <th></th>\n",
       "      <th></th>\n",
       "      <th></th>\n",
       "    </tr>\n",
       "  </thead>\n",
       "  <tbody>\n",
       "    <tr>\n",
       "      <th>4048692712</th>\n",
       "      <td>ちょっと今から仕事やめてくる</td>\n",
       "      <td>北川恵海</td>\n",
       "      <td>235</td>\n",
       "      <td>2015-02-25</td>\n",
       "      <td>ja</td>\n",
       "      <td>3.0</td>\n",
       "      <td>9.0</td>\n",
       "    </tr>\n",
       "    <tr>\n",
       "      <th>4048659502</th>\n",
       "      <td>ヒーローズ(株)!!!</td>\n",
       "      <td>北川恵海</td>\n",
       "      <td>329</td>\n",
       "      <td>2016-04</td>\n",
       "      <td>ja</td>\n",
       "      <td>5.0</td>\n",
       "      <td>1.0</td>\n",
       "    </tr>\n",
       "    <tr>\n",
       "      <th>404870138X</th>\n",
       "      <td>0能者ミナト</td>\n",
       "      <td>葉山透</td>\n",
       "      <td>341</td>\n",
       "      <td>2011-02</td>\n",
       "      <td>ja</td>\n",
       "      <td>NaN</td>\n",
       "      <td>NaN</td>\n",
       "    </tr>\n",
       "    <tr>\n",
       "      <th>4102134034</th>\n",
       "      <td>シャーロック・ホームズの思い出</td>\n",
       "      <td>ドイル,A.(アーサー)C.</td>\n",
       "      <td>350</td>\n",
       "      <td>1989</td>\n",
       "      <td>ja</td>\n",
       "      <td>NaN</td>\n",
       "      <td>NaN</td>\n",
       "    </tr>\n",
       "    <tr>\n",
       "      <th>4102134069</th>\n",
       "      <td>四つの署名</td>\n",
       "      <td>ドイル,A.(アーサー)C.</td>\n",
       "      <td>196</td>\n",
       "      <td>1993</td>\n",
       "      <td>ja</td>\n",
       "      <td>3.0</td>\n",
       "      <td>1.0</td>\n",
       "    </tr>\n",
       "  </tbody>\n",
       "</table>\n",
       "</div>"
      ],
      "text/plain": [
       "                      Title          Author  Page Count Publication Date  \\\n",
       "ISBN                                                                       \n",
       "4048692712   ちょっと今から仕事やめてくる            北川恵海         235       2015-02-25   \n",
       "4048659502      ヒーローズ(株)!!!            北川恵海         329          2016-04   \n",
       "404870138X           0能者ミナト             葉山透         341          2011-02   \n",
       "4102134034  シャーロック・ホームズの思い出  ドイル,A.(アーサー)C.         350             1989   \n",
       "4102134069            四つの署名  ドイル,A.(アーサー)C.         196             1993   \n",
       "\n",
       "           Language  AverageRating  RatingsCount  \n",
       "ISBN                                              \n",
       "4048692712       ja            3.0           9.0  \n",
       "4048659502       ja            5.0           1.0  \n",
       "404870138X       ja            NaN           NaN  \n",
       "4102134034       ja            NaN           NaN  \n",
       "4102134069       ja            3.0           1.0  "
      ]
     },
     "execution_count": 13,
     "metadata": {},
     "output_type": "execute_result"
    }
   ],
   "source": [
    "#view dataframe\n",
    "Books1_104.head()"
   ]
  },
  {
   "cell_type": "code",
   "execution_count": 14,
   "id": "a97e91d7",
   "metadata": {},
   "outputs": [],
   "source": [
    "#save as csv\n",
    "Books1_104.to_csv(\"Books1_104.csv\")"
   ]
  },
  {
   "cell_type": "code",
   "execution_count": null,
   "id": "e39a04d1",
   "metadata": {},
   "outputs": [],
   "source": []
  }
 ],
 "metadata": {
  "kernelspec": {
   "display_name": "Python 3 (ipykernel)",
   "language": "python",
   "name": "python3"
  },
  "language_info": {
   "codemirror_mode": {
    "name": "ipython",
    "version": 3
   },
   "file_extension": ".py",
   "mimetype": "text/x-python",
   "name": "python",
   "nbconvert_exporter": "python",
   "pygments_lexer": "ipython3",
   "version": "3.9.7"
  }
 },
 "nbformat": 4,
 "nbformat_minor": 5
}
