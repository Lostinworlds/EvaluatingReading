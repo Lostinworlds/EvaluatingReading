{
 "cells": [
  {
   "cell_type": "markdown",
   "id": "43de2d8e",
   "metadata": {},
   "source": [
    "# Webscraping Bookmeter"
   ]
  },
  {
   "cell_type": "code",
   "execution_count": 24,
   "id": "ba2d387a",
   "metadata": {},
   "outputs": [],
   "source": [
    "# import libraries\n",
    "import requests\n",
    "\n",
    "from bs4 import BeautifulSoup"
   ]
  },
  {
   "cell_type": "code",
   "execution_count": 23,
   "id": "c8f27d9f",
   "metadata": {},
   "outputs": [],
   "source": [
    "# request the data from the website\n",
    "url = \"https://bookmeter.com/users/744359/books/read?display_type=list\"\n",
    "\n",
    "r = requests.get(url)"
   ]
  },
  {
   "cell_type": "code",
   "execution_count": 8,
   "id": "bdf00235",
   "metadata": {
    "scrolled": true
   },
   "outputs": [
    {
     "name": "stdout",
     "output_type": "stream",
     "text": [
      "<!DOCTYPE html><html lang=\"ja-jp\" prefix=\"og: http://ogp.me/ns# fb: http://ogp.me/ns/fb# website: http://ogp.me/ns/website#\"><head><meta charset=\"utf-8\" /><meta format-detection=\"telephone=no, address=no\" /><link rel=\"apple-touch-icon\" type=\"image/png\" href=\"/assets/apple-touch-icon-1882167a78a9b84d8ff9c01eb462fb01ebc27dabc41f672cd3ac07507435647a.png\" sizes=\"180x180\" /><link rel=\"android-icon\" type=\"image/png\" href=\"/assets/android-icon-d38810ce7b611898d54416e0913ccb79baaa14d33a7efa49009500c9bed\n"
     ]
    }
   ],
   "source": [
    "#check returned values\n",
    "print(r.text[0:500])"
   ]
  },
  {
   "cell_type": "code",
   "execution_count": 25,
   "id": "311dcc1d",
   "metadata": {},
   "outputs": [],
   "source": [
    "# parse data\n",
    "soup = BeautifulSoup(r.text, \"html.parser\")"
   ]
  },
  {
   "cell_type": "code",
   "execution_count": 10,
   "id": "14deac9b",
   "metadata": {},
   "outputs": [],
   "source": [
    "#store variables\n",
    "results = soup.find_all(\"div\", attrs ={\"class\": \"book__detail\"})"
   ]
  },
  {
   "cell_type": "code",
   "execution_count": 11,
   "id": "59822f56",
   "metadata": {},
   "outputs": [
    {
     "data": {
      "text/plain": [
       "20"
      ]
     },
     "execution_count": 11,
     "metadata": {},
     "output_type": "execute_result"
    }
   ],
   "source": [
    "#check length of returned values\n",
    "len(results)"
   ]
  },
  {
   "cell_type": "code",
   "execution_count": 12,
   "id": "42adbb6e",
   "metadata": {},
   "outputs": [
    {
     "data": {
      "text/plain": [
       "[<div class=\"book__detail\"><div class=\"detail__date\">2022/05/08</div><div class=\"detail__title\"><a href=\"/books/14418563\">You: Now a Major Netfl…</a></div><ul class=\"detail__authors\"><li><a href=\"/search?author=Caroline+Kepnes\">Caroline Kepnes</a></li></ul><div class=\"detail__page\">432</div><dl class=\"detail__options\"><dt class=\"options__title\">登録</dt><dd class=\"options__item\">1</dd></dl></div>,\n",
       " <div class=\"book__detail\"><div class=\"detail__date\">2022/05/08</div><div class=\"detail__title\"><a href=\"/books/12285662\">屍人荘の殺人</a></div><ul class=\"detail__authors\"><li><a href=\"/search?author=%E4%BB%8A%E6%9D%91+%E6%98%8C%E5%BC%98\">今村 昌弘</a></li></ul><div class=\"detail__page\">336</div><dl class=\"detail__options\"><dt class=\"options__title\">登録</dt><dd class=\"options__item\">19949</dd></dl></div>,\n",
       " <div class=\"book__detail\"><div class=\"detail__date\">2022/05/06</div><div class=\"detail__title\"><a href=\"/books/19762311\">I Didn't Do The Thing …</a></div><ul class=\"detail__authors\"><li><a href=\"/search?author=Madeleine+Dore\">Madeleine Dore</a></li></ul><div class=\"detail__page\">296</div><dl class=\"detail__options\"><dt class=\"options__title\">登録</dt><dd class=\"options__item\">1</dd></dl></div>]"
      ]
     },
     "execution_count": 12,
     "metadata": {},
     "output_type": "execute_result"
    }
   ],
   "source": [
    "#view top returns \n",
    "results[0:3]"
   ]
  },
  {
   "cell_type": "code",
   "execution_count": 13,
   "id": "ffbc3460",
   "metadata": {},
   "outputs": [
    {
     "data": {
      "text/plain": [
       "<div class=\"book__detail\"><div class=\"detail__date\">2022/05/08</div><div class=\"detail__title\"><a href=\"/books/14418563\">You: Now a Major Netfl…</a></div><ul class=\"detail__authors\"><li><a href=\"/search?author=Caroline+Kepnes\">Caroline Kepnes</a></li></ul><div class=\"detail__page\">432</div><dl class=\"detail__options\"><dt class=\"options__title\">登録</dt><dd class=\"options__item\">1</dd></dl></div>"
      ]
     },
     "execution_count": 13,
     "metadata": {},
     "output_type": "execute_result"
    }
   ],
   "source": [
    "first_results = results[0]\n",
    "first_results"
   ]
  },
  {
   "cell_type": "code",
   "execution_count": 14,
   "id": "00191aed",
   "metadata": {},
   "outputs": [
    {
     "data": {
      "text/plain": [
       "'2022/05/08'"
      ]
     },
     "execution_count": 14,
     "metadata": {},
     "output_type": "execute_result"
    }
   ],
   "source": [
    "# extract first completion date\n",
    "first_results.find(\"div\", attrs ={\"class\": \"detail__date\"}).text"
   ]
  },
  {
   "cell_type": "code",
   "execution_count": 22,
   "id": "52d83d79",
   "metadata": {},
   "outputs": [
    {
     "name": "stdout",
     "output_type": "stream",
     "text": [
      "You: Now a Major Netfl…\n"
     ]
    }
   ],
   "source": [
    "# extract most recent book read\n",
    "print(first_results.find(\"div\", attrs ={\"class\": \"detail__title\"}).text)\n",
    "## This returned value is an issue as the text is cropped. "
   ]
  },
  {
   "cell_type": "code",
   "execution_count": 16,
   "id": "f0d2b35f",
   "metadata": {},
   "outputs": [
    {
     "data": {
      "text/plain": [
       "'Caroline Kepnes'"
      ]
     },
     "execution_count": 16,
     "metadata": {},
     "output_type": "execute_result"
    }
   ],
   "source": [
    "# extract most recent title\n",
    "first_results.find(\"ul\", attrs ={\"class\": \"detail__authors\"}).text"
   ]
  },
  {
   "cell_type": "code",
   "execution_count": 17,
   "id": "0dbc4160",
   "metadata": {},
   "outputs": [
    {
     "data": {
      "text/plain": [
       "'432'"
      ]
     },
     "execution_count": 17,
     "metadata": {},
     "output_type": "execute_result"
    }
   ],
   "source": [
    "# extract length of book\n",
    "first_results.find(\"div\", attrs ={\"class\": \"detail__page\"}).text"
   ]
  },
  {
   "cell_type": "code",
   "execution_count": 18,
   "id": "65625a5d",
   "metadata": {},
   "outputs": [],
   "source": [
    "# collect data for all books on page\n",
    "records =[]\n",
    "for result in results: \n",
    "    date = result.find(\"div\", attrs ={\"class\": \"detail__date\"}).text\n",
    "    title = result.find(\"div\", attrs ={\"class\": \"detail__title\"}).text\n",
    "    author = result.find(\"ul\", attrs ={\"class\": \"detail__authors\"}).text\n",
    "    pgs = result.find(\"div\", attrs ={\"class\": \"detail__page\"}).text\n",
    "    records.append((date,title,author,pgs))"
   ]
  },
  {
   "cell_type": "code",
   "execution_count": 19,
   "id": "80695824",
   "metadata": {},
   "outputs": [
    {
     "data": {
      "text/plain": [
       "20"
      ]
     },
     "execution_count": 19,
     "metadata": {},
     "output_type": "execute_result"
    }
   ],
   "source": [
    "# check function and if data stored correctly on variable. \n",
    "len(records)"
   ]
  },
  {
   "cell_type": "code",
   "execution_count": 20,
   "id": "f12dd7f7",
   "metadata": {},
   "outputs": [],
   "source": [
    "# import pandas\n",
    "import pandas as pd\n",
    "\n",
    "#store return data in dataframe with column titles\n",
    "df = pd.DataFrame(records, columns=[\"date\", \"title\", \"author\", \"pages\"])"
   ]
  },
  {
   "cell_type": "code",
   "execution_count": 21,
   "id": "1ad780a9",
   "metadata": {},
   "outputs": [],
   "source": [
    "#revise date to datetime object\n",
    "df[\"date\"]=pd.to_datetime(df[\"date\"])"
   ]
  },
  {
   "cell_type": "code",
   "execution_count": 16,
   "id": "4d6f45dc",
   "metadata": {},
   "outputs": [
    {
     "data": {
      "text/html": [
       "<div>\n",
       "<style scoped>\n",
       "    .dataframe tbody tr th:only-of-type {\n",
       "        vertical-align: middle;\n",
       "    }\n",
       "\n",
       "    .dataframe tbody tr th {\n",
       "        vertical-align: top;\n",
       "    }\n",
       "\n",
       "    .dataframe thead th {\n",
       "        text-align: right;\n",
       "    }\n",
       "</style>\n",
       "<table border=\"1\" class=\"dataframe\">\n",
       "  <thead>\n",
       "    <tr style=\"text-align: right;\">\n",
       "      <th></th>\n",
       "      <th>date</th>\n",
       "      <th>title</th>\n",
       "      <th>author</th>\n",
       "      <th>pages</th>\n",
       "    </tr>\n",
       "  </thead>\n",
       "  <tbody>\n",
       "    <tr>\n",
       "      <th>0</th>\n",
       "      <td>2022-04-18</td>\n",
       "      <td>Thinking, Fast and Slow</td>\n",
       "      <td>Daniel Kahneman</td>\n",
       "      <td>512</td>\n",
       "    </tr>\n",
       "    <tr>\n",
       "      <th>1</th>\n",
       "      <td>2022-04-17</td>\n",
       "      <td>The Man Who Mistook Hi…</td>\n",
       "      <td>Naomi Shragai</td>\n",
       "      <td>288</td>\n",
       "    </tr>\n",
       "    <tr>\n",
       "      <th>2</th>\n",
       "      <td>2022-04-10</td>\n",
       "      <td>Economics</td>\n",
       "      <td>The Economist</td>\n",
       "      <td>368</td>\n",
       "    </tr>\n",
       "    <tr>\n",
       "      <th>3</th>\n",
       "      <td>2022-04-09</td>\n",
       "      <td>NOISE 上: 組織はなぜ判断を誤るのか?</td>\n",
       "      <td>ダニエル・カーネマン,オリヴィエ・シボニー,キャス・R・サンスティーン,Daniel Kah...</td>\n",
       "      <td>320</td>\n",
       "    </tr>\n",
       "    <tr>\n",
       "      <th>4</th>\n",
       "      <td>2022-04-08</td>\n",
       "      <td>Freakonomics</td>\n",
       "      <td>Steven D. Levitt,Stephen J Dubner</td>\n",
       "      <td>336</td>\n",
       "    </tr>\n",
       "    <tr>\n",
       "      <th>5</th>\n",
       "      <td>2022-04-01</td>\n",
       "      <td>Economics: The User's …</td>\n",
       "      <td>Ha-Joon Chang</td>\n",
       "      <td>365</td>\n",
       "    </tr>\n",
       "    <tr>\n",
       "      <th>6</th>\n",
       "      <td>2022-03-22</td>\n",
       "      <td>The Phone Booth at the…</td>\n",
       "      <td>Laura Imai Messina</td>\n",
       "      <td>416</td>\n",
       "    </tr>\n",
       "    <tr>\n",
       "      <th>7</th>\n",
       "      <td>2022-03-11</td>\n",
       "      <td>本陣殺人事件 (角川文庫)</td>\n",
       "      <td>横溝 正史</td>\n",
       "      <td>407</td>\n",
       "    </tr>\n",
       "    <tr>\n",
       "      <th>8</th>\n",
       "      <td>2022-02-20</td>\n",
       "      <td>変身 (角川文庫)</td>\n",
       "      <td>フランツ・カフカ</td>\n",
       "      <td>224</td>\n",
       "    </tr>\n",
       "    <tr>\n",
       "      <th>9</th>\n",
       "      <td>2022-02-20</td>\n",
       "      <td>Daughter of Smoke and …</td>\n",
       "      <td>Laini Taylor</td>\n",
       "      <td>624</td>\n",
       "    </tr>\n",
       "    <tr>\n",
       "      <th>10</th>\n",
       "      <td>2022-01-17</td>\n",
       "      <td>Hunch: Turn Your Every…</td>\n",
       "      <td>Bernadette Jiwa</td>\n",
       "      <td>176</td>\n",
       "    </tr>\n",
       "    <tr>\n",
       "      <th>11</th>\n",
       "      <td>2022-01-10</td>\n",
       "      <td>The Ex Hex: Never mix …</td>\n",
       "      <td>Erin Sterling</td>\n",
       "      <td>320</td>\n",
       "    </tr>\n",
       "    <tr>\n",
       "      <th>12</th>\n",
       "      <td>2022-01-06</td>\n",
       "      <td>The Happy Closet</td>\n",
       "      <td>Annmarie O'Connor</td>\n",
       "      <td>320</td>\n",
       "    </tr>\n",
       "    <tr>\n",
       "      <th>13</th>\n",
       "      <td>2022-01-06</td>\n",
       "      <td>Hello World: How  to b…</td>\n",
       "      <td>Hannah Fry</td>\n",
       "      <td>320</td>\n",
       "    </tr>\n",
       "    <tr>\n",
       "      <th>14</th>\n",
       "      <td>2022-01-05</td>\n",
       "      <td>Nudge</td>\n",
       "      <td>Richard H Thaler</td>\n",
       "      <td>518</td>\n",
       "    </tr>\n",
       "    <tr>\n",
       "      <th>15</th>\n",
       "      <td>2021-12-31</td>\n",
       "      <td>Calling Bullshit: The …</td>\n",
       "      <td>Jevin D. West,Carl T. Bergstrom</td>\n",
       "      <td>256</td>\n",
       "    </tr>\n",
       "    <tr>\n",
       "      <th>16</th>\n",
       "      <td>2021-12-25</td>\n",
       "      <td>Humble Pi: A Comedy of…</td>\n",
       "      <td>Matt Parker</td>\n",
       "      <td>336</td>\n",
       "    </tr>\n",
       "    <tr>\n",
       "      <th>17</th>\n",
       "      <td>2021-12-21</td>\n",
       "      <td>Misbehaving: The Makin…</td>\n",
       "      <td>Richard H. Thaler</td>\n",
       "      <td>415</td>\n",
       "    </tr>\n",
       "    <tr>\n",
       "      <th>18</th>\n",
       "      <td>2021-12-12</td>\n",
       "      <td>Economics: The User's …</td>\n",
       "      <td>Ha-Joon Chang</td>\n",
       "      <td>365</td>\n",
       "    </tr>\n",
       "    <tr>\n",
       "      <th>19</th>\n",
       "      <td>2021-12-07</td>\n",
       "      <td>Economics</td>\n",
       "      <td>The Economist</td>\n",
       "      <td>368</td>\n",
       "    </tr>\n",
       "  </tbody>\n",
       "</table>\n",
       "</div>"
      ],
      "text/plain": [
       "         date                    title  \\\n",
       "0  2022-04-18  Thinking, Fast and Slow   \n",
       "1  2022-04-17  The Man Who Mistook Hi…   \n",
       "2  2022-04-10                Economics   \n",
       "3  2022-04-09   NOISE 上: 組織はなぜ判断を誤るのか?   \n",
       "4  2022-04-08             Freakonomics   \n",
       "5  2022-04-01  Economics: The User's …   \n",
       "6  2022-03-22  The Phone Booth at the…   \n",
       "7  2022-03-11            本陣殺人事件 (角川文庫)   \n",
       "8  2022-02-20                変身 (角川文庫)   \n",
       "9  2022-02-20  Daughter of Smoke and …   \n",
       "10 2022-01-17  Hunch: Turn Your Every…   \n",
       "11 2022-01-10  The Ex Hex: Never mix …   \n",
       "12 2022-01-06         The Happy Closet   \n",
       "13 2022-01-06  Hello World: How  to b…   \n",
       "14 2022-01-05                    Nudge   \n",
       "15 2021-12-31  Calling Bullshit: The …   \n",
       "16 2021-12-25  Humble Pi: A Comedy of…   \n",
       "17 2021-12-21  Misbehaving: The Makin…   \n",
       "18 2021-12-12  Economics: The User's …   \n",
       "19 2021-12-07                Economics   \n",
       "\n",
       "                                               author pages  \n",
       "0                                     Daniel Kahneman   512  \n",
       "1                                       Naomi Shragai   288  \n",
       "2                                       The Economist   368  \n",
       "3   ダニエル・カーネマン,オリヴィエ・シボニー,キャス・R・サンスティーン,Daniel Kah...   320  \n",
       "4                   Steven D. Levitt,Stephen J Dubner   336  \n",
       "5                                       Ha-Joon Chang   365  \n",
       "6                                  Laura Imai Messina   416  \n",
       "7                                               横溝 正史   407  \n",
       "8                                            フランツ・カフカ   224  \n",
       "9                                        Laini Taylor   624  \n",
       "10                                    Bernadette Jiwa   176  \n",
       "11                                      Erin Sterling   320  \n",
       "12                                  Annmarie O'Connor   320  \n",
       "13                                         Hannah Fry   320  \n",
       "14                                   Richard H Thaler   518  \n",
       "15                    Jevin D. West,Carl T. Bergstrom   256  \n",
       "16                                        Matt Parker   336  \n",
       "17                                  Richard H. Thaler   415  \n",
       "18                                      Ha-Joon Chang   365  \n",
       "19                                      The Economist   368  "
      ]
     },
     "execution_count": 16,
     "metadata": {},
     "output_type": "execute_result"
    }
   ],
   "source": [
    "# review returned values\n",
    "df.head()"
   ]
  }
 ],
 "metadata": {
  "kernelspec": {
   "display_name": "Python 3 (ipykernel)",
   "language": "python",
   "name": "python3"
  },
  "language_info": {
   "codemirror_mode": {
    "name": "ipython",
    "version": 3
   },
   "file_extension": ".py",
   "mimetype": "text/x-python",
   "name": "python",
   "nbconvert_exporter": "python",
   "pygments_lexer": "ipython3",
   "version": "3.9.7"
  }
 },
 "nbformat": 4,
 "nbformat_minor": 5
}
