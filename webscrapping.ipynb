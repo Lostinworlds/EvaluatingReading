{
 "cells": [
  {
   "cell_type": "markdown",
   "id": "532634a4",
   "metadata": {},
   "source": [
    "# Webscraping Bookmeter"
   ]
  },
  {
   "cell_type": "code",
   "execution_count": 1,
   "id": "ba2d387a",
   "metadata": {},
   "outputs": [],
   "source": [
    "# import libraries\n",
    "import requests\n",
    "\n",
    "from bs4 import BeautifulSoup"
   ]
  },
  {
   "cell_type": "code",
   "execution_count": 2,
   "id": "faea8e51",
   "metadata": {},
   "outputs": [],
   "source": [
    "# request the data from the website\n",
    "url = \"https://bookmeter.com/users/744359/books/read?display_type=list\"\n",
    "\n",
    "r = requests.get(url)"
   ]
  },
  {
   "cell_type": "code",
   "execution_count": 3,
   "id": "bdf00235",
   "metadata": {
    "scrolled": true
   },
   "outputs": [
    {
     "name": "stdout",
     "output_type": "stream",
     "text": [
      "<!DOCTYPE html><html lang=\"ja-jp\" prefix=\"og: http://ogp.me/ns# fb: http://ogp.me/ns/fb# website: http://ogp.me/ns/website#\"><head><meta charset=\"utf-8\" /><meta format-detection=\"telephone=no, address=no\" /><link rel=\"apple-touch-icon\" type=\"image/png\" href=\"/assets/apple-touch-icon-1882167a78a9b84d8ff9c01eb462fb01ebc27dabc41f672cd3ac07507435647a.png\" sizes=\"180x180\" /><link rel=\"android-icon\" type=\"image/png\" href=\"/assets/android-icon-d38810ce7b611898d54416e0913ccb79baaa14d33a7efa49009500c9bed\n"
     ]
    }
   ],
   "source": [
    "#check returned values\n",
    "print(r.text[0:500])"
   ]
  },
  {
   "cell_type": "code",
   "execution_count": 4,
   "id": "311dcc1d",
   "metadata": {},
   "outputs": [],
   "source": [
    "# parse data\n",
    "soup = BeautifulSoup(r.text, \"html.parser\")"
   ]
  },
  {
   "cell_type": "code",
   "execution_count": 5,
   "id": "14deac9b",
   "metadata": {},
   "outputs": [],
   "source": [
    "#store variables\n",
    "results = soup.find_all(\"div\", attrs ={\"class\": \"book__detail\"})"
   ]
  },
  {
   "cell_type": "code",
   "execution_count": 6,
   "id": "59822f56",
   "metadata": {},
   "outputs": [
    {
     "data": {
      "text/plain": [
       "20"
      ]
     },
     "execution_count": 6,
     "metadata": {},
     "output_type": "execute_result"
    }
   ],
   "source": [
    "#check length of returned values\n",
    "len(results)"
   ]
  },
  {
   "cell_type": "code",
   "execution_count": 7,
   "id": "42adbb6e",
   "metadata": {},
   "outputs": [
    {
     "data": {
      "text/plain": [
       "[<div class=\"book__detail\"><div class=\"detail__date\">2022/05/08</div><div class=\"detail__title\"><a href=\"/books/14418563\">You: Now a Major Netfl…</a></div><ul class=\"detail__authors\"><li><a href=\"/search?author=Caroline+Kepnes\">Caroline Kepnes</a></li></ul><div class=\"detail__page\">432</div><dl class=\"detail__options\"><dt class=\"options__title\">登録</dt><dd class=\"options__item\">1</dd></dl></div>,\n",
       " <div class=\"book__detail\"><div class=\"detail__date\">2022/05/08</div><div class=\"detail__title\"><a href=\"/books/12285662\">屍人荘の殺人</a></div><ul class=\"detail__authors\"><li><a href=\"/search?author=%E4%BB%8A%E6%9D%91+%E6%98%8C%E5%BC%98\">今村 昌弘</a></li></ul><div class=\"detail__page\">336</div><dl class=\"detail__options\"><dt class=\"options__title\">登録</dt><dd class=\"options__item\">19949</dd></dl></div>,\n",
       " <div class=\"book__detail\"><div class=\"detail__date\">2022/05/06</div><div class=\"detail__title\"><a href=\"/books/19762311\">I Didn't Do The Thing …</a></div><ul class=\"detail__authors\"><li><a href=\"/search?author=Madeleine+Dore\">Madeleine Dore</a></li></ul><div class=\"detail__page\">296</div><dl class=\"detail__options\"><dt class=\"options__title\">登録</dt><dd class=\"options__item\">1</dd></dl></div>]"
      ]
     },
     "execution_count": 7,
     "metadata": {},
     "output_type": "execute_result"
    }
   ],
   "source": [
    "#view top returns \n",
    "results[0:3]"
   ]
  },
  {
   "cell_type": "code",
   "execution_count": 8,
   "id": "ffbc3460",
   "metadata": {},
   "outputs": [
    {
     "data": {
      "text/plain": [
       "<div class=\"book__detail\"><div class=\"detail__date\">2022/05/08</div><div class=\"detail__title\"><a href=\"/books/14418563\">You: Now a Major Netfl…</a></div><ul class=\"detail__authors\"><li><a href=\"/search?author=Caroline+Kepnes\">Caroline Kepnes</a></li></ul><div class=\"detail__page\">432</div><dl class=\"detail__options\"><dt class=\"options__title\">登録</dt><dd class=\"options__item\">1</dd></dl></div>"
      ]
     },
     "execution_count": 8,
     "metadata": {},
     "output_type": "execute_result"
    }
   ],
   "source": [
    "first_results = results[0]\n",
    "first_results"
   ]
  },
  {
   "cell_type": "code",
   "execution_count": 9,
   "id": "00191aed",
   "metadata": {},
   "outputs": [
    {
     "data": {
      "text/plain": [
       "'2022/05/08'"
      ]
     },
     "execution_count": 9,
     "metadata": {},
     "output_type": "execute_result"
    }
   ],
   "source": [
    "# extract first completion date\n",
    "first_results.find(\"div\", attrs ={\"class\": \"detail__date\"}).text"
   ]
  },
  {
   "cell_type": "code",
   "execution_count": 10,
   "id": "52d83d79",
   "metadata": {},
   "outputs": [
    {
     "name": "stdout",
     "output_type": "stream",
     "text": [
      "You: Now a Major Netfl…\n"
     ]
    }
   ],
   "source": [
    "# extract most recent book read\n",
    "print(first_results.find(\"div\", attrs ={\"class\": \"detail__title\"}).text)\n",
    "## This returned value is an issue as the text is cropped. "
   ]
  },
  {
   "cell_type": "code",
   "execution_count": 11,
   "id": "f0d2b35f",
   "metadata": {},
   "outputs": [
    {
     "data": {
      "text/plain": [
       "'Caroline Kepnes'"
      ]
     },
     "execution_count": 11,
     "metadata": {},
     "output_type": "execute_result"
    }
   ],
   "source": [
    "# extract most recent title\n",
    "first_results.find(\"ul\", attrs ={\"class\": \"detail__authors\"}).text"
   ]
  },
  {
   "cell_type": "code",
   "execution_count": 12,
   "id": "0dbc4160",
   "metadata": {},
   "outputs": [
    {
     "data": {
      "text/plain": [
       "'432'"
      ]
     },
     "execution_count": 12,
     "metadata": {},
     "output_type": "execute_result"
    }
   ],
   "source": [
    "# extract length of book\n",
    "first_results.find(\"div\", attrs ={\"class\": \"detail__page\"}).text"
   ]
  },
  {
   "cell_type": "code",
   "execution_count": 13,
   "id": "65625a5d",
   "metadata": {},
   "outputs": [],
   "source": [
    "# collect data for all books on page\n",
    "records =[]\n",
    "for result in results: \n",
    "    date = result.find(\"div\", attrs ={\"class\": \"detail__date\"}).text\n",
    "    title = result.find(\"div\", attrs ={\"class\": \"detail__title\"}).text\n",
    "    author = result.find(\"ul\", attrs ={\"class\": \"detail__authors\"}).text\n",
    "    pgs = result.find(\"div\", attrs ={\"class\": \"detail__page\"}).text\n",
    "    records.append((date,title,author,pgs))"
   ]
  },
  {
   "cell_type": "code",
   "execution_count": 14,
   "id": "80695824",
   "metadata": {},
   "outputs": [
    {
     "data": {
      "text/plain": [
       "20"
      ]
     },
     "execution_count": 14,
     "metadata": {},
     "output_type": "execute_result"
    }
   ],
   "source": [
    "# check function and if data stored correctly on variable. \n",
    "len(records)"
   ]
  },
  {
   "cell_type": "code",
   "execution_count": 15,
   "id": "f12dd7f7",
   "metadata": {},
   "outputs": [],
   "source": [
    "# import pandas\n",
    "import pandas as pd\n",
    "\n",
    "#store return data in dataframe with column titles\n",
    "df = pd.DataFrame(records, columns=[\"date\", \"title\", \"author\", \"pages\"])"
   ]
  },
  {
   "cell_type": "code",
   "execution_count": 16,
   "id": "1ad780a9",
   "metadata": {},
   "outputs": [],
   "source": [
    "#revise date to datetime object\n",
    "df[\"date\"]=pd.to_datetime(df[\"date\"])"
   ]
  },
  {
   "cell_type": "code",
   "execution_count": 17,
   "id": "4d6f45dc",
   "metadata": {},
   "outputs": [
    {
     "data": {
      "text/html": [
       "<div>\n",
       "<style scoped>\n",
       "    .dataframe tbody tr th:only-of-type {\n",
       "        vertical-align: middle;\n",
       "    }\n",
       "\n",
       "    .dataframe tbody tr th {\n",
       "        vertical-align: top;\n",
       "    }\n",
       "\n",
       "    .dataframe thead th {\n",
       "        text-align: right;\n",
       "    }\n",
       "</style>\n",
       "<table border=\"1\" class=\"dataframe\">\n",
       "  <thead>\n",
       "    <tr style=\"text-align: right;\">\n",
       "      <th></th>\n",
       "      <th>date</th>\n",
       "      <th>title</th>\n",
       "      <th>author</th>\n",
       "      <th>pages</th>\n",
       "    </tr>\n",
       "  </thead>\n",
       "  <tbody>\n",
       "    <tr>\n",
       "      <th>0</th>\n",
       "      <td>2022-05-08</td>\n",
       "      <td>You: Now a Major Netfl…</td>\n",
       "      <td>Caroline Kepnes</td>\n",
       "      <td>432</td>\n",
       "    </tr>\n",
       "    <tr>\n",
       "      <th>1</th>\n",
       "      <td>2022-05-08</td>\n",
       "      <td>屍人荘の殺人</td>\n",
       "      <td>今村 昌弘</td>\n",
       "      <td>336</td>\n",
       "    </tr>\n",
       "    <tr>\n",
       "      <th>2</th>\n",
       "      <td>2022-05-06</td>\n",
       "      <td>I Didn't Do The Thing …</td>\n",
       "      <td>Madeleine Dore</td>\n",
       "      <td>296</td>\n",
       "    </tr>\n",
       "    <tr>\n",
       "      <th>3</th>\n",
       "      <td>2022-04-30</td>\n",
       "      <td>The Subtle Art of Not …</td>\n",
       "      <td>Mark Manson</td>\n",
       "      <td>224</td>\n",
       "    </tr>\n",
       "    <tr>\n",
       "      <th>4</th>\n",
       "      <td>2022-04-29</td>\n",
       "      <td>Dress Code</td>\n",
       "      <td>Veronique Hyland</td>\n",
       "      <td>272</td>\n",
       "    </tr>\n",
       "  </tbody>\n",
       "</table>\n",
       "</div>"
      ],
      "text/plain": [
       "        date                    title            author pages\n",
       "0 2022-05-08  You: Now a Major Netfl…   Caroline Kepnes   432\n",
       "1 2022-05-08                   屍人荘の殺人             今村 昌弘   336\n",
       "2 2022-05-06  I Didn't Do The Thing …    Madeleine Dore   296\n",
       "3 2022-04-30  The Subtle Art of Not …       Mark Manson   224\n",
       "4 2022-04-29               Dress Code  Veronique Hyland   272"
      ]
     },
     "execution_count": 17,
     "metadata": {},
     "output_type": "execute_result"
    }
   ],
   "source": [
    "# review returned values\n",
    "df.head()"
   ]
  }
 ],
 "metadata": {
  "kernelspec": {
   "display_name": "Python 3 (ipykernel)",
   "language": "python",
   "name": "python3"
  },
  "language_info": {
   "codemirror_mode": {
    "name": "ipython",
    "version": 3
   },
   "file_extension": ".py",
   "mimetype": "text/x-python",
   "name": "python",
   "nbconvert_exporter": "python",
   "pygments_lexer": "ipython3",
   "version": "3.9.7"
  }
 },
 "nbformat": 4,
 "nbformat_minor": 5
}
