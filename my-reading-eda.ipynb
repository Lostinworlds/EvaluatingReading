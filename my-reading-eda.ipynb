{
 "cells": [
  {
   "cell_type": "code",
   "execution_count": 1,
   "id": "7cf2dc3e",
   "metadata": {
    "_cell_guid": "b1076dfc-b9ad-4769-8c92-a6c4dae69d19",
    "_uuid": "8f2839f25d086af736a60e9eeb907d3b93b6e0e5",
    "execution": {
     "iopub.execute_input": "2022-06-05T14:41:09.716211Z",
     "iopub.status.busy": "2022-06-05T14:41:09.715819Z",
     "iopub.status.idle": "2022-06-05T14:41:12.426899Z",
     "shell.execute_reply": "2022-06-05T14:41:12.426137Z"
    },
    "papermill": {
     "duration": 2.734654,
     "end_time": "2022-06-05T14:41:12.429060",
     "exception": false,
     "start_time": "2022-06-05T14:41:09.694406",
     "status": "completed"
    },
    "tags": []
   },
   "outputs": [
    {
     "name": "stdout",
     "output_type": "stream",
     "text": [
      "/kaggle/input/my-reading-log/reading log  rev 2.csv\n"
     ]
    }
   ],
   "source": [
    "# This Python 3 environment comes with many helpful analytics libraries installed\n",
    "# It is defined by the kaggle/python Docker image: https://github.com/kaggle/docker-python\n",
    "# For example, here's several helpful packages to load\n",
    "\n",
    "import numpy as np # linear algebra\n",
    "import pandas as pd # data processing, CSV file I/O (e.g. pd.read_csv)\n",
    "\n",
    "# Input data files are available in the read-only \"../input/\" directory\n",
    "# For example, running this (by clicking run or pressing Shift+Enter) will list all files under the input directory\n",
    "\n",
    "import os\n",
    "for dirname, _, filenames in os.walk('/kaggle/input'):\n",
    "    for filename in filenames:\n",
    "        print(os.path.join(dirname, filename))\n",
    "\n",
    "# You can write up to 20GB to the current directory (/kaggle/working/) that gets preserved as output when you create a version using \"Save & Run All\" \n",
    "# You can also write temporary files to /kaggle/temp/, but they won't be saved outside of the current session\n",
    "\n",
    "#libraries for data visualisation \n",
    "import matplotlib.pyplot as plt\n",
    "import seaborn as sns\n",
    "import plotly_express as px\n",
    "\n",
    "#set visualisation\n",
    "%matplotlib inline\n",
    "sns.set_style(\"whitegrid\")"
   ]
  },
  {
   "cell_type": "code",
   "execution_count": 2,
   "id": "5490965d",
   "metadata": {
    "execution": {
     "iopub.execute_input": "2022-06-05T14:41:12.454067Z",
     "iopub.status.busy": "2022-06-05T14:41:12.453324Z",
     "iopub.status.idle": "2022-06-05T14:41:12.474474Z",
     "shell.execute_reply": "2022-06-05T14:41:12.473135Z"
    },
    "papermill": {
     "duration": 0.035913,
     "end_time": "2022-06-05T14:41:12.476705",
     "exception": false,
     "start_time": "2022-06-05T14:41:12.440792",
     "status": "completed"
    },
    "tags": []
   },
   "outputs": [],
   "source": [
    "df = pd.read_csv(\"/kaggle/input/my-reading-log/reading log  rev 2.csv\")"
   ]
  },
  {
   "cell_type": "code",
   "execution_count": 3,
   "id": "61847e7d",
   "metadata": {
    "execution": {
     "iopub.execute_input": "2022-06-05T14:41:12.517110Z",
     "iopub.status.busy": "2022-06-05T14:41:12.516513Z",
     "iopub.status.idle": "2022-06-05T14:41:12.548098Z",
     "shell.execute_reply": "2022-06-05T14:41:12.547124Z"
    },
    "papermill": {
     "duration": 0.054248,
     "end_time": "2022-06-05T14:41:12.550142",
     "exception": false,
     "start_time": "2022-06-05T14:41:12.495894",
     "status": "completed"
    },
    "tags": []
   },
   "outputs": [
    {
     "data": {
      "text/html": [
       "<div>\n",
       "<style scoped>\n",
       "    .dataframe tbody tr th:only-of-type {\n",
       "        vertical-align: middle;\n",
       "    }\n",
       "\n",
       "    .dataframe tbody tr th {\n",
       "        vertical-align: top;\n",
       "    }\n",
       "\n",
       "    .dataframe thead th {\n",
       "        text-align: right;\n",
       "    }\n",
       "</style>\n",
       "<table border=\"1\" class=\"dataframe\">\n",
       "  <thead>\n",
       "    <tr style=\"text-align: right;\">\n",
       "      <th></th>\n",
       "      <th>completion date</th>\n",
       "      <th>Title</th>\n",
       "      <th>author(s)</th>\n",
       "      <th>pages</th>\n",
       "      <th>review</th>\n",
       "      <th>rating</th>\n",
       "      <th>status</th>\n",
       "      <th>format</th>\n",
       "      <th>platform</th>\n",
       "      <th>publisher</th>\n",
       "      <th>Imprint</th>\n",
       "      <th>publication date</th>\n",
       "      <th>type</th>\n",
       "      <th>genre</th>\n",
       "      <th>language</th>\n",
       "    </tr>\n",
       "  </thead>\n",
       "  <tbody>\n",
       "    <tr>\n",
       "      <th>0</th>\n",
       "      <td>04-06-21</td>\n",
       "      <td>The Bookish Life of Nina Hill</td>\n",
       "      <td>Abbi Waxman</td>\n",
       "      <td>352</td>\n",
       "      <td>y</td>\n",
       "      <td>5.0</td>\n",
       "      <td>Completed</td>\n",
       "      <td>Audiobook</td>\n",
       "      <td>Libby</td>\n",
       "      <td>Hachette Book</td>\n",
       "      <td>Headline Review</td>\n",
       "      <td>9-Jul-2019</td>\n",
       "      <td>Fiction</td>\n",
       "      <td>Realist Literature</td>\n",
       "      <td>eng</td>\n",
       "    </tr>\n",
       "    <tr>\n",
       "      <th>1</th>\n",
       "      <td>02-19-20</td>\n",
       "      <td>Twas The Nightshift Before Christmas</td>\n",
       "      <td>Adam Kay</td>\n",
       "      <td>160</td>\n",
       "      <td>y</td>\n",
       "      <td>4.0</td>\n",
       "      <td>Completed</td>\n",
       "      <td>Physical Book</td>\n",
       "      <td>NaN</td>\n",
       "      <td>Macmillan Publishers</td>\n",
       "      <td>Picador</td>\n",
       "      <td>13-Oct-2022</td>\n",
       "      <td>Nonfiction</td>\n",
       "      <td>Humour/ Satire</td>\n",
       "      <td>eng</td>\n",
       "    </tr>\n",
       "    <tr>\n",
       "      <th>2</th>\n",
       "      <td>09-19-18</td>\n",
       "      <td>This is Going to Hurt: Secret Diaries of a Jun...</td>\n",
       "      <td>Adam Kay</td>\n",
       "      <td>304</td>\n",
       "      <td>y</td>\n",
       "      <td>5.0</td>\n",
       "      <td>Completed</td>\n",
       "      <td>Physical Book</td>\n",
       "      <td>NaN</td>\n",
       "      <td>Macmillan Publishers</td>\n",
       "      <td>Picador</td>\n",
       "      <td>3-Feb-2022</td>\n",
       "      <td>Nonfiction</td>\n",
       "      <td>Humour/ Satire</td>\n",
       "      <td>eng</td>\n",
       "    </tr>\n",
       "    <tr>\n",
       "      <th>3</th>\n",
       "      <td>10-11-20</td>\n",
       "      <td>Poirot Investigates</td>\n",
       "      <td>Agatha Christie</td>\n",
       "      <td>224</td>\n",
       "      <td>y</td>\n",
       "      <td>1.5</td>\n",
       "      <td>Completed</td>\n",
       "      <td>Physical Book</td>\n",
       "      <td>NaN</td>\n",
       "      <td>HarperCollins</td>\n",
       "      <td>HarperCollins</td>\n",
       "      <td>24-Mar-2016</td>\n",
       "      <td>Fiction</td>\n",
       "      <td>Mystery</td>\n",
       "      <td>eng</td>\n",
       "    </tr>\n",
       "    <tr>\n",
       "      <th>4</th>\n",
       "      <td>10-10-20</td>\n",
       "      <td>Peril at End House</td>\n",
       "      <td>Agatha Christie</td>\n",
       "      <td>252</td>\n",
       "      <td>y</td>\n",
       "      <td>3.0</td>\n",
       "      <td>Completed</td>\n",
       "      <td>Physical Book</td>\n",
       "      <td>NaN</td>\n",
       "      <td>HarperCollins</td>\n",
       "      <td>HarperCollins</td>\n",
       "      <td>24-Sep-2015</td>\n",
       "      <td>Fiction</td>\n",
       "      <td>Mystery</td>\n",
       "      <td>eng</td>\n",
       "    </tr>\n",
       "  </tbody>\n",
       "</table>\n",
       "</div>"
      ],
      "text/plain": [
       "  completion date                                              Title  \\\n",
       "0        04-06-21                      The Bookish Life of Nina Hill   \n",
       "1        02-19-20               Twas The Nightshift Before Christmas   \n",
       "2        09-19-18  This is Going to Hurt: Secret Diaries of a Jun...   \n",
       "3        10-11-20                                Poirot Investigates   \n",
       "4        10-10-20                                 Peril at End House   \n",
       "\n",
       "         author(s)  pages review  rating     status         format platform  \\\n",
       "0      Abbi Waxman    352      y     5.0  Completed      Audiobook    Libby   \n",
       "1         Adam Kay    160      y     4.0  Completed  Physical Book      NaN   \n",
       "2         Adam Kay    304      y     5.0  Completed  Physical Book      NaN   \n",
       "3  Agatha Christie    224      y     1.5  Completed  Physical Book      NaN   \n",
       "4  Agatha Christie    252      y     3.0  Completed  Physical Book      NaN   \n",
       "\n",
       "              publisher          Imprint publication date        type  \\\n",
       "0         Hachette Book  Headline Review       9-Jul-2019     Fiction   \n",
       "1  Macmillan Publishers          Picador      13-Oct-2022  Nonfiction   \n",
       "2  Macmillan Publishers          Picador       3-Feb-2022  Nonfiction   \n",
       "3         HarperCollins    HarperCollins      24-Mar-2016     Fiction   \n",
       "4         HarperCollins    HarperCollins      24-Sep-2015     Fiction   \n",
       "\n",
       "                genre language  \n",
       "0  Realist Literature      eng  \n",
       "1      Humour/ Satire      eng  \n",
       "2      Humour/ Satire      eng  \n",
       "3             Mystery      eng  \n",
       "4             Mystery      eng  "
      ]
     },
     "execution_count": 3,
     "metadata": {},
     "output_type": "execute_result"
    }
   ],
   "source": [
    "df.head()"
   ]
  },
  {
   "cell_type": "code",
   "execution_count": 4,
   "id": "21a0ae43",
   "metadata": {
    "execution": {
     "iopub.execute_input": "2022-06-05T14:41:12.592741Z",
     "iopub.status.busy": "2022-06-05T14:41:12.592114Z",
     "iopub.status.idle": "2022-06-05T14:41:12.621697Z",
     "shell.execute_reply": "2022-06-05T14:41:12.619970Z"
    },
    "papermill": {
     "duration": 0.054277,
     "end_time": "2022-06-05T14:41:12.624619",
     "exception": false,
     "start_time": "2022-06-05T14:41:12.570342",
     "status": "completed"
    },
    "tags": []
   },
   "outputs": [
    {
     "name": "stdout",
     "output_type": "stream",
     "text": [
      "<class 'pandas.core.frame.DataFrame'>\n",
      "RangeIndex: 391 entries, 0 to 390\n",
      "Data columns (total 15 columns):\n",
      " #   Column            Non-Null Count  Dtype  \n",
      "---  ------            --------------  -----  \n",
      " 0   completion date   329 non-null    object \n",
      " 1   Title             391 non-null    object \n",
      " 2   author(s)         391 non-null    object \n",
      " 3   pages             391 non-null    int64  \n",
      " 4   review            384 non-null    object \n",
      " 5   rating            345 non-null    float64\n",
      " 6   status            391 non-null    object \n",
      " 7   format            391 non-null    object \n",
      " 8   platform          100 non-null    object \n",
      " 9   publisher         391 non-null    object \n",
      " 10  Imprint           391 non-null    object \n",
      " 11  publication date  391 non-null    object \n",
      " 12  type              391 non-null    object \n",
      " 13  genre             391 non-null    object \n",
      " 14  language          391 non-null    object \n",
      "dtypes: float64(1), int64(1), object(13)\n",
      "memory usage: 45.9+ KB\n"
     ]
    }
   ],
   "source": [
    "df.info()"
   ]
  },
  {
   "cell_type": "code",
   "execution_count": 5,
   "id": "82ac004b",
   "metadata": {
    "execution": {
     "iopub.execute_input": "2022-06-05T14:41:12.669290Z",
     "iopub.status.busy": "2022-06-05T14:41:12.667608Z",
     "iopub.status.idle": "2022-06-05T14:41:12.671912Z",
     "shell.execute_reply": "2022-06-05T14:41:12.671381Z"
    },
    "papermill": {
     "duration": 0.026965,
     "end_time": "2022-06-05T14:41:12.673792",
     "exception": false,
     "start_time": "2022-06-05T14:41:12.646827",
     "status": "completed"
    },
    "tags": []
   },
   "outputs": [],
   "source": [
    "#df.describe()"
   ]
  },
  {
   "cell_type": "code",
   "execution_count": 6,
   "id": "e43791dd",
   "metadata": {
    "execution": {
     "iopub.execute_input": "2022-06-05T14:41:12.715787Z",
     "iopub.status.busy": "2022-06-05T14:41:12.715088Z",
     "iopub.status.idle": "2022-06-05T14:41:12.791855Z",
     "shell.execute_reply": "2022-06-05T14:41:12.790796Z"
    },
    "papermill": {
     "duration": 0.100133,
     "end_time": "2022-06-05T14:41:12.794228",
     "exception": false,
     "start_time": "2022-06-05T14:41:12.694095",
     "status": "completed"
    },
    "tags": []
   },
   "outputs": [],
   "source": [
    "df['publication date'] = pd.to_datetime(df['publication date'])\n",
    "df['publication_year'] = df['publication date'].dt.year\n",
    "df['publication_month'] = df['publication date'].dt.month\n",
    "\n",
    "df['completion date'] = pd.to_datetime(df['completion date'])\n",
    "df['completion_year'] = df['completion date'].dt.year\n",
    "df['completion_month'] = df['completion date'].dt.month"
   ]
  },
  {
   "cell_type": "code",
   "execution_count": 7,
   "id": "8650eed5",
   "metadata": {
    "execution": {
     "iopub.execute_input": "2022-06-05T14:41:12.834779Z",
     "iopub.status.busy": "2022-06-05T14:41:12.834430Z",
     "iopub.status.idle": "2022-06-05T14:41:12.843351Z",
     "shell.execute_reply": "2022-06-05T14:41:12.842363Z"
    },
    "papermill": {
     "duration": 0.031655,
     "end_time": "2022-06-05T14:41:12.845284",
     "exception": false,
     "start_time": "2022-06-05T14:41:12.813629",
     "status": "completed"
    },
    "tags": []
   },
   "outputs": [
    {
     "data": {
      "text/plain": [
       "0          Abbi Waxman\n",
       "1             Adam Kay\n",
       "2             Adam Kay\n",
       "3      Agatha Christie\n",
       "4      Agatha Christie\n",
       "            ...       \n",
       "386              香月 日輪\n",
       "387              香月 日輪\n",
       "388             高山 由紀子\n",
       "389              鴨志田 一\n",
       "390               三上 延\n",
       "Name: author(s), Length: 391, dtype: object"
      ]
     },
     "execution_count": 7,
     "metadata": {},
     "output_type": "execute_result"
    }
   ],
   "source": [
    "df[\"author(s)\"]"
   ]
  },
  {
   "cell_type": "code",
   "execution_count": 8,
   "id": "0b3dc0c1",
   "metadata": {
    "execution": {
     "iopub.execute_input": "2022-06-05T14:41:12.887496Z",
     "iopub.status.busy": "2022-06-05T14:41:12.887079Z",
     "iopub.status.idle": "2022-06-05T14:41:12.896220Z",
     "shell.execute_reply": "2022-06-05T14:41:12.894702Z"
    },
    "papermill": {
     "duration": 0.033265,
     "end_time": "2022-06-05T14:41:12.898327",
     "exception": false,
     "start_time": "2022-06-05T14:41:12.865062",
     "status": "completed"
    },
    "tags": []
   },
   "outputs": [
    {
     "data": {
      "text/plain": [
       "0      yes\n",
       "1      yes\n",
       "2      yes\n",
       "3      yes\n",
       "4      yes\n",
       "      ... \n",
       "386    yes\n",
       "387    yes\n",
       "388    yes\n",
       "389    yes\n",
       "390     No\n",
       "Name: review, Length: 391, dtype: object"
      ]
     },
     "execution_count": 8,
     "metadata": {},
     "output_type": "execute_result"
    }
   ],
   "source": [
    "df[\"review\"].replace({\"y\": \"yes\", \"n\":\"No\"}, inplace = True)\n",
    "df[\"review\"]"
   ]
  },
  {
   "cell_type": "code",
   "execution_count": 9,
   "id": "8fed9148",
   "metadata": {
    "execution": {
     "iopub.execute_input": "2022-06-05T14:41:12.943515Z",
     "iopub.status.busy": "2022-06-05T14:41:12.942841Z",
     "iopub.status.idle": "2022-06-05T14:41:12.949576Z",
     "shell.execute_reply": "2022-06-05T14:41:12.948734Z"
    },
    "papermill": {
     "duration": 0.032318,
     "end_time": "2022-06-05T14:41:12.951564",
     "exception": false,
     "start_time": "2022-06-05T14:41:12.919246",
     "status": "completed"
    },
    "tags": []
   },
   "outputs": [
    {
     "data": {
      "text/plain": [
       "2"
      ]
     },
     "execution_count": 9,
     "metadata": {},
     "output_type": "execute_result"
    }
   ],
   "source": [
    "df[\"type\"].nunique()"
   ]
  },
  {
   "cell_type": "code",
   "execution_count": 10,
   "id": "121a2b9a",
   "metadata": {
    "execution": {
     "iopub.execute_input": "2022-06-05T14:41:12.994674Z",
     "iopub.status.busy": "2022-06-05T14:41:12.994144Z",
     "iopub.status.idle": "2022-06-05T14:41:13.001229Z",
     "shell.execute_reply": "2022-06-05T14:41:13.000278Z"
    },
    "papermill": {
     "duration": 0.031717,
     "end_time": "2022-06-05T14:41:13.004062",
     "exception": false,
     "start_time": "2022-06-05T14:41:12.972345",
     "status": "completed"
    },
    "tags": []
   },
   "outputs": [
    {
     "data": {
      "text/plain": [
       "36"
      ]
     },
     "execution_count": 10,
     "metadata": {},
     "output_type": "execute_result"
    }
   ],
   "source": [
    "df[\"genre\"].nunique()"
   ]
  },
  {
   "cell_type": "code",
   "execution_count": 11,
   "id": "4304a26a",
   "metadata": {
    "execution": {
     "iopub.execute_input": "2022-06-05T14:41:13.046731Z",
     "iopub.status.busy": "2022-06-05T14:41:13.046333Z",
     "iopub.status.idle": "2022-06-05T14:41:13.053869Z",
     "shell.execute_reply": "2022-06-05T14:41:13.052892Z"
    },
    "papermill": {
     "duration": 0.031139,
     "end_time": "2022-06-05T14:41:13.056145",
     "exception": false,
     "start_time": "2022-06-05T14:41:13.025006",
     "status": "completed"
    },
    "tags": []
   },
   "outputs": [
    {
     "data": {
      "text/plain": [
       "array(['Realist Literature', 'Humour/ Satire', 'Mystery', 'Romance',\n",
       "       'History', 'Bildungsroman', 'Fashion', 'Literary Fiction',\n",
       "       'science', 'Business', 'Fantasy', 'Self Help', 'Data',\n",
       "       'Contemporary', 'Psychology', 'Architectural History', 'Adventure',\n",
       "       'Dystopian', 'Economics', 'Magical realism', 'Thriller',\n",
       "       'Mathematics', 'Science Fiction', 'Law', 'Applied Physics',\n",
       "       'Physical Chemistry', 'Biographies', 'Essays, Journals & Letters',\n",
       "       'Horror', 'Humour Encyclopaedias', '仕事小説', 'Picture book', '経営書',\n",
       "       'science fiction', 'Self-Esteem', '経済小説'], dtype=object)"
      ]
     },
     "execution_count": 11,
     "metadata": {},
     "output_type": "execute_result"
    }
   ],
   "source": [
    "df[\"genre\"].unique()"
   ]
  },
  {
   "cell_type": "code",
   "execution_count": 12,
   "id": "7c81b7c4",
   "metadata": {
    "execution": {
     "iopub.execute_input": "2022-06-05T14:41:13.096712Z",
     "iopub.status.busy": "2022-06-05T14:41:13.095847Z",
     "iopub.status.idle": "2022-06-05T14:41:13.111179Z",
     "shell.execute_reply": "2022-06-05T14:41:13.110170Z"
    },
    "papermill": {
     "duration": 0.03798,
     "end_time": "2022-06-05T14:41:13.113630",
     "exception": false,
     "start_time": "2022-06-05T14:41:13.075650",
     "status": "completed"
    },
    "tags": []
   },
   "outputs": [
    {
     "name": "stdout",
     "output_type": "stream",
     "text": [
      "<class 'pandas.core.frame.DataFrame'>\n",
      "RangeIndex: 391 entries, 0 to 390\n",
      "Data columns (total 19 columns):\n",
      " #   Column             Non-Null Count  Dtype         \n",
      "---  ------             --------------  -----         \n",
      " 0   completion date    329 non-null    datetime64[ns]\n",
      " 1   Title              391 non-null    object        \n",
      " 2   author(s)          391 non-null    object        \n",
      " 3   pages              391 non-null    int64         \n",
      " 4   review             384 non-null    object        \n",
      " 5   rating             345 non-null    float64       \n",
      " 6   status             391 non-null    object        \n",
      " 7   format             391 non-null    object        \n",
      " 8   platform           100 non-null    object        \n",
      " 9   publisher          391 non-null    object        \n",
      " 10  Imprint            391 non-null    object        \n",
      " 11  publication date   391 non-null    datetime64[ns]\n",
      " 12  type               391 non-null    object        \n",
      " 13  genre              391 non-null    object        \n",
      " 14  language           391 non-null    object        \n",
      " 15  publication_year   391 non-null    int64         \n",
      " 16  publication_month  391 non-null    int64         \n",
      " 17  completion_year    329 non-null    float64       \n",
      " 18  completion_month   329 non-null    float64       \n",
      "dtypes: datetime64[ns](2), float64(3), int64(3), object(11)\n",
      "memory usage: 58.2+ KB\n"
     ]
    }
   ],
   "source": [
    "df.info()"
   ]
  },
  {
   "cell_type": "code",
   "execution_count": 13,
   "id": "c119f4a7",
   "metadata": {
    "execution": {
     "iopub.execute_input": "2022-06-05T14:41:13.155612Z",
     "iopub.status.busy": "2022-06-05T14:41:13.155223Z",
     "iopub.status.idle": "2022-06-05T14:41:13.162296Z",
     "shell.execute_reply": "2022-06-05T14:41:13.160795Z"
    },
    "papermill": {
     "duration": 0.030248,
     "end_time": "2022-06-05T14:41:13.164303",
     "exception": false,
     "start_time": "2022-06-05T14:41:13.134055",
     "status": "completed"
    },
    "tags": []
   },
   "outputs": [
    {
     "data": {
      "text/plain": [
       "array(['eng', 'jp'], dtype=object)"
      ]
     },
     "execution_count": 13,
     "metadata": {},
     "output_type": "execute_result"
    }
   ],
   "source": [
    "df[\"language\"].unique()"
   ]
  },
  {
   "cell_type": "code",
   "execution_count": 14,
   "id": "19a1c553",
   "metadata": {
    "execution": {
     "iopub.execute_input": "2022-06-05T14:41:13.206038Z",
     "iopub.status.busy": "2022-06-05T14:41:13.205537Z",
     "iopub.status.idle": "2022-06-05T14:41:13.212272Z",
     "shell.execute_reply": "2022-06-05T14:41:13.211690Z"
    },
    "papermill": {
     "duration": 0.029388,
     "end_time": "2022-06-05T14:41:13.214284",
     "exception": false,
     "start_time": "2022-06-05T14:41:13.184896",
     "status": "completed"
    },
    "tags": []
   },
   "outputs": [
    {
     "data": {
      "text/plain": [
       "0       English\n",
       "1       English\n",
       "2       English\n",
       "3       English\n",
       "4       English\n",
       "         ...   \n",
       "386    Japanese\n",
       "387    Japanese\n",
       "388    Japanese\n",
       "389    Japanese\n",
       "390    Japanese\n",
       "Name: language, Length: 391, dtype: object"
      ]
     },
     "execution_count": 14,
     "metadata": {},
     "output_type": "execute_result"
    }
   ],
   "source": [
    "df[\"language\"].replace({\"jp\": \"Japanese\", \"eng\":\"English\"}, inplace = True)\n",
    "df[\"language\"]"
   ]
  },
  {
   "cell_type": "markdown",
   "id": "cf198490",
   "metadata": {
    "papermill": {
     "duration": 0.019828,
     "end_time": "2022-06-05T14:41:13.254398",
     "exception": false,
     "start_time": "2022-06-05T14:41:13.234570",
     "status": "completed"
    },
    "tags": []
   },
   "source": [
    "# Status"
   ]
  },
  {
   "cell_type": "code",
   "execution_count": 15,
   "id": "5220cf54",
   "metadata": {
    "execution": {
     "iopub.execute_input": "2022-06-05T14:41:13.296241Z",
     "iopub.status.busy": "2022-06-05T14:41:13.295603Z",
     "iopub.status.idle": "2022-06-05T14:41:13.510340Z",
     "shell.execute_reply": "2022-06-05T14:41:13.509258Z"
    },
    "papermill": {
     "duration": 0.238332,
     "end_time": "2022-06-05T14:41:13.512622",
     "exception": false,
     "start_time": "2022-06-05T14:41:13.274290",
     "status": "completed"
    },
    "tags": []
   },
   "outputs": [
    {
     "data": {
      "text/plain": [
       "<AxesSubplot:xlabel='status', ylabel='count'>"
      ]
     },
     "execution_count": 15,
     "metadata": {},
     "output_type": "execute_result"
    },
    {
     "data": {
      "image/png": "[encoded data removed]",
      "text/plain": [
       "<Figure size 432x288 with 1 Axes>"
      ]
     },
     "metadata": {},
     "output_type": "display_data"
    }
   ],
   "source": [
    "sns.countplot(x = \"status\", data = df)"
   ]
  },
  {
   "cell_type": "code",
   "execution_count": 16,
   "id": "5ac6b443",
   "metadata": {
    "execution": {
     "iopub.execute_input": "2022-06-05T14:41:13.542050Z",
     "iopub.status.busy": "2022-06-05T14:41:13.541389Z",
     "iopub.status.idle": "2022-06-05T14:41:13.551209Z",
     "shell.execute_reply": "2022-06-05T14:41:13.550171Z"
    },
    "papermill": {
     "duration": 0.027879,
     "end_time": "2022-06-05T14:41:13.553499",
     "exception": false,
     "start_time": "2022-06-05T14:41:13.525620",
     "status": "completed"
    },
    "tags": []
   },
   "outputs": [],
   "source": [
    "DNF = df[df[\"status\"]==\"DNF\"]\n",
    "Completed = df[df[\"status\"]==\"Completed\"]"
   ]
  },
  {
   "cell_type": "code",
   "execution_count": 17,
   "id": "7207fdb7",
   "metadata": {
    "execution": {
     "iopub.execute_input": "2022-06-05T14:41:13.582164Z",
     "iopub.status.busy": "2022-06-05T14:41:13.580954Z",
     "iopub.status.idle": "2022-06-05T14:41:13.586916Z",
     "shell.execute_reply": "2022-06-05T14:41:13.586371Z"
    },
    "papermill": {
     "duration": 0.021945,
     "end_time": "2022-06-05T14:41:13.588677",
     "exception": false,
     "start_time": "2022-06-05T14:41:13.566732",
     "status": "completed"
    },
    "tags": []
   },
   "outputs": [
    {
     "data": {
      "text/plain": [
       "2375"
      ]
     },
     "execution_count": 17,
     "metadata": {},
     "output_type": "execute_result"
    }
   ],
   "source": [
    "sum(DNF[\"pages\"])"
   ]
  },
  {
   "cell_type": "code",
   "execution_count": 18,
   "id": "0138751a",
   "metadata": {
    "execution": {
     "iopub.execute_input": "2022-06-05T14:41:13.631787Z",
     "iopub.status.busy": "2022-06-05T14:41:13.631045Z",
     "iopub.status.idle": "2022-06-05T14:41:13.637767Z",
     "shell.execute_reply": "2022-06-05T14:41:13.636796Z"
    },
    "papermill": {
     "duration": 0.030683,
     "end_time": "2022-06-05T14:41:13.639937",
     "exception": false,
     "start_time": "2022-06-05T14:41:13.609254",
     "status": "completed"
    },
    "tags": []
   },
   "outputs": [
    {
     "data": {
      "text/plain": [
       "Audiobook        7\n",
       "Physical Book    1\n",
       "Name: format, dtype: int64"
      ]
     },
     "execution_count": 18,
     "metadata": {},
     "output_type": "execute_result"
    }
   ],
   "source": [
    "DNF[\"format\"].value_counts()"
   ]
  },
  {
   "cell_type": "code",
   "execution_count": 19,
   "id": "097b8924",
   "metadata": {
    "execution": {
     "iopub.execute_input": "2022-06-05T14:41:13.683372Z",
     "iopub.status.busy": "2022-06-05T14:41:13.683060Z",
     "iopub.status.idle": "2022-06-05T14:41:13.687369Z",
     "shell.execute_reply": "2022-06-05T14:41:13.686702Z"
    },
    "papermill": {
     "duration": 0.02867,
     "end_time": "2022-06-05T14:41:13.689879",
     "exception": false,
     "start_time": "2022-06-05T14:41:13.661209",
     "status": "completed"
    },
    "tags": []
   },
   "outputs": [
    {
     "name": "stdout",
     "output_type": "stream",
     "text": [
      "No duplicated authors\n"
     ]
    }
   ],
   "source": [
    "if DNF[\"author(s)\"].nunique() ==DNF.shape[0]:\n",
    "    print(\"No duplicated authors\")\n",
    "else:\n",
    "    print(\"there is an author you should avoid\")"
   ]
  },
  {
   "cell_type": "code",
   "execution_count": 20,
   "id": "cb8d7611",
   "metadata": {
    "execution": {
     "iopub.execute_input": "2022-06-05T14:41:13.733853Z",
     "iopub.status.busy": "2022-06-05T14:41:13.733185Z",
     "iopub.status.idle": "2022-06-05T14:41:13.739239Z",
     "shell.execute_reply": "2022-06-05T14:41:13.738740Z"
    },
    "papermill": {
     "duration": 0.030123,
     "end_time": "2022-06-05T14:41:13.740895",
     "exception": false,
     "start_time": "2022-06-05T14:41:13.710772",
     "status": "completed"
    },
    "tags": []
   },
   "outputs": [
    {
     "data": {
      "text/plain": [
       "BorrowBox    3\n",
       "Libby        2\n",
       "Audible      2\n",
       "Name: platform, dtype: int64"
      ]
     },
     "execution_count": 20,
     "metadata": {},
     "output_type": "execute_result"
    }
   ],
   "source": [
    "DNF[\"platform\"].value_counts()"
   ]
  },
  {
   "cell_type": "code",
   "execution_count": 21,
   "id": "141a11bb",
   "metadata": {
    "execution": {
     "iopub.execute_input": "2022-06-05T14:41:13.787797Z",
     "iopub.status.busy": "2022-06-05T14:41:13.786880Z",
     "iopub.status.idle": "2022-06-05T14:41:13.793693Z",
     "shell.execute_reply": "2022-06-05T14:41:13.792211Z"
    },
    "papermill": {
     "duration": 0.032338,
     "end_time": "2022-06-05T14:41:13.795865",
     "exception": false,
     "start_time": "2022-06-05T14:41:13.763527",
     "status": "completed"
    },
    "tags": []
   },
   "outputs": [
    {
     "data": {
      "text/plain": [
       "8"
      ]
     },
     "execution_count": 21,
     "metadata": {},
     "output_type": "execute_result"
    }
   ],
   "source": [
    "DNF[\"publisher\"].nunique()"
   ]
  },
  {
   "cell_type": "code",
   "execution_count": 22,
   "id": "bdec6962",
   "metadata": {
    "execution": {
     "iopub.execute_input": "2022-06-05T14:41:13.823490Z",
     "iopub.status.busy": "2022-06-05T14:41:13.823167Z",
     "iopub.status.idle": "2022-06-05T14:41:15.271931Z",
     "shell.execute_reply": "2022-06-05T14:41:15.270844Z"
    },
    "papermill": {
     "duration": 1.464993,
     "end_time": "2022-06-05T14:41:15.274035",
     "exception": false,
     "start_time": "2022-06-05T14:41:13.809042",
     "status": "completed"
    },
    "tags": []
   },
   "outputs": [
    {
     "data": {
      "text/html": [
       "        <script type=\"text/javascript\">\n",
       "        window.PlotlyConfig = {MathJaxConfig: 'local'};\n",
       "        if (window.MathJax && window.MathJax.Hub && window.MathJax.Hub.Config) {window.MathJax.Hub.Config({SVG: {font: \"STIX-Web\"}});}\n",
       "        if (typeof require !== 'undefined') {\n",
       "        require.undef(\"plotly\");\n",
       "        requirejs.config({\n",
       "            paths: {\n",
       "                'plotly': ['https://cdn.plot.ly/plotly-2.12.1.min']\n",
       "            }\n",
       "        });\n",
       "        require(['plotly'], function(Plotly) {\n",
       "            window._Plotly = Plotly;\n",
       "        });\n",
       "        }\n",
       "        </script>\n",
       "        "
      ]
     },
     "metadata": {},
     "output_type": "display_data"
    },
    {
     "data": {
      "text/html": [
       "<div>                            <div id=\"baec7acc-5c45-4670-b33f-1dc777b854fc\" class=\"plotly-graph-div\" style=\"height:525px; width:100%;\"></div>            <script type=\"text/javascript\">                require([\"plotly\"], function(Plotly) {                    window.PLOTLYENV=window.PLOTLYENV || {};                                    if (document.getElementById(\"baec7acc-5c45-4670-b33f-1dc777b854fc\")) {                    Plotly.newPlot(                        \"baec7acc-5c45-4670-b33f-1dc777b854fc\",                        [{\"alignmentgroup\":\"True\",\"bingroup\":\"x\",\"hovertemplate\":\"publication_year=%{x}<br>count=%{y}<extra></extra>\",\"legendgroup\":\"\",\"marker\":{\"color\":\"#636efa\",\"pattern\":{\"shape\":\"\"}},\"name\":\"\",\"nbinsx\":5,\"offsetgroup\":\"\",\"orientation\":\"v\",\"showlegend\":false,\"x\":[2019,2022,2013,2017,2021,2017,2013,2007],\"xaxis\":\"x\",\"yaxis\":\"y\",\"type\":\"histogram\"}],                        {\"template\":{\"data\":{\"histogram2dcontour\":[{\"type\":\"histogram2dcontour\",\"colorbar\":{\"outlinewidth\":0,\"ticks\":\"\"},\"colorscale\":[[0.0,\"#0d0887\"],[0.1111111111111111,\"#46039f\"],[0.2222222222222222,\"#7201a8\"],[0.3333333333333333,\"#9c179e\"],[0.4444444444444444,\"#bd3786\"],[0.5555555555555556,\"#d8576b\"],[0.6666666666666666,\"#ed7953\"],[0.7777777777777778,\"#fb9f3a\"],[0.8888888888888888,\"#fdca26\"],[1.0,\"#f0f921\"]]}],\"choropleth\":[{\"type\":\"choropleth\",\"colorbar\":{\"outlinewidth\":0,\"ticks\":\"\"}}],\"histogram2d\":[{\"type\":\"histogram2d\",\"colorbar\":{\"outlinewidth\":0,\"ticks\":\"\"},\"colorscale\":[[0.0,\"#0d0887\"],[0.1111111111111111,\"#46039f\"],[0.2222222222222222,\"#7201a8\"],[0.3333333333333333,\"#9c179e\"],[0.4444444444444444,\"#bd3786\"],[0.5555555555555556,\"#d8576b\"],[0.6666666666666666,\"#ed7953\"],[0.7777777777777778,\"#fb9f3a\"],[0.8888888888888888,\"#fdca26\"],[1.0,\"#f0f921\"]]}],\"heatmap\":[{\"type\":\"heatmap\",\"colorbar\":{\"outlinewidth\":0,\"ticks\":\"\"},\"colorscale\":[[0.0,\"#0d0887\"],[0.1111111111111111,\"#46039f\"],[0.2222222222222222,\"#7201a8\"],[0.3333333333333333,\"#9c179e\"],[0.4444444444444444,\"#bd3786\"],[0.5555555555555556,\"#d8576b\"],[0.6666666666666666,\"#ed7953\"],[0.7777777777777778,\"#fb9f3a\"],[0.8888888888888888,\"#fdca26\"],[1.0,\"#f0f921\"]]}],\"heatmapgl\":[{\"type\":\"heatmapgl\",\"colorbar\":{\"outlinewidth\":0,\"ticks\":\"\"},\"colorscale\":[[0.0,\"#0d0887\"],[0.1111111111111111,\"#46039f\"],[0.2222222222222222,\"#7201a8\"],[0.3333333333333333,\"#9c179e\"],[0.4444444444444444,\"#bd3786\"],[0.5555555555555556,\"#d8576b\"],[0.6666666666666666,\"#ed7953\"],[0.7777777777777778,\"#fb9f3a\"],[0.8888888888888888,\"#fdca26\"],[1.0,\"#f0f921\"]]}],\"contourcarpet\":[{\"type\":\"contourcarpet\",\"colorbar\":{\"outlinewidth\":0,\"ticks\":\"\"}}],\"contour\":[{\"type\":\"contour\",\"colorbar\":{\"outlinewidth\":0,\"ticks\":\"\"},\"colorscale\":[[0.0,\"#0d0887\"],[0.1111111111111111,\"#46039f\"],[0.2222222222222222,\"#7201a8\"],[0.3333333333333333,\"#9c179e\"],[0.4444444444444444,\"#bd3786\"],[0.5555555555555556,\"#d8576b\"],[0.6666666666666666,\"#ed7953\"],[0.7777777777777778,\"#fb9f3a\"],[0.8888888888888888,\"#fdca26\"],[1.0,\"#f0f921\"]]}],\"surface\":[{\"type\":\"surface\",\"colorbar\":{\"outlinewidth\":0,\"ticks\":\"\"},\"colorscale\":[[0.0,\"#0d0887\"],[0.1111111111111111,\"#46039f\"],[0.2222222222222222,\"#7201a8\"],[0.3333333333333333,\"#9c179e\"],[0.4444444444444444,\"#bd3786\"],[0.5555555555555556,\"#d8576b\"],[0.6666666666666666,\"#ed7953\"],[0.7777777777777778,\"#fb9f3a\"],[0.8888888888888888,\"#fdca26\"],[1.0,\"#f0f921\"]]}],\"mesh3d\":[{\"type\":\"mesh3d\",\"colorbar\":{\"outlinewidth\":0,\"ticks\":\"\"}}],\"scatter\":[{\"fillpattern\":{\"fillmode\":\"overlay\",\"size\":10,\"solidity\":0.2},\"type\":\"scatter\"}],\"parcoords\":[{\"type\":\"parcoords\",\"line\":{\"colorbar\":{\"outlinewidth\":0,\"ticks\":\"\"}}}],\"scatterpolargl\":[{\"type\":\"scatterpolargl\",\"marker\":{\"colorbar\":{\"outlinewidth\":0,\"ticks\":\"\"}}}],\"bar\":[{\"error_x\":{\"color\":\"#2a3f5f\"},\"error_y\":{\"color\":\"#2a3f5f\"},\"marker\":{\"line\":{\"color\":\"#E5ECF6\",\"width\":0.5},\"pattern\":{\"fillmode\":\"overlay\",\"size\":10,\"solidity\":0.2}},\"type\":\"bar\"}],\"scattergeo\":[{\"type\":\"scattergeo\",\"marker\":{\"colorbar\":{\"outlinewidth\":0,\"ticks\":\"\"}}}],\"scatterpolar\":[{\"type\":\"scatterpolar\",\"marker\":{\"colorbar\":{\"outlinewidth\":0,\"ticks\":\"\"}}}],\"histogram\":[{\"marker\":{\"pattern\":{\"fillmode\":\"overlay\",\"size\":10,\"solidity\":0.2}},\"type\":\"histogram\"}],\"scattergl\":[{\"type\":\"scattergl\",\"marker\":{\"colorbar\":{\"outlinewidth\":0,\"ticks\":\"\"}}}],\"scatter3d\":[{\"type\":\"scatter3d\",\"line\":{\"colorbar\":{\"outlinewidth\":0,\"ticks\":\"\"}},\"marker\":{\"colorbar\":{\"outlinewidth\":0,\"ticks\":\"\"}}}],\"scattermapbox\":[{\"type\":\"scattermapbox\",\"marker\":{\"colorbar\":{\"outlinewidth\":0,\"ticks\":\"\"}}}],\"scatterternary\":[{\"type\":\"scatterternary\",\"marker\":{\"colorbar\":{\"outlinewidth\":0,\"ticks\":\"\"}}}],\"scattercarpet\":[{\"type\":\"scattercarpet\",\"marker\":{\"colorbar\":{\"outlinewidth\":0,\"ticks\":\"\"}}}],\"carpet\":[{\"aaxis\":{\"endlinecolor\":\"#2a3f5f\",\"gridcolor\":\"white\",\"linecolor\":\"white\",\"minorgridcolor\":\"white\",\"startlinecolor\":\"#2a3f5f\"},\"baxis\":{\"endlinecolor\":\"#2a3f5f\",\"gridcolor\":\"white\",\"linecolor\":\"white\",\"minorgridcolor\":\"white\",\"startlinecolor\":\"#2a3f5f\"},\"type\":\"carpet\"}],\"table\":[{\"cells\":{\"fill\":{\"color\":\"#EBF0F8\"},\"line\":{\"color\":\"white\"}},\"header\":{\"fill\":{\"color\":\"#C8D4E3\"},\"line\":{\"color\":\"white\"}},\"type\":\"table\"}],\"barpolar\":[{\"marker\":{\"line\":{\"color\":\"#E5ECF6\",\"width\":0.5},\"pattern\":{\"fillmode\":\"overlay\",\"size\":10,\"solidity\":0.2}},\"type\":\"barpolar\"}],\"pie\":[{\"automargin\":true,\"type\":\"pie\"}]},\"layout\":{\"autotypenumbers\":\"strict\",\"colorway\":[\"#636efa\",\"#EF553B\",\"#00cc96\",\"#ab63fa\",\"#FFA15A\",\"#19d3f3\",\"#FF6692\",\"#B6E880\",\"#FF97FF\",\"#FECB52\"],\"font\":{\"color\":\"#2a3f5f\"},\"hovermode\":\"closest\",\"hoverlabel\":{\"align\":\"left\"},\"paper_bgcolor\":\"white\",\"plot_bgcolor\":\"#E5ECF6\",\"polar\":{\"bgcolor\":\"#E5ECF6\",\"angularaxis\":{\"gridcolor\":\"white\",\"linecolor\":\"white\",\"ticks\":\"\"},\"radialaxis\":{\"gridcolor\":\"white\",\"linecolor\":\"white\",\"ticks\":\"\"}},\"ternary\":{\"bgcolor\":\"#E5ECF6\",\"aaxis\":{\"gridcolor\":\"white\",\"linecolor\":\"white\",\"ticks\":\"\"},\"baxis\":{\"gridcolor\":\"white\",\"linecolor\":\"white\",\"ticks\":\"\"},\"caxis\":{\"gridcolor\":\"white\",\"linecolor\":\"white\",\"ticks\":\"\"}},\"coloraxis\":{\"colorbar\":{\"outlinewidth\":0,\"ticks\":\"\"}},\"colorscale\":{\"sequential\":[[0.0,\"#0d0887\"],[0.1111111111111111,\"#46039f\"],[0.2222222222222222,\"#7201a8\"],[0.3333333333333333,\"#9c179e\"],[0.4444444444444444,\"#bd3786\"],[0.5555555555555556,\"#d8576b\"],[0.6666666666666666,\"#ed7953\"],[0.7777777777777778,\"#fb9f3a\"],[0.8888888888888888,\"#fdca26\"],[1.0,\"#f0f921\"]],\"sequentialminus\":[[0.0,\"#0d0887\"],[0.1111111111111111,\"#46039f\"],[0.2222222222222222,\"#7201a8\"],[0.3333333333333333,\"#9c179e\"],[0.4444444444444444,\"#bd3786\"],[0.5555555555555556,\"#d8576b\"],[0.6666666666666666,\"#ed7953\"],[0.7777777777777778,\"#fb9f3a\"],[0.8888888888888888,\"#fdca26\"],[1.0,\"#f0f921\"]],\"diverging\":[[0,\"#8e0152\"],[0.1,\"#c51b7d\"],[0.2,\"#de77ae\"],[0.3,\"#f1b6da\"],[0.4,\"#fde0ef\"],[0.5,\"#f7f7f7\"],[0.6,\"#e6f5d0\"],[0.7,\"#b8e186\"],[0.8,\"#7fbc41\"],[0.9,\"#4d9221\"],[1,\"#276419\"]]},\"xaxis\":{\"gridcolor\":\"white\",\"linecolor\":\"white\",\"ticks\":\"\",\"title\":{\"standoff\":15},\"zerolinecolor\":\"white\",\"automargin\":true,\"zerolinewidth\":2},\"yaxis\":{\"gridcolor\":\"white\",\"linecolor\":\"white\",\"ticks\":\"\",\"title\":{\"standoff\":15},\"zerolinecolor\":\"white\",\"automargin\":true,\"zerolinewidth\":2},\"scene\":{\"xaxis\":{\"backgroundcolor\":\"#E5ECF6\",\"gridcolor\":\"white\",\"linecolor\":\"white\",\"showbackground\":true,\"ticks\":\"\",\"zerolinecolor\":\"white\",\"gridwidth\":2},\"yaxis\":{\"backgroundcolor\":\"#E5ECF6\",\"gridcolor\":\"white\",\"linecolor\":\"white\",\"showbackground\":true,\"ticks\":\"\",\"zerolinecolor\":\"white\",\"gridwidth\":2},\"zaxis\":{\"backgroundcolor\":\"#E5ECF6\",\"gridcolor\":\"white\",\"linecolor\":\"white\",\"showbackground\":true,\"ticks\":\"\",\"zerolinecolor\":\"white\",\"gridwidth\":2}},\"shapedefaults\":{\"line\":{\"color\":\"#2a3f5f\"}},\"annotationdefaults\":{\"arrowcolor\":\"#2a3f5f\",\"arrowhead\":0,\"arrowwidth\":1},\"geo\":{\"bgcolor\":\"white\",\"landcolor\":\"#E5ECF6\",\"subunitcolor\":\"white\",\"showland\":true,\"showlakes\":true,\"lakecolor\":\"white\"},\"title\":{\"x\":0.05},\"mapbox\":{\"style\":\"light\"}}},\"xaxis\":{\"anchor\":\"y\",\"domain\":[0.0,1.0],\"title\":{\"text\":\"publication_year\"}},\"yaxis\":{\"anchor\":\"x\",\"domain\":[0.0,1.0],\"title\":{\"text\":\"count\"}},\"legend\":{\"tracegroupgap\":0},\"margin\":{\"t\":60},\"barmode\":\"relative\"},                        {\"responsive\": true}                    ).then(function(){\n",
       "                            \n",
       "var gd = document.getElementById('baec7acc-5c45-4670-b33f-1dc777b854fc');\n",
       "var x = new MutationObserver(function (mutations, observer) {{\n",
       "        var display = window.getComputedStyle(gd).display;\n",
       "        if (!display || display === 'none') {{\n",
       "            console.log([gd, 'removed!']);\n",
       "            Plotly.purge(gd);\n",
       "            observer.disconnect();\n",
       "        }}\n",
       "}});\n",
       "\n",
       "// Listen for the removal of the full notebook cells\n",
       "var notebookContainer = gd.closest('#notebook-container');\n",
       "if (notebookContainer) {{\n",
       "    x.observe(notebookContainer, {childList: true});\n",
       "}}\n",
       "\n",
       "// Listen for the clearing of the current output cell\n",
       "var outputEl = gd.closest('.output');\n",
       "if (outputEl) {{\n",
       "    x.observe(outputEl, {childList: true});\n",
       "}}\n",
       "\n",
       "                        })                };                });            </script>        </div>"
      ]
     },
     "metadata": {},
     "output_type": "display_data"
    }
   ],
   "source": [
    "px.histogram(DNF, x = \"publication_year\", nbins=5)"
   ]
  },
  {
   "cell_type": "code",
   "execution_count": 23,
   "id": "76c4d528",
   "metadata": {
    "execution": {
     "iopub.execute_input": "2022-06-05T14:41:15.303545Z",
     "iopub.status.busy": "2022-06-05T14:41:15.303218Z",
     "iopub.status.idle": "2022-06-05T14:41:15.352192Z",
     "shell.execute_reply": "2022-06-05T14:41:15.351268Z"
    },
    "papermill": {
     "duration": 0.066183,
     "end_time": "2022-06-05T14:41:15.354325",
     "exception": false,
     "start_time": "2022-06-05T14:41:15.288142",
     "status": "completed"
    },
    "tags": []
   },
   "outputs": [
    {
     "data": {
      "text/html": [
       "<div>                            <div id=\"e3eb3d25-58fc-4d55-a68e-2f0304a2278e\" class=\"plotly-graph-div\" style=\"height:525px; width:100%;\"></div>            <script type=\"text/javascript\">                require([\"plotly\"], function(Plotly) {                    window.PLOTLYENV=window.PLOTLYENV || {};                                    if (document.getElementById(\"e3eb3d25-58fc-4d55-a68e-2f0304a2278e\")) {                    Plotly.newPlot(                        \"e3eb3d25-58fc-4d55-a68e-2f0304a2278e\",                        [{\"alignmentgroup\":\"True\",\"bingroup\":\"x\",\"hovertemplate\":\"publication_month=%{x}<br>count=%{y}<extra></extra>\",\"legendgroup\":\"\",\"marker\":{\"color\":\"#636efa\",\"pattern\":{\"shape\":\"\"}},\"name\":\"\",\"nbinsx\":5,\"offsetgroup\":\"\",\"orientation\":\"v\",\"showlegend\":false,\"x\":[1,5,5,9,10,10,12,8],\"xaxis\":\"x\",\"yaxis\":\"y\",\"type\":\"histogram\"}],                        {\"template\":{\"data\":{\"histogram2dcontour\":[{\"type\":\"histogram2dcontour\",\"colorbar\":{\"outlinewidth\":0,\"ticks\":\"\"},\"colorscale\":[[0.0,\"#0d0887\"],[0.1111111111111111,\"#46039f\"],[0.2222222222222222,\"#7201a8\"],[0.3333333333333333,\"#9c179e\"],[0.4444444444444444,\"#bd3786\"],[0.5555555555555556,\"#d8576b\"],[0.6666666666666666,\"#ed7953\"],[0.7777777777777778,\"#fb9f3a\"],[0.8888888888888888,\"#fdca26\"],[1.0,\"#f0f921\"]]}],\"choropleth\":[{\"type\":\"choropleth\",\"colorbar\":{\"outlinewidth\":0,\"ticks\":\"\"}}],\"histogram2d\":[{\"type\":\"histogram2d\",\"colorbar\":{\"outlinewidth\":0,\"ticks\":\"\"},\"colorscale\":[[0.0,\"#0d0887\"],[0.1111111111111111,\"#46039f\"],[0.2222222222222222,\"#7201a8\"],[0.3333333333333333,\"#9c179e\"],[0.4444444444444444,\"#bd3786\"],[0.5555555555555556,\"#d8576b\"],[0.6666666666666666,\"#ed7953\"],[0.7777777777777778,\"#fb9f3a\"],[0.8888888888888888,\"#fdca26\"],[1.0,\"#f0f921\"]]}],\"heatmap\":[{\"type\":\"heatmap\",\"colorbar\":{\"outlinewidth\":0,\"ticks\":\"\"},\"colorscale\":[[0.0,\"#0d0887\"],[0.1111111111111111,\"#46039f\"],[0.2222222222222222,\"#7201a8\"],[0.3333333333333333,\"#9c179e\"],[0.4444444444444444,\"#bd3786\"],[0.5555555555555556,\"#d8576b\"],[0.6666666666666666,\"#ed7953\"],[0.7777777777777778,\"#fb9f3a\"],[0.8888888888888888,\"#fdca26\"],[1.0,\"#f0f921\"]]}],\"heatmapgl\":[{\"type\":\"heatmapgl\",\"colorbar\":{\"outlinewidth\":0,\"ticks\":\"\"},\"colorscale\":[[0.0,\"#0d0887\"],[0.1111111111111111,\"#46039f\"],[0.2222222222222222,\"#7201a8\"],[0.3333333333333333,\"#9c179e\"],[0.4444444444444444,\"#bd3786\"],[0.5555555555555556,\"#d8576b\"],[0.6666666666666666,\"#ed7953\"],[0.7777777777777778,\"#fb9f3a\"],[0.8888888888888888,\"#fdca26\"],[1.0,\"#f0f921\"]]}],\"contourcarpet\":[{\"type\":\"contourcarpet\",\"colorbar\":{\"outlinewidth\":0,\"ticks\":\"\"}}],\"contour\":[{\"type\":\"contour\",\"colorbar\":{\"outlinewidth\":0,\"ticks\":\"\"},\"colorscale\":[[0.0,\"#0d0887\"],[0.1111111111111111,\"#46039f\"],[0.2222222222222222,\"#7201a8\"],[0.3333333333333333,\"#9c179e\"],[0.4444444444444444,\"#bd3786\"],[0.5555555555555556,\"#d8576b\"],[0.6666666666666666,\"#ed7953\"],[0.7777777777777778,\"#fb9f3a\"],[0.8888888888888888,\"#fdca26\"],[1.0,\"#f0f921\"]]}],\"surface\":[{\"type\":\"surface\",\"colorbar\":{\"outlinewidth\":0,\"ticks\":\"\"},\"colorscale\":[[0.0,\"#0d0887\"],[0.1111111111111111,\"#46039f\"],[0.2222222222222222,\"#7201a8\"],[0.3333333333333333,\"#9c179e\"],[0.4444444444444444,\"#bd3786\"],[0.5555555555555556,\"#d8576b\"],[0.6666666666666666,\"#ed7953\"],[0.7777777777777778,\"#fb9f3a\"],[0.8888888888888888,\"#fdca26\"],[1.0,\"#f0f921\"]]}],\"mesh3d\":[{\"type\":\"mesh3d\",\"colorbar\":{\"outlinewidth\":0,\"ticks\":\"\"}}],\"scatter\":[{\"fillpattern\":{\"fillmode\":\"overlay\",\"size\":10,\"solidity\":0.2},\"type\":\"scatter\"}],\"parcoords\":[{\"type\":\"parcoords\",\"line\":{\"colorbar\":{\"outlinewidth\":0,\"ticks\":\"\"}}}],\"scatterpolargl\":[{\"type\":\"scatterpolargl\",\"marker\":{\"colorbar\":{\"outlinewidth\":0,\"ticks\":\"\"}}}],\"bar\":[{\"error_x\":{\"color\":\"#2a3f5f\"},\"error_y\":{\"color\":\"#2a3f5f\"},\"marker\":{\"line\":{\"color\":\"#E5ECF6\",\"width\":0.5},\"pattern\":{\"fillmode\":\"overlay\",\"size\":10,\"solidity\":0.2}},\"type\":\"bar\"}],\"scattergeo\":[{\"type\":\"scattergeo\",\"marker\":{\"colorbar\":{\"outlinewidth\":0,\"ticks\":\"\"}}}],\"scatterpolar\":[{\"type\":\"scatterpolar\",\"marker\":{\"colorbar\":{\"outlinewidth\":0,\"ticks\":\"\"}}}],\"histogram\":[{\"marker\":{\"pattern\":{\"fillmode\":\"overlay\",\"size\":10,\"solidity\":0.2}},\"type\":\"histogram\"}],\"scattergl\":[{\"type\":\"scattergl\",\"marker\":{\"colorbar\":{\"outlinewidth\":0,\"ticks\":\"\"}}}],\"scatter3d\":[{\"type\":\"scatter3d\",\"line\":{\"colorbar\":{\"outlinewidth\":0,\"ticks\":\"\"}},\"marker\":{\"colorbar\":{\"outlinewidth\":0,\"ticks\":\"\"}}}],\"scattermapbox\":[{\"type\":\"scattermapbox\",\"marker\":{\"colorbar\":{\"outlinewidth\":0,\"ticks\":\"\"}}}],\"scatterternary\":[{\"type\":\"scatterternary\",\"marker\":{\"colorbar\":{\"outlinewidth\":0,\"ticks\":\"\"}}}],\"scattercarpet\":[{\"type\":\"scattercarpet\",\"marker\":{\"colorbar\":{\"outlinewidth\":0,\"ticks\":\"\"}}}],\"carpet\":[{\"aaxis\":{\"endlinecolor\":\"#2a3f5f\",\"gridcolor\":\"white\",\"linecolor\":\"white\",\"minorgridcolor\":\"white\",\"startlinecolor\":\"#2a3f5f\"},\"baxis\":{\"endlinecolor\":\"#2a3f5f\",\"gridcolor\":\"white\",\"linecolor\":\"white\",\"minorgridcolor\":\"white\",\"startlinecolor\":\"#2a3f5f\"},\"type\":\"carpet\"}],\"table\":[{\"cells\":{\"fill\":{\"color\":\"#EBF0F8\"},\"line\":{\"color\":\"white\"}},\"header\":{\"fill\":{\"color\":\"#C8D4E3\"},\"line\":{\"color\":\"white\"}},\"type\":\"table\"}],\"barpolar\":[{\"marker\":{\"line\":{\"color\":\"#E5ECF6\",\"width\":0.5},\"pattern\":{\"fillmode\":\"overlay\",\"size\":10,\"solidity\":0.2}},\"type\":\"barpolar\"}],\"pie\":[{\"automargin\":true,\"type\":\"pie\"}]},\"layout\":{\"autotypenumbers\":\"strict\",\"colorway\":[\"#636efa\",\"#EF553B\",\"#00cc96\",\"#ab63fa\",\"#FFA15A\",\"#19d3f3\",\"#FF6692\",\"#B6E880\",\"#FF97FF\",\"#FECB52\"],\"font\":{\"color\":\"#2a3f5f\"},\"hovermode\":\"closest\",\"hoverlabel\":{\"align\":\"left\"},\"paper_bgcolor\":\"white\",\"plot_bgcolor\":\"#E5ECF6\",\"polar\":{\"bgcolor\":\"#E5ECF6\",\"angularaxis\":{\"gridcolor\":\"white\",\"linecolor\":\"white\",\"ticks\":\"\"},\"radialaxis\":{\"gridcolor\":\"white\",\"linecolor\":\"white\",\"ticks\":\"\"}},\"ternary\":{\"bgcolor\":\"#E5ECF6\",\"aaxis\":{\"gridcolor\":\"white\",\"linecolor\":\"white\",\"ticks\":\"\"},\"baxis\":{\"gridcolor\":\"white\",\"linecolor\":\"white\",\"ticks\":\"\"},\"caxis\":{\"gridcolor\":\"white\",\"linecolor\":\"white\",\"ticks\":\"\"}},\"coloraxis\":{\"colorbar\":{\"outlinewidth\":0,\"ticks\":\"\"}},\"colorscale\":{\"sequential\":[[0.0,\"#0d0887\"],[0.1111111111111111,\"#46039f\"],[0.2222222222222222,\"#7201a8\"],[0.3333333333333333,\"#9c179e\"],[0.4444444444444444,\"#bd3786\"],[0.5555555555555556,\"#d8576b\"],[0.6666666666666666,\"#ed7953\"],[0.7777777777777778,\"#fb9f3a\"],[0.8888888888888888,\"#fdca26\"],[1.0,\"#f0f921\"]],\"sequentialminus\":[[0.0,\"#0d0887\"],[0.1111111111111111,\"#46039f\"],[0.2222222222222222,\"#7201a8\"],[0.3333333333333333,\"#9c179e\"],[0.4444444444444444,\"#bd3786\"],[0.5555555555555556,\"#d8576b\"],[0.6666666666666666,\"#ed7953\"],[0.7777777777777778,\"#fb9f3a\"],[0.8888888888888888,\"#fdca26\"],[1.0,\"#f0f921\"]],\"diverging\":[[0,\"#8e0152\"],[0.1,\"#c51b7d\"],[0.2,\"#de77ae\"],[0.3,\"#f1b6da\"],[0.4,\"#fde0ef\"],[0.5,\"#f7f7f7\"],[0.6,\"#e6f5d0\"],[0.7,\"#b8e186\"],[0.8,\"#7fbc41\"],[0.9,\"#4d9221\"],[1,\"#276419\"]]},\"xaxis\":{\"gridcolor\":\"white\",\"linecolor\":\"white\",\"ticks\":\"\",\"title\":{\"standoff\":15},\"zerolinecolor\":\"white\",\"automargin\":true,\"zerolinewidth\":2},\"yaxis\":{\"gridcolor\":\"white\",\"linecolor\":\"white\",\"ticks\":\"\",\"title\":{\"standoff\":15},\"zerolinecolor\":\"white\",\"automargin\":true,\"zerolinewidth\":2},\"scene\":{\"xaxis\":{\"backgroundcolor\":\"#E5ECF6\",\"gridcolor\":\"white\",\"linecolor\":\"white\",\"showbackground\":true,\"ticks\":\"\",\"zerolinecolor\":\"white\",\"gridwidth\":2},\"yaxis\":{\"backgroundcolor\":\"#E5ECF6\",\"gridcolor\":\"white\",\"linecolor\":\"white\",\"showbackground\":true,\"ticks\":\"\",\"zerolinecolor\":\"white\",\"gridwidth\":2},\"zaxis\":{\"backgroundcolor\":\"#E5ECF6\",\"gridcolor\":\"white\",\"linecolor\":\"white\",\"showbackground\":true,\"ticks\":\"\",\"zerolinecolor\":\"white\",\"gridwidth\":2}},\"shapedefaults\":{\"line\":{\"color\":\"#2a3f5f\"}},\"annotationdefaults\":{\"arrowcolor\":\"#2a3f5f\",\"arrowhead\":0,\"arrowwidth\":1},\"geo\":{\"bgcolor\":\"white\",\"landcolor\":\"#E5ECF6\",\"subunitcolor\":\"white\",\"showland\":true,\"showlakes\":true,\"lakecolor\":\"white\"},\"title\":{\"x\":0.05},\"mapbox\":{\"style\":\"light\"}}},\"xaxis\":{\"anchor\":\"y\",\"domain\":[0.0,1.0],\"title\":{\"text\":\"publication_month\"}},\"yaxis\":{\"anchor\":\"x\",\"domain\":[0.0,1.0],\"title\":{\"text\":\"count\"}},\"legend\":{\"tracegroupgap\":0},\"margin\":{\"t\":60},\"barmode\":\"relative\"},                        {\"responsive\": true}                    ).then(function(){\n",
       "                            \n",
       "var gd = document.getElementById('e3eb3d25-58fc-4d55-a68e-2f0304a2278e');\n",
       "var x = new MutationObserver(function (mutations, observer) {{\n",
       "        var display = window.getComputedStyle(gd).display;\n",
       "        if (!display || display === 'none') {{\n",
       "            console.log([gd, 'removed!']);\n",
       "            Plotly.purge(gd);\n",
       "            observer.disconnect();\n",
       "        }}\n",
       "}});\n",
       "\n",
       "// Listen for the removal of the full notebook cells\n",
       "var notebookContainer = gd.closest('#notebook-container');\n",
       "if (notebookContainer) {{\n",
       "    x.observe(notebookContainer, {childList: true});\n",
       "}}\n",
       "\n",
       "// Listen for the clearing of the current output cell\n",
       "var outputEl = gd.closest('.output');\n",
       "if (outputEl) {{\n",
       "    x.observe(outputEl, {childList: true});\n",
       "}}\n",
       "\n",
       "                        })                };                });            </script>        </div>"
      ]
     },
     "metadata": {},
     "output_type": "display_data"
    }
   ],
   "source": [
    "px.histogram(DNF, x = \"publication_month\", nbins=5)"
   ]
  },
  {
   "cell_type": "markdown",
   "id": "6e236929",
   "metadata": {
    "papermill": {
     "duration": 0.012811,
     "end_time": "2022-06-05T14:41:15.380429",
     "exception": false,
     "start_time": "2022-06-05T14:41:15.367618",
     "status": "completed"
    },
    "tags": []
   },
   "source": [
    "# completion date"
   ]
  },
  {
   "cell_type": "code",
   "execution_count": 24,
   "id": "c82c6ece",
   "metadata": {
    "execution": {
     "iopub.execute_input": "2022-06-05T14:41:15.409277Z",
     "iopub.status.busy": "2022-06-05T14:41:15.408711Z",
     "iopub.status.idle": "2022-06-05T14:41:15.417621Z",
     "shell.execute_reply": "2022-06-05T14:41:15.416094Z"
    },
    "papermill": {
     "duration": 0.02618,
     "end_time": "2022-06-05T14:41:15.420011",
     "exception": false,
     "start_time": "2022-06-05T14:41:15.393831",
     "status": "completed"
    },
    "tags": []
   },
   "outputs": [
    {
     "name": "stderr",
     "output_type": "stream",
     "text": [
      "/opt/conda/lib/python3.7/site-packages/ipykernel_launcher.py:1: SettingWithCopyWarning:\n",
      "\n",
      "\n",
      "A value is trying to be set on a copy of a slice from a DataFrame.\n",
      "Try using .loc[row_indexer,col_indexer] = value instead\n",
      "\n",
      "See the caveats in the documentation: https://pandas.pydata.org/pandas-docs/stable/user_guide/indexing.html#returning-a-view-versus-a-copy\n",
      "\n"
     ]
    }
   ],
   "source": [
    "Completed['completion date'] = pd.to_datetime(df['completion date'])"
   ]
  },
  {
   "cell_type": "code",
   "execution_count": 25,
   "id": "c93210c1",
   "metadata": {
    "execution": {
     "iopub.execute_input": "2022-06-05T14:41:15.465618Z",
     "iopub.status.busy": "2022-06-05T14:41:15.464782Z",
     "iopub.status.idle": "2022-06-05T14:41:15.566081Z",
     "shell.execute_reply": "2022-06-05T14:41:15.564889Z"
    },
    "papermill": {
     "duration": 0.126021,
     "end_time": "2022-06-05T14:41:15.568043",
     "exception": false,
     "start_time": "2022-06-05T14:41:15.442022",
     "status": "completed"
    },
    "tags": []
   },
   "outputs": [
    {
     "data": {
      "text/html": [
       "<div>                            <div id=\"783f7233-b7c4-4a86-9d95-529a3ad506ba\" class=\"plotly-graph-div\" style=\"height:525px; width:100%;\"></div>            <script type=\"text/javascript\">                require([\"plotly\"], function(Plotly) {                    window.PLOTLYENV=window.PLOTLYENV || {};                                    if (document.getElementById(\"783f7233-b7c4-4a86-9d95-529a3ad506ba\")) {                    Plotly.newPlot(                        \"783f7233-b7c4-4a86-9d95-529a3ad506ba\",                        [{\"alignmentgroup\":\"True\",\"hovertemplate\":\"completion date=%{x}<br>pages=%{y}<extra></extra>\",\"legendgroup\":\"\",\"marker\":{\"color\":\"#636efa\",\"pattern\":{\"shape\":\"\"}},\"name\":\"\",\"offsetgroup\":\"\",\"orientation\":\"v\",\"showlegend\":false,\"textposition\":\"auto\",\"x\":[\"2021-04-06T00:00:00\",\"2020-02-19T00:00:00\",\"2018-09-19T00:00:00\",\"2020-10-11T00:00:00\",\"2020-10-10T00:00:00\",\"2017-01-20T00:00:00\",\"2021-09-25T00:00:00\",\"2019-12-10T00:00:00\",\"2021-04-27T00:00:00\",\"2019-12-31T00:00:00\",\"2019-06-23T00:00:00\",\"2021-10-16T00:00:00\",\"2019-12-09T00:00:00\",\"2022-01-06T00:00:00\",\"2021-07-01T00:00:00\",\"2018-04-22T00:00:00\",\"2021-08-14T00:00:00\",\"2021-07-05T00:00:00\",\"2020-10-04T00:00:00\",\"2020-10-26T00:00:00\",\"2020-04-27T00:00:00\",\"2020-03-11T00:00:00\",\"2022-01-17T00:00:00\",\"2020-05-31T00:00:00\",\"2021-05-23T00:00:00\",\"2020-12-22T00:00:00\",\"2020-11-24T00:00:00\",\"2020-11-06T00:00:00\",\"2021-06-02T00:00:00\",\"2021-11-13T00:00:00\",\"2020-02-04T00:00:00\",\"2020-10-24T00:00:00\",\"2021-09-01T00:00:00\",\"2020-01-26T00:00:00\",\"2022-04-22T00:00:00\",\"2018-02-16T00:00:00\",\"2017-03-31T00:00:00\",\"2022-04-18T00:00:00\",\"2022-04-13T00:00:00\",\"2021-09-10T00:00:00\",\"2019-02-28T00:00:00\",\"2020-08-22T00:00:00\",\"2021-08-14T00:00:00\",\"2019-03-19T00:00:00\",null,\"2022-01-10T00:00:00\",\"2017-02-17T00:00:00\",null,\"2022-02-20T00:00:00\",\"2019-03-10T00:00:00\",\"2018-12-10T00:00:00\",null,\"2021-02-06T00:00:00\",\"2022-04-01T00:00:00\",\"2021-12-12T00:00:00\",\"2022-04-26T00:00:00\",\"2020-02-18T00:00:00\",\"2022-01-06T00:00:00\",\"2022-04-29T00:00:00\",\"2019-01-03T00:00:00\",\"2020-11-26T00:00:00\",\"2017-07-13T00:00:00\",\"2017-05-18T00:00:00\",\"2018-01-05T00:00:00\",\"2017-12-10T00:00:00\",\"2020-06-06T00:00:00\",\"2019-02-02T00:00:00\",\"2017-05-10T00:00:00\",\"2019-11-07T00:00:00\",\"2019-06-19T00:00:00\",\"2019-05-21T00:00:00\",\"2019-04-11T00:00:00\",\"2018-09-08T00:00:00\",\"2019-12-24T00:00:00\",\"2021-01-25T00:00:00\",\"2018-06-14T00:00:00\",\"2020-05-07T00:00:00\",\"2019-03-27T00:00:00\",\"2018-03-31T00:00:00\",\"2020-05-03T00:00:00\",\"2021-12-31T00:00:00\",\"2019-07-03T00:00:00\",\"2019-09-13T00:00:00\",\"2020-06-27T00:00:00\",\"2021-05-31T00:00:00\",\"2022-02-20T00:00:00\",\"2022-03-22T00:00:00\",\"2019-12-16T00:00:00\",\"2020-10-03T00:00:00\",\"2018-04-12T00:00:00\",\"2018-03-08T00:00:00\",\"2018-01-26T00:00:00\",\"2017-08-23T00:00:00\",\"2017-09-05T00:00:00\",\"2021-07-12T00:00:00\",null,\"2021-07-15T00:00:00\",\"2019-02-16T00:00:00\",\"2017-11-06T00:00:00\",\"2019-05-25T00:00:00\",\"2022-04-30T00:00:00\",\"2020-01-10T00:00:00\",\"2020-10-12T00:00:00\",\"2021-05-11T00:00:00\",\"2020-01-12T00:00:00\",\"2021-12-25T00:00:00\",\"2020-10-02T00:00:00\",\"2021-05-06T00:00:00\",\"2022-04-17T00:00:00\",\"2019-05-29T00:00:00\",\"2021-06-01T00:00:00\",\"2020-08-25T00:00:00\",\"2021-09-13T00:00:00\",\"2018-02-07T00:00:00\",\"2019-07-20T00:00:00\",\"2017-04-18T00:00:00\",\"2018-03-22T00:00:00\",\"2021-06-28T00:00:00\",\"2022-01-05T00:00:00\",\"2021-12-21T00:00:00\",\"2021-01-03T00:00:00\",\"2017-09-12T00:00:00\",\"2021-10-16T00:00:00\",\"2021-08-23T00:00:00\",\"2021-06-29T00:00:00\",\"2021-11-30T00:00:00\",\"2021-06-08T00:00:00\",\"2020-10-17T00:00:00\",\"2018-12-30T00:00:00\",\"2017-08-08T00:00:00\",\"2018-03-02T00:00:00\",\"2019-06-23T00:00:00\",\"2020-09-26T00:00:00\",\"2020-07-10T00:00:00\",\"2020-06-21T00:00:00\",\"2019-07-19T00:00:00\",\"2022-03-11T00:00:00\",\"2021-03-02T00:00:00\",\"2020-07-19T00:00:00\",null,null,\"2021-11-03T00:00:00\",\"2021-03-21T00:00:00\",\"2021-05-11T00:00:00\",\"2018-07-10T00:00:00\",\"2022-04-08T00:00:00\",\"2021-05-31T00:00:00\",\"2019-02-18T00:00:00\",\"2020-01-05T00:00:00\",\"2019-01-05T00:00:00\",\"2019-04-30T00:00:00\",\"2018-05-09T00:00:00\",\"2022-04-10T00:00:00\",\"2021-12-07T00:00:00\",\"2021-04-23T00:00:00\",\"2020-08-30T00:00:00\",\"2017-07-21T00:00:00\",\"2020-05-31T00:00:00\",\"2017-11-25T00:00:00\",\"2017-12-12T00:00:00\",\"2020-08-06T00:00:00\",\"2017-09-28T00:00:00\",\"2022-04-29T00:00:00\",\"2017-03-25T00:00:00\",\"2021-10-06T00:00:00\",\"2020-04-26T00:00:00\",\"2019-01-26T00:00:00\",\"2021-06-06T00:00:00\",\"2019-08-28T00:00:00\",\"2019-01-08T00:00:00\",\"2020-09-21T00:00:00\",\"2019-03-14T00:00:00\",\"2017-02-25T00:00:00\",\"2021-11-03T00:00:00\",\"2017-10-10T00:00:00\",\"2017-05-31T00:00:00\",\"2017-03-09T00:00:00\",\"2017-02-07T00:00:00\",\"2018-05-19T00:00:00\",\"2020-01-22T00:00:00\",\"2020-09-04T00:00:00\",\"2017-02-25T00:00:00\",\"2021-05-04T00:00:00\",\"2017-09-21T00:00:00\",null,null,null,\"2020-11-29T00:00:00\",\"2019-03-08T00:00:00\",\"2018-03-30T00:00:00\",\"2017-06-08T00:00:00\",\"2020-10-09T00:00:00\",\"2021-01-17T00:00:00\",\"2020-12-26T00:00:00\",\"2020-12-24T00:00:00\",\"2020-12-13T00:00:00\",\"2020-11-18T00:00:00\",\"2019-04-18T00:00:00\",\"2019-03-25T00:00:00\",\"2017-06-28T00:00:00\",\"2019-01-23T00:00:00\",\"2021-08-25T00:00:00\",\"2020-08-17T00:00:00\",null,null,null,\"2021-07-02T00:00:00\",\"2020-01-18T00:00:00\",\"2019-09-13T00:00:00\",\"2021-08-20T00:00:00\",\"2019-03-04T00:00:00\",\"2018-01-23T00:00:00\",\"2017-04-27T00:00:00\",\"2018-05-11T00:00:00\",\"2017-06-20T00:00:00\",\"2018-04-07T00:00:00\",null,\"2018-11-01T00:00:00\",\"2018-10-04T00:00:00\",\"2018-04-05T00:00:00\",\"2018-02-05T00:00:00\",\"2017-03-20T00:00:00\",\"2020-11-01T00:00:00\",\"2017-03-15T00:00:00\",\"2018-06-06T00:00:00\",\"2018-01-01T00:00:00\",null,\"2020-10-29T00:00:00\",\"2017-03-11T00:00:00\",\"2021-03-31T00:00:00\",\"2021-09-26T00:00:00\",\"2017-10-08T00:00:00\",null,\"2019-04-04T00:00:00\",\"2021-01-11T00:00:00\",\"2020-10-27T00:00:00\",\"2019-10-03T00:00:00\",\"2018-06-25T00:00:00\",\"2018-05-17T00:00:00\",\"2018-01-09T00:00:00\",\"2017-11-13T00:00:00\",\"2017-01-03T00:00:00\",null,null,null,null,null,null,\"2020-11-12T00:00:00\",\"2020-09-27T00:00:00\",\"2018-05-28T00:00:00\",null,null,null,\"2019-12-14T00:00:00\",null,null,\"2018-01-27T00:00:00\",null,\"2020-11-17T00:00:00\",\"2019-05-17T00:00:00\",\"2019-06-27T00:00:00\",\"2018-01-31T00:00:00\",\"2020-11-07T00:00:00\",\"2020-10-06T00:00:00\",\"2017-06-13T00:00:00\",null,\"2018-12-25T00:00:00\",\"2018-04-15T00:00:00\",\"2018-02-15T00:00:00\",\"2017-09-25T00:00:00\",\"2017-05-28T00:00:00\",\"2017-03-17T00:00:00\",null,null,null,null,null,\"2017-11-29T00:00:00\",\"2018-01-16T00:00:00\",\"2017-07-07T00:00:00\",\"2017-02-17T00:00:00\",\"2017-02-17T00:00:00\",\"2017-02-14T00:00:00\",\"2017-02-12T00:00:00\",\"2020-12-08T00:00:00\",\"2018-04-27T00:00:00\",\"2017-02-28T00:00:00\",\"2021-05-30T00:00:00\",null,\"2020-10-16T00:00:00\",\"2018-12-29T00:00:00\",\"2018-01-31T00:00:00\",null,\"2020-08-06T00:00:00\",\"2018-01-20T00:00:00\",null,\"2018-02-25T00:00:00\",\"2018-12-03T00:00:00\",\"2020-12-03T00:00:00\",\"2020-01-08T00:00:00\",\"2020-02-09T00:00:00\",\"2019-07-23T00:00:00\",\"2018-10-12T00:00:00\",\"2019-07-31T00:00:00\",\"2018-06-09T00:00:00\",\"2020-12-23T00:00:00\",\"2020-12-10T00:00:00\",\"2018-09-24T00:00:00\",\"2018-04-17T00:00:00\",null,\"2019-08-11T00:00:00\",null,\"2021-09-13T00:00:00\",\"2017-06-28T00:00:00\",null,\"2017-03-08T00:00:00\",\"2017-01-10T00:00:00\",\"2016-12-17T00:00:00\",null,null,\"2018-02-03T00:00:00\",null,\"2017-05-23T00:00:00\",\"2017-04-06T00:00:00\",null,null,null,null,null,null,\"2019-06-11T00:00:00\",\"2018-12-21T00:00:00\",\"2018-05-25T00:00:00\",\"2018-04-25T00:00:00\",\"2018-03-17T00:00:00\",\"2019-06-16T00:00:00\",\"2019-02-08T00:00:00\",\"2017-08-26T00:00:00\",\"2020-12-28T00:00:00\",\"2020-11-14T00:00:00\",\"2020-11-09T00:00:00\",\"2019-01-15T00:00:00\",\"2019-01-10T00:00:00\",\"2018-09-10T00:00:00\",\"2018-03-09T00:00:00\",\"2018-01-19T00:00:00\",\"2017-10-04T00:00:00\",\"2017-08-31T00:00:00\",\"2017-06-02T00:00:00\",\"2017-03-05T00:00:00\",\"2017-02-22T00:00:00\",null,null,null,\"2020-12-30T00:00:00\",\"2017-02-08T00:00:00\",\"2020-07-17T00:00:00\",\"2020-12-05T00:00:00\",\"2020-06-24T00:00:00\",\"2018-02-21T00:00:00\",null,\"2017-10-16T00:00:00\",\"2018-08-11T00:00:00\",\"2018-06-03T00:00:00\",\"2018-09-06T00:00:00\",\"2018-09-01T00:00:00\",\"2021-05-25T00:00:00\",\"2018-04-02T00:00:00\",\"2020-12-31T00:00:00\",\"2019-02-04T00:00:00\",\"2019-01-31T00:00:00\",\"2019-01-29T00:00:00\",\"2018-12-22T00:00:00\",\"2018-08-30T00:00:00\",\"2018-04-30T00:00:00\",\"2018-03-12T00:00:00\",\"2017-10-24T00:00:00\",\"2017-06-28T00:00:00\",\"2018-03-24T00:00:00\",null],\"xaxis\":\"x\",\"y\":[352,160,304,224,252,256,320,240,528,512,256,328,272,302,560,560,400,608,201,592,368,382,176,672,608,768,800,672,448,150,480,528,208,272,288,352,384,512,272,304,261,432,244,256,272,322,256,375,72,528,400,336,352,365,365,288,432,320,352,416,256,336,256,336,352,320,496,272,640,480,384,352,512,496,272,329,480,672,608,304,336,320,240,368,192,448,416,400,464,421,416,352,512,560,304,240,416,480,544,256,304,304,512,304,336,336,368,368,288,224,288,240,288,368,224,224,528,320,384,432,400,256,385,370,352,384,320,368,736,432,656,288,736,784,736,373,192,320,256,320,224,244,290,288,336,336,256,544,110,528,400,912,368,368,208,224,160,400,400,400,353,353,272,304,336,528,736,192,512,256,432,338,173,127,127,127,127,127,127,365,287,287,272,354,274,338,322,347,256,496,415,394,256,288,288,272,190,253,190,31,496,288,394,394,225,440,345,337,464,436,274,328,296,324,338,320,258,440,381,338,327,222,563,125,275,243,358,156,338,272,299,229,229,320,455,328,392,456,360,347,370,262,132,133,132,133,134,133,320,304,304,315,190,323,286,244,255,240,251,499,413,408,416,432,270,330,463,448,384,371,320,272,328,448,356,376,336,520,464,416,275,166,158,153,166,320,280,320,259,188,477,176,192,200,252,128,128,349,428,368,368,752,496,336,367,299,344,319,368,344,156,380,301,218,128,287,278,248,271,261,341,354,206,228,244,233,212,211,202,216,226,448,416,320,338,512,326,438,435,304,256,288,871,288,256,304,273,266,288,282,288,304,288,288,288,160,409,318,368,339,342,288,274,260,292,176,181,211,256,256,232,232,256,288,204,192,224,256,357,327,322],\"yaxis\":\"y\",\"type\":\"bar\"}],                        {\"template\":{\"data\":{\"histogram2dcontour\":[{\"type\":\"histogram2dcontour\",\"colorbar\":{\"outlinewidth\":0,\"ticks\":\"\"},\"colorscale\":[[0.0,\"#0d0887\"],[0.1111111111111111,\"#46039f\"],[0.2222222222222222,\"#7201a8\"],[0.3333333333333333,\"#9c179e\"],[0.4444444444444444,\"#bd3786\"],[0.5555555555555556,\"#d8576b\"],[0.6666666666666666,\"#ed7953\"],[0.7777777777777778,\"#fb9f3a\"],[0.8888888888888888,\"#fdca26\"],[1.0,\"#f0f921\"]]}],\"choropleth\":[{\"type\":\"choropleth\",\"colorbar\":{\"outlinewidth\":0,\"ticks\":\"\"}}],\"histogram2d\":[{\"type\":\"histogram2d\",\"colorbar\":{\"outlinewidth\":0,\"ticks\":\"\"},\"colorscale\":[[0.0,\"#0d0887\"],[0.1111111111111111,\"#46039f\"],[0.2222222222222222,\"#7201a8\"],[0.3333333333333333,\"#9c179e\"],[0.4444444444444444,\"#bd3786\"],[0.5555555555555556,\"#d8576b\"],[0.6666666666666666,\"#ed7953\"],[0.7777777777777778,\"#fb9f3a\"],[0.8888888888888888,\"#fdca26\"],[1.0,\"#f0f921\"]]}],\"heatmap\":[{\"type\":\"heatmap\",\"colorbar\":{\"outlinewidth\":0,\"ticks\":\"\"},\"colorscale\":[[0.0,\"#0d0887\"],[0.1111111111111111,\"#46039f\"],[0.2222222222222222,\"#7201a8\"],[0.3333333333333333,\"#9c179e\"],[0.4444444444444444,\"#bd3786\"],[0.5555555555555556,\"#d8576b\"],[0.6666666666666666,\"#ed7953\"],[0.7777777777777778,\"#fb9f3a\"],[0.8888888888888888,\"#fdca26\"],[1.0,\"#f0f921\"]]}],\"heatmapgl\":[{\"type\":\"heatmapgl\",\"colorbar\":{\"outlinewidth\":0,\"ticks\":\"\"},\"colorscale\":[[0.0,\"#0d0887\"],[0.1111111111111111,\"#46039f\"],[0.2222222222222222,\"#7201a8\"],[0.3333333333333333,\"#9c179e\"],[0.4444444444444444,\"#bd3786\"],[0.5555555555555556,\"#d8576b\"],[0.6666666666666666,\"#ed7953\"],[0.7777777777777778,\"#fb9f3a\"],[0.8888888888888888,\"#fdca26\"],[1.0,\"#f0f921\"]]}],\"contourcarpet\":[{\"type\":\"contourcarpet\",\"colorbar\":{\"outlinewidth\":0,\"ticks\":\"\"}}],\"contour\":[{\"type\":\"contour\",\"colorbar\":{\"outlinewidth\":0,\"ticks\":\"\"},\"colorscale\":[[0.0,\"#0d0887\"],[0.1111111111111111,\"#46039f\"],[0.2222222222222222,\"#7201a8\"],[0.3333333333333333,\"#9c179e\"],[0.4444444444444444,\"#bd3786\"],[0.5555555555555556,\"#d8576b\"],[0.6666666666666666,\"#ed7953\"],[0.7777777777777778,\"#fb9f3a\"],[0.8888888888888888,\"#fdca26\"],[1.0,\"#f0f921\"]]}],\"surface\":[{\"type\":\"surface\",\"colorbar\":{\"outlinewidth\":0,\"ticks\":\"\"},\"colorscale\":[[0.0,\"#0d0887\"],[0.1111111111111111,\"#46039f\"],[0.2222222222222222,\"#7201a8\"],[0.3333333333333333,\"#9c179e\"],[0.4444444444444444,\"#bd3786\"],[0.5555555555555556,\"#d8576b\"],[0.6666666666666666,\"#ed7953\"],[0.7777777777777778,\"#fb9f3a\"],[0.8888888888888888,\"#fdca26\"],[1.0,\"#f0f921\"]]}],\"mesh3d\":[{\"type\":\"mesh3d\",\"colorbar\":{\"outlinewidth\":0,\"ticks\":\"\"}}],\"scatter\":[{\"fillpattern\":{\"fillmode\":\"overlay\",\"size\":10,\"solidity\":0.2},\"type\":\"scatter\"}],\"parcoords\":[{\"type\":\"parcoords\",\"line\":{\"colorbar\":{\"outlinewidth\":0,\"ticks\":\"\"}}}],\"scatterpolargl\":[{\"type\":\"scatterpolargl\",\"marker\":{\"colorbar\":{\"outlinewidth\":0,\"ticks\":\"\"}}}],\"bar\":[{\"error_x\":{\"color\":\"#2a3f5f\"},\"error_y\":{\"color\":\"#2a3f5f\"},\"marker\":{\"line\":{\"color\":\"#E5ECF6\",\"width\":0.5},\"pattern\":{\"fillmode\":\"overlay\",\"size\":10,\"solidity\":0.2}},\"type\":\"bar\"}],\"scattergeo\":[{\"type\":\"scattergeo\",\"marker\":{\"colorbar\":{\"outlinewidth\":0,\"ticks\":\"\"}}}],\"scatterpolar\":[{\"type\":\"scatterpolar\",\"marker\":{\"colorbar\":{\"outlinewidth\":0,\"ticks\":\"\"}}}],\"histogram\":[{\"marker\":{\"pattern\":{\"fillmode\":\"overlay\",\"size\":10,\"solidity\":0.2}},\"type\":\"histogram\"}],\"scattergl\":[{\"type\":\"scattergl\",\"marker\":{\"colorbar\":{\"outlinewidth\":0,\"ticks\":\"\"}}}],\"scatter3d\":[{\"type\":\"scatter3d\",\"line\":{\"colorbar\":{\"outlinewidth\":0,\"ticks\":\"\"}},\"marker\":{\"colorbar\":{\"outlinewidth\":0,\"ticks\":\"\"}}}],\"scattermapbox\":[{\"type\":\"scattermapbox\",\"marker\":{\"colorbar\":{\"outlinewidth\":0,\"ticks\":\"\"}}}],\"scatterternary\":[{\"type\":\"scatterternary\",\"marker\":{\"colorbar\":{\"outlinewidth\":0,\"ticks\":\"\"}}}],\"scattercarpet\":[{\"type\":\"scattercarpet\",\"marker\":{\"colorbar\":{\"outlinewidth\":0,\"ticks\":\"\"}}}],\"carpet\":[{\"aaxis\":{\"endlinecolor\":\"#2a3f5f\",\"gridcolor\":\"white\",\"linecolor\":\"white\",\"minorgridcolor\":\"white\",\"startlinecolor\":\"#2a3f5f\"},\"baxis\":{\"endlinecolor\":\"#2a3f5f\",\"gridcolor\":\"white\",\"linecolor\":\"white\",\"minorgridcolor\":\"white\",\"startlinecolor\":\"#2a3f5f\"},\"type\":\"carpet\"}],\"table\":[{\"cells\":{\"fill\":{\"color\":\"#EBF0F8\"},\"line\":{\"color\":\"white\"}},\"header\":{\"fill\":{\"color\":\"#C8D4E3\"},\"line\":{\"color\":\"white\"}},\"type\":\"table\"}],\"barpolar\":[{\"marker\":{\"line\":{\"color\":\"#E5ECF6\",\"width\":0.5},\"pattern\":{\"fillmode\":\"overlay\",\"size\":10,\"solidity\":0.2}},\"type\":\"barpolar\"}],\"pie\":[{\"automargin\":true,\"type\":\"pie\"}]},\"layout\":{\"autotypenumbers\":\"strict\",\"colorway\":[\"#636efa\",\"#EF553B\",\"#00cc96\",\"#ab63fa\",\"#FFA15A\",\"#19d3f3\",\"#FF6692\",\"#B6E880\",\"#FF97FF\",\"#FECB52\"],\"font\":{\"color\":\"#2a3f5f\"},\"hovermode\":\"closest\",\"hoverlabel\":{\"align\":\"left\"},\"paper_bgcolor\":\"white\",\"plot_bgcolor\":\"#E5ECF6\",\"polar\":{\"bgcolor\":\"#E5ECF6\",\"angularaxis\":{\"gridcolor\":\"white\",\"linecolor\":\"white\",\"ticks\":\"\"},\"radialaxis\":{\"gridcolor\":\"white\",\"linecolor\":\"white\",\"ticks\":\"\"}},\"ternary\":{\"bgcolor\":\"#E5ECF6\",\"aaxis\":{\"gridcolor\":\"white\",\"linecolor\":\"white\",\"ticks\":\"\"},\"baxis\":{\"gridcolor\":\"white\",\"linecolor\":\"white\",\"ticks\":\"\"},\"caxis\":{\"gridcolor\":\"white\",\"linecolor\":\"white\",\"ticks\":\"\"}},\"coloraxis\":{\"colorbar\":{\"outlinewidth\":0,\"ticks\":\"\"}},\"colorscale\":{\"sequential\":[[0.0,\"#0d0887\"],[0.1111111111111111,\"#46039f\"],[0.2222222222222222,\"#7201a8\"],[0.3333333333333333,\"#9c179e\"],[0.4444444444444444,\"#bd3786\"],[0.5555555555555556,\"#d8576b\"],[0.6666666666666666,\"#ed7953\"],[0.7777777777777778,\"#fb9f3a\"],[0.8888888888888888,\"#fdca26\"],[1.0,\"#f0f921\"]],\"sequentialminus\":[[0.0,\"#0d0887\"],[0.1111111111111111,\"#46039f\"],[0.2222222222222222,\"#7201a8\"],[0.3333333333333333,\"#9c179e\"],[0.4444444444444444,\"#bd3786\"],[0.5555555555555556,\"#d8576b\"],[0.6666666666666666,\"#ed7953\"],[0.7777777777777778,\"#fb9f3a\"],[0.8888888888888888,\"#fdca26\"],[1.0,\"#f0f921\"]],\"diverging\":[[0,\"#8e0152\"],[0.1,\"#c51b7d\"],[0.2,\"#de77ae\"],[0.3,\"#f1b6da\"],[0.4,\"#fde0ef\"],[0.5,\"#f7f7f7\"],[0.6,\"#e6f5d0\"],[0.7,\"#b8e186\"],[0.8,\"#7fbc41\"],[0.9,\"#4d9221\"],[1,\"#276419\"]]},\"xaxis\":{\"gridcolor\":\"white\",\"linecolor\":\"white\",\"ticks\":\"\",\"title\":{\"standoff\":15},\"zerolinecolor\":\"white\",\"automargin\":true,\"zerolinewidth\":2},\"yaxis\":{\"gridcolor\":\"white\",\"linecolor\":\"white\",\"ticks\":\"\",\"title\":{\"standoff\":15},\"zerolinecolor\":\"white\",\"automargin\":true,\"zerolinewidth\":2},\"scene\":{\"xaxis\":{\"backgroundcolor\":\"#E5ECF6\",\"gridcolor\":\"white\",\"linecolor\":\"white\",\"showbackground\":true,\"ticks\":\"\",\"zerolinecolor\":\"white\",\"gridwidth\":2},\"yaxis\":{\"backgroundcolor\":\"#E5ECF6\",\"gridcolor\":\"white\",\"linecolor\":\"white\",\"showbackground\":true,\"ticks\":\"\",\"zerolinecolor\":\"white\",\"gridwidth\":2},\"zaxis\":{\"backgroundcolor\":\"#E5ECF6\",\"gridcolor\":\"white\",\"linecolor\":\"white\",\"showbackground\":true,\"ticks\":\"\",\"zerolinecolor\":\"white\",\"gridwidth\":2}},\"shapedefaults\":{\"line\":{\"color\":\"#2a3f5f\"}},\"annotationdefaults\":{\"arrowcolor\":\"#2a3f5f\",\"arrowhead\":0,\"arrowwidth\":1},\"geo\":{\"bgcolor\":\"white\",\"landcolor\":\"#E5ECF6\",\"subunitcolor\":\"white\",\"showland\":true,\"showlakes\":true,\"lakecolor\":\"white\"},\"title\":{\"x\":0.05},\"mapbox\":{\"style\":\"light\"}}},\"xaxis\":{\"anchor\":\"y\",\"domain\":[0.0,1.0],\"title\":{\"text\":\"completion date\"}},\"yaxis\":{\"anchor\":\"x\",\"domain\":[0.0,1.0],\"title\":{\"text\":\"pages\"}},\"legend\":{\"tracegroupgap\":0},\"margin\":{\"t\":60},\"barmode\":\"relative\"},                        {\"responsive\": true}                    ).then(function(){\n",
       "                            \n",
       "var gd = document.getElementById('783f7233-b7c4-4a86-9d95-529a3ad506ba');\n",
       "var x = new MutationObserver(function (mutations, observer) {{\n",
       "        var display = window.getComputedStyle(gd).display;\n",
       "        if (!display || display === 'none') {{\n",
       "            console.log([gd, 'removed!']);\n",
       "            Plotly.purge(gd);\n",
       "            observer.disconnect();\n",
       "        }}\n",
       "}});\n",
       "\n",
       "// Listen for the removal of the full notebook cells\n",
       "var notebookContainer = gd.closest('#notebook-container');\n",
       "if (notebookContainer) {{\n",
       "    x.observe(notebookContainer, {childList: true});\n",
       "}}\n",
       "\n",
       "// Listen for the clearing of the current output cell\n",
       "var outputEl = gd.closest('.output');\n",
       "if (outputEl) {{\n",
       "    x.observe(outputEl, {childList: true});\n",
       "}}\n",
       "\n",
       "                        })                };                });            </script>        </div>"
      ]
     },
     "metadata": {},
     "output_type": "display_data"
    }
   ],
   "source": [
    "px.bar( Completed, x= \"completion date\", y = \"pages\")"
   ]
  },
  {
   "cell_type": "code",
   "execution_count": 26,
   "id": "9113463f",
   "metadata": {
    "execution": {
     "iopub.execute_input": "2022-06-05T14:41:15.597770Z",
     "iopub.status.busy": "2022-06-05T14:41:15.597378Z",
     "iopub.status.idle": "2022-06-05T14:41:15.604920Z",
     "shell.execute_reply": "2022-06-05T14:41:15.603954Z"
    },
    "papermill": {
     "duration": 0.026366,
     "end_time": "2022-06-05T14:41:15.608394",
     "exception": false,
     "start_time": "2022-06-05T14:41:15.582028",
     "status": "completed"
    },
    "tags": []
   },
   "outputs": [
    {
     "name": "stderr",
     "output_type": "stream",
     "text": [
      "/opt/conda/lib/python3.7/site-packages/ipykernel_launcher.py:1: SettingWithCopyWarning:\n",
      "\n",
      "\n",
      "A value is trying to be set on a copy of a slice from a DataFrame.\n",
      "Try using .loc[row_indexer,col_indexer] = value instead\n",
      "\n",
      "See the caveats in the documentation: https://pandas.pydata.org/pandas-docs/stable/user_guide/indexing.html#returning-a-view-versus-a-copy\n",
      "\n",
      "/opt/conda/lib/python3.7/site-packages/ipykernel_launcher.py:2: SettingWithCopyWarning:\n",
      "\n",
      "\n",
      "A value is trying to be set on a copy of a slice from a DataFrame.\n",
      "Try using .loc[row_indexer,col_indexer] = value instead\n",
      "\n",
      "See the caveats in the documentation: https://pandas.pydata.org/pandas-docs/stable/user_guide/indexing.html#returning-a-view-versus-a-copy\n",
      "\n"
     ]
    }
   ],
   "source": [
    "Completed['Completion_year'] = Completed['completion date'].dt.year\n",
    "Completed['Completion_month'] = Completed['completion date'].dt.month"
   ]
  },
  {
   "cell_type": "code",
   "execution_count": 27,
   "id": "50c3e946",
   "metadata": {
    "execution": {
     "iopub.execute_input": "2022-06-05T14:41:15.641088Z",
     "iopub.status.busy": "2022-06-05T14:41:15.640019Z",
     "iopub.status.idle": "2022-06-05T14:41:16.013577Z",
     "shell.execute_reply": "2022-06-05T14:41:16.012096Z"
    },
    "papermill": {
     "duration": 0.391254,
     "end_time": "2022-06-05T14:41:16.015609",
     "exception": false,
     "start_time": "2022-06-05T14:41:15.624355",
     "status": "completed"
    },
    "tags": []
   },
   "outputs": [
    {
     "data": {
      "image/png": "[encoded data removed]",
      "text/plain": [
       "<Figure size 432x288 with 1 Axes>"
      ]
     },
     "metadata": {},
     "output_type": "display_data"
    }
   ],
   "source": [
    "sns.barplot( x= \"Completion_year\", y = \"pages\", data = Completed)\n",
    "plt.show()"
   ]
  },
  {
   "cell_type": "code",
   "execution_count": 28,
   "id": "b24cee52",
   "metadata": {
    "execution": {
     "iopub.execute_input": "2022-06-05T14:41:16.047616Z",
     "iopub.status.busy": "2022-06-05T14:41:16.047198Z",
     "iopub.status.idle": "2022-06-05T14:41:16.209027Z",
     "shell.execute_reply": "2022-06-05T14:41:16.208435Z"
    },
    "papermill": {
     "duration": 0.180582,
     "end_time": "2022-06-05T14:41:16.211481",
     "exception": false,
     "start_time": "2022-06-05T14:41:16.030899",
     "status": "completed"
    },
    "tags": []
   },
   "outputs": [
    {
     "data": {
      "image/png": "[encoded data removed]",
      "text/plain": [
       "<Figure size 432x288 with 1 Axes>"
      ]
     },
     "metadata": {},
     "output_type": "display_data"
    }
   ],
   "source": [
    "sns.countplot( x= \"Completion_year\",data = Completed)\n",
    "plt.show()"
   ]
  },
  {
   "cell_type": "code",
   "execution_count": 29,
   "id": "660bc207",
   "metadata": {
    "execution": {
     "iopub.execute_input": "2022-06-05T14:41:16.261100Z",
     "iopub.status.busy": "2022-06-05T14:41:16.260033Z",
     "iopub.status.idle": "2022-06-05T14:41:16.850368Z",
     "shell.execute_reply": "2022-06-05T14:41:16.849412Z"
    },
    "papermill": {
     "duration": 0.61696,
     "end_time": "2022-06-05T14:41:16.852441",
     "exception": false,
     "start_time": "2022-06-05T14:41:16.235481",
     "status": "completed"
    },
    "tags": []
   },
   "outputs": [
    {
     "data": {
      "image/png": "[encoded data removed]",
      "text/plain": [
       "<Figure size 432x288 with 1 Axes>"
      ]
     },
     "metadata": {},
     "output_type": "display_data"
    }
   ],
   "source": [
    "sns.barplot( x= \"Completion_month\", y = \"pages\", data = Completed)\n",
    "plt.show()"
   ]
  },
  {
   "cell_type": "code",
   "execution_count": 30,
   "id": "e8617c1a",
   "metadata": {
    "execution": {
     "iopub.execute_input": "2022-06-05T14:41:16.903938Z",
     "iopub.status.busy": "2022-06-05T14:41:16.903344Z",
     "iopub.status.idle": "2022-06-05T14:41:17.144004Z",
     "shell.execute_reply": "2022-06-05T14:41:17.143332Z"
    },
    "papermill": {
     "duration": 0.269588,
     "end_time": "2022-06-05T14:41:17.146271",
     "exception": false,
     "start_time": "2022-06-05T14:41:16.876683",
     "status": "completed"
    },
    "tags": []
   },
   "outputs": [
    {
     "data": {
      "image/png": "[encoded data removed]",
      "text/plain": [
       "<Figure size 432x288 with 1 Axes>"
      ]
     },
     "metadata": {},
     "output_type": "display_data"
    }
   ],
   "source": [
    "sns.countplot( x= \"Completion_month\", data = Completed)\n",
    "plt.show()"
   ]
  },
  {
   "cell_type": "markdown",
   "id": "bcf37950",
   "metadata": {
    "papermill": {
     "duration": 0.023311,
     "end_time": "2022-06-05T14:41:17.193765",
     "exception": false,
     "start_time": "2022-06-05T14:41:17.170454",
     "status": "completed"
    },
    "tags": []
   },
   "source": [
    "# Title"
   ]
  },
  {
   "cell_type": "code",
   "execution_count": 31,
   "id": "7283973a",
   "metadata": {
    "execution": {
     "iopub.execute_input": "2022-06-05T14:41:17.242633Z",
     "iopub.status.busy": "2022-06-05T14:41:17.241797Z",
     "iopub.status.idle": "2022-06-05T14:41:17.253017Z",
     "shell.execute_reply": "2022-06-05T14:41:17.252203Z"
    },
    "papermill": {
     "duration": 0.037846,
     "end_time": "2022-06-05T14:41:17.254927",
     "exception": false,
     "start_time": "2022-06-05T14:41:17.217081",
     "status": "completed"
    },
    "tags": []
   },
   "outputs": [
    {
     "data": {
      "text/html": [
       "<div>\n",
       "<style scoped>\n",
       "    .dataframe tbody tr th:only-of-type {\n",
       "        vertical-align: middle;\n",
       "    }\n",
       "\n",
       "    .dataframe tbody tr th {\n",
       "        vertical-align: top;\n",
       "    }\n",
       "\n",
       "    .dataframe thead th {\n",
       "        text-align: right;\n",
       "    }\n",
       "</style>\n",
       "<table border=\"1\" class=\"dataframe\">\n",
       "  <thead>\n",
       "    <tr style=\"text-align: right;\">\n",
       "      <th></th>\n",
       "      <th>titles</th>\n",
       "      <th>reads</th>\n",
       "    </tr>\n",
       "  </thead>\n",
       "  <tbody>\n",
       "    <tr>\n",
       "      <th>0</th>\n",
       "      <td>Magpie Murders</td>\n",
       "      <td>2</td>\n",
       "    </tr>\n",
       "    <tr>\n",
       "      <th>1</th>\n",
       "      <td>陽気なギャングが地球を回す</td>\n",
       "      <td>2</td>\n",
       "    </tr>\n",
       "    <tr>\n",
       "      <th>2</th>\n",
       "      <td>世界から猫が消えたなら</td>\n",
       "      <td>2</td>\n",
       "    </tr>\n",
       "    <tr>\n",
       "      <th>3</th>\n",
       "      <td>ぼくは明日、昨日のきみとデートする</td>\n",
       "      <td>2</td>\n",
       "    </tr>\n",
       "    <tr>\n",
       "      <th>4</th>\n",
       "      <td>GIVER 復讐の贈与者</td>\n",
       "      <td>2</td>\n",
       "    </tr>\n",
       "    <tr>\n",
       "      <th>5</th>\n",
       "      <td>妖怪アパートの幽雅な日常 1</td>\n",
       "      <td>2</td>\n",
       "    </tr>\n",
       "    <tr>\n",
       "      <th>6</th>\n",
       "      <td>The Subtle Art of Not Giving a F*ck</td>\n",
       "      <td>2</td>\n",
       "    </tr>\n",
       "    <tr>\n",
       "      <th>7</th>\n",
       "      <td>The Alchemist</td>\n",
       "      <td>2</td>\n",
       "    </tr>\n",
       "    <tr>\n",
       "      <th>8</th>\n",
       "      <td>Freakonomics</td>\n",
       "      <td>2</td>\n",
       "    </tr>\n",
       "    <tr>\n",
       "      <th>9</th>\n",
       "      <td>Vicious</td>\n",
       "      <td>2</td>\n",
       "    </tr>\n",
       "    <tr>\n",
       "      <th>10</th>\n",
       "      <td>Economics: The User's Guide</td>\n",
       "      <td>2</td>\n",
       "    </tr>\n",
       "    <tr>\n",
       "      <th>11</th>\n",
       "      <td>GOTH 夜の章</td>\n",
       "      <td>2</td>\n",
       "    </tr>\n",
       "    <tr>\n",
       "      <th>12</th>\n",
       "      <td>Economics</td>\n",
       "      <td>2</td>\n",
       "    </tr>\n",
       "  </tbody>\n",
       "</table>\n",
       "</div>"
      ],
      "text/plain": [
       "                                 titles  reads\n",
       "0                        Magpie Murders      2\n",
       "1                         陽気なギャングが地球を回す      2\n",
       "2                           世界から猫が消えたなら      2\n",
       "3                     ぼくは明日、昨日のきみとデートする      2\n",
       "4                          GIVER 復讐の贈与者      2\n",
       "5                        妖怪アパートの幽雅な日常 1      2\n",
       "6   The Subtle Art of Not Giving a F*ck      2\n",
       "7                         The Alchemist      2\n",
       "8                          Freakonomics      2\n",
       "9                               Vicious      2\n",
       "10          Economics: The User's Guide      2\n",
       "11                             GOTH 夜の章      2\n",
       "12                            Economics      2"
      ]
     },
     "execution_count": 31,
     "metadata": {},
     "output_type": "execute_result"
    }
   ],
   "source": [
    "rereads = df[\"Title\"].value_counts().rename_axis (\"titles\").reset_index(name = \"reads\")\n",
    "rereads[rereads[\"reads\"]>1]"
   ]
  },
  {
   "cell_type": "markdown",
   "id": "cec28bca",
   "metadata": {
    "papermill": {
     "duration": 0.023527,
     "end_time": "2022-06-05T14:41:17.302859",
     "exception": false,
     "start_time": "2022-06-05T14:41:17.279332",
     "status": "completed"
    },
    "tags": []
   },
   "source": [
    "# author(s)"
   ]
  },
  {
   "cell_type": "code",
   "execution_count": 32,
   "id": "f7e44ea1",
   "metadata": {
    "execution": {
     "iopub.execute_input": "2022-06-05T14:41:17.352949Z",
     "iopub.status.busy": "2022-06-05T14:41:17.352574Z",
     "iopub.status.idle": "2022-06-05T14:41:17.360163Z",
     "shell.execute_reply": "2022-06-05T14:41:17.359479Z"
    },
    "papermill": {
     "duration": 0.033915,
     "end_time": "2022-06-05T14:41:17.361818",
     "exception": false,
     "start_time": "2022-06-05T14:41:17.327903",
     "status": "completed"
    },
    "tags": []
   },
   "outputs": [],
   "source": [
    "#read_books = df.dropna(subset = [\"completion date\"]).sort_values(by = \"completion date\")\n",
    "\n",
    "first_reads = df.drop_duplicates(subset = \"completion date\", keep = \"first\")"
   ]
  },
  {
   "cell_type": "code",
   "execution_count": 33,
   "id": "cefd6832",
   "metadata": {
    "execution": {
     "iopub.execute_input": "2022-06-05T14:41:17.410974Z",
     "iopub.status.busy": "2022-06-05T14:41:17.410639Z",
     "iopub.status.idle": "2022-06-05T14:41:17.417296Z",
     "shell.execute_reply": "2022-06-05T14:41:17.416507Z"
    },
    "papermill": {
     "duration": 0.033315,
     "end_time": "2022-06-05T14:41:17.419021",
     "exception": false,
     "start_time": "2022-06-05T14:41:17.385706",
     "status": "completed"
    },
    "tags": []
   },
   "outputs": [
    {
     "data": {
      "text/plain": [
       "311"
      ]
     },
     "execution_count": 33,
     "metadata": {},
     "output_type": "execute_result"
    }
   ],
   "source": [
    "first_reads.shape[0]"
   ]
  },
  {
   "cell_type": "code",
   "execution_count": 34,
   "id": "c47cfb1d",
   "metadata": {
    "execution": {
     "iopub.execute_input": "2022-06-05T14:41:17.469221Z",
     "iopub.status.busy": "2022-06-05T14:41:17.467873Z",
     "iopub.status.idle": "2022-06-05T14:41:17.481579Z",
     "shell.execute_reply": "2022-06-05T14:41:17.480865Z"
    },
    "papermill": {
     "duration": 0.040638,
     "end_time": "2022-06-05T14:41:17.483378",
     "exception": false,
     "start_time": "2022-06-05T14:41:17.442740",
     "status": "completed"
    },
    "tags": []
   },
   "outputs": [
    {
     "data": {
      "text/html": [
       "<div>\n",
       "<style scoped>\n",
       "    .dataframe tbody tr th:only-of-type {\n",
       "        vertical-align: middle;\n",
       "    }\n",
       "\n",
       "    .dataframe tbody tr th {\n",
       "        vertical-align: top;\n",
       "    }\n",
       "\n",
       "    .dataframe thead th {\n",
       "        text-align: right;\n",
       "    }\n",
       "</style>\n",
       "<table border=\"1\" class=\"dataframe\">\n",
       "  <thead>\n",
       "    <tr style=\"text-align: right;\">\n",
       "      <th></th>\n",
       "      <th>author(s)</th>\n",
       "      <th>books/reads</th>\n",
       "    </tr>\n",
       "  </thead>\n",
       "  <tbody>\n",
       "    <tr>\n",
       "      <th>0</th>\n",
       "      <td>東野 圭吾</td>\n",
       "      <td>15</td>\n",
       "    </tr>\n",
       "    <tr>\n",
       "      <th>1</th>\n",
       "      <td>谷 瑞恵</td>\n",
       "      <td>13</td>\n",
       "    </tr>\n",
       "    <tr>\n",
       "      <th>2</th>\n",
       "      <td>香月 日輪</td>\n",
       "      <td>9</td>\n",
       "    </tr>\n",
       "    <tr>\n",
       "      <th>3</th>\n",
       "      <td>伊坂 幸太郎</td>\n",
       "      <td>6</td>\n",
       "    </tr>\n",
       "    <tr>\n",
       "      <th>4</th>\n",
       "      <td>池井戸 潤</td>\n",
       "      <td>5</td>\n",
       "    </tr>\n",
       "  </tbody>\n",
       "</table>\n",
       "</div>"
      ],
      "text/plain": [
       "  author(s)  books/reads\n",
       "0     東野 圭吾           15\n",
       "1      谷 瑞恵           13\n",
       "2     香月 日輪            9\n",
       "3    伊坂 幸太郎            6\n",
       "4     池井戸 潤            5"
      ]
     },
     "execution_count": 34,
     "metadata": {},
     "output_type": "execute_result"
    }
   ],
   "source": [
    "fav_authors = first_reads[\"author(s)\"].value_counts().rename_axis (\"author(s)\").reset_index(name = \"books/reads\")\n",
    "fav_authors[fav_authors[\"books/reads\"]>1].head()"
   ]
  },
  {
   "cell_type": "code",
   "execution_count": 35,
   "id": "03640fa5",
   "metadata": {
    "execution": {
     "iopub.execute_input": "2022-06-05T14:41:17.533738Z",
     "iopub.status.busy": "2022-06-05T14:41:17.532622Z",
     "iopub.status.idle": "2022-06-05T14:41:17.584454Z",
     "shell.execute_reply": "2022-06-05T14:41:17.583562Z"
    },
    "papermill": {
     "duration": 0.078992,
     "end_time": "2022-06-05T14:41:17.586374",
     "exception": false,
     "start_time": "2022-06-05T14:41:17.507382",
     "status": "completed"
    },
    "tags": []
   },
   "outputs": [
    {
     "data": {
      "text/html": [
       "<div>                            <div id=\"cffe1970-b050-46c6-ac83-5ff86d8d95dc\" class=\"plotly-graph-div\" style=\"height:525px; width:100%;\"></div>            <script type=\"text/javascript\">                require([\"plotly\"], function(Plotly) {                    window.PLOTLYENV=window.PLOTLYENV || {};                                    if (document.getElementById(\"cffe1970-b050-46c6-ac83-5ff86d8d95dc\")) {                    Plotly.newPlot(                        \"cffe1970-b050-46c6-ac83-5ff86d8d95dc\",                        [{\"alignmentgroup\":\"True\",\"hovertemplate\":\"author(s)=%{x}<br>books/reads=%{y}<extra></extra>\",\"legendgroup\":\"\",\"marker\":{\"color\":\"#636efa\",\"pattern\":{\"shape\":\"\"}},\"name\":\"\",\"offsetgroup\":\"\",\"orientation\":\"v\",\"showlegend\":false,\"textposition\":\"auto\",\"x\":[\"東野 圭吾\",\"谷 瑞恵\",\"香月 日輪\",\"伊坂 幸太郎\",\"池井戸 潤\",\"ふじた\",\"Leigh Bardugo\",\"藤木 稟\",\"成田 良悟\",\"J. K. Rowling\",\"Anthony Horowitz\",\"乙一\",\"知念 実希人\",\"Ian Fleming\",\"Brandon Sanderson\",\"V. E. Schwab\",\"Jane Austen\",\"日野 草\",\"中村 ふみ\",\"葉山 透\",\"Ha-Joon Chang\",\"Robert Thorogood\",\"Sarah J. Maas\",\"赤川 次郎\",\"Agatha Christie\",\"Scott Lynch\",\"Wilkie Collins\",\"誉田 哲也\"],\"xaxis\":\"x\",\"y\":[15,13,9,6,5,5,5,5,5,4,4,4,4,4,4,4,3,3,3,3,3,3,3,3,3,3,3,3],\"yaxis\":\"y\",\"type\":\"bar\"}],                        {\"template\":{\"data\":{\"histogram2dcontour\":[{\"type\":\"histogram2dcontour\",\"colorbar\":{\"outlinewidth\":0,\"ticks\":\"\"},\"colorscale\":[[0.0,\"#0d0887\"],[0.1111111111111111,\"#46039f\"],[0.2222222222222222,\"#7201a8\"],[0.3333333333333333,\"#9c179e\"],[0.4444444444444444,\"#bd3786\"],[0.5555555555555556,\"#d8576b\"],[0.6666666666666666,\"#ed7953\"],[0.7777777777777778,\"#fb9f3a\"],[0.8888888888888888,\"#fdca26\"],[1.0,\"#f0f921\"]]}],\"choropleth\":[{\"type\":\"choropleth\",\"colorbar\":{\"outlinewidth\":0,\"ticks\":\"\"}}],\"histogram2d\":[{\"type\":\"histogram2d\",\"colorbar\":{\"outlinewidth\":0,\"ticks\":\"\"},\"colorscale\":[[0.0,\"#0d0887\"],[0.1111111111111111,\"#46039f\"],[0.2222222222222222,\"#7201a8\"],[0.3333333333333333,\"#9c179e\"],[0.4444444444444444,\"#bd3786\"],[0.5555555555555556,\"#d8576b\"],[0.6666666666666666,\"#ed7953\"],[0.7777777777777778,\"#fb9f3a\"],[0.8888888888888888,\"#fdca26\"],[1.0,\"#f0f921\"]]}],\"heatmap\":[{\"type\":\"heatmap\",\"colorbar\":{\"outlinewidth\":0,\"ticks\":\"\"},\"colorscale\":[[0.0,\"#0d0887\"],[0.1111111111111111,\"#46039f\"],[0.2222222222222222,\"#7201a8\"],[0.3333333333333333,\"#9c179e\"],[0.4444444444444444,\"#bd3786\"],[0.5555555555555556,\"#d8576b\"],[0.6666666666666666,\"#ed7953\"],[0.7777777777777778,\"#fb9f3a\"],[0.8888888888888888,\"#fdca26\"],[1.0,\"#f0f921\"]]}],\"heatmapgl\":[{\"type\":\"heatmapgl\",\"colorbar\":{\"outlinewidth\":0,\"ticks\":\"\"},\"colorscale\":[[0.0,\"#0d0887\"],[0.1111111111111111,\"#46039f\"],[0.2222222222222222,\"#7201a8\"],[0.3333333333333333,\"#9c179e\"],[0.4444444444444444,\"#bd3786\"],[0.5555555555555556,\"#d8576b\"],[0.6666666666666666,\"#ed7953\"],[0.7777777777777778,\"#fb9f3a\"],[0.8888888888888888,\"#fdca26\"],[1.0,\"#f0f921\"]]}],\"contourcarpet\":[{\"type\":\"contourcarpet\",\"colorbar\":{\"outlinewidth\":0,\"ticks\":\"\"}}],\"contour\":[{\"type\":\"contour\",\"colorbar\":{\"outlinewidth\":0,\"ticks\":\"\"},\"colorscale\":[[0.0,\"#0d0887\"],[0.1111111111111111,\"#46039f\"],[0.2222222222222222,\"#7201a8\"],[0.3333333333333333,\"#9c179e\"],[0.4444444444444444,\"#bd3786\"],[0.5555555555555556,\"#d8576b\"],[0.6666666666666666,\"#ed7953\"],[0.7777777777777778,\"#fb9f3a\"],[0.8888888888888888,\"#fdca26\"],[1.0,\"#f0f921\"]]}],\"surface\":[{\"type\":\"surface\",\"colorbar\":{\"outlinewidth\":0,\"ticks\":\"\"},\"colorscale\":[[0.0,\"#0d0887\"],[0.1111111111111111,\"#46039f\"],[0.2222222222222222,\"#7201a8\"],[0.3333333333333333,\"#9c179e\"],[0.4444444444444444,\"#bd3786\"],[0.5555555555555556,\"#d8576b\"],[0.6666666666666666,\"#ed7953\"],[0.7777777777777778,\"#fb9f3a\"],[0.8888888888888888,\"#fdca26\"],[1.0,\"#f0f921\"]]}],\"mesh3d\":[{\"type\":\"mesh3d\",\"colorbar\":{\"outlinewidth\":0,\"ticks\":\"\"}}],\"scatter\":[{\"fillpattern\":{\"fillmode\":\"overlay\",\"size\":10,\"solidity\":0.2},\"type\":\"scatter\"}],\"parcoords\":[{\"type\":\"parcoords\",\"line\":{\"colorbar\":{\"outlinewidth\":0,\"ticks\":\"\"}}}],\"scatterpolargl\":[{\"type\":\"scatterpolargl\",\"marker\":{\"colorbar\":{\"outlinewidth\":0,\"ticks\":\"\"}}}],\"bar\":[{\"error_x\":{\"color\":\"#2a3f5f\"},\"error_y\":{\"color\":\"#2a3f5f\"},\"marker\":{\"line\":{\"color\":\"#E5ECF6\",\"width\":0.5},\"pattern\":{\"fillmode\":\"overlay\",\"size\":10,\"solidity\":0.2}},\"type\":\"bar\"}],\"scattergeo\":[{\"type\":\"scattergeo\",\"marker\":{\"colorbar\":{\"outlinewidth\":0,\"ticks\":\"\"}}}],\"scatterpolar\":[{\"type\":\"scatterpolar\",\"marker\":{\"colorbar\":{\"outlinewidth\":0,\"ticks\":\"\"}}}],\"histogram\":[{\"marker\":{\"pattern\":{\"fillmode\":\"overlay\",\"size\":10,\"solidity\":0.2}},\"type\":\"histogram\"}],\"scattergl\":[{\"type\":\"scattergl\",\"marker\":{\"colorbar\":{\"outlinewidth\":0,\"ticks\":\"\"}}}],\"scatter3d\":[{\"type\":\"scatter3d\",\"line\":{\"colorbar\":{\"outlinewidth\":0,\"ticks\":\"\"}},\"marker\":{\"colorbar\":{\"outlinewidth\":0,\"ticks\":\"\"}}}],\"scattermapbox\":[{\"type\":\"scattermapbox\",\"marker\":{\"colorbar\":{\"outlinewidth\":0,\"ticks\":\"\"}}}],\"scatterternary\":[{\"type\":\"scatterternary\",\"marker\":{\"colorbar\":{\"outlinewidth\":0,\"ticks\":\"\"}}}],\"scattercarpet\":[{\"type\":\"scattercarpet\",\"marker\":{\"colorbar\":{\"outlinewidth\":0,\"ticks\":\"\"}}}],\"carpet\":[{\"aaxis\":{\"endlinecolor\":\"#2a3f5f\",\"gridcolor\":\"white\",\"linecolor\":\"white\",\"minorgridcolor\":\"white\",\"startlinecolor\":\"#2a3f5f\"},\"baxis\":{\"endlinecolor\":\"#2a3f5f\",\"gridcolor\":\"white\",\"linecolor\":\"white\",\"minorgridcolor\":\"white\",\"startlinecolor\":\"#2a3f5f\"},\"type\":\"carpet\"}],\"table\":[{\"cells\":{\"fill\":{\"color\":\"#EBF0F8\"},\"line\":{\"color\":\"white\"}},\"header\":{\"fill\":{\"color\":\"#C8D4E3\"},\"line\":{\"color\":\"white\"}},\"type\":\"table\"}],\"barpolar\":[{\"marker\":{\"line\":{\"color\":\"#E5ECF6\",\"width\":0.5},\"pattern\":{\"fillmode\":\"overlay\",\"size\":10,\"solidity\":0.2}},\"type\":\"barpolar\"}],\"pie\":[{\"automargin\":true,\"type\":\"pie\"}]},\"layout\":{\"autotypenumbers\":\"strict\",\"colorway\":[\"#636efa\",\"#EF553B\",\"#00cc96\",\"#ab63fa\",\"#FFA15A\",\"#19d3f3\",\"#FF6692\",\"#B6E880\",\"#FF97FF\",\"#FECB52\"],\"font\":{\"color\":\"#2a3f5f\"},\"hovermode\":\"closest\",\"hoverlabel\":{\"align\":\"left\"},\"paper_bgcolor\":\"white\",\"plot_bgcolor\":\"#E5ECF6\",\"polar\":{\"bgcolor\":\"#E5ECF6\",\"angularaxis\":{\"gridcolor\":\"white\",\"linecolor\":\"white\",\"ticks\":\"\"},\"radialaxis\":{\"gridcolor\":\"white\",\"linecolor\":\"white\",\"ticks\":\"\"}},\"ternary\":{\"bgcolor\":\"#E5ECF6\",\"aaxis\":{\"gridcolor\":\"white\",\"linecolor\":\"white\",\"ticks\":\"\"},\"baxis\":{\"gridcolor\":\"white\",\"linecolor\":\"white\",\"ticks\":\"\"},\"caxis\":{\"gridcolor\":\"white\",\"linecolor\":\"white\",\"ticks\":\"\"}},\"coloraxis\":{\"colorbar\":{\"outlinewidth\":0,\"ticks\":\"\"}},\"colorscale\":{\"sequential\":[[0.0,\"#0d0887\"],[0.1111111111111111,\"#46039f\"],[0.2222222222222222,\"#7201a8\"],[0.3333333333333333,\"#9c179e\"],[0.4444444444444444,\"#bd3786\"],[0.5555555555555556,\"#d8576b\"],[0.6666666666666666,\"#ed7953\"],[0.7777777777777778,\"#fb9f3a\"],[0.8888888888888888,\"#fdca26\"],[1.0,\"#f0f921\"]],\"sequentialminus\":[[0.0,\"#0d0887\"],[0.1111111111111111,\"#46039f\"],[0.2222222222222222,\"#7201a8\"],[0.3333333333333333,\"#9c179e\"],[0.4444444444444444,\"#bd3786\"],[0.5555555555555556,\"#d8576b\"],[0.6666666666666666,\"#ed7953\"],[0.7777777777777778,\"#fb9f3a\"],[0.8888888888888888,\"#fdca26\"],[1.0,\"#f0f921\"]],\"diverging\":[[0,\"#8e0152\"],[0.1,\"#c51b7d\"],[0.2,\"#de77ae\"],[0.3,\"#f1b6da\"],[0.4,\"#fde0ef\"],[0.5,\"#f7f7f7\"],[0.6,\"#e6f5d0\"],[0.7,\"#b8e186\"],[0.8,\"#7fbc41\"],[0.9,\"#4d9221\"],[1,\"#276419\"]]},\"xaxis\":{\"gridcolor\":\"white\",\"linecolor\":\"white\",\"ticks\":\"\",\"title\":{\"standoff\":15},\"zerolinecolor\":\"white\",\"automargin\":true,\"zerolinewidth\":2},\"yaxis\":{\"gridcolor\":\"white\",\"linecolor\":\"white\",\"ticks\":\"\",\"title\":{\"standoff\":15},\"zerolinecolor\":\"white\",\"automargin\":true,\"zerolinewidth\":2},\"scene\":{\"xaxis\":{\"backgroundcolor\":\"#E5ECF6\",\"gridcolor\":\"white\",\"linecolor\":\"white\",\"showbackground\":true,\"ticks\":\"\",\"zerolinecolor\":\"white\",\"gridwidth\":2},\"yaxis\":{\"backgroundcolor\":\"#E5ECF6\",\"gridcolor\":\"white\",\"linecolor\":\"white\",\"showbackground\":true,\"ticks\":\"\",\"zerolinecolor\":\"white\",\"gridwidth\":2},\"zaxis\":{\"backgroundcolor\":\"#E5ECF6\",\"gridcolor\":\"white\",\"linecolor\":\"white\",\"showbackground\":true,\"ticks\":\"\",\"zerolinecolor\":\"white\",\"gridwidth\":2}},\"shapedefaults\":{\"line\":{\"color\":\"#2a3f5f\"}},\"annotationdefaults\":{\"arrowcolor\":\"#2a3f5f\",\"arrowhead\":0,\"arrowwidth\":1},\"geo\":{\"bgcolor\":\"white\",\"landcolor\":\"#E5ECF6\",\"subunitcolor\":\"white\",\"showland\":true,\"showlakes\":true,\"lakecolor\":\"white\"},\"title\":{\"x\":0.05},\"mapbox\":{\"style\":\"light\"}}},\"xaxis\":{\"anchor\":\"y\",\"domain\":[0.0,1.0],\"title\":{\"text\":\"author(s)\"}},\"yaxis\":{\"anchor\":\"x\",\"domain\":[0.0,1.0],\"title\":{\"text\":\"books/reads\"}},\"legend\":{\"tracegroupgap\":0},\"margin\":{\"t\":60},\"barmode\":\"relative\"},                        {\"responsive\": true}                    ).then(function(){\n",
       "                            \n",
       "var gd = document.getElementById('cffe1970-b050-46c6-ac83-5ff86d8d95dc');\n",
       "var x = new MutationObserver(function (mutations, observer) {{\n",
       "        var display = window.getComputedStyle(gd).display;\n",
       "        if (!display || display === 'none') {{\n",
       "            console.log([gd, 'removed!']);\n",
       "            Plotly.purge(gd);\n",
       "            observer.disconnect();\n",
       "        }}\n",
       "}});\n",
       "\n",
       "// Listen for the removal of the full notebook cells\n",
       "var notebookContainer = gd.closest('#notebook-container');\n",
       "if (notebookContainer) {{\n",
       "    x.observe(notebookContainer, {childList: true});\n",
       "}}\n",
       "\n",
       "// Listen for the clearing of the current output cell\n",
       "var outputEl = gd.closest('.output');\n",
       "if (outputEl) {{\n",
       "    x.observe(outputEl, {childList: true});\n",
       "}}\n",
       "\n",
       "                        })                };                });            </script>        </div>"
      ]
     },
     "metadata": {},
     "output_type": "display_data"
    }
   ],
   "source": [
    "px.bar(fav_authors[fav_authors[\"books/reads\"]>2], x=\"author(s)\", y = \"books/reads\" )"
   ]
  },
  {
   "cell_type": "markdown",
   "id": "cc921e67",
   "metadata": {
    "papermill": {
     "duration": 0.024137,
     "end_time": "2022-06-05T14:41:17.635289",
     "exception": false,
     "start_time": "2022-06-05T14:41:17.611152",
     "status": "completed"
    },
    "tags": []
   },
   "source": [
    "# pages"
   ]
  },
  {
   "cell_type": "code",
   "execution_count": 36,
   "id": "8d75633a",
   "metadata": {
    "execution": {
     "iopub.execute_input": "2022-06-05T14:41:17.686466Z",
     "iopub.status.busy": "2022-06-05T14:41:17.686140Z",
     "iopub.status.idle": "2022-06-05T14:41:17.737824Z",
     "shell.execute_reply": "2022-06-05T14:41:17.736928Z"
    },
    "papermill": {
     "duration": 0.080031,
     "end_time": "2022-06-05T14:41:17.739888",
     "exception": false,
     "start_time": "2022-06-05T14:41:17.659857",
     "status": "completed"
    },
    "tags": []
   },
   "outputs": [
    {
     "data": {
      "text/html": [
       "<div>                            <div id=\"582401c5-3e76-4c20-824e-f41510085c04\" class=\"plotly-graph-div\" style=\"height:525px; width:100%;\"></div>            <script type=\"text/javascript\">                require([\"plotly\"], function(Plotly) {                    window.PLOTLYENV=window.PLOTLYENV || {};                                    if (document.getElementById(\"582401c5-3e76-4c20-824e-f41510085c04\")) {                    Plotly.newPlot(                        \"582401c5-3e76-4c20-824e-f41510085c04\",                        [{\"alignmentgroup\":\"True\",\"bingroup\":\"x\",\"hovertemplate\":\"pages=%{x}<br>count=%{y}<extra></extra>\",\"legendgroup\":\"\",\"marker\":{\"color\":\"#636efa\",\"pattern\":{\"shape\":\"\"}},\"name\":\"\",\"nbinsx\":20,\"offsetgroup\":\"\",\"orientation\":\"v\",\"showlegend\":false,\"x\":[352,160,304,224,252,256,320,368,240,528,512,256,328,272,302,560,560,400,608,201,592,368,382,176,672,608,768,800,672,448,218,150,320,480,528,208,272,288,352,384,512,272,304,261,432,244,256,272,322,256,288,375,72,224,528,400,336,352,365,365,288,432,320,352,416,256,336,256,336,352,320,496,272,640,480,384,352,512,496,272,329,480,672,608,304,336,320,240,368,192,352,448,416,400,464,421,416,352,512,560,304,240,416,480,544,288,256,304,304,512,304,336,336,368,368,288,224,288,240,288,368,224,224,528,320,384,432,400,256,385,370,352,384,320,368,736,432,656,288,736,784,736,373,192,320,256,320,224,244,290,288,336,336,256,320,544,110,528,400,912,368,368,208,224,160,400,400,400,353,353,272,304,336,528,736,192,512,256,432,338,173,127,127,127,127,127,127,365,287,287,272,354,274,338,322,347,256,496,415,394,256,288,288,272,190,253,190,31,496,288,394,394,225,440,345,337,464,436,274,328,296,324,338,320,258,440,381,338,327,222,563,125,275,243,358,156,338,272,296,299,229,229,320,455,328,392,456,360,347,370,262,132,133,132,133,134,133,320,304,304,315,190,323,286,244,255,240,251,499,413,408,416,432,270,330,463,448,384,371,320,272,328,448,356,376,336,520,464,416,275,166,158,153,166,320,280,320,259,188,477,176,192,200,357,252,128,128,349,428,368,368,752,496,336,367,299,344,319,368,344,156,380,301,218,128,287,278,248,271,261,341,354,206,228,244,233,212,211,202,216,226,448,416,320,338,512,326,438,435,304,256,288,871,288,256,304,273,266,288,282,288,304,288,288,288,160,409,318,368,339,342,288,274,260,292,176,181,211,256,256,232,232,256,288,204,192,224,256,357,327,322],\"xaxis\":\"x\",\"yaxis\":\"y\",\"type\":\"histogram\"}],                        {\"template\":{\"data\":{\"histogram2dcontour\":[{\"type\":\"histogram2dcontour\",\"colorbar\":{\"outlinewidth\":0,\"ticks\":\"\"},\"colorscale\":[[0.0,\"#0d0887\"],[0.1111111111111111,\"#46039f\"],[0.2222222222222222,\"#7201a8\"],[0.3333333333333333,\"#9c179e\"],[0.4444444444444444,\"#bd3786\"],[0.5555555555555556,\"#d8576b\"],[0.6666666666666666,\"#ed7953\"],[0.7777777777777778,\"#fb9f3a\"],[0.8888888888888888,\"#fdca26\"],[1.0,\"#f0f921\"]]}],\"choropleth\":[{\"type\":\"choropleth\",\"colorbar\":{\"outlinewidth\":0,\"ticks\":\"\"}}],\"histogram2d\":[{\"type\":\"histogram2d\",\"colorbar\":{\"outlinewidth\":0,\"ticks\":\"\"},\"colorscale\":[[0.0,\"#0d0887\"],[0.1111111111111111,\"#46039f\"],[0.2222222222222222,\"#7201a8\"],[0.3333333333333333,\"#9c179e\"],[0.4444444444444444,\"#bd3786\"],[0.5555555555555556,\"#d8576b\"],[0.6666666666666666,\"#ed7953\"],[0.7777777777777778,\"#fb9f3a\"],[0.8888888888888888,\"#fdca26\"],[1.0,\"#f0f921\"]]}],\"heatmap\":[{\"type\":\"heatmap\",\"colorbar\":{\"outlinewidth\":0,\"ticks\":\"\"},\"colorscale\":[[0.0,\"#0d0887\"],[0.1111111111111111,\"#46039f\"],[0.2222222222222222,\"#7201a8\"],[0.3333333333333333,\"#9c179e\"],[0.4444444444444444,\"#bd3786\"],[0.5555555555555556,\"#d8576b\"],[0.6666666666666666,\"#ed7953\"],[0.7777777777777778,\"#fb9f3a\"],[0.8888888888888888,\"#fdca26\"],[1.0,\"#f0f921\"]]}],\"heatmapgl\":[{\"type\":\"heatmapgl\",\"colorbar\":{\"outlinewidth\":0,\"ticks\":\"\"},\"colorscale\":[[0.0,\"#0d0887\"],[0.1111111111111111,\"#46039f\"],[0.2222222222222222,\"#7201a8\"],[0.3333333333333333,\"#9c179e\"],[0.4444444444444444,\"#bd3786\"],[0.5555555555555556,\"#d8576b\"],[0.6666666666666666,\"#ed7953\"],[0.7777777777777778,\"#fb9f3a\"],[0.8888888888888888,\"#fdca26\"],[1.0,\"#f0f921\"]]}],\"contourcarpet\":[{\"type\":\"contourcarpet\",\"colorbar\":{\"outlinewidth\":0,\"ticks\":\"\"}}],\"contour\":[{\"type\":\"contour\",\"colorbar\":{\"outlinewidth\":0,\"ticks\":\"\"},\"colorscale\":[[0.0,\"#0d0887\"],[0.1111111111111111,\"#46039f\"],[0.2222222222222222,\"#7201a8\"],[0.3333333333333333,\"#9c179e\"],[0.4444444444444444,\"#bd3786\"],[0.5555555555555556,\"#d8576b\"],[0.6666666666666666,\"#ed7953\"],[0.7777777777777778,\"#fb9f3a\"],[0.8888888888888888,\"#fdca26\"],[1.0,\"#f0f921\"]]}],\"surface\":[{\"type\":\"surface\",\"colorbar\":{\"outlinewidth\":0,\"ticks\":\"\"},\"colorscale\":[[0.0,\"#0d0887\"],[0.1111111111111111,\"#46039f\"],[0.2222222222222222,\"#7201a8\"],[0.3333333333333333,\"#9c179e\"],[0.4444444444444444,\"#bd3786\"],[0.5555555555555556,\"#d8576b\"],[0.6666666666666666,\"#ed7953\"],[0.7777777777777778,\"#fb9f3a\"],[0.8888888888888888,\"#fdca26\"],[1.0,\"#f0f921\"]]}],\"mesh3d\":[{\"type\":\"mesh3d\",\"colorbar\":{\"outlinewidth\":0,\"ticks\":\"\"}}],\"scatter\":[{\"fillpattern\":{\"fillmode\":\"overlay\",\"size\":10,\"solidity\":0.2},\"type\":\"scatter\"}],\"parcoords\":[{\"type\":\"parcoords\",\"line\":{\"colorbar\":{\"outlinewidth\":0,\"ticks\":\"\"}}}],\"scatterpolargl\":[{\"type\":\"scatterpolargl\",\"marker\":{\"colorbar\":{\"outlinewidth\":0,\"ticks\":\"\"}}}],\"bar\":[{\"error_x\":{\"color\":\"#2a3f5f\"},\"error_y\":{\"color\":\"#2a3f5f\"},\"marker\":{\"line\":{\"color\":\"#E5ECF6\",\"width\":0.5},\"pattern\":{\"fillmode\":\"overlay\",\"size\":10,\"solidity\":0.2}},\"type\":\"bar\"}],\"scattergeo\":[{\"type\":\"scattergeo\",\"marker\":{\"colorbar\":{\"outlinewidth\":0,\"ticks\":\"\"}}}],\"scatterpolar\":[{\"type\":\"scatterpolar\",\"marker\":{\"colorbar\":{\"outlinewidth\":0,\"ticks\":\"\"}}}],\"histogram\":[{\"marker\":{\"pattern\":{\"fillmode\":\"overlay\",\"size\":10,\"solidity\":0.2}},\"type\":\"histogram\"}],\"scattergl\":[{\"type\":\"scattergl\",\"marker\":{\"colorbar\":{\"outlinewidth\":0,\"ticks\":\"\"}}}],\"scatter3d\":[{\"type\":\"scatter3d\",\"line\":{\"colorbar\":{\"outlinewidth\":0,\"ticks\":\"\"}},\"marker\":{\"colorbar\":{\"outlinewidth\":0,\"ticks\":\"\"}}}],\"scattermapbox\":[{\"type\":\"scattermapbox\",\"marker\":{\"colorbar\":{\"outlinewidth\":0,\"ticks\":\"\"}}}],\"scatterternary\":[{\"type\":\"scatterternary\",\"marker\":{\"colorbar\":{\"outlinewidth\":0,\"ticks\":\"\"}}}],\"scattercarpet\":[{\"type\":\"scattercarpet\",\"marker\":{\"colorbar\":{\"outlinewidth\":0,\"ticks\":\"\"}}}],\"carpet\":[{\"aaxis\":{\"endlinecolor\":\"#2a3f5f\",\"gridcolor\":\"white\",\"linecolor\":\"white\",\"minorgridcolor\":\"white\",\"startlinecolor\":\"#2a3f5f\"},\"baxis\":{\"endlinecolor\":\"#2a3f5f\",\"gridcolor\":\"white\",\"linecolor\":\"white\",\"minorgridcolor\":\"white\",\"startlinecolor\":\"#2a3f5f\"},\"type\":\"carpet\"}],\"table\":[{\"cells\":{\"fill\":{\"color\":\"#EBF0F8\"},\"line\":{\"color\":\"white\"}},\"header\":{\"fill\":{\"color\":\"#C8D4E3\"},\"line\":{\"color\":\"white\"}},\"type\":\"table\"}],\"barpolar\":[{\"marker\":{\"line\":{\"color\":\"#E5ECF6\",\"width\":0.5},\"pattern\":{\"fillmode\":\"overlay\",\"size\":10,\"solidity\":0.2}},\"type\":\"barpolar\"}],\"pie\":[{\"automargin\":true,\"type\":\"pie\"}]},\"layout\":{\"autotypenumbers\":\"strict\",\"colorway\":[\"#636efa\",\"#EF553B\",\"#00cc96\",\"#ab63fa\",\"#FFA15A\",\"#19d3f3\",\"#FF6692\",\"#B6E880\",\"#FF97FF\",\"#FECB52\"],\"font\":{\"color\":\"#2a3f5f\"},\"hovermode\":\"closest\",\"hoverlabel\":{\"align\":\"left\"},\"paper_bgcolor\":\"white\",\"plot_bgcolor\":\"#E5ECF6\",\"polar\":{\"bgcolor\":\"#E5ECF6\",\"angularaxis\":{\"gridcolor\":\"white\",\"linecolor\":\"white\",\"ticks\":\"\"},\"radialaxis\":{\"gridcolor\":\"white\",\"linecolor\":\"white\",\"ticks\":\"\"}},\"ternary\":{\"bgcolor\":\"#E5ECF6\",\"aaxis\":{\"gridcolor\":\"white\",\"linecolor\":\"white\",\"ticks\":\"\"},\"baxis\":{\"gridcolor\":\"white\",\"linecolor\":\"white\",\"ticks\":\"\"},\"caxis\":{\"gridcolor\":\"white\",\"linecolor\":\"white\",\"ticks\":\"\"}},\"coloraxis\":{\"colorbar\":{\"outlinewidth\":0,\"ticks\":\"\"}},\"colorscale\":{\"sequential\":[[0.0,\"#0d0887\"],[0.1111111111111111,\"#46039f\"],[0.2222222222222222,\"#7201a8\"],[0.3333333333333333,\"#9c179e\"],[0.4444444444444444,\"#bd3786\"],[0.5555555555555556,\"#d8576b\"],[0.6666666666666666,\"#ed7953\"],[0.7777777777777778,\"#fb9f3a\"],[0.8888888888888888,\"#fdca26\"],[1.0,\"#f0f921\"]],\"sequentialminus\":[[0.0,\"#0d0887\"],[0.1111111111111111,\"#46039f\"],[0.2222222222222222,\"#7201a8\"],[0.3333333333333333,\"#9c179e\"],[0.4444444444444444,\"#bd3786\"],[0.5555555555555556,\"#d8576b\"],[0.6666666666666666,\"#ed7953\"],[0.7777777777777778,\"#fb9f3a\"],[0.8888888888888888,\"#fdca26\"],[1.0,\"#f0f921\"]],\"diverging\":[[0,\"#8e0152\"],[0.1,\"#c51b7d\"],[0.2,\"#de77ae\"],[0.3,\"#f1b6da\"],[0.4,\"#fde0ef\"],[0.5,\"#f7f7f7\"],[0.6,\"#e6f5d0\"],[0.7,\"#b8e186\"],[0.8,\"#7fbc41\"],[0.9,\"#4d9221\"],[1,\"#276419\"]]},\"xaxis\":{\"gridcolor\":\"white\",\"linecolor\":\"white\",\"ticks\":\"\",\"title\":{\"standoff\":15},\"zerolinecolor\":\"white\",\"automargin\":true,\"zerolinewidth\":2},\"yaxis\":{\"gridcolor\":\"white\",\"linecolor\":\"white\",\"ticks\":\"\",\"title\":{\"standoff\":15},\"zerolinecolor\":\"white\",\"automargin\":true,\"zerolinewidth\":2},\"scene\":{\"xaxis\":{\"backgroundcolor\":\"#E5ECF6\",\"gridcolor\":\"white\",\"linecolor\":\"white\",\"showbackground\":true,\"ticks\":\"\",\"zerolinecolor\":\"white\",\"gridwidth\":2},\"yaxis\":{\"backgroundcolor\":\"#E5ECF6\",\"gridcolor\":\"white\",\"linecolor\":\"white\",\"showbackground\":true,\"ticks\":\"\",\"zerolinecolor\":\"white\",\"gridwidth\":2},\"zaxis\":{\"backgroundcolor\":\"#E5ECF6\",\"gridcolor\":\"white\",\"linecolor\":\"white\",\"showbackground\":true,\"ticks\":\"\",\"zerolinecolor\":\"white\",\"gridwidth\":2}},\"shapedefaults\":{\"line\":{\"color\":\"#2a3f5f\"}},\"annotationdefaults\":{\"arrowcolor\":\"#2a3f5f\",\"arrowhead\":0,\"arrowwidth\":1},\"geo\":{\"bgcolor\":\"white\",\"landcolor\":\"#E5ECF6\",\"subunitcolor\":\"white\",\"showland\":true,\"showlakes\":true,\"lakecolor\":\"white\"},\"title\":{\"x\":0.05},\"mapbox\":{\"style\":\"light\"}}},\"xaxis\":{\"anchor\":\"y\",\"domain\":[0.0,1.0],\"title\":{\"text\":\"pages\"}},\"yaxis\":{\"anchor\":\"x\",\"domain\":[0.0,1.0],\"title\":{\"text\":\"count\"}},\"legend\":{\"tracegroupgap\":0},\"margin\":{\"t\":60},\"barmode\":\"relative\"},                        {\"responsive\": true}                    ).then(function(){\n",
       "                            \n",
       "var gd = document.getElementById('582401c5-3e76-4c20-824e-f41510085c04');\n",
       "var x = new MutationObserver(function (mutations, observer) {{\n",
       "        var display = window.getComputedStyle(gd).display;\n",
       "        if (!display || display === 'none') {{\n",
       "            console.log([gd, 'removed!']);\n",
       "            Plotly.purge(gd);\n",
       "            observer.disconnect();\n",
       "        }}\n",
       "}});\n",
       "\n",
       "// Listen for the removal of the full notebook cells\n",
       "var notebookContainer = gd.closest('#notebook-container');\n",
       "if (notebookContainer) {{\n",
       "    x.observe(notebookContainer, {childList: true});\n",
       "}}\n",
       "\n",
       "// Listen for the clearing of the current output cell\n",
       "var outputEl = gd.closest('.output');\n",
       "if (outputEl) {{\n",
       "    x.observe(outputEl, {childList: true});\n",
       "}}\n",
       "\n",
       "                        })                };                });            </script>        </div>"
      ]
     },
     "metadata": {},
     "output_type": "display_data"
    }
   ],
   "source": [
    "px.histogram(df, x = \"pages\", nbins=20)"
   ]
  },
  {
   "cell_type": "code",
   "execution_count": 37,
   "id": "2c1fdd1d",
   "metadata": {
    "execution": {
     "iopub.execute_input": "2022-06-05T14:41:17.792428Z",
     "iopub.status.busy": "2022-06-05T14:41:17.792104Z",
     "iopub.status.idle": "2022-06-05T14:41:17.907622Z",
     "shell.execute_reply": "2022-06-05T14:41:17.907035Z"
    },
    "papermill": {
     "duration": 0.144121,
     "end_time": "2022-06-05T14:41:17.909649",
     "exception": false,
     "start_time": "2022-06-05T14:41:17.765528",
     "status": "completed"
    },
    "tags": []
   },
   "outputs": [
    {
     "data": {
      "text/plain": [
       "<AxesSubplot:xlabel='review', ylabel='count'>"
      ]
     },
     "execution_count": 37,
     "metadata": {},
     "output_type": "execute_result"
    },
    {
     "data": {
      "image/png": "[encoded data removed]",
      "text/plain": [
       "<Figure size 432x288 with 1 Axes>"
      ]
     },
     "metadata": {},
     "output_type": "display_data"
    }
   ],
   "source": [
    "sns.countplot(x = \"review\", data = Completed)"
   ]
  },
  {
   "cell_type": "code",
   "execution_count": 38,
   "id": "8914c6a0",
   "metadata": {
    "execution": {
     "iopub.execute_input": "2022-06-05T14:41:17.968556Z",
     "iopub.status.busy": "2022-06-05T14:41:17.968136Z",
     "iopub.status.idle": "2022-06-05T14:41:17.978614Z",
     "shell.execute_reply": "2022-06-05T14:41:17.977801Z"
    },
    "papermill": {
     "duration": 0.040611,
     "end_time": "2022-06-05T14:41:17.981385",
     "exception": false,
     "start_time": "2022-06-05T14:41:17.940774",
     "status": "completed"
    },
    "tags": []
   },
   "outputs": [
    {
     "name": "stdout",
     "output_type": "stream",
     "text": [
      "0.0 % of books read have been reviewed\n"
     ]
    }
   ],
   "source": [
    "print(round((Completed[Completed[\"review\"]==\"y\"].shape[0]/Completed.dropna(subset = [\"review\"]).shape[0])*100, 1) ,\"% of books read have been reviewed\")"
   ]
  },
  {
   "cell_type": "code",
   "execution_count": 39,
   "id": "f1673900",
   "metadata": {
    "execution": {
     "iopub.execute_input": "2022-06-05T14:41:18.033490Z",
     "iopub.status.busy": "2022-06-05T14:41:18.033178Z",
     "iopub.status.idle": "2022-06-05T14:41:18.083274Z",
     "shell.execute_reply": "2022-06-05T14:41:18.082070Z"
    },
    "papermill": {
     "duration": 0.078507,
     "end_time": "2022-06-05T14:41:18.085415",
     "exception": false,
     "start_time": "2022-06-05T14:41:18.006908",
     "status": "completed"
    },
    "tags": []
   },
   "outputs": [
    {
     "data": {
      "text/html": [
       "<div>                            <div id=\"174ff4ea-cb46-48db-ade8-d16dc4742783\" class=\"plotly-graph-div\" style=\"height:525px; width:100%;\"></div>            <script type=\"text/javascript\">                require([\"plotly\"], function(Plotly) {                    window.PLOTLYENV=window.PLOTLYENV || {};                                    if (document.getElementById(\"174ff4ea-cb46-48db-ade8-d16dc4742783\")) {                    Plotly.newPlot(                        \"174ff4ea-cb46-48db-ade8-d16dc4742783\",                        [{\"alignmentgroup\":\"True\",\"bingroup\":\"x\",\"hovertemplate\":\"rating=%{x}<br>count=%{y}<extra></extra>\",\"legendgroup\":\"\",\"marker\":{\"color\":\"#636efa\",\"pattern\":{\"shape\":\"\"}},\"name\":\"\",\"nbinsx\":5,\"offsetgroup\":\"\",\"orientation\":\"v\",\"showlegend\":false,\"x\":[5.0,4.0,5.0,1.5,3.0,5.0,4.5,3.0,4.0,3.0,5.0,1.0,3.0,2.0,2.0,2.0,2.0,2.0,1.0,4.0,2.0,4.0,4.0,3.0,3.0,3.5,2.5,4.5,5.0,3.0,2.0,4.0,1.0,null,3.5,3.0,4.5,4.0,4.0,4.5,2.5,3.5,3.0,4.0,null,3.0,null,5.0,3.0,2.5,5.0,null,3.0,3.0,4.0,4.5,5.0,4.5,4.5,3.0,5.0,4.0,4.5,2.5,3.75,3.0,1.0,4.0,2.75,2.5,null,4.0,2.5,3.0,2.5,4.0,2.0,3.0,3.0,5.0,4.0,4.0,4.0,4.0,1.0,4.0,5.0,2.0,5.0,3.5,3.0,3.5,3.5,5.0,2.5,4.0,4.0,2.0,4.5,3.5,null,1.0,5.0,5.0,4.5,5.0,3.0,5.0,2.0,2.0,1.0,1.5,3.5,2.0,5.0,5.0,2.0,4.0,4.0,4.0,2.5,4.5,3.0,3.0,3.0,3.0,4.0,5.0,3.0,4.0,4.5,1.0,3.5,4.0,5.0,4.0,3.0,3.0,3.0,null,4.0,1.0,1.0,2.0,4.5,3.0,5.0,3.5,4.0,2.0,5.0,5.0,5.0,5.0,3.0,5.0,3.0,3.0,3.0,4.0,5.0,5.0,1.0,4.0,3.0,4.0,4.0,5.0,2.0,4.0,5.0,1.5,null,4.0,3.0,3.5,4.0,5.0,4.0,null,4.0,4.0,3.0,5.0,4.0,4.0,4.0,5.0,4.0,5.0,2.0,3.0,3.0,4.5,4.5,5.0,4.0,5.0,4.0,1.0,4.0,null,5.0,5.0,4.0,4.0,4.0,4.0,null,4.0,3.5,5.0,2.0,4.0,1.0,5.0,5.0,3.5,2.5,2.0,3.0,null,3.5,3.0,2.5,3.0,null,4.0,4.0,5.0,4.0,4.0,4.0,3.0,2.0,4.0,4.0,3.0,3.0,4.0,2.0,4.0,4.0,4.0,null,null,null,null,4.0,5.0,4.0,2.0,4.0,4.0,4.0,null,4.0,3.0,2.5,5.0,4.0,4.0,5.0,4.0,4.0,4.0,4.0,4.0,4.0,4.5,4.0,4.0,4.0,4.0,5.0,5.0,3.0,4.0,4.0,4.5,3.0,null,null,null,null,5.0,2.5,1.0,2.0,null,2.5,3.0,4.0,null,2.0,3.0,4.0,3.0,3.0,5.0,4.0,5.0,5.0,5.0,null,1.5,3.5,4.0,3.5,4.0,null,5.0,5.0,4.0,3.0,null,null,4.0,null,null,null,5.0,null,3.0,3.0,4.0,4.0,4.0,4.0,4.0,4.0,3.0,3.0,3.0,3.0,4.75,5.0,3.0,4.0,2.5,2.5,2.5,3.0,3.0,3.0,3.0,4.0,3.0,3.5,4.0,3.0,null,null,null,null,2.5,5.0,5.0,3.0,4.0,2.5,2.0,3.0,3.0,4.0,3.0,4.0,3.0,2.0,4.5,4.0,4.0,4.0,4.5,4.0,4.0,4.0,4.5,4.5,2.0,4.0],\"xaxis\":\"x\",\"yaxis\":\"y\",\"type\":\"histogram\"}],                        {\"template\":{\"data\":{\"histogram2dcontour\":[{\"type\":\"histogram2dcontour\",\"colorbar\":{\"outlinewidth\":0,\"ticks\":\"\"},\"colorscale\":[[0.0,\"#0d0887\"],[0.1111111111111111,\"#46039f\"],[0.2222222222222222,\"#7201a8\"],[0.3333333333333333,\"#9c179e\"],[0.4444444444444444,\"#bd3786\"],[0.5555555555555556,\"#d8576b\"],[0.6666666666666666,\"#ed7953\"],[0.7777777777777778,\"#fb9f3a\"],[0.8888888888888888,\"#fdca26\"],[1.0,\"#f0f921\"]]}],\"choropleth\":[{\"type\":\"choropleth\",\"colorbar\":{\"outlinewidth\":0,\"ticks\":\"\"}}],\"histogram2d\":[{\"type\":\"histogram2d\",\"colorbar\":{\"outlinewidth\":0,\"ticks\":\"\"},\"colorscale\":[[0.0,\"#0d0887\"],[0.1111111111111111,\"#46039f\"],[0.2222222222222222,\"#7201a8\"],[0.3333333333333333,\"#9c179e\"],[0.4444444444444444,\"#bd3786\"],[0.5555555555555556,\"#d8576b\"],[0.6666666666666666,\"#ed7953\"],[0.7777777777777778,\"#fb9f3a\"],[0.8888888888888888,\"#fdca26\"],[1.0,\"#f0f921\"]]}],\"heatmap\":[{\"type\":\"heatmap\",\"colorbar\":{\"outlinewidth\":0,\"ticks\":\"\"},\"colorscale\":[[0.0,\"#0d0887\"],[0.1111111111111111,\"#46039f\"],[0.2222222222222222,\"#7201a8\"],[0.3333333333333333,\"#9c179e\"],[0.4444444444444444,\"#bd3786\"],[0.5555555555555556,\"#d8576b\"],[0.6666666666666666,\"#ed7953\"],[0.7777777777777778,\"#fb9f3a\"],[0.8888888888888888,\"#fdca26\"],[1.0,\"#f0f921\"]]}],\"heatmapgl\":[{\"type\":\"heatmapgl\",\"colorbar\":{\"outlinewidth\":0,\"ticks\":\"\"},\"colorscale\":[[0.0,\"#0d0887\"],[0.1111111111111111,\"#46039f\"],[0.2222222222222222,\"#7201a8\"],[0.3333333333333333,\"#9c179e\"],[0.4444444444444444,\"#bd3786\"],[0.5555555555555556,\"#d8576b\"],[0.6666666666666666,\"#ed7953\"],[0.7777777777777778,\"#fb9f3a\"],[0.8888888888888888,\"#fdca26\"],[1.0,\"#f0f921\"]]}],\"contourcarpet\":[{\"type\":\"contourcarpet\",\"colorbar\":{\"outlinewidth\":0,\"ticks\":\"\"}}],\"contour\":[{\"type\":\"contour\",\"colorbar\":{\"outlinewidth\":0,\"ticks\":\"\"},\"colorscale\":[[0.0,\"#0d0887\"],[0.1111111111111111,\"#46039f\"],[0.2222222222222222,\"#7201a8\"],[0.3333333333333333,\"#9c179e\"],[0.4444444444444444,\"#bd3786\"],[0.5555555555555556,\"#d8576b\"],[0.6666666666666666,\"#ed7953\"],[0.7777777777777778,\"#fb9f3a\"],[0.8888888888888888,\"#fdca26\"],[1.0,\"#f0f921\"]]}],\"surface\":[{\"type\":\"surface\",\"colorbar\":{\"outlinewidth\":0,\"ticks\":\"\"},\"colorscale\":[[0.0,\"#0d0887\"],[0.1111111111111111,\"#46039f\"],[0.2222222222222222,\"#7201a8\"],[0.3333333333333333,\"#9c179e\"],[0.4444444444444444,\"#bd3786\"],[0.5555555555555556,\"#d8576b\"],[0.6666666666666666,\"#ed7953\"],[0.7777777777777778,\"#fb9f3a\"],[0.8888888888888888,\"#fdca26\"],[1.0,\"#f0f921\"]]}],\"mesh3d\":[{\"type\":\"mesh3d\",\"colorbar\":{\"outlinewidth\":0,\"ticks\":\"\"}}],\"scatter\":[{\"fillpattern\":{\"fillmode\":\"overlay\",\"size\":10,\"solidity\":0.2},\"type\":\"scatter\"}],\"parcoords\":[{\"type\":\"parcoords\",\"line\":{\"colorbar\":{\"outlinewidth\":0,\"ticks\":\"\"}}}],\"scatterpolargl\":[{\"type\":\"scatterpolargl\",\"marker\":{\"colorbar\":{\"outlinewidth\":0,\"ticks\":\"\"}}}],\"bar\":[{\"error_x\":{\"color\":\"#2a3f5f\"},\"error_y\":{\"color\":\"#2a3f5f\"},\"marker\":{\"line\":{\"color\":\"#E5ECF6\",\"width\":0.5},\"pattern\":{\"fillmode\":\"overlay\",\"size\":10,\"solidity\":0.2}},\"type\":\"bar\"}],\"scattergeo\":[{\"type\":\"scattergeo\",\"marker\":{\"colorbar\":{\"outlinewidth\":0,\"ticks\":\"\"}}}],\"scatterpolar\":[{\"type\":\"scatterpolar\",\"marker\":{\"colorbar\":{\"outlinewidth\":0,\"ticks\":\"\"}}}],\"histogram\":[{\"marker\":{\"pattern\":{\"fillmode\":\"overlay\",\"size\":10,\"solidity\":0.2}},\"type\":\"histogram\"}],\"scattergl\":[{\"type\":\"scattergl\",\"marker\":{\"colorbar\":{\"outlinewidth\":0,\"ticks\":\"\"}}}],\"scatter3d\":[{\"type\":\"scatter3d\",\"line\":{\"colorbar\":{\"outlinewidth\":0,\"ticks\":\"\"}},\"marker\":{\"colorbar\":{\"outlinewidth\":0,\"ticks\":\"\"}}}],\"scattermapbox\":[{\"type\":\"scattermapbox\",\"marker\":{\"colorbar\":{\"outlinewidth\":0,\"ticks\":\"\"}}}],\"scatterternary\":[{\"type\":\"scatterternary\",\"marker\":{\"colorbar\":{\"outlinewidth\":0,\"ticks\":\"\"}}}],\"scattercarpet\":[{\"type\":\"scattercarpet\",\"marker\":{\"colorbar\":{\"outlinewidth\":0,\"ticks\":\"\"}}}],\"carpet\":[{\"aaxis\":{\"endlinecolor\":\"#2a3f5f\",\"gridcolor\":\"white\",\"linecolor\":\"white\",\"minorgridcolor\":\"white\",\"startlinecolor\":\"#2a3f5f\"},\"baxis\":{\"endlinecolor\":\"#2a3f5f\",\"gridcolor\":\"white\",\"linecolor\":\"white\",\"minorgridcolor\":\"white\",\"startlinecolor\":\"#2a3f5f\"},\"type\":\"carpet\"}],\"table\":[{\"cells\":{\"fill\":{\"color\":\"#EBF0F8\"},\"line\":{\"color\":\"white\"}},\"header\":{\"fill\":{\"color\":\"#C8D4E3\"},\"line\":{\"color\":\"white\"}},\"type\":\"table\"}],\"barpolar\":[{\"marker\":{\"line\":{\"color\":\"#E5ECF6\",\"width\":0.5},\"pattern\":{\"fillmode\":\"overlay\",\"size\":10,\"solidity\":0.2}},\"type\":\"barpolar\"}],\"pie\":[{\"automargin\":true,\"type\":\"pie\"}]},\"layout\":{\"autotypenumbers\":\"strict\",\"colorway\":[\"#636efa\",\"#EF553B\",\"#00cc96\",\"#ab63fa\",\"#FFA15A\",\"#19d3f3\",\"#FF6692\",\"#B6E880\",\"#FF97FF\",\"#FECB52\"],\"font\":{\"color\":\"#2a3f5f\"},\"hovermode\":\"closest\",\"hoverlabel\":{\"align\":\"left\"},\"paper_bgcolor\":\"white\",\"plot_bgcolor\":\"#E5ECF6\",\"polar\":{\"bgcolor\":\"#E5ECF6\",\"angularaxis\":{\"gridcolor\":\"white\",\"linecolor\":\"white\",\"ticks\":\"\"},\"radialaxis\":{\"gridcolor\":\"white\",\"linecolor\":\"white\",\"ticks\":\"\"}},\"ternary\":{\"bgcolor\":\"#E5ECF6\",\"aaxis\":{\"gridcolor\":\"white\",\"linecolor\":\"white\",\"ticks\":\"\"},\"baxis\":{\"gridcolor\":\"white\",\"linecolor\":\"white\",\"ticks\":\"\"},\"caxis\":{\"gridcolor\":\"white\",\"linecolor\":\"white\",\"ticks\":\"\"}},\"coloraxis\":{\"colorbar\":{\"outlinewidth\":0,\"ticks\":\"\"}},\"colorscale\":{\"sequential\":[[0.0,\"#0d0887\"],[0.1111111111111111,\"#46039f\"],[0.2222222222222222,\"#7201a8\"],[0.3333333333333333,\"#9c179e\"],[0.4444444444444444,\"#bd3786\"],[0.5555555555555556,\"#d8576b\"],[0.6666666666666666,\"#ed7953\"],[0.7777777777777778,\"#fb9f3a\"],[0.8888888888888888,\"#fdca26\"],[1.0,\"#f0f921\"]],\"sequentialminus\":[[0.0,\"#0d0887\"],[0.1111111111111111,\"#46039f\"],[0.2222222222222222,\"#7201a8\"],[0.3333333333333333,\"#9c179e\"],[0.4444444444444444,\"#bd3786\"],[0.5555555555555556,\"#d8576b\"],[0.6666666666666666,\"#ed7953\"],[0.7777777777777778,\"#fb9f3a\"],[0.8888888888888888,\"#fdca26\"],[1.0,\"#f0f921\"]],\"diverging\":[[0,\"#8e0152\"],[0.1,\"#c51b7d\"],[0.2,\"#de77ae\"],[0.3,\"#f1b6da\"],[0.4,\"#fde0ef\"],[0.5,\"#f7f7f7\"],[0.6,\"#e6f5d0\"],[0.7,\"#b8e186\"],[0.8,\"#7fbc41\"],[0.9,\"#4d9221\"],[1,\"#276419\"]]},\"xaxis\":{\"gridcolor\":\"white\",\"linecolor\":\"white\",\"ticks\":\"\",\"title\":{\"standoff\":15},\"zerolinecolor\":\"white\",\"automargin\":true,\"zerolinewidth\":2},\"yaxis\":{\"gridcolor\":\"white\",\"linecolor\":\"white\",\"ticks\":\"\",\"title\":{\"standoff\":15},\"zerolinecolor\":\"white\",\"automargin\":true,\"zerolinewidth\":2},\"scene\":{\"xaxis\":{\"backgroundcolor\":\"#E5ECF6\",\"gridcolor\":\"white\",\"linecolor\":\"white\",\"showbackground\":true,\"ticks\":\"\",\"zerolinecolor\":\"white\",\"gridwidth\":2},\"yaxis\":{\"backgroundcolor\":\"#E5ECF6\",\"gridcolor\":\"white\",\"linecolor\":\"white\",\"showbackground\":true,\"ticks\":\"\",\"zerolinecolor\":\"white\",\"gridwidth\":2},\"zaxis\":{\"backgroundcolor\":\"#E5ECF6\",\"gridcolor\":\"white\",\"linecolor\":\"white\",\"showbackground\":true,\"ticks\":\"\",\"zerolinecolor\":\"white\",\"gridwidth\":2}},\"shapedefaults\":{\"line\":{\"color\":\"#2a3f5f\"}},\"annotationdefaults\":{\"arrowcolor\":\"#2a3f5f\",\"arrowhead\":0,\"arrowwidth\":1},\"geo\":{\"bgcolor\":\"white\",\"landcolor\":\"#E5ECF6\",\"subunitcolor\":\"white\",\"showland\":true,\"showlakes\":true,\"lakecolor\":\"white\"},\"title\":{\"x\":0.05},\"mapbox\":{\"style\":\"light\"}}},\"xaxis\":{\"anchor\":\"y\",\"domain\":[0.0,1.0],\"title\":{\"text\":\"rating\"}},\"yaxis\":{\"anchor\":\"x\",\"domain\":[0.0,1.0],\"title\":{\"text\":\"count\"}},\"legend\":{\"tracegroupgap\":0},\"margin\":{\"t\":60},\"barmode\":\"relative\"},                        {\"responsive\": true}                    ).then(function(){\n",
       "                            \n",
       "var gd = document.getElementById('174ff4ea-cb46-48db-ade8-d16dc4742783');\n",
       "var x = new MutationObserver(function (mutations, observer) {{\n",
       "        var display = window.getComputedStyle(gd).display;\n",
       "        if (!display || display === 'none') {{\n",
       "            console.log([gd, 'removed!']);\n",
       "            Plotly.purge(gd);\n",
       "            observer.disconnect();\n",
       "        }}\n",
       "}});\n",
       "\n",
       "// Listen for the removal of the full notebook cells\n",
       "var notebookContainer = gd.closest('#notebook-container');\n",
       "if (notebookContainer) {{\n",
       "    x.observe(notebookContainer, {childList: true});\n",
       "}}\n",
       "\n",
       "// Listen for the clearing of the current output cell\n",
       "var outputEl = gd.closest('.output');\n",
       "if (outputEl) {{\n",
       "    x.observe(outputEl, {childList: true});\n",
       "}}\n",
       "\n",
       "                        })                };                });            </script>        </div>"
      ]
     },
     "metadata": {},
     "output_type": "display_data"
    }
   ],
   "source": [
    "px.histogram(Completed, x = \"rating\", nbins=5)"
   ]
  },
  {
   "cell_type": "markdown",
   "id": "e6d50529",
   "metadata": {
    "papermill": {
     "duration": 0.024945,
     "end_time": "2022-06-05T14:41:18.135573",
     "exception": false,
     "start_time": "2022-06-05T14:41:18.110628",
     "status": "completed"
    },
    "tags": []
   },
   "source": [
    "# Format"
   ]
  },
  {
   "cell_type": "code",
   "execution_count": 40,
   "id": "b542c34c",
   "metadata": {
    "execution": {
     "iopub.execute_input": "2022-06-05T14:41:18.189900Z",
     "iopub.status.busy": "2022-06-05T14:41:18.189363Z",
     "iopub.status.idle": "2022-06-05T14:41:18.355763Z",
     "shell.execute_reply": "2022-06-05T14:41:18.355030Z"
    },
    "papermill": {
     "duration": 0.197553,
     "end_time": "2022-06-05T14:41:18.358106",
     "exception": false,
     "start_time": "2022-06-05T14:41:18.160553",
     "status": "completed"
    },
    "tags": []
   },
   "outputs": [
    {
     "data": {
      "text/plain": [
       "<AxesSubplot:xlabel='format', ylabel='count'>"
      ]
     },
     "execution_count": 40,
     "metadata": {},
     "output_type": "execute_result"
    },
    {
     "data": {
      "image/png": "[encoded data removed]",
      "text/plain": [
       "<Figure size 432x288 with 1 Axes>"
      ]
     },
     "metadata": {},
     "output_type": "display_data"
    }
   ],
   "source": [
    "sns.countplot(x = \"format\", data = Completed)"
   ]
  },
  {
   "cell_type": "code",
   "execution_count": 41,
   "id": "4c85657e",
   "metadata": {
    "execution": {
     "iopub.execute_input": "2022-06-05T14:41:18.412666Z",
     "iopub.status.busy": "2022-06-05T14:41:18.412015Z",
     "iopub.status.idle": "2022-06-05T14:41:19.494033Z",
     "shell.execute_reply": "2022-06-05T14:41:19.493243Z"
    },
    "papermill": {
     "duration": 1.111416,
     "end_time": "2022-06-05T14:41:19.495757",
     "exception": false,
     "start_time": "2022-06-05T14:41:18.384341",
     "status": "completed"
    },
    "tags": []
   },
   "outputs": [
    {
     "data": {
      "image/png": "[encoded data removed]",
      "text/plain": [
       "<Figure size 1728x864 with 7 Axes>"
      ]
     },
     "metadata": {},
     "output_type": "display_data"
    }
   ],
   "source": [
    "g = sns.FacetGrid(Completed, col='Completion_year', height=6, col_wrap=4)\n",
    "g.map(sns.histplot, \"format\")\n",
    "plt.show()"
   ]
  },
  {
   "cell_type": "code",
   "execution_count": 42,
   "id": "34e5d84b",
   "metadata": {
    "execution": {
     "iopub.execute_input": "2022-06-05T14:41:19.551082Z",
     "iopub.status.busy": "2022-06-05T14:41:19.550722Z",
     "iopub.status.idle": "2022-06-05T14:41:20.203283Z",
     "shell.execute_reply": "2022-06-05T14:41:20.202797Z"
    },
    "papermill": {
     "duration": 0.682367,
     "end_time": "2022-06-05T14:41:20.205009",
     "exception": false,
     "start_time": "2022-06-05T14:41:19.522642",
     "status": "completed"
    },
    "tags": []
   },
   "outputs": [
    {
     "data": {
      "image/png": "[encoded data removed]",
      "text/plain": [
       "<Figure size 1728x432 with 4 Axes>"
      ]
     },
     "metadata": {},
     "output_type": "display_data"
    }
   ],
   "source": [
    "g = sns.FacetGrid(Completed, col='format', height=6, col_wrap=4)\n",
    "g.map(sns.histplot, \"review\")\n",
    "plt.show()"
   ]
  },
  {
   "cell_type": "code",
   "execution_count": 43,
   "id": "7ba37579",
   "metadata": {
    "execution": {
     "iopub.execute_input": "2022-06-05T14:41:20.259963Z",
     "iopub.status.busy": "2022-06-05T14:41:20.259318Z",
     "iopub.status.idle": "2022-06-05T14:41:21.294374Z",
     "shell.execute_reply": "2022-06-05T14:41:21.293805Z"
    },
    "papermill": {
     "duration": 1.064227,
     "end_time": "2022-06-05T14:41:21.295810",
     "exception": false,
     "start_time": "2022-06-05T14:41:20.231583",
     "status": "completed"
    },
    "tags": []
   },
   "outputs": [
    {
     "data": {
      "image/png": "[encoded data removed]",
      "text/plain": [
       "<Figure size 1728x432 with 4 Axes>"
      ]
     },
     "metadata": {},
     "output_type": "display_data"
    }
   ],
   "source": [
    "g = sns.FacetGrid(Completed, col='format', height=6, col_wrap=4)\n",
    "g.map(sns.histplot, \"rating\")\n",
    "plt.show()"
   ]
  },
  {
   "cell_type": "code",
   "execution_count": 44,
   "id": "9640d2d0",
   "metadata": {
    "execution": {
     "iopub.execute_input": "2022-06-05T14:41:21.348199Z",
     "iopub.status.busy": "2022-06-05T14:41:21.347733Z",
     "iopub.status.idle": "2022-06-05T14:41:21.504909Z",
     "shell.execute_reply": "2022-06-05T14:41:21.504289Z"
    },
    "papermill": {
     "duration": 0.192995,
     "end_time": "2022-06-05T14:41:21.506911",
     "exception": false,
     "start_time": "2022-06-05T14:41:21.313916",
     "status": "completed"
    },
    "tags": []
   },
   "outputs": [
    {
     "data": {
      "text/plain": [
       "<AxesSubplot:xlabel='platform', ylabel='count'>"
      ]
     },
     "execution_count": 44,
     "metadata": {},
     "output_type": "execute_result"
    },
    {
     "data": {
      "image/png": "[encoded data removed]",
      "text/plain": [
       "<Figure size 432x288 with 1 Axes>"
      ]
     },
     "metadata": {},
     "output_type": "display_data"
    }
   ],
   "source": [
    "sns.countplot(x = \"platform\", data = Completed)"
   ]
  },
  {
   "cell_type": "code",
   "execution_count": 45,
   "id": "177bfa9b",
   "metadata": {
    "execution": {
     "iopub.execute_input": "2022-06-05T14:41:21.566914Z",
     "iopub.status.busy": "2022-06-05T14:41:21.566396Z",
     "iopub.status.idle": "2022-06-05T14:41:21.570489Z",
     "shell.execute_reply": "2022-06-05T14:41:21.569963Z"
    },
    "papermill": {
     "duration": 0.035704,
     "end_time": "2022-06-05T14:41:21.572407",
     "exception": false,
     "start_time": "2022-06-05T14:41:21.536703",
     "status": "completed"
    },
    "tags": []
   },
   "outputs": [],
   "source": [
    "df[\"platform\"].replace({\"Youtube\": \"Unknown\"}, inplace = True)"
   ]
  },
  {
   "cell_type": "code",
   "execution_count": 46,
   "id": "ed6a413a",
   "metadata": {
    "execution": {
     "iopub.execute_input": "2022-06-05T14:41:21.630689Z",
     "iopub.status.busy": "2022-06-05T14:41:21.630151Z",
     "iopub.status.idle": "2022-06-05T14:41:23.073288Z",
     "shell.execute_reply": "2022-06-05T14:41:23.072111Z"
    },
    "papermill": {
     "duration": 1.474579,
     "end_time": "2022-06-05T14:41:23.075402",
     "exception": false,
     "start_time": "2022-06-05T14:41:21.600823",
     "status": "completed"
    },
    "tags": []
   },
   "outputs": [
    {
     "data": {
      "image/png": "[encoded data removed]",
      "text/plain": [
       "<Figure size 3024x432 with 7 Axes>"
      ]
     },
     "metadata": {},
     "output_type": "display_data"
    }
   ],
   "source": [
    "g = sns.FacetGrid(Completed, col='Completion_year', height=6)\n",
    "g.map(sns.histplot, \"platform\")\n",
    "plt.show()"
   ]
  },
  {
   "cell_type": "code",
   "execution_count": 47,
   "id": "3634c517",
   "metadata": {
    "execution": {
     "iopub.execute_input": "2022-06-05T14:41:23.115593Z",
     "iopub.status.busy": "2022-06-05T14:41:23.114820Z",
     "iopub.status.idle": "2022-06-05T14:41:23.130383Z",
     "shell.execute_reply": "2022-06-05T14:41:23.129414Z"
    },
    "papermill": {
     "duration": 0.038131,
     "end_time": "2022-06-05T14:41:23.132422",
     "exception": false,
     "start_time": "2022-06-05T14:41:23.094291",
     "status": "completed"
    },
    "tags": []
   },
   "outputs": [
    {
     "data": {
      "text/html": [
       "<div>\n",
       "<style scoped>\n",
       "    .dataframe tbody tr th:only-of-type {\n",
       "        vertical-align: middle;\n",
       "    }\n",
       "\n",
       "    .dataframe tbody tr th {\n",
       "        vertical-align: top;\n",
       "    }\n",
       "\n",
       "    .dataframe thead th {\n",
       "        text-align: right;\n",
       "    }\n",
       "</style>\n",
       "<table border=\"1\" class=\"dataframe\">\n",
       "  <thead>\n",
       "    <tr style=\"text-align: right;\">\n",
       "      <th></th>\n",
       "      <th>publisher</th>\n",
       "      <th>books/reads</th>\n",
       "    </tr>\n",
       "  </thead>\n",
       "  <tbody>\n",
       "    <tr>\n",
       "      <th>0</th>\n",
       "      <td>KADOKAWA</td>\n",
       "      <td>52</td>\n",
       "    </tr>\n",
       "    <tr>\n",
       "      <th>1</th>\n",
       "      <td>Penguin</td>\n",
       "      <td>24</td>\n",
       "    </tr>\n",
       "    <tr>\n",
       "      <th>2</th>\n",
       "      <td>集英社</td>\n",
       "      <td>22</td>\n",
       "    </tr>\n",
       "    <tr>\n",
       "      <th>3</th>\n",
       "      <td>講談社</td>\n",
       "      <td>22</td>\n",
       "    </tr>\n",
       "    <tr>\n",
       "      <th>4</th>\n",
       "      <td>Penguin Random House</td>\n",
       "      <td>20</td>\n",
       "    </tr>\n",
       "    <tr>\n",
       "      <th>5</th>\n",
       "      <td>HarperCollins</td>\n",
       "      <td>17</td>\n",
       "    </tr>\n",
       "    <tr>\n",
       "      <th>6</th>\n",
       "      <td>Macmillan Publishers</td>\n",
       "      <td>17</td>\n",
       "    </tr>\n",
       "    <tr>\n",
       "      <th>7</th>\n",
       "      <td>Orion</td>\n",
       "      <td>13</td>\n",
       "    </tr>\n",
       "    <tr>\n",
       "      <th>8</th>\n",
       "      <td>文藝春秋</td>\n",
       "      <td>12</td>\n",
       "    </tr>\n",
       "    <tr>\n",
       "      <th>9</th>\n",
       "      <td>penguin</td>\n",
       "      <td>11</td>\n",
       "    </tr>\n",
       "  </tbody>\n",
       "</table>\n",
       "</div>"
      ],
      "text/plain": [
       "              publisher  books/reads\n",
       "0              KADOKAWA           52\n",
       "1               Penguin           24\n",
       "2                   集英社           22\n",
       "3                   講談社           22\n",
       "4  Penguin Random House           20\n",
       "5         HarperCollins           17\n",
       "6  Macmillan Publishers           17\n",
       "7                 Orion           13\n",
       "8                  文藝春秋           12\n",
       "9               penguin           11"
      ]
     },
     "execution_count": 47,
     "metadata": {},
     "output_type": "execute_result"
    }
   ],
   "source": [
    "publisher = first_reads[\"publisher\"].value_counts().rename_axis (\"publisher\").reset_index(name = \"books/reads\")\n",
    "publisher[publisher[\"books/reads\"]>1].head(10)"
   ]
  },
  {
   "cell_type": "code",
   "execution_count": 48,
   "id": "ea4656ce",
   "metadata": {
    "execution": {
     "iopub.execute_input": "2022-06-05T14:41:23.192967Z",
     "iopub.status.busy": "2022-06-05T14:41:23.192340Z",
     "iopub.status.idle": "2022-06-05T14:41:23.205920Z",
     "shell.execute_reply": "2022-06-05T14:41:23.205126Z"
    },
    "papermill": {
     "duration": 0.04611,
     "end_time": "2022-06-05T14:41:23.208028",
     "exception": false,
     "start_time": "2022-06-05T14:41:23.161918",
     "status": "completed"
    },
    "tags": []
   },
   "outputs": [
    {
     "data": {
      "text/html": [
       "<div>\n",
       "<style scoped>\n",
       "    .dataframe tbody tr th:only-of-type {\n",
       "        vertical-align: middle;\n",
       "    }\n",
       "\n",
       "    .dataframe tbody tr th {\n",
       "        vertical-align: top;\n",
       "    }\n",
       "\n",
       "    .dataframe thead th {\n",
       "        text-align: right;\n",
       "    }\n",
       "</style>\n",
       "<table border=\"1\" class=\"dataframe\">\n",
       "  <thead>\n",
       "    <tr style=\"text-align: right;\">\n",
       "      <th></th>\n",
       "      <th>Imprint</th>\n",
       "      <th>books/reads</th>\n",
       "    </tr>\n",
       "  </thead>\n",
       "  <tbody>\n",
       "    <tr>\n",
       "      <th>0</th>\n",
       "      <td>角川文庫</td>\n",
       "      <td>22</td>\n",
       "    </tr>\n",
       "    <tr>\n",
       "      <th>1</th>\n",
       "      <td>講談社文庫</td>\n",
       "      <td>19</td>\n",
       "    </tr>\n",
       "    <tr>\n",
       "      <th>2</th>\n",
       "      <td>コバルト文庫</td>\n",
       "      <td>14</td>\n",
       "    </tr>\n",
       "    <tr>\n",
       "      <th>3</th>\n",
       "      <td>Penguin Classics</td>\n",
       "      <td>13</td>\n",
       "    </tr>\n",
       "    <tr>\n",
       "      <th>4</th>\n",
       "      <td>Penguin</td>\n",
       "      <td>13</td>\n",
       "    </tr>\n",
       "    <tr>\n",
       "      <th>5</th>\n",
       "      <td>文春文庫</td>\n",
       "      <td>12</td>\n",
       "    </tr>\n",
       "    <tr>\n",
       "      <th>6</th>\n",
       "      <td>メディアワークス文庫</td>\n",
       "      <td>11</td>\n",
       "    </tr>\n",
       "    <tr>\n",
       "      <th>7</th>\n",
       "      <td>Picador</td>\n",
       "      <td>10</td>\n",
       "    </tr>\n",
       "    <tr>\n",
       "      <th>8</th>\n",
       "      <td>角川ホラー文庫</td>\n",
       "      <td>8</td>\n",
       "    </tr>\n",
       "    <tr>\n",
       "      <th>9</th>\n",
       "      <td>HarperCollins</td>\n",
       "      <td>7</td>\n",
       "    </tr>\n",
       "  </tbody>\n",
       "</table>\n",
       "</div>"
      ],
      "text/plain": [
       "            Imprint  books/reads\n",
       "0              角川文庫           22\n",
       "1             講談社文庫           19\n",
       "2            コバルト文庫           14\n",
       "3  Penguin Classics           13\n",
       "4           Penguin           13\n",
       "5              文春文庫           12\n",
       "6        メディアワークス文庫           11\n",
       "7           Picador           10\n",
       "8           角川ホラー文庫            8\n",
       "9     HarperCollins            7"
      ]
     },
     "execution_count": 48,
     "metadata": {},
     "output_type": "execute_result"
    }
   ],
   "source": [
    "Imprint = first_reads[\"Imprint\"].value_counts().rename_axis (\"Imprint\").reset_index(name = \"books/reads\")\n",
    "Imprint[Imprint[\"books/reads\"]>1].head(10)"
   ]
  },
  {
   "cell_type": "code",
   "execution_count": 49,
   "id": "d0d4da4c",
   "metadata": {
    "execution": {
     "iopub.execute_input": "2022-06-05T14:41:23.268030Z",
     "iopub.status.busy": "2022-06-05T14:41:23.267429Z",
     "iopub.status.idle": "2022-06-05T14:41:23.271743Z",
     "shell.execute_reply": "2022-06-05T14:41:23.270674Z"
    },
    "papermill": {
     "duration": 0.037083,
     "end_time": "2022-06-05T14:41:23.274033",
     "exception": false,
     "start_time": "2022-06-05T14:41:23.236950",
     "status": "completed"
    },
    "tags": []
   },
   "outputs": [],
   "source": [
    "#px.histogram(Completion, x = \"publication_year\", nbins=5)"
   ]
  },
  {
   "cell_type": "code",
   "execution_count": null,
   "id": "81464bbe",
   "metadata": {
    "papermill": {
     "duration": 0.02891,
     "end_time": "2022-06-05T14:41:23.331713",
     "exception": false,
     "start_time": "2022-06-05T14:41:23.302803",
     "status": "completed"
    },
    "tags": []
   },
   "outputs": [],
   "source": []
  },
  {
   "cell_type": "code",
   "execution_count": null,
   "id": "23b08a0d",
   "metadata": {
    "papermill": {
     "duration": 0.030424,
     "end_time": "2022-06-05T14:41:23.390371",
     "exception": false,
     "start_time": "2022-06-05T14:41:23.359947",
     "status": "completed"
    },
    "tags": []
   },
   "outputs": [],
   "source": []
  },
  {
   "cell_type": "code",
   "execution_count": 50,
   "id": "61250c09",
   "metadata": {
    "execution": {
     "iopub.execute_input": "2022-06-05T14:41:23.457470Z",
     "iopub.status.busy": "2022-06-05T14:41:23.457007Z",
     "iopub.status.idle": "2022-06-05T14:41:23.534262Z",
     "shell.execute_reply": "2022-06-05T14:41:23.533441Z"
    },
    "papermill": {
     "duration": 0.11193,
     "end_time": "2022-06-05T14:41:23.536246",
     "exception": false,
     "start_time": "2022-06-05T14:41:23.424316",
     "status": "completed"
    },
    "tags": []
   },
   "outputs": [
    {
     "data": {
      "text/html": [
       "<div>                            <div id=\"3a5dddcd-7297-4cc1-8c59-497c0b94f0a7\" class=\"plotly-graph-div\" style=\"height:525px; width:100%;\"></div>            <script type=\"text/javascript\">                require([\"plotly\"], function(Plotly) {                    window.PLOTLYENV=window.PLOTLYENV || {};                                    if (document.getElementById(\"3a5dddcd-7297-4cc1-8c59-497c0b94f0a7\")) {                    Plotly.newPlot(                        \"3a5dddcd-7297-4cc1-8c59-497c0b94f0a7\",                        [{\"alignmentgroup\":\"True\",\"bingroup\":\"x\",\"hovertemplate\":\"publication_year=%{x}<br>count=%{y}<extra></extra>\",\"legendgroup\":\"\",\"marker\":{\"color\":\"#636efa\",\"pattern\":{\"shape\":\"\"}},\"name\":\"\",\"nbinsx\":5,\"offsetgroup\":\"\",\"orientation\":\"v\",\"showlegend\":false,\"x\":[2019,2022,2022,2016,2015,2015,2018,2022,2019,2021,2017,2017,2014,2014,2016,2017,2017,2019,2021,2004,1991,2015,2009,2017,2016,2016,2010,2009,2009,2019,2019,2018,2022,2012,1993,2019,2018,2015,2016,2015,2021,2020,2021,1986,2019,2020,2012,2005,2021,2016,2021,2017,2011,2013,2000,2018,2008,2018,2014,2014,2011,2020,2019,2019,2001,2017,2012,2012,2012,2012,2007,2019,1992,2014,2014,2014,2014,2016,2012,2012,1992,2017,2016,2015,2019,2021,2015,2012,2017,2010,2017,2012,2021,2018,2020,2018,2018,2021,2016,2017,2017,2015,2019,2020,2018,2021,2014,2016,2016,2012,2021,2017,2020,2020,2021,2021,2017,2020,2019,2018,2016,1995,1995,2019,2015,2021,2016,2021,1993,2017,2015,2021,2015,2017,2019,2020,2020,2020,2019,2014,2007,2007,2019,2019,2019,2009,2011,2001,2021,2020,2019,2006,2006,2015,2017,2018,2019,2017,2021,2014,2011,2011,2020,2019,2000,2015,2016,2017,2014,2014,2022,2003,2006,1998,2012,2019,2015,2017,2017,2017,2016,2018,2017,2016,2016,2015,2018,2013,2014,2014,2018,2017,2012,2013,2011,2015,2016,2013,2011,2017,2015,2017,2017,2006,2005,2005,2005,1996,2016,2020,2006,2006,2015,2009,2008,2003,2003,2013,2016,2017,2016,2017,2014,2014,2015,2014,2013,2016,2013,2009,1990,2012,2013,2015,1990,2017,2017,2009,2013,2018,2014,2014,2019,2006,2009,2008,2006,2005,2004,2017,2016,2008,2011,2010,2012,2008,2013,2017,2016,2016,1971,2013,2019,2012,2014,2014,2016,2012,2008,2014,2011,2010,2012,2003,2002,2013,2016,2014,1989,2009,2003,1992,2002,1999,2001,2014,2014,2017,2017,2010,2012,2012,2011,2011,2018,2011,2008,2014,2008,2007,2017,2016,2009,2007,1992,2011,2011,2016,2017,2010,2007,2019,2016,2017,2017,2017,2016,2015,2016,2014,2017,2016,2013,2012,2011,2012,2012,2012,2011,2011,2011,2017,2013,2005,2004,2012,2011,2012,2013,2014,2014,2011,2011,2011,2011,2010,2011,2009,2008,2008,2008,2008,2007,2007,2007,2007,2006,2006,2006,2005,2005,2005,2004,2005,2004,2008,2016,1990,1984,1985,2011,2015,2013,2013,2013,1994,1994,2019,2016,2008,2012,2012,2011,2011,2010,2009,2009,2008,2010,2010,2014],\"xaxis\":\"x\",\"yaxis\":\"y\",\"type\":\"histogram\"}],                        {\"template\":{\"data\":{\"histogram2dcontour\":[{\"type\":\"histogram2dcontour\",\"colorbar\":{\"outlinewidth\":0,\"ticks\":\"\"},\"colorscale\":[[0.0,\"#0d0887\"],[0.1111111111111111,\"#46039f\"],[0.2222222222222222,\"#7201a8\"],[0.3333333333333333,\"#9c179e\"],[0.4444444444444444,\"#bd3786\"],[0.5555555555555556,\"#d8576b\"],[0.6666666666666666,\"#ed7953\"],[0.7777777777777778,\"#fb9f3a\"],[0.8888888888888888,\"#fdca26\"],[1.0,\"#f0f921\"]]}],\"choropleth\":[{\"type\":\"choropleth\",\"colorbar\":{\"outlinewidth\":0,\"ticks\":\"\"}}],\"histogram2d\":[{\"type\":\"histogram2d\",\"colorbar\":{\"outlinewidth\":0,\"ticks\":\"\"},\"colorscale\":[[0.0,\"#0d0887\"],[0.1111111111111111,\"#46039f\"],[0.2222222222222222,\"#7201a8\"],[0.3333333333333333,\"#9c179e\"],[0.4444444444444444,\"#bd3786\"],[0.5555555555555556,\"#d8576b\"],[0.6666666666666666,\"#ed7953\"],[0.7777777777777778,\"#fb9f3a\"],[0.8888888888888888,\"#fdca26\"],[1.0,\"#f0f921\"]]}],\"heatmap\":[{\"type\":\"heatmap\",\"colorbar\":{\"outlinewidth\":0,\"ticks\":\"\"},\"colorscale\":[[0.0,\"#0d0887\"],[0.1111111111111111,\"#46039f\"],[0.2222222222222222,\"#7201a8\"],[0.3333333333333333,\"#9c179e\"],[0.4444444444444444,\"#bd3786\"],[0.5555555555555556,\"#d8576b\"],[0.6666666666666666,\"#ed7953\"],[0.7777777777777778,\"#fb9f3a\"],[0.8888888888888888,\"#fdca26\"],[1.0,\"#f0f921\"]]}],\"heatmapgl\":[{\"type\":\"heatmapgl\",\"colorbar\":{\"outlinewidth\":0,\"ticks\":\"\"},\"colorscale\":[[0.0,\"#0d0887\"],[0.1111111111111111,\"#46039f\"],[0.2222222222222222,\"#7201a8\"],[0.3333333333333333,\"#9c179e\"],[0.4444444444444444,\"#bd3786\"],[0.5555555555555556,\"#d8576b\"],[0.6666666666666666,\"#ed7953\"],[0.7777777777777778,\"#fb9f3a\"],[0.8888888888888888,\"#fdca26\"],[1.0,\"#f0f921\"]]}],\"contourcarpet\":[{\"type\":\"contourcarpet\",\"colorbar\":{\"outlinewidth\":0,\"ticks\":\"\"}}],\"contour\":[{\"type\":\"contour\",\"colorbar\":{\"outlinewidth\":0,\"ticks\":\"\"},\"colorscale\":[[0.0,\"#0d0887\"],[0.1111111111111111,\"#46039f\"],[0.2222222222222222,\"#7201a8\"],[0.3333333333333333,\"#9c179e\"],[0.4444444444444444,\"#bd3786\"],[0.5555555555555556,\"#d8576b\"],[0.6666666666666666,\"#ed7953\"],[0.7777777777777778,\"#fb9f3a\"],[0.8888888888888888,\"#fdca26\"],[1.0,\"#f0f921\"]]}],\"surface\":[{\"type\":\"surface\",\"colorbar\":{\"outlinewidth\":0,\"ticks\":\"\"},\"colorscale\":[[0.0,\"#0d0887\"],[0.1111111111111111,\"#46039f\"],[0.2222222222222222,\"#7201a8\"],[0.3333333333333333,\"#9c179e\"],[0.4444444444444444,\"#bd3786\"],[0.5555555555555556,\"#d8576b\"],[0.6666666666666666,\"#ed7953\"],[0.7777777777777778,\"#fb9f3a\"],[0.8888888888888888,\"#fdca26\"],[1.0,\"#f0f921\"]]}],\"mesh3d\":[{\"type\":\"mesh3d\",\"colorbar\":{\"outlinewidth\":0,\"ticks\":\"\"}}],\"scatter\":[{\"fillpattern\":{\"fillmode\":\"overlay\",\"size\":10,\"solidity\":0.2},\"type\":\"scatter\"}],\"parcoords\":[{\"type\":\"parcoords\",\"line\":{\"colorbar\":{\"outlinewidth\":0,\"ticks\":\"\"}}}],\"scatterpolargl\":[{\"type\":\"scatterpolargl\",\"marker\":{\"colorbar\":{\"outlinewidth\":0,\"ticks\":\"\"}}}],\"bar\":[{\"error_x\":{\"color\":\"#2a3f5f\"},\"error_y\":{\"color\":\"#2a3f5f\"},\"marker\":{\"line\":{\"color\":\"#E5ECF6\",\"width\":0.5},\"pattern\":{\"fillmode\":\"overlay\",\"size\":10,\"solidity\":0.2}},\"type\":\"bar\"}],\"scattergeo\":[{\"type\":\"scattergeo\",\"marker\":{\"colorbar\":{\"outlinewidth\":0,\"ticks\":\"\"}}}],\"scatterpolar\":[{\"type\":\"scatterpolar\",\"marker\":{\"colorbar\":{\"outlinewidth\":0,\"ticks\":\"\"}}}],\"histogram\":[{\"marker\":{\"pattern\":{\"fillmode\":\"overlay\",\"size\":10,\"solidity\":0.2}},\"type\":\"histogram\"}],\"scattergl\":[{\"type\":\"scattergl\",\"marker\":{\"colorbar\":{\"outlinewidth\":0,\"ticks\":\"\"}}}],\"scatter3d\":[{\"type\":\"scatter3d\",\"line\":{\"colorbar\":{\"outlinewidth\":0,\"ticks\":\"\"}},\"marker\":{\"colorbar\":{\"outlinewidth\":0,\"ticks\":\"\"}}}],\"scattermapbox\":[{\"type\":\"scattermapbox\",\"marker\":{\"colorbar\":{\"outlinewidth\":0,\"ticks\":\"\"}}}],\"scatterternary\":[{\"type\":\"scatterternary\",\"marker\":{\"colorbar\":{\"outlinewidth\":0,\"ticks\":\"\"}}}],\"scattercarpet\":[{\"type\":\"scattercarpet\",\"marker\":{\"colorbar\":{\"outlinewidth\":0,\"ticks\":\"\"}}}],\"carpet\":[{\"aaxis\":{\"endlinecolor\":\"#2a3f5f\",\"gridcolor\":\"white\",\"linecolor\":\"white\",\"minorgridcolor\":\"white\",\"startlinecolor\":\"#2a3f5f\"},\"baxis\":{\"endlinecolor\":\"#2a3f5f\",\"gridcolor\":\"white\",\"linecolor\":\"white\",\"minorgridcolor\":\"white\",\"startlinecolor\":\"#2a3f5f\"},\"type\":\"carpet\"}],\"table\":[{\"cells\":{\"fill\":{\"color\":\"#EBF0F8\"},\"line\":{\"color\":\"white\"}},\"header\":{\"fill\":{\"color\":\"#C8D4E3\"},\"line\":{\"color\":\"white\"}},\"type\":\"table\"}],\"barpolar\":[{\"marker\":{\"line\":{\"color\":\"#E5ECF6\",\"width\":0.5},\"pattern\":{\"fillmode\":\"overlay\",\"size\":10,\"solidity\":0.2}},\"type\":\"barpolar\"}],\"pie\":[{\"automargin\":true,\"type\":\"pie\"}]},\"layout\":{\"autotypenumbers\":\"strict\",\"colorway\":[\"#636efa\",\"#EF553B\",\"#00cc96\",\"#ab63fa\",\"#FFA15A\",\"#19d3f3\",\"#FF6692\",\"#B6E880\",\"#FF97FF\",\"#FECB52\"],\"font\":{\"color\":\"#2a3f5f\"},\"hovermode\":\"closest\",\"hoverlabel\":{\"align\":\"left\"},\"paper_bgcolor\":\"white\",\"plot_bgcolor\":\"#E5ECF6\",\"polar\":{\"bgcolor\":\"#E5ECF6\",\"angularaxis\":{\"gridcolor\":\"white\",\"linecolor\":\"white\",\"ticks\":\"\"},\"radialaxis\":{\"gridcolor\":\"white\",\"linecolor\":\"white\",\"ticks\":\"\"}},\"ternary\":{\"bgcolor\":\"#E5ECF6\",\"aaxis\":{\"gridcolor\":\"white\",\"linecolor\":\"white\",\"ticks\":\"\"},\"baxis\":{\"gridcolor\":\"white\",\"linecolor\":\"white\",\"ticks\":\"\"},\"caxis\":{\"gridcolor\":\"white\",\"linecolor\":\"white\",\"ticks\":\"\"}},\"coloraxis\":{\"colorbar\":{\"outlinewidth\":0,\"ticks\":\"\"}},\"colorscale\":{\"sequential\":[[0.0,\"#0d0887\"],[0.1111111111111111,\"#46039f\"],[0.2222222222222222,\"#7201a8\"],[0.3333333333333333,\"#9c179e\"],[0.4444444444444444,\"#bd3786\"],[0.5555555555555556,\"#d8576b\"],[0.6666666666666666,\"#ed7953\"],[0.7777777777777778,\"#fb9f3a\"],[0.8888888888888888,\"#fdca26\"],[1.0,\"#f0f921\"]],\"sequentialminus\":[[0.0,\"#0d0887\"],[0.1111111111111111,\"#46039f\"],[0.2222222222222222,\"#7201a8\"],[0.3333333333333333,\"#9c179e\"],[0.4444444444444444,\"#bd3786\"],[0.5555555555555556,\"#d8576b\"],[0.6666666666666666,\"#ed7953\"],[0.7777777777777778,\"#fb9f3a\"],[0.8888888888888888,\"#fdca26\"],[1.0,\"#f0f921\"]],\"diverging\":[[0,\"#8e0152\"],[0.1,\"#c51b7d\"],[0.2,\"#de77ae\"],[0.3,\"#f1b6da\"],[0.4,\"#fde0ef\"],[0.5,\"#f7f7f7\"],[0.6,\"#e6f5d0\"],[0.7,\"#b8e186\"],[0.8,\"#7fbc41\"],[0.9,\"#4d9221\"],[1,\"#276419\"]]},\"xaxis\":{\"gridcolor\":\"white\",\"linecolor\":\"white\",\"ticks\":\"\",\"title\":{\"standoff\":15},\"zerolinecolor\":\"white\",\"automargin\":true,\"zerolinewidth\":2},\"yaxis\":{\"gridcolor\":\"white\",\"linecolor\":\"white\",\"ticks\":\"\",\"title\":{\"standoff\":15},\"zerolinecolor\":\"white\",\"automargin\":true,\"zerolinewidth\":2},\"scene\":{\"xaxis\":{\"backgroundcolor\":\"#E5ECF6\",\"gridcolor\":\"white\",\"linecolor\":\"white\",\"showbackground\":true,\"ticks\":\"\",\"zerolinecolor\":\"white\",\"gridwidth\":2},\"yaxis\":{\"backgroundcolor\":\"#E5ECF6\",\"gridcolor\":\"white\",\"linecolor\":\"white\",\"showbackground\":true,\"ticks\":\"\",\"zerolinecolor\":\"white\",\"gridwidth\":2},\"zaxis\":{\"backgroundcolor\":\"#E5ECF6\",\"gridcolor\":\"white\",\"linecolor\":\"white\",\"showbackground\":true,\"ticks\":\"\",\"zerolinecolor\":\"white\",\"gridwidth\":2}},\"shapedefaults\":{\"line\":{\"color\":\"#2a3f5f\"}},\"annotationdefaults\":{\"arrowcolor\":\"#2a3f5f\",\"arrowhead\":0,\"arrowwidth\":1},\"geo\":{\"bgcolor\":\"white\",\"landcolor\":\"#E5ECF6\",\"subunitcolor\":\"white\",\"showland\":true,\"showlakes\":true,\"lakecolor\":\"white\"},\"title\":{\"x\":0.05},\"mapbox\":{\"style\":\"light\"}}},\"xaxis\":{\"anchor\":\"y\",\"domain\":[0.0,1.0],\"title\":{\"text\":\"publication_year\"}},\"yaxis\":{\"anchor\":\"x\",\"domain\":[0.0,1.0],\"title\":{\"text\":\"count\"}},\"legend\":{\"tracegroupgap\":0},\"margin\":{\"t\":60},\"barmode\":\"relative\"},                        {\"responsive\": true}                    ).then(function(){\n",
       "                            \n",
       "var gd = document.getElementById('3a5dddcd-7297-4cc1-8c59-497c0b94f0a7');\n",
       "var x = new MutationObserver(function (mutations, observer) {{\n",
       "        var display = window.getComputedStyle(gd).display;\n",
       "        if (!display || display === 'none') {{\n",
       "            console.log([gd, 'removed!']);\n",
       "            Plotly.purge(gd);\n",
       "            observer.disconnect();\n",
       "        }}\n",
       "}});\n",
       "\n",
       "// Listen for the removal of the full notebook cells\n",
       "var notebookContainer = gd.closest('#notebook-container');\n",
       "if (notebookContainer) {{\n",
       "    x.observe(notebookContainer, {childList: true});\n",
       "}}\n",
       "\n",
       "// Listen for the clearing of the current output cell\n",
       "var outputEl = gd.closest('.output');\n",
       "if (outputEl) {{\n",
       "    x.observe(outputEl, {childList: true});\n",
       "}}\n",
       "\n",
       "                        })                };                });            </script>        </div>"
      ]
     },
     "metadata": {},
     "output_type": "display_data"
    }
   ],
   "source": [
    "px.histogram(df, x = \"publication_year\", nbins=5)"
   ]
  },
  {
   "cell_type": "code",
   "execution_count": 51,
   "id": "1daac388",
   "metadata": {
    "execution": {
     "iopub.execute_input": "2022-06-05T14:41:23.596693Z",
     "iopub.status.busy": "2022-06-05T14:41:23.596179Z",
     "iopub.status.idle": "2022-06-05T14:41:23.732546Z",
     "shell.execute_reply": "2022-06-05T14:41:23.731962Z"
    },
    "papermill": {
     "duration": 0.169103,
     "end_time": "2022-06-05T14:41:23.734785",
     "exception": false,
     "start_time": "2022-06-05T14:41:23.565682",
     "status": "completed"
    },
    "tags": []
   },
   "outputs": [
    {
     "data": {
      "text/plain": [
       "<AxesSubplot:xlabel='type', ylabel='count'>"
      ]
     },
     "execution_count": 51,
     "metadata": {},
     "output_type": "execute_result"
    },
    {
     "data": {
      "image/png": "[encoded data removed]",
      "text/plain": [
       "<Figure size 432x288 with 1 Axes>"
      ]
     },
     "metadata": {},
     "output_type": "display_data"
    }
   ],
   "source": [
    "sns.countplot(x = \"type\", data = df)"
   ]
  },
  {
   "cell_type": "code",
   "execution_count": 52,
   "id": "cd23ba5c",
   "metadata": {
    "execution": {
     "iopub.execute_input": "2022-06-05T14:41:23.795814Z",
     "iopub.status.busy": "2022-06-05T14:41:23.795518Z",
     "iopub.status.idle": "2022-06-05T14:41:23.920353Z",
     "shell.execute_reply": "2022-06-05T14:41:23.919557Z"
    },
    "papermill": {
     "duration": 0.15207,
     "end_time": "2022-06-05T14:41:23.923010",
     "exception": false,
     "start_time": "2022-06-05T14:41:23.770940",
     "status": "completed"
    },
    "tags": []
   },
   "outputs": [
    {
     "data": {
      "text/plain": [
       "<AxesSubplot:xlabel='language', ylabel='count'>"
      ]
     },
     "execution_count": 52,
     "metadata": {},
     "output_type": "execute_result"
    },
    {
     "data": {
      "image/png": "[encoded data removed]",
      "text/plain": [
       "<Figure size 432x288 with 1 Axes>"
      ]
     },
     "metadata": {},
     "output_type": "display_data"
    }
   ],
   "source": [
    "sns.countplot(x = \"language\", data = df)"
   ]
  },
  {
   "cell_type": "code",
   "execution_count": 53,
   "id": "0049c5eb",
   "metadata": {
    "execution": {
     "iopub.execute_input": "2022-06-05T14:41:23.980141Z",
     "iopub.status.busy": "2022-06-05T14:41:23.979796Z",
     "iopub.status.idle": "2022-06-05T14:41:24.066384Z",
     "shell.execute_reply": "2022-06-05T14:41:24.065459Z"
    },
    "papermill": {
     "duration": 0.109254,
     "end_time": "2022-06-05T14:41:24.068160",
     "exception": false,
     "start_time": "2022-06-05T14:41:23.958906",
     "status": "completed"
    },
    "tags": []
   },
   "outputs": [
    {
     "data": {
      "text/html": [
       "<div>                            <div id=\"df42594d-1a17-480e-8ae5-5ab8dded44a9\" class=\"plotly-graph-div\" style=\"height:525px; width:100%;\"></div>            <script type=\"text/javascript\">                require([\"plotly\"], function(Plotly) {                    window.PLOTLYENV=window.PLOTLYENV || {};                                    if (document.getElementById(\"df42594d-1a17-480e-8ae5-5ab8dded44a9\")) {                    Plotly.newPlot(                        \"df42594d-1a17-480e-8ae5-5ab8dded44a9\",                        [{\"alignmentgroup\":\"True\",\"bingroup\":\"x\",\"hovertemplate\":\"language=English<br>genre=%{x}<br>count=%{y}<extra></extra>\",\"legendgroup\":\"English\",\"marker\":{\"color\":\"#636efa\",\"pattern\":{\"shape\":\"\"}},\"name\":\"English\",\"offsetgroup\":\"English\",\"orientation\":\"v\",\"showlegend\":true,\"x\":[\"Realist Literature\",\"Humour/ Satire\",\"Humour/ Satire\",\"Mystery\",\"Mystery\",\"Mystery\",\"Romance\",\"Romance\",\"Mystery\",\"Humour/ Satire\",\"History\",\"Bildungsroman\",\"Mystery\",\"Fashion\",\"Fashion\",\"Mystery\",\"Mystery\",\"Mystery\",\"Mystery\",\"Humour/ Satire\",\"Literary Fiction\",\"Bildungsroman\",\"science\",\"Business\",\"science\",\"Fantasy\",\"Fantasy\",\"Fantasy\",\"Fantasy\",\"Fantasy\",\"Self Help\",\"Fashion\",\"Data\",\"Literary Fiction\",\"Romance\",\"Contemporary\",\"History\",\"Data\",\"Humour/ Satire\",\"Romance\",\"Psychology\",\"Humour/ Satire\",\"Architectural History\",\"Fantasy\",\"Humour/ Satire\",\"Romance\",\"Romance\",\"Fantasy\",\"Literary Fiction\",\"Contemporary\",\"Adventure\",\"Literary Fiction\",\"Literary Fiction\",\"Literary Fiction\",\"Contemporary\",\"Dystopian\",\"Humour/ Satire\",\"Economics\",\"Economics\",\"Economics\",\"History\",\"Data\",\"Data\",\"Magical realism\",\"Adventure\",\"Thriller\",\"Thriller\",\"Thriller\",\"Thriller\",\"Mathematics\",\"Fantasy\",\"Humour/ Satire\",\"Bildungsroman\",\"Bildungsroman\",\"Bildungsroman\",\"Bildungsroman\",\"Thriller\",\"Bildungsroman\",\"Romance\",\"Romance\",\"Fantasy\",\"Science Fiction\",\"Science Fiction\",\"History\",\"Data\",\"Law\",\"Psychology\",\"Thriller\",\"Literary Fiction\",\"Mystery\",\"Fantasy\",\"Realist Literature\",\"Thriller\",\"Mystery\",\"Fantasy\",\"Fantasy\",\"Fantasy\",\"Fantasy\",\"Fantasy\",\"Fantasy\",\"Bildungsroman\",\"Mystery\",\"Humour/ Satire\",\"Humour/ Satire\",\"Self Help\",\"Self Help\",\"Self Help\",\"Self Help\",\"Mystery\",\"Fantasy\",\"Literary Fiction\",\"Mathematics\",\"Contemporary\",\"Fantasy\",\"Psychology\",\"Applied Physics\",\"Romance\",\"Thriller\",\"Humour/ Satire\",\"Economics\",\"Bildungsroman\",\"Self Help\",\"Bildungsroman\",\"Physical Chemistry\",\"Economics\",\"Economics\",\"Mystery\",\"Science Fiction\",\"Mystery\",\"Mystery\",\"Mystery\",\"Mystery\",\"Contemporary\",\"Biographies\",\"Fantasy\",\"Fantasy\",\"Romance\",\"Literary Fiction\",\"Fantasy\",\"Fantasy\",\"Fantasy\",\"Law\",\"Mystery\",\"Essays, Journals & Letters\",\"Horror\",\"Mystery\",\"Mystery\",\"Literary Fiction\",\"Romance\",\"Self Help\",\"Economics\",\"Economics\",\"science\",\"Literary Fiction\",\"Horror\",\"Thriller\",\"Thriller\",\"Romance\",\"Thriller\",\"Economics\",\"Economics\",\"Fantasy\",\"Fantasy\",\"Literary Fiction\",\"Fantasy\",\"Fantasy\",\"Fantasy\",\"Science Fiction\",\"Science Fiction\",\"Fashion\",\"Literary Fiction\",\"Horror\",\"Mystery\",\"Mystery\",\"Contemporary\",\"science\"],\"xaxis\":\"x\",\"yaxis\":\"y\",\"type\":\"histogram\"},{\"alignmentgroup\":\"True\",\"bingroup\":\"x\",\"hovertemplate\":\"language=Japanese<br>genre=%{x}<br>count=%{y}<extra></extra>\",\"legendgroup\":\"Japanese\",\"marker\":{\"color\":\"#EF553B\",\"pattern\":{\"shape\":\"\"}},\"name\":\"Japanese\",\"offsetgroup\":\"Japanese\",\"orientation\":\"v\",\"showlegend\":true,\"x\":[\"Humour/ Satire\",\"Mystery\",\"Contemporary\",\"Fantasy\",\"Romance\",\"Romance\",\"Romance\",\"Romance\",\"Romance\",\"Romance\",\"Romance\",\"Mystery\",\"Fantasy\",\"Romance\",\"Contemporary\",\"Mystery\",\"Mystery\",\"Mystery\",\"Mystery\",\"Humour Encyclopaedias\",\"Contemporary\",\"仕事小説\",\"Mystery\",\"Mystery\",\"Horror\",\"Horror\",\"Horror\",\"Horror\",\"Thriller\",\"Thriller\",\"Thriller\",\"Picture book\",\"Realist Literature\",\"Bildungsroman\",\"Humour/ Satire\",\"Humour/ Satire\",\"Humour/ Satire\",\"Humour/ Satire\",\"Mystery\",\"Mystery\",\"Mystery\",\"Mystery\",\"Mystery\",\"Romance\",\"Mystery\",\"Romance\",\"Fantasy\",\"Contemporary\",\"仕事小説\",\"Mystery\",\"仕事小説\",\"Fantasy\",\"Mystery\",\"Romance\",\"Literary Fiction\",\"Literary Fiction\",\"Mystery\",\"Realist Literature\",\"Fantasy\",\"Realist Literature\",\"Fantasy\",\"経営書\",\"Self Help\",\"Mystery\",\"Literary Fiction\",\"Literary Fiction\",\"Thriller\",\"Contemporary\",\"Fantasy\",\"Fantasy\",\"Fantasy\",\"Fantasy\",\"Fantasy\",\"Mystery\",\"Fantasy\",\"Humour/ Satire\",\"Humour/ Satire\",\"Humour/ Satire\",\"Humour/ Satire\",\"Humour/ Satire\",\"Humour/ Satire\",\"Thriller\",\"Thriller\",\"Thriller\",\"science fiction\",\"Fantasy\",\"Contemporary\",\"Contemporary\",\"Fantasy\",\"Fantasy\",\"Contemporary\",\"Romance\",\"Mystery\",\"Mystery\",\"Mystery\",\"Mystery\",\"Mystery\",\"Mystery\",\"Mystery\",\"Mystery\",\"Mystery\",\"Mystery\",\"Mystery\",\"Mystery\",\"Mystery\",\"Mystery\",\"Mystery\",\"Mystery\",\"Mystery\",\"Mystery\",\"Mystery\",\"Mystery\",\"Romance\",\"Mystery\",\"Horror\",\"Horror\",\"Horror\",\"Horror\",\"Mystery\",\"Thriller\",\"Magical realism\",\"Science Fiction\",\"Fantasy\",\"Mystery\",\"Fantasy\",\"Fantasy\",\"Romance\",\"Self-Esteem\",\"Fantasy\",\"Fantasy\",\"Fantasy\",\"Thriller\",\"経済小説\",\"経済小説\",\"経済小説\",\"経済小説\",\"経済小説\",\"Thriller\",\"Mystery\",\"Romance\",\"Thriller\",\"Thriller\",\"Thriller\",\"Thriller\",\"Romance\",\"Romance\",\"Romance\",\"Bildungsroman\",\"Literary Fiction\",\"Fantasy\",\"Mystery\",\"Mystery\",\"Mystery\",\"Mystery\",\"Mystery\",\"Contemporary\",\"Fantasy\",\"Romance\",\"Romance\",\"Romance\",\"Romance\",\"Romance\",\"Romance\",\"Romance\",\"Romance\",\"Horror\",\"Horror\",\"Horror\",\"Horror\",\"Horror\",\"Mystery\",\"Mystery\",\"Mystery\",\"Romance\",\"Romance\",\"Romance\",\"Romance\",\"Romance\",\"Romance\",\"Romance\",\"Romance\",\"Romance\",\"Romance\",\"Romance\",\"Romance\",\"Romance\",\"Romance\",\"Romance\",\"Romance\",\"Fantasy\",\"Romance\",\"Humour/ Satire\",\"Mystery\",\"Mystery\",\"Romance\",\"Mystery\",\"Mystery\",\"Fantasy\",\"Fantasy\",\"Mystery\",\"Mystery\",\"Realist Literature\",\"仕事小説\",\"Fantasy\",\"Fantasy\",\"Fantasy\",\"Fantasy\",\"Fantasy\",\"Fantasy\",\"Fantasy\",\"Fantasy\",\"Fantasy\",\"Fantasy\",\"Humour/ Satire\",\"Mystery\"],\"xaxis\":\"x\",\"yaxis\":\"y\",\"type\":\"histogram\"}],                        {\"template\":{\"data\":{\"histogram2dcontour\":[{\"type\":\"histogram2dcontour\",\"colorbar\":{\"outlinewidth\":0,\"ticks\":\"\"},\"colorscale\":[[0.0,\"#0d0887\"],[0.1111111111111111,\"#46039f\"],[0.2222222222222222,\"#7201a8\"],[0.3333333333333333,\"#9c179e\"],[0.4444444444444444,\"#bd3786\"],[0.5555555555555556,\"#d8576b\"],[0.6666666666666666,\"#ed7953\"],[0.7777777777777778,\"#fb9f3a\"],[0.8888888888888888,\"#fdca26\"],[1.0,\"#f0f921\"]]}],\"choropleth\":[{\"type\":\"choropleth\",\"colorbar\":{\"outlinewidth\":0,\"ticks\":\"\"}}],\"histogram2d\":[{\"type\":\"histogram2d\",\"colorbar\":{\"outlinewidth\":0,\"ticks\":\"\"},\"colorscale\":[[0.0,\"#0d0887\"],[0.1111111111111111,\"#46039f\"],[0.2222222222222222,\"#7201a8\"],[0.3333333333333333,\"#9c179e\"],[0.4444444444444444,\"#bd3786\"],[0.5555555555555556,\"#d8576b\"],[0.6666666666666666,\"#ed7953\"],[0.7777777777777778,\"#fb9f3a\"],[0.8888888888888888,\"#fdca26\"],[1.0,\"#f0f921\"]]}],\"heatmap\":[{\"type\":\"heatmap\",\"colorbar\":{\"outlinewidth\":0,\"ticks\":\"\"},\"colorscale\":[[0.0,\"#0d0887\"],[0.1111111111111111,\"#46039f\"],[0.2222222222222222,\"#7201a8\"],[0.3333333333333333,\"#9c179e\"],[0.4444444444444444,\"#bd3786\"],[0.5555555555555556,\"#d8576b\"],[0.6666666666666666,\"#ed7953\"],[0.7777777777777778,\"#fb9f3a\"],[0.8888888888888888,\"#fdca26\"],[1.0,\"#f0f921\"]]}],\"heatmapgl\":[{\"type\":\"heatmapgl\",\"colorbar\":{\"outlinewidth\":0,\"ticks\":\"\"},\"colorscale\":[[0.0,\"#0d0887\"],[0.1111111111111111,\"#46039f\"],[0.2222222222222222,\"#7201a8\"],[0.3333333333333333,\"#9c179e\"],[0.4444444444444444,\"#bd3786\"],[0.5555555555555556,\"#d8576b\"],[0.6666666666666666,\"#ed7953\"],[0.7777777777777778,\"#fb9f3a\"],[0.8888888888888888,\"#fdca26\"],[1.0,\"#f0f921\"]]}],\"contourcarpet\":[{\"type\":\"contourcarpet\",\"colorbar\":{\"outlinewidth\":0,\"ticks\":\"\"}}],\"contour\":[{\"type\":\"contour\",\"colorbar\":{\"outlinewidth\":0,\"ticks\":\"\"},\"colorscale\":[[0.0,\"#0d0887\"],[0.1111111111111111,\"#46039f\"],[0.2222222222222222,\"#7201a8\"],[0.3333333333333333,\"#9c179e\"],[0.4444444444444444,\"#bd3786\"],[0.5555555555555556,\"#d8576b\"],[0.6666666666666666,\"#ed7953\"],[0.7777777777777778,\"#fb9f3a\"],[0.8888888888888888,\"#fdca26\"],[1.0,\"#f0f921\"]]}],\"surface\":[{\"type\":\"surface\",\"colorbar\":{\"outlinewidth\":0,\"ticks\":\"\"},\"colorscale\":[[0.0,\"#0d0887\"],[0.1111111111111111,\"#46039f\"],[0.2222222222222222,\"#7201a8\"],[0.3333333333333333,\"#9c179e\"],[0.4444444444444444,\"#bd3786\"],[0.5555555555555556,\"#d8576b\"],[0.6666666666666666,\"#ed7953\"],[0.7777777777777778,\"#fb9f3a\"],[0.8888888888888888,\"#fdca26\"],[1.0,\"#f0f921\"]]}],\"mesh3d\":[{\"type\":\"mesh3d\",\"colorbar\":{\"outlinewidth\":0,\"ticks\":\"\"}}],\"scatter\":[{\"fillpattern\":{\"fillmode\":\"overlay\",\"size\":10,\"solidity\":0.2},\"type\":\"scatter\"}],\"parcoords\":[{\"type\":\"parcoords\",\"line\":{\"colorbar\":{\"outlinewidth\":0,\"ticks\":\"\"}}}],\"scatterpolargl\":[{\"type\":\"scatterpolargl\",\"marker\":{\"colorbar\":{\"outlinewidth\":0,\"ticks\":\"\"}}}],\"bar\":[{\"error_x\":{\"color\":\"#2a3f5f\"},\"error_y\":{\"color\":\"#2a3f5f\"},\"marker\":{\"line\":{\"color\":\"#E5ECF6\",\"width\":0.5},\"pattern\":{\"fillmode\":\"overlay\",\"size\":10,\"solidity\":0.2}},\"type\":\"bar\"}],\"scattergeo\":[{\"type\":\"scattergeo\",\"marker\":{\"colorbar\":{\"outlinewidth\":0,\"ticks\":\"\"}}}],\"scatterpolar\":[{\"type\":\"scatterpolar\",\"marker\":{\"colorbar\":{\"outlinewidth\":0,\"ticks\":\"\"}}}],\"histogram\":[{\"marker\":{\"pattern\":{\"fillmode\":\"overlay\",\"size\":10,\"solidity\":0.2}},\"type\":\"histogram\"}],\"scattergl\":[{\"type\":\"scattergl\",\"marker\":{\"colorbar\":{\"outlinewidth\":0,\"ticks\":\"\"}}}],\"scatter3d\":[{\"type\":\"scatter3d\",\"line\":{\"colorbar\":{\"outlinewidth\":0,\"ticks\":\"\"}},\"marker\":{\"colorbar\":{\"outlinewidth\":0,\"ticks\":\"\"}}}],\"scattermapbox\":[{\"type\":\"scattermapbox\",\"marker\":{\"colorbar\":{\"outlinewidth\":0,\"ticks\":\"\"}}}],\"scatterternary\":[{\"type\":\"scatterternary\",\"marker\":{\"colorbar\":{\"outlinewidth\":0,\"ticks\":\"\"}}}],\"scattercarpet\":[{\"type\":\"scattercarpet\",\"marker\":{\"colorbar\":{\"outlinewidth\":0,\"ticks\":\"\"}}}],\"carpet\":[{\"aaxis\":{\"endlinecolor\":\"#2a3f5f\",\"gridcolor\":\"white\",\"linecolor\":\"white\",\"minorgridcolor\":\"white\",\"startlinecolor\":\"#2a3f5f\"},\"baxis\":{\"endlinecolor\":\"#2a3f5f\",\"gridcolor\":\"white\",\"linecolor\":\"white\",\"minorgridcolor\":\"white\",\"startlinecolor\":\"#2a3f5f\"},\"type\":\"carpet\"}],\"table\":[{\"cells\":{\"fill\":{\"color\":\"#EBF0F8\"},\"line\":{\"color\":\"white\"}},\"header\":{\"fill\":{\"color\":\"#C8D4E3\"},\"line\":{\"color\":\"white\"}},\"type\":\"table\"}],\"barpolar\":[{\"marker\":{\"line\":{\"color\":\"#E5ECF6\",\"width\":0.5},\"pattern\":{\"fillmode\":\"overlay\",\"size\":10,\"solidity\":0.2}},\"type\":\"barpolar\"}],\"pie\":[{\"automargin\":true,\"type\":\"pie\"}]},\"layout\":{\"autotypenumbers\":\"strict\",\"colorway\":[\"#636efa\",\"#EF553B\",\"#00cc96\",\"#ab63fa\",\"#FFA15A\",\"#19d3f3\",\"#FF6692\",\"#B6E880\",\"#FF97FF\",\"#FECB52\"],\"font\":{\"color\":\"#2a3f5f\"},\"hovermode\":\"closest\",\"hoverlabel\":{\"align\":\"left\"},\"paper_bgcolor\":\"white\",\"plot_bgcolor\":\"#E5ECF6\",\"polar\":{\"bgcolor\":\"#E5ECF6\",\"angularaxis\":{\"gridcolor\":\"white\",\"linecolor\":\"white\",\"ticks\":\"\"},\"radialaxis\":{\"gridcolor\":\"white\",\"linecolor\":\"white\",\"ticks\":\"\"}},\"ternary\":{\"bgcolor\":\"#E5ECF6\",\"aaxis\":{\"gridcolor\":\"white\",\"linecolor\":\"white\",\"ticks\":\"\"},\"baxis\":{\"gridcolor\":\"white\",\"linecolor\":\"white\",\"ticks\":\"\"},\"caxis\":{\"gridcolor\":\"white\",\"linecolor\":\"white\",\"ticks\":\"\"}},\"coloraxis\":{\"colorbar\":{\"outlinewidth\":0,\"ticks\":\"\"}},\"colorscale\":{\"sequential\":[[0.0,\"#0d0887\"],[0.1111111111111111,\"#46039f\"],[0.2222222222222222,\"#7201a8\"],[0.3333333333333333,\"#9c179e\"],[0.4444444444444444,\"#bd3786\"],[0.5555555555555556,\"#d8576b\"],[0.6666666666666666,\"#ed7953\"],[0.7777777777777778,\"#fb9f3a\"],[0.8888888888888888,\"#fdca26\"],[1.0,\"#f0f921\"]],\"sequentialminus\":[[0.0,\"#0d0887\"],[0.1111111111111111,\"#46039f\"],[0.2222222222222222,\"#7201a8\"],[0.3333333333333333,\"#9c179e\"],[0.4444444444444444,\"#bd3786\"],[0.5555555555555556,\"#d8576b\"],[0.6666666666666666,\"#ed7953\"],[0.7777777777777778,\"#fb9f3a\"],[0.8888888888888888,\"#fdca26\"],[1.0,\"#f0f921\"]],\"diverging\":[[0,\"#8e0152\"],[0.1,\"#c51b7d\"],[0.2,\"#de77ae\"],[0.3,\"#f1b6da\"],[0.4,\"#fde0ef\"],[0.5,\"#f7f7f7\"],[0.6,\"#e6f5d0\"],[0.7,\"#b8e186\"],[0.8,\"#7fbc41\"],[0.9,\"#4d9221\"],[1,\"#276419\"]]},\"xaxis\":{\"gridcolor\":\"white\",\"linecolor\":\"white\",\"ticks\":\"\",\"title\":{\"standoff\":15},\"zerolinecolor\":\"white\",\"automargin\":true,\"zerolinewidth\":2},\"yaxis\":{\"gridcolor\":\"white\",\"linecolor\":\"white\",\"ticks\":\"\",\"title\":{\"standoff\":15},\"zerolinecolor\":\"white\",\"automargin\":true,\"zerolinewidth\":2},\"scene\":{\"xaxis\":{\"backgroundcolor\":\"#E5ECF6\",\"gridcolor\":\"white\",\"linecolor\":\"white\",\"showbackground\":true,\"ticks\":\"\",\"zerolinecolor\":\"white\",\"gridwidth\":2},\"yaxis\":{\"backgroundcolor\":\"#E5ECF6\",\"gridcolor\":\"white\",\"linecolor\":\"white\",\"showbackground\":true,\"ticks\":\"\",\"zerolinecolor\":\"white\",\"gridwidth\":2},\"zaxis\":{\"backgroundcolor\":\"#E5ECF6\",\"gridcolor\":\"white\",\"linecolor\":\"white\",\"showbackground\":true,\"ticks\":\"\",\"zerolinecolor\":\"white\",\"gridwidth\":2}},\"shapedefaults\":{\"line\":{\"color\":\"#2a3f5f\"}},\"annotationdefaults\":{\"arrowcolor\":\"#2a3f5f\",\"arrowhead\":0,\"arrowwidth\":1},\"geo\":{\"bgcolor\":\"white\",\"landcolor\":\"#E5ECF6\",\"subunitcolor\":\"white\",\"showland\":true,\"showlakes\":true,\"lakecolor\":\"white\"},\"title\":{\"x\":0.05},\"mapbox\":{\"style\":\"light\"}}},\"xaxis\":{\"anchor\":\"y\",\"domain\":[0.0,1.0],\"title\":{\"text\":\"genre\"}},\"yaxis\":{\"anchor\":\"x\",\"domain\":[0.0,1.0],\"title\":{\"text\":\"count\"}},\"legend\":{\"title\":{\"text\":\"language\"},\"tracegroupgap\":0},\"margin\":{\"t\":60},\"barmode\":\"relative\"},                        {\"responsive\": true}                    ).then(function(){\n",
       "                            \n",
       "var gd = document.getElementById('df42594d-1a17-480e-8ae5-5ab8dded44a9');\n",
       "var x = new MutationObserver(function (mutations, observer) {{\n",
       "        var display = window.getComputedStyle(gd).display;\n",
       "        if (!display || display === 'none') {{\n",
       "            console.log([gd, 'removed!']);\n",
       "            Plotly.purge(gd);\n",
       "            observer.disconnect();\n",
       "        }}\n",
       "}});\n",
       "\n",
       "// Listen for the removal of the full notebook cells\n",
       "var notebookContainer = gd.closest('#notebook-container');\n",
       "if (notebookContainer) {{\n",
       "    x.observe(notebookContainer, {childList: true});\n",
       "}}\n",
       "\n",
       "// Listen for the clearing of the current output cell\n",
       "var outputEl = gd.closest('.output');\n",
       "if (outputEl) {{\n",
       "    x.observe(outputEl, {childList: true});\n",
       "}}\n",
       "\n",
       "                        })                };                });            </script>        </div>"
      ]
     },
     "metadata": {},
     "output_type": "display_data"
    }
   ],
   "source": [
    "px.histogram(df, x = \"genre\", color = \"language\")"
   ]
  },
  {
   "cell_type": "code",
   "execution_count": null,
   "id": "36173094",
   "metadata": {
    "papermill": {
     "duration": 0.03007,
     "end_time": "2022-06-05T14:41:24.126804",
     "exception": false,
     "start_time": "2022-06-05T14:41:24.096734",
     "status": "completed"
    },
    "tags": []
   },
   "outputs": [],
   "source": []
  },
  {
   "cell_type": "code",
   "execution_count": null,
   "id": "5fe9438e",
   "metadata": {
    "papermill": {
     "duration": 0.030092,
     "end_time": "2022-06-05T14:41:24.188910",
     "exception": false,
     "start_time": "2022-06-05T14:41:24.158818",
     "status": "completed"
    },
    "tags": []
   },
   "outputs": [],
   "source": []
  }
 ],
 "metadata": {
  "kernelspec": {
   "display_name": "Python 3",
   "language": "python",
   "name": "python3"
  },
  "language_info": {
   "codemirror_mode": {
    "name": "ipython",
    "version": 3
   },
   "file_extension": ".py",
   "mimetype": "text/x-python",
   "name": "python",
   "nbconvert_exporter": "python",
   "pygments_lexer": "ipython3",
   "version": "3.7.12"
  },
  "papermill": {
   "default_parameters": {},
   "duration": 27.175663,
   "end_time": "2022-06-05T14:41:25.142521",
   "environment_variables": {},
   "exception": null,
   "input_path": "__notebook__.ipynb",
   "output_path": "__notebook__.ipynb",
   "parameters": {},
   "start_time": "2022-06-05T14:40:57.966858",
   "version": "2.3.4"
  }
 },
 "nbformat": 4,
 "nbformat_minor": 5
}
