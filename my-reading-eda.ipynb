{
 "cells": [
  {
   "cell_type": "markdown",
   "id": "ffe3437d",
   "metadata": {
    "papermill": {
     "duration": 0.020025,
     "end_time": "2022-06-09T11:58:23.409393",
     "exception": false,
     "start_time": "2022-06-09T11:58:23.389368",
     "status": "completed"
    },
    "tags": []
   },
   "source": [
    "# Introduction\n",
    "Previously, following various trial and error, the data pertaining to my reading habits were collated. In this project, the data will be evaluated, looking not only for patterns in the reading habits. \n",
    "# Overview\n",
    "Prior to the evaluation and visualisation of the data, there may be aspects which may need to be modified and/or cleaned. It should be noted that some aspects of the data was also pre-cleaned in Google Sheets where the original data was recorded. \n",
    "Following this cross sections of the data can be evaluated for patters and trends in the reading habits. It should be noted that this dataset contains non-English characters. This may impact certain tools and libraries. "
   ]
  },
  {
   "cell_type": "code",
   "execution_count": 1,
   "id": "b30d7c98",
   "metadata": {
    "_cell_guid": "b1076dfc-b9ad-4769-8c92-a6c4dae69d19",
    "_uuid": "8f2839f25d086af736a60e9eeb907d3b93b6e0e5",
    "execution": {
     "iopub.execute_input": "2022-06-09T11:58:23.448761Z",
     "iopub.status.busy": "2022-06-09T11:58:23.448306Z",
     "iopub.status.idle": "2022-06-09T11:58:25.606602Z",
     "shell.execute_reply": "2022-06-09T11:58:25.605732Z"
    },
    "papermill": {
     "duration": 2.18109,
     "end_time": "2022-06-09T11:58:25.609159",
     "exception": false,
     "start_time": "2022-06-09T11:58:23.428069",
     "status": "completed"
    },
    "tags": []
   },
   "outputs": [
    {
     "name": "stdout",
     "output_type": "stream",
     "text": [
      "/kaggle/input/my-reading-log/reading log.csv\n"
     ]
    }
   ],
   "source": [
    "# library for data handling\n",
    "import numpy as np \n",
    "import pandas as pd \n",
    "\n",
    "# library specific to kaggle\n",
    "import os\n",
    "for dirname, _, filenames in os.walk('/kaggle/input'):\n",
    "    for filename in filenames:\n",
    "        print(os.path.join(dirname, filename))\n",
    "\n",
    "#libraries for data visualisation \n",
    "import matplotlib.pyplot as plt\n",
    "import seaborn as sns\n",
    "import plotly_express as px\n",
    "\n",
    "#set visualisation\n",
    "%matplotlib inline\n",
    "sns.set_style(\"whitegrid\")"
   ]
  },
  {
   "cell_type": "code",
   "execution_count": 2,
   "id": "424fa3be",
   "metadata": {
    "execution": {
     "iopub.execute_input": "2022-06-09T11:58:25.650458Z",
     "iopub.status.busy": "2022-06-09T11:58:25.649814Z",
     "iopub.status.idle": "2022-06-09T11:58:25.669244Z",
     "shell.execute_reply": "2022-06-09T11:58:25.668531Z"
    },
    "papermill": {
     "duration": 0.042063,
     "end_time": "2022-06-09T11:58:25.671342",
     "exception": false,
     "start_time": "2022-06-09T11:58:25.629279",
     "status": "completed"
    },
    "tags": []
   },
   "outputs": [],
   "source": [
    "# read in data\n",
    "df = pd.read_csv(\"/kaggle/input/my-reading-log/reading log.csv\")"
   ]
  },
  {
   "cell_type": "code",
   "execution_count": 3,
   "id": "39407eff",
   "metadata": {
    "execution": {
     "iopub.execute_input": "2022-06-09T11:58:25.711473Z",
     "iopub.status.busy": "2022-06-09T11:58:25.711021Z",
     "iopub.status.idle": "2022-06-09T11:58:25.737322Z",
     "shell.execute_reply": "2022-06-09T11:58:25.736674Z"
    },
    "papermill": {
     "duration": 0.048314,
     "end_time": "2022-06-09T11:58:25.739015",
     "exception": false,
     "start_time": "2022-06-09T11:58:25.690701",
     "status": "completed"
    },
    "tags": []
   },
   "outputs": [
    {
     "data": {
      "text/html": [
       "<div>\n",
       "<style scoped>\n",
       "    .dataframe tbody tr th:only-of-type {\n",
       "        vertical-align: middle;\n",
       "    }\n",
       "\n",
       "    .dataframe tbody tr th {\n",
       "        vertical-align: top;\n",
       "    }\n",
       "\n",
       "    .dataframe thead th {\n",
       "        text-align: right;\n",
       "    }\n",
       "</style>\n",
       "<table border=\"1\" class=\"dataframe\">\n",
       "  <thead>\n",
       "    <tr style=\"text-align: right;\">\n",
       "      <th></th>\n",
       "      <th>completion date</th>\n",
       "      <th>Title</th>\n",
       "      <th>author(s)</th>\n",
       "      <th>pages</th>\n",
       "      <th>review</th>\n",
       "      <th>rating</th>\n",
       "      <th>status</th>\n",
       "      <th>format</th>\n",
       "      <th>platform</th>\n",
       "      <th>publisher</th>\n",
       "      <th>Imprint</th>\n",
       "      <th>publication date</th>\n",
       "      <th>type</th>\n",
       "      <th>genre</th>\n",
       "      <th>language</th>\n",
       "    </tr>\n",
       "  </thead>\n",
       "  <tbody>\n",
       "    <tr>\n",
       "      <th>0</th>\n",
       "      <td>NaN</td>\n",
       "      <td>ボッコちゃん</td>\n",
       "      <td>星 新一</td>\n",
       "      <td>315</td>\n",
       "      <td>n</td>\n",
       "      <td>2.0</td>\n",
       "      <td>Completed</td>\n",
       "      <td>Physical Book</td>\n",
       "      <td>NaN</td>\n",
       "      <td>新潮社</td>\n",
       "      <td>新潮文庫</td>\n",
       "      <td>25-May-1971</td>\n",
       "      <td>Fiction</td>\n",
       "      <td>science fiction</td>\n",
       "      <td>jp</td>\n",
       "    </tr>\n",
       "    <tr>\n",
       "      <th>1</th>\n",
       "      <td>12-05-20</td>\n",
       "      <td>三毛猫ホームズの推理</td>\n",
       "      <td>赤川 次郎</td>\n",
       "      <td>368</td>\n",
       "      <td>y</td>\n",
       "      <td>3.0</td>\n",
       "      <td>Completed</td>\n",
       "      <td>E-Book</td>\n",
       "      <td>Kindle</td>\n",
       "      <td>KADOKAWA</td>\n",
       "      <td>角川文庫</td>\n",
       "      <td>1-Apr-1984</td>\n",
       "      <td>Fiction</td>\n",
       "      <td>Mystery</td>\n",
       "      <td>jp</td>\n",
       "    </tr>\n",
       "    <tr>\n",
       "      <th>2</th>\n",
       "      <td>06-24-20</td>\n",
       "      <td>ミステリ博物館</td>\n",
       "      <td>赤川 次郎</td>\n",
       "      <td>339</td>\n",
       "      <td>n</td>\n",
       "      <td>4.0</td>\n",
       "      <td>Completed</td>\n",
       "      <td>Physical Book</td>\n",
       "      <td>NaN</td>\n",
       "      <td>KADOKAWA</td>\n",
       "      <td>角川文庫</td>\n",
       "      <td>1-Jul-1985</td>\n",
       "      <td>Fiction</td>\n",
       "      <td>Mystery</td>\n",
       "      <td>jp</td>\n",
       "    </tr>\n",
       "    <tr>\n",
       "      <th>3</th>\n",
       "      <td>02-28-19</td>\n",
       "      <td>Jacques the Fatalist and His Master</td>\n",
       "      <td>Denis Diderot</td>\n",
       "      <td>261</td>\n",
       "      <td>y</td>\n",
       "      <td>2.5</td>\n",
       "      <td>Completed</td>\n",
       "      <td>Physical Book</td>\n",
       "      <td>NaN</td>\n",
       "      <td>Penguin Random House</td>\n",
       "      <td>Penguin Classics</td>\n",
       "      <td>30-Jan-1986</td>\n",
       "      <td>Fiction</td>\n",
       "      <td>Humour/ Satire</td>\n",
       "      <td>jp</td>\n",
       "    </tr>\n",
       "    <tr>\n",
       "      <th>4</th>\n",
       "      <td>02-15-18</td>\n",
       "      <td>卒業</td>\n",
       "      <td>東野 圭吾</td>\n",
       "      <td>371</td>\n",
       "      <td>y</td>\n",
       "      <td>4.5</td>\n",
       "      <td>Completed</td>\n",
       "      <td>Physical Book</td>\n",
       "      <td>NaN</td>\n",
       "      <td>講談社</td>\n",
       "      <td>講談社文庫</td>\n",
       "      <td>8-May-1989</td>\n",
       "      <td>Fiction</td>\n",
       "      <td>Mystery</td>\n",
       "      <td>jp</td>\n",
       "    </tr>\n",
       "  </tbody>\n",
       "</table>\n",
       "</div>"
      ],
      "text/plain": [
       "  completion date                                Title      author(s)  pages  \\\n",
       "0             NaN                               ボッコちゃん           星 新一    315   \n",
       "1        12-05-20                           三毛猫ホームズの推理          赤川 次郎    368   \n",
       "2        06-24-20                              ミステリ博物館          赤川 次郎    339   \n",
       "3        02-28-19  Jacques the Fatalist and His Master  Denis Diderot    261   \n",
       "4        02-15-18                                   卒業          東野 圭吾    371   \n",
       "\n",
       "  review  rating     status         format platform             publisher  \\\n",
       "0      n     2.0  Completed  Physical Book      NaN                   新潮社   \n",
       "1      y     3.0  Completed         E-Book   Kindle              KADOKAWA   \n",
       "2      n     4.0  Completed  Physical Book      NaN              KADOKAWA   \n",
       "3      y     2.5  Completed  Physical Book      NaN  Penguin Random House   \n",
       "4      y     4.5  Completed  Physical Book      NaN                   講談社   \n",
       "\n",
       "            Imprint publication date     type            genre language  \n",
       "0              新潮文庫      25-May-1971  Fiction  science fiction       jp  \n",
       "1              角川文庫       1-Apr-1984  Fiction          Mystery       jp  \n",
       "2              角川文庫       1-Jul-1985  Fiction          Mystery       jp  \n",
       "3  Penguin Classics      30-Jan-1986  Fiction   Humour/ Satire       jp  \n",
       "4             講談社文庫       8-May-1989  Fiction          Mystery       jp  "
      ]
     },
     "execution_count": 3,
     "metadata": {},
     "output_type": "execute_result"
    }
   ],
   "source": [
    "# examine dataset\n",
    "df.head()"
   ]
  },
  {
   "cell_type": "code",
   "execution_count": 4,
   "id": "639111ba",
   "metadata": {
    "execution": {
     "iopub.execute_input": "2022-06-09T11:58:25.779959Z",
     "iopub.status.busy": "2022-06-09T11:58:25.779222Z",
     "iopub.status.idle": "2022-06-09T11:58:25.801884Z",
     "shell.execute_reply": "2022-06-09T11:58:25.800937Z"
    },
    "papermill": {
     "duration": 0.045711,
     "end_time": "2022-06-09T11:58:25.804192",
     "exception": false,
     "start_time": "2022-06-09T11:58:25.758481",
     "status": "completed"
    },
    "tags": []
   },
   "outputs": [
    {
     "name": "stdout",
     "output_type": "stream",
     "text": [
      "<class 'pandas.core.frame.DataFrame'>\n",
      "RangeIndex: 391 entries, 0 to 390\n",
      "Data columns (total 15 columns):\n",
      " #   Column            Non-Null Count  Dtype  \n",
      "---  ------            --------------  -----  \n",
      " 0   completion date   329 non-null    object \n",
      " 1   Title             391 non-null    object \n",
      " 2   author(s)         391 non-null    object \n",
      " 3   pages             391 non-null    int64  \n",
      " 4   review            384 non-null    object \n",
      " 5   rating            345 non-null    float64\n",
      " 6   status            391 non-null    object \n",
      " 7   format            391 non-null    object \n",
      " 8   platform          100 non-null    object \n",
      " 9   publisher         391 non-null    object \n",
      " 10  Imprint           391 non-null    object \n",
      " 11  publication date  391 non-null    object \n",
      " 12  type              391 non-null    object \n",
      " 13  genre             391 non-null    object \n",
      " 14  language          391 non-null    object \n",
      "dtypes: float64(1), int64(1), object(13)\n",
      "memory usage: 45.9+ KB\n"
     ]
    }
   ],
   "source": [
    "# key information on the data\n",
    "df.info()"
   ]
  },
  {
   "cell_type": "code",
   "execution_count": 5,
   "id": "fe2b2f6b",
   "metadata": {
    "execution": {
     "iopub.execute_input": "2022-06-09T11:58:25.845456Z",
     "iopub.status.busy": "2022-06-09T11:58:25.844761Z",
     "iopub.status.idle": "2022-06-09T11:58:25.863136Z",
     "shell.execute_reply": "2022-06-09T11:58:25.862476Z"
    },
    "papermill": {
     "duration": 0.041089,
     "end_time": "2022-06-09T11:58:25.864939",
     "exception": false,
     "start_time": "2022-06-09T11:58:25.823850",
     "status": "completed"
    },
    "tags": []
   },
   "outputs": [
    {
     "data": {
      "text/html": [
       "<div>\n",
       "<style scoped>\n",
       "    .dataframe tbody tr th:only-of-type {\n",
       "        vertical-align: middle;\n",
       "    }\n",
       "\n",
       "    .dataframe tbody tr th {\n",
       "        vertical-align: top;\n",
       "    }\n",
       "\n",
       "    .dataframe thead th {\n",
       "        text-align: right;\n",
       "    }\n",
       "</style>\n",
       "<table border=\"1\" class=\"dataframe\">\n",
       "  <thead>\n",
       "    <tr style=\"text-align: right;\">\n",
       "      <th></th>\n",
       "      <th>pages</th>\n",
       "      <th>rating</th>\n",
       "    </tr>\n",
       "  </thead>\n",
       "  <tbody>\n",
       "    <tr>\n",
       "      <th>count</th>\n",
       "      <td>391.000000</td>\n",
       "      <td>345.000000</td>\n",
       "    </tr>\n",
       "    <tr>\n",
       "      <th>mean</th>\n",
       "      <td>333.826087</td>\n",
       "      <td>3.576087</td>\n",
       "    </tr>\n",
       "    <tr>\n",
       "      <th>std</th>\n",
       "      <td>128.553393</td>\n",
       "      <td>1.057147</td>\n",
       "    </tr>\n",
       "    <tr>\n",
       "      <th>min</th>\n",
       "      <td>31.000000</td>\n",
       "      <td>1.000000</td>\n",
       "    </tr>\n",
       "    <tr>\n",
       "      <th>25%</th>\n",
       "      <td>256.000000</td>\n",
       "      <td>3.000000</td>\n",
       "    </tr>\n",
       "    <tr>\n",
       "      <th>50%</th>\n",
       "      <td>320.000000</td>\n",
       "      <td>4.000000</td>\n",
       "    </tr>\n",
       "    <tr>\n",
       "      <th>75%</th>\n",
       "      <td>384.000000</td>\n",
       "      <td>4.000000</td>\n",
       "    </tr>\n",
       "    <tr>\n",
       "      <th>max</th>\n",
       "      <td>912.000000</td>\n",
       "      <td>5.000000</td>\n",
       "    </tr>\n",
       "  </tbody>\n",
       "</table>\n",
       "</div>"
      ],
      "text/plain": [
       "            pages      rating\n",
       "count  391.000000  345.000000\n",
       "mean   333.826087    3.576087\n",
       "std    128.553393    1.057147\n",
       "min     31.000000    1.000000\n",
       "25%    256.000000    3.000000\n",
       "50%    320.000000    4.000000\n",
       "75%    384.000000    4.000000\n",
       "max    912.000000    5.000000"
      ]
     },
     "execution_count": 5,
     "metadata": {},
     "output_type": "execute_result"
    }
   ],
   "source": [
    "# descriptive stats of the data \n",
    "df.describe()"
   ]
  },
  {
   "cell_type": "markdown",
   "id": "7ca37516",
   "metadata": {
    "papermill": {
     "duration": 0.019559,
     "end_time": "2022-06-09T11:58:25.904489",
     "exception": false,
     "start_time": "2022-06-09T11:58:25.884930",
     "status": "completed"
    },
    "tags": []
   },
   "source": [
    "# Evaluate variables\n",
    "\n",
    "There are some aspects such as title which are too unique and thus very little improvements can be made for such a variable. Focusing on more categorical variables, errors should be minimised as much as possible to ensure an effective analysis of the data.  Working through the variables, the following changes were made to the data: "
   ]
  },
  {
   "cell_type": "code",
   "execution_count": 6,
   "id": "da3675ef",
   "metadata": {
    "execution": {
     "iopub.execute_input": "2022-06-09T11:58:25.946340Z",
     "iopub.status.busy": "2022-06-09T11:58:25.945677Z",
     "iopub.status.idle": "2022-06-09T11:58:26.019068Z",
     "shell.execute_reply": "2022-06-09T11:58:26.018120Z"
    },
    "papermill": {
     "duration": 0.096826,
     "end_time": "2022-06-09T11:58:26.021416",
     "exception": false,
     "start_time": "2022-06-09T11:58:25.924590",
     "status": "completed"
    },
    "tags": []
   },
   "outputs": [],
   "source": [
    "# ammend publication dates\n",
    "df['publication date'] = pd.to_datetime(df['publication date'])\n",
    "df['publication_year'] = df['publication date'].dt.year\n",
    "df['publication_month'] = df['publication date'].dt.month\n",
    "\n",
    "# ammend completion dates\n",
    "df['completion date'] = pd.to_datetime(df['completion date'])\n",
    "df['completion_year'] = df['completion date'].dt.year\n",
    "df['completion_month'] = df['completion date'].dt.month"
   ]
  },
  {
   "cell_type": "code",
   "execution_count": 7,
   "id": "dd17daa1",
   "metadata": {
    "execution": {
     "iopub.execute_input": "2022-06-09T11:58:26.063080Z",
     "iopub.status.busy": "2022-06-09T11:58:26.062714Z",
     "iopub.status.idle": "2022-06-09T11:58:26.069031Z",
     "shell.execute_reply": "2022-06-09T11:58:26.068177Z"
    },
    "papermill": {
     "duration": 0.029441,
     "end_time": "2022-06-09T11:58:26.070890",
     "exception": false,
     "start_time": "2022-06-09T11:58:26.041449",
     "status": "completed"
    },
    "tags": []
   },
   "outputs": [
    {
     "data": {
      "text/plain": [
       "62"
      ]
     },
     "execution_count": 7,
     "metadata": {},
     "output_type": "execute_result"
    }
   ],
   "source": [
    "# number of entries with no completion date (includes DNF and unknow completion date books)\n",
    "sum(df[\"completion date\"].isnull())"
   ]
  },
  {
   "cell_type": "code",
   "execution_count": 8,
   "id": "8502c80c",
   "metadata": {
    "execution": {
     "iopub.execute_input": "2022-06-09T11:58:26.114064Z",
     "iopub.status.busy": "2022-06-09T11:58:26.113451Z",
     "iopub.status.idle": "2022-06-09T11:58:26.135990Z",
     "shell.execute_reply": "2022-06-09T11:58:26.135376Z"
    },
    "papermill": {
     "duration": 0.045801,
     "end_time": "2022-06-09T11:58:26.137691",
     "exception": false,
     "start_time": "2022-06-09T11:58:26.091890",
     "status": "completed"
    },
    "tags": []
   },
   "outputs": [
    {
     "data": {
      "text/html": [
       "<div>\n",
       "<style scoped>\n",
       "    .dataframe tbody tr th:only-of-type {\n",
       "        vertical-align: middle;\n",
       "    }\n",
       "\n",
       "    .dataframe tbody tr th {\n",
       "        vertical-align: top;\n",
       "    }\n",
       "\n",
       "    .dataframe thead th {\n",
       "        text-align: right;\n",
       "    }\n",
       "</style>\n",
       "<table border=\"1\" class=\"dataframe\">\n",
       "  <thead>\n",
       "    <tr style=\"text-align: right;\">\n",
       "      <th></th>\n",
       "      <th>completion date</th>\n",
       "      <th>Title</th>\n",
       "      <th>author(s)</th>\n",
       "      <th>pages</th>\n",
       "      <th>review</th>\n",
       "      <th>rating</th>\n",
       "      <th>status</th>\n",
       "      <th>format</th>\n",
       "      <th>platform</th>\n",
       "      <th>publisher</th>\n",
       "      <th>Imprint</th>\n",
       "      <th>publication date</th>\n",
       "      <th>type</th>\n",
       "      <th>genre</th>\n",
       "      <th>language</th>\n",
       "      <th>publication_year</th>\n",
       "      <th>publication_month</th>\n",
       "      <th>completion_year</th>\n",
       "      <th>completion_month</th>\n",
       "    </tr>\n",
       "  </thead>\n",
       "  <tbody>\n",
       "    <tr>\n",
       "      <th>0</th>\n",
       "      <td>NaT</td>\n",
       "      <td>ボッコちゃん</td>\n",
       "      <td>星 新一</td>\n",
       "      <td>315</td>\n",
       "      <td>n</td>\n",
       "      <td>2.0</td>\n",
       "      <td>Completed</td>\n",
       "      <td>Physical Book</td>\n",
       "      <td>NaN</td>\n",
       "      <td>新潮社</td>\n",
       "      <td>新潮文庫</td>\n",
       "      <td>1971-05-25</td>\n",
       "      <td>Fiction</td>\n",
       "      <td>science fiction</td>\n",
       "      <td>jp</td>\n",
       "      <td>1971</td>\n",
       "      <td>5</td>\n",
       "      <td>NaN</td>\n",
       "      <td>NaN</td>\n",
       "    </tr>\n",
       "    <tr>\n",
       "      <th>6</th>\n",
       "      <td>NaT</td>\n",
       "      <td>注文の多い料理店</td>\n",
       "      <td>宮沢 賢治</td>\n",
       "      <td>358</td>\n",
       "      <td>n</td>\n",
       "      <td>NaN</td>\n",
       "      <td>Completed</td>\n",
       "      <td>Physical Book</td>\n",
       "      <td>NaN</td>\n",
       "      <td>新潮社</td>\n",
       "      <td>新潮文庫</td>\n",
       "      <td>1990-05-29</td>\n",
       "      <td>Fiction</td>\n",
       "      <td>Fantasy</td>\n",
       "      <td>jp</td>\n",
       "      <td>1990</td>\n",
       "      <td>5</td>\n",
       "      <td>NaN</td>\n",
       "      <td>NaN</td>\n",
       "    </tr>\n",
       "    <tr>\n",
       "      <th>21</th>\n",
       "      <td>NaT</td>\n",
       "      <td>どちらかが彼女を殺した</td>\n",
       "      <td>東野 圭吾</td>\n",
       "      <td>356</td>\n",
       "      <td>y</td>\n",
       "      <td>5.0</td>\n",
       "      <td>Completed</td>\n",
       "      <td>Physical Book</td>\n",
       "      <td>NaN</td>\n",
       "      <td>講談社</td>\n",
       "      <td>講談社文庫</td>\n",
       "      <td>1999-05-14</td>\n",
       "      <td>Fiction</td>\n",
       "      <td>Mystery</td>\n",
       "      <td>jp</td>\n",
       "      <td>1999</td>\n",
       "      <td>5</td>\n",
       "      <td>NaN</td>\n",
       "      <td>NaN</td>\n",
       "    </tr>\n",
       "    <tr>\n",
       "      <th>25</th>\n",
       "      <td>NaT</td>\n",
       "      <td>悪意</td>\n",
       "      <td>東野 圭吾</td>\n",
       "      <td>376</td>\n",
       "      <td>y</td>\n",
       "      <td>5.0</td>\n",
       "      <td>Completed</td>\n",
       "      <td>Physical Book</td>\n",
       "      <td>NaN</td>\n",
       "      <td>講談社</td>\n",
       "      <td>講談社文庫</td>\n",
       "      <td>2001-01-17</td>\n",
       "      <td>Fiction</td>\n",
       "      <td>Mystery</td>\n",
       "      <td>jp</td>\n",
       "      <td>2001</td>\n",
       "      <td>1</td>\n",
       "      <td>NaN</td>\n",
       "      <td>NaN</td>\n",
       "    </tr>\n",
       "    <tr>\n",
       "      <th>26</th>\n",
       "      <td>NaT</td>\n",
       "      <td>A Study in Scarlet &amp; The Sign of the Four</td>\n",
       "      <td>Sir Arthur Conan Doyle</td>\n",
       "      <td>224</td>\n",
       "      <td>n</td>\n",
       "      <td>4.0</td>\n",
       "      <td>Completed</td>\n",
       "      <td>Physical Book</td>\n",
       "      <td>NaN</td>\n",
       "      <td>Wordsworth Editions</td>\n",
       "      <td>Wordsworth Editions</td>\n",
       "      <td>2001-12-05</td>\n",
       "      <td>Fiction</td>\n",
       "      <td>Mystery</td>\n",
       "      <td>eng</td>\n",
       "      <td>2001</td>\n",
       "      <td>12</td>\n",
       "      <td>NaN</td>\n",
       "      <td>NaN</td>\n",
       "    </tr>\n",
       "  </tbody>\n",
       "</table>\n",
       "</div>"
      ],
      "text/plain": [
       "   completion date                                      Title  \\\n",
       "0              NaT                                     ボッコちゃん   \n",
       "6              NaT                                   注文の多い料理店   \n",
       "21             NaT                                どちらかが彼女を殺した   \n",
       "25             NaT                                         悪意   \n",
       "26             NaT  A Study in Scarlet & The Sign of the Four   \n",
       "\n",
       "                 author(s)  pages review  rating     status         format  \\\n",
       "0                     星 新一    315      n     2.0  Completed  Physical Book   \n",
       "6                    宮沢 賢治    358      n     NaN  Completed  Physical Book   \n",
       "21                   東野 圭吾    356      y     5.0  Completed  Physical Book   \n",
       "25                   東野 圭吾    376      y     5.0  Completed  Physical Book   \n",
       "26  Sir Arthur Conan Doyle    224      n     4.0  Completed  Physical Book   \n",
       "\n",
       "   platform            publisher              Imprint publication date  \\\n",
       "0       NaN                  新潮社                 新潮文庫       1971-05-25   \n",
       "6       NaN                  新潮社                 新潮文庫       1990-05-29   \n",
       "21      NaN                  講談社                講談社文庫       1999-05-14   \n",
       "25      NaN                  講談社                講談社文庫       2001-01-17   \n",
       "26      NaN  Wordsworth Editions  Wordsworth Editions       2001-12-05   \n",
       "\n",
       "       type            genre language  publication_year  publication_month  \\\n",
       "0   Fiction  science fiction       jp              1971                  5   \n",
       "6   Fiction          Fantasy       jp              1990                  5   \n",
       "21  Fiction          Mystery       jp              1999                  5   \n",
       "25  Fiction          Mystery       jp              2001                  1   \n",
       "26  Fiction          Mystery      eng              2001                 12   \n",
       "\n",
       "    completion_year  completion_month  \n",
       "0               NaN               NaN  \n",
       "6               NaN               NaN  \n",
       "21              NaN               NaN  \n",
       "25              NaN               NaN  \n",
       "26              NaN               NaN  "
      ]
     },
     "execution_count": 8,
     "metadata": {},
     "output_type": "execute_result"
    }
   ],
   "source": [
    "# extract of completed books where date of completion unknown\n",
    "df[(df[\"completion date\"].isnull())& (df[\"status\"]==\"Completed\")].head()"
   ]
  },
  {
   "cell_type": "code",
   "execution_count": 9,
   "id": "a1044366",
   "metadata": {
    "execution": {
     "iopub.execute_input": "2022-06-09T11:58:26.180368Z",
     "iopub.status.busy": "2022-06-09T11:58:26.179961Z",
     "iopub.status.idle": "2022-06-09T11:58:26.186763Z",
     "shell.execute_reply": "2022-06-09T11:58:26.185887Z"
    },
    "papermill": {
     "duration": 0.03058,
     "end_time": "2022-06-09T11:58:26.188919",
     "exception": false,
     "start_time": "2022-06-09T11:58:26.158339",
     "status": "completed"
    },
    "tags": []
   },
   "outputs": [
    {
     "name": "stdout",
     "output_type": "stream",
     "text": [
      "There are 53 books read but no completion date was recorded.\n"
     ]
    }
   ],
   "source": [
    "# number of books where completion date unknow \n",
    "print(\"There are\", df[(df[\"completion date\"].isnull())& (df[\"status\"]==\"Completed\")].shape[0], \"books read but no completion date was recorded.\")"
   ]
  },
  {
   "cell_type": "code",
   "execution_count": 10,
   "id": "8e8ad21e",
   "metadata": {
    "execution": {
     "iopub.execute_input": "2022-06-09T11:58:26.231708Z",
     "iopub.status.busy": "2022-06-09T11:58:26.231273Z",
     "iopub.status.idle": "2022-06-09T11:58:26.239854Z",
     "shell.execute_reply": "2022-06-09T11:58:26.239208Z"
    },
    "papermill": {
     "duration": 0.032019,
     "end_time": "2022-06-09T11:58:26.241597",
     "exception": false,
     "start_time": "2022-06-09T11:58:26.209578",
     "status": "completed"
    },
    "tags": []
   },
   "outputs": [
    {
     "data": {
      "text/plain": [
       "0     No\n",
       "1    Yes\n",
       "2     No\n",
       "3    Yes\n",
       "4    Yes\n",
       "Name: review, dtype: object"
      ]
     },
     "execution_count": 10,
     "metadata": {},
     "output_type": "execute_result"
    }
   ],
   "source": [
    "# update review column responses\n",
    "df[\"review\"].replace({\"y\": \"Yes\", \"n\":\"No\"}, inplace = True)\n",
    "df[\"review\"].head()"
   ]
  },
  {
   "cell_type": "code",
   "execution_count": 11,
   "id": "47e59aaa",
   "metadata": {
    "execution": {
     "iopub.execute_input": "2022-06-09T11:58:26.285519Z",
     "iopub.status.busy": "2022-06-09T11:58:26.285084Z",
     "iopub.status.idle": "2022-06-09T11:58:26.291909Z",
     "shell.execute_reply": "2022-06-09T11:58:26.291255Z"
    },
    "papermill": {
     "duration": 0.030972,
     "end_time": "2022-06-09T11:58:26.293583",
     "exception": false,
     "start_time": "2022-06-09T11:58:26.262611",
     "status": "completed"
    },
    "tags": []
   },
   "outputs": [
    {
     "data": {
      "text/plain": [
       "Audible      25\n",
       "Libby        25\n",
       "BorrowBox    24\n",
       "Kindle       17\n",
       "Unknown       7\n",
       "Youtube       2\n",
       "Name: platform, dtype: int64"
      ]
     },
     "execution_count": 11,
     "metadata": {},
     "output_type": "execute_result"
    }
   ],
   "source": [
    "# distribution of platform types\n",
    "df[\"platform\"].value_counts()"
   ]
  },
  {
   "cell_type": "code",
   "execution_count": 12,
   "id": "c3ecc093",
   "metadata": {
    "execution": {
     "iopub.execute_input": "2022-06-09T11:58:26.337457Z",
     "iopub.status.busy": "2022-06-09T11:58:26.336488Z",
     "iopub.status.idle": "2022-06-09T11:58:26.341430Z",
     "shell.execute_reply": "2022-06-09T11:58:26.340770Z"
    },
    "papermill": {
     "duration": 0.028758,
     "end_time": "2022-06-09T11:58:26.343230",
     "exception": false,
     "start_time": "2022-06-09T11:58:26.314472",
     "status": "completed"
    },
    "tags": []
   },
   "outputs": [],
   "source": [
    "# merge youtube and unknow  to unknown\n",
    "df[\"platform\"].replace({\"Youtube\": \"Unknown\"}, inplace = True)"
   ]
  },
  {
   "cell_type": "code",
   "execution_count": 13,
   "id": "20a76eff",
   "metadata": {
    "execution": {
     "iopub.execute_input": "2022-06-09T11:58:26.386881Z",
     "iopub.status.busy": "2022-06-09T11:58:26.386499Z",
     "iopub.status.idle": "2022-06-09T11:58:26.392526Z",
     "shell.execute_reply": "2022-06-09T11:58:26.391915Z"
    },
    "papermill": {
     "duration": 0.030063,
     "end_time": "2022-06-09T11:58:26.394219",
     "exception": false,
     "start_time": "2022-06-09T11:58:26.364156",
     "status": "completed"
    },
    "tags": []
   },
   "outputs": [
    {
     "data": {
      "text/plain": [
       "36"
      ]
     },
     "execution_count": 13,
     "metadata": {},
     "output_type": "execute_result"
    }
   ],
   "source": [
    "# number of unique genres\n",
    "df[\"genre\"].nunique()"
   ]
  },
  {
   "cell_type": "code",
   "execution_count": 14,
   "id": "edc6eead",
   "metadata": {
    "execution": {
     "iopub.execute_input": "2022-06-09T11:58:26.438903Z",
     "iopub.status.busy": "2022-06-09T11:58:26.438018Z",
     "iopub.status.idle": "2022-06-09T11:58:26.444125Z",
     "shell.execute_reply": "2022-06-09T11:58:26.443526Z"
    },
    "papermill": {
     "duration": 0.030391,
     "end_time": "2022-06-09T11:58:26.445908",
     "exception": false,
     "start_time": "2022-06-09T11:58:26.415517",
     "status": "completed"
    },
    "tags": []
   },
   "outputs": [
    {
     "data": {
      "text/plain": [
       "array(['science fiction', 'Mystery', 'Humour/ Satire', 'Literary Fiction',\n",
       "       'Fantasy', 'Romance', 'Science Fiction', 'Bildungsroman',\n",
       "       'Self Help', 'Picture book', 'Magical realism', 'Thriller',\n",
       "       'Economics', 'Horror', 'Contemporary', 'Mathematics',\n",
       "       'Self-Esteem', '経済小説', 'Dystopian', 'science', '経営書', 'Psychology',\n",
       "       '仕事小説', 'Fashion', 'Humour Encyclopaedias', 'Realist Literature',\n",
       "       'Physical Chemistry', 'Data', 'Law', 'Business', 'Adventure',\n",
       "       'Applied Physics', 'History', 'Biographies',\n",
       "       'Essays, Journals & Letters', 'Architectural History'],\n",
       "      dtype=object)"
      ]
     },
     "execution_count": 14,
     "metadata": {},
     "output_type": "execute_result"
    }
   ],
   "source": [
    "# list of genres\n",
    "df[\"genre\"].unique()"
   ]
  },
  {
   "cell_type": "code",
   "execution_count": 15,
   "id": "ba26eb92",
   "metadata": {
    "execution": {
     "iopub.execute_input": "2022-06-09T11:58:26.491778Z",
     "iopub.status.busy": "2022-06-09T11:58:26.490987Z",
     "iopub.status.idle": "2022-06-09T11:58:26.504714Z",
     "shell.execute_reply": "2022-06-09T11:58:26.503623Z"
    },
    "papermill": {
     "duration": 0.038487,
     "end_time": "2022-06-09T11:58:26.506696",
     "exception": false,
     "start_time": "2022-06-09T11:58:26.468209",
     "status": "completed"
    },
    "tags": []
   },
   "outputs": [
    {
     "name": "stdout",
     "output_type": "stream",
     "text": [
      "<class 'pandas.core.frame.DataFrame'>\n",
      "RangeIndex: 391 entries, 0 to 390\n",
      "Data columns (total 19 columns):\n",
      " #   Column             Non-Null Count  Dtype         \n",
      "---  ------             --------------  -----         \n",
      " 0   completion date    329 non-null    datetime64[ns]\n",
      " 1   Title              391 non-null    object        \n",
      " 2   author(s)          391 non-null    object        \n",
      " 3   pages              391 non-null    int64         \n",
      " 4   review             384 non-null    object        \n",
      " 5   rating             345 non-null    float64       \n",
      " 6   status             391 non-null    object        \n",
      " 7   format             391 non-null    object        \n",
      " 8   platform           100 non-null    object        \n",
      " 9   publisher          391 non-null    object        \n",
      " 10  Imprint            391 non-null    object        \n",
      " 11  publication date   391 non-null    datetime64[ns]\n",
      " 12  type               391 non-null    object        \n",
      " 13  genre              391 non-null    object        \n",
      " 14  language           391 non-null    object        \n",
      " 15  publication_year   391 non-null    int64         \n",
      " 16  publication_month  391 non-null    int64         \n",
      " 17  completion_year    329 non-null    float64       \n",
      " 18  completion_month   329 non-null    float64       \n",
      "dtypes: datetime64[ns](2), float64(3), int64(3), object(11)\n",
      "memory usage: 58.2+ KB\n"
     ]
    }
   ],
   "source": [
    "# revised information on the data\n",
    "df.info()"
   ]
  },
  {
   "cell_type": "code",
   "execution_count": 16,
   "id": "fee17e8a",
   "metadata": {
    "execution": {
     "iopub.execute_input": "2022-06-09T11:58:26.552618Z",
     "iopub.status.busy": "2022-06-09T11:58:26.552205Z",
     "iopub.status.idle": "2022-06-09T11:58:26.558244Z",
     "shell.execute_reply": "2022-06-09T11:58:26.557383Z"
    },
    "papermill": {
     "duration": 0.031169,
     "end_time": "2022-06-09T11:58:26.560105",
     "exception": false,
     "start_time": "2022-06-09T11:58:26.528936",
     "status": "completed"
    },
    "tags": []
   },
   "outputs": [
    {
     "data": {
      "text/plain": [
       "array(['jp', 'eng'], dtype=object)"
      ]
     },
     "execution_count": 16,
     "metadata": {},
     "output_type": "execute_result"
    }
   ],
   "source": [
    "# view data in language column\n",
    "df[\"language\"].unique()"
   ]
  },
  {
   "cell_type": "code",
   "execution_count": 17,
   "id": "4da7b539",
   "metadata": {
    "execution": {
     "iopub.execute_input": "2022-06-09T11:58:26.605070Z",
     "iopub.status.busy": "2022-06-09T11:58:26.604674Z",
     "iopub.status.idle": "2022-06-09T11:58:26.613963Z",
     "shell.execute_reply": "2022-06-09T11:58:26.613120Z"
    },
    "papermill": {
     "duration": 0.03408,
     "end_time": "2022-06-09T11:58:26.615851",
     "exception": false,
     "start_time": "2022-06-09T11:58:26.581771",
     "status": "completed"
    },
    "tags": []
   },
   "outputs": [
    {
     "data": {
      "text/plain": [
       "0      Japanese\n",
       "1      Japanese\n",
       "2      Japanese\n",
       "3      Japanese\n",
       "4      Japanese\n",
       "         ...   \n",
       "386     English\n",
       "387     English\n",
       "388     English\n",
       "389     English\n",
       "390     English\n",
       "Name: language, Length: 391, dtype: object"
      ]
     },
     "execution_count": 17,
     "metadata": {},
     "output_type": "execute_result"
    }
   ],
   "source": [
    "# update language variables to Japanese and English for clarity\n",
    "df[\"language\"].replace({\"jp\": \"Japanese\", \"eng\":\"English\"}, inplace = True)\n",
    "df[\"language\"]"
   ]
  },
  {
   "cell_type": "code",
   "execution_count": 18,
   "id": "b95f24c3",
   "metadata": {
    "execution": {
     "iopub.execute_input": "2022-06-09T11:58:26.662647Z",
     "iopub.status.busy": "2022-06-09T11:58:26.662230Z",
     "iopub.status.idle": "2022-06-09T11:58:26.669899Z",
     "shell.execute_reply": "2022-06-09T11:58:26.669243Z"
    },
    "papermill": {
     "duration": 0.033724,
     "end_time": "2022-06-09T11:58:26.671613",
     "exception": false,
     "start_time": "2022-06-09T11:58:26.637889",
     "status": "completed"
    },
    "tags": []
   },
   "outputs": [
    {
     "data": {
      "text/plain": [
       "Completed     381\n",
       "DNF             8\n",
       "incomplete      1\n",
       "TBR             1\n",
       "Name: status, dtype: int64"
      ]
     },
     "execution_count": 18,
     "metadata": {},
     "output_type": "execute_result"
    }
   ],
   "source": [
    "# view distrubution of status\n",
    "df[\"status\"].value_counts()"
   ]
  },
  {
   "cell_type": "code",
   "execution_count": 19,
   "id": "f2c109b5",
   "metadata": {
    "execution": {
     "iopub.execute_input": "2022-06-09T11:58:26.718475Z",
     "iopub.status.busy": "2022-06-09T11:58:26.717471Z",
     "iopub.status.idle": "2022-06-09T11:58:26.724065Z",
     "shell.execute_reply": "2022-06-09T11:58:26.723364Z"
    },
    "papermill": {
     "duration": 0.032127,
     "end_time": "2022-06-09T11:58:26.726000",
     "exception": false,
     "start_time": "2022-06-09T11:58:26.693873",
     "status": "completed"
    },
    "tags": []
   },
   "outputs": [],
   "source": [
    "# update incomplete to Incomplete\n",
    "df[\"status\"].replace({\"incomplete\": \"Incomplete\"}, inplace = True)\n",
    "\n",
    "# Merge Incomplete and TBR to other\n",
    "df[\"status\"].replace({\"Incomplete\": \"Other\", \"TBR\": \"Other\"}, inplace = True)"
   ]
  },
  {
   "cell_type": "code",
   "execution_count": 20,
   "id": "8d837816",
   "metadata": {
    "execution": {
     "iopub.execute_input": "2022-06-09T11:58:26.773237Z",
     "iopub.status.busy": "2022-06-09T11:58:26.772240Z",
     "iopub.status.idle": "2022-06-09T11:58:26.779654Z",
     "shell.execute_reply": "2022-06-09T11:58:26.778799Z"
    },
    "papermill": {
     "duration": 0.032648,
     "end_time": "2022-06-09T11:58:26.781449",
     "exception": false,
     "start_time": "2022-06-09T11:58:26.748801",
     "status": "completed"
    },
    "tags": []
   },
   "outputs": [
    {
     "data": {
      "text/plain": [
       "Fiction       341\n",
       "Nonfiction     50\n",
       "Name: type, dtype: int64"
      ]
     },
     "execution_count": 20,
     "metadata": {},
     "output_type": "execute_result"
    }
   ],
   "source": [
    "# view data in type\n",
    "df[\"type\"].value_counts()"
   ]
  },
  {
   "cell_type": "markdown",
   "id": "11a43db1",
   "metadata": {
    "papermill": {
     "duration": 0.022198,
     "end_time": "2022-06-09T11:58:26.826233",
     "exception": false,
     "start_time": "2022-06-09T11:58:26.804035",
     "status": "completed"
    },
    "tags": []
   },
   "source": [
    "# EDA"
   ]
  },
  {
   "cell_type": "code",
   "execution_count": 21,
   "id": "d46ee6e6",
   "metadata": {
    "execution": {
     "iopub.execute_input": "2022-06-09T11:58:26.872638Z",
     "iopub.status.busy": "2022-06-09T11:58:26.872096Z",
     "iopub.status.idle": "2022-06-09T11:58:27.108017Z",
     "shell.execute_reply": "2022-06-09T11:58:27.107054Z"
    },
    "papermill": {
     "duration": 0.261486,
     "end_time": "2022-06-09T11:58:27.110148",
     "exception": false,
     "start_time": "2022-06-09T11:58:26.848662",
     "status": "completed"
    },
    "tags": []
   },
   "outputs": [
    {
     "data": {
      "image/png": "[encoded data removed]",
      "text/plain": [
       "<Figure size 1080x720 with 1 Axes>"
      ]
     },
     "metadata": {},
     "output_type": "display_data"
    }
   ],
   "source": [
    "# visualisation of status data forthe whole dataset\n",
    "plt.figure(figsize = (15,10))\n",
    "sns.countplot(x = \"status\", data = df)\n",
    "plt.show()"
   ]
  },
  {
   "cell_type": "markdown",
   "id": "02910bbe",
   "metadata": {
    "papermill": {
     "duration": 0.022679,
     "end_time": "2022-06-09T11:58:27.155781",
     "exception": false,
     "start_time": "2022-06-09T11:58:27.133102",
     "status": "completed"
    },
    "tags": []
   },
   "source": [
    "## DNF"
   ]
  },
  {
   "cell_type": "code",
   "execution_count": 22,
   "id": "1465d682",
   "metadata": {
    "execution": {
     "iopub.execute_input": "2022-06-09T11:58:27.203030Z",
     "iopub.status.busy": "2022-06-09T11:58:27.202653Z",
     "iopub.status.idle": "2022-06-09T11:58:27.209099Z",
     "shell.execute_reply": "2022-06-09T11:58:27.208278Z"
    },
    "papermill": {
     "duration": 0.032271,
     "end_time": "2022-06-09T11:58:27.210864",
     "exception": false,
     "start_time": "2022-06-09T11:58:27.178593",
     "status": "completed"
    },
    "tags": []
   },
   "outputs": [],
   "source": [
    "# seperate data to DNF and completed (note there are \"others\")\n",
    "DNF = df[df[\"status\"]==\"DNF\"]\n",
    "Completed = df[df[\"status\"]==\"Completed\"]"
   ]
  },
  {
   "cell_type": "code",
   "execution_count": 23,
   "id": "9c0fedd3",
   "metadata": {
    "execution": {
     "iopub.execute_input": "2022-06-09T11:58:27.258672Z",
     "iopub.status.busy": "2022-06-09T11:58:27.258295Z",
     "iopub.status.idle": "2022-06-09T11:58:27.263388Z",
     "shell.execute_reply": "2022-06-09T11:58:27.262449Z"
    },
    "papermill": {
     "duration": 0.032415,
     "end_time": "2022-06-09T11:58:27.266271",
     "exception": false,
     "start_time": "2022-06-09T11:58:27.233856",
     "status": "completed"
    },
    "tags": []
   },
   "outputs": [
    {
     "name": "stdout",
     "output_type": "stream",
     "text": [
      "2375 pages were DNFed\n"
     ]
    }
   ],
   "source": [
    "# number of DNF pages\n",
    "print(sum(DNF[\"pages\"]), \"pages were DNFed\")"
   ]
  },
  {
   "cell_type": "code",
   "execution_count": 24,
   "id": "61ff8a17",
   "metadata": {
    "execution": {
     "iopub.execute_input": "2022-06-09T11:58:27.316362Z",
     "iopub.status.busy": "2022-06-09T11:58:27.315974Z",
     "iopub.status.idle": "2022-06-09T11:58:27.323195Z",
     "shell.execute_reply": "2022-06-09T11:58:27.322256Z"
    },
    "papermill": {
     "duration": 0.03402,
     "end_time": "2022-06-09T11:58:27.325259",
     "exception": false,
     "start_time": "2022-06-09T11:58:27.291239",
     "status": "completed"
    },
    "tags": []
   },
   "outputs": [
    {
     "data": {
      "text/plain": [
       "Audiobook        7\n",
       "Physical Book    1\n",
       "Name: format, dtype: int64"
      ]
     },
     "execution_count": 24,
     "metadata": {},
     "output_type": "execute_result"
    }
   ],
   "source": [
    "# format of DNFed books\n",
    "DNF[\"format\"].value_counts()"
   ]
  },
  {
   "cell_type": "code",
   "execution_count": 25,
   "id": "b9603575",
   "metadata": {
    "execution": {
     "iopub.execute_input": "2022-06-09T11:58:27.374045Z",
     "iopub.status.busy": "2022-06-09T11:58:27.373075Z",
     "iopub.status.idle": "2022-06-09T11:58:27.380496Z",
     "shell.execute_reply": "2022-06-09T11:58:27.379390Z"
    },
    "papermill": {
     "duration": 0.033789,
     "end_time": "2022-06-09T11:58:27.382334",
     "exception": false,
     "start_time": "2022-06-09T11:58:27.348545",
     "status": "completed"
    },
    "tags": []
   },
   "outputs": [
    {
     "name": "stdout",
     "output_type": "stream",
     "text": [
      "There are 8 authors and no duplicated authors.\n"
     ]
    }
   ],
   "source": [
    "# confirm whether there are duplicated authors in the DNF data\n",
    "if DNF[\"author(s)\"].nunique() ==DNF.shape[0]:\n",
    "    print(\"There are\",DNF[\"author(s)\"].nunique(), \"authors and no duplicated authors.\")\n",
    "else:\n",
    "    print(\"There are\",DNF[\"author(s)\"].nunique(),\"authors and include duplicates. You may wish to avoid some authors.\")"
   ]
  },
  {
   "cell_type": "code",
   "execution_count": 26,
   "id": "c83bdde5",
   "metadata": {
    "execution": {
     "iopub.execute_input": "2022-06-09T11:58:27.430519Z",
     "iopub.status.busy": "2022-06-09T11:58:27.429817Z",
     "iopub.status.idle": "2022-06-09T11:58:27.437030Z",
     "shell.execute_reply": "2022-06-09T11:58:27.435955Z"
    },
    "papermill": {
     "duration": 0.034566,
     "end_time": "2022-06-09T11:58:27.440237",
     "exception": false,
     "start_time": "2022-06-09T11:58:27.405671",
     "status": "completed"
    },
    "tags": []
   },
   "outputs": [
    {
     "name": "stdout",
     "output_type": "stream",
     "text": [
      "There are 8 publishers and no duplicates.\n"
     ]
    }
   ],
   "source": [
    "# confirm whether there are duplicated publishers in the DNF data\n",
    "\n",
    "if DNF[\"author(s)\"].nunique() ==DNF.shape[0]:\n",
    "    print(\"There are\",DNF[\"publisher\"].nunique(), \"publishers and no duplicates.\")\n",
    "else:\n",
    "    print(\"There are\",DNF[\"publisher\"].nunique(),\"publishers and include duplicates. You may wish to avoid some publishers.\")"
   ]
  },
  {
   "cell_type": "code",
   "execution_count": 27,
   "id": "f0405470",
   "metadata": {
    "execution": {
     "iopub.execute_input": "2022-06-09T11:58:27.490326Z",
     "iopub.status.busy": "2022-06-09T11:58:27.489713Z",
     "iopub.status.idle": "2022-06-09T11:58:27.495362Z",
     "shell.execute_reply": "2022-06-09T11:58:27.494770Z"
    },
    "papermill": {
     "duration": 0.032153,
     "end_time": "2022-06-09T11:58:27.497170",
     "exception": false,
     "start_time": "2022-06-09T11:58:27.465017",
     "status": "completed"
    },
    "tags": []
   },
   "outputs": [
    {
     "name": "stdout",
     "output_type": "stream",
     "text": [
      "There are 8 imprints and no duplicates.\n"
     ]
    }
   ],
   "source": [
    "# confirm whether there are duplicated imprints in the DNF data\n",
    "\n",
    "if DNF[\"Imprint\"].nunique() ==DNF.shape[0]:\n",
    "    print(\"There are\",DNF[\"Imprint\"].nunique(), \"imprints and no duplicates.\")\n",
    "else:\n",
    "    print(\"There are\",DNF[\"Imprint\"].nunique(),\"imprints and include duplicates. You may wish to avoid some imprints.\")"
   ]
  },
  {
   "cell_type": "code",
   "execution_count": 28,
   "id": "38c3f698",
   "metadata": {
    "execution": {
     "iopub.execute_input": "2022-06-09T11:58:27.546041Z",
     "iopub.status.busy": "2022-06-09T11:58:27.545434Z",
     "iopub.status.idle": "2022-06-09T11:58:27.551293Z",
     "shell.execute_reply": "2022-06-09T11:58:27.550510Z"
    },
    "papermill": {
     "duration": 0.03224,
     "end_time": "2022-06-09T11:58:27.553033",
     "exception": false,
     "start_time": "2022-06-09T11:58:27.520793",
     "status": "completed"
    },
    "tags": []
   },
   "outputs": [
    {
     "data": {
      "text/plain": [
       "array(['Audiobook', 'Physical Book'], dtype=object)"
      ]
     },
     "execution_count": 28,
     "metadata": {},
     "output_type": "execute_result"
    }
   ],
   "source": [
    "DNF[\"format\"].unique()"
   ]
  },
  {
   "cell_type": "code",
   "execution_count": 29,
   "id": "a597be40",
   "metadata": {
    "execution": {
     "iopub.execute_input": "2022-06-09T11:58:27.603950Z",
     "iopub.status.busy": "2022-06-09T11:58:27.603290Z",
     "iopub.status.idle": "2022-06-09T11:58:27.610799Z",
     "shell.execute_reply": "2022-06-09T11:58:27.610208Z"
    },
    "papermill": {
     "duration": 0.034282,
     "end_time": "2022-06-09T11:58:27.612525",
     "exception": false,
     "start_time": "2022-06-09T11:58:27.578243",
     "status": "completed"
    },
    "tags": []
   },
   "outputs": [
    {
     "data": {
      "text/plain": [
       "BorrowBox    3\n",
       "Audible      2\n",
       "Libby        2\n",
       "Name: platform, dtype: int64"
      ]
     },
     "execution_count": 29,
     "metadata": {},
     "output_type": "execute_result"
    }
   ],
   "source": [
    "# review how the DNF audiobooks were consumed\n",
    "DNF[DNF[\"format\"]==\"Audiobook\"][\"platform\"].value_counts()"
   ]
  },
  {
   "cell_type": "code",
   "execution_count": 30,
   "id": "2a1db42f",
   "metadata": {
    "execution": {
     "iopub.execute_input": "2022-06-09T11:58:27.662249Z",
     "iopub.status.busy": "2022-06-09T11:58:27.661642Z",
     "iopub.status.idle": "2022-06-09T11:58:28.681525Z",
     "shell.execute_reply": "2022-06-09T11:58:28.680474Z"
    },
    "papermill": {
     "duration": 1.047382,
     "end_time": "2022-06-09T11:58:28.683890",
     "exception": false,
     "start_time": "2022-06-09T11:58:27.636508",
     "status": "completed"
    },
    "tags": []
   },
   "outputs": [
    {
     "data": {
      "text/html": [
       "        <script type=\"text/javascript\">\n",
       "        window.PlotlyConfig = {MathJaxConfig: 'local'};\n",
       "        if (window.MathJax && window.MathJax.Hub && window.MathJax.Hub.Config) {window.MathJax.Hub.Config({SVG: {font: \"STIX-Web\"}});}\n",
       "        if (typeof require !== 'undefined') {\n",
       "        require.undef(\"plotly\");\n",
       "        requirejs.config({\n",
       "            paths: {\n",
       "                'plotly': ['https://cdn.plot.ly/plotly-2.12.1.min']\n",
       "            }\n",
       "        });\n",
       "        require(['plotly'], function(Plotly) {\n",
       "            window._Plotly = Plotly;\n",
       "        });\n",
       "        }\n",
       "        </script>\n",
       "        "
      ]
     },
     "metadata": {},
     "output_type": "display_data"
    },
    {
     "data": {
      "text/html": [
       "<div>                            <div id=\"0c2c3886-b22a-45f6-a1f9-516431bd3e94\" class=\"plotly-graph-div\" style=\"height:525px; width:100%;\"></div>            <script type=\"text/javascript\">                require([\"plotly\"], function(Plotly) {                    window.PLOTLYENV=window.PLOTLYENV || {};                                    if (document.getElementById(\"0c2c3886-b22a-45f6-a1f9-516431bd3e94\")) {                    Plotly.newPlot(                        \"0c2c3886-b22a-45f6-a1f9-516431bd3e94\",                        [{\"alignmentgroup\":\"True\",\"bingroup\":\"x\",\"hovertemplate\":\"publication_year=%{x}<br>count=%{y}<extra></extra>\",\"legendgroup\":\"\",\"marker\":{\"color\":\"#636efa\",\"pattern\":{\"shape\":\"\"}},\"name\":\"\",\"nbinsx\":5,\"offsetgroup\":\"\",\"orientation\":\"v\",\"showlegend\":false,\"x\":[2007,2013,2013,2017,2017,2019,2021,2022],\"xaxis\":\"x\",\"yaxis\":\"y\",\"type\":\"histogram\"}],                        {\"template\":{\"data\":{\"histogram2dcontour\":[{\"type\":\"histogram2dcontour\",\"colorbar\":{\"outlinewidth\":0,\"ticks\":\"\"},\"colorscale\":[[0.0,\"#0d0887\"],[0.1111111111111111,\"#46039f\"],[0.2222222222222222,\"#7201a8\"],[0.3333333333333333,\"#9c179e\"],[0.4444444444444444,\"#bd3786\"],[0.5555555555555556,\"#d8576b\"],[0.6666666666666666,\"#ed7953\"],[0.7777777777777778,\"#fb9f3a\"],[0.8888888888888888,\"#fdca26\"],[1.0,\"#f0f921\"]]}],\"choropleth\":[{\"type\":\"choropleth\",\"colorbar\":{\"outlinewidth\":0,\"ticks\":\"\"}}],\"histogram2d\":[{\"type\":\"histogram2d\",\"colorbar\":{\"outlinewidth\":0,\"ticks\":\"\"},\"colorscale\":[[0.0,\"#0d0887\"],[0.1111111111111111,\"#46039f\"],[0.2222222222222222,\"#7201a8\"],[0.3333333333333333,\"#9c179e\"],[0.4444444444444444,\"#bd3786\"],[0.5555555555555556,\"#d8576b\"],[0.6666666666666666,\"#ed7953\"],[0.7777777777777778,\"#fb9f3a\"],[0.8888888888888888,\"#fdca26\"],[1.0,\"#f0f921\"]]}],\"heatmap\":[{\"type\":\"heatmap\",\"colorbar\":{\"outlinewidth\":0,\"ticks\":\"\"},\"colorscale\":[[0.0,\"#0d0887\"],[0.1111111111111111,\"#46039f\"],[0.2222222222222222,\"#7201a8\"],[0.3333333333333333,\"#9c179e\"],[0.4444444444444444,\"#bd3786\"],[0.5555555555555556,\"#d8576b\"],[0.6666666666666666,\"#ed7953\"],[0.7777777777777778,\"#fb9f3a\"],[0.8888888888888888,\"#fdca26\"],[1.0,\"#f0f921\"]]}],\"heatmapgl\":[{\"type\":\"heatmapgl\",\"colorbar\":{\"outlinewidth\":0,\"ticks\":\"\"},\"colorscale\":[[0.0,\"#0d0887\"],[0.1111111111111111,\"#46039f\"],[0.2222222222222222,\"#7201a8\"],[0.3333333333333333,\"#9c179e\"],[0.4444444444444444,\"#bd3786\"],[0.5555555555555556,\"#d8576b\"],[0.6666666666666666,\"#ed7953\"],[0.7777777777777778,\"#fb9f3a\"],[0.8888888888888888,\"#fdca26\"],[1.0,\"#f0f921\"]]}],\"contourcarpet\":[{\"type\":\"contourcarpet\",\"colorbar\":{\"outlinewidth\":0,\"ticks\":\"\"}}],\"contour\":[{\"type\":\"contour\",\"colorbar\":{\"outlinewidth\":0,\"ticks\":\"\"},\"colorscale\":[[0.0,\"#0d0887\"],[0.1111111111111111,\"#46039f\"],[0.2222222222222222,\"#7201a8\"],[0.3333333333333333,\"#9c179e\"],[0.4444444444444444,\"#bd3786\"],[0.5555555555555556,\"#d8576b\"],[0.6666666666666666,\"#ed7953\"],[0.7777777777777778,\"#fb9f3a\"],[0.8888888888888888,\"#fdca26\"],[1.0,\"#f0f921\"]]}],\"surface\":[{\"type\":\"surface\",\"colorbar\":{\"outlinewidth\":0,\"ticks\":\"\"},\"colorscale\":[[0.0,\"#0d0887\"],[0.1111111111111111,\"#46039f\"],[0.2222222222222222,\"#7201a8\"],[0.3333333333333333,\"#9c179e\"],[0.4444444444444444,\"#bd3786\"],[0.5555555555555556,\"#d8576b\"],[0.6666666666666666,\"#ed7953\"],[0.7777777777777778,\"#fb9f3a\"],[0.8888888888888888,\"#fdca26\"],[1.0,\"#f0f921\"]]}],\"mesh3d\":[{\"type\":\"mesh3d\",\"colorbar\":{\"outlinewidth\":0,\"ticks\":\"\"}}],\"scatter\":[{\"fillpattern\":{\"fillmode\":\"overlay\",\"size\":10,\"solidity\":0.2},\"type\":\"scatter\"}],\"parcoords\":[{\"type\":\"parcoords\",\"line\":{\"colorbar\":{\"outlinewidth\":0,\"ticks\":\"\"}}}],\"scatterpolargl\":[{\"type\":\"scatterpolargl\",\"marker\":{\"colorbar\":{\"outlinewidth\":0,\"ticks\":\"\"}}}],\"bar\":[{\"error_x\":{\"color\":\"#2a3f5f\"},\"error_y\":{\"color\":\"#2a3f5f\"},\"marker\":{\"line\":{\"color\":\"#E5ECF6\",\"width\":0.5},\"pattern\":{\"fillmode\":\"overlay\",\"size\":10,\"solidity\":0.2}},\"type\":\"bar\"}],\"scattergeo\":[{\"type\":\"scattergeo\",\"marker\":{\"colorbar\":{\"outlinewidth\":0,\"ticks\":\"\"}}}],\"scatterpolar\":[{\"type\":\"scatterpolar\",\"marker\":{\"colorbar\":{\"outlinewidth\":0,\"ticks\":\"\"}}}],\"histogram\":[{\"marker\":{\"pattern\":{\"fillmode\":\"overlay\",\"size\":10,\"solidity\":0.2}},\"type\":\"histogram\"}],\"scattergl\":[{\"type\":\"scattergl\",\"marker\":{\"colorbar\":{\"outlinewidth\":0,\"ticks\":\"\"}}}],\"scatter3d\":[{\"type\":\"scatter3d\",\"line\":{\"colorbar\":{\"outlinewidth\":0,\"ticks\":\"\"}},\"marker\":{\"colorbar\":{\"outlinewidth\":0,\"ticks\":\"\"}}}],\"scattermapbox\":[{\"type\":\"scattermapbox\",\"marker\":{\"colorbar\":{\"outlinewidth\":0,\"ticks\":\"\"}}}],\"scatterternary\":[{\"type\":\"scatterternary\",\"marker\":{\"colorbar\":{\"outlinewidth\":0,\"ticks\":\"\"}}}],\"scattercarpet\":[{\"type\":\"scattercarpet\",\"marker\":{\"colorbar\":{\"outlinewidth\":0,\"ticks\":\"\"}}}],\"carpet\":[{\"aaxis\":{\"endlinecolor\":\"#2a3f5f\",\"gridcolor\":\"white\",\"linecolor\":\"white\",\"minorgridcolor\":\"white\",\"startlinecolor\":\"#2a3f5f\"},\"baxis\":{\"endlinecolor\":\"#2a3f5f\",\"gridcolor\":\"white\",\"linecolor\":\"white\",\"minorgridcolor\":\"white\",\"startlinecolor\":\"#2a3f5f\"},\"type\":\"carpet\"}],\"table\":[{\"cells\":{\"fill\":{\"color\":\"#EBF0F8\"},\"line\":{\"color\":\"white\"}},\"header\":{\"fill\":{\"color\":\"#C8D4E3\"},\"line\":{\"color\":\"white\"}},\"type\":\"table\"}],\"barpolar\":[{\"marker\":{\"line\":{\"color\":\"#E5ECF6\",\"width\":0.5},\"pattern\":{\"fillmode\":\"overlay\",\"size\":10,\"solidity\":0.2}},\"type\":\"barpolar\"}],\"pie\":[{\"automargin\":true,\"type\":\"pie\"}]},\"layout\":{\"autotypenumbers\":\"strict\",\"colorway\":[\"#636efa\",\"#EF553B\",\"#00cc96\",\"#ab63fa\",\"#FFA15A\",\"#19d3f3\",\"#FF6692\",\"#B6E880\",\"#FF97FF\",\"#FECB52\"],\"font\":{\"color\":\"#2a3f5f\"},\"hovermode\":\"closest\",\"hoverlabel\":{\"align\":\"left\"},\"paper_bgcolor\":\"white\",\"plot_bgcolor\":\"#E5ECF6\",\"polar\":{\"bgcolor\":\"#E5ECF6\",\"angularaxis\":{\"gridcolor\":\"white\",\"linecolor\":\"white\",\"ticks\":\"\"},\"radialaxis\":{\"gridcolor\":\"white\",\"linecolor\":\"white\",\"ticks\":\"\"}},\"ternary\":{\"bgcolor\":\"#E5ECF6\",\"aaxis\":{\"gridcolor\":\"white\",\"linecolor\":\"white\",\"ticks\":\"\"},\"baxis\":{\"gridcolor\":\"white\",\"linecolor\":\"white\",\"ticks\":\"\"},\"caxis\":{\"gridcolor\":\"white\",\"linecolor\":\"white\",\"ticks\":\"\"}},\"coloraxis\":{\"colorbar\":{\"outlinewidth\":0,\"ticks\":\"\"}},\"colorscale\":{\"sequential\":[[0.0,\"#0d0887\"],[0.1111111111111111,\"#46039f\"],[0.2222222222222222,\"#7201a8\"],[0.3333333333333333,\"#9c179e\"],[0.4444444444444444,\"#bd3786\"],[0.5555555555555556,\"#d8576b\"],[0.6666666666666666,\"#ed7953\"],[0.7777777777777778,\"#fb9f3a\"],[0.8888888888888888,\"#fdca26\"],[1.0,\"#f0f921\"]],\"sequentialminus\":[[0.0,\"#0d0887\"],[0.1111111111111111,\"#46039f\"],[0.2222222222222222,\"#7201a8\"],[0.3333333333333333,\"#9c179e\"],[0.4444444444444444,\"#bd3786\"],[0.5555555555555556,\"#d8576b\"],[0.6666666666666666,\"#ed7953\"],[0.7777777777777778,\"#fb9f3a\"],[0.8888888888888888,\"#fdca26\"],[1.0,\"#f0f921\"]],\"diverging\":[[0,\"#8e0152\"],[0.1,\"#c51b7d\"],[0.2,\"#de77ae\"],[0.3,\"#f1b6da\"],[0.4,\"#fde0ef\"],[0.5,\"#f7f7f7\"],[0.6,\"#e6f5d0\"],[0.7,\"#b8e186\"],[0.8,\"#7fbc41\"],[0.9,\"#4d9221\"],[1,\"#276419\"]]},\"xaxis\":{\"gridcolor\":\"white\",\"linecolor\":\"white\",\"ticks\":\"\",\"title\":{\"standoff\":15},\"zerolinecolor\":\"white\",\"automargin\":true,\"zerolinewidth\":2},\"yaxis\":{\"gridcolor\":\"white\",\"linecolor\":\"white\",\"ticks\":\"\",\"title\":{\"standoff\":15},\"zerolinecolor\":\"white\",\"automargin\":true,\"zerolinewidth\":2},\"scene\":{\"xaxis\":{\"backgroundcolor\":\"#E5ECF6\",\"gridcolor\":\"white\",\"linecolor\":\"white\",\"showbackground\":true,\"ticks\":\"\",\"zerolinecolor\":\"white\",\"gridwidth\":2},\"yaxis\":{\"backgroundcolor\":\"#E5ECF6\",\"gridcolor\":\"white\",\"linecolor\":\"white\",\"showbackground\":true,\"ticks\":\"\",\"zerolinecolor\":\"white\",\"gridwidth\":2},\"zaxis\":{\"backgroundcolor\":\"#E5ECF6\",\"gridcolor\":\"white\",\"linecolor\":\"white\",\"showbackground\":true,\"ticks\":\"\",\"zerolinecolor\":\"white\",\"gridwidth\":2}},\"shapedefaults\":{\"line\":{\"color\":\"#2a3f5f\"}},\"annotationdefaults\":{\"arrowcolor\":\"#2a3f5f\",\"arrowhead\":0,\"arrowwidth\":1},\"geo\":{\"bgcolor\":\"white\",\"landcolor\":\"#E5ECF6\",\"subunitcolor\":\"white\",\"showland\":true,\"showlakes\":true,\"lakecolor\":\"white\"},\"title\":{\"x\":0.05},\"mapbox\":{\"style\":\"light\"}}},\"xaxis\":{\"anchor\":\"y\",\"domain\":[0.0,1.0],\"title\":{\"text\":\"publication_year\"}},\"yaxis\":{\"anchor\":\"x\",\"domain\":[0.0,1.0],\"title\":{\"text\":\"count\"}},\"legend\":{\"tracegroupgap\":0},\"margin\":{\"t\":60},\"barmode\":\"relative\"},                        {\"responsive\": true}                    ).then(function(){\n",
       "                            \n",
       "var gd = document.getElementById('0c2c3886-b22a-45f6-a1f9-516431bd3e94');\n",
       "var x = new MutationObserver(function (mutations, observer) {{\n",
       "        var display = window.getComputedStyle(gd).display;\n",
       "        if (!display || display === 'none') {{\n",
       "            console.log([gd, 'removed!']);\n",
       "            Plotly.purge(gd);\n",
       "            observer.disconnect();\n",
       "        }}\n",
       "}});\n",
       "\n",
       "// Listen for the removal of the full notebook cells\n",
       "var notebookContainer = gd.closest('#notebook-container');\n",
       "if (notebookContainer) {{\n",
       "    x.observe(notebookContainer, {childList: true});\n",
       "}}\n",
       "\n",
       "// Listen for the clearing of the current output cell\n",
       "var outputEl = gd.closest('.output');\n",
       "if (outputEl) {{\n",
       "    x.observe(outputEl, {childList: true});\n",
       "}}\n",
       "\n",
       "                        })                };                });            </script>        </div>"
      ]
     },
     "metadata": {},
     "output_type": "display_data"
    }
   ],
   "source": [
    "# distribution of publication data (year) for DNFed book\n",
    "px.histogram(DNF, x = \"publication_year\", nbins=5)"
   ]
  },
  {
   "cell_type": "code",
   "execution_count": 31,
   "id": "85f5baa3",
   "metadata": {
    "execution": {
     "iopub.execute_input": "2022-06-09T11:58:28.737700Z",
     "iopub.status.busy": "2022-06-09T11:58:28.735957Z",
     "iopub.status.idle": "2022-06-09T11:58:28.802695Z",
     "shell.execute_reply": "2022-06-09T11:58:28.802041Z"
    },
    "papermill": {
     "duration": 0.09587,
     "end_time": "2022-06-09T11:58:28.804867",
     "exception": false,
     "start_time": "2022-06-09T11:58:28.708997",
     "status": "completed"
    },
    "tags": []
   },
   "outputs": [
    {
     "data": {
      "text/html": [
       "<div>                            <div id=\"b84ae2ac-f7d1-443a-b7e5-591591651c59\" class=\"plotly-graph-div\" style=\"height:525px; width:100%;\"></div>            <script type=\"text/javascript\">                require([\"plotly\"], function(Plotly) {                    window.PLOTLYENV=window.PLOTLYENV || {};                                    if (document.getElementById(\"b84ae2ac-f7d1-443a-b7e5-591591651c59\")) {                    Plotly.newPlot(                        \"b84ae2ac-f7d1-443a-b7e5-591591651c59\",                        [{\"alignmentgroup\":\"True\",\"bingroup\":\"x\",\"hovertemplate\":\"publication_month=%{x}<br>count=%{y}<extra></extra>\",\"legendgroup\":\"\",\"marker\":{\"color\":\"#636efa\",\"pattern\":{\"shape\":\"\"}},\"name\":\"\",\"nbinsx\":4,\"offsetgroup\":\"\",\"orientation\":\"v\",\"showlegend\":false,\"x\":[8,5,12,9,10,1,10,5],\"xaxis\":\"x\",\"yaxis\":\"y\",\"type\":\"histogram\"}],                        {\"template\":{\"data\":{\"histogram2dcontour\":[{\"type\":\"histogram2dcontour\",\"colorbar\":{\"outlinewidth\":0,\"ticks\":\"\"},\"colorscale\":[[0.0,\"#0d0887\"],[0.1111111111111111,\"#46039f\"],[0.2222222222222222,\"#7201a8\"],[0.3333333333333333,\"#9c179e\"],[0.4444444444444444,\"#bd3786\"],[0.5555555555555556,\"#d8576b\"],[0.6666666666666666,\"#ed7953\"],[0.7777777777777778,\"#fb9f3a\"],[0.8888888888888888,\"#fdca26\"],[1.0,\"#f0f921\"]]}],\"choropleth\":[{\"type\":\"choropleth\",\"colorbar\":{\"outlinewidth\":0,\"ticks\":\"\"}}],\"histogram2d\":[{\"type\":\"histogram2d\",\"colorbar\":{\"outlinewidth\":0,\"ticks\":\"\"},\"colorscale\":[[0.0,\"#0d0887\"],[0.1111111111111111,\"#46039f\"],[0.2222222222222222,\"#7201a8\"],[0.3333333333333333,\"#9c179e\"],[0.4444444444444444,\"#bd3786\"],[0.5555555555555556,\"#d8576b\"],[0.6666666666666666,\"#ed7953\"],[0.7777777777777778,\"#fb9f3a\"],[0.8888888888888888,\"#fdca26\"],[1.0,\"#f0f921\"]]}],\"heatmap\":[{\"type\":\"heatmap\",\"colorbar\":{\"outlinewidth\":0,\"ticks\":\"\"},\"colorscale\":[[0.0,\"#0d0887\"],[0.1111111111111111,\"#46039f\"],[0.2222222222222222,\"#7201a8\"],[0.3333333333333333,\"#9c179e\"],[0.4444444444444444,\"#bd3786\"],[0.5555555555555556,\"#d8576b\"],[0.6666666666666666,\"#ed7953\"],[0.7777777777777778,\"#fb9f3a\"],[0.8888888888888888,\"#fdca26\"],[1.0,\"#f0f921\"]]}],\"heatmapgl\":[{\"type\":\"heatmapgl\",\"colorbar\":{\"outlinewidth\":0,\"ticks\":\"\"},\"colorscale\":[[0.0,\"#0d0887\"],[0.1111111111111111,\"#46039f\"],[0.2222222222222222,\"#7201a8\"],[0.3333333333333333,\"#9c179e\"],[0.4444444444444444,\"#bd3786\"],[0.5555555555555556,\"#d8576b\"],[0.6666666666666666,\"#ed7953\"],[0.7777777777777778,\"#fb9f3a\"],[0.8888888888888888,\"#fdca26\"],[1.0,\"#f0f921\"]]}],\"contourcarpet\":[{\"type\":\"contourcarpet\",\"colorbar\":{\"outlinewidth\":0,\"ticks\":\"\"}}],\"contour\":[{\"type\":\"contour\",\"colorbar\":{\"outlinewidth\":0,\"ticks\":\"\"},\"colorscale\":[[0.0,\"#0d0887\"],[0.1111111111111111,\"#46039f\"],[0.2222222222222222,\"#7201a8\"],[0.3333333333333333,\"#9c179e\"],[0.4444444444444444,\"#bd3786\"],[0.5555555555555556,\"#d8576b\"],[0.6666666666666666,\"#ed7953\"],[0.7777777777777778,\"#fb9f3a\"],[0.8888888888888888,\"#fdca26\"],[1.0,\"#f0f921\"]]}],\"surface\":[{\"type\":\"surface\",\"colorbar\":{\"outlinewidth\":0,\"ticks\":\"\"},\"colorscale\":[[0.0,\"#0d0887\"],[0.1111111111111111,\"#46039f\"],[0.2222222222222222,\"#7201a8\"],[0.3333333333333333,\"#9c179e\"],[0.4444444444444444,\"#bd3786\"],[0.5555555555555556,\"#d8576b\"],[0.6666666666666666,\"#ed7953\"],[0.7777777777777778,\"#fb9f3a\"],[0.8888888888888888,\"#fdca26\"],[1.0,\"#f0f921\"]]}],\"mesh3d\":[{\"type\":\"mesh3d\",\"colorbar\":{\"outlinewidth\":0,\"ticks\":\"\"}}],\"scatter\":[{\"fillpattern\":{\"fillmode\":\"overlay\",\"size\":10,\"solidity\":0.2},\"type\":\"scatter\"}],\"parcoords\":[{\"type\":\"parcoords\",\"line\":{\"colorbar\":{\"outlinewidth\":0,\"ticks\":\"\"}}}],\"scatterpolargl\":[{\"type\":\"scatterpolargl\",\"marker\":{\"colorbar\":{\"outlinewidth\":0,\"ticks\":\"\"}}}],\"bar\":[{\"error_x\":{\"color\":\"#2a3f5f\"},\"error_y\":{\"color\":\"#2a3f5f\"},\"marker\":{\"line\":{\"color\":\"#E5ECF6\",\"width\":0.5},\"pattern\":{\"fillmode\":\"overlay\",\"size\":10,\"solidity\":0.2}},\"type\":\"bar\"}],\"scattergeo\":[{\"type\":\"scattergeo\",\"marker\":{\"colorbar\":{\"outlinewidth\":0,\"ticks\":\"\"}}}],\"scatterpolar\":[{\"type\":\"scatterpolar\",\"marker\":{\"colorbar\":{\"outlinewidth\":0,\"ticks\":\"\"}}}],\"histogram\":[{\"marker\":{\"pattern\":{\"fillmode\":\"overlay\",\"size\":10,\"solidity\":0.2}},\"type\":\"histogram\"}],\"scattergl\":[{\"type\":\"scattergl\",\"marker\":{\"colorbar\":{\"outlinewidth\":0,\"ticks\":\"\"}}}],\"scatter3d\":[{\"type\":\"scatter3d\",\"line\":{\"colorbar\":{\"outlinewidth\":0,\"ticks\":\"\"}},\"marker\":{\"colorbar\":{\"outlinewidth\":0,\"ticks\":\"\"}}}],\"scattermapbox\":[{\"type\":\"scattermapbox\",\"marker\":{\"colorbar\":{\"outlinewidth\":0,\"ticks\":\"\"}}}],\"scatterternary\":[{\"type\":\"scatterternary\",\"marker\":{\"colorbar\":{\"outlinewidth\":0,\"ticks\":\"\"}}}],\"scattercarpet\":[{\"type\":\"scattercarpet\",\"marker\":{\"colorbar\":{\"outlinewidth\":0,\"ticks\":\"\"}}}],\"carpet\":[{\"aaxis\":{\"endlinecolor\":\"#2a3f5f\",\"gridcolor\":\"white\",\"linecolor\":\"white\",\"minorgridcolor\":\"white\",\"startlinecolor\":\"#2a3f5f\"},\"baxis\":{\"endlinecolor\":\"#2a3f5f\",\"gridcolor\":\"white\",\"linecolor\":\"white\",\"minorgridcolor\":\"white\",\"startlinecolor\":\"#2a3f5f\"},\"type\":\"carpet\"}],\"table\":[{\"cells\":{\"fill\":{\"color\":\"#EBF0F8\"},\"line\":{\"color\":\"white\"}},\"header\":{\"fill\":{\"color\":\"#C8D4E3\"},\"line\":{\"color\":\"white\"}},\"type\":\"table\"}],\"barpolar\":[{\"marker\":{\"line\":{\"color\":\"#E5ECF6\",\"width\":0.5},\"pattern\":{\"fillmode\":\"overlay\",\"size\":10,\"solidity\":0.2}},\"type\":\"barpolar\"}],\"pie\":[{\"automargin\":true,\"type\":\"pie\"}]},\"layout\":{\"autotypenumbers\":\"strict\",\"colorway\":[\"#636efa\",\"#EF553B\",\"#00cc96\",\"#ab63fa\",\"#FFA15A\",\"#19d3f3\",\"#FF6692\",\"#B6E880\",\"#FF97FF\",\"#FECB52\"],\"font\":{\"color\":\"#2a3f5f\"},\"hovermode\":\"closest\",\"hoverlabel\":{\"align\":\"left\"},\"paper_bgcolor\":\"white\",\"plot_bgcolor\":\"#E5ECF6\",\"polar\":{\"bgcolor\":\"#E5ECF6\",\"angularaxis\":{\"gridcolor\":\"white\",\"linecolor\":\"white\",\"ticks\":\"\"},\"radialaxis\":{\"gridcolor\":\"white\",\"linecolor\":\"white\",\"ticks\":\"\"}},\"ternary\":{\"bgcolor\":\"#E5ECF6\",\"aaxis\":{\"gridcolor\":\"white\",\"linecolor\":\"white\",\"ticks\":\"\"},\"baxis\":{\"gridcolor\":\"white\",\"linecolor\":\"white\",\"ticks\":\"\"},\"caxis\":{\"gridcolor\":\"white\",\"linecolor\":\"white\",\"ticks\":\"\"}},\"coloraxis\":{\"colorbar\":{\"outlinewidth\":0,\"ticks\":\"\"}},\"colorscale\":{\"sequential\":[[0.0,\"#0d0887\"],[0.1111111111111111,\"#46039f\"],[0.2222222222222222,\"#7201a8\"],[0.3333333333333333,\"#9c179e\"],[0.4444444444444444,\"#bd3786\"],[0.5555555555555556,\"#d8576b\"],[0.6666666666666666,\"#ed7953\"],[0.7777777777777778,\"#fb9f3a\"],[0.8888888888888888,\"#fdca26\"],[1.0,\"#f0f921\"]],\"sequentialminus\":[[0.0,\"#0d0887\"],[0.1111111111111111,\"#46039f\"],[0.2222222222222222,\"#7201a8\"],[0.3333333333333333,\"#9c179e\"],[0.4444444444444444,\"#bd3786\"],[0.5555555555555556,\"#d8576b\"],[0.6666666666666666,\"#ed7953\"],[0.7777777777777778,\"#fb9f3a\"],[0.8888888888888888,\"#fdca26\"],[1.0,\"#f0f921\"]],\"diverging\":[[0,\"#8e0152\"],[0.1,\"#c51b7d\"],[0.2,\"#de77ae\"],[0.3,\"#f1b6da\"],[0.4,\"#fde0ef\"],[0.5,\"#f7f7f7\"],[0.6,\"#e6f5d0\"],[0.7,\"#b8e186\"],[0.8,\"#7fbc41\"],[0.9,\"#4d9221\"],[1,\"#276419\"]]},\"xaxis\":{\"gridcolor\":\"white\",\"linecolor\":\"white\",\"ticks\":\"\",\"title\":{\"standoff\":15},\"zerolinecolor\":\"white\",\"automargin\":true,\"zerolinewidth\":2},\"yaxis\":{\"gridcolor\":\"white\",\"linecolor\":\"white\",\"ticks\":\"\",\"title\":{\"standoff\":15},\"zerolinecolor\":\"white\",\"automargin\":true,\"zerolinewidth\":2},\"scene\":{\"xaxis\":{\"backgroundcolor\":\"#E5ECF6\",\"gridcolor\":\"white\",\"linecolor\":\"white\",\"showbackground\":true,\"ticks\":\"\",\"zerolinecolor\":\"white\",\"gridwidth\":2},\"yaxis\":{\"backgroundcolor\":\"#E5ECF6\",\"gridcolor\":\"white\",\"linecolor\":\"white\",\"showbackground\":true,\"ticks\":\"\",\"zerolinecolor\":\"white\",\"gridwidth\":2},\"zaxis\":{\"backgroundcolor\":\"#E5ECF6\",\"gridcolor\":\"white\",\"linecolor\":\"white\",\"showbackground\":true,\"ticks\":\"\",\"zerolinecolor\":\"white\",\"gridwidth\":2}},\"shapedefaults\":{\"line\":{\"color\":\"#2a3f5f\"}},\"annotationdefaults\":{\"arrowcolor\":\"#2a3f5f\",\"arrowhead\":0,\"arrowwidth\":1},\"geo\":{\"bgcolor\":\"white\",\"landcolor\":\"#E5ECF6\",\"subunitcolor\":\"white\",\"showland\":true,\"showlakes\":true,\"lakecolor\":\"white\"},\"title\":{\"x\":0.05},\"mapbox\":{\"style\":\"light\"}}},\"xaxis\":{\"anchor\":\"y\",\"domain\":[0.0,1.0],\"title\":{\"text\":\"publication_month\"},\"range\":[1,12]},\"yaxis\":{\"anchor\":\"x\",\"domain\":[0.0,1.0],\"title\":{\"text\":\"count\"}},\"legend\":{\"tracegroupgap\":0},\"margin\":{\"t\":60},\"barmode\":\"relative\"},                        {\"responsive\": true}                    ).then(function(){\n",
       "                            \n",
       "var gd = document.getElementById('b84ae2ac-f7d1-443a-b7e5-591591651c59');\n",
       "var x = new MutationObserver(function (mutations, observer) {{\n",
       "        var display = window.getComputedStyle(gd).display;\n",
       "        if (!display || display === 'none') {{\n",
       "            console.log([gd, 'removed!']);\n",
       "            Plotly.purge(gd);\n",
       "            observer.disconnect();\n",
       "        }}\n",
       "}});\n",
       "\n",
       "// Listen for the removal of the full notebook cells\n",
       "var notebookContainer = gd.closest('#notebook-container');\n",
       "if (notebookContainer) {{\n",
       "    x.observe(notebookContainer, {childList: true});\n",
       "}}\n",
       "\n",
       "// Listen for the clearing of the current output cell\n",
       "var outputEl = gd.closest('.output');\n",
       "if (outputEl) {{\n",
       "    x.observe(outputEl, {childList: true});\n",
       "}}\n",
       "\n",
       "                        })                };                });            </script>        </div>"
      ]
     },
     "metadata": {},
     "output_type": "display_data"
    }
   ],
   "source": [
    "# distribution of publication data (month) for DNFed book\n",
    "fig = px.histogram(DNF, x = \"publication_month\", nbins=4)\n",
    "fig.update_layout(xaxis_range = [1,12])"
   ]
  },
  {
   "cell_type": "code",
   "execution_count": 32,
   "id": "3c773fdf",
   "metadata": {
    "execution": {
     "iopub.execute_input": "2022-06-09T11:58:28.856666Z",
     "iopub.status.busy": "2022-06-09T11:58:28.856278Z",
     "iopub.status.idle": "2022-06-09T11:58:28.919875Z",
     "shell.execute_reply": "2022-06-09T11:58:28.919058Z"
    },
    "papermill": {
     "duration": 0.091917,
     "end_time": "2022-06-09T11:58:28.922060",
     "exception": false,
     "start_time": "2022-06-09T11:58:28.830143",
     "status": "completed"
    },
    "tags": []
   },
   "outputs": [
    {
     "data": {
      "text/html": [
       "<div>                            <div id=\"7d1d7bb4-9675-494a-8caf-aad416af02e5\" class=\"plotly-graph-div\" style=\"height:525px; width:100%;\"></div>            <script type=\"text/javascript\">                require([\"plotly\"], function(Plotly) {                    window.PLOTLYENV=window.PLOTLYENV || {};                                    if (document.getElementById(\"7d1d7bb4-9675-494a-8caf-aad416af02e5\")) {                    Plotly.newPlot(                        \"7d1d7bb4-9675-494a-8caf-aad416af02e5\",                        [{\"alignmentgroup\":\"True\",\"bingroup\":\"x\",\"hovertemplate\":\"genre=%{x}<br>count=%{y}<extra></extra>\",\"legendgroup\":\"\",\"marker\":{\"color\":\"#636efa\",\"pattern\":{\"shape\":\"\"}},\"name\":\"\",\"offsetgroup\":\"\",\"orientation\":\"v\",\"showlegend\":false,\"x\":[\"Self-Esteem\",\"Literary Fiction\",\"Self Help\",\"Mystery\",\"Literary Fiction\",\"Self Help\",\"Self Help\",\"Data\"],\"xaxis\":\"x\",\"yaxis\":\"y\",\"type\":\"histogram\"}],                        {\"template\":{\"data\":{\"histogram2dcontour\":[{\"type\":\"histogram2dcontour\",\"colorbar\":{\"outlinewidth\":0,\"ticks\":\"\"},\"colorscale\":[[0.0,\"#0d0887\"],[0.1111111111111111,\"#46039f\"],[0.2222222222222222,\"#7201a8\"],[0.3333333333333333,\"#9c179e\"],[0.4444444444444444,\"#bd3786\"],[0.5555555555555556,\"#d8576b\"],[0.6666666666666666,\"#ed7953\"],[0.7777777777777778,\"#fb9f3a\"],[0.8888888888888888,\"#fdca26\"],[1.0,\"#f0f921\"]]}],\"choropleth\":[{\"type\":\"choropleth\",\"colorbar\":{\"outlinewidth\":0,\"ticks\":\"\"}}],\"histogram2d\":[{\"type\":\"histogram2d\",\"colorbar\":{\"outlinewidth\":0,\"ticks\":\"\"},\"colorscale\":[[0.0,\"#0d0887\"],[0.1111111111111111,\"#46039f\"],[0.2222222222222222,\"#7201a8\"],[0.3333333333333333,\"#9c179e\"],[0.4444444444444444,\"#bd3786\"],[0.5555555555555556,\"#d8576b\"],[0.6666666666666666,\"#ed7953\"],[0.7777777777777778,\"#fb9f3a\"],[0.8888888888888888,\"#fdca26\"],[1.0,\"#f0f921\"]]}],\"heatmap\":[{\"type\":\"heatmap\",\"colorbar\":{\"outlinewidth\":0,\"ticks\":\"\"},\"colorscale\":[[0.0,\"#0d0887\"],[0.1111111111111111,\"#46039f\"],[0.2222222222222222,\"#7201a8\"],[0.3333333333333333,\"#9c179e\"],[0.4444444444444444,\"#bd3786\"],[0.5555555555555556,\"#d8576b\"],[0.6666666666666666,\"#ed7953\"],[0.7777777777777778,\"#fb9f3a\"],[0.8888888888888888,\"#fdca26\"],[1.0,\"#f0f921\"]]}],\"heatmapgl\":[{\"type\":\"heatmapgl\",\"colorbar\":{\"outlinewidth\":0,\"ticks\":\"\"},\"colorscale\":[[0.0,\"#0d0887\"],[0.1111111111111111,\"#46039f\"],[0.2222222222222222,\"#7201a8\"],[0.3333333333333333,\"#9c179e\"],[0.4444444444444444,\"#bd3786\"],[0.5555555555555556,\"#d8576b\"],[0.6666666666666666,\"#ed7953\"],[0.7777777777777778,\"#fb9f3a\"],[0.8888888888888888,\"#fdca26\"],[1.0,\"#f0f921\"]]}],\"contourcarpet\":[{\"type\":\"contourcarpet\",\"colorbar\":{\"outlinewidth\":0,\"ticks\":\"\"}}],\"contour\":[{\"type\":\"contour\",\"colorbar\":{\"outlinewidth\":0,\"ticks\":\"\"},\"colorscale\":[[0.0,\"#0d0887\"],[0.1111111111111111,\"#46039f\"],[0.2222222222222222,\"#7201a8\"],[0.3333333333333333,\"#9c179e\"],[0.4444444444444444,\"#bd3786\"],[0.5555555555555556,\"#d8576b\"],[0.6666666666666666,\"#ed7953\"],[0.7777777777777778,\"#fb9f3a\"],[0.8888888888888888,\"#fdca26\"],[1.0,\"#f0f921\"]]}],\"surface\":[{\"type\":\"surface\",\"colorbar\":{\"outlinewidth\":0,\"ticks\":\"\"},\"colorscale\":[[0.0,\"#0d0887\"],[0.1111111111111111,\"#46039f\"],[0.2222222222222222,\"#7201a8\"],[0.3333333333333333,\"#9c179e\"],[0.4444444444444444,\"#bd3786\"],[0.5555555555555556,\"#d8576b\"],[0.6666666666666666,\"#ed7953\"],[0.7777777777777778,\"#fb9f3a\"],[0.8888888888888888,\"#fdca26\"],[1.0,\"#f0f921\"]]}],\"mesh3d\":[{\"type\":\"mesh3d\",\"colorbar\":{\"outlinewidth\":0,\"ticks\":\"\"}}],\"scatter\":[{\"fillpattern\":{\"fillmode\":\"overlay\",\"size\":10,\"solidity\":0.2},\"type\":\"scatter\"}],\"parcoords\":[{\"type\":\"parcoords\",\"line\":{\"colorbar\":{\"outlinewidth\":0,\"ticks\":\"\"}}}],\"scatterpolargl\":[{\"type\":\"scatterpolargl\",\"marker\":{\"colorbar\":{\"outlinewidth\":0,\"ticks\":\"\"}}}],\"bar\":[{\"error_x\":{\"color\":\"#2a3f5f\"},\"error_y\":{\"color\":\"#2a3f5f\"},\"marker\":{\"line\":{\"color\":\"#E5ECF6\",\"width\":0.5},\"pattern\":{\"fillmode\":\"overlay\",\"size\":10,\"solidity\":0.2}},\"type\":\"bar\"}],\"scattergeo\":[{\"type\":\"scattergeo\",\"marker\":{\"colorbar\":{\"outlinewidth\":0,\"ticks\":\"\"}}}],\"scatterpolar\":[{\"type\":\"scatterpolar\",\"marker\":{\"colorbar\":{\"outlinewidth\":0,\"ticks\":\"\"}}}],\"histogram\":[{\"marker\":{\"pattern\":{\"fillmode\":\"overlay\",\"size\":10,\"solidity\":0.2}},\"type\":\"histogram\"}],\"scattergl\":[{\"type\":\"scattergl\",\"marker\":{\"colorbar\":{\"outlinewidth\":0,\"ticks\":\"\"}}}],\"scatter3d\":[{\"type\":\"scatter3d\",\"line\":{\"colorbar\":{\"outlinewidth\":0,\"ticks\":\"\"}},\"marker\":{\"colorbar\":{\"outlinewidth\":0,\"ticks\":\"\"}}}],\"scattermapbox\":[{\"type\":\"scattermapbox\",\"marker\":{\"colorbar\":{\"outlinewidth\":0,\"ticks\":\"\"}}}],\"scatterternary\":[{\"type\":\"scatterternary\",\"marker\":{\"colorbar\":{\"outlinewidth\":0,\"ticks\":\"\"}}}],\"scattercarpet\":[{\"type\":\"scattercarpet\",\"marker\":{\"colorbar\":{\"outlinewidth\":0,\"ticks\":\"\"}}}],\"carpet\":[{\"aaxis\":{\"endlinecolor\":\"#2a3f5f\",\"gridcolor\":\"white\",\"linecolor\":\"white\",\"minorgridcolor\":\"white\",\"startlinecolor\":\"#2a3f5f\"},\"baxis\":{\"endlinecolor\":\"#2a3f5f\",\"gridcolor\":\"white\",\"linecolor\":\"white\",\"minorgridcolor\":\"white\",\"startlinecolor\":\"#2a3f5f\"},\"type\":\"carpet\"}],\"table\":[{\"cells\":{\"fill\":{\"color\":\"#EBF0F8\"},\"line\":{\"color\":\"white\"}},\"header\":{\"fill\":{\"color\":\"#C8D4E3\"},\"line\":{\"color\":\"white\"}},\"type\":\"table\"}],\"barpolar\":[{\"marker\":{\"line\":{\"color\":\"#E5ECF6\",\"width\":0.5},\"pattern\":{\"fillmode\":\"overlay\",\"size\":10,\"solidity\":0.2}},\"type\":\"barpolar\"}],\"pie\":[{\"automargin\":true,\"type\":\"pie\"}]},\"layout\":{\"autotypenumbers\":\"strict\",\"colorway\":[\"#636efa\",\"#EF553B\",\"#00cc96\",\"#ab63fa\",\"#FFA15A\",\"#19d3f3\",\"#FF6692\",\"#B6E880\",\"#FF97FF\",\"#FECB52\"],\"font\":{\"color\":\"#2a3f5f\"},\"hovermode\":\"closest\",\"hoverlabel\":{\"align\":\"left\"},\"paper_bgcolor\":\"white\",\"plot_bgcolor\":\"#E5ECF6\",\"polar\":{\"bgcolor\":\"#E5ECF6\",\"angularaxis\":{\"gridcolor\":\"white\",\"linecolor\":\"white\",\"ticks\":\"\"},\"radialaxis\":{\"gridcolor\":\"white\",\"linecolor\":\"white\",\"ticks\":\"\"}},\"ternary\":{\"bgcolor\":\"#E5ECF6\",\"aaxis\":{\"gridcolor\":\"white\",\"linecolor\":\"white\",\"ticks\":\"\"},\"baxis\":{\"gridcolor\":\"white\",\"linecolor\":\"white\",\"ticks\":\"\"},\"caxis\":{\"gridcolor\":\"white\",\"linecolor\":\"white\",\"ticks\":\"\"}},\"coloraxis\":{\"colorbar\":{\"outlinewidth\":0,\"ticks\":\"\"}},\"colorscale\":{\"sequential\":[[0.0,\"#0d0887\"],[0.1111111111111111,\"#46039f\"],[0.2222222222222222,\"#7201a8\"],[0.3333333333333333,\"#9c179e\"],[0.4444444444444444,\"#bd3786\"],[0.5555555555555556,\"#d8576b\"],[0.6666666666666666,\"#ed7953\"],[0.7777777777777778,\"#fb9f3a\"],[0.8888888888888888,\"#fdca26\"],[1.0,\"#f0f921\"]],\"sequentialminus\":[[0.0,\"#0d0887\"],[0.1111111111111111,\"#46039f\"],[0.2222222222222222,\"#7201a8\"],[0.3333333333333333,\"#9c179e\"],[0.4444444444444444,\"#bd3786\"],[0.5555555555555556,\"#d8576b\"],[0.6666666666666666,\"#ed7953\"],[0.7777777777777778,\"#fb9f3a\"],[0.8888888888888888,\"#fdca26\"],[1.0,\"#f0f921\"]],\"diverging\":[[0,\"#8e0152\"],[0.1,\"#c51b7d\"],[0.2,\"#de77ae\"],[0.3,\"#f1b6da\"],[0.4,\"#fde0ef\"],[0.5,\"#f7f7f7\"],[0.6,\"#e6f5d0\"],[0.7,\"#b8e186\"],[0.8,\"#7fbc41\"],[0.9,\"#4d9221\"],[1,\"#276419\"]]},\"xaxis\":{\"gridcolor\":\"white\",\"linecolor\":\"white\",\"ticks\":\"\",\"title\":{\"standoff\":15},\"zerolinecolor\":\"white\",\"automargin\":true,\"zerolinewidth\":2},\"yaxis\":{\"gridcolor\":\"white\",\"linecolor\":\"white\",\"ticks\":\"\",\"title\":{\"standoff\":15},\"zerolinecolor\":\"white\",\"automargin\":true,\"zerolinewidth\":2},\"scene\":{\"xaxis\":{\"backgroundcolor\":\"#E5ECF6\",\"gridcolor\":\"white\",\"linecolor\":\"white\",\"showbackground\":true,\"ticks\":\"\",\"zerolinecolor\":\"white\",\"gridwidth\":2},\"yaxis\":{\"backgroundcolor\":\"#E5ECF6\",\"gridcolor\":\"white\",\"linecolor\":\"white\",\"showbackground\":true,\"ticks\":\"\",\"zerolinecolor\":\"white\",\"gridwidth\":2},\"zaxis\":{\"backgroundcolor\":\"#E5ECF6\",\"gridcolor\":\"white\",\"linecolor\":\"white\",\"showbackground\":true,\"ticks\":\"\",\"zerolinecolor\":\"white\",\"gridwidth\":2}},\"shapedefaults\":{\"line\":{\"color\":\"#2a3f5f\"}},\"annotationdefaults\":{\"arrowcolor\":\"#2a3f5f\",\"arrowhead\":0,\"arrowwidth\":1},\"geo\":{\"bgcolor\":\"white\",\"landcolor\":\"#E5ECF6\",\"subunitcolor\":\"white\",\"showland\":true,\"showlakes\":true,\"lakecolor\":\"white\"},\"title\":{\"x\":0.05},\"mapbox\":{\"style\":\"light\"}}},\"xaxis\":{\"anchor\":\"y\",\"domain\":[0.0,1.0],\"title\":{\"text\":\"genre\"}},\"yaxis\":{\"anchor\":\"x\",\"domain\":[0.0,1.0],\"title\":{\"text\":\"count\"}},\"legend\":{\"tracegroupgap\":0},\"margin\":{\"t\":60},\"barmode\":\"relative\"},                        {\"responsive\": true}                    ).then(function(){\n",
       "                            \n",
       "var gd = document.getElementById('7d1d7bb4-9675-494a-8caf-aad416af02e5');\n",
       "var x = new MutationObserver(function (mutations, observer) {{\n",
       "        var display = window.getComputedStyle(gd).display;\n",
       "        if (!display || display === 'none') {{\n",
       "            console.log([gd, 'removed!']);\n",
       "            Plotly.purge(gd);\n",
       "            observer.disconnect();\n",
       "        }}\n",
       "}});\n",
       "\n",
       "// Listen for the removal of the full notebook cells\n",
       "var notebookContainer = gd.closest('#notebook-container');\n",
       "if (notebookContainer) {{\n",
       "    x.observe(notebookContainer, {childList: true});\n",
       "}}\n",
       "\n",
       "// Listen for the clearing of the current output cell\n",
       "var outputEl = gd.closest('.output');\n",
       "if (outputEl) {{\n",
       "    x.observe(outputEl, {childList: true});\n",
       "}}\n",
       "\n",
       "                        })                };                });            </script>        </div>"
      ]
     },
     "metadata": {},
     "output_type": "display_data"
    }
   ],
   "source": [
    "# distribution of genre for DNFed books\n",
    "px.histogram(DNF, x = \"genre\",)"
   ]
  },
  {
   "cell_type": "markdown",
   "id": "5eed411a",
   "metadata": {
    "papermill": {
     "duration": 0.025403,
     "end_time": "2022-06-09T11:58:28.972749",
     "exception": false,
     "start_time": "2022-06-09T11:58:28.947346",
     "status": "completed"
    },
    "tags": []
   },
   "source": [
    "# completion date unknown"
   ]
  },
  {
   "cell_type": "code",
   "execution_count": 33,
   "id": "082b9754",
   "metadata": {
    "execution": {
     "iopub.execute_input": "2022-06-09T11:58:29.025602Z",
     "iopub.status.busy": "2022-06-09T11:58:29.024674Z",
     "iopub.status.idle": "2022-06-09T11:58:29.030083Z",
     "shell.execute_reply": "2022-06-09T11:58:29.029379Z"
    },
    "papermill": {
     "duration": 0.033719,
     "end_time": "2022-06-09T11:58:29.031993",
     "exception": false,
     "start_time": "2022-06-09T11:58:28.998274",
     "status": "completed"
    },
    "tags": []
   },
   "outputs": [],
   "source": [
    "# extract books read but with no completion date\n",
    "completion_date_unknown = Completed[Completed[\"completion date\"].isnull()]"
   ]
  },
  {
   "cell_type": "code",
   "execution_count": 34,
   "id": "93eafb69",
   "metadata": {
    "execution": {
     "iopub.execute_input": "2022-06-09T11:58:29.084212Z",
     "iopub.status.busy": "2022-06-09T11:58:29.083573Z",
     "iopub.status.idle": "2022-06-09T11:58:29.243819Z",
     "shell.execute_reply": "2022-06-09T11:58:29.243149Z"
    },
    "papermill": {
     "duration": 0.188516,
     "end_time": "2022-06-09T11:58:29.245673",
     "exception": false,
     "start_time": "2022-06-09T11:58:29.057157",
     "status": "completed"
    },
    "tags": []
   },
   "outputs": [
    {
     "data": {
      "image/png": "[encoded data removed]",
      "text/plain": [
       "<Figure size 432x288 with 1 Axes>"
      ]
     },
     "metadata": {},
     "output_type": "display_data"
    }
   ],
   "source": [
    "# view distribution of lauagues in the dataset\n",
    "sns.countplot(x = \"language\", data = completion_date_unknown)\n",
    "plt.show()"
   ]
  },
  {
   "cell_type": "code",
   "execution_count": 35,
   "id": "cb3f9831",
   "metadata": {
    "execution": {
     "iopub.execute_input": "2022-06-09T11:58:29.298482Z",
     "iopub.status.busy": "2022-06-09T11:58:29.297830Z",
     "iopub.status.idle": "2022-06-09T11:58:29.305089Z",
     "shell.execute_reply": "2022-06-09T11:58:29.304439Z"
    },
    "papermill": {
     "duration": 0.035759,
     "end_time": "2022-06-09T11:58:29.306839",
     "exception": false,
     "start_time": "2022-06-09T11:58:29.271080",
     "status": "completed"
    },
    "tags": []
   },
   "outputs": [
    {
     "data": {
      "text/plain": [
       "藤崎 都                      6\n",
       "東野 圭吾                     6\n",
       "日丸屋 秀和                    6\n",
       "三上 延                      4\n",
       "谷 瑞恵                      3\n",
       "伊坂 幸太郎                    3\n",
       "葉山 透                      2\n",
       "Sir Arthur Conan Doyle    2\n",
       "朝霧 カフカ                    2\n",
       "川村 元気                     1\n",
       "Name: author(s), dtype: int64"
      ]
     },
     "execution_count": 35,
     "metadata": {},
     "output_type": "execute_result"
    }
   ],
   "source": [
    "# Top 10 authors for books read but have no recorded completion date\n",
    "completion_date_unknown[\"author(s)\"].value_counts().head(10)"
   ]
  },
  {
   "cell_type": "code",
   "execution_count": 36,
   "id": "edaf0371",
   "metadata": {
    "execution": {
     "iopub.execute_input": "2022-06-09T11:58:29.360177Z",
     "iopub.status.busy": "2022-06-09T11:58:29.359578Z",
     "iopub.status.idle": "2022-06-09T11:58:29.419265Z",
     "shell.execute_reply": "2022-06-09T11:58:29.418431Z"
    },
    "papermill": {
     "duration": 0.088526,
     "end_time": "2022-06-09T11:58:29.421389",
     "exception": false,
     "start_time": "2022-06-09T11:58:29.332863",
     "status": "completed"
    },
    "tags": []
   },
   "outputs": [
    {
     "data": {
      "text/html": [
       "<div>                            <div id=\"50fc19b3-8920-4209-944d-d539e89be93b\" class=\"plotly-graph-div\" style=\"height:525px; width:100%;\"></div>            <script type=\"text/javascript\">                require([\"plotly\"], function(Plotly) {                    window.PLOTLYENV=window.PLOTLYENV || {};                                    if (document.getElementById(\"50fc19b3-8920-4209-944d-d539e89be93b\")) {                    Plotly.newPlot(                        \"50fc19b3-8920-4209-944d-d539e89be93b\",                        [{\"alignmentgroup\":\"True\",\"bingroup\":\"x\",\"hovertemplate\":\"author(s)=%{x}<br>count=%{y}<extra></extra>\",\"legendgroup\":\"\",\"marker\":{\"color\":\"#636efa\",\"pattern\":{\"shape\":\"\"}},\"name\":\"\",\"offsetgroup\":\"\",\"orientation\":\"v\",\"showlegend\":false,\"x\":[\"星 新一\",\"宮沢 賢治\",\"東野 圭吾\",\"東野 圭吾\",\"Sir Arthur Conan Doyle\",\"東野 圭吾\",\"谷 瑞恵\",\"谷 瑞恵\",\"谷 瑞恵\",\"E.M. Forster\",\"伊坂 幸太郎\",\"日丸屋 秀和\",\"樋野 まつり, 藤咲 あゆな\",\"George Orwell\",\"日丸屋 秀和\",\"水城 せとな\",\"伊坂 幸太郎\",\"日丸屋 秀和\",\"葉山 透\",\"三上 延\",\"江口 夏実\",\"葉山 透\",\"日丸屋 秀和\",\"Sir Arthur Conan Doyle\",\"藤崎 都\",\"若宮 シノブ, 望月 淳\",\"村上 桃子\",\"三上 延\",\"日丸屋 秀和\",\"藤崎 都\",\"藤崎 都\",\"三上 延\",\"春河35\",\"東野 圭吾\",\"藤崎 都\",\"秋川 滝美\",\"日丸屋 秀和\",\"藤咲あゆな\",\"藤崎 都\",\"朝霧 カフカ\",\"東野 圭吾\",\"朝霧 カフカ\",\"東野 圭吾\",\"川村 元気\",\"藤崎 都\",\"三上 延\",\"北川 恵海\",\"Louis Sachar\",\"伊坂 幸太郎\",\"辻村 七子\",\"福嶋ユッカ\",\"Frances Hodgson Burnett\",\"朝井 リョウ\"],\"xaxis\":\"x\",\"yaxis\":\"y\",\"type\":\"histogram\"}],                        {\"template\":{\"data\":{\"histogram2dcontour\":[{\"type\":\"histogram2dcontour\",\"colorbar\":{\"outlinewidth\":0,\"ticks\":\"\"},\"colorscale\":[[0.0,\"#0d0887\"],[0.1111111111111111,\"#46039f\"],[0.2222222222222222,\"#7201a8\"],[0.3333333333333333,\"#9c179e\"],[0.4444444444444444,\"#bd3786\"],[0.5555555555555556,\"#d8576b\"],[0.6666666666666666,\"#ed7953\"],[0.7777777777777778,\"#fb9f3a\"],[0.8888888888888888,\"#fdca26\"],[1.0,\"#f0f921\"]]}],\"choropleth\":[{\"type\":\"choropleth\",\"colorbar\":{\"outlinewidth\":0,\"ticks\":\"\"}}],\"histogram2d\":[{\"type\":\"histogram2d\",\"colorbar\":{\"outlinewidth\":0,\"ticks\":\"\"},\"colorscale\":[[0.0,\"#0d0887\"],[0.1111111111111111,\"#46039f\"],[0.2222222222222222,\"#7201a8\"],[0.3333333333333333,\"#9c179e\"],[0.4444444444444444,\"#bd3786\"],[0.5555555555555556,\"#d8576b\"],[0.6666666666666666,\"#ed7953\"],[0.7777777777777778,\"#fb9f3a\"],[0.8888888888888888,\"#fdca26\"],[1.0,\"#f0f921\"]]}],\"heatmap\":[{\"type\":\"heatmap\",\"colorbar\":{\"outlinewidth\":0,\"ticks\":\"\"},\"colorscale\":[[0.0,\"#0d0887\"],[0.1111111111111111,\"#46039f\"],[0.2222222222222222,\"#7201a8\"],[0.3333333333333333,\"#9c179e\"],[0.4444444444444444,\"#bd3786\"],[0.5555555555555556,\"#d8576b\"],[0.6666666666666666,\"#ed7953\"],[0.7777777777777778,\"#fb9f3a\"],[0.8888888888888888,\"#fdca26\"],[1.0,\"#f0f921\"]]}],\"heatmapgl\":[{\"type\":\"heatmapgl\",\"colorbar\":{\"outlinewidth\":0,\"ticks\":\"\"},\"colorscale\":[[0.0,\"#0d0887\"],[0.1111111111111111,\"#46039f\"],[0.2222222222222222,\"#7201a8\"],[0.3333333333333333,\"#9c179e\"],[0.4444444444444444,\"#bd3786\"],[0.5555555555555556,\"#d8576b\"],[0.6666666666666666,\"#ed7953\"],[0.7777777777777778,\"#fb9f3a\"],[0.8888888888888888,\"#fdca26\"],[1.0,\"#f0f921\"]]}],\"contourcarpet\":[{\"type\":\"contourcarpet\",\"colorbar\":{\"outlinewidth\":0,\"ticks\":\"\"}}],\"contour\":[{\"type\":\"contour\",\"colorbar\":{\"outlinewidth\":0,\"ticks\":\"\"},\"colorscale\":[[0.0,\"#0d0887\"],[0.1111111111111111,\"#46039f\"],[0.2222222222222222,\"#7201a8\"],[0.3333333333333333,\"#9c179e\"],[0.4444444444444444,\"#bd3786\"],[0.5555555555555556,\"#d8576b\"],[0.6666666666666666,\"#ed7953\"],[0.7777777777777778,\"#fb9f3a\"],[0.8888888888888888,\"#fdca26\"],[1.0,\"#f0f921\"]]}],\"surface\":[{\"type\":\"surface\",\"colorbar\":{\"outlinewidth\":0,\"ticks\":\"\"},\"colorscale\":[[0.0,\"#0d0887\"],[0.1111111111111111,\"#46039f\"],[0.2222222222222222,\"#7201a8\"],[0.3333333333333333,\"#9c179e\"],[0.4444444444444444,\"#bd3786\"],[0.5555555555555556,\"#d8576b\"],[0.6666666666666666,\"#ed7953\"],[0.7777777777777778,\"#fb9f3a\"],[0.8888888888888888,\"#fdca26\"],[1.0,\"#f0f921\"]]}],\"mesh3d\":[{\"type\":\"mesh3d\",\"colorbar\":{\"outlinewidth\":0,\"ticks\":\"\"}}],\"scatter\":[{\"fillpattern\":{\"fillmode\":\"overlay\",\"size\":10,\"solidity\":0.2},\"type\":\"scatter\"}],\"parcoords\":[{\"type\":\"parcoords\",\"line\":{\"colorbar\":{\"outlinewidth\":0,\"ticks\":\"\"}}}],\"scatterpolargl\":[{\"type\":\"scatterpolargl\",\"marker\":{\"colorbar\":{\"outlinewidth\":0,\"ticks\":\"\"}}}],\"bar\":[{\"error_x\":{\"color\":\"#2a3f5f\"},\"error_y\":{\"color\":\"#2a3f5f\"},\"marker\":{\"line\":{\"color\":\"#E5ECF6\",\"width\":0.5},\"pattern\":{\"fillmode\":\"overlay\",\"size\":10,\"solidity\":0.2}},\"type\":\"bar\"}],\"scattergeo\":[{\"type\":\"scattergeo\",\"marker\":{\"colorbar\":{\"outlinewidth\":0,\"ticks\":\"\"}}}],\"scatterpolar\":[{\"type\":\"scatterpolar\",\"marker\":{\"colorbar\":{\"outlinewidth\":0,\"ticks\":\"\"}}}],\"histogram\":[{\"marker\":{\"pattern\":{\"fillmode\":\"overlay\",\"size\":10,\"solidity\":0.2}},\"type\":\"histogram\"}],\"scattergl\":[{\"type\":\"scattergl\",\"marker\":{\"colorbar\":{\"outlinewidth\":0,\"ticks\":\"\"}}}],\"scatter3d\":[{\"type\":\"scatter3d\",\"line\":{\"colorbar\":{\"outlinewidth\":0,\"ticks\":\"\"}},\"marker\":{\"colorbar\":{\"outlinewidth\":0,\"ticks\":\"\"}}}],\"scattermapbox\":[{\"type\":\"scattermapbox\",\"marker\":{\"colorbar\":{\"outlinewidth\":0,\"ticks\":\"\"}}}],\"scatterternary\":[{\"type\":\"scatterternary\",\"marker\":{\"colorbar\":{\"outlinewidth\":0,\"ticks\":\"\"}}}],\"scattercarpet\":[{\"type\":\"scattercarpet\",\"marker\":{\"colorbar\":{\"outlinewidth\":0,\"ticks\":\"\"}}}],\"carpet\":[{\"aaxis\":{\"endlinecolor\":\"#2a3f5f\",\"gridcolor\":\"white\",\"linecolor\":\"white\",\"minorgridcolor\":\"white\",\"startlinecolor\":\"#2a3f5f\"},\"baxis\":{\"endlinecolor\":\"#2a3f5f\",\"gridcolor\":\"white\",\"linecolor\":\"white\",\"minorgridcolor\":\"white\",\"startlinecolor\":\"#2a3f5f\"},\"type\":\"carpet\"}],\"table\":[{\"cells\":{\"fill\":{\"color\":\"#EBF0F8\"},\"line\":{\"color\":\"white\"}},\"header\":{\"fill\":{\"color\":\"#C8D4E3\"},\"line\":{\"color\":\"white\"}},\"type\":\"table\"}],\"barpolar\":[{\"marker\":{\"line\":{\"color\":\"#E5ECF6\",\"width\":0.5},\"pattern\":{\"fillmode\":\"overlay\",\"size\":10,\"solidity\":0.2}},\"type\":\"barpolar\"}],\"pie\":[{\"automargin\":true,\"type\":\"pie\"}]},\"layout\":{\"autotypenumbers\":\"strict\",\"colorway\":[\"#636efa\",\"#EF553B\",\"#00cc96\",\"#ab63fa\",\"#FFA15A\",\"#19d3f3\",\"#FF6692\",\"#B6E880\",\"#FF97FF\",\"#FECB52\"],\"font\":{\"color\":\"#2a3f5f\"},\"hovermode\":\"closest\",\"hoverlabel\":{\"align\":\"left\"},\"paper_bgcolor\":\"white\",\"plot_bgcolor\":\"#E5ECF6\",\"polar\":{\"bgcolor\":\"#E5ECF6\",\"angularaxis\":{\"gridcolor\":\"white\",\"linecolor\":\"white\",\"ticks\":\"\"},\"radialaxis\":{\"gridcolor\":\"white\",\"linecolor\":\"white\",\"ticks\":\"\"}},\"ternary\":{\"bgcolor\":\"#E5ECF6\",\"aaxis\":{\"gridcolor\":\"white\",\"linecolor\":\"white\",\"ticks\":\"\"},\"baxis\":{\"gridcolor\":\"white\",\"linecolor\":\"white\",\"ticks\":\"\"},\"caxis\":{\"gridcolor\":\"white\",\"linecolor\":\"white\",\"ticks\":\"\"}},\"coloraxis\":{\"colorbar\":{\"outlinewidth\":0,\"ticks\":\"\"}},\"colorscale\":{\"sequential\":[[0.0,\"#0d0887\"],[0.1111111111111111,\"#46039f\"],[0.2222222222222222,\"#7201a8\"],[0.3333333333333333,\"#9c179e\"],[0.4444444444444444,\"#bd3786\"],[0.5555555555555556,\"#d8576b\"],[0.6666666666666666,\"#ed7953\"],[0.7777777777777778,\"#fb9f3a\"],[0.8888888888888888,\"#fdca26\"],[1.0,\"#f0f921\"]],\"sequentialminus\":[[0.0,\"#0d0887\"],[0.1111111111111111,\"#46039f\"],[0.2222222222222222,\"#7201a8\"],[0.3333333333333333,\"#9c179e\"],[0.4444444444444444,\"#bd3786\"],[0.5555555555555556,\"#d8576b\"],[0.6666666666666666,\"#ed7953\"],[0.7777777777777778,\"#fb9f3a\"],[0.8888888888888888,\"#fdca26\"],[1.0,\"#f0f921\"]],\"diverging\":[[0,\"#8e0152\"],[0.1,\"#c51b7d\"],[0.2,\"#de77ae\"],[0.3,\"#f1b6da\"],[0.4,\"#fde0ef\"],[0.5,\"#f7f7f7\"],[0.6,\"#e6f5d0\"],[0.7,\"#b8e186\"],[0.8,\"#7fbc41\"],[0.9,\"#4d9221\"],[1,\"#276419\"]]},\"xaxis\":{\"gridcolor\":\"white\",\"linecolor\":\"white\",\"ticks\":\"\",\"title\":{\"standoff\":15},\"zerolinecolor\":\"white\",\"automargin\":true,\"zerolinewidth\":2},\"yaxis\":{\"gridcolor\":\"white\",\"linecolor\":\"white\",\"ticks\":\"\",\"title\":{\"standoff\":15},\"zerolinecolor\":\"white\",\"automargin\":true,\"zerolinewidth\":2},\"scene\":{\"xaxis\":{\"backgroundcolor\":\"#E5ECF6\",\"gridcolor\":\"white\",\"linecolor\":\"white\",\"showbackground\":true,\"ticks\":\"\",\"zerolinecolor\":\"white\",\"gridwidth\":2},\"yaxis\":{\"backgroundcolor\":\"#E5ECF6\",\"gridcolor\":\"white\",\"linecolor\":\"white\",\"showbackground\":true,\"ticks\":\"\",\"zerolinecolor\":\"white\",\"gridwidth\":2},\"zaxis\":{\"backgroundcolor\":\"#E5ECF6\",\"gridcolor\":\"white\",\"linecolor\":\"white\",\"showbackground\":true,\"ticks\":\"\",\"zerolinecolor\":\"white\",\"gridwidth\":2}},\"shapedefaults\":{\"line\":{\"color\":\"#2a3f5f\"}},\"annotationdefaults\":{\"arrowcolor\":\"#2a3f5f\",\"arrowhead\":0,\"arrowwidth\":1},\"geo\":{\"bgcolor\":\"white\",\"landcolor\":\"#E5ECF6\",\"subunitcolor\":\"white\",\"showland\":true,\"showlakes\":true,\"lakecolor\":\"white\"},\"title\":{\"x\":0.05},\"mapbox\":{\"style\":\"light\"}}},\"xaxis\":{\"anchor\":\"y\",\"domain\":[0.0,1.0],\"title\":{\"text\":\"author(s)\"}},\"yaxis\":{\"anchor\":\"x\",\"domain\":[0.0,1.0],\"title\":{\"text\":\"count\"}},\"legend\":{\"tracegroupgap\":0},\"margin\":{\"t\":60},\"barmode\":\"relative\"},                        {\"responsive\": true}                    ).then(function(){\n",
       "                            \n",
       "var gd = document.getElementById('50fc19b3-8920-4209-944d-d539e89be93b');\n",
       "var x = new MutationObserver(function (mutations, observer) {{\n",
       "        var display = window.getComputedStyle(gd).display;\n",
       "        if (!display || display === 'none') {{\n",
       "            console.log([gd, 'removed!']);\n",
       "            Plotly.purge(gd);\n",
       "            observer.disconnect();\n",
       "        }}\n",
       "}});\n",
       "\n",
       "// Listen for the removal of the full notebook cells\n",
       "var notebookContainer = gd.closest('#notebook-container');\n",
       "if (notebookContainer) {{\n",
       "    x.observe(notebookContainer, {childList: true});\n",
       "}}\n",
       "\n",
       "// Listen for the clearing of the current output cell\n",
       "var outputEl = gd.closest('.output');\n",
       "if (outputEl) {{\n",
       "    x.observe(outputEl, {childList: true});\n",
       "}}\n",
       "\n",
       "                        })                };                });            </script>        </div>"
      ]
     },
     "metadata": {},
     "output_type": "display_data"
    }
   ],
   "source": [
    "# visualisation of authors for books read but have no recorded completion date\n",
    "px.histogram( completion_date_unknown, x = \"author(s)\")"
   ]
  },
  {
   "cell_type": "code",
   "execution_count": 37,
   "id": "1f5c12ea",
   "metadata": {
    "execution": {
     "iopub.execute_input": "2022-06-09T11:58:29.475355Z",
     "iopub.status.busy": "2022-06-09T11:58:29.474954Z",
     "iopub.status.idle": "2022-06-09T11:58:29.482695Z",
     "shell.execute_reply": "2022-06-09T11:58:29.482087Z"
    },
    "papermill": {
     "duration": 0.03765,
     "end_time": "2022-06-09T11:58:29.485021",
     "exception": false,
     "start_time": "2022-06-09T11:58:29.447371",
     "status": "completed"
    },
    "tags": []
   },
   "outputs": [
    {
     "name": "stdout",
     "output_type": "stream",
     "text": [
      "The books by the most popular authors were consumed as a physical book.\n"
     ]
    }
   ],
   "source": [
    "# How were the books by the most popular authors consumed\n",
    "Book_format = completion_date_unknown[(completion_date_unknown[\"author(s)\"] ==\"東野 圭吾\")|(completion_date_unknown[\"author(s)\"] ==\"藤崎 都\")][\"format\"].unique()\n",
    "if len(Book_format) ==1: \n",
    "    print(\"The books by the most popular authors were consumed as a\", \"{}{}\".format(Book_format[0].lower(),\".\"))\n",
    "else: \n",
    "    print(\"The books by the most popular authors were consumed as a\",Book_format)"
   ]
  },
  {
   "cell_type": "code",
   "execution_count": 38,
   "id": "a3fec30a",
   "metadata": {
    "execution": {
     "iopub.execute_input": "2022-06-09T11:58:29.539359Z",
     "iopub.status.busy": "2022-06-09T11:58:29.538720Z",
     "iopub.status.idle": "2022-06-09T11:58:29.718753Z",
     "shell.execute_reply": "2022-06-09T11:58:29.718083Z"
    },
    "papermill": {
     "duration": 0.208884,
     "end_time": "2022-06-09T11:58:29.720724",
     "exception": false,
     "start_time": "2022-06-09T11:58:29.511840",
     "status": "completed"
    },
    "tags": []
   },
   "outputs": [
    {
     "data": {
      "image/png": "[encoded data removed]",
      "text/plain": [
       "<Figure size 432x288 with 1 Axes>"
      ]
     },
     "metadata": {},
     "output_type": "display_data"
    }
   ],
   "source": [
    "# distribution of formats thoughout the books read with no completion date\n",
    "sns.countplot(x = \"format\", data = completion_date_unknown)\n",
    "plt.show()"
   ]
  },
  {
   "cell_type": "code",
   "execution_count": 39,
   "id": "b449a24b",
   "metadata": {
    "execution": {
     "iopub.execute_input": "2022-06-09T11:58:29.775738Z",
     "iopub.status.busy": "2022-06-09T11:58:29.775141Z",
     "iopub.status.idle": "2022-06-09T11:58:29.781143Z",
     "shell.execute_reply": "2022-06-09T11:58:29.780521Z"
    },
    "papermill": {
     "duration": 0.03549,
     "end_time": "2022-06-09T11:58:29.782969",
     "exception": false,
     "start_time": "2022-06-09T11:58:29.747479",
     "status": "completed"
    },
    "tags": []
   },
   "outputs": [
    {
     "name": "stdout",
     "output_type": "stream",
     "text": [
      "79.25% of books with no completion date were consumed as a physical book.\n"
     ]
    }
   ],
   "source": [
    "percent = round(((completion_date_unknown[completion_date_unknown[\"format\"]== \"Physical Book\"].shape[0]/completion_date_unknown.shape[0])*100), 2)\n",
    "print(\"{}{}\".format(percent,\"% of books with no completion date were consumed as a physical book.\"))"
   ]
  },
  {
   "cell_type": "code",
   "execution_count": 40,
   "id": "f3c310fa",
   "metadata": {
    "execution": {
     "iopub.execute_input": "2022-06-09T11:58:29.837547Z",
     "iopub.status.busy": "2022-06-09T11:58:29.836977Z",
     "iopub.status.idle": "2022-06-09T11:58:29.857989Z",
     "shell.execute_reply": "2022-06-09T11:58:29.857357Z"
    },
    "papermill": {
     "duration": 0.05028,
     "end_time": "2022-06-09T11:58:29.859653",
     "exception": false,
     "start_time": "2022-06-09T11:58:29.809373",
     "status": "completed"
    },
    "tags": []
   },
   "outputs": [
    {
     "data": {
      "text/html": [
       "<div>\n",
       "<style scoped>\n",
       "    .dataframe tbody tr th:only-of-type {\n",
       "        vertical-align: middle;\n",
       "    }\n",
       "\n",
       "    .dataframe tbody tr th {\n",
       "        vertical-align: top;\n",
       "    }\n",
       "\n",
       "    .dataframe thead th {\n",
       "        text-align: right;\n",
       "    }\n",
       "</style>\n",
       "<table border=\"1\" class=\"dataframe\">\n",
       "  <thead>\n",
       "    <tr style=\"text-align: right;\">\n",
       "      <th></th>\n",
       "      <th>completion date</th>\n",
       "      <th>Title</th>\n",
       "      <th>author(s)</th>\n",
       "      <th>pages</th>\n",
       "      <th>review</th>\n",
       "      <th>rating</th>\n",
       "      <th>status</th>\n",
       "      <th>format</th>\n",
       "      <th>platform</th>\n",
       "      <th>publisher</th>\n",
       "      <th>Imprint</th>\n",
       "      <th>publication date</th>\n",
       "      <th>type</th>\n",
       "      <th>genre</th>\n",
       "      <th>language</th>\n",
       "      <th>publication_year</th>\n",
       "      <th>publication_month</th>\n",
       "      <th>completion_year</th>\n",
       "      <th>completion_month</th>\n",
       "    </tr>\n",
       "  </thead>\n",
       "  <tbody>\n",
       "    <tr>\n",
       "      <th>349</th>\n",
       "      <td>NaT</td>\n",
       "      <td>どうしても生きてる</td>\n",
       "      <td>朝井 リョウ</td>\n",
       "      <td>323</td>\n",
       "      <td>Yes</td>\n",
       "      <td>4.0</td>\n",
       "      <td>Completed</td>\n",
       "      <td>Audiobook</td>\n",
       "      <td>Audible</td>\n",
       "      <td>幻冬舎</td>\n",
       "      <td>幻冬舎文庫</td>\n",
       "      <td>2019-10-10</td>\n",
       "      <td>Fiction</td>\n",
       "      <td>Contemporary</td>\n",
       "      <td>Japanese</td>\n",
       "      <td>2019</td>\n",
       "      <td>10</td>\n",
       "      <td>NaN</td>\n",
       "      <td>NaN</td>\n",
       "    </tr>\n",
       "  </tbody>\n",
       "</table>\n",
       "</div>"
      ],
      "text/plain": [
       "    completion date      Title author(s)  pages review  rating     status  \\\n",
       "349             NaT  どうしても生きてる    朝井 リョウ    323    Yes     4.0  Completed   \n",
       "\n",
       "        format platform publisher Imprint publication date     type  \\\n",
       "349  Audiobook  Audible       幻冬舎   幻冬舎文庫       2019-10-10  Fiction   \n",
       "\n",
       "            genre  language  publication_year  publication_month  \\\n",
       "349  Contemporary  Japanese              2019                 10   \n",
       "\n",
       "     completion_year  completion_month  \n",
       "349              NaN               NaN  "
      ]
     },
     "execution_count": 40,
     "metadata": {},
     "output_type": "execute_result"
    }
   ],
   "source": [
    "# information of the book with no completion date consumed as an audiobook\n",
    "completion_date_unknown[completion_date_unknown[\"format\"]== \"Audiobook\"]"
   ]
  },
  {
   "cell_type": "code",
   "execution_count": 41,
   "id": "6bb61cc2",
   "metadata": {
    "execution": {
     "iopub.execute_input": "2022-06-09T11:58:29.914941Z",
     "iopub.status.busy": "2022-06-09T11:58:29.914064Z",
     "iopub.status.idle": "2022-06-09T11:58:29.977330Z",
     "shell.execute_reply": "2022-06-09T11:58:29.976421Z"
    },
    "papermill": {
     "duration": 0.093105,
     "end_time": "2022-06-09T11:58:29.979464",
     "exception": false,
     "start_time": "2022-06-09T11:58:29.886359",
     "status": "completed"
    },
    "tags": []
   },
   "outputs": [
    {
     "data": {
      "text/html": [
       "<div>                            <div id=\"979d4813-cd6b-4a1d-81e9-d42d84be6910\" class=\"plotly-graph-div\" style=\"height:525px; width:100%;\"></div>            <script type=\"text/javascript\">                require([\"plotly\"], function(Plotly) {                    window.PLOTLYENV=window.PLOTLYENV || {};                                    if (document.getElementById(\"979d4813-cd6b-4a1d-81e9-d42d84be6910\")) {                    Plotly.newPlot(                        \"979d4813-cd6b-4a1d-81e9-d42d84be6910\",                        [{\"alignmentgroup\":\"True\",\"bingroup\":\"x\",\"hovertemplate\":\"Imprint=%{x}<br>count=%{y}<extra></extra>\",\"legendgroup\":\"\",\"marker\":{\"color\":\"#636efa\",\"pattern\":{\"shape\":\"\"}},\"name\":\"\",\"offsetgroup\":\"\",\"orientation\":\"v\",\"showlegend\":false,\"x\":[\"新潮文庫\",\"新潮文庫\",\"講談社文庫\",\"講談社文庫\",\"Wordsworth Editions\",\"講談社文庫\",\"コバルト文庫\",\"コバルト文庫\",\"コバルト文庫\",\"Penguin Classics\",\"祥伝社文庫\",\"幻冬舎コミックス\",\"花とゆめCOMICSスペシャルララノベルズ\",\"Penguin\",\"幻冬舎コミックス\",\"フラワーコミックスα\",\"祥伝社文庫\",\"幻冬舎コミックス\",\"メディアワークス文庫\",\"メディアワークス文庫\",\"モーニング KC\",\"メディアワークス文庫\",\"幻冬舎コミックス\",\"Penguin\",\"角川ルビー文庫\",\"Ｇファンタジーノベルズ\",\"リンダブックス\",\"メディアワークス文庫\",\"幻冬舎コミックス\",\"角川ルビー文庫\",\"角川ルビー文庫\",\"メディアワークス文庫\",\"カドカワコミックス・エース\",\"文春文庫\",\"角川ルビー文庫\",\"アルファポリス\",\"幻冬舎コミックス\",\"花とゆめCOMICSスペシャルララノベルズ\",\"角川ルビー文庫\",\"角川ビーンズ文庫\",\"集英社文庫\",\"角川ビーンズ文庫\",\"集英社文庫\",\"小学館文庫\",\"角川ルビー文庫\",\"メディアワークス文庫\",\"メディアワークス文庫\",\"Bloomsbury Children's Books\",\"ノン・ノベル\",\"集英社オレンジ文庫\",\"GUSH COMICS\",\"Collins Classics\",\"幻冬舎文庫\"],\"xaxis\":\"x\",\"yaxis\":\"y\",\"type\":\"histogram\"}],                        {\"template\":{\"data\":{\"histogram2dcontour\":[{\"type\":\"histogram2dcontour\",\"colorbar\":{\"outlinewidth\":0,\"ticks\":\"\"},\"colorscale\":[[0.0,\"#0d0887\"],[0.1111111111111111,\"#46039f\"],[0.2222222222222222,\"#7201a8\"],[0.3333333333333333,\"#9c179e\"],[0.4444444444444444,\"#bd3786\"],[0.5555555555555556,\"#d8576b\"],[0.6666666666666666,\"#ed7953\"],[0.7777777777777778,\"#fb9f3a\"],[0.8888888888888888,\"#fdca26\"],[1.0,\"#f0f921\"]]}],\"choropleth\":[{\"type\":\"choropleth\",\"colorbar\":{\"outlinewidth\":0,\"ticks\":\"\"}}],\"histogram2d\":[{\"type\":\"histogram2d\",\"colorbar\":{\"outlinewidth\":0,\"ticks\":\"\"},\"colorscale\":[[0.0,\"#0d0887\"],[0.1111111111111111,\"#46039f\"],[0.2222222222222222,\"#7201a8\"],[0.3333333333333333,\"#9c179e\"],[0.4444444444444444,\"#bd3786\"],[0.5555555555555556,\"#d8576b\"],[0.6666666666666666,\"#ed7953\"],[0.7777777777777778,\"#fb9f3a\"],[0.8888888888888888,\"#fdca26\"],[1.0,\"#f0f921\"]]}],\"heatmap\":[{\"type\":\"heatmap\",\"colorbar\":{\"outlinewidth\":0,\"ticks\":\"\"},\"colorscale\":[[0.0,\"#0d0887\"],[0.1111111111111111,\"#46039f\"],[0.2222222222222222,\"#7201a8\"],[0.3333333333333333,\"#9c179e\"],[0.4444444444444444,\"#bd3786\"],[0.5555555555555556,\"#d8576b\"],[0.6666666666666666,\"#ed7953\"],[0.7777777777777778,\"#fb9f3a\"],[0.8888888888888888,\"#fdca26\"],[1.0,\"#f0f921\"]]}],\"heatmapgl\":[{\"type\":\"heatmapgl\",\"colorbar\":{\"outlinewidth\":0,\"ticks\":\"\"},\"colorscale\":[[0.0,\"#0d0887\"],[0.1111111111111111,\"#46039f\"],[0.2222222222222222,\"#7201a8\"],[0.3333333333333333,\"#9c179e\"],[0.4444444444444444,\"#bd3786\"],[0.5555555555555556,\"#d8576b\"],[0.6666666666666666,\"#ed7953\"],[0.7777777777777778,\"#fb9f3a\"],[0.8888888888888888,\"#fdca26\"],[1.0,\"#f0f921\"]]}],\"contourcarpet\":[{\"type\":\"contourcarpet\",\"colorbar\":{\"outlinewidth\":0,\"ticks\":\"\"}}],\"contour\":[{\"type\":\"contour\",\"colorbar\":{\"outlinewidth\":0,\"ticks\":\"\"},\"colorscale\":[[0.0,\"#0d0887\"],[0.1111111111111111,\"#46039f\"],[0.2222222222222222,\"#7201a8\"],[0.3333333333333333,\"#9c179e\"],[0.4444444444444444,\"#bd3786\"],[0.5555555555555556,\"#d8576b\"],[0.6666666666666666,\"#ed7953\"],[0.7777777777777778,\"#fb9f3a\"],[0.8888888888888888,\"#fdca26\"],[1.0,\"#f0f921\"]]}],\"surface\":[{\"type\":\"surface\",\"colorbar\":{\"outlinewidth\":0,\"ticks\":\"\"},\"colorscale\":[[0.0,\"#0d0887\"],[0.1111111111111111,\"#46039f\"],[0.2222222222222222,\"#7201a8\"],[0.3333333333333333,\"#9c179e\"],[0.4444444444444444,\"#bd3786\"],[0.5555555555555556,\"#d8576b\"],[0.6666666666666666,\"#ed7953\"],[0.7777777777777778,\"#fb9f3a\"],[0.8888888888888888,\"#fdca26\"],[1.0,\"#f0f921\"]]}],\"mesh3d\":[{\"type\":\"mesh3d\",\"colorbar\":{\"outlinewidth\":0,\"ticks\":\"\"}}],\"scatter\":[{\"fillpattern\":{\"fillmode\":\"overlay\",\"size\":10,\"solidity\":0.2},\"type\":\"scatter\"}],\"parcoords\":[{\"type\":\"parcoords\",\"line\":{\"colorbar\":{\"outlinewidth\":0,\"ticks\":\"\"}}}],\"scatterpolargl\":[{\"type\":\"scatterpolargl\",\"marker\":{\"colorbar\":{\"outlinewidth\":0,\"ticks\":\"\"}}}],\"bar\":[{\"error_x\":{\"color\":\"#2a3f5f\"},\"error_y\":{\"color\":\"#2a3f5f\"},\"marker\":{\"line\":{\"color\":\"#E5ECF6\",\"width\":0.5},\"pattern\":{\"fillmode\":\"overlay\",\"size\":10,\"solidity\":0.2}},\"type\":\"bar\"}],\"scattergeo\":[{\"type\":\"scattergeo\",\"marker\":{\"colorbar\":{\"outlinewidth\":0,\"ticks\":\"\"}}}],\"scatterpolar\":[{\"type\":\"scatterpolar\",\"marker\":{\"colorbar\":{\"outlinewidth\":0,\"ticks\":\"\"}}}],\"histogram\":[{\"marker\":{\"pattern\":{\"fillmode\":\"overlay\",\"size\":10,\"solidity\":0.2}},\"type\":\"histogram\"}],\"scattergl\":[{\"type\":\"scattergl\",\"marker\":{\"colorbar\":{\"outlinewidth\":0,\"ticks\":\"\"}}}],\"scatter3d\":[{\"type\":\"scatter3d\",\"line\":{\"colorbar\":{\"outlinewidth\":0,\"ticks\":\"\"}},\"marker\":{\"colorbar\":{\"outlinewidth\":0,\"ticks\":\"\"}}}],\"scattermapbox\":[{\"type\":\"scattermapbox\",\"marker\":{\"colorbar\":{\"outlinewidth\":0,\"ticks\":\"\"}}}],\"scatterternary\":[{\"type\":\"scatterternary\",\"marker\":{\"colorbar\":{\"outlinewidth\":0,\"ticks\":\"\"}}}],\"scattercarpet\":[{\"type\":\"scattercarpet\",\"marker\":{\"colorbar\":{\"outlinewidth\":0,\"ticks\":\"\"}}}],\"carpet\":[{\"aaxis\":{\"endlinecolor\":\"#2a3f5f\",\"gridcolor\":\"white\",\"linecolor\":\"white\",\"minorgridcolor\":\"white\",\"startlinecolor\":\"#2a3f5f\"},\"baxis\":{\"endlinecolor\":\"#2a3f5f\",\"gridcolor\":\"white\",\"linecolor\":\"white\",\"minorgridcolor\":\"white\",\"startlinecolor\":\"#2a3f5f\"},\"type\":\"carpet\"}],\"table\":[{\"cells\":{\"fill\":{\"color\":\"#EBF0F8\"},\"line\":{\"color\":\"white\"}},\"header\":{\"fill\":{\"color\":\"#C8D4E3\"},\"line\":{\"color\":\"white\"}},\"type\":\"table\"}],\"barpolar\":[{\"marker\":{\"line\":{\"color\":\"#E5ECF6\",\"width\":0.5},\"pattern\":{\"fillmode\":\"overlay\",\"size\":10,\"solidity\":0.2}},\"type\":\"barpolar\"}],\"pie\":[{\"automargin\":true,\"type\":\"pie\"}]},\"layout\":{\"autotypenumbers\":\"strict\",\"colorway\":[\"#636efa\",\"#EF553B\",\"#00cc96\",\"#ab63fa\",\"#FFA15A\",\"#19d3f3\",\"#FF6692\",\"#B6E880\",\"#FF97FF\",\"#FECB52\"],\"font\":{\"color\":\"#2a3f5f\"},\"hovermode\":\"closest\",\"hoverlabel\":{\"align\":\"left\"},\"paper_bgcolor\":\"white\",\"plot_bgcolor\":\"#E5ECF6\",\"polar\":{\"bgcolor\":\"#E5ECF6\",\"angularaxis\":{\"gridcolor\":\"white\",\"linecolor\":\"white\",\"ticks\":\"\"},\"radialaxis\":{\"gridcolor\":\"white\",\"linecolor\":\"white\",\"ticks\":\"\"}},\"ternary\":{\"bgcolor\":\"#E5ECF6\",\"aaxis\":{\"gridcolor\":\"white\",\"linecolor\":\"white\",\"ticks\":\"\"},\"baxis\":{\"gridcolor\":\"white\",\"linecolor\":\"white\",\"ticks\":\"\"},\"caxis\":{\"gridcolor\":\"white\",\"linecolor\":\"white\",\"ticks\":\"\"}},\"coloraxis\":{\"colorbar\":{\"outlinewidth\":0,\"ticks\":\"\"}},\"colorscale\":{\"sequential\":[[0.0,\"#0d0887\"],[0.1111111111111111,\"#46039f\"],[0.2222222222222222,\"#7201a8\"],[0.3333333333333333,\"#9c179e\"],[0.4444444444444444,\"#bd3786\"],[0.5555555555555556,\"#d8576b\"],[0.6666666666666666,\"#ed7953\"],[0.7777777777777778,\"#fb9f3a\"],[0.8888888888888888,\"#fdca26\"],[1.0,\"#f0f921\"]],\"sequentialminus\":[[0.0,\"#0d0887\"],[0.1111111111111111,\"#46039f\"],[0.2222222222222222,\"#7201a8\"],[0.3333333333333333,\"#9c179e\"],[0.4444444444444444,\"#bd3786\"],[0.5555555555555556,\"#d8576b\"],[0.6666666666666666,\"#ed7953\"],[0.7777777777777778,\"#fb9f3a\"],[0.8888888888888888,\"#fdca26\"],[1.0,\"#f0f921\"]],\"diverging\":[[0,\"#8e0152\"],[0.1,\"#c51b7d\"],[0.2,\"#de77ae\"],[0.3,\"#f1b6da\"],[0.4,\"#fde0ef\"],[0.5,\"#f7f7f7\"],[0.6,\"#e6f5d0\"],[0.7,\"#b8e186\"],[0.8,\"#7fbc41\"],[0.9,\"#4d9221\"],[1,\"#276419\"]]},\"xaxis\":{\"gridcolor\":\"white\",\"linecolor\":\"white\",\"ticks\":\"\",\"title\":{\"standoff\":15},\"zerolinecolor\":\"white\",\"automargin\":true,\"zerolinewidth\":2},\"yaxis\":{\"gridcolor\":\"white\",\"linecolor\":\"white\",\"ticks\":\"\",\"title\":{\"standoff\":15},\"zerolinecolor\":\"white\",\"automargin\":true,\"zerolinewidth\":2},\"scene\":{\"xaxis\":{\"backgroundcolor\":\"#E5ECF6\",\"gridcolor\":\"white\",\"linecolor\":\"white\",\"showbackground\":true,\"ticks\":\"\",\"zerolinecolor\":\"white\",\"gridwidth\":2},\"yaxis\":{\"backgroundcolor\":\"#E5ECF6\",\"gridcolor\":\"white\",\"linecolor\":\"white\",\"showbackground\":true,\"ticks\":\"\",\"zerolinecolor\":\"white\",\"gridwidth\":2},\"zaxis\":{\"backgroundcolor\":\"#E5ECF6\",\"gridcolor\":\"white\",\"linecolor\":\"white\",\"showbackground\":true,\"ticks\":\"\",\"zerolinecolor\":\"white\",\"gridwidth\":2}},\"shapedefaults\":{\"line\":{\"color\":\"#2a3f5f\"}},\"annotationdefaults\":{\"arrowcolor\":\"#2a3f5f\",\"arrowhead\":0,\"arrowwidth\":1},\"geo\":{\"bgcolor\":\"white\",\"landcolor\":\"#E5ECF6\",\"subunitcolor\":\"white\",\"showland\":true,\"showlakes\":true,\"lakecolor\":\"white\"},\"title\":{\"x\":0.05},\"mapbox\":{\"style\":\"light\"}}},\"xaxis\":{\"anchor\":\"y\",\"domain\":[0.0,1.0],\"title\":{\"text\":\"Imprint\"}},\"yaxis\":{\"anchor\":\"x\",\"domain\":[0.0,1.0],\"title\":{\"text\":\"count\"}},\"legend\":{\"tracegroupgap\":0},\"margin\":{\"t\":60},\"barmode\":\"relative\"},                        {\"responsive\": true}                    ).then(function(){\n",
       "                            \n",
       "var gd = document.getElementById('979d4813-cd6b-4a1d-81e9-d42d84be6910');\n",
       "var x = new MutationObserver(function (mutations, observer) {{\n",
       "        var display = window.getComputedStyle(gd).display;\n",
       "        if (!display || display === 'none') {{\n",
       "            console.log([gd, 'removed!']);\n",
       "            Plotly.purge(gd);\n",
       "            observer.disconnect();\n",
       "        }}\n",
       "}});\n",
       "\n",
       "// Listen for the removal of the full notebook cells\n",
       "var notebookContainer = gd.closest('#notebook-container');\n",
       "if (notebookContainer) {{\n",
       "    x.observe(notebookContainer, {childList: true});\n",
       "}}\n",
       "\n",
       "// Listen for the clearing of the current output cell\n",
       "var outputEl = gd.closest('.output');\n",
       "if (outputEl) {{\n",
       "    x.observe(outputEl, {childList: true});\n",
       "}}\n",
       "\n",
       "                        })                };                });            </script>        </div>"
      ]
     },
     "metadata": {},
     "output_type": "display_data"
    }
   ],
   "source": [
    "# Imprints of books with no completion date\n",
    "px.histogram( completion_date_unknown, x = \"Imprint\")"
   ]
  },
  {
   "cell_type": "code",
   "execution_count": 42,
   "id": "9ca78b92",
   "metadata": {
    "execution": {
     "iopub.execute_input": "2022-06-09T11:58:30.035972Z",
     "iopub.status.busy": "2022-06-09T11:58:30.035585Z",
     "iopub.status.idle": "2022-06-09T11:58:30.044104Z",
     "shell.execute_reply": "2022-06-09T11:58:30.043045Z"
    },
    "papermill": {
     "duration": 0.03881,
     "end_time": "2022-06-09T11:58:30.046173",
     "exception": false,
     "start_time": "2022-06-09T11:58:30.007363",
     "status": "completed"
    },
    "tags": []
   },
   "outputs": [
    {
     "name": "stdout",
     "output_type": "stream",
     "text": [
      "For the popular authors in the list of read books with no completion date, their books were published via the following imprints:, 講談社文庫, 幻冬舎コミックス, 角川ルビー文庫, 文春文庫, 集英社文庫\n"
     ]
    }
   ],
   "source": [
    "imprints = completion_date_unknown[(completion_date_unknown[\"author(s)\"] ==\"東野 圭吾\")|(completion_date_unknown[\"author(s)\"] ==\"藤崎 都\")|(completion_date_unknown[\"author(s)\"] ==\"日丸屋 秀和\")][\"Imprint\"].unique()\n",
    "\n",
    "print(\"For the popular authors in the list of read books with no completion date, their books were published via the following imprints:\",*imprints, sep= \", \")"
   ]
  },
  {
   "cell_type": "code",
   "execution_count": 43,
   "id": "a645b24e",
   "metadata": {
    "execution": {
     "iopub.execute_input": "2022-06-09T11:58:30.102078Z",
     "iopub.status.busy": "2022-06-09T11:58:30.101365Z",
     "iopub.status.idle": "2022-06-09T11:58:30.161966Z",
     "shell.execute_reply": "2022-06-09T11:58:30.161082Z"
    },
    "papermill": {
     "duration": 0.090786,
     "end_time": "2022-06-09T11:58:30.164003",
     "exception": false,
     "start_time": "2022-06-09T11:58:30.073217",
     "status": "completed"
    },
    "tags": []
   },
   "outputs": [
    {
     "data": {
      "text/html": [
       "<div>                            <div id=\"ccd94b81-2478-4645-935e-1c126c8208d5\" class=\"plotly-graph-div\" style=\"height:525px; width:100%;\"></div>            <script type=\"text/javascript\">                require([\"plotly\"], function(Plotly) {                    window.PLOTLYENV=window.PLOTLYENV || {};                                    if (document.getElementById(\"ccd94b81-2478-4645-935e-1c126c8208d5\")) {                    Plotly.newPlot(                        \"ccd94b81-2478-4645-935e-1c126c8208d5\",                        [{\"alignmentgroup\":\"True\",\"bingroup\":\"x\",\"hovertemplate\":\"publisher=%{x}<br>count=%{y}<extra></extra>\",\"legendgroup\":\"\",\"marker\":{\"color\":\"#636efa\",\"pattern\":{\"shape\":\"\"}},\"name\":\"\",\"offsetgroup\":\"\",\"orientation\":\"v\",\"showlegend\":false,\"x\":[\"新潮社\",\"新潮社\",\"講談社\",\"講談社\",\"Wordsworth Editions\",\"講談社\",\"集英社\",\"集英社\",\"集英社\",\"Penguin Random House\",\"祥伝社\",\"幻冬舎\",\"白泉社\",\"Penguin Random House\",\"幻冬舎\",\"小学館\",\"祥伝社\",\"幻冬舎\",\"KADOKAWA\",\"KADOKAWA\",\"講談社\",\"KADOKAWA\",\"幻冬舎\",\"Penguin Random House\",\"KADOKAWA\",\"スクウェア・エニックス\",\"泰文堂\",\"KADOKAWA\",\"幻冬舎\",\"KADOKAWA\",\"KADOKAWA\",\"KADOKAWA\",\"KADOKAWA\",\"文藝春秋\",\"KADOKAWA\",\"アルファポリス\",\"幻冬舎\",\"白泉社\",\"KADOKAWA\",\"KADOKAWA\",\"集英社\",\"KADOKAWA\",\"集英社\",\"小学館\",\"KADOKAWA\",\"KADOKAWA\",\"KADOKAWA\",\"Bloomsbury\",\"祥伝社\",\"集英社\",\"海王社\",\"William Collins\",\"幻冬舎\"],\"xaxis\":\"x\",\"yaxis\":\"y\",\"type\":\"histogram\"}],                        {\"template\":{\"data\":{\"histogram2dcontour\":[{\"type\":\"histogram2dcontour\",\"colorbar\":{\"outlinewidth\":0,\"ticks\":\"\"},\"colorscale\":[[0.0,\"#0d0887\"],[0.1111111111111111,\"#46039f\"],[0.2222222222222222,\"#7201a8\"],[0.3333333333333333,\"#9c179e\"],[0.4444444444444444,\"#bd3786\"],[0.5555555555555556,\"#d8576b\"],[0.6666666666666666,\"#ed7953\"],[0.7777777777777778,\"#fb9f3a\"],[0.8888888888888888,\"#fdca26\"],[1.0,\"#f0f921\"]]}],\"choropleth\":[{\"type\":\"choropleth\",\"colorbar\":{\"outlinewidth\":0,\"ticks\":\"\"}}],\"histogram2d\":[{\"type\":\"histogram2d\",\"colorbar\":{\"outlinewidth\":0,\"ticks\":\"\"},\"colorscale\":[[0.0,\"#0d0887\"],[0.1111111111111111,\"#46039f\"],[0.2222222222222222,\"#7201a8\"],[0.3333333333333333,\"#9c179e\"],[0.4444444444444444,\"#bd3786\"],[0.5555555555555556,\"#d8576b\"],[0.6666666666666666,\"#ed7953\"],[0.7777777777777778,\"#fb9f3a\"],[0.8888888888888888,\"#fdca26\"],[1.0,\"#f0f921\"]]}],\"heatmap\":[{\"type\":\"heatmap\",\"colorbar\":{\"outlinewidth\":0,\"ticks\":\"\"},\"colorscale\":[[0.0,\"#0d0887\"],[0.1111111111111111,\"#46039f\"],[0.2222222222222222,\"#7201a8\"],[0.3333333333333333,\"#9c179e\"],[0.4444444444444444,\"#bd3786\"],[0.5555555555555556,\"#d8576b\"],[0.6666666666666666,\"#ed7953\"],[0.7777777777777778,\"#fb9f3a\"],[0.8888888888888888,\"#fdca26\"],[1.0,\"#f0f921\"]]}],\"heatmapgl\":[{\"type\":\"heatmapgl\",\"colorbar\":{\"outlinewidth\":0,\"ticks\":\"\"},\"colorscale\":[[0.0,\"#0d0887\"],[0.1111111111111111,\"#46039f\"],[0.2222222222222222,\"#7201a8\"],[0.3333333333333333,\"#9c179e\"],[0.4444444444444444,\"#bd3786\"],[0.5555555555555556,\"#d8576b\"],[0.6666666666666666,\"#ed7953\"],[0.7777777777777778,\"#fb9f3a\"],[0.8888888888888888,\"#fdca26\"],[1.0,\"#f0f921\"]]}],\"contourcarpet\":[{\"type\":\"contourcarpet\",\"colorbar\":{\"outlinewidth\":0,\"ticks\":\"\"}}],\"contour\":[{\"type\":\"contour\",\"colorbar\":{\"outlinewidth\":0,\"ticks\":\"\"},\"colorscale\":[[0.0,\"#0d0887\"],[0.1111111111111111,\"#46039f\"],[0.2222222222222222,\"#7201a8\"],[0.3333333333333333,\"#9c179e\"],[0.4444444444444444,\"#bd3786\"],[0.5555555555555556,\"#d8576b\"],[0.6666666666666666,\"#ed7953\"],[0.7777777777777778,\"#fb9f3a\"],[0.8888888888888888,\"#fdca26\"],[1.0,\"#f0f921\"]]}],\"surface\":[{\"type\":\"surface\",\"colorbar\":{\"outlinewidth\":0,\"ticks\":\"\"},\"colorscale\":[[0.0,\"#0d0887\"],[0.1111111111111111,\"#46039f\"],[0.2222222222222222,\"#7201a8\"],[0.3333333333333333,\"#9c179e\"],[0.4444444444444444,\"#bd3786\"],[0.5555555555555556,\"#d8576b\"],[0.6666666666666666,\"#ed7953\"],[0.7777777777777778,\"#fb9f3a\"],[0.8888888888888888,\"#fdca26\"],[1.0,\"#f0f921\"]]}],\"mesh3d\":[{\"type\":\"mesh3d\",\"colorbar\":{\"outlinewidth\":0,\"ticks\":\"\"}}],\"scatter\":[{\"fillpattern\":{\"fillmode\":\"overlay\",\"size\":10,\"solidity\":0.2},\"type\":\"scatter\"}],\"parcoords\":[{\"type\":\"parcoords\",\"line\":{\"colorbar\":{\"outlinewidth\":0,\"ticks\":\"\"}}}],\"scatterpolargl\":[{\"type\":\"scatterpolargl\",\"marker\":{\"colorbar\":{\"outlinewidth\":0,\"ticks\":\"\"}}}],\"bar\":[{\"error_x\":{\"color\":\"#2a3f5f\"},\"error_y\":{\"color\":\"#2a3f5f\"},\"marker\":{\"line\":{\"color\":\"#E5ECF6\",\"width\":0.5},\"pattern\":{\"fillmode\":\"overlay\",\"size\":10,\"solidity\":0.2}},\"type\":\"bar\"}],\"scattergeo\":[{\"type\":\"scattergeo\",\"marker\":{\"colorbar\":{\"outlinewidth\":0,\"ticks\":\"\"}}}],\"scatterpolar\":[{\"type\":\"scatterpolar\",\"marker\":{\"colorbar\":{\"outlinewidth\":0,\"ticks\":\"\"}}}],\"histogram\":[{\"marker\":{\"pattern\":{\"fillmode\":\"overlay\",\"size\":10,\"solidity\":0.2}},\"type\":\"histogram\"}],\"scattergl\":[{\"type\":\"scattergl\",\"marker\":{\"colorbar\":{\"outlinewidth\":0,\"ticks\":\"\"}}}],\"scatter3d\":[{\"type\":\"scatter3d\",\"line\":{\"colorbar\":{\"outlinewidth\":0,\"ticks\":\"\"}},\"marker\":{\"colorbar\":{\"outlinewidth\":0,\"ticks\":\"\"}}}],\"scattermapbox\":[{\"type\":\"scattermapbox\",\"marker\":{\"colorbar\":{\"outlinewidth\":0,\"ticks\":\"\"}}}],\"scatterternary\":[{\"type\":\"scatterternary\",\"marker\":{\"colorbar\":{\"outlinewidth\":0,\"ticks\":\"\"}}}],\"scattercarpet\":[{\"type\":\"scattercarpet\",\"marker\":{\"colorbar\":{\"outlinewidth\":0,\"ticks\":\"\"}}}],\"carpet\":[{\"aaxis\":{\"endlinecolor\":\"#2a3f5f\",\"gridcolor\":\"white\",\"linecolor\":\"white\",\"minorgridcolor\":\"white\",\"startlinecolor\":\"#2a3f5f\"},\"baxis\":{\"endlinecolor\":\"#2a3f5f\",\"gridcolor\":\"white\",\"linecolor\":\"white\",\"minorgridcolor\":\"white\",\"startlinecolor\":\"#2a3f5f\"},\"type\":\"carpet\"}],\"table\":[{\"cells\":{\"fill\":{\"color\":\"#EBF0F8\"},\"line\":{\"color\":\"white\"}},\"header\":{\"fill\":{\"color\":\"#C8D4E3\"},\"line\":{\"color\":\"white\"}},\"type\":\"table\"}],\"barpolar\":[{\"marker\":{\"line\":{\"color\":\"#E5ECF6\",\"width\":0.5},\"pattern\":{\"fillmode\":\"overlay\",\"size\":10,\"solidity\":0.2}},\"type\":\"barpolar\"}],\"pie\":[{\"automargin\":true,\"type\":\"pie\"}]},\"layout\":{\"autotypenumbers\":\"strict\",\"colorway\":[\"#636efa\",\"#EF553B\",\"#00cc96\",\"#ab63fa\",\"#FFA15A\",\"#19d3f3\",\"#FF6692\",\"#B6E880\",\"#FF97FF\",\"#FECB52\"],\"font\":{\"color\":\"#2a3f5f\"},\"hovermode\":\"closest\",\"hoverlabel\":{\"align\":\"left\"},\"paper_bgcolor\":\"white\",\"plot_bgcolor\":\"#E5ECF6\",\"polar\":{\"bgcolor\":\"#E5ECF6\",\"angularaxis\":{\"gridcolor\":\"white\",\"linecolor\":\"white\",\"ticks\":\"\"},\"radialaxis\":{\"gridcolor\":\"white\",\"linecolor\":\"white\",\"ticks\":\"\"}},\"ternary\":{\"bgcolor\":\"#E5ECF6\",\"aaxis\":{\"gridcolor\":\"white\",\"linecolor\":\"white\",\"ticks\":\"\"},\"baxis\":{\"gridcolor\":\"white\",\"linecolor\":\"white\",\"ticks\":\"\"},\"caxis\":{\"gridcolor\":\"white\",\"linecolor\":\"white\",\"ticks\":\"\"}},\"coloraxis\":{\"colorbar\":{\"outlinewidth\":0,\"ticks\":\"\"}},\"colorscale\":{\"sequential\":[[0.0,\"#0d0887\"],[0.1111111111111111,\"#46039f\"],[0.2222222222222222,\"#7201a8\"],[0.3333333333333333,\"#9c179e\"],[0.4444444444444444,\"#bd3786\"],[0.5555555555555556,\"#d8576b\"],[0.6666666666666666,\"#ed7953\"],[0.7777777777777778,\"#fb9f3a\"],[0.8888888888888888,\"#fdca26\"],[1.0,\"#f0f921\"]],\"sequentialminus\":[[0.0,\"#0d0887\"],[0.1111111111111111,\"#46039f\"],[0.2222222222222222,\"#7201a8\"],[0.3333333333333333,\"#9c179e\"],[0.4444444444444444,\"#bd3786\"],[0.5555555555555556,\"#d8576b\"],[0.6666666666666666,\"#ed7953\"],[0.7777777777777778,\"#fb9f3a\"],[0.8888888888888888,\"#fdca26\"],[1.0,\"#f0f921\"]],\"diverging\":[[0,\"#8e0152\"],[0.1,\"#c51b7d\"],[0.2,\"#de77ae\"],[0.3,\"#f1b6da\"],[0.4,\"#fde0ef\"],[0.5,\"#f7f7f7\"],[0.6,\"#e6f5d0\"],[0.7,\"#b8e186\"],[0.8,\"#7fbc41\"],[0.9,\"#4d9221\"],[1,\"#276419\"]]},\"xaxis\":{\"gridcolor\":\"white\",\"linecolor\":\"white\",\"ticks\":\"\",\"title\":{\"standoff\":15},\"zerolinecolor\":\"white\",\"automargin\":true,\"zerolinewidth\":2},\"yaxis\":{\"gridcolor\":\"white\",\"linecolor\":\"white\",\"ticks\":\"\",\"title\":{\"standoff\":15},\"zerolinecolor\":\"white\",\"automargin\":true,\"zerolinewidth\":2},\"scene\":{\"xaxis\":{\"backgroundcolor\":\"#E5ECF6\",\"gridcolor\":\"white\",\"linecolor\":\"white\",\"showbackground\":true,\"ticks\":\"\",\"zerolinecolor\":\"white\",\"gridwidth\":2},\"yaxis\":{\"backgroundcolor\":\"#E5ECF6\",\"gridcolor\":\"white\",\"linecolor\":\"white\",\"showbackground\":true,\"ticks\":\"\",\"zerolinecolor\":\"white\",\"gridwidth\":2},\"zaxis\":{\"backgroundcolor\":\"#E5ECF6\",\"gridcolor\":\"white\",\"linecolor\":\"white\",\"showbackground\":true,\"ticks\":\"\",\"zerolinecolor\":\"white\",\"gridwidth\":2}},\"shapedefaults\":{\"line\":{\"color\":\"#2a3f5f\"}},\"annotationdefaults\":{\"arrowcolor\":\"#2a3f5f\",\"arrowhead\":0,\"arrowwidth\":1},\"geo\":{\"bgcolor\":\"white\",\"landcolor\":\"#E5ECF6\",\"subunitcolor\":\"white\",\"showland\":true,\"showlakes\":true,\"lakecolor\":\"white\"},\"title\":{\"x\":0.05},\"mapbox\":{\"style\":\"light\"}}},\"xaxis\":{\"anchor\":\"y\",\"domain\":[0.0,1.0],\"title\":{\"text\":\"publisher\"}},\"yaxis\":{\"anchor\":\"x\",\"domain\":[0.0,1.0],\"title\":{\"text\":\"count\"}},\"legend\":{\"tracegroupgap\":0},\"margin\":{\"t\":60},\"barmode\":\"relative\"},                        {\"responsive\": true}                    ).then(function(){\n",
       "                            \n",
       "var gd = document.getElementById('ccd94b81-2478-4645-935e-1c126c8208d5');\n",
       "var x = new MutationObserver(function (mutations, observer) {{\n",
       "        var display = window.getComputedStyle(gd).display;\n",
       "        if (!display || display === 'none') {{\n",
       "            console.log([gd, 'removed!']);\n",
       "            Plotly.purge(gd);\n",
       "            observer.disconnect();\n",
       "        }}\n",
       "}});\n",
       "\n",
       "// Listen for the removal of the full notebook cells\n",
       "var notebookContainer = gd.closest('#notebook-container');\n",
       "if (notebookContainer) {{\n",
       "    x.observe(notebookContainer, {childList: true});\n",
       "}}\n",
       "\n",
       "// Listen for the clearing of the current output cell\n",
       "var outputEl = gd.closest('.output');\n",
       "if (outputEl) {{\n",
       "    x.observe(outputEl, {childList: true});\n",
       "}}\n",
       "\n",
       "                        })                };                });            </script>        </div>"
      ]
     },
     "metadata": {},
     "output_type": "display_data"
    }
   ],
   "source": [
    "# distribution of publishers for books with no completion date\n",
    "px.histogram( completion_date_unknown, x = \"publisher\")"
   ]
  },
  {
   "cell_type": "code",
   "execution_count": 44,
   "id": "acfb9baa",
   "metadata": {
    "execution": {
     "iopub.execute_input": "2022-06-09T11:58:30.220223Z",
     "iopub.status.busy": "2022-06-09T11:58:30.219832Z",
     "iopub.status.idle": "2022-06-09T11:58:30.227718Z",
     "shell.execute_reply": "2022-06-09T11:58:30.226875Z"
    },
    "papermill": {
     "duration": 0.038071,
     "end_time": "2022-06-09T11:58:30.229523",
     "exception": false,
     "start_time": "2022-06-09T11:58:30.191452",
     "status": "completed"
    },
    "tags": []
   },
   "outputs": [
    {
     "name": "stdout",
     "output_type": "stream",
     "text": [
      "For the popular authors in the list of read books with no completion date, their books were published by:, 講談社, 幻冬舎, KADOKAWA, 文藝春秋, 集英社\n"
     ]
    }
   ],
   "source": [
    "publisher = completion_date_unknown[(completion_date_unknown[\"author(s)\"] ==\"東野 圭吾\")|(completion_date_unknown[\"author(s)\"] ==\"藤崎 都\")|(completion_date_unknown[\"author(s)\"] ==\"日丸屋 秀和\")][\"publisher\"].unique()\n",
    "\n",
    "print(\"For the popular authors in the list of read books with no completion date, their books were published by:\",*publisher, sep= \", \")"
   ]
  },
  {
   "cell_type": "code",
   "execution_count": 45,
   "id": "063dd45d",
   "metadata": {
    "execution": {
     "iopub.execute_input": "2022-06-09T11:58:30.286062Z",
     "iopub.status.busy": "2022-06-09T11:58:30.285667Z",
     "iopub.status.idle": "2022-06-09T11:58:30.441776Z",
     "shell.execute_reply": "2022-06-09T11:58:30.440755Z"
    },
    "papermill": {
     "duration": 0.186928,
     "end_time": "2022-06-09T11:58:30.443928",
     "exception": false,
     "start_time": "2022-06-09T11:58:30.257000",
     "status": "completed"
    },
    "tags": []
   },
   "outputs": [
    {
     "data": {
      "image/png": "[encoded data removed]",
      "text/plain": [
       "<Figure size 432x288 with 1 Axes>"
      ]
     },
     "metadata": {},
     "output_type": "display_data"
    }
   ],
   "source": [
    "# type of books which were included in the books with no completion date\n",
    "sns.countplot(x = \"type\", data = completion_date_unknown )\n",
    "plt.show()"
   ]
  },
  {
   "cell_type": "code",
   "execution_count": 46,
   "id": "dec38a88",
   "metadata": {
    "execution": {
     "iopub.execute_input": "2022-06-09T11:58:30.503214Z",
     "iopub.status.busy": "2022-06-09T11:58:30.501380Z",
     "iopub.status.idle": "2022-06-09T11:58:30.563491Z",
     "shell.execute_reply": "2022-06-09T11:58:30.562479Z"
    },
    "papermill": {
     "duration": 0.093582,
     "end_time": "2022-06-09T11:58:30.565694",
     "exception": false,
     "start_time": "2022-06-09T11:58:30.472112",
     "status": "completed"
    },
    "tags": []
   },
   "outputs": [
    {
     "data": {
      "text/html": [
       "<div>                            <div id=\"03e0c090-4358-4704-a6a2-e2e4de4d7bc4\" class=\"plotly-graph-div\" style=\"height:525px; width:100%;\"></div>            <script type=\"text/javascript\">                require([\"plotly\"], function(Plotly) {                    window.PLOTLYENV=window.PLOTLYENV || {};                                    if (document.getElementById(\"03e0c090-4358-4704-a6a2-e2e4de4d7bc4\")) {                    Plotly.newPlot(                        \"03e0c090-4358-4704-a6a2-e2e4de4d7bc4\",                        [{\"alignmentgroup\":\"True\",\"bingroup\":\"x\",\"hovertemplate\":\"genre=%{x}<br>count=%{y}<extra></extra>\",\"legendgroup\":\"\",\"marker\":{\"color\":\"#636efa\",\"pattern\":{\"shape\":\"\"}},\"name\":\"\",\"offsetgroup\":\"\",\"orientation\":\"v\",\"showlegend\":false,\"x\":[\"science fiction\",\"Fantasy\",\"Mystery\",\"Mystery\",\"Mystery\",\"Mystery\",\"Romance\",\"Romance\",\"Romance\",\"Romance\",\"Humour/ Satire\",\"Humour/ Satire\",\"Fantasy\",\"Dystopian\",\"Humour/ Satire\",\"Romance\",\"Humour/ Satire\",\"Humour/ Satire\",\"Mystery\",\"Mystery\",\"Fantasy\",\"Mystery\",\"Humour/ Satire\",\"Mystery\",\"Romance\",\"Fantasy\",\"Romance\",\"Mystery\",\"Humour/ Satire\",\"Romance\",\"Romance\",\"Mystery\",\"Fantasy\",\"Mystery\",\"Romance\",\"Romance\",\"Humour/ Satire\",\"Fantasy\",\"Romance\",\"Fantasy\",\"Mystery\",\"Fantasy\",\"Mystery\",\"Literary Fiction\",\"Romance\",\"Mystery\",\"仕事小説\",\"Bildungsroman\",\"Humour/ Satire\",\"Mystery\",\"Romance\",\"Adventure\",\"Contemporary\"],\"xaxis\":\"x\",\"yaxis\":\"y\",\"type\":\"histogram\"}],                        {\"template\":{\"data\":{\"histogram2dcontour\":[{\"type\":\"histogram2dcontour\",\"colorbar\":{\"outlinewidth\":0,\"ticks\":\"\"},\"colorscale\":[[0.0,\"#0d0887\"],[0.1111111111111111,\"#46039f\"],[0.2222222222222222,\"#7201a8\"],[0.3333333333333333,\"#9c179e\"],[0.4444444444444444,\"#bd3786\"],[0.5555555555555556,\"#d8576b\"],[0.6666666666666666,\"#ed7953\"],[0.7777777777777778,\"#fb9f3a\"],[0.8888888888888888,\"#fdca26\"],[1.0,\"#f0f921\"]]}],\"choropleth\":[{\"type\":\"choropleth\",\"colorbar\":{\"outlinewidth\":0,\"ticks\":\"\"}}],\"histogram2d\":[{\"type\":\"histogram2d\",\"colorbar\":{\"outlinewidth\":0,\"ticks\":\"\"},\"colorscale\":[[0.0,\"#0d0887\"],[0.1111111111111111,\"#46039f\"],[0.2222222222222222,\"#7201a8\"],[0.3333333333333333,\"#9c179e\"],[0.4444444444444444,\"#bd3786\"],[0.5555555555555556,\"#d8576b\"],[0.6666666666666666,\"#ed7953\"],[0.7777777777777778,\"#fb9f3a\"],[0.8888888888888888,\"#fdca26\"],[1.0,\"#f0f921\"]]}],\"heatmap\":[{\"type\":\"heatmap\",\"colorbar\":{\"outlinewidth\":0,\"ticks\":\"\"},\"colorscale\":[[0.0,\"#0d0887\"],[0.1111111111111111,\"#46039f\"],[0.2222222222222222,\"#7201a8\"],[0.3333333333333333,\"#9c179e\"],[0.4444444444444444,\"#bd3786\"],[0.5555555555555556,\"#d8576b\"],[0.6666666666666666,\"#ed7953\"],[0.7777777777777778,\"#fb9f3a\"],[0.8888888888888888,\"#fdca26\"],[1.0,\"#f0f921\"]]}],\"heatmapgl\":[{\"type\":\"heatmapgl\",\"colorbar\":{\"outlinewidth\":0,\"ticks\":\"\"},\"colorscale\":[[0.0,\"#0d0887\"],[0.1111111111111111,\"#46039f\"],[0.2222222222222222,\"#7201a8\"],[0.3333333333333333,\"#9c179e\"],[0.4444444444444444,\"#bd3786\"],[0.5555555555555556,\"#d8576b\"],[0.6666666666666666,\"#ed7953\"],[0.7777777777777778,\"#fb9f3a\"],[0.8888888888888888,\"#fdca26\"],[1.0,\"#f0f921\"]]}],\"contourcarpet\":[{\"type\":\"contourcarpet\",\"colorbar\":{\"outlinewidth\":0,\"ticks\":\"\"}}],\"contour\":[{\"type\":\"contour\",\"colorbar\":{\"outlinewidth\":0,\"ticks\":\"\"},\"colorscale\":[[0.0,\"#0d0887\"],[0.1111111111111111,\"#46039f\"],[0.2222222222222222,\"#7201a8\"],[0.3333333333333333,\"#9c179e\"],[0.4444444444444444,\"#bd3786\"],[0.5555555555555556,\"#d8576b\"],[0.6666666666666666,\"#ed7953\"],[0.7777777777777778,\"#fb9f3a\"],[0.8888888888888888,\"#fdca26\"],[1.0,\"#f0f921\"]]}],\"surface\":[{\"type\":\"surface\",\"colorbar\":{\"outlinewidth\":0,\"ticks\":\"\"},\"colorscale\":[[0.0,\"#0d0887\"],[0.1111111111111111,\"#46039f\"],[0.2222222222222222,\"#7201a8\"],[0.3333333333333333,\"#9c179e\"],[0.4444444444444444,\"#bd3786\"],[0.5555555555555556,\"#d8576b\"],[0.6666666666666666,\"#ed7953\"],[0.7777777777777778,\"#fb9f3a\"],[0.8888888888888888,\"#fdca26\"],[1.0,\"#f0f921\"]]}],\"mesh3d\":[{\"type\":\"mesh3d\",\"colorbar\":{\"outlinewidth\":0,\"ticks\":\"\"}}],\"scatter\":[{\"fillpattern\":{\"fillmode\":\"overlay\",\"size\":10,\"solidity\":0.2},\"type\":\"scatter\"}],\"parcoords\":[{\"type\":\"parcoords\",\"line\":{\"colorbar\":{\"outlinewidth\":0,\"ticks\":\"\"}}}],\"scatterpolargl\":[{\"type\":\"scatterpolargl\",\"marker\":{\"colorbar\":{\"outlinewidth\":0,\"ticks\":\"\"}}}],\"bar\":[{\"error_x\":{\"color\":\"#2a3f5f\"},\"error_y\":{\"color\":\"#2a3f5f\"},\"marker\":{\"line\":{\"color\":\"#E5ECF6\",\"width\":0.5},\"pattern\":{\"fillmode\":\"overlay\",\"size\":10,\"solidity\":0.2}},\"type\":\"bar\"}],\"scattergeo\":[{\"type\":\"scattergeo\",\"marker\":{\"colorbar\":{\"outlinewidth\":0,\"ticks\":\"\"}}}],\"scatterpolar\":[{\"type\":\"scatterpolar\",\"marker\":{\"colorbar\":{\"outlinewidth\":0,\"ticks\":\"\"}}}],\"histogram\":[{\"marker\":{\"pattern\":{\"fillmode\":\"overlay\",\"size\":10,\"solidity\":0.2}},\"type\":\"histogram\"}],\"scattergl\":[{\"type\":\"scattergl\",\"marker\":{\"colorbar\":{\"outlinewidth\":0,\"ticks\":\"\"}}}],\"scatter3d\":[{\"type\":\"scatter3d\",\"line\":{\"colorbar\":{\"outlinewidth\":0,\"ticks\":\"\"}},\"marker\":{\"colorbar\":{\"outlinewidth\":0,\"ticks\":\"\"}}}],\"scattermapbox\":[{\"type\":\"scattermapbox\",\"marker\":{\"colorbar\":{\"outlinewidth\":0,\"ticks\":\"\"}}}],\"scatterternary\":[{\"type\":\"scatterternary\",\"marker\":{\"colorbar\":{\"outlinewidth\":0,\"ticks\":\"\"}}}],\"scattercarpet\":[{\"type\":\"scattercarpet\",\"marker\":{\"colorbar\":{\"outlinewidth\":0,\"ticks\":\"\"}}}],\"carpet\":[{\"aaxis\":{\"endlinecolor\":\"#2a3f5f\",\"gridcolor\":\"white\",\"linecolor\":\"white\",\"minorgridcolor\":\"white\",\"startlinecolor\":\"#2a3f5f\"},\"baxis\":{\"endlinecolor\":\"#2a3f5f\",\"gridcolor\":\"white\",\"linecolor\":\"white\",\"minorgridcolor\":\"white\",\"startlinecolor\":\"#2a3f5f\"},\"type\":\"carpet\"}],\"table\":[{\"cells\":{\"fill\":{\"color\":\"#EBF0F8\"},\"line\":{\"color\":\"white\"}},\"header\":{\"fill\":{\"color\":\"#C8D4E3\"},\"line\":{\"color\":\"white\"}},\"type\":\"table\"}],\"barpolar\":[{\"marker\":{\"line\":{\"color\":\"#E5ECF6\",\"width\":0.5},\"pattern\":{\"fillmode\":\"overlay\",\"size\":10,\"solidity\":0.2}},\"type\":\"barpolar\"}],\"pie\":[{\"automargin\":true,\"type\":\"pie\"}]},\"layout\":{\"autotypenumbers\":\"strict\",\"colorway\":[\"#636efa\",\"#EF553B\",\"#00cc96\",\"#ab63fa\",\"#FFA15A\",\"#19d3f3\",\"#FF6692\",\"#B6E880\",\"#FF97FF\",\"#FECB52\"],\"font\":{\"color\":\"#2a3f5f\"},\"hovermode\":\"closest\",\"hoverlabel\":{\"align\":\"left\"},\"paper_bgcolor\":\"white\",\"plot_bgcolor\":\"#E5ECF6\",\"polar\":{\"bgcolor\":\"#E5ECF6\",\"angularaxis\":{\"gridcolor\":\"white\",\"linecolor\":\"white\",\"ticks\":\"\"},\"radialaxis\":{\"gridcolor\":\"white\",\"linecolor\":\"white\",\"ticks\":\"\"}},\"ternary\":{\"bgcolor\":\"#E5ECF6\",\"aaxis\":{\"gridcolor\":\"white\",\"linecolor\":\"white\",\"ticks\":\"\"},\"baxis\":{\"gridcolor\":\"white\",\"linecolor\":\"white\",\"ticks\":\"\"},\"caxis\":{\"gridcolor\":\"white\",\"linecolor\":\"white\",\"ticks\":\"\"}},\"coloraxis\":{\"colorbar\":{\"outlinewidth\":0,\"ticks\":\"\"}},\"colorscale\":{\"sequential\":[[0.0,\"#0d0887\"],[0.1111111111111111,\"#46039f\"],[0.2222222222222222,\"#7201a8\"],[0.3333333333333333,\"#9c179e\"],[0.4444444444444444,\"#bd3786\"],[0.5555555555555556,\"#d8576b\"],[0.6666666666666666,\"#ed7953\"],[0.7777777777777778,\"#fb9f3a\"],[0.8888888888888888,\"#fdca26\"],[1.0,\"#f0f921\"]],\"sequentialminus\":[[0.0,\"#0d0887\"],[0.1111111111111111,\"#46039f\"],[0.2222222222222222,\"#7201a8\"],[0.3333333333333333,\"#9c179e\"],[0.4444444444444444,\"#bd3786\"],[0.5555555555555556,\"#d8576b\"],[0.6666666666666666,\"#ed7953\"],[0.7777777777777778,\"#fb9f3a\"],[0.8888888888888888,\"#fdca26\"],[1.0,\"#f0f921\"]],\"diverging\":[[0,\"#8e0152\"],[0.1,\"#c51b7d\"],[0.2,\"#de77ae\"],[0.3,\"#f1b6da\"],[0.4,\"#fde0ef\"],[0.5,\"#f7f7f7\"],[0.6,\"#e6f5d0\"],[0.7,\"#b8e186\"],[0.8,\"#7fbc41\"],[0.9,\"#4d9221\"],[1,\"#276419\"]]},\"xaxis\":{\"gridcolor\":\"white\",\"linecolor\":\"white\",\"ticks\":\"\",\"title\":{\"standoff\":15},\"zerolinecolor\":\"white\",\"automargin\":true,\"zerolinewidth\":2},\"yaxis\":{\"gridcolor\":\"white\",\"linecolor\":\"white\",\"ticks\":\"\",\"title\":{\"standoff\":15},\"zerolinecolor\":\"white\",\"automargin\":true,\"zerolinewidth\":2},\"scene\":{\"xaxis\":{\"backgroundcolor\":\"#E5ECF6\",\"gridcolor\":\"white\",\"linecolor\":\"white\",\"showbackground\":true,\"ticks\":\"\",\"zerolinecolor\":\"white\",\"gridwidth\":2},\"yaxis\":{\"backgroundcolor\":\"#E5ECF6\",\"gridcolor\":\"white\",\"linecolor\":\"white\",\"showbackground\":true,\"ticks\":\"\",\"zerolinecolor\":\"white\",\"gridwidth\":2},\"zaxis\":{\"backgroundcolor\":\"#E5ECF6\",\"gridcolor\":\"white\",\"linecolor\":\"white\",\"showbackground\":true,\"ticks\":\"\",\"zerolinecolor\":\"white\",\"gridwidth\":2}},\"shapedefaults\":{\"line\":{\"color\":\"#2a3f5f\"}},\"annotationdefaults\":{\"arrowcolor\":\"#2a3f5f\",\"arrowhead\":0,\"arrowwidth\":1},\"geo\":{\"bgcolor\":\"white\",\"landcolor\":\"#E5ECF6\",\"subunitcolor\":\"white\",\"showland\":true,\"showlakes\":true,\"lakecolor\":\"white\"},\"title\":{\"x\":0.05},\"mapbox\":{\"style\":\"light\"}}},\"xaxis\":{\"anchor\":\"y\",\"domain\":[0.0,1.0],\"title\":{\"text\":\"genre\"}},\"yaxis\":{\"anchor\":\"x\",\"domain\":[0.0,1.0],\"title\":{\"text\":\"count\"}},\"legend\":{\"tracegroupgap\":0},\"margin\":{\"t\":60},\"barmode\":\"relative\"},                        {\"responsive\": true}                    ).then(function(){\n",
       "                            \n",
       "var gd = document.getElementById('03e0c090-4358-4704-a6a2-e2e4de4d7bc4');\n",
       "var x = new MutationObserver(function (mutations, observer) {{\n",
       "        var display = window.getComputedStyle(gd).display;\n",
       "        if (!display || display === 'none') {{\n",
       "            console.log([gd, 'removed!']);\n",
       "            Plotly.purge(gd);\n",
       "            observer.disconnect();\n",
       "        }}\n",
       "}});\n",
       "\n",
       "// Listen for the removal of the full notebook cells\n",
       "var notebookContainer = gd.closest('#notebook-container');\n",
       "if (notebookContainer) {{\n",
       "    x.observe(notebookContainer, {childList: true});\n",
       "}}\n",
       "\n",
       "// Listen for the clearing of the current output cell\n",
       "var outputEl = gd.closest('.output');\n",
       "if (outputEl) {{\n",
       "    x.observe(outputEl, {childList: true});\n",
       "}}\n",
       "\n",
       "                        })                };                });            </script>        </div>"
      ]
     },
     "metadata": {},
     "output_type": "display_data"
    }
   ],
   "source": [
    "# genre of books with no completion date\n",
    "px.histogram( completion_date_unknown, x = \"genre\")"
   ]
  },
  {
   "cell_type": "code",
   "execution_count": 47,
   "id": "325eb48a",
   "metadata": {
    "execution": {
     "iopub.execute_input": "2022-06-09T11:58:30.624741Z",
     "iopub.status.busy": "2022-06-09T11:58:30.624118Z",
     "iopub.status.idle": "2022-06-09T11:58:30.921222Z",
     "shell.execute_reply": "2022-06-09T11:58:30.920483Z"
    },
    "papermill": {
     "duration": 0.328385,
     "end_time": "2022-06-09T11:58:30.923225",
     "exception": false,
     "start_time": "2022-06-09T11:58:30.594840",
     "status": "completed"
    },
    "tags": []
   },
   "outputs": [
    {
     "data": {
      "image/png": "[encoded data removed]",
      "text/plain": [
       "<Figure size 1080x720 with 1 Axes>"
      ]
     },
     "metadata": {},
     "output_type": "display_data"
    }
   ],
   "source": [
    "# year of publication of books with no completion date\n",
    "plt.figure(figsize = (15,10))\n",
    "sns.countplot(x = \"publication_year\", data = completion_date_unknown )\n",
    "plt.show()"
   ]
  },
  {
   "cell_type": "code",
   "execution_count": 48,
   "id": "4842328d",
   "metadata": {
    "execution": {
     "iopub.execute_input": "2022-06-09T11:58:30.982452Z",
     "iopub.status.busy": "2022-06-09T11:58:30.981814Z",
     "iopub.status.idle": "2022-06-09T11:58:31.099425Z",
     "shell.execute_reply": "2022-06-09T11:58:31.098740Z"
    },
    "papermill": {
     "duration": 0.150728,
     "end_time": "2022-06-09T11:58:31.102904",
     "exception": false,
     "start_time": "2022-06-09T11:58:30.952176",
     "status": "completed"
    },
    "tags": []
   },
   "outputs": [
    {
     "data": {
      "image/png": "[encoded data removed]",
      "text/plain": [
       "<Figure size 432x288 with 1 Axes>"
      ]
     },
     "metadata": {},
     "output_type": "display_data"
    }
   ],
   "source": [
    "# review status of books with no completion date\n",
    "sns.countplot(x = \"review\", data = completion_date_unknown,)\n",
    "plt.show()"
   ]
  },
  {
   "cell_type": "code",
   "execution_count": 49,
   "id": "85a99705",
   "metadata": {
    "execution": {
     "iopub.execute_input": "2022-06-09T11:58:31.178550Z",
     "iopub.status.busy": "2022-06-09T11:58:31.177718Z",
     "iopub.status.idle": "2022-06-09T11:58:31.184708Z",
     "shell.execute_reply": "2022-06-09T11:58:31.183392Z"
    },
    "papermill": {
     "duration": 0.039146,
     "end_time": "2022-06-09T11:58:31.186668",
     "exception": false,
     "start_time": "2022-06-09T11:58:31.147522",
     "status": "completed"
    },
    "tags": []
   },
   "outputs": [
    {
     "name": "stdout",
     "output_type": "stream",
     "text": [
      "64.15% of books with no completion date have a rating.\n"
     ]
    }
   ],
   "source": [
    "reviews = round((1-completion_date_unknown[\"rating\"].isnull().sum()/completion_date_unknown.shape[0])*100,2)\n",
    "\n",
    "print(\"{}{}\".format(reviews,\"% of books with no completion date have a rating.\"))"
   ]
  },
  {
   "cell_type": "code",
   "execution_count": 50,
   "id": "3d25deb7",
   "metadata": {
    "execution": {
     "iopub.execute_input": "2022-06-09T11:58:31.246379Z",
     "iopub.status.busy": "2022-06-09T11:58:31.245747Z",
     "iopub.status.idle": "2022-06-09T11:58:31.618615Z",
     "shell.execute_reply": "2022-06-09T11:58:31.617979Z"
    },
    "papermill": {
     "duration": 0.404825,
     "end_time": "2022-06-09T11:58:31.620558",
     "exception": false,
     "start_time": "2022-06-09T11:58:31.215733",
     "status": "completed"
    },
    "tags": []
   },
   "outputs": [
    {
     "data": {
      "image/png": "[encoded data removed]",
      "text/plain": [
       "<Figure size 360x360 with 1 Axes>"
      ]
     },
     "metadata": {},
     "output_type": "display_data"
    }
   ],
   "source": [
    "# kde distribution of ratings for books with no completion date\n",
    "sns.displot(x = \"rating\", data = completion_date_unknown, kind= \"kde\")\n",
    "plt.show()"
   ]
  },
  {
   "cell_type": "code",
   "execution_count": 51,
   "id": "4d6fde0e",
   "metadata": {
    "execution": {
     "iopub.execute_input": "2022-06-09T11:58:31.681504Z",
     "iopub.status.busy": "2022-06-09T11:58:31.680863Z",
     "iopub.status.idle": "2022-06-09T11:58:31.686118Z",
     "shell.execute_reply": "2022-06-09T11:58:31.685172Z"
    },
    "papermill": {
     "duration": 0.038358,
     "end_time": "2022-06-09T11:58:31.688597",
     "exception": false,
     "start_time": "2022-06-09T11:58:31.650239",
     "status": "completed"
    },
    "tags": []
   },
   "outputs": [
    {
     "name": "stdout",
     "output_type": "stream",
     "text": [
      "5.0 is the highest rating book for which no completion date was included.\n"
     ]
    }
   ],
   "source": [
    "print(completion_date_unknown[\"rating\"].max(), \"is the highest rating book for which no completion date was included.\")"
   ]
  },
  {
   "cell_type": "markdown",
   "id": "58d09616",
   "metadata": {
    "papermill": {
     "duration": 0.029246,
     "end_time": "2022-06-09T11:58:31.747633",
     "exception": false,
     "start_time": "2022-06-09T11:58:31.718387",
     "status": "completed"
    },
    "tags": []
   },
   "source": [
    "# completion books"
   ]
  },
  {
   "cell_type": "code",
   "execution_count": 52,
   "id": "1bc5847f",
   "metadata": {
    "execution": {
     "iopub.execute_input": "2022-06-09T11:58:31.809433Z",
     "iopub.status.busy": "2022-06-09T11:58:31.808772Z",
     "iopub.status.idle": "2022-06-09T11:58:31.815027Z",
     "shell.execute_reply": "2022-06-09T11:58:31.814344Z"
    },
    "papermill": {
     "duration": 0.039476,
     "end_time": "2022-06-09T11:58:31.816870",
     "exception": false,
     "start_time": "2022-06-09T11:58:31.777394",
     "status": "completed"
    },
    "tags": []
   },
   "outputs": [],
   "source": [
    "# exclude completed books with no completion date\n",
    "Completed = Completed.dropna(subset = [\"completion date\"])"
   ]
  },
  {
   "cell_type": "code",
   "execution_count": 53,
   "id": "b0379811",
   "metadata": {
    "execution": {
     "iopub.execute_input": "2022-06-09T11:58:31.878447Z",
     "iopub.status.busy": "2022-06-09T11:58:31.878023Z",
     "iopub.status.idle": "2022-06-09T11:58:31.968518Z",
     "shell.execute_reply": "2022-06-09T11:58:31.967488Z"
    },
    "papermill": {
     "duration": 0.124108,
     "end_time": "2022-06-09T11:58:31.970764",
     "exception": false,
     "start_time": "2022-06-09T11:58:31.846656",
     "status": "completed"
    },
    "tags": []
   },
   "outputs": [
    {
     "data": {
      "text/html": [
       "<div>                            <div id=\"8e940637-e9e8-4dea-ae94-63ef11d59667\" class=\"plotly-graph-div\" style=\"height:525px; width:100%;\"></div>            <script type=\"text/javascript\">                require([\"plotly\"], function(Plotly) {                    window.PLOTLYENV=window.PLOTLYENV || {};                                    if (document.getElementById(\"8e940637-e9e8-4dea-ae94-63ef11d59667\")) {                    Plotly.newPlot(                        \"8e940637-e9e8-4dea-ae94-63ef11d59667\",                        [{\"alignmentgroup\":\"True\",\"hovertemplate\":\"completion date=%{x}<br>pages=%{y}<extra></extra>\",\"legendgroup\":\"\",\"marker\":{\"color\":\"#636efa\",\"pattern\":{\"shape\":\"\"}},\"name\":\"\",\"offsetgroup\":\"\",\"orientation\":\"v\",\"showlegend\":false,\"textposition\":\"auto\",\"x\":[\"2020-12-05T00:00:00\",\"2020-06-24T00:00:00\",\"2019-02-28T00:00:00\",\"2018-02-15T00:00:00\",\"2020-11-01T00:00:00\",\"2020-07-17T00:00:00\",\"2020-10-26T00:00:00\",\"2017-05-10T00:00:00\",\"2020-08-06T00:00:00\",\"2017-03-17T00:00:00\",\"2018-06-14T00:00:00\",\"2017-09-12T00:00:00\",\"2020-10-24T00:00:00\",\"2018-09-01T00:00:00\",\"2018-09-06T00:00:00\",\"2019-07-20T00:00:00\",\"2017-04-18T00:00:00\",\"2017-06-28T00:00:00\",\"2020-04-26T00:00:00\",\"2017-07-21T00:00:00\",\"2019-03-10T00:00:00\",\"2019-01-03T00:00:00\",\"2017-06-13T00:00:00\",\"2017-03-25T00:00:00\",\"2017-05-28T00:00:00\",\"2020-01-18T00:00:00\",\"2020-10-06T00:00:00\",\"2019-09-13T00:00:00\",\"2020-10-04T00:00:00\",\"2018-01-09T00:00:00\",\"2017-04-06T00:00:00\",\"2018-05-17T00:00:00\",\"2017-05-23T00:00:00\",\"2017-02-22T00:00:00\",\"2020-11-18T00:00:00\",\"2019-04-18T00:00:00\",\"2019-03-25T00:00:00\",\"2017-03-05T00:00:00\",\"2017-06-02T00:00:00\",\"2020-08-17T00:00:00\",\"2017-08-31T00:00:00\",\"2018-07-10T00:00:00\",\"2022-04-08T00:00:00\",\"2020-12-13T00:00:00\",\"2017-10-04T00:00:00\",\"2021-10-06T00:00:00\",\"2018-06-25T00:00:00\",\"2021-01-11T00:00:00\",\"2018-01-19T00:00:00\",\"2020-06-21T00:00:00\",\"2018-03-09T00:00:00\",\"2020-10-16T00:00:00\",\"2019-01-10T00:00:00\",\"2020-06-06T00:00:00\",\"2018-09-10T00:00:00\",\"2020-07-10T00:00:00\",\"2020-01-08T00:00:00\",\"2019-01-15T00:00:00\",\"2021-07-02T00:00:00\",\"2020-11-09T00:00:00\",\"2019-10-03T00:00:00\",\"2020-11-17T00:00:00\",\"2020-11-14T00:00:00\",\"2017-08-26T00:00:00\",\"2020-12-31T00:00:00\",\"2017-10-24T00:00:00\",\"2020-12-28T00:00:00\",\"2020-12-30T00:00:00\",\"2017-02-28T00:00:00\",\"2020-10-27T00:00:00\",\"2018-03-12T00:00:00\",\"2020-03-11T00:00:00\",\"2017-03-20T00:00:00\",\"2017-09-25T00:00:00\",\"2020-11-06T00:00:00\",\"2020-07-19T00:00:00\",\"2019-02-08T00:00:00\",\"2021-03-31T00:00:00\",\"2020-11-24T00:00:00\",\"2018-04-30T00:00:00\",\"2018-03-24T00:00:00\",\"2020-12-22T00:00:00\",\"2021-05-31T00:00:00\",\"2017-07-07T00:00:00\",\"2018-08-30T00:00:00\",\"2017-06-28T00:00:00\",\"2018-01-31T00:00:00\",\"2020-12-03T00:00:00\",\"2018-03-17T00:00:00\",\"2017-06-08T00:00:00\",\"2019-06-27T00:00:00\",\"2018-12-22T00:00:00\",\"2018-04-25T00:00:00\",\"2019-06-16T00:00:00\",\"2018-05-25T00:00:00\",\"2022-04-10T00:00:00\",\"2021-12-07T00:00:00\",\"2017-06-28T00:00:00\",\"2022-02-20T00:00:00\",\"2018-02-21T00:00:00\",\"2018-04-27T00:00:00\",\"2019-01-29T00:00:00\",\"2018-12-21T00:00:00\",\"2017-02-14T00:00:00\",\"2018-01-20T00:00:00\",\"2022-04-26T00:00:00\",\"2019-06-11T00:00:00\",\"2017-02-12T00:00:00\",\"2016-12-17T00:00:00\",\"2019-01-31T00:00:00\",\"2017-02-17T00:00:00\",\"2020-11-07T00:00:00\",\"2017-03-15T00:00:00\",\"2020-02-04T00:00:00\",\"2021-01-25T00:00:00\",\"2020-10-12T00:00:00\",\"2017-01-10T00:00:00\",\"2019-12-24T00:00:00\",\"2021-09-13T00:00:00\",\"2017-07-13T00:00:00\",\"2017-05-18T00:00:00\",\"2018-01-05T00:00:00\",\"2017-12-10T00:00:00\",\"2019-03-19T00:00:00\",\"2017-02-17T00:00:00\",\"2022-02-20T00:00:00\",\"2019-09-13T00:00:00\",\"2019-01-26T00:00:00\",\"2019-12-14T00:00:00\",\"2019-02-04T00:00:00\",\"2017-03-08T00:00:00\",\"2018-06-03T00:00:00\",\"2018-06-06T00:00:00\",\"2018-10-04T00:00:00\",\"2018-08-11T00:00:00\",\"2018-02-05T00:00:00\",\"2021-08-20T00:00:00\",\"2020-01-22T00:00:00\",\"2017-10-16T00:00:00\",\"2018-03-30T00:00:00\",\"2020-08-06T00:00:00\",\"2017-09-28T00:00:00\",\"2018-04-15T00:00:00\",\"2018-04-07T00:00:00\",\"2017-06-20T00:00:00\",\"2019-05-25T00:00:00\",\"2022-04-01T00:00:00\",\"2021-12-12T00:00:00\",\"2018-05-09T00:00:00\",\"2021-10-16T00:00:00\",\"2018-11-01T00:00:00\",\"2020-09-26T00:00:00\",\"2020-09-04T00:00:00\",\"2017-02-25T00:00:00\",\"2019-11-07T00:00:00\",\"2019-06-19T00:00:00\",\"2019-05-21T00:00:00\",\"2019-04-11T00:00:00\",\"2019-12-09T00:00:00\",\"2017-10-08T00:00:00\",\"2019-05-17T00:00:00\",\"2018-04-17T00:00:00\",\"2021-05-30T00:00:00\",\"2021-01-17T00:00:00\",\"2020-05-31T00:00:00\",\"2020-11-29T00:00:00\",\"2017-03-31T00:00:00\",\"2020-04-27T00:00:00\",\"2019-08-28T00:00:00\",\"2017-02-07T00:00:00\",\"2021-11-30T00:00:00\",\"2018-01-01T00:00:00\",\"2020-10-10T00:00:00\",\"2021-06-28T00:00:00\",\"2021-05-31T00:00:00\",\"2018-03-31T00:00:00\",\"2020-12-10T00:00:00\",\"2022-04-22T00:00:00\",\"2017-01-20T00:00:00\",\"2021-08-23T00:00:00\",\"2019-07-03T00:00:00\",\"2017-02-25T00:00:00\",\"2019-08-11T00:00:00\",\"2019-07-23T00:00:00\",\"2017-04-27T00:00:00\",\"2020-10-11T00:00:00\",\"2018-02-25T00:00:00\",\"2017-02-08T00:00:00\",\"2019-03-04T00:00:00\",\"2017-03-09T00:00:00\",\"2018-04-05T00:00:00\",\"2020-12-23T00:00:00\",\"2021-12-21T00:00:00\",\"2018-04-02T00:00:00\",\"2017-08-23T00:00:00\",\"2018-02-07T00:00:00\",\"2017-11-25T00:00:00\",\"2020-05-31T00:00:00\",\"2017-01-03T00:00:00\",\"2019-03-08T00:00:00\",\"2019-01-23T00:00:00\",\"2018-01-27T00:00:00\",\"2020-09-27T00:00:00\",\"2018-05-28T00:00:00\",\"2018-02-16T00:00:00\",\"2021-05-23T00:00:00\",\"2018-12-25T00:00:00\",\"2018-09-24T00:00:00\",\"2017-02-17T00:00:00\",\"2019-03-27T00:00:00\",\"2022-04-30T00:00:00\",\"2020-01-10T00:00:00\",\"2018-01-31T00:00:00\",\"2018-09-08T00:00:00\",\"2017-05-31T00:00:00\",\"2022-01-06T00:00:00\",\"2021-07-12T00:00:00\",\"2020-12-24T00:00:00\",\"2017-09-21T00:00:00\",\"2018-05-11T00:00:00\",\"2017-03-11T00:00:00\",\"2017-11-13T00:00:00\",\"2018-06-09T00:00:00\",\"2020-10-09T00:00:00\",\"2019-03-14T00:00:00\",\"2018-02-03T00:00:00\",\"2018-10-12T00:00:00\",\"2018-12-29T00:00:00\",\"2018-01-23T00:00:00\",\"2018-01-16T00:00:00\",\"2017-09-05T00:00:00\",\"2019-01-05T00:00:00\",\"2022-01-17T00:00:00\",\"2020-06-27T00:00:00\",\"2019-05-29T00:00:00\",\"2017-12-12T00:00:00\",\"2019-07-31T00:00:00\",\"2020-05-07T00:00:00\",\"2020-12-26T00:00:00\",\"2020-11-12T00:00:00\",\"2017-10-10T00:00:00\",\"2021-10-16T00:00:00\",\"2021-06-08T00:00:00\",\"2020-10-29T00:00:00\",\"2018-12-03T00:00:00\",\"2017-11-29T00:00:00\",\"2019-06-23T00:00:00\",\"2019-01-08T00:00:00\",\"2019-12-31T00:00:00\",\"2020-11-26T00:00:00\",\"2021-07-01T00:00:00\",\"2018-04-22T00:00:00\",\"2020-01-12T00:00:00\",\"2020-09-21T00:00:00\",\"2019-12-16T00:00:00\",\"2018-12-10T00:00:00\",\"2018-05-19T00:00:00\",\"2021-11-13T00:00:00\",\"2021-02-06T00:00:00\",\"2021-09-26T00:00:00\",\"2020-12-08T00:00:00\",\"2018-04-12T00:00:00\",\"2018-03-08T00:00:00\",\"2021-09-13T00:00:00\",\"2021-11-03T00:00:00\",\"2021-05-04T00:00:00\",\"2019-02-18T00:00:00\",\"2017-11-06T00:00:00\",\"2020-01-26T00:00:00\",\"2021-09-25T00:00:00\",\"2019-02-02T00:00:00\",\"2020-01-05T00:00:00\",\"2019-04-04T00:00:00\",\"2022-01-06T00:00:00\",\"2019-07-19T00:00:00\",\"2021-05-11T00:00:00\",\"2020-10-17T00:00:00\",\"2019-12-10T00:00:00\",\"2020-02-09T00:00:00\",\"2022-04-29T00:00:00\",\"2021-04-06T00:00:00\",\"2018-03-22T00:00:00\",\"2021-05-25T00:00:00\",\"2020-08-22T00:00:00\",\"2020-05-03T00:00:00\",\"2021-03-02T00:00:00\",\"2020-08-30T00:00:00\",\"2021-08-14T00:00:00\",\"2020-08-25T00:00:00\",\"2019-06-23T00:00:00\",\"2021-06-06T00:00:00\",\"2021-09-01T00:00:00\",\"2021-07-15T00:00:00\",\"2022-03-11T00:00:00\",\"2021-06-02T00:00:00\",\"2021-06-01T00:00:00\",\"2020-10-03T00:00:00\",\"2020-02-18T00:00:00\",\"2020-10-02T00:00:00\",\"2021-08-14T00:00:00\",\"2021-12-25T00:00:00\",\"2021-08-25T00:00:00\",\"2018-12-30T00:00:00\",\"2017-08-08T00:00:00\",\"2018-03-02T00:00:00\",\"2019-02-16T00:00:00\",\"2022-04-13T00:00:00\",\"2021-04-23T00:00:00\",\"2021-03-21T00:00:00\",\"2021-05-11T00:00:00\",\"2022-03-22T00:00:00\",\"2018-01-26T00:00:00\",\"2021-05-06T00:00:00\",\"2021-07-05T00:00:00\",\"2022-04-18T00:00:00\",\"2021-01-03T00:00:00\",\"2021-06-29T00:00:00\",\"2021-12-31T00:00:00\",\"2022-01-05T00:00:00\",\"2022-04-17T00:00:00\",\"2021-09-10T00:00:00\",\"2021-11-03T00:00:00\",\"2022-01-10T00:00:00\",\"2019-04-30T00:00:00\",\"2021-04-27T00:00:00\",\"2018-09-19T00:00:00\",\"2022-04-29T00:00:00\",\"2020-02-19T00:00:00\"],\"xaxis\":\"x\",\"y\":[368,339,261,371,563,318,592,272,252,328,329,256,528,181,176,224,224,31,528,160,528,416,330,304,272,337,270,464,201,347,244,360,228,304,190,253,190,288,282,394,288,336,336,272,266,336,456,455,273,736,304,477,288,320,256,784,368,288,345,288,392,499,256,435,256,256,304,160,320,328,224,382,222,320,672,256,438,272,800,192,327,768,192,275,204,357,416,368,512,415,408,288,338,326,320,368,368,128,72,342,280,256,416,153,128,288,448,166,271,232,166,432,125,480,272,512,248,496,218,336,256,336,352,256,158,448,240,736,286,232,278,292,275,381,260,327,436,365,274,496,353,353,384,320,338,256,365,365,912,328,440,736,287,287,640,480,384,352,272,229,413,344,259,256,400,347,384,368,512,127,384,243,252,320,256,608,319,288,256,370,320,173,380,496,296,224,349,409,274,127,338,344,432,256,512,368,400,672,262,256,496,240,304,304,352,608,448,368,256,672,304,304,192,512,127,302,304,288,354,324,338,370,299,394,338,354,336,176,328,416,560,528,176,368,224,400,367,480,288,320,127,385,320,156,428,464,256,256,512,256,560,560,336,432,400,400,127,150,352,299,320,421,416,288,127,272,544,544,272,320,496,110,320,320,373,288,368,240,752,352,352,528,211,432,304,320,224,400,240,288,192,208,416,192,448,288,464,432,368,244,336,288,736,432,656,480,272,208,290,304,416,352,368,608,512,400,352,336,384,288,304,244,322,400,528,304,272,160],\"yaxis\":\"y\",\"type\":\"bar\"}],                        {\"template\":{\"data\":{\"histogram2dcontour\":[{\"type\":\"histogram2dcontour\",\"colorbar\":{\"outlinewidth\":0,\"ticks\":\"\"},\"colorscale\":[[0.0,\"#0d0887\"],[0.1111111111111111,\"#46039f\"],[0.2222222222222222,\"#7201a8\"],[0.3333333333333333,\"#9c179e\"],[0.4444444444444444,\"#bd3786\"],[0.5555555555555556,\"#d8576b\"],[0.6666666666666666,\"#ed7953\"],[0.7777777777777778,\"#fb9f3a\"],[0.8888888888888888,\"#fdca26\"],[1.0,\"#f0f921\"]]}],\"choropleth\":[{\"type\":\"choropleth\",\"colorbar\":{\"outlinewidth\":0,\"ticks\":\"\"}}],\"histogram2d\":[{\"type\":\"histogram2d\",\"colorbar\":{\"outlinewidth\":0,\"ticks\":\"\"},\"colorscale\":[[0.0,\"#0d0887\"],[0.1111111111111111,\"#46039f\"],[0.2222222222222222,\"#7201a8\"],[0.3333333333333333,\"#9c179e\"],[0.4444444444444444,\"#bd3786\"],[0.5555555555555556,\"#d8576b\"],[0.6666666666666666,\"#ed7953\"],[0.7777777777777778,\"#fb9f3a\"],[0.8888888888888888,\"#fdca26\"],[1.0,\"#f0f921\"]]}],\"heatmap\":[{\"type\":\"heatmap\",\"colorbar\":{\"outlinewidth\":0,\"ticks\":\"\"},\"colorscale\":[[0.0,\"#0d0887\"],[0.1111111111111111,\"#46039f\"],[0.2222222222222222,\"#7201a8\"],[0.3333333333333333,\"#9c179e\"],[0.4444444444444444,\"#bd3786\"],[0.5555555555555556,\"#d8576b\"],[0.6666666666666666,\"#ed7953\"],[0.7777777777777778,\"#fb9f3a\"],[0.8888888888888888,\"#fdca26\"],[1.0,\"#f0f921\"]]}],\"heatmapgl\":[{\"type\":\"heatmapgl\",\"colorbar\":{\"outlinewidth\":0,\"ticks\":\"\"},\"colorscale\":[[0.0,\"#0d0887\"],[0.1111111111111111,\"#46039f\"],[0.2222222222222222,\"#7201a8\"],[0.3333333333333333,\"#9c179e\"],[0.4444444444444444,\"#bd3786\"],[0.5555555555555556,\"#d8576b\"],[0.6666666666666666,\"#ed7953\"],[0.7777777777777778,\"#fb9f3a\"],[0.8888888888888888,\"#fdca26\"],[1.0,\"#f0f921\"]]}],\"contourcarpet\":[{\"type\":\"contourcarpet\",\"colorbar\":{\"outlinewidth\":0,\"ticks\":\"\"}}],\"contour\":[{\"type\":\"contour\",\"colorbar\":{\"outlinewidth\":0,\"ticks\":\"\"},\"colorscale\":[[0.0,\"#0d0887\"],[0.1111111111111111,\"#46039f\"],[0.2222222222222222,\"#7201a8\"],[0.3333333333333333,\"#9c179e\"],[0.4444444444444444,\"#bd3786\"],[0.5555555555555556,\"#d8576b\"],[0.6666666666666666,\"#ed7953\"],[0.7777777777777778,\"#fb9f3a\"],[0.8888888888888888,\"#fdca26\"],[1.0,\"#f0f921\"]]}],\"surface\":[{\"type\":\"surface\",\"colorbar\":{\"outlinewidth\":0,\"ticks\":\"\"},\"colorscale\":[[0.0,\"#0d0887\"],[0.1111111111111111,\"#46039f\"],[0.2222222222222222,\"#7201a8\"],[0.3333333333333333,\"#9c179e\"],[0.4444444444444444,\"#bd3786\"],[0.5555555555555556,\"#d8576b\"],[0.6666666666666666,\"#ed7953\"],[0.7777777777777778,\"#fb9f3a\"],[0.8888888888888888,\"#fdca26\"],[1.0,\"#f0f921\"]]}],\"mesh3d\":[{\"type\":\"mesh3d\",\"colorbar\":{\"outlinewidth\":0,\"ticks\":\"\"}}],\"scatter\":[{\"fillpattern\":{\"fillmode\":\"overlay\",\"size\":10,\"solidity\":0.2},\"type\":\"scatter\"}],\"parcoords\":[{\"type\":\"parcoords\",\"line\":{\"colorbar\":{\"outlinewidth\":0,\"ticks\":\"\"}}}],\"scatterpolargl\":[{\"type\":\"scatterpolargl\",\"marker\":{\"colorbar\":{\"outlinewidth\":0,\"ticks\":\"\"}}}],\"bar\":[{\"error_x\":{\"color\":\"#2a3f5f\"},\"error_y\":{\"color\":\"#2a3f5f\"},\"marker\":{\"line\":{\"color\":\"#E5ECF6\",\"width\":0.5},\"pattern\":{\"fillmode\":\"overlay\",\"size\":10,\"solidity\":0.2}},\"type\":\"bar\"}],\"scattergeo\":[{\"type\":\"scattergeo\",\"marker\":{\"colorbar\":{\"outlinewidth\":0,\"ticks\":\"\"}}}],\"scatterpolar\":[{\"type\":\"scatterpolar\",\"marker\":{\"colorbar\":{\"outlinewidth\":0,\"ticks\":\"\"}}}],\"histogram\":[{\"marker\":{\"pattern\":{\"fillmode\":\"overlay\",\"size\":10,\"solidity\":0.2}},\"type\":\"histogram\"}],\"scattergl\":[{\"type\":\"scattergl\",\"marker\":{\"colorbar\":{\"outlinewidth\":0,\"ticks\":\"\"}}}],\"scatter3d\":[{\"type\":\"scatter3d\",\"line\":{\"colorbar\":{\"outlinewidth\":0,\"ticks\":\"\"}},\"marker\":{\"colorbar\":{\"outlinewidth\":0,\"ticks\":\"\"}}}],\"scattermapbox\":[{\"type\":\"scattermapbox\",\"marker\":{\"colorbar\":{\"outlinewidth\":0,\"ticks\":\"\"}}}],\"scatterternary\":[{\"type\":\"scatterternary\",\"marker\":{\"colorbar\":{\"outlinewidth\":0,\"ticks\":\"\"}}}],\"scattercarpet\":[{\"type\":\"scattercarpet\",\"marker\":{\"colorbar\":{\"outlinewidth\":0,\"ticks\":\"\"}}}],\"carpet\":[{\"aaxis\":{\"endlinecolor\":\"#2a3f5f\",\"gridcolor\":\"white\",\"linecolor\":\"white\",\"minorgridcolor\":\"white\",\"startlinecolor\":\"#2a3f5f\"},\"baxis\":{\"endlinecolor\":\"#2a3f5f\",\"gridcolor\":\"white\",\"linecolor\":\"white\",\"minorgridcolor\":\"white\",\"startlinecolor\":\"#2a3f5f\"},\"type\":\"carpet\"}],\"table\":[{\"cells\":{\"fill\":{\"color\":\"#EBF0F8\"},\"line\":{\"color\":\"white\"}},\"header\":{\"fill\":{\"color\":\"#C8D4E3\"},\"line\":{\"color\":\"white\"}},\"type\":\"table\"}],\"barpolar\":[{\"marker\":{\"line\":{\"color\":\"#E5ECF6\",\"width\":0.5},\"pattern\":{\"fillmode\":\"overlay\",\"size\":10,\"solidity\":0.2}},\"type\":\"barpolar\"}],\"pie\":[{\"automargin\":true,\"type\":\"pie\"}]},\"layout\":{\"autotypenumbers\":\"strict\",\"colorway\":[\"#636efa\",\"#EF553B\",\"#00cc96\",\"#ab63fa\",\"#FFA15A\",\"#19d3f3\",\"#FF6692\",\"#B6E880\",\"#FF97FF\",\"#FECB52\"],\"font\":{\"color\":\"#2a3f5f\"},\"hovermode\":\"closest\",\"hoverlabel\":{\"align\":\"left\"},\"paper_bgcolor\":\"white\",\"plot_bgcolor\":\"#E5ECF6\",\"polar\":{\"bgcolor\":\"#E5ECF6\",\"angularaxis\":{\"gridcolor\":\"white\",\"linecolor\":\"white\",\"ticks\":\"\"},\"radialaxis\":{\"gridcolor\":\"white\",\"linecolor\":\"white\",\"ticks\":\"\"}},\"ternary\":{\"bgcolor\":\"#E5ECF6\",\"aaxis\":{\"gridcolor\":\"white\",\"linecolor\":\"white\",\"ticks\":\"\"},\"baxis\":{\"gridcolor\":\"white\",\"linecolor\":\"white\",\"ticks\":\"\"},\"caxis\":{\"gridcolor\":\"white\",\"linecolor\":\"white\",\"ticks\":\"\"}},\"coloraxis\":{\"colorbar\":{\"outlinewidth\":0,\"ticks\":\"\"}},\"colorscale\":{\"sequential\":[[0.0,\"#0d0887\"],[0.1111111111111111,\"#46039f\"],[0.2222222222222222,\"#7201a8\"],[0.3333333333333333,\"#9c179e\"],[0.4444444444444444,\"#bd3786\"],[0.5555555555555556,\"#d8576b\"],[0.6666666666666666,\"#ed7953\"],[0.7777777777777778,\"#fb9f3a\"],[0.8888888888888888,\"#fdca26\"],[1.0,\"#f0f921\"]],\"sequentialminus\":[[0.0,\"#0d0887\"],[0.1111111111111111,\"#46039f\"],[0.2222222222222222,\"#7201a8\"],[0.3333333333333333,\"#9c179e\"],[0.4444444444444444,\"#bd3786\"],[0.5555555555555556,\"#d8576b\"],[0.6666666666666666,\"#ed7953\"],[0.7777777777777778,\"#fb9f3a\"],[0.8888888888888888,\"#fdca26\"],[1.0,\"#f0f921\"]],\"diverging\":[[0,\"#8e0152\"],[0.1,\"#c51b7d\"],[0.2,\"#de77ae\"],[0.3,\"#f1b6da\"],[0.4,\"#fde0ef\"],[0.5,\"#f7f7f7\"],[0.6,\"#e6f5d0\"],[0.7,\"#b8e186\"],[0.8,\"#7fbc41\"],[0.9,\"#4d9221\"],[1,\"#276419\"]]},\"xaxis\":{\"gridcolor\":\"white\",\"linecolor\":\"white\",\"ticks\":\"\",\"title\":{\"standoff\":15},\"zerolinecolor\":\"white\",\"automargin\":true,\"zerolinewidth\":2},\"yaxis\":{\"gridcolor\":\"white\",\"linecolor\":\"white\",\"ticks\":\"\",\"title\":{\"standoff\":15},\"zerolinecolor\":\"white\",\"automargin\":true,\"zerolinewidth\":2},\"scene\":{\"xaxis\":{\"backgroundcolor\":\"#E5ECF6\",\"gridcolor\":\"white\",\"linecolor\":\"white\",\"showbackground\":true,\"ticks\":\"\",\"zerolinecolor\":\"white\",\"gridwidth\":2},\"yaxis\":{\"backgroundcolor\":\"#E5ECF6\",\"gridcolor\":\"white\",\"linecolor\":\"white\",\"showbackground\":true,\"ticks\":\"\",\"zerolinecolor\":\"white\",\"gridwidth\":2},\"zaxis\":{\"backgroundcolor\":\"#E5ECF6\",\"gridcolor\":\"white\",\"linecolor\":\"white\",\"showbackground\":true,\"ticks\":\"\",\"zerolinecolor\":\"white\",\"gridwidth\":2}},\"shapedefaults\":{\"line\":{\"color\":\"#2a3f5f\"}},\"annotationdefaults\":{\"arrowcolor\":\"#2a3f5f\",\"arrowhead\":0,\"arrowwidth\":1},\"geo\":{\"bgcolor\":\"white\",\"landcolor\":\"#E5ECF6\",\"subunitcolor\":\"white\",\"showland\":true,\"showlakes\":true,\"lakecolor\":\"white\"},\"title\":{\"x\":0.05},\"mapbox\":{\"style\":\"light\"}}},\"xaxis\":{\"anchor\":\"y\",\"domain\":[0.0,1.0],\"title\":{\"text\":\"completion date\"}},\"yaxis\":{\"anchor\":\"x\",\"domain\":[0.0,1.0],\"title\":{\"text\":\"pages\"},\"range\":[0,1150]},\"legend\":{\"tracegroupgap\":0},\"margin\":{\"t\":60},\"barmode\":\"relative\"},                        {\"responsive\": true}                    ).then(function(){\n",
       "                            \n",
       "var gd = document.getElementById('8e940637-e9e8-4dea-ae94-63ef11d59667');\n",
       "var x = new MutationObserver(function (mutations, observer) {{\n",
       "        var display = window.getComputedStyle(gd).display;\n",
       "        if (!display || display === 'none') {{\n",
       "            console.log([gd, 'removed!']);\n",
       "            Plotly.purge(gd);\n",
       "            observer.disconnect();\n",
       "        }}\n",
       "}});\n",
       "\n",
       "// Listen for the removal of the full notebook cells\n",
       "var notebookContainer = gd.closest('#notebook-container');\n",
       "if (notebookContainer) {{\n",
       "    x.observe(notebookContainer, {childList: true});\n",
       "}}\n",
       "\n",
       "// Listen for the clearing of the current output cell\n",
       "var outputEl = gd.closest('.output');\n",
       "if (outputEl) {{\n",
       "    x.observe(outputEl, {childList: true});\n",
       "}}\n",
       "\n",
       "                        })                };                });            </script>        </div>"
      ]
     },
     "metadata": {},
     "output_type": "display_data"
    }
   ],
   "source": [
    "# distribution of completion dates and the pages read\n",
    "fig = px.bar( Completed, x= \"completion date\", y = \"pages\")\n",
    "fig.update_layout(yaxis_range = [0,1150])"
   ]
  },
  {
   "cell_type": "code",
   "execution_count": 54,
   "id": "19ba7011",
   "metadata": {
    "execution": {
     "iopub.execute_input": "2022-06-09T11:58:32.034178Z",
     "iopub.status.busy": "2022-06-09T11:58:32.033210Z",
     "iopub.status.idle": "2022-06-09T11:58:32.048160Z",
     "shell.execute_reply": "2022-06-09T11:58:32.047229Z"
    },
    "papermill": {
     "duration": 0.048689,
     "end_time": "2022-06-09T11:58:32.050402",
     "exception": false,
     "start_time": "2022-06-09T11:58:32.001713",
     "status": "completed"
    },
    "tags": []
   },
   "outputs": [
    {
     "name": "stdout",
     "output_type": "stream",
     "text": [
      "<class 'pandas.core.frame.DataFrame'>\n",
      "Int64Index: 328 entries, 1 to 390\n",
      "Data columns (total 19 columns):\n",
      " #   Column             Non-Null Count  Dtype         \n",
      "---  ------             --------------  -----         \n",
      " 0   completion date    328 non-null    datetime64[ns]\n",
      " 1   Title              328 non-null    object        \n",
      " 2   author(s)          328 non-null    object        \n",
      " 3   pages              328 non-null    int64         \n",
      " 4   review             328 non-null    object        \n",
      " 5   rating             311 non-null    float64       \n",
      " 6   status             328 non-null    object        \n",
      " 7   format             328 non-null    object        \n",
      " 8   platform           88 non-null     object        \n",
      " 9   publisher          328 non-null    object        \n",
      " 10  Imprint            328 non-null    object        \n",
      " 11  publication date   328 non-null    datetime64[ns]\n",
      " 12  type               328 non-null    object        \n",
      " 13  genre              328 non-null    object        \n",
      " 14  language           328 non-null    object        \n",
      " 15  publication_year   328 non-null    int64         \n",
      " 16  publication_month  328 non-null    int64         \n",
      " 17  completion_year    328 non-null    float64       \n",
      " 18  completion_month   328 non-null    float64       \n",
      "dtypes: datetime64[ns](2), float64(3), int64(3), object(11)\n",
      "memory usage: 51.2+ KB\n"
     ]
    }
   ],
   "source": [
    "Completed.info()"
   ]
  },
  {
   "cell_type": "code",
   "execution_count": 55,
   "id": "9c667c82",
   "metadata": {
    "execution": {
     "iopub.execute_input": "2022-06-09T11:58:32.113951Z",
     "iopub.status.busy": "2022-06-09T11:58:32.112781Z",
     "iopub.status.idle": "2022-06-09T11:58:32.361175Z",
     "shell.execute_reply": "2022-06-09T11:58:32.360299Z"
    },
    "papermill": {
     "duration": 0.282673,
     "end_time": "2022-06-09T11:58:32.363212",
     "exception": false,
     "start_time": "2022-06-09T11:58:32.080539",
     "status": "completed"
    },
    "tags": []
   },
   "outputs": [
    {
     "data": {
      "image/png": "[encoded data removed]",
      "text/plain": [
       "<Figure size 1080x720 with 1 Axes>"
      ]
     },
     "metadata": {},
     "output_type": "display_data"
    }
   ],
   "source": [
    "# Number of pages read since 2016 to 2022\n",
    "plt.figure(figsize = (15,10))\n",
    "sns.barplot( x= Completed[\"completion_year\"].astype(\"int\"), y = \"pages\", data = Completed, ci = None)\n",
    "plt.show()"
   ]
  },
  {
   "cell_type": "code",
   "execution_count": 56,
   "id": "f18fe354",
   "metadata": {
    "execution": {
     "iopub.execute_input": "2022-06-09T11:58:32.427046Z",
     "iopub.status.busy": "2022-06-09T11:58:32.426092Z",
     "iopub.status.idle": "2022-06-09T11:58:32.663974Z",
     "shell.execute_reply": "2022-06-09T11:58:32.663009Z"
    },
    "papermill": {
     "duration": 0.272461,
     "end_time": "2022-06-09T11:58:32.666207",
     "exception": false,
     "start_time": "2022-06-09T11:58:32.393746",
     "status": "completed"
    },
    "tags": []
   },
   "outputs": [
    {
     "data": {
      "image/png": "[encoded data removed]",
      "text/plain": [
       "<Figure size 1080x720 with 1 Axes>"
      ]
     },
     "metadata": {},
     "output_type": "display_data"
    }
   ],
   "source": [
    "# Number of books read since 2017\n",
    "plt.figure(figsize = (15,10))\n",
    "sns.countplot( x= Completed[\"completion_year\"].astype(\"int\"),data = Completed)\n",
    "plt.show()"
   ]
  },
  {
   "cell_type": "code",
   "execution_count": 57,
   "id": "d3bede52",
   "metadata": {
    "execution": {
     "iopub.execute_input": "2022-06-09T11:58:32.730671Z",
     "iopub.status.busy": "2022-06-09T11:58:32.730006Z",
     "iopub.status.idle": "2022-06-09T11:58:32.974089Z",
     "shell.execute_reply": "2022-06-09T11:58:32.973291Z"
    },
    "papermill": {
     "duration": 0.278971,
     "end_time": "2022-06-09T11:58:32.976390",
     "exception": false,
     "start_time": "2022-06-09T11:58:32.697419",
     "status": "completed"
    },
    "tags": []
   },
   "outputs": [
    {
     "data": {
      "image/png": "[encoded data removed]",
      "text/plain": [
       "<Figure size 1080x720 with 1 Axes>"
      ]
     },
     "metadata": {},
     "output_type": "display_data"
    }
   ],
   "source": [
    "# Number of books read in various months\n",
    "plt.figure(figsize = (15,10))\n",
    "sns.barplot( x= Completed[\"completion_month\"].astype(\"int\"), y = \"pages\", data = Completed,ci = None)\n",
    "plt.show()"
   ]
  },
  {
   "cell_type": "code",
   "execution_count": 58,
   "id": "b16af78f",
   "metadata": {
    "execution": {
     "iopub.execute_input": "2022-06-09T11:58:33.042138Z",
     "iopub.status.busy": "2022-06-09T11:58:33.041675Z",
     "iopub.status.idle": "2022-06-09T11:58:34.750533Z",
     "shell.execute_reply": "2022-06-09T11:58:34.749575Z"
    },
    "papermill": {
     "duration": 1.743901,
     "end_time": "2022-06-09T11:58:34.752807",
     "exception": false,
     "start_time": "2022-06-09T11:58:33.008906",
     "status": "completed"
    },
    "tags": []
   },
   "outputs": [
    {
     "data": {
      "image/png": "[encoded data removed]",
      "text/plain": [
       "<Figure size 1728x864 with 7 Axes>"
      ]
     },
     "metadata": {},
     "output_type": "display_data"
    }
   ],
   "source": [
    "g = sns.FacetGrid(Completed, col='completion_year', height=6, col_wrap=4)\n",
    "g.map(sns.histplot, \"completion_month\",)\n",
    "plt.show()"
   ]
  },
  {
   "cell_type": "code",
   "execution_count": 59,
   "id": "cc3e8cb8",
   "metadata": {
    "execution": {
     "iopub.execute_input": "2022-06-09T11:58:34.818638Z",
     "iopub.status.busy": "2022-06-09T11:58:34.818251Z",
     "iopub.status.idle": "2022-06-09T11:58:36.644187Z",
     "shell.execute_reply": "2022-06-09T11:58:36.643220Z"
    },
    "papermill": {
     "duration": 1.861481,
     "end_time": "2022-06-09T11:58:36.646240",
     "exception": false,
     "start_time": "2022-06-09T11:58:34.784759",
     "status": "completed"
    },
    "tags": []
   },
   "outputs": [
    {
     "data": {
      "text/plain": [
       "<seaborn.axisgrid.FacetGrid at 0x7f30ad9c3e10>"
      ]
     },
     "execution_count": 59,
     "metadata": {},
     "output_type": "execute_result"
    },
    {
     "data": {
      "image/png": "[encoded data removed]",
      "text/plain": [
       "<Figure size 1440x720 with 7 Axes>"
      ]
     },
     "metadata": {},
     "output_type": "display_data"
    }
   ],
   "source": [
    "sns.catplot(data = Completed, x=\"completion_month\", y = \"pages\", col = \"completion_year\", kind = \"bar\", col_wrap=4,ci = None)"
   ]
  },
  {
   "cell_type": "code",
   "execution_count": 60,
   "id": "72a1f5db",
   "metadata": {
    "execution": {
     "iopub.execute_input": "2022-06-09T11:58:36.714116Z",
     "iopub.status.busy": "2022-06-09T11:58:36.713745Z",
     "iopub.status.idle": "2022-06-09T11:58:36.720176Z",
     "shell.execute_reply": "2022-06-09T11:58:36.719361Z"
    },
    "papermill": {
     "duration": 0.043222,
     "end_time": "2022-06-09T11:58:36.722856",
     "exception": false,
     "start_time": "2022-06-09T11:58:36.679634",
     "status": "completed"
    },
    "tags": []
   },
   "outputs": [
    {
     "data": {
      "text/plain": [
       "317"
      ]
     },
     "execution_count": 60,
     "metadata": {},
     "output_type": "execute_result"
    }
   ],
   "source": [
    "Completed[\"Title\"].nunique()"
   ]
  },
  {
   "cell_type": "code",
   "execution_count": 61,
   "id": "16a315e9",
   "metadata": {
    "execution": {
     "iopub.execute_input": "2022-06-09T11:58:36.790783Z",
     "iopub.status.busy": "2022-06-09T11:58:36.790262Z",
     "iopub.status.idle": "2022-06-09T11:58:36.801811Z",
     "shell.execute_reply": "2022-06-09T11:58:36.801201Z"
    },
    "papermill": {
     "duration": 0.047652,
     "end_time": "2022-06-09T11:58:36.803650",
     "exception": false,
     "start_time": "2022-06-09T11:58:36.755998",
     "status": "completed"
    },
    "tags": []
   },
   "outputs": [
    {
     "data": {
      "text/html": [
       "<div>\n",
       "<style scoped>\n",
       "    .dataframe tbody tr th:only-of-type {\n",
       "        vertical-align: middle;\n",
       "    }\n",
       "\n",
       "    .dataframe tbody tr th {\n",
       "        vertical-align: top;\n",
       "    }\n",
       "\n",
       "    .dataframe thead th {\n",
       "        text-align: right;\n",
       "    }\n",
       "</style>\n",
       "<table border=\"1\" class=\"dataframe\">\n",
       "  <thead>\n",
       "    <tr style=\"text-align: right;\">\n",
       "      <th></th>\n",
       "      <th>titles</th>\n",
       "      <th>reads</th>\n",
       "    </tr>\n",
       "  </thead>\n",
       "  <tbody>\n",
       "    <tr>\n",
       "      <th>0</th>\n",
       "      <td>ぼくは明日、昨日のきみとデートする</td>\n",
       "      <td>2</td>\n",
       "    </tr>\n",
       "    <tr>\n",
       "      <th>1</th>\n",
       "      <td>Economics: The User's Guide</td>\n",
       "      <td>2</td>\n",
       "    </tr>\n",
       "    <tr>\n",
       "      <th>2</th>\n",
       "      <td>Economics</td>\n",
       "      <td>2</td>\n",
       "    </tr>\n",
       "    <tr>\n",
       "      <th>3</th>\n",
       "      <td>Magpie Murders</td>\n",
       "      <td>2</td>\n",
       "    </tr>\n",
       "    <tr>\n",
       "      <th>4</th>\n",
       "      <td>妖怪アパートの幽雅な日常 1</td>\n",
       "      <td>2</td>\n",
       "    </tr>\n",
       "  </tbody>\n",
       "</table>\n",
       "</div>"
      ],
      "text/plain": [
       "                        titles  reads\n",
       "0            ぼくは明日、昨日のきみとデートする      2\n",
       "1  Economics: The User's Guide      2\n",
       "2                    Economics      2\n",
       "3               Magpie Murders      2\n",
       "4               妖怪アパートの幽雅な日常 1      2"
      ]
     },
     "execution_count": 61,
     "metadata": {},
     "output_type": "execute_result"
    }
   ],
   "source": [
    "rereads = df[\"Title\"].value_counts().rename_axis (\"titles\").reset_index(name = \"reads\")\n",
    "rereads[rereads[\"reads\"]>1].head()"
   ]
  },
  {
   "cell_type": "code",
   "execution_count": 62,
   "id": "25c9e179",
   "metadata": {
    "execution": {
     "iopub.execute_input": "2022-06-09T11:58:36.872858Z",
     "iopub.status.busy": "2022-06-09T11:58:36.872339Z",
     "iopub.status.idle": "2022-06-09T11:58:36.878111Z",
     "shell.execute_reply": "2022-06-09T11:58:36.877482Z"
    },
    "papermill": {
     "duration": 0.043055,
     "end_time": "2022-06-09T11:58:36.879944",
     "exception": false,
     "start_time": "2022-06-09T11:58:36.836889",
     "status": "completed"
    },
    "tags": []
   },
   "outputs": [
    {
     "data": {
      "text/plain": [
       "13"
      ]
     },
     "execution_count": 62,
     "metadata": {},
     "output_type": "execute_result"
    }
   ],
   "source": [
    "rereads[rereads[\"reads\"]>1].shape[0]"
   ]
  },
  {
   "cell_type": "code",
   "execution_count": 63,
   "id": "86c87863",
   "metadata": {
    "execution": {
     "iopub.execute_input": "2022-06-09T11:58:36.949104Z",
     "iopub.status.busy": "2022-06-09T11:58:36.948050Z",
     "iopub.status.idle": "2022-06-09T11:58:36.954825Z",
     "shell.execute_reply": "2022-06-09T11:58:36.953869Z"
    },
    "papermill": {
     "duration": 0.043574,
     "end_time": "2022-06-09T11:58:36.956983",
     "exception": false,
     "start_time": "2022-06-09T11:58:36.913409",
     "status": "completed"
    },
    "tags": []
   },
   "outputs": [
    {
     "name": "stdout",
     "output_type": "stream",
     "text": [
      "3.35 % of read books were rereads\n"
     ]
    }
   ],
   "source": [
    "print(round((1 -Completed[\"Title\"].nunique()/Completed.shape[0])*100,2), \"% of read books were rereads\")"
   ]
  },
  {
   "cell_type": "code",
   "execution_count": 64,
   "id": "864309cb",
   "metadata": {
    "execution": {
     "iopub.execute_input": "2022-06-09T11:58:37.026699Z",
     "iopub.status.busy": "2022-06-09T11:58:37.025923Z",
     "iopub.status.idle": "2022-06-09T11:58:37.040063Z",
     "shell.execute_reply": "2022-06-09T11:58:37.039372Z"
    },
    "papermill": {
     "duration": 0.05086,
     "end_time": "2022-06-09T11:58:37.041915",
     "exception": false,
     "start_time": "2022-06-09T11:58:36.991055",
     "status": "completed"
    },
    "tags": []
   },
   "outputs": [
    {
     "data": {
      "text/html": [
       "<div>\n",
       "<style scoped>\n",
       "    .dataframe tbody tr th:only-of-type {\n",
       "        vertical-align: middle;\n",
       "    }\n",
       "\n",
       "    .dataframe tbody tr th {\n",
       "        vertical-align: top;\n",
       "    }\n",
       "\n",
       "    .dataframe thead th {\n",
       "        text-align: right;\n",
       "    }\n",
       "</style>\n",
       "<table border=\"1\" class=\"dataframe\">\n",
       "  <thead>\n",
       "    <tr style=\"text-align: right;\">\n",
       "      <th></th>\n",
       "      <th>author(s)</th>\n",
       "      <th>books/reads</th>\n",
       "    </tr>\n",
       "  </thead>\n",
       "  <tbody>\n",
       "    <tr>\n",
       "      <th>0</th>\n",
       "      <td>東野 圭吾</td>\n",
       "      <td>15</td>\n",
       "    </tr>\n",
       "    <tr>\n",
       "      <th>1</th>\n",
       "      <td>谷 瑞恵</td>\n",
       "      <td>13</td>\n",
       "    </tr>\n",
       "    <tr>\n",
       "      <th>2</th>\n",
       "      <td>香月 日輪</td>\n",
       "      <td>8</td>\n",
       "    </tr>\n",
       "    <tr>\n",
       "      <th>3</th>\n",
       "      <td>伊坂 幸太郎</td>\n",
       "      <td>7</td>\n",
       "    </tr>\n",
       "    <tr>\n",
       "      <th>4</th>\n",
       "      <td>ふじた</td>\n",
       "      <td>6</td>\n",
       "    </tr>\n",
       "  </tbody>\n",
       "</table>\n",
       "</div>"
      ],
      "text/plain": [
       "  author(s)  books/reads\n",
       "0     東野 圭吾           15\n",
       "1      谷 瑞恵           13\n",
       "2     香月 日輪            8\n",
       "3    伊坂 幸太郎            7\n",
       "4       ふじた            6"
      ]
     },
     "execution_count": 64,
     "metadata": {},
     "output_type": "execute_result"
    }
   ],
   "source": [
    "first_reads = Completed.drop_duplicates(subset = [\"Title\"], keep = \"first\"  )\n",
    "\n",
    "fav_authors = first_reads[\"author(s)\"].value_counts().rename_axis (\"author(s)\").reset_index(name = \"books/reads\")\n",
    "fav_authors[fav_authors[\"books/reads\"]>1].head()"
   ]
  },
  {
   "cell_type": "code",
   "execution_count": 65,
   "id": "461334cd",
   "metadata": {
    "execution": {
     "iopub.execute_input": "2022-06-09T11:58:37.112352Z",
     "iopub.status.busy": "2022-06-09T11:58:37.111698Z",
     "iopub.status.idle": "2022-06-09T11:58:37.175138Z",
     "shell.execute_reply": "2022-06-09T11:58:37.174257Z"
    },
    "papermill": {
     "duration": 0.101158,
     "end_time": "2022-06-09T11:58:37.177234",
     "exception": false,
     "start_time": "2022-06-09T11:58:37.076076",
     "status": "completed"
    },
    "tags": []
   },
   "outputs": [
    {
     "data": {
      "text/html": [
       "<div>                            <div id=\"fe21710c-6851-44c4-b9e4-d973cf358a3a\" class=\"plotly-graph-div\" style=\"height:525px; width:100%;\"></div>            <script type=\"text/javascript\">                require([\"plotly\"], function(Plotly) {                    window.PLOTLYENV=window.PLOTLYENV || {};                                    if (document.getElementById(\"fe21710c-6851-44c4-b9e4-d973cf358a3a\")) {                    Plotly.newPlot(                        \"fe21710c-6851-44c4-b9e4-d973cf358a3a\",                        [{\"alignmentgroup\":\"True\",\"hovertemplate\":\"author(s)=%{x}<br>books/reads=%{y}<extra></extra>\",\"legendgroup\":\"\",\"marker\":{\"color\":\"#636efa\",\"pattern\":{\"shape\":\"\"}},\"name\":\"\",\"offsetgroup\":\"\",\"orientation\":\"v\",\"showlegend\":false,\"textposition\":\"auto\",\"x\":[\"東野 圭吾\",\"谷 瑞恵\",\"香月 日輪\",\"伊坂 幸太郎\",\"ふじた\",\"Leigh Bardugo\",\"成田 良悟\",\"池井戸 潤\",\"藤木 稟\",\"Brandon Sanderson\",\"知念 実希人\",\"Ian Fleming\",\"J. K. Rowling\",\"V. E. Schwab\",\"枢 やな\",\"Robert Thorogood\",\"中村 ふみ\",\"誉田 哲也\",\"Anthony Horowitz\",\"Sarah J. Maas\",\"Agatha Christie\",\"葉山 透\",\"Scott Lynch\",\"赤川 次郎\",\"乙一\",\"Wilkie Collins\",\"Jane Austen\"],\"xaxis\":\"x\",\"y\":[15,13,8,7,6,5,5,5,5,4,4,4,4,4,4,4,3,3,3,3,3,3,3,3,3,3,3],\"yaxis\":\"y\",\"type\":\"bar\"}],                        {\"template\":{\"data\":{\"histogram2dcontour\":[{\"type\":\"histogram2dcontour\",\"colorbar\":{\"outlinewidth\":0,\"ticks\":\"\"},\"colorscale\":[[0.0,\"#0d0887\"],[0.1111111111111111,\"#46039f\"],[0.2222222222222222,\"#7201a8\"],[0.3333333333333333,\"#9c179e\"],[0.4444444444444444,\"#bd3786\"],[0.5555555555555556,\"#d8576b\"],[0.6666666666666666,\"#ed7953\"],[0.7777777777777778,\"#fb9f3a\"],[0.8888888888888888,\"#fdca26\"],[1.0,\"#f0f921\"]]}],\"choropleth\":[{\"type\":\"choropleth\",\"colorbar\":{\"outlinewidth\":0,\"ticks\":\"\"}}],\"histogram2d\":[{\"type\":\"histogram2d\",\"colorbar\":{\"outlinewidth\":0,\"ticks\":\"\"},\"colorscale\":[[0.0,\"#0d0887\"],[0.1111111111111111,\"#46039f\"],[0.2222222222222222,\"#7201a8\"],[0.3333333333333333,\"#9c179e\"],[0.4444444444444444,\"#bd3786\"],[0.5555555555555556,\"#d8576b\"],[0.6666666666666666,\"#ed7953\"],[0.7777777777777778,\"#fb9f3a\"],[0.8888888888888888,\"#fdca26\"],[1.0,\"#f0f921\"]]}],\"heatmap\":[{\"type\":\"heatmap\",\"colorbar\":{\"outlinewidth\":0,\"ticks\":\"\"},\"colorscale\":[[0.0,\"#0d0887\"],[0.1111111111111111,\"#46039f\"],[0.2222222222222222,\"#7201a8\"],[0.3333333333333333,\"#9c179e\"],[0.4444444444444444,\"#bd3786\"],[0.5555555555555556,\"#d8576b\"],[0.6666666666666666,\"#ed7953\"],[0.7777777777777778,\"#fb9f3a\"],[0.8888888888888888,\"#fdca26\"],[1.0,\"#f0f921\"]]}],\"heatmapgl\":[{\"type\":\"heatmapgl\",\"colorbar\":{\"outlinewidth\":0,\"ticks\":\"\"},\"colorscale\":[[0.0,\"#0d0887\"],[0.1111111111111111,\"#46039f\"],[0.2222222222222222,\"#7201a8\"],[0.3333333333333333,\"#9c179e\"],[0.4444444444444444,\"#bd3786\"],[0.5555555555555556,\"#d8576b\"],[0.6666666666666666,\"#ed7953\"],[0.7777777777777778,\"#fb9f3a\"],[0.8888888888888888,\"#fdca26\"],[1.0,\"#f0f921\"]]}],\"contourcarpet\":[{\"type\":\"contourcarpet\",\"colorbar\":{\"outlinewidth\":0,\"ticks\":\"\"}}],\"contour\":[{\"type\":\"contour\",\"colorbar\":{\"outlinewidth\":0,\"ticks\":\"\"},\"colorscale\":[[0.0,\"#0d0887\"],[0.1111111111111111,\"#46039f\"],[0.2222222222222222,\"#7201a8\"],[0.3333333333333333,\"#9c179e\"],[0.4444444444444444,\"#bd3786\"],[0.5555555555555556,\"#d8576b\"],[0.6666666666666666,\"#ed7953\"],[0.7777777777777778,\"#fb9f3a\"],[0.8888888888888888,\"#fdca26\"],[1.0,\"#f0f921\"]]}],\"surface\":[{\"type\":\"surface\",\"colorbar\":{\"outlinewidth\":0,\"ticks\":\"\"},\"colorscale\":[[0.0,\"#0d0887\"],[0.1111111111111111,\"#46039f\"],[0.2222222222222222,\"#7201a8\"],[0.3333333333333333,\"#9c179e\"],[0.4444444444444444,\"#bd3786\"],[0.5555555555555556,\"#d8576b\"],[0.6666666666666666,\"#ed7953\"],[0.7777777777777778,\"#fb9f3a\"],[0.8888888888888888,\"#fdca26\"],[1.0,\"#f0f921\"]]}],\"mesh3d\":[{\"type\":\"mesh3d\",\"colorbar\":{\"outlinewidth\":0,\"ticks\":\"\"}}],\"scatter\":[{\"fillpattern\":{\"fillmode\":\"overlay\",\"size\":10,\"solidity\":0.2},\"type\":\"scatter\"}],\"parcoords\":[{\"type\":\"parcoords\",\"line\":{\"colorbar\":{\"outlinewidth\":0,\"ticks\":\"\"}}}],\"scatterpolargl\":[{\"type\":\"scatterpolargl\",\"marker\":{\"colorbar\":{\"outlinewidth\":0,\"ticks\":\"\"}}}],\"bar\":[{\"error_x\":{\"color\":\"#2a3f5f\"},\"error_y\":{\"color\":\"#2a3f5f\"},\"marker\":{\"line\":{\"color\":\"#E5ECF6\",\"width\":0.5},\"pattern\":{\"fillmode\":\"overlay\",\"size\":10,\"solidity\":0.2}},\"type\":\"bar\"}],\"scattergeo\":[{\"type\":\"scattergeo\",\"marker\":{\"colorbar\":{\"outlinewidth\":0,\"ticks\":\"\"}}}],\"scatterpolar\":[{\"type\":\"scatterpolar\",\"marker\":{\"colorbar\":{\"outlinewidth\":0,\"ticks\":\"\"}}}],\"histogram\":[{\"marker\":{\"pattern\":{\"fillmode\":\"overlay\",\"size\":10,\"solidity\":0.2}},\"type\":\"histogram\"}],\"scattergl\":[{\"type\":\"scattergl\",\"marker\":{\"colorbar\":{\"outlinewidth\":0,\"ticks\":\"\"}}}],\"scatter3d\":[{\"type\":\"scatter3d\",\"line\":{\"colorbar\":{\"outlinewidth\":0,\"ticks\":\"\"}},\"marker\":{\"colorbar\":{\"outlinewidth\":0,\"ticks\":\"\"}}}],\"scattermapbox\":[{\"type\":\"scattermapbox\",\"marker\":{\"colorbar\":{\"outlinewidth\":0,\"ticks\":\"\"}}}],\"scatterternary\":[{\"type\":\"scatterternary\",\"marker\":{\"colorbar\":{\"outlinewidth\":0,\"ticks\":\"\"}}}],\"scattercarpet\":[{\"type\":\"scattercarpet\",\"marker\":{\"colorbar\":{\"outlinewidth\":0,\"ticks\":\"\"}}}],\"carpet\":[{\"aaxis\":{\"endlinecolor\":\"#2a3f5f\",\"gridcolor\":\"white\",\"linecolor\":\"white\",\"minorgridcolor\":\"white\",\"startlinecolor\":\"#2a3f5f\"},\"baxis\":{\"endlinecolor\":\"#2a3f5f\",\"gridcolor\":\"white\",\"linecolor\":\"white\",\"minorgridcolor\":\"white\",\"startlinecolor\":\"#2a3f5f\"},\"type\":\"carpet\"}],\"table\":[{\"cells\":{\"fill\":{\"color\":\"#EBF0F8\"},\"line\":{\"color\":\"white\"}},\"header\":{\"fill\":{\"color\":\"#C8D4E3\"},\"line\":{\"color\":\"white\"}},\"type\":\"table\"}],\"barpolar\":[{\"marker\":{\"line\":{\"color\":\"#E5ECF6\",\"width\":0.5},\"pattern\":{\"fillmode\":\"overlay\",\"size\":10,\"solidity\":0.2}},\"type\":\"barpolar\"}],\"pie\":[{\"automargin\":true,\"type\":\"pie\"}]},\"layout\":{\"autotypenumbers\":\"strict\",\"colorway\":[\"#636efa\",\"#EF553B\",\"#00cc96\",\"#ab63fa\",\"#FFA15A\",\"#19d3f3\",\"#FF6692\",\"#B6E880\",\"#FF97FF\",\"#FECB52\"],\"font\":{\"color\":\"#2a3f5f\"},\"hovermode\":\"closest\",\"hoverlabel\":{\"align\":\"left\"},\"paper_bgcolor\":\"white\",\"plot_bgcolor\":\"#E5ECF6\",\"polar\":{\"bgcolor\":\"#E5ECF6\",\"angularaxis\":{\"gridcolor\":\"white\",\"linecolor\":\"white\",\"ticks\":\"\"},\"radialaxis\":{\"gridcolor\":\"white\",\"linecolor\":\"white\",\"ticks\":\"\"}},\"ternary\":{\"bgcolor\":\"#E5ECF6\",\"aaxis\":{\"gridcolor\":\"white\",\"linecolor\":\"white\",\"ticks\":\"\"},\"baxis\":{\"gridcolor\":\"white\",\"linecolor\":\"white\",\"ticks\":\"\"},\"caxis\":{\"gridcolor\":\"white\",\"linecolor\":\"white\",\"ticks\":\"\"}},\"coloraxis\":{\"colorbar\":{\"outlinewidth\":0,\"ticks\":\"\"}},\"colorscale\":{\"sequential\":[[0.0,\"#0d0887\"],[0.1111111111111111,\"#46039f\"],[0.2222222222222222,\"#7201a8\"],[0.3333333333333333,\"#9c179e\"],[0.4444444444444444,\"#bd3786\"],[0.5555555555555556,\"#d8576b\"],[0.6666666666666666,\"#ed7953\"],[0.7777777777777778,\"#fb9f3a\"],[0.8888888888888888,\"#fdca26\"],[1.0,\"#f0f921\"]],\"sequentialminus\":[[0.0,\"#0d0887\"],[0.1111111111111111,\"#46039f\"],[0.2222222222222222,\"#7201a8\"],[0.3333333333333333,\"#9c179e\"],[0.4444444444444444,\"#bd3786\"],[0.5555555555555556,\"#d8576b\"],[0.6666666666666666,\"#ed7953\"],[0.7777777777777778,\"#fb9f3a\"],[0.8888888888888888,\"#fdca26\"],[1.0,\"#f0f921\"]],\"diverging\":[[0,\"#8e0152\"],[0.1,\"#c51b7d\"],[0.2,\"#de77ae\"],[0.3,\"#f1b6da\"],[0.4,\"#fde0ef\"],[0.5,\"#f7f7f7\"],[0.6,\"#e6f5d0\"],[0.7,\"#b8e186\"],[0.8,\"#7fbc41\"],[0.9,\"#4d9221\"],[1,\"#276419\"]]},\"xaxis\":{\"gridcolor\":\"white\",\"linecolor\":\"white\",\"ticks\":\"\",\"title\":{\"standoff\":15},\"zerolinecolor\":\"white\",\"automargin\":true,\"zerolinewidth\":2},\"yaxis\":{\"gridcolor\":\"white\",\"linecolor\":\"white\",\"ticks\":\"\",\"title\":{\"standoff\":15},\"zerolinecolor\":\"white\",\"automargin\":true,\"zerolinewidth\":2},\"scene\":{\"xaxis\":{\"backgroundcolor\":\"#E5ECF6\",\"gridcolor\":\"white\",\"linecolor\":\"white\",\"showbackground\":true,\"ticks\":\"\",\"zerolinecolor\":\"white\",\"gridwidth\":2},\"yaxis\":{\"backgroundcolor\":\"#E5ECF6\",\"gridcolor\":\"white\",\"linecolor\":\"white\",\"showbackground\":true,\"ticks\":\"\",\"zerolinecolor\":\"white\",\"gridwidth\":2},\"zaxis\":{\"backgroundcolor\":\"#E5ECF6\",\"gridcolor\":\"white\",\"linecolor\":\"white\",\"showbackground\":true,\"ticks\":\"\",\"zerolinecolor\":\"white\",\"gridwidth\":2}},\"shapedefaults\":{\"line\":{\"color\":\"#2a3f5f\"}},\"annotationdefaults\":{\"arrowcolor\":\"#2a3f5f\",\"arrowhead\":0,\"arrowwidth\":1},\"geo\":{\"bgcolor\":\"white\",\"landcolor\":\"#E5ECF6\",\"subunitcolor\":\"white\",\"showland\":true,\"showlakes\":true,\"lakecolor\":\"white\"},\"title\":{\"x\":0.05},\"mapbox\":{\"style\":\"light\"}}},\"xaxis\":{\"anchor\":\"y\",\"domain\":[0.0,1.0],\"title\":{\"text\":\"author(s)\"}},\"yaxis\":{\"anchor\":\"x\",\"domain\":[0.0,1.0],\"title\":{\"text\":\"books/reads\"}},\"legend\":{\"tracegroupgap\":0},\"margin\":{\"t\":60},\"barmode\":\"relative\"},                        {\"responsive\": true}                    ).then(function(){\n",
       "                            \n",
       "var gd = document.getElementById('fe21710c-6851-44c4-b9e4-d973cf358a3a');\n",
       "var x = new MutationObserver(function (mutations, observer) {{\n",
       "        var display = window.getComputedStyle(gd).display;\n",
       "        if (!display || display === 'none') {{\n",
       "            console.log([gd, 'removed!']);\n",
       "            Plotly.purge(gd);\n",
       "            observer.disconnect();\n",
       "        }}\n",
       "}});\n",
       "\n",
       "// Listen for the removal of the full notebook cells\n",
       "var notebookContainer = gd.closest('#notebook-container');\n",
       "if (notebookContainer) {{\n",
       "    x.observe(notebookContainer, {childList: true});\n",
       "}}\n",
       "\n",
       "// Listen for the clearing of the current output cell\n",
       "var outputEl = gd.closest('.output');\n",
       "if (outputEl) {{\n",
       "    x.observe(outputEl, {childList: true});\n",
       "}}\n",
       "\n",
       "                        })                };                });            </script>        </div>"
      ]
     },
     "metadata": {},
     "output_type": "display_data"
    }
   ],
   "source": [
    "px.bar(fav_authors[fav_authors[\"books/reads\"]>2], x=\"author(s)\", y = \"books/reads\" )"
   ]
  },
  {
   "cell_type": "code",
   "execution_count": 66,
   "id": "f1c4e490",
   "metadata": {
    "execution": {
     "iopub.execute_input": "2022-06-09T11:58:37.248116Z",
     "iopub.status.busy": "2022-06-09T11:58:37.247707Z",
     "iopub.status.idle": "2022-06-09T11:58:37.409840Z",
     "shell.execute_reply": "2022-06-09T11:58:37.409027Z"
    },
    "papermill": {
     "duration": 0.200186,
     "end_time": "2022-06-09T11:58:37.412052",
     "exception": false,
     "start_time": "2022-06-09T11:58:37.211866",
     "status": "completed"
    },
    "tags": []
   },
   "outputs": [
    {
     "data": {
      "text/plain": [
       "<AxesSubplot:xlabel='language', ylabel='count'>"
      ]
     },
     "execution_count": 66,
     "metadata": {},
     "output_type": "execute_result"
    },
    {
     "data": {
      "image/png": "[encoded data removed]",
      "text/plain": [
       "<Figure size 432x288 with 1 Axes>"
      ]
     },
     "metadata": {},
     "output_type": "display_data"
    }
   ],
   "source": [
    "fav_authors = fav_authors[fav_authors[\"books/reads\"]>2]\n",
    "\n",
    "sns.countplot(x = \"language\", data = Completed[Completed[\"author(s)\"].isin(fav_authors[\"author(s)\"])])"
   ]
  },
  {
   "cell_type": "code",
   "execution_count": 67,
   "id": "ba14d520",
   "metadata": {
    "execution": {
     "iopub.execute_input": "2022-06-09T11:58:37.483649Z",
     "iopub.status.busy": "2022-06-09T11:58:37.482954Z",
     "iopub.status.idle": "2022-06-09T11:58:37.491371Z",
     "shell.execute_reply": "2022-06-09T11:58:37.490559Z"
    },
    "papermill": {
     "duration": 0.046733,
     "end_time": "2022-06-09T11:58:37.493464",
     "exception": false,
     "start_time": "2022-06-09T11:58:37.446731",
     "status": "completed"
    },
    "tags": []
   },
   "outputs": [
    {
     "name": "stdout",
     "output_type": "stream",
     "text": [
      "There were 66.42 % more Japanese rereads than English rereads\n"
     ]
    }
   ],
   "source": [
    "ratio = (sum(Completed[Completed[\"author(s)\"].isin(fav_authors[\"author(s)\"])][\"language\"]==\"Japanese\")/Completed[Completed[\"author(s)\"].isin(fav_authors[\"author(s)\"])].shape[0])*100\n",
    "print(\"There were\", round(ratio,2),\"% more Japanese rereads than English rereads\")"
   ]
  },
  {
   "cell_type": "code",
   "execution_count": 68,
   "id": "d75580c3",
   "metadata": {
    "execution": {
     "iopub.execute_input": "2022-06-09T11:58:37.565182Z",
     "iopub.status.busy": "2022-06-09T11:58:37.564764Z",
     "iopub.status.idle": "2022-06-09T11:58:37.725101Z",
     "shell.execute_reply": "2022-06-09T11:58:37.724450Z"
    },
    "papermill": {
     "duration": 0.19844,
     "end_time": "2022-06-09T11:58:37.726978",
     "exception": false,
     "start_time": "2022-06-09T11:58:37.528538",
     "status": "completed"
    },
    "tags": []
   },
   "outputs": [
    {
     "data": {
      "image/png": "[encoded data removed]",
      "text/plain": [
       "<Figure size 432x288 with 1 Axes>"
      ]
     },
     "metadata": {},
     "output_type": "display_data"
    }
   ],
   "source": [
    "fav_authors = fav_authors[fav_authors[\"books/reads\"]>2]\n",
    "\n",
    "sns.barplot(x = \"language\", y = \"pages\", data = Completed[Completed[\"author(s)\"].isin(fav_authors[\"author(s)\"])], ci = None)\n",
    "plt.show()"
   ]
  },
  {
   "cell_type": "code",
   "execution_count": 69,
   "id": "0b083e52",
   "metadata": {
    "execution": {
     "iopub.execute_input": "2022-06-09T11:58:37.800374Z",
     "iopub.status.busy": "2022-06-09T11:58:37.799416Z",
     "iopub.status.idle": "2022-06-09T11:58:37.809055Z",
     "shell.execute_reply": "2022-06-09T11:58:37.808379Z"
    },
    "papermill": {
     "duration": 0.048597,
     "end_time": "2022-06-09T11:58:37.811043",
     "exception": false,
     "start_time": "2022-06-09T11:58:37.762446",
     "status": "completed"
    },
    "tags": []
   },
   "outputs": [
    {
     "data": {
      "text/plain": [
       "count    328.000000\n",
       "mean     345.042683\n",
       "std      132.200471\n",
       "min       31.000000\n",
       "25%      259.750000\n",
       "50%      327.000000\n",
       "75%      400.000000\n",
       "max      912.000000\n",
       "Name: pages, dtype: float64"
      ]
     },
     "execution_count": 69,
     "metadata": {},
     "output_type": "execute_result"
    }
   ],
   "source": [
    "Completed[\"pages\"].describe()"
   ]
  },
  {
   "cell_type": "code",
   "execution_count": 70,
   "id": "f0817915",
   "metadata": {
    "execution": {
     "iopub.execute_input": "2022-06-09T11:58:37.884697Z",
     "iopub.status.busy": "2022-06-09T11:58:37.883854Z",
     "iopub.status.idle": "2022-06-09T11:58:38.254291Z",
     "shell.execute_reply": "2022-06-09T11:58:38.253343Z"
    },
    "papermill": {
     "duration": 0.409285,
     "end_time": "2022-06-09T11:58:38.256428",
     "exception": false,
     "start_time": "2022-06-09T11:58:37.847143",
     "status": "completed"
    },
    "tags": []
   },
   "outputs": [
    {
     "data": {
      "image/png": "[encoded data removed]",
      "text/plain": [
       "<Figure size 360x360 with 1 Axes>"
      ]
     },
     "metadata": {},
     "output_type": "display_data"
    }
   ],
   "source": [
    "sns.displot(x = \"pages\", data = Completed, kind= \"kde\")\n",
    "plt.show()"
   ]
  },
  {
   "cell_type": "code",
   "execution_count": 71,
   "id": "3f0daa91",
   "metadata": {
    "execution": {
     "iopub.execute_input": "2022-06-09T11:58:38.330713Z",
     "iopub.status.busy": "2022-06-09T11:58:38.329952Z",
     "iopub.status.idle": "2022-06-09T11:58:38.834679Z",
     "shell.execute_reply": "2022-06-09T11:58:38.833751Z"
    },
    "papermill": {
     "duration": 0.544156,
     "end_time": "2022-06-09T11:58:38.836664",
     "exception": false,
     "start_time": "2022-06-09T11:58:38.292508",
     "status": "completed"
    },
    "tags": []
   },
   "outputs": [
    {
     "data": {
      "image/png": "[encoded data removed]",
      "text/plain": [
       "<Figure size 441.25x360 with 1 Axes>"
      ]
     },
     "metadata": {},
     "output_type": "display_data"
    }
   ],
   "source": [
    "sns.displot(x = \"pages\", data = Completed, kind= \"kde\", hue = \"language\")\n",
    "plt.show()"
   ]
  },
  {
   "cell_type": "code",
   "execution_count": 72,
   "id": "148c6af4",
   "metadata": {
    "execution": {
     "iopub.execute_input": "2022-06-09T11:58:38.912342Z",
     "iopub.status.busy": "2022-06-09T11:58:38.911930Z",
     "iopub.status.idle": "2022-06-09T11:58:39.074938Z",
     "shell.execute_reply": "2022-06-09T11:58:39.074331Z"
    },
    "papermill": {
     "duration": 0.203392,
     "end_time": "2022-06-09T11:58:39.076720",
     "exception": false,
     "start_time": "2022-06-09T11:58:38.873328",
     "status": "completed"
    },
    "tags": []
   },
   "outputs": [
    {
     "data": {
      "text/plain": [
       "<AxesSubplot:xlabel='review', ylabel='count'>"
      ]
     },
     "execution_count": 72,
     "metadata": {},
     "output_type": "execute_result"
    },
    {
     "data": {
      "image/png": "[encoded data removed]",
      "text/plain": [
       "<Figure size 432x288 with 1 Axes>"
      ]
     },
     "metadata": {},
     "output_type": "display_data"
    }
   ],
   "source": [
    "sns.countplot(x = \"review\", data = Completed)"
   ]
  },
  {
   "cell_type": "code",
   "execution_count": 73,
   "id": "f8831975",
   "metadata": {
    "execution": {
     "iopub.execute_input": "2022-06-09T11:58:39.153139Z",
     "iopub.status.busy": "2022-06-09T11:58:39.152582Z",
     "iopub.status.idle": "2022-06-09T11:58:39.160824Z",
     "shell.execute_reply": "2022-06-09T11:58:39.159851Z"
    },
    "papermill": {
     "duration": 0.048914,
     "end_time": "2022-06-09T11:58:39.162802",
     "exception": false,
     "start_time": "2022-06-09T11:58:39.113888",
     "status": "completed"
    },
    "tags": []
   },
   "outputs": [
    {
     "name": "stdout",
     "output_type": "stream",
     "text": [
      "75.0 % of books read have been reviewed\n"
     ]
    }
   ],
   "source": [
    "print(round((Completed[Completed[\"review\"]==\"Yes\"].shape[0]/Completed.dropna(subset = [\"review\"]).shape[0])*100, 1) ,\"% of books read have been reviewed\")"
   ]
  },
  {
   "cell_type": "code",
   "execution_count": 74,
   "id": "b3522bc8",
   "metadata": {
    "execution": {
     "iopub.execute_input": "2022-06-09T11:58:39.238578Z",
     "iopub.status.busy": "2022-06-09T11:58:39.237991Z",
     "iopub.status.idle": "2022-06-09T11:58:39.614618Z",
     "shell.execute_reply": "2022-06-09T11:58:39.613731Z"
    },
    "papermill": {
     "duration": 0.417134,
     "end_time": "2022-06-09T11:58:39.617047",
     "exception": false,
     "start_time": "2022-06-09T11:58:39.199913",
     "status": "completed"
    },
    "tags": []
   },
   "outputs": [
    {
     "data": {
      "text/plain": [
       "<seaborn.axisgrid.FacetGrid at 0x7f30b6638390>"
      ]
     },
     "execution_count": 74,
     "metadata": {},
     "output_type": "execute_result"
    },
    {
     "data": {
      "image/png": "[encoded data removed]",
      "text/plain": [
       "<Figure size 360x360 with 1 Axes>"
      ]
     },
     "metadata": {},
     "output_type": "display_data"
    }
   ],
   "source": [
    "sns.displot(x = \"rating\", data = Completed, kind= \"kde\")"
   ]
  },
  {
   "cell_type": "code",
   "execution_count": 75,
   "id": "528fa545",
   "metadata": {
    "execution": {
     "iopub.execute_input": "2022-06-09T11:58:39.694671Z",
     "iopub.status.busy": "2022-06-09T11:58:39.694144Z",
     "iopub.status.idle": "2022-06-09T11:58:39.871415Z",
     "shell.execute_reply": "2022-06-09T11:58:39.870535Z"
    },
    "papermill": {
     "duration": 0.218826,
     "end_time": "2022-06-09T11:58:39.873693",
     "exception": false,
     "start_time": "2022-06-09T11:58:39.654867",
     "status": "completed"
    },
    "tags": []
   },
   "outputs": [
    {
     "data": {
      "text/plain": [
       "<AxesSubplot:xlabel='format', ylabel='count'>"
      ]
     },
     "execution_count": 75,
     "metadata": {},
     "output_type": "execute_result"
    },
    {
     "data": {
      "image/png": "[encoded data removed]",
      "text/plain": [
       "<Figure size 432x288 with 1 Axes>"
      ]
     },
     "metadata": {},
     "output_type": "display_data"
    }
   ],
   "source": [
    "sns.countplot(x = \"format\", data = Completed)"
   ]
  },
  {
   "cell_type": "code",
   "execution_count": 76,
   "id": "68c385ec",
   "metadata": {
    "execution": {
     "iopub.execute_input": "2022-06-09T11:58:39.957676Z",
     "iopub.status.busy": "2022-06-09T11:58:39.956778Z",
     "iopub.status.idle": "2022-06-09T11:58:41.088254Z",
     "shell.execute_reply": "2022-06-09T11:58:41.087342Z"
    },
    "papermill": {
     "duration": 1.176298,
     "end_time": "2022-06-09T11:58:41.090218",
     "exception": false,
     "start_time": "2022-06-09T11:58:39.913920",
     "status": "completed"
    },
    "tags": []
   },
   "outputs": [
    {
     "data": {
      "image/png": "[encoded data removed]",
      "text/plain": [
       "<Figure size 864x864 with 4 Axes>"
      ]
     },
     "metadata": {},
     "output_type": "display_data"
    }
   ],
   "source": [
    "g = sns.FacetGrid(Completed, col='format', height=6, col_wrap=2)\n",
    "g.map(sns.histplot, \"completion_year\")\n",
    "plt.show()"
   ]
  },
  {
   "cell_type": "code",
   "execution_count": 77,
   "id": "0b1d2c89",
   "metadata": {
    "execution": {
     "iopub.execute_input": "2022-06-09T11:58:41.170253Z",
     "iopub.status.busy": "2022-06-09T11:58:41.169862Z",
     "iopub.status.idle": "2022-06-09T11:58:41.883925Z",
     "shell.execute_reply": "2022-06-09T11:58:41.882984Z"
    },
    "papermill": {
     "duration": 0.756466,
     "end_time": "2022-06-09T11:58:41.886116",
     "exception": false,
     "start_time": "2022-06-09T11:58:41.129650",
     "status": "completed"
    },
    "tags": []
   },
   "outputs": [
    {
     "data": {
      "image/png": "[encoded data removed]",
      "text/plain": [
       "<Figure size 1728x432 with 2 Axes>"
      ]
     },
     "metadata": {},
     "output_type": "display_data"
    }
   ],
   "source": [
    "g = sns.FacetGrid(Completed, col='type', height=6, col_wrap=4)\n",
    "g.map(sns.histplot, \"completion_year\")\n",
    "plt.show()"
   ]
  },
  {
   "cell_type": "code",
   "execution_count": 78,
   "id": "f62a2638",
   "metadata": {
    "execution": {
     "iopub.execute_input": "2022-06-09T11:58:41.967576Z",
     "iopub.status.busy": "2022-06-09T11:58:41.966933Z",
     "iopub.status.idle": "2022-06-09T11:58:42.153991Z",
     "shell.execute_reply": "2022-06-09T11:58:42.153088Z"
    },
    "papermill": {
     "duration": 0.229457,
     "end_time": "2022-06-09T11:58:42.155930",
     "exception": false,
     "start_time": "2022-06-09T11:58:41.926473",
     "status": "completed"
    },
    "tags": []
   },
   "outputs": [
    {
     "data": {
      "text/plain": [
       "<AxesSubplot:xlabel='format', ylabel='count'>"
      ]
     },
     "execution_count": 78,
     "metadata": {},
     "output_type": "execute_result"
    },
    {
     "data": {
      "image/png": "[encoded data removed]",
      "text/plain": [
       "<Figure size 432x288 with 1 Axes>"
      ]
     },
     "metadata": {},
     "output_type": "display_data"
    }
   ],
   "source": [
    "sns.countplot(x = \"format\", data = Completed[Completed[\"type\"]==\"Nonfiction\"])"
   ]
  },
  {
   "cell_type": "code",
   "execution_count": 79,
   "id": "42516cb8",
   "metadata": {
    "execution": {
     "iopub.execute_input": "2022-06-09T11:58:42.237521Z",
     "iopub.status.busy": "2022-06-09T11:58:42.237114Z",
     "iopub.status.idle": "2022-06-09T11:58:42.418107Z",
     "shell.execute_reply": "2022-06-09T11:58:42.417437Z"
    },
    "papermill": {
     "duration": 0.224054,
     "end_time": "2022-06-09T11:58:42.419949",
     "exception": false,
     "start_time": "2022-06-09T11:58:42.195895",
     "status": "completed"
    },
    "tags": []
   },
   "outputs": [
    {
     "data": {
      "text/plain": [
       "<AxesSubplot:xlabel='format', ylabel='count'>"
      ]
     },
     "execution_count": 79,
     "metadata": {},
     "output_type": "execute_result"
    },
    {
     "data": {
      "image/png": "[encoded data removed]",
      "text/plain": [
       "<Figure size 432x288 with 1 Axes>"
      ]
     },
     "metadata": {},
     "output_type": "display_data"
    }
   ],
   "source": [
    "sns.countplot(x = \"format\", data = Completed[Completed[\"type\"]==\"Fiction\"])"
   ]
  },
  {
   "cell_type": "code",
   "execution_count": 80,
   "id": "8181436d",
   "metadata": {
    "execution": {
     "iopub.execute_input": "2022-06-09T11:58:42.503798Z",
     "iopub.status.busy": "2022-06-09T11:58:42.503190Z",
     "iopub.status.idle": "2022-06-09T11:58:43.294793Z",
     "shell.execute_reply": "2022-06-09T11:58:43.293786Z"
    },
    "papermill": {
     "duration": 0.835791,
     "end_time": "2022-06-09T11:58:43.296896",
     "exception": false,
     "start_time": "2022-06-09T11:58:42.461105",
     "status": "completed"
    },
    "tags": []
   },
   "outputs": [
    {
     "data": {
      "image/png": "[encoded data removed]",
      "text/plain": [
       "<Figure size 864x864 with 4 Axes>"
      ]
     },
     "metadata": {},
     "output_type": "display_data"
    }
   ],
   "source": [
    "g = sns.FacetGrid(Completed, col='format', height=6, col_wrap=2)\n",
    "g.map(sns.histplot, \"review\")\n",
    "plt.show()"
   ]
  },
  {
   "cell_type": "code",
   "execution_count": 81,
   "id": "91e99a62",
   "metadata": {
    "execution": {
     "iopub.execute_input": "2022-06-09T11:58:43.381521Z",
     "iopub.status.busy": "2022-06-09T11:58:43.380634Z",
     "iopub.status.idle": "2022-06-09T11:58:44.719221Z",
     "shell.execute_reply": "2022-06-09T11:58:44.718337Z"
    },
    "papermill": {
     "duration": 1.382893,
     "end_time": "2022-06-09T11:58:44.721248",
     "exception": false,
     "start_time": "2022-06-09T11:58:43.338355",
     "status": "completed"
    },
    "tags": []
   },
   "outputs": [
    {
     "data": {
      "image/png": "[encoded data removed]",
      "text/plain": [
       "<Figure size 1728x432 with 4 Axes>"
      ]
     },
     "metadata": {},
     "output_type": "display_data"
    }
   ],
   "source": [
    "g = sns.FacetGrid(Completed, col='format', height=6, col_wrap=4)\n",
    "g.map(sns.histplot, \"rating\")\n",
    "plt.show()"
   ]
  },
  {
   "cell_type": "code",
   "execution_count": 82,
   "id": "37dd9734",
   "metadata": {
    "execution": {
     "iopub.execute_input": "2022-06-09T11:58:44.806440Z",
     "iopub.status.busy": "2022-06-09T11:58:44.805777Z",
     "iopub.status.idle": "2022-06-09T11:58:45.017343Z",
     "shell.execute_reply": "2022-06-09T11:58:45.016460Z"
    },
    "papermill": {
     "duration": 0.257155,
     "end_time": "2022-06-09T11:58:45.019772",
     "exception": false,
     "start_time": "2022-06-09T11:58:44.762617",
     "status": "completed"
    },
    "tags": []
   },
   "outputs": [
    {
     "data": {
      "text/plain": [
       "<AxesSubplot:xlabel='platform', ylabel='count'>"
      ]
     },
     "execution_count": 82,
     "metadata": {},
     "output_type": "execute_result"
    },
    {
     "data": {
      "image/png": "[encoded data removed]",
      "text/plain": [
       "<Figure size 432x288 with 1 Axes>"
      ]
     },
     "metadata": {},
     "output_type": "display_data"
    }
   ],
   "source": [
    "sns.countplot(x = \"platform\", data = Completed[Completed[\"format\"]==\"Audiobook\"])"
   ]
  },
  {
   "cell_type": "code",
   "execution_count": 83,
   "id": "78061caa",
   "metadata": {
    "execution": {
     "iopub.execute_input": "2022-06-09T11:58:45.113158Z",
     "iopub.status.busy": "2022-06-09T11:58:45.112758Z",
     "iopub.status.idle": "2022-06-09T11:58:46.214799Z",
     "shell.execute_reply": "2022-06-09T11:58:46.213758Z"
    },
    "papermill": {
     "duration": 1.151155,
     "end_time": "2022-06-09T11:58:46.216925",
     "exception": false,
     "start_time": "2022-06-09T11:58:45.065770",
     "status": "completed"
    },
    "tags": []
   },
   "outputs": [
    {
     "data": {
      "image/png": "[encoded data removed]",
      "text/plain": [
       "<Figure size 1728x432 with 4 Axes>"
      ]
     },
     "metadata": {},
     "output_type": "display_data"
    }
   ],
   "source": [
    "g = sns.FacetGrid(Completed[Completed[\"format\"]==\"Audiobook\"], col='completion_year', height=6, col_wrap=4)\n",
    "g.map(sns.histplot, \"platform\")\n",
    "plt.show()"
   ]
  },
  {
   "cell_type": "code",
   "execution_count": 84,
   "id": "51abed22",
   "metadata": {
    "execution": {
     "iopub.execute_input": "2022-06-09T11:58:46.307346Z",
     "iopub.status.busy": "2022-06-09T11:58:46.306293Z",
     "iopub.status.idle": "2022-06-09T11:58:46.313828Z",
     "shell.execute_reply": "2022-06-09T11:58:46.312404Z"
    },
    "papermill": {
     "duration": 0.055075,
     "end_time": "2022-06-09T11:58:46.316033",
     "exception": false,
     "start_time": "2022-06-09T11:58:46.260958",
     "status": "completed"
    },
    "tags": []
   },
   "outputs": [
    {
     "name": "stdout",
     "output_type": "stream",
     "text": [
      "56 114\n"
     ]
    }
   ],
   "source": [
    "print(first_reads[\"publisher\"].nunique(), first_reads[\"Imprint\"].nunique())\n"
   ]
  },
  {
   "cell_type": "code",
   "execution_count": 85,
   "id": "ef32264f",
   "metadata": {
    "execution": {
     "iopub.execute_input": "2022-06-09T11:58:46.404893Z",
     "iopub.status.busy": "2022-06-09T11:58:46.404497Z",
     "iopub.status.idle": "2022-06-09T11:58:46.419691Z",
     "shell.execute_reply": "2022-06-09T11:58:46.418670Z"
    },
    "papermill": {
     "duration": 0.062817,
     "end_time": "2022-06-09T11:58:46.421885",
     "exception": false,
     "start_time": "2022-06-09T11:58:46.359068",
     "status": "completed"
    },
    "tags": []
   },
   "outputs": [
    {
     "data": {
      "text/html": [
       "<div>\n",
       "<style scoped>\n",
       "    .dataframe tbody tr th:only-of-type {\n",
       "        vertical-align: middle;\n",
       "    }\n",
       "\n",
       "    .dataframe tbody tr th {\n",
       "        vertical-align: top;\n",
       "    }\n",
       "\n",
       "    .dataframe thead th {\n",
       "        text-align: right;\n",
       "    }\n",
       "</style>\n",
       "<table border=\"1\" class=\"dataframe\">\n",
       "  <thead>\n",
       "    <tr style=\"text-align: right;\">\n",
       "      <th></th>\n",
       "      <th>publisher</th>\n",
       "      <th>books/reads</th>\n",
       "    </tr>\n",
       "  </thead>\n",
       "  <tbody>\n",
       "    <tr>\n",
       "      <th>0</th>\n",
       "      <td>Penguin Random House</td>\n",
       "      <td>55</td>\n",
       "    </tr>\n",
       "    <tr>\n",
       "      <th>1</th>\n",
       "      <td>KADOKAWA</td>\n",
       "      <td>52</td>\n",
       "    </tr>\n",
       "    <tr>\n",
       "      <th>2</th>\n",
       "      <td>集英社</td>\n",
       "      <td>23</td>\n",
       "    </tr>\n",
       "    <tr>\n",
       "      <th>3</th>\n",
       "      <td>講談社</td>\n",
       "      <td>22</td>\n",
       "    </tr>\n",
       "    <tr>\n",
       "      <th>4</th>\n",
       "      <td>HarperCollins</td>\n",
       "      <td>17</td>\n",
       "    </tr>\n",
       "    <tr>\n",
       "      <th>5</th>\n",
       "      <td>Macmillan Publishers</td>\n",
       "      <td>17</td>\n",
       "    </tr>\n",
       "    <tr>\n",
       "      <th>6</th>\n",
       "      <td>文藝春秋</td>\n",
       "      <td>13</td>\n",
       "    </tr>\n",
       "    <tr>\n",
       "      <th>7</th>\n",
       "      <td>Orion</td>\n",
       "      <td>12</td>\n",
       "    </tr>\n",
       "    <tr>\n",
       "      <th>8</th>\n",
       "      <td>新潮社</td>\n",
       "      <td>9</td>\n",
       "    </tr>\n",
       "    <tr>\n",
       "      <th>9</th>\n",
       "      <td>Hachette Book</td>\n",
       "      <td>9</td>\n",
       "    </tr>\n",
       "  </tbody>\n",
       "</table>\n",
       "</div>"
      ],
      "text/plain": [
       "              publisher  books/reads\n",
       "0  Penguin Random House           55\n",
       "1              KADOKAWA           52\n",
       "2                   集英社           23\n",
       "3                   講談社           22\n",
       "4         HarperCollins           17\n",
       "5  Macmillan Publishers           17\n",
       "6                  文藝春秋           13\n",
       "7                 Orion           12\n",
       "8                   新潮社            9\n",
       "9         Hachette Book            9"
      ]
     },
     "execution_count": 85,
     "metadata": {},
     "output_type": "execute_result"
    }
   ],
   "source": [
    "publisher = first_reads[\"publisher\"].value_counts().rename_axis (\"publisher\").reset_index(name = \"books/reads\")\n",
    "publisher[publisher[\"books/reads\"]>1].head(10)"
   ]
  },
  {
   "cell_type": "code",
   "execution_count": 86,
   "id": "b6cbd45d",
   "metadata": {
    "execution": {
     "iopub.execute_input": "2022-06-09T11:58:46.513829Z",
     "iopub.status.busy": "2022-06-09T11:58:46.513412Z",
     "iopub.status.idle": "2022-06-09T11:58:46.527463Z",
     "shell.execute_reply": "2022-06-09T11:58:46.526504Z"
    },
    "papermill": {
     "duration": 0.062766,
     "end_time": "2022-06-09T11:58:46.529567",
     "exception": false,
     "start_time": "2022-06-09T11:58:46.466801",
     "status": "completed"
    },
    "tags": []
   },
   "outputs": [
    {
     "data": {
      "text/html": [
       "<div>\n",
       "<style scoped>\n",
       "    .dataframe tbody tr th:only-of-type {\n",
       "        vertical-align: middle;\n",
       "    }\n",
       "\n",
       "    .dataframe tbody tr th {\n",
       "        vertical-align: top;\n",
       "    }\n",
       "\n",
       "    .dataframe thead th {\n",
       "        text-align: right;\n",
       "    }\n",
       "</style>\n",
       "<table border=\"1\" class=\"dataframe\">\n",
       "  <thead>\n",
       "    <tr style=\"text-align: right;\">\n",
       "      <th></th>\n",
       "      <th>Imprint</th>\n",
       "      <th>books/reads</th>\n",
       "    </tr>\n",
       "  </thead>\n",
       "  <tbody>\n",
       "    <tr>\n",
       "      <th>0</th>\n",
       "      <td>角川文庫</td>\n",
       "      <td>20</td>\n",
       "    </tr>\n",
       "    <tr>\n",
       "      <th>1</th>\n",
       "      <td>講談社文庫</td>\n",
       "      <td>18</td>\n",
       "    </tr>\n",
       "    <tr>\n",
       "      <th>2</th>\n",
       "      <td>コバルト文庫</td>\n",
       "      <td>15</td>\n",
       "    </tr>\n",
       "    <tr>\n",
       "      <th>3</th>\n",
       "      <td>Penguin</td>\n",
       "      <td>13</td>\n",
       "    </tr>\n",
       "    <tr>\n",
       "      <th>4</th>\n",
       "      <td>文春文庫</td>\n",
       "      <td>13</td>\n",
       "    </tr>\n",
       "    <tr>\n",
       "      <th>5</th>\n",
       "      <td>Penguin Classics</td>\n",
       "      <td>13</td>\n",
       "    </tr>\n",
       "    <tr>\n",
       "      <th>6</th>\n",
       "      <td>メディアワークス文庫</td>\n",
       "      <td>11</td>\n",
       "    </tr>\n",
       "    <tr>\n",
       "      <th>7</th>\n",
       "      <td>Picador</td>\n",
       "      <td>9</td>\n",
       "    </tr>\n",
       "    <tr>\n",
       "      <th>8</th>\n",
       "      <td>角川ホラー文庫</td>\n",
       "      <td>8</td>\n",
       "    </tr>\n",
       "    <tr>\n",
       "      <th>9</th>\n",
       "      <td>Gollancz</td>\n",
       "      <td>7</td>\n",
       "    </tr>\n",
       "  </tbody>\n",
       "</table>\n",
       "</div>"
      ],
      "text/plain": [
       "            Imprint  books/reads\n",
       "0              角川文庫           20\n",
       "1             講談社文庫           18\n",
       "2            コバルト文庫           15\n",
       "3           Penguin           13\n",
       "4              文春文庫           13\n",
       "5  Penguin Classics           13\n",
       "6        メディアワークス文庫           11\n",
       "7           Picador            9\n",
       "8           角川ホラー文庫            8\n",
       "9          Gollancz            7"
      ]
     },
     "execution_count": 86,
     "metadata": {},
     "output_type": "execute_result"
    }
   ],
   "source": [
    "Imprint = first_reads[\"Imprint\"].value_counts().rename_axis (\"Imprint\").reset_index(name = \"books/reads\")\n",
    "Imprint[Imprint[\"books/reads\"]>1].head(10)"
   ]
  },
  {
   "cell_type": "code",
   "execution_count": 87,
   "id": "7d6e20d6",
   "metadata": {
    "execution": {
     "iopub.execute_input": "2022-06-09T11:58:46.620011Z",
     "iopub.status.busy": "2022-06-09T11:58:46.619589Z",
     "iopub.status.idle": "2022-06-09T11:58:46.633338Z",
     "shell.execute_reply": "2022-06-09T11:58:46.632497Z"
    },
    "papermill": {
     "duration": 0.061653,
     "end_time": "2022-06-09T11:58:46.635512",
     "exception": false,
     "start_time": "2022-06-09T11:58:46.573859",
     "status": "completed"
    },
    "tags": []
   },
   "outputs": [
    {
     "data": {
      "text/plain": [
       "43"
      ]
     },
     "execution_count": 87,
     "metadata": {},
     "output_type": "execute_result"
    }
   ],
   "source": [
    "Japanese_first_reads = first_reads[first_reads[\"language\"]==\"Japanese\"]\n",
    "Imprint = Japanese_first_reads[\"Imprint\"].value_counts().rename_axis (\"Imprint\").reset_index(name = \"books/reads\")\n",
    "Imprint[\"Imprint\"].nunique()"
   ]
  },
  {
   "cell_type": "code",
   "execution_count": 88,
   "id": "6870d192",
   "metadata": {
    "execution": {
     "iopub.execute_input": "2022-06-09T11:58:46.727263Z",
     "iopub.status.busy": "2022-06-09T11:58:46.726589Z",
     "iopub.status.idle": "2022-06-09T11:58:46.738524Z",
     "shell.execute_reply": "2022-06-09T11:58:46.737539Z"
    },
    "papermill": {
     "duration": 0.060095,
     "end_time": "2022-06-09T11:58:46.740485",
     "exception": false,
     "start_time": "2022-06-09T11:58:46.680390",
     "status": "completed"
    },
    "tags": []
   },
   "outputs": [
    {
     "data": {
      "text/html": [
       "<div>\n",
       "<style scoped>\n",
       "    .dataframe tbody tr th:only-of-type {\n",
       "        vertical-align: middle;\n",
       "    }\n",
       "\n",
       "    .dataframe tbody tr th {\n",
       "        vertical-align: top;\n",
       "    }\n",
       "\n",
       "    .dataframe thead th {\n",
       "        text-align: right;\n",
       "    }\n",
       "</style>\n",
       "<table border=\"1\" class=\"dataframe\">\n",
       "  <thead>\n",
       "    <tr style=\"text-align: right;\">\n",
       "      <th></th>\n",
       "      <th>Imprint</th>\n",
       "      <th>books/reads</th>\n",
       "    </tr>\n",
       "  </thead>\n",
       "  <tbody>\n",
       "    <tr>\n",
       "      <th>0</th>\n",
       "      <td>角川文庫</td>\n",
       "      <td>20</td>\n",
       "    </tr>\n",
       "    <tr>\n",
       "      <th>1</th>\n",
       "      <td>講談社文庫</td>\n",
       "      <td>18</td>\n",
       "    </tr>\n",
       "    <tr>\n",
       "      <th>2</th>\n",
       "      <td>コバルト文庫</td>\n",
       "      <td>15</td>\n",
       "    </tr>\n",
       "    <tr>\n",
       "      <th>3</th>\n",
       "      <td>文春文庫</td>\n",
       "      <td>13</td>\n",
       "    </tr>\n",
       "    <tr>\n",
       "      <th>4</th>\n",
       "      <td>メディアワークス文庫</td>\n",
       "      <td>11</td>\n",
       "    </tr>\n",
       "    <tr>\n",
       "      <th>5</th>\n",
       "      <td>角川ホラー文庫</td>\n",
       "      <td>8</td>\n",
       "    </tr>\n",
       "    <tr>\n",
       "      <th>6</th>\n",
       "      <td>一迅社</td>\n",
       "      <td>6</td>\n",
       "    </tr>\n",
       "    <tr>\n",
       "      <th>7</th>\n",
       "      <td>新潮文庫</td>\n",
       "      <td>6</td>\n",
       "    </tr>\n",
       "    <tr>\n",
       "      <th>8</th>\n",
       "      <td>アスキーメディアワークス</td>\n",
       "      <td>5</td>\n",
       "    </tr>\n",
       "    <tr>\n",
       "      <th>9</th>\n",
       "      <td>光文社文庫</td>\n",
       "      <td>5</td>\n",
       "    </tr>\n",
       "  </tbody>\n",
       "</table>\n",
       "</div>"
      ],
      "text/plain": [
       "        Imprint  books/reads\n",
       "0          角川文庫           20\n",
       "1         講談社文庫           18\n",
       "2        コバルト文庫           15\n",
       "3          文春文庫           13\n",
       "4    メディアワークス文庫           11\n",
       "5       角川ホラー文庫            8\n",
       "6           一迅社            6\n",
       "7          新潮文庫            6\n",
       "8  アスキーメディアワークス            5\n",
       "9         光文社文庫            5"
      ]
     },
     "execution_count": 88,
     "metadata": {},
     "output_type": "execute_result"
    }
   ],
   "source": [
    "Imprint[Imprint[\"books/reads\"]>1].head(10)"
   ]
  },
  {
   "cell_type": "code",
   "execution_count": 89,
   "id": "6d28e296",
   "metadata": {
    "execution": {
     "iopub.execute_input": "2022-06-09T11:58:46.833271Z",
     "iopub.status.busy": "2022-06-09T11:58:46.832394Z",
     "iopub.status.idle": "2022-06-09T11:58:46.844153Z",
     "shell.execute_reply": "2022-06-09T11:58:46.843333Z"
    },
    "papermill": {
     "duration": 0.06025,
     "end_time": "2022-06-09T11:58:46.846020",
     "exception": false,
     "start_time": "2022-06-09T11:58:46.785770",
     "status": "completed"
    },
    "tags": []
   },
   "outputs": [
    {
     "data": {
      "text/plain": [
       "72"
      ]
     },
     "execution_count": 89,
     "metadata": {},
     "output_type": "execute_result"
    }
   ],
   "source": [
    "English_first_reads = first_reads[first_reads[\"language\"]==\"English\"]\n",
    "Imprint = English_first_reads[\"Imprint\"].value_counts().rename_axis (\"Imprint\").reset_index(name = \"books/reads\")\n",
    "Imprint[\"Imprint\"].nunique()"
   ]
  },
  {
   "cell_type": "code",
   "execution_count": 90,
   "id": "70935a65",
   "metadata": {
    "execution": {
     "iopub.execute_input": "2022-06-09T11:58:46.938582Z",
     "iopub.status.busy": "2022-06-09T11:58:46.937610Z",
     "iopub.status.idle": "2022-06-09T11:58:46.949600Z",
     "shell.execute_reply": "2022-06-09T11:58:46.948850Z"
    },
    "papermill": {
     "duration": 0.060843,
     "end_time": "2022-06-09T11:58:46.951660",
     "exception": false,
     "start_time": "2022-06-09T11:58:46.890817",
     "status": "completed"
    },
    "tags": []
   },
   "outputs": [
    {
     "data": {
      "text/html": [
       "<div>\n",
       "<style scoped>\n",
       "    .dataframe tbody tr th:only-of-type {\n",
       "        vertical-align: middle;\n",
       "    }\n",
       "\n",
       "    .dataframe tbody tr th {\n",
       "        vertical-align: top;\n",
       "    }\n",
       "\n",
       "    .dataframe thead th {\n",
       "        text-align: right;\n",
       "    }\n",
       "</style>\n",
       "<table border=\"1\" class=\"dataframe\">\n",
       "  <thead>\n",
       "    <tr style=\"text-align: right;\">\n",
       "      <th></th>\n",
       "      <th>Imprint</th>\n",
       "      <th>books/reads</th>\n",
       "    </tr>\n",
       "  </thead>\n",
       "  <tbody>\n",
       "    <tr>\n",
       "      <th>0</th>\n",
       "      <td>Penguin</td>\n",
       "      <td>13</td>\n",
       "    </tr>\n",
       "    <tr>\n",
       "      <th>1</th>\n",
       "      <td>Penguin Classics</td>\n",
       "      <td>12</td>\n",
       "    </tr>\n",
       "    <tr>\n",
       "      <th>2</th>\n",
       "      <td>Picador</td>\n",
       "      <td>9</td>\n",
       "    </tr>\n",
       "    <tr>\n",
       "      <th>3</th>\n",
       "      <td>Gollancz</td>\n",
       "      <td>7</td>\n",
       "    </tr>\n",
       "    <tr>\n",
       "      <th>4</th>\n",
       "      <td>Vintage Classics</td>\n",
       "      <td>6</td>\n",
       "    </tr>\n",
       "    <tr>\n",
       "      <th>5</th>\n",
       "      <td>HarperCollins</td>\n",
       "      <td>6</td>\n",
       "    </tr>\n",
       "    <tr>\n",
       "      <th>6</th>\n",
       "      <td>Wordsworth Editions</td>\n",
       "      <td>5</td>\n",
       "    </tr>\n",
       "    <tr>\n",
       "      <th>7</th>\n",
       "      <td>Orion Children's Books</td>\n",
       "      <td>5</td>\n",
       "    </tr>\n",
       "    <tr>\n",
       "      <th>8</th>\n",
       "      <td>Vintage</td>\n",
       "      <td>4</td>\n",
       "    </tr>\n",
       "    <tr>\n",
       "      <th>9</th>\n",
       "      <td>Black Swan</td>\n",
       "      <td>4</td>\n",
       "    </tr>\n",
       "  </tbody>\n",
       "</table>\n",
       "</div>"
      ],
      "text/plain": [
       "                  Imprint  books/reads\n",
       "0                 Penguin           13\n",
       "1        Penguin Classics           12\n",
       "2                 Picador            9\n",
       "3                Gollancz            7\n",
       "4        Vintage Classics            6\n",
       "5           HarperCollins            6\n",
       "6     Wordsworth Editions            5\n",
       "7  Orion Children's Books            5\n",
       "8                 Vintage            4\n",
       "9              Black Swan            4"
      ]
     },
     "execution_count": 90,
     "metadata": {},
     "output_type": "execute_result"
    }
   ],
   "source": [
    "Imprint[Imprint[\"books/reads\"]>1].head(10)"
   ]
  },
  {
   "cell_type": "code",
   "execution_count": 91,
   "id": "3ba9a087",
   "metadata": {
    "execution": {
     "iopub.execute_input": "2022-06-09T11:58:47.047134Z",
     "iopub.status.busy": "2022-06-09T11:58:47.046526Z",
     "iopub.status.idle": "2022-06-09T11:58:47.116604Z",
     "shell.execute_reply": "2022-06-09T11:58:47.115687Z"
    },
    "papermill": {
     "duration": 0.12015,
     "end_time": "2022-06-09T11:58:47.118860",
     "exception": false,
     "start_time": "2022-06-09T11:58:46.998710",
     "status": "completed"
    },
    "tags": []
   },
   "outputs": [
    {
     "data": {
      "text/html": [
       "<div>                            <div id=\"4ea78036-03bc-4c00-a104-82e49bff7f9b\" class=\"plotly-graph-div\" style=\"height:525px; width:100%;\"></div>            <script type=\"text/javascript\">                require([\"plotly\"], function(Plotly) {                    window.PLOTLYENV=window.PLOTLYENV || {};                                    if (document.getElementById(\"4ea78036-03bc-4c00-a104-82e49bff7f9b\")) {                    Plotly.newPlot(                        \"4ea78036-03bc-4c00-a104-82e49bff7f9b\",                        [{\"alignmentgroup\":\"True\",\"bingroup\":\"x\",\"hovertemplate\":\"genre=%{x}<br>count=%{y}<extra></extra>\",\"legendgroup\":\"\",\"marker\":{\"color\":\"#636efa\",\"pattern\":{\"shape\":\"\"}},\"name\":\"\",\"offsetgroup\":\"\",\"orientation\":\"v\",\"showlegend\":false,\"x\":[\"Mystery\",\"Mystery\",\"Humour/ Satire\",\"Mystery\",\"Literary Fiction\",\"Humour/ Satire\",\"Literary Fiction\",\"Humour/ Satire\",\"Fantasy\",\"Mystery\",\"Romance\",\"Science Fiction\",\"Romance\",\"Mystery\",\"Mystery\",\"Bildungsroman\",\"Self Help\",\"Picture book\",\"Mystery\",\"Literary Fiction\",\"Literary Fiction\",\"Magical realism\",\"Mystery\",\"Literary Fiction\",\"Mystery\",\"Mystery\",\"Mystery\",\"Mystery\",\"Humour/ Satire\",\"Fantasy\",\"Romance\",\"Fantasy\",\"Romance\",\"Romance\",\"Thriller\",\"Thriller\",\"Thriller\",\"Romance\",\"Romance\",\"Humour/ Satire\",\"Romance\",\"Economics\",\"Economics\",\"Horror\",\"Romance\",\"Horror\",\"Fantasy\",\"Contemporary\",\"Romance\",\"Fantasy\",\"Romance\",\"Mystery\",\"Romance\",\"Mathematics\",\"Romance\",\"Fantasy\",\"経済小説\",\"Romance\",\"Mystery\",\"Romance\",\"Fantasy\",\"Mystery\",\"Romance\",\"Mystery\",\"Fantasy\",\"Fantasy\",\"Romance\",\"Fantasy\",\"Magical realism\",\"Fantasy\",\"Fantasy\",\"science\",\"Romance\",\"Mystery\",\"Fantasy\",\"Horror\",\"Mystery\",\"経営書\",\"Fantasy\",\"Fantasy\",\"Humour/ Satire\",\"Fantasy\",\"Literary Fiction\",\"Mystery\",\"Fantasy\",\"Fantasy\",\"Mystery\",\"経済小説\",\"Horror\",\"Mystery\",\"Mystery\",\"Fantasy\",\"Horror\",\"Mystery\",\"Horror\",\"Economics\",\"Economics\",\"Literary Fiction\",\"Literary Fiction\",\"Romance\",\"Thriller\",\"Fantasy\",\"Horror\",\"Horror\",\"Fantasy\",\"Economics\",\"Horror\",\"Horror\",\"Mystery\",\"Fantasy\",\"Horror\",\"Mystery\",\"Literary Fiction\",\"Literary Fiction\",\"Romance\",\"Mystery\",\"Mystery\",\"Bildungsroman\",\"Bildungsroman\",\"Thriller\",\"Thriller\",\"Thriller\",\"Thriller\",\"Romance\",\"Horror\",\"Fantasy\",\"Psychology\",\"Mystery\",\"Contemporary\",\"Fantasy\",\"Mystery\",\"Fantasy\",\"Mystery\",\"仕事小説\",\"Fantasy\",\"Mystery\",\"Mystery\",\"Mystery\",\"Mystery\",\"仕事小説\",\"Science Fiction\",\"Science Fiction\",\"Mystery\",\"Contemporary\",\"Fantasy\",\"Self Help\",\"Economics\",\"Economics\",\"Thriller\",\"Mystery\",\"Mystery\",\"Fantasy\",\"Fantasy\",\"Romance\",\"Bildungsroman\",\"Bildungsroman\",\"Bildungsroman\",\"Bildungsroman\",\"Fashion\",\"Literary Fiction\",\"Mystery\",\"Thriller\",\"Science Fiction\",\"Horror\",\"Fantasy\",\"Humour Encyclopaedias\",\"Romance\",\"Bildungsroman\",\"science\",\"Romance\",\"Mystery\",\"Realist Literature\",\"Mystery\",\"Physical Chemistry\",\"science\",\"Science Fiction\",\"Thriller\",\"Data\",\"Mystery\",\"Mystery\",\"Law\",\"Romance\",\"Romance\",\"経済小説\",\"Mystery\",\"Mystery\",\"Thriller\",\"Romance\",\"Mystery\",\"Romance\",\"Fantasy\",\"Thriller\",\"Economics\",\"仕事小説\",\"Fantasy\",\"Economics\",\"Fantasy\",\"science\",\"Fantasy\",\"Contemporary\",\"Realist Literature\",\"Contemporary\",\"Thriller\",\"Thriller\",\"Humour/ Satire\",\"Fantasy\",\"Mystery\",\"Thriller\",\"Literary Fiction\",\"Science Fiction\",\"Self Help\",\"Self Help\",\"Fantasy\",\"Thriller\",\"Romance\",\"Fashion\",\"Fantasy\",\"Horror\",\"Mystery\",\"Romance\",\"Fantasy\",\"Mystery\",\"Romance\",\"Mystery\",\"Fantasy\",\"Contemporary\",\"Thriller\",\"Fantasy\",\"Romance\",\"Romance\",\"Fantasy\",\"Thriller\",\"Business\",\"Thriller\",\"Applied Physics\",\"Fantasy\",\"Mystery\",\"Fantasy\",\"Horror\",\"Thriller\",\"Romance\",\"Mystery\",\"Contemporary\",\"Realist Literature\",\"経済小説\",\"Mystery\",\"Bildungsroman\",\"Mystery\",\"History\",\"Adventure\",\"Mystery\",\"Mystery\",\"Literary Fiction\",\"Contemporary\",\"Thriller\",\"Contemporary\",\"Romance\",\"Fashion\",\"Humour/ Satire\",\"Mystery\",\"Mystery\",\"Fantasy\",\"Fantasy\",\"Humour/ Satire\",\"Romance\",\"Contemporary\",\"Horror\",\"Humour/ Satire\",\"History\",\"Romance\",\"Fantasy\",\"Thriller\",\"Thriller\",\"Data\",\"Law\",\"Self Help\",\"Biographies\",\"Mystery\",\"経済小説\",\"Data\",\"Realist Literature\",\"Bildungsroman\",\"Realist Literature\",\"Fantasy\",\"History\",\"Essays, Journals & Letters\",\"Fantasy\",\"Mystery\",\"Thriller\",\"Literary Fiction\",\"Contemporary\",\"Contemporary\",\"Mystery\",\"Mystery\",\"Fantasy\",\"Romance\",\"Mystery\",\"History\",\"Contemporary\",\"Humour/ Satire\",\"Mathematics\",\"Bildungsroman\",\"Fantasy\",\"Fantasy\",\"Romance\",\"Humour/ Satire\",\"Humour/ Satire\",\"Fantasy\",\"Romance\",\"Fantasy\",\"Realist Literature\",\"Fantasy\",\"Fantasy\",\"Mystery\",\"Psychology\",\"Mystery\",\"Mystery\",\"Data\",\"Economics\",\"Psychology\",\"Architectural History\",\"Literary Fiction\",\"Fantasy\",\"Romance\",\"Humour/ Satire\",\"Humour/ Satire\",\"Fashion\",\"Humour/ Satire\"],\"xaxis\":\"x\",\"yaxis\":\"y\",\"type\":\"histogram\"}],                        {\"template\":{\"data\":{\"histogram2dcontour\":[{\"type\":\"histogram2dcontour\",\"colorbar\":{\"outlinewidth\":0,\"ticks\":\"\"},\"colorscale\":[[0.0,\"#0d0887\"],[0.1111111111111111,\"#46039f\"],[0.2222222222222222,\"#7201a8\"],[0.3333333333333333,\"#9c179e\"],[0.4444444444444444,\"#bd3786\"],[0.5555555555555556,\"#d8576b\"],[0.6666666666666666,\"#ed7953\"],[0.7777777777777778,\"#fb9f3a\"],[0.8888888888888888,\"#fdca26\"],[1.0,\"#f0f921\"]]}],\"choropleth\":[{\"type\":\"choropleth\",\"colorbar\":{\"outlinewidth\":0,\"ticks\":\"\"}}],\"histogram2d\":[{\"type\":\"histogram2d\",\"colorbar\":{\"outlinewidth\":0,\"ticks\":\"\"},\"colorscale\":[[0.0,\"#0d0887\"],[0.1111111111111111,\"#46039f\"],[0.2222222222222222,\"#7201a8\"],[0.3333333333333333,\"#9c179e\"],[0.4444444444444444,\"#bd3786\"],[0.5555555555555556,\"#d8576b\"],[0.6666666666666666,\"#ed7953\"],[0.7777777777777778,\"#fb9f3a\"],[0.8888888888888888,\"#fdca26\"],[1.0,\"#f0f921\"]]}],\"heatmap\":[{\"type\":\"heatmap\",\"colorbar\":{\"outlinewidth\":0,\"ticks\":\"\"},\"colorscale\":[[0.0,\"#0d0887\"],[0.1111111111111111,\"#46039f\"],[0.2222222222222222,\"#7201a8\"],[0.3333333333333333,\"#9c179e\"],[0.4444444444444444,\"#bd3786\"],[0.5555555555555556,\"#d8576b\"],[0.6666666666666666,\"#ed7953\"],[0.7777777777777778,\"#fb9f3a\"],[0.8888888888888888,\"#fdca26\"],[1.0,\"#f0f921\"]]}],\"heatmapgl\":[{\"type\":\"heatmapgl\",\"colorbar\":{\"outlinewidth\":0,\"ticks\":\"\"},\"colorscale\":[[0.0,\"#0d0887\"],[0.1111111111111111,\"#46039f\"],[0.2222222222222222,\"#7201a8\"],[0.3333333333333333,\"#9c179e\"],[0.4444444444444444,\"#bd3786\"],[0.5555555555555556,\"#d8576b\"],[0.6666666666666666,\"#ed7953\"],[0.7777777777777778,\"#fb9f3a\"],[0.8888888888888888,\"#fdca26\"],[1.0,\"#f0f921\"]]}],\"contourcarpet\":[{\"type\":\"contourcarpet\",\"colorbar\":{\"outlinewidth\":0,\"ticks\":\"\"}}],\"contour\":[{\"type\":\"contour\",\"colorbar\":{\"outlinewidth\":0,\"ticks\":\"\"},\"colorscale\":[[0.0,\"#0d0887\"],[0.1111111111111111,\"#46039f\"],[0.2222222222222222,\"#7201a8\"],[0.3333333333333333,\"#9c179e\"],[0.4444444444444444,\"#bd3786\"],[0.5555555555555556,\"#d8576b\"],[0.6666666666666666,\"#ed7953\"],[0.7777777777777778,\"#fb9f3a\"],[0.8888888888888888,\"#fdca26\"],[1.0,\"#f0f921\"]]}],\"surface\":[{\"type\":\"surface\",\"colorbar\":{\"outlinewidth\":0,\"ticks\":\"\"},\"colorscale\":[[0.0,\"#0d0887\"],[0.1111111111111111,\"#46039f\"],[0.2222222222222222,\"#7201a8\"],[0.3333333333333333,\"#9c179e\"],[0.4444444444444444,\"#bd3786\"],[0.5555555555555556,\"#d8576b\"],[0.6666666666666666,\"#ed7953\"],[0.7777777777777778,\"#fb9f3a\"],[0.8888888888888888,\"#fdca26\"],[1.0,\"#f0f921\"]]}],\"mesh3d\":[{\"type\":\"mesh3d\",\"colorbar\":{\"outlinewidth\":0,\"ticks\":\"\"}}],\"scatter\":[{\"fillpattern\":{\"fillmode\":\"overlay\",\"size\":10,\"solidity\":0.2},\"type\":\"scatter\"}],\"parcoords\":[{\"type\":\"parcoords\",\"line\":{\"colorbar\":{\"outlinewidth\":0,\"ticks\":\"\"}}}],\"scatterpolargl\":[{\"type\":\"scatterpolargl\",\"marker\":{\"colorbar\":{\"outlinewidth\":0,\"ticks\":\"\"}}}],\"bar\":[{\"error_x\":{\"color\":\"#2a3f5f\"},\"error_y\":{\"color\":\"#2a3f5f\"},\"marker\":{\"line\":{\"color\":\"#E5ECF6\",\"width\":0.5},\"pattern\":{\"fillmode\":\"overlay\",\"size\":10,\"solidity\":0.2}},\"type\":\"bar\"}],\"scattergeo\":[{\"type\":\"scattergeo\",\"marker\":{\"colorbar\":{\"outlinewidth\":0,\"ticks\":\"\"}}}],\"scatterpolar\":[{\"type\":\"scatterpolar\",\"marker\":{\"colorbar\":{\"outlinewidth\":0,\"ticks\":\"\"}}}],\"histogram\":[{\"marker\":{\"pattern\":{\"fillmode\":\"overlay\",\"size\":10,\"solidity\":0.2}},\"type\":\"histogram\"}],\"scattergl\":[{\"type\":\"scattergl\",\"marker\":{\"colorbar\":{\"outlinewidth\":0,\"ticks\":\"\"}}}],\"scatter3d\":[{\"type\":\"scatter3d\",\"line\":{\"colorbar\":{\"outlinewidth\":0,\"ticks\":\"\"}},\"marker\":{\"colorbar\":{\"outlinewidth\":0,\"ticks\":\"\"}}}],\"scattermapbox\":[{\"type\":\"scattermapbox\",\"marker\":{\"colorbar\":{\"outlinewidth\":0,\"ticks\":\"\"}}}],\"scatterternary\":[{\"type\":\"scatterternary\",\"marker\":{\"colorbar\":{\"outlinewidth\":0,\"ticks\":\"\"}}}],\"scattercarpet\":[{\"type\":\"scattercarpet\",\"marker\":{\"colorbar\":{\"outlinewidth\":0,\"ticks\":\"\"}}}],\"carpet\":[{\"aaxis\":{\"endlinecolor\":\"#2a3f5f\",\"gridcolor\":\"white\",\"linecolor\":\"white\",\"minorgridcolor\":\"white\",\"startlinecolor\":\"#2a3f5f\"},\"baxis\":{\"endlinecolor\":\"#2a3f5f\",\"gridcolor\":\"white\",\"linecolor\":\"white\",\"minorgridcolor\":\"white\",\"startlinecolor\":\"#2a3f5f\"},\"type\":\"carpet\"}],\"table\":[{\"cells\":{\"fill\":{\"color\":\"#EBF0F8\"},\"line\":{\"color\":\"white\"}},\"header\":{\"fill\":{\"color\":\"#C8D4E3\"},\"line\":{\"color\":\"white\"}},\"type\":\"table\"}],\"barpolar\":[{\"marker\":{\"line\":{\"color\":\"#E5ECF6\",\"width\":0.5},\"pattern\":{\"fillmode\":\"overlay\",\"size\":10,\"solidity\":0.2}},\"type\":\"barpolar\"}],\"pie\":[{\"automargin\":true,\"type\":\"pie\"}]},\"layout\":{\"autotypenumbers\":\"strict\",\"colorway\":[\"#636efa\",\"#EF553B\",\"#00cc96\",\"#ab63fa\",\"#FFA15A\",\"#19d3f3\",\"#FF6692\",\"#B6E880\",\"#FF97FF\",\"#FECB52\"],\"font\":{\"color\":\"#2a3f5f\"},\"hovermode\":\"closest\",\"hoverlabel\":{\"align\":\"left\"},\"paper_bgcolor\":\"white\",\"plot_bgcolor\":\"#E5ECF6\",\"polar\":{\"bgcolor\":\"#E5ECF6\",\"angularaxis\":{\"gridcolor\":\"white\",\"linecolor\":\"white\",\"ticks\":\"\"},\"radialaxis\":{\"gridcolor\":\"white\",\"linecolor\":\"white\",\"ticks\":\"\"}},\"ternary\":{\"bgcolor\":\"#E5ECF6\",\"aaxis\":{\"gridcolor\":\"white\",\"linecolor\":\"white\",\"ticks\":\"\"},\"baxis\":{\"gridcolor\":\"white\",\"linecolor\":\"white\",\"ticks\":\"\"},\"caxis\":{\"gridcolor\":\"white\",\"linecolor\":\"white\",\"ticks\":\"\"}},\"coloraxis\":{\"colorbar\":{\"outlinewidth\":0,\"ticks\":\"\"}},\"colorscale\":{\"sequential\":[[0.0,\"#0d0887\"],[0.1111111111111111,\"#46039f\"],[0.2222222222222222,\"#7201a8\"],[0.3333333333333333,\"#9c179e\"],[0.4444444444444444,\"#bd3786\"],[0.5555555555555556,\"#d8576b\"],[0.6666666666666666,\"#ed7953\"],[0.7777777777777778,\"#fb9f3a\"],[0.8888888888888888,\"#fdca26\"],[1.0,\"#f0f921\"]],\"sequentialminus\":[[0.0,\"#0d0887\"],[0.1111111111111111,\"#46039f\"],[0.2222222222222222,\"#7201a8\"],[0.3333333333333333,\"#9c179e\"],[0.4444444444444444,\"#bd3786\"],[0.5555555555555556,\"#d8576b\"],[0.6666666666666666,\"#ed7953\"],[0.7777777777777778,\"#fb9f3a\"],[0.8888888888888888,\"#fdca26\"],[1.0,\"#f0f921\"]],\"diverging\":[[0,\"#8e0152\"],[0.1,\"#c51b7d\"],[0.2,\"#de77ae\"],[0.3,\"#f1b6da\"],[0.4,\"#fde0ef\"],[0.5,\"#f7f7f7\"],[0.6,\"#e6f5d0\"],[0.7,\"#b8e186\"],[0.8,\"#7fbc41\"],[0.9,\"#4d9221\"],[1,\"#276419\"]]},\"xaxis\":{\"gridcolor\":\"white\",\"linecolor\":\"white\",\"ticks\":\"\",\"title\":{\"standoff\":15},\"zerolinecolor\":\"white\",\"automargin\":true,\"zerolinewidth\":2},\"yaxis\":{\"gridcolor\":\"white\",\"linecolor\":\"white\",\"ticks\":\"\",\"title\":{\"standoff\":15},\"zerolinecolor\":\"white\",\"automargin\":true,\"zerolinewidth\":2},\"scene\":{\"xaxis\":{\"backgroundcolor\":\"#E5ECF6\",\"gridcolor\":\"white\",\"linecolor\":\"white\",\"showbackground\":true,\"ticks\":\"\",\"zerolinecolor\":\"white\",\"gridwidth\":2},\"yaxis\":{\"backgroundcolor\":\"#E5ECF6\",\"gridcolor\":\"white\",\"linecolor\":\"white\",\"showbackground\":true,\"ticks\":\"\",\"zerolinecolor\":\"white\",\"gridwidth\":2},\"zaxis\":{\"backgroundcolor\":\"#E5ECF6\",\"gridcolor\":\"white\",\"linecolor\":\"white\",\"showbackground\":true,\"ticks\":\"\",\"zerolinecolor\":\"white\",\"gridwidth\":2}},\"shapedefaults\":{\"line\":{\"color\":\"#2a3f5f\"}},\"annotationdefaults\":{\"arrowcolor\":\"#2a3f5f\",\"arrowhead\":0,\"arrowwidth\":1},\"geo\":{\"bgcolor\":\"white\",\"landcolor\":\"#E5ECF6\",\"subunitcolor\":\"white\",\"showland\":true,\"showlakes\":true,\"lakecolor\":\"white\"},\"title\":{\"x\":0.05},\"mapbox\":{\"style\":\"light\"}}},\"xaxis\":{\"anchor\":\"y\",\"domain\":[0.0,1.0],\"title\":{\"text\":\"genre\"}},\"yaxis\":{\"anchor\":\"x\",\"domain\":[0.0,1.0],\"title\":{\"text\":\"count\"}},\"legend\":{\"tracegroupgap\":0},\"margin\":{\"t\":60},\"barmode\":\"relative\"},                        {\"responsive\": true}                    ).then(function(){\n",
       "                            \n",
       "var gd = document.getElementById('4ea78036-03bc-4c00-a104-82e49bff7f9b');\n",
       "var x = new MutationObserver(function (mutations, observer) {{\n",
       "        var display = window.getComputedStyle(gd).display;\n",
       "        if (!display || display === 'none') {{\n",
       "            console.log([gd, 'removed!']);\n",
       "            Plotly.purge(gd);\n",
       "            observer.disconnect();\n",
       "        }}\n",
       "}});\n",
       "\n",
       "// Listen for the removal of the full notebook cells\n",
       "var notebookContainer = gd.closest('#notebook-container');\n",
       "if (notebookContainer) {{\n",
       "    x.observe(notebookContainer, {childList: true});\n",
       "}}\n",
       "\n",
       "// Listen for the clearing of the current output cell\n",
       "var outputEl = gd.closest('.output');\n",
       "if (outputEl) {{\n",
       "    x.observe(outputEl, {childList: true});\n",
       "}}\n",
       "\n",
       "                        })                };                });            </script>        </div>"
      ]
     },
     "metadata": {},
     "output_type": "display_data"
    }
   ],
   "source": [
    "px.histogram( Completed, x = \"genre\")"
   ]
  },
  {
   "cell_type": "code",
   "execution_count": 92,
   "id": "39ef6ea4",
   "metadata": {
    "execution": {
     "iopub.execute_input": "2022-06-09T11:58:47.212540Z",
     "iopub.status.busy": "2022-06-09T11:58:47.212097Z",
     "iopub.status.idle": "2022-06-09T11:58:47.280511Z",
     "shell.execute_reply": "2022-06-09T11:58:47.279498Z"
    },
    "papermill": {
     "duration": 0.116917,
     "end_time": "2022-06-09T11:58:47.282680",
     "exception": false,
     "start_time": "2022-06-09T11:58:47.165763",
     "status": "completed"
    },
    "tags": []
   },
   "outputs": [
    {
     "data": {
      "text/html": [
       "<div>                            <div id=\"4a0ca85b-4e5a-43be-a792-74f13522d8ba\" class=\"plotly-graph-div\" style=\"height:525px; width:100%;\"></div>            <script type=\"text/javascript\">                require([\"plotly\"], function(Plotly) {                    window.PLOTLYENV=window.PLOTLYENV || {};                                    if (document.getElementById(\"4a0ca85b-4e5a-43be-a792-74f13522d8ba\")) {                    Plotly.newPlot(                        \"4a0ca85b-4e5a-43be-a792-74f13522d8ba\",                        [{\"alignmentgroup\":\"True\",\"bingroup\":\"x\",\"hovertemplate\":\"genre=%{x}<br>count=%{y}<extra></extra>\",\"legendgroup\":\"\",\"marker\":{\"color\":\"#636efa\",\"pattern\":{\"shape\":\"\"}},\"name\":\"\",\"offsetgroup\":\"\",\"orientation\":\"v\",\"showlegend\":false,\"x\":[\"Mystery\",\"Mystery\",\"Humour/ Satire\",\"Mystery\",\"Literary Fiction\",\"Humour/ Satire\",\"Fantasy\",\"Mystery\",\"Mystery\",\"Mystery\",\"Picture book\",\"Mystery\",\"Mystery\",\"Mystery\",\"Mystery\",\"Mystery\",\"Fantasy\",\"Romance\",\"Fantasy\",\"Romance\",\"Romance\",\"Thriller\",\"Thriller\",\"Thriller\",\"Romance\",\"Romance\",\"Humour/ Satire\",\"Romance\",\"Horror\",\"Romance\",\"Fantasy\",\"Contemporary\",\"Romance\",\"Romance\",\"Mystery\",\"Romance\",\"Romance\",\"経済小説\",\"Romance\",\"Mystery\",\"Romance\",\"Fantasy\",\"Mystery\",\"Romance\",\"Mystery\",\"Fantasy\",\"Fantasy\",\"Romance\",\"Fantasy\",\"Magical realism\",\"Fantasy\",\"Fantasy\",\"Romance\",\"Mystery\",\"Mystery\",\"経営書\",\"Fantasy\",\"Humour/ Satire\",\"Mystery\",\"Fantasy\",\"Fantasy\",\"Mystery\",\"経済小説\",\"Horror\",\"Mystery\",\"Mystery\",\"Fantasy\",\"Horror\",\"Mystery\",\"Horror\",\"Literary Fiction\",\"Romance\",\"Thriller\",\"Fantasy\",\"Horror\",\"Horror\",\"Fantasy\",\"Horror\",\"Horror\",\"Mystery\",\"Fantasy\",\"Horror\",\"Mystery\",\"Literary Fiction\",\"Mystery\",\"Bildungsroman\",\"Horror\",\"Contemporary\",\"Fantasy\",\"Mystery\",\"Fantasy\",\"Mystery\",\"仕事小説\",\"Fantasy\",\"Mystery\",\"Mystery\",\"Mystery\",\"Mystery\",\"仕事小説\",\"Mystery\",\"Contemporary\",\"Fantasy\",\"Mystery\",\"Fantasy\",\"Romance\",\"Literary Fiction\",\"Mystery\",\"Thriller\",\"Science Fiction\",\"Horror\",\"Humour Encyclopaedias\",\"Romance\",\"Realist Literature\",\"Thriller\",\"Romance\",\"Romance\",\"経済小説\",\"Mystery\",\"Thriller\",\"Romance\",\"Mystery\",\"Romance\",\"Fantasy\",\"Thriller\",\"仕事小説\",\"Fantasy\",\"Contemporary\",\"Realist Literature\",\"Contemporary\",\"Thriller\",\"Thriller\",\"Mystery\",\"Thriller\",\"Fantasy\",\"Romance\",\"Horror\",\"Mystery\",\"Romance\",\"Fantasy\",\"Mystery\",\"Romance\",\"Mystery\",\"Fantasy\",\"Contemporary\",\"Thriller\",\"Fantasy\",\"Romance\",\"Romance\",\"Mystery\",\"Horror\",\"Thriller\",\"Romance\",\"Realist Literature\",\"経済小説\",\"Mystery\",\"Mystery\",\"Contemporary\",\"Romance\",\"Mystery\",\"Mystery\",\"Romance\",\"Contemporary\",\"Thriller\",\"経済小説\",\"Realist Literature\",\"Bildungsroman\"],\"xaxis\":\"x\",\"yaxis\":\"y\",\"type\":\"histogram\"}],                        {\"template\":{\"data\":{\"histogram2dcontour\":[{\"type\":\"histogram2dcontour\",\"colorbar\":{\"outlinewidth\":0,\"ticks\":\"\"},\"colorscale\":[[0.0,\"#0d0887\"],[0.1111111111111111,\"#46039f\"],[0.2222222222222222,\"#7201a8\"],[0.3333333333333333,\"#9c179e\"],[0.4444444444444444,\"#bd3786\"],[0.5555555555555556,\"#d8576b\"],[0.6666666666666666,\"#ed7953\"],[0.7777777777777778,\"#fb9f3a\"],[0.8888888888888888,\"#fdca26\"],[1.0,\"#f0f921\"]]}],\"choropleth\":[{\"type\":\"choropleth\",\"colorbar\":{\"outlinewidth\":0,\"ticks\":\"\"}}],\"histogram2d\":[{\"type\":\"histogram2d\",\"colorbar\":{\"outlinewidth\":0,\"ticks\":\"\"},\"colorscale\":[[0.0,\"#0d0887\"],[0.1111111111111111,\"#46039f\"],[0.2222222222222222,\"#7201a8\"],[0.3333333333333333,\"#9c179e\"],[0.4444444444444444,\"#bd3786\"],[0.5555555555555556,\"#d8576b\"],[0.6666666666666666,\"#ed7953\"],[0.7777777777777778,\"#fb9f3a\"],[0.8888888888888888,\"#fdca26\"],[1.0,\"#f0f921\"]]}],\"heatmap\":[{\"type\":\"heatmap\",\"colorbar\":{\"outlinewidth\":0,\"ticks\":\"\"},\"colorscale\":[[0.0,\"#0d0887\"],[0.1111111111111111,\"#46039f\"],[0.2222222222222222,\"#7201a8\"],[0.3333333333333333,\"#9c179e\"],[0.4444444444444444,\"#bd3786\"],[0.5555555555555556,\"#d8576b\"],[0.6666666666666666,\"#ed7953\"],[0.7777777777777778,\"#fb9f3a\"],[0.8888888888888888,\"#fdca26\"],[1.0,\"#f0f921\"]]}],\"heatmapgl\":[{\"type\":\"heatmapgl\",\"colorbar\":{\"outlinewidth\":0,\"ticks\":\"\"},\"colorscale\":[[0.0,\"#0d0887\"],[0.1111111111111111,\"#46039f\"],[0.2222222222222222,\"#7201a8\"],[0.3333333333333333,\"#9c179e\"],[0.4444444444444444,\"#bd3786\"],[0.5555555555555556,\"#d8576b\"],[0.6666666666666666,\"#ed7953\"],[0.7777777777777778,\"#fb9f3a\"],[0.8888888888888888,\"#fdca26\"],[1.0,\"#f0f921\"]]}],\"contourcarpet\":[{\"type\":\"contourcarpet\",\"colorbar\":{\"outlinewidth\":0,\"ticks\":\"\"}}],\"contour\":[{\"type\":\"contour\",\"colorbar\":{\"outlinewidth\":0,\"ticks\":\"\"},\"colorscale\":[[0.0,\"#0d0887\"],[0.1111111111111111,\"#46039f\"],[0.2222222222222222,\"#7201a8\"],[0.3333333333333333,\"#9c179e\"],[0.4444444444444444,\"#bd3786\"],[0.5555555555555556,\"#d8576b\"],[0.6666666666666666,\"#ed7953\"],[0.7777777777777778,\"#fb9f3a\"],[0.8888888888888888,\"#fdca26\"],[1.0,\"#f0f921\"]]}],\"surface\":[{\"type\":\"surface\",\"colorbar\":{\"outlinewidth\":0,\"ticks\":\"\"},\"colorscale\":[[0.0,\"#0d0887\"],[0.1111111111111111,\"#46039f\"],[0.2222222222222222,\"#7201a8\"],[0.3333333333333333,\"#9c179e\"],[0.4444444444444444,\"#bd3786\"],[0.5555555555555556,\"#d8576b\"],[0.6666666666666666,\"#ed7953\"],[0.7777777777777778,\"#fb9f3a\"],[0.8888888888888888,\"#fdca26\"],[1.0,\"#f0f921\"]]}],\"mesh3d\":[{\"type\":\"mesh3d\",\"colorbar\":{\"outlinewidth\":0,\"ticks\":\"\"}}],\"scatter\":[{\"fillpattern\":{\"fillmode\":\"overlay\",\"size\":10,\"solidity\":0.2},\"type\":\"scatter\"}],\"parcoords\":[{\"type\":\"parcoords\",\"line\":{\"colorbar\":{\"outlinewidth\":0,\"ticks\":\"\"}}}],\"scatterpolargl\":[{\"type\":\"scatterpolargl\",\"marker\":{\"colorbar\":{\"outlinewidth\":0,\"ticks\":\"\"}}}],\"bar\":[{\"error_x\":{\"color\":\"#2a3f5f\"},\"error_y\":{\"color\":\"#2a3f5f\"},\"marker\":{\"line\":{\"color\":\"#E5ECF6\",\"width\":0.5},\"pattern\":{\"fillmode\":\"overlay\",\"size\":10,\"solidity\":0.2}},\"type\":\"bar\"}],\"scattergeo\":[{\"type\":\"scattergeo\",\"marker\":{\"colorbar\":{\"outlinewidth\":0,\"ticks\":\"\"}}}],\"scatterpolar\":[{\"type\":\"scatterpolar\",\"marker\":{\"colorbar\":{\"outlinewidth\":0,\"ticks\":\"\"}}}],\"histogram\":[{\"marker\":{\"pattern\":{\"fillmode\":\"overlay\",\"size\":10,\"solidity\":0.2}},\"type\":\"histogram\"}],\"scattergl\":[{\"type\":\"scattergl\",\"marker\":{\"colorbar\":{\"outlinewidth\":0,\"ticks\":\"\"}}}],\"scatter3d\":[{\"type\":\"scatter3d\",\"line\":{\"colorbar\":{\"outlinewidth\":0,\"ticks\":\"\"}},\"marker\":{\"colorbar\":{\"outlinewidth\":0,\"ticks\":\"\"}}}],\"scattermapbox\":[{\"type\":\"scattermapbox\",\"marker\":{\"colorbar\":{\"outlinewidth\":0,\"ticks\":\"\"}}}],\"scatterternary\":[{\"type\":\"scatterternary\",\"marker\":{\"colorbar\":{\"outlinewidth\":0,\"ticks\":\"\"}}}],\"scattercarpet\":[{\"type\":\"scattercarpet\",\"marker\":{\"colorbar\":{\"outlinewidth\":0,\"ticks\":\"\"}}}],\"carpet\":[{\"aaxis\":{\"endlinecolor\":\"#2a3f5f\",\"gridcolor\":\"white\",\"linecolor\":\"white\",\"minorgridcolor\":\"white\",\"startlinecolor\":\"#2a3f5f\"},\"baxis\":{\"endlinecolor\":\"#2a3f5f\",\"gridcolor\":\"white\",\"linecolor\":\"white\",\"minorgridcolor\":\"white\",\"startlinecolor\":\"#2a3f5f\"},\"type\":\"carpet\"}],\"table\":[{\"cells\":{\"fill\":{\"color\":\"#EBF0F8\"},\"line\":{\"color\":\"white\"}},\"header\":{\"fill\":{\"color\":\"#C8D4E3\"},\"line\":{\"color\":\"white\"}},\"type\":\"table\"}],\"barpolar\":[{\"marker\":{\"line\":{\"color\":\"#E5ECF6\",\"width\":0.5},\"pattern\":{\"fillmode\":\"overlay\",\"size\":10,\"solidity\":0.2}},\"type\":\"barpolar\"}],\"pie\":[{\"automargin\":true,\"type\":\"pie\"}]},\"layout\":{\"autotypenumbers\":\"strict\",\"colorway\":[\"#636efa\",\"#EF553B\",\"#00cc96\",\"#ab63fa\",\"#FFA15A\",\"#19d3f3\",\"#FF6692\",\"#B6E880\",\"#FF97FF\",\"#FECB52\"],\"font\":{\"color\":\"#2a3f5f\"},\"hovermode\":\"closest\",\"hoverlabel\":{\"align\":\"left\"},\"paper_bgcolor\":\"white\",\"plot_bgcolor\":\"#E5ECF6\",\"polar\":{\"bgcolor\":\"#E5ECF6\",\"angularaxis\":{\"gridcolor\":\"white\",\"linecolor\":\"white\",\"ticks\":\"\"},\"radialaxis\":{\"gridcolor\":\"white\",\"linecolor\":\"white\",\"ticks\":\"\"}},\"ternary\":{\"bgcolor\":\"#E5ECF6\",\"aaxis\":{\"gridcolor\":\"white\",\"linecolor\":\"white\",\"ticks\":\"\"},\"baxis\":{\"gridcolor\":\"white\",\"linecolor\":\"white\",\"ticks\":\"\"},\"caxis\":{\"gridcolor\":\"white\",\"linecolor\":\"white\",\"ticks\":\"\"}},\"coloraxis\":{\"colorbar\":{\"outlinewidth\":0,\"ticks\":\"\"}},\"colorscale\":{\"sequential\":[[0.0,\"#0d0887\"],[0.1111111111111111,\"#46039f\"],[0.2222222222222222,\"#7201a8\"],[0.3333333333333333,\"#9c179e\"],[0.4444444444444444,\"#bd3786\"],[0.5555555555555556,\"#d8576b\"],[0.6666666666666666,\"#ed7953\"],[0.7777777777777778,\"#fb9f3a\"],[0.8888888888888888,\"#fdca26\"],[1.0,\"#f0f921\"]],\"sequentialminus\":[[0.0,\"#0d0887\"],[0.1111111111111111,\"#46039f\"],[0.2222222222222222,\"#7201a8\"],[0.3333333333333333,\"#9c179e\"],[0.4444444444444444,\"#bd3786\"],[0.5555555555555556,\"#d8576b\"],[0.6666666666666666,\"#ed7953\"],[0.7777777777777778,\"#fb9f3a\"],[0.8888888888888888,\"#fdca26\"],[1.0,\"#f0f921\"]],\"diverging\":[[0,\"#8e0152\"],[0.1,\"#c51b7d\"],[0.2,\"#de77ae\"],[0.3,\"#f1b6da\"],[0.4,\"#fde0ef\"],[0.5,\"#f7f7f7\"],[0.6,\"#e6f5d0\"],[0.7,\"#b8e186\"],[0.8,\"#7fbc41\"],[0.9,\"#4d9221\"],[1,\"#276419\"]]},\"xaxis\":{\"gridcolor\":\"white\",\"linecolor\":\"white\",\"ticks\":\"\",\"title\":{\"standoff\":15},\"zerolinecolor\":\"white\",\"automargin\":true,\"zerolinewidth\":2},\"yaxis\":{\"gridcolor\":\"white\",\"linecolor\":\"white\",\"ticks\":\"\",\"title\":{\"standoff\":15},\"zerolinecolor\":\"white\",\"automargin\":true,\"zerolinewidth\":2},\"scene\":{\"xaxis\":{\"backgroundcolor\":\"#E5ECF6\",\"gridcolor\":\"white\",\"linecolor\":\"white\",\"showbackground\":true,\"ticks\":\"\",\"zerolinecolor\":\"white\",\"gridwidth\":2},\"yaxis\":{\"backgroundcolor\":\"#E5ECF6\",\"gridcolor\":\"white\",\"linecolor\":\"white\",\"showbackground\":true,\"ticks\":\"\",\"zerolinecolor\":\"white\",\"gridwidth\":2},\"zaxis\":{\"backgroundcolor\":\"#E5ECF6\",\"gridcolor\":\"white\",\"linecolor\":\"white\",\"showbackground\":true,\"ticks\":\"\",\"zerolinecolor\":\"white\",\"gridwidth\":2}},\"shapedefaults\":{\"line\":{\"color\":\"#2a3f5f\"}},\"annotationdefaults\":{\"arrowcolor\":\"#2a3f5f\",\"arrowhead\":0,\"arrowwidth\":1},\"geo\":{\"bgcolor\":\"white\",\"landcolor\":\"#E5ECF6\",\"subunitcolor\":\"white\",\"showland\":true,\"showlakes\":true,\"lakecolor\":\"white\"},\"title\":{\"x\":0.05},\"mapbox\":{\"style\":\"light\"}}},\"xaxis\":{\"anchor\":\"y\",\"domain\":[0.0,1.0],\"title\":{\"text\":\"genre\"}},\"yaxis\":{\"anchor\":\"x\",\"domain\":[0.0,1.0],\"title\":{\"text\":\"count\"}},\"legend\":{\"tracegroupgap\":0},\"margin\":{\"t\":60},\"barmode\":\"relative\"},                        {\"responsive\": true}                    ).then(function(){\n",
       "                            \n",
       "var gd = document.getElementById('4a0ca85b-4e5a-43be-a792-74f13522d8ba');\n",
       "var x = new MutationObserver(function (mutations, observer) {{\n",
       "        var display = window.getComputedStyle(gd).display;\n",
       "        if (!display || display === 'none') {{\n",
       "            console.log([gd, 'removed!']);\n",
       "            Plotly.purge(gd);\n",
       "            observer.disconnect();\n",
       "        }}\n",
       "}});\n",
       "\n",
       "// Listen for the removal of the full notebook cells\n",
       "var notebookContainer = gd.closest('#notebook-container');\n",
       "if (notebookContainer) {{\n",
       "    x.observe(notebookContainer, {childList: true});\n",
       "}}\n",
       "\n",
       "// Listen for the clearing of the current output cell\n",
       "var outputEl = gd.closest('.output');\n",
       "if (outputEl) {{\n",
       "    x.observe(outputEl, {childList: true});\n",
       "}}\n",
       "\n",
       "                        })                };                });            </script>        </div>"
      ]
     },
     "metadata": {},
     "output_type": "display_data"
    }
   ],
   "source": [
    "px.histogram( Completed[Completed[\"language\"]==\"Japanese\"], x = \"genre\")"
   ]
  },
  {
   "cell_type": "code",
   "execution_count": 93,
   "id": "0006b58c",
   "metadata": {
    "execution": {
     "iopub.execute_input": "2022-06-09T11:58:47.377403Z",
     "iopub.status.busy": "2022-06-09T11:58:47.376406Z",
     "iopub.status.idle": "2022-06-09T11:58:47.447219Z",
     "shell.execute_reply": "2022-06-09T11:58:47.446245Z"
    },
    "papermill": {
     "duration": 0.12174,
     "end_time": "2022-06-09T11:58:47.449461",
     "exception": false,
     "start_time": "2022-06-09T11:58:47.327721",
     "status": "completed"
    },
    "tags": []
   },
   "outputs": [
    {
     "data": {
      "text/html": [
       "<div>                            <div id=\"77983aa0-a42b-4411-81bf-fb2fb1deea32\" class=\"plotly-graph-div\" style=\"height:525px; width:100%;\"></div>            <script type=\"text/javascript\">                require([\"plotly\"], function(Plotly) {                    window.PLOTLYENV=window.PLOTLYENV || {};                                    if (document.getElementById(\"77983aa0-a42b-4411-81bf-fb2fb1deea32\")) {                    Plotly.newPlot(                        \"77983aa0-a42b-4411-81bf-fb2fb1deea32\",                        [{\"alignmentgroup\":\"True\",\"bingroup\":\"x\",\"hovertemplate\":\"genre=%{x}<br>count=%{y}<extra></extra>\",\"legendgroup\":\"\",\"marker\":{\"color\":\"#636efa\",\"pattern\":{\"shape\":\"\"}},\"name\":\"\",\"offsetgroup\":\"\",\"orientation\":\"v\",\"showlegend\":false,\"x\":[\"Literary Fiction\",\"Humour/ Satire\",\"Romance\",\"Science Fiction\",\"Romance\",\"Bildungsroman\",\"Self Help\",\"Mystery\",\"Literary Fiction\",\"Literary Fiction\",\"Magical realism\",\"Literary Fiction\",\"Humour/ Satire\",\"Economics\",\"Economics\",\"Horror\",\"Fantasy\",\"Mathematics\",\"Fantasy\",\"science\",\"Fantasy\",\"Horror\",\"Fantasy\",\"Fantasy\",\"Literary Fiction\",\"Economics\",\"Economics\",\"Literary Fiction\",\"Economics\",\"Literary Fiction\",\"Romance\",\"Mystery\",\"Bildungsroman\",\"Thriller\",\"Thriller\",\"Thriller\",\"Thriller\",\"Romance\",\"Fantasy\",\"Psychology\",\"Mystery\",\"Science Fiction\",\"Science Fiction\",\"Self Help\",\"Economics\",\"Economics\",\"Thriller\",\"Mystery\",\"Fantasy\",\"Bildungsroman\",\"Bildungsroman\",\"Bildungsroman\",\"Bildungsroman\",\"Fashion\",\"Fantasy\",\"Romance\",\"Bildungsroman\",\"science\",\"Mystery\",\"Mystery\",\"Physical Chemistry\",\"science\",\"Science Fiction\",\"Data\",\"Mystery\",\"Mystery\",\"Law\",\"Mystery\",\"Economics\",\"Fantasy\",\"Economics\",\"Fantasy\",\"science\",\"Humour/ Satire\",\"Fantasy\",\"Literary Fiction\",\"Science Fiction\",\"Self Help\",\"Self Help\",\"Thriller\",\"Fashion\",\"Fantasy\",\"Fantasy\",\"Thriller\",\"Business\",\"Thriller\",\"Applied Physics\",\"Fantasy\",\"Fantasy\",\"Mystery\",\"Contemporary\",\"Bildungsroman\",\"History\",\"Adventure\",\"Mystery\",\"Mystery\",\"Literary Fiction\",\"Thriller\",\"Contemporary\",\"Fashion\",\"Humour/ Satire\",\"Fantasy\",\"Fantasy\",\"Humour/ Satire\",\"Horror\",\"Humour/ Satire\",\"History\",\"Romance\",\"Fantasy\",\"Thriller\",\"Data\",\"Law\",\"Self Help\",\"Biographies\",\"Mystery\",\"Data\",\"Realist Literature\",\"Bildungsroman\",\"Fantasy\",\"History\",\"Essays, Journals & Letters\",\"Fantasy\",\"Mystery\",\"Thriller\",\"Literary Fiction\",\"Contemporary\",\"Contemporary\",\"Mystery\",\"Mystery\",\"Fantasy\",\"Romance\",\"Mystery\",\"History\",\"Contemporary\",\"Humour/ Satire\",\"Mathematics\",\"Fantasy\",\"Fantasy\",\"Romance\",\"Humour/ Satire\",\"Humour/ Satire\",\"Fantasy\",\"Romance\",\"Fantasy\",\"Realist Literature\",\"Fantasy\",\"Fantasy\",\"Mystery\",\"Psychology\",\"Mystery\",\"Mystery\",\"Data\",\"Economics\",\"Psychology\",\"Architectural History\",\"Literary Fiction\",\"Fantasy\",\"Romance\",\"Humour/ Satire\",\"Humour/ Satire\",\"Fashion\",\"Humour/ Satire\"],\"xaxis\":\"x\",\"yaxis\":\"y\",\"type\":\"histogram\"}],                        {\"template\":{\"data\":{\"histogram2dcontour\":[{\"type\":\"histogram2dcontour\",\"colorbar\":{\"outlinewidth\":0,\"ticks\":\"\"},\"colorscale\":[[0.0,\"#0d0887\"],[0.1111111111111111,\"#46039f\"],[0.2222222222222222,\"#7201a8\"],[0.3333333333333333,\"#9c179e\"],[0.4444444444444444,\"#bd3786\"],[0.5555555555555556,\"#d8576b\"],[0.6666666666666666,\"#ed7953\"],[0.7777777777777778,\"#fb9f3a\"],[0.8888888888888888,\"#fdca26\"],[1.0,\"#f0f921\"]]}],\"choropleth\":[{\"type\":\"choropleth\",\"colorbar\":{\"outlinewidth\":0,\"ticks\":\"\"}}],\"histogram2d\":[{\"type\":\"histogram2d\",\"colorbar\":{\"outlinewidth\":0,\"ticks\":\"\"},\"colorscale\":[[0.0,\"#0d0887\"],[0.1111111111111111,\"#46039f\"],[0.2222222222222222,\"#7201a8\"],[0.3333333333333333,\"#9c179e\"],[0.4444444444444444,\"#bd3786\"],[0.5555555555555556,\"#d8576b\"],[0.6666666666666666,\"#ed7953\"],[0.7777777777777778,\"#fb9f3a\"],[0.8888888888888888,\"#fdca26\"],[1.0,\"#f0f921\"]]}],\"heatmap\":[{\"type\":\"heatmap\",\"colorbar\":{\"outlinewidth\":0,\"ticks\":\"\"},\"colorscale\":[[0.0,\"#0d0887\"],[0.1111111111111111,\"#46039f\"],[0.2222222222222222,\"#7201a8\"],[0.3333333333333333,\"#9c179e\"],[0.4444444444444444,\"#bd3786\"],[0.5555555555555556,\"#d8576b\"],[0.6666666666666666,\"#ed7953\"],[0.7777777777777778,\"#fb9f3a\"],[0.8888888888888888,\"#fdca26\"],[1.0,\"#f0f921\"]]}],\"heatmapgl\":[{\"type\":\"heatmapgl\",\"colorbar\":{\"outlinewidth\":0,\"ticks\":\"\"},\"colorscale\":[[0.0,\"#0d0887\"],[0.1111111111111111,\"#46039f\"],[0.2222222222222222,\"#7201a8\"],[0.3333333333333333,\"#9c179e\"],[0.4444444444444444,\"#bd3786\"],[0.5555555555555556,\"#d8576b\"],[0.6666666666666666,\"#ed7953\"],[0.7777777777777778,\"#fb9f3a\"],[0.8888888888888888,\"#fdca26\"],[1.0,\"#f0f921\"]]}],\"contourcarpet\":[{\"type\":\"contourcarpet\",\"colorbar\":{\"outlinewidth\":0,\"ticks\":\"\"}}],\"contour\":[{\"type\":\"contour\",\"colorbar\":{\"outlinewidth\":0,\"ticks\":\"\"},\"colorscale\":[[0.0,\"#0d0887\"],[0.1111111111111111,\"#46039f\"],[0.2222222222222222,\"#7201a8\"],[0.3333333333333333,\"#9c179e\"],[0.4444444444444444,\"#bd3786\"],[0.5555555555555556,\"#d8576b\"],[0.6666666666666666,\"#ed7953\"],[0.7777777777777778,\"#fb9f3a\"],[0.8888888888888888,\"#fdca26\"],[1.0,\"#f0f921\"]]}],\"surface\":[{\"type\":\"surface\",\"colorbar\":{\"outlinewidth\":0,\"ticks\":\"\"},\"colorscale\":[[0.0,\"#0d0887\"],[0.1111111111111111,\"#46039f\"],[0.2222222222222222,\"#7201a8\"],[0.3333333333333333,\"#9c179e\"],[0.4444444444444444,\"#bd3786\"],[0.5555555555555556,\"#d8576b\"],[0.6666666666666666,\"#ed7953\"],[0.7777777777777778,\"#fb9f3a\"],[0.8888888888888888,\"#fdca26\"],[1.0,\"#f0f921\"]]}],\"mesh3d\":[{\"type\":\"mesh3d\",\"colorbar\":{\"outlinewidth\":0,\"ticks\":\"\"}}],\"scatter\":[{\"fillpattern\":{\"fillmode\":\"overlay\",\"size\":10,\"solidity\":0.2},\"type\":\"scatter\"}],\"parcoords\":[{\"type\":\"parcoords\",\"line\":{\"colorbar\":{\"outlinewidth\":0,\"ticks\":\"\"}}}],\"scatterpolargl\":[{\"type\":\"scatterpolargl\",\"marker\":{\"colorbar\":{\"outlinewidth\":0,\"ticks\":\"\"}}}],\"bar\":[{\"error_x\":{\"color\":\"#2a3f5f\"},\"error_y\":{\"color\":\"#2a3f5f\"},\"marker\":{\"line\":{\"color\":\"#E5ECF6\",\"width\":0.5},\"pattern\":{\"fillmode\":\"overlay\",\"size\":10,\"solidity\":0.2}},\"type\":\"bar\"}],\"scattergeo\":[{\"type\":\"scattergeo\",\"marker\":{\"colorbar\":{\"outlinewidth\":0,\"ticks\":\"\"}}}],\"scatterpolar\":[{\"type\":\"scatterpolar\",\"marker\":{\"colorbar\":{\"outlinewidth\":0,\"ticks\":\"\"}}}],\"histogram\":[{\"marker\":{\"pattern\":{\"fillmode\":\"overlay\",\"size\":10,\"solidity\":0.2}},\"type\":\"histogram\"}],\"scattergl\":[{\"type\":\"scattergl\",\"marker\":{\"colorbar\":{\"outlinewidth\":0,\"ticks\":\"\"}}}],\"scatter3d\":[{\"type\":\"scatter3d\",\"line\":{\"colorbar\":{\"outlinewidth\":0,\"ticks\":\"\"}},\"marker\":{\"colorbar\":{\"outlinewidth\":0,\"ticks\":\"\"}}}],\"scattermapbox\":[{\"type\":\"scattermapbox\",\"marker\":{\"colorbar\":{\"outlinewidth\":0,\"ticks\":\"\"}}}],\"scatterternary\":[{\"type\":\"scatterternary\",\"marker\":{\"colorbar\":{\"outlinewidth\":0,\"ticks\":\"\"}}}],\"scattercarpet\":[{\"type\":\"scattercarpet\",\"marker\":{\"colorbar\":{\"outlinewidth\":0,\"ticks\":\"\"}}}],\"carpet\":[{\"aaxis\":{\"endlinecolor\":\"#2a3f5f\",\"gridcolor\":\"white\",\"linecolor\":\"white\",\"minorgridcolor\":\"white\",\"startlinecolor\":\"#2a3f5f\"},\"baxis\":{\"endlinecolor\":\"#2a3f5f\",\"gridcolor\":\"white\",\"linecolor\":\"white\",\"minorgridcolor\":\"white\",\"startlinecolor\":\"#2a3f5f\"},\"type\":\"carpet\"}],\"table\":[{\"cells\":{\"fill\":{\"color\":\"#EBF0F8\"},\"line\":{\"color\":\"white\"}},\"header\":{\"fill\":{\"color\":\"#C8D4E3\"},\"line\":{\"color\":\"white\"}},\"type\":\"table\"}],\"barpolar\":[{\"marker\":{\"line\":{\"color\":\"#E5ECF6\",\"width\":0.5},\"pattern\":{\"fillmode\":\"overlay\",\"size\":10,\"solidity\":0.2}},\"type\":\"barpolar\"}],\"pie\":[{\"automargin\":true,\"type\":\"pie\"}]},\"layout\":{\"autotypenumbers\":\"strict\",\"colorway\":[\"#636efa\",\"#EF553B\",\"#00cc96\",\"#ab63fa\",\"#FFA15A\",\"#19d3f3\",\"#FF6692\",\"#B6E880\",\"#FF97FF\",\"#FECB52\"],\"font\":{\"color\":\"#2a3f5f\"},\"hovermode\":\"closest\",\"hoverlabel\":{\"align\":\"left\"},\"paper_bgcolor\":\"white\",\"plot_bgcolor\":\"#E5ECF6\",\"polar\":{\"bgcolor\":\"#E5ECF6\",\"angularaxis\":{\"gridcolor\":\"white\",\"linecolor\":\"white\",\"ticks\":\"\"},\"radialaxis\":{\"gridcolor\":\"white\",\"linecolor\":\"white\",\"ticks\":\"\"}},\"ternary\":{\"bgcolor\":\"#E5ECF6\",\"aaxis\":{\"gridcolor\":\"white\",\"linecolor\":\"white\",\"ticks\":\"\"},\"baxis\":{\"gridcolor\":\"white\",\"linecolor\":\"white\",\"ticks\":\"\"},\"caxis\":{\"gridcolor\":\"white\",\"linecolor\":\"white\",\"ticks\":\"\"}},\"coloraxis\":{\"colorbar\":{\"outlinewidth\":0,\"ticks\":\"\"}},\"colorscale\":{\"sequential\":[[0.0,\"#0d0887\"],[0.1111111111111111,\"#46039f\"],[0.2222222222222222,\"#7201a8\"],[0.3333333333333333,\"#9c179e\"],[0.4444444444444444,\"#bd3786\"],[0.5555555555555556,\"#d8576b\"],[0.6666666666666666,\"#ed7953\"],[0.7777777777777778,\"#fb9f3a\"],[0.8888888888888888,\"#fdca26\"],[1.0,\"#f0f921\"]],\"sequentialminus\":[[0.0,\"#0d0887\"],[0.1111111111111111,\"#46039f\"],[0.2222222222222222,\"#7201a8\"],[0.3333333333333333,\"#9c179e\"],[0.4444444444444444,\"#bd3786\"],[0.5555555555555556,\"#d8576b\"],[0.6666666666666666,\"#ed7953\"],[0.7777777777777778,\"#fb9f3a\"],[0.8888888888888888,\"#fdca26\"],[1.0,\"#f0f921\"]],\"diverging\":[[0,\"#8e0152\"],[0.1,\"#c51b7d\"],[0.2,\"#de77ae\"],[0.3,\"#f1b6da\"],[0.4,\"#fde0ef\"],[0.5,\"#f7f7f7\"],[0.6,\"#e6f5d0\"],[0.7,\"#b8e186\"],[0.8,\"#7fbc41\"],[0.9,\"#4d9221\"],[1,\"#276419\"]]},\"xaxis\":{\"gridcolor\":\"white\",\"linecolor\":\"white\",\"ticks\":\"\",\"title\":{\"standoff\":15},\"zerolinecolor\":\"white\",\"automargin\":true,\"zerolinewidth\":2},\"yaxis\":{\"gridcolor\":\"white\",\"linecolor\":\"white\",\"ticks\":\"\",\"title\":{\"standoff\":15},\"zerolinecolor\":\"white\",\"automargin\":true,\"zerolinewidth\":2},\"scene\":{\"xaxis\":{\"backgroundcolor\":\"#E5ECF6\",\"gridcolor\":\"white\",\"linecolor\":\"white\",\"showbackground\":true,\"ticks\":\"\",\"zerolinecolor\":\"white\",\"gridwidth\":2},\"yaxis\":{\"backgroundcolor\":\"#E5ECF6\",\"gridcolor\":\"white\",\"linecolor\":\"white\",\"showbackground\":true,\"ticks\":\"\",\"zerolinecolor\":\"white\",\"gridwidth\":2},\"zaxis\":{\"backgroundcolor\":\"#E5ECF6\",\"gridcolor\":\"white\",\"linecolor\":\"white\",\"showbackground\":true,\"ticks\":\"\",\"zerolinecolor\":\"white\",\"gridwidth\":2}},\"shapedefaults\":{\"line\":{\"color\":\"#2a3f5f\"}},\"annotationdefaults\":{\"arrowcolor\":\"#2a3f5f\",\"arrowhead\":0,\"arrowwidth\":1},\"geo\":{\"bgcolor\":\"white\",\"landcolor\":\"#E5ECF6\",\"subunitcolor\":\"white\",\"showland\":true,\"showlakes\":true,\"lakecolor\":\"white\"},\"title\":{\"x\":0.05},\"mapbox\":{\"style\":\"light\"}}},\"xaxis\":{\"anchor\":\"y\",\"domain\":[0.0,1.0],\"title\":{\"text\":\"genre\"}},\"yaxis\":{\"anchor\":\"x\",\"domain\":[0.0,1.0],\"title\":{\"text\":\"count\"}},\"legend\":{\"tracegroupgap\":0},\"margin\":{\"t\":60},\"barmode\":\"relative\"},                        {\"responsive\": true}                    ).then(function(){\n",
       "                            \n",
       "var gd = document.getElementById('77983aa0-a42b-4411-81bf-fb2fb1deea32');\n",
       "var x = new MutationObserver(function (mutations, observer) {{\n",
       "        var display = window.getComputedStyle(gd).display;\n",
       "        if (!display || display === 'none') {{\n",
       "            console.log([gd, 'removed!']);\n",
       "            Plotly.purge(gd);\n",
       "            observer.disconnect();\n",
       "        }}\n",
       "}});\n",
       "\n",
       "// Listen for the removal of the full notebook cells\n",
       "var notebookContainer = gd.closest('#notebook-container');\n",
       "if (notebookContainer) {{\n",
       "    x.observe(notebookContainer, {childList: true});\n",
       "}}\n",
       "\n",
       "// Listen for the clearing of the current output cell\n",
       "var outputEl = gd.closest('.output');\n",
       "if (outputEl) {{\n",
       "    x.observe(outputEl, {childList: true});\n",
       "}}\n",
       "\n",
       "                        })                };                });            </script>        </div>"
      ]
     },
     "metadata": {},
     "output_type": "display_data"
    }
   ],
   "source": [
    "px.histogram( Completed[Completed[\"language\"]==\"English\"], x = \"genre\")"
   ]
  },
  {
   "cell_type": "code",
   "execution_count": 94,
   "id": "aa07a7ee",
   "metadata": {
    "execution": {
     "iopub.execute_input": "2022-06-09T11:58:47.543963Z",
     "iopub.status.busy": "2022-06-09T11:58:47.543582Z",
     "iopub.status.idle": "2022-06-09T11:58:47.615122Z",
     "shell.execute_reply": "2022-06-09T11:58:47.614260Z"
    },
    "papermill": {
     "duration": 0.12117,
     "end_time": "2022-06-09T11:58:47.617344",
     "exception": false,
     "start_time": "2022-06-09T11:58:47.496174",
     "status": "completed"
    },
    "tags": []
   },
   "outputs": [
    {
     "data": {
      "text/html": [
       "<div>                            <div id=\"efe4c36d-dddd-4257-a85d-3c18a15f9cd0\" class=\"plotly-graph-div\" style=\"height:525px; width:100%;\"></div>            <script type=\"text/javascript\">                require([\"plotly\"], function(Plotly) {                    window.PLOTLYENV=window.PLOTLYENV || {};                                    if (document.getElementById(\"efe4c36d-dddd-4257-a85d-3c18a15f9cd0\")) {                    Plotly.newPlot(                        \"efe4c36d-dddd-4257-a85d-3c18a15f9cd0\",                        [{\"alignmentgroup\":\"True\",\"bingroup\":\"x\",\"hovertemplate\":\"genre=%{x}<br>count=%{y}<extra></extra>\",\"legendgroup\":\"\",\"marker\":{\"color\":\"#636efa\",\"pattern\":{\"shape\":\"\"}},\"name\":\"\",\"offsetgroup\":\"\",\"orientation\":\"v\",\"showlegend\":false,\"x\":[\"Humour/ Satire\",\"Mystery\",\"Science Fiction\",\"Self Help\",\"Literary Fiction\",\"Mystery\",\"Literary Fiction\",\"Mystery\",\"Romance\",\"Romance\",\"Romance\",\"Romance\",\"Romance\",\"Romance\",\"Romance\",\"Mystery\",\"Fantasy\",\"Romance\",\"Mystery\",\"Mystery\",\"Fantasy\",\"Mystery\",\"Literary Fiction\",\"Literary Fiction\",\"Mystery\",\"Thriller\",\"Thriller\",\"Thriller\",\"Mystery\",\"Mystery\",\"Science Fiction\",\"Fantasy\",\"Romance\",\"Literary Fiction\",\"Romance\",\"Romance\",\"Mystery\",\"Romance\",\"Mystery\",\"Romance\",\"Romance\",\"Fantasy\",\"Fantasy\",\"Fantasy\",\"Literary Fiction\",\"Romance\",\"Mystery\",\"Fantasy\",\"Mystery\",\"Fantasy\",\"Fantasy\",\"Romance\",\"Mystery\",\"Humour/ Satire\",\"Fantasy\"],\"xaxis\":\"x\",\"yaxis\":\"y\",\"type\":\"histogram\"}],                        {\"template\":{\"data\":{\"histogram2dcontour\":[{\"type\":\"histogram2dcontour\",\"colorbar\":{\"outlinewidth\":0,\"ticks\":\"\"},\"colorscale\":[[0.0,\"#0d0887\"],[0.1111111111111111,\"#46039f\"],[0.2222222222222222,\"#7201a8\"],[0.3333333333333333,\"#9c179e\"],[0.4444444444444444,\"#bd3786\"],[0.5555555555555556,\"#d8576b\"],[0.6666666666666666,\"#ed7953\"],[0.7777777777777778,\"#fb9f3a\"],[0.8888888888888888,\"#fdca26\"],[1.0,\"#f0f921\"]]}],\"choropleth\":[{\"type\":\"choropleth\",\"colorbar\":{\"outlinewidth\":0,\"ticks\":\"\"}}],\"histogram2d\":[{\"type\":\"histogram2d\",\"colorbar\":{\"outlinewidth\":0,\"ticks\":\"\"},\"colorscale\":[[0.0,\"#0d0887\"],[0.1111111111111111,\"#46039f\"],[0.2222222222222222,\"#7201a8\"],[0.3333333333333333,\"#9c179e\"],[0.4444444444444444,\"#bd3786\"],[0.5555555555555556,\"#d8576b\"],[0.6666666666666666,\"#ed7953\"],[0.7777777777777778,\"#fb9f3a\"],[0.8888888888888888,\"#fdca26\"],[1.0,\"#f0f921\"]]}],\"heatmap\":[{\"type\":\"heatmap\",\"colorbar\":{\"outlinewidth\":0,\"ticks\":\"\"},\"colorscale\":[[0.0,\"#0d0887\"],[0.1111111111111111,\"#46039f\"],[0.2222222222222222,\"#7201a8\"],[0.3333333333333333,\"#9c179e\"],[0.4444444444444444,\"#bd3786\"],[0.5555555555555556,\"#d8576b\"],[0.6666666666666666,\"#ed7953\"],[0.7777777777777778,\"#fb9f3a\"],[0.8888888888888888,\"#fdca26\"],[1.0,\"#f0f921\"]]}],\"heatmapgl\":[{\"type\":\"heatmapgl\",\"colorbar\":{\"outlinewidth\":0,\"ticks\":\"\"},\"colorscale\":[[0.0,\"#0d0887\"],[0.1111111111111111,\"#46039f\"],[0.2222222222222222,\"#7201a8\"],[0.3333333333333333,\"#9c179e\"],[0.4444444444444444,\"#bd3786\"],[0.5555555555555556,\"#d8576b\"],[0.6666666666666666,\"#ed7953\"],[0.7777777777777778,\"#fb9f3a\"],[0.8888888888888888,\"#fdca26\"],[1.0,\"#f0f921\"]]}],\"contourcarpet\":[{\"type\":\"contourcarpet\",\"colorbar\":{\"outlinewidth\":0,\"ticks\":\"\"}}],\"contour\":[{\"type\":\"contour\",\"colorbar\":{\"outlinewidth\":0,\"ticks\":\"\"},\"colorscale\":[[0.0,\"#0d0887\"],[0.1111111111111111,\"#46039f\"],[0.2222222222222222,\"#7201a8\"],[0.3333333333333333,\"#9c179e\"],[0.4444444444444444,\"#bd3786\"],[0.5555555555555556,\"#d8576b\"],[0.6666666666666666,\"#ed7953\"],[0.7777777777777778,\"#fb9f3a\"],[0.8888888888888888,\"#fdca26\"],[1.0,\"#f0f921\"]]}],\"surface\":[{\"type\":\"surface\",\"colorbar\":{\"outlinewidth\":0,\"ticks\":\"\"},\"colorscale\":[[0.0,\"#0d0887\"],[0.1111111111111111,\"#46039f\"],[0.2222222222222222,\"#7201a8\"],[0.3333333333333333,\"#9c179e\"],[0.4444444444444444,\"#bd3786\"],[0.5555555555555556,\"#d8576b\"],[0.6666666666666666,\"#ed7953\"],[0.7777777777777778,\"#fb9f3a\"],[0.8888888888888888,\"#fdca26\"],[1.0,\"#f0f921\"]]}],\"mesh3d\":[{\"type\":\"mesh3d\",\"colorbar\":{\"outlinewidth\":0,\"ticks\":\"\"}}],\"scatter\":[{\"fillpattern\":{\"fillmode\":\"overlay\",\"size\":10,\"solidity\":0.2},\"type\":\"scatter\"}],\"parcoords\":[{\"type\":\"parcoords\",\"line\":{\"colorbar\":{\"outlinewidth\":0,\"ticks\":\"\"}}}],\"scatterpolargl\":[{\"type\":\"scatterpolargl\",\"marker\":{\"colorbar\":{\"outlinewidth\":0,\"ticks\":\"\"}}}],\"bar\":[{\"error_x\":{\"color\":\"#2a3f5f\"},\"error_y\":{\"color\":\"#2a3f5f\"},\"marker\":{\"line\":{\"color\":\"#E5ECF6\",\"width\":0.5},\"pattern\":{\"fillmode\":\"overlay\",\"size\":10,\"solidity\":0.2}},\"type\":\"bar\"}],\"scattergeo\":[{\"type\":\"scattergeo\",\"marker\":{\"colorbar\":{\"outlinewidth\":0,\"ticks\":\"\"}}}],\"scatterpolar\":[{\"type\":\"scatterpolar\",\"marker\":{\"colorbar\":{\"outlinewidth\":0,\"ticks\":\"\"}}}],\"histogram\":[{\"marker\":{\"pattern\":{\"fillmode\":\"overlay\",\"size\":10,\"solidity\":0.2}},\"type\":\"histogram\"}],\"scattergl\":[{\"type\":\"scattergl\",\"marker\":{\"colorbar\":{\"outlinewidth\":0,\"ticks\":\"\"}}}],\"scatter3d\":[{\"type\":\"scatter3d\",\"line\":{\"colorbar\":{\"outlinewidth\":0,\"ticks\":\"\"}},\"marker\":{\"colorbar\":{\"outlinewidth\":0,\"ticks\":\"\"}}}],\"scattermapbox\":[{\"type\":\"scattermapbox\",\"marker\":{\"colorbar\":{\"outlinewidth\":0,\"ticks\":\"\"}}}],\"scatterternary\":[{\"type\":\"scatterternary\",\"marker\":{\"colorbar\":{\"outlinewidth\":0,\"ticks\":\"\"}}}],\"scattercarpet\":[{\"type\":\"scattercarpet\",\"marker\":{\"colorbar\":{\"outlinewidth\":0,\"ticks\":\"\"}}}],\"carpet\":[{\"aaxis\":{\"endlinecolor\":\"#2a3f5f\",\"gridcolor\":\"white\",\"linecolor\":\"white\",\"minorgridcolor\":\"white\",\"startlinecolor\":\"#2a3f5f\"},\"baxis\":{\"endlinecolor\":\"#2a3f5f\",\"gridcolor\":\"white\",\"linecolor\":\"white\",\"minorgridcolor\":\"white\",\"startlinecolor\":\"#2a3f5f\"},\"type\":\"carpet\"}],\"table\":[{\"cells\":{\"fill\":{\"color\":\"#EBF0F8\"},\"line\":{\"color\":\"white\"}},\"header\":{\"fill\":{\"color\":\"#C8D4E3\"},\"line\":{\"color\":\"white\"}},\"type\":\"table\"}],\"barpolar\":[{\"marker\":{\"line\":{\"color\":\"#E5ECF6\",\"width\":0.5},\"pattern\":{\"fillmode\":\"overlay\",\"size\":10,\"solidity\":0.2}},\"type\":\"barpolar\"}],\"pie\":[{\"automargin\":true,\"type\":\"pie\"}]},\"layout\":{\"autotypenumbers\":\"strict\",\"colorway\":[\"#636efa\",\"#EF553B\",\"#00cc96\",\"#ab63fa\",\"#FFA15A\",\"#19d3f3\",\"#FF6692\",\"#B6E880\",\"#FF97FF\",\"#FECB52\"],\"font\":{\"color\":\"#2a3f5f\"},\"hovermode\":\"closest\",\"hoverlabel\":{\"align\":\"left\"},\"paper_bgcolor\":\"white\",\"plot_bgcolor\":\"#E5ECF6\",\"polar\":{\"bgcolor\":\"#E5ECF6\",\"angularaxis\":{\"gridcolor\":\"white\",\"linecolor\":\"white\",\"ticks\":\"\"},\"radialaxis\":{\"gridcolor\":\"white\",\"linecolor\":\"white\",\"ticks\":\"\"}},\"ternary\":{\"bgcolor\":\"#E5ECF6\",\"aaxis\":{\"gridcolor\":\"white\",\"linecolor\":\"white\",\"ticks\":\"\"},\"baxis\":{\"gridcolor\":\"white\",\"linecolor\":\"white\",\"ticks\":\"\"},\"caxis\":{\"gridcolor\":\"white\",\"linecolor\":\"white\",\"ticks\":\"\"}},\"coloraxis\":{\"colorbar\":{\"outlinewidth\":0,\"ticks\":\"\"}},\"colorscale\":{\"sequential\":[[0.0,\"#0d0887\"],[0.1111111111111111,\"#46039f\"],[0.2222222222222222,\"#7201a8\"],[0.3333333333333333,\"#9c179e\"],[0.4444444444444444,\"#bd3786\"],[0.5555555555555556,\"#d8576b\"],[0.6666666666666666,\"#ed7953\"],[0.7777777777777778,\"#fb9f3a\"],[0.8888888888888888,\"#fdca26\"],[1.0,\"#f0f921\"]],\"sequentialminus\":[[0.0,\"#0d0887\"],[0.1111111111111111,\"#46039f\"],[0.2222222222222222,\"#7201a8\"],[0.3333333333333333,\"#9c179e\"],[0.4444444444444444,\"#bd3786\"],[0.5555555555555556,\"#d8576b\"],[0.6666666666666666,\"#ed7953\"],[0.7777777777777778,\"#fb9f3a\"],[0.8888888888888888,\"#fdca26\"],[1.0,\"#f0f921\"]],\"diverging\":[[0,\"#8e0152\"],[0.1,\"#c51b7d\"],[0.2,\"#de77ae\"],[0.3,\"#f1b6da\"],[0.4,\"#fde0ef\"],[0.5,\"#f7f7f7\"],[0.6,\"#e6f5d0\"],[0.7,\"#b8e186\"],[0.8,\"#7fbc41\"],[0.9,\"#4d9221\"],[1,\"#276419\"]]},\"xaxis\":{\"gridcolor\":\"white\",\"linecolor\":\"white\",\"ticks\":\"\",\"title\":{\"standoff\":15},\"zerolinecolor\":\"white\",\"automargin\":true,\"zerolinewidth\":2},\"yaxis\":{\"gridcolor\":\"white\",\"linecolor\":\"white\",\"ticks\":\"\",\"title\":{\"standoff\":15},\"zerolinecolor\":\"white\",\"automargin\":true,\"zerolinewidth\":2},\"scene\":{\"xaxis\":{\"backgroundcolor\":\"#E5ECF6\",\"gridcolor\":\"white\",\"linecolor\":\"white\",\"showbackground\":true,\"ticks\":\"\",\"zerolinecolor\":\"white\",\"gridwidth\":2},\"yaxis\":{\"backgroundcolor\":\"#E5ECF6\",\"gridcolor\":\"white\",\"linecolor\":\"white\",\"showbackground\":true,\"ticks\":\"\",\"zerolinecolor\":\"white\",\"gridwidth\":2},\"zaxis\":{\"backgroundcolor\":\"#E5ECF6\",\"gridcolor\":\"white\",\"linecolor\":\"white\",\"showbackground\":true,\"ticks\":\"\",\"zerolinecolor\":\"white\",\"gridwidth\":2}},\"shapedefaults\":{\"line\":{\"color\":\"#2a3f5f\"}},\"annotationdefaults\":{\"arrowcolor\":\"#2a3f5f\",\"arrowhead\":0,\"arrowwidth\":1},\"geo\":{\"bgcolor\":\"white\",\"landcolor\":\"#E5ECF6\",\"subunitcolor\":\"white\",\"showland\":true,\"showlakes\":true,\"lakecolor\":\"white\"},\"title\":{\"x\":0.05},\"mapbox\":{\"style\":\"light\"}}},\"xaxis\":{\"anchor\":\"y\",\"domain\":[0.0,1.0],\"title\":{\"text\":\"genre\"}},\"yaxis\":{\"anchor\":\"x\",\"domain\":[0.0,1.0],\"title\":{\"text\":\"count\"}},\"legend\":{\"tracegroupgap\":0},\"margin\":{\"t\":60},\"barmode\":\"relative\"},                        {\"responsive\": true}                    ).then(function(){\n",
       "                            \n",
       "var gd = document.getElementById('efe4c36d-dddd-4257-a85d-3c18a15f9cd0');\n",
       "var x = new MutationObserver(function (mutations, observer) {{\n",
       "        var display = window.getComputedStyle(gd).display;\n",
       "        if (!display || display === 'none') {{\n",
       "            console.log([gd, 'removed!']);\n",
       "            Plotly.purge(gd);\n",
       "            observer.disconnect();\n",
       "        }}\n",
       "}});\n",
       "\n",
       "// Listen for the removal of the full notebook cells\n",
       "var notebookContainer = gd.closest('#notebook-container');\n",
       "if (notebookContainer) {{\n",
       "    x.observe(notebookContainer, {childList: true});\n",
       "}}\n",
       "\n",
       "// Listen for the clearing of the current output cell\n",
       "var outputEl = gd.closest('.output');\n",
       "if (outputEl) {{\n",
       "    x.observe(outputEl, {childList: true});\n",
       "}}\n",
       "\n",
       "                        })                };                });            </script>        </div>"
      ]
     },
     "metadata": {},
     "output_type": "display_data"
    }
   ],
   "source": [
    "English_books = Completed[(Completed[\"language\"]==\"English\")&(Completed[\"completion_year\"]>2016)]\n",
    "English_popular_genres = English_books[\"genre\"].value_counts().rename_axis (\"Genre\").reset_index(name = \"books/reads\")\n",
    "\n",
    "Top_genres = English_popular_genres.head(10)\n",
    "\n",
    "popular_genres = Completed[Completed[\"genre\"].isin(Top_genres[\"Genre\"])]\n",
    "\n",
    "px.histogram( popular_genres[popular_genres[\"completion_year\"]==2017], x = \"genre\", )"
   ]
  },
  {
   "cell_type": "code",
   "execution_count": null,
   "id": "fa768936",
   "metadata": {
    "papermill": {
     "duration": 0.044788,
     "end_time": "2022-06-09T11:58:47.707421",
     "exception": false,
     "start_time": "2022-06-09T11:58:47.662633",
     "status": "completed"
    },
    "tags": []
   },
   "outputs": [],
   "source": []
  }
 ],
 "metadata": {
  "kernelspec": {
   "display_name": "Python 3",
   "language": "python",
   "name": "python3"
  },
  "language_info": {
   "codemirror_mode": {
    "name": "ipython",
    "version": 3
   },
   "file_extension": ".py",
   "mimetype": "text/x-python",
   "name": "python",
   "nbconvert_exporter": "python",
   "pygments_lexer": "ipython3",
   "version": "3.7.12"
  },
  "papermill": {
   "default_parameters": {},
   "duration": 34.766184,
   "end_time": "2022-06-09T11:58:48.673378",
   "environment_variables": {},
   "exception": null,
   "input_path": "__notebook__.ipynb",
   "output_path": "__notebook__.ipynb",
   "parameters": {},
   "start_time": "2022-06-09T11:58:13.907194",
   "version": "2.3.4"
  }
 },
 "nbformat": 4,
 "nbformat_minor": 5
}
