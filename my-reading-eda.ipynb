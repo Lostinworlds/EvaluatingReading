{
 "cells": [
  {
   "cell_type": "markdown",
   "id": "ec28775d",
   "metadata": {
    "papermill": {
     "duration": 0.018175,
     "end_time": "2022-06-08T19:58:11.345898",
     "exception": false,
     "start_time": "2022-06-08T19:58:11.327723",
     "status": "completed"
    },
    "tags": []
   },
   "source": [
    "# Introduction\n",
    "Previously, following various trial and error, the data pertaining to my reading habits were collated. In this project, the data will be evaluated, looking not only for patterns in the reading habits. \n",
    "# Overview\n",
    "Prior to the evaluation and visualisation of the data, there may be aspects which may need to be modified and/or cleaned. It should be noted that some aspects of the data was also pre-cleaned in Google Sheets where the original data was recorded. \n",
    "Following this cross sections of the data can be evaluated for patters and trends in the reading habits. It should be noted that this dataset contains non-English characters. This may impact certain tools and libraries. "
   ]
  },
  {
   "cell_type": "code",
   "execution_count": 1,
   "id": "7c9aa93e",
   "metadata": {
    "_cell_guid": "b1076dfc-b9ad-4769-8c92-a6c4dae69d19",
    "_uuid": "8f2839f25d086af736a60e9eeb907d3b93b6e0e5",
    "execution": {
     "iopub.execute_input": "2022-06-08T19:58:11.383335Z",
     "iopub.status.busy": "2022-06-08T19:58:11.382705Z",
     "iopub.status.idle": "2022-06-08T19:58:13.631063Z",
     "shell.execute_reply": "2022-06-08T19:58:13.629947Z"
    },
    "papermill": {
     "duration": 2.269547,
     "end_time": "2022-06-08T19:58:13.633704",
     "exception": false,
     "start_time": "2022-06-08T19:58:11.364157",
     "status": "completed"
    },
    "tags": []
   },
   "outputs": [
    {
     "name": "stdout",
     "output_type": "stream",
     "text": [
      "/kaggle/input/my-reading-log/reading log.csv\n"
     ]
    }
   ],
   "source": [
    "# library for data handling\n",
    "import numpy as np \n",
    "import pandas as pd \n",
    "\n",
    "# library specific to kaggle\n",
    "import os\n",
    "for dirname, _, filenames in os.walk('/kaggle/input'):\n",
    "    for filename in filenames:\n",
    "        print(os.path.join(dirname, filename))\n",
    "\n",
    "#libraries for data visualisation \n",
    "import matplotlib.pyplot as plt\n",
    "import seaborn as sns\n",
    "import plotly_express as px\n",
    "\n",
    "#set visualisation\n",
    "%matplotlib inline\n",
    "sns.set_style(\"whitegrid\")"
   ]
  },
  {
   "cell_type": "code",
   "execution_count": 2,
   "id": "611b21c1",
   "metadata": {
    "execution": {
     "iopub.execute_input": "2022-06-08T19:58:13.670816Z",
     "iopub.status.busy": "2022-06-08T19:58:13.669829Z",
     "iopub.status.idle": "2022-06-08T19:58:13.688219Z",
     "shell.execute_reply": "2022-06-08T19:58:13.687133Z"
    },
    "papermill": {
     "duration": 0.039737,
     "end_time": "2022-06-08T19:58:13.690873",
     "exception": false,
     "start_time": "2022-06-08T19:58:13.651136",
     "status": "completed"
    },
    "tags": []
   },
   "outputs": [],
   "source": [
    "# read in data\n",
    "df = pd.read_csv(\"/kaggle/input/my-reading-log/reading log.csv\")"
   ]
  },
  {
   "cell_type": "code",
   "execution_count": 3,
   "id": "a46ae378",
   "metadata": {
    "execution": {
     "iopub.execute_input": "2022-06-08T19:58:13.728439Z",
     "iopub.status.busy": "2022-06-08T19:58:13.727781Z",
     "iopub.status.idle": "2022-06-08T19:58:13.754079Z",
     "shell.execute_reply": "2022-06-08T19:58:13.753145Z"
    },
    "papermill": {
     "duration": 0.047321,
     "end_time": "2022-06-08T19:58:13.756265",
     "exception": false,
     "start_time": "2022-06-08T19:58:13.708944",
     "status": "completed"
    },
    "tags": []
   },
   "outputs": [
    {
     "data": {
      "text/html": [
       "<div>\n",
       "<style scoped>\n",
       "    .dataframe tbody tr th:only-of-type {\n",
       "        vertical-align: middle;\n",
       "    }\n",
       "\n",
       "    .dataframe tbody tr th {\n",
       "        vertical-align: top;\n",
       "    }\n",
       "\n",
       "    .dataframe thead th {\n",
       "        text-align: right;\n",
       "    }\n",
       "</style>\n",
       "<table border=\"1\" class=\"dataframe\">\n",
       "  <thead>\n",
       "    <tr style=\"text-align: right;\">\n",
       "      <th></th>\n",
       "      <th>completion date</th>\n",
       "      <th>Title</th>\n",
       "      <th>author(s)</th>\n",
       "      <th>pages</th>\n",
       "      <th>review</th>\n",
       "      <th>rating</th>\n",
       "      <th>status</th>\n",
       "      <th>format</th>\n",
       "      <th>platform</th>\n",
       "      <th>publisher</th>\n",
       "      <th>Imprint</th>\n",
       "      <th>publication date</th>\n",
       "      <th>type</th>\n",
       "      <th>genre</th>\n",
       "      <th>language</th>\n",
       "    </tr>\n",
       "  </thead>\n",
       "  <tbody>\n",
       "    <tr>\n",
       "      <th>0</th>\n",
       "      <td>NaN</td>\n",
       "      <td>ボッコちゃん</td>\n",
       "      <td>星 新一</td>\n",
       "      <td>315</td>\n",
       "      <td>n</td>\n",
       "      <td>2.0</td>\n",
       "      <td>Completed</td>\n",
       "      <td>Physical Book</td>\n",
       "      <td>NaN</td>\n",
       "      <td>新潮社</td>\n",
       "      <td>新潮文庫</td>\n",
       "      <td>25-May-1971</td>\n",
       "      <td>Fiction</td>\n",
       "      <td>science fiction</td>\n",
       "      <td>jp</td>\n",
       "    </tr>\n",
       "    <tr>\n",
       "      <th>1</th>\n",
       "      <td>12-05-20</td>\n",
       "      <td>三毛猫ホームズの推理</td>\n",
       "      <td>赤川 次郎</td>\n",
       "      <td>368</td>\n",
       "      <td>y</td>\n",
       "      <td>3.0</td>\n",
       "      <td>Completed</td>\n",
       "      <td>E-Book</td>\n",
       "      <td>Kindle</td>\n",
       "      <td>KADOKAWA</td>\n",
       "      <td>角川文庫</td>\n",
       "      <td>1-Apr-1984</td>\n",
       "      <td>Fiction</td>\n",
       "      <td>Mystery</td>\n",
       "      <td>jp</td>\n",
       "    </tr>\n",
       "    <tr>\n",
       "      <th>2</th>\n",
       "      <td>06-24-20</td>\n",
       "      <td>ミステリ博物館</td>\n",
       "      <td>赤川 次郎</td>\n",
       "      <td>339</td>\n",
       "      <td>n</td>\n",
       "      <td>4.0</td>\n",
       "      <td>Completed</td>\n",
       "      <td>Physical Book</td>\n",
       "      <td>NaN</td>\n",
       "      <td>KADOKAWA</td>\n",
       "      <td>角川文庫</td>\n",
       "      <td>1-Jul-1985</td>\n",
       "      <td>Fiction</td>\n",
       "      <td>Mystery</td>\n",
       "      <td>jp</td>\n",
       "    </tr>\n",
       "    <tr>\n",
       "      <th>3</th>\n",
       "      <td>02-28-19</td>\n",
       "      <td>Jacques the Fatalist and His Master</td>\n",
       "      <td>Denis Diderot</td>\n",
       "      <td>261</td>\n",
       "      <td>y</td>\n",
       "      <td>2.5</td>\n",
       "      <td>Completed</td>\n",
       "      <td>Physical Book</td>\n",
       "      <td>NaN</td>\n",
       "      <td>Penguin Random House</td>\n",
       "      <td>Penguin Classics</td>\n",
       "      <td>30-Jan-1986</td>\n",
       "      <td>Fiction</td>\n",
       "      <td>Humour/ Satire</td>\n",
       "      <td>jp</td>\n",
       "    </tr>\n",
       "    <tr>\n",
       "      <th>4</th>\n",
       "      <td>02-15-18</td>\n",
       "      <td>卒業</td>\n",
       "      <td>東野 圭吾</td>\n",
       "      <td>371</td>\n",
       "      <td>y</td>\n",
       "      <td>4.5</td>\n",
       "      <td>Completed</td>\n",
       "      <td>Physical Book</td>\n",
       "      <td>NaN</td>\n",
       "      <td>講談社</td>\n",
       "      <td>講談社文庫</td>\n",
       "      <td>8-May-1989</td>\n",
       "      <td>Fiction</td>\n",
       "      <td>Mystery</td>\n",
       "      <td>jp</td>\n",
       "    </tr>\n",
       "  </tbody>\n",
       "</table>\n",
       "</div>"
      ],
      "text/plain": [
       "  completion date                                Title      author(s)  pages  \\\n",
       "0             NaN                               ボッコちゃん           星 新一    315   \n",
       "1        12-05-20                           三毛猫ホームズの推理          赤川 次郎    368   \n",
       "2        06-24-20                              ミステリ博物館          赤川 次郎    339   \n",
       "3        02-28-19  Jacques the Fatalist and His Master  Denis Diderot    261   \n",
       "4        02-15-18                                   卒業          東野 圭吾    371   \n",
       "\n",
       "  review  rating     status         format platform             publisher  \\\n",
       "0      n     2.0  Completed  Physical Book      NaN                   新潮社   \n",
       "1      y     3.0  Completed         E-Book   Kindle              KADOKAWA   \n",
       "2      n     4.0  Completed  Physical Book      NaN              KADOKAWA   \n",
       "3      y     2.5  Completed  Physical Book      NaN  Penguin Random House   \n",
       "4      y     4.5  Completed  Physical Book      NaN                   講談社   \n",
       "\n",
       "            Imprint publication date     type            genre language  \n",
       "0              新潮文庫      25-May-1971  Fiction  science fiction       jp  \n",
       "1              角川文庫       1-Apr-1984  Fiction          Mystery       jp  \n",
       "2              角川文庫       1-Jul-1985  Fiction          Mystery       jp  \n",
       "3  Penguin Classics      30-Jan-1986  Fiction   Humour/ Satire       jp  \n",
       "4             講談社文庫       8-May-1989  Fiction          Mystery       jp  "
      ]
     },
     "execution_count": 3,
     "metadata": {},
     "output_type": "execute_result"
    }
   ],
   "source": [
    "# examine dataset\n",
    "df.head()"
   ]
  },
  {
   "cell_type": "code",
   "execution_count": 4,
   "id": "6582d077",
   "metadata": {
    "execution": {
     "iopub.execute_input": "2022-06-08T19:58:13.794179Z",
     "iopub.status.busy": "2022-06-08T19:58:13.793176Z",
     "iopub.status.idle": "2022-06-08T19:58:13.817878Z",
     "shell.execute_reply": "2022-06-08T19:58:13.816593Z"
    },
    "papermill": {
     "duration": 0.045996,
     "end_time": "2022-06-08T19:58:13.820196",
     "exception": false,
     "start_time": "2022-06-08T19:58:13.774200",
     "status": "completed"
    },
    "tags": []
   },
   "outputs": [
    {
     "name": "stdout",
     "output_type": "stream",
     "text": [
      "<class 'pandas.core.frame.DataFrame'>\n",
      "RangeIndex: 391 entries, 0 to 390\n",
      "Data columns (total 15 columns):\n",
      " #   Column            Non-Null Count  Dtype  \n",
      "---  ------            --------------  -----  \n",
      " 0   completion date   329 non-null    object \n",
      " 1   Title             391 non-null    object \n",
      " 2   author(s)         391 non-null    object \n",
      " 3   pages             391 non-null    int64  \n",
      " 4   review            384 non-null    object \n",
      " 5   rating            345 non-null    float64\n",
      " 6   status            391 non-null    object \n",
      " 7   format            391 non-null    object \n",
      " 8   platform          100 non-null    object \n",
      " 9   publisher         391 non-null    object \n",
      " 10  Imprint           391 non-null    object \n",
      " 11  publication date  391 non-null    object \n",
      " 12  type              391 non-null    object \n",
      " 13  genre             391 non-null    object \n",
      " 14  language          391 non-null    object \n",
      "dtypes: float64(1), int64(1), object(13)\n",
      "memory usage: 45.9+ KB\n"
     ]
    }
   ],
   "source": [
    "# key information on the data\n",
    "df.info()"
   ]
  },
  {
   "cell_type": "code",
   "execution_count": 5,
   "id": "486844f0",
   "metadata": {
    "execution": {
     "iopub.execute_input": "2022-06-08T19:58:13.858629Z",
     "iopub.status.busy": "2022-06-08T19:58:13.857578Z",
     "iopub.status.idle": "2022-06-08T19:58:13.876558Z",
     "shell.execute_reply": "2022-06-08T19:58:13.875700Z"
    },
    "papermill": {
     "duration": 0.039795,
     "end_time": "2022-06-08T19:58:13.878414",
     "exception": false,
     "start_time": "2022-06-08T19:58:13.838619",
     "status": "completed"
    },
    "tags": []
   },
   "outputs": [
    {
     "data": {
      "text/html": [
       "<div>\n",
       "<style scoped>\n",
       "    .dataframe tbody tr th:only-of-type {\n",
       "        vertical-align: middle;\n",
       "    }\n",
       "\n",
       "    .dataframe tbody tr th {\n",
       "        vertical-align: top;\n",
       "    }\n",
       "\n",
       "    .dataframe thead th {\n",
       "        text-align: right;\n",
       "    }\n",
       "</style>\n",
       "<table border=\"1\" class=\"dataframe\">\n",
       "  <thead>\n",
       "    <tr style=\"text-align: right;\">\n",
       "      <th></th>\n",
       "      <th>pages</th>\n",
       "      <th>rating</th>\n",
       "    </tr>\n",
       "  </thead>\n",
       "  <tbody>\n",
       "    <tr>\n",
       "      <th>count</th>\n",
       "      <td>391.000000</td>\n",
       "      <td>345.000000</td>\n",
       "    </tr>\n",
       "    <tr>\n",
       "      <th>mean</th>\n",
       "      <td>333.826087</td>\n",
       "      <td>3.576087</td>\n",
       "    </tr>\n",
       "    <tr>\n",
       "      <th>std</th>\n",
       "      <td>128.553393</td>\n",
       "      <td>1.057147</td>\n",
       "    </tr>\n",
       "    <tr>\n",
       "      <th>min</th>\n",
       "      <td>31.000000</td>\n",
       "      <td>1.000000</td>\n",
       "    </tr>\n",
       "    <tr>\n",
       "      <th>25%</th>\n",
       "      <td>256.000000</td>\n",
       "      <td>3.000000</td>\n",
       "    </tr>\n",
       "    <tr>\n",
       "      <th>50%</th>\n",
       "      <td>320.000000</td>\n",
       "      <td>4.000000</td>\n",
       "    </tr>\n",
       "    <tr>\n",
       "      <th>75%</th>\n",
       "      <td>384.000000</td>\n",
       "      <td>4.000000</td>\n",
       "    </tr>\n",
       "    <tr>\n",
       "      <th>max</th>\n",
       "      <td>912.000000</td>\n",
       "      <td>5.000000</td>\n",
       "    </tr>\n",
       "  </tbody>\n",
       "</table>\n",
       "</div>"
      ],
      "text/plain": [
       "            pages      rating\n",
       "count  391.000000  345.000000\n",
       "mean   333.826087    3.576087\n",
       "std    128.553393    1.057147\n",
       "min     31.000000    1.000000\n",
       "25%    256.000000    3.000000\n",
       "50%    320.000000    4.000000\n",
       "75%    384.000000    4.000000\n",
       "max    912.000000    5.000000"
      ]
     },
     "execution_count": 5,
     "metadata": {},
     "output_type": "execute_result"
    }
   ],
   "source": [
    "# descriptive stats of the data \n",
    "df.describe()"
   ]
  },
  {
   "cell_type": "markdown",
   "id": "2f88369d",
   "metadata": {
    "papermill": {
     "duration": 0.017412,
     "end_time": "2022-06-08T19:58:13.913333",
     "exception": false,
     "start_time": "2022-06-08T19:58:13.895921",
     "status": "completed"
    },
    "tags": []
   },
   "source": [
    "# Evaluate variables\n",
    "\n",
    "There are some aspects such as title which are too unique and thus very little improvements can be made for such a variable. Focusing on more categorical variables, errors should be minimised as much as possible to ensure an effective analysis of the data.  Working through the variables, the following changes were made to the data: "
   ]
  },
  {
   "cell_type": "code",
   "execution_count": 6,
   "id": "e40e4c50",
   "metadata": {
    "execution": {
     "iopub.execute_input": "2022-06-08T19:58:13.951038Z",
     "iopub.status.busy": "2022-06-08T19:58:13.950368Z",
     "iopub.status.idle": "2022-06-08T19:58:14.013052Z",
     "shell.execute_reply": "2022-06-08T19:58:14.012208Z"
    },
    "papermill": {
     "duration": 0.083709,
     "end_time": "2022-06-08T19:58:14.015258",
     "exception": false,
     "start_time": "2022-06-08T19:58:13.931549",
     "status": "completed"
    },
    "tags": []
   },
   "outputs": [],
   "source": [
    "# ammend publication dates\n",
    "df['publication date'] = pd.to_datetime(df['publication date'])\n",
    "df['publication_year'] = df['publication date'].dt.year\n",
    "df['publication_month'] = df['publication date'].dt.month\n",
    "\n",
    "# ammend completion dates\n",
    "df['completion date'] = pd.to_datetime(df['completion date'])\n",
    "df['completion_year'] = df['completion date'].dt.year\n",
    "df['completion_month'] = df['completion date'].dt.month"
   ]
  },
  {
   "cell_type": "code",
   "execution_count": 7,
   "id": "244dd927",
   "metadata": {
    "execution": {
     "iopub.execute_input": "2022-06-08T19:58:14.053312Z",
     "iopub.status.busy": "2022-06-08T19:58:14.052949Z",
     "iopub.status.idle": "2022-06-08T19:58:14.058911Z",
     "shell.execute_reply": "2022-06-08T19:58:14.057898Z"
    },
    "papermill": {
     "duration": 0.027261,
     "end_time": "2022-06-08T19:58:14.060610",
     "exception": false,
     "start_time": "2022-06-08T19:58:14.033349",
     "status": "completed"
    },
    "tags": []
   },
   "outputs": [
    {
     "data": {
      "text/plain": [
       "62"
      ]
     },
     "execution_count": 7,
     "metadata": {},
     "output_type": "execute_result"
    }
   ],
   "source": [
    "# number of entries with no completion date (includes DNF and unknow completion date books)\n",
    "sum(df[\"completion date\"].isnull())"
   ]
  },
  {
   "cell_type": "code",
   "execution_count": 8,
   "id": "b06d36ec",
   "metadata": {
    "execution": {
     "iopub.execute_input": "2022-06-08T19:58:14.099093Z",
     "iopub.status.busy": "2022-06-08T19:58:14.098465Z",
     "iopub.status.idle": "2022-06-08T19:58:14.118965Z",
     "shell.execute_reply": "2022-06-08T19:58:14.118192Z"
    },
    "papermill": {
     "duration": 0.042065,
     "end_time": "2022-06-08T19:58:14.120814",
     "exception": false,
     "start_time": "2022-06-08T19:58:14.078749",
     "status": "completed"
    },
    "tags": []
   },
   "outputs": [
    {
     "data": {
      "text/html": [
       "<div>\n",
       "<style scoped>\n",
       "    .dataframe tbody tr th:only-of-type {\n",
       "        vertical-align: middle;\n",
       "    }\n",
       "\n",
       "    .dataframe tbody tr th {\n",
       "        vertical-align: top;\n",
       "    }\n",
       "\n",
       "    .dataframe thead th {\n",
       "        text-align: right;\n",
       "    }\n",
       "</style>\n",
       "<table border=\"1\" class=\"dataframe\">\n",
       "  <thead>\n",
       "    <tr style=\"text-align: right;\">\n",
       "      <th></th>\n",
       "      <th>completion date</th>\n",
       "      <th>Title</th>\n",
       "      <th>author(s)</th>\n",
       "      <th>pages</th>\n",
       "      <th>review</th>\n",
       "      <th>rating</th>\n",
       "      <th>status</th>\n",
       "      <th>format</th>\n",
       "      <th>platform</th>\n",
       "      <th>publisher</th>\n",
       "      <th>Imprint</th>\n",
       "      <th>publication date</th>\n",
       "      <th>type</th>\n",
       "      <th>genre</th>\n",
       "      <th>language</th>\n",
       "      <th>publication_year</th>\n",
       "      <th>publication_month</th>\n",
       "      <th>completion_year</th>\n",
       "      <th>completion_month</th>\n",
       "    </tr>\n",
       "  </thead>\n",
       "  <tbody>\n",
       "    <tr>\n",
       "      <th>0</th>\n",
       "      <td>NaT</td>\n",
       "      <td>ボッコちゃん</td>\n",
       "      <td>星 新一</td>\n",
       "      <td>315</td>\n",
       "      <td>n</td>\n",
       "      <td>2.0</td>\n",
       "      <td>Completed</td>\n",
       "      <td>Physical Book</td>\n",
       "      <td>NaN</td>\n",
       "      <td>新潮社</td>\n",
       "      <td>新潮文庫</td>\n",
       "      <td>1971-05-25</td>\n",
       "      <td>Fiction</td>\n",
       "      <td>science fiction</td>\n",
       "      <td>jp</td>\n",
       "      <td>1971</td>\n",
       "      <td>5</td>\n",
       "      <td>NaN</td>\n",
       "      <td>NaN</td>\n",
       "    </tr>\n",
       "    <tr>\n",
       "      <th>6</th>\n",
       "      <td>NaT</td>\n",
       "      <td>注文の多い料理店</td>\n",
       "      <td>宮沢 賢治</td>\n",
       "      <td>358</td>\n",
       "      <td>n</td>\n",
       "      <td>NaN</td>\n",
       "      <td>Completed</td>\n",
       "      <td>Physical Book</td>\n",
       "      <td>NaN</td>\n",
       "      <td>新潮社</td>\n",
       "      <td>新潮文庫</td>\n",
       "      <td>1990-05-29</td>\n",
       "      <td>Fiction</td>\n",
       "      <td>Fantasy</td>\n",
       "      <td>jp</td>\n",
       "      <td>1990</td>\n",
       "      <td>5</td>\n",
       "      <td>NaN</td>\n",
       "      <td>NaN</td>\n",
       "    </tr>\n",
       "    <tr>\n",
       "      <th>21</th>\n",
       "      <td>NaT</td>\n",
       "      <td>どちらかが彼女を殺した</td>\n",
       "      <td>東野 圭吾</td>\n",
       "      <td>356</td>\n",
       "      <td>y</td>\n",
       "      <td>5.0</td>\n",
       "      <td>Completed</td>\n",
       "      <td>Physical Book</td>\n",
       "      <td>NaN</td>\n",
       "      <td>講談社</td>\n",
       "      <td>講談社文庫</td>\n",
       "      <td>1999-05-14</td>\n",
       "      <td>Fiction</td>\n",
       "      <td>Mystery</td>\n",
       "      <td>jp</td>\n",
       "      <td>1999</td>\n",
       "      <td>5</td>\n",
       "      <td>NaN</td>\n",
       "      <td>NaN</td>\n",
       "    </tr>\n",
       "    <tr>\n",
       "      <th>25</th>\n",
       "      <td>NaT</td>\n",
       "      <td>悪意</td>\n",
       "      <td>東野 圭吾</td>\n",
       "      <td>376</td>\n",
       "      <td>y</td>\n",
       "      <td>5.0</td>\n",
       "      <td>Completed</td>\n",
       "      <td>Physical Book</td>\n",
       "      <td>NaN</td>\n",
       "      <td>講談社</td>\n",
       "      <td>講談社文庫</td>\n",
       "      <td>2001-01-17</td>\n",
       "      <td>Fiction</td>\n",
       "      <td>Mystery</td>\n",
       "      <td>jp</td>\n",
       "      <td>2001</td>\n",
       "      <td>1</td>\n",
       "      <td>NaN</td>\n",
       "      <td>NaN</td>\n",
       "    </tr>\n",
       "    <tr>\n",
       "      <th>26</th>\n",
       "      <td>NaT</td>\n",
       "      <td>A Study in Scarlet &amp; The Sign of the Four</td>\n",
       "      <td>Sir Arthur Conan Doyle</td>\n",
       "      <td>224</td>\n",
       "      <td>n</td>\n",
       "      <td>4.0</td>\n",
       "      <td>Completed</td>\n",
       "      <td>Physical Book</td>\n",
       "      <td>NaN</td>\n",
       "      <td>Wordsworth Editions</td>\n",
       "      <td>Wordsworth Editions</td>\n",
       "      <td>2001-12-05</td>\n",
       "      <td>Fiction</td>\n",
       "      <td>Mystery</td>\n",
       "      <td>eng</td>\n",
       "      <td>2001</td>\n",
       "      <td>12</td>\n",
       "      <td>NaN</td>\n",
       "      <td>NaN</td>\n",
       "    </tr>\n",
       "  </tbody>\n",
       "</table>\n",
       "</div>"
      ],
      "text/plain": [
       "   completion date                                      Title  \\\n",
       "0              NaT                                     ボッコちゃん   \n",
       "6              NaT                                   注文の多い料理店   \n",
       "21             NaT                                どちらかが彼女を殺した   \n",
       "25             NaT                                         悪意   \n",
       "26             NaT  A Study in Scarlet & The Sign of the Four   \n",
       "\n",
       "                 author(s)  pages review  rating     status         format  \\\n",
       "0                     星 新一    315      n     2.0  Completed  Physical Book   \n",
       "6                    宮沢 賢治    358      n     NaN  Completed  Physical Book   \n",
       "21                   東野 圭吾    356      y     5.0  Completed  Physical Book   \n",
       "25                   東野 圭吾    376      y     5.0  Completed  Physical Book   \n",
       "26  Sir Arthur Conan Doyle    224      n     4.0  Completed  Physical Book   \n",
       "\n",
       "   platform            publisher              Imprint publication date  \\\n",
       "0       NaN                  新潮社                 新潮文庫       1971-05-25   \n",
       "6       NaN                  新潮社                 新潮文庫       1990-05-29   \n",
       "21      NaN                  講談社                講談社文庫       1999-05-14   \n",
       "25      NaN                  講談社                講談社文庫       2001-01-17   \n",
       "26      NaN  Wordsworth Editions  Wordsworth Editions       2001-12-05   \n",
       "\n",
       "       type            genre language  publication_year  publication_month  \\\n",
       "0   Fiction  science fiction       jp              1971                  5   \n",
       "6   Fiction          Fantasy       jp              1990                  5   \n",
       "21  Fiction          Mystery       jp              1999                  5   \n",
       "25  Fiction          Mystery       jp              2001                  1   \n",
       "26  Fiction          Mystery      eng              2001                 12   \n",
       "\n",
       "    completion_year  completion_month  \n",
       "0               NaN               NaN  \n",
       "6               NaN               NaN  \n",
       "21              NaN               NaN  \n",
       "25              NaN               NaN  \n",
       "26              NaN               NaN  "
      ]
     },
     "execution_count": 8,
     "metadata": {},
     "output_type": "execute_result"
    }
   ],
   "source": [
    "# extract of completed books where date of completion unknown\n",
    "df[(df[\"completion date\"].isnull())& (df[\"status\"]==\"Completed\")].head()"
   ]
  },
  {
   "cell_type": "code",
   "execution_count": 9,
   "id": "01f880fb",
   "metadata": {
    "execution": {
     "iopub.execute_input": "2022-06-08T19:58:14.159849Z",
     "iopub.status.busy": "2022-06-08T19:58:14.159205Z",
     "iopub.status.idle": "2022-06-08T19:58:14.166028Z",
     "shell.execute_reply": "2022-06-08T19:58:14.164811Z"
    },
    "papermill": {
     "duration": 0.028464,
     "end_time": "2022-06-08T19:58:14.167860",
     "exception": false,
     "start_time": "2022-06-08T19:58:14.139396",
     "status": "completed"
    },
    "tags": []
   },
   "outputs": [
    {
     "name": "stdout",
     "output_type": "stream",
     "text": [
      "There are 53 books read but no completion date was recorded.\n"
     ]
    }
   ],
   "source": [
    "# number of books where completion date unknow \n",
    "print(\"There are\", df[(df[\"completion date\"].isnull())& (df[\"status\"]==\"Completed\")].shape[0], \"books read but no completion date was recorded.\")"
   ]
  },
  {
   "cell_type": "code",
   "execution_count": 10,
   "id": "31b2436c",
   "metadata": {
    "execution": {
     "iopub.execute_input": "2022-06-08T19:58:14.206892Z",
     "iopub.status.busy": "2022-06-08T19:58:14.206108Z",
     "iopub.status.idle": "2022-06-08T19:58:14.213826Z",
     "shell.execute_reply": "2022-06-08T19:58:14.212872Z"
    },
    "papermill": {
     "duration": 0.028752,
     "end_time": "2022-06-08T19:58:14.215608",
     "exception": false,
     "start_time": "2022-06-08T19:58:14.186856",
     "status": "completed"
    },
    "tags": []
   },
   "outputs": [
    {
     "data": {
      "text/plain": [
       "0     No\n",
       "1    Yes\n",
       "2     No\n",
       "3    Yes\n",
       "4    Yes\n",
       "Name: review, dtype: object"
      ]
     },
     "execution_count": 10,
     "metadata": {},
     "output_type": "execute_result"
    }
   ],
   "source": [
    "# update review column responses\n",
    "df[\"review\"].replace({\"y\": \"Yes\", \"n\":\"No\"}, inplace = True)\n",
    "df[\"review\"].head()"
   ]
  },
  {
   "cell_type": "code",
   "execution_count": 11,
   "id": "b16a9003",
   "metadata": {
    "execution": {
     "iopub.execute_input": "2022-06-08T19:58:14.256037Z",
     "iopub.status.busy": "2022-06-08T19:58:14.255434Z",
     "iopub.status.idle": "2022-06-08T19:58:14.262604Z",
     "shell.execute_reply": "2022-06-08T19:58:14.261725Z"
    },
    "papermill": {
     "duration": 0.028832,
     "end_time": "2022-06-08T19:58:14.264438",
     "exception": false,
     "start_time": "2022-06-08T19:58:14.235606",
     "status": "completed"
    },
    "tags": []
   },
   "outputs": [
    {
     "data": {
      "text/plain": [
       "Audible      25\n",
       "Libby        25\n",
       "BorrowBox    24\n",
       "Kindle       17\n",
       "Unknown       7\n",
       "Youtube       2\n",
       "Name: platform, dtype: int64"
      ]
     },
     "execution_count": 11,
     "metadata": {},
     "output_type": "execute_result"
    }
   ],
   "source": [
    "# distribution of platform types\n",
    "df[\"platform\"].value_counts()"
   ]
  },
  {
   "cell_type": "code",
   "execution_count": 12,
   "id": "94a04ec5",
   "metadata": {
    "execution": {
     "iopub.execute_input": "2022-06-08T19:58:14.303821Z",
     "iopub.status.busy": "2022-06-08T19:58:14.303423Z",
     "iopub.status.idle": "2022-06-08T19:58:14.308503Z",
     "shell.execute_reply": "2022-06-08T19:58:14.307536Z"
    },
    "papermill": {
     "duration": 0.026857,
     "end_time": "2022-06-08T19:58:14.310435",
     "exception": false,
     "start_time": "2022-06-08T19:58:14.283578",
     "status": "completed"
    },
    "tags": []
   },
   "outputs": [],
   "source": [
    "# merge youtube and unknow  to unknown\n",
    "df[\"platform\"].replace({\"Youtube\": \"Unknown\"}, inplace = True)"
   ]
  },
  {
   "cell_type": "code",
   "execution_count": 13,
   "id": "1cbff828",
   "metadata": {
    "execution": {
     "iopub.execute_input": "2022-06-08T19:58:14.349296Z",
     "iopub.status.busy": "2022-06-08T19:58:14.348577Z",
     "iopub.status.idle": "2022-06-08T19:58:14.354144Z",
     "shell.execute_reply": "2022-06-08T19:58:14.353443Z"
    },
    "papermill": {
     "duration": 0.026322,
     "end_time": "2022-06-08T19:58:14.355827",
     "exception": false,
     "start_time": "2022-06-08T19:58:14.329505",
     "status": "completed"
    },
    "tags": []
   },
   "outputs": [
    {
     "data": {
      "text/plain": [
       "36"
      ]
     },
     "execution_count": 13,
     "metadata": {},
     "output_type": "execute_result"
    }
   ],
   "source": [
    "# number of unique genres\n",
    "df[\"genre\"].nunique()"
   ]
  },
  {
   "cell_type": "code",
   "execution_count": 14,
   "id": "774ed311",
   "metadata": {
    "execution": {
     "iopub.execute_input": "2022-06-08T19:58:14.394846Z",
     "iopub.status.busy": "2022-06-08T19:58:14.394048Z",
     "iopub.status.idle": "2022-06-08T19:58:14.400161Z",
     "shell.execute_reply": "2022-06-08T19:58:14.399552Z"
    },
    "papermill": {
     "duration": 0.027182,
     "end_time": "2022-06-08T19:58:14.401716",
     "exception": false,
     "start_time": "2022-06-08T19:58:14.374534",
     "status": "completed"
    },
    "tags": []
   },
   "outputs": [
    {
     "data": {
      "text/plain": [
       "array(['science fiction', 'Mystery', 'Humour/ Satire', 'Literary Fiction',\n",
       "       'Fantasy', 'Romance', 'Science Fiction', 'Bildungsroman',\n",
       "       'Self Help', 'Picture book', 'Magical realism', 'Thriller',\n",
       "       'Economics', 'Horror', 'Contemporary', 'Mathematics',\n",
       "       'Self-Esteem', '経済小説', 'Dystopian', 'science', '経営書', 'Psychology',\n",
       "       '仕事小説', 'Fashion', 'Humour Encyclopaedias', 'Realist Literature',\n",
       "       'Physical Chemistry', 'Data', 'Law', 'Business', 'Adventure',\n",
       "       'Applied Physics', 'History', 'Biographies',\n",
       "       'Essays, Journals & Letters', 'Architectural History'],\n",
       "      dtype=object)"
      ]
     },
     "execution_count": 14,
     "metadata": {},
     "output_type": "execute_result"
    }
   ],
   "source": [
    "# list of genres\n",
    "df[\"genre\"].unique()"
   ]
  },
  {
   "cell_type": "code",
   "execution_count": 15,
   "id": "3a4cca13",
   "metadata": {
    "execution": {
     "iopub.execute_input": "2022-06-08T19:58:14.440974Z",
     "iopub.status.busy": "2022-06-08T19:58:14.440415Z",
     "iopub.status.idle": "2022-06-08T19:58:14.454335Z",
     "shell.execute_reply": "2022-06-08T19:58:14.453365Z"
    },
    "papermill": {
     "duration": 0.036764,
     "end_time": "2022-06-08T19:58:14.456977",
     "exception": false,
     "start_time": "2022-06-08T19:58:14.420213",
     "status": "completed"
    },
    "tags": []
   },
   "outputs": [
    {
     "name": "stdout",
     "output_type": "stream",
     "text": [
      "<class 'pandas.core.frame.DataFrame'>\n",
      "RangeIndex: 391 entries, 0 to 390\n",
      "Data columns (total 19 columns):\n",
      " #   Column             Non-Null Count  Dtype         \n",
      "---  ------             --------------  -----         \n",
      " 0   completion date    329 non-null    datetime64[ns]\n",
      " 1   Title              391 non-null    object        \n",
      " 2   author(s)          391 non-null    object        \n",
      " 3   pages              391 non-null    int64         \n",
      " 4   review             384 non-null    object        \n",
      " 5   rating             345 non-null    float64       \n",
      " 6   status             391 non-null    object        \n",
      " 7   format             391 non-null    object        \n",
      " 8   platform           100 non-null    object        \n",
      " 9   publisher          391 non-null    object        \n",
      " 10  Imprint            391 non-null    object        \n",
      " 11  publication date   391 non-null    datetime64[ns]\n",
      " 12  type               391 non-null    object        \n",
      " 13  genre              391 non-null    object        \n",
      " 14  language           391 non-null    object        \n",
      " 15  publication_year   391 non-null    int64         \n",
      " 16  publication_month  391 non-null    int64         \n",
      " 17  completion_year    329 non-null    float64       \n",
      " 18  completion_month   329 non-null    float64       \n",
      "dtypes: datetime64[ns](2), float64(3), int64(3), object(11)\n",
      "memory usage: 58.2+ KB\n"
     ]
    }
   ],
   "source": [
    "# revised information on the data\n",
    "df.info()"
   ]
  },
  {
   "cell_type": "code",
   "execution_count": 16,
   "id": "8fc9c149",
   "metadata": {
    "execution": {
     "iopub.execute_input": "2022-06-08T19:58:14.495909Z",
     "iopub.status.busy": "2022-06-08T19:58:14.495139Z",
     "iopub.status.idle": "2022-06-08T19:58:14.501902Z",
     "shell.execute_reply": "2022-06-08T19:58:14.500776Z"
    },
    "papermill": {
     "duration": 0.028019,
     "end_time": "2022-06-08T19:58:14.503788",
     "exception": false,
     "start_time": "2022-06-08T19:58:14.475769",
     "status": "completed"
    },
    "tags": []
   },
   "outputs": [
    {
     "data": {
      "text/plain": [
       "array(['jp', 'eng'], dtype=object)"
      ]
     },
     "execution_count": 16,
     "metadata": {},
     "output_type": "execute_result"
    }
   ],
   "source": [
    "# view data in language column\n",
    "df[\"language\"].unique()"
   ]
  },
  {
   "cell_type": "code",
   "execution_count": 17,
   "id": "2db33c68",
   "metadata": {
    "execution": {
     "iopub.execute_input": "2022-06-08T19:58:14.544393Z",
     "iopub.status.busy": "2022-06-08T19:58:14.544033Z",
     "iopub.status.idle": "2022-06-08T19:58:14.552431Z",
     "shell.execute_reply": "2022-06-08T19:58:14.551718Z"
    },
    "papermill": {
     "duration": 0.031178,
     "end_time": "2022-06-08T19:58:14.554166",
     "exception": false,
     "start_time": "2022-06-08T19:58:14.522988",
     "status": "completed"
    },
    "tags": []
   },
   "outputs": [
    {
     "data": {
      "text/plain": [
       "0      Japanese\n",
       "1      Japanese\n",
       "2      Japanese\n",
       "3      Japanese\n",
       "4      Japanese\n",
       "         ...   \n",
       "386     English\n",
       "387     English\n",
       "388     English\n",
       "389     English\n",
       "390     English\n",
       "Name: language, Length: 391, dtype: object"
      ]
     },
     "execution_count": 17,
     "metadata": {},
     "output_type": "execute_result"
    }
   ],
   "source": [
    "# update language variables to Japanese and English for clarity\n",
    "df[\"language\"].replace({\"jp\": \"Japanese\", \"eng\":\"English\"}, inplace = True)\n",
    "df[\"language\"]"
   ]
  },
  {
   "cell_type": "code",
   "execution_count": 18,
   "id": "f14c9ab9",
   "metadata": {
    "execution": {
     "iopub.execute_input": "2022-06-08T19:58:14.593873Z",
     "iopub.status.busy": "2022-06-08T19:58:14.593248Z",
     "iopub.status.idle": "2022-06-08T19:58:14.599671Z",
     "shell.execute_reply": "2022-06-08T19:58:14.598947Z"
    },
    "papermill": {
     "duration": 0.028274,
     "end_time": "2022-06-08T19:58:14.601441",
     "exception": false,
     "start_time": "2022-06-08T19:58:14.573167",
     "status": "completed"
    },
    "tags": []
   },
   "outputs": [
    {
     "data": {
      "text/plain": [
       "Completed     381\n",
       "DNF             8\n",
       "incomplete      1\n",
       "TBR             1\n",
       "Name: status, dtype: int64"
      ]
     },
     "execution_count": 18,
     "metadata": {},
     "output_type": "execute_result"
    }
   ],
   "source": [
    "# view distrubution of status\n",
    "df[\"status\"].value_counts()"
   ]
  },
  {
   "cell_type": "code",
   "execution_count": 19,
   "id": "bd9d5c92",
   "metadata": {
    "execution": {
     "iopub.execute_input": "2022-06-08T19:58:14.641025Z",
     "iopub.status.busy": "2022-06-08T19:58:14.640430Z",
     "iopub.status.idle": "2022-06-08T19:58:14.645905Z",
     "shell.execute_reply": "2022-06-08T19:58:14.645208Z"
    },
    "papermill": {
     "duration": 0.027348,
     "end_time": "2022-06-08T19:58:14.647707",
     "exception": false,
     "start_time": "2022-06-08T19:58:14.620359",
     "status": "completed"
    },
    "tags": []
   },
   "outputs": [],
   "source": [
    "# update incomplete to Incomplete\n",
    "df[\"status\"].replace({\"incomplete\": \"Incomplete\"}, inplace = True)\n",
    "\n",
    "# Merge Incomplete and TBR to other\n",
    "df[\"status\"].replace({\"Incomplete\": \"Other\", \"TBR\": \"Other\"}, inplace = True)"
   ]
  },
  {
   "cell_type": "code",
   "execution_count": 20,
   "id": "731a5e13",
   "metadata": {
    "execution": {
     "iopub.execute_input": "2022-06-08T19:58:14.686809Z",
     "iopub.status.busy": "2022-06-08T19:58:14.686191Z",
     "iopub.status.idle": "2022-06-08T19:58:14.692569Z",
     "shell.execute_reply": "2022-06-08T19:58:14.691725Z"
    },
    "papermill": {
     "duration": 0.027897,
     "end_time": "2022-06-08T19:58:14.694397",
     "exception": false,
     "start_time": "2022-06-08T19:58:14.666500",
     "status": "completed"
    },
    "tags": []
   },
   "outputs": [
    {
     "data": {
      "text/plain": [
       "Fiction       341\n",
       "Nonfiction     50\n",
       "Name: type, dtype: int64"
      ]
     },
     "execution_count": 20,
     "metadata": {},
     "output_type": "execute_result"
    }
   ],
   "source": [
    "# view data in type\n",
    "df[\"type\"].value_counts()"
   ]
  },
  {
   "cell_type": "markdown",
   "id": "1b1f2122",
   "metadata": {
    "papermill": {
     "duration": 0.018152,
     "end_time": "2022-06-08T19:58:14.731359",
     "exception": false,
     "start_time": "2022-06-08T19:58:14.713207",
     "status": "completed"
    },
    "tags": []
   },
   "source": [
    "# EDA"
   ]
  },
  {
   "cell_type": "code",
   "execution_count": 21,
   "id": "872a2677",
   "metadata": {
    "execution": {
     "iopub.execute_input": "2022-06-08T19:58:14.770531Z",
     "iopub.status.busy": "2022-06-08T19:58:14.769928Z",
     "iopub.status.idle": "2022-06-08T19:58:14.947579Z",
     "shell.execute_reply": "2022-06-08T19:58:14.946966Z"
    },
    "papermill": {
     "duration": 0.20087,
     "end_time": "2022-06-08T19:58:14.950972",
     "exception": false,
     "start_time": "2022-06-08T19:58:14.750102",
     "status": "completed"
    },
    "tags": []
   },
   "outputs": [
    {
     "data": {
      "image/png": "[encoded data removed]",
      "text/plain": [
       "<Figure size 1080x720 with 1 Axes>"
      ]
     },
     "metadata": {},
     "output_type": "display_data"
    }
   ],
   "source": [
    "# visualisation of status data \n",
    "plt.figure(figsize = (15,10))\n",
    "sns.countplot(x = \"status\", data = df)\n",
    "plt.show()"
   ]
  },
  {
   "cell_type": "markdown",
   "id": "c863a546",
   "metadata": {
    "papermill": {
     "duration": 0.01893,
     "end_time": "2022-06-08T19:58:14.989204",
     "exception": false,
     "start_time": "2022-06-08T19:58:14.970274",
     "status": "completed"
    },
    "tags": []
   },
   "source": [
    "## DNF"
   ]
  },
  {
   "cell_type": "code",
   "execution_count": 22,
   "id": "97dd7453",
   "metadata": {
    "execution": {
     "iopub.execute_input": "2022-06-08T19:58:15.029463Z",
     "iopub.status.busy": "2022-06-08T19:58:15.028869Z",
     "iopub.status.idle": "2022-06-08T19:58:15.034511Z",
     "shell.execute_reply": "2022-06-08T19:58:15.033856Z"
    },
    "papermill": {
     "duration": 0.027888,
     "end_time": "2022-06-08T19:58:15.036363",
     "exception": false,
     "start_time": "2022-06-08T19:58:15.008475",
     "status": "completed"
    },
    "tags": []
   },
   "outputs": [],
   "source": [
    "# seperate data to DNF and completed (note there are \"others\")\n",
    "DNF = df[df[\"status\"]==\"DNF\"]\n",
    "Completed = df[df[\"status\"]==\"Completed\"]"
   ]
  },
  {
   "cell_type": "code",
   "execution_count": 23,
   "id": "b8b29995",
   "metadata": {
    "execution": {
     "iopub.execute_input": "2022-06-08T19:58:15.076551Z",
     "iopub.status.busy": "2022-06-08T19:58:15.075932Z",
     "iopub.status.idle": "2022-06-08T19:58:15.080968Z",
     "shell.execute_reply": "2022-06-08T19:58:15.079835Z"
    },
    "papermill": {
     "duration": 0.02742,
     "end_time": "2022-06-08T19:58:15.082913",
     "exception": false,
     "start_time": "2022-06-08T19:58:15.055493",
     "status": "completed"
    },
    "tags": []
   },
   "outputs": [
    {
     "name": "stdout",
     "output_type": "stream",
     "text": [
      "2375 pages were DNFed\n"
     ]
    }
   ],
   "source": [
    "# number of DNF pages\n",
    "print(sum(DNF[\"pages\"]), \"pages were DNFed\")"
   ]
  },
  {
   "cell_type": "code",
   "execution_count": 24,
   "id": "05fc0628",
   "metadata": {
    "execution": {
     "iopub.execute_input": "2022-06-08T19:58:15.124025Z",
     "iopub.status.busy": "2022-06-08T19:58:15.123624Z",
     "iopub.status.idle": "2022-06-08T19:58:15.130284Z",
     "shell.execute_reply": "2022-06-08T19:58:15.129619Z"
    },
    "papermill": {
     "duration": 0.028648,
     "end_time": "2022-06-08T19:58:15.131952",
     "exception": false,
     "start_time": "2022-06-08T19:58:15.103304",
     "status": "completed"
    },
    "tags": []
   },
   "outputs": [
    {
     "data": {
      "text/plain": [
       "Audiobook        7\n",
       "Physical Book    1\n",
       "Name: format, dtype: int64"
      ]
     },
     "execution_count": 24,
     "metadata": {},
     "output_type": "execute_result"
    }
   ],
   "source": [
    "# format of DNFed books\n",
    "DNF[\"format\"].value_counts()"
   ]
  },
  {
   "cell_type": "code",
   "execution_count": 25,
   "id": "3891d0bd",
   "metadata": {
    "execution": {
     "iopub.execute_input": "2022-06-08T19:58:15.173197Z",
     "iopub.status.busy": "2022-06-08T19:58:15.172590Z",
     "iopub.status.idle": "2022-06-08T19:58:15.178379Z",
     "shell.execute_reply": "2022-06-08T19:58:15.177206Z"
    },
    "papermill": {
     "duration": 0.028827,
     "end_time": "2022-06-08T19:58:15.180436",
     "exception": false,
     "start_time": "2022-06-08T19:58:15.151609",
     "status": "completed"
    },
    "tags": []
   },
   "outputs": [
    {
     "name": "stdout",
     "output_type": "stream",
     "text": [
      "No duplicated authors\n"
     ]
    }
   ],
   "source": [
    "if DNF[\"author(s)\"].nunique() ==DNF.shape[0]:\n",
    "    print(\"No duplicated authors\")\n",
    "else:\n",
    "    print(\"there is an author you should avoid\")"
   ]
  },
  {
   "cell_type": "code",
   "execution_count": 26,
   "id": "c79963c5",
   "metadata": {
    "execution": {
     "iopub.execute_input": "2022-06-08T19:58:15.222557Z",
     "iopub.status.busy": "2022-06-08T19:58:15.221543Z",
     "iopub.status.idle": "2022-06-08T19:58:15.228076Z",
     "shell.execute_reply": "2022-06-08T19:58:15.227418Z"
    },
    "papermill": {
     "duration": 0.029185,
     "end_time": "2022-06-08T19:58:15.229839",
     "exception": false,
     "start_time": "2022-06-08T19:58:15.200654",
     "status": "completed"
    },
    "tags": []
   },
   "outputs": [
    {
     "data": {
      "text/plain": [
       "8"
      ]
     },
     "execution_count": 26,
     "metadata": {},
     "output_type": "execute_result"
    }
   ],
   "source": [
    "DNF[\"publisher\"].nunique()"
   ]
  },
  {
   "cell_type": "code",
   "execution_count": 27,
   "id": "c4aae561",
   "metadata": {
    "execution": {
     "iopub.execute_input": "2022-06-08T19:58:15.272113Z",
     "iopub.status.busy": "2022-06-08T19:58:15.270944Z",
     "iopub.status.idle": "2022-06-08T19:58:15.279474Z",
     "shell.execute_reply": "2022-06-08T19:58:15.278336Z"
    },
    "papermill": {
     "duration": 0.031657,
     "end_time": "2022-06-08T19:58:15.281252",
     "exception": false,
     "start_time": "2022-06-08T19:58:15.249595",
     "status": "completed"
    },
    "tags": []
   },
   "outputs": [
    {
     "data": {
      "text/plain": [
       "BorrowBox    3\n",
       "Audible      2\n",
       "Libby        2\n",
       "Name: platform, dtype: int64"
      ]
     },
     "execution_count": 27,
     "metadata": {},
     "output_type": "execute_result"
    }
   ],
   "source": [
    "DNF[\"platform\"].value_counts()"
   ]
  },
  {
   "cell_type": "code",
   "execution_count": 28,
   "id": "ceb17ba8",
   "metadata": {
    "execution": {
     "iopub.execute_input": "2022-06-08T19:58:15.323507Z",
     "iopub.status.busy": "2022-06-08T19:58:15.323039Z",
     "iopub.status.idle": "2022-06-08T19:58:16.515256Z",
     "shell.execute_reply": "2022-06-08T19:58:16.514300Z"
    },
    "papermill": {
     "duration": 1.217,
     "end_time": "2022-06-08T19:58:16.517772",
     "exception": false,
     "start_time": "2022-06-08T19:58:15.300772",
     "status": "completed"
    },
    "tags": []
   },
   "outputs": [
    {
     "data": {
      "text/html": [
       "        <script type=\"text/javascript\">\n",
       "        window.PlotlyConfig = {MathJaxConfig: 'local'};\n",
       "        if (window.MathJax && window.MathJax.Hub && window.MathJax.Hub.Config) {window.MathJax.Hub.Config({SVG: {font: \"STIX-Web\"}});}\n",
       "        if (typeof require !== 'undefined') {\n",
       "        require.undef(\"plotly\");\n",
       "        requirejs.config({\n",
       "            paths: {\n",
       "                'plotly': ['https://cdn.plot.ly/plotly-2.12.1.min']\n",
       "            }\n",
       "        });\n",
       "        require(['plotly'], function(Plotly) {\n",
       "            window._Plotly = Plotly;\n",
       "        });\n",
       "        }\n",
       "        </script>\n",
       "        "
      ]
     },
     "metadata": {},
     "output_type": "display_data"
    },
    {
     "data": {
      "text/html": [
       "<div>                            <div id=\"453eec8d-886f-4c5b-843b-86ce23745a15\" class=\"plotly-graph-div\" style=\"height:525px; width:100%;\"></div>            <script type=\"text/javascript\">                require([\"plotly\"], function(Plotly) {                    window.PLOTLYENV=window.PLOTLYENV || {};                                    if (document.getElementById(\"453eec8d-886f-4c5b-843b-86ce23745a15\")) {                    Plotly.newPlot(                        \"453eec8d-886f-4c5b-843b-86ce23745a15\",                        [{\"alignmentgroup\":\"True\",\"bingroup\":\"x\",\"hovertemplate\":\"publication_year=%{x}<br>count=%{y}<extra></extra>\",\"legendgroup\":\"\",\"marker\":{\"color\":\"#636efa\",\"pattern\":{\"shape\":\"\"}},\"name\":\"\",\"nbinsx\":5,\"offsetgroup\":\"\",\"orientation\":\"v\",\"showlegend\":false,\"x\":[2007,2013,2013,2017,2017,2019,2021,2022],\"xaxis\":\"x\",\"yaxis\":\"y\",\"type\":\"histogram\"}],                        {\"template\":{\"data\":{\"histogram2dcontour\":[{\"type\":\"histogram2dcontour\",\"colorbar\":{\"outlinewidth\":0,\"ticks\":\"\"},\"colorscale\":[[0.0,\"#0d0887\"],[0.1111111111111111,\"#46039f\"],[0.2222222222222222,\"#7201a8\"],[0.3333333333333333,\"#9c179e\"],[0.4444444444444444,\"#bd3786\"],[0.5555555555555556,\"#d8576b\"],[0.6666666666666666,\"#ed7953\"],[0.7777777777777778,\"#fb9f3a\"],[0.8888888888888888,\"#fdca26\"],[1.0,\"#f0f921\"]]}],\"choropleth\":[{\"type\":\"choropleth\",\"colorbar\":{\"outlinewidth\":0,\"ticks\":\"\"}}],\"histogram2d\":[{\"type\":\"histogram2d\",\"colorbar\":{\"outlinewidth\":0,\"ticks\":\"\"},\"colorscale\":[[0.0,\"#0d0887\"],[0.1111111111111111,\"#46039f\"],[0.2222222222222222,\"#7201a8\"],[0.3333333333333333,\"#9c179e\"],[0.4444444444444444,\"#bd3786\"],[0.5555555555555556,\"#d8576b\"],[0.6666666666666666,\"#ed7953\"],[0.7777777777777778,\"#fb9f3a\"],[0.8888888888888888,\"#fdca26\"],[1.0,\"#f0f921\"]]}],\"heatmap\":[{\"type\":\"heatmap\",\"colorbar\":{\"outlinewidth\":0,\"ticks\":\"\"},\"colorscale\":[[0.0,\"#0d0887\"],[0.1111111111111111,\"#46039f\"],[0.2222222222222222,\"#7201a8\"],[0.3333333333333333,\"#9c179e\"],[0.4444444444444444,\"#bd3786\"],[0.5555555555555556,\"#d8576b\"],[0.6666666666666666,\"#ed7953\"],[0.7777777777777778,\"#fb9f3a\"],[0.8888888888888888,\"#fdca26\"],[1.0,\"#f0f921\"]]}],\"heatmapgl\":[{\"type\":\"heatmapgl\",\"colorbar\":{\"outlinewidth\":0,\"ticks\":\"\"},\"colorscale\":[[0.0,\"#0d0887\"],[0.1111111111111111,\"#46039f\"],[0.2222222222222222,\"#7201a8\"],[0.3333333333333333,\"#9c179e\"],[0.4444444444444444,\"#bd3786\"],[0.5555555555555556,\"#d8576b\"],[0.6666666666666666,\"#ed7953\"],[0.7777777777777778,\"#fb9f3a\"],[0.8888888888888888,\"#fdca26\"],[1.0,\"#f0f921\"]]}],\"contourcarpet\":[{\"type\":\"contourcarpet\",\"colorbar\":{\"outlinewidth\":0,\"ticks\":\"\"}}],\"contour\":[{\"type\":\"contour\",\"colorbar\":{\"outlinewidth\":0,\"ticks\":\"\"},\"colorscale\":[[0.0,\"#0d0887\"],[0.1111111111111111,\"#46039f\"],[0.2222222222222222,\"#7201a8\"],[0.3333333333333333,\"#9c179e\"],[0.4444444444444444,\"#bd3786\"],[0.5555555555555556,\"#d8576b\"],[0.6666666666666666,\"#ed7953\"],[0.7777777777777778,\"#fb9f3a\"],[0.8888888888888888,\"#fdca26\"],[1.0,\"#f0f921\"]]}],\"surface\":[{\"type\":\"surface\",\"colorbar\":{\"outlinewidth\":0,\"ticks\":\"\"},\"colorscale\":[[0.0,\"#0d0887\"],[0.1111111111111111,\"#46039f\"],[0.2222222222222222,\"#7201a8\"],[0.3333333333333333,\"#9c179e\"],[0.4444444444444444,\"#bd3786\"],[0.5555555555555556,\"#d8576b\"],[0.6666666666666666,\"#ed7953\"],[0.7777777777777778,\"#fb9f3a\"],[0.8888888888888888,\"#fdca26\"],[1.0,\"#f0f921\"]]}],\"mesh3d\":[{\"type\":\"mesh3d\",\"colorbar\":{\"outlinewidth\":0,\"ticks\":\"\"}}],\"scatter\":[{\"fillpattern\":{\"fillmode\":\"overlay\",\"size\":10,\"solidity\":0.2},\"type\":\"scatter\"}],\"parcoords\":[{\"type\":\"parcoords\",\"line\":{\"colorbar\":{\"outlinewidth\":0,\"ticks\":\"\"}}}],\"scatterpolargl\":[{\"type\":\"scatterpolargl\",\"marker\":{\"colorbar\":{\"outlinewidth\":0,\"ticks\":\"\"}}}],\"bar\":[{\"error_x\":{\"color\":\"#2a3f5f\"},\"error_y\":{\"color\":\"#2a3f5f\"},\"marker\":{\"line\":{\"color\":\"#E5ECF6\",\"width\":0.5},\"pattern\":{\"fillmode\":\"overlay\",\"size\":10,\"solidity\":0.2}},\"type\":\"bar\"}],\"scattergeo\":[{\"type\":\"scattergeo\",\"marker\":{\"colorbar\":{\"outlinewidth\":0,\"ticks\":\"\"}}}],\"scatterpolar\":[{\"type\":\"scatterpolar\",\"marker\":{\"colorbar\":{\"outlinewidth\":0,\"ticks\":\"\"}}}],\"histogram\":[{\"marker\":{\"pattern\":{\"fillmode\":\"overlay\",\"size\":10,\"solidity\":0.2}},\"type\":\"histogram\"}],\"scattergl\":[{\"type\":\"scattergl\",\"marker\":{\"colorbar\":{\"outlinewidth\":0,\"ticks\":\"\"}}}],\"scatter3d\":[{\"type\":\"scatter3d\",\"line\":{\"colorbar\":{\"outlinewidth\":0,\"ticks\":\"\"}},\"marker\":{\"colorbar\":{\"outlinewidth\":0,\"ticks\":\"\"}}}],\"scattermapbox\":[{\"type\":\"scattermapbox\",\"marker\":{\"colorbar\":{\"outlinewidth\":0,\"ticks\":\"\"}}}],\"scatterternary\":[{\"type\":\"scatterternary\",\"marker\":{\"colorbar\":{\"outlinewidth\":0,\"ticks\":\"\"}}}],\"scattercarpet\":[{\"type\":\"scattercarpet\",\"marker\":{\"colorbar\":{\"outlinewidth\":0,\"ticks\":\"\"}}}],\"carpet\":[{\"aaxis\":{\"endlinecolor\":\"#2a3f5f\",\"gridcolor\":\"white\",\"linecolor\":\"white\",\"minorgridcolor\":\"white\",\"startlinecolor\":\"#2a3f5f\"},\"baxis\":{\"endlinecolor\":\"#2a3f5f\",\"gridcolor\":\"white\",\"linecolor\":\"white\",\"minorgridcolor\":\"white\",\"startlinecolor\":\"#2a3f5f\"},\"type\":\"carpet\"}],\"table\":[{\"cells\":{\"fill\":{\"color\":\"#EBF0F8\"},\"line\":{\"color\":\"white\"}},\"header\":{\"fill\":{\"color\":\"#C8D4E3\"},\"line\":{\"color\":\"white\"}},\"type\":\"table\"}],\"barpolar\":[{\"marker\":{\"line\":{\"color\":\"#E5ECF6\",\"width\":0.5},\"pattern\":{\"fillmode\":\"overlay\",\"size\":10,\"solidity\":0.2}},\"type\":\"barpolar\"}],\"pie\":[{\"automargin\":true,\"type\":\"pie\"}]},\"layout\":{\"autotypenumbers\":\"strict\",\"colorway\":[\"#636efa\",\"#EF553B\",\"#00cc96\",\"#ab63fa\",\"#FFA15A\",\"#19d3f3\",\"#FF6692\",\"#B6E880\",\"#FF97FF\",\"#FECB52\"],\"font\":{\"color\":\"#2a3f5f\"},\"hovermode\":\"closest\",\"hoverlabel\":{\"align\":\"left\"},\"paper_bgcolor\":\"white\",\"plot_bgcolor\":\"#E5ECF6\",\"polar\":{\"bgcolor\":\"#E5ECF6\",\"angularaxis\":{\"gridcolor\":\"white\",\"linecolor\":\"white\",\"ticks\":\"\"},\"radialaxis\":{\"gridcolor\":\"white\",\"linecolor\":\"white\",\"ticks\":\"\"}},\"ternary\":{\"bgcolor\":\"#E5ECF6\",\"aaxis\":{\"gridcolor\":\"white\",\"linecolor\":\"white\",\"ticks\":\"\"},\"baxis\":{\"gridcolor\":\"white\",\"linecolor\":\"white\",\"ticks\":\"\"},\"caxis\":{\"gridcolor\":\"white\",\"linecolor\":\"white\",\"ticks\":\"\"}},\"coloraxis\":{\"colorbar\":{\"outlinewidth\":0,\"ticks\":\"\"}},\"colorscale\":{\"sequential\":[[0.0,\"#0d0887\"],[0.1111111111111111,\"#46039f\"],[0.2222222222222222,\"#7201a8\"],[0.3333333333333333,\"#9c179e\"],[0.4444444444444444,\"#bd3786\"],[0.5555555555555556,\"#d8576b\"],[0.6666666666666666,\"#ed7953\"],[0.7777777777777778,\"#fb9f3a\"],[0.8888888888888888,\"#fdca26\"],[1.0,\"#f0f921\"]],\"sequentialminus\":[[0.0,\"#0d0887\"],[0.1111111111111111,\"#46039f\"],[0.2222222222222222,\"#7201a8\"],[0.3333333333333333,\"#9c179e\"],[0.4444444444444444,\"#bd3786\"],[0.5555555555555556,\"#d8576b\"],[0.6666666666666666,\"#ed7953\"],[0.7777777777777778,\"#fb9f3a\"],[0.8888888888888888,\"#fdca26\"],[1.0,\"#f0f921\"]],\"diverging\":[[0,\"#8e0152\"],[0.1,\"#c51b7d\"],[0.2,\"#de77ae\"],[0.3,\"#f1b6da\"],[0.4,\"#fde0ef\"],[0.5,\"#f7f7f7\"],[0.6,\"#e6f5d0\"],[0.7,\"#b8e186\"],[0.8,\"#7fbc41\"],[0.9,\"#4d9221\"],[1,\"#276419\"]]},\"xaxis\":{\"gridcolor\":\"white\",\"linecolor\":\"white\",\"ticks\":\"\",\"title\":{\"standoff\":15},\"zerolinecolor\":\"white\",\"automargin\":true,\"zerolinewidth\":2},\"yaxis\":{\"gridcolor\":\"white\",\"linecolor\":\"white\",\"ticks\":\"\",\"title\":{\"standoff\":15},\"zerolinecolor\":\"white\",\"automargin\":true,\"zerolinewidth\":2},\"scene\":{\"xaxis\":{\"backgroundcolor\":\"#E5ECF6\",\"gridcolor\":\"white\",\"linecolor\":\"white\",\"showbackground\":true,\"ticks\":\"\",\"zerolinecolor\":\"white\",\"gridwidth\":2},\"yaxis\":{\"backgroundcolor\":\"#E5ECF6\",\"gridcolor\":\"white\",\"linecolor\":\"white\",\"showbackground\":true,\"ticks\":\"\",\"zerolinecolor\":\"white\",\"gridwidth\":2},\"zaxis\":{\"backgroundcolor\":\"#E5ECF6\",\"gridcolor\":\"white\",\"linecolor\":\"white\",\"showbackground\":true,\"ticks\":\"\",\"zerolinecolor\":\"white\",\"gridwidth\":2}},\"shapedefaults\":{\"line\":{\"color\":\"#2a3f5f\"}},\"annotationdefaults\":{\"arrowcolor\":\"#2a3f5f\",\"arrowhead\":0,\"arrowwidth\":1},\"geo\":{\"bgcolor\":\"white\",\"landcolor\":\"#E5ECF6\",\"subunitcolor\":\"white\",\"showland\":true,\"showlakes\":true,\"lakecolor\":\"white\"},\"title\":{\"x\":0.05},\"mapbox\":{\"style\":\"light\"}}},\"xaxis\":{\"anchor\":\"y\",\"domain\":[0.0,1.0],\"title\":{\"text\":\"publication_year\"}},\"yaxis\":{\"anchor\":\"x\",\"domain\":[0.0,1.0],\"title\":{\"text\":\"count\"}},\"legend\":{\"tracegroupgap\":0},\"margin\":{\"t\":60},\"barmode\":\"relative\"},                        {\"responsive\": true}                    ).then(function(){\n",
       "                            \n",
       "var gd = document.getElementById('453eec8d-886f-4c5b-843b-86ce23745a15');\n",
       "var x = new MutationObserver(function (mutations, observer) {{\n",
       "        var display = window.getComputedStyle(gd).display;\n",
       "        if (!display || display === 'none') {{\n",
       "            console.log([gd, 'removed!']);\n",
       "            Plotly.purge(gd);\n",
       "            observer.disconnect();\n",
       "        }}\n",
       "}});\n",
       "\n",
       "// Listen for the removal of the full notebook cells\n",
       "var notebookContainer = gd.closest('#notebook-container');\n",
       "if (notebookContainer) {{\n",
       "    x.observe(notebookContainer, {childList: true});\n",
       "}}\n",
       "\n",
       "// Listen for the clearing of the current output cell\n",
       "var outputEl = gd.closest('.output');\n",
       "if (outputEl) {{\n",
       "    x.observe(outputEl, {childList: true});\n",
       "}}\n",
       "\n",
       "                        })                };                });            </script>        </div>"
      ]
     },
     "metadata": {},
     "output_type": "display_data"
    }
   ],
   "source": [
    "px.histogram(DNF, x = \"publication_year\", nbins=5)"
   ]
  },
  {
   "cell_type": "code",
   "execution_count": 29,
   "id": "f9fb5abb",
   "metadata": {
    "execution": {
     "iopub.execute_input": "2022-06-08T19:58:16.567792Z",
     "iopub.status.busy": "2022-06-08T19:58:16.566860Z",
     "iopub.status.idle": "2022-06-08T19:58:16.627126Z",
     "shell.execute_reply": "2022-06-08T19:58:16.626346Z"
    },
    "papermill": {
     "duration": 0.090964,
     "end_time": "2022-06-08T19:58:16.629106",
     "exception": false,
     "start_time": "2022-06-08T19:58:16.538142",
     "status": "completed"
    },
    "tags": []
   },
   "outputs": [
    {
     "data": {
      "text/html": [
       "<div>                            <div id=\"b7585f17-c6cd-4bfb-b75e-bca370ddd269\" class=\"plotly-graph-div\" style=\"height:525px; width:100%;\"></div>            <script type=\"text/javascript\">                require([\"plotly\"], function(Plotly) {                    window.PLOTLYENV=window.PLOTLYENV || {};                                    if (document.getElementById(\"b7585f17-c6cd-4bfb-b75e-bca370ddd269\")) {                    Plotly.newPlot(                        \"b7585f17-c6cd-4bfb-b75e-bca370ddd269\",                        [{\"alignmentgroup\":\"True\",\"bingroup\":\"x\",\"hovertemplate\":\"publication_month=%{x}<br>count=%{y}<extra></extra>\",\"legendgroup\":\"\",\"marker\":{\"color\":\"#636efa\",\"pattern\":{\"shape\":\"\"}},\"name\":\"\",\"nbinsx\":4,\"offsetgroup\":\"\",\"orientation\":\"v\",\"showlegend\":false,\"x\":[8,5,12,9,10,1,10,5],\"xaxis\":\"x\",\"yaxis\":\"y\",\"type\":\"histogram\"}],                        {\"template\":{\"data\":{\"histogram2dcontour\":[{\"type\":\"histogram2dcontour\",\"colorbar\":{\"outlinewidth\":0,\"ticks\":\"\"},\"colorscale\":[[0.0,\"#0d0887\"],[0.1111111111111111,\"#46039f\"],[0.2222222222222222,\"#7201a8\"],[0.3333333333333333,\"#9c179e\"],[0.4444444444444444,\"#bd3786\"],[0.5555555555555556,\"#d8576b\"],[0.6666666666666666,\"#ed7953\"],[0.7777777777777778,\"#fb9f3a\"],[0.8888888888888888,\"#fdca26\"],[1.0,\"#f0f921\"]]}],\"choropleth\":[{\"type\":\"choropleth\",\"colorbar\":{\"outlinewidth\":0,\"ticks\":\"\"}}],\"histogram2d\":[{\"type\":\"histogram2d\",\"colorbar\":{\"outlinewidth\":0,\"ticks\":\"\"},\"colorscale\":[[0.0,\"#0d0887\"],[0.1111111111111111,\"#46039f\"],[0.2222222222222222,\"#7201a8\"],[0.3333333333333333,\"#9c179e\"],[0.4444444444444444,\"#bd3786\"],[0.5555555555555556,\"#d8576b\"],[0.6666666666666666,\"#ed7953\"],[0.7777777777777778,\"#fb9f3a\"],[0.8888888888888888,\"#fdca26\"],[1.0,\"#f0f921\"]]}],\"heatmap\":[{\"type\":\"heatmap\",\"colorbar\":{\"outlinewidth\":0,\"ticks\":\"\"},\"colorscale\":[[0.0,\"#0d0887\"],[0.1111111111111111,\"#46039f\"],[0.2222222222222222,\"#7201a8\"],[0.3333333333333333,\"#9c179e\"],[0.4444444444444444,\"#bd3786\"],[0.5555555555555556,\"#d8576b\"],[0.6666666666666666,\"#ed7953\"],[0.7777777777777778,\"#fb9f3a\"],[0.8888888888888888,\"#fdca26\"],[1.0,\"#f0f921\"]]}],\"heatmapgl\":[{\"type\":\"heatmapgl\",\"colorbar\":{\"outlinewidth\":0,\"ticks\":\"\"},\"colorscale\":[[0.0,\"#0d0887\"],[0.1111111111111111,\"#46039f\"],[0.2222222222222222,\"#7201a8\"],[0.3333333333333333,\"#9c179e\"],[0.4444444444444444,\"#bd3786\"],[0.5555555555555556,\"#d8576b\"],[0.6666666666666666,\"#ed7953\"],[0.7777777777777778,\"#fb9f3a\"],[0.8888888888888888,\"#fdca26\"],[1.0,\"#f0f921\"]]}],\"contourcarpet\":[{\"type\":\"contourcarpet\",\"colorbar\":{\"outlinewidth\":0,\"ticks\":\"\"}}],\"contour\":[{\"type\":\"contour\",\"colorbar\":{\"outlinewidth\":0,\"ticks\":\"\"},\"colorscale\":[[0.0,\"#0d0887\"],[0.1111111111111111,\"#46039f\"],[0.2222222222222222,\"#7201a8\"],[0.3333333333333333,\"#9c179e\"],[0.4444444444444444,\"#bd3786\"],[0.5555555555555556,\"#d8576b\"],[0.6666666666666666,\"#ed7953\"],[0.7777777777777778,\"#fb9f3a\"],[0.8888888888888888,\"#fdca26\"],[1.0,\"#f0f921\"]]}],\"surface\":[{\"type\":\"surface\",\"colorbar\":{\"outlinewidth\":0,\"ticks\":\"\"},\"colorscale\":[[0.0,\"#0d0887\"],[0.1111111111111111,\"#46039f\"],[0.2222222222222222,\"#7201a8\"],[0.3333333333333333,\"#9c179e\"],[0.4444444444444444,\"#bd3786\"],[0.5555555555555556,\"#d8576b\"],[0.6666666666666666,\"#ed7953\"],[0.7777777777777778,\"#fb9f3a\"],[0.8888888888888888,\"#fdca26\"],[1.0,\"#f0f921\"]]}],\"mesh3d\":[{\"type\":\"mesh3d\",\"colorbar\":{\"outlinewidth\":0,\"ticks\":\"\"}}],\"scatter\":[{\"fillpattern\":{\"fillmode\":\"overlay\",\"size\":10,\"solidity\":0.2},\"type\":\"scatter\"}],\"parcoords\":[{\"type\":\"parcoords\",\"line\":{\"colorbar\":{\"outlinewidth\":0,\"ticks\":\"\"}}}],\"scatterpolargl\":[{\"type\":\"scatterpolargl\",\"marker\":{\"colorbar\":{\"outlinewidth\":0,\"ticks\":\"\"}}}],\"bar\":[{\"error_x\":{\"color\":\"#2a3f5f\"},\"error_y\":{\"color\":\"#2a3f5f\"},\"marker\":{\"line\":{\"color\":\"#E5ECF6\",\"width\":0.5},\"pattern\":{\"fillmode\":\"overlay\",\"size\":10,\"solidity\":0.2}},\"type\":\"bar\"}],\"scattergeo\":[{\"type\":\"scattergeo\",\"marker\":{\"colorbar\":{\"outlinewidth\":0,\"ticks\":\"\"}}}],\"scatterpolar\":[{\"type\":\"scatterpolar\",\"marker\":{\"colorbar\":{\"outlinewidth\":0,\"ticks\":\"\"}}}],\"histogram\":[{\"marker\":{\"pattern\":{\"fillmode\":\"overlay\",\"size\":10,\"solidity\":0.2}},\"type\":\"histogram\"}],\"scattergl\":[{\"type\":\"scattergl\",\"marker\":{\"colorbar\":{\"outlinewidth\":0,\"ticks\":\"\"}}}],\"scatter3d\":[{\"type\":\"scatter3d\",\"line\":{\"colorbar\":{\"outlinewidth\":0,\"ticks\":\"\"}},\"marker\":{\"colorbar\":{\"outlinewidth\":0,\"ticks\":\"\"}}}],\"scattermapbox\":[{\"type\":\"scattermapbox\",\"marker\":{\"colorbar\":{\"outlinewidth\":0,\"ticks\":\"\"}}}],\"scatterternary\":[{\"type\":\"scatterternary\",\"marker\":{\"colorbar\":{\"outlinewidth\":0,\"ticks\":\"\"}}}],\"scattercarpet\":[{\"type\":\"scattercarpet\",\"marker\":{\"colorbar\":{\"outlinewidth\":0,\"ticks\":\"\"}}}],\"carpet\":[{\"aaxis\":{\"endlinecolor\":\"#2a3f5f\",\"gridcolor\":\"white\",\"linecolor\":\"white\",\"minorgridcolor\":\"white\",\"startlinecolor\":\"#2a3f5f\"},\"baxis\":{\"endlinecolor\":\"#2a3f5f\",\"gridcolor\":\"white\",\"linecolor\":\"white\",\"minorgridcolor\":\"white\",\"startlinecolor\":\"#2a3f5f\"},\"type\":\"carpet\"}],\"table\":[{\"cells\":{\"fill\":{\"color\":\"#EBF0F8\"},\"line\":{\"color\":\"white\"}},\"header\":{\"fill\":{\"color\":\"#C8D4E3\"},\"line\":{\"color\":\"white\"}},\"type\":\"table\"}],\"barpolar\":[{\"marker\":{\"line\":{\"color\":\"#E5ECF6\",\"width\":0.5},\"pattern\":{\"fillmode\":\"overlay\",\"size\":10,\"solidity\":0.2}},\"type\":\"barpolar\"}],\"pie\":[{\"automargin\":true,\"type\":\"pie\"}]},\"layout\":{\"autotypenumbers\":\"strict\",\"colorway\":[\"#636efa\",\"#EF553B\",\"#00cc96\",\"#ab63fa\",\"#FFA15A\",\"#19d3f3\",\"#FF6692\",\"#B6E880\",\"#FF97FF\",\"#FECB52\"],\"font\":{\"color\":\"#2a3f5f\"},\"hovermode\":\"closest\",\"hoverlabel\":{\"align\":\"left\"},\"paper_bgcolor\":\"white\",\"plot_bgcolor\":\"#E5ECF6\",\"polar\":{\"bgcolor\":\"#E5ECF6\",\"angularaxis\":{\"gridcolor\":\"white\",\"linecolor\":\"white\",\"ticks\":\"\"},\"radialaxis\":{\"gridcolor\":\"white\",\"linecolor\":\"white\",\"ticks\":\"\"}},\"ternary\":{\"bgcolor\":\"#E5ECF6\",\"aaxis\":{\"gridcolor\":\"white\",\"linecolor\":\"white\",\"ticks\":\"\"},\"baxis\":{\"gridcolor\":\"white\",\"linecolor\":\"white\",\"ticks\":\"\"},\"caxis\":{\"gridcolor\":\"white\",\"linecolor\":\"white\",\"ticks\":\"\"}},\"coloraxis\":{\"colorbar\":{\"outlinewidth\":0,\"ticks\":\"\"}},\"colorscale\":{\"sequential\":[[0.0,\"#0d0887\"],[0.1111111111111111,\"#46039f\"],[0.2222222222222222,\"#7201a8\"],[0.3333333333333333,\"#9c179e\"],[0.4444444444444444,\"#bd3786\"],[0.5555555555555556,\"#d8576b\"],[0.6666666666666666,\"#ed7953\"],[0.7777777777777778,\"#fb9f3a\"],[0.8888888888888888,\"#fdca26\"],[1.0,\"#f0f921\"]],\"sequentialminus\":[[0.0,\"#0d0887\"],[0.1111111111111111,\"#46039f\"],[0.2222222222222222,\"#7201a8\"],[0.3333333333333333,\"#9c179e\"],[0.4444444444444444,\"#bd3786\"],[0.5555555555555556,\"#d8576b\"],[0.6666666666666666,\"#ed7953\"],[0.7777777777777778,\"#fb9f3a\"],[0.8888888888888888,\"#fdca26\"],[1.0,\"#f0f921\"]],\"diverging\":[[0,\"#8e0152\"],[0.1,\"#c51b7d\"],[0.2,\"#de77ae\"],[0.3,\"#f1b6da\"],[0.4,\"#fde0ef\"],[0.5,\"#f7f7f7\"],[0.6,\"#e6f5d0\"],[0.7,\"#b8e186\"],[0.8,\"#7fbc41\"],[0.9,\"#4d9221\"],[1,\"#276419\"]]},\"xaxis\":{\"gridcolor\":\"white\",\"linecolor\":\"white\",\"ticks\":\"\",\"title\":{\"standoff\":15},\"zerolinecolor\":\"white\",\"automargin\":true,\"zerolinewidth\":2},\"yaxis\":{\"gridcolor\":\"white\",\"linecolor\":\"white\",\"ticks\":\"\",\"title\":{\"standoff\":15},\"zerolinecolor\":\"white\",\"automargin\":true,\"zerolinewidth\":2},\"scene\":{\"xaxis\":{\"backgroundcolor\":\"#E5ECF6\",\"gridcolor\":\"white\",\"linecolor\":\"white\",\"showbackground\":true,\"ticks\":\"\",\"zerolinecolor\":\"white\",\"gridwidth\":2},\"yaxis\":{\"backgroundcolor\":\"#E5ECF6\",\"gridcolor\":\"white\",\"linecolor\":\"white\",\"showbackground\":true,\"ticks\":\"\",\"zerolinecolor\":\"white\",\"gridwidth\":2},\"zaxis\":{\"backgroundcolor\":\"#E5ECF6\",\"gridcolor\":\"white\",\"linecolor\":\"white\",\"showbackground\":true,\"ticks\":\"\",\"zerolinecolor\":\"white\",\"gridwidth\":2}},\"shapedefaults\":{\"line\":{\"color\":\"#2a3f5f\"}},\"annotationdefaults\":{\"arrowcolor\":\"#2a3f5f\",\"arrowhead\":0,\"arrowwidth\":1},\"geo\":{\"bgcolor\":\"white\",\"landcolor\":\"#E5ECF6\",\"subunitcolor\":\"white\",\"showland\":true,\"showlakes\":true,\"lakecolor\":\"white\"},\"title\":{\"x\":0.05},\"mapbox\":{\"style\":\"light\"}}},\"xaxis\":{\"anchor\":\"y\",\"domain\":[0.0,1.0],\"title\":{\"text\":\"publication_month\"},\"range\":[1,12]},\"yaxis\":{\"anchor\":\"x\",\"domain\":[0.0,1.0],\"title\":{\"text\":\"count\"}},\"legend\":{\"tracegroupgap\":0},\"margin\":{\"t\":60},\"barmode\":\"relative\"},                        {\"responsive\": true}                    ).then(function(){\n",
       "                            \n",
       "var gd = document.getElementById('b7585f17-c6cd-4bfb-b75e-bca370ddd269');\n",
       "var x = new MutationObserver(function (mutations, observer) {{\n",
       "        var display = window.getComputedStyle(gd).display;\n",
       "        if (!display || display === 'none') {{\n",
       "            console.log([gd, 'removed!']);\n",
       "            Plotly.purge(gd);\n",
       "            observer.disconnect();\n",
       "        }}\n",
       "}});\n",
       "\n",
       "// Listen for the removal of the full notebook cells\n",
       "var notebookContainer = gd.closest('#notebook-container');\n",
       "if (notebookContainer) {{\n",
       "    x.observe(notebookContainer, {childList: true});\n",
       "}}\n",
       "\n",
       "// Listen for the clearing of the current output cell\n",
       "var outputEl = gd.closest('.output');\n",
       "if (outputEl) {{\n",
       "    x.observe(outputEl, {childList: true});\n",
       "}}\n",
       "\n",
       "                        })                };                });            </script>        </div>"
      ]
     },
     "metadata": {},
     "output_type": "display_data"
    }
   ],
   "source": [
    "fig = px.histogram(DNF, x = \"publication_month\", nbins=4)\n",
    "fig.update_layout(xaxis_range = [1,12])"
   ]
  },
  {
   "cell_type": "code",
   "execution_count": 30,
   "id": "2b333faa",
   "metadata": {
    "execution": {
     "iopub.execute_input": "2022-06-08T19:58:16.671758Z",
     "iopub.status.busy": "2022-06-08T19:58:16.670978Z",
     "iopub.status.idle": "2022-06-08T19:58:16.678962Z",
     "shell.execute_reply": "2022-06-08T19:58:16.678055Z"
    },
    "papermill": {
     "duration": 0.031247,
     "end_time": "2022-06-08T19:58:16.680778",
     "exception": false,
     "start_time": "2022-06-08T19:58:16.649531",
     "status": "completed"
    },
    "tags": []
   },
   "outputs": [
    {
     "data": {
      "text/plain": [
       "5     2\n",
       "10    2\n",
       "8     1\n",
       "12    1\n",
       "9     1\n",
       "1     1\n",
       "Name: publication_month, dtype: int64"
      ]
     },
     "execution_count": 30,
     "metadata": {},
     "output_type": "execute_result"
    }
   ],
   "source": [
    "DNF[\"publication_month\"].value_counts()"
   ]
  },
  {
   "cell_type": "code",
   "execution_count": 31,
   "id": "cd1e53b0",
   "metadata": {
    "execution": {
     "iopub.execute_input": "2022-06-08T19:58:16.724380Z",
     "iopub.status.busy": "2022-06-08T19:58:16.723577Z",
     "iopub.status.idle": "2022-06-08T19:58:16.775935Z",
     "shell.execute_reply": "2022-06-08T19:58:16.775088Z"
    },
    "papermill": {
     "duration": 0.077059,
     "end_time": "2022-06-08T19:58:16.778263",
     "exception": false,
     "start_time": "2022-06-08T19:58:16.701204",
     "status": "completed"
    },
    "tags": []
   },
   "outputs": [
    {
     "data": {
      "text/html": [
       "<div>                            <div id=\"9ad90bfa-1a69-4f59-9c5d-29efb538db50\" class=\"plotly-graph-div\" style=\"height:525px; width:100%;\"></div>            <script type=\"text/javascript\">                require([\"plotly\"], function(Plotly) {                    window.PLOTLYENV=window.PLOTLYENV || {};                                    if (document.getElementById(\"9ad90bfa-1a69-4f59-9c5d-29efb538db50\")) {                    Plotly.newPlot(                        \"9ad90bfa-1a69-4f59-9c5d-29efb538db50\",                        [{\"alignmentgroup\":\"True\",\"bingroup\":\"x\",\"hovertemplate\":\"genre=%{x}<br>count=%{y}<extra></extra>\",\"legendgroup\":\"\",\"marker\":{\"color\":\"#636efa\",\"pattern\":{\"shape\":\"\"}},\"name\":\"\",\"offsetgroup\":\"\",\"orientation\":\"v\",\"showlegend\":false,\"x\":[\"Self-Esteem\",\"Literary Fiction\",\"Self Help\",\"Mystery\",\"Literary Fiction\",\"Self Help\",\"Self Help\",\"Data\"],\"xaxis\":\"x\",\"yaxis\":\"y\",\"type\":\"histogram\"}],                        {\"template\":{\"data\":{\"histogram2dcontour\":[{\"type\":\"histogram2dcontour\",\"colorbar\":{\"outlinewidth\":0,\"ticks\":\"\"},\"colorscale\":[[0.0,\"#0d0887\"],[0.1111111111111111,\"#46039f\"],[0.2222222222222222,\"#7201a8\"],[0.3333333333333333,\"#9c179e\"],[0.4444444444444444,\"#bd3786\"],[0.5555555555555556,\"#d8576b\"],[0.6666666666666666,\"#ed7953\"],[0.7777777777777778,\"#fb9f3a\"],[0.8888888888888888,\"#fdca26\"],[1.0,\"#f0f921\"]]}],\"choropleth\":[{\"type\":\"choropleth\",\"colorbar\":{\"outlinewidth\":0,\"ticks\":\"\"}}],\"histogram2d\":[{\"type\":\"histogram2d\",\"colorbar\":{\"outlinewidth\":0,\"ticks\":\"\"},\"colorscale\":[[0.0,\"#0d0887\"],[0.1111111111111111,\"#46039f\"],[0.2222222222222222,\"#7201a8\"],[0.3333333333333333,\"#9c179e\"],[0.4444444444444444,\"#bd3786\"],[0.5555555555555556,\"#d8576b\"],[0.6666666666666666,\"#ed7953\"],[0.7777777777777778,\"#fb9f3a\"],[0.8888888888888888,\"#fdca26\"],[1.0,\"#f0f921\"]]}],\"heatmap\":[{\"type\":\"heatmap\",\"colorbar\":{\"outlinewidth\":0,\"ticks\":\"\"},\"colorscale\":[[0.0,\"#0d0887\"],[0.1111111111111111,\"#46039f\"],[0.2222222222222222,\"#7201a8\"],[0.3333333333333333,\"#9c179e\"],[0.4444444444444444,\"#bd3786\"],[0.5555555555555556,\"#d8576b\"],[0.6666666666666666,\"#ed7953\"],[0.7777777777777778,\"#fb9f3a\"],[0.8888888888888888,\"#fdca26\"],[1.0,\"#f0f921\"]]}],\"heatmapgl\":[{\"type\":\"heatmapgl\",\"colorbar\":{\"outlinewidth\":0,\"ticks\":\"\"},\"colorscale\":[[0.0,\"#0d0887\"],[0.1111111111111111,\"#46039f\"],[0.2222222222222222,\"#7201a8\"],[0.3333333333333333,\"#9c179e\"],[0.4444444444444444,\"#bd3786\"],[0.5555555555555556,\"#d8576b\"],[0.6666666666666666,\"#ed7953\"],[0.7777777777777778,\"#fb9f3a\"],[0.8888888888888888,\"#fdca26\"],[1.0,\"#f0f921\"]]}],\"contourcarpet\":[{\"type\":\"contourcarpet\",\"colorbar\":{\"outlinewidth\":0,\"ticks\":\"\"}}],\"contour\":[{\"type\":\"contour\",\"colorbar\":{\"outlinewidth\":0,\"ticks\":\"\"},\"colorscale\":[[0.0,\"#0d0887\"],[0.1111111111111111,\"#46039f\"],[0.2222222222222222,\"#7201a8\"],[0.3333333333333333,\"#9c179e\"],[0.4444444444444444,\"#bd3786\"],[0.5555555555555556,\"#d8576b\"],[0.6666666666666666,\"#ed7953\"],[0.7777777777777778,\"#fb9f3a\"],[0.8888888888888888,\"#fdca26\"],[1.0,\"#f0f921\"]]}],\"surface\":[{\"type\":\"surface\",\"colorbar\":{\"outlinewidth\":0,\"ticks\":\"\"},\"colorscale\":[[0.0,\"#0d0887\"],[0.1111111111111111,\"#46039f\"],[0.2222222222222222,\"#7201a8\"],[0.3333333333333333,\"#9c179e\"],[0.4444444444444444,\"#bd3786\"],[0.5555555555555556,\"#d8576b\"],[0.6666666666666666,\"#ed7953\"],[0.7777777777777778,\"#fb9f3a\"],[0.8888888888888888,\"#fdca26\"],[1.0,\"#f0f921\"]]}],\"mesh3d\":[{\"type\":\"mesh3d\",\"colorbar\":{\"outlinewidth\":0,\"ticks\":\"\"}}],\"scatter\":[{\"fillpattern\":{\"fillmode\":\"overlay\",\"size\":10,\"solidity\":0.2},\"type\":\"scatter\"}],\"parcoords\":[{\"type\":\"parcoords\",\"line\":{\"colorbar\":{\"outlinewidth\":0,\"ticks\":\"\"}}}],\"scatterpolargl\":[{\"type\":\"scatterpolargl\",\"marker\":{\"colorbar\":{\"outlinewidth\":0,\"ticks\":\"\"}}}],\"bar\":[{\"error_x\":{\"color\":\"#2a3f5f\"},\"error_y\":{\"color\":\"#2a3f5f\"},\"marker\":{\"line\":{\"color\":\"#E5ECF6\",\"width\":0.5},\"pattern\":{\"fillmode\":\"overlay\",\"size\":10,\"solidity\":0.2}},\"type\":\"bar\"}],\"scattergeo\":[{\"type\":\"scattergeo\",\"marker\":{\"colorbar\":{\"outlinewidth\":0,\"ticks\":\"\"}}}],\"scatterpolar\":[{\"type\":\"scatterpolar\",\"marker\":{\"colorbar\":{\"outlinewidth\":0,\"ticks\":\"\"}}}],\"histogram\":[{\"marker\":{\"pattern\":{\"fillmode\":\"overlay\",\"size\":10,\"solidity\":0.2}},\"type\":\"histogram\"}],\"scattergl\":[{\"type\":\"scattergl\",\"marker\":{\"colorbar\":{\"outlinewidth\":0,\"ticks\":\"\"}}}],\"scatter3d\":[{\"type\":\"scatter3d\",\"line\":{\"colorbar\":{\"outlinewidth\":0,\"ticks\":\"\"}},\"marker\":{\"colorbar\":{\"outlinewidth\":0,\"ticks\":\"\"}}}],\"scattermapbox\":[{\"type\":\"scattermapbox\",\"marker\":{\"colorbar\":{\"outlinewidth\":0,\"ticks\":\"\"}}}],\"scatterternary\":[{\"type\":\"scatterternary\",\"marker\":{\"colorbar\":{\"outlinewidth\":0,\"ticks\":\"\"}}}],\"scattercarpet\":[{\"type\":\"scattercarpet\",\"marker\":{\"colorbar\":{\"outlinewidth\":0,\"ticks\":\"\"}}}],\"carpet\":[{\"aaxis\":{\"endlinecolor\":\"#2a3f5f\",\"gridcolor\":\"white\",\"linecolor\":\"white\",\"minorgridcolor\":\"white\",\"startlinecolor\":\"#2a3f5f\"},\"baxis\":{\"endlinecolor\":\"#2a3f5f\",\"gridcolor\":\"white\",\"linecolor\":\"white\",\"minorgridcolor\":\"white\",\"startlinecolor\":\"#2a3f5f\"},\"type\":\"carpet\"}],\"table\":[{\"cells\":{\"fill\":{\"color\":\"#EBF0F8\"},\"line\":{\"color\":\"white\"}},\"header\":{\"fill\":{\"color\":\"#C8D4E3\"},\"line\":{\"color\":\"white\"}},\"type\":\"table\"}],\"barpolar\":[{\"marker\":{\"line\":{\"color\":\"#E5ECF6\",\"width\":0.5},\"pattern\":{\"fillmode\":\"overlay\",\"size\":10,\"solidity\":0.2}},\"type\":\"barpolar\"}],\"pie\":[{\"automargin\":true,\"type\":\"pie\"}]},\"layout\":{\"autotypenumbers\":\"strict\",\"colorway\":[\"#636efa\",\"#EF553B\",\"#00cc96\",\"#ab63fa\",\"#FFA15A\",\"#19d3f3\",\"#FF6692\",\"#B6E880\",\"#FF97FF\",\"#FECB52\"],\"font\":{\"color\":\"#2a3f5f\"},\"hovermode\":\"closest\",\"hoverlabel\":{\"align\":\"left\"},\"paper_bgcolor\":\"white\",\"plot_bgcolor\":\"#E5ECF6\",\"polar\":{\"bgcolor\":\"#E5ECF6\",\"angularaxis\":{\"gridcolor\":\"white\",\"linecolor\":\"white\",\"ticks\":\"\"},\"radialaxis\":{\"gridcolor\":\"white\",\"linecolor\":\"white\",\"ticks\":\"\"}},\"ternary\":{\"bgcolor\":\"#E5ECF6\",\"aaxis\":{\"gridcolor\":\"white\",\"linecolor\":\"white\",\"ticks\":\"\"},\"baxis\":{\"gridcolor\":\"white\",\"linecolor\":\"white\",\"ticks\":\"\"},\"caxis\":{\"gridcolor\":\"white\",\"linecolor\":\"white\",\"ticks\":\"\"}},\"coloraxis\":{\"colorbar\":{\"outlinewidth\":0,\"ticks\":\"\"}},\"colorscale\":{\"sequential\":[[0.0,\"#0d0887\"],[0.1111111111111111,\"#46039f\"],[0.2222222222222222,\"#7201a8\"],[0.3333333333333333,\"#9c179e\"],[0.4444444444444444,\"#bd3786\"],[0.5555555555555556,\"#d8576b\"],[0.6666666666666666,\"#ed7953\"],[0.7777777777777778,\"#fb9f3a\"],[0.8888888888888888,\"#fdca26\"],[1.0,\"#f0f921\"]],\"sequentialminus\":[[0.0,\"#0d0887\"],[0.1111111111111111,\"#46039f\"],[0.2222222222222222,\"#7201a8\"],[0.3333333333333333,\"#9c179e\"],[0.4444444444444444,\"#bd3786\"],[0.5555555555555556,\"#d8576b\"],[0.6666666666666666,\"#ed7953\"],[0.7777777777777778,\"#fb9f3a\"],[0.8888888888888888,\"#fdca26\"],[1.0,\"#f0f921\"]],\"diverging\":[[0,\"#8e0152\"],[0.1,\"#c51b7d\"],[0.2,\"#de77ae\"],[0.3,\"#f1b6da\"],[0.4,\"#fde0ef\"],[0.5,\"#f7f7f7\"],[0.6,\"#e6f5d0\"],[0.7,\"#b8e186\"],[0.8,\"#7fbc41\"],[0.9,\"#4d9221\"],[1,\"#276419\"]]},\"xaxis\":{\"gridcolor\":\"white\",\"linecolor\":\"white\",\"ticks\":\"\",\"title\":{\"standoff\":15},\"zerolinecolor\":\"white\",\"automargin\":true,\"zerolinewidth\":2},\"yaxis\":{\"gridcolor\":\"white\",\"linecolor\":\"white\",\"ticks\":\"\",\"title\":{\"standoff\":15},\"zerolinecolor\":\"white\",\"automargin\":true,\"zerolinewidth\":2},\"scene\":{\"xaxis\":{\"backgroundcolor\":\"#E5ECF6\",\"gridcolor\":\"white\",\"linecolor\":\"white\",\"showbackground\":true,\"ticks\":\"\",\"zerolinecolor\":\"white\",\"gridwidth\":2},\"yaxis\":{\"backgroundcolor\":\"#E5ECF6\",\"gridcolor\":\"white\",\"linecolor\":\"white\",\"showbackground\":true,\"ticks\":\"\",\"zerolinecolor\":\"white\",\"gridwidth\":2},\"zaxis\":{\"backgroundcolor\":\"#E5ECF6\",\"gridcolor\":\"white\",\"linecolor\":\"white\",\"showbackground\":true,\"ticks\":\"\",\"zerolinecolor\":\"white\",\"gridwidth\":2}},\"shapedefaults\":{\"line\":{\"color\":\"#2a3f5f\"}},\"annotationdefaults\":{\"arrowcolor\":\"#2a3f5f\",\"arrowhead\":0,\"arrowwidth\":1},\"geo\":{\"bgcolor\":\"white\",\"landcolor\":\"#E5ECF6\",\"subunitcolor\":\"white\",\"showland\":true,\"showlakes\":true,\"lakecolor\":\"white\"},\"title\":{\"x\":0.05},\"mapbox\":{\"style\":\"light\"}}},\"xaxis\":{\"anchor\":\"y\",\"domain\":[0.0,1.0],\"title\":{\"text\":\"genre\"}},\"yaxis\":{\"anchor\":\"x\",\"domain\":[0.0,1.0],\"title\":{\"text\":\"count\"}},\"legend\":{\"tracegroupgap\":0},\"margin\":{\"t\":60},\"barmode\":\"relative\"},                        {\"responsive\": true}                    ).then(function(){\n",
       "                            \n",
       "var gd = document.getElementById('9ad90bfa-1a69-4f59-9c5d-29efb538db50');\n",
       "var x = new MutationObserver(function (mutations, observer) {{\n",
       "        var display = window.getComputedStyle(gd).display;\n",
       "        if (!display || display === 'none') {{\n",
       "            console.log([gd, 'removed!']);\n",
       "            Plotly.purge(gd);\n",
       "            observer.disconnect();\n",
       "        }}\n",
       "}});\n",
       "\n",
       "// Listen for the removal of the full notebook cells\n",
       "var notebookContainer = gd.closest('#notebook-container');\n",
       "if (notebookContainer) {{\n",
       "    x.observe(notebookContainer, {childList: true});\n",
       "}}\n",
       "\n",
       "// Listen for the clearing of the current output cell\n",
       "var outputEl = gd.closest('.output');\n",
       "if (outputEl) {{\n",
       "    x.observe(outputEl, {childList: true});\n",
       "}}\n",
       "\n",
       "                        })                };                });            </script>        </div>"
      ]
     },
     "metadata": {},
     "output_type": "display_data"
    }
   ],
   "source": [
    "px.histogram(DNF, x = \"genre\",)"
   ]
  },
  {
   "cell_type": "markdown",
   "id": "965dbf9d",
   "metadata": {
    "papermill": {
     "duration": 0.02011,
     "end_time": "2022-06-08T19:58:16.819597",
     "exception": false,
     "start_time": "2022-06-08T19:58:16.799487",
     "status": "completed"
    },
    "tags": []
   },
   "source": [
    "# completion date unknown"
   ]
  },
  {
   "cell_type": "code",
   "execution_count": 32,
   "id": "c88ed043",
   "metadata": {
    "execution": {
     "iopub.execute_input": "2022-06-08T19:58:16.862482Z",
     "iopub.status.busy": "2022-06-08T19:58:16.861487Z",
     "iopub.status.idle": "2022-06-08T19:58:16.868156Z",
     "shell.execute_reply": "2022-06-08T19:58:16.867133Z"
    },
    "papermill": {
     "duration": 0.030309,
     "end_time": "2022-06-08T19:58:16.870277",
     "exception": false,
     "start_time": "2022-06-08T19:58:16.839968",
     "status": "completed"
    },
    "tags": []
   },
   "outputs": [],
   "source": [
    "completion_date_unknown = Completed[Completed[\"completion date\"].isnull()]"
   ]
  },
  {
   "cell_type": "code",
   "execution_count": 33,
   "id": "e8f9ca88",
   "metadata": {
    "execution": {
     "iopub.execute_input": "2022-06-08T19:58:16.914883Z",
     "iopub.status.busy": "2022-06-08T19:58:16.914200Z",
     "iopub.status.idle": "2022-06-08T19:58:17.070036Z",
     "shell.execute_reply": "2022-06-08T19:58:17.068871Z"
    },
    "papermill": {
     "duration": 0.181158,
     "end_time": "2022-06-08T19:58:17.073259",
     "exception": false,
     "start_time": "2022-06-08T19:58:16.892101",
     "status": "completed"
    },
    "tags": []
   },
   "outputs": [
    {
     "data": {
      "text/plain": [
       "<AxesSubplot:xlabel='language', ylabel='count'>"
      ]
     },
     "execution_count": 33,
     "metadata": {},
     "output_type": "execute_result"
    },
    {
     "data": {
      "image/png": "[encoded data removed]",
      "text/plain": [
       "<Figure size 432x288 with 1 Axes>"
      ]
     },
     "metadata": {},
     "output_type": "display_data"
    }
   ],
   "source": [
    "sns.countplot(x = \"language\", data = completion_date_unknown)"
   ]
  },
  {
   "cell_type": "code",
   "execution_count": 34,
   "id": "c3e4a0ae",
   "metadata": {
    "execution": {
     "iopub.execute_input": "2022-06-08T19:58:17.118212Z",
     "iopub.status.busy": "2022-06-08T19:58:17.117097Z",
     "iopub.status.idle": "2022-06-08T19:58:17.126673Z",
     "shell.execute_reply": "2022-06-08T19:58:17.125770Z"
    },
    "papermill": {
     "duration": 0.033852,
     "end_time": "2022-06-08T19:58:17.128550",
     "exception": false,
     "start_time": "2022-06-08T19:58:17.094698",
     "status": "completed"
    },
    "tags": []
   },
   "outputs": [
    {
     "data": {
      "text/plain": [
       "藤崎 都                       6\n",
       "東野 圭吾                      6\n",
       "日丸屋 秀和                     6\n",
       "三上 延                       4\n",
       "谷 瑞恵                       3\n",
       "伊坂 幸太郎                     3\n",
       "葉山 透                       2\n",
       "Sir Arthur Conan Doyle     2\n",
       "朝霧 カフカ                     2\n",
       "川村 元気                      1\n",
       "北川 恵海                      1\n",
       "福嶋ユッカ                      1\n",
       "Louis Sachar               1\n",
       "辻村 七子                      1\n",
       "秋川 滝美                      1\n",
       "Frances Hodgson Burnett    1\n",
       "藤咲あゆな                      1\n",
       "星 新一                       1\n",
       "春河35                       1\n",
       "村上 桃子                      1\n",
       "若宮 シノブ, 望月 淳               1\n",
       "宮沢 賢治                      1\n",
       "江口 夏実                      1\n",
       "水城 せとな                     1\n",
       "George Orwell              1\n",
       "樋野 まつり, 藤咲 あゆな             1\n",
       "E.M. Forster               1\n",
       "朝井 リョウ                     1\n",
       "Name: author(s), dtype: int64"
      ]
     },
     "execution_count": 34,
     "metadata": {},
     "output_type": "execute_result"
    }
   ],
   "source": [
    "completion_date_unknown[\"author(s)\"].value_counts()"
   ]
  },
  {
   "cell_type": "code",
   "execution_count": 35,
   "id": "6d9bd248",
   "metadata": {
    "execution": {
     "iopub.execute_input": "2022-06-08T19:58:17.172938Z",
     "iopub.status.busy": "2022-06-08T19:58:17.171719Z",
     "iopub.status.idle": "2022-06-08T19:58:17.224001Z",
     "shell.execute_reply": "2022-06-08T19:58:17.222949Z"
    },
    "papermill": {
     "duration": 0.076635,
     "end_time": "2022-06-08T19:58:17.226158",
     "exception": false,
     "start_time": "2022-06-08T19:58:17.149523",
     "status": "completed"
    },
    "tags": []
   },
   "outputs": [
    {
     "data": {
      "text/html": [
       "<div>                            <div id=\"a3f63f48-4c8c-49d4-9aa8-3a26e68bcfc1\" class=\"plotly-graph-div\" style=\"height:525px; width:100%;\"></div>            <script type=\"text/javascript\">                require([\"plotly\"], function(Plotly) {                    window.PLOTLYENV=window.PLOTLYENV || {};                                    if (document.getElementById(\"a3f63f48-4c8c-49d4-9aa8-3a26e68bcfc1\")) {                    Plotly.newPlot(                        \"a3f63f48-4c8c-49d4-9aa8-3a26e68bcfc1\",                        [{\"alignmentgroup\":\"True\",\"bingroup\":\"x\",\"hovertemplate\":\"author(s)=%{x}<br>count=%{y}<extra></extra>\",\"legendgroup\":\"\",\"marker\":{\"color\":\"#636efa\",\"pattern\":{\"shape\":\"\"}},\"name\":\"\",\"offsetgroup\":\"\",\"orientation\":\"v\",\"showlegend\":false,\"x\":[\"星 新一\",\"宮沢 賢治\",\"東野 圭吾\",\"東野 圭吾\",\"Sir Arthur Conan Doyle\",\"東野 圭吾\",\"谷 瑞恵\",\"谷 瑞恵\",\"谷 瑞恵\",\"E.M. Forster\",\"伊坂 幸太郎\",\"日丸屋 秀和\",\"樋野 まつり, 藤咲 あゆな\",\"George Orwell\",\"日丸屋 秀和\",\"水城 せとな\",\"伊坂 幸太郎\",\"日丸屋 秀和\",\"葉山 透\",\"三上 延\",\"江口 夏実\",\"葉山 透\",\"日丸屋 秀和\",\"Sir Arthur Conan Doyle\",\"藤崎 都\",\"若宮 シノブ, 望月 淳\",\"村上 桃子\",\"三上 延\",\"日丸屋 秀和\",\"藤崎 都\",\"藤崎 都\",\"三上 延\",\"春河35\",\"東野 圭吾\",\"藤崎 都\",\"秋川 滝美\",\"日丸屋 秀和\",\"藤咲あゆな\",\"藤崎 都\",\"朝霧 カフカ\",\"東野 圭吾\",\"朝霧 カフカ\",\"東野 圭吾\",\"川村 元気\",\"藤崎 都\",\"三上 延\",\"北川 恵海\",\"Louis Sachar\",\"伊坂 幸太郎\",\"辻村 七子\",\"福嶋ユッカ\",\"Frances Hodgson Burnett\",\"朝井 リョウ\"],\"xaxis\":\"x\",\"yaxis\":\"y\",\"type\":\"histogram\"}],                        {\"template\":{\"data\":{\"histogram2dcontour\":[{\"type\":\"histogram2dcontour\",\"colorbar\":{\"outlinewidth\":0,\"ticks\":\"\"},\"colorscale\":[[0.0,\"#0d0887\"],[0.1111111111111111,\"#46039f\"],[0.2222222222222222,\"#7201a8\"],[0.3333333333333333,\"#9c179e\"],[0.4444444444444444,\"#bd3786\"],[0.5555555555555556,\"#d8576b\"],[0.6666666666666666,\"#ed7953\"],[0.7777777777777778,\"#fb9f3a\"],[0.8888888888888888,\"#fdca26\"],[1.0,\"#f0f921\"]]}],\"choropleth\":[{\"type\":\"choropleth\",\"colorbar\":{\"outlinewidth\":0,\"ticks\":\"\"}}],\"histogram2d\":[{\"type\":\"histogram2d\",\"colorbar\":{\"outlinewidth\":0,\"ticks\":\"\"},\"colorscale\":[[0.0,\"#0d0887\"],[0.1111111111111111,\"#46039f\"],[0.2222222222222222,\"#7201a8\"],[0.3333333333333333,\"#9c179e\"],[0.4444444444444444,\"#bd3786\"],[0.5555555555555556,\"#d8576b\"],[0.6666666666666666,\"#ed7953\"],[0.7777777777777778,\"#fb9f3a\"],[0.8888888888888888,\"#fdca26\"],[1.0,\"#f0f921\"]]}],\"heatmap\":[{\"type\":\"heatmap\",\"colorbar\":{\"outlinewidth\":0,\"ticks\":\"\"},\"colorscale\":[[0.0,\"#0d0887\"],[0.1111111111111111,\"#46039f\"],[0.2222222222222222,\"#7201a8\"],[0.3333333333333333,\"#9c179e\"],[0.4444444444444444,\"#bd3786\"],[0.5555555555555556,\"#d8576b\"],[0.6666666666666666,\"#ed7953\"],[0.7777777777777778,\"#fb9f3a\"],[0.8888888888888888,\"#fdca26\"],[1.0,\"#f0f921\"]]}],\"heatmapgl\":[{\"type\":\"heatmapgl\",\"colorbar\":{\"outlinewidth\":0,\"ticks\":\"\"},\"colorscale\":[[0.0,\"#0d0887\"],[0.1111111111111111,\"#46039f\"],[0.2222222222222222,\"#7201a8\"],[0.3333333333333333,\"#9c179e\"],[0.4444444444444444,\"#bd3786\"],[0.5555555555555556,\"#d8576b\"],[0.6666666666666666,\"#ed7953\"],[0.7777777777777778,\"#fb9f3a\"],[0.8888888888888888,\"#fdca26\"],[1.0,\"#f0f921\"]]}],\"contourcarpet\":[{\"type\":\"contourcarpet\",\"colorbar\":{\"outlinewidth\":0,\"ticks\":\"\"}}],\"contour\":[{\"type\":\"contour\",\"colorbar\":{\"outlinewidth\":0,\"ticks\":\"\"},\"colorscale\":[[0.0,\"#0d0887\"],[0.1111111111111111,\"#46039f\"],[0.2222222222222222,\"#7201a8\"],[0.3333333333333333,\"#9c179e\"],[0.4444444444444444,\"#bd3786\"],[0.5555555555555556,\"#d8576b\"],[0.6666666666666666,\"#ed7953\"],[0.7777777777777778,\"#fb9f3a\"],[0.8888888888888888,\"#fdca26\"],[1.0,\"#f0f921\"]]}],\"surface\":[{\"type\":\"surface\",\"colorbar\":{\"outlinewidth\":0,\"ticks\":\"\"},\"colorscale\":[[0.0,\"#0d0887\"],[0.1111111111111111,\"#46039f\"],[0.2222222222222222,\"#7201a8\"],[0.3333333333333333,\"#9c179e\"],[0.4444444444444444,\"#bd3786\"],[0.5555555555555556,\"#d8576b\"],[0.6666666666666666,\"#ed7953\"],[0.7777777777777778,\"#fb9f3a\"],[0.8888888888888888,\"#fdca26\"],[1.0,\"#f0f921\"]]}],\"mesh3d\":[{\"type\":\"mesh3d\",\"colorbar\":{\"outlinewidth\":0,\"ticks\":\"\"}}],\"scatter\":[{\"fillpattern\":{\"fillmode\":\"overlay\",\"size\":10,\"solidity\":0.2},\"type\":\"scatter\"}],\"parcoords\":[{\"type\":\"parcoords\",\"line\":{\"colorbar\":{\"outlinewidth\":0,\"ticks\":\"\"}}}],\"scatterpolargl\":[{\"type\":\"scatterpolargl\",\"marker\":{\"colorbar\":{\"outlinewidth\":0,\"ticks\":\"\"}}}],\"bar\":[{\"error_x\":{\"color\":\"#2a3f5f\"},\"error_y\":{\"color\":\"#2a3f5f\"},\"marker\":{\"line\":{\"color\":\"#E5ECF6\",\"width\":0.5},\"pattern\":{\"fillmode\":\"overlay\",\"size\":10,\"solidity\":0.2}},\"type\":\"bar\"}],\"scattergeo\":[{\"type\":\"scattergeo\",\"marker\":{\"colorbar\":{\"outlinewidth\":0,\"ticks\":\"\"}}}],\"scatterpolar\":[{\"type\":\"scatterpolar\",\"marker\":{\"colorbar\":{\"outlinewidth\":0,\"ticks\":\"\"}}}],\"histogram\":[{\"marker\":{\"pattern\":{\"fillmode\":\"overlay\",\"size\":10,\"solidity\":0.2}},\"type\":\"histogram\"}],\"scattergl\":[{\"type\":\"scattergl\",\"marker\":{\"colorbar\":{\"outlinewidth\":0,\"ticks\":\"\"}}}],\"scatter3d\":[{\"type\":\"scatter3d\",\"line\":{\"colorbar\":{\"outlinewidth\":0,\"ticks\":\"\"}},\"marker\":{\"colorbar\":{\"outlinewidth\":0,\"ticks\":\"\"}}}],\"scattermapbox\":[{\"type\":\"scattermapbox\",\"marker\":{\"colorbar\":{\"outlinewidth\":0,\"ticks\":\"\"}}}],\"scatterternary\":[{\"type\":\"scatterternary\",\"marker\":{\"colorbar\":{\"outlinewidth\":0,\"ticks\":\"\"}}}],\"scattercarpet\":[{\"type\":\"scattercarpet\",\"marker\":{\"colorbar\":{\"outlinewidth\":0,\"ticks\":\"\"}}}],\"carpet\":[{\"aaxis\":{\"endlinecolor\":\"#2a3f5f\",\"gridcolor\":\"white\",\"linecolor\":\"white\",\"minorgridcolor\":\"white\",\"startlinecolor\":\"#2a3f5f\"},\"baxis\":{\"endlinecolor\":\"#2a3f5f\",\"gridcolor\":\"white\",\"linecolor\":\"white\",\"minorgridcolor\":\"white\",\"startlinecolor\":\"#2a3f5f\"},\"type\":\"carpet\"}],\"table\":[{\"cells\":{\"fill\":{\"color\":\"#EBF0F8\"},\"line\":{\"color\":\"white\"}},\"header\":{\"fill\":{\"color\":\"#C8D4E3\"},\"line\":{\"color\":\"white\"}},\"type\":\"table\"}],\"barpolar\":[{\"marker\":{\"line\":{\"color\":\"#E5ECF6\",\"width\":0.5},\"pattern\":{\"fillmode\":\"overlay\",\"size\":10,\"solidity\":0.2}},\"type\":\"barpolar\"}],\"pie\":[{\"automargin\":true,\"type\":\"pie\"}]},\"layout\":{\"autotypenumbers\":\"strict\",\"colorway\":[\"#636efa\",\"#EF553B\",\"#00cc96\",\"#ab63fa\",\"#FFA15A\",\"#19d3f3\",\"#FF6692\",\"#B6E880\",\"#FF97FF\",\"#FECB52\"],\"font\":{\"color\":\"#2a3f5f\"},\"hovermode\":\"closest\",\"hoverlabel\":{\"align\":\"left\"},\"paper_bgcolor\":\"white\",\"plot_bgcolor\":\"#E5ECF6\",\"polar\":{\"bgcolor\":\"#E5ECF6\",\"angularaxis\":{\"gridcolor\":\"white\",\"linecolor\":\"white\",\"ticks\":\"\"},\"radialaxis\":{\"gridcolor\":\"white\",\"linecolor\":\"white\",\"ticks\":\"\"}},\"ternary\":{\"bgcolor\":\"#E5ECF6\",\"aaxis\":{\"gridcolor\":\"white\",\"linecolor\":\"white\",\"ticks\":\"\"},\"baxis\":{\"gridcolor\":\"white\",\"linecolor\":\"white\",\"ticks\":\"\"},\"caxis\":{\"gridcolor\":\"white\",\"linecolor\":\"white\",\"ticks\":\"\"}},\"coloraxis\":{\"colorbar\":{\"outlinewidth\":0,\"ticks\":\"\"}},\"colorscale\":{\"sequential\":[[0.0,\"#0d0887\"],[0.1111111111111111,\"#46039f\"],[0.2222222222222222,\"#7201a8\"],[0.3333333333333333,\"#9c179e\"],[0.4444444444444444,\"#bd3786\"],[0.5555555555555556,\"#d8576b\"],[0.6666666666666666,\"#ed7953\"],[0.7777777777777778,\"#fb9f3a\"],[0.8888888888888888,\"#fdca26\"],[1.0,\"#f0f921\"]],\"sequentialminus\":[[0.0,\"#0d0887\"],[0.1111111111111111,\"#46039f\"],[0.2222222222222222,\"#7201a8\"],[0.3333333333333333,\"#9c179e\"],[0.4444444444444444,\"#bd3786\"],[0.5555555555555556,\"#d8576b\"],[0.6666666666666666,\"#ed7953\"],[0.7777777777777778,\"#fb9f3a\"],[0.8888888888888888,\"#fdca26\"],[1.0,\"#f0f921\"]],\"diverging\":[[0,\"#8e0152\"],[0.1,\"#c51b7d\"],[0.2,\"#de77ae\"],[0.3,\"#f1b6da\"],[0.4,\"#fde0ef\"],[0.5,\"#f7f7f7\"],[0.6,\"#e6f5d0\"],[0.7,\"#b8e186\"],[0.8,\"#7fbc41\"],[0.9,\"#4d9221\"],[1,\"#276419\"]]},\"xaxis\":{\"gridcolor\":\"white\",\"linecolor\":\"white\",\"ticks\":\"\",\"title\":{\"standoff\":15},\"zerolinecolor\":\"white\",\"automargin\":true,\"zerolinewidth\":2},\"yaxis\":{\"gridcolor\":\"white\",\"linecolor\":\"white\",\"ticks\":\"\",\"title\":{\"standoff\":15},\"zerolinecolor\":\"white\",\"automargin\":true,\"zerolinewidth\":2},\"scene\":{\"xaxis\":{\"backgroundcolor\":\"#E5ECF6\",\"gridcolor\":\"white\",\"linecolor\":\"white\",\"showbackground\":true,\"ticks\":\"\",\"zerolinecolor\":\"white\",\"gridwidth\":2},\"yaxis\":{\"backgroundcolor\":\"#E5ECF6\",\"gridcolor\":\"white\",\"linecolor\":\"white\",\"showbackground\":true,\"ticks\":\"\",\"zerolinecolor\":\"white\",\"gridwidth\":2},\"zaxis\":{\"backgroundcolor\":\"#E5ECF6\",\"gridcolor\":\"white\",\"linecolor\":\"white\",\"showbackground\":true,\"ticks\":\"\",\"zerolinecolor\":\"white\",\"gridwidth\":2}},\"shapedefaults\":{\"line\":{\"color\":\"#2a3f5f\"}},\"annotationdefaults\":{\"arrowcolor\":\"#2a3f5f\",\"arrowhead\":0,\"arrowwidth\":1},\"geo\":{\"bgcolor\":\"white\",\"landcolor\":\"#E5ECF6\",\"subunitcolor\":\"white\",\"showland\":true,\"showlakes\":true,\"lakecolor\":\"white\"},\"title\":{\"x\":0.05},\"mapbox\":{\"style\":\"light\"}}},\"xaxis\":{\"anchor\":\"y\",\"domain\":[0.0,1.0],\"title\":{\"text\":\"author(s)\"}},\"yaxis\":{\"anchor\":\"x\",\"domain\":[0.0,1.0],\"title\":{\"text\":\"count\"}},\"legend\":{\"tracegroupgap\":0},\"margin\":{\"t\":60},\"barmode\":\"relative\"},                        {\"responsive\": true}                    ).then(function(){\n",
       "                            \n",
       "var gd = document.getElementById('a3f63f48-4c8c-49d4-9aa8-3a26e68bcfc1');\n",
       "var x = new MutationObserver(function (mutations, observer) {{\n",
       "        var display = window.getComputedStyle(gd).display;\n",
       "        if (!display || display === 'none') {{\n",
       "            console.log([gd, 'removed!']);\n",
       "            Plotly.purge(gd);\n",
       "            observer.disconnect();\n",
       "        }}\n",
       "}});\n",
       "\n",
       "// Listen for the removal of the full notebook cells\n",
       "var notebookContainer = gd.closest('#notebook-container');\n",
       "if (notebookContainer) {{\n",
       "    x.observe(notebookContainer, {childList: true});\n",
       "}}\n",
       "\n",
       "// Listen for the clearing of the current output cell\n",
       "var outputEl = gd.closest('.output');\n",
       "if (outputEl) {{\n",
       "    x.observe(outputEl, {childList: true});\n",
       "}}\n",
       "\n",
       "                        })                };                });            </script>        </div>"
      ]
     },
     "metadata": {},
     "output_type": "display_data"
    }
   ],
   "source": [
    "px.histogram( completion_date_unknown, x = \"author(s)\")"
   ]
  },
  {
   "cell_type": "code",
   "execution_count": 36,
   "id": "361d1e1a",
   "metadata": {
    "execution": {
     "iopub.execute_input": "2022-06-08T19:58:17.270700Z",
     "iopub.status.busy": "2022-06-08T19:58:17.269858Z",
     "iopub.status.idle": "2022-06-08T19:58:17.278847Z",
     "shell.execute_reply": "2022-06-08T19:58:17.278138Z"
    },
    "papermill": {
     "duration": 0.033173,
     "end_time": "2022-06-08T19:58:17.280576",
     "exception": false,
     "start_time": "2022-06-08T19:58:17.247403",
     "status": "completed"
    },
    "tags": []
   },
   "outputs": [
    {
     "data": {
      "text/plain": [
       "array(['Physical Book'], dtype=object)"
      ]
     },
     "execution_count": 36,
     "metadata": {},
     "output_type": "execute_result"
    }
   ],
   "source": [
    "completion_date_unknown[(completion_date_unknown[\"author(s)\"] ==\"東野 圭吾\")|(completion_date_unknown[\"author(s)\"] ==\"藤崎 都\")][\"format\"].unique()"
   ]
  },
  {
   "cell_type": "code",
   "execution_count": 37,
   "id": "92a92f24",
   "metadata": {
    "execution": {
     "iopub.execute_input": "2022-06-08T19:58:17.325249Z",
     "iopub.status.busy": "2022-06-08T19:58:17.324486Z",
     "iopub.status.idle": "2022-06-08T19:58:17.501121Z",
     "shell.execute_reply": "2022-06-08T19:58:17.500396Z"
    },
    "papermill": {
     "duration": 0.201376,
     "end_time": "2022-06-08T19:58:17.502992",
     "exception": false,
     "start_time": "2022-06-08T19:58:17.301616",
     "status": "completed"
    },
    "tags": []
   },
   "outputs": [
    {
     "data": {
      "text/plain": [
       "<AxesSubplot:xlabel='format', ylabel='count'>"
      ]
     },
     "execution_count": 37,
     "metadata": {},
     "output_type": "execute_result"
    },
    {
     "data": {
      "image/png": "[encoded data removed]",
      "text/plain": [
       "<Figure size 432x288 with 1 Axes>"
      ]
     },
     "metadata": {},
     "output_type": "display_data"
    }
   ],
   "source": [
    "sns.countplot(x = \"format\", data = completion_date_unknown)"
   ]
  },
  {
   "cell_type": "code",
   "execution_count": 38,
   "id": "4dbefa54",
   "metadata": {
    "execution": {
     "iopub.execute_input": "2022-06-08T19:58:17.550555Z",
     "iopub.status.busy": "2022-06-08T19:58:17.549851Z",
     "iopub.status.idle": "2022-06-08T19:58:17.557339Z",
     "shell.execute_reply": "2022-06-08T19:58:17.556398Z"
    },
    "papermill": {
     "duration": 0.033554,
     "end_time": "2022-06-08T19:58:17.559424",
     "exception": false,
     "start_time": "2022-06-08T19:58:17.525870",
     "status": "completed"
    },
    "tags": []
   },
   "outputs": [
    {
     "data": {
      "text/plain": [
       "79.25"
      ]
     },
     "execution_count": 38,
     "metadata": {},
     "output_type": "execute_result"
    }
   ],
   "source": [
    "round(((completion_date_unknown[completion_date_unknown[\"format\"]== \"Physical Book\"].shape[0]/completion_date_unknown.shape[0])*100), 2)"
   ]
  },
  {
   "cell_type": "code",
   "execution_count": 39,
   "id": "807a9102",
   "metadata": {
    "execution": {
     "iopub.execute_input": "2022-06-08T19:58:17.605541Z",
     "iopub.status.busy": "2022-06-08T19:58:17.604820Z",
     "iopub.status.idle": "2022-06-08T19:58:17.624230Z",
     "shell.execute_reply": "2022-06-08T19:58:17.623287Z"
    },
    "papermill": {
     "duration": 0.044637,
     "end_time": "2022-06-08T19:58:17.626131",
     "exception": false,
     "start_time": "2022-06-08T19:58:17.581494",
     "status": "completed"
    },
    "tags": []
   },
   "outputs": [
    {
     "data": {
      "text/html": [
       "<div>\n",
       "<style scoped>\n",
       "    .dataframe tbody tr th:only-of-type {\n",
       "        vertical-align: middle;\n",
       "    }\n",
       "\n",
       "    .dataframe tbody tr th {\n",
       "        vertical-align: top;\n",
       "    }\n",
       "\n",
       "    .dataframe thead th {\n",
       "        text-align: right;\n",
       "    }\n",
       "</style>\n",
       "<table border=\"1\" class=\"dataframe\">\n",
       "  <thead>\n",
       "    <tr style=\"text-align: right;\">\n",
       "      <th></th>\n",
       "      <th>completion date</th>\n",
       "      <th>Title</th>\n",
       "      <th>author(s)</th>\n",
       "      <th>pages</th>\n",
       "      <th>review</th>\n",
       "      <th>rating</th>\n",
       "      <th>status</th>\n",
       "      <th>format</th>\n",
       "      <th>platform</th>\n",
       "      <th>publisher</th>\n",
       "      <th>Imprint</th>\n",
       "      <th>publication date</th>\n",
       "      <th>type</th>\n",
       "      <th>genre</th>\n",
       "      <th>language</th>\n",
       "      <th>publication_year</th>\n",
       "      <th>publication_month</th>\n",
       "      <th>completion_year</th>\n",
       "      <th>completion_month</th>\n",
       "    </tr>\n",
       "  </thead>\n",
       "  <tbody>\n",
       "    <tr>\n",
       "      <th>349</th>\n",
       "      <td>NaT</td>\n",
       "      <td>どうしても生きてる</td>\n",
       "      <td>朝井 リョウ</td>\n",
       "      <td>323</td>\n",
       "      <td>Yes</td>\n",
       "      <td>4.0</td>\n",
       "      <td>Completed</td>\n",
       "      <td>Audiobook</td>\n",
       "      <td>Audible</td>\n",
       "      <td>幻冬舎</td>\n",
       "      <td>幻冬舎文庫</td>\n",
       "      <td>2019-10-10</td>\n",
       "      <td>Fiction</td>\n",
       "      <td>Contemporary</td>\n",
       "      <td>Japanese</td>\n",
       "      <td>2019</td>\n",
       "      <td>10</td>\n",
       "      <td>NaN</td>\n",
       "      <td>NaN</td>\n",
       "    </tr>\n",
       "  </tbody>\n",
       "</table>\n",
       "</div>"
      ],
      "text/plain": [
       "    completion date      Title author(s)  pages review  rating     status  \\\n",
       "349             NaT  どうしても生きてる    朝井 リョウ    323    Yes     4.0  Completed   \n",
       "\n",
       "        format platform publisher Imprint publication date     type  \\\n",
       "349  Audiobook  Audible       幻冬舎   幻冬舎文庫       2019-10-10  Fiction   \n",
       "\n",
       "            genre  language  publication_year  publication_month  \\\n",
       "349  Contemporary  Japanese              2019                 10   \n",
       "\n",
       "     completion_year  completion_month  \n",
       "349              NaN               NaN  "
      ]
     },
     "execution_count": 39,
     "metadata": {},
     "output_type": "execute_result"
    }
   ],
   "source": [
    "completion_date_unknown[completion_date_unknown[\"format\"]== \"Audiobook\"]"
   ]
  },
  {
   "cell_type": "code",
   "execution_count": 40,
   "id": "93b9fdcc",
   "metadata": {
    "execution": {
     "iopub.execute_input": "2022-06-08T19:58:17.673054Z",
     "iopub.status.busy": "2022-06-08T19:58:17.672027Z",
     "iopub.status.idle": "2022-06-08T19:58:17.728948Z",
     "shell.execute_reply": "2022-06-08T19:58:17.727994Z"
    },
    "papermill": {
     "duration": 0.082261,
     "end_time": "2022-06-08T19:58:17.731052",
     "exception": false,
     "start_time": "2022-06-08T19:58:17.648791",
     "status": "completed"
    },
    "tags": []
   },
   "outputs": [
    {
     "data": {
      "text/html": [
       "<div>                            <div id=\"8e9017f6-3650-47c8-b592-7ba3ef6da6cf\" class=\"plotly-graph-div\" style=\"height:525px; width:100%;\"></div>            <script type=\"text/javascript\">                require([\"plotly\"], function(Plotly) {                    window.PLOTLYENV=window.PLOTLYENV || {};                                    if (document.getElementById(\"8e9017f6-3650-47c8-b592-7ba3ef6da6cf\")) {                    Plotly.newPlot(                        \"8e9017f6-3650-47c8-b592-7ba3ef6da6cf\",                        [{\"alignmentgroup\":\"True\",\"bingroup\":\"x\",\"hovertemplate\":\"Imprint=%{x}<br>count=%{y}<extra></extra>\",\"legendgroup\":\"\",\"marker\":{\"color\":\"#636efa\",\"pattern\":{\"shape\":\"\"}},\"name\":\"\",\"offsetgroup\":\"\",\"orientation\":\"v\",\"showlegend\":false,\"x\":[\"新潮文庫\",\"新潮文庫\",\"講談社文庫\",\"講談社文庫\",\"Wordsworth Editions\",\"講談社文庫\",\"コバルト文庫\",\"コバルト文庫\",\"コバルト文庫\",\"Penguin Classics\",\"祥伝社文庫\",\"幻冬舎コミックス\",\"花とゆめCOMICSスペシャルララノベルズ\",\"Penguin\",\"幻冬舎コミックス\",\"フラワーコミックスα\",\"祥伝社文庫\",\"幻冬舎コミックス\",\"メディアワークス文庫\",\"メディアワークス文庫\",\"モーニング KC\",\"メディアワークス文庫\",\"幻冬舎コミックス\",\"Penguin\",\"角川ルビー文庫\",\"Ｇファンタジーノベルズ\",\"リンダブックス\",\"メディアワークス文庫\",\"幻冬舎コミックス\",\"角川ルビー文庫\",\"角川ルビー文庫\",\"メディアワークス文庫\",\"カドカワコミックス・エース\",\"文春文庫\",\"角川ルビー文庫\",\"アルファポリス\",\"幻冬舎コミックス\",\"花とゆめCOMICSスペシャルララノベルズ\",\"角川ルビー文庫\",\"角川ビーンズ文庫\",\"集英社文庫\",\"角川ビーンズ文庫\",\"集英社文庫\",\"小学館文庫\",\"角川ルビー文庫\",\"メディアワークス文庫\",\"メディアワークス文庫\",\"Bloomsbury Children's Books\",\"ノン・ノベル\",\"集英社オレンジ文庫\",\"GUSH COMICS\",\"Collins Classics\",\"幻冬舎文庫\"],\"xaxis\":\"x\",\"yaxis\":\"y\",\"type\":\"histogram\"}],                        {\"template\":{\"data\":{\"histogram2dcontour\":[{\"type\":\"histogram2dcontour\",\"colorbar\":{\"outlinewidth\":0,\"ticks\":\"\"},\"colorscale\":[[0.0,\"#0d0887\"],[0.1111111111111111,\"#46039f\"],[0.2222222222222222,\"#7201a8\"],[0.3333333333333333,\"#9c179e\"],[0.4444444444444444,\"#bd3786\"],[0.5555555555555556,\"#d8576b\"],[0.6666666666666666,\"#ed7953\"],[0.7777777777777778,\"#fb9f3a\"],[0.8888888888888888,\"#fdca26\"],[1.0,\"#f0f921\"]]}],\"choropleth\":[{\"type\":\"choropleth\",\"colorbar\":{\"outlinewidth\":0,\"ticks\":\"\"}}],\"histogram2d\":[{\"type\":\"histogram2d\",\"colorbar\":{\"outlinewidth\":0,\"ticks\":\"\"},\"colorscale\":[[0.0,\"#0d0887\"],[0.1111111111111111,\"#46039f\"],[0.2222222222222222,\"#7201a8\"],[0.3333333333333333,\"#9c179e\"],[0.4444444444444444,\"#bd3786\"],[0.5555555555555556,\"#d8576b\"],[0.6666666666666666,\"#ed7953\"],[0.7777777777777778,\"#fb9f3a\"],[0.8888888888888888,\"#fdca26\"],[1.0,\"#f0f921\"]]}],\"heatmap\":[{\"type\":\"heatmap\",\"colorbar\":{\"outlinewidth\":0,\"ticks\":\"\"},\"colorscale\":[[0.0,\"#0d0887\"],[0.1111111111111111,\"#46039f\"],[0.2222222222222222,\"#7201a8\"],[0.3333333333333333,\"#9c179e\"],[0.4444444444444444,\"#bd3786\"],[0.5555555555555556,\"#d8576b\"],[0.6666666666666666,\"#ed7953\"],[0.7777777777777778,\"#fb9f3a\"],[0.8888888888888888,\"#fdca26\"],[1.0,\"#f0f921\"]]}],\"heatmapgl\":[{\"type\":\"heatmapgl\",\"colorbar\":{\"outlinewidth\":0,\"ticks\":\"\"},\"colorscale\":[[0.0,\"#0d0887\"],[0.1111111111111111,\"#46039f\"],[0.2222222222222222,\"#7201a8\"],[0.3333333333333333,\"#9c179e\"],[0.4444444444444444,\"#bd3786\"],[0.5555555555555556,\"#d8576b\"],[0.6666666666666666,\"#ed7953\"],[0.7777777777777778,\"#fb9f3a\"],[0.8888888888888888,\"#fdca26\"],[1.0,\"#f0f921\"]]}],\"contourcarpet\":[{\"type\":\"contourcarpet\",\"colorbar\":{\"outlinewidth\":0,\"ticks\":\"\"}}],\"contour\":[{\"type\":\"contour\",\"colorbar\":{\"outlinewidth\":0,\"ticks\":\"\"},\"colorscale\":[[0.0,\"#0d0887\"],[0.1111111111111111,\"#46039f\"],[0.2222222222222222,\"#7201a8\"],[0.3333333333333333,\"#9c179e\"],[0.4444444444444444,\"#bd3786\"],[0.5555555555555556,\"#d8576b\"],[0.6666666666666666,\"#ed7953\"],[0.7777777777777778,\"#fb9f3a\"],[0.8888888888888888,\"#fdca26\"],[1.0,\"#f0f921\"]]}],\"surface\":[{\"type\":\"surface\",\"colorbar\":{\"outlinewidth\":0,\"ticks\":\"\"},\"colorscale\":[[0.0,\"#0d0887\"],[0.1111111111111111,\"#46039f\"],[0.2222222222222222,\"#7201a8\"],[0.3333333333333333,\"#9c179e\"],[0.4444444444444444,\"#bd3786\"],[0.5555555555555556,\"#d8576b\"],[0.6666666666666666,\"#ed7953\"],[0.7777777777777778,\"#fb9f3a\"],[0.8888888888888888,\"#fdca26\"],[1.0,\"#f0f921\"]]}],\"mesh3d\":[{\"type\":\"mesh3d\",\"colorbar\":{\"outlinewidth\":0,\"ticks\":\"\"}}],\"scatter\":[{\"fillpattern\":{\"fillmode\":\"overlay\",\"size\":10,\"solidity\":0.2},\"type\":\"scatter\"}],\"parcoords\":[{\"type\":\"parcoords\",\"line\":{\"colorbar\":{\"outlinewidth\":0,\"ticks\":\"\"}}}],\"scatterpolargl\":[{\"type\":\"scatterpolargl\",\"marker\":{\"colorbar\":{\"outlinewidth\":0,\"ticks\":\"\"}}}],\"bar\":[{\"error_x\":{\"color\":\"#2a3f5f\"},\"error_y\":{\"color\":\"#2a3f5f\"},\"marker\":{\"line\":{\"color\":\"#E5ECF6\",\"width\":0.5},\"pattern\":{\"fillmode\":\"overlay\",\"size\":10,\"solidity\":0.2}},\"type\":\"bar\"}],\"scattergeo\":[{\"type\":\"scattergeo\",\"marker\":{\"colorbar\":{\"outlinewidth\":0,\"ticks\":\"\"}}}],\"scatterpolar\":[{\"type\":\"scatterpolar\",\"marker\":{\"colorbar\":{\"outlinewidth\":0,\"ticks\":\"\"}}}],\"histogram\":[{\"marker\":{\"pattern\":{\"fillmode\":\"overlay\",\"size\":10,\"solidity\":0.2}},\"type\":\"histogram\"}],\"scattergl\":[{\"type\":\"scattergl\",\"marker\":{\"colorbar\":{\"outlinewidth\":0,\"ticks\":\"\"}}}],\"scatter3d\":[{\"type\":\"scatter3d\",\"line\":{\"colorbar\":{\"outlinewidth\":0,\"ticks\":\"\"}},\"marker\":{\"colorbar\":{\"outlinewidth\":0,\"ticks\":\"\"}}}],\"scattermapbox\":[{\"type\":\"scattermapbox\",\"marker\":{\"colorbar\":{\"outlinewidth\":0,\"ticks\":\"\"}}}],\"scatterternary\":[{\"type\":\"scatterternary\",\"marker\":{\"colorbar\":{\"outlinewidth\":0,\"ticks\":\"\"}}}],\"scattercarpet\":[{\"type\":\"scattercarpet\",\"marker\":{\"colorbar\":{\"outlinewidth\":0,\"ticks\":\"\"}}}],\"carpet\":[{\"aaxis\":{\"endlinecolor\":\"#2a3f5f\",\"gridcolor\":\"white\",\"linecolor\":\"white\",\"minorgridcolor\":\"white\",\"startlinecolor\":\"#2a3f5f\"},\"baxis\":{\"endlinecolor\":\"#2a3f5f\",\"gridcolor\":\"white\",\"linecolor\":\"white\",\"minorgridcolor\":\"white\",\"startlinecolor\":\"#2a3f5f\"},\"type\":\"carpet\"}],\"table\":[{\"cells\":{\"fill\":{\"color\":\"#EBF0F8\"},\"line\":{\"color\":\"white\"}},\"header\":{\"fill\":{\"color\":\"#C8D4E3\"},\"line\":{\"color\":\"white\"}},\"type\":\"table\"}],\"barpolar\":[{\"marker\":{\"line\":{\"color\":\"#E5ECF6\",\"width\":0.5},\"pattern\":{\"fillmode\":\"overlay\",\"size\":10,\"solidity\":0.2}},\"type\":\"barpolar\"}],\"pie\":[{\"automargin\":true,\"type\":\"pie\"}]},\"layout\":{\"autotypenumbers\":\"strict\",\"colorway\":[\"#636efa\",\"#EF553B\",\"#00cc96\",\"#ab63fa\",\"#FFA15A\",\"#19d3f3\",\"#FF6692\",\"#B6E880\",\"#FF97FF\",\"#FECB52\"],\"font\":{\"color\":\"#2a3f5f\"},\"hovermode\":\"closest\",\"hoverlabel\":{\"align\":\"left\"},\"paper_bgcolor\":\"white\",\"plot_bgcolor\":\"#E5ECF6\",\"polar\":{\"bgcolor\":\"#E5ECF6\",\"angularaxis\":{\"gridcolor\":\"white\",\"linecolor\":\"white\",\"ticks\":\"\"},\"radialaxis\":{\"gridcolor\":\"white\",\"linecolor\":\"white\",\"ticks\":\"\"}},\"ternary\":{\"bgcolor\":\"#E5ECF6\",\"aaxis\":{\"gridcolor\":\"white\",\"linecolor\":\"white\",\"ticks\":\"\"},\"baxis\":{\"gridcolor\":\"white\",\"linecolor\":\"white\",\"ticks\":\"\"},\"caxis\":{\"gridcolor\":\"white\",\"linecolor\":\"white\",\"ticks\":\"\"}},\"coloraxis\":{\"colorbar\":{\"outlinewidth\":0,\"ticks\":\"\"}},\"colorscale\":{\"sequential\":[[0.0,\"#0d0887\"],[0.1111111111111111,\"#46039f\"],[0.2222222222222222,\"#7201a8\"],[0.3333333333333333,\"#9c179e\"],[0.4444444444444444,\"#bd3786\"],[0.5555555555555556,\"#d8576b\"],[0.6666666666666666,\"#ed7953\"],[0.7777777777777778,\"#fb9f3a\"],[0.8888888888888888,\"#fdca26\"],[1.0,\"#f0f921\"]],\"sequentialminus\":[[0.0,\"#0d0887\"],[0.1111111111111111,\"#46039f\"],[0.2222222222222222,\"#7201a8\"],[0.3333333333333333,\"#9c179e\"],[0.4444444444444444,\"#bd3786\"],[0.5555555555555556,\"#d8576b\"],[0.6666666666666666,\"#ed7953\"],[0.7777777777777778,\"#fb9f3a\"],[0.8888888888888888,\"#fdca26\"],[1.0,\"#f0f921\"]],\"diverging\":[[0,\"#8e0152\"],[0.1,\"#c51b7d\"],[0.2,\"#de77ae\"],[0.3,\"#f1b6da\"],[0.4,\"#fde0ef\"],[0.5,\"#f7f7f7\"],[0.6,\"#e6f5d0\"],[0.7,\"#b8e186\"],[0.8,\"#7fbc41\"],[0.9,\"#4d9221\"],[1,\"#276419\"]]},\"xaxis\":{\"gridcolor\":\"white\",\"linecolor\":\"white\",\"ticks\":\"\",\"title\":{\"standoff\":15},\"zerolinecolor\":\"white\",\"automargin\":true,\"zerolinewidth\":2},\"yaxis\":{\"gridcolor\":\"white\",\"linecolor\":\"white\",\"ticks\":\"\",\"title\":{\"standoff\":15},\"zerolinecolor\":\"white\",\"automargin\":true,\"zerolinewidth\":2},\"scene\":{\"xaxis\":{\"backgroundcolor\":\"#E5ECF6\",\"gridcolor\":\"white\",\"linecolor\":\"white\",\"showbackground\":true,\"ticks\":\"\",\"zerolinecolor\":\"white\",\"gridwidth\":2},\"yaxis\":{\"backgroundcolor\":\"#E5ECF6\",\"gridcolor\":\"white\",\"linecolor\":\"white\",\"showbackground\":true,\"ticks\":\"\",\"zerolinecolor\":\"white\",\"gridwidth\":2},\"zaxis\":{\"backgroundcolor\":\"#E5ECF6\",\"gridcolor\":\"white\",\"linecolor\":\"white\",\"showbackground\":true,\"ticks\":\"\",\"zerolinecolor\":\"white\",\"gridwidth\":2}},\"shapedefaults\":{\"line\":{\"color\":\"#2a3f5f\"}},\"annotationdefaults\":{\"arrowcolor\":\"#2a3f5f\",\"arrowhead\":0,\"arrowwidth\":1},\"geo\":{\"bgcolor\":\"white\",\"landcolor\":\"#E5ECF6\",\"subunitcolor\":\"white\",\"showland\":true,\"showlakes\":true,\"lakecolor\":\"white\"},\"title\":{\"x\":0.05},\"mapbox\":{\"style\":\"light\"}}},\"xaxis\":{\"anchor\":\"y\",\"domain\":[0.0,1.0],\"title\":{\"text\":\"Imprint\"}},\"yaxis\":{\"anchor\":\"x\",\"domain\":[0.0,1.0],\"title\":{\"text\":\"count\"}},\"legend\":{\"tracegroupgap\":0},\"margin\":{\"t\":60},\"barmode\":\"relative\"},                        {\"responsive\": true}                    ).then(function(){\n",
       "                            \n",
       "var gd = document.getElementById('8e9017f6-3650-47c8-b592-7ba3ef6da6cf');\n",
       "var x = new MutationObserver(function (mutations, observer) {{\n",
       "        var display = window.getComputedStyle(gd).display;\n",
       "        if (!display || display === 'none') {{\n",
       "            console.log([gd, 'removed!']);\n",
       "            Plotly.purge(gd);\n",
       "            observer.disconnect();\n",
       "        }}\n",
       "}});\n",
       "\n",
       "// Listen for the removal of the full notebook cells\n",
       "var notebookContainer = gd.closest('#notebook-container');\n",
       "if (notebookContainer) {{\n",
       "    x.observe(notebookContainer, {childList: true});\n",
       "}}\n",
       "\n",
       "// Listen for the clearing of the current output cell\n",
       "var outputEl = gd.closest('.output');\n",
       "if (outputEl) {{\n",
       "    x.observe(outputEl, {childList: true});\n",
       "}}\n",
       "\n",
       "                        })                };                });            </script>        </div>"
      ]
     },
     "metadata": {},
     "output_type": "display_data"
    }
   ],
   "source": [
    "px.histogram( completion_date_unknown, x = \"Imprint\")"
   ]
  },
  {
   "cell_type": "code",
   "execution_count": 41,
   "id": "7d855a6c",
   "metadata": {
    "execution": {
     "iopub.execute_input": "2022-06-08T19:58:17.777711Z",
     "iopub.status.busy": "2022-06-08T19:58:17.777226Z",
     "iopub.status.idle": "2022-06-08T19:58:17.786658Z",
     "shell.execute_reply": "2022-06-08T19:58:17.785783Z"
    },
    "papermill": {
     "duration": 0.035093,
     "end_time": "2022-06-08T19:58:17.788462",
     "exception": false,
     "start_time": "2022-06-08T19:58:17.753369",
     "status": "completed"
    },
    "tags": []
   },
   "outputs": [
    {
     "data": {
      "text/plain": [
       "array(['講談社文庫', '幻冬舎コミックス', '角川ルビー文庫', '文春文庫', '集英社文庫'], dtype=object)"
      ]
     },
     "execution_count": 41,
     "metadata": {},
     "output_type": "execute_result"
    }
   ],
   "source": [
    "completion_date_unknown[(completion_date_unknown[\"author(s)\"] ==\"東野 圭吾\")|(completion_date_unknown[\"author(s)\"] ==\"藤崎 都\")|(completion_date_unknown[\"author(s)\"] ==\"日丸屋 秀和\")][\"Imprint\"].unique()"
   ]
  },
  {
   "cell_type": "code",
   "execution_count": 42,
   "id": "16245d1a",
   "metadata": {
    "execution": {
     "iopub.execute_input": "2022-06-08T19:58:17.836354Z",
     "iopub.status.busy": "2022-06-08T19:58:17.835705Z",
     "iopub.status.idle": "2022-06-08T19:58:17.887807Z",
     "shell.execute_reply": "2022-06-08T19:58:17.886862Z"
    },
    "papermill": {
     "duration": 0.078728,
     "end_time": "2022-06-08T19:58:17.889948",
     "exception": false,
     "start_time": "2022-06-08T19:58:17.811220",
     "status": "completed"
    },
    "tags": []
   },
   "outputs": [
    {
     "data": {
      "text/html": [
       "<div>                            <div id=\"4223b926-7060-44c3-98b8-80f6d181f23d\" class=\"plotly-graph-div\" style=\"height:525px; width:100%;\"></div>            <script type=\"text/javascript\">                require([\"plotly\"], function(Plotly) {                    window.PLOTLYENV=window.PLOTLYENV || {};                                    if (document.getElementById(\"4223b926-7060-44c3-98b8-80f6d181f23d\")) {                    Plotly.newPlot(                        \"4223b926-7060-44c3-98b8-80f6d181f23d\",                        [{\"alignmentgroup\":\"True\",\"bingroup\":\"x\",\"hovertemplate\":\"publisher=%{x}<br>count=%{y}<extra></extra>\",\"legendgroup\":\"\",\"marker\":{\"color\":\"#636efa\",\"pattern\":{\"shape\":\"\"}},\"name\":\"\",\"offsetgroup\":\"\",\"orientation\":\"v\",\"showlegend\":false,\"x\":[\"新潮社\",\"新潮社\",\"講談社\",\"講談社\",\"Wordsworth Editions\",\"講談社\",\"集英社\",\"集英社\",\"集英社\",\"Penguin Random House\",\"祥伝社\",\"幻冬舎\",\"白泉社\",\"Penguin Random House\",\"幻冬舎\",\"小学館\",\"祥伝社\",\"幻冬舎\",\"KADOKAWA\",\"KADOKAWA\",\"講談社\",\"KADOKAWA\",\"幻冬舎\",\"Penguin Random House\",\"KADOKAWA\",\"スクウェア・エニックス\",\"泰文堂\",\"KADOKAWA\",\"幻冬舎\",\"KADOKAWA\",\"KADOKAWA\",\"KADOKAWA\",\"KADOKAWA\",\"文藝春秋\",\"KADOKAWA\",\"アルファポリス\",\"幻冬舎\",\"白泉社\",\"KADOKAWA\",\"KADOKAWA\",\"集英社\",\"KADOKAWA\",\"集英社\",\"小学館\",\"KADOKAWA\",\"KADOKAWA\",\"KADOKAWA\",\"Bloomsbury\",\"祥伝社\",\"集英社\",\"海王社\",\"William Collins\",\"幻冬舎\"],\"xaxis\":\"x\",\"yaxis\":\"y\",\"type\":\"histogram\"}],                        {\"template\":{\"data\":{\"histogram2dcontour\":[{\"type\":\"histogram2dcontour\",\"colorbar\":{\"outlinewidth\":0,\"ticks\":\"\"},\"colorscale\":[[0.0,\"#0d0887\"],[0.1111111111111111,\"#46039f\"],[0.2222222222222222,\"#7201a8\"],[0.3333333333333333,\"#9c179e\"],[0.4444444444444444,\"#bd3786\"],[0.5555555555555556,\"#d8576b\"],[0.6666666666666666,\"#ed7953\"],[0.7777777777777778,\"#fb9f3a\"],[0.8888888888888888,\"#fdca26\"],[1.0,\"#f0f921\"]]}],\"choropleth\":[{\"type\":\"choropleth\",\"colorbar\":{\"outlinewidth\":0,\"ticks\":\"\"}}],\"histogram2d\":[{\"type\":\"histogram2d\",\"colorbar\":{\"outlinewidth\":0,\"ticks\":\"\"},\"colorscale\":[[0.0,\"#0d0887\"],[0.1111111111111111,\"#46039f\"],[0.2222222222222222,\"#7201a8\"],[0.3333333333333333,\"#9c179e\"],[0.4444444444444444,\"#bd3786\"],[0.5555555555555556,\"#d8576b\"],[0.6666666666666666,\"#ed7953\"],[0.7777777777777778,\"#fb9f3a\"],[0.8888888888888888,\"#fdca26\"],[1.0,\"#f0f921\"]]}],\"heatmap\":[{\"type\":\"heatmap\",\"colorbar\":{\"outlinewidth\":0,\"ticks\":\"\"},\"colorscale\":[[0.0,\"#0d0887\"],[0.1111111111111111,\"#46039f\"],[0.2222222222222222,\"#7201a8\"],[0.3333333333333333,\"#9c179e\"],[0.4444444444444444,\"#bd3786\"],[0.5555555555555556,\"#d8576b\"],[0.6666666666666666,\"#ed7953\"],[0.7777777777777778,\"#fb9f3a\"],[0.8888888888888888,\"#fdca26\"],[1.0,\"#f0f921\"]]}],\"heatmapgl\":[{\"type\":\"heatmapgl\",\"colorbar\":{\"outlinewidth\":0,\"ticks\":\"\"},\"colorscale\":[[0.0,\"#0d0887\"],[0.1111111111111111,\"#46039f\"],[0.2222222222222222,\"#7201a8\"],[0.3333333333333333,\"#9c179e\"],[0.4444444444444444,\"#bd3786\"],[0.5555555555555556,\"#d8576b\"],[0.6666666666666666,\"#ed7953\"],[0.7777777777777778,\"#fb9f3a\"],[0.8888888888888888,\"#fdca26\"],[1.0,\"#f0f921\"]]}],\"contourcarpet\":[{\"type\":\"contourcarpet\",\"colorbar\":{\"outlinewidth\":0,\"ticks\":\"\"}}],\"contour\":[{\"type\":\"contour\",\"colorbar\":{\"outlinewidth\":0,\"ticks\":\"\"},\"colorscale\":[[0.0,\"#0d0887\"],[0.1111111111111111,\"#46039f\"],[0.2222222222222222,\"#7201a8\"],[0.3333333333333333,\"#9c179e\"],[0.4444444444444444,\"#bd3786\"],[0.5555555555555556,\"#d8576b\"],[0.6666666666666666,\"#ed7953\"],[0.7777777777777778,\"#fb9f3a\"],[0.8888888888888888,\"#fdca26\"],[1.0,\"#f0f921\"]]}],\"surface\":[{\"type\":\"surface\",\"colorbar\":{\"outlinewidth\":0,\"ticks\":\"\"},\"colorscale\":[[0.0,\"#0d0887\"],[0.1111111111111111,\"#46039f\"],[0.2222222222222222,\"#7201a8\"],[0.3333333333333333,\"#9c179e\"],[0.4444444444444444,\"#bd3786\"],[0.5555555555555556,\"#d8576b\"],[0.6666666666666666,\"#ed7953\"],[0.7777777777777778,\"#fb9f3a\"],[0.8888888888888888,\"#fdca26\"],[1.0,\"#f0f921\"]]}],\"mesh3d\":[{\"type\":\"mesh3d\",\"colorbar\":{\"outlinewidth\":0,\"ticks\":\"\"}}],\"scatter\":[{\"fillpattern\":{\"fillmode\":\"overlay\",\"size\":10,\"solidity\":0.2},\"type\":\"scatter\"}],\"parcoords\":[{\"type\":\"parcoords\",\"line\":{\"colorbar\":{\"outlinewidth\":0,\"ticks\":\"\"}}}],\"scatterpolargl\":[{\"type\":\"scatterpolargl\",\"marker\":{\"colorbar\":{\"outlinewidth\":0,\"ticks\":\"\"}}}],\"bar\":[{\"error_x\":{\"color\":\"#2a3f5f\"},\"error_y\":{\"color\":\"#2a3f5f\"},\"marker\":{\"line\":{\"color\":\"#E5ECF6\",\"width\":0.5},\"pattern\":{\"fillmode\":\"overlay\",\"size\":10,\"solidity\":0.2}},\"type\":\"bar\"}],\"scattergeo\":[{\"type\":\"scattergeo\",\"marker\":{\"colorbar\":{\"outlinewidth\":0,\"ticks\":\"\"}}}],\"scatterpolar\":[{\"type\":\"scatterpolar\",\"marker\":{\"colorbar\":{\"outlinewidth\":0,\"ticks\":\"\"}}}],\"histogram\":[{\"marker\":{\"pattern\":{\"fillmode\":\"overlay\",\"size\":10,\"solidity\":0.2}},\"type\":\"histogram\"}],\"scattergl\":[{\"type\":\"scattergl\",\"marker\":{\"colorbar\":{\"outlinewidth\":0,\"ticks\":\"\"}}}],\"scatter3d\":[{\"type\":\"scatter3d\",\"line\":{\"colorbar\":{\"outlinewidth\":0,\"ticks\":\"\"}},\"marker\":{\"colorbar\":{\"outlinewidth\":0,\"ticks\":\"\"}}}],\"scattermapbox\":[{\"type\":\"scattermapbox\",\"marker\":{\"colorbar\":{\"outlinewidth\":0,\"ticks\":\"\"}}}],\"scatterternary\":[{\"type\":\"scatterternary\",\"marker\":{\"colorbar\":{\"outlinewidth\":0,\"ticks\":\"\"}}}],\"scattercarpet\":[{\"type\":\"scattercarpet\",\"marker\":{\"colorbar\":{\"outlinewidth\":0,\"ticks\":\"\"}}}],\"carpet\":[{\"aaxis\":{\"endlinecolor\":\"#2a3f5f\",\"gridcolor\":\"white\",\"linecolor\":\"white\",\"minorgridcolor\":\"white\",\"startlinecolor\":\"#2a3f5f\"},\"baxis\":{\"endlinecolor\":\"#2a3f5f\",\"gridcolor\":\"white\",\"linecolor\":\"white\",\"minorgridcolor\":\"white\",\"startlinecolor\":\"#2a3f5f\"},\"type\":\"carpet\"}],\"table\":[{\"cells\":{\"fill\":{\"color\":\"#EBF0F8\"},\"line\":{\"color\":\"white\"}},\"header\":{\"fill\":{\"color\":\"#C8D4E3\"},\"line\":{\"color\":\"white\"}},\"type\":\"table\"}],\"barpolar\":[{\"marker\":{\"line\":{\"color\":\"#E5ECF6\",\"width\":0.5},\"pattern\":{\"fillmode\":\"overlay\",\"size\":10,\"solidity\":0.2}},\"type\":\"barpolar\"}],\"pie\":[{\"automargin\":true,\"type\":\"pie\"}]},\"layout\":{\"autotypenumbers\":\"strict\",\"colorway\":[\"#636efa\",\"#EF553B\",\"#00cc96\",\"#ab63fa\",\"#FFA15A\",\"#19d3f3\",\"#FF6692\",\"#B6E880\",\"#FF97FF\",\"#FECB52\"],\"font\":{\"color\":\"#2a3f5f\"},\"hovermode\":\"closest\",\"hoverlabel\":{\"align\":\"left\"},\"paper_bgcolor\":\"white\",\"plot_bgcolor\":\"#E5ECF6\",\"polar\":{\"bgcolor\":\"#E5ECF6\",\"angularaxis\":{\"gridcolor\":\"white\",\"linecolor\":\"white\",\"ticks\":\"\"},\"radialaxis\":{\"gridcolor\":\"white\",\"linecolor\":\"white\",\"ticks\":\"\"}},\"ternary\":{\"bgcolor\":\"#E5ECF6\",\"aaxis\":{\"gridcolor\":\"white\",\"linecolor\":\"white\",\"ticks\":\"\"},\"baxis\":{\"gridcolor\":\"white\",\"linecolor\":\"white\",\"ticks\":\"\"},\"caxis\":{\"gridcolor\":\"white\",\"linecolor\":\"white\",\"ticks\":\"\"}},\"coloraxis\":{\"colorbar\":{\"outlinewidth\":0,\"ticks\":\"\"}},\"colorscale\":{\"sequential\":[[0.0,\"#0d0887\"],[0.1111111111111111,\"#46039f\"],[0.2222222222222222,\"#7201a8\"],[0.3333333333333333,\"#9c179e\"],[0.4444444444444444,\"#bd3786\"],[0.5555555555555556,\"#d8576b\"],[0.6666666666666666,\"#ed7953\"],[0.7777777777777778,\"#fb9f3a\"],[0.8888888888888888,\"#fdca26\"],[1.0,\"#f0f921\"]],\"sequentialminus\":[[0.0,\"#0d0887\"],[0.1111111111111111,\"#46039f\"],[0.2222222222222222,\"#7201a8\"],[0.3333333333333333,\"#9c179e\"],[0.4444444444444444,\"#bd3786\"],[0.5555555555555556,\"#d8576b\"],[0.6666666666666666,\"#ed7953\"],[0.7777777777777778,\"#fb9f3a\"],[0.8888888888888888,\"#fdca26\"],[1.0,\"#f0f921\"]],\"diverging\":[[0,\"#8e0152\"],[0.1,\"#c51b7d\"],[0.2,\"#de77ae\"],[0.3,\"#f1b6da\"],[0.4,\"#fde0ef\"],[0.5,\"#f7f7f7\"],[0.6,\"#e6f5d0\"],[0.7,\"#b8e186\"],[0.8,\"#7fbc41\"],[0.9,\"#4d9221\"],[1,\"#276419\"]]},\"xaxis\":{\"gridcolor\":\"white\",\"linecolor\":\"white\",\"ticks\":\"\",\"title\":{\"standoff\":15},\"zerolinecolor\":\"white\",\"automargin\":true,\"zerolinewidth\":2},\"yaxis\":{\"gridcolor\":\"white\",\"linecolor\":\"white\",\"ticks\":\"\",\"title\":{\"standoff\":15},\"zerolinecolor\":\"white\",\"automargin\":true,\"zerolinewidth\":2},\"scene\":{\"xaxis\":{\"backgroundcolor\":\"#E5ECF6\",\"gridcolor\":\"white\",\"linecolor\":\"white\",\"showbackground\":true,\"ticks\":\"\",\"zerolinecolor\":\"white\",\"gridwidth\":2},\"yaxis\":{\"backgroundcolor\":\"#E5ECF6\",\"gridcolor\":\"white\",\"linecolor\":\"white\",\"showbackground\":true,\"ticks\":\"\",\"zerolinecolor\":\"white\",\"gridwidth\":2},\"zaxis\":{\"backgroundcolor\":\"#E5ECF6\",\"gridcolor\":\"white\",\"linecolor\":\"white\",\"showbackground\":true,\"ticks\":\"\",\"zerolinecolor\":\"white\",\"gridwidth\":2}},\"shapedefaults\":{\"line\":{\"color\":\"#2a3f5f\"}},\"annotationdefaults\":{\"arrowcolor\":\"#2a3f5f\",\"arrowhead\":0,\"arrowwidth\":1},\"geo\":{\"bgcolor\":\"white\",\"landcolor\":\"#E5ECF6\",\"subunitcolor\":\"white\",\"showland\":true,\"showlakes\":true,\"lakecolor\":\"white\"},\"title\":{\"x\":0.05},\"mapbox\":{\"style\":\"light\"}}},\"xaxis\":{\"anchor\":\"y\",\"domain\":[0.0,1.0],\"title\":{\"text\":\"publisher\"}},\"yaxis\":{\"anchor\":\"x\",\"domain\":[0.0,1.0],\"title\":{\"text\":\"count\"}},\"legend\":{\"tracegroupgap\":0},\"margin\":{\"t\":60},\"barmode\":\"relative\"},                        {\"responsive\": true}                    ).then(function(){\n",
       "                            \n",
       "var gd = document.getElementById('4223b926-7060-44c3-98b8-80f6d181f23d');\n",
       "var x = new MutationObserver(function (mutations, observer) {{\n",
       "        var display = window.getComputedStyle(gd).display;\n",
       "        if (!display || display === 'none') {{\n",
       "            console.log([gd, 'removed!']);\n",
       "            Plotly.purge(gd);\n",
       "            observer.disconnect();\n",
       "        }}\n",
       "}});\n",
       "\n",
       "// Listen for the removal of the full notebook cells\n",
       "var notebookContainer = gd.closest('#notebook-container');\n",
       "if (notebookContainer) {{\n",
       "    x.observe(notebookContainer, {childList: true});\n",
       "}}\n",
       "\n",
       "// Listen for the clearing of the current output cell\n",
       "var outputEl = gd.closest('.output');\n",
       "if (outputEl) {{\n",
       "    x.observe(outputEl, {childList: true});\n",
       "}}\n",
       "\n",
       "                        })                };                });            </script>        </div>"
      ]
     },
     "metadata": {},
     "output_type": "display_data"
    }
   ],
   "source": [
    "px.histogram( completion_date_unknown, x = \"publisher\")"
   ]
  },
  {
   "cell_type": "code",
   "execution_count": 43,
   "id": "5595f59f",
   "metadata": {
    "execution": {
     "iopub.execute_input": "2022-06-08T19:58:17.939015Z",
     "iopub.status.busy": "2022-06-08T19:58:17.938016Z",
     "iopub.status.idle": "2022-06-08T19:58:17.948366Z",
     "shell.execute_reply": "2022-06-08T19:58:17.947464Z"
    },
    "papermill": {
     "duration": 0.03669,
     "end_time": "2022-06-08T19:58:17.950295",
     "exception": false,
     "start_time": "2022-06-08T19:58:17.913605",
     "status": "completed"
    },
    "tags": []
   },
   "outputs": [
    {
     "data": {
      "text/plain": [
       "array(['講談社', '幻冬舎', 'KADOKAWA', '文藝春秋', '集英社'], dtype=object)"
      ]
     },
     "execution_count": 43,
     "metadata": {},
     "output_type": "execute_result"
    }
   ],
   "source": [
    "completion_date_unknown[(completion_date_unknown[\"author(s)\"] ==\"東野 圭吾\")|(completion_date_unknown[\"author(s)\"] ==\"藤崎 都\")|(completion_date_unknown[\"author(s)\"] ==\"日丸屋 秀和\")][\"publisher\"].unique()"
   ]
  },
  {
   "cell_type": "code",
   "execution_count": 44,
   "id": "01b12d16",
   "metadata": {
    "execution": {
     "iopub.execute_input": "2022-06-08T19:58:17.997944Z",
     "iopub.status.busy": "2022-06-08T19:58:17.996983Z",
     "iopub.status.idle": "2022-06-08T19:58:18.156090Z",
     "shell.execute_reply": "2022-06-08T19:58:18.155014Z"
    },
    "papermill": {
     "duration": 0.18491,
     "end_time": "2022-06-08T19:58:18.158132",
     "exception": false,
     "start_time": "2022-06-08T19:58:17.973222",
     "status": "completed"
    },
    "tags": []
   },
   "outputs": [
    {
     "data": {
      "text/plain": [
       "<AxesSubplot:xlabel='type', ylabel='count'>"
      ]
     },
     "execution_count": 44,
     "metadata": {},
     "output_type": "execute_result"
    },
    {
     "data": {
      "image/png": "[encoded data removed]",
      "text/plain": [
       "<Figure size 432x288 with 1 Axes>"
      ]
     },
     "metadata": {},
     "output_type": "display_data"
    }
   ],
   "source": [
    "sns.countplot(x = \"type\", data = completion_date_unknown )"
   ]
  },
  {
   "cell_type": "code",
   "execution_count": 45,
   "id": "743c10b5",
   "metadata": {
    "execution": {
     "iopub.execute_input": "2022-06-08T19:58:18.206792Z",
     "iopub.status.busy": "2022-06-08T19:58:18.205750Z",
     "iopub.status.idle": "2022-06-08T19:58:18.261910Z",
     "shell.execute_reply": "2022-06-08T19:58:18.260958Z"
    },
    "papermill": {
     "duration": 0.082433,
     "end_time": "2022-06-08T19:58:18.263804",
     "exception": false,
     "start_time": "2022-06-08T19:58:18.181371",
     "status": "completed"
    },
    "tags": []
   },
   "outputs": [
    {
     "data": {
      "text/html": [
       "<div>                            <div id=\"c8a7241f-272b-48eb-8763-3da48d43eaa1\" class=\"plotly-graph-div\" style=\"height:525px; width:100%;\"></div>            <script type=\"text/javascript\">                require([\"plotly\"], function(Plotly) {                    window.PLOTLYENV=window.PLOTLYENV || {};                                    if (document.getElementById(\"c8a7241f-272b-48eb-8763-3da48d43eaa1\")) {                    Plotly.newPlot(                        \"c8a7241f-272b-48eb-8763-3da48d43eaa1\",                        [{\"alignmentgroup\":\"True\",\"bingroup\":\"x\",\"hovertemplate\":\"genre=%{x}<br>count=%{y}<extra></extra>\",\"legendgroup\":\"\",\"marker\":{\"color\":\"#636efa\",\"pattern\":{\"shape\":\"\"}},\"name\":\"\",\"offsetgroup\":\"\",\"orientation\":\"v\",\"showlegend\":false,\"x\":[\"science fiction\",\"Fantasy\",\"Mystery\",\"Mystery\",\"Mystery\",\"Mystery\",\"Romance\",\"Romance\",\"Romance\",\"Romance\",\"Humour/ Satire\",\"Humour/ Satire\",\"Fantasy\",\"Dystopian\",\"Humour/ Satire\",\"Romance\",\"Humour/ Satire\",\"Humour/ Satire\",\"Mystery\",\"Mystery\",\"Fantasy\",\"Mystery\",\"Humour/ Satire\",\"Mystery\",\"Romance\",\"Fantasy\",\"Romance\",\"Mystery\",\"Humour/ Satire\",\"Romance\",\"Romance\",\"Mystery\",\"Fantasy\",\"Mystery\",\"Romance\",\"Romance\",\"Humour/ Satire\",\"Fantasy\",\"Romance\",\"Fantasy\",\"Mystery\",\"Fantasy\",\"Mystery\",\"Literary Fiction\",\"Romance\",\"Mystery\",\"仕事小説\",\"Bildungsroman\",\"Humour/ Satire\",\"Mystery\",\"Romance\",\"Adventure\",\"Contemporary\"],\"xaxis\":\"x\",\"yaxis\":\"y\",\"type\":\"histogram\"}],                        {\"template\":{\"data\":{\"histogram2dcontour\":[{\"type\":\"histogram2dcontour\",\"colorbar\":{\"outlinewidth\":0,\"ticks\":\"\"},\"colorscale\":[[0.0,\"#0d0887\"],[0.1111111111111111,\"#46039f\"],[0.2222222222222222,\"#7201a8\"],[0.3333333333333333,\"#9c179e\"],[0.4444444444444444,\"#bd3786\"],[0.5555555555555556,\"#d8576b\"],[0.6666666666666666,\"#ed7953\"],[0.7777777777777778,\"#fb9f3a\"],[0.8888888888888888,\"#fdca26\"],[1.0,\"#f0f921\"]]}],\"choropleth\":[{\"type\":\"choropleth\",\"colorbar\":{\"outlinewidth\":0,\"ticks\":\"\"}}],\"histogram2d\":[{\"type\":\"histogram2d\",\"colorbar\":{\"outlinewidth\":0,\"ticks\":\"\"},\"colorscale\":[[0.0,\"#0d0887\"],[0.1111111111111111,\"#46039f\"],[0.2222222222222222,\"#7201a8\"],[0.3333333333333333,\"#9c179e\"],[0.4444444444444444,\"#bd3786\"],[0.5555555555555556,\"#d8576b\"],[0.6666666666666666,\"#ed7953\"],[0.7777777777777778,\"#fb9f3a\"],[0.8888888888888888,\"#fdca26\"],[1.0,\"#f0f921\"]]}],\"heatmap\":[{\"type\":\"heatmap\",\"colorbar\":{\"outlinewidth\":0,\"ticks\":\"\"},\"colorscale\":[[0.0,\"#0d0887\"],[0.1111111111111111,\"#46039f\"],[0.2222222222222222,\"#7201a8\"],[0.3333333333333333,\"#9c179e\"],[0.4444444444444444,\"#bd3786\"],[0.5555555555555556,\"#d8576b\"],[0.6666666666666666,\"#ed7953\"],[0.7777777777777778,\"#fb9f3a\"],[0.8888888888888888,\"#fdca26\"],[1.0,\"#f0f921\"]]}],\"heatmapgl\":[{\"type\":\"heatmapgl\",\"colorbar\":{\"outlinewidth\":0,\"ticks\":\"\"},\"colorscale\":[[0.0,\"#0d0887\"],[0.1111111111111111,\"#46039f\"],[0.2222222222222222,\"#7201a8\"],[0.3333333333333333,\"#9c179e\"],[0.4444444444444444,\"#bd3786\"],[0.5555555555555556,\"#d8576b\"],[0.6666666666666666,\"#ed7953\"],[0.7777777777777778,\"#fb9f3a\"],[0.8888888888888888,\"#fdca26\"],[1.0,\"#f0f921\"]]}],\"contourcarpet\":[{\"type\":\"contourcarpet\",\"colorbar\":{\"outlinewidth\":0,\"ticks\":\"\"}}],\"contour\":[{\"type\":\"contour\",\"colorbar\":{\"outlinewidth\":0,\"ticks\":\"\"},\"colorscale\":[[0.0,\"#0d0887\"],[0.1111111111111111,\"#46039f\"],[0.2222222222222222,\"#7201a8\"],[0.3333333333333333,\"#9c179e\"],[0.4444444444444444,\"#bd3786\"],[0.5555555555555556,\"#d8576b\"],[0.6666666666666666,\"#ed7953\"],[0.7777777777777778,\"#fb9f3a\"],[0.8888888888888888,\"#fdca26\"],[1.0,\"#f0f921\"]]}],\"surface\":[{\"type\":\"surface\",\"colorbar\":{\"outlinewidth\":0,\"ticks\":\"\"},\"colorscale\":[[0.0,\"#0d0887\"],[0.1111111111111111,\"#46039f\"],[0.2222222222222222,\"#7201a8\"],[0.3333333333333333,\"#9c179e\"],[0.4444444444444444,\"#bd3786\"],[0.5555555555555556,\"#d8576b\"],[0.6666666666666666,\"#ed7953\"],[0.7777777777777778,\"#fb9f3a\"],[0.8888888888888888,\"#fdca26\"],[1.0,\"#f0f921\"]]}],\"mesh3d\":[{\"type\":\"mesh3d\",\"colorbar\":{\"outlinewidth\":0,\"ticks\":\"\"}}],\"scatter\":[{\"fillpattern\":{\"fillmode\":\"overlay\",\"size\":10,\"solidity\":0.2},\"type\":\"scatter\"}],\"parcoords\":[{\"type\":\"parcoords\",\"line\":{\"colorbar\":{\"outlinewidth\":0,\"ticks\":\"\"}}}],\"scatterpolargl\":[{\"type\":\"scatterpolargl\",\"marker\":{\"colorbar\":{\"outlinewidth\":0,\"ticks\":\"\"}}}],\"bar\":[{\"error_x\":{\"color\":\"#2a3f5f\"},\"error_y\":{\"color\":\"#2a3f5f\"},\"marker\":{\"line\":{\"color\":\"#E5ECF6\",\"width\":0.5},\"pattern\":{\"fillmode\":\"overlay\",\"size\":10,\"solidity\":0.2}},\"type\":\"bar\"}],\"scattergeo\":[{\"type\":\"scattergeo\",\"marker\":{\"colorbar\":{\"outlinewidth\":0,\"ticks\":\"\"}}}],\"scatterpolar\":[{\"type\":\"scatterpolar\",\"marker\":{\"colorbar\":{\"outlinewidth\":0,\"ticks\":\"\"}}}],\"histogram\":[{\"marker\":{\"pattern\":{\"fillmode\":\"overlay\",\"size\":10,\"solidity\":0.2}},\"type\":\"histogram\"}],\"scattergl\":[{\"type\":\"scattergl\",\"marker\":{\"colorbar\":{\"outlinewidth\":0,\"ticks\":\"\"}}}],\"scatter3d\":[{\"type\":\"scatter3d\",\"line\":{\"colorbar\":{\"outlinewidth\":0,\"ticks\":\"\"}},\"marker\":{\"colorbar\":{\"outlinewidth\":0,\"ticks\":\"\"}}}],\"scattermapbox\":[{\"type\":\"scattermapbox\",\"marker\":{\"colorbar\":{\"outlinewidth\":0,\"ticks\":\"\"}}}],\"scatterternary\":[{\"type\":\"scatterternary\",\"marker\":{\"colorbar\":{\"outlinewidth\":0,\"ticks\":\"\"}}}],\"scattercarpet\":[{\"type\":\"scattercarpet\",\"marker\":{\"colorbar\":{\"outlinewidth\":0,\"ticks\":\"\"}}}],\"carpet\":[{\"aaxis\":{\"endlinecolor\":\"#2a3f5f\",\"gridcolor\":\"white\",\"linecolor\":\"white\",\"minorgridcolor\":\"white\",\"startlinecolor\":\"#2a3f5f\"},\"baxis\":{\"endlinecolor\":\"#2a3f5f\",\"gridcolor\":\"white\",\"linecolor\":\"white\",\"minorgridcolor\":\"white\",\"startlinecolor\":\"#2a3f5f\"},\"type\":\"carpet\"}],\"table\":[{\"cells\":{\"fill\":{\"color\":\"#EBF0F8\"},\"line\":{\"color\":\"white\"}},\"header\":{\"fill\":{\"color\":\"#C8D4E3\"},\"line\":{\"color\":\"white\"}},\"type\":\"table\"}],\"barpolar\":[{\"marker\":{\"line\":{\"color\":\"#E5ECF6\",\"width\":0.5},\"pattern\":{\"fillmode\":\"overlay\",\"size\":10,\"solidity\":0.2}},\"type\":\"barpolar\"}],\"pie\":[{\"automargin\":true,\"type\":\"pie\"}]},\"layout\":{\"autotypenumbers\":\"strict\",\"colorway\":[\"#636efa\",\"#EF553B\",\"#00cc96\",\"#ab63fa\",\"#FFA15A\",\"#19d3f3\",\"#FF6692\",\"#B6E880\",\"#FF97FF\",\"#FECB52\"],\"font\":{\"color\":\"#2a3f5f\"},\"hovermode\":\"closest\",\"hoverlabel\":{\"align\":\"left\"},\"paper_bgcolor\":\"white\",\"plot_bgcolor\":\"#E5ECF6\",\"polar\":{\"bgcolor\":\"#E5ECF6\",\"angularaxis\":{\"gridcolor\":\"white\",\"linecolor\":\"white\",\"ticks\":\"\"},\"radialaxis\":{\"gridcolor\":\"white\",\"linecolor\":\"white\",\"ticks\":\"\"}},\"ternary\":{\"bgcolor\":\"#E5ECF6\",\"aaxis\":{\"gridcolor\":\"white\",\"linecolor\":\"white\",\"ticks\":\"\"},\"baxis\":{\"gridcolor\":\"white\",\"linecolor\":\"white\",\"ticks\":\"\"},\"caxis\":{\"gridcolor\":\"white\",\"linecolor\":\"white\",\"ticks\":\"\"}},\"coloraxis\":{\"colorbar\":{\"outlinewidth\":0,\"ticks\":\"\"}},\"colorscale\":{\"sequential\":[[0.0,\"#0d0887\"],[0.1111111111111111,\"#46039f\"],[0.2222222222222222,\"#7201a8\"],[0.3333333333333333,\"#9c179e\"],[0.4444444444444444,\"#bd3786\"],[0.5555555555555556,\"#d8576b\"],[0.6666666666666666,\"#ed7953\"],[0.7777777777777778,\"#fb9f3a\"],[0.8888888888888888,\"#fdca26\"],[1.0,\"#f0f921\"]],\"sequentialminus\":[[0.0,\"#0d0887\"],[0.1111111111111111,\"#46039f\"],[0.2222222222222222,\"#7201a8\"],[0.3333333333333333,\"#9c179e\"],[0.4444444444444444,\"#bd3786\"],[0.5555555555555556,\"#d8576b\"],[0.6666666666666666,\"#ed7953\"],[0.7777777777777778,\"#fb9f3a\"],[0.8888888888888888,\"#fdca26\"],[1.0,\"#f0f921\"]],\"diverging\":[[0,\"#8e0152\"],[0.1,\"#c51b7d\"],[0.2,\"#de77ae\"],[0.3,\"#f1b6da\"],[0.4,\"#fde0ef\"],[0.5,\"#f7f7f7\"],[0.6,\"#e6f5d0\"],[0.7,\"#b8e186\"],[0.8,\"#7fbc41\"],[0.9,\"#4d9221\"],[1,\"#276419\"]]},\"xaxis\":{\"gridcolor\":\"white\",\"linecolor\":\"white\",\"ticks\":\"\",\"title\":{\"standoff\":15},\"zerolinecolor\":\"white\",\"automargin\":true,\"zerolinewidth\":2},\"yaxis\":{\"gridcolor\":\"white\",\"linecolor\":\"white\",\"ticks\":\"\",\"title\":{\"standoff\":15},\"zerolinecolor\":\"white\",\"automargin\":true,\"zerolinewidth\":2},\"scene\":{\"xaxis\":{\"backgroundcolor\":\"#E5ECF6\",\"gridcolor\":\"white\",\"linecolor\":\"white\",\"showbackground\":true,\"ticks\":\"\",\"zerolinecolor\":\"white\",\"gridwidth\":2},\"yaxis\":{\"backgroundcolor\":\"#E5ECF6\",\"gridcolor\":\"white\",\"linecolor\":\"white\",\"showbackground\":true,\"ticks\":\"\",\"zerolinecolor\":\"white\",\"gridwidth\":2},\"zaxis\":{\"backgroundcolor\":\"#E5ECF6\",\"gridcolor\":\"white\",\"linecolor\":\"white\",\"showbackground\":true,\"ticks\":\"\",\"zerolinecolor\":\"white\",\"gridwidth\":2}},\"shapedefaults\":{\"line\":{\"color\":\"#2a3f5f\"}},\"annotationdefaults\":{\"arrowcolor\":\"#2a3f5f\",\"arrowhead\":0,\"arrowwidth\":1},\"geo\":{\"bgcolor\":\"white\",\"landcolor\":\"#E5ECF6\",\"subunitcolor\":\"white\",\"showland\":true,\"showlakes\":true,\"lakecolor\":\"white\"},\"title\":{\"x\":0.05},\"mapbox\":{\"style\":\"light\"}}},\"xaxis\":{\"anchor\":\"y\",\"domain\":[0.0,1.0],\"title\":{\"text\":\"genre\"}},\"yaxis\":{\"anchor\":\"x\",\"domain\":[0.0,1.0],\"title\":{\"text\":\"count\"}},\"legend\":{\"tracegroupgap\":0},\"margin\":{\"t\":60},\"barmode\":\"relative\"},                        {\"responsive\": true}                    ).then(function(){\n",
       "                            \n",
       "var gd = document.getElementById('c8a7241f-272b-48eb-8763-3da48d43eaa1');\n",
       "var x = new MutationObserver(function (mutations, observer) {{\n",
       "        var display = window.getComputedStyle(gd).display;\n",
       "        if (!display || display === 'none') {{\n",
       "            console.log([gd, 'removed!']);\n",
       "            Plotly.purge(gd);\n",
       "            observer.disconnect();\n",
       "        }}\n",
       "}});\n",
       "\n",
       "// Listen for the removal of the full notebook cells\n",
       "var notebookContainer = gd.closest('#notebook-container');\n",
       "if (notebookContainer) {{\n",
       "    x.observe(notebookContainer, {childList: true});\n",
       "}}\n",
       "\n",
       "// Listen for the clearing of the current output cell\n",
       "var outputEl = gd.closest('.output');\n",
       "if (outputEl) {{\n",
       "    x.observe(outputEl, {childList: true});\n",
       "}}\n",
       "\n",
       "                        })                };                });            </script>        </div>"
      ]
     },
     "metadata": {},
     "output_type": "display_data"
    }
   ],
   "source": [
    "px.histogram( completion_date_unknown, x = \"genre\")"
   ]
  },
  {
   "cell_type": "code",
   "execution_count": 46,
   "id": "9f5647d6",
   "metadata": {
    "execution": {
     "iopub.execute_input": "2022-06-08T19:58:18.312470Z",
     "iopub.status.busy": "2022-06-08T19:58:18.311723Z",
     "iopub.status.idle": "2022-06-08T19:58:18.625888Z",
     "shell.execute_reply": "2022-06-08T19:58:18.625085Z"
    },
    "papermill": {
     "duration": 0.340537,
     "end_time": "2022-06-08T19:58:18.627844",
     "exception": false,
     "start_time": "2022-06-08T19:58:18.287307",
     "status": "completed"
    },
    "tags": []
   },
   "outputs": [
    {
     "data": {
      "text/plain": [
       "<AxesSubplot:xlabel='publication_year', ylabel='count'>"
      ]
     },
     "execution_count": 46,
     "metadata": {},
     "output_type": "execute_result"
    },
    {
     "data": {
      "image/png": "[encoded data removed]",
      "text/plain": [
       "<Figure size 1080x720 with 1 Axes>"
      ]
     },
     "metadata": {},
     "output_type": "display_data"
    }
   ],
   "source": [
    "plt.figure(figsize = (15,10))\n",
    "sns.countplot(x = \"publication_year\", data = completion_date_unknown )"
   ]
  },
  {
   "cell_type": "code",
   "execution_count": 47,
   "id": "7cee574e",
   "metadata": {
    "execution": {
     "iopub.execute_input": "2022-06-08T19:58:18.677244Z",
     "iopub.status.busy": "2022-06-08T19:58:18.676293Z",
     "iopub.status.idle": "2022-06-08T19:58:18.843413Z",
     "shell.execute_reply": "2022-06-08T19:58:18.842623Z"
    },
    "papermill": {
     "duration": 0.19369,
     "end_time": "2022-06-08T19:58:18.845539",
     "exception": false,
     "start_time": "2022-06-08T19:58:18.651849",
     "status": "completed"
    },
    "tags": []
   },
   "outputs": [
    {
     "data": {
      "text/plain": [
       "<AxesSubplot:xlabel='review', ylabel='count'>"
      ]
     },
     "execution_count": 47,
     "metadata": {},
     "output_type": "execute_result"
    },
    {
     "data": {
      "image/png": "[encoded data removed]",
      "text/plain": [
       "<Figure size 432x288 with 1 Axes>"
      ]
     },
     "metadata": {},
     "output_type": "display_data"
    }
   ],
   "source": [
    "sns.countplot(x = \"review\", data = completion_date_unknown,)"
   ]
  },
  {
   "cell_type": "code",
   "execution_count": 48,
   "id": "aa805d63",
   "metadata": {
    "execution": {
     "iopub.execute_input": "2022-06-08T19:58:18.895000Z",
     "iopub.status.busy": "2022-06-08T19:58:18.894282Z",
     "iopub.status.idle": "2022-06-08T19:58:18.901227Z",
     "shell.execute_reply": "2022-06-08T19:58:18.900324Z"
    },
    "papermill": {
     "duration": 0.033561,
     "end_time": "2022-06-08T19:58:18.902968",
     "exception": false,
     "start_time": "2022-06-08T19:58:18.869407",
     "status": "completed"
    },
    "tags": []
   },
   "outputs": [
    {
     "data": {
      "text/plain": [
       "64.15094339622642"
      ]
     },
     "execution_count": 48,
     "metadata": {},
     "output_type": "execute_result"
    }
   ],
   "source": [
    "(1-completion_date_unknown[\"rating\"].isnull().sum()/completion_date_unknown.shape[0])*100"
   ]
  },
  {
   "cell_type": "code",
   "execution_count": 49,
   "id": "ce5a827d",
   "metadata": {
    "execution": {
     "iopub.execute_input": "2022-06-08T19:58:18.952686Z",
     "iopub.status.busy": "2022-06-08T19:58:18.951999Z",
     "iopub.status.idle": "2022-06-08T19:58:19.303561Z",
     "shell.execute_reply": "2022-06-08T19:58:19.302643Z"
    },
    "papermill": {
     "duration": 0.378705,
     "end_time": "2022-06-08T19:58:19.305507",
     "exception": false,
     "start_time": "2022-06-08T19:58:18.926802",
     "status": "completed"
    },
    "tags": []
   },
   "outputs": [
    {
     "data": {
      "text/plain": [
       "<seaborn.axisgrid.FacetGrid at 0x7f7ada815d50>"
      ]
     },
     "execution_count": 49,
     "metadata": {},
     "output_type": "execute_result"
    },
    {
     "data": {
      "image/png": "[encoded data removed]",
      "text/plain": [
       "<Figure size 360x360 with 1 Axes>"
      ]
     },
     "metadata": {},
     "output_type": "display_data"
    }
   ],
   "source": [
    "sns.displot(x = \"rating\", data = completion_date_unknown, kind= \"kde\")"
   ]
  },
  {
   "cell_type": "code",
   "execution_count": 50,
   "id": "f22cf584",
   "metadata": {
    "execution": {
     "iopub.execute_input": "2022-06-08T19:58:19.356737Z",
     "iopub.status.busy": "2022-06-08T19:58:19.355500Z",
     "iopub.status.idle": "2022-06-08T19:58:19.362227Z",
     "shell.execute_reply": "2022-06-08T19:58:19.361621Z"
    },
    "papermill": {
     "duration": 0.033893,
     "end_time": "2022-06-08T19:58:19.363880",
     "exception": false,
     "start_time": "2022-06-08T19:58:19.329987",
     "status": "completed"
    },
    "tags": []
   },
   "outputs": [
    {
     "data": {
      "text/plain": [
       "5.0"
      ]
     },
     "execution_count": 50,
     "metadata": {},
     "output_type": "execute_result"
    }
   ],
   "source": [
    "completion_date_unknown[\"rating\"].max()"
   ]
  },
  {
   "cell_type": "markdown",
   "id": "d54dcf01",
   "metadata": {
    "papermill": {
     "duration": 0.024447,
     "end_time": "2022-06-08T19:58:19.412487",
     "exception": false,
     "start_time": "2022-06-08T19:58:19.388040",
     "status": "completed"
    },
    "tags": []
   },
   "source": [
    "# completion books"
   ]
  },
  {
   "cell_type": "code",
   "execution_count": 51,
   "id": "f00d32d3",
   "metadata": {
    "execution": {
     "iopub.execute_input": "2022-06-08T19:58:19.463356Z",
     "iopub.status.busy": "2022-06-08T19:58:19.462658Z",
     "iopub.status.idle": "2022-06-08T19:58:19.469355Z",
     "shell.execute_reply": "2022-06-08T19:58:19.468704Z"
    },
    "papermill": {
     "duration": 0.034223,
     "end_time": "2022-06-08T19:58:19.471064",
     "exception": false,
     "start_time": "2022-06-08T19:58:19.436841",
     "status": "completed"
    },
    "tags": []
   },
   "outputs": [],
   "source": [
    "Completed = Completed.dropna(subset = [\"completion date\"])"
   ]
  },
  {
   "cell_type": "code",
   "execution_count": 52,
   "id": "f9a33a19",
   "metadata": {
    "execution": {
     "iopub.execute_input": "2022-06-08T19:58:19.522731Z",
     "iopub.status.busy": "2022-06-08T19:58:19.522041Z",
     "iopub.status.idle": "2022-06-08T19:58:19.598440Z",
     "shell.execute_reply": "2022-06-08T19:58:19.597521Z"
    },
    "papermill": {
     "duration": 0.105141,
     "end_time": "2022-06-08T19:58:19.600438",
     "exception": false,
     "start_time": "2022-06-08T19:58:19.495297",
     "status": "completed"
    },
    "tags": []
   },
   "outputs": [
    {
     "data": {
      "text/html": [
       "<div>                            <div id=\"7d7ba41b-e607-4334-9377-392547f0e308\" class=\"plotly-graph-div\" style=\"height:525px; width:100%;\"></div>            <script type=\"text/javascript\">                require([\"plotly\"], function(Plotly) {                    window.PLOTLYENV=window.PLOTLYENV || {};                                    if (document.getElementById(\"7d7ba41b-e607-4334-9377-392547f0e308\")) {                    Plotly.newPlot(                        \"7d7ba41b-e607-4334-9377-392547f0e308\",                        [{\"alignmentgroup\":\"True\",\"hovertemplate\":\"completion date=%{x}<br>pages=%{y}<extra></extra>\",\"legendgroup\":\"\",\"marker\":{\"color\":\"#636efa\",\"pattern\":{\"shape\":\"\"}},\"name\":\"\",\"offsetgroup\":\"\",\"orientation\":\"v\",\"showlegend\":false,\"textposition\":\"auto\",\"x\":[\"2020-12-05T00:00:00\",\"2020-06-24T00:00:00\",\"2019-02-28T00:00:00\",\"2018-02-15T00:00:00\",\"2020-11-01T00:00:00\",\"2020-07-17T00:00:00\",\"2020-10-26T00:00:00\",\"2017-05-10T00:00:00\",\"2020-08-06T00:00:00\",\"2017-03-17T00:00:00\",\"2018-06-14T00:00:00\",\"2017-09-12T00:00:00\",\"2020-10-24T00:00:00\",\"2018-09-01T00:00:00\",\"2018-09-06T00:00:00\",\"2019-07-20T00:00:00\",\"2017-04-18T00:00:00\",\"2017-06-28T00:00:00\",\"2020-04-26T00:00:00\",\"2017-07-21T00:00:00\",\"2019-03-10T00:00:00\",\"2019-01-03T00:00:00\",\"2017-06-13T00:00:00\",\"2017-03-25T00:00:00\",\"2017-05-28T00:00:00\",\"2020-01-18T00:00:00\",\"2020-10-06T00:00:00\",\"2019-09-13T00:00:00\",\"2020-10-04T00:00:00\",\"2018-01-09T00:00:00\",\"2017-04-06T00:00:00\",\"2018-05-17T00:00:00\",\"2017-05-23T00:00:00\",\"2017-02-22T00:00:00\",\"2020-11-18T00:00:00\",\"2019-04-18T00:00:00\",\"2019-03-25T00:00:00\",\"2017-03-05T00:00:00\",\"2017-06-02T00:00:00\",\"2020-08-17T00:00:00\",\"2017-08-31T00:00:00\",\"2018-07-10T00:00:00\",\"2022-04-08T00:00:00\",\"2020-12-13T00:00:00\",\"2017-10-04T00:00:00\",\"2021-10-06T00:00:00\",\"2018-06-25T00:00:00\",\"2021-01-11T00:00:00\",\"2018-01-19T00:00:00\",\"2020-06-21T00:00:00\",\"2018-03-09T00:00:00\",\"2020-10-16T00:00:00\",\"2019-01-10T00:00:00\",\"2020-06-06T00:00:00\",\"2018-09-10T00:00:00\",\"2020-07-10T00:00:00\",\"2020-01-08T00:00:00\",\"2019-01-15T00:00:00\",\"2021-07-02T00:00:00\",\"2020-11-09T00:00:00\",\"2019-10-03T00:00:00\",\"2020-11-17T00:00:00\",\"2020-11-14T00:00:00\",\"2017-08-26T00:00:00\",\"2020-12-31T00:00:00\",\"2017-10-24T00:00:00\",\"2020-12-28T00:00:00\",\"2020-12-30T00:00:00\",\"2017-02-28T00:00:00\",\"2020-10-27T00:00:00\",\"2018-03-12T00:00:00\",\"2020-03-11T00:00:00\",\"2017-03-20T00:00:00\",\"2017-09-25T00:00:00\",\"2020-11-06T00:00:00\",\"2020-07-19T00:00:00\",\"2019-02-08T00:00:00\",\"2021-03-31T00:00:00\",\"2020-11-24T00:00:00\",\"2018-04-30T00:00:00\",\"2018-03-24T00:00:00\",\"2020-12-22T00:00:00\",\"2021-05-31T00:00:00\",\"2017-07-07T00:00:00\",\"2018-08-30T00:00:00\",\"2017-06-28T00:00:00\",\"2018-01-31T00:00:00\",\"2020-12-03T00:00:00\",\"2018-03-17T00:00:00\",\"2017-06-08T00:00:00\",\"2019-06-27T00:00:00\",\"2018-12-22T00:00:00\",\"2018-04-25T00:00:00\",\"2019-06-16T00:00:00\",\"2018-05-25T00:00:00\",\"2022-04-10T00:00:00\",\"2021-12-07T00:00:00\",\"2017-06-28T00:00:00\",\"2022-02-20T00:00:00\",\"2018-02-21T00:00:00\",\"2018-04-27T00:00:00\",\"2019-01-29T00:00:00\",\"2018-12-21T00:00:00\",\"2017-02-14T00:00:00\",\"2018-01-20T00:00:00\",\"2022-04-26T00:00:00\",\"2019-06-11T00:00:00\",\"2017-02-12T00:00:00\",\"2016-12-17T00:00:00\",\"2019-01-31T00:00:00\",\"2017-02-17T00:00:00\",\"2020-11-07T00:00:00\",\"2017-03-15T00:00:00\",\"2020-02-04T00:00:00\",\"2021-01-25T00:00:00\",\"2020-10-12T00:00:00\",\"2017-01-10T00:00:00\",\"2019-12-24T00:00:00\",\"2021-09-13T00:00:00\",\"2017-07-13T00:00:00\",\"2017-05-18T00:00:00\",\"2018-01-05T00:00:00\",\"2017-12-10T00:00:00\",\"2019-03-19T00:00:00\",\"2017-02-17T00:00:00\",\"2022-02-20T00:00:00\",\"2019-09-13T00:00:00\",\"2019-01-26T00:00:00\",\"2019-12-14T00:00:00\",\"2019-02-04T00:00:00\",\"2017-03-08T00:00:00\",\"2018-06-03T00:00:00\",\"2018-06-06T00:00:00\",\"2018-10-04T00:00:00\",\"2018-08-11T00:00:00\",\"2018-02-05T00:00:00\",\"2021-08-20T00:00:00\",\"2020-01-22T00:00:00\",\"2017-10-16T00:00:00\",\"2018-03-30T00:00:00\",\"2020-08-06T00:00:00\",\"2017-09-28T00:00:00\",\"2018-04-15T00:00:00\",\"2018-04-07T00:00:00\",\"2017-06-20T00:00:00\",\"2019-05-25T00:00:00\",\"2022-04-01T00:00:00\",\"2021-12-12T00:00:00\",\"2018-05-09T00:00:00\",\"2021-10-16T00:00:00\",\"2018-11-01T00:00:00\",\"2020-09-26T00:00:00\",\"2020-09-04T00:00:00\",\"2017-02-25T00:00:00\",\"2019-11-07T00:00:00\",\"2019-06-19T00:00:00\",\"2019-05-21T00:00:00\",\"2019-04-11T00:00:00\",\"2019-12-09T00:00:00\",\"2017-10-08T00:00:00\",\"2019-05-17T00:00:00\",\"2018-04-17T00:00:00\",\"2021-05-30T00:00:00\",\"2021-01-17T00:00:00\",\"2020-05-31T00:00:00\",\"2020-11-29T00:00:00\",\"2017-03-31T00:00:00\",\"2020-04-27T00:00:00\",\"2019-08-28T00:00:00\",\"2017-02-07T00:00:00\",\"2021-11-30T00:00:00\",\"2018-01-01T00:00:00\",\"2020-10-10T00:00:00\",\"2021-06-28T00:00:00\",\"2021-05-31T00:00:00\",\"2018-03-31T00:00:00\",\"2020-12-10T00:00:00\",\"2022-04-22T00:00:00\",\"2017-01-20T00:00:00\",\"2021-08-23T00:00:00\",\"2019-07-03T00:00:00\",\"2017-02-25T00:00:00\",\"2019-08-11T00:00:00\",\"2019-07-23T00:00:00\",\"2017-04-27T00:00:00\",\"2020-10-11T00:00:00\",\"2018-02-25T00:00:00\",\"2017-02-08T00:00:00\",\"2019-03-04T00:00:00\",\"2017-03-09T00:00:00\",\"2018-04-05T00:00:00\",\"2020-12-23T00:00:00\",\"2021-12-21T00:00:00\",\"2018-04-02T00:00:00\",\"2017-08-23T00:00:00\",\"2018-02-07T00:00:00\",\"2017-11-25T00:00:00\",\"2020-05-31T00:00:00\",\"2017-01-03T00:00:00\",\"2019-03-08T00:00:00\",\"2019-01-23T00:00:00\",\"2018-01-27T00:00:00\",\"2020-09-27T00:00:00\",\"2018-05-28T00:00:00\",\"2018-02-16T00:00:00\",\"2021-05-23T00:00:00\",\"2018-12-25T00:00:00\",\"2018-09-24T00:00:00\",\"2017-02-17T00:00:00\",\"2019-03-27T00:00:00\",\"2022-04-30T00:00:00\",\"2020-01-10T00:00:00\",\"2018-01-31T00:00:00\",\"2018-09-08T00:00:00\",\"2017-05-31T00:00:00\",\"2022-01-06T00:00:00\",\"2021-07-12T00:00:00\",\"2020-12-24T00:00:00\",\"2017-09-21T00:00:00\",\"2018-05-11T00:00:00\",\"2017-03-11T00:00:00\",\"2017-11-13T00:00:00\",\"2018-06-09T00:00:00\",\"2020-10-09T00:00:00\",\"2019-03-14T00:00:00\",\"2018-02-03T00:00:00\",\"2018-10-12T00:00:00\",\"2018-12-29T00:00:00\",\"2018-01-23T00:00:00\",\"2018-01-16T00:00:00\",\"2017-09-05T00:00:00\",\"2019-01-05T00:00:00\",\"2022-01-17T00:00:00\",\"2020-06-27T00:00:00\",\"2019-05-29T00:00:00\",\"2017-12-12T00:00:00\",\"2019-07-31T00:00:00\",\"2020-05-07T00:00:00\",\"2020-12-26T00:00:00\",\"2020-11-12T00:00:00\",\"2017-10-10T00:00:00\",\"2021-10-16T00:00:00\",\"2021-06-08T00:00:00\",\"2020-10-29T00:00:00\",\"2018-12-03T00:00:00\",\"2017-11-29T00:00:00\",\"2019-06-23T00:00:00\",\"2019-01-08T00:00:00\",\"2019-12-31T00:00:00\",\"2020-11-26T00:00:00\",\"2021-07-01T00:00:00\",\"2018-04-22T00:00:00\",\"2020-01-12T00:00:00\",\"2020-09-21T00:00:00\",\"2019-12-16T00:00:00\",\"2018-12-10T00:00:00\",\"2018-05-19T00:00:00\",\"2021-11-13T00:00:00\",\"2021-02-06T00:00:00\",\"2021-09-26T00:00:00\",\"2020-12-08T00:00:00\",\"2018-04-12T00:00:00\",\"2018-03-08T00:00:00\",\"2021-09-13T00:00:00\",\"2021-11-03T00:00:00\",\"2021-05-04T00:00:00\",\"2019-02-18T00:00:00\",\"2017-11-06T00:00:00\",\"2020-01-26T00:00:00\",\"2021-09-25T00:00:00\",\"2019-02-02T00:00:00\",\"2020-01-05T00:00:00\",\"2019-04-04T00:00:00\",\"2022-01-06T00:00:00\",\"2019-07-19T00:00:00\",\"2021-05-11T00:00:00\",\"2020-10-17T00:00:00\",\"2019-12-10T00:00:00\",\"2020-02-09T00:00:00\",\"2022-04-29T00:00:00\",\"2021-04-06T00:00:00\",\"2018-03-22T00:00:00\",\"2021-05-25T00:00:00\",\"2020-08-22T00:00:00\",\"2020-05-03T00:00:00\",\"2021-03-02T00:00:00\",\"2020-08-30T00:00:00\",\"2021-08-14T00:00:00\",\"2020-08-25T00:00:00\",\"2019-06-23T00:00:00\",\"2021-06-06T00:00:00\",\"2021-09-01T00:00:00\",\"2021-07-15T00:00:00\",\"2022-03-11T00:00:00\",\"2021-06-02T00:00:00\",\"2021-06-01T00:00:00\",\"2020-10-03T00:00:00\",\"2020-02-18T00:00:00\",\"2020-10-02T00:00:00\",\"2021-08-14T00:00:00\",\"2021-12-25T00:00:00\",\"2021-08-25T00:00:00\",\"2018-12-30T00:00:00\",\"2017-08-08T00:00:00\",\"2018-03-02T00:00:00\",\"2019-02-16T00:00:00\",\"2022-04-13T00:00:00\",\"2021-04-23T00:00:00\",\"2021-03-21T00:00:00\",\"2021-05-11T00:00:00\",\"2022-03-22T00:00:00\",\"2018-01-26T00:00:00\",\"2021-05-06T00:00:00\",\"2021-07-05T00:00:00\",\"2022-04-18T00:00:00\",\"2021-01-03T00:00:00\",\"2021-06-29T00:00:00\",\"2021-12-31T00:00:00\",\"2022-01-05T00:00:00\",\"2022-04-17T00:00:00\",\"2021-09-10T00:00:00\",\"2021-11-03T00:00:00\",\"2022-01-10T00:00:00\",\"2019-04-30T00:00:00\",\"2021-04-27T00:00:00\",\"2018-09-19T00:00:00\",\"2022-04-29T00:00:00\",\"2020-02-19T00:00:00\"],\"xaxis\":\"x\",\"y\":[368,339,261,371,563,318,592,272,252,328,329,256,528,181,176,224,224,31,528,160,528,416,330,304,272,337,270,464,201,347,244,360,228,304,190,253,190,288,282,394,288,336,336,272,266,336,456,455,273,736,304,477,288,320,256,784,368,288,345,288,392,499,256,435,256,256,304,160,320,328,224,382,222,320,672,256,438,272,800,192,327,768,192,275,204,357,416,368,512,415,408,288,338,326,320,368,368,128,72,342,280,256,416,153,128,288,448,166,271,232,166,432,125,480,272,512,248,496,218,336,256,336,352,256,158,448,240,736,286,232,278,292,275,381,260,327,436,365,274,496,353,353,384,320,338,256,365,365,912,328,440,736,287,287,640,480,384,352,272,229,413,344,259,256,400,347,384,368,512,127,384,243,252,320,256,608,319,288,256,370,320,173,380,496,296,224,349,409,274,127,338,344,432,256,512,368,400,672,262,256,496,240,304,304,352,608,448,368,256,672,304,304,192,512,127,302,304,288,354,324,338,370,299,394,338,354,336,176,328,416,560,528,176,368,224,400,367,480,288,320,127,385,320,156,428,464,256,256,512,256,560,560,336,432,400,400,127,150,352,299,320,421,416,288,127,272,544,544,272,320,496,110,320,320,373,288,368,240,752,352,352,528,211,432,304,320,224,400,240,288,192,208,416,192,448,288,464,432,368,244,336,288,736,432,656,480,272,208,290,304,416,352,368,608,512,400,352,336,384,288,304,244,322,400,528,304,272,160],\"yaxis\":\"y\",\"type\":\"bar\"}],                        {\"template\":{\"data\":{\"histogram2dcontour\":[{\"type\":\"histogram2dcontour\",\"colorbar\":{\"outlinewidth\":0,\"ticks\":\"\"},\"colorscale\":[[0.0,\"#0d0887\"],[0.1111111111111111,\"#46039f\"],[0.2222222222222222,\"#7201a8\"],[0.3333333333333333,\"#9c179e\"],[0.4444444444444444,\"#bd3786\"],[0.5555555555555556,\"#d8576b\"],[0.6666666666666666,\"#ed7953\"],[0.7777777777777778,\"#fb9f3a\"],[0.8888888888888888,\"#fdca26\"],[1.0,\"#f0f921\"]]}],\"choropleth\":[{\"type\":\"choropleth\",\"colorbar\":{\"outlinewidth\":0,\"ticks\":\"\"}}],\"histogram2d\":[{\"type\":\"histogram2d\",\"colorbar\":{\"outlinewidth\":0,\"ticks\":\"\"},\"colorscale\":[[0.0,\"#0d0887\"],[0.1111111111111111,\"#46039f\"],[0.2222222222222222,\"#7201a8\"],[0.3333333333333333,\"#9c179e\"],[0.4444444444444444,\"#bd3786\"],[0.5555555555555556,\"#d8576b\"],[0.6666666666666666,\"#ed7953\"],[0.7777777777777778,\"#fb9f3a\"],[0.8888888888888888,\"#fdca26\"],[1.0,\"#f0f921\"]]}],\"heatmap\":[{\"type\":\"heatmap\",\"colorbar\":{\"outlinewidth\":0,\"ticks\":\"\"},\"colorscale\":[[0.0,\"#0d0887\"],[0.1111111111111111,\"#46039f\"],[0.2222222222222222,\"#7201a8\"],[0.3333333333333333,\"#9c179e\"],[0.4444444444444444,\"#bd3786\"],[0.5555555555555556,\"#d8576b\"],[0.6666666666666666,\"#ed7953\"],[0.7777777777777778,\"#fb9f3a\"],[0.8888888888888888,\"#fdca26\"],[1.0,\"#f0f921\"]]}],\"heatmapgl\":[{\"type\":\"heatmapgl\",\"colorbar\":{\"outlinewidth\":0,\"ticks\":\"\"},\"colorscale\":[[0.0,\"#0d0887\"],[0.1111111111111111,\"#46039f\"],[0.2222222222222222,\"#7201a8\"],[0.3333333333333333,\"#9c179e\"],[0.4444444444444444,\"#bd3786\"],[0.5555555555555556,\"#d8576b\"],[0.6666666666666666,\"#ed7953\"],[0.7777777777777778,\"#fb9f3a\"],[0.8888888888888888,\"#fdca26\"],[1.0,\"#f0f921\"]]}],\"contourcarpet\":[{\"type\":\"contourcarpet\",\"colorbar\":{\"outlinewidth\":0,\"ticks\":\"\"}}],\"contour\":[{\"type\":\"contour\",\"colorbar\":{\"outlinewidth\":0,\"ticks\":\"\"},\"colorscale\":[[0.0,\"#0d0887\"],[0.1111111111111111,\"#46039f\"],[0.2222222222222222,\"#7201a8\"],[0.3333333333333333,\"#9c179e\"],[0.4444444444444444,\"#bd3786\"],[0.5555555555555556,\"#d8576b\"],[0.6666666666666666,\"#ed7953\"],[0.7777777777777778,\"#fb9f3a\"],[0.8888888888888888,\"#fdca26\"],[1.0,\"#f0f921\"]]}],\"surface\":[{\"type\":\"surface\",\"colorbar\":{\"outlinewidth\":0,\"ticks\":\"\"},\"colorscale\":[[0.0,\"#0d0887\"],[0.1111111111111111,\"#46039f\"],[0.2222222222222222,\"#7201a8\"],[0.3333333333333333,\"#9c179e\"],[0.4444444444444444,\"#bd3786\"],[0.5555555555555556,\"#d8576b\"],[0.6666666666666666,\"#ed7953\"],[0.7777777777777778,\"#fb9f3a\"],[0.8888888888888888,\"#fdca26\"],[1.0,\"#f0f921\"]]}],\"mesh3d\":[{\"type\":\"mesh3d\",\"colorbar\":{\"outlinewidth\":0,\"ticks\":\"\"}}],\"scatter\":[{\"fillpattern\":{\"fillmode\":\"overlay\",\"size\":10,\"solidity\":0.2},\"type\":\"scatter\"}],\"parcoords\":[{\"type\":\"parcoords\",\"line\":{\"colorbar\":{\"outlinewidth\":0,\"ticks\":\"\"}}}],\"scatterpolargl\":[{\"type\":\"scatterpolargl\",\"marker\":{\"colorbar\":{\"outlinewidth\":0,\"ticks\":\"\"}}}],\"bar\":[{\"error_x\":{\"color\":\"#2a3f5f\"},\"error_y\":{\"color\":\"#2a3f5f\"},\"marker\":{\"line\":{\"color\":\"#E5ECF6\",\"width\":0.5},\"pattern\":{\"fillmode\":\"overlay\",\"size\":10,\"solidity\":0.2}},\"type\":\"bar\"}],\"scattergeo\":[{\"type\":\"scattergeo\",\"marker\":{\"colorbar\":{\"outlinewidth\":0,\"ticks\":\"\"}}}],\"scatterpolar\":[{\"type\":\"scatterpolar\",\"marker\":{\"colorbar\":{\"outlinewidth\":0,\"ticks\":\"\"}}}],\"histogram\":[{\"marker\":{\"pattern\":{\"fillmode\":\"overlay\",\"size\":10,\"solidity\":0.2}},\"type\":\"histogram\"}],\"scattergl\":[{\"type\":\"scattergl\",\"marker\":{\"colorbar\":{\"outlinewidth\":0,\"ticks\":\"\"}}}],\"scatter3d\":[{\"type\":\"scatter3d\",\"line\":{\"colorbar\":{\"outlinewidth\":0,\"ticks\":\"\"}},\"marker\":{\"colorbar\":{\"outlinewidth\":0,\"ticks\":\"\"}}}],\"scattermapbox\":[{\"type\":\"scattermapbox\",\"marker\":{\"colorbar\":{\"outlinewidth\":0,\"ticks\":\"\"}}}],\"scatterternary\":[{\"type\":\"scatterternary\",\"marker\":{\"colorbar\":{\"outlinewidth\":0,\"ticks\":\"\"}}}],\"scattercarpet\":[{\"type\":\"scattercarpet\",\"marker\":{\"colorbar\":{\"outlinewidth\":0,\"ticks\":\"\"}}}],\"carpet\":[{\"aaxis\":{\"endlinecolor\":\"#2a3f5f\",\"gridcolor\":\"white\",\"linecolor\":\"white\",\"minorgridcolor\":\"white\",\"startlinecolor\":\"#2a3f5f\"},\"baxis\":{\"endlinecolor\":\"#2a3f5f\",\"gridcolor\":\"white\",\"linecolor\":\"white\",\"minorgridcolor\":\"white\",\"startlinecolor\":\"#2a3f5f\"},\"type\":\"carpet\"}],\"table\":[{\"cells\":{\"fill\":{\"color\":\"#EBF0F8\"},\"line\":{\"color\":\"white\"}},\"header\":{\"fill\":{\"color\":\"#C8D4E3\"},\"line\":{\"color\":\"white\"}},\"type\":\"table\"}],\"barpolar\":[{\"marker\":{\"line\":{\"color\":\"#E5ECF6\",\"width\":0.5},\"pattern\":{\"fillmode\":\"overlay\",\"size\":10,\"solidity\":0.2}},\"type\":\"barpolar\"}],\"pie\":[{\"automargin\":true,\"type\":\"pie\"}]},\"layout\":{\"autotypenumbers\":\"strict\",\"colorway\":[\"#636efa\",\"#EF553B\",\"#00cc96\",\"#ab63fa\",\"#FFA15A\",\"#19d3f3\",\"#FF6692\",\"#B6E880\",\"#FF97FF\",\"#FECB52\"],\"font\":{\"color\":\"#2a3f5f\"},\"hovermode\":\"closest\",\"hoverlabel\":{\"align\":\"left\"},\"paper_bgcolor\":\"white\",\"plot_bgcolor\":\"#E5ECF6\",\"polar\":{\"bgcolor\":\"#E5ECF6\",\"angularaxis\":{\"gridcolor\":\"white\",\"linecolor\":\"white\",\"ticks\":\"\"},\"radialaxis\":{\"gridcolor\":\"white\",\"linecolor\":\"white\",\"ticks\":\"\"}},\"ternary\":{\"bgcolor\":\"#E5ECF6\",\"aaxis\":{\"gridcolor\":\"white\",\"linecolor\":\"white\",\"ticks\":\"\"},\"baxis\":{\"gridcolor\":\"white\",\"linecolor\":\"white\",\"ticks\":\"\"},\"caxis\":{\"gridcolor\":\"white\",\"linecolor\":\"white\",\"ticks\":\"\"}},\"coloraxis\":{\"colorbar\":{\"outlinewidth\":0,\"ticks\":\"\"}},\"colorscale\":{\"sequential\":[[0.0,\"#0d0887\"],[0.1111111111111111,\"#46039f\"],[0.2222222222222222,\"#7201a8\"],[0.3333333333333333,\"#9c179e\"],[0.4444444444444444,\"#bd3786\"],[0.5555555555555556,\"#d8576b\"],[0.6666666666666666,\"#ed7953\"],[0.7777777777777778,\"#fb9f3a\"],[0.8888888888888888,\"#fdca26\"],[1.0,\"#f0f921\"]],\"sequentialminus\":[[0.0,\"#0d0887\"],[0.1111111111111111,\"#46039f\"],[0.2222222222222222,\"#7201a8\"],[0.3333333333333333,\"#9c179e\"],[0.4444444444444444,\"#bd3786\"],[0.5555555555555556,\"#d8576b\"],[0.6666666666666666,\"#ed7953\"],[0.7777777777777778,\"#fb9f3a\"],[0.8888888888888888,\"#fdca26\"],[1.0,\"#f0f921\"]],\"diverging\":[[0,\"#8e0152\"],[0.1,\"#c51b7d\"],[0.2,\"#de77ae\"],[0.3,\"#f1b6da\"],[0.4,\"#fde0ef\"],[0.5,\"#f7f7f7\"],[0.6,\"#e6f5d0\"],[0.7,\"#b8e186\"],[0.8,\"#7fbc41\"],[0.9,\"#4d9221\"],[1,\"#276419\"]]},\"xaxis\":{\"gridcolor\":\"white\",\"linecolor\":\"white\",\"ticks\":\"\",\"title\":{\"standoff\":15},\"zerolinecolor\":\"white\",\"automargin\":true,\"zerolinewidth\":2},\"yaxis\":{\"gridcolor\":\"white\",\"linecolor\":\"white\",\"ticks\":\"\",\"title\":{\"standoff\":15},\"zerolinecolor\":\"white\",\"automargin\":true,\"zerolinewidth\":2},\"scene\":{\"xaxis\":{\"backgroundcolor\":\"#E5ECF6\",\"gridcolor\":\"white\",\"linecolor\":\"white\",\"showbackground\":true,\"ticks\":\"\",\"zerolinecolor\":\"white\",\"gridwidth\":2},\"yaxis\":{\"backgroundcolor\":\"#E5ECF6\",\"gridcolor\":\"white\",\"linecolor\":\"white\",\"showbackground\":true,\"ticks\":\"\",\"zerolinecolor\":\"white\",\"gridwidth\":2},\"zaxis\":{\"backgroundcolor\":\"#E5ECF6\",\"gridcolor\":\"white\",\"linecolor\":\"white\",\"showbackground\":true,\"ticks\":\"\",\"zerolinecolor\":\"white\",\"gridwidth\":2}},\"shapedefaults\":{\"line\":{\"color\":\"#2a3f5f\"}},\"annotationdefaults\":{\"arrowcolor\":\"#2a3f5f\",\"arrowhead\":0,\"arrowwidth\":1},\"geo\":{\"bgcolor\":\"white\",\"landcolor\":\"#E5ECF6\",\"subunitcolor\":\"white\",\"showland\":true,\"showlakes\":true,\"lakecolor\":\"white\"},\"title\":{\"x\":0.05},\"mapbox\":{\"style\":\"light\"}}},\"xaxis\":{\"anchor\":\"y\",\"domain\":[0.0,1.0],\"title\":{\"text\":\"completion date\"}},\"yaxis\":{\"anchor\":\"x\",\"domain\":[0.0,1.0],\"title\":{\"text\":\"pages\"},\"range\":[0,1150]},\"legend\":{\"tracegroupgap\":0},\"margin\":{\"t\":60},\"barmode\":\"relative\"},                        {\"responsive\": true}                    ).then(function(){\n",
       "                            \n",
       "var gd = document.getElementById('7d7ba41b-e607-4334-9377-392547f0e308');\n",
       "var x = new MutationObserver(function (mutations, observer) {{\n",
       "        var display = window.getComputedStyle(gd).display;\n",
       "        if (!display || display === 'none') {{\n",
       "            console.log([gd, 'removed!']);\n",
       "            Plotly.purge(gd);\n",
       "            observer.disconnect();\n",
       "        }}\n",
       "}});\n",
       "\n",
       "// Listen for the removal of the full notebook cells\n",
       "var notebookContainer = gd.closest('#notebook-container');\n",
       "if (notebookContainer) {{\n",
       "    x.observe(notebookContainer, {childList: true});\n",
       "}}\n",
       "\n",
       "// Listen for the clearing of the current output cell\n",
       "var outputEl = gd.closest('.output');\n",
       "if (outputEl) {{\n",
       "    x.observe(outputEl, {childList: true});\n",
       "}}\n",
       "\n",
       "                        })                };                });            </script>        </div>"
      ]
     },
     "metadata": {},
     "output_type": "display_data"
    }
   ],
   "source": [
    "fig = px.bar( Completed, x= \"completion date\", y = \"pages\")\n",
    "fig.update_layout(yaxis_range = [0,1150])"
   ]
  },
  {
   "cell_type": "code",
   "execution_count": 53,
   "id": "61ec3942",
   "metadata": {
    "execution": {
     "iopub.execute_input": "2022-06-08T19:58:19.653939Z",
     "iopub.status.busy": "2022-06-08T19:58:19.652859Z",
     "iopub.status.idle": "2022-06-08T19:58:20.002749Z",
     "shell.execute_reply": "2022-06-08T19:58:20.001457Z"
    },
    "papermill": {
     "duration": 0.378548,
     "end_time": "2022-06-08T19:58:20.005200",
     "exception": false,
     "start_time": "2022-06-08T19:58:19.626652",
     "status": "completed"
    },
    "tags": []
   },
   "outputs": [
    {
     "data": {
      "image/png": "[encoded data removed]",
      "text/plain": [
       "<Figure size 432x288 with 1 Axes>"
      ]
     },
     "metadata": {},
     "output_type": "display_data"
    }
   ],
   "source": [
    "sns.barplot( x= \"completion_year\", y = \"pages\", data = Completed)\n",
    "plt.show()"
   ]
  },
  {
   "cell_type": "code",
   "execution_count": 54,
   "id": "2833b163",
   "metadata": {
    "execution": {
     "iopub.execute_input": "2022-06-08T19:58:20.059211Z",
     "iopub.status.busy": "2022-06-08T19:58:20.058738Z",
     "iopub.status.idle": "2022-06-08T19:58:20.265737Z",
     "shell.execute_reply": "2022-06-08T19:58:20.264716Z"
    },
    "papermill": {
     "duration": 0.236282,
     "end_time": "2022-06-08T19:58:20.267815",
     "exception": false,
     "start_time": "2022-06-08T19:58:20.031533",
     "status": "completed"
    },
    "tags": []
   },
   "outputs": [
    {
     "data": {
      "image/png": "[encoded data removed]",
      "text/plain": [
       "<Figure size 432x288 with 1 Axes>"
      ]
     },
     "metadata": {},
     "output_type": "display_data"
    }
   ],
   "source": [
    "sns.countplot( x= \"completion_year\",data = Completed)\n",
    "plt.show()"
   ]
  },
  {
   "cell_type": "code",
   "execution_count": 55,
   "id": "ff874e72",
   "metadata": {
    "execution": {
     "iopub.execute_input": "2022-06-08T19:58:20.321532Z",
     "iopub.status.busy": "2022-06-08T19:58:20.320380Z",
     "iopub.status.idle": "2022-06-08T19:58:20.825481Z",
     "shell.execute_reply": "2022-06-08T19:58:20.824376Z"
    },
    "papermill": {
     "duration": 0.534564,
     "end_time": "2022-06-08T19:58:20.827808",
     "exception": false,
     "start_time": "2022-06-08T19:58:20.293244",
     "status": "completed"
    },
    "tags": []
   },
   "outputs": [
    {
     "data": {
      "image/png": "[encoded data removed]",
      "text/plain": [
       "<Figure size 432x288 with 1 Axes>"
      ]
     },
     "metadata": {},
     "output_type": "display_data"
    }
   ],
   "source": [
    "sns.barplot( x= \"completion_month\", y = \"pages\", data = Completed)\n",
    "plt.show()"
   ]
  },
  {
   "cell_type": "code",
   "execution_count": 56,
   "id": "09732370",
   "metadata": {
    "execution": {
     "iopub.execute_input": "2022-06-08T19:58:20.882623Z",
     "iopub.status.busy": "2022-06-08T19:58:20.881808Z",
     "iopub.status.idle": "2022-06-08T19:58:22.447077Z",
     "shell.execute_reply": "2022-06-08T19:58:22.446085Z"
    },
    "papermill": {
     "duration": 1.595231,
     "end_time": "2022-06-08T19:58:22.449621",
     "exception": false,
     "start_time": "2022-06-08T19:58:20.854390",
     "status": "completed"
    },
    "tags": []
   },
   "outputs": [
    {
     "data": {
      "image/png": "[encoded data removed]",
      "text/plain": [
       "<Figure size 1728x864 with 7 Axes>"
      ]
     },
     "metadata": {},
     "output_type": "display_data"
    }
   ],
   "source": [
    "g = sns.FacetGrid(Completed, col='completion_year', height=6, col_wrap=4)\n",
    "g.map(sns.histplot, \"completion_month\",)\n",
    "plt.show()"
   ]
  },
  {
   "cell_type": "code",
   "execution_count": 57,
   "id": "919ed5a9",
   "metadata": {
    "execution": {
     "iopub.execute_input": "2022-06-08T19:58:22.504427Z",
     "iopub.status.busy": "2022-06-08T19:58:22.503991Z",
     "iopub.status.idle": "2022-06-08T19:58:25.721846Z",
     "shell.execute_reply": "2022-06-08T19:58:25.720833Z"
    },
    "papermill": {
     "duration": 3.248218,
     "end_time": "2022-06-08T19:58:25.724565",
     "exception": false,
     "start_time": "2022-06-08T19:58:22.476347",
     "status": "completed"
    },
    "tags": []
   },
   "outputs": [
    {
     "data": {
      "text/plain": [
       "<seaborn.axisgrid.FacetGrid at 0x7f7ad1c1d410>"
      ]
     },
     "execution_count": 57,
     "metadata": {},
     "output_type": "execute_result"
    },
    {
     "data": {
      "image/png": "[encoded data removed]",
      "text/plain": [
       "<Figure size 1440x720 with 7 Axes>"
      ]
     },
     "metadata": {},
     "output_type": "display_data"
    }
   ],
   "source": [
    "sns.catplot(data = Completed, x=\"completion_month\", y = \"pages\", col = \"completion_year\", kind = \"bar\", col_wrap=4)"
   ]
  },
  {
   "cell_type": "code",
   "execution_count": 58,
   "id": "4ccc8f77",
   "metadata": {
    "execution": {
     "iopub.execute_input": "2022-06-08T19:58:25.783287Z",
     "iopub.status.busy": "2022-06-08T19:58:25.782565Z",
     "iopub.status.idle": "2022-06-08T19:58:25.791091Z",
     "shell.execute_reply": "2022-06-08T19:58:25.790423Z"
    },
    "papermill": {
     "duration": 0.039168,
     "end_time": "2022-06-08T19:58:25.793057",
     "exception": false,
     "start_time": "2022-06-08T19:58:25.753889",
     "status": "completed"
    },
    "tags": []
   },
   "outputs": [
    {
     "data": {
      "text/plain": [
       "317"
      ]
     },
     "execution_count": 58,
     "metadata": {},
     "output_type": "execute_result"
    }
   ],
   "source": [
    "Completed[\"Title\"].nunique()"
   ]
  },
  {
   "cell_type": "code",
   "execution_count": 59,
   "id": "c6bc9a4e",
   "metadata": {
    "execution": {
     "iopub.execute_input": "2022-06-08T19:58:25.851063Z",
     "iopub.status.busy": "2022-06-08T19:58:25.849558Z",
     "iopub.status.idle": "2022-06-08T19:58:25.865425Z",
     "shell.execute_reply": "2022-06-08T19:58:25.864716Z"
    },
    "papermill": {
     "duration": 0.046925,
     "end_time": "2022-06-08T19:58:25.867195",
     "exception": false,
     "start_time": "2022-06-08T19:58:25.820270",
     "status": "completed"
    },
    "tags": []
   },
   "outputs": [
    {
     "data": {
      "text/html": [
       "<div>\n",
       "<style scoped>\n",
       "    .dataframe tbody tr th:only-of-type {\n",
       "        vertical-align: middle;\n",
       "    }\n",
       "\n",
       "    .dataframe tbody tr th {\n",
       "        vertical-align: top;\n",
       "    }\n",
       "\n",
       "    .dataframe thead th {\n",
       "        text-align: right;\n",
       "    }\n",
       "</style>\n",
       "<table border=\"1\" class=\"dataframe\">\n",
       "  <thead>\n",
       "    <tr style=\"text-align: right;\">\n",
       "      <th></th>\n",
       "      <th>titles</th>\n",
       "      <th>reads</th>\n",
       "    </tr>\n",
       "  </thead>\n",
       "  <tbody>\n",
       "    <tr>\n",
       "      <th>0</th>\n",
       "      <td>ぼくは明日、昨日のきみとデートする</td>\n",
       "      <td>2</td>\n",
       "    </tr>\n",
       "    <tr>\n",
       "      <th>1</th>\n",
       "      <td>Economics: The User's Guide</td>\n",
       "      <td>2</td>\n",
       "    </tr>\n",
       "    <tr>\n",
       "      <th>2</th>\n",
       "      <td>Economics</td>\n",
       "      <td>2</td>\n",
       "    </tr>\n",
       "    <tr>\n",
       "      <th>3</th>\n",
       "      <td>Magpie Murders</td>\n",
       "      <td>2</td>\n",
       "    </tr>\n",
       "    <tr>\n",
       "      <th>4</th>\n",
       "      <td>妖怪アパートの幽雅な日常 1</td>\n",
       "      <td>2</td>\n",
       "    </tr>\n",
       "  </tbody>\n",
       "</table>\n",
       "</div>"
      ],
      "text/plain": [
       "                        titles  reads\n",
       "0            ぼくは明日、昨日のきみとデートする      2\n",
       "1  Economics: The User's Guide      2\n",
       "2                    Economics      2\n",
       "3               Magpie Murders      2\n",
       "4               妖怪アパートの幽雅な日常 1      2"
      ]
     },
     "execution_count": 59,
     "metadata": {},
     "output_type": "execute_result"
    }
   ],
   "source": [
    "rereads = df[\"Title\"].value_counts().rename_axis (\"titles\").reset_index(name = \"reads\")\n",
    "rereads[rereads[\"reads\"]>1].head()"
   ]
  },
  {
   "cell_type": "code",
   "execution_count": 60,
   "id": "90db2280",
   "metadata": {
    "execution": {
     "iopub.execute_input": "2022-06-08T19:58:25.926612Z",
     "iopub.status.busy": "2022-06-08T19:58:25.924819Z",
     "iopub.status.idle": "2022-06-08T19:58:25.933818Z",
     "shell.execute_reply": "2022-06-08T19:58:25.933108Z"
    },
    "papermill": {
     "duration": 0.040064,
     "end_time": "2022-06-08T19:58:25.935505",
     "exception": false,
     "start_time": "2022-06-08T19:58:25.895441",
     "status": "completed"
    },
    "tags": []
   },
   "outputs": [
    {
     "data": {
      "text/plain": [
       "13"
      ]
     },
     "execution_count": 60,
     "metadata": {},
     "output_type": "execute_result"
    }
   ],
   "source": [
    "rereads[rereads[\"reads\"]>1].shape[0]"
   ]
  },
  {
   "cell_type": "code",
   "execution_count": 61,
   "id": "155edb4d",
   "metadata": {
    "execution": {
     "iopub.execute_input": "2022-06-08T19:58:25.993858Z",
     "iopub.status.busy": "2022-06-08T19:58:25.993369Z",
     "iopub.status.idle": "2022-06-08T19:58:26.000152Z",
     "shell.execute_reply": "2022-06-08T19:58:25.999223Z"
    },
    "papermill": {
     "duration": 0.038326,
     "end_time": "2022-06-08T19:58:26.002287",
     "exception": false,
     "start_time": "2022-06-08T19:58:25.963961",
     "status": "completed"
    },
    "tags": []
   },
   "outputs": [
    {
     "name": "stdout",
     "output_type": "stream",
     "text": [
      "3.35 % of read books were rereads\n"
     ]
    }
   ],
   "source": [
    "print(round((1 -Completed[\"Title\"].nunique()/Completed.shape[0])*100,2), \"% of read books were rereads\")"
   ]
  },
  {
   "cell_type": "code",
   "execution_count": 62,
   "id": "9c4e5391",
   "metadata": {
    "execution": {
     "iopub.execute_input": "2022-06-08T19:58:26.060791Z",
     "iopub.status.busy": "2022-06-08T19:58:26.060033Z",
     "iopub.status.idle": "2022-06-08T19:58:26.078139Z",
     "shell.execute_reply": "2022-06-08T19:58:26.077325Z"
    },
    "papermill": {
     "duration": 0.049581,
     "end_time": "2022-06-08T19:58:26.080208",
     "exception": false,
     "start_time": "2022-06-08T19:58:26.030627",
     "status": "completed"
    },
    "tags": []
   },
   "outputs": [
    {
     "data": {
      "text/html": [
       "<div>\n",
       "<style scoped>\n",
       "    .dataframe tbody tr th:only-of-type {\n",
       "        vertical-align: middle;\n",
       "    }\n",
       "\n",
       "    .dataframe tbody tr th {\n",
       "        vertical-align: top;\n",
       "    }\n",
       "\n",
       "    .dataframe thead th {\n",
       "        text-align: right;\n",
       "    }\n",
       "</style>\n",
       "<table border=\"1\" class=\"dataframe\">\n",
       "  <thead>\n",
       "    <tr style=\"text-align: right;\">\n",
       "      <th></th>\n",
       "      <th>author(s)</th>\n",
       "      <th>books/reads</th>\n",
       "    </tr>\n",
       "  </thead>\n",
       "  <tbody>\n",
       "    <tr>\n",
       "      <th>0</th>\n",
       "      <td>東野 圭吾</td>\n",
       "      <td>15</td>\n",
       "    </tr>\n",
       "    <tr>\n",
       "      <th>1</th>\n",
       "      <td>谷 瑞恵</td>\n",
       "      <td>13</td>\n",
       "    </tr>\n",
       "    <tr>\n",
       "      <th>2</th>\n",
       "      <td>香月 日輪</td>\n",
       "      <td>8</td>\n",
       "    </tr>\n",
       "    <tr>\n",
       "      <th>3</th>\n",
       "      <td>伊坂 幸太郎</td>\n",
       "      <td>7</td>\n",
       "    </tr>\n",
       "    <tr>\n",
       "      <th>4</th>\n",
       "      <td>ふじた</td>\n",
       "      <td>6</td>\n",
       "    </tr>\n",
       "  </tbody>\n",
       "</table>\n",
       "</div>"
      ],
      "text/plain": [
       "  author(s)  books/reads\n",
       "0     東野 圭吾           15\n",
       "1      谷 瑞恵           13\n",
       "2     香月 日輪            8\n",
       "3    伊坂 幸太郎            7\n",
       "4       ふじた            6"
      ]
     },
     "execution_count": 62,
     "metadata": {},
     "output_type": "execute_result"
    }
   ],
   "source": [
    "first_reads = Completed.drop_duplicates(subset = [\"Title\"], keep = \"first\"  )\n",
    "\n",
    "fav_authors = first_reads[\"author(s)\"].value_counts().rename_axis (\"author(s)\").reset_index(name = \"books/reads\")\n",
    "fav_authors[fav_authors[\"books/reads\"]>1].head()"
   ]
  },
  {
   "cell_type": "code",
   "execution_count": 63,
   "id": "92427f14",
   "metadata": {
    "execution": {
     "iopub.execute_input": "2022-06-08T19:58:26.140710Z",
     "iopub.status.busy": "2022-06-08T19:58:26.139269Z",
     "iopub.status.idle": "2022-06-08T19:58:26.198450Z",
     "shell.execute_reply": "2022-06-08T19:58:26.197764Z"
    },
    "papermill": {
     "duration": 0.091627,
     "end_time": "2022-06-08T19:58:26.200840",
     "exception": false,
     "start_time": "2022-06-08T19:58:26.109213",
     "status": "completed"
    },
    "tags": []
   },
   "outputs": [
    {
     "data": {
      "text/html": [
       "<div>                            <div id=\"d305b0a2-7100-4419-b847-745b616a5652\" class=\"plotly-graph-div\" style=\"height:525px; width:100%;\"></div>            <script type=\"text/javascript\">                require([\"plotly\"], function(Plotly) {                    window.PLOTLYENV=window.PLOTLYENV || {};                                    if (document.getElementById(\"d305b0a2-7100-4419-b847-745b616a5652\")) {                    Plotly.newPlot(                        \"d305b0a2-7100-4419-b847-745b616a5652\",                        [{\"alignmentgroup\":\"True\",\"hovertemplate\":\"author(s)=%{x}<br>books/reads=%{y}<extra></extra>\",\"legendgroup\":\"\",\"marker\":{\"color\":\"#636efa\",\"pattern\":{\"shape\":\"\"}},\"name\":\"\",\"offsetgroup\":\"\",\"orientation\":\"v\",\"showlegend\":false,\"textposition\":\"auto\",\"x\":[\"東野 圭吾\",\"谷 瑞恵\",\"香月 日輪\",\"伊坂 幸太郎\",\"ふじた\",\"Leigh Bardugo\",\"成田 良悟\",\"池井戸 潤\",\"藤木 稟\",\"Brandon Sanderson\",\"知念 実希人\",\"Ian Fleming\",\"J. K. Rowling\",\"V. E. Schwab\",\"枢 やな\",\"Robert Thorogood\",\"中村 ふみ\",\"誉田 哲也\",\"Anthony Horowitz\",\"Sarah J. Maas\",\"Agatha Christie\",\"葉山 透\",\"Scott Lynch\",\"赤川 次郎\",\"乙一\",\"Wilkie Collins\",\"Jane Austen\"],\"xaxis\":\"x\",\"y\":[15,13,8,7,6,5,5,5,5,4,4,4,4,4,4,4,3,3,3,3,3,3,3,3,3,3,3],\"yaxis\":\"y\",\"type\":\"bar\"}],                        {\"template\":{\"data\":{\"histogram2dcontour\":[{\"type\":\"histogram2dcontour\",\"colorbar\":{\"outlinewidth\":0,\"ticks\":\"\"},\"colorscale\":[[0.0,\"#0d0887\"],[0.1111111111111111,\"#46039f\"],[0.2222222222222222,\"#7201a8\"],[0.3333333333333333,\"#9c179e\"],[0.4444444444444444,\"#bd3786\"],[0.5555555555555556,\"#d8576b\"],[0.6666666666666666,\"#ed7953\"],[0.7777777777777778,\"#fb9f3a\"],[0.8888888888888888,\"#fdca26\"],[1.0,\"#f0f921\"]]}],\"choropleth\":[{\"type\":\"choropleth\",\"colorbar\":{\"outlinewidth\":0,\"ticks\":\"\"}}],\"histogram2d\":[{\"type\":\"histogram2d\",\"colorbar\":{\"outlinewidth\":0,\"ticks\":\"\"},\"colorscale\":[[0.0,\"#0d0887\"],[0.1111111111111111,\"#46039f\"],[0.2222222222222222,\"#7201a8\"],[0.3333333333333333,\"#9c179e\"],[0.4444444444444444,\"#bd3786\"],[0.5555555555555556,\"#d8576b\"],[0.6666666666666666,\"#ed7953\"],[0.7777777777777778,\"#fb9f3a\"],[0.8888888888888888,\"#fdca26\"],[1.0,\"#f0f921\"]]}],\"heatmap\":[{\"type\":\"heatmap\",\"colorbar\":{\"outlinewidth\":0,\"ticks\":\"\"},\"colorscale\":[[0.0,\"#0d0887\"],[0.1111111111111111,\"#46039f\"],[0.2222222222222222,\"#7201a8\"],[0.3333333333333333,\"#9c179e\"],[0.4444444444444444,\"#bd3786\"],[0.5555555555555556,\"#d8576b\"],[0.6666666666666666,\"#ed7953\"],[0.7777777777777778,\"#fb9f3a\"],[0.8888888888888888,\"#fdca26\"],[1.0,\"#f0f921\"]]}],\"heatmapgl\":[{\"type\":\"heatmapgl\",\"colorbar\":{\"outlinewidth\":0,\"ticks\":\"\"},\"colorscale\":[[0.0,\"#0d0887\"],[0.1111111111111111,\"#46039f\"],[0.2222222222222222,\"#7201a8\"],[0.3333333333333333,\"#9c179e\"],[0.4444444444444444,\"#bd3786\"],[0.5555555555555556,\"#d8576b\"],[0.6666666666666666,\"#ed7953\"],[0.7777777777777778,\"#fb9f3a\"],[0.8888888888888888,\"#fdca26\"],[1.0,\"#f0f921\"]]}],\"contourcarpet\":[{\"type\":\"contourcarpet\",\"colorbar\":{\"outlinewidth\":0,\"ticks\":\"\"}}],\"contour\":[{\"type\":\"contour\",\"colorbar\":{\"outlinewidth\":0,\"ticks\":\"\"},\"colorscale\":[[0.0,\"#0d0887\"],[0.1111111111111111,\"#46039f\"],[0.2222222222222222,\"#7201a8\"],[0.3333333333333333,\"#9c179e\"],[0.4444444444444444,\"#bd3786\"],[0.5555555555555556,\"#d8576b\"],[0.6666666666666666,\"#ed7953\"],[0.7777777777777778,\"#fb9f3a\"],[0.8888888888888888,\"#fdca26\"],[1.0,\"#f0f921\"]]}],\"surface\":[{\"type\":\"surface\",\"colorbar\":{\"outlinewidth\":0,\"ticks\":\"\"},\"colorscale\":[[0.0,\"#0d0887\"],[0.1111111111111111,\"#46039f\"],[0.2222222222222222,\"#7201a8\"],[0.3333333333333333,\"#9c179e\"],[0.4444444444444444,\"#bd3786\"],[0.5555555555555556,\"#d8576b\"],[0.6666666666666666,\"#ed7953\"],[0.7777777777777778,\"#fb9f3a\"],[0.8888888888888888,\"#fdca26\"],[1.0,\"#f0f921\"]]}],\"mesh3d\":[{\"type\":\"mesh3d\",\"colorbar\":{\"outlinewidth\":0,\"ticks\":\"\"}}],\"scatter\":[{\"fillpattern\":{\"fillmode\":\"overlay\",\"size\":10,\"solidity\":0.2},\"type\":\"scatter\"}],\"parcoords\":[{\"type\":\"parcoords\",\"line\":{\"colorbar\":{\"outlinewidth\":0,\"ticks\":\"\"}}}],\"scatterpolargl\":[{\"type\":\"scatterpolargl\",\"marker\":{\"colorbar\":{\"outlinewidth\":0,\"ticks\":\"\"}}}],\"bar\":[{\"error_x\":{\"color\":\"#2a3f5f\"},\"error_y\":{\"color\":\"#2a3f5f\"},\"marker\":{\"line\":{\"color\":\"#E5ECF6\",\"width\":0.5},\"pattern\":{\"fillmode\":\"overlay\",\"size\":10,\"solidity\":0.2}},\"type\":\"bar\"}],\"scattergeo\":[{\"type\":\"scattergeo\",\"marker\":{\"colorbar\":{\"outlinewidth\":0,\"ticks\":\"\"}}}],\"scatterpolar\":[{\"type\":\"scatterpolar\",\"marker\":{\"colorbar\":{\"outlinewidth\":0,\"ticks\":\"\"}}}],\"histogram\":[{\"marker\":{\"pattern\":{\"fillmode\":\"overlay\",\"size\":10,\"solidity\":0.2}},\"type\":\"histogram\"}],\"scattergl\":[{\"type\":\"scattergl\",\"marker\":{\"colorbar\":{\"outlinewidth\":0,\"ticks\":\"\"}}}],\"scatter3d\":[{\"type\":\"scatter3d\",\"line\":{\"colorbar\":{\"outlinewidth\":0,\"ticks\":\"\"}},\"marker\":{\"colorbar\":{\"outlinewidth\":0,\"ticks\":\"\"}}}],\"scattermapbox\":[{\"type\":\"scattermapbox\",\"marker\":{\"colorbar\":{\"outlinewidth\":0,\"ticks\":\"\"}}}],\"scatterternary\":[{\"type\":\"scatterternary\",\"marker\":{\"colorbar\":{\"outlinewidth\":0,\"ticks\":\"\"}}}],\"scattercarpet\":[{\"type\":\"scattercarpet\",\"marker\":{\"colorbar\":{\"outlinewidth\":0,\"ticks\":\"\"}}}],\"carpet\":[{\"aaxis\":{\"endlinecolor\":\"#2a3f5f\",\"gridcolor\":\"white\",\"linecolor\":\"white\",\"minorgridcolor\":\"white\",\"startlinecolor\":\"#2a3f5f\"},\"baxis\":{\"endlinecolor\":\"#2a3f5f\",\"gridcolor\":\"white\",\"linecolor\":\"white\",\"minorgridcolor\":\"white\",\"startlinecolor\":\"#2a3f5f\"},\"type\":\"carpet\"}],\"table\":[{\"cells\":{\"fill\":{\"color\":\"#EBF0F8\"},\"line\":{\"color\":\"white\"}},\"header\":{\"fill\":{\"color\":\"#C8D4E3\"},\"line\":{\"color\":\"white\"}},\"type\":\"table\"}],\"barpolar\":[{\"marker\":{\"line\":{\"color\":\"#E5ECF6\",\"width\":0.5},\"pattern\":{\"fillmode\":\"overlay\",\"size\":10,\"solidity\":0.2}},\"type\":\"barpolar\"}],\"pie\":[{\"automargin\":true,\"type\":\"pie\"}]},\"layout\":{\"autotypenumbers\":\"strict\",\"colorway\":[\"#636efa\",\"#EF553B\",\"#00cc96\",\"#ab63fa\",\"#FFA15A\",\"#19d3f3\",\"#FF6692\",\"#B6E880\",\"#FF97FF\",\"#FECB52\"],\"font\":{\"color\":\"#2a3f5f\"},\"hovermode\":\"closest\",\"hoverlabel\":{\"align\":\"left\"},\"paper_bgcolor\":\"white\",\"plot_bgcolor\":\"#E5ECF6\",\"polar\":{\"bgcolor\":\"#E5ECF6\",\"angularaxis\":{\"gridcolor\":\"white\",\"linecolor\":\"white\",\"ticks\":\"\"},\"radialaxis\":{\"gridcolor\":\"white\",\"linecolor\":\"white\",\"ticks\":\"\"}},\"ternary\":{\"bgcolor\":\"#E5ECF6\",\"aaxis\":{\"gridcolor\":\"white\",\"linecolor\":\"white\",\"ticks\":\"\"},\"baxis\":{\"gridcolor\":\"white\",\"linecolor\":\"white\",\"ticks\":\"\"},\"caxis\":{\"gridcolor\":\"white\",\"linecolor\":\"white\",\"ticks\":\"\"}},\"coloraxis\":{\"colorbar\":{\"outlinewidth\":0,\"ticks\":\"\"}},\"colorscale\":{\"sequential\":[[0.0,\"#0d0887\"],[0.1111111111111111,\"#46039f\"],[0.2222222222222222,\"#7201a8\"],[0.3333333333333333,\"#9c179e\"],[0.4444444444444444,\"#bd3786\"],[0.5555555555555556,\"#d8576b\"],[0.6666666666666666,\"#ed7953\"],[0.7777777777777778,\"#fb9f3a\"],[0.8888888888888888,\"#fdca26\"],[1.0,\"#f0f921\"]],\"sequentialminus\":[[0.0,\"#0d0887\"],[0.1111111111111111,\"#46039f\"],[0.2222222222222222,\"#7201a8\"],[0.3333333333333333,\"#9c179e\"],[0.4444444444444444,\"#bd3786\"],[0.5555555555555556,\"#d8576b\"],[0.6666666666666666,\"#ed7953\"],[0.7777777777777778,\"#fb9f3a\"],[0.8888888888888888,\"#fdca26\"],[1.0,\"#f0f921\"]],\"diverging\":[[0,\"#8e0152\"],[0.1,\"#c51b7d\"],[0.2,\"#de77ae\"],[0.3,\"#f1b6da\"],[0.4,\"#fde0ef\"],[0.5,\"#f7f7f7\"],[0.6,\"#e6f5d0\"],[0.7,\"#b8e186\"],[0.8,\"#7fbc41\"],[0.9,\"#4d9221\"],[1,\"#276419\"]]},\"xaxis\":{\"gridcolor\":\"white\",\"linecolor\":\"white\",\"ticks\":\"\",\"title\":{\"standoff\":15},\"zerolinecolor\":\"white\",\"automargin\":true,\"zerolinewidth\":2},\"yaxis\":{\"gridcolor\":\"white\",\"linecolor\":\"white\",\"ticks\":\"\",\"title\":{\"standoff\":15},\"zerolinecolor\":\"white\",\"automargin\":true,\"zerolinewidth\":2},\"scene\":{\"xaxis\":{\"backgroundcolor\":\"#E5ECF6\",\"gridcolor\":\"white\",\"linecolor\":\"white\",\"showbackground\":true,\"ticks\":\"\",\"zerolinecolor\":\"white\",\"gridwidth\":2},\"yaxis\":{\"backgroundcolor\":\"#E5ECF6\",\"gridcolor\":\"white\",\"linecolor\":\"white\",\"showbackground\":true,\"ticks\":\"\",\"zerolinecolor\":\"white\",\"gridwidth\":2},\"zaxis\":{\"backgroundcolor\":\"#E5ECF6\",\"gridcolor\":\"white\",\"linecolor\":\"white\",\"showbackground\":true,\"ticks\":\"\",\"zerolinecolor\":\"white\",\"gridwidth\":2}},\"shapedefaults\":{\"line\":{\"color\":\"#2a3f5f\"}},\"annotationdefaults\":{\"arrowcolor\":\"#2a3f5f\",\"arrowhead\":0,\"arrowwidth\":1},\"geo\":{\"bgcolor\":\"white\",\"landcolor\":\"#E5ECF6\",\"subunitcolor\":\"white\",\"showland\":true,\"showlakes\":true,\"lakecolor\":\"white\"},\"title\":{\"x\":0.05},\"mapbox\":{\"style\":\"light\"}}},\"xaxis\":{\"anchor\":\"y\",\"domain\":[0.0,1.0],\"title\":{\"text\":\"author(s)\"}},\"yaxis\":{\"anchor\":\"x\",\"domain\":[0.0,1.0],\"title\":{\"text\":\"books/reads\"}},\"legend\":{\"tracegroupgap\":0},\"margin\":{\"t\":60},\"barmode\":\"relative\"},                        {\"responsive\": true}                    ).then(function(){\n",
       "                            \n",
       "var gd = document.getElementById('d305b0a2-7100-4419-b847-745b616a5652');\n",
       "var x = new MutationObserver(function (mutations, observer) {{\n",
       "        var display = window.getComputedStyle(gd).display;\n",
       "        if (!display || display === 'none') {{\n",
       "            console.log([gd, 'removed!']);\n",
       "            Plotly.purge(gd);\n",
       "            observer.disconnect();\n",
       "        }}\n",
       "}});\n",
       "\n",
       "// Listen for the removal of the full notebook cells\n",
       "var notebookContainer = gd.closest('#notebook-container');\n",
       "if (notebookContainer) {{\n",
       "    x.observe(notebookContainer, {childList: true});\n",
       "}}\n",
       "\n",
       "// Listen for the clearing of the current output cell\n",
       "var outputEl = gd.closest('.output');\n",
       "if (outputEl) {{\n",
       "    x.observe(outputEl, {childList: true});\n",
       "}}\n",
       "\n",
       "                        })                };                });            </script>        </div>"
      ]
     },
     "metadata": {},
     "output_type": "display_data"
    }
   ],
   "source": [
    "px.bar(fav_authors[fav_authors[\"books/reads\"]>2], x=\"author(s)\", y = \"books/reads\" )"
   ]
  },
  {
   "cell_type": "code",
   "execution_count": 64,
   "id": "446ead84",
   "metadata": {
    "execution": {
     "iopub.execute_input": "2022-06-08T19:58:26.265649Z",
     "iopub.status.busy": "2022-06-08T19:58:26.264840Z",
     "iopub.status.idle": "2022-06-08T19:58:26.422470Z",
     "shell.execute_reply": "2022-06-08T19:58:26.421332Z"
    },
    "papermill": {
     "duration": 0.189556,
     "end_time": "2022-06-08T19:58:26.425591",
     "exception": false,
     "start_time": "2022-06-08T19:58:26.236035",
     "status": "completed"
    },
    "tags": []
   },
   "outputs": [
    {
     "data": {
      "text/plain": [
       "<AxesSubplot:xlabel='language', ylabel='count'>"
      ]
     },
     "execution_count": 64,
     "metadata": {},
     "output_type": "execute_result"
    },
    {
     "data": {
      "image/png": "[encoded data removed]",
      "text/plain": [
       "<Figure size 432x288 with 1 Axes>"
      ]
     },
     "metadata": {},
     "output_type": "display_data"
    }
   ],
   "source": [
    "fav_authors = fav_authors[fav_authors[\"books/reads\"]>2]\n",
    "\n",
    "sns.countplot(x = \"language\", data = Completed[Completed[\"author(s)\"].isin(fav_authors[\"author(s)\"])])"
   ]
  },
  {
   "cell_type": "code",
   "execution_count": 65,
   "id": "2175dc4f",
   "metadata": {
    "execution": {
     "iopub.execute_input": "2022-06-08T19:58:26.485392Z",
     "iopub.status.busy": "2022-06-08T19:58:26.484393Z",
     "iopub.status.idle": "2022-06-08T19:58:26.493306Z",
     "shell.execute_reply": "2022-06-08T19:58:26.491975Z"
    },
    "papermill": {
     "duration": 0.042584,
     "end_time": "2022-06-08T19:58:26.496331",
     "exception": false,
     "start_time": "2022-06-08T19:58:26.453747",
     "status": "completed"
    },
    "tags": []
   },
   "outputs": [
    {
     "name": "stdout",
     "output_type": "stream",
     "text": [
      "There were 66.42 % more Japanese rereads than English rereads\n"
     ]
    }
   ],
   "source": [
    "ratio = (sum(Completed[Completed[\"author(s)\"].isin(fav_authors[\"author(s)\"])][\"language\"]==\"Japanese\")/Completed[Completed[\"author(s)\"].isin(fav_authors[\"author(s)\"])].shape[0])*100\n",
    "print(\"There were\", round(ratio,2),\"% more Japanese rereads than English rereads\")"
   ]
  },
  {
   "cell_type": "code",
   "execution_count": 66,
   "id": "c423310c",
   "metadata": {
    "execution": {
     "iopub.execute_input": "2022-06-08T19:58:26.559111Z",
     "iopub.status.busy": "2022-06-08T19:58:26.558648Z",
     "iopub.status.idle": "2022-06-08T19:58:26.774522Z",
     "shell.execute_reply": "2022-06-08T19:58:26.773463Z"
    },
    "papermill": {
     "duration": 0.249632,
     "end_time": "2022-06-08T19:58:26.776727",
     "exception": false,
     "start_time": "2022-06-08T19:58:26.527095",
     "status": "completed"
    },
    "tags": []
   },
   "outputs": [
    {
     "data": {
      "text/plain": [
       "<AxesSubplot:xlabel='language', ylabel='pages'>"
      ]
     },
     "execution_count": 66,
     "metadata": {},
     "output_type": "execute_result"
    },
    {
     "data": {
      "image/png": "[encoded data removed]",
      "text/plain": [
       "<Figure size 432x288 with 1 Axes>"
      ]
     },
     "metadata": {},
     "output_type": "display_data"
    }
   ],
   "source": [
    "fav_authors = fav_authors[fav_authors[\"books/reads\"]>2]\n",
    "\n",
    "sns.barplot(x = \"language\", y = \"pages\", data = Completed[Completed[\"author(s)\"].isin(fav_authors[\"author(s)\"])])"
   ]
  },
  {
   "cell_type": "code",
   "execution_count": 67,
   "id": "a0a18fd3",
   "metadata": {
    "execution": {
     "iopub.execute_input": "2022-06-08T19:58:26.839115Z",
     "iopub.status.busy": "2022-06-08T19:58:26.838669Z",
     "iopub.status.idle": "2022-06-08T19:58:26.850141Z",
     "shell.execute_reply": "2022-06-08T19:58:26.849246Z"
    },
    "papermill": {
     "duration": 0.045195,
     "end_time": "2022-06-08T19:58:26.852102",
     "exception": false,
     "start_time": "2022-06-08T19:58:26.806907",
     "status": "completed"
    },
    "tags": []
   },
   "outputs": [
    {
     "data": {
      "text/plain": [
       "count    328.000000\n",
       "mean     345.042683\n",
       "std      132.200471\n",
       "min       31.000000\n",
       "25%      259.750000\n",
       "50%      327.000000\n",
       "75%      400.000000\n",
       "max      912.000000\n",
       "Name: pages, dtype: float64"
      ]
     },
     "execution_count": 67,
     "metadata": {},
     "output_type": "execute_result"
    }
   ],
   "source": [
    "Completed[\"pages\"].describe()"
   ]
  },
  {
   "cell_type": "code",
   "execution_count": 68,
   "id": "d8ea40f7",
   "metadata": {
    "execution": {
     "iopub.execute_input": "2022-06-08T19:58:26.916384Z",
     "iopub.status.busy": "2022-06-08T19:58:26.915368Z",
     "iopub.status.idle": "2022-06-08T19:58:27.263707Z",
     "shell.execute_reply": "2022-06-08T19:58:27.262720Z"
    },
    "papermill": {
     "duration": 0.383193,
     "end_time": "2022-06-08T19:58:27.266109",
     "exception": false,
     "start_time": "2022-06-08T19:58:26.882916",
     "status": "completed"
    },
    "tags": []
   },
   "outputs": [
    {
     "data": {
      "image/png": "[encoded data removed]",
      "text/plain": [
       "<Figure size 360x360 with 1 Axes>"
      ]
     },
     "metadata": {},
     "output_type": "display_data"
    }
   ],
   "source": [
    "sns.displot(x = \"pages\", data = Completed, kind= \"kde\")\n",
    "plt.show()"
   ]
  },
  {
   "cell_type": "code",
   "execution_count": 69,
   "id": "94f46fdb",
   "metadata": {
    "execution": {
     "iopub.execute_input": "2022-06-08T19:58:27.328663Z",
     "iopub.status.busy": "2022-06-08T19:58:27.327933Z",
     "iopub.status.idle": "2022-06-08T19:58:27.808625Z",
     "shell.execute_reply": "2022-06-08T19:58:27.807908Z"
    },
    "papermill": {
     "duration": 0.514478,
     "end_time": "2022-06-08T19:58:27.810817",
     "exception": false,
     "start_time": "2022-06-08T19:58:27.296339",
     "status": "completed"
    },
    "tags": []
   },
   "outputs": [
    {
     "data": {
      "image/png": "[encoded data removed]",
      "text/plain": [
       "<Figure size 441.25x360 with 1 Axes>"
      ]
     },
     "metadata": {},
     "output_type": "display_data"
    }
   ],
   "source": [
    "sns.displot(x = \"pages\", data = Completed, kind= \"kde\", hue = \"language\")\n",
    "plt.show()"
   ]
  },
  {
   "cell_type": "code",
   "execution_count": 70,
   "id": "0754e095",
   "metadata": {
    "execution": {
     "iopub.execute_input": "2022-06-08T19:58:27.878379Z",
     "iopub.status.busy": "2022-06-08T19:58:27.877358Z",
     "iopub.status.idle": "2022-06-08T19:58:28.036097Z",
     "shell.execute_reply": "2022-06-08T19:58:28.035301Z"
    },
    "papermill": {
     "duration": 0.195284,
     "end_time": "2022-06-08T19:58:28.038149",
     "exception": false,
     "start_time": "2022-06-08T19:58:27.842865",
     "status": "completed"
    },
    "tags": []
   },
   "outputs": [
    {
     "data": {
      "text/plain": [
       "<AxesSubplot:xlabel='review', ylabel='count'>"
      ]
     },
     "execution_count": 70,
     "metadata": {},
     "output_type": "execute_result"
    },
    {
     "data": {
      "image/png": "[encoded data removed]",
      "text/plain": [
       "<Figure size 432x288 with 1 Axes>"
      ]
     },
     "metadata": {},
     "output_type": "display_data"
    }
   ],
   "source": [
    "sns.countplot(x = \"review\", data = Completed)"
   ]
  },
  {
   "cell_type": "code",
   "execution_count": 71,
   "id": "2bda7d69",
   "metadata": {
    "execution": {
     "iopub.execute_input": "2022-06-08T19:58:28.102619Z",
     "iopub.status.busy": "2022-06-08T19:58:28.101912Z",
     "iopub.status.idle": "2022-06-08T19:58:28.114428Z",
     "shell.execute_reply": "2022-06-08T19:58:28.113318Z"
    },
    "papermill": {
     "duration": 0.048284,
     "end_time": "2022-06-08T19:58:28.117389",
     "exception": false,
     "start_time": "2022-06-08T19:58:28.069105",
     "status": "completed"
    },
    "tags": []
   },
   "outputs": [
    {
     "name": "stdout",
     "output_type": "stream",
     "text": [
      "75.0 % of books read have been reviewed\n"
     ]
    }
   ],
   "source": [
    "print(round((Completed[Completed[\"review\"]==\"Yes\"].shape[0]/Completed.dropna(subset = [\"review\"]).shape[0])*100, 1) ,\"% of books read have been reviewed\")"
   ]
  },
  {
   "cell_type": "code",
   "execution_count": 72,
   "id": "a77a4281",
   "metadata": {
    "execution": {
     "iopub.execute_input": "2022-06-08T19:58:28.181251Z",
     "iopub.status.busy": "2022-06-08T19:58:28.180058Z",
     "iopub.status.idle": "2022-06-08T19:58:28.528655Z",
     "shell.execute_reply": "2022-06-08T19:58:28.527702Z"
    },
    "papermill": {
     "duration": 0.382651,
     "end_time": "2022-06-08T19:58:28.530693",
     "exception": false,
     "start_time": "2022-06-08T19:58:28.148042",
     "status": "completed"
    },
    "tags": []
   },
   "outputs": [
    {
     "data": {
      "text/plain": [
       "<seaborn.axisgrid.FacetGrid at 0x7f7ad1006550>"
      ]
     },
     "execution_count": 72,
     "metadata": {},
     "output_type": "execute_result"
    },
    {
     "data": {
      "image/png": "[encoded data removed]",
      "text/plain": [
       "<Figure size 360x360 with 1 Axes>"
      ]
     },
     "metadata": {},
     "output_type": "display_data"
    }
   ],
   "source": [
    "sns.displot(x = \"rating\", data = Completed, kind= \"kde\")"
   ]
  },
  {
   "cell_type": "code",
   "execution_count": 73,
   "id": "5ead5ece",
   "metadata": {
    "execution": {
     "iopub.execute_input": "2022-06-08T19:58:28.596951Z",
     "iopub.status.busy": "2022-06-08T19:58:28.596308Z",
     "iopub.status.idle": "2022-06-08T19:58:28.716504Z",
     "shell.execute_reply": "2022-06-08T19:58:28.715355Z"
    },
    "papermill": {
     "duration": 0.155992,
     "end_time": "2022-06-08T19:58:28.718935",
     "exception": false,
     "start_time": "2022-06-08T19:58:28.562943",
     "status": "completed"
    },
    "tags": []
   },
   "outputs": [
    {
     "data": {
      "text/plain": [
       "<AxesSubplot:xlabel='format', ylabel='count'>"
      ]
     },
     "execution_count": 73,
     "metadata": {},
     "output_type": "execute_result"
    },
    {
     "data": {
      "image/png": "[encoded data removed]",
      "text/plain": [
       "<Figure size 432x288 with 1 Axes>"
      ]
     },
     "metadata": {},
     "output_type": "display_data"
    }
   ],
   "source": [
    "sns.countplot(x = \"format\", data = Completed)"
   ]
  },
  {
   "cell_type": "code",
   "execution_count": 74,
   "id": "067f8a55",
   "metadata": {
    "execution": {
     "iopub.execute_input": "2022-06-08T19:58:28.799930Z",
     "iopub.status.busy": "2022-06-08T19:58:28.799455Z",
     "iopub.status.idle": "2022-06-08T19:58:29.795434Z",
     "shell.execute_reply": "2022-06-08T19:58:29.794708Z"
    },
    "papermill": {
     "duration": 1.032242,
     "end_time": "2022-06-08T19:58:29.797328",
     "exception": false,
     "start_time": "2022-06-08T19:58:28.765086",
     "status": "completed"
    },
    "tags": []
   },
   "outputs": [
    {
     "data": {
      "image/png": "[encoded data removed]",
      "text/plain": [
       "<Figure size 864x864 with 4 Axes>"
      ]
     },
     "metadata": {},
     "output_type": "display_data"
    }
   ],
   "source": [
    "g = sns.FacetGrid(Completed, col='format', height=6, col_wrap=2)\n",
    "g.map(sns.histplot, \"completion_year\")\n",
    "plt.show()"
   ]
  },
  {
   "cell_type": "code",
   "execution_count": 75,
   "id": "2af2567c",
   "metadata": {
    "execution": {
     "iopub.execute_input": "2022-06-08T19:58:29.863937Z",
     "iopub.status.busy": "2022-06-08T19:58:29.862610Z",
     "iopub.status.idle": "2022-06-08T19:58:30.520270Z",
     "shell.execute_reply": "2022-06-08T19:58:30.519264Z"
    },
    "papermill": {
     "duration": 0.693094,
     "end_time": "2022-06-08T19:58:30.522299",
     "exception": false,
     "start_time": "2022-06-08T19:58:29.829205",
     "status": "completed"
    },
    "tags": []
   },
   "outputs": [
    {
     "data": {
      "image/png": "[encoded data removed]",
      "text/plain": [
       "<Figure size 1728x432 with 2 Axes>"
      ]
     },
     "metadata": {},
     "output_type": "display_data"
    }
   ],
   "source": [
    "g = sns.FacetGrid(Completed, col='type', height=6, col_wrap=4)\n",
    "g.map(sns.histplot, \"completion_year\")\n",
    "plt.show()"
   ]
  },
  {
   "cell_type": "code",
   "execution_count": 76,
   "id": "3f1a0dba",
   "metadata": {
    "execution": {
     "iopub.execute_input": "2022-06-08T19:58:30.588747Z",
     "iopub.status.busy": "2022-06-08T19:58:30.587583Z",
     "iopub.status.idle": "2022-06-08T19:58:30.761987Z",
     "shell.execute_reply": "2022-06-08T19:58:30.761004Z"
    },
    "papermill": {
     "duration": 0.21079,
     "end_time": "2022-06-08T19:58:30.764656",
     "exception": false,
     "start_time": "2022-06-08T19:58:30.553866",
     "status": "completed"
    },
    "tags": []
   },
   "outputs": [
    {
     "data": {
      "text/plain": [
       "<AxesSubplot:xlabel='format', ylabel='count'>"
      ]
     },
     "execution_count": 76,
     "metadata": {},
     "output_type": "execute_result"
    },
    {
     "data": {
      "image/png": "[encoded data removed]",
      "text/plain": [
       "<Figure size 432x288 with 1 Axes>"
      ]
     },
     "metadata": {},
     "output_type": "display_data"
    }
   ],
   "source": [
    "sns.countplot(x = \"format\", data = Completed[Completed[\"type\"]==\"Nonfiction\"])"
   ]
  },
  {
   "cell_type": "code",
   "execution_count": 77,
   "id": "44f0028b",
   "metadata": {
    "execution": {
     "iopub.execute_input": "2022-06-08T19:58:30.831829Z",
     "iopub.status.busy": "2022-06-08T19:58:30.831003Z",
     "iopub.status.idle": "2022-06-08T19:58:31.008156Z",
     "shell.execute_reply": "2022-06-08T19:58:31.007053Z"
    },
    "papermill": {
     "duration": 0.212714,
     "end_time": "2022-06-08T19:58:31.010375",
     "exception": false,
     "start_time": "2022-06-08T19:58:30.797661",
     "status": "completed"
    },
    "tags": []
   },
   "outputs": [
    {
     "data": {
      "text/plain": [
       "<AxesSubplot:xlabel='format', ylabel='count'>"
      ]
     },
     "execution_count": 77,
     "metadata": {},
     "output_type": "execute_result"
    },
    {
     "data": {
      "image/png": "[encoded data removed]",
      "text/plain": [
       "<Figure size 432x288 with 1 Axes>"
      ]
     },
     "metadata": {},
     "output_type": "display_data"
    }
   ],
   "source": [
    "sns.countplot(x = \"format\", data = Completed[Completed[\"type\"]==\"Fiction\"])"
   ]
  },
  {
   "cell_type": "code",
   "execution_count": 78,
   "id": "144a1faf",
   "metadata": {
    "execution": {
     "iopub.execute_input": "2022-06-08T19:58:31.078796Z",
     "iopub.status.busy": "2022-06-08T19:58:31.077911Z",
     "iopub.status.idle": "2022-06-08T19:58:31.811380Z",
     "shell.execute_reply": "2022-06-08T19:58:31.810366Z"
    },
    "papermill": {
     "duration": 0.769894,
     "end_time": "2022-06-08T19:58:31.813793",
     "exception": false,
     "start_time": "2022-06-08T19:58:31.043899",
     "status": "completed"
    },
    "tags": []
   },
   "outputs": [
    {
     "data": {
      "image/png": "[encoded data removed]",
      "text/plain": [
       "<Figure size 864x864 with 4 Axes>"
      ]
     },
     "metadata": {},
     "output_type": "display_data"
    }
   ],
   "source": [
    "g = sns.FacetGrid(Completed, col='format', height=6, col_wrap=2)\n",
    "g.map(sns.histplot, \"review\")\n",
    "plt.show()"
   ]
  },
  {
   "cell_type": "code",
   "execution_count": 79,
   "id": "6728e0f0",
   "metadata": {
    "execution": {
     "iopub.execute_input": "2022-06-08T19:58:31.882141Z",
     "iopub.status.busy": "2022-06-08T19:58:31.881302Z",
     "iopub.status.idle": "2022-06-08T19:58:33.052011Z",
     "shell.execute_reply": "2022-06-08T19:58:33.050828Z"
    },
    "papermill": {
     "duration": 1.207177,
     "end_time": "2022-06-08T19:58:33.054185",
     "exception": false,
     "start_time": "2022-06-08T19:58:31.847008",
     "status": "completed"
    },
    "tags": []
   },
   "outputs": [
    {
     "data": {
      "image/png": "[encoded data removed]",
      "text/plain": [
       "<Figure size 1728x432 with 4 Axes>"
      ]
     },
     "metadata": {},
     "output_type": "display_data"
    }
   ],
   "source": [
    "g = sns.FacetGrid(Completed, col='format', height=6, col_wrap=4)\n",
    "g.map(sns.histplot, \"rating\")\n",
    "plt.show()"
   ]
  },
  {
   "cell_type": "code",
   "execution_count": 80,
   "id": "63e6a19d",
   "metadata": {
    "execution": {
     "iopub.execute_input": "2022-06-08T19:58:33.123885Z",
     "iopub.status.busy": "2022-06-08T19:58:33.123390Z",
     "iopub.status.idle": "2022-06-08T19:58:33.573003Z",
     "shell.execute_reply": "2022-06-08T19:58:33.572088Z"
    },
    "papermill": {
     "duration": 0.48738,
     "end_time": "2022-06-08T19:58:33.575099",
     "exception": false,
     "start_time": "2022-06-08T19:58:33.087719",
     "status": "completed"
    },
    "tags": []
   },
   "outputs": [
    {
     "data": {
      "text/plain": [
       "<AxesSubplot:xlabel='platform', ylabel='count'>"
      ]
     },
     "execution_count": 80,
     "metadata": {},
     "output_type": "execute_result"
    },
    {
     "data": {
      "image/png": "[encoded data removed]",
      "text/plain": [
       "<Figure size 432x288 with 1 Axes>"
      ]
     },
     "metadata": {},
     "output_type": "display_data"
    }
   ],
   "source": [
    "sns.countplot(x = \"platform\", data = Completed[Completed[\"format\"]==\"Audiobook\"])"
   ]
  },
  {
   "cell_type": "code",
   "execution_count": 81,
   "id": "ff9a1a7a",
   "metadata": {
    "execution": {
     "iopub.execute_input": "2022-06-08T19:58:33.645901Z",
     "iopub.status.busy": "2022-06-08T19:58:33.645303Z",
     "iopub.status.idle": "2022-06-08T19:58:34.459833Z",
     "shell.execute_reply": "2022-06-08T19:58:34.458737Z"
    },
    "papermill": {
     "duration": 0.852308,
     "end_time": "2022-06-08T19:58:34.461986",
     "exception": false,
     "start_time": "2022-06-08T19:58:33.609678",
     "status": "completed"
    },
    "tags": []
   },
   "outputs": [
    {
     "data": {
      "image/png": "[encoded data removed]",
      "text/plain": [
       "<Figure size 1728x432 with 4 Axes>"
      ]
     },
     "metadata": {},
     "output_type": "display_data"
    }
   ],
   "source": [
    "g = sns.FacetGrid(Completed[Completed[\"format\"]==\"Audiobook\"], col='completion_year', height=6, col_wrap=4)\n",
    "g.map(sns.histplot, \"platform\")\n",
    "plt.show()"
   ]
  },
  {
   "cell_type": "code",
   "execution_count": 82,
   "id": "4b9325d4",
   "metadata": {
    "execution": {
     "iopub.execute_input": "2022-06-08T19:58:34.533811Z",
     "iopub.status.busy": "2022-06-08T19:58:34.533159Z",
     "iopub.status.idle": "2022-06-08T19:58:34.539468Z",
     "shell.execute_reply": "2022-06-08T19:58:34.538319Z"
    },
    "papermill": {
     "duration": 0.044732,
     "end_time": "2022-06-08T19:58:34.541767",
     "exception": false,
     "start_time": "2022-06-08T19:58:34.497035",
     "status": "completed"
    },
    "tags": []
   },
   "outputs": [
    {
     "name": "stdout",
     "output_type": "stream",
     "text": [
      "56 114\n"
     ]
    }
   ],
   "source": [
    "print(first_reads[\"publisher\"].nunique(), first_reads[\"Imprint\"].nunique())\n"
   ]
  },
  {
   "cell_type": "code",
   "execution_count": 83,
   "id": "c38cc95c",
   "metadata": {
    "execution": {
     "iopub.execute_input": "2022-06-08T19:58:34.613009Z",
     "iopub.status.busy": "2022-06-08T19:58:34.611880Z",
     "iopub.status.idle": "2022-06-08T19:58:34.625091Z",
     "shell.execute_reply": "2022-06-08T19:58:34.624174Z"
    },
    "papermill": {
     "duration": 0.050978,
     "end_time": "2022-06-08T19:58:34.626893",
     "exception": false,
     "start_time": "2022-06-08T19:58:34.575915",
     "status": "completed"
    },
    "tags": []
   },
   "outputs": [
    {
     "data": {
      "text/html": [
       "<div>\n",
       "<style scoped>\n",
       "    .dataframe tbody tr th:only-of-type {\n",
       "        vertical-align: middle;\n",
       "    }\n",
       "\n",
       "    .dataframe tbody tr th {\n",
       "        vertical-align: top;\n",
       "    }\n",
       "\n",
       "    .dataframe thead th {\n",
       "        text-align: right;\n",
       "    }\n",
       "</style>\n",
       "<table border=\"1\" class=\"dataframe\">\n",
       "  <thead>\n",
       "    <tr style=\"text-align: right;\">\n",
       "      <th></th>\n",
       "      <th>publisher</th>\n",
       "      <th>books/reads</th>\n",
       "    </tr>\n",
       "  </thead>\n",
       "  <tbody>\n",
       "    <tr>\n",
       "      <th>0</th>\n",
       "      <td>Penguin Random House</td>\n",
       "      <td>55</td>\n",
       "    </tr>\n",
       "    <tr>\n",
       "      <th>1</th>\n",
       "      <td>KADOKAWA</td>\n",
       "      <td>52</td>\n",
       "    </tr>\n",
       "    <tr>\n",
       "      <th>2</th>\n",
       "      <td>集英社</td>\n",
       "      <td>23</td>\n",
       "    </tr>\n",
       "    <tr>\n",
       "      <th>3</th>\n",
       "      <td>講談社</td>\n",
       "      <td>22</td>\n",
       "    </tr>\n",
       "    <tr>\n",
       "      <th>4</th>\n",
       "      <td>HarperCollins</td>\n",
       "      <td>17</td>\n",
       "    </tr>\n",
       "    <tr>\n",
       "      <th>5</th>\n",
       "      <td>Macmillan Publishers</td>\n",
       "      <td>17</td>\n",
       "    </tr>\n",
       "    <tr>\n",
       "      <th>6</th>\n",
       "      <td>文藝春秋</td>\n",
       "      <td>13</td>\n",
       "    </tr>\n",
       "    <tr>\n",
       "      <th>7</th>\n",
       "      <td>Orion</td>\n",
       "      <td>12</td>\n",
       "    </tr>\n",
       "    <tr>\n",
       "      <th>8</th>\n",
       "      <td>新潮社</td>\n",
       "      <td>9</td>\n",
       "    </tr>\n",
       "    <tr>\n",
       "      <th>9</th>\n",
       "      <td>Hachette Book</td>\n",
       "      <td>9</td>\n",
       "    </tr>\n",
       "  </tbody>\n",
       "</table>\n",
       "</div>"
      ],
      "text/plain": [
       "              publisher  books/reads\n",
       "0  Penguin Random House           55\n",
       "1              KADOKAWA           52\n",
       "2                   集英社           23\n",
       "3                   講談社           22\n",
       "4         HarperCollins           17\n",
       "5  Macmillan Publishers           17\n",
       "6                  文藝春秋           13\n",
       "7                 Orion           12\n",
       "8                   新潮社            9\n",
       "9         Hachette Book            9"
      ]
     },
     "execution_count": 83,
     "metadata": {},
     "output_type": "execute_result"
    }
   ],
   "source": [
    "publisher = first_reads[\"publisher\"].value_counts().rename_axis (\"publisher\").reset_index(name = \"books/reads\")\n",
    "publisher[publisher[\"books/reads\"]>1].head(10)"
   ]
  },
  {
   "cell_type": "code",
   "execution_count": 84,
   "id": "8f4729b5",
   "metadata": {
    "execution": {
     "iopub.execute_input": "2022-06-08T19:58:34.696794Z",
     "iopub.status.busy": "2022-06-08T19:58:34.696098Z",
     "iopub.status.idle": "2022-06-08T19:58:34.709898Z",
     "shell.execute_reply": "2022-06-08T19:58:34.709217Z"
    },
    "papermill": {
     "duration": 0.050808,
     "end_time": "2022-06-08T19:58:34.711585",
     "exception": false,
     "start_time": "2022-06-08T19:58:34.660777",
     "status": "completed"
    },
    "tags": []
   },
   "outputs": [
    {
     "data": {
      "text/html": [
       "<div>\n",
       "<style scoped>\n",
       "    .dataframe tbody tr th:only-of-type {\n",
       "        vertical-align: middle;\n",
       "    }\n",
       "\n",
       "    .dataframe tbody tr th {\n",
       "        vertical-align: top;\n",
       "    }\n",
       "\n",
       "    .dataframe thead th {\n",
       "        text-align: right;\n",
       "    }\n",
       "</style>\n",
       "<table border=\"1\" class=\"dataframe\">\n",
       "  <thead>\n",
       "    <tr style=\"text-align: right;\">\n",
       "      <th></th>\n",
       "      <th>Imprint</th>\n",
       "      <th>books/reads</th>\n",
       "    </tr>\n",
       "  </thead>\n",
       "  <tbody>\n",
       "    <tr>\n",
       "      <th>0</th>\n",
       "      <td>角川文庫</td>\n",
       "      <td>20</td>\n",
       "    </tr>\n",
       "    <tr>\n",
       "      <th>1</th>\n",
       "      <td>講談社文庫</td>\n",
       "      <td>18</td>\n",
       "    </tr>\n",
       "    <tr>\n",
       "      <th>2</th>\n",
       "      <td>コバルト文庫</td>\n",
       "      <td>15</td>\n",
       "    </tr>\n",
       "    <tr>\n",
       "      <th>3</th>\n",
       "      <td>Penguin</td>\n",
       "      <td>13</td>\n",
       "    </tr>\n",
       "    <tr>\n",
       "      <th>4</th>\n",
       "      <td>文春文庫</td>\n",
       "      <td>13</td>\n",
       "    </tr>\n",
       "    <tr>\n",
       "      <th>5</th>\n",
       "      <td>Penguin Classics</td>\n",
       "      <td>13</td>\n",
       "    </tr>\n",
       "    <tr>\n",
       "      <th>6</th>\n",
       "      <td>メディアワークス文庫</td>\n",
       "      <td>11</td>\n",
       "    </tr>\n",
       "    <tr>\n",
       "      <th>7</th>\n",
       "      <td>Picador</td>\n",
       "      <td>9</td>\n",
       "    </tr>\n",
       "    <tr>\n",
       "      <th>8</th>\n",
       "      <td>角川ホラー文庫</td>\n",
       "      <td>8</td>\n",
       "    </tr>\n",
       "    <tr>\n",
       "      <th>9</th>\n",
       "      <td>Gollancz</td>\n",
       "      <td>7</td>\n",
       "    </tr>\n",
       "  </tbody>\n",
       "</table>\n",
       "</div>"
      ],
      "text/plain": [
       "            Imprint  books/reads\n",
       "0              角川文庫           20\n",
       "1             講談社文庫           18\n",
       "2            コバルト文庫           15\n",
       "3           Penguin           13\n",
       "4              文春文庫           13\n",
       "5  Penguin Classics           13\n",
       "6        メディアワークス文庫           11\n",
       "7           Picador            9\n",
       "8           角川ホラー文庫            8\n",
       "9          Gollancz            7"
      ]
     },
     "execution_count": 84,
     "metadata": {},
     "output_type": "execute_result"
    }
   ],
   "source": [
    "Imprint = first_reads[\"Imprint\"].value_counts().rename_axis (\"Imprint\").reset_index(name = \"books/reads\")\n",
    "Imprint[Imprint[\"books/reads\"]>1].head(10)"
   ]
  },
  {
   "cell_type": "code",
   "execution_count": 85,
   "id": "d9e6f98e",
   "metadata": {
    "execution": {
     "iopub.execute_input": "2022-06-08T19:58:34.782741Z",
     "iopub.status.busy": "2022-06-08T19:58:34.782071Z",
     "iopub.status.idle": "2022-06-08T19:58:34.791734Z",
     "shell.execute_reply": "2022-06-08T19:58:34.791065Z"
    },
    "papermill": {
     "duration": 0.047626,
     "end_time": "2022-06-08T19:58:34.793494",
     "exception": false,
     "start_time": "2022-06-08T19:58:34.745868",
     "status": "completed"
    },
    "tags": []
   },
   "outputs": [
    {
     "data": {
      "text/plain": [
       "43"
      ]
     },
     "execution_count": 85,
     "metadata": {},
     "output_type": "execute_result"
    }
   ],
   "source": [
    "Japanese_first_reads = first_reads[first_reads[\"language\"]==\"Japanese\"]\n",
    "Imprint = Japanese_first_reads[\"Imprint\"].value_counts().rename_axis (\"Imprint\").reset_index(name = \"books/reads\")\n",
    "Imprint[\"Imprint\"].nunique()"
   ]
  },
  {
   "cell_type": "code",
   "execution_count": 86,
   "id": "a348b37d",
   "metadata": {
    "execution": {
     "iopub.execute_input": "2022-06-08T19:58:34.865035Z",
     "iopub.status.busy": "2022-06-08T19:58:34.864281Z",
     "iopub.status.idle": "2022-06-08T19:58:34.874308Z",
     "shell.execute_reply": "2022-06-08T19:58:34.873665Z"
    },
    "papermill": {
     "duration": 0.048277,
     "end_time": "2022-06-08T19:58:34.876160",
     "exception": false,
     "start_time": "2022-06-08T19:58:34.827883",
     "status": "completed"
    },
    "tags": []
   },
   "outputs": [
    {
     "data": {
      "text/html": [
       "<div>\n",
       "<style scoped>\n",
       "    .dataframe tbody tr th:only-of-type {\n",
       "        vertical-align: middle;\n",
       "    }\n",
       "\n",
       "    .dataframe tbody tr th {\n",
       "        vertical-align: top;\n",
       "    }\n",
       "\n",
       "    .dataframe thead th {\n",
       "        text-align: right;\n",
       "    }\n",
       "</style>\n",
       "<table border=\"1\" class=\"dataframe\">\n",
       "  <thead>\n",
       "    <tr style=\"text-align: right;\">\n",
       "      <th></th>\n",
       "      <th>Imprint</th>\n",
       "      <th>books/reads</th>\n",
       "    </tr>\n",
       "  </thead>\n",
       "  <tbody>\n",
       "    <tr>\n",
       "      <th>0</th>\n",
       "      <td>角川文庫</td>\n",
       "      <td>20</td>\n",
       "    </tr>\n",
       "    <tr>\n",
       "      <th>1</th>\n",
       "      <td>講談社文庫</td>\n",
       "      <td>18</td>\n",
       "    </tr>\n",
       "    <tr>\n",
       "      <th>2</th>\n",
       "      <td>コバルト文庫</td>\n",
       "      <td>15</td>\n",
       "    </tr>\n",
       "    <tr>\n",
       "      <th>3</th>\n",
       "      <td>文春文庫</td>\n",
       "      <td>13</td>\n",
       "    </tr>\n",
       "    <tr>\n",
       "      <th>4</th>\n",
       "      <td>メディアワークス文庫</td>\n",
       "      <td>11</td>\n",
       "    </tr>\n",
       "    <tr>\n",
       "      <th>5</th>\n",
       "      <td>角川ホラー文庫</td>\n",
       "      <td>8</td>\n",
       "    </tr>\n",
       "    <tr>\n",
       "      <th>6</th>\n",
       "      <td>一迅社</td>\n",
       "      <td>6</td>\n",
       "    </tr>\n",
       "    <tr>\n",
       "      <th>7</th>\n",
       "      <td>新潮文庫</td>\n",
       "      <td>6</td>\n",
       "    </tr>\n",
       "    <tr>\n",
       "      <th>8</th>\n",
       "      <td>アスキーメディアワークス</td>\n",
       "      <td>5</td>\n",
       "    </tr>\n",
       "    <tr>\n",
       "      <th>9</th>\n",
       "      <td>光文社文庫</td>\n",
       "      <td>5</td>\n",
       "    </tr>\n",
       "  </tbody>\n",
       "</table>\n",
       "</div>"
      ],
      "text/plain": [
       "        Imprint  books/reads\n",
       "0          角川文庫           20\n",
       "1         講談社文庫           18\n",
       "2        コバルト文庫           15\n",
       "3          文春文庫           13\n",
       "4    メディアワークス文庫           11\n",
       "5       角川ホラー文庫            8\n",
       "6           一迅社            6\n",
       "7          新潮文庫            6\n",
       "8  アスキーメディアワークス            5\n",
       "9         光文社文庫            5"
      ]
     },
     "execution_count": 86,
     "metadata": {},
     "output_type": "execute_result"
    }
   ],
   "source": [
    "Imprint[Imprint[\"books/reads\"]>1].head(10)"
   ]
  },
  {
   "cell_type": "code",
   "execution_count": 87,
   "id": "f1723f85",
   "metadata": {
    "execution": {
     "iopub.execute_input": "2022-06-08T19:58:34.948792Z",
     "iopub.status.busy": "2022-06-08T19:58:34.947967Z",
     "iopub.status.idle": "2022-06-08T19:58:34.958257Z",
     "shell.execute_reply": "2022-06-08T19:58:34.957184Z"
    },
    "papermill": {
     "duration": 0.04923,
     "end_time": "2022-06-08T19:58:34.960043",
     "exception": false,
     "start_time": "2022-06-08T19:58:34.910813",
     "status": "completed"
    },
    "tags": []
   },
   "outputs": [
    {
     "data": {
      "text/plain": [
       "72"
      ]
     },
     "execution_count": 87,
     "metadata": {},
     "output_type": "execute_result"
    }
   ],
   "source": [
    "English_first_reads = first_reads[first_reads[\"language\"]==\"English\"]\n",
    "Imprint = English_first_reads[\"Imprint\"].value_counts().rename_axis (\"Imprint\").reset_index(name = \"books/reads\")\n",
    "Imprint[\"Imprint\"].nunique()"
   ]
  },
  {
   "cell_type": "code",
   "execution_count": 88,
   "id": "d997b2b3",
   "metadata": {
    "execution": {
     "iopub.execute_input": "2022-06-08T19:58:35.034255Z",
     "iopub.status.busy": "2022-06-08T19:58:35.033580Z",
     "iopub.status.idle": "2022-06-08T19:58:35.043599Z",
     "shell.execute_reply": "2022-06-08T19:58:35.042925Z"
    },
    "papermill": {
     "duration": 0.049602,
     "end_time": "2022-06-08T19:58:35.045380",
     "exception": false,
     "start_time": "2022-06-08T19:58:34.995778",
     "status": "completed"
    },
    "tags": []
   },
   "outputs": [
    {
     "data": {
      "text/html": [
       "<div>\n",
       "<style scoped>\n",
       "    .dataframe tbody tr th:only-of-type {\n",
       "        vertical-align: middle;\n",
       "    }\n",
       "\n",
       "    .dataframe tbody tr th {\n",
       "        vertical-align: top;\n",
       "    }\n",
       "\n",
       "    .dataframe thead th {\n",
       "        text-align: right;\n",
       "    }\n",
       "</style>\n",
       "<table border=\"1\" class=\"dataframe\">\n",
       "  <thead>\n",
       "    <tr style=\"text-align: right;\">\n",
       "      <th></th>\n",
       "      <th>Imprint</th>\n",
       "      <th>books/reads</th>\n",
       "    </tr>\n",
       "  </thead>\n",
       "  <tbody>\n",
       "    <tr>\n",
       "      <th>0</th>\n",
       "      <td>Penguin</td>\n",
       "      <td>13</td>\n",
       "    </tr>\n",
       "    <tr>\n",
       "      <th>1</th>\n",
       "      <td>Penguin Classics</td>\n",
       "      <td>12</td>\n",
       "    </tr>\n",
       "    <tr>\n",
       "      <th>2</th>\n",
       "      <td>Picador</td>\n",
       "      <td>9</td>\n",
       "    </tr>\n",
       "    <tr>\n",
       "      <th>3</th>\n",
       "      <td>Gollancz</td>\n",
       "      <td>7</td>\n",
       "    </tr>\n",
       "    <tr>\n",
       "      <th>4</th>\n",
       "      <td>Vintage Classics</td>\n",
       "      <td>6</td>\n",
       "    </tr>\n",
       "    <tr>\n",
       "      <th>5</th>\n",
       "      <td>HarperCollins</td>\n",
       "      <td>6</td>\n",
       "    </tr>\n",
       "    <tr>\n",
       "      <th>6</th>\n",
       "      <td>Wordsworth Editions</td>\n",
       "      <td>5</td>\n",
       "    </tr>\n",
       "    <tr>\n",
       "      <th>7</th>\n",
       "      <td>Orion Children's Books</td>\n",
       "      <td>5</td>\n",
       "    </tr>\n",
       "    <tr>\n",
       "      <th>8</th>\n",
       "      <td>Vintage</td>\n",
       "      <td>4</td>\n",
       "    </tr>\n",
       "    <tr>\n",
       "      <th>9</th>\n",
       "      <td>Black Swan</td>\n",
       "      <td>4</td>\n",
       "    </tr>\n",
       "  </tbody>\n",
       "</table>\n",
       "</div>"
      ],
      "text/plain": [
       "                  Imprint  books/reads\n",
       "0                 Penguin           13\n",
       "1        Penguin Classics           12\n",
       "2                 Picador            9\n",
       "3                Gollancz            7\n",
       "4        Vintage Classics            6\n",
       "5           HarperCollins            6\n",
       "6     Wordsworth Editions            5\n",
       "7  Orion Children's Books            5\n",
       "8                 Vintage            4\n",
       "9              Black Swan            4"
      ]
     },
     "execution_count": 88,
     "metadata": {},
     "output_type": "execute_result"
    }
   ],
   "source": [
    "Imprint[Imprint[\"books/reads\"]>1].head(10)"
   ]
  },
  {
   "cell_type": "code",
   "execution_count": 89,
   "id": "a3efd4ff",
   "metadata": {
    "execution": {
     "iopub.execute_input": "2022-06-08T19:58:35.118601Z",
     "iopub.status.busy": "2022-06-08T19:58:35.117924Z",
     "iopub.status.idle": "2022-06-08T19:58:35.172409Z",
     "shell.execute_reply": "2022-06-08T19:58:35.171692Z"
    },
    "papermill": {
     "duration": 0.093624,
     "end_time": "2022-06-08T19:58:35.174408",
     "exception": false,
     "start_time": "2022-06-08T19:58:35.080784",
     "status": "completed"
    },
    "tags": []
   },
   "outputs": [
    {
     "data": {
      "text/html": [
       "<div>                            <div id=\"bb24be96-75d2-45bc-b8f1-95c173d17758\" class=\"plotly-graph-div\" style=\"height:525px; width:100%;\"></div>            <script type=\"text/javascript\">                require([\"plotly\"], function(Plotly) {                    window.PLOTLYENV=window.PLOTLYENV || {};                                    if (document.getElementById(\"bb24be96-75d2-45bc-b8f1-95c173d17758\")) {                    Plotly.newPlot(                        \"bb24be96-75d2-45bc-b8f1-95c173d17758\",                        [{\"alignmentgroup\":\"True\",\"bingroup\":\"x\",\"hovertemplate\":\"genre=%{x}<br>count=%{y}<extra></extra>\",\"legendgroup\":\"\",\"marker\":{\"color\":\"#636efa\",\"pattern\":{\"shape\":\"\"}},\"name\":\"\",\"offsetgroup\":\"\",\"orientation\":\"v\",\"showlegend\":false,\"x\":[\"Mystery\",\"Mystery\",\"Humour/ Satire\",\"Mystery\",\"Literary Fiction\",\"Humour/ Satire\",\"Literary Fiction\",\"Humour/ Satire\",\"Fantasy\",\"Mystery\",\"Romance\",\"Science Fiction\",\"Romance\",\"Mystery\",\"Mystery\",\"Bildungsroman\",\"Self Help\",\"Picture book\",\"Mystery\",\"Literary Fiction\",\"Literary Fiction\",\"Magical realism\",\"Mystery\",\"Literary Fiction\",\"Mystery\",\"Mystery\",\"Mystery\",\"Mystery\",\"Humour/ Satire\",\"Fantasy\",\"Romance\",\"Fantasy\",\"Romance\",\"Romance\",\"Thriller\",\"Thriller\",\"Thriller\",\"Romance\",\"Romance\",\"Humour/ Satire\",\"Romance\",\"Economics\",\"Economics\",\"Horror\",\"Romance\",\"Horror\",\"Fantasy\",\"Contemporary\",\"Romance\",\"Fantasy\",\"Romance\",\"Mystery\",\"Romance\",\"Mathematics\",\"Romance\",\"Fantasy\",\"経済小説\",\"Romance\",\"Mystery\",\"Romance\",\"Fantasy\",\"Mystery\",\"Romance\",\"Mystery\",\"Fantasy\",\"Fantasy\",\"Romance\",\"Fantasy\",\"Magical realism\",\"Fantasy\",\"Fantasy\",\"science\",\"Romance\",\"Mystery\",\"Fantasy\",\"Horror\",\"Mystery\",\"経営書\",\"Fantasy\",\"Fantasy\",\"Humour/ Satire\",\"Fantasy\",\"Literary Fiction\",\"Mystery\",\"Fantasy\",\"Fantasy\",\"Mystery\",\"経済小説\",\"Horror\",\"Mystery\",\"Mystery\",\"Fantasy\",\"Horror\",\"Mystery\",\"Horror\",\"Economics\",\"Economics\",\"Literary Fiction\",\"Literary Fiction\",\"Romance\",\"Thriller\",\"Fantasy\",\"Horror\",\"Horror\",\"Fantasy\",\"Economics\",\"Horror\",\"Horror\",\"Mystery\",\"Fantasy\",\"Horror\",\"Mystery\",\"Literary Fiction\",\"Literary Fiction\",\"Romance\",\"Mystery\",\"Mystery\",\"Bildungsroman\",\"Bildungsroman\",\"Thriller\",\"Thriller\",\"Thriller\",\"Thriller\",\"Romance\",\"Horror\",\"Fantasy\",\"Psychology\",\"Mystery\",\"Contemporary\",\"Fantasy\",\"Mystery\",\"Fantasy\",\"Mystery\",\"仕事小説\",\"Fantasy\",\"Mystery\",\"Mystery\",\"Mystery\",\"Mystery\",\"仕事小説\",\"Science Fiction\",\"Science Fiction\",\"Mystery\",\"Contemporary\",\"Fantasy\",\"Self Help\",\"Economics\",\"Economics\",\"Thriller\",\"Mystery\",\"Mystery\",\"Fantasy\",\"Fantasy\",\"Romance\",\"Bildungsroman\",\"Bildungsroman\",\"Bildungsroman\",\"Bildungsroman\",\"Fashion\",\"Literary Fiction\",\"Mystery\",\"Thriller\",\"Science Fiction\",\"Horror\",\"Fantasy\",\"Humour Encyclopaedias\",\"Romance\",\"Bildungsroman\",\"science\",\"Romance\",\"Mystery\",\"Realist Literature\",\"Mystery\",\"Physical Chemistry\",\"science\",\"Science Fiction\",\"Thriller\",\"Data\",\"Mystery\",\"Mystery\",\"Law\",\"Romance\",\"Romance\",\"経済小説\",\"Mystery\",\"Mystery\",\"Thriller\",\"Romance\",\"Mystery\",\"Romance\",\"Fantasy\",\"Thriller\",\"Economics\",\"仕事小説\",\"Fantasy\",\"Economics\",\"Fantasy\",\"science\",\"Fantasy\",\"Contemporary\",\"Realist Literature\",\"Contemporary\",\"Thriller\",\"Thriller\",\"Humour/ Satire\",\"Fantasy\",\"Mystery\",\"Thriller\",\"Literary Fiction\",\"Science Fiction\",\"Self Help\",\"Self Help\",\"Fantasy\",\"Thriller\",\"Romance\",\"Fashion\",\"Fantasy\",\"Horror\",\"Mystery\",\"Romance\",\"Fantasy\",\"Mystery\",\"Romance\",\"Mystery\",\"Fantasy\",\"Contemporary\",\"Thriller\",\"Fantasy\",\"Romance\",\"Romance\",\"Fantasy\",\"Thriller\",\"Business\",\"Thriller\",\"Applied Physics\",\"Fantasy\",\"Mystery\",\"Fantasy\",\"Horror\",\"Thriller\",\"Romance\",\"Mystery\",\"Contemporary\",\"Realist Literature\",\"経済小説\",\"Mystery\",\"Bildungsroman\",\"Mystery\",\"History\",\"Adventure\",\"Mystery\",\"Mystery\",\"Literary Fiction\",\"Contemporary\",\"Thriller\",\"Contemporary\",\"Romance\",\"Fashion\",\"Humour/ Satire\",\"Mystery\",\"Mystery\",\"Fantasy\",\"Fantasy\",\"Humour/ Satire\",\"Romance\",\"Contemporary\",\"Horror\",\"Humour/ Satire\",\"History\",\"Romance\",\"Fantasy\",\"Thriller\",\"Thriller\",\"Data\",\"Law\",\"Self Help\",\"Biographies\",\"Mystery\",\"経済小説\",\"Data\",\"Realist Literature\",\"Bildungsroman\",\"Realist Literature\",\"Fantasy\",\"History\",\"Essays, Journals & Letters\",\"Fantasy\",\"Mystery\",\"Thriller\",\"Literary Fiction\",\"Contemporary\",\"Contemporary\",\"Mystery\",\"Mystery\",\"Fantasy\",\"Romance\",\"Mystery\",\"History\",\"Contemporary\",\"Humour/ Satire\",\"Mathematics\",\"Bildungsroman\",\"Fantasy\",\"Fantasy\",\"Romance\",\"Humour/ Satire\",\"Humour/ Satire\",\"Fantasy\",\"Romance\",\"Fantasy\",\"Realist Literature\",\"Fantasy\",\"Fantasy\",\"Mystery\",\"Psychology\",\"Mystery\",\"Mystery\",\"Data\",\"Economics\",\"Psychology\",\"Architectural History\",\"Literary Fiction\",\"Fantasy\",\"Romance\",\"Humour/ Satire\",\"Humour/ Satire\",\"Fashion\",\"Humour/ Satire\"],\"xaxis\":\"x\",\"yaxis\":\"y\",\"type\":\"histogram\"}],                        {\"template\":{\"data\":{\"histogram2dcontour\":[{\"type\":\"histogram2dcontour\",\"colorbar\":{\"outlinewidth\":0,\"ticks\":\"\"},\"colorscale\":[[0.0,\"#0d0887\"],[0.1111111111111111,\"#46039f\"],[0.2222222222222222,\"#7201a8\"],[0.3333333333333333,\"#9c179e\"],[0.4444444444444444,\"#bd3786\"],[0.5555555555555556,\"#d8576b\"],[0.6666666666666666,\"#ed7953\"],[0.7777777777777778,\"#fb9f3a\"],[0.8888888888888888,\"#fdca26\"],[1.0,\"#f0f921\"]]}],\"choropleth\":[{\"type\":\"choropleth\",\"colorbar\":{\"outlinewidth\":0,\"ticks\":\"\"}}],\"histogram2d\":[{\"type\":\"histogram2d\",\"colorbar\":{\"outlinewidth\":0,\"ticks\":\"\"},\"colorscale\":[[0.0,\"#0d0887\"],[0.1111111111111111,\"#46039f\"],[0.2222222222222222,\"#7201a8\"],[0.3333333333333333,\"#9c179e\"],[0.4444444444444444,\"#bd3786\"],[0.5555555555555556,\"#d8576b\"],[0.6666666666666666,\"#ed7953\"],[0.7777777777777778,\"#fb9f3a\"],[0.8888888888888888,\"#fdca26\"],[1.0,\"#f0f921\"]]}],\"heatmap\":[{\"type\":\"heatmap\",\"colorbar\":{\"outlinewidth\":0,\"ticks\":\"\"},\"colorscale\":[[0.0,\"#0d0887\"],[0.1111111111111111,\"#46039f\"],[0.2222222222222222,\"#7201a8\"],[0.3333333333333333,\"#9c179e\"],[0.4444444444444444,\"#bd3786\"],[0.5555555555555556,\"#d8576b\"],[0.6666666666666666,\"#ed7953\"],[0.7777777777777778,\"#fb9f3a\"],[0.8888888888888888,\"#fdca26\"],[1.0,\"#f0f921\"]]}],\"heatmapgl\":[{\"type\":\"heatmapgl\",\"colorbar\":{\"outlinewidth\":0,\"ticks\":\"\"},\"colorscale\":[[0.0,\"#0d0887\"],[0.1111111111111111,\"#46039f\"],[0.2222222222222222,\"#7201a8\"],[0.3333333333333333,\"#9c179e\"],[0.4444444444444444,\"#bd3786\"],[0.5555555555555556,\"#d8576b\"],[0.6666666666666666,\"#ed7953\"],[0.7777777777777778,\"#fb9f3a\"],[0.8888888888888888,\"#fdca26\"],[1.0,\"#f0f921\"]]}],\"contourcarpet\":[{\"type\":\"contourcarpet\",\"colorbar\":{\"outlinewidth\":0,\"ticks\":\"\"}}],\"contour\":[{\"type\":\"contour\",\"colorbar\":{\"outlinewidth\":0,\"ticks\":\"\"},\"colorscale\":[[0.0,\"#0d0887\"],[0.1111111111111111,\"#46039f\"],[0.2222222222222222,\"#7201a8\"],[0.3333333333333333,\"#9c179e\"],[0.4444444444444444,\"#bd3786\"],[0.5555555555555556,\"#d8576b\"],[0.6666666666666666,\"#ed7953\"],[0.7777777777777778,\"#fb9f3a\"],[0.8888888888888888,\"#fdca26\"],[1.0,\"#f0f921\"]]}],\"surface\":[{\"type\":\"surface\",\"colorbar\":{\"outlinewidth\":0,\"ticks\":\"\"},\"colorscale\":[[0.0,\"#0d0887\"],[0.1111111111111111,\"#46039f\"],[0.2222222222222222,\"#7201a8\"],[0.3333333333333333,\"#9c179e\"],[0.4444444444444444,\"#bd3786\"],[0.5555555555555556,\"#d8576b\"],[0.6666666666666666,\"#ed7953\"],[0.7777777777777778,\"#fb9f3a\"],[0.8888888888888888,\"#fdca26\"],[1.0,\"#f0f921\"]]}],\"mesh3d\":[{\"type\":\"mesh3d\",\"colorbar\":{\"outlinewidth\":0,\"ticks\":\"\"}}],\"scatter\":[{\"fillpattern\":{\"fillmode\":\"overlay\",\"size\":10,\"solidity\":0.2},\"type\":\"scatter\"}],\"parcoords\":[{\"type\":\"parcoords\",\"line\":{\"colorbar\":{\"outlinewidth\":0,\"ticks\":\"\"}}}],\"scatterpolargl\":[{\"type\":\"scatterpolargl\",\"marker\":{\"colorbar\":{\"outlinewidth\":0,\"ticks\":\"\"}}}],\"bar\":[{\"error_x\":{\"color\":\"#2a3f5f\"},\"error_y\":{\"color\":\"#2a3f5f\"},\"marker\":{\"line\":{\"color\":\"#E5ECF6\",\"width\":0.5},\"pattern\":{\"fillmode\":\"overlay\",\"size\":10,\"solidity\":0.2}},\"type\":\"bar\"}],\"scattergeo\":[{\"type\":\"scattergeo\",\"marker\":{\"colorbar\":{\"outlinewidth\":0,\"ticks\":\"\"}}}],\"scatterpolar\":[{\"type\":\"scatterpolar\",\"marker\":{\"colorbar\":{\"outlinewidth\":0,\"ticks\":\"\"}}}],\"histogram\":[{\"marker\":{\"pattern\":{\"fillmode\":\"overlay\",\"size\":10,\"solidity\":0.2}},\"type\":\"histogram\"}],\"scattergl\":[{\"type\":\"scattergl\",\"marker\":{\"colorbar\":{\"outlinewidth\":0,\"ticks\":\"\"}}}],\"scatter3d\":[{\"type\":\"scatter3d\",\"line\":{\"colorbar\":{\"outlinewidth\":0,\"ticks\":\"\"}},\"marker\":{\"colorbar\":{\"outlinewidth\":0,\"ticks\":\"\"}}}],\"scattermapbox\":[{\"type\":\"scattermapbox\",\"marker\":{\"colorbar\":{\"outlinewidth\":0,\"ticks\":\"\"}}}],\"scatterternary\":[{\"type\":\"scatterternary\",\"marker\":{\"colorbar\":{\"outlinewidth\":0,\"ticks\":\"\"}}}],\"scattercarpet\":[{\"type\":\"scattercarpet\",\"marker\":{\"colorbar\":{\"outlinewidth\":0,\"ticks\":\"\"}}}],\"carpet\":[{\"aaxis\":{\"endlinecolor\":\"#2a3f5f\",\"gridcolor\":\"white\",\"linecolor\":\"white\",\"minorgridcolor\":\"white\",\"startlinecolor\":\"#2a3f5f\"},\"baxis\":{\"endlinecolor\":\"#2a3f5f\",\"gridcolor\":\"white\",\"linecolor\":\"white\",\"minorgridcolor\":\"white\",\"startlinecolor\":\"#2a3f5f\"},\"type\":\"carpet\"}],\"table\":[{\"cells\":{\"fill\":{\"color\":\"#EBF0F8\"},\"line\":{\"color\":\"white\"}},\"header\":{\"fill\":{\"color\":\"#C8D4E3\"},\"line\":{\"color\":\"white\"}},\"type\":\"table\"}],\"barpolar\":[{\"marker\":{\"line\":{\"color\":\"#E5ECF6\",\"width\":0.5},\"pattern\":{\"fillmode\":\"overlay\",\"size\":10,\"solidity\":0.2}},\"type\":\"barpolar\"}],\"pie\":[{\"automargin\":true,\"type\":\"pie\"}]},\"layout\":{\"autotypenumbers\":\"strict\",\"colorway\":[\"#636efa\",\"#EF553B\",\"#00cc96\",\"#ab63fa\",\"#FFA15A\",\"#19d3f3\",\"#FF6692\",\"#B6E880\",\"#FF97FF\",\"#FECB52\"],\"font\":{\"color\":\"#2a3f5f\"},\"hovermode\":\"closest\",\"hoverlabel\":{\"align\":\"left\"},\"paper_bgcolor\":\"white\",\"plot_bgcolor\":\"#E5ECF6\",\"polar\":{\"bgcolor\":\"#E5ECF6\",\"angularaxis\":{\"gridcolor\":\"white\",\"linecolor\":\"white\",\"ticks\":\"\"},\"radialaxis\":{\"gridcolor\":\"white\",\"linecolor\":\"white\",\"ticks\":\"\"}},\"ternary\":{\"bgcolor\":\"#E5ECF6\",\"aaxis\":{\"gridcolor\":\"white\",\"linecolor\":\"white\",\"ticks\":\"\"},\"baxis\":{\"gridcolor\":\"white\",\"linecolor\":\"white\",\"ticks\":\"\"},\"caxis\":{\"gridcolor\":\"white\",\"linecolor\":\"white\",\"ticks\":\"\"}},\"coloraxis\":{\"colorbar\":{\"outlinewidth\":0,\"ticks\":\"\"}},\"colorscale\":{\"sequential\":[[0.0,\"#0d0887\"],[0.1111111111111111,\"#46039f\"],[0.2222222222222222,\"#7201a8\"],[0.3333333333333333,\"#9c179e\"],[0.4444444444444444,\"#bd3786\"],[0.5555555555555556,\"#d8576b\"],[0.6666666666666666,\"#ed7953\"],[0.7777777777777778,\"#fb9f3a\"],[0.8888888888888888,\"#fdca26\"],[1.0,\"#f0f921\"]],\"sequentialminus\":[[0.0,\"#0d0887\"],[0.1111111111111111,\"#46039f\"],[0.2222222222222222,\"#7201a8\"],[0.3333333333333333,\"#9c179e\"],[0.4444444444444444,\"#bd3786\"],[0.5555555555555556,\"#d8576b\"],[0.6666666666666666,\"#ed7953\"],[0.7777777777777778,\"#fb9f3a\"],[0.8888888888888888,\"#fdca26\"],[1.0,\"#f0f921\"]],\"diverging\":[[0,\"#8e0152\"],[0.1,\"#c51b7d\"],[0.2,\"#de77ae\"],[0.3,\"#f1b6da\"],[0.4,\"#fde0ef\"],[0.5,\"#f7f7f7\"],[0.6,\"#e6f5d0\"],[0.7,\"#b8e186\"],[0.8,\"#7fbc41\"],[0.9,\"#4d9221\"],[1,\"#276419\"]]},\"xaxis\":{\"gridcolor\":\"white\",\"linecolor\":\"white\",\"ticks\":\"\",\"title\":{\"standoff\":15},\"zerolinecolor\":\"white\",\"automargin\":true,\"zerolinewidth\":2},\"yaxis\":{\"gridcolor\":\"white\",\"linecolor\":\"white\",\"ticks\":\"\",\"title\":{\"standoff\":15},\"zerolinecolor\":\"white\",\"automargin\":true,\"zerolinewidth\":2},\"scene\":{\"xaxis\":{\"backgroundcolor\":\"#E5ECF6\",\"gridcolor\":\"white\",\"linecolor\":\"white\",\"showbackground\":true,\"ticks\":\"\",\"zerolinecolor\":\"white\",\"gridwidth\":2},\"yaxis\":{\"backgroundcolor\":\"#E5ECF6\",\"gridcolor\":\"white\",\"linecolor\":\"white\",\"showbackground\":true,\"ticks\":\"\",\"zerolinecolor\":\"white\",\"gridwidth\":2},\"zaxis\":{\"backgroundcolor\":\"#E5ECF6\",\"gridcolor\":\"white\",\"linecolor\":\"white\",\"showbackground\":true,\"ticks\":\"\",\"zerolinecolor\":\"white\",\"gridwidth\":2}},\"shapedefaults\":{\"line\":{\"color\":\"#2a3f5f\"}},\"annotationdefaults\":{\"arrowcolor\":\"#2a3f5f\",\"arrowhead\":0,\"arrowwidth\":1},\"geo\":{\"bgcolor\":\"white\",\"landcolor\":\"#E5ECF6\",\"subunitcolor\":\"white\",\"showland\":true,\"showlakes\":true,\"lakecolor\":\"white\"},\"title\":{\"x\":0.05},\"mapbox\":{\"style\":\"light\"}}},\"xaxis\":{\"anchor\":\"y\",\"domain\":[0.0,1.0],\"title\":{\"text\":\"genre\"}},\"yaxis\":{\"anchor\":\"x\",\"domain\":[0.0,1.0],\"title\":{\"text\":\"count\"}},\"legend\":{\"tracegroupgap\":0},\"margin\":{\"t\":60},\"barmode\":\"relative\"},                        {\"responsive\": true}                    ).then(function(){\n",
       "                            \n",
       "var gd = document.getElementById('bb24be96-75d2-45bc-b8f1-95c173d17758');\n",
       "var x = new MutationObserver(function (mutations, observer) {{\n",
       "        var display = window.getComputedStyle(gd).display;\n",
       "        if (!display || display === 'none') {{\n",
       "            console.log([gd, 'removed!']);\n",
       "            Plotly.purge(gd);\n",
       "            observer.disconnect();\n",
       "        }}\n",
       "}});\n",
       "\n",
       "// Listen for the removal of the full notebook cells\n",
       "var notebookContainer = gd.closest('#notebook-container');\n",
       "if (notebookContainer) {{\n",
       "    x.observe(notebookContainer, {childList: true});\n",
       "}}\n",
       "\n",
       "// Listen for the clearing of the current output cell\n",
       "var outputEl = gd.closest('.output');\n",
       "if (outputEl) {{\n",
       "    x.observe(outputEl, {childList: true});\n",
       "}}\n",
       "\n",
       "                        })                };                });            </script>        </div>"
      ]
     },
     "metadata": {},
     "output_type": "display_data"
    }
   ],
   "source": [
    "px.histogram( Completed, x = \"genre\")"
   ]
  },
  {
   "cell_type": "code",
   "execution_count": 90,
   "id": "d92f1ad3",
   "metadata": {
    "execution": {
     "iopub.execute_input": "2022-06-08T19:58:35.255112Z",
     "iopub.status.busy": "2022-06-08T19:58:35.253687Z",
     "iopub.status.idle": "2022-06-08T19:58:35.320658Z",
     "shell.execute_reply": "2022-06-08T19:58:35.319612Z"
    },
    "papermill": {
     "duration": 0.110191,
     "end_time": "2022-06-08T19:58:35.323796",
     "exception": false,
     "start_time": "2022-06-08T19:58:35.213605",
     "status": "completed"
    },
    "tags": []
   },
   "outputs": [
    {
     "data": {
      "text/html": [
       "<div>                            <div id=\"a1594b76-7ff9-44ac-ae80-88b7d428b3e2\" class=\"plotly-graph-div\" style=\"height:525px; width:100%;\"></div>            <script type=\"text/javascript\">                require([\"plotly\"], function(Plotly) {                    window.PLOTLYENV=window.PLOTLYENV || {};                                    if (document.getElementById(\"a1594b76-7ff9-44ac-ae80-88b7d428b3e2\")) {                    Plotly.newPlot(                        \"a1594b76-7ff9-44ac-ae80-88b7d428b3e2\",                        [{\"alignmentgroup\":\"True\",\"bingroup\":\"x\",\"hovertemplate\":\"genre=%{x}<br>count=%{y}<extra></extra>\",\"legendgroup\":\"\",\"marker\":{\"color\":\"#636efa\",\"pattern\":{\"shape\":\"\"}},\"name\":\"\",\"offsetgroup\":\"\",\"orientation\":\"v\",\"showlegend\":false,\"x\":[\"Mystery\",\"Mystery\",\"Humour/ Satire\",\"Mystery\",\"Literary Fiction\",\"Humour/ Satire\",\"Fantasy\",\"Mystery\",\"Mystery\",\"Mystery\",\"Picture book\",\"Mystery\",\"Mystery\",\"Mystery\",\"Mystery\",\"Mystery\",\"Fantasy\",\"Romance\",\"Fantasy\",\"Romance\",\"Romance\",\"Thriller\",\"Thriller\",\"Thriller\",\"Romance\",\"Romance\",\"Humour/ Satire\",\"Romance\",\"Horror\",\"Romance\",\"Fantasy\",\"Contemporary\",\"Romance\",\"Romance\",\"Mystery\",\"Romance\",\"Romance\",\"経済小説\",\"Romance\",\"Mystery\",\"Romance\",\"Fantasy\",\"Mystery\",\"Romance\",\"Mystery\",\"Fantasy\",\"Fantasy\",\"Romance\",\"Fantasy\",\"Magical realism\",\"Fantasy\",\"Fantasy\",\"Romance\",\"Mystery\",\"Mystery\",\"経営書\",\"Fantasy\",\"Humour/ Satire\",\"Mystery\",\"Fantasy\",\"Fantasy\",\"Mystery\",\"経済小説\",\"Horror\",\"Mystery\",\"Mystery\",\"Fantasy\",\"Horror\",\"Mystery\",\"Horror\",\"Literary Fiction\",\"Romance\",\"Thriller\",\"Fantasy\",\"Horror\",\"Horror\",\"Fantasy\",\"Horror\",\"Horror\",\"Mystery\",\"Fantasy\",\"Horror\",\"Mystery\",\"Literary Fiction\",\"Mystery\",\"Bildungsroman\",\"Horror\",\"Contemporary\",\"Fantasy\",\"Mystery\",\"Fantasy\",\"Mystery\",\"仕事小説\",\"Fantasy\",\"Mystery\",\"Mystery\",\"Mystery\",\"Mystery\",\"仕事小説\",\"Mystery\",\"Contemporary\",\"Fantasy\",\"Mystery\",\"Fantasy\",\"Romance\",\"Literary Fiction\",\"Mystery\",\"Thriller\",\"Science Fiction\",\"Horror\",\"Humour Encyclopaedias\",\"Romance\",\"Realist Literature\",\"Thriller\",\"Romance\",\"Romance\",\"経済小説\",\"Mystery\",\"Thriller\",\"Romance\",\"Mystery\",\"Romance\",\"Fantasy\",\"Thriller\",\"仕事小説\",\"Fantasy\",\"Contemporary\",\"Realist Literature\",\"Contemporary\",\"Thriller\",\"Thriller\",\"Mystery\",\"Thriller\",\"Fantasy\",\"Romance\",\"Horror\",\"Mystery\",\"Romance\",\"Fantasy\",\"Mystery\",\"Romance\",\"Mystery\",\"Fantasy\",\"Contemporary\",\"Thriller\",\"Fantasy\",\"Romance\",\"Romance\",\"Mystery\",\"Horror\",\"Thriller\",\"Romance\",\"Realist Literature\",\"経済小説\",\"Mystery\",\"Mystery\",\"Contemporary\",\"Romance\",\"Mystery\",\"Mystery\",\"Romance\",\"Contemporary\",\"Thriller\",\"経済小説\",\"Realist Literature\",\"Bildungsroman\"],\"xaxis\":\"x\",\"yaxis\":\"y\",\"type\":\"histogram\"}],                        {\"template\":{\"data\":{\"histogram2dcontour\":[{\"type\":\"histogram2dcontour\",\"colorbar\":{\"outlinewidth\":0,\"ticks\":\"\"},\"colorscale\":[[0.0,\"#0d0887\"],[0.1111111111111111,\"#46039f\"],[0.2222222222222222,\"#7201a8\"],[0.3333333333333333,\"#9c179e\"],[0.4444444444444444,\"#bd3786\"],[0.5555555555555556,\"#d8576b\"],[0.6666666666666666,\"#ed7953\"],[0.7777777777777778,\"#fb9f3a\"],[0.8888888888888888,\"#fdca26\"],[1.0,\"#f0f921\"]]}],\"choropleth\":[{\"type\":\"choropleth\",\"colorbar\":{\"outlinewidth\":0,\"ticks\":\"\"}}],\"histogram2d\":[{\"type\":\"histogram2d\",\"colorbar\":{\"outlinewidth\":0,\"ticks\":\"\"},\"colorscale\":[[0.0,\"#0d0887\"],[0.1111111111111111,\"#46039f\"],[0.2222222222222222,\"#7201a8\"],[0.3333333333333333,\"#9c179e\"],[0.4444444444444444,\"#bd3786\"],[0.5555555555555556,\"#d8576b\"],[0.6666666666666666,\"#ed7953\"],[0.7777777777777778,\"#fb9f3a\"],[0.8888888888888888,\"#fdca26\"],[1.0,\"#f0f921\"]]}],\"heatmap\":[{\"type\":\"heatmap\",\"colorbar\":{\"outlinewidth\":0,\"ticks\":\"\"},\"colorscale\":[[0.0,\"#0d0887\"],[0.1111111111111111,\"#46039f\"],[0.2222222222222222,\"#7201a8\"],[0.3333333333333333,\"#9c179e\"],[0.4444444444444444,\"#bd3786\"],[0.5555555555555556,\"#d8576b\"],[0.6666666666666666,\"#ed7953\"],[0.7777777777777778,\"#fb9f3a\"],[0.8888888888888888,\"#fdca26\"],[1.0,\"#f0f921\"]]}],\"heatmapgl\":[{\"type\":\"heatmapgl\",\"colorbar\":{\"outlinewidth\":0,\"ticks\":\"\"},\"colorscale\":[[0.0,\"#0d0887\"],[0.1111111111111111,\"#46039f\"],[0.2222222222222222,\"#7201a8\"],[0.3333333333333333,\"#9c179e\"],[0.4444444444444444,\"#bd3786\"],[0.5555555555555556,\"#d8576b\"],[0.6666666666666666,\"#ed7953\"],[0.7777777777777778,\"#fb9f3a\"],[0.8888888888888888,\"#fdca26\"],[1.0,\"#f0f921\"]]}],\"contourcarpet\":[{\"type\":\"contourcarpet\",\"colorbar\":{\"outlinewidth\":0,\"ticks\":\"\"}}],\"contour\":[{\"type\":\"contour\",\"colorbar\":{\"outlinewidth\":0,\"ticks\":\"\"},\"colorscale\":[[0.0,\"#0d0887\"],[0.1111111111111111,\"#46039f\"],[0.2222222222222222,\"#7201a8\"],[0.3333333333333333,\"#9c179e\"],[0.4444444444444444,\"#bd3786\"],[0.5555555555555556,\"#d8576b\"],[0.6666666666666666,\"#ed7953\"],[0.7777777777777778,\"#fb9f3a\"],[0.8888888888888888,\"#fdca26\"],[1.0,\"#f0f921\"]]}],\"surface\":[{\"type\":\"surface\",\"colorbar\":{\"outlinewidth\":0,\"ticks\":\"\"},\"colorscale\":[[0.0,\"#0d0887\"],[0.1111111111111111,\"#46039f\"],[0.2222222222222222,\"#7201a8\"],[0.3333333333333333,\"#9c179e\"],[0.4444444444444444,\"#bd3786\"],[0.5555555555555556,\"#d8576b\"],[0.6666666666666666,\"#ed7953\"],[0.7777777777777778,\"#fb9f3a\"],[0.8888888888888888,\"#fdca26\"],[1.0,\"#f0f921\"]]}],\"mesh3d\":[{\"type\":\"mesh3d\",\"colorbar\":{\"outlinewidth\":0,\"ticks\":\"\"}}],\"scatter\":[{\"fillpattern\":{\"fillmode\":\"overlay\",\"size\":10,\"solidity\":0.2},\"type\":\"scatter\"}],\"parcoords\":[{\"type\":\"parcoords\",\"line\":{\"colorbar\":{\"outlinewidth\":0,\"ticks\":\"\"}}}],\"scatterpolargl\":[{\"type\":\"scatterpolargl\",\"marker\":{\"colorbar\":{\"outlinewidth\":0,\"ticks\":\"\"}}}],\"bar\":[{\"error_x\":{\"color\":\"#2a3f5f\"},\"error_y\":{\"color\":\"#2a3f5f\"},\"marker\":{\"line\":{\"color\":\"#E5ECF6\",\"width\":0.5},\"pattern\":{\"fillmode\":\"overlay\",\"size\":10,\"solidity\":0.2}},\"type\":\"bar\"}],\"scattergeo\":[{\"type\":\"scattergeo\",\"marker\":{\"colorbar\":{\"outlinewidth\":0,\"ticks\":\"\"}}}],\"scatterpolar\":[{\"type\":\"scatterpolar\",\"marker\":{\"colorbar\":{\"outlinewidth\":0,\"ticks\":\"\"}}}],\"histogram\":[{\"marker\":{\"pattern\":{\"fillmode\":\"overlay\",\"size\":10,\"solidity\":0.2}},\"type\":\"histogram\"}],\"scattergl\":[{\"type\":\"scattergl\",\"marker\":{\"colorbar\":{\"outlinewidth\":0,\"ticks\":\"\"}}}],\"scatter3d\":[{\"type\":\"scatter3d\",\"line\":{\"colorbar\":{\"outlinewidth\":0,\"ticks\":\"\"}},\"marker\":{\"colorbar\":{\"outlinewidth\":0,\"ticks\":\"\"}}}],\"scattermapbox\":[{\"type\":\"scattermapbox\",\"marker\":{\"colorbar\":{\"outlinewidth\":0,\"ticks\":\"\"}}}],\"scatterternary\":[{\"type\":\"scatterternary\",\"marker\":{\"colorbar\":{\"outlinewidth\":0,\"ticks\":\"\"}}}],\"scattercarpet\":[{\"type\":\"scattercarpet\",\"marker\":{\"colorbar\":{\"outlinewidth\":0,\"ticks\":\"\"}}}],\"carpet\":[{\"aaxis\":{\"endlinecolor\":\"#2a3f5f\",\"gridcolor\":\"white\",\"linecolor\":\"white\",\"minorgridcolor\":\"white\",\"startlinecolor\":\"#2a3f5f\"},\"baxis\":{\"endlinecolor\":\"#2a3f5f\",\"gridcolor\":\"white\",\"linecolor\":\"white\",\"minorgridcolor\":\"white\",\"startlinecolor\":\"#2a3f5f\"},\"type\":\"carpet\"}],\"table\":[{\"cells\":{\"fill\":{\"color\":\"#EBF0F8\"},\"line\":{\"color\":\"white\"}},\"header\":{\"fill\":{\"color\":\"#C8D4E3\"},\"line\":{\"color\":\"white\"}},\"type\":\"table\"}],\"barpolar\":[{\"marker\":{\"line\":{\"color\":\"#E5ECF6\",\"width\":0.5},\"pattern\":{\"fillmode\":\"overlay\",\"size\":10,\"solidity\":0.2}},\"type\":\"barpolar\"}],\"pie\":[{\"automargin\":true,\"type\":\"pie\"}]},\"layout\":{\"autotypenumbers\":\"strict\",\"colorway\":[\"#636efa\",\"#EF553B\",\"#00cc96\",\"#ab63fa\",\"#FFA15A\",\"#19d3f3\",\"#FF6692\",\"#B6E880\",\"#FF97FF\",\"#FECB52\"],\"font\":{\"color\":\"#2a3f5f\"},\"hovermode\":\"closest\",\"hoverlabel\":{\"align\":\"left\"},\"paper_bgcolor\":\"white\",\"plot_bgcolor\":\"#E5ECF6\",\"polar\":{\"bgcolor\":\"#E5ECF6\",\"angularaxis\":{\"gridcolor\":\"white\",\"linecolor\":\"white\",\"ticks\":\"\"},\"radialaxis\":{\"gridcolor\":\"white\",\"linecolor\":\"white\",\"ticks\":\"\"}},\"ternary\":{\"bgcolor\":\"#E5ECF6\",\"aaxis\":{\"gridcolor\":\"white\",\"linecolor\":\"white\",\"ticks\":\"\"},\"baxis\":{\"gridcolor\":\"white\",\"linecolor\":\"white\",\"ticks\":\"\"},\"caxis\":{\"gridcolor\":\"white\",\"linecolor\":\"white\",\"ticks\":\"\"}},\"coloraxis\":{\"colorbar\":{\"outlinewidth\":0,\"ticks\":\"\"}},\"colorscale\":{\"sequential\":[[0.0,\"#0d0887\"],[0.1111111111111111,\"#46039f\"],[0.2222222222222222,\"#7201a8\"],[0.3333333333333333,\"#9c179e\"],[0.4444444444444444,\"#bd3786\"],[0.5555555555555556,\"#d8576b\"],[0.6666666666666666,\"#ed7953\"],[0.7777777777777778,\"#fb9f3a\"],[0.8888888888888888,\"#fdca26\"],[1.0,\"#f0f921\"]],\"sequentialminus\":[[0.0,\"#0d0887\"],[0.1111111111111111,\"#46039f\"],[0.2222222222222222,\"#7201a8\"],[0.3333333333333333,\"#9c179e\"],[0.4444444444444444,\"#bd3786\"],[0.5555555555555556,\"#d8576b\"],[0.6666666666666666,\"#ed7953\"],[0.7777777777777778,\"#fb9f3a\"],[0.8888888888888888,\"#fdca26\"],[1.0,\"#f0f921\"]],\"diverging\":[[0,\"#8e0152\"],[0.1,\"#c51b7d\"],[0.2,\"#de77ae\"],[0.3,\"#f1b6da\"],[0.4,\"#fde0ef\"],[0.5,\"#f7f7f7\"],[0.6,\"#e6f5d0\"],[0.7,\"#b8e186\"],[0.8,\"#7fbc41\"],[0.9,\"#4d9221\"],[1,\"#276419\"]]},\"xaxis\":{\"gridcolor\":\"white\",\"linecolor\":\"white\",\"ticks\":\"\",\"title\":{\"standoff\":15},\"zerolinecolor\":\"white\",\"automargin\":true,\"zerolinewidth\":2},\"yaxis\":{\"gridcolor\":\"white\",\"linecolor\":\"white\",\"ticks\":\"\",\"title\":{\"standoff\":15},\"zerolinecolor\":\"white\",\"automargin\":true,\"zerolinewidth\":2},\"scene\":{\"xaxis\":{\"backgroundcolor\":\"#E5ECF6\",\"gridcolor\":\"white\",\"linecolor\":\"white\",\"showbackground\":true,\"ticks\":\"\",\"zerolinecolor\":\"white\",\"gridwidth\":2},\"yaxis\":{\"backgroundcolor\":\"#E5ECF6\",\"gridcolor\":\"white\",\"linecolor\":\"white\",\"showbackground\":true,\"ticks\":\"\",\"zerolinecolor\":\"white\",\"gridwidth\":2},\"zaxis\":{\"backgroundcolor\":\"#E5ECF6\",\"gridcolor\":\"white\",\"linecolor\":\"white\",\"showbackground\":true,\"ticks\":\"\",\"zerolinecolor\":\"white\",\"gridwidth\":2}},\"shapedefaults\":{\"line\":{\"color\":\"#2a3f5f\"}},\"annotationdefaults\":{\"arrowcolor\":\"#2a3f5f\",\"arrowhead\":0,\"arrowwidth\":1},\"geo\":{\"bgcolor\":\"white\",\"landcolor\":\"#E5ECF6\",\"subunitcolor\":\"white\",\"showland\":true,\"showlakes\":true,\"lakecolor\":\"white\"},\"title\":{\"x\":0.05},\"mapbox\":{\"style\":\"light\"}}},\"xaxis\":{\"anchor\":\"y\",\"domain\":[0.0,1.0],\"title\":{\"text\":\"genre\"}},\"yaxis\":{\"anchor\":\"x\",\"domain\":[0.0,1.0],\"title\":{\"text\":\"count\"}},\"legend\":{\"tracegroupgap\":0},\"margin\":{\"t\":60},\"barmode\":\"relative\"},                        {\"responsive\": true}                    ).then(function(){\n",
       "                            \n",
       "var gd = document.getElementById('a1594b76-7ff9-44ac-ae80-88b7d428b3e2');\n",
       "var x = new MutationObserver(function (mutations, observer) {{\n",
       "        var display = window.getComputedStyle(gd).display;\n",
       "        if (!display || display === 'none') {{\n",
       "            console.log([gd, 'removed!']);\n",
       "            Plotly.purge(gd);\n",
       "            observer.disconnect();\n",
       "        }}\n",
       "}});\n",
       "\n",
       "// Listen for the removal of the full notebook cells\n",
       "var notebookContainer = gd.closest('#notebook-container');\n",
       "if (notebookContainer) {{\n",
       "    x.observe(notebookContainer, {childList: true});\n",
       "}}\n",
       "\n",
       "// Listen for the clearing of the current output cell\n",
       "var outputEl = gd.closest('.output');\n",
       "if (outputEl) {{\n",
       "    x.observe(outputEl, {childList: true});\n",
       "}}\n",
       "\n",
       "                        })                };                });            </script>        </div>"
      ]
     },
     "metadata": {},
     "output_type": "display_data"
    }
   ],
   "source": [
    "px.histogram( Completed[Completed[\"language\"]==\"Japanese\"], x = \"genre\")"
   ]
  },
  {
   "cell_type": "code",
   "execution_count": 91,
   "id": "6c0dafc4",
   "metadata": {
    "execution": {
     "iopub.execute_input": "2022-06-08T19:58:35.399244Z",
     "iopub.status.busy": "2022-06-08T19:58:35.398795Z",
     "iopub.status.idle": "2022-06-08T19:58:35.454372Z",
     "shell.execute_reply": "2022-06-08T19:58:35.453472Z"
    },
    "papermill": {
     "duration": 0.094009,
     "end_time": "2022-06-08T19:58:35.456367",
     "exception": false,
     "start_time": "2022-06-08T19:58:35.362358",
     "status": "completed"
    },
    "tags": []
   },
   "outputs": [
    {
     "data": {
      "text/html": [
       "<div>                            <div id=\"1175228d-7f97-4d9d-a5ed-1643ae206f7e\" class=\"plotly-graph-div\" style=\"height:525px; width:100%;\"></div>            <script type=\"text/javascript\">                require([\"plotly\"], function(Plotly) {                    window.PLOTLYENV=window.PLOTLYENV || {};                                    if (document.getElementById(\"1175228d-7f97-4d9d-a5ed-1643ae206f7e\")) {                    Plotly.newPlot(                        \"1175228d-7f97-4d9d-a5ed-1643ae206f7e\",                        [{\"alignmentgroup\":\"True\",\"bingroup\":\"x\",\"hovertemplate\":\"genre=%{x}<br>count=%{y}<extra></extra>\",\"legendgroup\":\"\",\"marker\":{\"color\":\"#636efa\",\"pattern\":{\"shape\":\"\"}},\"name\":\"\",\"offsetgroup\":\"\",\"orientation\":\"v\",\"showlegend\":false,\"x\":[\"Literary Fiction\",\"Humour/ Satire\",\"Romance\",\"Science Fiction\",\"Romance\",\"Bildungsroman\",\"Self Help\",\"Mystery\",\"Literary Fiction\",\"Literary Fiction\",\"Magical realism\",\"Literary Fiction\",\"Humour/ Satire\",\"Economics\",\"Economics\",\"Horror\",\"Fantasy\",\"Mathematics\",\"Fantasy\",\"science\",\"Fantasy\",\"Horror\",\"Fantasy\",\"Fantasy\",\"Literary Fiction\",\"Economics\",\"Economics\",\"Literary Fiction\",\"Economics\",\"Literary Fiction\",\"Romance\",\"Mystery\",\"Bildungsroman\",\"Thriller\",\"Thriller\",\"Thriller\",\"Thriller\",\"Romance\",\"Fantasy\",\"Psychology\",\"Mystery\",\"Science Fiction\",\"Science Fiction\",\"Self Help\",\"Economics\",\"Economics\",\"Thriller\",\"Mystery\",\"Fantasy\",\"Bildungsroman\",\"Bildungsroman\",\"Bildungsroman\",\"Bildungsroman\",\"Fashion\",\"Fantasy\",\"Romance\",\"Bildungsroman\",\"science\",\"Mystery\",\"Mystery\",\"Physical Chemistry\",\"science\",\"Science Fiction\",\"Data\",\"Mystery\",\"Mystery\",\"Law\",\"Mystery\",\"Economics\",\"Fantasy\",\"Economics\",\"Fantasy\",\"science\",\"Humour/ Satire\",\"Fantasy\",\"Literary Fiction\",\"Science Fiction\",\"Self Help\",\"Self Help\",\"Thriller\",\"Fashion\",\"Fantasy\",\"Fantasy\",\"Thriller\",\"Business\",\"Thriller\",\"Applied Physics\",\"Fantasy\",\"Fantasy\",\"Mystery\",\"Contemporary\",\"Bildungsroman\",\"History\",\"Adventure\",\"Mystery\",\"Mystery\",\"Literary Fiction\",\"Thriller\",\"Contemporary\",\"Fashion\",\"Humour/ Satire\",\"Fantasy\",\"Fantasy\",\"Humour/ Satire\",\"Horror\",\"Humour/ Satire\",\"History\",\"Romance\",\"Fantasy\",\"Thriller\",\"Data\",\"Law\",\"Self Help\",\"Biographies\",\"Mystery\",\"Data\",\"Realist Literature\",\"Bildungsroman\",\"Fantasy\",\"History\",\"Essays, Journals & Letters\",\"Fantasy\",\"Mystery\",\"Thriller\",\"Literary Fiction\",\"Contemporary\",\"Contemporary\",\"Mystery\",\"Mystery\",\"Fantasy\",\"Romance\",\"Mystery\",\"History\",\"Contemporary\",\"Humour/ Satire\",\"Mathematics\",\"Fantasy\",\"Fantasy\",\"Romance\",\"Humour/ Satire\",\"Humour/ Satire\",\"Fantasy\",\"Romance\",\"Fantasy\",\"Realist Literature\",\"Fantasy\",\"Fantasy\",\"Mystery\",\"Psychology\",\"Mystery\",\"Mystery\",\"Data\",\"Economics\",\"Psychology\",\"Architectural History\",\"Literary Fiction\",\"Fantasy\",\"Romance\",\"Humour/ Satire\",\"Humour/ Satire\",\"Fashion\",\"Humour/ Satire\"],\"xaxis\":\"x\",\"yaxis\":\"y\",\"type\":\"histogram\"}],                        {\"template\":{\"data\":{\"histogram2dcontour\":[{\"type\":\"histogram2dcontour\",\"colorbar\":{\"outlinewidth\":0,\"ticks\":\"\"},\"colorscale\":[[0.0,\"#0d0887\"],[0.1111111111111111,\"#46039f\"],[0.2222222222222222,\"#7201a8\"],[0.3333333333333333,\"#9c179e\"],[0.4444444444444444,\"#bd3786\"],[0.5555555555555556,\"#d8576b\"],[0.6666666666666666,\"#ed7953\"],[0.7777777777777778,\"#fb9f3a\"],[0.8888888888888888,\"#fdca26\"],[1.0,\"#f0f921\"]]}],\"choropleth\":[{\"type\":\"choropleth\",\"colorbar\":{\"outlinewidth\":0,\"ticks\":\"\"}}],\"histogram2d\":[{\"type\":\"histogram2d\",\"colorbar\":{\"outlinewidth\":0,\"ticks\":\"\"},\"colorscale\":[[0.0,\"#0d0887\"],[0.1111111111111111,\"#46039f\"],[0.2222222222222222,\"#7201a8\"],[0.3333333333333333,\"#9c179e\"],[0.4444444444444444,\"#bd3786\"],[0.5555555555555556,\"#d8576b\"],[0.6666666666666666,\"#ed7953\"],[0.7777777777777778,\"#fb9f3a\"],[0.8888888888888888,\"#fdca26\"],[1.0,\"#f0f921\"]]}],\"heatmap\":[{\"type\":\"heatmap\",\"colorbar\":{\"outlinewidth\":0,\"ticks\":\"\"},\"colorscale\":[[0.0,\"#0d0887\"],[0.1111111111111111,\"#46039f\"],[0.2222222222222222,\"#7201a8\"],[0.3333333333333333,\"#9c179e\"],[0.4444444444444444,\"#bd3786\"],[0.5555555555555556,\"#d8576b\"],[0.6666666666666666,\"#ed7953\"],[0.7777777777777778,\"#fb9f3a\"],[0.8888888888888888,\"#fdca26\"],[1.0,\"#f0f921\"]]}],\"heatmapgl\":[{\"type\":\"heatmapgl\",\"colorbar\":{\"outlinewidth\":0,\"ticks\":\"\"},\"colorscale\":[[0.0,\"#0d0887\"],[0.1111111111111111,\"#46039f\"],[0.2222222222222222,\"#7201a8\"],[0.3333333333333333,\"#9c179e\"],[0.4444444444444444,\"#bd3786\"],[0.5555555555555556,\"#d8576b\"],[0.6666666666666666,\"#ed7953\"],[0.7777777777777778,\"#fb9f3a\"],[0.8888888888888888,\"#fdca26\"],[1.0,\"#f0f921\"]]}],\"contourcarpet\":[{\"type\":\"contourcarpet\",\"colorbar\":{\"outlinewidth\":0,\"ticks\":\"\"}}],\"contour\":[{\"type\":\"contour\",\"colorbar\":{\"outlinewidth\":0,\"ticks\":\"\"},\"colorscale\":[[0.0,\"#0d0887\"],[0.1111111111111111,\"#46039f\"],[0.2222222222222222,\"#7201a8\"],[0.3333333333333333,\"#9c179e\"],[0.4444444444444444,\"#bd3786\"],[0.5555555555555556,\"#d8576b\"],[0.6666666666666666,\"#ed7953\"],[0.7777777777777778,\"#fb9f3a\"],[0.8888888888888888,\"#fdca26\"],[1.0,\"#f0f921\"]]}],\"surface\":[{\"type\":\"surface\",\"colorbar\":{\"outlinewidth\":0,\"ticks\":\"\"},\"colorscale\":[[0.0,\"#0d0887\"],[0.1111111111111111,\"#46039f\"],[0.2222222222222222,\"#7201a8\"],[0.3333333333333333,\"#9c179e\"],[0.4444444444444444,\"#bd3786\"],[0.5555555555555556,\"#d8576b\"],[0.6666666666666666,\"#ed7953\"],[0.7777777777777778,\"#fb9f3a\"],[0.8888888888888888,\"#fdca26\"],[1.0,\"#f0f921\"]]}],\"mesh3d\":[{\"type\":\"mesh3d\",\"colorbar\":{\"outlinewidth\":0,\"ticks\":\"\"}}],\"scatter\":[{\"fillpattern\":{\"fillmode\":\"overlay\",\"size\":10,\"solidity\":0.2},\"type\":\"scatter\"}],\"parcoords\":[{\"type\":\"parcoords\",\"line\":{\"colorbar\":{\"outlinewidth\":0,\"ticks\":\"\"}}}],\"scatterpolargl\":[{\"type\":\"scatterpolargl\",\"marker\":{\"colorbar\":{\"outlinewidth\":0,\"ticks\":\"\"}}}],\"bar\":[{\"error_x\":{\"color\":\"#2a3f5f\"},\"error_y\":{\"color\":\"#2a3f5f\"},\"marker\":{\"line\":{\"color\":\"#E5ECF6\",\"width\":0.5},\"pattern\":{\"fillmode\":\"overlay\",\"size\":10,\"solidity\":0.2}},\"type\":\"bar\"}],\"scattergeo\":[{\"type\":\"scattergeo\",\"marker\":{\"colorbar\":{\"outlinewidth\":0,\"ticks\":\"\"}}}],\"scatterpolar\":[{\"type\":\"scatterpolar\",\"marker\":{\"colorbar\":{\"outlinewidth\":0,\"ticks\":\"\"}}}],\"histogram\":[{\"marker\":{\"pattern\":{\"fillmode\":\"overlay\",\"size\":10,\"solidity\":0.2}},\"type\":\"histogram\"}],\"scattergl\":[{\"type\":\"scattergl\",\"marker\":{\"colorbar\":{\"outlinewidth\":0,\"ticks\":\"\"}}}],\"scatter3d\":[{\"type\":\"scatter3d\",\"line\":{\"colorbar\":{\"outlinewidth\":0,\"ticks\":\"\"}},\"marker\":{\"colorbar\":{\"outlinewidth\":0,\"ticks\":\"\"}}}],\"scattermapbox\":[{\"type\":\"scattermapbox\",\"marker\":{\"colorbar\":{\"outlinewidth\":0,\"ticks\":\"\"}}}],\"scatterternary\":[{\"type\":\"scatterternary\",\"marker\":{\"colorbar\":{\"outlinewidth\":0,\"ticks\":\"\"}}}],\"scattercarpet\":[{\"type\":\"scattercarpet\",\"marker\":{\"colorbar\":{\"outlinewidth\":0,\"ticks\":\"\"}}}],\"carpet\":[{\"aaxis\":{\"endlinecolor\":\"#2a3f5f\",\"gridcolor\":\"white\",\"linecolor\":\"white\",\"minorgridcolor\":\"white\",\"startlinecolor\":\"#2a3f5f\"},\"baxis\":{\"endlinecolor\":\"#2a3f5f\",\"gridcolor\":\"white\",\"linecolor\":\"white\",\"minorgridcolor\":\"white\",\"startlinecolor\":\"#2a3f5f\"},\"type\":\"carpet\"}],\"table\":[{\"cells\":{\"fill\":{\"color\":\"#EBF0F8\"},\"line\":{\"color\":\"white\"}},\"header\":{\"fill\":{\"color\":\"#C8D4E3\"},\"line\":{\"color\":\"white\"}},\"type\":\"table\"}],\"barpolar\":[{\"marker\":{\"line\":{\"color\":\"#E5ECF6\",\"width\":0.5},\"pattern\":{\"fillmode\":\"overlay\",\"size\":10,\"solidity\":0.2}},\"type\":\"barpolar\"}],\"pie\":[{\"automargin\":true,\"type\":\"pie\"}]},\"layout\":{\"autotypenumbers\":\"strict\",\"colorway\":[\"#636efa\",\"#EF553B\",\"#00cc96\",\"#ab63fa\",\"#FFA15A\",\"#19d3f3\",\"#FF6692\",\"#B6E880\",\"#FF97FF\",\"#FECB52\"],\"font\":{\"color\":\"#2a3f5f\"},\"hovermode\":\"closest\",\"hoverlabel\":{\"align\":\"left\"},\"paper_bgcolor\":\"white\",\"plot_bgcolor\":\"#E5ECF6\",\"polar\":{\"bgcolor\":\"#E5ECF6\",\"angularaxis\":{\"gridcolor\":\"white\",\"linecolor\":\"white\",\"ticks\":\"\"},\"radialaxis\":{\"gridcolor\":\"white\",\"linecolor\":\"white\",\"ticks\":\"\"}},\"ternary\":{\"bgcolor\":\"#E5ECF6\",\"aaxis\":{\"gridcolor\":\"white\",\"linecolor\":\"white\",\"ticks\":\"\"},\"baxis\":{\"gridcolor\":\"white\",\"linecolor\":\"white\",\"ticks\":\"\"},\"caxis\":{\"gridcolor\":\"white\",\"linecolor\":\"white\",\"ticks\":\"\"}},\"coloraxis\":{\"colorbar\":{\"outlinewidth\":0,\"ticks\":\"\"}},\"colorscale\":{\"sequential\":[[0.0,\"#0d0887\"],[0.1111111111111111,\"#46039f\"],[0.2222222222222222,\"#7201a8\"],[0.3333333333333333,\"#9c179e\"],[0.4444444444444444,\"#bd3786\"],[0.5555555555555556,\"#d8576b\"],[0.6666666666666666,\"#ed7953\"],[0.7777777777777778,\"#fb9f3a\"],[0.8888888888888888,\"#fdca26\"],[1.0,\"#f0f921\"]],\"sequentialminus\":[[0.0,\"#0d0887\"],[0.1111111111111111,\"#46039f\"],[0.2222222222222222,\"#7201a8\"],[0.3333333333333333,\"#9c179e\"],[0.4444444444444444,\"#bd3786\"],[0.5555555555555556,\"#d8576b\"],[0.6666666666666666,\"#ed7953\"],[0.7777777777777778,\"#fb9f3a\"],[0.8888888888888888,\"#fdca26\"],[1.0,\"#f0f921\"]],\"diverging\":[[0,\"#8e0152\"],[0.1,\"#c51b7d\"],[0.2,\"#de77ae\"],[0.3,\"#f1b6da\"],[0.4,\"#fde0ef\"],[0.5,\"#f7f7f7\"],[0.6,\"#e6f5d0\"],[0.7,\"#b8e186\"],[0.8,\"#7fbc41\"],[0.9,\"#4d9221\"],[1,\"#276419\"]]},\"xaxis\":{\"gridcolor\":\"white\",\"linecolor\":\"white\",\"ticks\":\"\",\"title\":{\"standoff\":15},\"zerolinecolor\":\"white\",\"automargin\":true,\"zerolinewidth\":2},\"yaxis\":{\"gridcolor\":\"white\",\"linecolor\":\"white\",\"ticks\":\"\",\"title\":{\"standoff\":15},\"zerolinecolor\":\"white\",\"automargin\":true,\"zerolinewidth\":2},\"scene\":{\"xaxis\":{\"backgroundcolor\":\"#E5ECF6\",\"gridcolor\":\"white\",\"linecolor\":\"white\",\"showbackground\":true,\"ticks\":\"\",\"zerolinecolor\":\"white\",\"gridwidth\":2},\"yaxis\":{\"backgroundcolor\":\"#E5ECF6\",\"gridcolor\":\"white\",\"linecolor\":\"white\",\"showbackground\":true,\"ticks\":\"\",\"zerolinecolor\":\"white\",\"gridwidth\":2},\"zaxis\":{\"backgroundcolor\":\"#E5ECF6\",\"gridcolor\":\"white\",\"linecolor\":\"white\",\"showbackground\":true,\"ticks\":\"\",\"zerolinecolor\":\"white\",\"gridwidth\":2}},\"shapedefaults\":{\"line\":{\"color\":\"#2a3f5f\"}},\"annotationdefaults\":{\"arrowcolor\":\"#2a3f5f\",\"arrowhead\":0,\"arrowwidth\":1},\"geo\":{\"bgcolor\":\"white\",\"landcolor\":\"#E5ECF6\",\"subunitcolor\":\"white\",\"showland\":true,\"showlakes\":true,\"lakecolor\":\"white\"},\"title\":{\"x\":0.05},\"mapbox\":{\"style\":\"light\"}}},\"xaxis\":{\"anchor\":\"y\",\"domain\":[0.0,1.0],\"title\":{\"text\":\"genre\"}},\"yaxis\":{\"anchor\":\"x\",\"domain\":[0.0,1.0],\"title\":{\"text\":\"count\"}},\"legend\":{\"tracegroupgap\":0},\"margin\":{\"t\":60},\"barmode\":\"relative\"},                        {\"responsive\": true}                    ).then(function(){\n",
       "                            \n",
       "var gd = document.getElementById('1175228d-7f97-4d9d-a5ed-1643ae206f7e');\n",
       "var x = new MutationObserver(function (mutations, observer) {{\n",
       "        var display = window.getComputedStyle(gd).display;\n",
       "        if (!display || display === 'none') {{\n",
       "            console.log([gd, 'removed!']);\n",
       "            Plotly.purge(gd);\n",
       "            observer.disconnect();\n",
       "        }}\n",
       "}});\n",
       "\n",
       "// Listen for the removal of the full notebook cells\n",
       "var notebookContainer = gd.closest('#notebook-container');\n",
       "if (notebookContainer) {{\n",
       "    x.observe(notebookContainer, {childList: true});\n",
       "}}\n",
       "\n",
       "// Listen for the clearing of the current output cell\n",
       "var outputEl = gd.closest('.output');\n",
       "if (outputEl) {{\n",
       "    x.observe(outputEl, {childList: true});\n",
       "}}\n",
       "\n",
       "                        })                };                });            </script>        </div>"
      ]
     },
     "metadata": {},
     "output_type": "display_data"
    }
   ],
   "source": [
    "px.histogram( Completed[Completed[\"language\"]==\"English\"], x = \"genre\")"
   ]
  },
  {
   "cell_type": "code",
   "execution_count": 92,
   "id": "52f496dd",
   "metadata": {
    "execution": {
     "iopub.execute_input": "2022-06-08T19:58:35.531331Z",
     "iopub.status.busy": "2022-06-08T19:58:35.530507Z",
     "iopub.status.idle": "2022-06-08T19:58:35.589591Z",
     "shell.execute_reply": "2022-06-08T19:58:35.588520Z"
    },
    "papermill": {
     "duration": 0.099165,
     "end_time": "2022-06-08T19:58:35.591653",
     "exception": false,
     "start_time": "2022-06-08T19:58:35.492488",
     "status": "completed"
    },
    "tags": []
   },
   "outputs": [
    {
     "data": {
      "text/html": [
       "<div>                            <div id=\"a7f40393-fc7a-45c5-a544-1ca9231aeea5\" class=\"plotly-graph-div\" style=\"height:525px; width:100%;\"></div>            <script type=\"text/javascript\">                require([\"plotly\"], function(Plotly) {                    window.PLOTLYENV=window.PLOTLYENV || {};                                    if (document.getElementById(\"a7f40393-fc7a-45c5-a544-1ca9231aeea5\")) {                    Plotly.newPlot(                        \"a7f40393-fc7a-45c5-a544-1ca9231aeea5\",                        [{\"alignmentgroup\":\"True\",\"bingroup\":\"x\",\"hovertemplate\":\"genre=%{x}<br>count=%{y}<extra></extra>\",\"legendgroup\":\"\",\"marker\":{\"color\":\"#636efa\",\"pattern\":{\"shape\":\"\"}},\"name\":\"\",\"offsetgroup\":\"\",\"orientation\":\"v\",\"showlegend\":false,\"x\":[\"Humour/ Satire\",\"Mystery\",\"Science Fiction\",\"Self Help\",\"Literary Fiction\",\"Mystery\",\"Literary Fiction\",\"Mystery\",\"Romance\",\"Romance\",\"Romance\",\"Romance\",\"Romance\",\"Romance\",\"Romance\",\"Mystery\",\"Fantasy\",\"Romance\",\"Mystery\",\"Mystery\",\"Fantasy\",\"Mystery\",\"Literary Fiction\",\"Literary Fiction\",\"Mystery\",\"Thriller\",\"Thriller\",\"Thriller\",\"Mystery\",\"Mystery\",\"Science Fiction\",\"Fantasy\",\"Romance\",\"Literary Fiction\",\"Romance\",\"Romance\",\"Mystery\",\"Romance\",\"Mystery\",\"Romance\",\"Romance\",\"Fantasy\",\"Fantasy\",\"Fantasy\",\"Literary Fiction\",\"Romance\",\"Mystery\",\"Fantasy\",\"Mystery\",\"Fantasy\",\"Fantasy\",\"Romance\",\"Mystery\",\"Humour/ Satire\",\"Fantasy\"],\"xaxis\":\"x\",\"yaxis\":\"y\",\"type\":\"histogram\"}],                        {\"template\":{\"data\":{\"histogram2dcontour\":[{\"type\":\"histogram2dcontour\",\"colorbar\":{\"outlinewidth\":0,\"ticks\":\"\"},\"colorscale\":[[0.0,\"#0d0887\"],[0.1111111111111111,\"#46039f\"],[0.2222222222222222,\"#7201a8\"],[0.3333333333333333,\"#9c179e\"],[0.4444444444444444,\"#bd3786\"],[0.5555555555555556,\"#d8576b\"],[0.6666666666666666,\"#ed7953\"],[0.7777777777777778,\"#fb9f3a\"],[0.8888888888888888,\"#fdca26\"],[1.0,\"#f0f921\"]]}],\"choropleth\":[{\"type\":\"choropleth\",\"colorbar\":{\"outlinewidth\":0,\"ticks\":\"\"}}],\"histogram2d\":[{\"type\":\"histogram2d\",\"colorbar\":{\"outlinewidth\":0,\"ticks\":\"\"},\"colorscale\":[[0.0,\"#0d0887\"],[0.1111111111111111,\"#46039f\"],[0.2222222222222222,\"#7201a8\"],[0.3333333333333333,\"#9c179e\"],[0.4444444444444444,\"#bd3786\"],[0.5555555555555556,\"#d8576b\"],[0.6666666666666666,\"#ed7953\"],[0.7777777777777778,\"#fb9f3a\"],[0.8888888888888888,\"#fdca26\"],[1.0,\"#f0f921\"]]}],\"heatmap\":[{\"type\":\"heatmap\",\"colorbar\":{\"outlinewidth\":0,\"ticks\":\"\"},\"colorscale\":[[0.0,\"#0d0887\"],[0.1111111111111111,\"#46039f\"],[0.2222222222222222,\"#7201a8\"],[0.3333333333333333,\"#9c179e\"],[0.4444444444444444,\"#bd3786\"],[0.5555555555555556,\"#d8576b\"],[0.6666666666666666,\"#ed7953\"],[0.7777777777777778,\"#fb9f3a\"],[0.8888888888888888,\"#fdca26\"],[1.0,\"#f0f921\"]]}],\"heatmapgl\":[{\"type\":\"heatmapgl\",\"colorbar\":{\"outlinewidth\":0,\"ticks\":\"\"},\"colorscale\":[[0.0,\"#0d0887\"],[0.1111111111111111,\"#46039f\"],[0.2222222222222222,\"#7201a8\"],[0.3333333333333333,\"#9c179e\"],[0.4444444444444444,\"#bd3786\"],[0.5555555555555556,\"#d8576b\"],[0.6666666666666666,\"#ed7953\"],[0.7777777777777778,\"#fb9f3a\"],[0.8888888888888888,\"#fdca26\"],[1.0,\"#f0f921\"]]}],\"contourcarpet\":[{\"type\":\"contourcarpet\",\"colorbar\":{\"outlinewidth\":0,\"ticks\":\"\"}}],\"contour\":[{\"type\":\"contour\",\"colorbar\":{\"outlinewidth\":0,\"ticks\":\"\"},\"colorscale\":[[0.0,\"#0d0887\"],[0.1111111111111111,\"#46039f\"],[0.2222222222222222,\"#7201a8\"],[0.3333333333333333,\"#9c179e\"],[0.4444444444444444,\"#bd3786\"],[0.5555555555555556,\"#d8576b\"],[0.6666666666666666,\"#ed7953\"],[0.7777777777777778,\"#fb9f3a\"],[0.8888888888888888,\"#fdca26\"],[1.0,\"#f0f921\"]]}],\"surface\":[{\"type\":\"surface\",\"colorbar\":{\"outlinewidth\":0,\"ticks\":\"\"},\"colorscale\":[[0.0,\"#0d0887\"],[0.1111111111111111,\"#46039f\"],[0.2222222222222222,\"#7201a8\"],[0.3333333333333333,\"#9c179e\"],[0.4444444444444444,\"#bd3786\"],[0.5555555555555556,\"#d8576b\"],[0.6666666666666666,\"#ed7953\"],[0.7777777777777778,\"#fb9f3a\"],[0.8888888888888888,\"#fdca26\"],[1.0,\"#f0f921\"]]}],\"mesh3d\":[{\"type\":\"mesh3d\",\"colorbar\":{\"outlinewidth\":0,\"ticks\":\"\"}}],\"scatter\":[{\"fillpattern\":{\"fillmode\":\"overlay\",\"size\":10,\"solidity\":0.2},\"type\":\"scatter\"}],\"parcoords\":[{\"type\":\"parcoords\",\"line\":{\"colorbar\":{\"outlinewidth\":0,\"ticks\":\"\"}}}],\"scatterpolargl\":[{\"type\":\"scatterpolargl\",\"marker\":{\"colorbar\":{\"outlinewidth\":0,\"ticks\":\"\"}}}],\"bar\":[{\"error_x\":{\"color\":\"#2a3f5f\"},\"error_y\":{\"color\":\"#2a3f5f\"},\"marker\":{\"line\":{\"color\":\"#E5ECF6\",\"width\":0.5},\"pattern\":{\"fillmode\":\"overlay\",\"size\":10,\"solidity\":0.2}},\"type\":\"bar\"}],\"scattergeo\":[{\"type\":\"scattergeo\",\"marker\":{\"colorbar\":{\"outlinewidth\":0,\"ticks\":\"\"}}}],\"scatterpolar\":[{\"type\":\"scatterpolar\",\"marker\":{\"colorbar\":{\"outlinewidth\":0,\"ticks\":\"\"}}}],\"histogram\":[{\"marker\":{\"pattern\":{\"fillmode\":\"overlay\",\"size\":10,\"solidity\":0.2}},\"type\":\"histogram\"}],\"scattergl\":[{\"type\":\"scattergl\",\"marker\":{\"colorbar\":{\"outlinewidth\":0,\"ticks\":\"\"}}}],\"scatter3d\":[{\"type\":\"scatter3d\",\"line\":{\"colorbar\":{\"outlinewidth\":0,\"ticks\":\"\"}},\"marker\":{\"colorbar\":{\"outlinewidth\":0,\"ticks\":\"\"}}}],\"scattermapbox\":[{\"type\":\"scattermapbox\",\"marker\":{\"colorbar\":{\"outlinewidth\":0,\"ticks\":\"\"}}}],\"scatterternary\":[{\"type\":\"scatterternary\",\"marker\":{\"colorbar\":{\"outlinewidth\":0,\"ticks\":\"\"}}}],\"scattercarpet\":[{\"type\":\"scattercarpet\",\"marker\":{\"colorbar\":{\"outlinewidth\":0,\"ticks\":\"\"}}}],\"carpet\":[{\"aaxis\":{\"endlinecolor\":\"#2a3f5f\",\"gridcolor\":\"white\",\"linecolor\":\"white\",\"minorgridcolor\":\"white\",\"startlinecolor\":\"#2a3f5f\"},\"baxis\":{\"endlinecolor\":\"#2a3f5f\",\"gridcolor\":\"white\",\"linecolor\":\"white\",\"minorgridcolor\":\"white\",\"startlinecolor\":\"#2a3f5f\"},\"type\":\"carpet\"}],\"table\":[{\"cells\":{\"fill\":{\"color\":\"#EBF0F8\"},\"line\":{\"color\":\"white\"}},\"header\":{\"fill\":{\"color\":\"#C8D4E3\"},\"line\":{\"color\":\"white\"}},\"type\":\"table\"}],\"barpolar\":[{\"marker\":{\"line\":{\"color\":\"#E5ECF6\",\"width\":0.5},\"pattern\":{\"fillmode\":\"overlay\",\"size\":10,\"solidity\":0.2}},\"type\":\"barpolar\"}],\"pie\":[{\"automargin\":true,\"type\":\"pie\"}]},\"layout\":{\"autotypenumbers\":\"strict\",\"colorway\":[\"#636efa\",\"#EF553B\",\"#00cc96\",\"#ab63fa\",\"#FFA15A\",\"#19d3f3\",\"#FF6692\",\"#B6E880\",\"#FF97FF\",\"#FECB52\"],\"font\":{\"color\":\"#2a3f5f\"},\"hovermode\":\"closest\",\"hoverlabel\":{\"align\":\"left\"},\"paper_bgcolor\":\"white\",\"plot_bgcolor\":\"#E5ECF6\",\"polar\":{\"bgcolor\":\"#E5ECF6\",\"angularaxis\":{\"gridcolor\":\"white\",\"linecolor\":\"white\",\"ticks\":\"\"},\"radialaxis\":{\"gridcolor\":\"white\",\"linecolor\":\"white\",\"ticks\":\"\"}},\"ternary\":{\"bgcolor\":\"#E5ECF6\",\"aaxis\":{\"gridcolor\":\"white\",\"linecolor\":\"white\",\"ticks\":\"\"},\"baxis\":{\"gridcolor\":\"white\",\"linecolor\":\"white\",\"ticks\":\"\"},\"caxis\":{\"gridcolor\":\"white\",\"linecolor\":\"white\",\"ticks\":\"\"}},\"coloraxis\":{\"colorbar\":{\"outlinewidth\":0,\"ticks\":\"\"}},\"colorscale\":{\"sequential\":[[0.0,\"#0d0887\"],[0.1111111111111111,\"#46039f\"],[0.2222222222222222,\"#7201a8\"],[0.3333333333333333,\"#9c179e\"],[0.4444444444444444,\"#bd3786\"],[0.5555555555555556,\"#d8576b\"],[0.6666666666666666,\"#ed7953\"],[0.7777777777777778,\"#fb9f3a\"],[0.8888888888888888,\"#fdca26\"],[1.0,\"#f0f921\"]],\"sequentialminus\":[[0.0,\"#0d0887\"],[0.1111111111111111,\"#46039f\"],[0.2222222222222222,\"#7201a8\"],[0.3333333333333333,\"#9c179e\"],[0.4444444444444444,\"#bd3786\"],[0.5555555555555556,\"#d8576b\"],[0.6666666666666666,\"#ed7953\"],[0.7777777777777778,\"#fb9f3a\"],[0.8888888888888888,\"#fdca26\"],[1.0,\"#f0f921\"]],\"diverging\":[[0,\"#8e0152\"],[0.1,\"#c51b7d\"],[0.2,\"#de77ae\"],[0.3,\"#f1b6da\"],[0.4,\"#fde0ef\"],[0.5,\"#f7f7f7\"],[0.6,\"#e6f5d0\"],[0.7,\"#b8e186\"],[0.8,\"#7fbc41\"],[0.9,\"#4d9221\"],[1,\"#276419\"]]},\"xaxis\":{\"gridcolor\":\"white\",\"linecolor\":\"white\",\"ticks\":\"\",\"title\":{\"standoff\":15},\"zerolinecolor\":\"white\",\"automargin\":true,\"zerolinewidth\":2},\"yaxis\":{\"gridcolor\":\"white\",\"linecolor\":\"white\",\"ticks\":\"\",\"title\":{\"standoff\":15},\"zerolinecolor\":\"white\",\"automargin\":true,\"zerolinewidth\":2},\"scene\":{\"xaxis\":{\"backgroundcolor\":\"#E5ECF6\",\"gridcolor\":\"white\",\"linecolor\":\"white\",\"showbackground\":true,\"ticks\":\"\",\"zerolinecolor\":\"white\",\"gridwidth\":2},\"yaxis\":{\"backgroundcolor\":\"#E5ECF6\",\"gridcolor\":\"white\",\"linecolor\":\"white\",\"showbackground\":true,\"ticks\":\"\",\"zerolinecolor\":\"white\",\"gridwidth\":2},\"zaxis\":{\"backgroundcolor\":\"#E5ECF6\",\"gridcolor\":\"white\",\"linecolor\":\"white\",\"showbackground\":true,\"ticks\":\"\",\"zerolinecolor\":\"white\",\"gridwidth\":2}},\"shapedefaults\":{\"line\":{\"color\":\"#2a3f5f\"}},\"annotationdefaults\":{\"arrowcolor\":\"#2a3f5f\",\"arrowhead\":0,\"arrowwidth\":1},\"geo\":{\"bgcolor\":\"white\",\"landcolor\":\"#E5ECF6\",\"subunitcolor\":\"white\",\"showland\":true,\"showlakes\":true,\"lakecolor\":\"white\"},\"title\":{\"x\":0.05},\"mapbox\":{\"style\":\"light\"}}},\"xaxis\":{\"anchor\":\"y\",\"domain\":[0.0,1.0],\"title\":{\"text\":\"genre\"}},\"yaxis\":{\"anchor\":\"x\",\"domain\":[0.0,1.0],\"title\":{\"text\":\"count\"}},\"legend\":{\"tracegroupgap\":0},\"margin\":{\"t\":60},\"barmode\":\"relative\"},                        {\"responsive\": true}                    ).then(function(){\n",
       "                            \n",
       "var gd = document.getElementById('a7f40393-fc7a-45c5-a544-1ca9231aeea5');\n",
       "var x = new MutationObserver(function (mutations, observer) {{\n",
       "        var display = window.getComputedStyle(gd).display;\n",
       "        if (!display || display === 'none') {{\n",
       "            console.log([gd, 'removed!']);\n",
       "            Plotly.purge(gd);\n",
       "            observer.disconnect();\n",
       "        }}\n",
       "}});\n",
       "\n",
       "// Listen for the removal of the full notebook cells\n",
       "var notebookContainer = gd.closest('#notebook-container');\n",
       "if (notebookContainer) {{\n",
       "    x.observe(notebookContainer, {childList: true});\n",
       "}}\n",
       "\n",
       "// Listen for the clearing of the current output cell\n",
       "var outputEl = gd.closest('.output');\n",
       "if (outputEl) {{\n",
       "    x.observe(outputEl, {childList: true});\n",
       "}}\n",
       "\n",
       "                        })                };                });            </script>        </div>"
      ]
     },
     "metadata": {},
     "output_type": "display_data"
    }
   ],
   "source": [
    "English_books = Completed[(Completed[\"language\"]==\"English\")&(Completed[\"completion_year\"]>2016)]\n",
    "English_popular_genres = English_books[\"genre\"].value_counts().rename_axis (\"Genre\").reset_index(name = \"books/reads\")\n",
    "\n",
    "Top_genres = English_popular_genres.head(10)\n",
    "\n",
    "popular_genres = Completed[Completed[\"genre\"].isin(Top_genres[\"Genre\"])]\n",
    "\n",
    "px.histogram( popular_genres[popular_genres[\"completion_year\"]==2017], x = \"genre\", )"
   ]
  },
  {
   "cell_type": "code",
   "execution_count": 93,
   "id": "8d765462",
   "metadata": {
    "execution": {
     "iopub.execute_input": "2022-06-08T19:58:35.666658Z",
     "iopub.status.busy": "2022-06-08T19:58:35.665994Z",
     "iopub.status.idle": "2022-06-08T19:58:35.720030Z",
     "shell.execute_reply": "2022-06-08T19:58:35.718956Z"
    },
    "papermill": {
     "duration": 0.093592,
     "end_time": "2022-06-08T19:58:35.722150",
     "exception": false,
     "start_time": "2022-06-08T19:58:35.628558",
     "status": "completed"
    },
    "tags": []
   },
   "outputs": [
    {
     "data": {
      "text/html": [
       "<div>                            <div id=\"9e89ed49-3179-4dcf-b793-9c53fba91e3e\" class=\"plotly-graph-div\" style=\"height:525px; width:100%;\"></div>            <script type=\"text/javascript\">                require([\"plotly\"], function(Plotly) {                    window.PLOTLYENV=window.PLOTLYENV || {};                                    if (document.getElementById(\"9e89ed49-3179-4dcf-b793-9c53fba91e3e\")) {                    Plotly.newPlot(                        \"9e89ed49-3179-4dcf-b793-9c53fba91e3e\",                        [{\"alignmentgroup\":\"True\",\"bingroup\":\"x\",\"hovertemplate\":\"genre=%{x}<br>count=%{y}<extra></extra>\",\"legendgroup\":\"\",\"marker\":{\"color\":\"#636efa\",\"pattern\":{\"shape\":\"\"}},\"name\":\"\",\"offsetgroup\":\"\",\"orientation\":\"v\",\"showlegend\":false,\"x\":[\"Mystery\",\"Romance\",\"Mystery\",\"Mystery\",\"Fantasy\",\"Fantasy\",\"Economics\",\"Fantasy\",\"Romance\",\"Romance\",\"Romance\",\"Fantasy\",\"Fantasy\",\"Humour/ Satire\",\"Fantasy\",\"Mystery\",\"Fantasy\",\"Romance\",\"Thriller\",\"Fantasy\",\"Thriller\",\"Fantasy\",\"Mystery\",\"Fantasy\",\"Mystery\",\"Mystery\",\"Thriller\",\"Mystery\",\"Thriller\",\"Science Fiction\",\"Thriller\",\"Fantasy\",\"Economics\",\"Thriller\",\"Humour/ Satire\",\"Mystery\",\"Thriller\",\"Fantasy\",\"Thriller\",\"Romance\",\"Romance\",\"Thriller\",\"Fantasy\",\"Romance\",\"Romance\",\"Mystery\",\"Romance\",\"Fantasy\",\"Fantasy\",\"Bildungsroman\",\"Fantasy\",\"Romance\",\"Fantasy\",\"Humour/ Satire\"],\"xaxis\":\"x\",\"yaxis\":\"y\",\"type\":\"histogram\"}],                        {\"template\":{\"data\":{\"histogram2dcontour\":[{\"type\":\"histogram2dcontour\",\"colorbar\":{\"outlinewidth\":0,\"ticks\":\"\"},\"colorscale\":[[0.0,\"#0d0887\"],[0.1111111111111111,\"#46039f\"],[0.2222222222222222,\"#7201a8\"],[0.3333333333333333,\"#9c179e\"],[0.4444444444444444,\"#bd3786\"],[0.5555555555555556,\"#d8576b\"],[0.6666666666666666,\"#ed7953\"],[0.7777777777777778,\"#fb9f3a\"],[0.8888888888888888,\"#fdca26\"],[1.0,\"#f0f921\"]]}],\"choropleth\":[{\"type\":\"choropleth\",\"colorbar\":{\"outlinewidth\":0,\"ticks\":\"\"}}],\"histogram2d\":[{\"type\":\"histogram2d\",\"colorbar\":{\"outlinewidth\":0,\"ticks\":\"\"},\"colorscale\":[[0.0,\"#0d0887\"],[0.1111111111111111,\"#46039f\"],[0.2222222222222222,\"#7201a8\"],[0.3333333333333333,\"#9c179e\"],[0.4444444444444444,\"#bd3786\"],[0.5555555555555556,\"#d8576b\"],[0.6666666666666666,\"#ed7953\"],[0.7777777777777778,\"#fb9f3a\"],[0.8888888888888888,\"#fdca26\"],[1.0,\"#f0f921\"]]}],\"heatmap\":[{\"type\":\"heatmap\",\"colorbar\":{\"outlinewidth\":0,\"ticks\":\"\"},\"colorscale\":[[0.0,\"#0d0887\"],[0.1111111111111111,\"#46039f\"],[0.2222222222222222,\"#7201a8\"],[0.3333333333333333,\"#9c179e\"],[0.4444444444444444,\"#bd3786\"],[0.5555555555555556,\"#d8576b\"],[0.6666666666666666,\"#ed7953\"],[0.7777777777777778,\"#fb9f3a\"],[0.8888888888888888,\"#fdca26\"],[1.0,\"#f0f921\"]]}],\"heatmapgl\":[{\"type\":\"heatmapgl\",\"colorbar\":{\"outlinewidth\":0,\"ticks\":\"\"},\"colorscale\":[[0.0,\"#0d0887\"],[0.1111111111111111,\"#46039f\"],[0.2222222222222222,\"#7201a8\"],[0.3333333333333333,\"#9c179e\"],[0.4444444444444444,\"#bd3786\"],[0.5555555555555556,\"#d8576b\"],[0.6666666666666666,\"#ed7953\"],[0.7777777777777778,\"#fb9f3a\"],[0.8888888888888888,\"#fdca26\"],[1.0,\"#f0f921\"]]}],\"contourcarpet\":[{\"type\":\"contourcarpet\",\"colorbar\":{\"outlinewidth\":0,\"ticks\":\"\"}}],\"contour\":[{\"type\":\"contour\",\"colorbar\":{\"outlinewidth\":0,\"ticks\":\"\"},\"colorscale\":[[0.0,\"#0d0887\"],[0.1111111111111111,\"#46039f\"],[0.2222222222222222,\"#7201a8\"],[0.3333333333333333,\"#9c179e\"],[0.4444444444444444,\"#bd3786\"],[0.5555555555555556,\"#d8576b\"],[0.6666666666666666,\"#ed7953\"],[0.7777777777777778,\"#fb9f3a\"],[0.8888888888888888,\"#fdca26\"],[1.0,\"#f0f921\"]]}],\"surface\":[{\"type\":\"surface\",\"colorbar\":{\"outlinewidth\":0,\"ticks\":\"\"},\"colorscale\":[[0.0,\"#0d0887\"],[0.1111111111111111,\"#46039f\"],[0.2222222222222222,\"#7201a8\"],[0.3333333333333333,\"#9c179e\"],[0.4444444444444444,\"#bd3786\"],[0.5555555555555556,\"#d8576b\"],[0.6666666666666666,\"#ed7953\"],[0.7777777777777778,\"#fb9f3a\"],[0.8888888888888888,\"#fdca26\"],[1.0,\"#f0f921\"]]}],\"mesh3d\":[{\"type\":\"mesh3d\",\"colorbar\":{\"outlinewidth\":0,\"ticks\":\"\"}}],\"scatter\":[{\"fillpattern\":{\"fillmode\":\"overlay\",\"size\":10,\"solidity\":0.2},\"type\":\"scatter\"}],\"parcoords\":[{\"type\":\"parcoords\",\"line\":{\"colorbar\":{\"outlinewidth\":0,\"ticks\":\"\"}}}],\"scatterpolargl\":[{\"type\":\"scatterpolargl\",\"marker\":{\"colorbar\":{\"outlinewidth\":0,\"ticks\":\"\"}}}],\"bar\":[{\"error_x\":{\"color\":\"#2a3f5f\"},\"error_y\":{\"color\":\"#2a3f5f\"},\"marker\":{\"line\":{\"color\":\"#E5ECF6\",\"width\":0.5},\"pattern\":{\"fillmode\":\"overlay\",\"size\":10,\"solidity\":0.2}},\"type\":\"bar\"}],\"scattergeo\":[{\"type\":\"scattergeo\",\"marker\":{\"colorbar\":{\"outlinewidth\":0,\"ticks\":\"\"}}}],\"scatterpolar\":[{\"type\":\"scatterpolar\",\"marker\":{\"colorbar\":{\"outlinewidth\":0,\"ticks\":\"\"}}}],\"histogram\":[{\"marker\":{\"pattern\":{\"fillmode\":\"overlay\",\"size\":10,\"solidity\":0.2}},\"type\":\"histogram\"}],\"scattergl\":[{\"type\":\"scattergl\",\"marker\":{\"colorbar\":{\"outlinewidth\":0,\"ticks\":\"\"}}}],\"scatter3d\":[{\"type\":\"scatter3d\",\"line\":{\"colorbar\":{\"outlinewidth\":0,\"ticks\":\"\"}},\"marker\":{\"colorbar\":{\"outlinewidth\":0,\"ticks\":\"\"}}}],\"scattermapbox\":[{\"type\":\"scattermapbox\",\"marker\":{\"colorbar\":{\"outlinewidth\":0,\"ticks\":\"\"}}}],\"scatterternary\":[{\"type\":\"scatterternary\",\"marker\":{\"colorbar\":{\"outlinewidth\":0,\"ticks\":\"\"}}}],\"scattercarpet\":[{\"type\":\"scattercarpet\",\"marker\":{\"colorbar\":{\"outlinewidth\":0,\"ticks\":\"\"}}}],\"carpet\":[{\"aaxis\":{\"endlinecolor\":\"#2a3f5f\",\"gridcolor\":\"white\",\"linecolor\":\"white\",\"minorgridcolor\":\"white\",\"startlinecolor\":\"#2a3f5f\"},\"baxis\":{\"endlinecolor\":\"#2a3f5f\",\"gridcolor\":\"white\",\"linecolor\":\"white\",\"minorgridcolor\":\"white\",\"startlinecolor\":\"#2a3f5f\"},\"type\":\"carpet\"}],\"table\":[{\"cells\":{\"fill\":{\"color\":\"#EBF0F8\"},\"line\":{\"color\":\"white\"}},\"header\":{\"fill\":{\"color\":\"#C8D4E3\"},\"line\":{\"color\":\"white\"}},\"type\":\"table\"}],\"barpolar\":[{\"marker\":{\"line\":{\"color\":\"#E5ECF6\",\"width\":0.5},\"pattern\":{\"fillmode\":\"overlay\",\"size\":10,\"solidity\":0.2}},\"type\":\"barpolar\"}],\"pie\":[{\"automargin\":true,\"type\":\"pie\"}]},\"layout\":{\"autotypenumbers\":\"strict\",\"colorway\":[\"#636efa\",\"#EF553B\",\"#00cc96\",\"#ab63fa\",\"#FFA15A\",\"#19d3f3\",\"#FF6692\",\"#B6E880\",\"#FF97FF\",\"#FECB52\"],\"font\":{\"color\":\"#2a3f5f\"},\"hovermode\":\"closest\",\"hoverlabel\":{\"align\":\"left\"},\"paper_bgcolor\":\"white\",\"plot_bgcolor\":\"#E5ECF6\",\"polar\":{\"bgcolor\":\"#E5ECF6\",\"angularaxis\":{\"gridcolor\":\"white\",\"linecolor\":\"white\",\"ticks\":\"\"},\"radialaxis\":{\"gridcolor\":\"white\",\"linecolor\":\"white\",\"ticks\":\"\"}},\"ternary\":{\"bgcolor\":\"#E5ECF6\",\"aaxis\":{\"gridcolor\":\"white\",\"linecolor\":\"white\",\"ticks\":\"\"},\"baxis\":{\"gridcolor\":\"white\",\"linecolor\":\"white\",\"ticks\":\"\"},\"caxis\":{\"gridcolor\":\"white\",\"linecolor\":\"white\",\"ticks\":\"\"}},\"coloraxis\":{\"colorbar\":{\"outlinewidth\":0,\"ticks\":\"\"}},\"colorscale\":{\"sequential\":[[0.0,\"#0d0887\"],[0.1111111111111111,\"#46039f\"],[0.2222222222222222,\"#7201a8\"],[0.3333333333333333,\"#9c179e\"],[0.4444444444444444,\"#bd3786\"],[0.5555555555555556,\"#d8576b\"],[0.6666666666666666,\"#ed7953\"],[0.7777777777777778,\"#fb9f3a\"],[0.8888888888888888,\"#fdca26\"],[1.0,\"#f0f921\"]],\"sequentialminus\":[[0.0,\"#0d0887\"],[0.1111111111111111,\"#46039f\"],[0.2222222222222222,\"#7201a8\"],[0.3333333333333333,\"#9c179e\"],[0.4444444444444444,\"#bd3786\"],[0.5555555555555556,\"#d8576b\"],[0.6666666666666666,\"#ed7953\"],[0.7777777777777778,\"#fb9f3a\"],[0.8888888888888888,\"#fdca26\"],[1.0,\"#f0f921\"]],\"diverging\":[[0,\"#8e0152\"],[0.1,\"#c51b7d\"],[0.2,\"#de77ae\"],[0.3,\"#f1b6da\"],[0.4,\"#fde0ef\"],[0.5,\"#f7f7f7\"],[0.6,\"#e6f5d0\"],[0.7,\"#b8e186\"],[0.8,\"#7fbc41\"],[0.9,\"#4d9221\"],[1,\"#276419\"]]},\"xaxis\":{\"gridcolor\":\"white\",\"linecolor\":\"white\",\"ticks\":\"\",\"title\":{\"standoff\":15},\"zerolinecolor\":\"white\",\"automargin\":true,\"zerolinewidth\":2},\"yaxis\":{\"gridcolor\":\"white\",\"linecolor\":\"white\",\"ticks\":\"\",\"title\":{\"standoff\":15},\"zerolinecolor\":\"white\",\"automargin\":true,\"zerolinewidth\":2},\"scene\":{\"xaxis\":{\"backgroundcolor\":\"#E5ECF6\",\"gridcolor\":\"white\",\"linecolor\":\"white\",\"showbackground\":true,\"ticks\":\"\",\"zerolinecolor\":\"white\",\"gridwidth\":2},\"yaxis\":{\"backgroundcolor\":\"#E5ECF6\",\"gridcolor\":\"white\",\"linecolor\":\"white\",\"showbackground\":true,\"ticks\":\"\",\"zerolinecolor\":\"white\",\"gridwidth\":2},\"zaxis\":{\"backgroundcolor\":\"#E5ECF6\",\"gridcolor\":\"white\",\"linecolor\":\"white\",\"showbackground\":true,\"ticks\":\"\",\"zerolinecolor\":\"white\",\"gridwidth\":2}},\"shapedefaults\":{\"line\":{\"color\":\"#2a3f5f\"}},\"annotationdefaults\":{\"arrowcolor\":\"#2a3f5f\",\"arrowhead\":0,\"arrowwidth\":1},\"geo\":{\"bgcolor\":\"white\",\"landcolor\":\"#E5ECF6\",\"subunitcolor\":\"white\",\"showland\":true,\"showlakes\":true,\"lakecolor\":\"white\"},\"title\":{\"x\":0.05},\"mapbox\":{\"style\":\"light\"}}},\"xaxis\":{\"anchor\":\"y\",\"domain\":[0.0,1.0],\"title\":{\"text\":\"genre\"}},\"yaxis\":{\"anchor\":\"x\",\"domain\":[0.0,1.0],\"title\":{\"text\":\"count\"}},\"legend\":{\"tracegroupgap\":0},\"margin\":{\"t\":60},\"barmode\":\"relative\"},                        {\"responsive\": true}                    ).then(function(){\n",
       "                            \n",
       "var gd = document.getElementById('9e89ed49-3179-4dcf-b793-9c53fba91e3e');\n",
       "var x = new MutationObserver(function (mutations, observer) {{\n",
       "        var display = window.getComputedStyle(gd).display;\n",
       "        if (!display || display === 'none') {{\n",
       "            console.log([gd, 'removed!']);\n",
       "            Plotly.purge(gd);\n",
       "            observer.disconnect();\n",
       "        }}\n",
       "}});\n",
       "\n",
       "// Listen for the removal of the full notebook cells\n",
       "var notebookContainer = gd.closest('#notebook-container');\n",
       "if (notebookContainer) {{\n",
       "    x.observe(notebookContainer, {childList: true});\n",
       "}}\n",
       "\n",
       "// Listen for the clearing of the current output cell\n",
       "var outputEl = gd.closest('.output');\n",
       "if (outputEl) {{\n",
       "    x.observe(outputEl, {childList: true});\n",
       "}}\n",
       "\n",
       "                        })                };                });            </script>        </div>"
      ]
     },
     "metadata": {},
     "output_type": "display_data"
    }
   ],
   "source": [
    "px.histogram( popular_genres[popular_genres[\"completion_year\"]==2018], x = \"genre\", )"
   ]
  },
  {
   "cell_type": "code",
   "execution_count": 94,
   "id": "4b984f95",
   "metadata": {
    "execution": {
     "iopub.execute_input": "2022-06-08T19:58:35.797100Z",
     "iopub.status.busy": "2022-06-08T19:58:35.796621Z",
     "iopub.status.idle": "2022-06-08T19:58:35.846845Z",
     "shell.execute_reply": "2022-06-08T19:58:35.845848Z"
    },
    "papermill": {
     "duration": 0.090146,
     "end_time": "2022-06-08T19:58:35.848901",
     "exception": false,
     "start_time": "2022-06-08T19:58:35.758755",
     "status": "completed"
    },
    "tags": []
   },
   "outputs": [
    {
     "data": {
      "text/html": [
       "<div>                            <div id=\"9428e96d-db56-455d-8536-963de6595124\" class=\"plotly-graph-div\" style=\"height:525px; width:100%;\"></div>            <script type=\"text/javascript\">                require([\"plotly\"], function(Plotly) {                    window.PLOTLYENV=window.PLOTLYENV || {};                                    if (document.getElementById(\"9428e96d-db56-455d-8536-963de6595124\")) {                    Plotly.newPlot(                        \"9428e96d-db56-455d-8536-963de6595124\",                        [],                        {\"template\":{\"data\":{\"histogram2dcontour\":[{\"type\":\"histogram2dcontour\",\"colorbar\":{\"outlinewidth\":0,\"ticks\":\"\"},\"colorscale\":[[0.0,\"#0d0887\"],[0.1111111111111111,\"#46039f\"],[0.2222222222222222,\"#7201a8\"],[0.3333333333333333,\"#9c179e\"],[0.4444444444444444,\"#bd3786\"],[0.5555555555555556,\"#d8576b\"],[0.6666666666666666,\"#ed7953\"],[0.7777777777777778,\"#fb9f3a\"],[0.8888888888888888,\"#fdca26\"],[1.0,\"#f0f921\"]]}],\"choropleth\":[{\"type\":\"choropleth\",\"colorbar\":{\"outlinewidth\":0,\"ticks\":\"\"}}],\"histogram2d\":[{\"type\":\"histogram2d\",\"colorbar\":{\"outlinewidth\":0,\"ticks\":\"\"},\"colorscale\":[[0.0,\"#0d0887\"],[0.1111111111111111,\"#46039f\"],[0.2222222222222222,\"#7201a8\"],[0.3333333333333333,\"#9c179e\"],[0.4444444444444444,\"#bd3786\"],[0.5555555555555556,\"#d8576b\"],[0.6666666666666666,\"#ed7953\"],[0.7777777777777778,\"#fb9f3a\"],[0.8888888888888888,\"#fdca26\"],[1.0,\"#f0f921\"]]}],\"heatmap\":[{\"type\":\"heatmap\",\"colorbar\":{\"outlinewidth\":0,\"ticks\":\"\"},\"colorscale\":[[0.0,\"#0d0887\"],[0.1111111111111111,\"#46039f\"],[0.2222222222222222,\"#7201a8\"],[0.3333333333333333,\"#9c179e\"],[0.4444444444444444,\"#bd3786\"],[0.5555555555555556,\"#d8576b\"],[0.6666666666666666,\"#ed7953\"],[0.7777777777777778,\"#fb9f3a\"],[0.8888888888888888,\"#fdca26\"],[1.0,\"#f0f921\"]]}],\"heatmapgl\":[{\"type\":\"heatmapgl\",\"colorbar\":{\"outlinewidth\":0,\"ticks\":\"\"},\"colorscale\":[[0.0,\"#0d0887\"],[0.1111111111111111,\"#46039f\"],[0.2222222222222222,\"#7201a8\"],[0.3333333333333333,\"#9c179e\"],[0.4444444444444444,\"#bd3786\"],[0.5555555555555556,\"#d8576b\"],[0.6666666666666666,\"#ed7953\"],[0.7777777777777778,\"#fb9f3a\"],[0.8888888888888888,\"#fdca26\"],[1.0,\"#f0f921\"]]}],\"contourcarpet\":[{\"type\":\"contourcarpet\",\"colorbar\":{\"outlinewidth\":0,\"ticks\":\"\"}}],\"contour\":[{\"type\":\"contour\",\"colorbar\":{\"outlinewidth\":0,\"ticks\":\"\"},\"colorscale\":[[0.0,\"#0d0887\"],[0.1111111111111111,\"#46039f\"],[0.2222222222222222,\"#7201a8\"],[0.3333333333333333,\"#9c179e\"],[0.4444444444444444,\"#bd3786\"],[0.5555555555555556,\"#d8576b\"],[0.6666666666666666,\"#ed7953\"],[0.7777777777777778,\"#fb9f3a\"],[0.8888888888888888,\"#fdca26\"],[1.0,\"#f0f921\"]]}],\"surface\":[{\"type\":\"surface\",\"colorbar\":{\"outlinewidth\":0,\"ticks\":\"\"},\"colorscale\":[[0.0,\"#0d0887\"],[0.1111111111111111,\"#46039f\"],[0.2222222222222222,\"#7201a8\"],[0.3333333333333333,\"#9c179e\"],[0.4444444444444444,\"#bd3786\"],[0.5555555555555556,\"#d8576b\"],[0.6666666666666666,\"#ed7953\"],[0.7777777777777778,\"#fb9f3a\"],[0.8888888888888888,\"#fdca26\"],[1.0,\"#f0f921\"]]}],\"mesh3d\":[{\"type\":\"mesh3d\",\"colorbar\":{\"outlinewidth\":0,\"ticks\":\"\"}}],\"scatter\":[{\"fillpattern\":{\"fillmode\":\"overlay\",\"size\":10,\"solidity\":0.2},\"type\":\"scatter\"}],\"parcoords\":[{\"type\":\"parcoords\",\"line\":{\"colorbar\":{\"outlinewidth\":0,\"ticks\":\"\"}}}],\"scatterpolargl\":[{\"type\":\"scatterpolargl\",\"marker\":{\"colorbar\":{\"outlinewidth\":0,\"ticks\":\"\"}}}],\"bar\":[{\"error_x\":{\"color\":\"#2a3f5f\"},\"error_y\":{\"color\":\"#2a3f5f\"},\"marker\":{\"line\":{\"color\":\"#E5ECF6\",\"width\":0.5},\"pattern\":{\"fillmode\":\"overlay\",\"size\":10,\"solidity\":0.2}},\"type\":\"bar\"}],\"scattergeo\":[{\"type\":\"scattergeo\",\"marker\":{\"colorbar\":{\"outlinewidth\":0,\"ticks\":\"\"}}}],\"scatterpolar\":[{\"type\":\"scatterpolar\",\"marker\":{\"colorbar\":{\"outlinewidth\":0,\"ticks\":\"\"}}}],\"histogram\":[{\"marker\":{\"pattern\":{\"fillmode\":\"overlay\",\"size\":10,\"solidity\":0.2}},\"type\":\"histogram\"}],\"scattergl\":[{\"type\":\"scattergl\",\"marker\":{\"colorbar\":{\"outlinewidth\":0,\"ticks\":\"\"}}}],\"scatter3d\":[{\"type\":\"scatter3d\",\"line\":{\"colorbar\":{\"outlinewidth\":0,\"ticks\":\"\"}},\"marker\":{\"colorbar\":{\"outlinewidth\":0,\"ticks\":\"\"}}}],\"scattermapbox\":[{\"type\":\"scattermapbox\",\"marker\":{\"colorbar\":{\"outlinewidth\":0,\"ticks\":\"\"}}}],\"scatterternary\":[{\"type\":\"scatterternary\",\"marker\":{\"colorbar\":{\"outlinewidth\":0,\"ticks\":\"\"}}}],\"scattercarpet\":[{\"type\":\"scattercarpet\",\"marker\":{\"colorbar\":{\"outlinewidth\":0,\"ticks\":\"\"}}}],\"carpet\":[{\"aaxis\":{\"endlinecolor\":\"#2a3f5f\",\"gridcolor\":\"white\",\"linecolor\":\"white\",\"minorgridcolor\":\"white\",\"startlinecolor\":\"#2a3f5f\"},\"baxis\":{\"endlinecolor\":\"#2a3f5f\",\"gridcolor\":\"white\",\"linecolor\":\"white\",\"minorgridcolor\":\"white\",\"startlinecolor\":\"#2a3f5f\"},\"type\":\"carpet\"}],\"table\":[{\"cells\":{\"fill\":{\"color\":\"#EBF0F8\"},\"line\":{\"color\":\"white\"}},\"header\":{\"fill\":{\"color\":\"#C8D4E3\"},\"line\":{\"color\":\"white\"}},\"type\":\"table\"}],\"barpolar\":[{\"marker\":{\"line\":{\"color\":\"#E5ECF6\",\"width\":0.5},\"pattern\":{\"fillmode\":\"overlay\",\"size\":10,\"solidity\":0.2}},\"type\":\"barpolar\"}],\"pie\":[{\"automargin\":true,\"type\":\"pie\"}]},\"layout\":{\"autotypenumbers\":\"strict\",\"colorway\":[\"#636efa\",\"#EF553B\",\"#00cc96\",\"#ab63fa\",\"#FFA15A\",\"#19d3f3\",\"#FF6692\",\"#B6E880\",\"#FF97FF\",\"#FECB52\"],\"font\":{\"color\":\"#2a3f5f\"},\"hovermode\":\"closest\",\"hoverlabel\":{\"align\":\"left\"},\"paper_bgcolor\":\"white\",\"plot_bgcolor\":\"#E5ECF6\",\"polar\":{\"bgcolor\":\"#E5ECF6\",\"angularaxis\":{\"gridcolor\":\"white\",\"linecolor\":\"white\",\"ticks\":\"\"},\"radialaxis\":{\"gridcolor\":\"white\",\"linecolor\":\"white\",\"ticks\":\"\"}},\"ternary\":{\"bgcolor\":\"#E5ECF6\",\"aaxis\":{\"gridcolor\":\"white\",\"linecolor\":\"white\",\"ticks\":\"\"},\"baxis\":{\"gridcolor\":\"white\",\"linecolor\":\"white\",\"ticks\":\"\"},\"caxis\":{\"gridcolor\":\"white\",\"linecolor\":\"white\",\"ticks\":\"\"}},\"coloraxis\":{\"colorbar\":{\"outlinewidth\":0,\"ticks\":\"\"}},\"colorscale\":{\"sequential\":[[0.0,\"#0d0887\"],[0.1111111111111111,\"#46039f\"],[0.2222222222222222,\"#7201a8\"],[0.3333333333333333,\"#9c179e\"],[0.4444444444444444,\"#bd3786\"],[0.5555555555555556,\"#d8576b\"],[0.6666666666666666,\"#ed7953\"],[0.7777777777777778,\"#fb9f3a\"],[0.8888888888888888,\"#fdca26\"],[1.0,\"#f0f921\"]],\"sequentialminus\":[[0.0,\"#0d0887\"],[0.1111111111111111,\"#46039f\"],[0.2222222222222222,\"#7201a8\"],[0.3333333333333333,\"#9c179e\"],[0.4444444444444444,\"#bd3786\"],[0.5555555555555556,\"#d8576b\"],[0.6666666666666666,\"#ed7953\"],[0.7777777777777778,\"#fb9f3a\"],[0.8888888888888888,\"#fdca26\"],[1.0,\"#f0f921\"]],\"diverging\":[[0,\"#8e0152\"],[0.1,\"#c51b7d\"],[0.2,\"#de77ae\"],[0.3,\"#f1b6da\"],[0.4,\"#fde0ef\"],[0.5,\"#f7f7f7\"],[0.6,\"#e6f5d0\"],[0.7,\"#b8e186\"],[0.8,\"#7fbc41\"],[0.9,\"#4d9221\"],[1,\"#276419\"]]},\"xaxis\":{\"gridcolor\":\"white\",\"linecolor\":\"white\",\"ticks\":\"\",\"title\":{\"standoff\":15},\"zerolinecolor\":\"white\",\"automargin\":true,\"zerolinewidth\":2},\"yaxis\":{\"gridcolor\":\"white\",\"linecolor\":\"white\",\"ticks\":\"\",\"title\":{\"standoff\":15},\"zerolinecolor\":\"white\",\"automargin\":true,\"zerolinewidth\":2},\"scene\":{\"xaxis\":{\"backgroundcolor\":\"#E5ECF6\",\"gridcolor\":\"white\",\"linecolor\":\"white\",\"showbackground\":true,\"ticks\":\"\",\"zerolinecolor\":\"white\",\"gridwidth\":2},\"yaxis\":{\"backgroundcolor\":\"#E5ECF6\",\"gridcolor\":\"white\",\"linecolor\":\"white\",\"showbackground\":true,\"ticks\":\"\",\"zerolinecolor\":\"white\",\"gridwidth\":2},\"zaxis\":{\"backgroundcolor\":\"#E5ECF6\",\"gridcolor\":\"white\",\"linecolor\":\"white\",\"showbackground\":true,\"ticks\":\"\",\"zerolinecolor\":\"white\",\"gridwidth\":2}},\"shapedefaults\":{\"line\":{\"color\":\"#2a3f5f\"}},\"annotationdefaults\":{\"arrowcolor\":\"#2a3f5f\",\"arrowhead\":0,\"arrowwidth\":1},\"geo\":{\"bgcolor\":\"white\",\"landcolor\":\"#E5ECF6\",\"subunitcolor\":\"white\",\"showland\":true,\"showlakes\":true,\"lakecolor\":\"white\"},\"title\":{\"x\":0.05},\"mapbox\":{\"style\":\"light\"}}},\"xaxis\":{\"anchor\":\"y\",\"domain\":[0.0,1.0],\"title\":{\"text\":\"genre\"}},\"yaxis\":{\"anchor\":\"x\",\"domain\":[0.0,1.0],\"title\":{\"text\":\"count\"}},\"legend\":{\"tracegroupgap\":0},\"margin\":{\"t\":60},\"barmode\":\"relative\"},                        {\"responsive\": true}                    ).then(function(){\n",
       "                            \n",
       "var gd = document.getElementById('9428e96d-db56-455d-8536-963de6595124');\n",
       "var x = new MutationObserver(function (mutations, observer) {{\n",
       "        var display = window.getComputedStyle(gd).display;\n",
       "        if (!display || display === 'none') {{\n",
       "            console.log([gd, 'removed!']);\n",
       "            Plotly.purge(gd);\n",
       "            observer.disconnect();\n",
       "        }}\n",
       "}});\n",
       "\n",
       "// Listen for the removal of the full notebook cells\n",
       "var notebookContainer = gd.closest('#notebook-container');\n",
       "if (notebookContainer) {{\n",
       "    x.observe(notebookContainer, {childList: true});\n",
       "}}\n",
       "\n",
       "// Listen for the clearing of the current output cell\n",
       "var outputEl = gd.closest('.output');\n",
       "if (outputEl) {{\n",
       "    x.observe(outputEl, {childList: true});\n",
       "}}\n",
       "\n",
       "                        })                };                });            </script>        </div>"
      ]
     },
     "metadata": {},
     "output_type": "display_data"
    }
   ],
   "source": [
    "px.histogram( Completed[(Completed[\"language\"]==\"English\")& Completed[\"completion_year\"]==2017], x = \"genre\", )"
   ]
  },
  {
   "cell_type": "code",
   "execution_count": null,
   "id": "85a719c1",
   "metadata": {
    "papermill": {
     "duration": 0.035843,
     "end_time": "2022-06-08T19:58:35.921626",
     "exception": false,
     "start_time": "2022-06-08T19:58:35.885783",
     "status": "completed"
    },
    "tags": []
   },
   "outputs": [],
   "source": []
  }
 ],
 "metadata": {
  "kernelspec": {
   "display_name": "Python 3",
   "language": "python",
   "name": "python3"
  },
  "language_info": {
   "codemirror_mode": {
    "name": "ipython",
    "version": 3
   },
   "file_extension": ".py",
   "mimetype": "text/x-python",
   "name": "python",
   "nbconvert_exporter": "python",
   "pygments_lexer": "ipython3",
   "version": "3.7.12"
  },
  "papermill": {
   "default_parameters": {},
   "duration": 34.241702,
   "end_time": "2022-06-08T19:58:37.282350",
   "environment_variables": {},
   "exception": null,
   "input_path": "__notebook__.ipynb",
   "output_path": "__notebook__.ipynb",
   "parameters": {},
   "start_time": "2022-06-08T19:58:03.040648",
   "version": "2.3.4"
  }
 },
 "nbformat": 4,
 "nbformat_minor": 5
}
