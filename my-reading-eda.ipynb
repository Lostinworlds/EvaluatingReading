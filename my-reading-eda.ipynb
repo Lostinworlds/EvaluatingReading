{
 "cells": [
  {
   "cell_type": "code",
   "execution_count": 1,
   "id": "71ff3e31",
   "metadata": {
    "_cell_guid": "b1076dfc-b9ad-4769-8c92-a6c4dae69d19",
    "_uuid": "8f2839f25d086af736a60e9eeb907d3b93b6e0e5",
    "execution": {
     "iopub.execute_input": "2022-06-07T07:02:56.336232Z",
     "iopub.status.busy": "2022-06-07T07:02:56.335144Z",
     "iopub.status.idle": "2022-06-07T07:02:58.540845Z",
     "shell.execute_reply": "2022-06-07T07:02:58.540138Z"
    },
    "papermill": {
     "duration": 2.231693,
     "end_time": "2022-06-07T07:02:58.543044",
     "exception": false,
     "start_time": "2022-06-07T07:02:56.311351",
     "status": "completed"
    },
    "tags": []
   },
   "outputs": [
    {
     "name": "stdout",
     "output_type": "stream",
     "text": [
      "/kaggle/input/my-reading-log/reading log.csv\n"
     ]
    }
   ],
   "source": [
    "# This Python 3 environment comes with many helpful analytics libraries installed\n",
    "# It is defined by the kaggle/python Docker image: https://github.com/kaggle/docker-python\n",
    "# For example, here's several helpful packages to load\n",
    "\n",
    "import numpy as np # linear algebra\n",
    "import pandas as pd # data processing, CSV file I/O (e.g. pd.read_csv)\n",
    "\n",
    "# Input data files are available in the read-only \"../input/\" directory\n",
    "# For example, running this (by clicking run or pressing Shift+Enter) will list all files under the input directory\n",
    "\n",
    "import os\n",
    "for dirname, _, filenames in os.walk('/kaggle/input'):\n",
    "    for filename in filenames:\n",
    "        print(os.path.join(dirname, filename))\n",
    "\n",
    "# You can write up to 20GB to the current directory (/kaggle/working/) that gets preserved as output when you create a version using \"Save & Run All\" \n",
    "# You can also write temporary files to /kaggle/temp/, but they won't be saved outside of the current session\n",
    "\n",
    "#libraries for data visualisation \n",
    "import matplotlib.pyplot as plt\n",
    "import seaborn as sns\n",
    "import plotly_express as px\n",
    "\n",
    "#set visualisation\n",
    "%matplotlib inline\n",
    "sns.set_style(\"whitegrid\")"
   ]
  },
  {
   "cell_type": "code",
   "execution_count": 2,
   "id": "f93fa770",
   "metadata": {
    "execution": {
     "iopub.execute_input": "2022-06-07T07:02:58.579118Z",
     "iopub.status.busy": "2022-06-07T07:02:58.578111Z",
     "iopub.status.idle": "2022-06-07T07:02:58.593441Z",
     "shell.execute_reply": "2022-06-07T07:02:58.592448Z"
    },
    "papermill": {
     "duration": 0.034313,
     "end_time": "2022-06-07T07:02:58.595613",
     "exception": false,
     "start_time": "2022-06-07T07:02:58.561300",
     "status": "completed"
    },
    "tags": []
   },
   "outputs": [],
   "source": [
    "df = pd.read_csv(\"/kaggle/input/my-reading-log/reading log.csv\")"
   ]
  },
  {
   "cell_type": "code",
   "execution_count": 3,
   "id": "26836f85",
   "metadata": {
    "execution": {
     "iopub.execute_input": "2022-06-07T07:02:58.628980Z",
     "iopub.status.busy": "2022-06-07T07:02:58.628582Z",
     "iopub.status.idle": "2022-06-07T07:02:58.653580Z",
     "shell.execute_reply": "2022-06-07T07:02:58.652405Z"
    },
    "papermill": {
     "duration": 0.044119,
     "end_time": "2022-06-07T07:02:58.655649",
     "exception": false,
     "start_time": "2022-06-07T07:02:58.611530",
     "status": "completed"
    },
    "tags": []
   },
   "outputs": [
    {
     "data": {
      "text/html": [
       "<div>\n",
       "<style scoped>\n",
       "    .dataframe tbody tr th:only-of-type {\n",
       "        vertical-align: middle;\n",
       "    }\n",
       "\n",
       "    .dataframe tbody tr th {\n",
       "        vertical-align: top;\n",
       "    }\n",
       "\n",
       "    .dataframe thead th {\n",
       "        text-align: right;\n",
       "    }\n",
       "</style>\n",
       "<table border=\"1\" class=\"dataframe\">\n",
       "  <thead>\n",
       "    <tr style=\"text-align: right;\">\n",
       "      <th></th>\n",
       "      <th>completion date</th>\n",
       "      <th>Title</th>\n",
       "      <th>author(s)</th>\n",
       "      <th>pages</th>\n",
       "      <th>review</th>\n",
       "      <th>rating</th>\n",
       "      <th>status</th>\n",
       "      <th>format</th>\n",
       "      <th>platform</th>\n",
       "      <th>publisher</th>\n",
       "      <th>Imprint</th>\n",
       "      <th>publication date</th>\n",
       "      <th>type</th>\n",
       "      <th>genre</th>\n",
       "      <th>language</th>\n",
       "    </tr>\n",
       "  </thead>\n",
       "  <tbody>\n",
       "    <tr>\n",
       "      <th>0</th>\n",
       "      <td>NaN</td>\n",
       "      <td>ボッコちゃん</td>\n",
       "      <td>星 新一</td>\n",
       "      <td>315</td>\n",
       "      <td>n</td>\n",
       "      <td>2.0</td>\n",
       "      <td>Completed</td>\n",
       "      <td>Physical Book</td>\n",
       "      <td>NaN</td>\n",
       "      <td>新潮社</td>\n",
       "      <td>新潮文庫</td>\n",
       "      <td>25-May-1971</td>\n",
       "      <td>Fiction</td>\n",
       "      <td>science fiction</td>\n",
       "      <td>jp</td>\n",
       "    </tr>\n",
       "    <tr>\n",
       "      <th>1</th>\n",
       "      <td>12-05-20</td>\n",
       "      <td>三毛猫ホームズの推理</td>\n",
       "      <td>赤川 次郎</td>\n",
       "      <td>368</td>\n",
       "      <td>y</td>\n",
       "      <td>3.0</td>\n",
       "      <td>Completed</td>\n",
       "      <td>E-Book</td>\n",
       "      <td>Kindle</td>\n",
       "      <td>KADOKAWA</td>\n",
       "      <td>角川文庫</td>\n",
       "      <td>1-Apr-1984</td>\n",
       "      <td>Fiction</td>\n",
       "      <td>Mystery</td>\n",
       "      <td>jp</td>\n",
       "    </tr>\n",
       "    <tr>\n",
       "      <th>2</th>\n",
       "      <td>06-24-20</td>\n",
       "      <td>ミステリ博物館</td>\n",
       "      <td>赤川 次郎</td>\n",
       "      <td>339</td>\n",
       "      <td>n</td>\n",
       "      <td>4.0</td>\n",
       "      <td>Completed</td>\n",
       "      <td>Physical Book</td>\n",
       "      <td>NaN</td>\n",
       "      <td>KADOKAWA</td>\n",
       "      <td>角川文庫</td>\n",
       "      <td>1-Jul-1985</td>\n",
       "      <td>Fiction</td>\n",
       "      <td>Mystery</td>\n",
       "      <td>jp</td>\n",
       "    </tr>\n",
       "    <tr>\n",
       "      <th>3</th>\n",
       "      <td>02-28-19</td>\n",
       "      <td>Jacques the Fatalist and His Master</td>\n",
       "      <td>Denis Diderot</td>\n",
       "      <td>261</td>\n",
       "      <td>y</td>\n",
       "      <td>2.5</td>\n",
       "      <td>Completed</td>\n",
       "      <td>Physical Book</td>\n",
       "      <td>NaN</td>\n",
       "      <td>Penguin Random House</td>\n",
       "      <td>Penguin Classics</td>\n",
       "      <td>30-Jan-1986</td>\n",
       "      <td>Fiction</td>\n",
       "      <td>Humour/ Satire</td>\n",
       "      <td>jp</td>\n",
       "    </tr>\n",
       "    <tr>\n",
       "      <th>4</th>\n",
       "      <td>02-15-18</td>\n",
       "      <td>卒業</td>\n",
       "      <td>東野 圭吾</td>\n",
       "      <td>371</td>\n",
       "      <td>y</td>\n",
       "      <td>4.5</td>\n",
       "      <td>Completed</td>\n",
       "      <td>Physical Book</td>\n",
       "      <td>NaN</td>\n",
       "      <td>講談社</td>\n",
       "      <td>講談社文庫</td>\n",
       "      <td>8-May-1989</td>\n",
       "      <td>Fiction</td>\n",
       "      <td>Mystery</td>\n",
       "      <td>jp</td>\n",
       "    </tr>\n",
       "  </tbody>\n",
       "</table>\n",
       "</div>"
      ],
      "text/plain": [
       "  completion date                                Title      author(s)  pages  \\\n",
       "0             NaN                               ボッコちゃん           星 新一    315   \n",
       "1        12-05-20                           三毛猫ホームズの推理          赤川 次郎    368   \n",
       "2        06-24-20                              ミステリ博物館          赤川 次郎    339   \n",
       "3        02-28-19  Jacques the Fatalist and His Master  Denis Diderot    261   \n",
       "4        02-15-18                                   卒業          東野 圭吾    371   \n",
       "\n",
       "  review  rating     status         format platform             publisher  \\\n",
       "0      n     2.0  Completed  Physical Book      NaN                   新潮社   \n",
       "1      y     3.0  Completed         E-Book   Kindle              KADOKAWA   \n",
       "2      n     4.0  Completed  Physical Book      NaN              KADOKAWA   \n",
       "3      y     2.5  Completed  Physical Book      NaN  Penguin Random House   \n",
       "4      y     4.5  Completed  Physical Book      NaN                   講談社   \n",
       "\n",
       "            Imprint publication date     type            genre language  \n",
       "0              新潮文庫      25-May-1971  Fiction  science fiction       jp  \n",
       "1              角川文庫       1-Apr-1984  Fiction          Mystery       jp  \n",
       "2              角川文庫       1-Jul-1985  Fiction          Mystery       jp  \n",
       "3  Penguin Classics      30-Jan-1986  Fiction   Humour/ Satire       jp  \n",
       "4             講談社文庫       8-May-1989  Fiction          Mystery       jp  "
      ]
     },
     "execution_count": 3,
     "metadata": {},
     "output_type": "execute_result"
    }
   ],
   "source": [
    "df.head()"
   ]
  },
  {
   "cell_type": "code",
   "execution_count": 4,
   "id": "73ec2e4e",
   "metadata": {
    "execution": {
     "iopub.execute_input": "2022-06-07T07:02:58.689431Z",
     "iopub.status.busy": "2022-06-07T07:02:58.689035Z",
     "iopub.status.idle": "2022-06-07T07:02:58.715229Z",
     "shell.execute_reply": "2022-06-07T07:02:58.713928Z"
    },
    "papermill": {
     "duration": 0.04546,
     "end_time": "2022-06-07T07:02:58.717324",
     "exception": false,
     "start_time": "2022-06-07T07:02:58.671864",
     "status": "completed"
    },
    "tags": []
   },
   "outputs": [
    {
     "name": "stdout",
     "output_type": "stream",
     "text": [
      "<class 'pandas.core.frame.DataFrame'>\n",
      "RangeIndex: 391 entries, 0 to 390\n",
      "Data columns (total 15 columns):\n",
      " #   Column            Non-Null Count  Dtype  \n",
      "---  ------            --------------  -----  \n",
      " 0   completion date   329 non-null    object \n",
      " 1   Title             391 non-null    object \n",
      " 2   author(s)         391 non-null    object \n",
      " 3   pages             391 non-null    int64  \n",
      " 4   review            384 non-null    object \n",
      " 5   rating            345 non-null    float64\n",
      " 6   status            391 non-null    object \n",
      " 7   format            391 non-null    object \n",
      " 8   platform          100 non-null    object \n",
      " 9   publisher         391 non-null    object \n",
      " 10  Imprint           391 non-null    object \n",
      " 11  publication date  391 non-null    object \n",
      " 12  type              391 non-null    object \n",
      " 13  genre             391 non-null    object \n",
      " 14  language          391 non-null    object \n",
      "dtypes: float64(1), int64(1), object(13)\n",
      "memory usage: 45.9+ KB\n"
     ]
    }
   ],
   "source": [
    "df.info()"
   ]
  },
  {
   "cell_type": "code",
   "execution_count": 5,
   "id": "fa14e9a3",
   "metadata": {
    "execution": {
     "iopub.execute_input": "2022-06-07T07:02:58.753135Z",
     "iopub.status.busy": "2022-06-07T07:02:58.752556Z",
     "iopub.status.idle": "2022-06-07T07:02:58.770918Z",
     "shell.execute_reply": "2022-06-07T07:02:58.770169Z"
    },
    "papermill": {
     "duration": 0.038532,
     "end_time": "2022-06-07T07:02:58.772817",
     "exception": false,
     "start_time": "2022-06-07T07:02:58.734285",
     "status": "completed"
    },
    "tags": []
   },
   "outputs": [
    {
     "data": {
      "text/html": [
       "<div>\n",
       "<style scoped>\n",
       "    .dataframe tbody tr th:only-of-type {\n",
       "        vertical-align: middle;\n",
       "    }\n",
       "\n",
       "    .dataframe tbody tr th {\n",
       "        vertical-align: top;\n",
       "    }\n",
       "\n",
       "    .dataframe thead th {\n",
       "        text-align: right;\n",
       "    }\n",
       "</style>\n",
       "<table border=\"1\" class=\"dataframe\">\n",
       "  <thead>\n",
       "    <tr style=\"text-align: right;\">\n",
       "      <th></th>\n",
       "      <th>pages</th>\n",
       "      <th>rating</th>\n",
       "    </tr>\n",
       "  </thead>\n",
       "  <tbody>\n",
       "    <tr>\n",
       "      <th>count</th>\n",
       "      <td>391.000000</td>\n",
       "      <td>345.000000</td>\n",
       "    </tr>\n",
       "    <tr>\n",
       "      <th>mean</th>\n",
       "      <td>333.826087</td>\n",
       "      <td>3.576087</td>\n",
       "    </tr>\n",
       "    <tr>\n",
       "      <th>std</th>\n",
       "      <td>128.553393</td>\n",
       "      <td>1.057147</td>\n",
       "    </tr>\n",
       "    <tr>\n",
       "      <th>min</th>\n",
       "      <td>31.000000</td>\n",
       "      <td>1.000000</td>\n",
       "    </tr>\n",
       "    <tr>\n",
       "      <th>25%</th>\n",
       "      <td>256.000000</td>\n",
       "      <td>3.000000</td>\n",
       "    </tr>\n",
       "    <tr>\n",
       "      <th>50%</th>\n",
       "      <td>320.000000</td>\n",
       "      <td>4.000000</td>\n",
       "    </tr>\n",
       "    <tr>\n",
       "      <th>75%</th>\n",
       "      <td>384.000000</td>\n",
       "      <td>4.000000</td>\n",
       "    </tr>\n",
       "    <tr>\n",
       "      <th>max</th>\n",
       "      <td>912.000000</td>\n",
       "      <td>5.000000</td>\n",
       "    </tr>\n",
       "  </tbody>\n",
       "</table>\n",
       "</div>"
      ],
      "text/plain": [
       "            pages      rating\n",
       "count  391.000000  345.000000\n",
       "mean   333.826087    3.576087\n",
       "std    128.553393    1.057147\n",
       "min     31.000000    1.000000\n",
       "25%    256.000000    3.000000\n",
       "50%    320.000000    4.000000\n",
       "75%    384.000000    4.000000\n",
       "max    912.000000    5.000000"
      ]
     },
     "execution_count": 5,
     "metadata": {},
     "output_type": "execute_result"
    }
   ],
   "source": [
    "df.describe()"
   ]
  },
  {
   "cell_type": "markdown",
   "id": "4b084ca5",
   "metadata": {
    "papermill": {
     "duration": 0.01612,
     "end_time": "2022-06-07T07:02:58.805489",
     "exception": false,
     "start_time": "2022-06-07T07:02:58.789369",
     "status": "completed"
    },
    "tags": []
   },
   "source": [
    "# Evaluate variables"
   ]
  },
  {
   "cell_type": "code",
   "execution_count": 6,
   "id": "e5f9dfd5",
   "metadata": {
    "execution": {
     "iopub.execute_input": "2022-06-07T07:02:58.840554Z",
     "iopub.status.busy": "2022-06-07T07:02:58.839579Z",
     "iopub.status.idle": "2022-06-07T07:02:58.902602Z",
     "shell.execute_reply": "2022-06-07T07:02:58.901503Z"
    },
    "papermill": {
     "duration": 0.082912,
     "end_time": "2022-06-07T07:02:58.904993",
     "exception": false,
     "start_time": "2022-06-07T07:02:58.822081",
     "status": "completed"
    },
    "tags": []
   },
   "outputs": [],
   "source": [
    "df['publication date'] = pd.to_datetime(df['publication date'])\n",
    "df['publication_year'] = df['publication date'].dt.year\n",
    "df['publication_month'] = df['publication date'].dt.month\n",
    "\n",
    "df['completion date'] = pd.to_datetime(df['completion date'])\n",
    "df['completion_year'] = df['completion date'].dt.year\n",
    "df['completion_month'] = df['completion date'].dt.month"
   ]
  },
  {
   "cell_type": "code",
   "execution_count": 7,
   "id": "c1ab7632",
   "metadata": {
    "execution": {
     "iopub.execute_input": "2022-06-07T07:02:58.940868Z",
     "iopub.status.busy": "2022-06-07T07:02:58.940494Z",
     "iopub.status.idle": "2022-06-07T07:02:58.946481Z",
     "shell.execute_reply": "2022-06-07T07:02:58.945582Z"
    },
    "papermill": {
     "duration": 0.027329,
     "end_time": "2022-06-07T07:02:58.948948",
     "exception": false,
     "start_time": "2022-06-07T07:02:58.921619",
     "status": "completed"
    },
    "tags": []
   },
   "outputs": [
    {
     "data": {
      "text/plain": [
       "62"
      ]
     },
     "execution_count": 7,
     "metadata": {},
     "output_type": "execute_result"
    }
   ],
   "source": [
    "sum(df[\"completion date\"].isnull())"
   ]
  },
  {
   "cell_type": "code",
   "execution_count": 8,
   "id": "3abd433f",
   "metadata": {
    "execution": {
     "iopub.execute_input": "2022-06-07T07:02:58.983920Z",
     "iopub.status.busy": "2022-06-07T07:02:58.983327Z",
     "iopub.status.idle": "2022-06-07T07:02:59.004904Z",
     "shell.execute_reply": "2022-06-07T07:02:59.003994Z"
    },
    "papermill": {
     "duration": 0.041133,
     "end_time": "2022-06-07T07:02:59.006817",
     "exception": false,
     "start_time": "2022-06-07T07:02:58.965684",
     "status": "completed"
    },
    "tags": []
   },
   "outputs": [
    {
     "data": {
      "text/html": [
       "<div>\n",
       "<style scoped>\n",
       "    .dataframe tbody tr th:only-of-type {\n",
       "        vertical-align: middle;\n",
       "    }\n",
       "\n",
       "    .dataframe tbody tr th {\n",
       "        vertical-align: top;\n",
       "    }\n",
       "\n",
       "    .dataframe thead th {\n",
       "        text-align: right;\n",
       "    }\n",
       "</style>\n",
       "<table border=\"1\" class=\"dataframe\">\n",
       "  <thead>\n",
       "    <tr style=\"text-align: right;\">\n",
       "      <th></th>\n",
       "      <th>completion date</th>\n",
       "      <th>Title</th>\n",
       "      <th>author(s)</th>\n",
       "      <th>pages</th>\n",
       "      <th>review</th>\n",
       "      <th>rating</th>\n",
       "      <th>status</th>\n",
       "      <th>format</th>\n",
       "      <th>platform</th>\n",
       "      <th>publisher</th>\n",
       "      <th>Imprint</th>\n",
       "      <th>publication date</th>\n",
       "      <th>type</th>\n",
       "      <th>genre</th>\n",
       "      <th>language</th>\n",
       "      <th>publication_year</th>\n",
       "      <th>publication_month</th>\n",
       "      <th>completion_year</th>\n",
       "      <th>completion_month</th>\n",
       "    </tr>\n",
       "  </thead>\n",
       "  <tbody>\n",
       "    <tr>\n",
       "      <th>0</th>\n",
       "      <td>NaT</td>\n",
       "      <td>ボッコちゃん</td>\n",
       "      <td>星 新一</td>\n",
       "      <td>315</td>\n",
       "      <td>n</td>\n",
       "      <td>2.0</td>\n",
       "      <td>Completed</td>\n",
       "      <td>Physical Book</td>\n",
       "      <td>NaN</td>\n",
       "      <td>新潮社</td>\n",
       "      <td>新潮文庫</td>\n",
       "      <td>1971-05-25</td>\n",
       "      <td>Fiction</td>\n",
       "      <td>science fiction</td>\n",
       "      <td>jp</td>\n",
       "      <td>1971</td>\n",
       "      <td>5</td>\n",
       "      <td>NaN</td>\n",
       "      <td>NaN</td>\n",
       "    </tr>\n",
       "    <tr>\n",
       "      <th>6</th>\n",
       "      <td>NaT</td>\n",
       "      <td>注文の多い料理店</td>\n",
       "      <td>宮沢 賢治</td>\n",
       "      <td>358</td>\n",
       "      <td>n</td>\n",
       "      <td>NaN</td>\n",
       "      <td>Completed</td>\n",
       "      <td>Physical Book</td>\n",
       "      <td>NaN</td>\n",
       "      <td>新潮社</td>\n",
       "      <td>新潮文庫</td>\n",
       "      <td>1990-05-29</td>\n",
       "      <td>Fiction</td>\n",
       "      <td>Fantasy</td>\n",
       "      <td>jp</td>\n",
       "      <td>1990</td>\n",
       "      <td>5</td>\n",
       "      <td>NaN</td>\n",
       "      <td>NaN</td>\n",
       "    </tr>\n",
       "    <tr>\n",
       "      <th>21</th>\n",
       "      <td>NaT</td>\n",
       "      <td>どちらかが彼女を殺した</td>\n",
       "      <td>東野 圭吾</td>\n",
       "      <td>356</td>\n",
       "      <td>y</td>\n",
       "      <td>5.0</td>\n",
       "      <td>Completed</td>\n",
       "      <td>Physical Book</td>\n",
       "      <td>NaN</td>\n",
       "      <td>講談社</td>\n",
       "      <td>講談社文庫</td>\n",
       "      <td>1999-05-14</td>\n",
       "      <td>Fiction</td>\n",
       "      <td>Mystery</td>\n",
       "      <td>jp</td>\n",
       "      <td>1999</td>\n",
       "      <td>5</td>\n",
       "      <td>NaN</td>\n",
       "      <td>NaN</td>\n",
       "    </tr>\n",
       "    <tr>\n",
       "      <th>25</th>\n",
       "      <td>NaT</td>\n",
       "      <td>悪意</td>\n",
       "      <td>東野 圭吾</td>\n",
       "      <td>376</td>\n",
       "      <td>y</td>\n",
       "      <td>5.0</td>\n",
       "      <td>Completed</td>\n",
       "      <td>Physical Book</td>\n",
       "      <td>NaN</td>\n",
       "      <td>講談社</td>\n",
       "      <td>講談社文庫</td>\n",
       "      <td>2001-01-17</td>\n",
       "      <td>Fiction</td>\n",
       "      <td>Mystery</td>\n",
       "      <td>jp</td>\n",
       "      <td>2001</td>\n",
       "      <td>1</td>\n",
       "      <td>NaN</td>\n",
       "      <td>NaN</td>\n",
       "    </tr>\n",
       "    <tr>\n",
       "      <th>26</th>\n",
       "      <td>NaT</td>\n",
       "      <td>A Study in Scarlet &amp; The Sign of the Four</td>\n",
       "      <td>Sir Arthur Conan Doyle</td>\n",
       "      <td>224</td>\n",
       "      <td>n</td>\n",
       "      <td>4.0</td>\n",
       "      <td>Completed</td>\n",
       "      <td>Physical Book</td>\n",
       "      <td>NaN</td>\n",
       "      <td>Wordsworth Editions</td>\n",
       "      <td>Wordsworth Editions</td>\n",
       "      <td>2001-12-05</td>\n",
       "      <td>Fiction</td>\n",
       "      <td>Mystery</td>\n",
       "      <td>eng</td>\n",
       "      <td>2001</td>\n",
       "      <td>12</td>\n",
       "      <td>NaN</td>\n",
       "      <td>NaN</td>\n",
       "    </tr>\n",
       "  </tbody>\n",
       "</table>\n",
       "</div>"
      ],
      "text/plain": [
       "   completion date                                      Title  \\\n",
       "0              NaT                                     ボッコちゃん   \n",
       "6              NaT                                   注文の多い料理店   \n",
       "21             NaT                                どちらかが彼女を殺した   \n",
       "25             NaT                                         悪意   \n",
       "26             NaT  A Study in Scarlet & The Sign of the Four   \n",
       "\n",
       "                 author(s)  pages review  rating     status         format  \\\n",
       "0                     星 新一    315      n     2.0  Completed  Physical Book   \n",
       "6                    宮沢 賢治    358      n     NaN  Completed  Physical Book   \n",
       "21                   東野 圭吾    356      y     5.0  Completed  Physical Book   \n",
       "25                   東野 圭吾    376      y     5.0  Completed  Physical Book   \n",
       "26  Sir Arthur Conan Doyle    224      n     4.0  Completed  Physical Book   \n",
       "\n",
       "   platform            publisher              Imprint publication date  \\\n",
       "0       NaN                  新潮社                 新潮文庫       1971-05-25   \n",
       "6       NaN                  新潮社                 新潮文庫       1990-05-29   \n",
       "21      NaN                  講談社                講談社文庫       1999-05-14   \n",
       "25      NaN                  講談社                講談社文庫       2001-01-17   \n",
       "26      NaN  Wordsworth Editions  Wordsworth Editions       2001-12-05   \n",
       "\n",
       "       type            genre language  publication_year  publication_month  \\\n",
       "0   Fiction  science fiction       jp              1971                  5   \n",
       "6   Fiction          Fantasy       jp              1990                  5   \n",
       "21  Fiction          Mystery       jp              1999                  5   \n",
       "25  Fiction          Mystery       jp              2001                  1   \n",
       "26  Fiction          Mystery      eng              2001                 12   \n",
       "\n",
       "    completion_year  completion_month  \n",
       "0               NaN               NaN  \n",
       "6               NaN               NaN  \n",
       "21              NaN               NaN  \n",
       "25              NaN               NaN  \n",
       "26              NaN               NaN  "
      ]
     },
     "execution_count": 8,
     "metadata": {},
     "output_type": "execute_result"
    }
   ],
   "source": [
    "df[(df[\"completion date\"].isnull())& (df[\"status\"]==\"Completed\")].head()"
   ]
  },
  {
   "cell_type": "code",
   "execution_count": 9,
   "id": "7acdf120",
   "metadata": {
    "execution": {
     "iopub.execute_input": "2022-06-07T07:02:59.041974Z",
     "iopub.status.busy": "2022-06-07T07:02:59.041431Z",
     "iopub.status.idle": "2022-06-07T07:02:59.049316Z",
     "shell.execute_reply": "2022-06-07T07:02:59.048300Z"
    },
    "papermill": {
     "duration": 0.027746,
     "end_time": "2022-06-07T07:02:59.051084",
     "exception": false,
     "start_time": "2022-06-07T07:02:59.023338",
     "status": "completed"
    },
    "tags": []
   },
   "outputs": [
    {
     "data": {
      "text/plain": [
       "53"
      ]
     },
     "execution_count": 9,
     "metadata": {},
     "output_type": "execute_result"
    }
   ],
   "source": [
    "df[(df[\"completion date\"].isnull())& (df[\"status\"]==\"Completed\")].shape[0]"
   ]
  },
  {
   "cell_type": "code",
   "execution_count": 10,
   "id": "5c39c661",
   "metadata": {
    "execution": {
     "iopub.execute_input": "2022-06-07T07:02:59.088585Z",
     "iopub.status.busy": "2022-06-07T07:02:59.087873Z",
     "iopub.status.idle": "2022-06-07T07:02:59.096828Z",
     "shell.execute_reply": "2022-06-07T07:02:59.096019Z"
    },
    "papermill": {
     "duration": 0.03006,
     "end_time": "2022-06-07T07:02:59.098804",
     "exception": false,
     "start_time": "2022-06-07T07:02:59.068744",
     "status": "completed"
    },
    "tags": []
   },
   "outputs": [
    {
     "data": {
      "text/plain": [
       "0     No\n",
       "1    Yes\n",
       "2     No\n",
       "3    Yes\n",
       "4    Yes\n",
       "Name: review, dtype: object"
      ]
     },
     "execution_count": 10,
     "metadata": {},
     "output_type": "execute_result"
    }
   ],
   "source": [
    "df[\"review\"].replace({\"y\": \"Yes\", \"n\":\"No\"}, inplace = True)\n",
    "df[\"review\"].head()"
   ]
  },
  {
   "cell_type": "code",
   "execution_count": 11,
   "id": "50edef4d",
   "metadata": {
    "execution": {
     "iopub.execute_input": "2022-06-07T07:02:59.134669Z",
     "iopub.status.busy": "2022-06-07T07:02:59.133930Z",
     "iopub.status.idle": "2022-06-07T07:02:59.141786Z",
     "shell.execute_reply": "2022-06-07T07:02:59.141036Z"
    },
    "papermill": {
     "duration": 0.027967,
     "end_time": "2022-06-07T07:02:59.143795",
     "exception": false,
     "start_time": "2022-06-07T07:02:59.115828",
     "status": "completed"
    },
    "tags": []
   },
   "outputs": [
    {
     "data": {
      "text/plain": [
       "Audible      25\n",
       "Libby        25\n",
       "BorrowBox    24\n",
       "Kindle       17\n",
       "Unknown       7\n",
       "Youtube       2\n",
       "Name: platform, dtype: int64"
      ]
     },
     "execution_count": 11,
     "metadata": {},
     "output_type": "execute_result"
    }
   ],
   "source": [
    "df[\"platform\"].value_counts()"
   ]
  },
  {
   "cell_type": "code",
   "execution_count": 12,
   "id": "a2065acd",
   "metadata": {
    "execution": {
     "iopub.execute_input": "2022-06-07T07:02:59.179641Z",
     "iopub.status.busy": "2022-06-07T07:02:59.178889Z",
     "iopub.status.idle": "2022-06-07T07:02:59.184523Z",
     "shell.execute_reply": "2022-06-07T07:02:59.183793Z"
    },
    "papermill": {
     "duration": 0.025781,
     "end_time": "2022-06-07T07:02:59.186461",
     "exception": false,
     "start_time": "2022-06-07T07:02:59.160680",
     "status": "completed"
    },
    "tags": []
   },
   "outputs": [],
   "source": [
    "df[\"platform\"].replace({\"Youtube\": \"Unknown\"}, inplace = True)"
   ]
  },
  {
   "cell_type": "code",
   "execution_count": 13,
   "id": "3aec82a7",
   "metadata": {
    "execution": {
     "iopub.execute_input": "2022-06-07T07:02:59.222203Z",
     "iopub.status.busy": "2022-06-07T07:02:59.221789Z",
     "iopub.status.idle": "2022-06-07T07:02:59.228070Z",
     "shell.execute_reply": "2022-06-07T07:02:59.227319Z"
    },
    "papermill": {
     "duration": 0.026487,
     "end_time": "2022-06-07T07:02:59.229998",
     "exception": false,
     "start_time": "2022-06-07T07:02:59.203511",
     "status": "completed"
    },
    "tags": []
   },
   "outputs": [
    {
     "data": {
      "text/plain": [
       "36"
      ]
     },
     "execution_count": 13,
     "metadata": {},
     "output_type": "execute_result"
    }
   ],
   "source": [
    "df[\"genre\"].nunique()"
   ]
  },
  {
   "cell_type": "code",
   "execution_count": 14,
   "id": "b6566c65",
   "metadata": {
    "execution": {
     "iopub.execute_input": "2022-06-07T07:02:59.266698Z",
     "iopub.status.busy": "2022-06-07T07:02:59.266009Z",
     "iopub.status.idle": "2022-06-07T07:02:59.272640Z",
     "shell.execute_reply": "2022-06-07T07:02:59.271867Z"
    },
    "papermill": {
     "duration": 0.02731,
     "end_time": "2022-06-07T07:02:59.274517",
     "exception": false,
     "start_time": "2022-06-07T07:02:59.247207",
     "status": "completed"
    },
    "tags": []
   },
   "outputs": [
    {
     "data": {
      "text/plain": [
       "array(['science fiction', 'Mystery', 'Humour/ Satire', 'Literary Fiction',\n",
       "       'Fantasy', 'Romance', 'Science Fiction', 'Bildungsroman',\n",
       "       'Self Help', 'Picture book', 'Magical realism', 'Thriller',\n",
       "       'Economics', 'Horror', 'Contemporary', 'Mathematics',\n",
       "       'Self-Esteem', '経済小説', 'Dystopian', 'science', '経営書', 'Psychology',\n",
       "       '仕事小説', 'Fashion', 'Humour Encyclopaedias', 'Realist Literature',\n",
       "       'Physical Chemistry', 'Data', 'Law', 'Business', 'Adventure',\n",
       "       'Applied Physics', 'History', 'Biographies',\n",
       "       'Essays, Journals & Letters', 'Architectural History'],\n",
       "      dtype=object)"
      ]
     },
     "execution_count": 14,
     "metadata": {},
     "output_type": "execute_result"
    }
   ],
   "source": [
    "df[\"genre\"].unique()"
   ]
  },
  {
   "cell_type": "code",
   "execution_count": 15,
   "id": "4f47084d",
   "metadata": {
    "execution": {
     "iopub.execute_input": "2022-06-07T07:02:59.311652Z",
     "iopub.status.busy": "2022-06-07T07:02:59.310942Z",
     "iopub.status.idle": "2022-06-07T07:02:59.323991Z",
     "shell.execute_reply": "2022-06-07T07:02:59.322856Z"
    },
    "papermill": {
     "duration": 0.034295,
     "end_time": "2022-06-07T07:02:59.326341",
     "exception": false,
     "start_time": "2022-06-07T07:02:59.292046",
     "status": "completed"
    },
    "tags": []
   },
   "outputs": [
    {
     "name": "stdout",
     "output_type": "stream",
     "text": [
      "<class 'pandas.core.frame.DataFrame'>\n",
      "RangeIndex: 391 entries, 0 to 390\n",
      "Data columns (total 19 columns):\n",
      " #   Column             Non-Null Count  Dtype         \n",
      "---  ------             --------------  -----         \n",
      " 0   completion date    329 non-null    datetime64[ns]\n",
      " 1   Title              391 non-null    object        \n",
      " 2   author(s)          391 non-null    object        \n",
      " 3   pages              391 non-null    int64         \n",
      " 4   review             384 non-null    object        \n",
      " 5   rating             345 non-null    float64       \n",
      " 6   status             391 non-null    object        \n",
      " 7   format             391 non-null    object        \n",
      " 8   platform           100 non-null    object        \n",
      " 9   publisher          391 non-null    object        \n",
      " 10  Imprint            391 non-null    object        \n",
      " 11  publication date   391 non-null    datetime64[ns]\n",
      " 12  type               391 non-null    object        \n",
      " 13  genre              391 non-null    object        \n",
      " 14  language           391 non-null    object        \n",
      " 15  publication_year   391 non-null    int64         \n",
      " 16  publication_month  391 non-null    int64         \n",
      " 17  completion_year    329 non-null    float64       \n",
      " 18  completion_month   329 non-null    float64       \n",
      "dtypes: datetime64[ns](2), float64(3), int64(3), object(11)\n",
      "memory usage: 58.2+ KB\n"
     ]
    }
   ],
   "source": [
    "df.info()"
   ]
  },
  {
   "cell_type": "code",
   "execution_count": 16,
   "id": "a3e248a2",
   "metadata": {
    "execution": {
     "iopub.execute_input": "2022-06-07T07:02:59.362769Z",
     "iopub.status.busy": "2022-06-07T07:02:59.362410Z",
     "iopub.status.idle": "2022-06-07T07:02:59.367757Z",
     "shell.execute_reply": "2022-06-07T07:02:59.367054Z"
    },
    "papermill": {
     "duration": 0.025837,
     "end_time": "2022-06-07T07:02:59.369541",
     "exception": false,
     "start_time": "2022-06-07T07:02:59.343704",
     "status": "completed"
    },
    "tags": []
   },
   "outputs": [
    {
     "data": {
      "text/plain": [
       "array(['jp', 'eng'], dtype=object)"
      ]
     },
     "execution_count": 16,
     "metadata": {},
     "output_type": "execute_result"
    }
   ],
   "source": [
    "df[\"language\"].unique()"
   ]
  },
  {
   "cell_type": "code",
   "execution_count": 17,
   "id": "18b8e1f4",
   "metadata": {
    "execution": {
     "iopub.execute_input": "2022-06-07T07:02:59.408154Z",
     "iopub.status.busy": "2022-06-07T07:02:59.407173Z",
     "iopub.status.idle": "2022-06-07T07:02:59.416384Z",
     "shell.execute_reply": "2022-06-07T07:02:59.415644Z"
    },
    "papermill": {
     "duration": 0.030768,
     "end_time": "2022-06-07T07:02:59.418082",
     "exception": false,
     "start_time": "2022-06-07T07:02:59.387314",
     "status": "completed"
    },
    "tags": []
   },
   "outputs": [
    {
     "data": {
      "text/plain": [
       "0      Japanese\n",
       "1      Japanese\n",
       "2      Japanese\n",
       "3      Japanese\n",
       "4      Japanese\n",
       "         ...   \n",
       "386     English\n",
       "387     English\n",
       "388     English\n",
       "389     English\n",
       "390     English\n",
       "Name: language, Length: 391, dtype: object"
      ]
     },
     "execution_count": 17,
     "metadata": {},
     "output_type": "execute_result"
    }
   ],
   "source": [
    "df[\"language\"].replace({\"jp\": \"Japanese\", \"eng\":\"English\"}, inplace = True)\n",
    "df[\"language\"]"
   ]
  },
  {
   "cell_type": "code",
   "execution_count": 18,
   "id": "c23d123f",
   "metadata": {
    "execution": {
     "iopub.execute_input": "2022-06-07T07:02:59.455866Z",
     "iopub.status.busy": "2022-06-07T07:02:59.455290Z",
     "iopub.status.idle": "2022-06-07T07:02:59.461922Z",
     "shell.execute_reply": "2022-06-07T07:02:59.461227Z"
    },
    "papermill": {
     "duration": 0.028121,
     "end_time": "2022-06-07T07:02:59.463776",
     "exception": false,
     "start_time": "2022-06-07T07:02:59.435655",
     "status": "completed"
    },
    "tags": []
   },
   "outputs": [
    {
     "data": {
      "text/plain": [
       "Completed     381\n",
       "DNF             8\n",
       "incomplete      1\n",
       "TBR             1\n",
       "Name: status, dtype: int64"
      ]
     },
     "execution_count": 18,
     "metadata": {},
     "output_type": "execute_result"
    }
   ],
   "source": [
    "df[\"status\"].value_counts()"
   ]
  },
  {
   "cell_type": "code",
   "execution_count": 19,
   "id": "739cf292",
   "metadata": {
    "execution": {
     "iopub.execute_input": "2022-06-07T07:02:59.501728Z",
     "iopub.status.busy": "2022-06-07T07:02:59.501210Z",
     "iopub.status.idle": "2022-06-07T07:02:59.506670Z",
     "shell.execute_reply": "2022-06-07T07:02:59.506003Z"
    },
    "papermill": {
     "duration": 0.027047,
     "end_time": "2022-06-07T07:02:59.508617",
     "exception": false,
     "start_time": "2022-06-07T07:02:59.481570",
     "status": "completed"
    },
    "tags": []
   },
   "outputs": [],
   "source": [
    "df[\"status\"].replace({\"incomplete\": \"Incomplete\"}, inplace = True)\n",
    "df[\"status\"].replace({\"Incomplete\": \"Other\", \"TBR\": \"Other\"}, inplace = True)"
   ]
  },
  {
   "cell_type": "code",
   "execution_count": 20,
   "id": "43095263",
   "metadata": {
    "execution": {
     "iopub.execute_input": "2022-06-07T07:02:59.545809Z",
     "iopub.status.busy": "2022-06-07T07:02:59.545139Z",
     "iopub.status.idle": "2022-06-07T07:02:59.552080Z",
     "shell.execute_reply": "2022-06-07T07:02:59.551381Z"
    },
    "papermill": {
     "duration": 0.027798,
     "end_time": "2022-06-07T07:02:59.554066",
     "exception": false,
     "start_time": "2022-06-07T07:02:59.526268",
     "status": "completed"
    },
    "tags": []
   },
   "outputs": [
    {
     "data": {
      "text/plain": [
       "Fiction       341\n",
       "Nonfiction     50\n",
       "Name: type, dtype: int64"
      ]
     },
     "execution_count": 20,
     "metadata": {},
     "output_type": "execute_result"
    }
   ],
   "source": [
    "df[\"type\"].value_counts()"
   ]
  },
  {
   "cell_type": "markdown",
   "id": "3339da54",
   "metadata": {
    "papermill": {
     "duration": 0.018153,
     "end_time": "2022-06-07T07:02:59.589867",
     "exception": false,
     "start_time": "2022-06-07T07:02:59.571714",
     "status": "completed"
    },
    "tags": []
   },
   "source": [
    "# EDA\n",
    "## DNF"
   ]
  },
  {
   "cell_type": "code",
   "execution_count": 21,
   "id": "e015860d",
   "metadata": {
    "execution": {
     "iopub.execute_input": "2022-06-07T07:02:59.627165Z",
     "iopub.status.busy": "2022-06-07T07:02:59.626738Z",
     "iopub.status.idle": "2022-06-07T07:02:59.836572Z",
     "shell.execute_reply": "2022-06-07T07:02:59.835552Z"
    },
    "papermill": {
     "duration": 0.231165,
     "end_time": "2022-06-07T07:02:59.838707",
     "exception": false,
     "start_time": "2022-06-07T07:02:59.607542",
     "status": "completed"
    },
    "tags": []
   },
   "outputs": [
    {
     "data": {
      "image/png": "[encoded data removed]",
      "text/plain": [
       "<Figure size 432x288 with 1 Axes>"
      ]
     },
     "metadata": {},
     "output_type": "display_data"
    }
   ],
   "source": [
    "sns.countplot(x = \"status\", data = df)\n",
    "plt.show()"
   ]
  },
  {
   "cell_type": "code",
   "execution_count": 22,
   "id": "4b496b9f",
   "metadata": {
    "execution": {
     "iopub.execute_input": "2022-06-07T07:02:59.876739Z",
     "iopub.status.busy": "2022-06-07T07:02:59.876370Z",
     "iopub.status.idle": "2022-06-07T07:02:59.882210Z",
     "shell.execute_reply": "2022-06-07T07:02:59.881552Z"
    },
    "papermill": {
     "duration": 0.026906,
     "end_time": "2022-06-07T07:02:59.884085",
     "exception": false,
     "start_time": "2022-06-07T07:02:59.857179",
     "status": "completed"
    },
    "tags": []
   },
   "outputs": [],
   "source": [
    "DNF = df[df[\"status\"]==\"DNF\"]\n",
    "Completed = df[df[\"status\"]==\"Completed\"]"
   ]
  },
  {
   "cell_type": "code",
   "execution_count": 23,
   "id": "d11bdcfa",
   "metadata": {
    "execution": {
     "iopub.execute_input": "2022-06-07T07:02:59.922876Z",
     "iopub.status.busy": "2022-06-07T07:02:59.921885Z",
     "iopub.status.idle": "2022-06-07T07:02:59.927599Z",
     "shell.execute_reply": "2022-06-07T07:02:59.926969Z"
    },
    "papermill": {
     "duration": 0.027512,
     "end_time": "2022-06-07T07:02:59.929372",
     "exception": false,
     "start_time": "2022-06-07T07:02:59.901860",
     "status": "completed"
    },
    "tags": []
   },
   "outputs": [
    {
     "data": {
      "text/plain": [
       "2375"
      ]
     },
     "execution_count": 23,
     "metadata": {},
     "output_type": "execute_result"
    }
   ],
   "source": [
    "sum(DNF[\"pages\"])"
   ]
  },
  {
   "cell_type": "code",
   "execution_count": 24,
   "id": "91d80cfc",
   "metadata": {
    "execution": {
     "iopub.execute_input": "2022-06-07T07:02:59.967849Z",
     "iopub.status.busy": "2022-06-07T07:02:59.967226Z",
     "iopub.status.idle": "2022-06-07T07:02:59.974270Z",
     "shell.execute_reply": "2022-06-07T07:02:59.973578Z"
    },
    "papermill": {
     "duration": 0.028052,
     "end_time": "2022-06-07T07:02:59.975973",
     "exception": false,
     "start_time": "2022-06-07T07:02:59.947921",
     "status": "completed"
    },
    "tags": []
   },
   "outputs": [
    {
     "data": {
      "text/plain": [
       "Audiobook        7\n",
       "Physical Book    1\n",
       "Name: format, dtype: int64"
      ]
     },
     "execution_count": 24,
     "metadata": {},
     "output_type": "execute_result"
    }
   ],
   "source": [
    "DNF[\"format\"].value_counts()"
   ]
  },
  {
   "cell_type": "code",
   "execution_count": 25,
   "id": "c709d267",
   "metadata": {
    "execution": {
     "iopub.execute_input": "2022-06-07T07:03:00.014079Z",
     "iopub.status.busy": "2022-06-07T07:03:00.013636Z",
     "iopub.status.idle": "2022-06-07T07:03:00.019670Z",
     "shell.execute_reply": "2022-06-07T07:03:00.018777Z"
    },
    "papermill": {
     "duration": 0.027408,
     "end_time": "2022-06-07T07:03:00.021648",
     "exception": false,
     "start_time": "2022-06-07T07:02:59.994240",
     "status": "completed"
    },
    "tags": []
   },
   "outputs": [
    {
     "name": "stdout",
     "output_type": "stream",
     "text": [
      "No duplicated authors\n"
     ]
    }
   ],
   "source": [
    "if DNF[\"author(s)\"].nunique() ==DNF.shape[0]:\n",
    "    print(\"No duplicated authors\")\n",
    "else:\n",
    "    print(\"there is an author you should avoid\")"
   ]
  },
  {
   "cell_type": "code",
   "execution_count": 26,
   "id": "4be697d3",
   "metadata": {
    "execution": {
     "iopub.execute_input": "2022-06-07T07:03:00.060318Z",
     "iopub.status.busy": "2022-06-07T07:03:00.059396Z",
     "iopub.status.idle": "2022-06-07T07:03:00.065724Z",
     "shell.execute_reply": "2022-06-07T07:03:00.065044Z"
    },
    "papermill": {
     "duration": 0.027258,
     "end_time": "2022-06-07T07:03:00.067358",
     "exception": false,
     "start_time": "2022-06-07T07:03:00.040100",
     "status": "completed"
    },
    "tags": []
   },
   "outputs": [
    {
     "data": {
      "text/plain": [
       "8"
      ]
     },
     "execution_count": 26,
     "metadata": {},
     "output_type": "execute_result"
    }
   ],
   "source": [
    "DNF[\"publisher\"].nunique()"
   ]
  },
  {
   "cell_type": "code",
   "execution_count": 27,
   "id": "4051e247",
   "metadata": {
    "execution": {
     "iopub.execute_input": "2022-06-07T07:03:00.106200Z",
     "iopub.status.busy": "2022-06-07T07:03:00.105480Z",
     "iopub.status.idle": "2022-06-07T07:03:00.112750Z",
     "shell.execute_reply": "2022-06-07T07:03:00.112046Z"
    },
    "papermill": {
     "duration": 0.02897,
     "end_time": "2022-06-07T07:03:00.114557",
     "exception": false,
     "start_time": "2022-06-07T07:03:00.085587",
     "status": "completed"
    },
    "tags": []
   },
   "outputs": [
    {
     "data": {
      "text/plain": [
       "BorrowBox    3\n",
       "Audible      2\n",
       "Libby        2\n",
       "Name: platform, dtype: int64"
      ]
     },
     "execution_count": 27,
     "metadata": {},
     "output_type": "execute_result"
    }
   ],
   "source": [
    "DNF[\"platform\"].value_counts()"
   ]
  },
  {
   "cell_type": "code",
   "execution_count": 28,
   "id": "0e2c01f0",
   "metadata": {
    "execution": {
     "iopub.execute_input": "2022-06-07T07:03:00.153064Z",
     "iopub.status.busy": "2022-06-07T07:03:00.152618Z",
     "iopub.status.idle": "2022-06-07T07:03:01.319827Z",
     "shell.execute_reply": "2022-06-07T07:03:01.318799Z"
    },
    "papermill": {
     "duration": 1.189057,
     "end_time": "2022-06-07T07:03:01.322045",
     "exception": false,
     "start_time": "2022-06-07T07:03:00.132988",
     "status": "completed"
    },
    "tags": []
   },
   "outputs": [
    {
     "data": {
      "text/html": [
       "        <script type=\"text/javascript\">\n",
       "        window.PlotlyConfig = {MathJaxConfig: 'local'};\n",
       "        if (window.MathJax && window.MathJax.Hub && window.MathJax.Hub.Config) {window.MathJax.Hub.Config({SVG: {font: \"STIX-Web\"}});}\n",
       "        if (typeof require !== 'undefined') {\n",
       "        require.undef(\"plotly\");\n",
       "        requirejs.config({\n",
       "            paths: {\n",
       "                'plotly': ['https://cdn.plot.ly/plotly-2.12.1.min']\n",
       "            }\n",
       "        });\n",
       "        require(['plotly'], function(Plotly) {\n",
       "            window._Plotly = Plotly;\n",
       "        });\n",
       "        }\n",
       "        </script>\n",
       "        "
      ]
     },
     "metadata": {},
     "output_type": "display_data"
    },
    {
     "data": {
      "text/html": [
       "<div>                            <div id=\"5dbb35ce-48fe-4135-bfe7-7fb8d617758d\" class=\"plotly-graph-div\" style=\"height:525px; width:100%;\"></div>            <script type=\"text/javascript\">                require([\"plotly\"], function(Plotly) {                    window.PLOTLYENV=window.PLOTLYENV || {};                                    if (document.getElementById(\"5dbb35ce-48fe-4135-bfe7-7fb8d617758d\")) {                    Plotly.newPlot(                        \"5dbb35ce-48fe-4135-bfe7-7fb8d617758d\",                        [{\"alignmentgroup\":\"True\",\"bingroup\":\"x\",\"hovertemplate\":\"publication_year=%{x}<br>count=%{y}<extra></extra>\",\"legendgroup\":\"\",\"marker\":{\"color\":\"#636efa\",\"pattern\":{\"shape\":\"\"}},\"name\":\"\",\"nbinsx\":5,\"offsetgroup\":\"\",\"orientation\":\"v\",\"showlegend\":false,\"x\":[2007,2013,2013,2017,2017,2019,2021,2022],\"xaxis\":\"x\",\"yaxis\":\"y\",\"type\":\"histogram\"}],                        {\"template\":{\"data\":{\"histogram2dcontour\":[{\"type\":\"histogram2dcontour\",\"colorbar\":{\"outlinewidth\":0,\"ticks\":\"\"},\"colorscale\":[[0.0,\"#0d0887\"],[0.1111111111111111,\"#46039f\"],[0.2222222222222222,\"#7201a8\"],[0.3333333333333333,\"#9c179e\"],[0.4444444444444444,\"#bd3786\"],[0.5555555555555556,\"#d8576b\"],[0.6666666666666666,\"#ed7953\"],[0.7777777777777778,\"#fb9f3a\"],[0.8888888888888888,\"#fdca26\"],[1.0,\"#f0f921\"]]}],\"choropleth\":[{\"type\":\"choropleth\",\"colorbar\":{\"outlinewidth\":0,\"ticks\":\"\"}}],\"histogram2d\":[{\"type\":\"histogram2d\",\"colorbar\":{\"outlinewidth\":0,\"ticks\":\"\"},\"colorscale\":[[0.0,\"#0d0887\"],[0.1111111111111111,\"#46039f\"],[0.2222222222222222,\"#7201a8\"],[0.3333333333333333,\"#9c179e\"],[0.4444444444444444,\"#bd3786\"],[0.5555555555555556,\"#d8576b\"],[0.6666666666666666,\"#ed7953\"],[0.7777777777777778,\"#fb9f3a\"],[0.8888888888888888,\"#fdca26\"],[1.0,\"#f0f921\"]]}],\"heatmap\":[{\"type\":\"heatmap\",\"colorbar\":{\"outlinewidth\":0,\"ticks\":\"\"},\"colorscale\":[[0.0,\"#0d0887\"],[0.1111111111111111,\"#46039f\"],[0.2222222222222222,\"#7201a8\"],[0.3333333333333333,\"#9c179e\"],[0.4444444444444444,\"#bd3786\"],[0.5555555555555556,\"#d8576b\"],[0.6666666666666666,\"#ed7953\"],[0.7777777777777778,\"#fb9f3a\"],[0.8888888888888888,\"#fdca26\"],[1.0,\"#f0f921\"]]}],\"heatmapgl\":[{\"type\":\"heatmapgl\",\"colorbar\":{\"outlinewidth\":0,\"ticks\":\"\"},\"colorscale\":[[0.0,\"#0d0887\"],[0.1111111111111111,\"#46039f\"],[0.2222222222222222,\"#7201a8\"],[0.3333333333333333,\"#9c179e\"],[0.4444444444444444,\"#bd3786\"],[0.5555555555555556,\"#d8576b\"],[0.6666666666666666,\"#ed7953\"],[0.7777777777777778,\"#fb9f3a\"],[0.8888888888888888,\"#fdca26\"],[1.0,\"#f0f921\"]]}],\"contourcarpet\":[{\"type\":\"contourcarpet\",\"colorbar\":{\"outlinewidth\":0,\"ticks\":\"\"}}],\"contour\":[{\"type\":\"contour\",\"colorbar\":{\"outlinewidth\":0,\"ticks\":\"\"},\"colorscale\":[[0.0,\"#0d0887\"],[0.1111111111111111,\"#46039f\"],[0.2222222222222222,\"#7201a8\"],[0.3333333333333333,\"#9c179e\"],[0.4444444444444444,\"#bd3786\"],[0.5555555555555556,\"#d8576b\"],[0.6666666666666666,\"#ed7953\"],[0.7777777777777778,\"#fb9f3a\"],[0.8888888888888888,\"#fdca26\"],[1.0,\"#f0f921\"]]}],\"surface\":[{\"type\":\"surface\",\"colorbar\":{\"outlinewidth\":0,\"ticks\":\"\"},\"colorscale\":[[0.0,\"#0d0887\"],[0.1111111111111111,\"#46039f\"],[0.2222222222222222,\"#7201a8\"],[0.3333333333333333,\"#9c179e\"],[0.4444444444444444,\"#bd3786\"],[0.5555555555555556,\"#d8576b\"],[0.6666666666666666,\"#ed7953\"],[0.7777777777777778,\"#fb9f3a\"],[0.8888888888888888,\"#fdca26\"],[1.0,\"#f0f921\"]]}],\"mesh3d\":[{\"type\":\"mesh3d\",\"colorbar\":{\"outlinewidth\":0,\"ticks\":\"\"}}],\"scatter\":[{\"fillpattern\":{\"fillmode\":\"overlay\",\"size\":10,\"solidity\":0.2},\"type\":\"scatter\"}],\"parcoords\":[{\"type\":\"parcoords\",\"line\":{\"colorbar\":{\"outlinewidth\":0,\"ticks\":\"\"}}}],\"scatterpolargl\":[{\"type\":\"scatterpolargl\",\"marker\":{\"colorbar\":{\"outlinewidth\":0,\"ticks\":\"\"}}}],\"bar\":[{\"error_x\":{\"color\":\"#2a3f5f\"},\"error_y\":{\"color\":\"#2a3f5f\"},\"marker\":{\"line\":{\"color\":\"#E5ECF6\",\"width\":0.5},\"pattern\":{\"fillmode\":\"overlay\",\"size\":10,\"solidity\":0.2}},\"type\":\"bar\"}],\"scattergeo\":[{\"type\":\"scattergeo\",\"marker\":{\"colorbar\":{\"outlinewidth\":0,\"ticks\":\"\"}}}],\"scatterpolar\":[{\"type\":\"scatterpolar\",\"marker\":{\"colorbar\":{\"outlinewidth\":0,\"ticks\":\"\"}}}],\"histogram\":[{\"marker\":{\"pattern\":{\"fillmode\":\"overlay\",\"size\":10,\"solidity\":0.2}},\"type\":\"histogram\"}],\"scattergl\":[{\"type\":\"scattergl\",\"marker\":{\"colorbar\":{\"outlinewidth\":0,\"ticks\":\"\"}}}],\"scatter3d\":[{\"type\":\"scatter3d\",\"line\":{\"colorbar\":{\"outlinewidth\":0,\"ticks\":\"\"}},\"marker\":{\"colorbar\":{\"outlinewidth\":0,\"ticks\":\"\"}}}],\"scattermapbox\":[{\"type\":\"scattermapbox\",\"marker\":{\"colorbar\":{\"outlinewidth\":0,\"ticks\":\"\"}}}],\"scatterternary\":[{\"type\":\"scatterternary\",\"marker\":{\"colorbar\":{\"outlinewidth\":0,\"ticks\":\"\"}}}],\"scattercarpet\":[{\"type\":\"scattercarpet\",\"marker\":{\"colorbar\":{\"outlinewidth\":0,\"ticks\":\"\"}}}],\"carpet\":[{\"aaxis\":{\"endlinecolor\":\"#2a3f5f\",\"gridcolor\":\"white\",\"linecolor\":\"white\",\"minorgridcolor\":\"white\",\"startlinecolor\":\"#2a3f5f\"},\"baxis\":{\"endlinecolor\":\"#2a3f5f\",\"gridcolor\":\"white\",\"linecolor\":\"white\",\"minorgridcolor\":\"white\",\"startlinecolor\":\"#2a3f5f\"},\"type\":\"carpet\"}],\"table\":[{\"cells\":{\"fill\":{\"color\":\"#EBF0F8\"},\"line\":{\"color\":\"white\"}},\"header\":{\"fill\":{\"color\":\"#C8D4E3\"},\"line\":{\"color\":\"white\"}},\"type\":\"table\"}],\"barpolar\":[{\"marker\":{\"line\":{\"color\":\"#E5ECF6\",\"width\":0.5},\"pattern\":{\"fillmode\":\"overlay\",\"size\":10,\"solidity\":0.2}},\"type\":\"barpolar\"}],\"pie\":[{\"automargin\":true,\"type\":\"pie\"}]},\"layout\":{\"autotypenumbers\":\"strict\",\"colorway\":[\"#636efa\",\"#EF553B\",\"#00cc96\",\"#ab63fa\",\"#FFA15A\",\"#19d3f3\",\"#FF6692\",\"#B6E880\",\"#FF97FF\",\"#FECB52\"],\"font\":{\"color\":\"#2a3f5f\"},\"hovermode\":\"closest\",\"hoverlabel\":{\"align\":\"left\"},\"paper_bgcolor\":\"white\",\"plot_bgcolor\":\"#E5ECF6\",\"polar\":{\"bgcolor\":\"#E5ECF6\",\"angularaxis\":{\"gridcolor\":\"white\",\"linecolor\":\"white\",\"ticks\":\"\"},\"radialaxis\":{\"gridcolor\":\"white\",\"linecolor\":\"white\",\"ticks\":\"\"}},\"ternary\":{\"bgcolor\":\"#E5ECF6\",\"aaxis\":{\"gridcolor\":\"white\",\"linecolor\":\"white\",\"ticks\":\"\"},\"baxis\":{\"gridcolor\":\"white\",\"linecolor\":\"white\",\"ticks\":\"\"},\"caxis\":{\"gridcolor\":\"white\",\"linecolor\":\"white\",\"ticks\":\"\"}},\"coloraxis\":{\"colorbar\":{\"outlinewidth\":0,\"ticks\":\"\"}},\"colorscale\":{\"sequential\":[[0.0,\"#0d0887\"],[0.1111111111111111,\"#46039f\"],[0.2222222222222222,\"#7201a8\"],[0.3333333333333333,\"#9c179e\"],[0.4444444444444444,\"#bd3786\"],[0.5555555555555556,\"#d8576b\"],[0.6666666666666666,\"#ed7953\"],[0.7777777777777778,\"#fb9f3a\"],[0.8888888888888888,\"#fdca26\"],[1.0,\"#f0f921\"]],\"sequentialminus\":[[0.0,\"#0d0887\"],[0.1111111111111111,\"#46039f\"],[0.2222222222222222,\"#7201a8\"],[0.3333333333333333,\"#9c179e\"],[0.4444444444444444,\"#bd3786\"],[0.5555555555555556,\"#d8576b\"],[0.6666666666666666,\"#ed7953\"],[0.7777777777777778,\"#fb9f3a\"],[0.8888888888888888,\"#fdca26\"],[1.0,\"#f0f921\"]],\"diverging\":[[0,\"#8e0152\"],[0.1,\"#c51b7d\"],[0.2,\"#de77ae\"],[0.3,\"#f1b6da\"],[0.4,\"#fde0ef\"],[0.5,\"#f7f7f7\"],[0.6,\"#e6f5d0\"],[0.7,\"#b8e186\"],[0.8,\"#7fbc41\"],[0.9,\"#4d9221\"],[1,\"#276419\"]]},\"xaxis\":{\"gridcolor\":\"white\",\"linecolor\":\"white\",\"ticks\":\"\",\"title\":{\"standoff\":15},\"zerolinecolor\":\"white\",\"automargin\":true,\"zerolinewidth\":2},\"yaxis\":{\"gridcolor\":\"white\",\"linecolor\":\"white\",\"ticks\":\"\",\"title\":{\"standoff\":15},\"zerolinecolor\":\"white\",\"automargin\":true,\"zerolinewidth\":2},\"scene\":{\"xaxis\":{\"backgroundcolor\":\"#E5ECF6\",\"gridcolor\":\"white\",\"linecolor\":\"white\",\"showbackground\":true,\"ticks\":\"\",\"zerolinecolor\":\"white\",\"gridwidth\":2},\"yaxis\":{\"backgroundcolor\":\"#E5ECF6\",\"gridcolor\":\"white\",\"linecolor\":\"white\",\"showbackground\":true,\"ticks\":\"\",\"zerolinecolor\":\"white\",\"gridwidth\":2},\"zaxis\":{\"backgroundcolor\":\"#E5ECF6\",\"gridcolor\":\"white\",\"linecolor\":\"white\",\"showbackground\":true,\"ticks\":\"\",\"zerolinecolor\":\"white\",\"gridwidth\":2}},\"shapedefaults\":{\"line\":{\"color\":\"#2a3f5f\"}},\"annotationdefaults\":{\"arrowcolor\":\"#2a3f5f\",\"arrowhead\":0,\"arrowwidth\":1},\"geo\":{\"bgcolor\":\"white\",\"landcolor\":\"#E5ECF6\",\"subunitcolor\":\"white\",\"showland\":true,\"showlakes\":true,\"lakecolor\":\"white\"},\"title\":{\"x\":0.05},\"mapbox\":{\"style\":\"light\"}}},\"xaxis\":{\"anchor\":\"y\",\"domain\":[0.0,1.0],\"title\":{\"text\":\"publication_year\"}},\"yaxis\":{\"anchor\":\"x\",\"domain\":[0.0,1.0],\"title\":{\"text\":\"count\"}},\"legend\":{\"tracegroupgap\":0},\"margin\":{\"t\":60},\"barmode\":\"relative\"},                        {\"responsive\": true}                    ).then(function(){\n",
       "                            \n",
       "var gd = document.getElementById('5dbb35ce-48fe-4135-bfe7-7fb8d617758d');\n",
       "var x = new MutationObserver(function (mutations, observer) {{\n",
       "        var display = window.getComputedStyle(gd).display;\n",
       "        if (!display || display === 'none') {{\n",
       "            console.log([gd, 'removed!']);\n",
       "            Plotly.purge(gd);\n",
       "            observer.disconnect();\n",
       "        }}\n",
       "}});\n",
       "\n",
       "// Listen for the removal of the full notebook cells\n",
       "var notebookContainer = gd.closest('#notebook-container');\n",
       "if (notebookContainer) {{\n",
       "    x.observe(notebookContainer, {childList: true});\n",
       "}}\n",
       "\n",
       "// Listen for the clearing of the current output cell\n",
       "var outputEl = gd.closest('.output');\n",
       "if (outputEl) {{\n",
       "    x.observe(outputEl, {childList: true});\n",
       "}}\n",
       "\n",
       "                        })                };                });            </script>        </div>"
      ]
     },
     "metadata": {},
     "output_type": "display_data"
    }
   ],
   "source": [
    "px.histogram(DNF, x = \"publication_year\", nbins=5)"
   ]
  },
  {
   "cell_type": "code",
   "execution_count": 29,
   "id": "192794c5",
   "metadata": {
    "execution": {
     "iopub.execute_input": "2022-06-07T07:03:01.368272Z",
     "iopub.status.busy": "2022-06-07T07:03:01.367491Z",
     "iopub.status.idle": "2022-06-07T07:03:01.420702Z",
     "shell.execute_reply": "2022-06-07T07:03:01.419995Z"
    },
    "papermill": {
     "duration": 0.080936,
     "end_time": "2022-06-07T07:03:01.422618",
     "exception": false,
     "start_time": "2022-06-07T07:03:01.341682",
     "status": "completed"
    },
    "tags": []
   },
   "outputs": [
    {
     "data": {
      "text/html": [
       "<div>                            <div id=\"a0e82b92-bad0-4024-8118-ba4419519f29\" class=\"plotly-graph-div\" style=\"height:525px; width:100%;\"></div>            <script type=\"text/javascript\">                require([\"plotly\"], function(Plotly) {                    window.PLOTLYENV=window.PLOTLYENV || {};                                    if (document.getElementById(\"a0e82b92-bad0-4024-8118-ba4419519f29\")) {                    Plotly.newPlot(                        \"a0e82b92-bad0-4024-8118-ba4419519f29\",                        [{\"alignmentgroup\":\"True\",\"bingroup\":\"x\",\"hovertemplate\":\"publication_month=%{x}<br>count=%{y}<extra></extra>\",\"legendgroup\":\"\",\"marker\":{\"color\":\"#636efa\",\"pattern\":{\"shape\":\"\"}},\"name\":\"\",\"nbinsx\":4,\"offsetgroup\":\"\",\"orientation\":\"v\",\"showlegend\":false,\"x\":[8,5,12,9,10,1,10,5],\"xaxis\":\"x\",\"yaxis\":\"y\",\"type\":\"histogram\"}],                        {\"template\":{\"data\":{\"histogram2dcontour\":[{\"type\":\"histogram2dcontour\",\"colorbar\":{\"outlinewidth\":0,\"ticks\":\"\"},\"colorscale\":[[0.0,\"#0d0887\"],[0.1111111111111111,\"#46039f\"],[0.2222222222222222,\"#7201a8\"],[0.3333333333333333,\"#9c179e\"],[0.4444444444444444,\"#bd3786\"],[0.5555555555555556,\"#d8576b\"],[0.6666666666666666,\"#ed7953\"],[0.7777777777777778,\"#fb9f3a\"],[0.8888888888888888,\"#fdca26\"],[1.0,\"#f0f921\"]]}],\"choropleth\":[{\"type\":\"choropleth\",\"colorbar\":{\"outlinewidth\":0,\"ticks\":\"\"}}],\"histogram2d\":[{\"type\":\"histogram2d\",\"colorbar\":{\"outlinewidth\":0,\"ticks\":\"\"},\"colorscale\":[[0.0,\"#0d0887\"],[0.1111111111111111,\"#46039f\"],[0.2222222222222222,\"#7201a8\"],[0.3333333333333333,\"#9c179e\"],[0.4444444444444444,\"#bd3786\"],[0.5555555555555556,\"#d8576b\"],[0.6666666666666666,\"#ed7953\"],[0.7777777777777778,\"#fb9f3a\"],[0.8888888888888888,\"#fdca26\"],[1.0,\"#f0f921\"]]}],\"heatmap\":[{\"type\":\"heatmap\",\"colorbar\":{\"outlinewidth\":0,\"ticks\":\"\"},\"colorscale\":[[0.0,\"#0d0887\"],[0.1111111111111111,\"#46039f\"],[0.2222222222222222,\"#7201a8\"],[0.3333333333333333,\"#9c179e\"],[0.4444444444444444,\"#bd3786\"],[0.5555555555555556,\"#d8576b\"],[0.6666666666666666,\"#ed7953\"],[0.7777777777777778,\"#fb9f3a\"],[0.8888888888888888,\"#fdca26\"],[1.0,\"#f0f921\"]]}],\"heatmapgl\":[{\"type\":\"heatmapgl\",\"colorbar\":{\"outlinewidth\":0,\"ticks\":\"\"},\"colorscale\":[[0.0,\"#0d0887\"],[0.1111111111111111,\"#46039f\"],[0.2222222222222222,\"#7201a8\"],[0.3333333333333333,\"#9c179e\"],[0.4444444444444444,\"#bd3786\"],[0.5555555555555556,\"#d8576b\"],[0.6666666666666666,\"#ed7953\"],[0.7777777777777778,\"#fb9f3a\"],[0.8888888888888888,\"#fdca26\"],[1.0,\"#f0f921\"]]}],\"contourcarpet\":[{\"type\":\"contourcarpet\",\"colorbar\":{\"outlinewidth\":0,\"ticks\":\"\"}}],\"contour\":[{\"type\":\"contour\",\"colorbar\":{\"outlinewidth\":0,\"ticks\":\"\"},\"colorscale\":[[0.0,\"#0d0887\"],[0.1111111111111111,\"#46039f\"],[0.2222222222222222,\"#7201a8\"],[0.3333333333333333,\"#9c179e\"],[0.4444444444444444,\"#bd3786\"],[0.5555555555555556,\"#d8576b\"],[0.6666666666666666,\"#ed7953\"],[0.7777777777777778,\"#fb9f3a\"],[0.8888888888888888,\"#fdca26\"],[1.0,\"#f0f921\"]]}],\"surface\":[{\"type\":\"surface\",\"colorbar\":{\"outlinewidth\":0,\"ticks\":\"\"},\"colorscale\":[[0.0,\"#0d0887\"],[0.1111111111111111,\"#46039f\"],[0.2222222222222222,\"#7201a8\"],[0.3333333333333333,\"#9c179e\"],[0.4444444444444444,\"#bd3786\"],[0.5555555555555556,\"#d8576b\"],[0.6666666666666666,\"#ed7953\"],[0.7777777777777778,\"#fb9f3a\"],[0.8888888888888888,\"#fdca26\"],[1.0,\"#f0f921\"]]}],\"mesh3d\":[{\"type\":\"mesh3d\",\"colorbar\":{\"outlinewidth\":0,\"ticks\":\"\"}}],\"scatter\":[{\"fillpattern\":{\"fillmode\":\"overlay\",\"size\":10,\"solidity\":0.2},\"type\":\"scatter\"}],\"parcoords\":[{\"type\":\"parcoords\",\"line\":{\"colorbar\":{\"outlinewidth\":0,\"ticks\":\"\"}}}],\"scatterpolargl\":[{\"type\":\"scatterpolargl\",\"marker\":{\"colorbar\":{\"outlinewidth\":0,\"ticks\":\"\"}}}],\"bar\":[{\"error_x\":{\"color\":\"#2a3f5f\"},\"error_y\":{\"color\":\"#2a3f5f\"},\"marker\":{\"line\":{\"color\":\"#E5ECF6\",\"width\":0.5},\"pattern\":{\"fillmode\":\"overlay\",\"size\":10,\"solidity\":0.2}},\"type\":\"bar\"}],\"scattergeo\":[{\"type\":\"scattergeo\",\"marker\":{\"colorbar\":{\"outlinewidth\":0,\"ticks\":\"\"}}}],\"scatterpolar\":[{\"type\":\"scatterpolar\",\"marker\":{\"colorbar\":{\"outlinewidth\":0,\"ticks\":\"\"}}}],\"histogram\":[{\"marker\":{\"pattern\":{\"fillmode\":\"overlay\",\"size\":10,\"solidity\":0.2}},\"type\":\"histogram\"}],\"scattergl\":[{\"type\":\"scattergl\",\"marker\":{\"colorbar\":{\"outlinewidth\":0,\"ticks\":\"\"}}}],\"scatter3d\":[{\"type\":\"scatter3d\",\"line\":{\"colorbar\":{\"outlinewidth\":0,\"ticks\":\"\"}},\"marker\":{\"colorbar\":{\"outlinewidth\":0,\"ticks\":\"\"}}}],\"scattermapbox\":[{\"type\":\"scattermapbox\",\"marker\":{\"colorbar\":{\"outlinewidth\":0,\"ticks\":\"\"}}}],\"scatterternary\":[{\"type\":\"scatterternary\",\"marker\":{\"colorbar\":{\"outlinewidth\":0,\"ticks\":\"\"}}}],\"scattercarpet\":[{\"type\":\"scattercarpet\",\"marker\":{\"colorbar\":{\"outlinewidth\":0,\"ticks\":\"\"}}}],\"carpet\":[{\"aaxis\":{\"endlinecolor\":\"#2a3f5f\",\"gridcolor\":\"white\",\"linecolor\":\"white\",\"minorgridcolor\":\"white\",\"startlinecolor\":\"#2a3f5f\"},\"baxis\":{\"endlinecolor\":\"#2a3f5f\",\"gridcolor\":\"white\",\"linecolor\":\"white\",\"minorgridcolor\":\"white\",\"startlinecolor\":\"#2a3f5f\"},\"type\":\"carpet\"}],\"table\":[{\"cells\":{\"fill\":{\"color\":\"#EBF0F8\"},\"line\":{\"color\":\"white\"}},\"header\":{\"fill\":{\"color\":\"#C8D4E3\"},\"line\":{\"color\":\"white\"}},\"type\":\"table\"}],\"barpolar\":[{\"marker\":{\"line\":{\"color\":\"#E5ECF6\",\"width\":0.5},\"pattern\":{\"fillmode\":\"overlay\",\"size\":10,\"solidity\":0.2}},\"type\":\"barpolar\"}],\"pie\":[{\"automargin\":true,\"type\":\"pie\"}]},\"layout\":{\"autotypenumbers\":\"strict\",\"colorway\":[\"#636efa\",\"#EF553B\",\"#00cc96\",\"#ab63fa\",\"#FFA15A\",\"#19d3f3\",\"#FF6692\",\"#B6E880\",\"#FF97FF\",\"#FECB52\"],\"font\":{\"color\":\"#2a3f5f\"},\"hovermode\":\"closest\",\"hoverlabel\":{\"align\":\"left\"},\"paper_bgcolor\":\"white\",\"plot_bgcolor\":\"#E5ECF6\",\"polar\":{\"bgcolor\":\"#E5ECF6\",\"angularaxis\":{\"gridcolor\":\"white\",\"linecolor\":\"white\",\"ticks\":\"\"},\"radialaxis\":{\"gridcolor\":\"white\",\"linecolor\":\"white\",\"ticks\":\"\"}},\"ternary\":{\"bgcolor\":\"#E5ECF6\",\"aaxis\":{\"gridcolor\":\"white\",\"linecolor\":\"white\",\"ticks\":\"\"},\"baxis\":{\"gridcolor\":\"white\",\"linecolor\":\"white\",\"ticks\":\"\"},\"caxis\":{\"gridcolor\":\"white\",\"linecolor\":\"white\",\"ticks\":\"\"}},\"coloraxis\":{\"colorbar\":{\"outlinewidth\":0,\"ticks\":\"\"}},\"colorscale\":{\"sequential\":[[0.0,\"#0d0887\"],[0.1111111111111111,\"#46039f\"],[0.2222222222222222,\"#7201a8\"],[0.3333333333333333,\"#9c179e\"],[0.4444444444444444,\"#bd3786\"],[0.5555555555555556,\"#d8576b\"],[0.6666666666666666,\"#ed7953\"],[0.7777777777777778,\"#fb9f3a\"],[0.8888888888888888,\"#fdca26\"],[1.0,\"#f0f921\"]],\"sequentialminus\":[[0.0,\"#0d0887\"],[0.1111111111111111,\"#46039f\"],[0.2222222222222222,\"#7201a8\"],[0.3333333333333333,\"#9c179e\"],[0.4444444444444444,\"#bd3786\"],[0.5555555555555556,\"#d8576b\"],[0.6666666666666666,\"#ed7953\"],[0.7777777777777778,\"#fb9f3a\"],[0.8888888888888888,\"#fdca26\"],[1.0,\"#f0f921\"]],\"diverging\":[[0,\"#8e0152\"],[0.1,\"#c51b7d\"],[0.2,\"#de77ae\"],[0.3,\"#f1b6da\"],[0.4,\"#fde0ef\"],[0.5,\"#f7f7f7\"],[0.6,\"#e6f5d0\"],[0.7,\"#b8e186\"],[0.8,\"#7fbc41\"],[0.9,\"#4d9221\"],[1,\"#276419\"]]},\"xaxis\":{\"gridcolor\":\"white\",\"linecolor\":\"white\",\"ticks\":\"\",\"title\":{\"standoff\":15},\"zerolinecolor\":\"white\",\"automargin\":true,\"zerolinewidth\":2},\"yaxis\":{\"gridcolor\":\"white\",\"linecolor\":\"white\",\"ticks\":\"\",\"title\":{\"standoff\":15},\"zerolinecolor\":\"white\",\"automargin\":true,\"zerolinewidth\":2},\"scene\":{\"xaxis\":{\"backgroundcolor\":\"#E5ECF6\",\"gridcolor\":\"white\",\"linecolor\":\"white\",\"showbackground\":true,\"ticks\":\"\",\"zerolinecolor\":\"white\",\"gridwidth\":2},\"yaxis\":{\"backgroundcolor\":\"#E5ECF6\",\"gridcolor\":\"white\",\"linecolor\":\"white\",\"showbackground\":true,\"ticks\":\"\",\"zerolinecolor\":\"white\",\"gridwidth\":2},\"zaxis\":{\"backgroundcolor\":\"#E5ECF6\",\"gridcolor\":\"white\",\"linecolor\":\"white\",\"showbackground\":true,\"ticks\":\"\",\"zerolinecolor\":\"white\",\"gridwidth\":2}},\"shapedefaults\":{\"line\":{\"color\":\"#2a3f5f\"}},\"annotationdefaults\":{\"arrowcolor\":\"#2a3f5f\",\"arrowhead\":0,\"arrowwidth\":1},\"geo\":{\"bgcolor\":\"white\",\"landcolor\":\"#E5ECF6\",\"subunitcolor\":\"white\",\"showland\":true,\"showlakes\":true,\"lakecolor\":\"white\"},\"title\":{\"x\":0.05},\"mapbox\":{\"style\":\"light\"}}},\"xaxis\":{\"anchor\":\"y\",\"domain\":[0.0,1.0],\"title\":{\"text\":\"publication_month\"},\"range\":[1,12]},\"yaxis\":{\"anchor\":\"x\",\"domain\":[0.0,1.0],\"title\":{\"text\":\"count\"}},\"legend\":{\"tracegroupgap\":0},\"margin\":{\"t\":60},\"barmode\":\"relative\"},                        {\"responsive\": true}                    ).then(function(){\n",
       "                            \n",
       "var gd = document.getElementById('a0e82b92-bad0-4024-8118-ba4419519f29');\n",
       "var x = new MutationObserver(function (mutations, observer) {{\n",
       "        var display = window.getComputedStyle(gd).display;\n",
       "        if (!display || display === 'none') {{\n",
       "            console.log([gd, 'removed!']);\n",
       "            Plotly.purge(gd);\n",
       "            observer.disconnect();\n",
       "        }}\n",
       "}});\n",
       "\n",
       "// Listen for the removal of the full notebook cells\n",
       "var notebookContainer = gd.closest('#notebook-container');\n",
       "if (notebookContainer) {{\n",
       "    x.observe(notebookContainer, {childList: true});\n",
       "}}\n",
       "\n",
       "// Listen for the clearing of the current output cell\n",
       "var outputEl = gd.closest('.output');\n",
       "if (outputEl) {{\n",
       "    x.observe(outputEl, {childList: true});\n",
       "}}\n",
       "\n",
       "                        })                };                });            </script>        </div>"
      ]
     },
     "metadata": {},
     "output_type": "display_data"
    }
   ],
   "source": [
    "fig = px.histogram(DNF, x = \"publication_month\", nbins=4)\n",
    "fig.update_layout(xaxis_range = [1,12])"
   ]
  },
  {
   "cell_type": "code",
   "execution_count": 30,
   "id": "6d0ab123",
   "metadata": {
    "execution": {
     "iopub.execute_input": "2022-06-07T07:03:01.463029Z",
     "iopub.status.busy": "2022-06-07T07:03:01.462360Z",
     "iopub.status.idle": "2022-06-07T07:03:01.468868Z",
     "shell.execute_reply": "2022-06-07T07:03:01.468007Z"
    },
    "papermill": {
     "duration": 0.028904,
     "end_time": "2022-06-07T07:03:01.470695",
     "exception": false,
     "start_time": "2022-06-07T07:03:01.441791",
     "status": "completed"
    },
    "tags": []
   },
   "outputs": [
    {
     "data": {
      "text/plain": [
       "5     2\n",
       "10    2\n",
       "8     1\n",
       "12    1\n",
       "9     1\n",
       "1     1\n",
       "Name: publication_month, dtype: int64"
      ]
     },
     "execution_count": 30,
     "metadata": {},
     "output_type": "execute_result"
    }
   ],
   "source": [
    "DNF[\"publication_month\"].value_counts()"
   ]
  },
  {
   "cell_type": "code",
   "execution_count": 31,
   "id": "60cff8bc",
   "metadata": {
    "execution": {
     "iopub.execute_input": "2022-06-07T07:03:01.510566Z",
     "iopub.status.busy": "2022-06-07T07:03:01.509873Z",
     "iopub.status.idle": "2022-06-07T07:03:01.560163Z",
     "shell.execute_reply": "2022-06-07T07:03:01.559241Z"
    },
    "papermill": {
     "duration": 0.072749,
     "end_time": "2022-06-07T07:03:01.562436",
     "exception": false,
     "start_time": "2022-06-07T07:03:01.489687",
     "status": "completed"
    },
    "tags": []
   },
   "outputs": [
    {
     "data": {
      "text/html": [
       "<div>                            <div id=\"396fc7e1-e032-47d9-a806-c554d134f8ca\" class=\"plotly-graph-div\" style=\"height:525px; width:100%;\"></div>            <script type=\"text/javascript\">                require([\"plotly\"], function(Plotly) {                    window.PLOTLYENV=window.PLOTLYENV || {};                                    if (document.getElementById(\"396fc7e1-e032-47d9-a806-c554d134f8ca\")) {                    Plotly.newPlot(                        \"396fc7e1-e032-47d9-a806-c554d134f8ca\",                        [{\"alignmentgroup\":\"True\",\"bingroup\":\"x\",\"hovertemplate\":\"genre=%{x}<br>count=%{y}<extra></extra>\",\"legendgroup\":\"\",\"marker\":{\"color\":\"#636efa\",\"pattern\":{\"shape\":\"\"}},\"name\":\"\",\"offsetgroup\":\"\",\"orientation\":\"v\",\"showlegend\":false,\"x\":[\"Self-Esteem\",\"Literary Fiction\",\"Self Help\",\"Mystery\",\"Literary Fiction\",\"Self Help\",\"Self Help\",\"Data\"],\"xaxis\":\"x\",\"yaxis\":\"y\",\"type\":\"histogram\"}],                        {\"template\":{\"data\":{\"histogram2dcontour\":[{\"type\":\"histogram2dcontour\",\"colorbar\":{\"outlinewidth\":0,\"ticks\":\"\"},\"colorscale\":[[0.0,\"#0d0887\"],[0.1111111111111111,\"#46039f\"],[0.2222222222222222,\"#7201a8\"],[0.3333333333333333,\"#9c179e\"],[0.4444444444444444,\"#bd3786\"],[0.5555555555555556,\"#d8576b\"],[0.6666666666666666,\"#ed7953\"],[0.7777777777777778,\"#fb9f3a\"],[0.8888888888888888,\"#fdca26\"],[1.0,\"#f0f921\"]]}],\"choropleth\":[{\"type\":\"choropleth\",\"colorbar\":{\"outlinewidth\":0,\"ticks\":\"\"}}],\"histogram2d\":[{\"type\":\"histogram2d\",\"colorbar\":{\"outlinewidth\":0,\"ticks\":\"\"},\"colorscale\":[[0.0,\"#0d0887\"],[0.1111111111111111,\"#46039f\"],[0.2222222222222222,\"#7201a8\"],[0.3333333333333333,\"#9c179e\"],[0.4444444444444444,\"#bd3786\"],[0.5555555555555556,\"#d8576b\"],[0.6666666666666666,\"#ed7953\"],[0.7777777777777778,\"#fb9f3a\"],[0.8888888888888888,\"#fdca26\"],[1.0,\"#f0f921\"]]}],\"heatmap\":[{\"type\":\"heatmap\",\"colorbar\":{\"outlinewidth\":0,\"ticks\":\"\"},\"colorscale\":[[0.0,\"#0d0887\"],[0.1111111111111111,\"#46039f\"],[0.2222222222222222,\"#7201a8\"],[0.3333333333333333,\"#9c179e\"],[0.4444444444444444,\"#bd3786\"],[0.5555555555555556,\"#d8576b\"],[0.6666666666666666,\"#ed7953\"],[0.7777777777777778,\"#fb9f3a\"],[0.8888888888888888,\"#fdca26\"],[1.0,\"#f0f921\"]]}],\"heatmapgl\":[{\"type\":\"heatmapgl\",\"colorbar\":{\"outlinewidth\":0,\"ticks\":\"\"},\"colorscale\":[[0.0,\"#0d0887\"],[0.1111111111111111,\"#46039f\"],[0.2222222222222222,\"#7201a8\"],[0.3333333333333333,\"#9c179e\"],[0.4444444444444444,\"#bd3786\"],[0.5555555555555556,\"#d8576b\"],[0.6666666666666666,\"#ed7953\"],[0.7777777777777778,\"#fb9f3a\"],[0.8888888888888888,\"#fdca26\"],[1.0,\"#f0f921\"]]}],\"contourcarpet\":[{\"type\":\"contourcarpet\",\"colorbar\":{\"outlinewidth\":0,\"ticks\":\"\"}}],\"contour\":[{\"type\":\"contour\",\"colorbar\":{\"outlinewidth\":0,\"ticks\":\"\"},\"colorscale\":[[0.0,\"#0d0887\"],[0.1111111111111111,\"#46039f\"],[0.2222222222222222,\"#7201a8\"],[0.3333333333333333,\"#9c179e\"],[0.4444444444444444,\"#bd3786\"],[0.5555555555555556,\"#d8576b\"],[0.6666666666666666,\"#ed7953\"],[0.7777777777777778,\"#fb9f3a\"],[0.8888888888888888,\"#fdca26\"],[1.0,\"#f0f921\"]]}],\"surface\":[{\"type\":\"surface\",\"colorbar\":{\"outlinewidth\":0,\"ticks\":\"\"},\"colorscale\":[[0.0,\"#0d0887\"],[0.1111111111111111,\"#46039f\"],[0.2222222222222222,\"#7201a8\"],[0.3333333333333333,\"#9c179e\"],[0.4444444444444444,\"#bd3786\"],[0.5555555555555556,\"#d8576b\"],[0.6666666666666666,\"#ed7953\"],[0.7777777777777778,\"#fb9f3a\"],[0.8888888888888888,\"#fdca26\"],[1.0,\"#f0f921\"]]}],\"mesh3d\":[{\"type\":\"mesh3d\",\"colorbar\":{\"outlinewidth\":0,\"ticks\":\"\"}}],\"scatter\":[{\"fillpattern\":{\"fillmode\":\"overlay\",\"size\":10,\"solidity\":0.2},\"type\":\"scatter\"}],\"parcoords\":[{\"type\":\"parcoords\",\"line\":{\"colorbar\":{\"outlinewidth\":0,\"ticks\":\"\"}}}],\"scatterpolargl\":[{\"type\":\"scatterpolargl\",\"marker\":{\"colorbar\":{\"outlinewidth\":0,\"ticks\":\"\"}}}],\"bar\":[{\"error_x\":{\"color\":\"#2a3f5f\"},\"error_y\":{\"color\":\"#2a3f5f\"},\"marker\":{\"line\":{\"color\":\"#E5ECF6\",\"width\":0.5},\"pattern\":{\"fillmode\":\"overlay\",\"size\":10,\"solidity\":0.2}},\"type\":\"bar\"}],\"scattergeo\":[{\"type\":\"scattergeo\",\"marker\":{\"colorbar\":{\"outlinewidth\":0,\"ticks\":\"\"}}}],\"scatterpolar\":[{\"type\":\"scatterpolar\",\"marker\":{\"colorbar\":{\"outlinewidth\":0,\"ticks\":\"\"}}}],\"histogram\":[{\"marker\":{\"pattern\":{\"fillmode\":\"overlay\",\"size\":10,\"solidity\":0.2}},\"type\":\"histogram\"}],\"scattergl\":[{\"type\":\"scattergl\",\"marker\":{\"colorbar\":{\"outlinewidth\":0,\"ticks\":\"\"}}}],\"scatter3d\":[{\"type\":\"scatter3d\",\"line\":{\"colorbar\":{\"outlinewidth\":0,\"ticks\":\"\"}},\"marker\":{\"colorbar\":{\"outlinewidth\":0,\"ticks\":\"\"}}}],\"scattermapbox\":[{\"type\":\"scattermapbox\",\"marker\":{\"colorbar\":{\"outlinewidth\":0,\"ticks\":\"\"}}}],\"scatterternary\":[{\"type\":\"scatterternary\",\"marker\":{\"colorbar\":{\"outlinewidth\":0,\"ticks\":\"\"}}}],\"scattercarpet\":[{\"type\":\"scattercarpet\",\"marker\":{\"colorbar\":{\"outlinewidth\":0,\"ticks\":\"\"}}}],\"carpet\":[{\"aaxis\":{\"endlinecolor\":\"#2a3f5f\",\"gridcolor\":\"white\",\"linecolor\":\"white\",\"minorgridcolor\":\"white\",\"startlinecolor\":\"#2a3f5f\"},\"baxis\":{\"endlinecolor\":\"#2a3f5f\",\"gridcolor\":\"white\",\"linecolor\":\"white\",\"minorgridcolor\":\"white\",\"startlinecolor\":\"#2a3f5f\"},\"type\":\"carpet\"}],\"table\":[{\"cells\":{\"fill\":{\"color\":\"#EBF0F8\"},\"line\":{\"color\":\"white\"}},\"header\":{\"fill\":{\"color\":\"#C8D4E3\"},\"line\":{\"color\":\"white\"}},\"type\":\"table\"}],\"barpolar\":[{\"marker\":{\"line\":{\"color\":\"#E5ECF6\",\"width\":0.5},\"pattern\":{\"fillmode\":\"overlay\",\"size\":10,\"solidity\":0.2}},\"type\":\"barpolar\"}],\"pie\":[{\"automargin\":true,\"type\":\"pie\"}]},\"layout\":{\"autotypenumbers\":\"strict\",\"colorway\":[\"#636efa\",\"#EF553B\",\"#00cc96\",\"#ab63fa\",\"#FFA15A\",\"#19d3f3\",\"#FF6692\",\"#B6E880\",\"#FF97FF\",\"#FECB52\"],\"font\":{\"color\":\"#2a3f5f\"},\"hovermode\":\"closest\",\"hoverlabel\":{\"align\":\"left\"},\"paper_bgcolor\":\"white\",\"plot_bgcolor\":\"#E5ECF6\",\"polar\":{\"bgcolor\":\"#E5ECF6\",\"angularaxis\":{\"gridcolor\":\"white\",\"linecolor\":\"white\",\"ticks\":\"\"},\"radialaxis\":{\"gridcolor\":\"white\",\"linecolor\":\"white\",\"ticks\":\"\"}},\"ternary\":{\"bgcolor\":\"#E5ECF6\",\"aaxis\":{\"gridcolor\":\"white\",\"linecolor\":\"white\",\"ticks\":\"\"},\"baxis\":{\"gridcolor\":\"white\",\"linecolor\":\"white\",\"ticks\":\"\"},\"caxis\":{\"gridcolor\":\"white\",\"linecolor\":\"white\",\"ticks\":\"\"}},\"coloraxis\":{\"colorbar\":{\"outlinewidth\":0,\"ticks\":\"\"}},\"colorscale\":{\"sequential\":[[0.0,\"#0d0887\"],[0.1111111111111111,\"#46039f\"],[0.2222222222222222,\"#7201a8\"],[0.3333333333333333,\"#9c179e\"],[0.4444444444444444,\"#bd3786\"],[0.5555555555555556,\"#d8576b\"],[0.6666666666666666,\"#ed7953\"],[0.7777777777777778,\"#fb9f3a\"],[0.8888888888888888,\"#fdca26\"],[1.0,\"#f0f921\"]],\"sequentialminus\":[[0.0,\"#0d0887\"],[0.1111111111111111,\"#46039f\"],[0.2222222222222222,\"#7201a8\"],[0.3333333333333333,\"#9c179e\"],[0.4444444444444444,\"#bd3786\"],[0.5555555555555556,\"#d8576b\"],[0.6666666666666666,\"#ed7953\"],[0.7777777777777778,\"#fb9f3a\"],[0.8888888888888888,\"#fdca26\"],[1.0,\"#f0f921\"]],\"diverging\":[[0,\"#8e0152\"],[0.1,\"#c51b7d\"],[0.2,\"#de77ae\"],[0.3,\"#f1b6da\"],[0.4,\"#fde0ef\"],[0.5,\"#f7f7f7\"],[0.6,\"#e6f5d0\"],[0.7,\"#b8e186\"],[0.8,\"#7fbc41\"],[0.9,\"#4d9221\"],[1,\"#276419\"]]},\"xaxis\":{\"gridcolor\":\"white\",\"linecolor\":\"white\",\"ticks\":\"\",\"title\":{\"standoff\":15},\"zerolinecolor\":\"white\",\"automargin\":true,\"zerolinewidth\":2},\"yaxis\":{\"gridcolor\":\"white\",\"linecolor\":\"white\",\"ticks\":\"\",\"title\":{\"standoff\":15},\"zerolinecolor\":\"white\",\"automargin\":true,\"zerolinewidth\":2},\"scene\":{\"xaxis\":{\"backgroundcolor\":\"#E5ECF6\",\"gridcolor\":\"white\",\"linecolor\":\"white\",\"showbackground\":true,\"ticks\":\"\",\"zerolinecolor\":\"white\",\"gridwidth\":2},\"yaxis\":{\"backgroundcolor\":\"#E5ECF6\",\"gridcolor\":\"white\",\"linecolor\":\"white\",\"showbackground\":true,\"ticks\":\"\",\"zerolinecolor\":\"white\",\"gridwidth\":2},\"zaxis\":{\"backgroundcolor\":\"#E5ECF6\",\"gridcolor\":\"white\",\"linecolor\":\"white\",\"showbackground\":true,\"ticks\":\"\",\"zerolinecolor\":\"white\",\"gridwidth\":2}},\"shapedefaults\":{\"line\":{\"color\":\"#2a3f5f\"}},\"annotationdefaults\":{\"arrowcolor\":\"#2a3f5f\",\"arrowhead\":0,\"arrowwidth\":1},\"geo\":{\"bgcolor\":\"white\",\"landcolor\":\"#E5ECF6\",\"subunitcolor\":\"white\",\"showland\":true,\"showlakes\":true,\"lakecolor\":\"white\"},\"title\":{\"x\":0.05},\"mapbox\":{\"style\":\"light\"}}},\"xaxis\":{\"anchor\":\"y\",\"domain\":[0.0,1.0],\"title\":{\"text\":\"genre\"}},\"yaxis\":{\"anchor\":\"x\",\"domain\":[0.0,1.0],\"title\":{\"text\":\"count\"}},\"legend\":{\"tracegroupgap\":0},\"margin\":{\"t\":60},\"barmode\":\"relative\"},                        {\"responsive\": true}                    ).then(function(){\n",
       "                            \n",
       "var gd = document.getElementById('396fc7e1-e032-47d9-a806-c554d134f8ca');\n",
       "var x = new MutationObserver(function (mutations, observer) {{\n",
       "        var display = window.getComputedStyle(gd).display;\n",
       "        if (!display || display === 'none') {{\n",
       "            console.log([gd, 'removed!']);\n",
       "            Plotly.purge(gd);\n",
       "            observer.disconnect();\n",
       "        }}\n",
       "}});\n",
       "\n",
       "// Listen for the removal of the full notebook cells\n",
       "var notebookContainer = gd.closest('#notebook-container');\n",
       "if (notebookContainer) {{\n",
       "    x.observe(notebookContainer, {childList: true});\n",
       "}}\n",
       "\n",
       "// Listen for the clearing of the current output cell\n",
       "var outputEl = gd.closest('.output');\n",
       "if (outputEl) {{\n",
       "    x.observe(outputEl, {childList: true});\n",
       "}}\n",
       "\n",
       "                        })                };                });            </script>        </div>"
      ]
     },
     "metadata": {},
     "output_type": "display_data"
    }
   ],
   "source": [
    "px.histogram(DNF, x = \"genre\",)"
   ]
  },
  {
   "cell_type": "markdown",
   "id": "ae2661c0",
   "metadata": {
    "papermill": {
     "duration": 0.018921,
     "end_time": "2022-06-07T07:03:01.601263",
     "exception": false,
     "start_time": "2022-06-07T07:03:01.582342",
     "status": "completed"
    },
    "tags": []
   },
   "source": [
    "# completion date unknown"
   ]
  },
  {
   "cell_type": "code",
   "execution_count": 32,
   "id": "2ef5080e",
   "metadata": {
    "execution": {
     "iopub.execute_input": "2022-06-07T07:03:01.642107Z",
     "iopub.status.busy": "2022-06-07T07:03:01.641486Z",
     "iopub.status.idle": "2022-06-07T07:03:01.646404Z",
     "shell.execute_reply": "2022-06-07T07:03:01.645737Z"
    },
    "papermill": {
     "duration": 0.027325,
     "end_time": "2022-06-07T07:03:01.648186",
     "exception": false,
     "start_time": "2022-06-07T07:03:01.620861",
     "status": "completed"
    },
    "tags": []
   },
   "outputs": [],
   "source": [
    "completion_date_unknown = Completed[Completed[\"completion date\"].isnull()]"
   ]
  },
  {
   "cell_type": "code",
   "execution_count": 33,
   "id": "720409cf",
   "metadata": {
    "execution": {
     "iopub.execute_input": "2022-06-07T07:03:01.691082Z",
     "iopub.status.busy": "2022-06-07T07:03:01.690397Z",
     "iopub.status.idle": "2022-06-07T07:03:01.848489Z",
     "shell.execute_reply": "2022-06-07T07:03:01.847780Z"
    },
    "papermill": {
     "duration": 0.182042,
     "end_time": "2022-06-07T07:03:01.850373",
     "exception": false,
     "start_time": "2022-06-07T07:03:01.668331",
     "status": "completed"
    },
    "tags": []
   },
   "outputs": [
    {
     "data": {
      "text/plain": [
       "<AxesSubplot:xlabel='language', ylabel='count'>"
      ]
     },
     "execution_count": 33,
     "metadata": {},
     "output_type": "execute_result"
    },
    {
     "data": {
      "image/png": "[encoded data removed]",
      "text/plain": [
       "<Figure size 432x288 with 1 Axes>"
      ]
     },
     "metadata": {},
     "output_type": "display_data"
    }
   ],
   "source": [
    "sns.countplot(x = \"language\", data = completion_date_unknown)"
   ]
  },
  {
   "cell_type": "code",
   "execution_count": 34,
   "id": "c58e0bf4",
   "metadata": {
    "execution": {
     "iopub.execute_input": "2022-06-07T07:03:01.892247Z",
     "iopub.status.busy": "2022-06-07T07:03:01.891565Z",
     "iopub.status.idle": "2022-06-07T07:03:01.899027Z",
     "shell.execute_reply": "2022-06-07T07:03:01.898190Z"
    },
    "papermill": {
     "duration": 0.031059,
     "end_time": "2022-06-07T07:03:01.901005",
     "exception": false,
     "start_time": "2022-06-07T07:03:01.869946",
     "status": "completed"
    },
    "tags": []
   },
   "outputs": [
    {
     "data": {
      "text/plain": [
       "藤崎 都                       6\n",
       "東野 圭吾                      6\n",
       "日丸屋 秀和                     6\n",
       "三上 延                       4\n",
       "谷 瑞恵                       3\n",
       "伊坂 幸太郎                     3\n",
       "葉山 透                       2\n",
       "Sir Arthur Conan Doyle     2\n",
       "朝霧 カフカ                     2\n",
       "川村 元気                      1\n",
       "北川 恵海                      1\n",
       "福嶋ユッカ                      1\n",
       "Louis Sachar               1\n",
       "辻村 七子                      1\n",
       "秋川 滝美                      1\n",
       "Frances Hodgson Burnett    1\n",
       "藤咲あゆな                      1\n",
       "星 新一                       1\n",
       "春河35                       1\n",
       "村上 桃子                      1\n",
       "若宮 シノブ, 望月 淳               1\n",
       "宮沢 賢治                      1\n",
       "江口 夏実                      1\n",
       "水城 せとな                     1\n",
       "George Orwell              1\n",
       "樋野 まつり, 藤咲 あゆな             1\n",
       "E.M. Forster               1\n",
       "朝井 リョウ                     1\n",
       "Name: author(s), dtype: int64"
      ]
     },
     "execution_count": 34,
     "metadata": {},
     "output_type": "execute_result"
    }
   ],
   "source": [
    "completion_date_unknown[\"author(s)\"].value_counts()"
   ]
  },
  {
   "cell_type": "code",
   "execution_count": 35,
   "id": "f6106022",
   "metadata": {
    "execution": {
     "iopub.execute_input": "2022-06-07T07:03:01.942255Z",
     "iopub.status.busy": "2022-06-07T07:03:01.941578Z",
     "iopub.status.idle": "2022-06-07T07:03:01.992322Z",
     "shell.execute_reply": "2022-06-07T07:03:01.991322Z"
    },
    "papermill": {
     "duration": 0.073611,
     "end_time": "2022-06-07T07:03:01.994364",
     "exception": false,
     "start_time": "2022-06-07T07:03:01.920753",
     "status": "completed"
    },
    "tags": []
   },
   "outputs": [
    {
     "data": {
      "text/html": [
       "<div>                            <div id=\"ca98bf35-2ed5-4217-afdb-0945a7de78b1\" class=\"plotly-graph-div\" style=\"height:525px; width:100%;\"></div>            <script type=\"text/javascript\">                require([\"plotly\"], function(Plotly) {                    window.PLOTLYENV=window.PLOTLYENV || {};                                    if (document.getElementById(\"ca98bf35-2ed5-4217-afdb-0945a7de78b1\")) {                    Plotly.newPlot(                        \"ca98bf35-2ed5-4217-afdb-0945a7de78b1\",                        [{\"alignmentgroup\":\"True\",\"bingroup\":\"x\",\"hovertemplate\":\"author(s)=%{x}<br>count=%{y}<extra></extra>\",\"legendgroup\":\"\",\"marker\":{\"color\":\"#636efa\",\"pattern\":{\"shape\":\"\"}},\"name\":\"\",\"offsetgroup\":\"\",\"orientation\":\"v\",\"showlegend\":false,\"x\":[\"星 新一\",\"宮沢 賢治\",\"東野 圭吾\",\"東野 圭吾\",\"Sir Arthur Conan Doyle\",\"東野 圭吾\",\"谷 瑞恵\",\"谷 瑞恵\",\"谷 瑞恵\",\"E.M. Forster\",\"伊坂 幸太郎\",\"日丸屋 秀和\",\"樋野 まつり, 藤咲 あゆな\",\"George Orwell\",\"日丸屋 秀和\",\"水城 せとな\",\"伊坂 幸太郎\",\"日丸屋 秀和\",\"葉山 透\",\"三上 延\",\"江口 夏実\",\"葉山 透\",\"日丸屋 秀和\",\"Sir Arthur Conan Doyle\",\"藤崎 都\",\"若宮 シノブ, 望月 淳\",\"村上 桃子\",\"三上 延\",\"日丸屋 秀和\",\"藤崎 都\",\"藤崎 都\",\"三上 延\",\"春河35\",\"東野 圭吾\",\"藤崎 都\",\"秋川 滝美\",\"日丸屋 秀和\",\"藤咲あゆな\",\"藤崎 都\",\"朝霧 カフカ\",\"東野 圭吾\",\"朝霧 カフカ\",\"東野 圭吾\",\"川村 元気\",\"藤崎 都\",\"三上 延\",\"北川 恵海\",\"Louis Sachar\",\"伊坂 幸太郎\",\"辻村 七子\",\"福嶋ユッカ\",\"Frances Hodgson Burnett\",\"朝井 リョウ\"],\"xaxis\":\"x\",\"yaxis\":\"y\",\"type\":\"histogram\"}],                        {\"template\":{\"data\":{\"histogram2dcontour\":[{\"type\":\"histogram2dcontour\",\"colorbar\":{\"outlinewidth\":0,\"ticks\":\"\"},\"colorscale\":[[0.0,\"#0d0887\"],[0.1111111111111111,\"#46039f\"],[0.2222222222222222,\"#7201a8\"],[0.3333333333333333,\"#9c179e\"],[0.4444444444444444,\"#bd3786\"],[0.5555555555555556,\"#d8576b\"],[0.6666666666666666,\"#ed7953\"],[0.7777777777777778,\"#fb9f3a\"],[0.8888888888888888,\"#fdca26\"],[1.0,\"#f0f921\"]]}],\"choropleth\":[{\"type\":\"choropleth\",\"colorbar\":{\"outlinewidth\":0,\"ticks\":\"\"}}],\"histogram2d\":[{\"type\":\"histogram2d\",\"colorbar\":{\"outlinewidth\":0,\"ticks\":\"\"},\"colorscale\":[[0.0,\"#0d0887\"],[0.1111111111111111,\"#46039f\"],[0.2222222222222222,\"#7201a8\"],[0.3333333333333333,\"#9c179e\"],[0.4444444444444444,\"#bd3786\"],[0.5555555555555556,\"#d8576b\"],[0.6666666666666666,\"#ed7953\"],[0.7777777777777778,\"#fb9f3a\"],[0.8888888888888888,\"#fdca26\"],[1.0,\"#f0f921\"]]}],\"heatmap\":[{\"type\":\"heatmap\",\"colorbar\":{\"outlinewidth\":0,\"ticks\":\"\"},\"colorscale\":[[0.0,\"#0d0887\"],[0.1111111111111111,\"#46039f\"],[0.2222222222222222,\"#7201a8\"],[0.3333333333333333,\"#9c179e\"],[0.4444444444444444,\"#bd3786\"],[0.5555555555555556,\"#d8576b\"],[0.6666666666666666,\"#ed7953\"],[0.7777777777777778,\"#fb9f3a\"],[0.8888888888888888,\"#fdca26\"],[1.0,\"#f0f921\"]]}],\"heatmapgl\":[{\"type\":\"heatmapgl\",\"colorbar\":{\"outlinewidth\":0,\"ticks\":\"\"},\"colorscale\":[[0.0,\"#0d0887\"],[0.1111111111111111,\"#46039f\"],[0.2222222222222222,\"#7201a8\"],[0.3333333333333333,\"#9c179e\"],[0.4444444444444444,\"#bd3786\"],[0.5555555555555556,\"#d8576b\"],[0.6666666666666666,\"#ed7953\"],[0.7777777777777778,\"#fb9f3a\"],[0.8888888888888888,\"#fdca26\"],[1.0,\"#f0f921\"]]}],\"contourcarpet\":[{\"type\":\"contourcarpet\",\"colorbar\":{\"outlinewidth\":0,\"ticks\":\"\"}}],\"contour\":[{\"type\":\"contour\",\"colorbar\":{\"outlinewidth\":0,\"ticks\":\"\"},\"colorscale\":[[0.0,\"#0d0887\"],[0.1111111111111111,\"#46039f\"],[0.2222222222222222,\"#7201a8\"],[0.3333333333333333,\"#9c179e\"],[0.4444444444444444,\"#bd3786\"],[0.5555555555555556,\"#d8576b\"],[0.6666666666666666,\"#ed7953\"],[0.7777777777777778,\"#fb9f3a\"],[0.8888888888888888,\"#fdca26\"],[1.0,\"#f0f921\"]]}],\"surface\":[{\"type\":\"surface\",\"colorbar\":{\"outlinewidth\":0,\"ticks\":\"\"},\"colorscale\":[[0.0,\"#0d0887\"],[0.1111111111111111,\"#46039f\"],[0.2222222222222222,\"#7201a8\"],[0.3333333333333333,\"#9c179e\"],[0.4444444444444444,\"#bd3786\"],[0.5555555555555556,\"#d8576b\"],[0.6666666666666666,\"#ed7953\"],[0.7777777777777778,\"#fb9f3a\"],[0.8888888888888888,\"#fdca26\"],[1.0,\"#f0f921\"]]}],\"mesh3d\":[{\"type\":\"mesh3d\",\"colorbar\":{\"outlinewidth\":0,\"ticks\":\"\"}}],\"scatter\":[{\"fillpattern\":{\"fillmode\":\"overlay\",\"size\":10,\"solidity\":0.2},\"type\":\"scatter\"}],\"parcoords\":[{\"type\":\"parcoords\",\"line\":{\"colorbar\":{\"outlinewidth\":0,\"ticks\":\"\"}}}],\"scatterpolargl\":[{\"type\":\"scatterpolargl\",\"marker\":{\"colorbar\":{\"outlinewidth\":0,\"ticks\":\"\"}}}],\"bar\":[{\"error_x\":{\"color\":\"#2a3f5f\"},\"error_y\":{\"color\":\"#2a3f5f\"},\"marker\":{\"line\":{\"color\":\"#E5ECF6\",\"width\":0.5},\"pattern\":{\"fillmode\":\"overlay\",\"size\":10,\"solidity\":0.2}},\"type\":\"bar\"}],\"scattergeo\":[{\"type\":\"scattergeo\",\"marker\":{\"colorbar\":{\"outlinewidth\":0,\"ticks\":\"\"}}}],\"scatterpolar\":[{\"type\":\"scatterpolar\",\"marker\":{\"colorbar\":{\"outlinewidth\":0,\"ticks\":\"\"}}}],\"histogram\":[{\"marker\":{\"pattern\":{\"fillmode\":\"overlay\",\"size\":10,\"solidity\":0.2}},\"type\":\"histogram\"}],\"scattergl\":[{\"type\":\"scattergl\",\"marker\":{\"colorbar\":{\"outlinewidth\":0,\"ticks\":\"\"}}}],\"scatter3d\":[{\"type\":\"scatter3d\",\"line\":{\"colorbar\":{\"outlinewidth\":0,\"ticks\":\"\"}},\"marker\":{\"colorbar\":{\"outlinewidth\":0,\"ticks\":\"\"}}}],\"scattermapbox\":[{\"type\":\"scattermapbox\",\"marker\":{\"colorbar\":{\"outlinewidth\":0,\"ticks\":\"\"}}}],\"scatterternary\":[{\"type\":\"scatterternary\",\"marker\":{\"colorbar\":{\"outlinewidth\":0,\"ticks\":\"\"}}}],\"scattercarpet\":[{\"type\":\"scattercarpet\",\"marker\":{\"colorbar\":{\"outlinewidth\":0,\"ticks\":\"\"}}}],\"carpet\":[{\"aaxis\":{\"endlinecolor\":\"#2a3f5f\",\"gridcolor\":\"white\",\"linecolor\":\"white\",\"minorgridcolor\":\"white\",\"startlinecolor\":\"#2a3f5f\"},\"baxis\":{\"endlinecolor\":\"#2a3f5f\",\"gridcolor\":\"white\",\"linecolor\":\"white\",\"minorgridcolor\":\"white\",\"startlinecolor\":\"#2a3f5f\"},\"type\":\"carpet\"}],\"table\":[{\"cells\":{\"fill\":{\"color\":\"#EBF0F8\"},\"line\":{\"color\":\"white\"}},\"header\":{\"fill\":{\"color\":\"#C8D4E3\"},\"line\":{\"color\":\"white\"}},\"type\":\"table\"}],\"barpolar\":[{\"marker\":{\"line\":{\"color\":\"#E5ECF6\",\"width\":0.5},\"pattern\":{\"fillmode\":\"overlay\",\"size\":10,\"solidity\":0.2}},\"type\":\"barpolar\"}],\"pie\":[{\"automargin\":true,\"type\":\"pie\"}]},\"layout\":{\"autotypenumbers\":\"strict\",\"colorway\":[\"#636efa\",\"#EF553B\",\"#00cc96\",\"#ab63fa\",\"#FFA15A\",\"#19d3f3\",\"#FF6692\",\"#B6E880\",\"#FF97FF\",\"#FECB52\"],\"font\":{\"color\":\"#2a3f5f\"},\"hovermode\":\"closest\",\"hoverlabel\":{\"align\":\"left\"},\"paper_bgcolor\":\"white\",\"plot_bgcolor\":\"#E5ECF6\",\"polar\":{\"bgcolor\":\"#E5ECF6\",\"angularaxis\":{\"gridcolor\":\"white\",\"linecolor\":\"white\",\"ticks\":\"\"},\"radialaxis\":{\"gridcolor\":\"white\",\"linecolor\":\"white\",\"ticks\":\"\"}},\"ternary\":{\"bgcolor\":\"#E5ECF6\",\"aaxis\":{\"gridcolor\":\"white\",\"linecolor\":\"white\",\"ticks\":\"\"},\"baxis\":{\"gridcolor\":\"white\",\"linecolor\":\"white\",\"ticks\":\"\"},\"caxis\":{\"gridcolor\":\"white\",\"linecolor\":\"white\",\"ticks\":\"\"}},\"coloraxis\":{\"colorbar\":{\"outlinewidth\":0,\"ticks\":\"\"}},\"colorscale\":{\"sequential\":[[0.0,\"#0d0887\"],[0.1111111111111111,\"#46039f\"],[0.2222222222222222,\"#7201a8\"],[0.3333333333333333,\"#9c179e\"],[0.4444444444444444,\"#bd3786\"],[0.5555555555555556,\"#d8576b\"],[0.6666666666666666,\"#ed7953\"],[0.7777777777777778,\"#fb9f3a\"],[0.8888888888888888,\"#fdca26\"],[1.0,\"#f0f921\"]],\"sequentialminus\":[[0.0,\"#0d0887\"],[0.1111111111111111,\"#46039f\"],[0.2222222222222222,\"#7201a8\"],[0.3333333333333333,\"#9c179e\"],[0.4444444444444444,\"#bd3786\"],[0.5555555555555556,\"#d8576b\"],[0.6666666666666666,\"#ed7953\"],[0.7777777777777778,\"#fb9f3a\"],[0.8888888888888888,\"#fdca26\"],[1.0,\"#f0f921\"]],\"diverging\":[[0,\"#8e0152\"],[0.1,\"#c51b7d\"],[0.2,\"#de77ae\"],[0.3,\"#f1b6da\"],[0.4,\"#fde0ef\"],[0.5,\"#f7f7f7\"],[0.6,\"#e6f5d0\"],[0.7,\"#b8e186\"],[0.8,\"#7fbc41\"],[0.9,\"#4d9221\"],[1,\"#276419\"]]},\"xaxis\":{\"gridcolor\":\"white\",\"linecolor\":\"white\",\"ticks\":\"\",\"title\":{\"standoff\":15},\"zerolinecolor\":\"white\",\"automargin\":true,\"zerolinewidth\":2},\"yaxis\":{\"gridcolor\":\"white\",\"linecolor\":\"white\",\"ticks\":\"\",\"title\":{\"standoff\":15},\"zerolinecolor\":\"white\",\"automargin\":true,\"zerolinewidth\":2},\"scene\":{\"xaxis\":{\"backgroundcolor\":\"#E5ECF6\",\"gridcolor\":\"white\",\"linecolor\":\"white\",\"showbackground\":true,\"ticks\":\"\",\"zerolinecolor\":\"white\",\"gridwidth\":2},\"yaxis\":{\"backgroundcolor\":\"#E5ECF6\",\"gridcolor\":\"white\",\"linecolor\":\"white\",\"showbackground\":true,\"ticks\":\"\",\"zerolinecolor\":\"white\",\"gridwidth\":2},\"zaxis\":{\"backgroundcolor\":\"#E5ECF6\",\"gridcolor\":\"white\",\"linecolor\":\"white\",\"showbackground\":true,\"ticks\":\"\",\"zerolinecolor\":\"white\",\"gridwidth\":2}},\"shapedefaults\":{\"line\":{\"color\":\"#2a3f5f\"}},\"annotationdefaults\":{\"arrowcolor\":\"#2a3f5f\",\"arrowhead\":0,\"arrowwidth\":1},\"geo\":{\"bgcolor\":\"white\",\"landcolor\":\"#E5ECF6\",\"subunitcolor\":\"white\",\"showland\":true,\"showlakes\":true,\"lakecolor\":\"white\"},\"title\":{\"x\":0.05},\"mapbox\":{\"style\":\"light\"}}},\"xaxis\":{\"anchor\":\"y\",\"domain\":[0.0,1.0],\"title\":{\"text\":\"author(s)\"}},\"yaxis\":{\"anchor\":\"x\",\"domain\":[0.0,1.0],\"title\":{\"text\":\"count\"}},\"legend\":{\"tracegroupgap\":0},\"margin\":{\"t\":60},\"barmode\":\"relative\"},                        {\"responsive\": true}                    ).then(function(){\n",
       "                            \n",
       "var gd = document.getElementById('ca98bf35-2ed5-4217-afdb-0945a7de78b1');\n",
       "var x = new MutationObserver(function (mutations, observer) {{\n",
       "        var display = window.getComputedStyle(gd).display;\n",
       "        if (!display || display === 'none') {{\n",
       "            console.log([gd, 'removed!']);\n",
       "            Plotly.purge(gd);\n",
       "            observer.disconnect();\n",
       "        }}\n",
       "}});\n",
       "\n",
       "// Listen for the removal of the full notebook cells\n",
       "var notebookContainer = gd.closest('#notebook-container');\n",
       "if (notebookContainer) {{\n",
       "    x.observe(notebookContainer, {childList: true});\n",
       "}}\n",
       "\n",
       "// Listen for the clearing of the current output cell\n",
       "var outputEl = gd.closest('.output');\n",
       "if (outputEl) {{\n",
       "    x.observe(outputEl, {childList: true});\n",
       "}}\n",
       "\n",
       "                        })                };                });            </script>        </div>"
      ]
     },
     "metadata": {},
     "output_type": "display_data"
    }
   ],
   "source": [
    "px.histogram( completion_date_unknown, x = \"author(s)\")"
   ]
  },
  {
   "cell_type": "code",
   "execution_count": 36,
   "id": "bdc34245",
   "metadata": {
    "execution": {
     "iopub.execute_input": "2022-06-07T07:03:02.035946Z",
     "iopub.status.busy": "2022-06-07T07:03:02.035568Z",
     "iopub.status.idle": "2022-06-07T07:03:02.044484Z",
     "shell.execute_reply": "2022-06-07T07:03:02.043605Z"
    },
    "papermill": {
     "duration": 0.031617,
     "end_time": "2022-06-07T07:03:02.046255",
     "exception": false,
     "start_time": "2022-06-07T07:03:02.014638",
     "status": "completed"
    },
    "tags": []
   },
   "outputs": [
    {
     "data": {
      "text/plain": [
       "array(['Physical Book'], dtype=object)"
      ]
     },
     "execution_count": 36,
     "metadata": {},
     "output_type": "execute_result"
    }
   ],
   "source": [
    "completion_date_unknown[(completion_date_unknown[\"author(s)\"] ==\"東野 圭吾\")|(completion_date_unknown[\"author(s)\"] ==\"藤崎 都\")][\"format\"].unique()"
   ]
  },
  {
   "cell_type": "code",
   "execution_count": 37,
   "id": "e0d7c987",
   "metadata": {
    "execution": {
     "iopub.execute_input": "2022-06-07T07:03:02.088236Z",
     "iopub.status.busy": "2022-06-07T07:03:02.087535Z",
     "iopub.status.idle": "2022-06-07T07:03:02.267359Z",
     "shell.execute_reply": "2022-06-07T07:03:02.266422Z"
    },
    "papermill": {
     "duration": 0.203083,
     "end_time": "2022-06-07T07:03:02.269529",
     "exception": false,
     "start_time": "2022-06-07T07:03:02.066446",
     "status": "completed"
    },
    "tags": []
   },
   "outputs": [
    {
     "data": {
      "text/plain": [
       "<AxesSubplot:xlabel='format', ylabel='count'>"
      ]
     },
     "execution_count": 37,
     "metadata": {},
     "output_type": "execute_result"
    },
    {
     "data": {
      "image/png": "[encoded data removed]",
      "text/plain": [
       "<Figure size 432x288 with 1 Axes>"
      ]
     },
     "metadata": {},
     "output_type": "display_data"
    }
   ],
   "source": [
    "sns.countplot(x = \"format\", data = completion_date_unknown)"
   ]
  },
  {
   "cell_type": "code",
   "execution_count": 38,
   "id": "38f7bc1a",
   "metadata": {
    "execution": {
     "iopub.execute_input": "2022-06-07T07:03:02.312393Z",
     "iopub.status.busy": "2022-06-07T07:03:02.311657Z",
     "iopub.status.idle": "2022-06-07T07:03:02.319834Z",
     "shell.execute_reply": "2022-06-07T07:03:02.318766Z"
    },
    "papermill": {
     "duration": 0.031589,
     "end_time": "2022-06-07T07:03:02.321805",
     "exception": false,
     "start_time": "2022-06-07T07:03:02.290216",
     "status": "completed"
    },
    "tags": []
   },
   "outputs": [
    {
     "data": {
      "text/plain": [
       "79.25"
      ]
     },
     "execution_count": 38,
     "metadata": {},
     "output_type": "execute_result"
    }
   ],
   "source": [
    "round(((completion_date_unknown[completion_date_unknown[\"format\"]== \"Physical Book\"].shape[0]/completion_date_unknown.shape[0])*100), 2)"
   ]
  },
  {
   "cell_type": "code",
   "execution_count": 39,
   "id": "9da9610a",
   "metadata": {
    "execution": {
     "iopub.execute_input": "2022-06-07T07:03:02.365640Z",
     "iopub.status.busy": "2022-06-07T07:03:02.364562Z",
     "iopub.status.idle": "2022-06-07T07:03:02.384756Z",
     "shell.execute_reply": "2022-06-07T07:03:02.383689Z"
    },
    "papermill": {
     "duration": 0.04411,
     "end_time": "2022-06-07T07:03:02.386869",
     "exception": false,
     "start_time": "2022-06-07T07:03:02.342759",
     "status": "completed"
    },
    "tags": []
   },
   "outputs": [
    {
     "data": {
      "text/html": [
       "<div>\n",
       "<style scoped>\n",
       "    .dataframe tbody tr th:only-of-type {\n",
       "        vertical-align: middle;\n",
       "    }\n",
       "\n",
       "    .dataframe tbody tr th {\n",
       "        vertical-align: top;\n",
       "    }\n",
       "\n",
       "    .dataframe thead th {\n",
       "        text-align: right;\n",
       "    }\n",
       "</style>\n",
       "<table border=\"1\" class=\"dataframe\">\n",
       "  <thead>\n",
       "    <tr style=\"text-align: right;\">\n",
       "      <th></th>\n",
       "      <th>completion date</th>\n",
       "      <th>Title</th>\n",
       "      <th>author(s)</th>\n",
       "      <th>pages</th>\n",
       "      <th>review</th>\n",
       "      <th>rating</th>\n",
       "      <th>status</th>\n",
       "      <th>format</th>\n",
       "      <th>platform</th>\n",
       "      <th>publisher</th>\n",
       "      <th>Imprint</th>\n",
       "      <th>publication date</th>\n",
       "      <th>type</th>\n",
       "      <th>genre</th>\n",
       "      <th>language</th>\n",
       "      <th>publication_year</th>\n",
       "      <th>publication_month</th>\n",
       "      <th>completion_year</th>\n",
       "      <th>completion_month</th>\n",
       "    </tr>\n",
       "  </thead>\n",
       "  <tbody>\n",
       "    <tr>\n",
       "      <th>349</th>\n",
       "      <td>NaT</td>\n",
       "      <td>どうしても生きてる</td>\n",
       "      <td>朝井 リョウ</td>\n",
       "      <td>323</td>\n",
       "      <td>Yes</td>\n",
       "      <td>4.0</td>\n",
       "      <td>Completed</td>\n",
       "      <td>Audiobook</td>\n",
       "      <td>Audible</td>\n",
       "      <td>幻冬舎</td>\n",
       "      <td>幻冬舎文庫</td>\n",
       "      <td>2019-10-10</td>\n",
       "      <td>Fiction</td>\n",
       "      <td>Contemporary</td>\n",
       "      <td>Japanese</td>\n",
       "      <td>2019</td>\n",
       "      <td>10</td>\n",
       "      <td>NaN</td>\n",
       "      <td>NaN</td>\n",
       "    </tr>\n",
       "  </tbody>\n",
       "</table>\n",
       "</div>"
      ],
      "text/plain": [
       "    completion date      Title author(s)  pages review  rating     status  \\\n",
       "349             NaT  どうしても生きてる    朝井 リョウ    323    Yes     4.0  Completed   \n",
       "\n",
       "        format platform publisher Imprint publication date     type  \\\n",
       "349  Audiobook  Audible       幻冬舎   幻冬舎文庫       2019-10-10  Fiction   \n",
       "\n",
       "            genre  language  publication_year  publication_month  \\\n",
       "349  Contemporary  Japanese              2019                 10   \n",
       "\n",
       "     completion_year  completion_month  \n",
       "349              NaN               NaN  "
      ]
     },
     "execution_count": 39,
     "metadata": {},
     "output_type": "execute_result"
    }
   ],
   "source": [
    "completion_date_unknown[completion_date_unknown[\"format\"]== \"Audiobook\"]"
   ]
  },
  {
   "cell_type": "code",
   "execution_count": 40,
   "id": "7e0152af",
   "metadata": {
    "execution": {
     "iopub.execute_input": "2022-06-07T07:03:02.429853Z",
     "iopub.status.busy": "2022-06-07T07:03:02.429481Z",
     "iopub.status.idle": "2022-06-07T07:03:02.483314Z",
     "shell.execute_reply": "2022-06-07T07:03:02.482460Z"
    },
    "papermill": {
     "duration": 0.077842,
     "end_time": "2022-06-07T07:03:02.485448",
     "exception": false,
     "start_time": "2022-06-07T07:03:02.407606",
     "status": "completed"
    },
    "tags": []
   },
   "outputs": [
    {
     "data": {
      "text/html": [
       "<div>                            <div id=\"3335a833-c758-49c5-9bcd-639439764856\" class=\"plotly-graph-div\" style=\"height:525px; width:100%;\"></div>            <script type=\"text/javascript\">                require([\"plotly\"], function(Plotly) {                    window.PLOTLYENV=window.PLOTLYENV || {};                                    if (document.getElementById(\"3335a833-c758-49c5-9bcd-639439764856\")) {                    Plotly.newPlot(                        \"3335a833-c758-49c5-9bcd-639439764856\",                        [{\"alignmentgroup\":\"True\",\"bingroup\":\"x\",\"hovertemplate\":\"Imprint=%{x}<br>count=%{y}<extra></extra>\",\"legendgroup\":\"\",\"marker\":{\"color\":\"#636efa\",\"pattern\":{\"shape\":\"\"}},\"name\":\"\",\"offsetgroup\":\"\",\"orientation\":\"v\",\"showlegend\":false,\"x\":[\"新潮文庫\",\"新潮文庫\",\"講談社文庫\",\"講談社文庫\",\"Wordsworth Editions\",\"講談社文庫\",\"コバルト文庫\",\"コバルト文庫\",\"コバルト文庫\",\"Penguin Classics\",\"祥伝社文庫\",\"幻冬舎コミックス\",\"花とゆめCOMICSスペシャルララノベルズ\",\"Penguin\",\"幻冬舎コミックス\",\"フラワーコミックスα\",\"祥伝社文庫\",\"幻冬舎コミックス\",\"メディアワークス文庫\",\"メディアワークス文庫\",\"モーニング KC\",\"メディアワークス文庫\",\"幻冬舎コミックス\",\"Penguin\",\"角川ルビー文庫\",\"Ｇファンタジーノベルズ\",\"リンダブックス\",\"メディアワークス文庫\",\"幻冬舎コミックス\",\"角川ルビー文庫\",\"角川ルビー文庫\",\"メディアワークス文庫\",\"カドカワコミックス・エース\",\"文春文庫\",\"角川ルビー文庫\",\"アルファポリス\",\"幻冬舎コミックス\",\"花とゆめCOMICSスペシャルララノベルズ\",\"角川ルビー文庫\",\"角川ビーンズ文庫\",\"集英社文庫\",\"角川ビーンズ文庫\",\"集英社文庫\",\"小学館文庫\",\"角川ルビー文庫\",\"メディアワークス文庫\",\"メディアワークス文庫\",\"Bloomsbury Children's Books\",\"ノン・ノベル\",\"集英社オレンジ文庫\",\"GUSH COMICS\",\"Collins Classics\",\"幻冬舎文庫\"],\"xaxis\":\"x\",\"yaxis\":\"y\",\"type\":\"histogram\"}],                        {\"template\":{\"data\":{\"histogram2dcontour\":[{\"type\":\"histogram2dcontour\",\"colorbar\":{\"outlinewidth\":0,\"ticks\":\"\"},\"colorscale\":[[0.0,\"#0d0887\"],[0.1111111111111111,\"#46039f\"],[0.2222222222222222,\"#7201a8\"],[0.3333333333333333,\"#9c179e\"],[0.4444444444444444,\"#bd3786\"],[0.5555555555555556,\"#d8576b\"],[0.6666666666666666,\"#ed7953\"],[0.7777777777777778,\"#fb9f3a\"],[0.8888888888888888,\"#fdca26\"],[1.0,\"#f0f921\"]]}],\"choropleth\":[{\"type\":\"choropleth\",\"colorbar\":{\"outlinewidth\":0,\"ticks\":\"\"}}],\"histogram2d\":[{\"type\":\"histogram2d\",\"colorbar\":{\"outlinewidth\":0,\"ticks\":\"\"},\"colorscale\":[[0.0,\"#0d0887\"],[0.1111111111111111,\"#46039f\"],[0.2222222222222222,\"#7201a8\"],[0.3333333333333333,\"#9c179e\"],[0.4444444444444444,\"#bd3786\"],[0.5555555555555556,\"#d8576b\"],[0.6666666666666666,\"#ed7953\"],[0.7777777777777778,\"#fb9f3a\"],[0.8888888888888888,\"#fdca26\"],[1.0,\"#f0f921\"]]}],\"heatmap\":[{\"type\":\"heatmap\",\"colorbar\":{\"outlinewidth\":0,\"ticks\":\"\"},\"colorscale\":[[0.0,\"#0d0887\"],[0.1111111111111111,\"#46039f\"],[0.2222222222222222,\"#7201a8\"],[0.3333333333333333,\"#9c179e\"],[0.4444444444444444,\"#bd3786\"],[0.5555555555555556,\"#d8576b\"],[0.6666666666666666,\"#ed7953\"],[0.7777777777777778,\"#fb9f3a\"],[0.8888888888888888,\"#fdca26\"],[1.0,\"#f0f921\"]]}],\"heatmapgl\":[{\"type\":\"heatmapgl\",\"colorbar\":{\"outlinewidth\":0,\"ticks\":\"\"},\"colorscale\":[[0.0,\"#0d0887\"],[0.1111111111111111,\"#46039f\"],[0.2222222222222222,\"#7201a8\"],[0.3333333333333333,\"#9c179e\"],[0.4444444444444444,\"#bd3786\"],[0.5555555555555556,\"#d8576b\"],[0.6666666666666666,\"#ed7953\"],[0.7777777777777778,\"#fb9f3a\"],[0.8888888888888888,\"#fdca26\"],[1.0,\"#f0f921\"]]}],\"contourcarpet\":[{\"type\":\"contourcarpet\",\"colorbar\":{\"outlinewidth\":0,\"ticks\":\"\"}}],\"contour\":[{\"type\":\"contour\",\"colorbar\":{\"outlinewidth\":0,\"ticks\":\"\"},\"colorscale\":[[0.0,\"#0d0887\"],[0.1111111111111111,\"#46039f\"],[0.2222222222222222,\"#7201a8\"],[0.3333333333333333,\"#9c179e\"],[0.4444444444444444,\"#bd3786\"],[0.5555555555555556,\"#d8576b\"],[0.6666666666666666,\"#ed7953\"],[0.7777777777777778,\"#fb9f3a\"],[0.8888888888888888,\"#fdca26\"],[1.0,\"#f0f921\"]]}],\"surface\":[{\"type\":\"surface\",\"colorbar\":{\"outlinewidth\":0,\"ticks\":\"\"},\"colorscale\":[[0.0,\"#0d0887\"],[0.1111111111111111,\"#46039f\"],[0.2222222222222222,\"#7201a8\"],[0.3333333333333333,\"#9c179e\"],[0.4444444444444444,\"#bd3786\"],[0.5555555555555556,\"#d8576b\"],[0.6666666666666666,\"#ed7953\"],[0.7777777777777778,\"#fb9f3a\"],[0.8888888888888888,\"#fdca26\"],[1.0,\"#f0f921\"]]}],\"mesh3d\":[{\"type\":\"mesh3d\",\"colorbar\":{\"outlinewidth\":0,\"ticks\":\"\"}}],\"scatter\":[{\"fillpattern\":{\"fillmode\":\"overlay\",\"size\":10,\"solidity\":0.2},\"type\":\"scatter\"}],\"parcoords\":[{\"type\":\"parcoords\",\"line\":{\"colorbar\":{\"outlinewidth\":0,\"ticks\":\"\"}}}],\"scatterpolargl\":[{\"type\":\"scatterpolargl\",\"marker\":{\"colorbar\":{\"outlinewidth\":0,\"ticks\":\"\"}}}],\"bar\":[{\"error_x\":{\"color\":\"#2a3f5f\"},\"error_y\":{\"color\":\"#2a3f5f\"},\"marker\":{\"line\":{\"color\":\"#E5ECF6\",\"width\":0.5},\"pattern\":{\"fillmode\":\"overlay\",\"size\":10,\"solidity\":0.2}},\"type\":\"bar\"}],\"scattergeo\":[{\"type\":\"scattergeo\",\"marker\":{\"colorbar\":{\"outlinewidth\":0,\"ticks\":\"\"}}}],\"scatterpolar\":[{\"type\":\"scatterpolar\",\"marker\":{\"colorbar\":{\"outlinewidth\":0,\"ticks\":\"\"}}}],\"histogram\":[{\"marker\":{\"pattern\":{\"fillmode\":\"overlay\",\"size\":10,\"solidity\":0.2}},\"type\":\"histogram\"}],\"scattergl\":[{\"type\":\"scattergl\",\"marker\":{\"colorbar\":{\"outlinewidth\":0,\"ticks\":\"\"}}}],\"scatter3d\":[{\"type\":\"scatter3d\",\"line\":{\"colorbar\":{\"outlinewidth\":0,\"ticks\":\"\"}},\"marker\":{\"colorbar\":{\"outlinewidth\":0,\"ticks\":\"\"}}}],\"scattermapbox\":[{\"type\":\"scattermapbox\",\"marker\":{\"colorbar\":{\"outlinewidth\":0,\"ticks\":\"\"}}}],\"scatterternary\":[{\"type\":\"scatterternary\",\"marker\":{\"colorbar\":{\"outlinewidth\":0,\"ticks\":\"\"}}}],\"scattercarpet\":[{\"type\":\"scattercarpet\",\"marker\":{\"colorbar\":{\"outlinewidth\":0,\"ticks\":\"\"}}}],\"carpet\":[{\"aaxis\":{\"endlinecolor\":\"#2a3f5f\",\"gridcolor\":\"white\",\"linecolor\":\"white\",\"minorgridcolor\":\"white\",\"startlinecolor\":\"#2a3f5f\"},\"baxis\":{\"endlinecolor\":\"#2a3f5f\",\"gridcolor\":\"white\",\"linecolor\":\"white\",\"minorgridcolor\":\"white\",\"startlinecolor\":\"#2a3f5f\"},\"type\":\"carpet\"}],\"table\":[{\"cells\":{\"fill\":{\"color\":\"#EBF0F8\"},\"line\":{\"color\":\"white\"}},\"header\":{\"fill\":{\"color\":\"#C8D4E3\"},\"line\":{\"color\":\"white\"}},\"type\":\"table\"}],\"barpolar\":[{\"marker\":{\"line\":{\"color\":\"#E5ECF6\",\"width\":0.5},\"pattern\":{\"fillmode\":\"overlay\",\"size\":10,\"solidity\":0.2}},\"type\":\"barpolar\"}],\"pie\":[{\"automargin\":true,\"type\":\"pie\"}]},\"layout\":{\"autotypenumbers\":\"strict\",\"colorway\":[\"#636efa\",\"#EF553B\",\"#00cc96\",\"#ab63fa\",\"#FFA15A\",\"#19d3f3\",\"#FF6692\",\"#B6E880\",\"#FF97FF\",\"#FECB52\"],\"font\":{\"color\":\"#2a3f5f\"},\"hovermode\":\"closest\",\"hoverlabel\":{\"align\":\"left\"},\"paper_bgcolor\":\"white\",\"plot_bgcolor\":\"#E5ECF6\",\"polar\":{\"bgcolor\":\"#E5ECF6\",\"angularaxis\":{\"gridcolor\":\"white\",\"linecolor\":\"white\",\"ticks\":\"\"},\"radialaxis\":{\"gridcolor\":\"white\",\"linecolor\":\"white\",\"ticks\":\"\"}},\"ternary\":{\"bgcolor\":\"#E5ECF6\",\"aaxis\":{\"gridcolor\":\"white\",\"linecolor\":\"white\",\"ticks\":\"\"},\"baxis\":{\"gridcolor\":\"white\",\"linecolor\":\"white\",\"ticks\":\"\"},\"caxis\":{\"gridcolor\":\"white\",\"linecolor\":\"white\",\"ticks\":\"\"}},\"coloraxis\":{\"colorbar\":{\"outlinewidth\":0,\"ticks\":\"\"}},\"colorscale\":{\"sequential\":[[0.0,\"#0d0887\"],[0.1111111111111111,\"#46039f\"],[0.2222222222222222,\"#7201a8\"],[0.3333333333333333,\"#9c179e\"],[0.4444444444444444,\"#bd3786\"],[0.5555555555555556,\"#d8576b\"],[0.6666666666666666,\"#ed7953\"],[0.7777777777777778,\"#fb9f3a\"],[0.8888888888888888,\"#fdca26\"],[1.0,\"#f0f921\"]],\"sequentialminus\":[[0.0,\"#0d0887\"],[0.1111111111111111,\"#46039f\"],[0.2222222222222222,\"#7201a8\"],[0.3333333333333333,\"#9c179e\"],[0.4444444444444444,\"#bd3786\"],[0.5555555555555556,\"#d8576b\"],[0.6666666666666666,\"#ed7953\"],[0.7777777777777778,\"#fb9f3a\"],[0.8888888888888888,\"#fdca26\"],[1.0,\"#f0f921\"]],\"diverging\":[[0,\"#8e0152\"],[0.1,\"#c51b7d\"],[0.2,\"#de77ae\"],[0.3,\"#f1b6da\"],[0.4,\"#fde0ef\"],[0.5,\"#f7f7f7\"],[0.6,\"#e6f5d0\"],[0.7,\"#b8e186\"],[0.8,\"#7fbc41\"],[0.9,\"#4d9221\"],[1,\"#276419\"]]},\"xaxis\":{\"gridcolor\":\"white\",\"linecolor\":\"white\",\"ticks\":\"\",\"title\":{\"standoff\":15},\"zerolinecolor\":\"white\",\"automargin\":true,\"zerolinewidth\":2},\"yaxis\":{\"gridcolor\":\"white\",\"linecolor\":\"white\",\"ticks\":\"\",\"title\":{\"standoff\":15},\"zerolinecolor\":\"white\",\"automargin\":true,\"zerolinewidth\":2},\"scene\":{\"xaxis\":{\"backgroundcolor\":\"#E5ECF6\",\"gridcolor\":\"white\",\"linecolor\":\"white\",\"showbackground\":true,\"ticks\":\"\",\"zerolinecolor\":\"white\",\"gridwidth\":2},\"yaxis\":{\"backgroundcolor\":\"#E5ECF6\",\"gridcolor\":\"white\",\"linecolor\":\"white\",\"showbackground\":true,\"ticks\":\"\",\"zerolinecolor\":\"white\",\"gridwidth\":2},\"zaxis\":{\"backgroundcolor\":\"#E5ECF6\",\"gridcolor\":\"white\",\"linecolor\":\"white\",\"showbackground\":true,\"ticks\":\"\",\"zerolinecolor\":\"white\",\"gridwidth\":2}},\"shapedefaults\":{\"line\":{\"color\":\"#2a3f5f\"}},\"annotationdefaults\":{\"arrowcolor\":\"#2a3f5f\",\"arrowhead\":0,\"arrowwidth\":1},\"geo\":{\"bgcolor\":\"white\",\"landcolor\":\"#E5ECF6\",\"subunitcolor\":\"white\",\"showland\":true,\"showlakes\":true,\"lakecolor\":\"white\"},\"title\":{\"x\":0.05},\"mapbox\":{\"style\":\"light\"}}},\"xaxis\":{\"anchor\":\"y\",\"domain\":[0.0,1.0],\"title\":{\"text\":\"Imprint\"}},\"yaxis\":{\"anchor\":\"x\",\"domain\":[0.0,1.0],\"title\":{\"text\":\"count\"}},\"legend\":{\"tracegroupgap\":0},\"margin\":{\"t\":60},\"barmode\":\"relative\"},                        {\"responsive\": true}                    ).then(function(){\n",
       "                            \n",
       "var gd = document.getElementById('3335a833-c758-49c5-9bcd-639439764856');\n",
       "var x = new MutationObserver(function (mutations, observer) {{\n",
       "        var display = window.getComputedStyle(gd).display;\n",
       "        if (!display || display === 'none') {{\n",
       "            console.log([gd, 'removed!']);\n",
       "            Plotly.purge(gd);\n",
       "            observer.disconnect();\n",
       "        }}\n",
       "}});\n",
       "\n",
       "// Listen for the removal of the full notebook cells\n",
       "var notebookContainer = gd.closest('#notebook-container');\n",
       "if (notebookContainer) {{\n",
       "    x.observe(notebookContainer, {childList: true});\n",
       "}}\n",
       "\n",
       "// Listen for the clearing of the current output cell\n",
       "var outputEl = gd.closest('.output');\n",
       "if (outputEl) {{\n",
       "    x.observe(outputEl, {childList: true});\n",
       "}}\n",
       "\n",
       "                        })                };                });            </script>        </div>"
      ]
     },
     "metadata": {},
     "output_type": "display_data"
    }
   ],
   "source": [
    "px.histogram( completion_date_unknown, x = \"Imprint\")"
   ]
  },
  {
   "cell_type": "code",
   "execution_count": 41,
   "id": "c569795f",
   "metadata": {
    "execution": {
     "iopub.execute_input": "2022-06-07T07:03:02.529063Z",
     "iopub.status.busy": "2022-06-07T07:03:02.528667Z",
     "iopub.status.idle": "2022-06-07T07:03:02.536369Z",
     "shell.execute_reply": "2022-06-07T07:03:02.535458Z"
    },
    "papermill": {
     "duration": 0.031408,
     "end_time": "2022-06-07T07:03:02.538208",
     "exception": false,
     "start_time": "2022-06-07T07:03:02.506800",
     "status": "completed"
    },
    "tags": []
   },
   "outputs": [
    {
     "data": {
      "text/plain": [
       "array(['講談社文庫', '幻冬舎コミックス', '角川ルビー文庫', '文春文庫', '集英社文庫'], dtype=object)"
      ]
     },
     "execution_count": 41,
     "metadata": {},
     "output_type": "execute_result"
    }
   ],
   "source": [
    "completion_date_unknown[(completion_date_unknown[\"author(s)\"] ==\"東野 圭吾\")|(completion_date_unknown[\"author(s)\"] ==\"藤崎 都\")|(completion_date_unknown[\"author(s)\"] ==\"日丸屋 秀和\")][\"Imprint\"].unique()"
   ]
  },
  {
   "cell_type": "code",
   "execution_count": 42,
   "id": "cde48921",
   "metadata": {
    "execution": {
     "iopub.execute_input": "2022-06-07T07:03:02.581799Z",
     "iopub.status.busy": "2022-06-07T07:03:02.581415Z",
     "iopub.status.idle": "2022-06-07T07:03:02.635731Z",
     "shell.execute_reply": "2022-06-07T07:03:02.634910Z"
    },
    "papermill": {
     "duration": 0.078547,
     "end_time": "2022-06-07T07:03:02.637759",
     "exception": false,
     "start_time": "2022-06-07T07:03:02.559212",
     "status": "completed"
    },
    "tags": []
   },
   "outputs": [
    {
     "data": {
      "text/html": [
       "<div>                            <div id=\"1d884feb-b910-42cf-93c0-e6fd9c55b490\" class=\"plotly-graph-div\" style=\"height:525px; width:100%;\"></div>            <script type=\"text/javascript\">                require([\"plotly\"], function(Plotly) {                    window.PLOTLYENV=window.PLOTLYENV || {};                                    if (document.getElementById(\"1d884feb-b910-42cf-93c0-e6fd9c55b490\")) {                    Plotly.newPlot(                        \"1d884feb-b910-42cf-93c0-e6fd9c55b490\",                        [{\"alignmentgroup\":\"True\",\"bingroup\":\"x\",\"hovertemplate\":\"publisher=%{x}<br>count=%{y}<extra></extra>\",\"legendgroup\":\"\",\"marker\":{\"color\":\"#636efa\",\"pattern\":{\"shape\":\"\"}},\"name\":\"\",\"offsetgroup\":\"\",\"orientation\":\"v\",\"showlegend\":false,\"x\":[\"新潮社\",\"新潮社\",\"講談社\",\"講談社\",\"Wordsworth Editions\",\"講談社\",\"集英社\",\"集英社\",\"集英社\",\"Penguin Random House\",\"祥伝社\",\"幻冬舎\",\"白泉社\",\"Penguin Random House\",\"幻冬舎\",\"小学館\",\"祥伝社\",\"幻冬舎\",\"KADOKAWA\",\"KADOKAWA\",\"講談社\",\"KADOKAWA\",\"幻冬舎\",\"Penguin Random House\",\"KADOKAWA\",\"スクウェア・エニックス\",\"泰文堂\",\"KADOKAWA\",\"幻冬舎\",\"KADOKAWA\",\"KADOKAWA\",\"KADOKAWA\",\"KADOKAWA\",\"文藝春秋\",\"KADOKAWA\",\"アルファポリス\",\"幻冬舎\",\"白泉社\",\"KADOKAWA\",\"KADOKAWA\",\"集英社\",\"KADOKAWA\",\"集英社\",\"小学館\",\"KADOKAWA\",\"KADOKAWA\",\"KADOKAWA\",\"Bloomsbury\",\"祥伝社\",\"集英社\",\"海王社\",\"William Collins\",\"幻冬舎\"],\"xaxis\":\"x\",\"yaxis\":\"y\",\"type\":\"histogram\"}],                        {\"template\":{\"data\":{\"histogram2dcontour\":[{\"type\":\"histogram2dcontour\",\"colorbar\":{\"outlinewidth\":0,\"ticks\":\"\"},\"colorscale\":[[0.0,\"#0d0887\"],[0.1111111111111111,\"#46039f\"],[0.2222222222222222,\"#7201a8\"],[0.3333333333333333,\"#9c179e\"],[0.4444444444444444,\"#bd3786\"],[0.5555555555555556,\"#d8576b\"],[0.6666666666666666,\"#ed7953\"],[0.7777777777777778,\"#fb9f3a\"],[0.8888888888888888,\"#fdca26\"],[1.0,\"#f0f921\"]]}],\"choropleth\":[{\"type\":\"choropleth\",\"colorbar\":{\"outlinewidth\":0,\"ticks\":\"\"}}],\"histogram2d\":[{\"type\":\"histogram2d\",\"colorbar\":{\"outlinewidth\":0,\"ticks\":\"\"},\"colorscale\":[[0.0,\"#0d0887\"],[0.1111111111111111,\"#46039f\"],[0.2222222222222222,\"#7201a8\"],[0.3333333333333333,\"#9c179e\"],[0.4444444444444444,\"#bd3786\"],[0.5555555555555556,\"#d8576b\"],[0.6666666666666666,\"#ed7953\"],[0.7777777777777778,\"#fb9f3a\"],[0.8888888888888888,\"#fdca26\"],[1.0,\"#f0f921\"]]}],\"heatmap\":[{\"type\":\"heatmap\",\"colorbar\":{\"outlinewidth\":0,\"ticks\":\"\"},\"colorscale\":[[0.0,\"#0d0887\"],[0.1111111111111111,\"#46039f\"],[0.2222222222222222,\"#7201a8\"],[0.3333333333333333,\"#9c179e\"],[0.4444444444444444,\"#bd3786\"],[0.5555555555555556,\"#d8576b\"],[0.6666666666666666,\"#ed7953\"],[0.7777777777777778,\"#fb9f3a\"],[0.8888888888888888,\"#fdca26\"],[1.0,\"#f0f921\"]]}],\"heatmapgl\":[{\"type\":\"heatmapgl\",\"colorbar\":{\"outlinewidth\":0,\"ticks\":\"\"},\"colorscale\":[[0.0,\"#0d0887\"],[0.1111111111111111,\"#46039f\"],[0.2222222222222222,\"#7201a8\"],[0.3333333333333333,\"#9c179e\"],[0.4444444444444444,\"#bd3786\"],[0.5555555555555556,\"#d8576b\"],[0.6666666666666666,\"#ed7953\"],[0.7777777777777778,\"#fb9f3a\"],[0.8888888888888888,\"#fdca26\"],[1.0,\"#f0f921\"]]}],\"contourcarpet\":[{\"type\":\"contourcarpet\",\"colorbar\":{\"outlinewidth\":0,\"ticks\":\"\"}}],\"contour\":[{\"type\":\"contour\",\"colorbar\":{\"outlinewidth\":0,\"ticks\":\"\"},\"colorscale\":[[0.0,\"#0d0887\"],[0.1111111111111111,\"#46039f\"],[0.2222222222222222,\"#7201a8\"],[0.3333333333333333,\"#9c179e\"],[0.4444444444444444,\"#bd3786\"],[0.5555555555555556,\"#d8576b\"],[0.6666666666666666,\"#ed7953\"],[0.7777777777777778,\"#fb9f3a\"],[0.8888888888888888,\"#fdca26\"],[1.0,\"#f0f921\"]]}],\"surface\":[{\"type\":\"surface\",\"colorbar\":{\"outlinewidth\":0,\"ticks\":\"\"},\"colorscale\":[[0.0,\"#0d0887\"],[0.1111111111111111,\"#46039f\"],[0.2222222222222222,\"#7201a8\"],[0.3333333333333333,\"#9c179e\"],[0.4444444444444444,\"#bd3786\"],[0.5555555555555556,\"#d8576b\"],[0.6666666666666666,\"#ed7953\"],[0.7777777777777778,\"#fb9f3a\"],[0.8888888888888888,\"#fdca26\"],[1.0,\"#f0f921\"]]}],\"mesh3d\":[{\"type\":\"mesh3d\",\"colorbar\":{\"outlinewidth\":0,\"ticks\":\"\"}}],\"scatter\":[{\"fillpattern\":{\"fillmode\":\"overlay\",\"size\":10,\"solidity\":0.2},\"type\":\"scatter\"}],\"parcoords\":[{\"type\":\"parcoords\",\"line\":{\"colorbar\":{\"outlinewidth\":0,\"ticks\":\"\"}}}],\"scatterpolargl\":[{\"type\":\"scatterpolargl\",\"marker\":{\"colorbar\":{\"outlinewidth\":0,\"ticks\":\"\"}}}],\"bar\":[{\"error_x\":{\"color\":\"#2a3f5f\"},\"error_y\":{\"color\":\"#2a3f5f\"},\"marker\":{\"line\":{\"color\":\"#E5ECF6\",\"width\":0.5},\"pattern\":{\"fillmode\":\"overlay\",\"size\":10,\"solidity\":0.2}},\"type\":\"bar\"}],\"scattergeo\":[{\"type\":\"scattergeo\",\"marker\":{\"colorbar\":{\"outlinewidth\":0,\"ticks\":\"\"}}}],\"scatterpolar\":[{\"type\":\"scatterpolar\",\"marker\":{\"colorbar\":{\"outlinewidth\":0,\"ticks\":\"\"}}}],\"histogram\":[{\"marker\":{\"pattern\":{\"fillmode\":\"overlay\",\"size\":10,\"solidity\":0.2}},\"type\":\"histogram\"}],\"scattergl\":[{\"type\":\"scattergl\",\"marker\":{\"colorbar\":{\"outlinewidth\":0,\"ticks\":\"\"}}}],\"scatter3d\":[{\"type\":\"scatter3d\",\"line\":{\"colorbar\":{\"outlinewidth\":0,\"ticks\":\"\"}},\"marker\":{\"colorbar\":{\"outlinewidth\":0,\"ticks\":\"\"}}}],\"scattermapbox\":[{\"type\":\"scattermapbox\",\"marker\":{\"colorbar\":{\"outlinewidth\":0,\"ticks\":\"\"}}}],\"scatterternary\":[{\"type\":\"scatterternary\",\"marker\":{\"colorbar\":{\"outlinewidth\":0,\"ticks\":\"\"}}}],\"scattercarpet\":[{\"type\":\"scattercarpet\",\"marker\":{\"colorbar\":{\"outlinewidth\":0,\"ticks\":\"\"}}}],\"carpet\":[{\"aaxis\":{\"endlinecolor\":\"#2a3f5f\",\"gridcolor\":\"white\",\"linecolor\":\"white\",\"minorgridcolor\":\"white\",\"startlinecolor\":\"#2a3f5f\"},\"baxis\":{\"endlinecolor\":\"#2a3f5f\",\"gridcolor\":\"white\",\"linecolor\":\"white\",\"minorgridcolor\":\"white\",\"startlinecolor\":\"#2a3f5f\"},\"type\":\"carpet\"}],\"table\":[{\"cells\":{\"fill\":{\"color\":\"#EBF0F8\"},\"line\":{\"color\":\"white\"}},\"header\":{\"fill\":{\"color\":\"#C8D4E3\"},\"line\":{\"color\":\"white\"}},\"type\":\"table\"}],\"barpolar\":[{\"marker\":{\"line\":{\"color\":\"#E5ECF6\",\"width\":0.5},\"pattern\":{\"fillmode\":\"overlay\",\"size\":10,\"solidity\":0.2}},\"type\":\"barpolar\"}],\"pie\":[{\"automargin\":true,\"type\":\"pie\"}]},\"layout\":{\"autotypenumbers\":\"strict\",\"colorway\":[\"#636efa\",\"#EF553B\",\"#00cc96\",\"#ab63fa\",\"#FFA15A\",\"#19d3f3\",\"#FF6692\",\"#B6E880\",\"#FF97FF\",\"#FECB52\"],\"font\":{\"color\":\"#2a3f5f\"},\"hovermode\":\"closest\",\"hoverlabel\":{\"align\":\"left\"},\"paper_bgcolor\":\"white\",\"plot_bgcolor\":\"#E5ECF6\",\"polar\":{\"bgcolor\":\"#E5ECF6\",\"angularaxis\":{\"gridcolor\":\"white\",\"linecolor\":\"white\",\"ticks\":\"\"},\"radialaxis\":{\"gridcolor\":\"white\",\"linecolor\":\"white\",\"ticks\":\"\"}},\"ternary\":{\"bgcolor\":\"#E5ECF6\",\"aaxis\":{\"gridcolor\":\"white\",\"linecolor\":\"white\",\"ticks\":\"\"},\"baxis\":{\"gridcolor\":\"white\",\"linecolor\":\"white\",\"ticks\":\"\"},\"caxis\":{\"gridcolor\":\"white\",\"linecolor\":\"white\",\"ticks\":\"\"}},\"coloraxis\":{\"colorbar\":{\"outlinewidth\":0,\"ticks\":\"\"}},\"colorscale\":{\"sequential\":[[0.0,\"#0d0887\"],[0.1111111111111111,\"#46039f\"],[0.2222222222222222,\"#7201a8\"],[0.3333333333333333,\"#9c179e\"],[0.4444444444444444,\"#bd3786\"],[0.5555555555555556,\"#d8576b\"],[0.6666666666666666,\"#ed7953\"],[0.7777777777777778,\"#fb9f3a\"],[0.8888888888888888,\"#fdca26\"],[1.0,\"#f0f921\"]],\"sequentialminus\":[[0.0,\"#0d0887\"],[0.1111111111111111,\"#46039f\"],[0.2222222222222222,\"#7201a8\"],[0.3333333333333333,\"#9c179e\"],[0.4444444444444444,\"#bd3786\"],[0.5555555555555556,\"#d8576b\"],[0.6666666666666666,\"#ed7953\"],[0.7777777777777778,\"#fb9f3a\"],[0.8888888888888888,\"#fdca26\"],[1.0,\"#f0f921\"]],\"diverging\":[[0,\"#8e0152\"],[0.1,\"#c51b7d\"],[0.2,\"#de77ae\"],[0.3,\"#f1b6da\"],[0.4,\"#fde0ef\"],[0.5,\"#f7f7f7\"],[0.6,\"#e6f5d0\"],[0.7,\"#b8e186\"],[0.8,\"#7fbc41\"],[0.9,\"#4d9221\"],[1,\"#276419\"]]},\"xaxis\":{\"gridcolor\":\"white\",\"linecolor\":\"white\",\"ticks\":\"\",\"title\":{\"standoff\":15},\"zerolinecolor\":\"white\",\"automargin\":true,\"zerolinewidth\":2},\"yaxis\":{\"gridcolor\":\"white\",\"linecolor\":\"white\",\"ticks\":\"\",\"title\":{\"standoff\":15},\"zerolinecolor\":\"white\",\"automargin\":true,\"zerolinewidth\":2},\"scene\":{\"xaxis\":{\"backgroundcolor\":\"#E5ECF6\",\"gridcolor\":\"white\",\"linecolor\":\"white\",\"showbackground\":true,\"ticks\":\"\",\"zerolinecolor\":\"white\",\"gridwidth\":2},\"yaxis\":{\"backgroundcolor\":\"#E5ECF6\",\"gridcolor\":\"white\",\"linecolor\":\"white\",\"showbackground\":true,\"ticks\":\"\",\"zerolinecolor\":\"white\",\"gridwidth\":2},\"zaxis\":{\"backgroundcolor\":\"#E5ECF6\",\"gridcolor\":\"white\",\"linecolor\":\"white\",\"showbackground\":true,\"ticks\":\"\",\"zerolinecolor\":\"white\",\"gridwidth\":2}},\"shapedefaults\":{\"line\":{\"color\":\"#2a3f5f\"}},\"annotationdefaults\":{\"arrowcolor\":\"#2a3f5f\",\"arrowhead\":0,\"arrowwidth\":1},\"geo\":{\"bgcolor\":\"white\",\"landcolor\":\"#E5ECF6\",\"subunitcolor\":\"white\",\"showland\":true,\"showlakes\":true,\"lakecolor\":\"white\"},\"title\":{\"x\":0.05},\"mapbox\":{\"style\":\"light\"}}},\"xaxis\":{\"anchor\":\"y\",\"domain\":[0.0,1.0],\"title\":{\"text\":\"publisher\"}},\"yaxis\":{\"anchor\":\"x\",\"domain\":[0.0,1.0],\"title\":{\"text\":\"count\"}},\"legend\":{\"tracegroupgap\":0},\"margin\":{\"t\":60},\"barmode\":\"relative\"},                        {\"responsive\": true}                    ).then(function(){\n",
       "                            \n",
       "var gd = document.getElementById('1d884feb-b910-42cf-93c0-e6fd9c55b490');\n",
       "var x = new MutationObserver(function (mutations, observer) {{\n",
       "        var display = window.getComputedStyle(gd).display;\n",
       "        if (!display || display === 'none') {{\n",
       "            console.log([gd, 'removed!']);\n",
       "            Plotly.purge(gd);\n",
       "            observer.disconnect();\n",
       "        }}\n",
       "}});\n",
       "\n",
       "// Listen for the removal of the full notebook cells\n",
       "var notebookContainer = gd.closest('#notebook-container');\n",
       "if (notebookContainer) {{\n",
       "    x.observe(notebookContainer, {childList: true});\n",
       "}}\n",
       "\n",
       "// Listen for the clearing of the current output cell\n",
       "var outputEl = gd.closest('.output');\n",
       "if (outputEl) {{\n",
       "    x.observe(outputEl, {childList: true});\n",
       "}}\n",
       "\n",
       "                        })                };                });            </script>        </div>"
      ]
     },
     "metadata": {},
     "output_type": "display_data"
    }
   ],
   "source": [
    "px.histogram( completion_date_unknown, x = \"publisher\")"
   ]
  },
  {
   "cell_type": "code",
   "execution_count": 43,
   "id": "f743dce3",
   "metadata": {
    "execution": {
     "iopub.execute_input": "2022-06-07T07:03:02.682035Z",
     "iopub.status.busy": "2022-06-07T07:03:02.681655Z",
     "iopub.status.idle": "2022-06-07T07:03:02.690719Z",
     "shell.execute_reply": "2022-06-07T07:03:02.689709Z"
    },
    "papermill": {
     "duration": 0.033706,
     "end_time": "2022-06-07T07:03:02.692699",
     "exception": false,
     "start_time": "2022-06-07T07:03:02.658993",
     "status": "completed"
    },
    "tags": []
   },
   "outputs": [
    {
     "data": {
      "text/plain": [
       "array(['講談社', '幻冬舎', 'KADOKAWA', '文藝春秋', '集英社'], dtype=object)"
      ]
     },
     "execution_count": 43,
     "metadata": {},
     "output_type": "execute_result"
    }
   ],
   "source": [
    "completion_date_unknown[(completion_date_unknown[\"author(s)\"] ==\"東野 圭吾\")|(completion_date_unknown[\"author(s)\"] ==\"藤崎 都\")|(completion_date_unknown[\"author(s)\"] ==\"日丸屋 秀和\")][\"publisher\"].unique()"
   ]
  },
  {
   "cell_type": "code",
   "execution_count": 44,
   "id": "78adbcb6",
   "metadata": {
    "execution": {
     "iopub.execute_input": "2022-06-07T07:03:02.736927Z",
     "iopub.status.busy": "2022-06-07T07:03:02.736543Z",
     "iopub.status.idle": "2022-06-07T07:03:02.891108Z",
     "shell.execute_reply": "2022-06-07T07:03:02.890038Z"
    },
    "papermill": {
     "duration": 0.178983,
     "end_time": "2022-06-07T07:03:02.893301",
     "exception": false,
     "start_time": "2022-06-07T07:03:02.714318",
     "status": "completed"
    },
    "tags": []
   },
   "outputs": [
    {
     "data": {
      "text/plain": [
       "<AxesSubplot:xlabel='type', ylabel='count'>"
      ]
     },
     "execution_count": 44,
     "metadata": {},
     "output_type": "execute_result"
    },
    {
     "data": {
      "image/png": "[encoded data removed]",
      "text/plain": [
       "<Figure size 432x288 with 1 Axes>"
      ]
     },
     "metadata": {},
     "output_type": "display_data"
    }
   ],
   "source": [
    "sns.countplot(x = \"type\", data = completion_date_unknown )"
   ]
  },
  {
   "cell_type": "code",
   "execution_count": 45,
   "id": "fd204f39",
   "metadata": {
    "execution": {
     "iopub.execute_input": "2022-06-07T07:03:02.938571Z",
     "iopub.status.busy": "2022-06-07T07:03:02.937993Z",
     "iopub.status.idle": "2022-06-07T07:03:02.991420Z",
     "shell.execute_reply": "2022-06-07T07:03:02.990678Z"
    },
    "papermill": {
     "duration": 0.078428,
     "end_time": "2022-06-07T07:03:02.993411",
     "exception": false,
     "start_time": "2022-06-07T07:03:02.914983",
     "status": "completed"
    },
    "tags": []
   },
   "outputs": [
    {
     "data": {
      "text/html": [
       "<div>                            <div id=\"f661c624-0834-444b-9012-f787223725ae\" class=\"plotly-graph-div\" style=\"height:525px; width:100%;\"></div>            <script type=\"text/javascript\">                require([\"plotly\"], function(Plotly) {                    window.PLOTLYENV=window.PLOTLYENV || {};                                    if (document.getElementById(\"f661c624-0834-444b-9012-f787223725ae\")) {                    Plotly.newPlot(                        \"f661c624-0834-444b-9012-f787223725ae\",                        [{\"alignmentgroup\":\"True\",\"bingroup\":\"x\",\"hovertemplate\":\"genre=%{x}<br>count=%{y}<extra></extra>\",\"legendgroup\":\"\",\"marker\":{\"color\":\"#636efa\",\"pattern\":{\"shape\":\"\"}},\"name\":\"\",\"offsetgroup\":\"\",\"orientation\":\"v\",\"showlegend\":false,\"x\":[\"science fiction\",\"Fantasy\",\"Mystery\",\"Mystery\",\"Mystery\",\"Mystery\",\"Romance\",\"Romance\",\"Romance\",\"Romance\",\"Humour/ Satire\",\"Humour/ Satire\",\"Fantasy\",\"Dystopian\",\"Humour/ Satire\",\"Romance\",\"Humour/ Satire\",\"Humour/ Satire\",\"Mystery\",\"Mystery\",\"Fantasy\",\"Mystery\",\"Humour/ Satire\",\"Mystery\",\"Romance\",\"Fantasy\",\"Romance\",\"Mystery\",\"Humour/ Satire\",\"Romance\",\"Romance\",\"Mystery\",\"Fantasy\",\"Mystery\",\"Romance\",\"Romance\",\"Humour/ Satire\",\"Fantasy\",\"Romance\",\"Fantasy\",\"Mystery\",\"Fantasy\",\"Mystery\",\"Literary Fiction\",\"Romance\",\"Mystery\",\"仕事小説\",\"Bildungsroman\",\"Humour/ Satire\",\"Mystery\",\"Romance\",\"Adventure\",\"Contemporary\"],\"xaxis\":\"x\",\"yaxis\":\"y\",\"type\":\"histogram\"}],                        {\"template\":{\"data\":{\"histogram2dcontour\":[{\"type\":\"histogram2dcontour\",\"colorbar\":{\"outlinewidth\":0,\"ticks\":\"\"},\"colorscale\":[[0.0,\"#0d0887\"],[0.1111111111111111,\"#46039f\"],[0.2222222222222222,\"#7201a8\"],[0.3333333333333333,\"#9c179e\"],[0.4444444444444444,\"#bd3786\"],[0.5555555555555556,\"#d8576b\"],[0.6666666666666666,\"#ed7953\"],[0.7777777777777778,\"#fb9f3a\"],[0.8888888888888888,\"#fdca26\"],[1.0,\"#f0f921\"]]}],\"choropleth\":[{\"type\":\"choropleth\",\"colorbar\":{\"outlinewidth\":0,\"ticks\":\"\"}}],\"histogram2d\":[{\"type\":\"histogram2d\",\"colorbar\":{\"outlinewidth\":0,\"ticks\":\"\"},\"colorscale\":[[0.0,\"#0d0887\"],[0.1111111111111111,\"#46039f\"],[0.2222222222222222,\"#7201a8\"],[0.3333333333333333,\"#9c179e\"],[0.4444444444444444,\"#bd3786\"],[0.5555555555555556,\"#d8576b\"],[0.6666666666666666,\"#ed7953\"],[0.7777777777777778,\"#fb9f3a\"],[0.8888888888888888,\"#fdca26\"],[1.0,\"#f0f921\"]]}],\"heatmap\":[{\"type\":\"heatmap\",\"colorbar\":{\"outlinewidth\":0,\"ticks\":\"\"},\"colorscale\":[[0.0,\"#0d0887\"],[0.1111111111111111,\"#46039f\"],[0.2222222222222222,\"#7201a8\"],[0.3333333333333333,\"#9c179e\"],[0.4444444444444444,\"#bd3786\"],[0.5555555555555556,\"#d8576b\"],[0.6666666666666666,\"#ed7953\"],[0.7777777777777778,\"#fb9f3a\"],[0.8888888888888888,\"#fdca26\"],[1.0,\"#f0f921\"]]}],\"heatmapgl\":[{\"type\":\"heatmapgl\",\"colorbar\":{\"outlinewidth\":0,\"ticks\":\"\"},\"colorscale\":[[0.0,\"#0d0887\"],[0.1111111111111111,\"#46039f\"],[0.2222222222222222,\"#7201a8\"],[0.3333333333333333,\"#9c179e\"],[0.4444444444444444,\"#bd3786\"],[0.5555555555555556,\"#d8576b\"],[0.6666666666666666,\"#ed7953\"],[0.7777777777777778,\"#fb9f3a\"],[0.8888888888888888,\"#fdca26\"],[1.0,\"#f0f921\"]]}],\"contourcarpet\":[{\"type\":\"contourcarpet\",\"colorbar\":{\"outlinewidth\":0,\"ticks\":\"\"}}],\"contour\":[{\"type\":\"contour\",\"colorbar\":{\"outlinewidth\":0,\"ticks\":\"\"},\"colorscale\":[[0.0,\"#0d0887\"],[0.1111111111111111,\"#46039f\"],[0.2222222222222222,\"#7201a8\"],[0.3333333333333333,\"#9c179e\"],[0.4444444444444444,\"#bd3786\"],[0.5555555555555556,\"#d8576b\"],[0.6666666666666666,\"#ed7953\"],[0.7777777777777778,\"#fb9f3a\"],[0.8888888888888888,\"#fdca26\"],[1.0,\"#f0f921\"]]}],\"surface\":[{\"type\":\"surface\",\"colorbar\":{\"outlinewidth\":0,\"ticks\":\"\"},\"colorscale\":[[0.0,\"#0d0887\"],[0.1111111111111111,\"#46039f\"],[0.2222222222222222,\"#7201a8\"],[0.3333333333333333,\"#9c179e\"],[0.4444444444444444,\"#bd3786\"],[0.5555555555555556,\"#d8576b\"],[0.6666666666666666,\"#ed7953\"],[0.7777777777777778,\"#fb9f3a\"],[0.8888888888888888,\"#fdca26\"],[1.0,\"#f0f921\"]]}],\"mesh3d\":[{\"type\":\"mesh3d\",\"colorbar\":{\"outlinewidth\":0,\"ticks\":\"\"}}],\"scatter\":[{\"fillpattern\":{\"fillmode\":\"overlay\",\"size\":10,\"solidity\":0.2},\"type\":\"scatter\"}],\"parcoords\":[{\"type\":\"parcoords\",\"line\":{\"colorbar\":{\"outlinewidth\":0,\"ticks\":\"\"}}}],\"scatterpolargl\":[{\"type\":\"scatterpolargl\",\"marker\":{\"colorbar\":{\"outlinewidth\":0,\"ticks\":\"\"}}}],\"bar\":[{\"error_x\":{\"color\":\"#2a3f5f\"},\"error_y\":{\"color\":\"#2a3f5f\"},\"marker\":{\"line\":{\"color\":\"#E5ECF6\",\"width\":0.5},\"pattern\":{\"fillmode\":\"overlay\",\"size\":10,\"solidity\":0.2}},\"type\":\"bar\"}],\"scattergeo\":[{\"type\":\"scattergeo\",\"marker\":{\"colorbar\":{\"outlinewidth\":0,\"ticks\":\"\"}}}],\"scatterpolar\":[{\"type\":\"scatterpolar\",\"marker\":{\"colorbar\":{\"outlinewidth\":0,\"ticks\":\"\"}}}],\"histogram\":[{\"marker\":{\"pattern\":{\"fillmode\":\"overlay\",\"size\":10,\"solidity\":0.2}},\"type\":\"histogram\"}],\"scattergl\":[{\"type\":\"scattergl\",\"marker\":{\"colorbar\":{\"outlinewidth\":0,\"ticks\":\"\"}}}],\"scatter3d\":[{\"type\":\"scatter3d\",\"line\":{\"colorbar\":{\"outlinewidth\":0,\"ticks\":\"\"}},\"marker\":{\"colorbar\":{\"outlinewidth\":0,\"ticks\":\"\"}}}],\"scattermapbox\":[{\"type\":\"scattermapbox\",\"marker\":{\"colorbar\":{\"outlinewidth\":0,\"ticks\":\"\"}}}],\"scatterternary\":[{\"type\":\"scatterternary\",\"marker\":{\"colorbar\":{\"outlinewidth\":0,\"ticks\":\"\"}}}],\"scattercarpet\":[{\"type\":\"scattercarpet\",\"marker\":{\"colorbar\":{\"outlinewidth\":0,\"ticks\":\"\"}}}],\"carpet\":[{\"aaxis\":{\"endlinecolor\":\"#2a3f5f\",\"gridcolor\":\"white\",\"linecolor\":\"white\",\"minorgridcolor\":\"white\",\"startlinecolor\":\"#2a3f5f\"},\"baxis\":{\"endlinecolor\":\"#2a3f5f\",\"gridcolor\":\"white\",\"linecolor\":\"white\",\"minorgridcolor\":\"white\",\"startlinecolor\":\"#2a3f5f\"},\"type\":\"carpet\"}],\"table\":[{\"cells\":{\"fill\":{\"color\":\"#EBF0F8\"},\"line\":{\"color\":\"white\"}},\"header\":{\"fill\":{\"color\":\"#C8D4E3\"},\"line\":{\"color\":\"white\"}},\"type\":\"table\"}],\"barpolar\":[{\"marker\":{\"line\":{\"color\":\"#E5ECF6\",\"width\":0.5},\"pattern\":{\"fillmode\":\"overlay\",\"size\":10,\"solidity\":0.2}},\"type\":\"barpolar\"}],\"pie\":[{\"automargin\":true,\"type\":\"pie\"}]},\"layout\":{\"autotypenumbers\":\"strict\",\"colorway\":[\"#636efa\",\"#EF553B\",\"#00cc96\",\"#ab63fa\",\"#FFA15A\",\"#19d3f3\",\"#FF6692\",\"#B6E880\",\"#FF97FF\",\"#FECB52\"],\"font\":{\"color\":\"#2a3f5f\"},\"hovermode\":\"closest\",\"hoverlabel\":{\"align\":\"left\"},\"paper_bgcolor\":\"white\",\"plot_bgcolor\":\"#E5ECF6\",\"polar\":{\"bgcolor\":\"#E5ECF6\",\"angularaxis\":{\"gridcolor\":\"white\",\"linecolor\":\"white\",\"ticks\":\"\"},\"radialaxis\":{\"gridcolor\":\"white\",\"linecolor\":\"white\",\"ticks\":\"\"}},\"ternary\":{\"bgcolor\":\"#E5ECF6\",\"aaxis\":{\"gridcolor\":\"white\",\"linecolor\":\"white\",\"ticks\":\"\"},\"baxis\":{\"gridcolor\":\"white\",\"linecolor\":\"white\",\"ticks\":\"\"},\"caxis\":{\"gridcolor\":\"white\",\"linecolor\":\"white\",\"ticks\":\"\"}},\"coloraxis\":{\"colorbar\":{\"outlinewidth\":0,\"ticks\":\"\"}},\"colorscale\":{\"sequential\":[[0.0,\"#0d0887\"],[0.1111111111111111,\"#46039f\"],[0.2222222222222222,\"#7201a8\"],[0.3333333333333333,\"#9c179e\"],[0.4444444444444444,\"#bd3786\"],[0.5555555555555556,\"#d8576b\"],[0.6666666666666666,\"#ed7953\"],[0.7777777777777778,\"#fb9f3a\"],[0.8888888888888888,\"#fdca26\"],[1.0,\"#f0f921\"]],\"sequentialminus\":[[0.0,\"#0d0887\"],[0.1111111111111111,\"#46039f\"],[0.2222222222222222,\"#7201a8\"],[0.3333333333333333,\"#9c179e\"],[0.4444444444444444,\"#bd3786\"],[0.5555555555555556,\"#d8576b\"],[0.6666666666666666,\"#ed7953\"],[0.7777777777777778,\"#fb9f3a\"],[0.8888888888888888,\"#fdca26\"],[1.0,\"#f0f921\"]],\"diverging\":[[0,\"#8e0152\"],[0.1,\"#c51b7d\"],[0.2,\"#de77ae\"],[0.3,\"#f1b6da\"],[0.4,\"#fde0ef\"],[0.5,\"#f7f7f7\"],[0.6,\"#e6f5d0\"],[0.7,\"#b8e186\"],[0.8,\"#7fbc41\"],[0.9,\"#4d9221\"],[1,\"#276419\"]]},\"xaxis\":{\"gridcolor\":\"white\",\"linecolor\":\"white\",\"ticks\":\"\",\"title\":{\"standoff\":15},\"zerolinecolor\":\"white\",\"automargin\":true,\"zerolinewidth\":2},\"yaxis\":{\"gridcolor\":\"white\",\"linecolor\":\"white\",\"ticks\":\"\",\"title\":{\"standoff\":15},\"zerolinecolor\":\"white\",\"automargin\":true,\"zerolinewidth\":2},\"scene\":{\"xaxis\":{\"backgroundcolor\":\"#E5ECF6\",\"gridcolor\":\"white\",\"linecolor\":\"white\",\"showbackground\":true,\"ticks\":\"\",\"zerolinecolor\":\"white\",\"gridwidth\":2},\"yaxis\":{\"backgroundcolor\":\"#E5ECF6\",\"gridcolor\":\"white\",\"linecolor\":\"white\",\"showbackground\":true,\"ticks\":\"\",\"zerolinecolor\":\"white\",\"gridwidth\":2},\"zaxis\":{\"backgroundcolor\":\"#E5ECF6\",\"gridcolor\":\"white\",\"linecolor\":\"white\",\"showbackground\":true,\"ticks\":\"\",\"zerolinecolor\":\"white\",\"gridwidth\":2}},\"shapedefaults\":{\"line\":{\"color\":\"#2a3f5f\"}},\"annotationdefaults\":{\"arrowcolor\":\"#2a3f5f\",\"arrowhead\":0,\"arrowwidth\":1},\"geo\":{\"bgcolor\":\"white\",\"landcolor\":\"#E5ECF6\",\"subunitcolor\":\"white\",\"showland\":true,\"showlakes\":true,\"lakecolor\":\"white\"},\"title\":{\"x\":0.05},\"mapbox\":{\"style\":\"light\"}}},\"xaxis\":{\"anchor\":\"y\",\"domain\":[0.0,1.0],\"title\":{\"text\":\"genre\"}},\"yaxis\":{\"anchor\":\"x\",\"domain\":[0.0,1.0],\"title\":{\"text\":\"count\"}},\"legend\":{\"tracegroupgap\":0},\"margin\":{\"t\":60},\"barmode\":\"relative\"},                        {\"responsive\": true}                    ).then(function(){\n",
       "                            \n",
       "var gd = document.getElementById('f661c624-0834-444b-9012-f787223725ae');\n",
       "var x = new MutationObserver(function (mutations, observer) {{\n",
       "        var display = window.getComputedStyle(gd).display;\n",
       "        if (!display || display === 'none') {{\n",
       "            console.log([gd, 'removed!']);\n",
       "            Plotly.purge(gd);\n",
       "            observer.disconnect();\n",
       "        }}\n",
       "}});\n",
       "\n",
       "// Listen for the removal of the full notebook cells\n",
       "var notebookContainer = gd.closest('#notebook-container');\n",
       "if (notebookContainer) {{\n",
       "    x.observe(notebookContainer, {childList: true});\n",
       "}}\n",
       "\n",
       "// Listen for the clearing of the current output cell\n",
       "var outputEl = gd.closest('.output');\n",
       "if (outputEl) {{\n",
       "    x.observe(outputEl, {childList: true});\n",
       "}}\n",
       "\n",
       "                        })                };                });            </script>        </div>"
      ]
     },
     "metadata": {},
     "output_type": "display_data"
    }
   ],
   "source": [
    "px.histogram( completion_date_unknown, x = \"genre\")"
   ]
  },
  {
   "cell_type": "code",
   "execution_count": 46,
   "id": "fb92a247",
   "metadata": {
    "execution": {
     "iopub.execute_input": "2022-06-07T07:03:03.040147Z",
     "iopub.status.busy": "2022-06-07T07:03:03.039493Z",
     "iopub.status.idle": "2022-06-07T07:03:03.298647Z",
     "shell.execute_reply": "2022-06-07T07:03:03.297697Z"
    },
    "papermill": {
     "duration": 0.285254,
     "end_time": "2022-06-07T07:03:03.301126",
     "exception": false,
     "start_time": "2022-06-07T07:03:03.015872",
     "status": "completed"
    },
    "tags": []
   },
   "outputs": [
    {
     "data": {
      "text/plain": [
       "<AxesSubplot:xlabel='publication_year', ylabel='count'>"
      ]
     },
     "execution_count": 46,
     "metadata": {},
     "output_type": "execute_result"
    },
    {
     "data": {
      "image/png": "[encoded data removed]",
      "text/plain": [
       "<Figure size 1080x720 with 1 Axes>"
      ]
     },
     "metadata": {},
     "output_type": "display_data"
    }
   ],
   "source": [
    "plt.figure(figsize = (15,10))\n",
    "sns.countplot(x = \"publication_year\", data = completion_date_unknown )"
   ]
  },
  {
   "cell_type": "code",
   "execution_count": 47,
   "id": "e182f2dd",
   "metadata": {
    "execution": {
     "iopub.execute_input": "2022-06-07T07:03:03.347901Z",
     "iopub.status.busy": "2022-06-07T07:03:03.346826Z",
     "iopub.status.idle": "2022-06-07T07:03:03.465500Z",
     "shell.execute_reply": "2022-06-07T07:03:03.464792Z"
    },
    "papermill": {
     "duration": 0.144151,
     "end_time": "2022-06-07T07:03:03.467433",
     "exception": false,
     "start_time": "2022-06-07T07:03:03.323282",
     "status": "completed"
    },
    "tags": []
   },
   "outputs": [
    {
     "data": {
      "text/plain": [
       "<AxesSubplot:xlabel='review', ylabel='count'>"
      ]
     },
     "execution_count": 47,
     "metadata": {},
     "output_type": "execute_result"
    },
    {
     "data": {
      "image/png": "[encoded data removed]",
      "text/plain": [
       "<Figure size 432x288 with 1 Axes>"
      ]
     },
     "metadata": {},
     "output_type": "display_data"
    }
   ],
   "source": [
    "sns.countplot(x = \"review\", data = completion_date_unknown,)"
   ]
  },
  {
   "cell_type": "code",
   "execution_count": 48,
   "id": "5632bd80",
   "metadata": {
    "execution": {
     "iopub.execute_input": "2022-06-07T07:03:03.515140Z",
     "iopub.status.busy": "2022-06-07T07:03:03.514731Z",
     "iopub.status.idle": "2022-06-07T07:03:03.521906Z",
     "shell.execute_reply": "2022-06-07T07:03:03.521035Z"
    },
    "papermill": {
     "duration": 0.03295,
     "end_time": "2022-06-07T07:03:03.523733",
     "exception": false,
     "start_time": "2022-06-07T07:03:03.490783",
     "status": "completed"
    },
    "tags": []
   },
   "outputs": [
    {
     "data": {
      "text/plain": [
       "64.15094339622642"
      ]
     },
     "execution_count": 48,
     "metadata": {},
     "output_type": "execute_result"
    }
   ],
   "source": [
    "(1-completion_date_unknown[\"rating\"].isnull().sum()/completion_date_unknown.shape[0])*100"
   ]
  },
  {
   "cell_type": "code",
   "execution_count": 49,
   "id": "cc467947",
   "metadata": {
    "execution": {
     "iopub.execute_input": "2022-06-07T07:03:03.570776Z",
     "iopub.status.busy": "2022-06-07T07:03:03.570228Z",
     "iopub.status.idle": "2022-06-07T07:03:03.859221Z",
     "shell.execute_reply": "2022-06-07T07:03:03.858445Z"
    },
    "papermill": {
     "duration": 0.314867,
     "end_time": "2022-06-07T07:03:03.861051",
     "exception": false,
     "start_time": "2022-06-07T07:03:03.546184",
     "status": "completed"
    },
    "tags": []
   },
   "outputs": [
    {
     "data": {
      "text/plain": [
       "<seaborn.axisgrid.FacetGrid at 0x7f6cfac443d0>"
      ]
     },
     "execution_count": 49,
     "metadata": {},
     "output_type": "execute_result"
    },
    {
     "data": {
      "image/png": "[encoded data removed]",
      "text/plain": [
       "<Figure size 360x360 with 1 Axes>"
      ]
     },
     "metadata": {},
     "output_type": "display_data"
    }
   ],
   "source": [
    "sns.displot(x = \"rating\", data = completion_date_unknown, kind= \"kde\")"
   ]
  },
  {
   "cell_type": "code",
   "execution_count": 50,
   "id": "c95c08e3",
   "metadata": {
    "execution": {
     "iopub.execute_input": "2022-06-07T07:03:03.909536Z",
     "iopub.status.busy": "2022-06-07T07:03:03.908861Z",
     "iopub.status.idle": "2022-06-07T07:03:03.914750Z",
     "shell.execute_reply": "2022-06-07T07:03:03.914094Z"
    },
    "papermill": {
     "duration": 0.032082,
     "end_time": "2022-06-07T07:03:03.916445",
     "exception": false,
     "start_time": "2022-06-07T07:03:03.884363",
     "status": "completed"
    },
    "tags": []
   },
   "outputs": [
    {
     "data": {
      "text/plain": [
       "5.0"
      ]
     },
     "execution_count": 50,
     "metadata": {},
     "output_type": "execute_result"
    }
   ],
   "source": [
    "completion_date_unknown[\"rating\"].max()"
   ]
  },
  {
   "cell_type": "markdown",
   "id": "d5b1c367",
   "metadata": {
    "papermill": {
     "duration": 0.023994,
     "end_time": "2022-06-07T07:03:03.964320",
     "exception": false,
     "start_time": "2022-06-07T07:03:03.940326",
     "status": "completed"
    },
    "tags": []
   },
   "source": [
    "# completion books"
   ]
  },
  {
   "cell_type": "code",
   "execution_count": 51,
   "id": "cdca0500",
   "metadata": {
    "execution": {
     "iopub.execute_input": "2022-06-07T07:03:04.013881Z",
     "iopub.status.busy": "2022-06-07T07:03:04.013217Z",
     "iopub.status.idle": "2022-06-07T07:03:04.019076Z",
     "shell.execute_reply": "2022-06-07T07:03:04.018376Z"
    },
    "papermill": {
     "duration": 0.03272,
     "end_time": "2022-06-07T07:03:04.021014",
     "exception": false,
     "start_time": "2022-06-07T07:03:03.988294",
     "status": "completed"
    },
    "tags": []
   },
   "outputs": [],
   "source": [
    "Completed = Completed.dropna(subset = [\"completion date\"])"
   ]
  },
  {
   "cell_type": "code",
   "execution_count": 52,
   "id": "74ff06b8",
   "metadata": {
    "execution": {
     "iopub.execute_input": "2022-06-07T07:03:04.070043Z",
     "iopub.status.busy": "2022-06-07T07:03:04.069400Z",
     "iopub.status.idle": "2022-06-07T07:03:04.146406Z",
     "shell.execute_reply": "2022-06-07T07:03:04.145365Z"
    },
    "papermill": {
     "duration": 0.104061,
     "end_time": "2022-06-07T07:03:04.148787",
     "exception": false,
     "start_time": "2022-06-07T07:03:04.044726",
     "status": "completed"
    },
    "tags": []
   },
   "outputs": [
    {
     "data": {
      "text/html": [
       "<div>                            <div id=\"b836ab07-8041-4380-b3a0-853746008002\" class=\"plotly-graph-div\" style=\"height:525px; width:100%;\"></div>            <script type=\"text/javascript\">                require([\"plotly\"], function(Plotly) {                    window.PLOTLYENV=window.PLOTLYENV || {};                                    if (document.getElementById(\"b836ab07-8041-4380-b3a0-853746008002\")) {                    Plotly.newPlot(                        \"b836ab07-8041-4380-b3a0-853746008002\",                        [{\"alignmentgroup\":\"True\",\"hovertemplate\":\"completion date=%{x}<br>pages=%{y}<extra></extra>\",\"legendgroup\":\"\",\"marker\":{\"color\":\"#636efa\",\"pattern\":{\"shape\":\"\"}},\"name\":\"\",\"offsetgroup\":\"\",\"orientation\":\"v\",\"showlegend\":false,\"textposition\":\"auto\",\"x\":[\"2020-12-05T00:00:00\",\"2020-06-24T00:00:00\",\"2019-02-28T00:00:00\",\"2018-02-15T00:00:00\",\"2020-11-01T00:00:00\",\"2020-07-17T00:00:00\",\"2020-10-26T00:00:00\",\"2017-05-10T00:00:00\",\"2020-08-06T00:00:00\",\"2017-03-17T00:00:00\",\"2018-06-14T00:00:00\",\"2017-09-12T00:00:00\",\"2020-10-24T00:00:00\",\"2018-09-01T00:00:00\",\"2018-09-06T00:00:00\",\"2019-07-20T00:00:00\",\"2017-04-18T00:00:00\",\"2017-06-28T00:00:00\",\"2020-04-26T00:00:00\",\"2017-07-21T00:00:00\",\"2019-03-10T00:00:00\",\"2019-01-03T00:00:00\",\"2017-06-13T00:00:00\",\"2017-03-25T00:00:00\",\"2017-05-28T00:00:00\",\"2020-01-18T00:00:00\",\"2020-10-06T00:00:00\",\"2019-09-13T00:00:00\",\"2020-10-04T00:00:00\",\"2018-01-09T00:00:00\",\"2017-04-06T00:00:00\",\"2018-05-17T00:00:00\",\"2017-05-23T00:00:00\",\"2017-02-22T00:00:00\",\"2020-11-18T00:00:00\",\"2019-04-18T00:00:00\",\"2019-03-25T00:00:00\",\"2017-03-05T00:00:00\",\"2017-06-02T00:00:00\",\"2020-08-17T00:00:00\",\"2017-08-31T00:00:00\",\"2018-07-10T00:00:00\",\"2022-04-08T00:00:00\",\"2020-12-13T00:00:00\",\"2017-10-04T00:00:00\",\"2021-10-06T00:00:00\",\"2018-06-25T00:00:00\",\"2021-01-11T00:00:00\",\"2018-01-19T00:00:00\",\"2020-06-21T00:00:00\",\"2018-03-09T00:00:00\",\"2020-10-16T00:00:00\",\"2019-01-10T00:00:00\",\"2020-06-06T00:00:00\",\"2018-09-10T00:00:00\",\"2020-07-10T00:00:00\",\"2020-01-08T00:00:00\",\"2019-01-15T00:00:00\",\"2021-07-02T00:00:00\",\"2020-11-09T00:00:00\",\"2019-10-03T00:00:00\",\"2020-11-17T00:00:00\",\"2020-11-14T00:00:00\",\"2017-08-26T00:00:00\",\"2020-12-31T00:00:00\",\"2017-10-24T00:00:00\",\"2020-12-28T00:00:00\",\"2020-12-30T00:00:00\",\"2017-02-28T00:00:00\",\"2020-10-27T00:00:00\",\"2018-03-12T00:00:00\",\"2020-03-11T00:00:00\",\"2017-03-20T00:00:00\",\"2017-09-25T00:00:00\",\"2020-11-06T00:00:00\",\"2020-07-19T00:00:00\",\"2019-02-08T00:00:00\",\"2021-03-31T00:00:00\",\"2020-11-24T00:00:00\",\"2018-04-30T00:00:00\",\"2018-03-24T00:00:00\",\"2020-12-22T00:00:00\",\"2021-05-31T00:00:00\",\"2017-07-07T00:00:00\",\"2018-08-30T00:00:00\",\"2017-06-28T00:00:00\",\"2018-01-31T00:00:00\",\"2020-12-03T00:00:00\",\"2018-03-17T00:00:00\",\"2017-06-08T00:00:00\",\"2019-06-27T00:00:00\",\"2018-12-22T00:00:00\",\"2018-04-25T00:00:00\",\"2019-06-16T00:00:00\",\"2018-05-25T00:00:00\",\"2022-04-10T00:00:00\",\"2021-12-07T00:00:00\",\"2017-06-28T00:00:00\",\"2022-02-20T00:00:00\",\"2018-02-21T00:00:00\",\"2018-04-27T00:00:00\",\"2019-01-29T00:00:00\",\"2018-12-21T00:00:00\",\"2017-02-14T00:00:00\",\"2018-01-20T00:00:00\",\"2022-04-26T00:00:00\",\"2019-06-11T00:00:00\",\"2017-02-12T00:00:00\",\"2016-12-17T00:00:00\",\"2019-01-31T00:00:00\",\"2017-02-17T00:00:00\",\"2020-11-07T00:00:00\",\"2017-03-15T00:00:00\",\"2020-02-04T00:00:00\",\"2021-01-25T00:00:00\",\"2020-10-12T00:00:00\",\"2017-01-10T00:00:00\",\"2019-12-24T00:00:00\",\"2021-09-13T00:00:00\",\"2017-07-13T00:00:00\",\"2017-05-18T00:00:00\",\"2018-01-05T00:00:00\",\"2017-12-10T00:00:00\",\"2019-03-19T00:00:00\",\"2017-02-17T00:00:00\",\"2022-02-20T00:00:00\",\"2019-09-13T00:00:00\",\"2019-01-26T00:00:00\",\"2019-12-14T00:00:00\",\"2019-02-04T00:00:00\",\"2017-03-08T00:00:00\",\"2018-06-03T00:00:00\",\"2018-06-06T00:00:00\",\"2018-10-04T00:00:00\",\"2018-08-11T00:00:00\",\"2018-02-05T00:00:00\",\"2021-08-20T00:00:00\",\"2020-01-22T00:00:00\",\"2017-10-16T00:00:00\",\"2018-03-30T00:00:00\",\"2020-08-06T00:00:00\",\"2017-09-28T00:00:00\",\"2018-04-15T00:00:00\",\"2018-04-07T00:00:00\",\"2017-06-20T00:00:00\",\"2019-05-25T00:00:00\",\"2022-04-01T00:00:00\",\"2021-12-12T00:00:00\",\"2018-05-09T00:00:00\",\"2021-10-16T00:00:00\",\"2018-11-01T00:00:00\",\"2020-09-26T00:00:00\",\"2020-09-04T00:00:00\",\"2017-02-25T00:00:00\",\"2019-11-07T00:00:00\",\"2019-06-19T00:00:00\",\"2019-05-21T00:00:00\",\"2019-04-11T00:00:00\",\"2019-12-09T00:00:00\",\"2017-10-08T00:00:00\",\"2019-05-17T00:00:00\",\"2018-04-17T00:00:00\",\"2021-05-30T00:00:00\",\"2021-01-17T00:00:00\",\"2020-05-31T00:00:00\",\"2020-11-29T00:00:00\",\"2017-03-31T00:00:00\",\"2020-04-27T00:00:00\",\"2019-08-28T00:00:00\",\"2017-02-07T00:00:00\",\"2021-11-30T00:00:00\",\"2018-01-01T00:00:00\",\"2020-10-10T00:00:00\",\"2021-06-28T00:00:00\",\"2021-05-31T00:00:00\",\"2018-03-31T00:00:00\",\"2020-12-10T00:00:00\",\"2022-04-22T00:00:00\",\"2017-01-20T00:00:00\",\"2021-08-23T00:00:00\",\"2019-07-03T00:00:00\",\"2017-02-25T00:00:00\",\"2019-08-11T00:00:00\",\"2019-07-23T00:00:00\",\"2017-04-27T00:00:00\",\"2020-10-11T00:00:00\",\"2018-02-25T00:00:00\",\"2017-02-08T00:00:00\",\"2019-03-04T00:00:00\",\"2017-03-09T00:00:00\",\"2018-04-05T00:00:00\",\"2020-12-23T00:00:00\",\"2021-12-21T00:00:00\",\"2018-04-02T00:00:00\",\"2017-08-23T00:00:00\",\"2018-02-07T00:00:00\",\"2017-11-25T00:00:00\",\"2020-05-31T00:00:00\",\"2017-01-03T00:00:00\",\"2019-03-08T00:00:00\",\"2019-01-23T00:00:00\",\"2018-01-27T00:00:00\",\"2020-09-27T00:00:00\",\"2018-05-28T00:00:00\",\"2018-02-16T00:00:00\",\"2021-05-23T00:00:00\",\"2018-12-25T00:00:00\",\"2018-09-24T00:00:00\",\"2017-02-17T00:00:00\",\"2019-03-27T00:00:00\",\"2022-04-30T00:00:00\",\"2020-01-10T00:00:00\",\"2018-01-31T00:00:00\",\"2018-09-08T00:00:00\",\"2017-05-31T00:00:00\",\"2022-01-06T00:00:00\",\"2021-07-12T00:00:00\",\"2020-12-24T00:00:00\",\"2017-09-21T00:00:00\",\"2018-05-11T00:00:00\",\"2017-03-11T00:00:00\",\"2017-11-13T00:00:00\",\"2018-06-09T00:00:00\",\"2020-10-09T00:00:00\",\"2019-03-14T00:00:00\",\"2018-02-03T00:00:00\",\"2018-10-12T00:00:00\",\"2018-12-29T00:00:00\",\"2018-01-23T00:00:00\",\"2018-01-16T00:00:00\",\"2017-09-05T00:00:00\",\"2019-01-05T00:00:00\",\"2022-01-17T00:00:00\",\"2020-06-27T00:00:00\",\"2019-05-29T00:00:00\",\"2017-12-12T00:00:00\",\"2019-07-31T00:00:00\",\"2020-05-07T00:00:00\",\"2020-12-26T00:00:00\",\"2020-11-12T00:00:00\",\"2017-10-10T00:00:00\",\"2021-10-16T00:00:00\",\"2021-06-08T00:00:00\",\"2020-10-29T00:00:00\",\"2018-12-03T00:00:00\",\"2017-11-29T00:00:00\",\"2019-06-23T00:00:00\",\"2019-01-08T00:00:00\",\"2019-12-31T00:00:00\",\"2020-11-26T00:00:00\",\"2021-07-01T00:00:00\",\"2018-04-22T00:00:00\",\"2020-01-12T00:00:00\",\"2020-09-21T00:00:00\",\"2019-12-16T00:00:00\",\"2018-12-10T00:00:00\",\"2018-05-19T00:00:00\",\"2021-11-13T00:00:00\",\"2021-02-06T00:00:00\",\"2021-09-26T00:00:00\",\"2020-12-08T00:00:00\",\"2018-04-12T00:00:00\",\"2018-03-08T00:00:00\",\"2021-09-13T00:00:00\",\"2021-11-03T00:00:00\",\"2021-05-04T00:00:00\",\"2019-02-18T00:00:00\",\"2017-11-06T00:00:00\",\"2020-01-26T00:00:00\",\"2021-09-25T00:00:00\",\"2019-02-02T00:00:00\",\"2020-01-05T00:00:00\",\"2019-04-04T00:00:00\",\"2022-01-06T00:00:00\",\"2019-07-19T00:00:00\",\"2021-05-11T00:00:00\",\"2020-10-17T00:00:00\",\"2019-12-10T00:00:00\",\"2020-02-09T00:00:00\",\"2022-04-29T00:00:00\",\"2021-04-06T00:00:00\",\"2018-03-22T00:00:00\",\"2021-05-25T00:00:00\",\"2020-08-22T00:00:00\",\"2020-05-03T00:00:00\",\"2021-03-02T00:00:00\",\"2020-08-30T00:00:00\",\"2021-08-14T00:00:00\",\"2020-08-25T00:00:00\",\"2019-06-23T00:00:00\",\"2021-06-06T00:00:00\",\"2021-09-01T00:00:00\",\"2021-07-15T00:00:00\",\"2022-03-11T00:00:00\",\"2021-06-02T00:00:00\",\"2021-06-01T00:00:00\",\"2020-10-03T00:00:00\",\"2020-02-18T00:00:00\",\"2020-10-02T00:00:00\",\"2021-08-14T00:00:00\",\"2021-12-25T00:00:00\",\"2021-08-25T00:00:00\",\"2018-12-30T00:00:00\",\"2017-08-08T00:00:00\",\"2018-03-02T00:00:00\",\"2019-02-16T00:00:00\",\"2022-04-13T00:00:00\",\"2021-04-23T00:00:00\",\"2021-03-21T00:00:00\",\"2021-05-11T00:00:00\",\"2022-03-22T00:00:00\",\"2018-01-26T00:00:00\",\"2021-05-06T00:00:00\",\"2021-07-05T00:00:00\",\"2022-04-18T00:00:00\",\"2021-01-03T00:00:00\",\"2021-06-29T00:00:00\",\"2021-12-31T00:00:00\",\"2022-01-05T00:00:00\",\"2022-04-17T00:00:00\",\"2021-09-10T00:00:00\",\"2021-11-03T00:00:00\",\"2022-01-10T00:00:00\",\"2019-04-30T00:00:00\",\"2021-04-27T00:00:00\",\"2018-09-19T00:00:00\",\"2022-04-29T00:00:00\",\"2020-02-19T00:00:00\"],\"xaxis\":\"x\",\"y\":[368,339,261,371,563,318,592,272,252,328,329,256,528,181,176,224,224,31,528,160,528,416,330,304,272,337,270,464,201,347,244,360,228,304,190,253,190,288,282,394,288,336,336,272,266,336,456,455,273,736,304,477,288,320,256,784,368,288,345,288,392,499,256,435,256,256,304,160,320,328,224,382,222,320,672,256,438,272,800,192,327,768,192,275,204,357,416,368,512,415,408,288,338,326,320,368,368,128,72,342,280,256,416,153,128,288,448,166,271,232,166,432,125,480,272,512,248,496,218,336,256,336,352,256,158,448,240,736,286,232,278,292,275,381,260,327,436,365,274,496,353,353,384,320,338,256,365,365,912,328,440,736,287,287,640,480,384,352,272,229,413,344,259,256,400,347,384,368,512,127,384,243,252,320,256,608,319,288,256,370,320,173,380,496,296,224,349,409,274,127,338,344,432,256,512,368,400,672,262,256,496,240,304,304,352,608,448,368,256,672,304,304,192,512,127,302,304,288,354,324,338,370,299,394,338,354,336,176,328,416,560,528,176,368,224,400,367,480,288,320,127,385,320,156,428,464,256,256,512,256,560,560,336,432,400,400,127,150,352,299,320,421,416,288,127,272,544,544,272,320,496,110,320,320,373,288,368,240,752,352,352,528,211,432,304,320,224,400,240,288,192,208,416,192,448,288,464,432,368,244,336,288,736,432,656,480,272,208,290,304,416,352,368,608,512,400,352,336,384,288,304,244,322,400,528,304,272,160],\"yaxis\":\"y\",\"type\":\"bar\"}],                        {\"template\":{\"data\":{\"histogram2dcontour\":[{\"type\":\"histogram2dcontour\",\"colorbar\":{\"outlinewidth\":0,\"ticks\":\"\"},\"colorscale\":[[0.0,\"#0d0887\"],[0.1111111111111111,\"#46039f\"],[0.2222222222222222,\"#7201a8\"],[0.3333333333333333,\"#9c179e\"],[0.4444444444444444,\"#bd3786\"],[0.5555555555555556,\"#d8576b\"],[0.6666666666666666,\"#ed7953\"],[0.7777777777777778,\"#fb9f3a\"],[0.8888888888888888,\"#fdca26\"],[1.0,\"#f0f921\"]]}],\"choropleth\":[{\"type\":\"choropleth\",\"colorbar\":{\"outlinewidth\":0,\"ticks\":\"\"}}],\"histogram2d\":[{\"type\":\"histogram2d\",\"colorbar\":{\"outlinewidth\":0,\"ticks\":\"\"},\"colorscale\":[[0.0,\"#0d0887\"],[0.1111111111111111,\"#46039f\"],[0.2222222222222222,\"#7201a8\"],[0.3333333333333333,\"#9c179e\"],[0.4444444444444444,\"#bd3786\"],[0.5555555555555556,\"#d8576b\"],[0.6666666666666666,\"#ed7953\"],[0.7777777777777778,\"#fb9f3a\"],[0.8888888888888888,\"#fdca26\"],[1.0,\"#f0f921\"]]}],\"heatmap\":[{\"type\":\"heatmap\",\"colorbar\":{\"outlinewidth\":0,\"ticks\":\"\"},\"colorscale\":[[0.0,\"#0d0887\"],[0.1111111111111111,\"#46039f\"],[0.2222222222222222,\"#7201a8\"],[0.3333333333333333,\"#9c179e\"],[0.4444444444444444,\"#bd3786\"],[0.5555555555555556,\"#d8576b\"],[0.6666666666666666,\"#ed7953\"],[0.7777777777777778,\"#fb9f3a\"],[0.8888888888888888,\"#fdca26\"],[1.0,\"#f0f921\"]]}],\"heatmapgl\":[{\"type\":\"heatmapgl\",\"colorbar\":{\"outlinewidth\":0,\"ticks\":\"\"},\"colorscale\":[[0.0,\"#0d0887\"],[0.1111111111111111,\"#46039f\"],[0.2222222222222222,\"#7201a8\"],[0.3333333333333333,\"#9c179e\"],[0.4444444444444444,\"#bd3786\"],[0.5555555555555556,\"#d8576b\"],[0.6666666666666666,\"#ed7953\"],[0.7777777777777778,\"#fb9f3a\"],[0.8888888888888888,\"#fdca26\"],[1.0,\"#f0f921\"]]}],\"contourcarpet\":[{\"type\":\"contourcarpet\",\"colorbar\":{\"outlinewidth\":0,\"ticks\":\"\"}}],\"contour\":[{\"type\":\"contour\",\"colorbar\":{\"outlinewidth\":0,\"ticks\":\"\"},\"colorscale\":[[0.0,\"#0d0887\"],[0.1111111111111111,\"#46039f\"],[0.2222222222222222,\"#7201a8\"],[0.3333333333333333,\"#9c179e\"],[0.4444444444444444,\"#bd3786\"],[0.5555555555555556,\"#d8576b\"],[0.6666666666666666,\"#ed7953\"],[0.7777777777777778,\"#fb9f3a\"],[0.8888888888888888,\"#fdca26\"],[1.0,\"#f0f921\"]]}],\"surface\":[{\"type\":\"surface\",\"colorbar\":{\"outlinewidth\":0,\"ticks\":\"\"},\"colorscale\":[[0.0,\"#0d0887\"],[0.1111111111111111,\"#46039f\"],[0.2222222222222222,\"#7201a8\"],[0.3333333333333333,\"#9c179e\"],[0.4444444444444444,\"#bd3786\"],[0.5555555555555556,\"#d8576b\"],[0.6666666666666666,\"#ed7953\"],[0.7777777777777778,\"#fb9f3a\"],[0.8888888888888888,\"#fdca26\"],[1.0,\"#f0f921\"]]}],\"mesh3d\":[{\"type\":\"mesh3d\",\"colorbar\":{\"outlinewidth\":0,\"ticks\":\"\"}}],\"scatter\":[{\"fillpattern\":{\"fillmode\":\"overlay\",\"size\":10,\"solidity\":0.2},\"type\":\"scatter\"}],\"parcoords\":[{\"type\":\"parcoords\",\"line\":{\"colorbar\":{\"outlinewidth\":0,\"ticks\":\"\"}}}],\"scatterpolargl\":[{\"type\":\"scatterpolargl\",\"marker\":{\"colorbar\":{\"outlinewidth\":0,\"ticks\":\"\"}}}],\"bar\":[{\"error_x\":{\"color\":\"#2a3f5f\"},\"error_y\":{\"color\":\"#2a3f5f\"},\"marker\":{\"line\":{\"color\":\"#E5ECF6\",\"width\":0.5},\"pattern\":{\"fillmode\":\"overlay\",\"size\":10,\"solidity\":0.2}},\"type\":\"bar\"}],\"scattergeo\":[{\"type\":\"scattergeo\",\"marker\":{\"colorbar\":{\"outlinewidth\":0,\"ticks\":\"\"}}}],\"scatterpolar\":[{\"type\":\"scatterpolar\",\"marker\":{\"colorbar\":{\"outlinewidth\":0,\"ticks\":\"\"}}}],\"histogram\":[{\"marker\":{\"pattern\":{\"fillmode\":\"overlay\",\"size\":10,\"solidity\":0.2}},\"type\":\"histogram\"}],\"scattergl\":[{\"type\":\"scattergl\",\"marker\":{\"colorbar\":{\"outlinewidth\":0,\"ticks\":\"\"}}}],\"scatter3d\":[{\"type\":\"scatter3d\",\"line\":{\"colorbar\":{\"outlinewidth\":0,\"ticks\":\"\"}},\"marker\":{\"colorbar\":{\"outlinewidth\":0,\"ticks\":\"\"}}}],\"scattermapbox\":[{\"type\":\"scattermapbox\",\"marker\":{\"colorbar\":{\"outlinewidth\":0,\"ticks\":\"\"}}}],\"scatterternary\":[{\"type\":\"scatterternary\",\"marker\":{\"colorbar\":{\"outlinewidth\":0,\"ticks\":\"\"}}}],\"scattercarpet\":[{\"type\":\"scattercarpet\",\"marker\":{\"colorbar\":{\"outlinewidth\":0,\"ticks\":\"\"}}}],\"carpet\":[{\"aaxis\":{\"endlinecolor\":\"#2a3f5f\",\"gridcolor\":\"white\",\"linecolor\":\"white\",\"minorgridcolor\":\"white\",\"startlinecolor\":\"#2a3f5f\"},\"baxis\":{\"endlinecolor\":\"#2a3f5f\",\"gridcolor\":\"white\",\"linecolor\":\"white\",\"minorgridcolor\":\"white\",\"startlinecolor\":\"#2a3f5f\"},\"type\":\"carpet\"}],\"table\":[{\"cells\":{\"fill\":{\"color\":\"#EBF0F8\"},\"line\":{\"color\":\"white\"}},\"header\":{\"fill\":{\"color\":\"#C8D4E3\"},\"line\":{\"color\":\"white\"}},\"type\":\"table\"}],\"barpolar\":[{\"marker\":{\"line\":{\"color\":\"#E5ECF6\",\"width\":0.5},\"pattern\":{\"fillmode\":\"overlay\",\"size\":10,\"solidity\":0.2}},\"type\":\"barpolar\"}],\"pie\":[{\"automargin\":true,\"type\":\"pie\"}]},\"layout\":{\"autotypenumbers\":\"strict\",\"colorway\":[\"#636efa\",\"#EF553B\",\"#00cc96\",\"#ab63fa\",\"#FFA15A\",\"#19d3f3\",\"#FF6692\",\"#B6E880\",\"#FF97FF\",\"#FECB52\"],\"font\":{\"color\":\"#2a3f5f\"},\"hovermode\":\"closest\",\"hoverlabel\":{\"align\":\"left\"},\"paper_bgcolor\":\"white\",\"plot_bgcolor\":\"#E5ECF6\",\"polar\":{\"bgcolor\":\"#E5ECF6\",\"angularaxis\":{\"gridcolor\":\"white\",\"linecolor\":\"white\",\"ticks\":\"\"},\"radialaxis\":{\"gridcolor\":\"white\",\"linecolor\":\"white\",\"ticks\":\"\"}},\"ternary\":{\"bgcolor\":\"#E5ECF6\",\"aaxis\":{\"gridcolor\":\"white\",\"linecolor\":\"white\",\"ticks\":\"\"},\"baxis\":{\"gridcolor\":\"white\",\"linecolor\":\"white\",\"ticks\":\"\"},\"caxis\":{\"gridcolor\":\"white\",\"linecolor\":\"white\",\"ticks\":\"\"}},\"coloraxis\":{\"colorbar\":{\"outlinewidth\":0,\"ticks\":\"\"}},\"colorscale\":{\"sequential\":[[0.0,\"#0d0887\"],[0.1111111111111111,\"#46039f\"],[0.2222222222222222,\"#7201a8\"],[0.3333333333333333,\"#9c179e\"],[0.4444444444444444,\"#bd3786\"],[0.5555555555555556,\"#d8576b\"],[0.6666666666666666,\"#ed7953\"],[0.7777777777777778,\"#fb9f3a\"],[0.8888888888888888,\"#fdca26\"],[1.0,\"#f0f921\"]],\"sequentialminus\":[[0.0,\"#0d0887\"],[0.1111111111111111,\"#46039f\"],[0.2222222222222222,\"#7201a8\"],[0.3333333333333333,\"#9c179e\"],[0.4444444444444444,\"#bd3786\"],[0.5555555555555556,\"#d8576b\"],[0.6666666666666666,\"#ed7953\"],[0.7777777777777778,\"#fb9f3a\"],[0.8888888888888888,\"#fdca26\"],[1.0,\"#f0f921\"]],\"diverging\":[[0,\"#8e0152\"],[0.1,\"#c51b7d\"],[0.2,\"#de77ae\"],[0.3,\"#f1b6da\"],[0.4,\"#fde0ef\"],[0.5,\"#f7f7f7\"],[0.6,\"#e6f5d0\"],[0.7,\"#b8e186\"],[0.8,\"#7fbc41\"],[0.9,\"#4d9221\"],[1,\"#276419\"]]},\"xaxis\":{\"gridcolor\":\"white\",\"linecolor\":\"white\",\"ticks\":\"\",\"title\":{\"standoff\":15},\"zerolinecolor\":\"white\",\"automargin\":true,\"zerolinewidth\":2},\"yaxis\":{\"gridcolor\":\"white\",\"linecolor\":\"white\",\"ticks\":\"\",\"title\":{\"standoff\":15},\"zerolinecolor\":\"white\",\"automargin\":true,\"zerolinewidth\":2},\"scene\":{\"xaxis\":{\"backgroundcolor\":\"#E5ECF6\",\"gridcolor\":\"white\",\"linecolor\":\"white\",\"showbackground\":true,\"ticks\":\"\",\"zerolinecolor\":\"white\",\"gridwidth\":2},\"yaxis\":{\"backgroundcolor\":\"#E5ECF6\",\"gridcolor\":\"white\",\"linecolor\":\"white\",\"showbackground\":true,\"ticks\":\"\",\"zerolinecolor\":\"white\",\"gridwidth\":2},\"zaxis\":{\"backgroundcolor\":\"#E5ECF6\",\"gridcolor\":\"white\",\"linecolor\":\"white\",\"showbackground\":true,\"ticks\":\"\",\"zerolinecolor\":\"white\",\"gridwidth\":2}},\"shapedefaults\":{\"line\":{\"color\":\"#2a3f5f\"}},\"annotationdefaults\":{\"arrowcolor\":\"#2a3f5f\",\"arrowhead\":0,\"arrowwidth\":1},\"geo\":{\"bgcolor\":\"white\",\"landcolor\":\"#E5ECF6\",\"subunitcolor\":\"white\",\"showland\":true,\"showlakes\":true,\"lakecolor\":\"white\"},\"title\":{\"x\":0.05},\"mapbox\":{\"style\":\"light\"}}},\"xaxis\":{\"anchor\":\"y\",\"domain\":[0.0,1.0],\"title\":{\"text\":\"completion date\"}},\"yaxis\":{\"anchor\":\"x\",\"domain\":[0.0,1.0],\"title\":{\"text\":\"pages\"},\"range\":[0,1150]},\"legend\":{\"tracegroupgap\":0},\"margin\":{\"t\":60},\"barmode\":\"relative\"},                        {\"responsive\": true}                    ).then(function(){\n",
       "                            \n",
       "var gd = document.getElementById('b836ab07-8041-4380-b3a0-853746008002');\n",
       "var x = new MutationObserver(function (mutations, observer) {{\n",
       "        var display = window.getComputedStyle(gd).display;\n",
       "        if (!display || display === 'none') {{\n",
       "            console.log([gd, 'removed!']);\n",
       "            Plotly.purge(gd);\n",
       "            observer.disconnect();\n",
       "        }}\n",
       "}});\n",
       "\n",
       "// Listen for the removal of the full notebook cells\n",
       "var notebookContainer = gd.closest('#notebook-container');\n",
       "if (notebookContainer) {{\n",
       "    x.observe(notebookContainer, {childList: true});\n",
       "}}\n",
       "\n",
       "// Listen for the clearing of the current output cell\n",
       "var outputEl = gd.closest('.output');\n",
       "if (outputEl) {{\n",
       "    x.observe(outputEl, {childList: true});\n",
       "}}\n",
       "\n",
       "                        })                };                });            </script>        </div>"
      ]
     },
     "metadata": {},
     "output_type": "display_data"
    }
   ],
   "source": [
    "fig = px.bar( Completed, x= \"completion date\", y = \"pages\")\n",
    "fig.update_layout(yaxis_range = [0,1150])"
   ]
  },
  {
   "cell_type": "code",
   "execution_count": 53,
   "id": "181ea707",
   "metadata": {
    "execution": {
     "iopub.execute_input": "2022-06-07T07:03:04.199312Z",
     "iopub.status.busy": "2022-06-07T07:03:04.198926Z",
     "iopub.status.idle": "2022-06-07T07:03:04.496013Z",
     "shell.execute_reply": "2022-06-07T07:03:04.494972Z"
    },
    "papermill": {
     "duration": 0.325708,
     "end_time": "2022-06-07T07:03:04.498786",
     "exception": false,
     "start_time": "2022-06-07T07:03:04.173078",
     "status": "completed"
    },
    "tags": []
   },
   "outputs": [
    {
     "data": {
      "image/png": "[encoded data removed]",
      "text/plain": [
       "<Figure size 432x288 with 1 Axes>"
      ]
     },
     "metadata": {},
     "output_type": "display_data"
    }
   ],
   "source": [
    "sns.barplot( x= \"completion_year\", y = \"pages\", data = Completed)\n",
    "plt.show()"
   ]
  },
  {
   "cell_type": "code",
   "execution_count": 54,
   "id": "a7a498a7",
   "metadata": {
    "execution": {
     "iopub.execute_input": "2022-06-07T07:03:04.548651Z",
     "iopub.status.busy": "2022-06-07T07:03:04.548265Z",
     "iopub.status.idle": "2022-06-07T07:03:04.699801Z",
     "shell.execute_reply": "2022-06-07T07:03:04.699050Z"
    },
    "papermill": {
     "duration": 0.179138,
     "end_time": "2022-06-07T07:03:04.702004",
     "exception": false,
     "start_time": "2022-06-07T07:03:04.522866",
     "status": "completed"
    },
    "tags": []
   },
   "outputs": [
    {
     "data": {
      "image/png": "[encoded data removed]",
      "text/plain": [
       "<Figure size 432x288 with 1 Axes>"
      ]
     },
     "metadata": {},
     "output_type": "display_data"
    }
   ],
   "source": [
    "sns.countplot( x= \"completion_year\",data = Completed)\n",
    "plt.show()"
   ]
  },
  {
   "cell_type": "code",
   "execution_count": 55,
   "id": "04bbc41a",
   "metadata": {
    "execution": {
     "iopub.execute_input": "2022-06-07T07:03:04.754688Z",
     "iopub.status.busy": "2022-06-07T07:03:04.754059Z",
     "iopub.status.idle": "2022-06-07T07:03:05.288762Z",
     "shell.execute_reply": "2022-06-07T07:03:05.288037Z"
    },
    "papermill": {
     "duration": 0.563245,
     "end_time": "2022-06-07T07:03:05.290850",
     "exception": false,
     "start_time": "2022-06-07T07:03:04.727605",
     "status": "completed"
    },
    "tags": []
   },
   "outputs": [
    {
     "data": {
      "image/png": "[encoded data removed]",
      "text/plain": [
       "<Figure size 432x288 with 1 Axes>"
      ]
     },
     "metadata": {},
     "output_type": "display_data"
    }
   ],
   "source": [
    "sns.barplot( x= \"completion_month\", y = \"pages\", data = Completed)\n",
    "plt.show()"
   ]
  },
  {
   "cell_type": "code",
   "execution_count": 56,
   "id": "bf467d90",
   "metadata": {
    "execution": {
     "iopub.execute_input": "2022-06-07T07:03:05.343809Z",
     "iopub.status.busy": "2022-06-07T07:03:05.342542Z",
     "iopub.status.idle": "2022-06-07T07:03:06.953407Z",
     "shell.execute_reply": "2022-06-07T07:03:06.952359Z"
    },
    "papermill": {
     "duration": 1.640368,
     "end_time": "2022-06-07T07:03:06.956201",
     "exception": false,
     "start_time": "2022-06-07T07:03:05.315833",
     "status": "completed"
    },
    "tags": []
   },
   "outputs": [
    {
     "data": {
      "image/png": "[encoded data removed]",
      "text/plain": [
       "<Figure size 1728x864 with 7 Axes>"
      ]
     },
     "metadata": {},
     "output_type": "display_data"
    }
   ],
   "source": [
    "g = sns.FacetGrid(Completed, col='completion_year', height=6, col_wrap=4)\n",
    "g.map(sns.histplot, \"completion_month\",)\n",
    "plt.show()"
   ]
  },
  {
   "cell_type": "code",
   "execution_count": 57,
   "id": "4aae21d3",
   "metadata": {
    "execution": {
     "iopub.execute_input": "2022-06-07T07:03:07.008518Z",
     "iopub.status.busy": "2022-06-07T07:03:07.007477Z",
     "iopub.status.idle": "2022-06-07T07:03:10.172681Z",
     "shell.execute_reply": "2022-06-07T07:03:10.171740Z"
    },
    "papermill": {
     "duration": 3.193686,
     "end_time": "2022-06-07T07:03:10.174743",
     "exception": false,
     "start_time": "2022-06-07T07:03:06.981057",
     "status": "completed"
    },
    "tags": []
   },
   "outputs": [
    {
     "data": {
      "text/plain": [
       "<seaborn.axisgrid.FacetGrid at 0x7f6cf2686150>"
      ]
     },
     "execution_count": 57,
     "metadata": {},
     "output_type": "execute_result"
    },
    {
     "data": {
      "image/png": "[encoded data removed]",
      "text/plain": [
       "<Figure size 1440x720 with 7 Axes>"
      ]
     },
     "metadata": {},
     "output_type": "display_data"
    }
   ],
   "source": [
    "sns.catplot(data = Completed, x=\"completion_month\", y = \"pages\", col = \"completion_year\", kind = \"bar\", col_wrap=4)"
   ]
  },
  {
   "cell_type": "code",
   "execution_count": 58,
   "id": "1380611a",
   "metadata": {
    "execution": {
     "iopub.execute_input": "2022-06-07T07:03:10.234044Z",
     "iopub.status.busy": "2022-06-07T07:03:10.232854Z",
     "iopub.status.idle": "2022-06-07T07:03:10.239865Z",
     "shell.execute_reply": "2022-06-07T07:03:10.239183Z"
    },
    "papermill": {
     "duration": 0.038663,
     "end_time": "2022-06-07T07:03:10.241882",
     "exception": false,
     "start_time": "2022-06-07T07:03:10.203219",
     "status": "completed"
    },
    "tags": []
   },
   "outputs": [
    {
     "data": {
      "text/plain": [
       "317"
      ]
     },
     "execution_count": 58,
     "metadata": {},
     "output_type": "execute_result"
    }
   ],
   "source": [
    "Completed[\"Title\"].nunique()"
   ]
  },
  {
   "cell_type": "code",
   "execution_count": 59,
   "id": "22999b5e",
   "metadata": {
    "execution": {
     "iopub.execute_input": "2022-06-07T07:03:10.300226Z",
     "iopub.status.busy": "2022-06-07T07:03:10.299622Z",
     "iopub.status.idle": "2022-06-07T07:03:10.311916Z",
     "shell.execute_reply": "2022-06-07T07:03:10.311141Z"
    },
    "papermill": {
     "duration": 0.043482,
     "end_time": "2022-06-07T07:03:10.313819",
     "exception": false,
     "start_time": "2022-06-07T07:03:10.270337",
     "status": "completed"
    },
    "tags": []
   },
   "outputs": [
    {
     "data": {
      "text/html": [
       "<div>\n",
       "<style scoped>\n",
       "    .dataframe tbody tr th:only-of-type {\n",
       "        vertical-align: middle;\n",
       "    }\n",
       "\n",
       "    .dataframe tbody tr th {\n",
       "        vertical-align: top;\n",
       "    }\n",
       "\n",
       "    .dataframe thead th {\n",
       "        text-align: right;\n",
       "    }\n",
       "</style>\n",
       "<table border=\"1\" class=\"dataframe\">\n",
       "  <thead>\n",
       "    <tr style=\"text-align: right;\">\n",
       "      <th></th>\n",
       "      <th>titles</th>\n",
       "      <th>reads</th>\n",
       "    </tr>\n",
       "  </thead>\n",
       "  <tbody>\n",
       "    <tr>\n",
       "      <th>0</th>\n",
       "      <td>ぼくは明日、昨日のきみとデートする</td>\n",
       "      <td>2</td>\n",
       "    </tr>\n",
       "    <tr>\n",
       "      <th>1</th>\n",
       "      <td>Economics: The User's Guide</td>\n",
       "      <td>2</td>\n",
       "    </tr>\n",
       "    <tr>\n",
       "      <th>2</th>\n",
       "      <td>Economics</td>\n",
       "      <td>2</td>\n",
       "    </tr>\n",
       "    <tr>\n",
       "      <th>3</th>\n",
       "      <td>Magpie Murders</td>\n",
       "      <td>2</td>\n",
       "    </tr>\n",
       "    <tr>\n",
       "      <th>4</th>\n",
       "      <td>妖怪アパートの幽雅な日常 1</td>\n",
       "      <td>2</td>\n",
       "    </tr>\n",
       "  </tbody>\n",
       "</table>\n",
       "</div>"
      ],
      "text/plain": [
       "                        titles  reads\n",
       "0            ぼくは明日、昨日のきみとデートする      2\n",
       "1  Economics: The User's Guide      2\n",
       "2                    Economics      2\n",
       "3               Magpie Murders      2\n",
       "4               妖怪アパートの幽雅な日常 1      2"
      ]
     },
     "execution_count": 59,
     "metadata": {},
     "output_type": "execute_result"
    }
   ],
   "source": [
    "rereads = df[\"Title\"].value_counts().rename_axis (\"titles\").reset_index(name = \"reads\")\n",
    "rereads[rereads[\"reads\"]>1].head()"
   ]
  },
  {
   "cell_type": "code",
   "execution_count": 60,
   "id": "e3e799a2",
   "metadata": {
    "execution": {
     "iopub.execute_input": "2022-06-07T07:03:10.368410Z",
     "iopub.status.busy": "2022-06-07T07:03:10.367804Z",
     "iopub.status.idle": "2022-06-07T07:03:10.374194Z",
     "shell.execute_reply": "2022-06-07T07:03:10.373387Z"
    },
    "papermill": {
     "duration": 0.035823,
     "end_time": "2022-06-07T07:03:10.376075",
     "exception": false,
     "start_time": "2022-06-07T07:03:10.340252",
     "status": "completed"
    },
    "tags": []
   },
   "outputs": [
    {
     "data": {
      "text/plain": [
       "13"
      ]
     },
     "execution_count": 60,
     "metadata": {},
     "output_type": "execute_result"
    }
   ],
   "source": [
    "rereads[rereads[\"reads\"]>1].shape[0]"
   ]
  },
  {
   "cell_type": "code",
   "execution_count": 61,
   "id": "ef15eeb3",
   "metadata": {
    "execution": {
     "iopub.execute_input": "2022-06-07T07:03:10.432657Z",
     "iopub.status.busy": "2022-06-07T07:03:10.432008Z",
     "iopub.status.idle": "2022-06-07T07:03:10.437772Z",
     "shell.execute_reply": "2022-06-07T07:03:10.436553Z"
    },
    "papermill": {
     "duration": 0.03651,
     "end_time": "2022-06-07T07:03:10.440039",
     "exception": false,
     "start_time": "2022-06-07T07:03:10.403529",
     "status": "completed"
    },
    "tags": []
   },
   "outputs": [
    {
     "name": "stdout",
     "output_type": "stream",
     "text": [
      "3.35 % of read books were rereads\n"
     ]
    }
   ],
   "source": [
    "print(round((1 -Completed[\"Title\"].nunique()/Completed.shape[0])*100,2), \"% of read books were rereads\")"
   ]
  },
  {
   "cell_type": "code",
   "execution_count": 62,
   "id": "fa490cb4",
   "metadata": {
    "execution": {
     "iopub.execute_input": "2022-06-07T07:03:10.497703Z",
     "iopub.status.busy": "2022-06-07T07:03:10.496733Z",
     "iopub.status.idle": "2022-06-07T07:03:10.512066Z",
     "shell.execute_reply": "2022-06-07T07:03:10.511242Z"
    },
    "papermill": {
     "duration": 0.046643,
     "end_time": "2022-06-07T07:03:10.514248",
     "exception": false,
     "start_time": "2022-06-07T07:03:10.467605",
     "status": "completed"
    },
    "tags": []
   },
   "outputs": [
    {
     "data": {
      "text/html": [
       "<div>\n",
       "<style scoped>\n",
       "    .dataframe tbody tr th:only-of-type {\n",
       "        vertical-align: middle;\n",
       "    }\n",
       "\n",
       "    .dataframe tbody tr th {\n",
       "        vertical-align: top;\n",
       "    }\n",
       "\n",
       "    .dataframe thead th {\n",
       "        text-align: right;\n",
       "    }\n",
       "</style>\n",
       "<table border=\"1\" class=\"dataframe\">\n",
       "  <thead>\n",
       "    <tr style=\"text-align: right;\">\n",
       "      <th></th>\n",
       "      <th>author(s)</th>\n",
       "      <th>books/reads</th>\n",
       "    </tr>\n",
       "  </thead>\n",
       "  <tbody>\n",
       "    <tr>\n",
       "      <th>0</th>\n",
       "      <td>東野 圭吾</td>\n",
       "      <td>15</td>\n",
       "    </tr>\n",
       "    <tr>\n",
       "      <th>1</th>\n",
       "      <td>谷 瑞恵</td>\n",
       "      <td>13</td>\n",
       "    </tr>\n",
       "    <tr>\n",
       "      <th>2</th>\n",
       "      <td>香月 日輪</td>\n",
       "      <td>8</td>\n",
       "    </tr>\n",
       "    <tr>\n",
       "      <th>3</th>\n",
       "      <td>伊坂 幸太郎</td>\n",
       "      <td>7</td>\n",
       "    </tr>\n",
       "    <tr>\n",
       "      <th>4</th>\n",
       "      <td>ふじた</td>\n",
       "      <td>6</td>\n",
       "    </tr>\n",
       "  </tbody>\n",
       "</table>\n",
       "</div>"
      ],
      "text/plain": [
       "  author(s)  books/reads\n",
       "0     東野 圭吾           15\n",
       "1      谷 瑞恵           13\n",
       "2     香月 日輪            8\n",
       "3    伊坂 幸太郎            7\n",
       "4       ふじた            6"
      ]
     },
     "execution_count": 62,
     "metadata": {},
     "output_type": "execute_result"
    }
   ],
   "source": [
    "first_reads = Completed.drop_duplicates(subset = [\"Title\"], keep = \"first\"  )\n",
    "\n",
    "fav_authors = first_reads[\"author(s)\"].value_counts().rename_axis (\"author(s)\").reset_index(name = \"books/reads\")\n",
    "fav_authors[fav_authors[\"books/reads\"]>1].head()"
   ]
  },
  {
   "cell_type": "code",
   "execution_count": 63,
   "id": "77c659ec",
   "metadata": {
    "execution": {
     "iopub.execute_input": "2022-06-07T07:03:10.569173Z",
     "iopub.status.busy": "2022-06-07T07:03:10.568396Z",
     "iopub.status.idle": "2022-06-07T07:03:10.626784Z",
     "shell.execute_reply": "2022-06-07T07:03:10.626011Z"
    },
    "papermill": {
     "duration": 0.08828,
     "end_time": "2022-06-07T07:03:10.628791",
     "exception": false,
     "start_time": "2022-06-07T07:03:10.540511",
     "status": "completed"
    },
    "tags": []
   },
   "outputs": [
    {
     "data": {
      "text/html": [
       "<div>                            <div id=\"b339ade5-6f7f-41bf-90e9-e8c75ece6a15\" class=\"plotly-graph-div\" style=\"height:525px; width:100%;\"></div>            <script type=\"text/javascript\">                require([\"plotly\"], function(Plotly) {                    window.PLOTLYENV=window.PLOTLYENV || {};                                    if (document.getElementById(\"b339ade5-6f7f-41bf-90e9-e8c75ece6a15\")) {                    Plotly.newPlot(                        \"b339ade5-6f7f-41bf-90e9-e8c75ece6a15\",                        [{\"alignmentgroup\":\"True\",\"hovertemplate\":\"author(s)=%{x}<br>books/reads=%{y}<extra></extra>\",\"legendgroup\":\"\",\"marker\":{\"color\":\"#636efa\",\"pattern\":{\"shape\":\"\"}},\"name\":\"\",\"offsetgroup\":\"\",\"orientation\":\"v\",\"showlegend\":false,\"textposition\":\"auto\",\"x\":[\"東野 圭吾\",\"谷 瑞恵\",\"香月 日輪\",\"伊坂 幸太郎\",\"ふじた\",\"Leigh Bardugo\",\"成田 良悟\",\"池井戸 潤\",\"藤木 稟\",\"Brandon Sanderson\",\"知念 実希人\",\"Ian Fleming\",\"J. K. Rowling\",\"V. E. Schwab\",\"枢 やな\",\"Robert Thorogood\",\"中村 ふみ\",\"誉田 哲也\",\"Anthony Horowitz\",\"Sarah J. Maas\",\"Agatha Christie\",\"葉山 透\",\"Scott Lynch\",\"赤川 次郎\",\"乙一\",\"Wilkie Collins\",\"Jane Austen\"],\"xaxis\":\"x\",\"y\":[15,13,8,7,6,5,5,5,5,4,4,4,4,4,4,4,3,3,3,3,3,3,3,3,3,3,3],\"yaxis\":\"y\",\"type\":\"bar\"}],                        {\"template\":{\"data\":{\"histogram2dcontour\":[{\"type\":\"histogram2dcontour\",\"colorbar\":{\"outlinewidth\":0,\"ticks\":\"\"},\"colorscale\":[[0.0,\"#0d0887\"],[0.1111111111111111,\"#46039f\"],[0.2222222222222222,\"#7201a8\"],[0.3333333333333333,\"#9c179e\"],[0.4444444444444444,\"#bd3786\"],[0.5555555555555556,\"#d8576b\"],[0.6666666666666666,\"#ed7953\"],[0.7777777777777778,\"#fb9f3a\"],[0.8888888888888888,\"#fdca26\"],[1.0,\"#f0f921\"]]}],\"choropleth\":[{\"type\":\"choropleth\",\"colorbar\":{\"outlinewidth\":0,\"ticks\":\"\"}}],\"histogram2d\":[{\"type\":\"histogram2d\",\"colorbar\":{\"outlinewidth\":0,\"ticks\":\"\"},\"colorscale\":[[0.0,\"#0d0887\"],[0.1111111111111111,\"#46039f\"],[0.2222222222222222,\"#7201a8\"],[0.3333333333333333,\"#9c179e\"],[0.4444444444444444,\"#bd3786\"],[0.5555555555555556,\"#d8576b\"],[0.6666666666666666,\"#ed7953\"],[0.7777777777777778,\"#fb9f3a\"],[0.8888888888888888,\"#fdca26\"],[1.0,\"#f0f921\"]]}],\"heatmap\":[{\"type\":\"heatmap\",\"colorbar\":{\"outlinewidth\":0,\"ticks\":\"\"},\"colorscale\":[[0.0,\"#0d0887\"],[0.1111111111111111,\"#46039f\"],[0.2222222222222222,\"#7201a8\"],[0.3333333333333333,\"#9c179e\"],[0.4444444444444444,\"#bd3786\"],[0.5555555555555556,\"#d8576b\"],[0.6666666666666666,\"#ed7953\"],[0.7777777777777778,\"#fb9f3a\"],[0.8888888888888888,\"#fdca26\"],[1.0,\"#f0f921\"]]}],\"heatmapgl\":[{\"type\":\"heatmapgl\",\"colorbar\":{\"outlinewidth\":0,\"ticks\":\"\"},\"colorscale\":[[0.0,\"#0d0887\"],[0.1111111111111111,\"#46039f\"],[0.2222222222222222,\"#7201a8\"],[0.3333333333333333,\"#9c179e\"],[0.4444444444444444,\"#bd3786\"],[0.5555555555555556,\"#d8576b\"],[0.6666666666666666,\"#ed7953\"],[0.7777777777777778,\"#fb9f3a\"],[0.8888888888888888,\"#fdca26\"],[1.0,\"#f0f921\"]]}],\"contourcarpet\":[{\"type\":\"contourcarpet\",\"colorbar\":{\"outlinewidth\":0,\"ticks\":\"\"}}],\"contour\":[{\"type\":\"contour\",\"colorbar\":{\"outlinewidth\":0,\"ticks\":\"\"},\"colorscale\":[[0.0,\"#0d0887\"],[0.1111111111111111,\"#46039f\"],[0.2222222222222222,\"#7201a8\"],[0.3333333333333333,\"#9c179e\"],[0.4444444444444444,\"#bd3786\"],[0.5555555555555556,\"#d8576b\"],[0.6666666666666666,\"#ed7953\"],[0.7777777777777778,\"#fb9f3a\"],[0.8888888888888888,\"#fdca26\"],[1.0,\"#f0f921\"]]}],\"surface\":[{\"type\":\"surface\",\"colorbar\":{\"outlinewidth\":0,\"ticks\":\"\"},\"colorscale\":[[0.0,\"#0d0887\"],[0.1111111111111111,\"#46039f\"],[0.2222222222222222,\"#7201a8\"],[0.3333333333333333,\"#9c179e\"],[0.4444444444444444,\"#bd3786\"],[0.5555555555555556,\"#d8576b\"],[0.6666666666666666,\"#ed7953\"],[0.7777777777777778,\"#fb9f3a\"],[0.8888888888888888,\"#fdca26\"],[1.0,\"#f0f921\"]]}],\"mesh3d\":[{\"type\":\"mesh3d\",\"colorbar\":{\"outlinewidth\":0,\"ticks\":\"\"}}],\"scatter\":[{\"fillpattern\":{\"fillmode\":\"overlay\",\"size\":10,\"solidity\":0.2},\"type\":\"scatter\"}],\"parcoords\":[{\"type\":\"parcoords\",\"line\":{\"colorbar\":{\"outlinewidth\":0,\"ticks\":\"\"}}}],\"scatterpolargl\":[{\"type\":\"scatterpolargl\",\"marker\":{\"colorbar\":{\"outlinewidth\":0,\"ticks\":\"\"}}}],\"bar\":[{\"error_x\":{\"color\":\"#2a3f5f\"},\"error_y\":{\"color\":\"#2a3f5f\"},\"marker\":{\"line\":{\"color\":\"#E5ECF6\",\"width\":0.5},\"pattern\":{\"fillmode\":\"overlay\",\"size\":10,\"solidity\":0.2}},\"type\":\"bar\"}],\"scattergeo\":[{\"type\":\"scattergeo\",\"marker\":{\"colorbar\":{\"outlinewidth\":0,\"ticks\":\"\"}}}],\"scatterpolar\":[{\"type\":\"scatterpolar\",\"marker\":{\"colorbar\":{\"outlinewidth\":0,\"ticks\":\"\"}}}],\"histogram\":[{\"marker\":{\"pattern\":{\"fillmode\":\"overlay\",\"size\":10,\"solidity\":0.2}},\"type\":\"histogram\"}],\"scattergl\":[{\"type\":\"scattergl\",\"marker\":{\"colorbar\":{\"outlinewidth\":0,\"ticks\":\"\"}}}],\"scatter3d\":[{\"type\":\"scatter3d\",\"line\":{\"colorbar\":{\"outlinewidth\":0,\"ticks\":\"\"}},\"marker\":{\"colorbar\":{\"outlinewidth\":0,\"ticks\":\"\"}}}],\"scattermapbox\":[{\"type\":\"scattermapbox\",\"marker\":{\"colorbar\":{\"outlinewidth\":0,\"ticks\":\"\"}}}],\"scatterternary\":[{\"type\":\"scatterternary\",\"marker\":{\"colorbar\":{\"outlinewidth\":0,\"ticks\":\"\"}}}],\"scattercarpet\":[{\"type\":\"scattercarpet\",\"marker\":{\"colorbar\":{\"outlinewidth\":0,\"ticks\":\"\"}}}],\"carpet\":[{\"aaxis\":{\"endlinecolor\":\"#2a3f5f\",\"gridcolor\":\"white\",\"linecolor\":\"white\",\"minorgridcolor\":\"white\",\"startlinecolor\":\"#2a3f5f\"},\"baxis\":{\"endlinecolor\":\"#2a3f5f\",\"gridcolor\":\"white\",\"linecolor\":\"white\",\"minorgridcolor\":\"white\",\"startlinecolor\":\"#2a3f5f\"},\"type\":\"carpet\"}],\"table\":[{\"cells\":{\"fill\":{\"color\":\"#EBF0F8\"},\"line\":{\"color\":\"white\"}},\"header\":{\"fill\":{\"color\":\"#C8D4E3\"},\"line\":{\"color\":\"white\"}},\"type\":\"table\"}],\"barpolar\":[{\"marker\":{\"line\":{\"color\":\"#E5ECF6\",\"width\":0.5},\"pattern\":{\"fillmode\":\"overlay\",\"size\":10,\"solidity\":0.2}},\"type\":\"barpolar\"}],\"pie\":[{\"automargin\":true,\"type\":\"pie\"}]},\"layout\":{\"autotypenumbers\":\"strict\",\"colorway\":[\"#636efa\",\"#EF553B\",\"#00cc96\",\"#ab63fa\",\"#FFA15A\",\"#19d3f3\",\"#FF6692\",\"#B6E880\",\"#FF97FF\",\"#FECB52\"],\"font\":{\"color\":\"#2a3f5f\"},\"hovermode\":\"closest\",\"hoverlabel\":{\"align\":\"left\"},\"paper_bgcolor\":\"white\",\"plot_bgcolor\":\"#E5ECF6\",\"polar\":{\"bgcolor\":\"#E5ECF6\",\"angularaxis\":{\"gridcolor\":\"white\",\"linecolor\":\"white\",\"ticks\":\"\"},\"radialaxis\":{\"gridcolor\":\"white\",\"linecolor\":\"white\",\"ticks\":\"\"}},\"ternary\":{\"bgcolor\":\"#E5ECF6\",\"aaxis\":{\"gridcolor\":\"white\",\"linecolor\":\"white\",\"ticks\":\"\"},\"baxis\":{\"gridcolor\":\"white\",\"linecolor\":\"white\",\"ticks\":\"\"},\"caxis\":{\"gridcolor\":\"white\",\"linecolor\":\"white\",\"ticks\":\"\"}},\"coloraxis\":{\"colorbar\":{\"outlinewidth\":0,\"ticks\":\"\"}},\"colorscale\":{\"sequential\":[[0.0,\"#0d0887\"],[0.1111111111111111,\"#46039f\"],[0.2222222222222222,\"#7201a8\"],[0.3333333333333333,\"#9c179e\"],[0.4444444444444444,\"#bd3786\"],[0.5555555555555556,\"#d8576b\"],[0.6666666666666666,\"#ed7953\"],[0.7777777777777778,\"#fb9f3a\"],[0.8888888888888888,\"#fdca26\"],[1.0,\"#f0f921\"]],\"sequentialminus\":[[0.0,\"#0d0887\"],[0.1111111111111111,\"#46039f\"],[0.2222222222222222,\"#7201a8\"],[0.3333333333333333,\"#9c179e\"],[0.4444444444444444,\"#bd3786\"],[0.5555555555555556,\"#d8576b\"],[0.6666666666666666,\"#ed7953\"],[0.7777777777777778,\"#fb9f3a\"],[0.8888888888888888,\"#fdca26\"],[1.0,\"#f0f921\"]],\"diverging\":[[0,\"#8e0152\"],[0.1,\"#c51b7d\"],[0.2,\"#de77ae\"],[0.3,\"#f1b6da\"],[0.4,\"#fde0ef\"],[0.5,\"#f7f7f7\"],[0.6,\"#e6f5d0\"],[0.7,\"#b8e186\"],[0.8,\"#7fbc41\"],[0.9,\"#4d9221\"],[1,\"#276419\"]]},\"xaxis\":{\"gridcolor\":\"white\",\"linecolor\":\"white\",\"ticks\":\"\",\"title\":{\"standoff\":15},\"zerolinecolor\":\"white\",\"automargin\":true,\"zerolinewidth\":2},\"yaxis\":{\"gridcolor\":\"white\",\"linecolor\":\"white\",\"ticks\":\"\",\"title\":{\"standoff\":15},\"zerolinecolor\":\"white\",\"automargin\":true,\"zerolinewidth\":2},\"scene\":{\"xaxis\":{\"backgroundcolor\":\"#E5ECF6\",\"gridcolor\":\"white\",\"linecolor\":\"white\",\"showbackground\":true,\"ticks\":\"\",\"zerolinecolor\":\"white\",\"gridwidth\":2},\"yaxis\":{\"backgroundcolor\":\"#E5ECF6\",\"gridcolor\":\"white\",\"linecolor\":\"white\",\"showbackground\":true,\"ticks\":\"\",\"zerolinecolor\":\"white\",\"gridwidth\":2},\"zaxis\":{\"backgroundcolor\":\"#E5ECF6\",\"gridcolor\":\"white\",\"linecolor\":\"white\",\"showbackground\":true,\"ticks\":\"\",\"zerolinecolor\":\"white\",\"gridwidth\":2}},\"shapedefaults\":{\"line\":{\"color\":\"#2a3f5f\"}},\"annotationdefaults\":{\"arrowcolor\":\"#2a3f5f\",\"arrowhead\":0,\"arrowwidth\":1},\"geo\":{\"bgcolor\":\"white\",\"landcolor\":\"#E5ECF6\",\"subunitcolor\":\"white\",\"showland\":true,\"showlakes\":true,\"lakecolor\":\"white\"},\"title\":{\"x\":0.05},\"mapbox\":{\"style\":\"light\"}}},\"xaxis\":{\"anchor\":\"y\",\"domain\":[0.0,1.0],\"title\":{\"text\":\"author(s)\"}},\"yaxis\":{\"anchor\":\"x\",\"domain\":[0.0,1.0],\"title\":{\"text\":\"books/reads\"}},\"legend\":{\"tracegroupgap\":0},\"margin\":{\"t\":60},\"barmode\":\"relative\"},                        {\"responsive\": true}                    ).then(function(){\n",
       "                            \n",
       "var gd = document.getElementById('b339ade5-6f7f-41bf-90e9-e8c75ece6a15');\n",
       "var x = new MutationObserver(function (mutations, observer) {{\n",
       "        var display = window.getComputedStyle(gd).display;\n",
       "        if (!display || display === 'none') {{\n",
       "            console.log([gd, 'removed!']);\n",
       "            Plotly.purge(gd);\n",
       "            observer.disconnect();\n",
       "        }}\n",
       "}});\n",
       "\n",
       "// Listen for the removal of the full notebook cells\n",
       "var notebookContainer = gd.closest('#notebook-container');\n",
       "if (notebookContainer) {{\n",
       "    x.observe(notebookContainer, {childList: true});\n",
       "}}\n",
       "\n",
       "// Listen for the clearing of the current output cell\n",
       "var outputEl = gd.closest('.output');\n",
       "if (outputEl) {{\n",
       "    x.observe(outputEl, {childList: true});\n",
       "}}\n",
       "\n",
       "                        })                };                });            </script>        </div>"
      ]
     },
     "metadata": {},
     "output_type": "display_data"
    }
   ],
   "source": [
    "px.bar(fav_authors[fav_authors[\"books/reads\"]>2], x=\"author(s)\", y = \"books/reads\" )"
   ]
  },
  {
   "cell_type": "code",
   "execution_count": 64,
   "id": "3e03b259",
   "metadata": {
    "execution": {
     "iopub.execute_input": "2022-06-07T07:03:10.684074Z",
     "iopub.status.busy": "2022-06-07T07:03:10.683381Z",
     "iopub.status.idle": "2022-06-07T07:03:10.848723Z",
     "shell.execute_reply": "2022-06-07T07:03:10.847748Z"
    },
    "papermill": {
     "duration": 0.195269,
     "end_time": "2022-06-07T07:03:10.850811",
     "exception": false,
     "start_time": "2022-06-07T07:03:10.655542",
     "status": "completed"
    },
    "tags": []
   },
   "outputs": [
    {
     "data": {
      "text/plain": [
       "<AxesSubplot:xlabel='language', ylabel='count'>"
      ]
     },
     "execution_count": 64,
     "metadata": {},
     "output_type": "execute_result"
    },
    {
     "data": {
      "image/png": "[encoded data removed]",
      "text/plain": [
       "<Figure size 432x288 with 1 Axes>"
      ]
     },
     "metadata": {},
     "output_type": "display_data"
    }
   ],
   "source": [
    "fav_authors = fav_authors[fav_authors[\"books/reads\"]>2]\n",
    "\n",
    "sns.countplot(x = \"language\", data = Completed[Completed[\"author(s)\"].isin(fav_authors[\"author(s)\"])])"
   ]
  },
  {
   "cell_type": "code",
   "execution_count": 65,
   "id": "8d65d901",
   "metadata": {
    "execution": {
     "iopub.execute_input": "2022-06-07T07:03:10.910723Z",
     "iopub.status.busy": "2022-06-07T07:03:10.909589Z",
     "iopub.status.idle": "2022-06-07T07:03:10.919180Z",
     "shell.execute_reply": "2022-06-07T07:03:10.917729Z"
    },
    "papermill": {
     "duration": 0.041617,
     "end_time": "2022-06-07T07:03:10.921796",
     "exception": false,
     "start_time": "2022-06-07T07:03:10.880179",
     "status": "completed"
    },
    "tags": []
   },
   "outputs": [
    {
     "name": "stdout",
     "output_type": "stream",
     "text": [
      "There were 66.42 % more Japanese rereads than English rereads\n"
     ]
    }
   ],
   "source": [
    "ratio = (sum(Completed[Completed[\"author(s)\"].isin(fav_authors[\"author(s)\"])][\"language\"]==\"Japanese\")/Completed[Completed[\"author(s)\"].isin(fav_authors[\"author(s)\"])].shape[0])*100\n",
    "print(\"There were\", round(ratio,2),\"% more Japanese rereads than English rereads\")"
   ]
  },
  {
   "cell_type": "code",
   "execution_count": 66,
   "id": "7e6dbe51",
   "metadata": {
    "execution": {
     "iopub.execute_input": "2022-06-07T07:03:10.982424Z",
     "iopub.status.busy": "2022-06-07T07:03:10.982025Z",
     "iopub.status.idle": "2022-06-07T07:03:11.189979Z",
     "shell.execute_reply": "2022-06-07T07:03:11.189258Z"
    },
    "papermill": {
     "duration": 0.241043,
     "end_time": "2022-06-07T07:03:11.192096",
     "exception": false,
     "start_time": "2022-06-07T07:03:10.951053",
     "status": "completed"
    },
    "tags": []
   },
   "outputs": [
    {
     "data": {
      "text/plain": [
       "<AxesSubplot:xlabel='language', ylabel='pages'>"
      ]
     },
     "execution_count": 66,
     "metadata": {},
     "output_type": "execute_result"
    },
    {
     "data": {
      "image/png": "[encoded data removed]",
      "text/plain": [
       "<Figure size 432x288 with 1 Axes>"
      ]
     },
     "metadata": {},
     "output_type": "display_data"
    }
   ],
   "source": [
    "fav_authors = fav_authors[fav_authors[\"books/reads\"]>2]\n",
    "\n",
    "sns.barplot(x = \"language\", y = \"pages\", data = Completed[Completed[\"author(s)\"].isin(fav_authors[\"author(s)\"])])"
   ]
  },
  {
   "cell_type": "code",
   "execution_count": 67,
   "id": "064dd932",
   "metadata": {
    "execution": {
     "iopub.execute_input": "2022-06-07T07:03:11.255067Z",
     "iopub.status.busy": "2022-06-07T07:03:11.254390Z",
     "iopub.status.idle": "2022-06-07T07:03:11.263355Z",
     "shell.execute_reply": "2022-06-07T07:03:11.262360Z"
    },
    "papermill": {
     "duration": 0.042946,
     "end_time": "2022-06-07T07:03:11.265649",
     "exception": false,
     "start_time": "2022-06-07T07:03:11.222703",
     "status": "completed"
    },
    "tags": []
   },
   "outputs": [
    {
     "data": {
      "text/plain": [
       "count    328.000000\n",
       "mean     345.042683\n",
       "std      132.200471\n",
       "min       31.000000\n",
       "25%      259.750000\n",
       "50%      327.000000\n",
       "75%      400.000000\n",
       "max      912.000000\n",
       "Name: pages, dtype: float64"
      ]
     },
     "execution_count": 67,
     "metadata": {},
     "output_type": "execute_result"
    }
   ],
   "source": [
    "Completed[\"pages\"].describe()"
   ]
  },
  {
   "cell_type": "code",
   "execution_count": 68,
   "id": "57a79090",
   "metadata": {
    "execution": {
     "iopub.execute_input": "2022-06-07T07:03:11.324759Z",
     "iopub.status.busy": "2022-06-07T07:03:11.323918Z",
     "iopub.status.idle": "2022-06-07T07:03:11.679348Z",
     "shell.execute_reply": "2022-06-07T07:03:11.678687Z"
    },
    "papermill": {
     "duration": 0.387273,
     "end_time": "2022-06-07T07:03:11.681415",
     "exception": false,
     "start_time": "2022-06-07T07:03:11.294142",
     "status": "completed"
    },
    "tags": []
   },
   "outputs": [
    {
     "data": {
      "image/png": "[encoded data removed]",
      "text/plain": [
       "<Figure size 360x360 with 1 Axes>"
      ]
     },
     "metadata": {},
     "output_type": "display_data"
    }
   ],
   "source": [
    "sns.displot(x = \"pages\", data = Completed, kind= \"kde\")\n",
    "plt.show()"
   ]
  },
  {
   "cell_type": "code",
   "execution_count": 69,
   "id": "b58d704e",
   "metadata": {
    "execution": {
     "iopub.execute_input": "2022-06-07T07:03:11.746936Z",
     "iopub.status.busy": "2022-06-07T07:03:11.746285Z",
     "iopub.status.idle": "2022-06-07T07:03:12.233358Z",
     "shell.execute_reply": "2022-06-07T07:03:12.232663Z"
    },
    "papermill": {
     "duration": 0.522144,
     "end_time": "2022-06-07T07:03:12.235158",
     "exception": false,
     "start_time": "2022-06-07T07:03:11.713014",
     "status": "completed"
    },
    "tags": []
   },
   "outputs": [
    {
     "data": {
      "image/png": "[encoded data removed]",
      "text/plain": [
       "<Figure size 441.25x360 with 1 Axes>"
      ]
     },
     "metadata": {},
     "output_type": "display_data"
    }
   ],
   "source": [
    "sns.displot(x = \"pages\", data = Completed, kind= \"kde\", hue = \"language\")\n",
    "plt.show()"
   ]
  },
  {
   "cell_type": "code",
   "execution_count": 70,
   "id": "db3c6baf",
   "metadata": {
    "execution": {
     "iopub.execute_input": "2022-06-07T07:03:12.295401Z",
     "iopub.status.busy": "2022-06-07T07:03:12.294833Z",
     "iopub.status.idle": "2022-06-07T07:03:12.451707Z",
     "shell.execute_reply": "2022-06-07T07:03:12.451017Z"
    },
    "papermill": {
     "duration": 0.190103,
     "end_time": "2022-06-07T07:03:12.453419",
     "exception": false,
     "start_time": "2022-06-07T07:03:12.263316",
     "status": "completed"
    },
    "tags": []
   },
   "outputs": [
    {
     "data": {
      "text/plain": [
       "<AxesSubplot:xlabel='review', ylabel='count'>"
      ]
     },
     "execution_count": 70,
     "metadata": {},
     "output_type": "execute_result"
    },
    {
     "data": {
      "image/png": "[encoded data removed]",
      "text/plain": [
       "<Figure size 432x288 with 1 Axes>"
      ]
     },
     "metadata": {},
     "output_type": "display_data"
    }
   ],
   "source": [
    "sns.countplot(x = \"review\", data = Completed)"
   ]
  },
  {
   "cell_type": "code",
   "execution_count": 71,
   "id": "75f31a0a",
   "metadata": {
    "execution": {
     "iopub.execute_input": "2022-06-07T07:03:12.513217Z",
     "iopub.status.busy": "2022-06-07T07:03:12.512530Z",
     "iopub.status.idle": "2022-06-07T07:03:12.520788Z",
     "shell.execute_reply": "2022-06-07T07:03:12.519926Z"
    },
    "papermill": {
     "duration": 0.041238,
     "end_time": "2022-06-07T07:03:12.523704",
     "exception": false,
     "start_time": "2022-06-07T07:03:12.482466",
     "status": "completed"
    },
    "tags": []
   },
   "outputs": [
    {
     "name": "stdout",
     "output_type": "stream",
     "text": [
      "75.0 % of books read have been reviewed\n"
     ]
    }
   ],
   "source": [
    "print(round((Completed[Completed[\"review\"]==\"Yes\"].shape[0]/Completed.dropna(subset = [\"review\"]).shape[0])*100, 1) ,\"% of books read have been reviewed\")"
   ]
  },
  {
   "cell_type": "code",
   "execution_count": 72,
   "id": "85ed78aa",
   "metadata": {
    "execution": {
     "iopub.execute_input": "2022-06-07T07:03:12.585083Z",
     "iopub.status.busy": "2022-06-07T07:03:12.584429Z",
     "iopub.status.idle": "2022-06-07T07:03:12.933532Z",
     "shell.execute_reply": "2022-06-07T07:03:12.932780Z"
    },
    "papermill": {
     "duration": 0.381452,
     "end_time": "2022-06-07T07:03:12.935486",
     "exception": false,
     "start_time": "2022-06-07T07:03:12.554034",
     "status": "completed"
    },
    "tags": []
   },
   "outputs": [
    {
     "data": {
      "text/plain": [
       "<seaborn.axisgrid.FacetGrid at 0x7f6cf141b350>"
      ]
     },
     "execution_count": 72,
     "metadata": {},
     "output_type": "execute_result"
    },
    {
     "data": {
      "image/png": "[encoded data removed]",
      "text/plain": [
       "<Figure size 360x360 with 1 Axes>"
      ]
     },
     "metadata": {},
     "output_type": "display_data"
    }
   ],
   "source": [
    "sns.displot(x = \"rating\", data = Completed, kind= \"kde\")"
   ]
  },
  {
   "cell_type": "code",
   "execution_count": 73,
   "id": "d37816e0",
   "metadata": {
    "execution": {
     "iopub.execute_input": "2022-06-07T07:03:12.998140Z",
     "iopub.status.busy": "2022-06-07T07:03:12.997496Z",
     "iopub.status.idle": "2022-06-07T07:03:13.169156Z",
     "shell.execute_reply": "2022-06-07T07:03:13.168462Z"
    },
    "papermill": {
     "duration": 0.206094,
     "end_time": "2022-06-07T07:03:13.171085",
     "exception": false,
     "start_time": "2022-06-07T07:03:12.964991",
     "status": "completed"
    },
    "tags": []
   },
   "outputs": [
    {
     "data": {
      "text/plain": [
       "<AxesSubplot:xlabel='format', ylabel='count'>"
      ]
     },
     "execution_count": 73,
     "metadata": {},
     "output_type": "execute_result"
    },
    {
     "data": {
      "image/png": "[encoded data removed]",
      "text/plain": [
       "<Figure size 432x288 with 1 Axes>"
      ]
     },
     "metadata": {},
     "output_type": "display_data"
    }
   ],
   "source": [
    "sns.countplot(x = \"format\", data = Completed)"
   ]
  },
  {
   "cell_type": "code",
   "execution_count": 74,
   "id": "6be05db5",
   "metadata": {
    "execution": {
     "iopub.execute_input": "2022-06-07T07:03:13.231215Z",
     "iopub.status.busy": "2022-06-07T07:03:13.230810Z",
     "iopub.status.idle": "2022-06-07T07:03:14.225546Z",
     "shell.execute_reply": "2022-06-07T07:03:14.222948Z"
    },
    "papermill": {
     "duration": 1.027878,
     "end_time": "2022-06-07T07:03:14.228206",
     "exception": false,
     "start_time": "2022-06-07T07:03:13.200328",
     "status": "completed"
    },
    "tags": []
   },
   "outputs": [
    {
     "data": {
      "image/png": "[encoded data removed]",
      "text/plain": [
       "<Figure size 864x864 with 4 Axes>"
      ]
     },
     "metadata": {},
     "output_type": "display_data"
    }
   ],
   "source": [
    "g = sns.FacetGrid(Completed, col='format', height=6, col_wrap=2)\n",
    "g.map(sns.histplot, \"completion_year\")\n",
    "plt.show()"
   ]
  },
  {
   "cell_type": "code",
   "execution_count": 75,
   "id": "dcdbe580",
   "metadata": {
    "execution": {
     "iopub.execute_input": "2022-06-07T07:03:14.292708Z",
     "iopub.status.busy": "2022-06-07T07:03:14.292309Z",
     "iopub.status.idle": "2022-06-07T07:03:14.955822Z",
     "shell.execute_reply": "2022-06-07T07:03:14.954890Z"
    },
    "papermill": {
     "duration": 0.696272,
     "end_time": "2022-06-07T07:03:14.957722",
     "exception": false,
     "start_time": "2022-06-07T07:03:14.261450",
     "status": "completed"
    },
    "tags": []
   },
   "outputs": [
    {
     "data": {
      "image/png": "[encoded data removed]",
      "text/plain": [
       "<Figure size 1728x432 with 2 Axes>"
      ]
     },
     "metadata": {},
     "output_type": "display_data"
    }
   ],
   "source": [
    "g = sns.FacetGrid(Completed, col='type', height=6, col_wrap=4)\n",
    "g.map(sns.histplot, \"completion_year\")\n",
    "plt.show()"
   ]
  },
  {
   "cell_type": "code",
   "execution_count": 76,
   "id": "256fe18f",
   "metadata": {
    "execution": {
     "iopub.execute_input": "2022-06-07T07:03:15.020103Z",
     "iopub.status.busy": "2022-06-07T07:03:15.019489Z",
     "iopub.status.idle": "2022-06-07T07:03:15.193340Z",
     "shell.execute_reply": "2022-06-07T07:03:15.192371Z"
    },
    "papermill": {
     "duration": 0.207513,
     "end_time": "2022-06-07T07:03:15.195591",
     "exception": false,
     "start_time": "2022-06-07T07:03:14.988078",
     "status": "completed"
    },
    "tags": []
   },
   "outputs": [
    {
     "data": {
      "text/plain": [
       "<AxesSubplot:xlabel='format', ylabel='count'>"
      ]
     },
     "execution_count": 76,
     "metadata": {},
     "output_type": "execute_result"
    },
    {
     "data": {
      "image/png": "[encoded data removed]",
      "text/plain": [
       "<Figure size 432x288 with 1 Axes>"
      ]
     },
     "metadata": {},
     "output_type": "display_data"
    }
   ],
   "source": [
    "sns.countplot(x = \"format\", data = Completed[Completed[\"type\"]==\"Nonfiction\"])"
   ]
  },
  {
   "cell_type": "code",
   "execution_count": 77,
   "id": "55240315",
   "metadata": {
    "execution": {
     "iopub.execute_input": "2022-06-07T07:03:15.259893Z",
     "iopub.status.busy": "2022-06-07T07:03:15.259494Z",
     "iopub.status.idle": "2022-06-07T07:03:15.435435Z",
     "shell.execute_reply": "2022-06-07T07:03:15.434447Z"
    },
    "papermill": {
     "duration": 0.211619,
     "end_time": "2022-06-07T07:03:15.437769",
     "exception": false,
     "start_time": "2022-06-07T07:03:15.226150",
     "status": "completed"
    },
    "tags": []
   },
   "outputs": [
    {
     "data": {
      "text/plain": [
       "<AxesSubplot:xlabel='format', ylabel='count'>"
      ]
     },
     "execution_count": 77,
     "metadata": {},
     "output_type": "execute_result"
    },
    {
     "data": {
      "image/png": "[encoded data removed]",
      "text/plain": [
       "<Figure size 432x288 with 1 Axes>"
      ]
     },
     "metadata": {},
     "output_type": "display_data"
    }
   ],
   "source": [
    "sns.countplot(x = \"format\", data = Completed[Completed[\"type\"]==\"Fiction\"])"
   ]
  },
  {
   "cell_type": "code",
   "execution_count": 78,
   "id": "62d87fb5",
   "metadata": {
    "execution": {
     "iopub.execute_input": "2022-06-07T07:03:15.502879Z",
     "iopub.status.busy": "2022-06-07T07:03:15.501660Z",
     "iopub.status.idle": "2022-06-07T07:03:16.257018Z",
     "shell.execute_reply": "2022-06-07T07:03:16.256027Z"
    },
    "papermill": {
     "duration": 0.789659,
     "end_time": "2022-06-07T07:03:16.259034",
     "exception": false,
     "start_time": "2022-06-07T07:03:15.469375",
     "status": "completed"
    },
    "tags": []
   },
   "outputs": [
    {
     "data": {
      "image/png": "[encoded data removed]",
      "text/plain": [
       "<Figure size 864x864 with 4 Axes>"
      ]
     },
     "metadata": {},
     "output_type": "display_data"
    }
   ],
   "source": [
    "g = sns.FacetGrid(Completed, col='format', height=6, col_wrap=2)\n",
    "g.map(sns.histplot, \"review\")\n",
    "plt.show()"
   ]
  },
  {
   "cell_type": "code",
   "execution_count": 79,
   "id": "3488e8cd",
   "metadata": {
    "execution": {
     "iopub.execute_input": "2022-06-07T07:03:16.322576Z",
     "iopub.status.busy": "2022-06-07T07:03:16.321812Z",
     "iopub.status.idle": "2022-06-07T07:03:17.521240Z",
     "shell.execute_reply": "2022-06-07T07:03:17.520335Z"
    },
    "papermill": {
     "duration": 1.233344,
     "end_time": "2022-06-07T07:03:17.523236",
     "exception": false,
     "start_time": "2022-06-07T07:03:16.289892",
     "status": "completed"
    },
    "tags": []
   },
   "outputs": [
    {
     "data": {
      "image/png": "[encoded data removed]",
      "text/plain": [
       "<Figure size 1728x432 with 4 Axes>"
      ]
     },
     "metadata": {},
     "output_type": "display_data"
    }
   ],
   "source": [
    "g = sns.FacetGrid(Completed, col='format', height=6, col_wrap=4)\n",
    "g.map(sns.histplot, \"rating\")\n",
    "plt.show()"
   ]
  },
  {
   "cell_type": "code",
   "execution_count": 80,
   "id": "6f7be68b",
   "metadata": {
    "execution": {
     "iopub.execute_input": "2022-06-07T07:03:17.589324Z",
     "iopub.status.busy": "2022-06-07T07:03:17.588333Z",
     "iopub.status.idle": "2022-06-07T07:03:17.970930Z",
     "shell.execute_reply": "2022-06-07T07:03:17.970187Z"
    },
    "papermill": {
     "duration": 0.417553,
     "end_time": "2022-06-07T07:03:17.972839",
     "exception": false,
     "start_time": "2022-06-07T07:03:17.555286",
     "status": "completed"
    },
    "tags": []
   },
   "outputs": [
    {
     "data": {
      "text/plain": [
       "<AxesSubplot:xlabel='platform', ylabel='count'>"
      ]
     },
     "execution_count": 80,
     "metadata": {},
     "output_type": "execute_result"
    },
    {
     "data": {
      "image/png": "[encoded data removed]",
      "text/plain": [
       "<Figure size 432x288 with 1 Axes>"
      ]
     },
     "metadata": {},
     "output_type": "display_data"
    }
   ],
   "source": [
    "sns.countplot(x = \"platform\", data = Completed[Completed[\"format\"]==\"Audiobook\"])"
   ]
  },
  {
   "cell_type": "code",
   "execution_count": 81,
   "id": "001bbd8d",
   "metadata": {
    "execution": {
     "iopub.execute_input": "2022-06-07T07:03:18.040107Z",
     "iopub.status.busy": "2022-06-07T07:03:18.039472Z",
     "iopub.status.idle": "2022-06-07T07:03:18.867008Z",
     "shell.execute_reply": "2022-06-07T07:03:18.866012Z"
    },
    "papermill": {
     "duration": 0.86329,
     "end_time": "2022-06-07T07:03:18.869385",
     "exception": false,
     "start_time": "2022-06-07T07:03:18.006095",
     "status": "completed"
    },
    "tags": []
   },
   "outputs": [
    {
     "data": {
      "image/png": "[encoded data removed]",
      "text/plain": [
       "<Figure size 1728x432 with 4 Axes>"
      ]
     },
     "metadata": {},
     "output_type": "display_data"
    }
   ],
   "source": [
    "g = sns.FacetGrid(Completed[Completed[\"format\"]==\"Audiobook\"], col='completion_year', height=6, col_wrap=4)\n",
    "g.map(sns.histplot, \"platform\")\n",
    "plt.show()"
   ]
  },
  {
   "cell_type": "code",
   "execution_count": 82,
   "id": "eb73c5e6",
   "metadata": {
    "execution": {
     "iopub.execute_input": "2022-06-07T07:03:18.936764Z",
     "iopub.status.busy": "2022-06-07T07:03:18.935571Z",
     "iopub.status.idle": "2022-06-07T07:03:18.942716Z",
     "shell.execute_reply": "2022-06-07T07:03:18.941655Z"
    },
    "papermill": {
     "duration": 0.04328,
     "end_time": "2022-06-07T07:03:18.944871",
     "exception": false,
     "start_time": "2022-06-07T07:03:18.901591",
     "status": "completed"
    },
    "tags": []
   },
   "outputs": [
    {
     "name": "stdout",
     "output_type": "stream",
     "text": [
      "56 114\n"
     ]
    }
   ],
   "source": [
    "print(first_reads[\"publisher\"].nunique(), first_reads[\"Imprint\"].nunique())\n"
   ]
  },
  {
   "cell_type": "code",
   "execution_count": 83,
   "id": "4e7fcda6",
   "metadata": {
    "execution": {
     "iopub.execute_input": "2022-06-07T07:03:19.011028Z",
     "iopub.status.busy": "2022-06-07T07:03:19.010594Z",
     "iopub.status.idle": "2022-06-07T07:03:19.023870Z",
     "shell.execute_reply": "2022-06-07T07:03:19.022866Z"
    },
    "papermill": {
     "duration": 0.048903,
     "end_time": "2022-06-07T07:03:19.025842",
     "exception": false,
     "start_time": "2022-06-07T07:03:18.976939",
     "status": "completed"
    },
    "tags": []
   },
   "outputs": [
    {
     "data": {
      "text/html": [
       "<div>\n",
       "<style scoped>\n",
       "    .dataframe tbody tr th:only-of-type {\n",
       "        vertical-align: middle;\n",
       "    }\n",
       "\n",
       "    .dataframe tbody tr th {\n",
       "        vertical-align: top;\n",
       "    }\n",
       "\n",
       "    .dataframe thead th {\n",
       "        text-align: right;\n",
       "    }\n",
       "</style>\n",
       "<table border=\"1\" class=\"dataframe\">\n",
       "  <thead>\n",
       "    <tr style=\"text-align: right;\">\n",
       "      <th></th>\n",
       "      <th>publisher</th>\n",
       "      <th>books/reads</th>\n",
       "    </tr>\n",
       "  </thead>\n",
       "  <tbody>\n",
       "    <tr>\n",
       "      <th>0</th>\n",
       "      <td>Penguin Random House</td>\n",
       "      <td>55</td>\n",
       "    </tr>\n",
       "    <tr>\n",
       "      <th>1</th>\n",
       "      <td>KADOKAWA</td>\n",
       "      <td>52</td>\n",
       "    </tr>\n",
       "    <tr>\n",
       "      <th>2</th>\n",
       "      <td>集英社</td>\n",
       "      <td>23</td>\n",
       "    </tr>\n",
       "    <tr>\n",
       "      <th>3</th>\n",
       "      <td>講談社</td>\n",
       "      <td>22</td>\n",
       "    </tr>\n",
       "    <tr>\n",
       "      <th>4</th>\n",
       "      <td>HarperCollins</td>\n",
       "      <td>17</td>\n",
       "    </tr>\n",
       "    <tr>\n",
       "      <th>5</th>\n",
       "      <td>Macmillan Publishers</td>\n",
       "      <td>17</td>\n",
       "    </tr>\n",
       "    <tr>\n",
       "      <th>6</th>\n",
       "      <td>文藝春秋</td>\n",
       "      <td>13</td>\n",
       "    </tr>\n",
       "    <tr>\n",
       "      <th>7</th>\n",
       "      <td>Orion</td>\n",
       "      <td>12</td>\n",
       "    </tr>\n",
       "    <tr>\n",
       "      <th>8</th>\n",
       "      <td>新潮社</td>\n",
       "      <td>9</td>\n",
       "    </tr>\n",
       "    <tr>\n",
       "      <th>9</th>\n",
       "      <td>Hachette Book</td>\n",
       "      <td>9</td>\n",
       "    </tr>\n",
       "  </tbody>\n",
       "</table>\n",
       "</div>"
      ],
      "text/plain": [
       "              publisher  books/reads\n",
       "0  Penguin Random House           55\n",
       "1              KADOKAWA           52\n",
       "2                   集英社           23\n",
       "3                   講談社           22\n",
       "4         HarperCollins           17\n",
       "5  Macmillan Publishers           17\n",
       "6                  文藝春秋           13\n",
       "7                 Orion           12\n",
       "8                   新潮社            9\n",
       "9         Hachette Book            9"
      ]
     },
     "execution_count": 83,
     "metadata": {},
     "output_type": "execute_result"
    }
   ],
   "source": [
    "publisher = first_reads[\"publisher\"].value_counts().rename_axis (\"publisher\").reset_index(name = \"books/reads\")\n",
    "publisher[publisher[\"books/reads\"]>1].head(10)"
   ]
  },
  {
   "cell_type": "code",
   "execution_count": 84,
   "id": "46b294eb",
   "metadata": {
    "execution": {
     "iopub.execute_input": "2022-06-07T07:03:19.092521Z",
     "iopub.status.busy": "2022-06-07T07:03:19.092131Z",
     "iopub.status.idle": "2022-06-07T07:03:19.105608Z",
     "shell.execute_reply": "2022-06-07T07:03:19.104672Z"
    },
    "papermill": {
     "duration": 0.048893,
     "end_time": "2022-06-07T07:03:19.107571",
     "exception": false,
     "start_time": "2022-06-07T07:03:19.058678",
     "status": "completed"
    },
    "tags": []
   },
   "outputs": [
    {
     "data": {
      "text/html": [
       "<div>\n",
       "<style scoped>\n",
       "    .dataframe tbody tr th:only-of-type {\n",
       "        vertical-align: middle;\n",
       "    }\n",
       "\n",
       "    .dataframe tbody tr th {\n",
       "        vertical-align: top;\n",
       "    }\n",
       "\n",
       "    .dataframe thead th {\n",
       "        text-align: right;\n",
       "    }\n",
       "</style>\n",
       "<table border=\"1\" class=\"dataframe\">\n",
       "  <thead>\n",
       "    <tr style=\"text-align: right;\">\n",
       "      <th></th>\n",
       "      <th>Imprint</th>\n",
       "      <th>books/reads</th>\n",
       "    </tr>\n",
       "  </thead>\n",
       "  <tbody>\n",
       "    <tr>\n",
       "      <th>0</th>\n",
       "      <td>角川文庫</td>\n",
       "      <td>20</td>\n",
       "    </tr>\n",
       "    <tr>\n",
       "      <th>1</th>\n",
       "      <td>講談社文庫</td>\n",
       "      <td>18</td>\n",
       "    </tr>\n",
       "    <tr>\n",
       "      <th>2</th>\n",
       "      <td>コバルト文庫</td>\n",
       "      <td>15</td>\n",
       "    </tr>\n",
       "    <tr>\n",
       "      <th>3</th>\n",
       "      <td>Penguin</td>\n",
       "      <td>13</td>\n",
       "    </tr>\n",
       "    <tr>\n",
       "      <th>4</th>\n",
       "      <td>文春文庫</td>\n",
       "      <td>13</td>\n",
       "    </tr>\n",
       "    <tr>\n",
       "      <th>5</th>\n",
       "      <td>Penguin Classics</td>\n",
       "      <td>13</td>\n",
       "    </tr>\n",
       "    <tr>\n",
       "      <th>6</th>\n",
       "      <td>メディアワークス文庫</td>\n",
       "      <td>11</td>\n",
       "    </tr>\n",
       "    <tr>\n",
       "      <th>7</th>\n",
       "      <td>Picador</td>\n",
       "      <td>9</td>\n",
       "    </tr>\n",
       "    <tr>\n",
       "      <th>8</th>\n",
       "      <td>角川ホラー文庫</td>\n",
       "      <td>8</td>\n",
       "    </tr>\n",
       "    <tr>\n",
       "      <th>9</th>\n",
       "      <td>Gollancz</td>\n",
       "      <td>7</td>\n",
       "    </tr>\n",
       "  </tbody>\n",
       "</table>\n",
       "</div>"
      ],
      "text/plain": [
       "            Imprint  books/reads\n",
       "0              角川文庫           20\n",
       "1             講談社文庫           18\n",
       "2            コバルト文庫           15\n",
       "3           Penguin           13\n",
       "4              文春文庫           13\n",
       "5  Penguin Classics           13\n",
       "6        メディアワークス文庫           11\n",
       "7           Picador            9\n",
       "8           角川ホラー文庫            8\n",
       "9          Gollancz            7"
      ]
     },
     "execution_count": 84,
     "metadata": {},
     "output_type": "execute_result"
    }
   ],
   "source": [
    "Imprint = first_reads[\"Imprint\"].value_counts().rename_axis (\"Imprint\").reset_index(name = \"books/reads\")\n",
    "Imprint[Imprint[\"books/reads\"]>1].head(10)"
   ]
  },
  {
   "cell_type": "code",
   "execution_count": 85,
   "id": "c408495a",
   "metadata": {
    "execution": {
     "iopub.execute_input": "2022-06-07T07:03:19.174713Z",
     "iopub.status.busy": "2022-06-07T07:03:19.174037Z",
     "iopub.status.idle": "2022-06-07T07:03:19.184233Z",
     "shell.execute_reply": "2022-06-07T07:03:19.183288Z"
    },
    "papermill": {
     "duration": 0.046052,
     "end_time": "2022-06-07T07:03:19.186202",
     "exception": false,
     "start_time": "2022-06-07T07:03:19.140150",
     "status": "completed"
    },
    "tags": []
   },
   "outputs": [
    {
     "data": {
      "text/plain": [
       "43"
      ]
     },
     "execution_count": 85,
     "metadata": {},
     "output_type": "execute_result"
    }
   ],
   "source": [
    "Japanese_first_reads = first_reads[first_reads[\"language\"]==\"Japanese\"]\n",
    "Imprint = Japanese_first_reads[\"Imprint\"].value_counts().rename_axis (\"Imprint\").reset_index(name = \"books/reads\")\n",
    "Imprint[\"Imprint\"].nunique()"
   ]
  },
  {
   "cell_type": "code",
   "execution_count": 86,
   "id": "6c984b07",
   "metadata": {
    "execution": {
     "iopub.execute_input": "2022-06-07T07:03:19.253911Z",
     "iopub.status.busy": "2022-06-07T07:03:19.253001Z",
     "iopub.status.idle": "2022-06-07T07:03:19.262949Z",
     "shell.execute_reply": "2022-06-07T07:03:19.262118Z"
    },
    "papermill": {
     "duration": 0.045865,
     "end_time": "2022-06-07T07:03:19.264836",
     "exception": false,
     "start_time": "2022-06-07T07:03:19.218971",
     "status": "completed"
    },
    "tags": []
   },
   "outputs": [
    {
     "data": {
      "text/html": [
       "<div>\n",
       "<style scoped>\n",
       "    .dataframe tbody tr th:only-of-type {\n",
       "        vertical-align: middle;\n",
       "    }\n",
       "\n",
       "    .dataframe tbody tr th {\n",
       "        vertical-align: top;\n",
       "    }\n",
       "\n",
       "    .dataframe thead th {\n",
       "        text-align: right;\n",
       "    }\n",
       "</style>\n",
       "<table border=\"1\" class=\"dataframe\">\n",
       "  <thead>\n",
       "    <tr style=\"text-align: right;\">\n",
       "      <th></th>\n",
       "      <th>Imprint</th>\n",
       "      <th>books/reads</th>\n",
       "    </tr>\n",
       "  </thead>\n",
       "  <tbody>\n",
       "    <tr>\n",
       "      <th>0</th>\n",
       "      <td>角川文庫</td>\n",
       "      <td>20</td>\n",
       "    </tr>\n",
       "    <tr>\n",
       "      <th>1</th>\n",
       "      <td>講談社文庫</td>\n",
       "      <td>18</td>\n",
       "    </tr>\n",
       "    <tr>\n",
       "      <th>2</th>\n",
       "      <td>コバルト文庫</td>\n",
       "      <td>15</td>\n",
       "    </tr>\n",
       "    <tr>\n",
       "      <th>3</th>\n",
       "      <td>文春文庫</td>\n",
       "      <td>13</td>\n",
       "    </tr>\n",
       "    <tr>\n",
       "      <th>4</th>\n",
       "      <td>メディアワークス文庫</td>\n",
       "      <td>11</td>\n",
       "    </tr>\n",
       "    <tr>\n",
       "      <th>5</th>\n",
       "      <td>角川ホラー文庫</td>\n",
       "      <td>8</td>\n",
       "    </tr>\n",
       "    <tr>\n",
       "      <th>6</th>\n",
       "      <td>一迅社</td>\n",
       "      <td>6</td>\n",
       "    </tr>\n",
       "    <tr>\n",
       "      <th>7</th>\n",
       "      <td>新潮文庫</td>\n",
       "      <td>6</td>\n",
       "    </tr>\n",
       "    <tr>\n",
       "      <th>8</th>\n",
       "      <td>アスキーメディアワークス</td>\n",
       "      <td>5</td>\n",
       "    </tr>\n",
       "    <tr>\n",
       "      <th>9</th>\n",
       "      <td>光文社文庫</td>\n",
       "      <td>5</td>\n",
       "    </tr>\n",
       "  </tbody>\n",
       "</table>\n",
       "</div>"
      ],
      "text/plain": [
       "        Imprint  books/reads\n",
       "0          角川文庫           20\n",
       "1         講談社文庫           18\n",
       "2        コバルト文庫           15\n",
       "3          文春文庫           13\n",
       "4    メディアワークス文庫           11\n",
       "5       角川ホラー文庫            8\n",
       "6           一迅社            6\n",
       "7          新潮文庫            6\n",
       "8  アスキーメディアワークス            5\n",
       "9         光文社文庫            5"
      ]
     },
     "execution_count": 86,
     "metadata": {},
     "output_type": "execute_result"
    }
   ],
   "source": [
    "Imprint[Imprint[\"books/reads\"]>1].head(10)"
   ]
  },
  {
   "cell_type": "code",
   "execution_count": 87,
   "id": "4f3018c3",
   "metadata": {
    "execution": {
     "iopub.execute_input": "2022-06-07T07:03:19.333208Z",
     "iopub.status.busy": "2022-06-07T07:03:19.332446Z",
     "iopub.status.idle": "2022-06-07T07:03:19.342332Z",
     "shell.execute_reply": "2022-06-07T07:03:19.341422Z"
    },
    "papermill": {
     "duration": 0.046338,
     "end_time": "2022-06-07T07:03:19.344203",
     "exception": false,
     "start_time": "2022-06-07T07:03:19.297865",
     "status": "completed"
    },
    "tags": []
   },
   "outputs": [
    {
     "data": {
      "text/plain": [
       "72"
      ]
     },
     "execution_count": 87,
     "metadata": {},
     "output_type": "execute_result"
    }
   ],
   "source": [
    "English_first_reads = first_reads[first_reads[\"language\"]==\"English\"]\n",
    "Imprint = English_first_reads[\"Imprint\"].value_counts().rename_axis (\"Imprint\").reset_index(name = \"books/reads\")\n",
    "Imprint[\"Imprint\"].nunique()"
   ]
  },
  {
   "cell_type": "code",
   "execution_count": 88,
   "id": "ba95df5d",
   "metadata": {
    "execution": {
     "iopub.execute_input": "2022-06-07T07:03:19.412140Z",
     "iopub.status.busy": "2022-06-07T07:03:19.411276Z",
     "iopub.status.idle": "2022-06-07T07:03:19.420784Z",
     "shell.execute_reply": "2022-06-07T07:03:19.420052Z"
    },
    "papermill": {
     "duration": 0.04534,
     "end_time": "2022-06-07T07:03:19.422504",
     "exception": false,
     "start_time": "2022-06-07T07:03:19.377164",
     "status": "completed"
    },
    "tags": []
   },
   "outputs": [
    {
     "data": {
      "text/html": [
       "<div>\n",
       "<style scoped>\n",
       "    .dataframe tbody tr th:only-of-type {\n",
       "        vertical-align: middle;\n",
       "    }\n",
       "\n",
       "    .dataframe tbody tr th {\n",
       "        vertical-align: top;\n",
       "    }\n",
       "\n",
       "    .dataframe thead th {\n",
       "        text-align: right;\n",
       "    }\n",
       "</style>\n",
       "<table border=\"1\" class=\"dataframe\">\n",
       "  <thead>\n",
       "    <tr style=\"text-align: right;\">\n",
       "      <th></th>\n",
       "      <th>Imprint</th>\n",
       "      <th>books/reads</th>\n",
       "    </tr>\n",
       "  </thead>\n",
       "  <tbody>\n",
       "    <tr>\n",
       "      <th>0</th>\n",
       "      <td>Penguin</td>\n",
       "      <td>13</td>\n",
       "    </tr>\n",
       "    <tr>\n",
       "      <th>1</th>\n",
       "      <td>Penguin Classics</td>\n",
       "      <td>12</td>\n",
       "    </tr>\n",
       "    <tr>\n",
       "      <th>2</th>\n",
       "      <td>Picador</td>\n",
       "      <td>9</td>\n",
       "    </tr>\n",
       "    <tr>\n",
       "      <th>3</th>\n",
       "      <td>Gollancz</td>\n",
       "      <td>7</td>\n",
       "    </tr>\n",
       "    <tr>\n",
       "      <th>4</th>\n",
       "      <td>Vintage Classics</td>\n",
       "      <td>6</td>\n",
       "    </tr>\n",
       "    <tr>\n",
       "      <th>5</th>\n",
       "      <td>HarperCollins</td>\n",
       "      <td>6</td>\n",
       "    </tr>\n",
       "    <tr>\n",
       "      <th>6</th>\n",
       "      <td>Wordsworth Editions</td>\n",
       "      <td>5</td>\n",
       "    </tr>\n",
       "    <tr>\n",
       "      <th>7</th>\n",
       "      <td>Orion Children's Books</td>\n",
       "      <td>5</td>\n",
       "    </tr>\n",
       "    <tr>\n",
       "      <th>8</th>\n",
       "      <td>Vintage</td>\n",
       "      <td>4</td>\n",
       "    </tr>\n",
       "    <tr>\n",
       "      <th>9</th>\n",
       "      <td>Black Swan</td>\n",
       "      <td>4</td>\n",
       "    </tr>\n",
       "  </tbody>\n",
       "</table>\n",
       "</div>"
      ],
      "text/plain": [
       "                  Imprint  books/reads\n",
       "0                 Penguin           13\n",
       "1        Penguin Classics           12\n",
       "2                 Picador            9\n",
       "3                Gollancz            7\n",
       "4        Vintage Classics            6\n",
       "5           HarperCollins            6\n",
       "6     Wordsworth Editions            5\n",
       "7  Orion Children's Books            5\n",
       "8                 Vintage            4\n",
       "9              Black Swan            4"
      ]
     },
     "execution_count": 88,
     "metadata": {},
     "output_type": "execute_result"
    }
   ],
   "source": [
    "Imprint[Imprint[\"books/reads\"]>1].head(10)"
   ]
  },
  {
   "cell_type": "code",
   "execution_count": null,
   "id": "7c2a5163",
   "metadata": {
    "papermill": {
     "duration": 0.033856,
     "end_time": "2022-06-07T07:03:19.490343",
     "exception": false,
     "start_time": "2022-06-07T07:03:19.456487",
     "status": "completed"
    },
    "tags": []
   },
   "outputs": [],
   "source": []
  }
 ],
 "metadata": {
  "kernelspec": {
   "display_name": "Python 3",
   "language": "python",
   "name": "python3"
  },
  "language_info": {
   "codemirror_mode": {
    "name": "ipython",
    "version": 3
   },
   "file_extension": ".py",
   "mimetype": "text/x-python",
   "name": "python",
   "nbconvert_exporter": "python",
   "pygments_lexer": "ipython3",
   "version": "3.7.12"
  },
  "papermill": {
   "default_parameters": {},
   "duration": 33.075735,
   "end_time": "2022-06-07T07:03:20.445733",
   "environment_variables": {},
   "exception": null,
   "input_path": "__notebook__.ipynb",
   "output_path": "__notebook__.ipynb",
   "parameters": {},
   "start_time": "2022-06-07T07:02:47.369998",
   "version": "2.3.4"
  }
 },
 "nbformat": 4,
 "nbformat_minor": 5
}
