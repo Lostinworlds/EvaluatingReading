{
 "cells": [
  {
   "cell_type": "code",
   "execution_count": 1,
   "id": "982a47f8",
   "metadata": {
    "_cell_guid": "b1076dfc-b9ad-4769-8c92-a6c4dae69d19",
    "_uuid": "8f2839f25d086af736a60e9eeb907d3b93b6e0e5",
    "execution": {
     "iopub.execute_input": "2022-06-07T19:01:36.372001Z",
     "iopub.status.busy": "2022-06-07T19:01:36.371524Z",
     "iopub.status.idle": "2022-06-07T19:01:38.621608Z",
     "shell.execute_reply": "2022-06-07T19:01:38.620744Z"
    },
    "papermill": {
     "duration": 2.281658,
     "end_time": "2022-06-07T19:01:38.624030",
     "exception": false,
     "start_time": "2022-06-07T19:01:36.342372",
     "status": "completed"
    },
    "tags": []
   },
   "outputs": [
    {
     "name": "stdout",
     "output_type": "stream",
     "text": [
      "/kaggle/input/my-reading-log/reading log.csv\n"
     ]
    }
   ],
   "source": [
    "# This Python 3 environment comes with many helpful analytics libraries installed\n",
    "# It is defined by the kaggle/python Docker image: https://github.com/kaggle/docker-python\n",
    "# For example, here's several helpful packages to load\n",
    "\n",
    "import numpy as np # linear algebra\n",
    "import pandas as pd # data processing, CSV file I/O (e.g. pd.read_csv)\n",
    "\n",
    "# Input data files are available in the read-only \"../input/\" directory\n",
    "# For example, running this (by clicking run or pressing Shift+Enter) will list all files under the input directory\n",
    "\n",
    "import os\n",
    "for dirname, _, filenames in os.walk('/kaggle/input'):\n",
    "    for filename in filenames:\n",
    "        print(os.path.join(dirname, filename))\n",
    "\n",
    "# You can write up to 20GB to the current directory (/kaggle/working/) that gets preserved as output when you create a version using \"Save & Run All\" \n",
    "# You can also write temporary files to /kaggle/temp/, but they won't be saved outside of the current session\n",
    "\n",
    "#libraries for data visualisation \n",
    "import matplotlib.pyplot as plt\n",
    "import seaborn as sns\n",
    "import plotly_express as px\n",
    "\n",
    "#set visualisation\n",
    "%matplotlib inline\n",
    "sns.set_style(\"whitegrid\")"
   ]
  },
  {
   "cell_type": "code",
   "execution_count": 2,
   "id": "cc6732f7",
   "metadata": {
    "execution": {
     "iopub.execute_input": "2022-06-07T19:01:38.678319Z",
     "iopub.status.busy": "2022-06-07T19:01:38.677478Z",
     "iopub.status.idle": "2022-06-07T19:01:38.700725Z",
     "shell.execute_reply": "2022-06-07T19:01:38.699824Z"
    },
    "papermill": {
     "duration": 0.052122,
     "end_time": "2022-06-07T19:01:38.703116",
     "exception": false,
     "start_time": "2022-06-07T19:01:38.650994",
     "status": "completed"
    },
    "tags": []
   },
   "outputs": [],
   "source": [
    "df = pd.read_csv(\"/kaggle/input/my-reading-log/reading log.csv\")"
   ]
  },
  {
   "cell_type": "code",
   "execution_count": 3,
   "id": "2a314b3c",
   "metadata": {
    "execution": {
     "iopub.execute_input": "2022-06-07T19:01:38.756011Z",
     "iopub.status.busy": "2022-06-07T19:01:38.755055Z",
     "iopub.status.idle": "2022-06-07T19:01:38.783936Z",
     "shell.execute_reply": "2022-06-07T19:01:38.783122Z"
    },
    "papermill": {
     "duration": 0.057723,
     "end_time": "2022-06-07T19:01:38.785758",
     "exception": false,
     "start_time": "2022-06-07T19:01:38.728035",
     "status": "completed"
    },
    "tags": []
   },
   "outputs": [
    {
     "data": {
      "text/html": [
       "<div>\n",
       "<style scoped>\n",
       "    .dataframe tbody tr th:only-of-type {\n",
       "        vertical-align: middle;\n",
       "    }\n",
       "\n",
       "    .dataframe tbody tr th {\n",
       "        vertical-align: top;\n",
       "    }\n",
       "\n",
       "    .dataframe thead th {\n",
       "        text-align: right;\n",
       "    }\n",
       "</style>\n",
       "<table border=\"1\" class=\"dataframe\">\n",
       "  <thead>\n",
       "    <tr style=\"text-align: right;\">\n",
       "      <th></th>\n",
       "      <th>completion date</th>\n",
       "      <th>Title</th>\n",
       "      <th>author(s)</th>\n",
       "      <th>pages</th>\n",
       "      <th>review</th>\n",
       "      <th>rating</th>\n",
       "      <th>status</th>\n",
       "      <th>format</th>\n",
       "      <th>platform</th>\n",
       "      <th>publisher</th>\n",
       "      <th>Imprint</th>\n",
       "      <th>publication date</th>\n",
       "      <th>type</th>\n",
       "      <th>genre</th>\n",
       "      <th>language</th>\n",
       "    </tr>\n",
       "  </thead>\n",
       "  <tbody>\n",
       "    <tr>\n",
       "      <th>0</th>\n",
       "      <td>NaN</td>\n",
       "      <td>ボッコちゃん</td>\n",
       "      <td>星 新一</td>\n",
       "      <td>315</td>\n",
       "      <td>n</td>\n",
       "      <td>2.0</td>\n",
       "      <td>Completed</td>\n",
       "      <td>Physical Book</td>\n",
       "      <td>NaN</td>\n",
       "      <td>新潮社</td>\n",
       "      <td>新潮文庫</td>\n",
       "      <td>25-May-1971</td>\n",
       "      <td>Fiction</td>\n",
       "      <td>science fiction</td>\n",
       "      <td>jp</td>\n",
       "    </tr>\n",
       "    <tr>\n",
       "      <th>1</th>\n",
       "      <td>12-05-20</td>\n",
       "      <td>三毛猫ホームズの推理</td>\n",
       "      <td>赤川 次郎</td>\n",
       "      <td>368</td>\n",
       "      <td>y</td>\n",
       "      <td>3.0</td>\n",
       "      <td>Completed</td>\n",
       "      <td>E-Book</td>\n",
       "      <td>Kindle</td>\n",
       "      <td>KADOKAWA</td>\n",
       "      <td>角川文庫</td>\n",
       "      <td>1-Apr-1984</td>\n",
       "      <td>Fiction</td>\n",
       "      <td>Mystery</td>\n",
       "      <td>jp</td>\n",
       "    </tr>\n",
       "    <tr>\n",
       "      <th>2</th>\n",
       "      <td>06-24-20</td>\n",
       "      <td>ミステリ博物館</td>\n",
       "      <td>赤川 次郎</td>\n",
       "      <td>339</td>\n",
       "      <td>n</td>\n",
       "      <td>4.0</td>\n",
       "      <td>Completed</td>\n",
       "      <td>Physical Book</td>\n",
       "      <td>NaN</td>\n",
       "      <td>KADOKAWA</td>\n",
       "      <td>角川文庫</td>\n",
       "      <td>1-Jul-1985</td>\n",
       "      <td>Fiction</td>\n",
       "      <td>Mystery</td>\n",
       "      <td>jp</td>\n",
       "    </tr>\n",
       "    <tr>\n",
       "      <th>3</th>\n",
       "      <td>02-28-19</td>\n",
       "      <td>Jacques the Fatalist and His Master</td>\n",
       "      <td>Denis Diderot</td>\n",
       "      <td>261</td>\n",
       "      <td>y</td>\n",
       "      <td>2.5</td>\n",
       "      <td>Completed</td>\n",
       "      <td>Physical Book</td>\n",
       "      <td>NaN</td>\n",
       "      <td>Penguin Random House</td>\n",
       "      <td>Penguin Classics</td>\n",
       "      <td>30-Jan-1986</td>\n",
       "      <td>Fiction</td>\n",
       "      <td>Humour/ Satire</td>\n",
       "      <td>jp</td>\n",
       "    </tr>\n",
       "    <tr>\n",
       "      <th>4</th>\n",
       "      <td>02-15-18</td>\n",
       "      <td>卒業</td>\n",
       "      <td>東野 圭吾</td>\n",
       "      <td>371</td>\n",
       "      <td>y</td>\n",
       "      <td>4.5</td>\n",
       "      <td>Completed</td>\n",
       "      <td>Physical Book</td>\n",
       "      <td>NaN</td>\n",
       "      <td>講談社</td>\n",
       "      <td>講談社文庫</td>\n",
       "      <td>8-May-1989</td>\n",
       "      <td>Fiction</td>\n",
       "      <td>Mystery</td>\n",
       "      <td>jp</td>\n",
       "    </tr>\n",
       "  </tbody>\n",
       "</table>\n",
       "</div>"
      ],
      "text/plain": [
       "  completion date                                Title      author(s)  pages  \\\n",
       "0             NaN                               ボッコちゃん           星 新一    315   \n",
       "1        12-05-20                           三毛猫ホームズの推理          赤川 次郎    368   \n",
       "2        06-24-20                              ミステリ博物館          赤川 次郎    339   \n",
       "3        02-28-19  Jacques the Fatalist and His Master  Denis Diderot    261   \n",
       "4        02-15-18                                   卒業          東野 圭吾    371   \n",
       "\n",
       "  review  rating     status         format platform             publisher  \\\n",
       "0      n     2.0  Completed  Physical Book      NaN                   新潮社   \n",
       "1      y     3.0  Completed         E-Book   Kindle              KADOKAWA   \n",
       "2      n     4.0  Completed  Physical Book      NaN              KADOKAWA   \n",
       "3      y     2.5  Completed  Physical Book      NaN  Penguin Random House   \n",
       "4      y     4.5  Completed  Physical Book      NaN                   講談社   \n",
       "\n",
       "            Imprint publication date     type            genre language  \n",
       "0              新潮文庫      25-May-1971  Fiction  science fiction       jp  \n",
       "1              角川文庫       1-Apr-1984  Fiction          Mystery       jp  \n",
       "2              角川文庫       1-Jul-1985  Fiction          Mystery       jp  \n",
       "3  Penguin Classics      30-Jan-1986  Fiction   Humour/ Satire       jp  \n",
       "4             講談社文庫       8-May-1989  Fiction          Mystery       jp  "
      ]
     },
     "execution_count": 3,
     "metadata": {},
     "output_type": "execute_result"
    }
   ],
   "source": [
    "df.head()"
   ]
  },
  {
   "cell_type": "code",
   "execution_count": 4,
   "id": "d9c7b59e",
   "metadata": {
    "execution": {
     "iopub.execute_input": "2022-06-07T19:01:38.839077Z",
     "iopub.status.busy": "2022-06-07T19:01:38.838341Z",
     "iopub.status.idle": "2022-06-07T19:01:38.863864Z",
     "shell.execute_reply": "2022-06-07T19:01:38.862811Z"
    },
    "papermill": {
     "duration": 0.054737,
     "end_time": "2022-06-07T19:01:38.866595",
     "exception": false,
     "start_time": "2022-06-07T19:01:38.811858",
     "status": "completed"
    },
    "tags": []
   },
   "outputs": [
    {
     "name": "stdout",
     "output_type": "stream",
     "text": [
      "<class 'pandas.core.frame.DataFrame'>\n",
      "RangeIndex: 391 entries, 0 to 390\n",
      "Data columns (total 15 columns):\n",
      " #   Column            Non-Null Count  Dtype  \n",
      "---  ------            --------------  -----  \n",
      " 0   completion date   329 non-null    object \n",
      " 1   Title             391 non-null    object \n",
      " 2   author(s)         391 non-null    object \n",
      " 3   pages             391 non-null    int64  \n",
      " 4   review            384 non-null    object \n",
      " 5   rating            345 non-null    float64\n",
      " 6   status            391 non-null    object \n",
      " 7   format            391 non-null    object \n",
      " 8   platform          100 non-null    object \n",
      " 9   publisher         391 non-null    object \n",
      " 10  Imprint           391 non-null    object \n",
      " 11  publication date  391 non-null    object \n",
      " 12  type              391 non-null    object \n",
      " 13  genre             391 non-null    object \n",
      " 14  language          391 non-null    object \n",
      "dtypes: float64(1), int64(1), object(13)\n",
      "memory usage: 45.9+ KB\n"
     ]
    }
   ],
   "source": [
    "df.info()"
   ]
  },
  {
   "cell_type": "code",
   "execution_count": 5,
   "id": "f44517b0",
   "metadata": {
    "execution": {
     "iopub.execute_input": "2022-06-07T19:01:38.920915Z",
     "iopub.status.busy": "2022-06-07T19:01:38.919818Z",
     "iopub.status.idle": "2022-06-07T19:01:38.940517Z",
     "shell.execute_reply": "2022-06-07T19:01:38.939442Z"
    },
    "papermill": {
     "duration": 0.049974,
     "end_time": "2022-06-07T19:01:38.942643",
     "exception": false,
     "start_time": "2022-06-07T19:01:38.892669",
     "status": "completed"
    },
    "tags": []
   },
   "outputs": [
    {
     "data": {
      "text/html": [
       "<div>\n",
       "<style scoped>\n",
       "    .dataframe tbody tr th:only-of-type {\n",
       "        vertical-align: middle;\n",
       "    }\n",
       "\n",
       "    .dataframe tbody tr th {\n",
       "        vertical-align: top;\n",
       "    }\n",
       "\n",
       "    .dataframe thead th {\n",
       "        text-align: right;\n",
       "    }\n",
       "</style>\n",
       "<table border=\"1\" class=\"dataframe\">\n",
       "  <thead>\n",
       "    <tr style=\"text-align: right;\">\n",
       "      <th></th>\n",
       "      <th>pages</th>\n",
       "      <th>rating</th>\n",
       "    </tr>\n",
       "  </thead>\n",
       "  <tbody>\n",
       "    <tr>\n",
       "      <th>count</th>\n",
       "      <td>391.000000</td>\n",
       "      <td>345.000000</td>\n",
       "    </tr>\n",
       "    <tr>\n",
       "      <th>mean</th>\n",
       "      <td>333.826087</td>\n",
       "      <td>3.576087</td>\n",
       "    </tr>\n",
       "    <tr>\n",
       "      <th>std</th>\n",
       "      <td>128.553393</td>\n",
       "      <td>1.057147</td>\n",
       "    </tr>\n",
       "    <tr>\n",
       "      <th>min</th>\n",
       "      <td>31.000000</td>\n",
       "      <td>1.000000</td>\n",
       "    </tr>\n",
       "    <tr>\n",
       "      <th>25%</th>\n",
       "      <td>256.000000</td>\n",
       "      <td>3.000000</td>\n",
       "    </tr>\n",
       "    <tr>\n",
       "      <th>50%</th>\n",
       "      <td>320.000000</td>\n",
       "      <td>4.000000</td>\n",
       "    </tr>\n",
       "    <tr>\n",
       "      <th>75%</th>\n",
       "      <td>384.000000</td>\n",
       "      <td>4.000000</td>\n",
       "    </tr>\n",
       "    <tr>\n",
       "      <th>max</th>\n",
       "      <td>912.000000</td>\n",
       "      <td>5.000000</td>\n",
       "    </tr>\n",
       "  </tbody>\n",
       "</table>\n",
       "</div>"
      ],
      "text/plain": [
       "            pages      rating\n",
       "count  391.000000  345.000000\n",
       "mean   333.826087    3.576087\n",
       "std    128.553393    1.057147\n",
       "min     31.000000    1.000000\n",
       "25%    256.000000    3.000000\n",
       "50%    320.000000    4.000000\n",
       "75%    384.000000    4.000000\n",
       "max    912.000000    5.000000"
      ]
     },
     "execution_count": 5,
     "metadata": {},
     "output_type": "execute_result"
    }
   ],
   "source": [
    "df.describe()"
   ]
  },
  {
   "cell_type": "markdown",
   "id": "c271c908",
   "metadata": {
    "papermill": {
     "duration": 0.024663,
     "end_time": "2022-06-07T19:01:38.992057",
     "exception": false,
     "start_time": "2022-06-07T19:01:38.967394",
     "status": "completed"
    },
    "tags": []
   },
   "source": [
    "# Evaluate variables"
   ]
  },
  {
   "cell_type": "code",
   "execution_count": 6,
   "id": "0eb562aa",
   "metadata": {
    "execution": {
     "iopub.execute_input": "2022-06-07T19:01:39.043537Z",
     "iopub.status.busy": "2022-06-07T19:01:39.043018Z",
     "iopub.status.idle": "2022-06-07T19:01:39.121676Z",
     "shell.execute_reply": "2022-06-07T19:01:39.120625Z"
    },
    "papermill": {
     "duration": 0.106989,
     "end_time": "2022-06-07T19:01:39.124087",
     "exception": false,
     "start_time": "2022-06-07T19:01:39.017098",
     "status": "completed"
    },
    "tags": []
   },
   "outputs": [],
   "source": [
    "df['publication date'] = pd.to_datetime(df['publication date'])\n",
    "df['publication_year'] = df['publication date'].dt.year\n",
    "df['publication_month'] = df['publication date'].dt.month\n",
    "\n",
    "df['completion date'] = pd.to_datetime(df['completion date'])\n",
    "df['completion_year'] = df['completion date'].dt.year\n",
    "df['completion_month'] = df['completion date'].dt.month"
   ]
  },
  {
   "cell_type": "code",
   "execution_count": 7,
   "id": "068db17b",
   "metadata": {
    "execution": {
     "iopub.execute_input": "2022-06-07T19:01:39.176749Z",
     "iopub.status.busy": "2022-06-07T19:01:39.175800Z",
     "iopub.status.idle": "2022-06-07T19:01:39.183157Z",
     "shell.execute_reply": "2022-06-07T19:01:39.182245Z"
    },
    "papermill": {
     "duration": 0.035962,
     "end_time": "2022-06-07T19:01:39.185307",
     "exception": false,
     "start_time": "2022-06-07T19:01:39.149345",
     "status": "completed"
    },
    "tags": []
   },
   "outputs": [
    {
     "data": {
      "text/plain": [
       "62"
      ]
     },
     "execution_count": 7,
     "metadata": {},
     "output_type": "execute_result"
    }
   ],
   "source": [
    "sum(df[\"completion date\"].isnull())"
   ]
  },
  {
   "cell_type": "code",
   "execution_count": 8,
   "id": "2a1d4636",
   "metadata": {
    "execution": {
     "iopub.execute_input": "2022-06-07T19:01:39.240604Z",
     "iopub.status.busy": "2022-06-07T19:01:39.239845Z",
     "iopub.status.idle": "2022-06-07T19:01:39.266034Z",
     "shell.execute_reply": "2022-06-07T19:01:39.265189Z"
    },
    "papermill": {
     "duration": 0.056432,
     "end_time": "2022-06-07T19:01:39.268103",
     "exception": false,
     "start_time": "2022-06-07T19:01:39.211671",
     "status": "completed"
    },
    "tags": []
   },
   "outputs": [
    {
     "data": {
      "text/html": [
       "<div>\n",
       "<style scoped>\n",
       "    .dataframe tbody tr th:only-of-type {\n",
       "        vertical-align: middle;\n",
       "    }\n",
       "\n",
       "    .dataframe tbody tr th {\n",
       "        vertical-align: top;\n",
       "    }\n",
       "\n",
       "    .dataframe thead th {\n",
       "        text-align: right;\n",
       "    }\n",
       "</style>\n",
       "<table border=\"1\" class=\"dataframe\">\n",
       "  <thead>\n",
       "    <tr style=\"text-align: right;\">\n",
       "      <th></th>\n",
       "      <th>completion date</th>\n",
       "      <th>Title</th>\n",
       "      <th>author(s)</th>\n",
       "      <th>pages</th>\n",
       "      <th>review</th>\n",
       "      <th>rating</th>\n",
       "      <th>status</th>\n",
       "      <th>format</th>\n",
       "      <th>platform</th>\n",
       "      <th>publisher</th>\n",
       "      <th>Imprint</th>\n",
       "      <th>publication date</th>\n",
       "      <th>type</th>\n",
       "      <th>genre</th>\n",
       "      <th>language</th>\n",
       "      <th>publication_year</th>\n",
       "      <th>publication_month</th>\n",
       "      <th>completion_year</th>\n",
       "      <th>completion_month</th>\n",
       "    </tr>\n",
       "  </thead>\n",
       "  <tbody>\n",
       "    <tr>\n",
       "      <th>0</th>\n",
       "      <td>NaT</td>\n",
       "      <td>ボッコちゃん</td>\n",
       "      <td>星 新一</td>\n",
       "      <td>315</td>\n",
       "      <td>n</td>\n",
       "      <td>2.0</td>\n",
       "      <td>Completed</td>\n",
       "      <td>Physical Book</td>\n",
       "      <td>NaN</td>\n",
       "      <td>新潮社</td>\n",
       "      <td>新潮文庫</td>\n",
       "      <td>1971-05-25</td>\n",
       "      <td>Fiction</td>\n",
       "      <td>science fiction</td>\n",
       "      <td>jp</td>\n",
       "      <td>1971</td>\n",
       "      <td>5</td>\n",
       "      <td>NaN</td>\n",
       "      <td>NaN</td>\n",
       "    </tr>\n",
       "    <tr>\n",
       "      <th>6</th>\n",
       "      <td>NaT</td>\n",
       "      <td>注文の多い料理店</td>\n",
       "      <td>宮沢 賢治</td>\n",
       "      <td>358</td>\n",
       "      <td>n</td>\n",
       "      <td>NaN</td>\n",
       "      <td>Completed</td>\n",
       "      <td>Physical Book</td>\n",
       "      <td>NaN</td>\n",
       "      <td>新潮社</td>\n",
       "      <td>新潮文庫</td>\n",
       "      <td>1990-05-29</td>\n",
       "      <td>Fiction</td>\n",
       "      <td>Fantasy</td>\n",
       "      <td>jp</td>\n",
       "      <td>1990</td>\n",
       "      <td>5</td>\n",
       "      <td>NaN</td>\n",
       "      <td>NaN</td>\n",
       "    </tr>\n",
       "    <tr>\n",
       "      <th>21</th>\n",
       "      <td>NaT</td>\n",
       "      <td>どちらかが彼女を殺した</td>\n",
       "      <td>東野 圭吾</td>\n",
       "      <td>356</td>\n",
       "      <td>y</td>\n",
       "      <td>5.0</td>\n",
       "      <td>Completed</td>\n",
       "      <td>Physical Book</td>\n",
       "      <td>NaN</td>\n",
       "      <td>講談社</td>\n",
       "      <td>講談社文庫</td>\n",
       "      <td>1999-05-14</td>\n",
       "      <td>Fiction</td>\n",
       "      <td>Mystery</td>\n",
       "      <td>jp</td>\n",
       "      <td>1999</td>\n",
       "      <td>5</td>\n",
       "      <td>NaN</td>\n",
       "      <td>NaN</td>\n",
       "    </tr>\n",
       "    <tr>\n",
       "      <th>25</th>\n",
       "      <td>NaT</td>\n",
       "      <td>悪意</td>\n",
       "      <td>東野 圭吾</td>\n",
       "      <td>376</td>\n",
       "      <td>y</td>\n",
       "      <td>5.0</td>\n",
       "      <td>Completed</td>\n",
       "      <td>Physical Book</td>\n",
       "      <td>NaN</td>\n",
       "      <td>講談社</td>\n",
       "      <td>講談社文庫</td>\n",
       "      <td>2001-01-17</td>\n",
       "      <td>Fiction</td>\n",
       "      <td>Mystery</td>\n",
       "      <td>jp</td>\n",
       "      <td>2001</td>\n",
       "      <td>1</td>\n",
       "      <td>NaN</td>\n",
       "      <td>NaN</td>\n",
       "    </tr>\n",
       "    <tr>\n",
       "      <th>26</th>\n",
       "      <td>NaT</td>\n",
       "      <td>A Study in Scarlet &amp; The Sign of the Four</td>\n",
       "      <td>Sir Arthur Conan Doyle</td>\n",
       "      <td>224</td>\n",
       "      <td>n</td>\n",
       "      <td>4.0</td>\n",
       "      <td>Completed</td>\n",
       "      <td>Physical Book</td>\n",
       "      <td>NaN</td>\n",
       "      <td>Wordsworth Editions</td>\n",
       "      <td>Wordsworth Editions</td>\n",
       "      <td>2001-12-05</td>\n",
       "      <td>Fiction</td>\n",
       "      <td>Mystery</td>\n",
       "      <td>eng</td>\n",
       "      <td>2001</td>\n",
       "      <td>12</td>\n",
       "      <td>NaN</td>\n",
       "      <td>NaN</td>\n",
       "    </tr>\n",
       "  </tbody>\n",
       "</table>\n",
       "</div>"
      ],
      "text/plain": [
       "   completion date                                      Title  \\\n",
       "0              NaT                                     ボッコちゃん   \n",
       "6              NaT                                   注文の多い料理店   \n",
       "21             NaT                                どちらかが彼女を殺した   \n",
       "25             NaT                                         悪意   \n",
       "26             NaT  A Study in Scarlet & The Sign of the Four   \n",
       "\n",
       "                 author(s)  pages review  rating     status         format  \\\n",
       "0                     星 新一    315      n     2.0  Completed  Physical Book   \n",
       "6                    宮沢 賢治    358      n     NaN  Completed  Physical Book   \n",
       "21                   東野 圭吾    356      y     5.0  Completed  Physical Book   \n",
       "25                   東野 圭吾    376      y     5.0  Completed  Physical Book   \n",
       "26  Sir Arthur Conan Doyle    224      n     4.0  Completed  Physical Book   \n",
       "\n",
       "   platform            publisher              Imprint publication date  \\\n",
       "0       NaN                  新潮社                 新潮文庫       1971-05-25   \n",
       "6       NaN                  新潮社                 新潮文庫       1990-05-29   \n",
       "21      NaN                  講談社                講談社文庫       1999-05-14   \n",
       "25      NaN                  講談社                講談社文庫       2001-01-17   \n",
       "26      NaN  Wordsworth Editions  Wordsworth Editions       2001-12-05   \n",
       "\n",
       "       type            genre language  publication_year  publication_month  \\\n",
       "0   Fiction  science fiction       jp              1971                  5   \n",
       "6   Fiction          Fantasy       jp              1990                  5   \n",
       "21  Fiction          Mystery       jp              1999                  5   \n",
       "25  Fiction          Mystery       jp              2001                  1   \n",
       "26  Fiction          Mystery      eng              2001                 12   \n",
       "\n",
       "    completion_year  completion_month  \n",
       "0               NaN               NaN  \n",
       "6               NaN               NaN  \n",
       "21              NaN               NaN  \n",
       "25              NaN               NaN  \n",
       "26              NaN               NaN  "
      ]
     },
     "execution_count": 8,
     "metadata": {},
     "output_type": "execute_result"
    }
   ],
   "source": [
    "df[(df[\"completion date\"].isnull())& (df[\"status\"]==\"Completed\")].head()"
   ]
  },
  {
   "cell_type": "code",
   "execution_count": 9,
   "id": "a81f359a",
   "metadata": {
    "execution": {
     "iopub.execute_input": "2022-06-07T19:01:39.326729Z",
     "iopub.status.busy": "2022-06-07T19:01:39.325708Z",
     "iopub.status.idle": "2022-06-07T19:01:39.334027Z",
     "shell.execute_reply": "2022-06-07T19:01:39.333310Z"
    },
    "papermill": {
     "duration": 0.040726,
     "end_time": "2022-06-07T19:01:39.336575",
     "exception": false,
     "start_time": "2022-06-07T19:01:39.295849",
     "status": "completed"
    },
    "tags": []
   },
   "outputs": [
    {
     "data": {
      "text/plain": [
       "53"
      ]
     },
     "execution_count": 9,
     "metadata": {},
     "output_type": "execute_result"
    }
   ],
   "source": [
    "df[(df[\"completion date\"].isnull())& (df[\"status\"]==\"Completed\")].shape[0]"
   ]
  },
  {
   "cell_type": "code",
   "execution_count": 10,
   "id": "2e077d2b",
   "metadata": {
    "execution": {
     "iopub.execute_input": "2022-06-07T19:01:39.392795Z",
     "iopub.status.busy": "2022-06-07T19:01:39.391999Z",
     "iopub.status.idle": "2022-06-07T19:01:39.402214Z",
     "shell.execute_reply": "2022-06-07T19:01:39.401471Z"
    },
    "papermill": {
     "duration": 0.039973,
     "end_time": "2022-06-07T19:01:39.404207",
     "exception": false,
     "start_time": "2022-06-07T19:01:39.364234",
     "status": "completed"
    },
    "tags": []
   },
   "outputs": [
    {
     "data": {
      "text/plain": [
       "0     No\n",
       "1    Yes\n",
       "2     No\n",
       "3    Yes\n",
       "4    Yes\n",
       "Name: review, dtype: object"
      ]
     },
     "execution_count": 10,
     "metadata": {},
     "output_type": "execute_result"
    }
   ],
   "source": [
    "df[\"review\"].replace({\"y\": \"Yes\", \"n\":\"No\"}, inplace = True)\n",
    "df[\"review\"].head()"
   ]
  },
  {
   "cell_type": "code",
   "execution_count": 11,
   "id": "70f01a23",
   "metadata": {
    "execution": {
     "iopub.execute_input": "2022-06-07T19:01:39.458695Z",
     "iopub.status.busy": "2022-06-07T19:01:39.458187Z",
     "iopub.status.idle": "2022-06-07T19:01:39.466924Z",
     "shell.execute_reply": "2022-06-07T19:01:39.465993Z"
    },
    "papermill": {
     "duration": 0.039128,
     "end_time": "2022-06-07T19:01:39.469788",
     "exception": false,
     "start_time": "2022-06-07T19:01:39.430660",
     "status": "completed"
    },
    "tags": []
   },
   "outputs": [
    {
     "data": {
      "text/plain": [
       "Audible      25\n",
       "Libby        25\n",
       "BorrowBox    24\n",
       "Kindle       17\n",
       "Unknown       7\n",
       "Youtube       2\n",
       "Name: platform, dtype: int64"
      ]
     },
     "execution_count": 11,
     "metadata": {},
     "output_type": "execute_result"
    }
   ],
   "source": [
    "df[\"platform\"].value_counts()"
   ]
  },
  {
   "cell_type": "code",
   "execution_count": 12,
   "id": "b8285d77",
   "metadata": {
    "execution": {
     "iopub.execute_input": "2022-06-07T19:01:39.528336Z",
     "iopub.status.busy": "2022-06-07T19:01:39.527485Z",
     "iopub.status.idle": "2022-06-07T19:01:39.533958Z",
     "shell.execute_reply": "2022-06-07T19:01:39.533067Z"
    },
    "papermill": {
     "duration": 0.038247,
     "end_time": "2022-06-07T19:01:39.536222",
     "exception": false,
     "start_time": "2022-06-07T19:01:39.497975",
     "status": "completed"
    },
    "tags": []
   },
   "outputs": [],
   "source": [
    "df[\"platform\"].replace({\"Youtube\": \"Unknown\"}, inplace = True)"
   ]
  },
  {
   "cell_type": "code",
   "execution_count": 13,
   "id": "26f8f8d9",
   "metadata": {
    "execution": {
     "iopub.execute_input": "2022-06-07T19:01:39.594318Z",
     "iopub.status.busy": "2022-06-07T19:01:39.593490Z",
     "iopub.status.idle": "2022-06-07T19:01:39.600355Z",
     "shell.execute_reply": "2022-06-07T19:01:39.599631Z"
    },
    "papermill": {
     "duration": 0.03855,
     "end_time": "2022-06-07T19:01:39.602585",
     "exception": false,
     "start_time": "2022-06-07T19:01:39.564035",
     "status": "completed"
    },
    "tags": []
   },
   "outputs": [
    {
     "data": {
      "text/plain": [
       "36"
      ]
     },
     "execution_count": 13,
     "metadata": {},
     "output_type": "execute_result"
    }
   ],
   "source": [
    "df[\"genre\"].nunique()"
   ]
  },
  {
   "cell_type": "code",
   "execution_count": 14,
   "id": "5ea193be",
   "metadata": {
    "execution": {
     "iopub.execute_input": "2022-06-07T19:01:39.659272Z",
     "iopub.status.busy": "2022-06-07T19:01:39.658679Z",
     "iopub.status.idle": "2022-06-07T19:01:39.664307Z",
     "shell.execute_reply": "2022-06-07T19:01:39.663544Z"
    },
    "papermill": {
     "duration": 0.035295,
     "end_time": "2022-06-07T19:01:39.666161",
     "exception": false,
     "start_time": "2022-06-07T19:01:39.630866",
     "status": "completed"
    },
    "tags": []
   },
   "outputs": [
    {
     "data": {
      "text/plain": [
       "array(['science fiction', 'Mystery', 'Humour/ Satire', 'Literary Fiction',\n",
       "       'Fantasy', 'Romance', 'Science Fiction', 'Bildungsroman',\n",
       "       'Self Help', 'Picture book', 'Magical realism', 'Thriller',\n",
       "       'Economics', 'Horror', 'Contemporary', 'Mathematics',\n",
       "       'Self-Esteem', '経済小説', 'Dystopian', 'science', '経営書', 'Psychology',\n",
       "       '仕事小説', 'Fashion', 'Humour Encyclopaedias', 'Realist Literature',\n",
       "       'Physical Chemistry', 'Data', 'Law', 'Business', 'Adventure',\n",
       "       'Applied Physics', 'History', 'Biographies',\n",
       "       'Essays, Journals & Letters', 'Architectural History'],\n",
       "      dtype=object)"
      ]
     },
     "execution_count": 14,
     "metadata": {},
     "output_type": "execute_result"
    }
   ],
   "source": [
    "df[\"genre\"].unique()"
   ]
  },
  {
   "cell_type": "code",
   "execution_count": 15,
   "id": "90112bee",
   "metadata": {
    "execution": {
     "iopub.execute_input": "2022-06-07T19:01:39.722006Z",
     "iopub.status.busy": "2022-06-07T19:01:39.721376Z",
     "iopub.status.idle": "2022-06-07T19:01:39.734138Z",
     "shell.execute_reply": "2022-06-07T19:01:39.733183Z"
    },
    "papermill": {
     "duration": 0.04358,
     "end_time": "2022-06-07T19:01:39.736424",
     "exception": false,
     "start_time": "2022-06-07T19:01:39.692844",
     "status": "completed"
    },
    "tags": []
   },
   "outputs": [
    {
     "name": "stdout",
     "output_type": "stream",
     "text": [
      "<class 'pandas.core.frame.DataFrame'>\n",
      "RangeIndex: 391 entries, 0 to 390\n",
      "Data columns (total 19 columns):\n",
      " #   Column             Non-Null Count  Dtype         \n",
      "---  ------             --------------  -----         \n",
      " 0   completion date    329 non-null    datetime64[ns]\n",
      " 1   Title              391 non-null    object        \n",
      " 2   author(s)          391 non-null    object        \n",
      " 3   pages              391 non-null    int64         \n",
      " 4   review             384 non-null    object        \n",
      " 5   rating             345 non-null    float64       \n",
      " 6   status             391 non-null    object        \n",
      " 7   format             391 non-null    object        \n",
      " 8   platform           100 non-null    object        \n",
      " 9   publisher          391 non-null    object        \n",
      " 10  Imprint            391 non-null    object        \n",
      " 11  publication date   391 non-null    datetime64[ns]\n",
      " 12  type               391 non-null    object        \n",
      " 13  genre              391 non-null    object        \n",
      " 14  language           391 non-null    object        \n",
      " 15  publication_year   391 non-null    int64         \n",
      " 16  publication_month  391 non-null    int64         \n",
      " 17  completion_year    329 non-null    float64       \n",
      " 18  completion_month   329 non-null    float64       \n",
      "dtypes: datetime64[ns](2), float64(3), int64(3), object(11)\n",
      "memory usage: 58.2+ KB\n"
     ]
    }
   ],
   "source": [
    "df.info()"
   ]
  },
  {
   "cell_type": "code",
   "execution_count": 16,
   "id": "cf175416",
   "metadata": {
    "execution": {
     "iopub.execute_input": "2022-06-07T19:01:39.791285Z",
     "iopub.status.busy": "2022-06-07T19:01:39.790922Z",
     "iopub.status.idle": "2022-06-07T19:01:39.796823Z",
     "shell.execute_reply": "2022-06-07T19:01:39.795908Z"
    },
    "papermill": {
     "duration": 0.035826,
     "end_time": "2022-06-07T19:01:39.798971",
     "exception": false,
     "start_time": "2022-06-07T19:01:39.763145",
     "status": "completed"
    },
    "tags": []
   },
   "outputs": [
    {
     "data": {
      "text/plain": [
       "array(['jp', 'eng'], dtype=object)"
      ]
     },
     "execution_count": 16,
     "metadata": {},
     "output_type": "execute_result"
    }
   ],
   "source": [
    "df[\"language\"].unique()"
   ]
  },
  {
   "cell_type": "code",
   "execution_count": 17,
   "id": "aa6eb447",
   "metadata": {
    "execution": {
     "iopub.execute_input": "2022-06-07T19:01:39.853455Z",
     "iopub.status.busy": "2022-06-07T19:01:39.852516Z",
     "iopub.status.idle": "2022-06-07T19:01:39.862511Z",
     "shell.execute_reply": "2022-06-07T19:01:39.861581Z"
    },
    "papermill": {
     "duration": 0.039295,
     "end_time": "2022-06-07T19:01:39.864453",
     "exception": false,
     "start_time": "2022-06-07T19:01:39.825158",
     "status": "completed"
    },
    "tags": []
   },
   "outputs": [
    {
     "data": {
      "text/plain": [
       "0      Japanese\n",
       "1      Japanese\n",
       "2      Japanese\n",
       "3      Japanese\n",
       "4      Japanese\n",
       "         ...   \n",
       "386     English\n",
       "387     English\n",
       "388     English\n",
       "389     English\n",
       "390     English\n",
       "Name: language, Length: 391, dtype: object"
      ]
     },
     "execution_count": 17,
     "metadata": {},
     "output_type": "execute_result"
    }
   ],
   "source": [
    "df[\"language\"].replace({\"jp\": \"Japanese\", \"eng\":\"English\"}, inplace = True)\n",
    "df[\"language\"]"
   ]
  },
  {
   "cell_type": "code",
   "execution_count": 18,
   "id": "25732400",
   "metadata": {
    "execution": {
     "iopub.execute_input": "2022-06-07T19:01:39.920107Z",
     "iopub.status.busy": "2022-06-07T19:01:39.919133Z",
     "iopub.status.idle": "2022-06-07T19:01:39.927128Z",
     "shell.execute_reply": "2022-06-07T19:01:39.926272Z"
    },
    "papermill": {
     "duration": 0.038246,
     "end_time": "2022-06-07T19:01:39.929031",
     "exception": false,
     "start_time": "2022-06-07T19:01:39.890785",
     "status": "completed"
    },
    "tags": []
   },
   "outputs": [
    {
     "data": {
      "text/plain": [
       "Completed     381\n",
       "DNF             8\n",
       "incomplete      1\n",
       "TBR             1\n",
       "Name: status, dtype: int64"
      ]
     },
     "execution_count": 18,
     "metadata": {},
     "output_type": "execute_result"
    }
   ],
   "source": [
    "df[\"status\"].value_counts()"
   ]
  },
  {
   "cell_type": "code",
   "execution_count": 19,
   "id": "87569007",
   "metadata": {
    "execution": {
     "iopub.execute_input": "2022-06-07T19:01:39.984112Z",
     "iopub.status.busy": "2022-06-07T19:01:39.983267Z",
     "iopub.status.idle": "2022-06-07T19:01:39.989696Z",
     "shell.execute_reply": "2022-06-07T19:01:39.988875Z"
    },
    "papermill": {
     "duration": 0.035954,
     "end_time": "2022-06-07T19:01:39.991570",
     "exception": false,
     "start_time": "2022-06-07T19:01:39.955616",
     "status": "completed"
    },
    "tags": []
   },
   "outputs": [],
   "source": [
    "df[\"status\"].replace({\"incomplete\": \"Incomplete\"}, inplace = True)\n",
    "df[\"status\"].replace({\"Incomplete\": \"Other\", \"TBR\": \"Other\"}, inplace = True)"
   ]
  },
  {
   "cell_type": "code",
   "execution_count": 20,
   "id": "57bae4af",
   "metadata": {
    "execution": {
     "iopub.execute_input": "2022-06-07T19:01:40.046580Z",
     "iopub.status.busy": "2022-06-07T19:01:40.045887Z",
     "iopub.status.idle": "2022-06-07T19:01:40.053088Z",
     "shell.execute_reply": "2022-06-07T19:01:40.052449Z"
    },
    "papermill": {
     "duration": 0.036712,
     "end_time": "2022-06-07T19:01:40.054824",
     "exception": false,
     "start_time": "2022-06-07T19:01:40.018112",
     "status": "completed"
    },
    "tags": []
   },
   "outputs": [
    {
     "data": {
      "text/plain": [
       "Fiction       341\n",
       "Nonfiction     50\n",
       "Name: type, dtype: int64"
      ]
     },
     "execution_count": 20,
     "metadata": {},
     "output_type": "execute_result"
    }
   ],
   "source": [
    "df[\"type\"].value_counts()"
   ]
  },
  {
   "cell_type": "markdown",
   "id": "0fc93a06",
   "metadata": {
    "papermill": {
     "duration": 0.026759,
     "end_time": "2022-06-07T19:01:40.108089",
     "exception": false,
     "start_time": "2022-06-07T19:01:40.081330",
     "status": "completed"
    },
    "tags": []
   },
   "source": [
    "# EDA\n",
    "## DNF"
   ]
  },
  {
   "cell_type": "code",
   "execution_count": 21,
   "id": "09470f62",
   "metadata": {
    "execution": {
     "iopub.execute_input": "2022-06-07T19:01:40.164035Z",
     "iopub.status.busy": "2022-06-07T19:01:40.163428Z",
     "iopub.status.idle": "2022-06-07T19:01:40.379768Z",
     "shell.execute_reply": "2022-06-07T19:01:40.379046Z"
    },
    "papermill": {
     "duration": 0.246698,
     "end_time": "2022-06-07T19:01:40.381590",
     "exception": false,
     "start_time": "2022-06-07T19:01:40.134892",
     "status": "completed"
    },
    "tags": []
   },
   "outputs": [
    {
     "data": {
      "image/png": "[encoded data removed]",
      "text/plain": [
       "<Figure size 432x288 with 1 Axes>"
      ]
     },
     "metadata": {},
     "output_type": "display_data"
    }
   ],
   "source": [
    "sns.countplot(x = \"status\", data = df)\n",
    "plt.show()"
   ]
  },
  {
   "cell_type": "code",
   "execution_count": 22,
   "id": "35c78121",
   "metadata": {
    "execution": {
     "iopub.execute_input": "2022-06-07T19:01:40.437433Z",
     "iopub.status.busy": "2022-06-07T19:01:40.436861Z",
     "iopub.status.idle": "2022-06-07T19:01:40.443084Z",
     "shell.execute_reply": "2022-06-07T19:01:40.442231Z"
    },
    "papermill": {
     "duration": 0.036825,
     "end_time": "2022-06-07T19:01:40.445203",
     "exception": false,
     "start_time": "2022-06-07T19:01:40.408378",
     "status": "completed"
    },
    "tags": []
   },
   "outputs": [],
   "source": [
    "DNF = df[df[\"status\"]==\"DNF\"]\n",
    "Completed = df[df[\"status\"]==\"Completed\"]"
   ]
  },
  {
   "cell_type": "code",
   "execution_count": 23,
   "id": "70646be7",
   "metadata": {
    "execution": {
     "iopub.execute_input": "2022-06-07T19:01:40.500587Z",
     "iopub.status.busy": "2022-06-07T19:01:40.500169Z",
     "iopub.status.idle": "2022-06-07T19:01:40.506708Z",
     "shell.execute_reply": "2022-06-07T19:01:40.505871Z"
    },
    "papermill": {
     "duration": 0.036817,
     "end_time": "2022-06-07T19:01:40.508652",
     "exception": false,
     "start_time": "2022-06-07T19:01:40.471835",
     "status": "completed"
    },
    "tags": []
   },
   "outputs": [
    {
     "data": {
      "text/plain": [
       "2375"
      ]
     },
     "execution_count": 23,
     "metadata": {},
     "output_type": "execute_result"
    }
   ],
   "source": [
    "sum(DNF[\"pages\"])"
   ]
  },
  {
   "cell_type": "code",
   "execution_count": 24,
   "id": "995a076e",
   "metadata": {
    "execution": {
     "iopub.execute_input": "2022-06-07T19:01:40.564346Z",
     "iopub.status.busy": "2022-06-07T19:01:40.563721Z",
     "iopub.status.idle": "2022-06-07T19:01:40.571121Z",
     "shell.execute_reply": "2022-06-07T19:01:40.570228Z"
    },
    "papermill": {
     "duration": 0.037278,
     "end_time": "2022-06-07T19:01:40.572989",
     "exception": false,
     "start_time": "2022-06-07T19:01:40.535711",
     "status": "completed"
    },
    "tags": []
   },
   "outputs": [
    {
     "data": {
      "text/plain": [
       "Audiobook        7\n",
       "Physical Book    1\n",
       "Name: format, dtype: int64"
      ]
     },
     "execution_count": 24,
     "metadata": {},
     "output_type": "execute_result"
    }
   ],
   "source": [
    "DNF[\"format\"].value_counts()"
   ]
  },
  {
   "cell_type": "code",
   "execution_count": 25,
   "id": "3dfd4629",
   "metadata": {
    "execution": {
     "iopub.execute_input": "2022-06-07T19:01:40.629304Z",
     "iopub.status.busy": "2022-06-07T19:01:40.628289Z",
     "iopub.status.idle": "2022-06-07T19:01:40.633895Z",
     "shell.execute_reply": "2022-06-07T19:01:40.633270Z"
    },
    "papermill": {
     "duration": 0.035967,
     "end_time": "2022-06-07T19:01:40.636098",
     "exception": false,
     "start_time": "2022-06-07T19:01:40.600131",
     "status": "completed"
    },
    "tags": []
   },
   "outputs": [
    {
     "name": "stdout",
     "output_type": "stream",
     "text": [
      "No duplicated authors\n"
     ]
    }
   ],
   "source": [
    "if DNF[\"author(s)\"].nunique() ==DNF.shape[0]:\n",
    "    print(\"No duplicated authors\")\n",
    "else:\n",
    "    print(\"there is an author you should avoid\")"
   ]
  },
  {
   "cell_type": "code",
   "execution_count": 26,
   "id": "f78e5b8e",
   "metadata": {
    "execution": {
     "iopub.execute_input": "2022-06-07T19:01:40.692883Z",
     "iopub.status.busy": "2022-06-07T19:01:40.692488Z",
     "iopub.status.idle": "2022-06-07T19:01:40.698064Z",
     "shell.execute_reply": "2022-06-07T19:01:40.697453Z"
    },
    "papermill": {
     "duration": 0.03557,
     "end_time": "2022-06-07T19:01:40.699741",
     "exception": false,
     "start_time": "2022-06-07T19:01:40.664171",
     "status": "completed"
    },
    "tags": []
   },
   "outputs": [
    {
     "data": {
      "text/plain": [
       "8"
      ]
     },
     "execution_count": 26,
     "metadata": {},
     "output_type": "execute_result"
    }
   ],
   "source": [
    "DNF[\"publisher\"].nunique()"
   ]
  },
  {
   "cell_type": "code",
   "execution_count": 27,
   "id": "f9c6ef3c",
   "metadata": {
    "execution": {
     "iopub.execute_input": "2022-06-07T19:01:40.756860Z",
     "iopub.status.busy": "2022-06-07T19:01:40.756118Z",
     "iopub.status.idle": "2022-06-07T19:01:40.763777Z",
     "shell.execute_reply": "2022-06-07T19:01:40.763076Z"
    },
    "papermill": {
     "duration": 0.038581,
     "end_time": "2022-06-07T19:01:40.765536",
     "exception": false,
     "start_time": "2022-06-07T19:01:40.726955",
     "status": "completed"
    },
    "tags": []
   },
   "outputs": [
    {
     "data": {
      "text/plain": [
       "BorrowBox    3\n",
       "Audible      2\n",
       "Libby        2\n",
       "Name: platform, dtype: int64"
      ]
     },
     "execution_count": 27,
     "metadata": {},
     "output_type": "execute_result"
    }
   ],
   "source": [
    "DNF[\"platform\"].value_counts()"
   ]
  },
  {
   "cell_type": "code",
   "execution_count": 28,
   "id": "8067b6be",
   "metadata": {
    "execution": {
     "iopub.execute_input": "2022-06-07T19:01:40.822515Z",
     "iopub.status.busy": "2022-06-07T19:01:40.822102Z",
     "iopub.status.idle": "2022-06-07T19:01:41.931421Z",
     "shell.execute_reply": "2022-06-07T19:01:41.930460Z"
    },
    "papermill": {
     "duration": 1.140599,
     "end_time": "2022-06-07T19:01:41.933632",
     "exception": false,
     "start_time": "2022-06-07T19:01:40.793033",
     "status": "completed"
    },
    "tags": []
   },
   "outputs": [
    {
     "data": {
      "text/html": [
       "        <script type=\"text/javascript\">\n",
       "        window.PlotlyConfig = {MathJaxConfig: 'local'};\n",
       "        if (window.MathJax && window.MathJax.Hub && window.MathJax.Hub.Config) {window.MathJax.Hub.Config({SVG: {font: \"STIX-Web\"}});}\n",
       "        if (typeof require !== 'undefined') {\n",
       "        require.undef(\"plotly\");\n",
       "        requirejs.config({\n",
       "            paths: {\n",
       "                'plotly': ['https://cdn.plot.ly/plotly-2.12.1.min']\n",
       "            }\n",
       "        });\n",
       "        require(['plotly'], function(Plotly) {\n",
       "            window._Plotly = Plotly;\n",
       "        });\n",
       "        }\n",
       "        </script>\n",
       "        "
      ]
     },
     "metadata": {},
     "output_type": "display_data"
    },
    {
     "data": {
      "text/html": [
       "<div>                            <div id=\"ee1babc1-6bf7-4c55-b226-957076e00b6d\" class=\"plotly-graph-div\" style=\"height:525px; width:100%;\"></div>            <script type=\"text/javascript\">                require([\"plotly\"], function(Plotly) {                    window.PLOTLYENV=window.PLOTLYENV || {};                                    if (document.getElementById(\"ee1babc1-6bf7-4c55-b226-957076e00b6d\")) {                    Plotly.newPlot(                        \"ee1babc1-6bf7-4c55-b226-957076e00b6d\",                        [{\"alignmentgroup\":\"True\",\"bingroup\":\"x\",\"hovertemplate\":\"publication_year=%{x}<br>count=%{y}<extra></extra>\",\"legendgroup\":\"\",\"marker\":{\"color\":\"#636efa\",\"pattern\":{\"shape\":\"\"}},\"name\":\"\",\"nbinsx\":5,\"offsetgroup\":\"\",\"orientation\":\"v\",\"showlegend\":false,\"x\":[2007,2013,2013,2017,2017,2019,2021,2022],\"xaxis\":\"x\",\"yaxis\":\"y\",\"type\":\"histogram\"}],                        {\"template\":{\"data\":{\"histogram2dcontour\":[{\"type\":\"histogram2dcontour\",\"colorbar\":{\"outlinewidth\":0,\"ticks\":\"\"},\"colorscale\":[[0.0,\"#0d0887\"],[0.1111111111111111,\"#46039f\"],[0.2222222222222222,\"#7201a8\"],[0.3333333333333333,\"#9c179e\"],[0.4444444444444444,\"#bd3786\"],[0.5555555555555556,\"#d8576b\"],[0.6666666666666666,\"#ed7953\"],[0.7777777777777778,\"#fb9f3a\"],[0.8888888888888888,\"#fdca26\"],[1.0,\"#f0f921\"]]}],\"choropleth\":[{\"type\":\"choropleth\",\"colorbar\":{\"outlinewidth\":0,\"ticks\":\"\"}}],\"histogram2d\":[{\"type\":\"histogram2d\",\"colorbar\":{\"outlinewidth\":0,\"ticks\":\"\"},\"colorscale\":[[0.0,\"#0d0887\"],[0.1111111111111111,\"#46039f\"],[0.2222222222222222,\"#7201a8\"],[0.3333333333333333,\"#9c179e\"],[0.4444444444444444,\"#bd3786\"],[0.5555555555555556,\"#d8576b\"],[0.6666666666666666,\"#ed7953\"],[0.7777777777777778,\"#fb9f3a\"],[0.8888888888888888,\"#fdca26\"],[1.0,\"#f0f921\"]]}],\"heatmap\":[{\"type\":\"heatmap\",\"colorbar\":{\"outlinewidth\":0,\"ticks\":\"\"},\"colorscale\":[[0.0,\"#0d0887\"],[0.1111111111111111,\"#46039f\"],[0.2222222222222222,\"#7201a8\"],[0.3333333333333333,\"#9c179e\"],[0.4444444444444444,\"#bd3786\"],[0.5555555555555556,\"#d8576b\"],[0.6666666666666666,\"#ed7953\"],[0.7777777777777778,\"#fb9f3a\"],[0.8888888888888888,\"#fdca26\"],[1.0,\"#f0f921\"]]}],\"heatmapgl\":[{\"type\":\"heatmapgl\",\"colorbar\":{\"outlinewidth\":0,\"ticks\":\"\"},\"colorscale\":[[0.0,\"#0d0887\"],[0.1111111111111111,\"#46039f\"],[0.2222222222222222,\"#7201a8\"],[0.3333333333333333,\"#9c179e\"],[0.4444444444444444,\"#bd3786\"],[0.5555555555555556,\"#d8576b\"],[0.6666666666666666,\"#ed7953\"],[0.7777777777777778,\"#fb9f3a\"],[0.8888888888888888,\"#fdca26\"],[1.0,\"#f0f921\"]]}],\"contourcarpet\":[{\"type\":\"contourcarpet\",\"colorbar\":{\"outlinewidth\":0,\"ticks\":\"\"}}],\"contour\":[{\"type\":\"contour\",\"colorbar\":{\"outlinewidth\":0,\"ticks\":\"\"},\"colorscale\":[[0.0,\"#0d0887\"],[0.1111111111111111,\"#46039f\"],[0.2222222222222222,\"#7201a8\"],[0.3333333333333333,\"#9c179e\"],[0.4444444444444444,\"#bd3786\"],[0.5555555555555556,\"#d8576b\"],[0.6666666666666666,\"#ed7953\"],[0.7777777777777778,\"#fb9f3a\"],[0.8888888888888888,\"#fdca26\"],[1.0,\"#f0f921\"]]}],\"surface\":[{\"type\":\"surface\",\"colorbar\":{\"outlinewidth\":0,\"ticks\":\"\"},\"colorscale\":[[0.0,\"#0d0887\"],[0.1111111111111111,\"#46039f\"],[0.2222222222222222,\"#7201a8\"],[0.3333333333333333,\"#9c179e\"],[0.4444444444444444,\"#bd3786\"],[0.5555555555555556,\"#d8576b\"],[0.6666666666666666,\"#ed7953\"],[0.7777777777777778,\"#fb9f3a\"],[0.8888888888888888,\"#fdca26\"],[1.0,\"#f0f921\"]]}],\"mesh3d\":[{\"type\":\"mesh3d\",\"colorbar\":{\"outlinewidth\":0,\"ticks\":\"\"}}],\"scatter\":[{\"fillpattern\":{\"fillmode\":\"overlay\",\"size\":10,\"solidity\":0.2},\"type\":\"scatter\"}],\"parcoords\":[{\"type\":\"parcoords\",\"line\":{\"colorbar\":{\"outlinewidth\":0,\"ticks\":\"\"}}}],\"scatterpolargl\":[{\"type\":\"scatterpolargl\",\"marker\":{\"colorbar\":{\"outlinewidth\":0,\"ticks\":\"\"}}}],\"bar\":[{\"error_x\":{\"color\":\"#2a3f5f\"},\"error_y\":{\"color\":\"#2a3f5f\"},\"marker\":{\"line\":{\"color\":\"#E5ECF6\",\"width\":0.5},\"pattern\":{\"fillmode\":\"overlay\",\"size\":10,\"solidity\":0.2}},\"type\":\"bar\"}],\"scattergeo\":[{\"type\":\"scattergeo\",\"marker\":{\"colorbar\":{\"outlinewidth\":0,\"ticks\":\"\"}}}],\"scatterpolar\":[{\"type\":\"scatterpolar\",\"marker\":{\"colorbar\":{\"outlinewidth\":0,\"ticks\":\"\"}}}],\"histogram\":[{\"marker\":{\"pattern\":{\"fillmode\":\"overlay\",\"size\":10,\"solidity\":0.2}},\"type\":\"histogram\"}],\"scattergl\":[{\"type\":\"scattergl\",\"marker\":{\"colorbar\":{\"outlinewidth\":0,\"ticks\":\"\"}}}],\"scatter3d\":[{\"type\":\"scatter3d\",\"line\":{\"colorbar\":{\"outlinewidth\":0,\"ticks\":\"\"}},\"marker\":{\"colorbar\":{\"outlinewidth\":0,\"ticks\":\"\"}}}],\"scattermapbox\":[{\"type\":\"scattermapbox\",\"marker\":{\"colorbar\":{\"outlinewidth\":0,\"ticks\":\"\"}}}],\"scatterternary\":[{\"type\":\"scatterternary\",\"marker\":{\"colorbar\":{\"outlinewidth\":0,\"ticks\":\"\"}}}],\"scattercarpet\":[{\"type\":\"scattercarpet\",\"marker\":{\"colorbar\":{\"outlinewidth\":0,\"ticks\":\"\"}}}],\"carpet\":[{\"aaxis\":{\"endlinecolor\":\"#2a3f5f\",\"gridcolor\":\"white\",\"linecolor\":\"white\",\"minorgridcolor\":\"white\",\"startlinecolor\":\"#2a3f5f\"},\"baxis\":{\"endlinecolor\":\"#2a3f5f\",\"gridcolor\":\"white\",\"linecolor\":\"white\",\"minorgridcolor\":\"white\",\"startlinecolor\":\"#2a3f5f\"},\"type\":\"carpet\"}],\"table\":[{\"cells\":{\"fill\":{\"color\":\"#EBF0F8\"},\"line\":{\"color\":\"white\"}},\"header\":{\"fill\":{\"color\":\"#C8D4E3\"},\"line\":{\"color\":\"white\"}},\"type\":\"table\"}],\"barpolar\":[{\"marker\":{\"line\":{\"color\":\"#E5ECF6\",\"width\":0.5},\"pattern\":{\"fillmode\":\"overlay\",\"size\":10,\"solidity\":0.2}},\"type\":\"barpolar\"}],\"pie\":[{\"automargin\":true,\"type\":\"pie\"}]},\"layout\":{\"autotypenumbers\":\"strict\",\"colorway\":[\"#636efa\",\"#EF553B\",\"#00cc96\",\"#ab63fa\",\"#FFA15A\",\"#19d3f3\",\"#FF6692\",\"#B6E880\",\"#FF97FF\",\"#FECB52\"],\"font\":{\"color\":\"#2a3f5f\"},\"hovermode\":\"closest\",\"hoverlabel\":{\"align\":\"left\"},\"paper_bgcolor\":\"white\",\"plot_bgcolor\":\"#E5ECF6\",\"polar\":{\"bgcolor\":\"#E5ECF6\",\"angularaxis\":{\"gridcolor\":\"white\",\"linecolor\":\"white\",\"ticks\":\"\"},\"radialaxis\":{\"gridcolor\":\"white\",\"linecolor\":\"white\",\"ticks\":\"\"}},\"ternary\":{\"bgcolor\":\"#E5ECF6\",\"aaxis\":{\"gridcolor\":\"white\",\"linecolor\":\"white\",\"ticks\":\"\"},\"baxis\":{\"gridcolor\":\"white\",\"linecolor\":\"white\",\"ticks\":\"\"},\"caxis\":{\"gridcolor\":\"white\",\"linecolor\":\"white\",\"ticks\":\"\"}},\"coloraxis\":{\"colorbar\":{\"outlinewidth\":0,\"ticks\":\"\"}},\"colorscale\":{\"sequential\":[[0.0,\"#0d0887\"],[0.1111111111111111,\"#46039f\"],[0.2222222222222222,\"#7201a8\"],[0.3333333333333333,\"#9c179e\"],[0.4444444444444444,\"#bd3786\"],[0.5555555555555556,\"#d8576b\"],[0.6666666666666666,\"#ed7953\"],[0.7777777777777778,\"#fb9f3a\"],[0.8888888888888888,\"#fdca26\"],[1.0,\"#f0f921\"]],\"sequentialminus\":[[0.0,\"#0d0887\"],[0.1111111111111111,\"#46039f\"],[0.2222222222222222,\"#7201a8\"],[0.3333333333333333,\"#9c179e\"],[0.4444444444444444,\"#bd3786\"],[0.5555555555555556,\"#d8576b\"],[0.6666666666666666,\"#ed7953\"],[0.7777777777777778,\"#fb9f3a\"],[0.8888888888888888,\"#fdca26\"],[1.0,\"#f0f921\"]],\"diverging\":[[0,\"#8e0152\"],[0.1,\"#c51b7d\"],[0.2,\"#de77ae\"],[0.3,\"#f1b6da\"],[0.4,\"#fde0ef\"],[0.5,\"#f7f7f7\"],[0.6,\"#e6f5d0\"],[0.7,\"#b8e186\"],[0.8,\"#7fbc41\"],[0.9,\"#4d9221\"],[1,\"#276419\"]]},\"xaxis\":{\"gridcolor\":\"white\",\"linecolor\":\"white\",\"ticks\":\"\",\"title\":{\"standoff\":15},\"zerolinecolor\":\"white\",\"automargin\":true,\"zerolinewidth\":2},\"yaxis\":{\"gridcolor\":\"white\",\"linecolor\":\"white\",\"ticks\":\"\",\"title\":{\"standoff\":15},\"zerolinecolor\":\"white\",\"automargin\":true,\"zerolinewidth\":2},\"scene\":{\"xaxis\":{\"backgroundcolor\":\"#E5ECF6\",\"gridcolor\":\"white\",\"linecolor\":\"white\",\"showbackground\":true,\"ticks\":\"\",\"zerolinecolor\":\"white\",\"gridwidth\":2},\"yaxis\":{\"backgroundcolor\":\"#E5ECF6\",\"gridcolor\":\"white\",\"linecolor\":\"white\",\"showbackground\":true,\"ticks\":\"\",\"zerolinecolor\":\"white\",\"gridwidth\":2},\"zaxis\":{\"backgroundcolor\":\"#E5ECF6\",\"gridcolor\":\"white\",\"linecolor\":\"white\",\"showbackground\":true,\"ticks\":\"\",\"zerolinecolor\":\"white\",\"gridwidth\":2}},\"shapedefaults\":{\"line\":{\"color\":\"#2a3f5f\"}},\"annotationdefaults\":{\"arrowcolor\":\"#2a3f5f\",\"arrowhead\":0,\"arrowwidth\":1},\"geo\":{\"bgcolor\":\"white\",\"landcolor\":\"#E5ECF6\",\"subunitcolor\":\"white\",\"showland\":true,\"showlakes\":true,\"lakecolor\":\"white\"},\"title\":{\"x\":0.05},\"mapbox\":{\"style\":\"light\"}}},\"xaxis\":{\"anchor\":\"y\",\"domain\":[0.0,1.0],\"title\":{\"text\":\"publication_year\"}},\"yaxis\":{\"anchor\":\"x\",\"domain\":[0.0,1.0],\"title\":{\"text\":\"count\"}},\"legend\":{\"tracegroupgap\":0},\"margin\":{\"t\":60},\"barmode\":\"relative\"},                        {\"responsive\": true}                    ).then(function(){\n",
       "                            \n",
       "var gd = document.getElementById('ee1babc1-6bf7-4c55-b226-957076e00b6d');\n",
       "var x = new MutationObserver(function (mutations, observer) {{\n",
       "        var display = window.getComputedStyle(gd).display;\n",
       "        if (!display || display === 'none') {{\n",
       "            console.log([gd, 'removed!']);\n",
       "            Plotly.purge(gd);\n",
       "            observer.disconnect();\n",
       "        }}\n",
       "}});\n",
       "\n",
       "// Listen for the removal of the full notebook cells\n",
       "var notebookContainer = gd.closest('#notebook-container');\n",
       "if (notebookContainer) {{\n",
       "    x.observe(notebookContainer, {childList: true});\n",
       "}}\n",
       "\n",
       "// Listen for the clearing of the current output cell\n",
       "var outputEl = gd.closest('.output');\n",
       "if (outputEl) {{\n",
       "    x.observe(outputEl, {childList: true});\n",
       "}}\n",
       "\n",
       "                        })                };                });            </script>        </div>"
      ]
     },
     "metadata": {},
     "output_type": "display_data"
    }
   ],
   "source": [
    "px.histogram(DNF, x = \"publication_year\", nbins=5)"
   ]
  },
  {
   "cell_type": "code",
   "execution_count": 29,
   "id": "2cca9ae1",
   "metadata": {
    "execution": {
     "iopub.execute_input": "2022-06-07T19:01:41.994063Z",
     "iopub.status.busy": "2022-06-07T19:01:41.993072Z",
     "iopub.status.idle": "2022-06-07T19:01:42.061564Z",
     "shell.execute_reply": "2022-06-07T19:01:42.060667Z"
    },
    "papermill": {
     "duration": 0.101811,
     "end_time": "2022-06-07T19:01:42.064092",
     "exception": false,
     "start_time": "2022-06-07T19:01:41.962281",
     "status": "completed"
    },
    "tags": []
   },
   "outputs": [
    {
     "data": {
      "text/html": [
       "<div>                            <div id=\"877277f0-dd01-411f-baf5-b34934a03f75\" class=\"plotly-graph-div\" style=\"height:525px; width:100%;\"></div>            <script type=\"text/javascript\">                require([\"plotly\"], function(Plotly) {                    window.PLOTLYENV=window.PLOTLYENV || {};                                    if (document.getElementById(\"877277f0-dd01-411f-baf5-b34934a03f75\")) {                    Plotly.newPlot(                        \"877277f0-dd01-411f-baf5-b34934a03f75\",                        [{\"alignmentgroup\":\"True\",\"bingroup\":\"x\",\"hovertemplate\":\"publication_month=%{x}<br>count=%{y}<extra></extra>\",\"legendgroup\":\"\",\"marker\":{\"color\":\"#636efa\",\"pattern\":{\"shape\":\"\"}},\"name\":\"\",\"nbinsx\":4,\"offsetgroup\":\"\",\"orientation\":\"v\",\"showlegend\":false,\"x\":[8,5,12,9,10,1,10,5],\"xaxis\":\"x\",\"yaxis\":\"y\",\"type\":\"histogram\"}],                        {\"template\":{\"data\":{\"histogram2dcontour\":[{\"type\":\"histogram2dcontour\",\"colorbar\":{\"outlinewidth\":0,\"ticks\":\"\"},\"colorscale\":[[0.0,\"#0d0887\"],[0.1111111111111111,\"#46039f\"],[0.2222222222222222,\"#7201a8\"],[0.3333333333333333,\"#9c179e\"],[0.4444444444444444,\"#bd3786\"],[0.5555555555555556,\"#d8576b\"],[0.6666666666666666,\"#ed7953\"],[0.7777777777777778,\"#fb9f3a\"],[0.8888888888888888,\"#fdca26\"],[1.0,\"#f0f921\"]]}],\"choropleth\":[{\"type\":\"choropleth\",\"colorbar\":{\"outlinewidth\":0,\"ticks\":\"\"}}],\"histogram2d\":[{\"type\":\"histogram2d\",\"colorbar\":{\"outlinewidth\":0,\"ticks\":\"\"},\"colorscale\":[[0.0,\"#0d0887\"],[0.1111111111111111,\"#46039f\"],[0.2222222222222222,\"#7201a8\"],[0.3333333333333333,\"#9c179e\"],[0.4444444444444444,\"#bd3786\"],[0.5555555555555556,\"#d8576b\"],[0.6666666666666666,\"#ed7953\"],[0.7777777777777778,\"#fb9f3a\"],[0.8888888888888888,\"#fdca26\"],[1.0,\"#f0f921\"]]}],\"heatmap\":[{\"type\":\"heatmap\",\"colorbar\":{\"outlinewidth\":0,\"ticks\":\"\"},\"colorscale\":[[0.0,\"#0d0887\"],[0.1111111111111111,\"#46039f\"],[0.2222222222222222,\"#7201a8\"],[0.3333333333333333,\"#9c179e\"],[0.4444444444444444,\"#bd3786\"],[0.5555555555555556,\"#d8576b\"],[0.6666666666666666,\"#ed7953\"],[0.7777777777777778,\"#fb9f3a\"],[0.8888888888888888,\"#fdca26\"],[1.0,\"#f0f921\"]]}],\"heatmapgl\":[{\"type\":\"heatmapgl\",\"colorbar\":{\"outlinewidth\":0,\"ticks\":\"\"},\"colorscale\":[[0.0,\"#0d0887\"],[0.1111111111111111,\"#46039f\"],[0.2222222222222222,\"#7201a8\"],[0.3333333333333333,\"#9c179e\"],[0.4444444444444444,\"#bd3786\"],[0.5555555555555556,\"#d8576b\"],[0.6666666666666666,\"#ed7953\"],[0.7777777777777778,\"#fb9f3a\"],[0.8888888888888888,\"#fdca26\"],[1.0,\"#f0f921\"]]}],\"contourcarpet\":[{\"type\":\"contourcarpet\",\"colorbar\":{\"outlinewidth\":0,\"ticks\":\"\"}}],\"contour\":[{\"type\":\"contour\",\"colorbar\":{\"outlinewidth\":0,\"ticks\":\"\"},\"colorscale\":[[0.0,\"#0d0887\"],[0.1111111111111111,\"#46039f\"],[0.2222222222222222,\"#7201a8\"],[0.3333333333333333,\"#9c179e\"],[0.4444444444444444,\"#bd3786\"],[0.5555555555555556,\"#d8576b\"],[0.6666666666666666,\"#ed7953\"],[0.7777777777777778,\"#fb9f3a\"],[0.8888888888888888,\"#fdca26\"],[1.0,\"#f0f921\"]]}],\"surface\":[{\"type\":\"surface\",\"colorbar\":{\"outlinewidth\":0,\"ticks\":\"\"},\"colorscale\":[[0.0,\"#0d0887\"],[0.1111111111111111,\"#46039f\"],[0.2222222222222222,\"#7201a8\"],[0.3333333333333333,\"#9c179e\"],[0.4444444444444444,\"#bd3786\"],[0.5555555555555556,\"#d8576b\"],[0.6666666666666666,\"#ed7953\"],[0.7777777777777778,\"#fb9f3a\"],[0.8888888888888888,\"#fdca26\"],[1.0,\"#f0f921\"]]}],\"mesh3d\":[{\"type\":\"mesh3d\",\"colorbar\":{\"outlinewidth\":0,\"ticks\":\"\"}}],\"scatter\":[{\"fillpattern\":{\"fillmode\":\"overlay\",\"size\":10,\"solidity\":0.2},\"type\":\"scatter\"}],\"parcoords\":[{\"type\":\"parcoords\",\"line\":{\"colorbar\":{\"outlinewidth\":0,\"ticks\":\"\"}}}],\"scatterpolargl\":[{\"type\":\"scatterpolargl\",\"marker\":{\"colorbar\":{\"outlinewidth\":0,\"ticks\":\"\"}}}],\"bar\":[{\"error_x\":{\"color\":\"#2a3f5f\"},\"error_y\":{\"color\":\"#2a3f5f\"},\"marker\":{\"line\":{\"color\":\"#E5ECF6\",\"width\":0.5},\"pattern\":{\"fillmode\":\"overlay\",\"size\":10,\"solidity\":0.2}},\"type\":\"bar\"}],\"scattergeo\":[{\"type\":\"scattergeo\",\"marker\":{\"colorbar\":{\"outlinewidth\":0,\"ticks\":\"\"}}}],\"scatterpolar\":[{\"type\":\"scatterpolar\",\"marker\":{\"colorbar\":{\"outlinewidth\":0,\"ticks\":\"\"}}}],\"histogram\":[{\"marker\":{\"pattern\":{\"fillmode\":\"overlay\",\"size\":10,\"solidity\":0.2}},\"type\":\"histogram\"}],\"scattergl\":[{\"type\":\"scattergl\",\"marker\":{\"colorbar\":{\"outlinewidth\":0,\"ticks\":\"\"}}}],\"scatter3d\":[{\"type\":\"scatter3d\",\"line\":{\"colorbar\":{\"outlinewidth\":0,\"ticks\":\"\"}},\"marker\":{\"colorbar\":{\"outlinewidth\":0,\"ticks\":\"\"}}}],\"scattermapbox\":[{\"type\":\"scattermapbox\",\"marker\":{\"colorbar\":{\"outlinewidth\":0,\"ticks\":\"\"}}}],\"scatterternary\":[{\"type\":\"scatterternary\",\"marker\":{\"colorbar\":{\"outlinewidth\":0,\"ticks\":\"\"}}}],\"scattercarpet\":[{\"type\":\"scattercarpet\",\"marker\":{\"colorbar\":{\"outlinewidth\":0,\"ticks\":\"\"}}}],\"carpet\":[{\"aaxis\":{\"endlinecolor\":\"#2a3f5f\",\"gridcolor\":\"white\",\"linecolor\":\"white\",\"minorgridcolor\":\"white\",\"startlinecolor\":\"#2a3f5f\"},\"baxis\":{\"endlinecolor\":\"#2a3f5f\",\"gridcolor\":\"white\",\"linecolor\":\"white\",\"minorgridcolor\":\"white\",\"startlinecolor\":\"#2a3f5f\"},\"type\":\"carpet\"}],\"table\":[{\"cells\":{\"fill\":{\"color\":\"#EBF0F8\"},\"line\":{\"color\":\"white\"}},\"header\":{\"fill\":{\"color\":\"#C8D4E3\"},\"line\":{\"color\":\"white\"}},\"type\":\"table\"}],\"barpolar\":[{\"marker\":{\"line\":{\"color\":\"#E5ECF6\",\"width\":0.5},\"pattern\":{\"fillmode\":\"overlay\",\"size\":10,\"solidity\":0.2}},\"type\":\"barpolar\"}],\"pie\":[{\"automargin\":true,\"type\":\"pie\"}]},\"layout\":{\"autotypenumbers\":\"strict\",\"colorway\":[\"#636efa\",\"#EF553B\",\"#00cc96\",\"#ab63fa\",\"#FFA15A\",\"#19d3f3\",\"#FF6692\",\"#B6E880\",\"#FF97FF\",\"#FECB52\"],\"font\":{\"color\":\"#2a3f5f\"},\"hovermode\":\"closest\",\"hoverlabel\":{\"align\":\"left\"},\"paper_bgcolor\":\"white\",\"plot_bgcolor\":\"#E5ECF6\",\"polar\":{\"bgcolor\":\"#E5ECF6\",\"angularaxis\":{\"gridcolor\":\"white\",\"linecolor\":\"white\",\"ticks\":\"\"},\"radialaxis\":{\"gridcolor\":\"white\",\"linecolor\":\"white\",\"ticks\":\"\"}},\"ternary\":{\"bgcolor\":\"#E5ECF6\",\"aaxis\":{\"gridcolor\":\"white\",\"linecolor\":\"white\",\"ticks\":\"\"},\"baxis\":{\"gridcolor\":\"white\",\"linecolor\":\"white\",\"ticks\":\"\"},\"caxis\":{\"gridcolor\":\"white\",\"linecolor\":\"white\",\"ticks\":\"\"}},\"coloraxis\":{\"colorbar\":{\"outlinewidth\":0,\"ticks\":\"\"}},\"colorscale\":{\"sequential\":[[0.0,\"#0d0887\"],[0.1111111111111111,\"#46039f\"],[0.2222222222222222,\"#7201a8\"],[0.3333333333333333,\"#9c179e\"],[0.4444444444444444,\"#bd3786\"],[0.5555555555555556,\"#d8576b\"],[0.6666666666666666,\"#ed7953\"],[0.7777777777777778,\"#fb9f3a\"],[0.8888888888888888,\"#fdca26\"],[1.0,\"#f0f921\"]],\"sequentialminus\":[[0.0,\"#0d0887\"],[0.1111111111111111,\"#46039f\"],[0.2222222222222222,\"#7201a8\"],[0.3333333333333333,\"#9c179e\"],[0.4444444444444444,\"#bd3786\"],[0.5555555555555556,\"#d8576b\"],[0.6666666666666666,\"#ed7953\"],[0.7777777777777778,\"#fb9f3a\"],[0.8888888888888888,\"#fdca26\"],[1.0,\"#f0f921\"]],\"diverging\":[[0,\"#8e0152\"],[0.1,\"#c51b7d\"],[0.2,\"#de77ae\"],[0.3,\"#f1b6da\"],[0.4,\"#fde0ef\"],[0.5,\"#f7f7f7\"],[0.6,\"#e6f5d0\"],[0.7,\"#b8e186\"],[0.8,\"#7fbc41\"],[0.9,\"#4d9221\"],[1,\"#276419\"]]},\"xaxis\":{\"gridcolor\":\"white\",\"linecolor\":\"white\",\"ticks\":\"\",\"title\":{\"standoff\":15},\"zerolinecolor\":\"white\",\"automargin\":true,\"zerolinewidth\":2},\"yaxis\":{\"gridcolor\":\"white\",\"linecolor\":\"white\",\"ticks\":\"\",\"title\":{\"standoff\":15},\"zerolinecolor\":\"white\",\"automargin\":true,\"zerolinewidth\":2},\"scene\":{\"xaxis\":{\"backgroundcolor\":\"#E5ECF6\",\"gridcolor\":\"white\",\"linecolor\":\"white\",\"showbackground\":true,\"ticks\":\"\",\"zerolinecolor\":\"white\",\"gridwidth\":2},\"yaxis\":{\"backgroundcolor\":\"#E5ECF6\",\"gridcolor\":\"white\",\"linecolor\":\"white\",\"showbackground\":true,\"ticks\":\"\",\"zerolinecolor\":\"white\",\"gridwidth\":2},\"zaxis\":{\"backgroundcolor\":\"#E5ECF6\",\"gridcolor\":\"white\",\"linecolor\":\"white\",\"showbackground\":true,\"ticks\":\"\",\"zerolinecolor\":\"white\",\"gridwidth\":2}},\"shapedefaults\":{\"line\":{\"color\":\"#2a3f5f\"}},\"annotationdefaults\":{\"arrowcolor\":\"#2a3f5f\",\"arrowhead\":0,\"arrowwidth\":1},\"geo\":{\"bgcolor\":\"white\",\"landcolor\":\"#E5ECF6\",\"subunitcolor\":\"white\",\"showland\":true,\"showlakes\":true,\"lakecolor\":\"white\"},\"title\":{\"x\":0.05},\"mapbox\":{\"style\":\"light\"}}},\"xaxis\":{\"anchor\":\"y\",\"domain\":[0.0,1.0],\"title\":{\"text\":\"publication_month\"},\"range\":[1,12]},\"yaxis\":{\"anchor\":\"x\",\"domain\":[0.0,1.0],\"title\":{\"text\":\"count\"}},\"legend\":{\"tracegroupgap\":0},\"margin\":{\"t\":60},\"barmode\":\"relative\"},                        {\"responsive\": true}                    ).then(function(){\n",
       "                            \n",
       "var gd = document.getElementById('877277f0-dd01-411f-baf5-b34934a03f75');\n",
       "var x = new MutationObserver(function (mutations, observer) {{\n",
       "        var display = window.getComputedStyle(gd).display;\n",
       "        if (!display || display === 'none') {{\n",
       "            console.log([gd, 'removed!']);\n",
       "            Plotly.purge(gd);\n",
       "            observer.disconnect();\n",
       "        }}\n",
       "}});\n",
       "\n",
       "// Listen for the removal of the full notebook cells\n",
       "var notebookContainer = gd.closest('#notebook-container');\n",
       "if (notebookContainer) {{\n",
       "    x.observe(notebookContainer, {childList: true});\n",
       "}}\n",
       "\n",
       "// Listen for the clearing of the current output cell\n",
       "var outputEl = gd.closest('.output');\n",
       "if (outputEl) {{\n",
       "    x.observe(outputEl, {childList: true});\n",
       "}}\n",
       "\n",
       "                        })                };                });            </script>        </div>"
      ]
     },
     "metadata": {},
     "output_type": "display_data"
    }
   ],
   "source": [
    "fig = px.histogram(DNF, x = \"publication_month\", nbins=4)\n",
    "fig.update_layout(xaxis_range = [1,12])"
   ]
  },
  {
   "cell_type": "code",
   "execution_count": 30,
   "id": "73445162",
   "metadata": {
    "execution": {
     "iopub.execute_input": "2022-06-07T19:01:42.121606Z",
     "iopub.status.busy": "2022-06-07T19:01:42.120872Z",
     "iopub.status.idle": "2022-06-07T19:01:42.128528Z",
     "shell.execute_reply": "2022-06-07T19:01:42.127729Z"
    },
    "papermill": {
     "duration": 0.038233,
     "end_time": "2022-06-07T19:01:42.130393",
     "exception": false,
     "start_time": "2022-06-07T19:01:42.092160",
     "status": "completed"
    },
    "tags": []
   },
   "outputs": [
    {
     "data": {
      "text/plain": [
       "5     2\n",
       "10    2\n",
       "8     1\n",
       "12    1\n",
       "9     1\n",
       "1     1\n",
       "Name: publication_month, dtype: int64"
      ]
     },
     "execution_count": 30,
     "metadata": {},
     "output_type": "execute_result"
    }
   ],
   "source": [
    "DNF[\"publication_month\"].value_counts()"
   ]
  },
  {
   "cell_type": "code",
   "execution_count": 31,
   "id": "5338bbef",
   "metadata": {
    "execution": {
     "iopub.execute_input": "2022-06-07T19:01:42.188907Z",
     "iopub.status.busy": "2022-06-07T19:01:42.188177Z",
     "iopub.status.idle": "2022-06-07T19:01:42.247713Z",
     "shell.execute_reply": "2022-06-07T19:01:42.246714Z"
    },
    "papermill": {
     "duration": 0.090917,
     "end_time": "2022-06-07T19:01:42.249797",
     "exception": false,
     "start_time": "2022-06-07T19:01:42.158880",
     "status": "completed"
    },
    "tags": []
   },
   "outputs": [
    {
     "data": {
      "text/html": [
       "<div>                            <div id=\"36e67e93-9231-4a45-9059-1d3aec190441\" class=\"plotly-graph-div\" style=\"height:525px; width:100%;\"></div>            <script type=\"text/javascript\">                require([\"plotly\"], function(Plotly) {                    window.PLOTLYENV=window.PLOTLYENV || {};                                    if (document.getElementById(\"36e67e93-9231-4a45-9059-1d3aec190441\")) {                    Plotly.newPlot(                        \"36e67e93-9231-4a45-9059-1d3aec190441\",                        [{\"alignmentgroup\":\"True\",\"bingroup\":\"x\",\"hovertemplate\":\"genre=%{x}<br>count=%{y}<extra></extra>\",\"legendgroup\":\"\",\"marker\":{\"color\":\"#636efa\",\"pattern\":{\"shape\":\"\"}},\"name\":\"\",\"offsetgroup\":\"\",\"orientation\":\"v\",\"showlegend\":false,\"x\":[\"Self-Esteem\",\"Literary Fiction\",\"Self Help\",\"Mystery\",\"Literary Fiction\",\"Self Help\",\"Self Help\",\"Data\"],\"xaxis\":\"x\",\"yaxis\":\"y\",\"type\":\"histogram\"}],                        {\"template\":{\"data\":{\"histogram2dcontour\":[{\"type\":\"histogram2dcontour\",\"colorbar\":{\"outlinewidth\":0,\"ticks\":\"\"},\"colorscale\":[[0.0,\"#0d0887\"],[0.1111111111111111,\"#46039f\"],[0.2222222222222222,\"#7201a8\"],[0.3333333333333333,\"#9c179e\"],[0.4444444444444444,\"#bd3786\"],[0.5555555555555556,\"#d8576b\"],[0.6666666666666666,\"#ed7953\"],[0.7777777777777778,\"#fb9f3a\"],[0.8888888888888888,\"#fdca26\"],[1.0,\"#f0f921\"]]}],\"choropleth\":[{\"type\":\"choropleth\",\"colorbar\":{\"outlinewidth\":0,\"ticks\":\"\"}}],\"histogram2d\":[{\"type\":\"histogram2d\",\"colorbar\":{\"outlinewidth\":0,\"ticks\":\"\"},\"colorscale\":[[0.0,\"#0d0887\"],[0.1111111111111111,\"#46039f\"],[0.2222222222222222,\"#7201a8\"],[0.3333333333333333,\"#9c179e\"],[0.4444444444444444,\"#bd3786\"],[0.5555555555555556,\"#d8576b\"],[0.6666666666666666,\"#ed7953\"],[0.7777777777777778,\"#fb9f3a\"],[0.8888888888888888,\"#fdca26\"],[1.0,\"#f0f921\"]]}],\"heatmap\":[{\"type\":\"heatmap\",\"colorbar\":{\"outlinewidth\":0,\"ticks\":\"\"},\"colorscale\":[[0.0,\"#0d0887\"],[0.1111111111111111,\"#46039f\"],[0.2222222222222222,\"#7201a8\"],[0.3333333333333333,\"#9c179e\"],[0.4444444444444444,\"#bd3786\"],[0.5555555555555556,\"#d8576b\"],[0.6666666666666666,\"#ed7953\"],[0.7777777777777778,\"#fb9f3a\"],[0.8888888888888888,\"#fdca26\"],[1.0,\"#f0f921\"]]}],\"heatmapgl\":[{\"type\":\"heatmapgl\",\"colorbar\":{\"outlinewidth\":0,\"ticks\":\"\"},\"colorscale\":[[0.0,\"#0d0887\"],[0.1111111111111111,\"#46039f\"],[0.2222222222222222,\"#7201a8\"],[0.3333333333333333,\"#9c179e\"],[0.4444444444444444,\"#bd3786\"],[0.5555555555555556,\"#d8576b\"],[0.6666666666666666,\"#ed7953\"],[0.7777777777777778,\"#fb9f3a\"],[0.8888888888888888,\"#fdca26\"],[1.0,\"#f0f921\"]]}],\"contourcarpet\":[{\"type\":\"contourcarpet\",\"colorbar\":{\"outlinewidth\":0,\"ticks\":\"\"}}],\"contour\":[{\"type\":\"contour\",\"colorbar\":{\"outlinewidth\":0,\"ticks\":\"\"},\"colorscale\":[[0.0,\"#0d0887\"],[0.1111111111111111,\"#46039f\"],[0.2222222222222222,\"#7201a8\"],[0.3333333333333333,\"#9c179e\"],[0.4444444444444444,\"#bd3786\"],[0.5555555555555556,\"#d8576b\"],[0.6666666666666666,\"#ed7953\"],[0.7777777777777778,\"#fb9f3a\"],[0.8888888888888888,\"#fdca26\"],[1.0,\"#f0f921\"]]}],\"surface\":[{\"type\":\"surface\",\"colorbar\":{\"outlinewidth\":0,\"ticks\":\"\"},\"colorscale\":[[0.0,\"#0d0887\"],[0.1111111111111111,\"#46039f\"],[0.2222222222222222,\"#7201a8\"],[0.3333333333333333,\"#9c179e\"],[0.4444444444444444,\"#bd3786\"],[0.5555555555555556,\"#d8576b\"],[0.6666666666666666,\"#ed7953\"],[0.7777777777777778,\"#fb9f3a\"],[0.8888888888888888,\"#fdca26\"],[1.0,\"#f0f921\"]]}],\"mesh3d\":[{\"type\":\"mesh3d\",\"colorbar\":{\"outlinewidth\":0,\"ticks\":\"\"}}],\"scatter\":[{\"fillpattern\":{\"fillmode\":\"overlay\",\"size\":10,\"solidity\":0.2},\"type\":\"scatter\"}],\"parcoords\":[{\"type\":\"parcoords\",\"line\":{\"colorbar\":{\"outlinewidth\":0,\"ticks\":\"\"}}}],\"scatterpolargl\":[{\"type\":\"scatterpolargl\",\"marker\":{\"colorbar\":{\"outlinewidth\":0,\"ticks\":\"\"}}}],\"bar\":[{\"error_x\":{\"color\":\"#2a3f5f\"},\"error_y\":{\"color\":\"#2a3f5f\"},\"marker\":{\"line\":{\"color\":\"#E5ECF6\",\"width\":0.5},\"pattern\":{\"fillmode\":\"overlay\",\"size\":10,\"solidity\":0.2}},\"type\":\"bar\"}],\"scattergeo\":[{\"type\":\"scattergeo\",\"marker\":{\"colorbar\":{\"outlinewidth\":0,\"ticks\":\"\"}}}],\"scatterpolar\":[{\"type\":\"scatterpolar\",\"marker\":{\"colorbar\":{\"outlinewidth\":0,\"ticks\":\"\"}}}],\"histogram\":[{\"marker\":{\"pattern\":{\"fillmode\":\"overlay\",\"size\":10,\"solidity\":0.2}},\"type\":\"histogram\"}],\"scattergl\":[{\"type\":\"scattergl\",\"marker\":{\"colorbar\":{\"outlinewidth\":0,\"ticks\":\"\"}}}],\"scatter3d\":[{\"type\":\"scatter3d\",\"line\":{\"colorbar\":{\"outlinewidth\":0,\"ticks\":\"\"}},\"marker\":{\"colorbar\":{\"outlinewidth\":0,\"ticks\":\"\"}}}],\"scattermapbox\":[{\"type\":\"scattermapbox\",\"marker\":{\"colorbar\":{\"outlinewidth\":0,\"ticks\":\"\"}}}],\"scatterternary\":[{\"type\":\"scatterternary\",\"marker\":{\"colorbar\":{\"outlinewidth\":0,\"ticks\":\"\"}}}],\"scattercarpet\":[{\"type\":\"scattercarpet\",\"marker\":{\"colorbar\":{\"outlinewidth\":0,\"ticks\":\"\"}}}],\"carpet\":[{\"aaxis\":{\"endlinecolor\":\"#2a3f5f\",\"gridcolor\":\"white\",\"linecolor\":\"white\",\"minorgridcolor\":\"white\",\"startlinecolor\":\"#2a3f5f\"},\"baxis\":{\"endlinecolor\":\"#2a3f5f\",\"gridcolor\":\"white\",\"linecolor\":\"white\",\"minorgridcolor\":\"white\",\"startlinecolor\":\"#2a3f5f\"},\"type\":\"carpet\"}],\"table\":[{\"cells\":{\"fill\":{\"color\":\"#EBF0F8\"},\"line\":{\"color\":\"white\"}},\"header\":{\"fill\":{\"color\":\"#C8D4E3\"},\"line\":{\"color\":\"white\"}},\"type\":\"table\"}],\"barpolar\":[{\"marker\":{\"line\":{\"color\":\"#E5ECF6\",\"width\":0.5},\"pattern\":{\"fillmode\":\"overlay\",\"size\":10,\"solidity\":0.2}},\"type\":\"barpolar\"}],\"pie\":[{\"automargin\":true,\"type\":\"pie\"}]},\"layout\":{\"autotypenumbers\":\"strict\",\"colorway\":[\"#636efa\",\"#EF553B\",\"#00cc96\",\"#ab63fa\",\"#FFA15A\",\"#19d3f3\",\"#FF6692\",\"#B6E880\",\"#FF97FF\",\"#FECB52\"],\"font\":{\"color\":\"#2a3f5f\"},\"hovermode\":\"closest\",\"hoverlabel\":{\"align\":\"left\"},\"paper_bgcolor\":\"white\",\"plot_bgcolor\":\"#E5ECF6\",\"polar\":{\"bgcolor\":\"#E5ECF6\",\"angularaxis\":{\"gridcolor\":\"white\",\"linecolor\":\"white\",\"ticks\":\"\"},\"radialaxis\":{\"gridcolor\":\"white\",\"linecolor\":\"white\",\"ticks\":\"\"}},\"ternary\":{\"bgcolor\":\"#E5ECF6\",\"aaxis\":{\"gridcolor\":\"white\",\"linecolor\":\"white\",\"ticks\":\"\"},\"baxis\":{\"gridcolor\":\"white\",\"linecolor\":\"white\",\"ticks\":\"\"},\"caxis\":{\"gridcolor\":\"white\",\"linecolor\":\"white\",\"ticks\":\"\"}},\"coloraxis\":{\"colorbar\":{\"outlinewidth\":0,\"ticks\":\"\"}},\"colorscale\":{\"sequential\":[[0.0,\"#0d0887\"],[0.1111111111111111,\"#46039f\"],[0.2222222222222222,\"#7201a8\"],[0.3333333333333333,\"#9c179e\"],[0.4444444444444444,\"#bd3786\"],[0.5555555555555556,\"#d8576b\"],[0.6666666666666666,\"#ed7953\"],[0.7777777777777778,\"#fb9f3a\"],[0.8888888888888888,\"#fdca26\"],[1.0,\"#f0f921\"]],\"sequentialminus\":[[0.0,\"#0d0887\"],[0.1111111111111111,\"#46039f\"],[0.2222222222222222,\"#7201a8\"],[0.3333333333333333,\"#9c179e\"],[0.4444444444444444,\"#bd3786\"],[0.5555555555555556,\"#d8576b\"],[0.6666666666666666,\"#ed7953\"],[0.7777777777777778,\"#fb9f3a\"],[0.8888888888888888,\"#fdca26\"],[1.0,\"#f0f921\"]],\"diverging\":[[0,\"#8e0152\"],[0.1,\"#c51b7d\"],[0.2,\"#de77ae\"],[0.3,\"#f1b6da\"],[0.4,\"#fde0ef\"],[0.5,\"#f7f7f7\"],[0.6,\"#e6f5d0\"],[0.7,\"#b8e186\"],[0.8,\"#7fbc41\"],[0.9,\"#4d9221\"],[1,\"#276419\"]]},\"xaxis\":{\"gridcolor\":\"white\",\"linecolor\":\"white\",\"ticks\":\"\",\"title\":{\"standoff\":15},\"zerolinecolor\":\"white\",\"automargin\":true,\"zerolinewidth\":2},\"yaxis\":{\"gridcolor\":\"white\",\"linecolor\":\"white\",\"ticks\":\"\",\"title\":{\"standoff\":15},\"zerolinecolor\":\"white\",\"automargin\":true,\"zerolinewidth\":2},\"scene\":{\"xaxis\":{\"backgroundcolor\":\"#E5ECF6\",\"gridcolor\":\"white\",\"linecolor\":\"white\",\"showbackground\":true,\"ticks\":\"\",\"zerolinecolor\":\"white\",\"gridwidth\":2},\"yaxis\":{\"backgroundcolor\":\"#E5ECF6\",\"gridcolor\":\"white\",\"linecolor\":\"white\",\"showbackground\":true,\"ticks\":\"\",\"zerolinecolor\":\"white\",\"gridwidth\":2},\"zaxis\":{\"backgroundcolor\":\"#E5ECF6\",\"gridcolor\":\"white\",\"linecolor\":\"white\",\"showbackground\":true,\"ticks\":\"\",\"zerolinecolor\":\"white\",\"gridwidth\":2}},\"shapedefaults\":{\"line\":{\"color\":\"#2a3f5f\"}},\"annotationdefaults\":{\"arrowcolor\":\"#2a3f5f\",\"arrowhead\":0,\"arrowwidth\":1},\"geo\":{\"bgcolor\":\"white\",\"landcolor\":\"#E5ECF6\",\"subunitcolor\":\"white\",\"showland\":true,\"showlakes\":true,\"lakecolor\":\"white\"},\"title\":{\"x\":0.05},\"mapbox\":{\"style\":\"light\"}}},\"xaxis\":{\"anchor\":\"y\",\"domain\":[0.0,1.0],\"title\":{\"text\":\"genre\"}},\"yaxis\":{\"anchor\":\"x\",\"domain\":[0.0,1.0],\"title\":{\"text\":\"count\"}},\"legend\":{\"tracegroupgap\":0},\"margin\":{\"t\":60},\"barmode\":\"relative\"},                        {\"responsive\": true}                    ).then(function(){\n",
       "                            \n",
       "var gd = document.getElementById('36e67e93-9231-4a45-9059-1d3aec190441');\n",
       "var x = new MutationObserver(function (mutations, observer) {{\n",
       "        var display = window.getComputedStyle(gd).display;\n",
       "        if (!display || display === 'none') {{\n",
       "            console.log([gd, 'removed!']);\n",
       "            Plotly.purge(gd);\n",
       "            observer.disconnect();\n",
       "        }}\n",
       "}});\n",
       "\n",
       "// Listen for the removal of the full notebook cells\n",
       "var notebookContainer = gd.closest('#notebook-container');\n",
       "if (notebookContainer) {{\n",
       "    x.observe(notebookContainer, {childList: true});\n",
       "}}\n",
       "\n",
       "// Listen for the clearing of the current output cell\n",
       "var outputEl = gd.closest('.output');\n",
       "if (outputEl) {{\n",
       "    x.observe(outputEl, {childList: true});\n",
       "}}\n",
       "\n",
       "                        })                };                });            </script>        </div>"
      ]
     },
     "metadata": {},
     "output_type": "display_data"
    }
   ],
   "source": [
    "px.histogram(DNF, x = \"genre\",)"
   ]
  },
  {
   "cell_type": "markdown",
   "id": "76c9822f",
   "metadata": {
    "papermill": {
     "duration": 0.027835,
     "end_time": "2022-06-07T19:01:42.305678",
     "exception": false,
     "start_time": "2022-06-07T19:01:42.277843",
     "status": "completed"
    },
    "tags": []
   },
   "source": [
    "# completion date unknown"
   ]
  },
  {
   "cell_type": "code",
   "execution_count": 32,
   "id": "a19a23b6",
   "metadata": {
    "execution": {
     "iopub.execute_input": "2022-06-07T19:01:42.364877Z",
     "iopub.status.busy": "2022-06-07T19:01:42.364327Z",
     "iopub.status.idle": "2022-06-07T19:01:42.369804Z",
     "shell.execute_reply": "2022-06-07T19:01:42.368992Z"
    },
    "papermill": {
     "duration": 0.037196,
     "end_time": "2022-06-07T19:01:42.371731",
     "exception": false,
     "start_time": "2022-06-07T19:01:42.334535",
     "status": "completed"
    },
    "tags": []
   },
   "outputs": [],
   "source": [
    "completion_date_unknown = Completed[Completed[\"completion date\"].isnull()]"
   ]
  },
  {
   "cell_type": "code",
   "execution_count": 33,
   "id": "36750cee",
   "metadata": {
    "execution": {
     "iopub.execute_input": "2022-06-07T19:01:42.430338Z",
     "iopub.status.busy": "2022-06-07T19:01:42.429715Z",
     "iopub.status.idle": "2022-06-07T19:01:42.591842Z",
     "shell.execute_reply": "2022-06-07T19:01:42.590875Z"
    },
    "papermill": {
     "duration": 0.194008,
     "end_time": "2022-06-07T19:01:42.594085",
     "exception": false,
     "start_time": "2022-06-07T19:01:42.400077",
     "status": "completed"
    },
    "tags": []
   },
   "outputs": [
    {
     "data": {
      "text/plain": [
       "<AxesSubplot:xlabel='language', ylabel='count'>"
      ]
     },
     "execution_count": 33,
     "metadata": {},
     "output_type": "execute_result"
    },
    {
     "data": {
      "image/png": "[encoded data removed]",
      "text/plain": [
       "<Figure size 432x288 with 1 Axes>"
      ]
     },
     "metadata": {},
     "output_type": "display_data"
    }
   ],
   "source": [
    "sns.countplot(x = \"language\", data = completion_date_unknown)"
   ]
  },
  {
   "cell_type": "code",
   "execution_count": 34,
   "id": "8d4d8cc0",
   "metadata": {
    "execution": {
     "iopub.execute_input": "2022-06-07T19:01:42.654375Z",
     "iopub.status.busy": "2022-06-07T19:01:42.653799Z",
     "iopub.status.idle": "2022-06-07T19:01:42.660961Z",
     "shell.execute_reply": "2022-06-07T19:01:42.660192Z"
    },
    "papermill": {
     "duration": 0.039193,
     "end_time": "2022-06-07T19:01:42.662763",
     "exception": false,
     "start_time": "2022-06-07T19:01:42.623570",
     "status": "completed"
    },
    "tags": []
   },
   "outputs": [
    {
     "data": {
      "text/plain": [
       "藤崎 都                       6\n",
       "東野 圭吾                      6\n",
       "日丸屋 秀和                     6\n",
       "三上 延                       4\n",
       "谷 瑞恵                       3\n",
       "伊坂 幸太郎                     3\n",
       "葉山 透                       2\n",
       "Sir Arthur Conan Doyle     2\n",
       "朝霧 カフカ                     2\n",
       "川村 元気                      1\n",
       "北川 恵海                      1\n",
       "福嶋ユッカ                      1\n",
       "Louis Sachar               1\n",
       "辻村 七子                      1\n",
       "秋川 滝美                      1\n",
       "Frances Hodgson Burnett    1\n",
       "藤咲あゆな                      1\n",
       "星 新一                       1\n",
       "春河35                       1\n",
       "村上 桃子                      1\n",
       "若宮 シノブ, 望月 淳               1\n",
       "宮沢 賢治                      1\n",
       "江口 夏実                      1\n",
       "水城 せとな                     1\n",
       "George Orwell              1\n",
       "樋野 まつり, 藤咲 あゆな             1\n",
       "E.M. Forster               1\n",
       "朝井 リョウ                     1\n",
       "Name: author(s), dtype: int64"
      ]
     },
     "execution_count": 34,
     "metadata": {},
     "output_type": "execute_result"
    }
   ],
   "source": [
    "completion_date_unknown[\"author(s)\"].value_counts()"
   ]
  },
  {
   "cell_type": "code",
   "execution_count": 35,
   "id": "f7b604d6",
   "metadata": {
    "execution": {
     "iopub.execute_input": "2022-06-07T19:01:42.722196Z",
     "iopub.status.busy": "2022-06-07T19:01:42.721481Z",
     "iopub.status.idle": "2022-06-07T19:01:42.782301Z",
     "shell.execute_reply": "2022-06-07T19:01:42.781322Z"
    },
    "papermill": {
     "duration": 0.093057,
     "end_time": "2022-06-07T19:01:42.784523",
     "exception": false,
     "start_time": "2022-06-07T19:01:42.691466",
     "status": "completed"
    },
    "tags": []
   },
   "outputs": [
    {
     "data": {
      "text/html": [
       "<div>                            <div id=\"9621e389-69ad-4056-b067-411e7618e666\" class=\"plotly-graph-div\" style=\"height:525px; width:100%;\"></div>            <script type=\"text/javascript\">                require([\"plotly\"], function(Plotly) {                    window.PLOTLYENV=window.PLOTLYENV || {};                                    if (document.getElementById(\"9621e389-69ad-4056-b067-411e7618e666\")) {                    Plotly.newPlot(                        \"9621e389-69ad-4056-b067-411e7618e666\",                        [{\"alignmentgroup\":\"True\",\"bingroup\":\"x\",\"hovertemplate\":\"author(s)=%{x}<br>count=%{y}<extra></extra>\",\"legendgroup\":\"\",\"marker\":{\"color\":\"#636efa\",\"pattern\":{\"shape\":\"\"}},\"name\":\"\",\"offsetgroup\":\"\",\"orientation\":\"v\",\"showlegend\":false,\"x\":[\"星 新一\",\"宮沢 賢治\",\"東野 圭吾\",\"東野 圭吾\",\"Sir Arthur Conan Doyle\",\"東野 圭吾\",\"谷 瑞恵\",\"谷 瑞恵\",\"谷 瑞恵\",\"E.M. Forster\",\"伊坂 幸太郎\",\"日丸屋 秀和\",\"樋野 まつり, 藤咲 あゆな\",\"George Orwell\",\"日丸屋 秀和\",\"水城 せとな\",\"伊坂 幸太郎\",\"日丸屋 秀和\",\"葉山 透\",\"三上 延\",\"江口 夏実\",\"葉山 透\",\"日丸屋 秀和\",\"Sir Arthur Conan Doyle\",\"藤崎 都\",\"若宮 シノブ, 望月 淳\",\"村上 桃子\",\"三上 延\",\"日丸屋 秀和\",\"藤崎 都\",\"藤崎 都\",\"三上 延\",\"春河35\",\"東野 圭吾\",\"藤崎 都\",\"秋川 滝美\",\"日丸屋 秀和\",\"藤咲あゆな\",\"藤崎 都\",\"朝霧 カフカ\",\"東野 圭吾\",\"朝霧 カフカ\",\"東野 圭吾\",\"川村 元気\",\"藤崎 都\",\"三上 延\",\"北川 恵海\",\"Louis Sachar\",\"伊坂 幸太郎\",\"辻村 七子\",\"福嶋ユッカ\",\"Frances Hodgson Burnett\",\"朝井 リョウ\"],\"xaxis\":\"x\",\"yaxis\":\"y\",\"type\":\"histogram\"}],                        {\"template\":{\"data\":{\"histogram2dcontour\":[{\"type\":\"histogram2dcontour\",\"colorbar\":{\"outlinewidth\":0,\"ticks\":\"\"},\"colorscale\":[[0.0,\"#0d0887\"],[0.1111111111111111,\"#46039f\"],[0.2222222222222222,\"#7201a8\"],[0.3333333333333333,\"#9c179e\"],[0.4444444444444444,\"#bd3786\"],[0.5555555555555556,\"#d8576b\"],[0.6666666666666666,\"#ed7953\"],[0.7777777777777778,\"#fb9f3a\"],[0.8888888888888888,\"#fdca26\"],[1.0,\"#f0f921\"]]}],\"choropleth\":[{\"type\":\"choropleth\",\"colorbar\":{\"outlinewidth\":0,\"ticks\":\"\"}}],\"histogram2d\":[{\"type\":\"histogram2d\",\"colorbar\":{\"outlinewidth\":0,\"ticks\":\"\"},\"colorscale\":[[0.0,\"#0d0887\"],[0.1111111111111111,\"#46039f\"],[0.2222222222222222,\"#7201a8\"],[0.3333333333333333,\"#9c179e\"],[0.4444444444444444,\"#bd3786\"],[0.5555555555555556,\"#d8576b\"],[0.6666666666666666,\"#ed7953\"],[0.7777777777777778,\"#fb9f3a\"],[0.8888888888888888,\"#fdca26\"],[1.0,\"#f0f921\"]]}],\"heatmap\":[{\"type\":\"heatmap\",\"colorbar\":{\"outlinewidth\":0,\"ticks\":\"\"},\"colorscale\":[[0.0,\"#0d0887\"],[0.1111111111111111,\"#46039f\"],[0.2222222222222222,\"#7201a8\"],[0.3333333333333333,\"#9c179e\"],[0.4444444444444444,\"#bd3786\"],[0.5555555555555556,\"#d8576b\"],[0.6666666666666666,\"#ed7953\"],[0.7777777777777778,\"#fb9f3a\"],[0.8888888888888888,\"#fdca26\"],[1.0,\"#f0f921\"]]}],\"heatmapgl\":[{\"type\":\"heatmapgl\",\"colorbar\":{\"outlinewidth\":0,\"ticks\":\"\"},\"colorscale\":[[0.0,\"#0d0887\"],[0.1111111111111111,\"#46039f\"],[0.2222222222222222,\"#7201a8\"],[0.3333333333333333,\"#9c179e\"],[0.4444444444444444,\"#bd3786\"],[0.5555555555555556,\"#d8576b\"],[0.6666666666666666,\"#ed7953\"],[0.7777777777777778,\"#fb9f3a\"],[0.8888888888888888,\"#fdca26\"],[1.0,\"#f0f921\"]]}],\"contourcarpet\":[{\"type\":\"contourcarpet\",\"colorbar\":{\"outlinewidth\":0,\"ticks\":\"\"}}],\"contour\":[{\"type\":\"contour\",\"colorbar\":{\"outlinewidth\":0,\"ticks\":\"\"},\"colorscale\":[[0.0,\"#0d0887\"],[0.1111111111111111,\"#46039f\"],[0.2222222222222222,\"#7201a8\"],[0.3333333333333333,\"#9c179e\"],[0.4444444444444444,\"#bd3786\"],[0.5555555555555556,\"#d8576b\"],[0.6666666666666666,\"#ed7953\"],[0.7777777777777778,\"#fb9f3a\"],[0.8888888888888888,\"#fdca26\"],[1.0,\"#f0f921\"]]}],\"surface\":[{\"type\":\"surface\",\"colorbar\":{\"outlinewidth\":0,\"ticks\":\"\"},\"colorscale\":[[0.0,\"#0d0887\"],[0.1111111111111111,\"#46039f\"],[0.2222222222222222,\"#7201a8\"],[0.3333333333333333,\"#9c179e\"],[0.4444444444444444,\"#bd3786\"],[0.5555555555555556,\"#d8576b\"],[0.6666666666666666,\"#ed7953\"],[0.7777777777777778,\"#fb9f3a\"],[0.8888888888888888,\"#fdca26\"],[1.0,\"#f0f921\"]]}],\"mesh3d\":[{\"type\":\"mesh3d\",\"colorbar\":{\"outlinewidth\":0,\"ticks\":\"\"}}],\"scatter\":[{\"fillpattern\":{\"fillmode\":\"overlay\",\"size\":10,\"solidity\":0.2},\"type\":\"scatter\"}],\"parcoords\":[{\"type\":\"parcoords\",\"line\":{\"colorbar\":{\"outlinewidth\":0,\"ticks\":\"\"}}}],\"scatterpolargl\":[{\"type\":\"scatterpolargl\",\"marker\":{\"colorbar\":{\"outlinewidth\":0,\"ticks\":\"\"}}}],\"bar\":[{\"error_x\":{\"color\":\"#2a3f5f\"},\"error_y\":{\"color\":\"#2a3f5f\"},\"marker\":{\"line\":{\"color\":\"#E5ECF6\",\"width\":0.5},\"pattern\":{\"fillmode\":\"overlay\",\"size\":10,\"solidity\":0.2}},\"type\":\"bar\"}],\"scattergeo\":[{\"type\":\"scattergeo\",\"marker\":{\"colorbar\":{\"outlinewidth\":0,\"ticks\":\"\"}}}],\"scatterpolar\":[{\"type\":\"scatterpolar\",\"marker\":{\"colorbar\":{\"outlinewidth\":0,\"ticks\":\"\"}}}],\"histogram\":[{\"marker\":{\"pattern\":{\"fillmode\":\"overlay\",\"size\":10,\"solidity\":0.2}},\"type\":\"histogram\"}],\"scattergl\":[{\"type\":\"scattergl\",\"marker\":{\"colorbar\":{\"outlinewidth\":0,\"ticks\":\"\"}}}],\"scatter3d\":[{\"type\":\"scatter3d\",\"line\":{\"colorbar\":{\"outlinewidth\":0,\"ticks\":\"\"}},\"marker\":{\"colorbar\":{\"outlinewidth\":0,\"ticks\":\"\"}}}],\"scattermapbox\":[{\"type\":\"scattermapbox\",\"marker\":{\"colorbar\":{\"outlinewidth\":0,\"ticks\":\"\"}}}],\"scatterternary\":[{\"type\":\"scatterternary\",\"marker\":{\"colorbar\":{\"outlinewidth\":0,\"ticks\":\"\"}}}],\"scattercarpet\":[{\"type\":\"scattercarpet\",\"marker\":{\"colorbar\":{\"outlinewidth\":0,\"ticks\":\"\"}}}],\"carpet\":[{\"aaxis\":{\"endlinecolor\":\"#2a3f5f\",\"gridcolor\":\"white\",\"linecolor\":\"white\",\"minorgridcolor\":\"white\",\"startlinecolor\":\"#2a3f5f\"},\"baxis\":{\"endlinecolor\":\"#2a3f5f\",\"gridcolor\":\"white\",\"linecolor\":\"white\",\"minorgridcolor\":\"white\",\"startlinecolor\":\"#2a3f5f\"},\"type\":\"carpet\"}],\"table\":[{\"cells\":{\"fill\":{\"color\":\"#EBF0F8\"},\"line\":{\"color\":\"white\"}},\"header\":{\"fill\":{\"color\":\"#C8D4E3\"},\"line\":{\"color\":\"white\"}},\"type\":\"table\"}],\"barpolar\":[{\"marker\":{\"line\":{\"color\":\"#E5ECF6\",\"width\":0.5},\"pattern\":{\"fillmode\":\"overlay\",\"size\":10,\"solidity\":0.2}},\"type\":\"barpolar\"}],\"pie\":[{\"automargin\":true,\"type\":\"pie\"}]},\"layout\":{\"autotypenumbers\":\"strict\",\"colorway\":[\"#636efa\",\"#EF553B\",\"#00cc96\",\"#ab63fa\",\"#FFA15A\",\"#19d3f3\",\"#FF6692\",\"#B6E880\",\"#FF97FF\",\"#FECB52\"],\"font\":{\"color\":\"#2a3f5f\"},\"hovermode\":\"closest\",\"hoverlabel\":{\"align\":\"left\"},\"paper_bgcolor\":\"white\",\"plot_bgcolor\":\"#E5ECF6\",\"polar\":{\"bgcolor\":\"#E5ECF6\",\"angularaxis\":{\"gridcolor\":\"white\",\"linecolor\":\"white\",\"ticks\":\"\"},\"radialaxis\":{\"gridcolor\":\"white\",\"linecolor\":\"white\",\"ticks\":\"\"}},\"ternary\":{\"bgcolor\":\"#E5ECF6\",\"aaxis\":{\"gridcolor\":\"white\",\"linecolor\":\"white\",\"ticks\":\"\"},\"baxis\":{\"gridcolor\":\"white\",\"linecolor\":\"white\",\"ticks\":\"\"},\"caxis\":{\"gridcolor\":\"white\",\"linecolor\":\"white\",\"ticks\":\"\"}},\"coloraxis\":{\"colorbar\":{\"outlinewidth\":0,\"ticks\":\"\"}},\"colorscale\":{\"sequential\":[[0.0,\"#0d0887\"],[0.1111111111111111,\"#46039f\"],[0.2222222222222222,\"#7201a8\"],[0.3333333333333333,\"#9c179e\"],[0.4444444444444444,\"#bd3786\"],[0.5555555555555556,\"#d8576b\"],[0.6666666666666666,\"#ed7953\"],[0.7777777777777778,\"#fb9f3a\"],[0.8888888888888888,\"#fdca26\"],[1.0,\"#f0f921\"]],\"sequentialminus\":[[0.0,\"#0d0887\"],[0.1111111111111111,\"#46039f\"],[0.2222222222222222,\"#7201a8\"],[0.3333333333333333,\"#9c179e\"],[0.4444444444444444,\"#bd3786\"],[0.5555555555555556,\"#d8576b\"],[0.6666666666666666,\"#ed7953\"],[0.7777777777777778,\"#fb9f3a\"],[0.8888888888888888,\"#fdca26\"],[1.0,\"#f0f921\"]],\"diverging\":[[0,\"#8e0152\"],[0.1,\"#c51b7d\"],[0.2,\"#de77ae\"],[0.3,\"#f1b6da\"],[0.4,\"#fde0ef\"],[0.5,\"#f7f7f7\"],[0.6,\"#e6f5d0\"],[0.7,\"#b8e186\"],[0.8,\"#7fbc41\"],[0.9,\"#4d9221\"],[1,\"#276419\"]]},\"xaxis\":{\"gridcolor\":\"white\",\"linecolor\":\"white\",\"ticks\":\"\",\"title\":{\"standoff\":15},\"zerolinecolor\":\"white\",\"automargin\":true,\"zerolinewidth\":2},\"yaxis\":{\"gridcolor\":\"white\",\"linecolor\":\"white\",\"ticks\":\"\",\"title\":{\"standoff\":15},\"zerolinecolor\":\"white\",\"automargin\":true,\"zerolinewidth\":2},\"scene\":{\"xaxis\":{\"backgroundcolor\":\"#E5ECF6\",\"gridcolor\":\"white\",\"linecolor\":\"white\",\"showbackground\":true,\"ticks\":\"\",\"zerolinecolor\":\"white\",\"gridwidth\":2},\"yaxis\":{\"backgroundcolor\":\"#E5ECF6\",\"gridcolor\":\"white\",\"linecolor\":\"white\",\"showbackground\":true,\"ticks\":\"\",\"zerolinecolor\":\"white\",\"gridwidth\":2},\"zaxis\":{\"backgroundcolor\":\"#E5ECF6\",\"gridcolor\":\"white\",\"linecolor\":\"white\",\"showbackground\":true,\"ticks\":\"\",\"zerolinecolor\":\"white\",\"gridwidth\":2}},\"shapedefaults\":{\"line\":{\"color\":\"#2a3f5f\"}},\"annotationdefaults\":{\"arrowcolor\":\"#2a3f5f\",\"arrowhead\":0,\"arrowwidth\":1},\"geo\":{\"bgcolor\":\"white\",\"landcolor\":\"#E5ECF6\",\"subunitcolor\":\"white\",\"showland\":true,\"showlakes\":true,\"lakecolor\":\"white\"},\"title\":{\"x\":0.05},\"mapbox\":{\"style\":\"light\"}}},\"xaxis\":{\"anchor\":\"y\",\"domain\":[0.0,1.0],\"title\":{\"text\":\"author(s)\"}},\"yaxis\":{\"anchor\":\"x\",\"domain\":[0.0,1.0],\"title\":{\"text\":\"count\"}},\"legend\":{\"tracegroupgap\":0},\"margin\":{\"t\":60},\"barmode\":\"relative\"},                        {\"responsive\": true}                    ).then(function(){\n",
       "                            \n",
       "var gd = document.getElementById('9621e389-69ad-4056-b067-411e7618e666');\n",
       "var x = new MutationObserver(function (mutations, observer) {{\n",
       "        var display = window.getComputedStyle(gd).display;\n",
       "        if (!display || display === 'none') {{\n",
       "            console.log([gd, 'removed!']);\n",
       "            Plotly.purge(gd);\n",
       "            observer.disconnect();\n",
       "        }}\n",
       "}});\n",
       "\n",
       "// Listen for the removal of the full notebook cells\n",
       "var notebookContainer = gd.closest('#notebook-container');\n",
       "if (notebookContainer) {{\n",
       "    x.observe(notebookContainer, {childList: true});\n",
       "}}\n",
       "\n",
       "// Listen for the clearing of the current output cell\n",
       "var outputEl = gd.closest('.output');\n",
       "if (outputEl) {{\n",
       "    x.observe(outputEl, {childList: true});\n",
       "}}\n",
       "\n",
       "                        })                };                });            </script>        </div>"
      ]
     },
     "metadata": {},
     "output_type": "display_data"
    }
   ],
   "source": [
    "px.histogram( completion_date_unknown, x = \"author(s)\")"
   ]
  },
  {
   "cell_type": "code",
   "execution_count": 36,
   "id": "6bc3a745",
   "metadata": {
    "execution": {
     "iopub.execute_input": "2022-06-07T19:01:42.845667Z",
     "iopub.status.busy": "2022-06-07T19:01:42.845268Z",
     "iopub.status.idle": "2022-06-07T19:01:42.852848Z",
     "shell.execute_reply": "2022-06-07T19:01:42.852098Z"
    },
    "papermill": {
     "duration": 0.040531,
     "end_time": "2022-06-07T19:01:42.854656",
     "exception": false,
     "start_time": "2022-06-07T19:01:42.814125",
     "status": "completed"
    },
    "tags": []
   },
   "outputs": [
    {
     "data": {
      "text/plain": [
       "array(['Physical Book'], dtype=object)"
      ]
     },
     "execution_count": 36,
     "metadata": {},
     "output_type": "execute_result"
    }
   ],
   "source": [
    "completion_date_unknown[(completion_date_unknown[\"author(s)\"] ==\"東野 圭吾\")|(completion_date_unknown[\"author(s)\"] ==\"藤崎 都\")][\"format\"].unique()"
   ]
  },
  {
   "cell_type": "code",
   "execution_count": 37,
   "id": "319cc8d3",
   "metadata": {
    "execution": {
     "iopub.execute_input": "2022-06-07T19:01:42.915461Z",
     "iopub.status.busy": "2022-06-07T19:01:42.914900Z",
     "iopub.status.idle": "2022-06-07T19:01:43.103972Z",
     "shell.execute_reply": "2022-06-07T19:01:43.102985Z"
    },
    "papermill": {
     "duration": 0.222046,
     "end_time": "2022-06-07T19:01:43.106318",
     "exception": false,
     "start_time": "2022-06-07T19:01:42.884272",
     "status": "completed"
    },
    "tags": []
   },
   "outputs": [
    {
     "data": {
      "text/plain": [
       "<AxesSubplot:xlabel='format', ylabel='count'>"
      ]
     },
     "execution_count": 37,
     "metadata": {},
     "output_type": "execute_result"
    },
    {
     "data": {
      "image/png": "[encoded data removed]",
      "text/plain": [
       "<Figure size 432x288 with 1 Axes>"
      ]
     },
     "metadata": {},
     "output_type": "display_data"
    }
   ],
   "source": [
    "sns.countplot(x = \"format\", data = completion_date_unknown)"
   ]
  },
  {
   "cell_type": "code",
   "execution_count": 38,
   "id": "c8d1e0ec",
   "metadata": {
    "execution": {
     "iopub.execute_input": "2022-06-07T19:01:43.167577Z",
     "iopub.status.busy": "2022-06-07T19:01:43.167133Z",
     "iopub.status.idle": "2022-06-07T19:01:43.175270Z",
     "shell.execute_reply": "2022-06-07T19:01:43.174308Z"
    },
    "papermill": {
     "duration": 0.041623,
     "end_time": "2022-06-07T19:01:43.177564",
     "exception": false,
     "start_time": "2022-06-07T19:01:43.135941",
     "status": "completed"
    },
    "tags": []
   },
   "outputs": [
    {
     "data": {
      "text/plain": [
       "79.25"
      ]
     },
     "execution_count": 38,
     "metadata": {},
     "output_type": "execute_result"
    }
   ],
   "source": [
    "round(((completion_date_unknown[completion_date_unknown[\"format\"]== \"Physical Book\"].shape[0]/completion_date_unknown.shape[0])*100), 2)"
   ]
  },
  {
   "cell_type": "code",
   "execution_count": 39,
   "id": "00adf810",
   "metadata": {
    "execution": {
     "iopub.execute_input": "2022-06-07T19:01:43.238983Z",
     "iopub.status.busy": "2022-06-07T19:01:43.238253Z",
     "iopub.status.idle": "2022-06-07T19:01:43.258856Z",
     "shell.execute_reply": "2022-06-07T19:01:43.257916Z"
    },
    "papermill": {
     "duration": 0.053317,
     "end_time": "2022-06-07T19:01:43.260775",
     "exception": false,
     "start_time": "2022-06-07T19:01:43.207458",
     "status": "completed"
    },
    "tags": []
   },
   "outputs": [
    {
     "data": {
      "text/html": [
       "<div>\n",
       "<style scoped>\n",
       "    .dataframe tbody tr th:only-of-type {\n",
       "        vertical-align: middle;\n",
       "    }\n",
       "\n",
       "    .dataframe tbody tr th {\n",
       "        vertical-align: top;\n",
       "    }\n",
       "\n",
       "    .dataframe thead th {\n",
       "        text-align: right;\n",
       "    }\n",
       "</style>\n",
       "<table border=\"1\" class=\"dataframe\">\n",
       "  <thead>\n",
       "    <tr style=\"text-align: right;\">\n",
       "      <th></th>\n",
       "      <th>completion date</th>\n",
       "      <th>Title</th>\n",
       "      <th>author(s)</th>\n",
       "      <th>pages</th>\n",
       "      <th>review</th>\n",
       "      <th>rating</th>\n",
       "      <th>status</th>\n",
       "      <th>format</th>\n",
       "      <th>platform</th>\n",
       "      <th>publisher</th>\n",
       "      <th>Imprint</th>\n",
       "      <th>publication date</th>\n",
       "      <th>type</th>\n",
       "      <th>genre</th>\n",
       "      <th>language</th>\n",
       "      <th>publication_year</th>\n",
       "      <th>publication_month</th>\n",
       "      <th>completion_year</th>\n",
       "      <th>completion_month</th>\n",
       "    </tr>\n",
       "  </thead>\n",
       "  <tbody>\n",
       "    <tr>\n",
       "      <th>349</th>\n",
       "      <td>NaT</td>\n",
       "      <td>どうしても生きてる</td>\n",
       "      <td>朝井 リョウ</td>\n",
       "      <td>323</td>\n",
       "      <td>Yes</td>\n",
       "      <td>4.0</td>\n",
       "      <td>Completed</td>\n",
       "      <td>Audiobook</td>\n",
       "      <td>Audible</td>\n",
       "      <td>幻冬舎</td>\n",
       "      <td>幻冬舎文庫</td>\n",
       "      <td>2019-10-10</td>\n",
       "      <td>Fiction</td>\n",
       "      <td>Contemporary</td>\n",
       "      <td>Japanese</td>\n",
       "      <td>2019</td>\n",
       "      <td>10</td>\n",
       "      <td>NaN</td>\n",
       "      <td>NaN</td>\n",
       "    </tr>\n",
       "  </tbody>\n",
       "</table>\n",
       "</div>"
      ],
      "text/plain": [
       "    completion date      Title author(s)  pages review  rating     status  \\\n",
       "349             NaT  どうしても生きてる    朝井 リョウ    323    Yes     4.0  Completed   \n",
       "\n",
       "        format platform publisher Imprint publication date     type  \\\n",
       "349  Audiobook  Audible       幻冬舎   幻冬舎文庫       2019-10-10  Fiction   \n",
       "\n",
       "            genre  language  publication_year  publication_month  \\\n",
       "349  Contemporary  Japanese              2019                 10   \n",
       "\n",
       "     completion_year  completion_month  \n",
       "349              NaN               NaN  "
      ]
     },
     "execution_count": 39,
     "metadata": {},
     "output_type": "execute_result"
    }
   ],
   "source": [
    "completion_date_unknown[completion_date_unknown[\"format\"]== \"Audiobook\"]"
   ]
  },
  {
   "cell_type": "code",
   "execution_count": 40,
   "id": "513c9db5",
   "metadata": {
    "execution": {
     "iopub.execute_input": "2022-06-07T19:01:43.322736Z",
     "iopub.status.busy": "2022-06-07T19:01:43.322114Z",
     "iopub.status.idle": "2022-06-07T19:01:43.386218Z",
     "shell.execute_reply": "2022-06-07T19:01:43.385369Z"
    },
    "papermill": {
     "duration": 0.097567,
     "end_time": "2022-06-07T19:01:43.388255",
     "exception": false,
     "start_time": "2022-06-07T19:01:43.290688",
     "status": "completed"
    },
    "tags": []
   },
   "outputs": [
    {
     "data": {
      "text/html": [
       "<div>                            <div id=\"9c3827cc-db21-4f15-9b03-e03fb9084022\" class=\"plotly-graph-div\" style=\"height:525px; width:100%;\"></div>            <script type=\"text/javascript\">                require([\"plotly\"], function(Plotly) {                    window.PLOTLYENV=window.PLOTLYENV || {};                                    if (document.getElementById(\"9c3827cc-db21-4f15-9b03-e03fb9084022\")) {                    Plotly.newPlot(                        \"9c3827cc-db21-4f15-9b03-e03fb9084022\",                        [{\"alignmentgroup\":\"True\",\"bingroup\":\"x\",\"hovertemplate\":\"Imprint=%{x}<br>count=%{y}<extra></extra>\",\"legendgroup\":\"\",\"marker\":{\"color\":\"#636efa\",\"pattern\":{\"shape\":\"\"}},\"name\":\"\",\"offsetgroup\":\"\",\"orientation\":\"v\",\"showlegend\":false,\"x\":[\"新潮文庫\",\"新潮文庫\",\"講談社文庫\",\"講談社文庫\",\"Wordsworth Editions\",\"講談社文庫\",\"コバルト文庫\",\"コバルト文庫\",\"コバルト文庫\",\"Penguin Classics\",\"祥伝社文庫\",\"幻冬舎コミックス\",\"花とゆめCOMICSスペシャルララノベルズ\",\"Penguin\",\"幻冬舎コミックス\",\"フラワーコミックスα\",\"祥伝社文庫\",\"幻冬舎コミックス\",\"メディアワークス文庫\",\"メディアワークス文庫\",\"モーニング KC\",\"メディアワークス文庫\",\"幻冬舎コミックス\",\"Penguin\",\"角川ルビー文庫\",\"Ｇファンタジーノベルズ\",\"リンダブックス\",\"メディアワークス文庫\",\"幻冬舎コミックス\",\"角川ルビー文庫\",\"角川ルビー文庫\",\"メディアワークス文庫\",\"カドカワコミックス・エース\",\"文春文庫\",\"角川ルビー文庫\",\"アルファポリス\",\"幻冬舎コミックス\",\"花とゆめCOMICSスペシャルララノベルズ\",\"角川ルビー文庫\",\"角川ビーンズ文庫\",\"集英社文庫\",\"角川ビーンズ文庫\",\"集英社文庫\",\"小学館文庫\",\"角川ルビー文庫\",\"メディアワークス文庫\",\"メディアワークス文庫\",\"Bloomsbury Children's Books\",\"ノン・ノベル\",\"集英社オレンジ文庫\",\"GUSH COMICS\",\"Collins Classics\",\"幻冬舎文庫\"],\"xaxis\":\"x\",\"yaxis\":\"y\",\"type\":\"histogram\"}],                        {\"template\":{\"data\":{\"histogram2dcontour\":[{\"type\":\"histogram2dcontour\",\"colorbar\":{\"outlinewidth\":0,\"ticks\":\"\"},\"colorscale\":[[0.0,\"#0d0887\"],[0.1111111111111111,\"#46039f\"],[0.2222222222222222,\"#7201a8\"],[0.3333333333333333,\"#9c179e\"],[0.4444444444444444,\"#bd3786\"],[0.5555555555555556,\"#d8576b\"],[0.6666666666666666,\"#ed7953\"],[0.7777777777777778,\"#fb9f3a\"],[0.8888888888888888,\"#fdca26\"],[1.0,\"#f0f921\"]]}],\"choropleth\":[{\"type\":\"choropleth\",\"colorbar\":{\"outlinewidth\":0,\"ticks\":\"\"}}],\"histogram2d\":[{\"type\":\"histogram2d\",\"colorbar\":{\"outlinewidth\":0,\"ticks\":\"\"},\"colorscale\":[[0.0,\"#0d0887\"],[0.1111111111111111,\"#46039f\"],[0.2222222222222222,\"#7201a8\"],[0.3333333333333333,\"#9c179e\"],[0.4444444444444444,\"#bd3786\"],[0.5555555555555556,\"#d8576b\"],[0.6666666666666666,\"#ed7953\"],[0.7777777777777778,\"#fb9f3a\"],[0.8888888888888888,\"#fdca26\"],[1.0,\"#f0f921\"]]}],\"heatmap\":[{\"type\":\"heatmap\",\"colorbar\":{\"outlinewidth\":0,\"ticks\":\"\"},\"colorscale\":[[0.0,\"#0d0887\"],[0.1111111111111111,\"#46039f\"],[0.2222222222222222,\"#7201a8\"],[0.3333333333333333,\"#9c179e\"],[0.4444444444444444,\"#bd3786\"],[0.5555555555555556,\"#d8576b\"],[0.6666666666666666,\"#ed7953\"],[0.7777777777777778,\"#fb9f3a\"],[0.8888888888888888,\"#fdca26\"],[1.0,\"#f0f921\"]]}],\"heatmapgl\":[{\"type\":\"heatmapgl\",\"colorbar\":{\"outlinewidth\":0,\"ticks\":\"\"},\"colorscale\":[[0.0,\"#0d0887\"],[0.1111111111111111,\"#46039f\"],[0.2222222222222222,\"#7201a8\"],[0.3333333333333333,\"#9c179e\"],[0.4444444444444444,\"#bd3786\"],[0.5555555555555556,\"#d8576b\"],[0.6666666666666666,\"#ed7953\"],[0.7777777777777778,\"#fb9f3a\"],[0.8888888888888888,\"#fdca26\"],[1.0,\"#f0f921\"]]}],\"contourcarpet\":[{\"type\":\"contourcarpet\",\"colorbar\":{\"outlinewidth\":0,\"ticks\":\"\"}}],\"contour\":[{\"type\":\"contour\",\"colorbar\":{\"outlinewidth\":0,\"ticks\":\"\"},\"colorscale\":[[0.0,\"#0d0887\"],[0.1111111111111111,\"#46039f\"],[0.2222222222222222,\"#7201a8\"],[0.3333333333333333,\"#9c179e\"],[0.4444444444444444,\"#bd3786\"],[0.5555555555555556,\"#d8576b\"],[0.6666666666666666,\"#ed7953\"],[0.7777777777777778,\"#fb9f3a\"],[0.8888888888888888,\"#fdca26\"],[1.0,\"#f0f921\"]]}],\"surface\":[{\"type\":\"surface\",\"colorbar\":{\"outlinewidth\":0,\"ticks\":\"\"},\"colorscale\":[[0.0,\"#0d0887\"],[0.1111111111111111,\"#46039f\"],[0.2222222222222222,\"#7201a8\"],[0.3333333333333333,\"#9c179e\"],[0.4444444444444444,\"#bd3786\"],[0.5555555555555556,\"#d8576b\"],[0.6666666666666666,\"#ed7953\"],[0.7777777777777778,\"#fb9f3a\"],[0.8888888888888888,\"#fdca26\"],[1.0,\"#f0f921\"]]}],\"mesh3d\":[{\"type\":\"mesh3d\",\"colorbar\":{\"outlinewidth\":0,\"ticks\":\"\"}}],\"scatter\":[{\"fillpattern\":{\"fillmode\":\"overlay\",\"size\":10,\"solidity\":0.2},\"type\":\"scatter\"}],\"parcoords\":[{\"type\":\"parcoords\",\"line\":{\"colorbar\":{\"outlinewidth\":0,\"ticks\":\"\"}}}],\"scatterpolargl\":[{\"type\":\"scatterpolargl\",\"marker\":{\"colorbar\":{\"outlinewidth\":0,\"ticks\":\"\"}}}],\"bar\":[{\"error_x\":{\"color\":\"#2a3f5f\"},\"error_y\":{\"color\":\"#2a3f5f\"},\"marker\":{\"line\":{\"color\":\"#E5ECF6\",\"width\":0.5},\"pattern\":{\"fillmode\":\"overlay\",\"size\":10,\"solidity\":0.2}},\"type\":\"bar\"}],\"scattergeo\":[{\"type\":\"scattergeo\",\"marker\":{\"colorbar\":{\"outlinewidth\":0,\"ticks\":\"\"}}}],\"scatterpolar\":[{\"type\":\"scatterpolar\",\"marker\":{\"colorbar\":{\"outlinewidth\":0,\"ticks\":\"\"}}}],\"histogram\":[{\"marker\":{\"pattern\":{\"fillmode\":\"overlay\",\"size\":10,\"solidity\":0.2}},\"type\":\"histogram\"}],\"scattergl\":[{\"type\":\"scattergl\",\"marker\":{\"colorbar\":{\"outlinewidth\":0,\"ticks\":\"\"}}}],\"scatter3d\":[{\"type\":\"scatter3d\",\"line\":{\"colorbar\":{\"outlinewidth\":0,\"ticks\":\"\"}},\"marker\":{\"colorbar\":{\"outlinewidth\":0,\"ticks\":\"\"}}}],\"scattermapbox\":[{\"type\":\"scattermapbox\",\"marker\":{\"colorbar\":{\"outlinewidth\":0,\"ticks\":\"\"}}}],\"scatterternary\":[{\"type\":\"scatterternary\",\"marker\":{\"colorbar\":{\"outlinewidth\":0,\"ticks\":\"\"}}}],\"scattercarpet\":[{\"type\":\"scattercarpet\",\"marker\":{\"colorbar\":{\"outlinewidth\":0,\"ticks\":\"\"}}}],\"carpet\":[{\"aaxis\":{\"endlinecolor\":\"#2a3f5f\",\"gridcolor\":\"white\",\"linecolor\":\"white\",\"minorgridcolor\":\"white\",\"startlinecolor\":\"#2a3f5f\"},\"baxis\":{\"endlinecolor\":\"#2a3f5f\",\"gridcolor\":\"white\",\"linecolor\":\"white\",\"minorgridcolor\":\"white\",\"startlinecolor\":\"#2a3f5f\"},\"type\":\"carpet\"}],\"table\":[{\"cells\":{\"fill\":{\"color\":\"#EBF0F8\"},\"line\":{\"color\":\"white\"}},\"header\":{\"fill\":{\"color\":\"#C8D4E3\"},\"line\":{\"color\":\"white\"}},\"type\":\"table\"}],\"barpolar\":[{\"marker\":{\"line\":{\"color\":\"#E5ECF6\",\"width\":0.5},\"pattern\":{\"fillmode\":\"overlay\",\"size\":10,\"solidity\":0.2}},\"type\":\"barpolar\"}],\"pie\":[{\"automargin\":true,\"type\":\"pie\"}]},\"layout\":{\"autotypenumbers\":\"strict\",\"colorway\":[\"#636efa\",\"#EF553B\",\"#00cc96\",\"#ab63fa\",\"#FFA15A\",\"#19d3f3\",\"#FF6692\",\"#B6E880\",\"#FF97FF\",\"#FECB52\"],\"font\":{\"color\":\"#2a3f5f\"},\"hovermode\":\"closest\",\"hoverlabel\":{\"align\":\"left\"},\"paper_bgcolor\":\"white\",\"plot_bgcolor\":\"#E5ECF6\",\"polar\":{\"bgcolor\":\"#E5ECF6\",\"angularaxis\":{\"gridcolor\":\"white\",\"linecolor\":\"white\",\"ticks\":\"\"},\"radialaxis\":{\"gridcolor\":\"white\",\"linecolor\":\"white\",\"ticks\":\"\"}},\"ternary\":{\"bgcolor\":\"#E5ECF6\",\"aaxis\":{\"gridcolor\":\"white\",\"linecolor\":\"white\",\"ticks\":\"\"},\"baxis\":{\"gridcolor\":\"white\",\"linecolor\":\"white\",\"ticks\":\"\"},\"caxis\":{\"gridcolor\":\"white\",\"linecolor\":\"white\",\"ticks\":\"\"}},\"coloraxis\":{\"colorbar\":{\"outlinewidth\":0,\"ticks\":\"\"}},\"colorscale\":{\"sequential\":[[0.0,\"#0d0887\"],[0.1111111111111111,\"#46039f\"],[0.2222222222222222,\"#7201a8\"],[0.3333333333333333,\"#9c179e\"],[0.4444444444444444,\"#bd3786\"],[0.5555555555555556,\"#d8576b\"],[0.6666666666666666,\"#ed7953\"],[0.7777777777777778,\"#fb9f3a\"],[0.8888888888888888,\"#fdca26\"],[1.0,\"#f0f921\"]],\"sequentialminus\":[[0.0,\"#0d0887\"],[0.1111111111111111,\"#46039f\"],[0.2222222222222222,\"#7201a8\"],[0.3333333333333333,\"#9c179e\"],[0.4444444444444444,\"#bd3786\"],[0.5555555555555556,\"#d8576b\"],[0.6666666666666666,\"#ed7953\"],[0.7777777777777778,\"#fb9f3a\"],[0.8888888888888888,\"#fdca26\"],[1.0,\"#f0f921\"]],\"diverging\":[[0,\"#8e0152\"],[0.1,\"#c51b7d\"],[0.2,\"#de77ae\"],[0.3,\"#f1b6da\"],[0.4,\"#fde0ef\"],[0.5,\"#f7f7f7\"],[0.6,\"#e6f5d0\"],[0.7,\"#b8e186\"],[0.8,\"#7fbc41\"],[0.9,\"#4d9221\"],[1,\"#276419\"]]},\"xaxis\":{\"gridcolor\":\"white\",\"linecolor\":\"white\",\"ticks\":\"\",\"title\":{\"standoff\":15},\"zerolinecolor\":\"white\",\"automargin\":true,\"zerolinewidth\":2},\"yaxis\":{\"gridcolor\":\"white\",\"linecolor\":\"white\",\"ticks\":\"\",\"title\":{\"standoff\":15},\"zerolinecolor\":\"white\",\"automargin\":true,\"zerolinewidth\":2},\"scene\":{\"xaxis\":{\"backgroundcolor\":\"#E5ECF6\",\"gridcolor\":\"white\",\"linecolor\":\"white\",\"showbackground\":true,\"ticks\":\"\",\"zerolinecolor\":\"white\",\"gridwidth\":2},\"yaxis\":{\"backgroundcolor\":\"#E5ECF6\",\"gridcolor\":\"white\",\"linecolor\":\"white\",\"showbackground\":true,\"ticks\":\"\",\"zerolinecolor\":\"white\",\"gridwidth\":2},\"zaxis\":{\"backgroundcolor\":\"#E5ECF6\",\"gridcolor\":\"white\",\"linecolor\":\"white\",\"showbackground\":true,\"ticks\":\"\",\"zerolinecolor\":\"white\",\"gridwidth\":2}},\"shapedefaults\":{\"line\":{\"color\":\"#2a3f5f\"}},\"annotationdefaults\":{\"arrowcolor\":\"#2a3f5f\",\"arrowhead\":0,\"arrowwidth\":1},\"geo\":{\"bgcolor\":\"white\",\"landcolor\":\"#E5ECF6\",\"subunitcolor\":\"white\",\"showland\":true,\"showlakes\":true,\"lakecolor\":\"white\"},\"title\":{\"x\":0.05},\"mapbox\":{\"style\":\"light\"}}},\"xaxis\":{\"anchor\":\"y\",\"domain\":[0.0,1.0],\"title\":{\"text\":\"Imprint\"}},\"yaxis\":{\"anchor\":\"x\",\"domain\":[0.0,1.0],\"title\":{\"text\":\"count\"}},\"legend\":{\"tracegroupgap\":0},\"margin\":{\"t\":60},\"barmode\":\"relative\"},                        {\"responsive\": true}                    ).then(function(){\n",
       "                            \n",
       "var gd = document.getElementById('9c3827cc-db21-4f15-9b03-e03fb9084022');\n",
       "var x = new MutationObserver(function (mutations, observer) {{\n",
       "        var display = window.getComputedStyle(gd).display;\n",
       "        if (!display || display === 'none') {{\n",
       "            console.log([gd, 'removed!']);\n",
       "            Plotly.purge(gd);\n",
       "            observer.disconnect();\n",
       "        }}\n",
       "}});\n",
       "\n",
       "// Listen for the removal of the full notebook cells\n",
       "var notebookContainer = gd.closest('#notebook-container');\n",
       "if (notebookContainer) {{\n",
       "    x.observe(notebookContainer, {childList: true});\n",
       "}}\n",
       "\n",
       "// Listen for the clearing of the current output cell\n",
       "var outputEl = gd.closest('.output');\n",
       "if (outputEl) {{\n",
       "    x.observe(outputEl, {childList: true});\n",
       "}}\n",
       "\n",
       "                        })                };                });            </script>        </div>"
      ]
     },
     "metadata": {},
     "output_type": "display_data"
    }
   ],
   "source": [
    "px.histogram( completion_date_unknown, x = \"Imprint\")"
   ]
  },
  {
   "cell_type": "code",
   "execution_count": 41,
   "id": "3c18309a",
   "metadata": {
    "execution": {
     "iopub.execute_input": "2022-06-07T19:01:43.451769Z",
     "iopub.status.busy": "2022-06-07T19:01:43.451076Z",
     "iopub.status.idle": "2022-06-07T19:01:43.460117Z",
     "shell.execute_reply": "2022-06-07T19:01:43.459468Z"
    },
    "papermill": {
     "duration": 0.042863,
     "end_time": "2022-06-07T19:01:43.461718",
     "exception": false,
     "start_time": "2022-06-07T19:01:43.418855",
     "status": "completed"
    },
    "tags": []
   },
   "outputs": [
    {
     "data": {
      "text/plain": [
       "array(['講談社文庫', '幻冬舎コミックス', '角川ルビー文庫', '文春文庫', '集英社文庫'], dtype=object)"
      ]
     },
     "execution_count": 41,
     "metadata": {},
     "output_type": "execute_result"
    }
   ],
   "source": [
    "completion_date_unknown[(completion_date_unknown[\"author(s)\"] ==\"東野 圭吾\")|(completion_date_unknown[\"author(s)\"] ==\"藤崎 都\")|(completion_date_unknown[\"author(s)\"] ==\"日丸屋 秀和\")][\"Imprint\"].unique()"
   ]
  },
  {
   "cell_type": "code",
   "execution_count": 42,
   "id": "5416fbbc",
   "metadata": {
    "execution": {
     "iopub.execute_input": "2022-06-07T19:01:43.523793Z",
     "iopub.status.busy": "2022-06-07T19:01:43.523438Z",
     "iopub.status.idle": "2022-06-07T19:01:43.583533Z",
     "shell.execute_reply": "2022-06-07T19:01:43.582551Z"
    },
    "papermill": {
     "duration": 0.093977,
     "end_time": "2022-06-07T19:01:43.585511",
     "exception": false,
     "start_time": "2022-06-07T19:01:43.491534",
     "status": "completed"
    },
    "tags": []
   },
   "outputs": [
    {
     "data": {
      "text/html": [
       "<div>                            <div id=\"a0374e41-e56f-4907-ab7c-5e7bd5de1122\" class=\"plotly-graph-div\" style=\"height:525px; width:100%;\"></div>            <script type=\"text/javascript\">                require([\"plotly\"], function(Plotly) {                    window.PLOTLYENV=window.PLOTLYENV || {};                                    if (document.getElementById(\"a0374e41-e56f-4907-ab7c-5e7bd5de1122\")) {                    Plotly.newPlot(                        \"a0374e41-e56f-4907-ab7c-5e7bd5de1122\",                        [{\"alignmentgroup\":\"True\",\"bingroup\":\"x\",\"hovertemplate\":\"publisher=%{x}<br>count=%{y}<extra></extra>\",\"legendgroup\":\"\",\"marker\":{\"color\":\"#636efa\",\"pattern\":{\"shape\":\"\"}},\"name\":\"\",\"offsetgroup\":\"\",\"orientation\":\"v\",\"showlegend\":false,\"x\":[\"新潮社\",\"新潮社\",\"講談社\",\"講談社\",\"Wordsworth Editions\",\"講談社\",\"集英社\",\"集英社\",\"集英社\",\"Penguin Random House\",\"祥伝社\",\"幻冬舎\",\"白泉社\",\"Penguin Random House\",\"幻冬舎\",\"小学館\",\"祥伝社\",\"幻冬舎\",\"KADOKAWA\",\"KADOKAWA\",\"講談社\",\"KADOKAWA\",\"幻冬舎\",\"Penguin Random House\",\"KADOKAWA\",\"スクウェア・エニックス\",\"泰文堂\",\"KADOKAWA\",\"幻冬舎\",\"KADOKAWA\",\"KADOKAWA\",\"KADOKAWA\",\"KADOKAWA\",\"文藝春秋\",\"KADOKAWA\",\"アルファポリス\",\"幻冬舎\",\"白泉社\",\"KADOKAWA\",\"KADOKAWA\",\"集英社\",\"KADOKAWA\",\"集英社\",\"小学館\",\"KADOKAWA\",\"KADOKAWA\",\"KADOKAWA\",\"Bloomsbury\",\"祥伝社\",\"集英社\",\"海王社\",\"William Collins\",\"幻冬舎\"],\"xaxis\":\"x\",\"yaxis\":\"y\",\"type\":\"histogram\"}],                        {\"template\":{\"data\":{\"histogram2dcontour\":[{\"type\":\"histogram2dcontour\",\"colorbar\":{\"outlinewidth\":0,\"ticks\":\"\"},\"colorscale\":[[0.0,\"#0d0887\"],[0.1111111111111111,\"#46039f\"],[0.2222222222222222,\"#7201a8\"],[0.3333333333333333,\"#9c179e\"],[0.4444444444444444,\"#bd3786\"],[0.5555555555555556,\"#d8576b\"],[0.6666666666666666,\"#ed7953\"],[0.7777777777777778,\"#fb9f3a\"],[0.8888888888888888,\"#fdca26\"],[1.0,\"#f0f921\"]]}],\"choropleth\":[{\"type\":\"choropleth\",\"colorbar\":{\"outlinewidth\":0,\"ticks\":\"\"}}],\"histogram2d\":[{\"type\":\"histogram2d\",\"colorbar\":{\"outlinewidth\":0,\"ticks\":\"\"},\"colorscale\":[[0.0,\"#0d0887\"],[0.1111111111111111,\"#46039f\"],[0.2222222222222222,\"#7201a8\"],[0.3333333333333333,\"#9c179e\"],[0.4444444444444444,\"#bd3786\"],[0.5555555555555556,\"#d8576b\"],[0.6666666666666666,\"#ed7953\"],[0.7777777777777778,\"#fb9f3a\"],[0.8888888888888888,\"#fdca26\"],[1.0,\"#f0f921\"]]}],\"heatmap\":[{\"type\":\"heatmap\",\"colorbar\":{\"outlinewidth\":0,\"ticks\":\"\"},\"colorscale\":[[0.0,\"#0d0887\"],[0.1111111111111111,\"#46039f\"],[0.2222222222222222,\"#7201a8\"],[0.3333333333333333,\"#9c179e\"],[0.4444444444444444,\"#bd3786\"],[0.5555555555555556,\"#d8576b\"],[0.6666666666666666,\"#ed7953\"],[0.7777777777777778,\"#fb9f3a\"],[0.8888888888888888,\"#fdca26\"],[1.0,\"#f0f921\"]]}],\"heatmapgl\":[{\"type\":\"heatmapgl\",\"colorbar\":{\"outlinewidth\":0,\"ticks\":\"\"},\"colorscale\":[[0.0,\"#0d0887\"],[0.1111111111111111,\"#46039f\"],[0.2222222222222222,\"#7201a8\"],[0.3333333333333333,\"#9c179e\"],[0.4444444444444444,\"#bd3786\"],[0.5555555555555556,\"#d8576b\"],[0.6666666666666666,\"#ed7953\"],[0.7777777777777778,\"#fb9f3a\"],[0.8888888888888888,\"#fdca26\"],[1.0,\"#f0f921\"]]}],\"contourcarpet\":[{\"type\":\"contourcarpet\",\"colorbar\":{\"outlinewidth\":0,\"ticks\":\"\"}}],\"contour\":[{\"type\":\"contour\",\"colorbar\":{\"outlinewidth\":0,\"ticks\":\"\"},\"colorscale\":[[0.0,\"#0d0887\"],[0.1111111111111111,\"#46039f\"],[0.2222222222222222,\"#7201a8\"],[0.3333333333333333,\"#9c179e\"],[0.4444444444444444,\"#bd3786\"],[0.5555555555555556,\"#d8576b\"],[0.6666666666666666,\"#ed7953\"],[0.7777777777777778,\"#fb9f3a\"],[0.8888888888888888,\"#fdca26\"],[1.0,\"#f0f921\"]]}],\"surface\":[{\"type\":\"surface\",\"colorbar\":{\"outlinewidth\":0,\"ticks\":\"\"},\"colorscale\":[[0.0,\"#0d0887\"],[0.1111111111111111,\"#46039f\"],[0.2222222222222222,\"#7201a8\"],[0.3333333333333333,\"#9c179e\"],[0.4444444444444444,\"#bd3786\"],[0.5555555555555556,\"#d8576b\"],[0.6666666666666666,\"#ed7953\"],[0.7777777777777778,\"#fb9f3a\"],[0.8888888888888888,\"#fdca26\"],[1.0,\"#f0f921\"]]}],\"mesh3d\":[{\"type\":\"mesh3d\",\"colorbar\":{\"outlinewidth\":0,\"ticks\":\"\"}}],\"scatter\":[{\"fillpattern\":{\"fillmode\":\"overlay\",\"size\":10,\"solidity\":0.2},\"type\":\"scatter\"}],\"parcoords\":[{\"type\":\"parcoords\",\"line\":{\"colorbar\":{\"outlinewidth\":0,\"ticks\":\"\"}}}],\"scatterpolargl\":[{\"type\":\"scatterpolargl\",\"marker\":{\"colorbar\":{\"outlinewidth\":0,\"ticks\":\"\"}}}],\"bar\":[{\"error_x\":{\"color\":\"#2a3f5f\"},\"error_y\":{\"color\":\"#2a3f5f\"},\"marker\":{\"line\":{\"color\":\"#E5ECF6\",\"width\":0.5},\"pattern\":{\"fillmode\":\"overlay\",\"size\":10,\"solidity\":0.2}},\"type\":\"bar\"}],\"scattergeo\":[{\"type\":\"scattergeo\",\"marker\":{\"colorbar\":{\"outlinewidth\":0,\"ticks\":\"\"}}}],\"scatterpolar\":[{\"type\":\"scatterpolar\",\"marker\":{\"colorbar\":{\"outlinewidth\":0,\"ticks\":\"\"}}}],\"histogram\":[{\"marker\":{\"pattern\":{\"fillmode\":\"overlay\",\"size\":10,\"solidity\":0.2}},\"type\":\"histogram\"}],\"scattergl\":[{\"type\":\"scattergl\",\"marker\":{\"colorbar\":{\"outlinewidth\":0,\"ticks\":\"\"}}}],\"scatter3d\":[{\"type\":\"scatter3d\",\"line\":{\"colorbar\":{\"outlinewidth\":0,\"ticks\":\"\"}},\"marker\":{\"colorbar\":{\"outlinewidth\":0,\"ticks\":\"\"}}}],\"scattermapbox\":[{\"type\":\"scattermapbox\",\"marker\":{\"colorbar\":{\"outlinewidth\":0,\"ticks\":\"\"}}}],\"scatterternary\":[{\"type\":\"scatterternary\",\"marker\":{\"colorbar\":{\"outlinewidth\":0,\"ticks\":\"\"}}}],\"scattercarpet\":[{\"type\":\"scattercarpet\",\"marker\":{\"colorbar\":{\"outlinewidth\":0,\"ticks\":\"\"}}}],\"carpet\":[{\"aaxis\":{\"endlinecolor\":\"#2a3f5f\",\"gridcolor\":\"white\",\"linecolor\":\"white\",\"minorgridcolor\":\"white\",\"startlinecolor\":\"#2a3f5f\"},\"baxis\":{\"endlinecolor\":\"#2a3f5f\",\"gridcolor\":\"white\",\"linecolor\":\"white\",\"minorgridcolor\":\"white\",\"startlinecolor\":\"#2a3f5f\"},\"type\":\"carpet\"}],\"table\":[{\"cells\":{\"fill\":{\"color\":\"#EBF0F8\"},\"line\":{\"color\":\"white\"}},\"header\":{\"fill\":{\"color\":\"#C8D4E3\"},\"line\":{\"color\":\"white\"}},\"type\":\"table\"}],\"barpolar\":[{\"marker\":{\"line\":{\"color\":\"#E5ECF6\",\"width\":0.5},\"pattern\":{\"fillmode\":\"overlay\",\"size\":10,\"solidity\":0.2}},\"type\":\"barpolar\"}],\"pie\":[{\"automargin\":true,\"type\":\"pie\"}]},\"layout\":{\"autotypenumbers\":\"strict\",\"colorway\":[\"#636efa\",\"#EF553B\",\"#00cc96\",\"#ab63fa\",\"#FFA15A\",\"#19d3f3\",\"#FF6692\",\"#B6E880\",\"#FF97FF\",\"#FECB52\"],\"font\":{\"color\":\"#2a3f5f\"},\"hovermode\":\"closest\",\"hoverlabel\":{\"align\":\"left\"},\"paper_bgcolor\":\"white\",\"plot_bgcolor\":\"#E5ECF6\",\"polar\":{\"bgcolor\":\"#E5ECF6\",\"angularaxis\":{\"gridcolor\":\"white\",\"linecolor\":\"white\",\"ticks\":\"\"},\"radialaxis\":{\"gridcolor\":\"white\",\"linecolor\":\"white\",\"ticks\":\"\"}},\"ternary\":{\"bgcolor\":\"#E5ECF6\",\"aaxis\":{\"gridcolor\":\"white\",\"linecolor\":\"white\",\"ticks\":\"\"},\"baxis\":{\"gridcolor\":\"white\",\"linecolor\":\"white\",\"ticks\":\"\"},\"caxis\":{\"gridcolor\":\"white\",\"linecolor\":\"white\",\"ticks\":\"\"}},\"coloraxis\":{\"colorbar\":{\"outlinewidth\":0,\"ticks\":\"\"}},\"colorscale\":{\"sequential\":[[0.0,\"#0d0887\"],[0.1111111111111111,\"#46039f\"],[0.2222222222222222,\"#7201a8\"],[0.3333333333333333,\"#9c179e\"],[0.4444444444444444,\"#bd3786\"],[0.5555555555555556,\"#d8576b\"],[0.6666666666666666,\"#ed7953\"],[0.7777777777777778,\"#fb9f3a\"],[0.8888888888888888,\"#fdca26\"],[1.0,\"#f0f921\"]],\"sequentialminus\":[[0.0,\"#0d0887\"],[0.1111111111111111,\"#46039f\"],[0.2222222222222222,\"#7201a8\"],[0.3333333333333333,\"#9c179e\"],[0.4444444444444444,\"#bd3786\"],[0.5555555555555556,\"#d8576b\"],[0.6666666666666666,\"#ed7953\"],[0.7777777777777778,\"#fb9f3a\"],[0.8888888888888888,\"#fdca26\"],[1.0,\"#f0f921\"]],\"diverging\":[[0,\"#8e0152\"],[0.1,\"#c51b7d\"],[0.2,\"#de77ae\"],[0.3,\"#f1b6da\"],[0.4,\"#fde0ef\"],[0.5,\"#f7f7f7\"],[0.6,\"#e6f5d0\"],[0.7,\"#b8e186\"],[0.8,\"#7fbc41\"],[0.9,\"#4d9221\"],[1,\"#276419\"]]},\"xaxis\":{\"gridcolor\":\"white\",\"linecolor\":\"white\",\"ticks\":\"\",\"title\":{\"standoff\":15},\"zerolinecolor\":\"white\",\"automargin\":true,\"zerolinewidth\":2},\"yaxis\":{\"gridcolor\":\"white\",\"linecolor\":\"white\",\"ticks\":\"\",\"title\":{\"standoff\":15},\"zerolinecolor\":\"white\",\"automargin\":true,\"zerolinewidth\":2},\"scene\":{\"xaxis\":{\"backgroundcolor\":\"#E5ECF6\",\"gridcolor\":\"white\",\"linecolor\":\"white\",\"showbackground\":true,\"ticks\":\"\",\"zerolinecolor\":\"white\",\"gridwidth\":2},\"yaxis\":{\"backgroundcolor\":\"#E5ECF6\",\"gridcolor\":\"white\",\"linecolor\":\"white\",\"showbackground\":true,\"ticks\":\"\",\"zerolinecolor\":\"white\",\"gridwidth\":2},\"zaxis\":{\"backgroundcolor\":\"#E5ECF6\",\"gridcolor\":\"white\",\"linecolor\":\"white\",\"showbackground\":true,\"ticks\":\"\",\"zerolinecolor\":\"white\",\"gridwidth\":2}},\"shapedefaults\":{\"line\":{\"color\":\"#2a3f5f\"}},\"annotationdefaults\":{\"arrowcolor\":\"#2a3f5f\",\"arrowhead\":0,\"arrowwidth\":1},\"geo\":{\"bgcolor\":\"white\",\"landcolor\":\"#E5ECF6\",\"subunitcolor\":\"white\",\"showland\":true,\"showlakes\":true,\"lakecolor\":\"white\"},\"title\":{\"x\":0.05},\"mapbox\":{\"style\":\"light\"}}},\"xaxis\":{\"anchor\":\"y\",\"domain\":[0.0,1.0],\"title\":{\"text\":\"publisher\"}},\"yaxis\":{\"anchor\":\"x\",\"domain\":[0.0,1.0],\"title\":{\"text\":\"count\"}},\"legend\":{\"tracegroupgap\":0},\"margin\":{\"t\":60},\"barmode\":\"relative\"},                        {\"responsive\": true}                    ).then(function(){\n",
       "                            \n",
       "var gd = document.getElementById('a0374e41-e56f-4907-ab7c-5e7bd5de1122');\n",
       "var x = new MutationObserver(function (mutations, observer) {{\n",
       "        var display = window.getComputedStyle(gd).display;\n",
       "        if (!display || display === 'none') {{\n",
       "            console.log([gd, 'removed!']);\n",
       "            Plotly.purge(gd);\n",
       "            observer.disconnect();\n",
       "        }}\n",
       "}});\n",
       "\n",
       "// Listen for the removal of the full notebook cells\n",
       "var notebookContainer = gd.closest('#notebook-container');\n",
       "if (notebookContainer) {{\n",
       "    x.observe(notebookContainer, {childList: true});\n",
       "}}\n",
       "\n",
       "// Listen for the clearing of the current output cell\n",
       "var outputEl = gd.closest('.output');\n",
       "if (outputEl) {{\n",
       "    x.observe(outputEl, {childList: true});\n",
       "}}\n",
       "\n",
       "                        })                };                });            </script>        </div>"
      ]
     },
     "metadata": {},
     "output_type": "display_data"
    }
   ],
   "source": [
    "px.histogram( completion_date_unknown, x = \"publisher\")"
   ]
  },
  {
   "cell_type": "code",
   "execution_count": 43,
   "id": "69f1b689",
   "metadata": {
    "execution": {
     "iopub.execute_input": "2022-06-07T19:01:43.648741Z",
     "iopub.status.busy": "2022-06-07T19:01:43.648334Z",
     "iopub.status.idle": "2022-06-07T19:01:43.657070Z",
     "shell.execute_reply": "2022-06-07T19:01:43.656449Z"
    },
    "papermill": {
     "duration": 0.042507,
     "end_time": "2022-06-07T19:01:43.658701",
     "exception": false,
     "start_time": "2022-06-07T19:01:43.616194",
     "status": "completed"
    },
    "tags": []
   },
   "outputs": [
    {
     "data": {
      "text/plain": [
       "array(['講談社', '幻冬舎', 'KADOKAWA', '文藝春秋', '集英社'], dtype=object)"
      ]
     },
     "execution_count": 43,
     "metadata": {},
     "output_type": "execute_result"
    }
   ],
   "source": [
    "completion_date_unknown[(completion_date_unknown[\"author(s)\"] ==\"東野 圭吾\")|(completion_date_unknown[\"author(s)\"] ==\"藤崎 都\")|(completion_date_unknown[\"author(s)\"] ==\"日丸屋 秀和\")][\"publisher\"].unique()"
   ]
  },
  {
   "cell_type": "code",
   "execution_count": 44,
   "id": "9fa7f452",
   "metadata": {
    "execution": {
     "iopub.execute_input": "2022-06-07T19:01:43.721581Z",
     "iopub.status.busy": "2022-06-07T19:01:43.720971Z",
     "iopub.status.idle": "2022-06-07T19:01:43.871622Z",
     "shell.execute_reply": "2022-06-07T19:01:43.870554Z"
    },
    "papermill": {
     "duration": 0.185257,
     "end_time": "2022-06-07T19:01:43.874713",
     "exception": false,
     "start_time": "2022-06-07T19:01:43.689456",
     "status": "completed"
    },
    "tags": []
   },
   "outputs": [
    {
     "data": {
      "text/plain": [
       "<AxesSubplot:xlabel='type', ylabel='count'>"
      ]
     },
     "execution_count": 44,
     "metadata": {},
     "output_type": "execute_result"
    },
    {
     "data": {
      "image/png": "[encoded data removed]",
      "text/plain": [
       "<Figure size 432x288 with 1 Axes>"
      ]
     },
     "metadata": {},
     "output_type": "display_data"
    }
   ],
   "source": [
    "sns.countplot(x = \"type\", data = completion_date_unknown )"
   ]
  },
  {
   "cell_type": "code",
   "execution_count": 45,
   "id": "7973d38f",
   "metadata": {
    "execution": {
     "iopub.execute_input": "2022-06-07T19:01:43.939000Z",
     "iopub.status.busy": "2022-06-07T19:01:43.938066Z",
     "iopub.status.idle": "2022-06-07T19:01:43.997172Z",
     "shell.execute_reply": "2022-06-07T19:01:43.996250Z"
    },
    "papermill": {
     "duration": 0.092826,
     "end_time": "2022-06-07T19:01:43.999155",
     "exception": false,
     "start_time": "2022-06-07T19:01:43.906329",
     "status": "completed"
    },
    "tags": []
   },
   "outputs": [
    {
     "data": {
      "text/html": [
       "<div>                            <div id=\"372c13ef-3a79-48cd-b9dd-27c54f02e6ab\" class=\"plotly-graph-div\" style=\"height:525px; width:100%;\"></div>            <script type=\"text/javascript\">                require([\"plotly\"], function(Plotly) {                    window.PLOTLYENV=window.PLOTLYENV || {};                                    if (document.getElementById(\"372c13ef-3a79-48cd-b9dd-27c54f02e6ab\")) {                    Plotly.newPlot(                        \"372c13ef-3a79-48cd-b9dd-27c54f02e6ab\",                        [{\"alignmentgroup\":\"True\",\"bingroup\":\"x\",\"hovertemplate\":\"genre=%{x}<br>count=%{y}<extra></extra>\",\"legendgroup\":\"\",\"marker\":{\"color\":\"#636efa\",\"pattern\":{\"shape\":\"\"}},\"name\":\"\",\"offsetgroup\":\"\",\"orientation\":\"v\",\"showlegend\":false,\"x\":[\"science fiction\",\"Fantasy\",\"Mystery\",\"Mystery\",\"Mystery\",\"Mystery\",\"Romance\",\"Romance\",\"Romance\",\"Romance\",\"Humour/ Satire\",\"Humour/ Satire\",\"Fantasy\",\"Dystopian\",\"Humour/ Satire\",\"Romance\",\"Humour/ Satire\",\"Humour/ Satire\",\"Mystery\",\"Mystery\",\"Fantasy\",\"Mystery\",\"Humour/ Satire\",\"Mystery\",\"Romance\",\"Fantasy\",\"Romance\",\"Mystery\",\"Humour/ Satire\",\"Romance\",\"Romance\",\"Mystery\",\"Fantasy\",\"Mystery\",\"Romance\",\"Romance\",\"Humour/ Satire\",\"Fantasy\",\"Romance\",\"Fantasy\",\"Mystery\",\"Fantasy\",\"Mystery\",\"Literary Fiction\",\"Romance\",\"Mystery\",\"仕事小説\",\"Bildungsroman\",\"Humour/ Satire\",\"Mystery\",\"Romance\",\"Adventure\",\"Contemporary\"],\"xaxis\":\"x\",\"yaxis\":\"y\",\"type\":\"histogram\"}],                        {\"template\":{\"data\":{\"histogram2dcontour\":[{\"type\":\"histogram2dcontour\",\"colorbar\":{\"outlinewidth\":0,\"ticks\":\"\"},\"colorscale\":[[0.0,\"#0d0887\"],[0.1111111111111111,\"#46039f\"],[0.2222222222222222,\"#7201a8\"],[0.3333333333333333,\"#9c179e\"],[0.4444444444444444,\"#bd3786\"],[0.5555555555555556,\"#d8576b\"],[0.6666666666666666,\"#ed7953\"],[0.7777777777777778,\"#fb9f3a\"],[0.8888888888888888,\"#fdca26\"],[1.0,\"#f0f921\"]]}],\"choropleth\":[{\"type\":\"choropleth\",\"colorbar\":{\"outlinewidth\":0,\"ticks\":\"\"}}],\"histogram2d\":[{\"type\":\"histogram2d\",\"colorbar\":{\"outlinewidth\":0,\"ticks\":\"\"},\"colorscale\":[[0.0,\"#0d0887\"],[0.1111111111111111,\"#46039f\"],[0.2222222222222222,\"#7201a8\"],[0.3333333333333333,\"#9c179e\"],[0.4444444444444444,\"#bd3786\"],[0.5555555555555556,\"#d8576b\"],[0.6666666666666666,\"#ed7953\"],[0.7777777777777778,\"#fb9f3a\"],[0.8888888888888888,\"#fdca26\"],[1.0,\"#f0f921\"]]}],\"heatmap\":[{\"type\":\"heatmap\",\"colorbar\":{\"outlinewidth\":0,\"ticks\":\"\"},\"colorscale\":[[0.0,\"#0d0887\"],[0.1111111111111111,\"#46039f\"],[0.2222222222222222,\"#7201a8\"],[0.3333333333333333,\"#9c179e\"],[0.4444444444444444,\"#bd3786\"],[0.5555555555555556,\"#d8576b\"],[0.6666666666666666,\"#ed7953\"],[0.7777777777777778,\"#fb9f3a\"],[0.8888888888888888,\"#fdca26\"],[1.0,\"#f0f921\"]]}],\"heatmapgl\":[{\"type\":\"heatmapgl\",\"colorbar\":{\"outlinewidth\":0,\"ticks\":\"\"},\"colorscale\":[[0.0,\"#0d0887\"],[0.1111111111111111,\"#46039f\"],[0.2222222222222222,\"#7201a8\"],[0.3333333333333333,\"#9c179e\"],[0.4444444444444444,\"#bd3786\"],[0.5555555555555556,\"#d8576b\"],[0.6666666666666666,\"#ed7953\"],[0.7777777777777778,\"#fb9f3a\"],[0.8888888888888888,\"#fdca26\"],[1.0,\"#f0f921\"]]}],\"contourcarpet\":[{\"type\":\"contourcarpet\",\"colorbar\":{\"outlinewidth\":0,\"ticks\":\"\"}}],\"contour\":[{\"type\":\"contour\",\"colorbar\":{\"outlinewidth\":0,\"ticks\":\"\"},\"colorscale\":[[0.0,\"#0d0887\"],[0.1111111111111111,\"#46039f\"],[0.2222222222222222,\"#7201a8\"],[0.3333333333333333,\"#9c179e\"],[0.4444444444444444,\"#bd3786\"],[0.5555555555555556,\"#d8576b\"],[0.6666666666666666,\"#ed7953\"],[0.7777777777777778,\"#fb9f3a\"],[0.8888888888888888,\"#fdca26\"],[1.0,\"#f0f921\"]]}],\"surface\":[{\"type\":\"surface\",\"colorbar\":{\"outlinewidth\":0,\"ticks\":\"\"},\"colorscale\":[[0.0,\"#0d0887\"],[0.1111111111111111,\"#46039f\"],[0.2222222222222222,\"#7201a8\"],[0.3333333333333333,\"#9c179e\"],[0.4444444444444444,\"#bd3786\"],[0.5555555555555556,\"#d8576b\"],[0.6666666666666666,\"#ed7953\"],[0.7777777777777778,\"#fb9f3a\"],[0.8888888888888888,\"#fdca26\"],[1.0,\"#f0f921\"]]}],\"mesh3d\":[{\"type\":\"mesh3d\",\"colorbar\":{\"outlinewidth\":0,\"ticks\":\"\"}}],\"scatter\":[{\"fillpattern\":{\"fillmode\":\"overlay\",\"size\":10,\"solidity\":0.2},\"type\":\"scatter\"}],\"parcoords\":[{\"type\":\"parcoords\",\"line\":{\"colorbar\":{\"outlinewidth\":0,\"ticks\":\"\"}}}],\"scatterpolargl\":[{\"type\":\"scatterpolargl\",\"marker\":{\"colorbar\":{\"outlinewidth\":0,\"ticks\":\"\"}}}],\"bar\":[{\"error_x\":{\"color\":\"#2a3f5f\"},\"error_y\":{\"color\":\"#2a3f5f\"},\"marker\":{\"line\":{\"color\":\"#E5ECF6\",\"width\":0.5},\"pattern\":{\"fillmode\":\"overlay\",\"size\":10,\"solidity\":0.2}},\"type\":\"bar\"}],\"scattergeo\":[{\"type\":\"scattergeo\",\"marker\":{\"colorbar\":{\"outlinewidth\":0,\"ticks\":\"\"}}}],\"scatterpolar\":[{\"type\":\"scatterpolar\",\"marker\":{\"colorbar\":{\"outlinewidth\":0,\"ticks\":\"\"}}}],\"histogram\":[{\"marker\":{\"pattern\":{\"fillmode\":\"overlay\",\"size\":10,\"solidity\":0.2}},\"type\":\"histogram\"}],\"scattergl\":[{\"type\":\"scattergl\",\"marker\":{\"colorbar\":{\"outlinewidth\":0,\"ticks\":\"\"}}}],\"scatter3d\":[{\"type\":\"scatter3d\",\"line\":{\"colorbar\":{\"outlinewidth\":0,\"ticks\":\"\"}},\"marker\":{\"colorbar\":{\"outlinewidth\":0,\"ticks\":\"\"}}}],\"scattermapbox\":[{\"type\":\"scattermapbox\",\"marker\":{\"colorbar\":{\"outlinewidth\":0,\"ticks\":\"\"}}}],\"scatterternary\":[{\"type\":\"scatterternary\",\"marker\":{\"colorbar\":{\"outlinewidth\":0,\"ticks\":\"\"}}}],\"scattercarpet\":[{\"type\":\"scattercarpet\",\"marker\":{\"colorbar\":{\"outlinewidth\":0,\"ticks\":\"\"}}}],\"carpet\":[{\"aaxis\":{\"endlinecolor\":\"#2a3f5f\",\"gridcolor\":\"white\",\"linecolor\":\"white\",\"minorgridcolor\":\"white\",\"startlinecolor\":\"#2a3f5f\"},\"baxis\":{\"endlinecolor\":\"#2a3f5f\",\"gridcolor\":\"white\",\"linecolor\":\"white\",\"minorgridcolor\":\"white\",\"startlinecolor\":\"#2a3f5f\"},\"type\":\"carpet\"}],\"table\":[{\"cells\":{\"fill\":{\"color\":\"#EBF0F8\"},\"line\":{\"color\":\"white\"}},\"header\":{\"fill\":{\"color\":\"#C8D4E3\"},\"line\":{\"color\":\"white\"}},\"type\":\"table\"}],\"barpolar\":[{\"marker\":{\"line\":{\"color\":\"#E5ECF6\",\"width\":0.5},\"pattern\":{\"fillmode\":\"overlay\",\"size\":10,\"solidity\":0.2}},\"type\":\"barpolar\"}],\"pie\":[{\"automargin\":true,\"type\":\"pie\"}]},\"layout\":{\"autotypenumbers\":\"strict\",\"colorway\":[\"#636efa\",\"#EF553B\",\"#00cc96\",\"#ab63fa\",\"#FFA15A\",\"#19d3f3\",\"#FF6692\",\"#B6E880\",\"#FF97FF\",\"#FECB52\"],\"font\":{\"color\":\"#2a3f5f\"},\"hovermode\":\"closest\",\"hoverlabel\":{\"align\":\"left\"},\"paper_bgcolor\":\"white\",\"plot_bgcolor\":\"#E5ECF6\",\"polar\":{\"bgcolor\":\"#E5ECF6\",\"angularaxis\":{\"gridcolor\":\"white\",\"linecolor\":\"white\",\"ticks\":\"\"},\"radialaxis\":{\"gridcolor\":\"white\",\"linecolor\":\"white\",\"ticks\":\"\"}},\"ternary\":{\"bgcolor\":\"#E5ECF6\",\"aaxis\":{\"gridcolor\":\"white\",\"linecolor\":\"white\",\"ticks\":\"\"},\"baxis\":{\"gridcolor\":\"white\",\"linecolor\":\"white\",\"ticks\":\"\"},\"caxis\":{\"gridcolor\":\"white\",\"linecolor\":\"white\",\"ticks\":\"\"}},\"coloraxis\":{\"colorbar\":{\"outlinewidth\":0,\"ticks\":\"\"}},\"colorscale\":{\"sequential\":[[0.0,\"#0d0887\"],[0.1111111111111111,\"#46039f\"],[0.2222222222222222,\"#7201a8\"],[0.3333333333333333,\"#9c179e\"],[0.4444444444444444,\"#bd3786\"],[0.5555555555555556,\"#d8576b\"],[0.6666666666666666,\"#ed7953\"],[0.7777777777777778,\"#fb9f3a\"],[0.8888888888888888,\"#fdca26\"],[1.0,\"#f0f921\"]],\"sequentialminus\":[[0.0,\"#0d0887\"],[0.1111111111111111,\"#46039f\"],[0.2222222222222222,\"#7201a8\"],[0.3333333333333333,\"#9c179e\"],[0.4444444444444444,\"#bd3786\"],[0.5555555555555556,\"#d8576b\"],[0.6666666666666666,\"#ed7953\"],[0.7777777777777778,\"#fb9f3a\"],[0.8888888888888888,\"#fdca26\"],[1.0,\"#f0f921\"]],\"diverging\":[[0,\"#8e0152\"],[0.1,\"#c51b7d\"],[0.2,\"#de77ae\"],[0.3,\"#f1b6da\"],[0.4,\"#fde0ef\"],[0.5,\"#f7f7f7\"],[0.6,\"#e6f5d0\"],[0.7,\"#b8e186\"],[0.8,\"#7fbc41\"],[0.9,\"#4d9221\"],[1,\"#276419\"]]},\"xaxis\":{\"gridcolor\":\"white\",\"linecolor\":\"white\",\"ticks\":\"\",\"title\":{\"standoff\":15},\"zerolinecolor\":\"white\",\"automargin\":true,\"zerolinewidth\":2},\"yaxis\":{\"gridcolor\":\"white\",\"linecolor\":\"white\",\"ticks\":\"\",\"title\":{\"standoff\":15},\"zerolinecolor\":\"white\",\"automargin\":true,\"zerolinewidth\":2},\"scene\":{\"xaxis\":{\"backgroundcolor\":\"#E5ECF6\",\"gridcolor\":\"white\",\"linecolor\":\"white\",\"showbackground\":true,\"ticks\":\"\",\"zerolinecolor\":\"white\",\"gridwidth\":2},\"yaxis\":{\"backgroundcolor\":\"#E5ECF6\",\"gridcolor\":\"white\",\"linecolor\":\"white\",\"showbackground\":true,\"ticks\":\"\",\"zerolinecolor\":\"white\",\"gridwidth\":2},\"zaxis\":{\"backgroundcolor\":\"#E5ECF6\",\"gridcolor\":\"white\",\"linecolor\":\"white\",\"showbackground\":true,\"ticks\":\"\",\"zerolinecolor\":\"white\",\"gridwidth\":2}},\"shapedefaults\":{\"line\":{\"color\":\"#2a3f5f\"}},\"annotationdefaults\":{\"arrowcolor\":\"#2a3f5f\",\"arrowhead\":0,\"arrowwidth\":1},\"geo\":{\"bgcolor\":\"white\",\"landcolor\":\"#E5ECF6\",\"subunitcolor\":\"white\",\"showland\":true,\"showlakes\":true,\"lakecolor\":\"white\"},\"title\":{\"x\":0.05},\"mapbox\":{\"style\":\"light\"}}},\"xaxis\":{\"anchor\":\"y\",\"domain\":[0.0,1.0],\"title\":{\"text\":\"genre\"}},\"yaxis\":{\"anchor\":\"x\",\"domain\":[0.0,1.0],\"title\":{\"text\":\"count\"}},\"legend\":{\"tracegroupgap\":0},\"margin\":{\"t\":60},\"barmode\":\"relative\"},                        {\"responsive\": true}                    ).then(function(){\n",
       "                            \n",
       "var gd = document.getElementById('372c13ef-3a79-48cd-b9dd-27c54f02e6ab');\n",
       "var x = new MutationObserver(function (mutations, observer) {{\n",
       "        var display = window.getComputedStyle(gd).display;\n",
       "        if (!display || display === 'none') {{\n",
       "            console.log([gd, 'removed!']);\n",
       "            Plotly.purge(gd);\n",
       "            observer.disconnect();\n",
       "        }}\n",
       "}});\n",
       "\n",
       "// Listen for the removal of the full notebook cells\n",
       "var notebookContainer = gd.closest('#notebook-container');\n",
       "if (notebookContainer) {{\n",
       "    x.observe(notebookContainer, {childList: true});\n",
       "}}\n",
       "\n",
       "// Listen for the clearing of the current output cell\n",
       "var outputEl = gd.closest('.output');\n",
       "if (outputEl) {{\n",
       "    x.observe(outputEl, {childList: true});\n",
       "}}\n",
       "\n",
       "                        })                };                });            </script>        </div>"
      ]
     },
     "metadata": {},
     "output_type": "display_data"
    }
   ],
   "source": [
    "px.histogram( completion_date_unknown, x = \"genre\")"
   ]
  },
  {
   "cell_type": "code",
   "execution_count": 46,
   "id": "352f73c7",
   "metadata": {
    "execution": {
     "iopub.execute_input": "2022-06-07T19:01:44.063553Z",
     "iopub.status.busy": "2022-06-07T19:01:44.062601Z",
     "iopub.status.idle": "2022-06-07T19:01:44.405237Z",
     "shell.execute_reply": "2022-06-07T19:01:44.404305Z"
    },
    "papermill": {
     "duration": 0.377254,
     "end_time": "2022-06-07T19:01:44.407330",
     "exception": false,
     "start_time": "2022-06-07T19:01:44.030076",
     "status": "completed"
    },
    "tags": []
   },
   "outputs": [
    {
     "data": {
      "text/plain": [
       "<AxesSubplot:xlabel='publication_year', ylabel='count'>"
      ]
     },
     "execution_count": 46,
     "metadata": {},
     "output_type": "execute_result"
    },
    {
     "data": {
      "image/png": "[encoded data removed]",
      "text/plain": [
       "<Figure size 1080x720 with 1 Axes>"
      ]
     },
     "metadata": {},
     "output_type": "display_data"
    }
   ],
   "source": [
    "plt.figure(figsize = (15,10))\n",
    "sns.countplot(x = \"publication_year\", data = completion_date_unknown )"
   ]
  },
  {
   "cell_type": "code",
   "execution_count": 47,
   "id": "5e50c924",
   "metadata": {
    "execution": {
     "iopub.execute_input": "2022-06-07T19:01:44.472863Z",
     "iopub.status.busy": "2022-06-07T19:01:44.472259Z",
     "iopub.status.idle": "2022-06-07T19:01:44.639420Z",
     "shell.execute_reply": "2022-06-07T19:01:44.638477Z"
    },
    "papermill": {
     "duration": 0.202155,
     "end_time": "2022-06-07T19:01:44.641470",
     "exception": false,
     "start_time": "2022-06-07T19:01:44.439315",
     "status": "completed"
    },
    "tags": []
   },
   "outputs": [
    {
     "data": {
      "text/plain": [
       "<AxesSubplot:xlabel='review', ylabel='count'>"
      ]
     },
     "execution_count": 47,
     "metadata": {},
     "output_type": "execute_result"
    },
    {
     "data": {
      "image/png": "[encoded data removed]",
      "text/plain": [
       "<Figure size 432x288 with 1 Axes>"
      ]
     },
     "metadata": {},
     "output_type": "display_data"
    }
   ],
   "source": [
    "sns.countplot(x = \"review\", data = completion_date_unknown,)"
   ]
  },
  {
   "cell_type": "code",
   "execution_count": 48,
   "id": "24e4f675",
   "metadata": {
    "execution": {
     "iopub.execute_input": "2022-06-07T19:01:44.707792Z",
     "iopub.status.busy": "2022-06-07T19:01:44.707143Z",
     "iopub.status.idle": "2022-06-07T19:01:44.714974Z",
     "shell.execute_reply": "2022-06-07T19:01:44.713990Z"
    },
    "papermill": {
     "duration": 0.043523,
     "end_time": "2022-06-07T19:01:44.716745",
     "exception": false,
     "start_time": "2022-06-07T19:01:44.673222",
     "status": "completed"
    },
    "tags": []
   },
   "outputs": [
    {
     "data": {
      "text/plain": [
       "64.15094339622642"
      ]
     },
     "execution_count": 48,
     "metadata": {},
     "output_type": "execute_result"
    }
   ],
   "source": [
    "(1-completion_date_unknown[\"rating\"].isnull().sum()/completion_date_unknown.shape[0])*100"
   ]
  },
  {
   "cell_type": "code",
   "execution_count": 49,
   "id": "0a57f66d",
   "metadata": {
    "execution": {
     "iopub.execute_input": "2022-06-07T19:01:44.782459Z",
     "iopub.status.busy": "2022-06-07T19:01:44.781836Z",
     "iopub.status.idle": "2022-06-07T19:01:45.172018Z",
     "shell.execute_reply": "2022-06-07T19:01:45.171153Z"
    },
    "papermill": {
     "duration": 0.425653,
     "end_time": "2022-06-07T19:01:45.174247",
     "exception": false,
     "start_time": "2022-06-07T19:01:44.748594",
     "status": "completed"
    },
    "tags": []
   },
   "outputs": [
    {
     "data": {
      "text/plain": [
       "<seaborn.axisgrid.FacetGrid at 0x7fd56fb38ad0>"
      ]
     },
     "execution_count": 49,
     "metadata": {},
     "output_type": "execute_result"
    },
    {
     "data": {
      "image/png": "[encoded data removed]",
      "text/plain": [
       "<Figure size 360x360 with 1 Axes>"
      ]
     },
     "metadata": {},
     "output_type": "display_data"
    }
   ],
   "source": [
    "sns.displot(x = \"rating\", data = completion_date_unknown, kind= \"kde\")"
   ]
  },
  {
   "cell_type": "code",
   "execution_count": 50,
   "id": "628a272a",
   "metadata": {
    "execution": {
     "iopub.execute_input": "2022-06-07T19:01:45.241898Z",
     "iopub.status.busy": "2022-06-07T19:01:45.240919Z",
     "iopub.status.idle": "2022-06-07T19:01:45.247996Z",
     "shell.execute_reply": "2022-06-07T19:01:45.247080Z"
    },
    "papermill": {
     "duration": 0.042963,
     "end_time": "2022-06-07T19:01:45.250005",
     "exception": false,
     "start_time": "2022-06-07T19:01:45.207042",
     "status": "completed"
    },
    "tags": []
   },
   "outputs": [
    {
     "data": {
      "text/plain": [
       "5.0"
      ]
     },
     "execution_count": 50,
     "metadata": {},
     "output_type": "execute_result"
    }
   ],
   "source": [
    "completion_date_unknown[\"rating\"].max()"
   ]
  },
  {
   "cell_type": "markdown",
   "id": "dc9c9a2c",
   "metadata": {
    "papermill": {
     "duration": 0.035617,
     "end_time": "2022-06-07T19:01:45.319099",
     "exception": false,
     "start_time": "2022-06-07T19:01:45.283482",
     "status": "completed"
    },
    "tags": []
   },
   "source": [
    "# completion books"
   ]
  },
  {
   "cell_type": "code",
   "execution_count": 51,
   "id": "0b7f63af",
   "metadata": {
    "execution": {
     "iopub.execute_input": "2022-06-07T19:01:45.386657Z",
     "iopub.status.busy": "2022-06-07T19:01:45.386060Z",
     "iopub.status.idle": "2022-06-07T19:01:45.392256Z",
     "shell.execute_reply": "2022-06-07T19:01:45.391573Z"
    },
    "papermill": {
     "duration": 0.041673,
     "end_time": "2022-06-07T19:01:45.394117",
     "exception": false,
     "start_time": "2022-06-07T19:01:45.352444",
     "status": "completed"
    },
    "tags": []
   },
   "outputs": [],
   "source": [
    "Completed = Completed.dropna(subset = [\"completion date\"])"
   ]
  },
  {
   "cell_type": "code",
   "execution_count": 52,
   "id": "589c56e2",
   "metadata": {
    "execution": {
     "iopub.execute_input": "2022-06-07T19:01:45.461573Z",
     "iopub.status.busy": "2022-06-07T19:01:45.460936Z",
     "iopub.status.idle": "2022-06-07T19:01:45.548226Z",
     "shell.execute_reply": "2022-06-07T19:01:45.547257Z"
    },
    "papermill": {
     "duration": 0.123362,
     "end_time": "2022-06-07T19:01:45.550313",
     "exception": false,
     "start_time": "2022-06-07T19:01:45.426951",
     "status": "completed"
    },
    "tags": []
   },
   "outputs": [
    {
     "data": {
      "text/html": [
       "<div>                            <div id=\"cd9d8482-4bec-44dd-b9c7-64c181452cf2\" class=\"plotly-graph-div\" style=\"height:525px; width:100%;\"></div>            <script type=\"text/javascript\">                require([\"plotly\"], function(Plotly) {                    window.PLOTLYENV=window.PLOTLYENV || {};                                    if (document.getElementById(\"cd9d8482-4bec-44dd-b9c7-64c181452cf2\")) {                    Plotly.newPlot(                        \"cd9d8482-4bec-44dd-b9c7-64c181452cf2\",                        [{\"alignmentgroup\":\"True\",\"hovertemplate\":\"completion date=%{x}<br>pages=%{y}<extra></extra>\",\"legendgroup\":\"\",\"marker\":{\"color\":\"#636efa\",\"pattern\":{\"shape\":\"\"}},\"name\":\"\",\"offsetgroup\":\"\",\"orientation\":\"v\",\"showlegend\":false,\"textposition\":\"auto\",\"x\":[\"2020-12-05T00:00:00\",\"2020-06-24T00:00:00\",\"2019-02-28T00:00:00\",\"2018-02-15T00:00:00\",\"2020-11-01T00:00:00\",\"2020-07-17T00:00:00\",\"2020-10-26T00:00:00\",\"2017-05-10T00:00:00\",\"2020-08-06T00:00:00\",\"2017-03-17T00:00:00\",\"2018-06-14T00:00:00\",\"2017-09-12T00:00:00\",\"2020-10-24T00:00:00\",\"2018-09-01T00:00:00\",\"2018-09-06T00:00:00\",\"2019-07-20T00:00:00\",\"2017-04-18T00:00:00\",\"2017-06-28T00:00:00\",\"2020-04-26T00:00:00\",\"2017-07-21T00:00:00\",\"2019-03-10T00:00:00\",\"2019-01-03T00:00:00\",\"2017-06-13T00:00:00\",\"2017-03-25T00:00:00\",\"2017-05-28T00:00:00\",\"2020-01-18T00:00:00\",\"2020-10-06T00:00:00\",\"2019-09-13T00:00:00\",\"2020-10-04T00:00:00\",\"2018-01-09T00:00:00\",\"2017-04-06T00:00:00\",\"2018-05-17T00:00:00\",\"2017-05-23T00:00:00\",\"2017-02-22T00:00:00\",\"2020-11-18T00:00:00\",\"2019-04-18T00:00:00\",\"2019-03-25T00:00:00\",\"2017-03-05T00:00:00\",\"2017-06-02T00:00:00\",\"2020-08-17T00:00:00\",\"2017-08-31T00:00:00\",\"2018-07-10T00:00:00\",\"2022-04-08T00:00:00\",\"2020-12-13T00:00:00\",\"2017-10-04T00:00:00\",\"2021-10-06T00:00:00\",\"2018-06-25T00:00:00\",\"2021-01-11T00:00:00\",\"2018-01-19T00:00:00\",\"2020-06-21T00:00:00\",\"2018-03-09T00:00:00\",\"2020-10-16T00:00:00\",\"2019-01-10T00:00:00\",\"2020-06-06T00:00:00\",\"2018-09-10T00:00:00\",\"2020-07-10T00:00:00\",\"2020-01-08T00:00:00\",\"2019-01-15T00:00:00\",\"2021-07-02T00:00:00\",\"2020-11-09T00:00:00\",\"2019-10-03T00:00:00\",\"2020-11-17T00:00:00\",\"2020-11-14T00:00:00\",\"2017-08-26T00:00:00\",\"2020-12-31T00:00:00\",\"2017-10-24T00:00:00\",\"2020-12-28T00:00:00\",\"2020-12-30T00:00:00\",\"2017-02-28T00:00:00\",\"2020-10-27T00:00:00\",\"2018-03-12T00:00:00\",\"2020-03-11T00:00:00\",\"2017-03-20T00:00:00\",\"2017-09-25T00:00:00\",\"2020-11-06T00:00:00\",\"2020-07-19T00:00:00\",\"2019-02-08T00:00:00\",\"2021-03-31T00:00:00\",\"2020-11-24T00:00:00\",\"2018-04-30T00:00:00\",\"2018-03-24T00:00:00\",\"2020-12-22T00:00:00\",\"2021-05-31T00:00:00\",\"2017-07-07T00:00:00\",\"2018-08-30T00:00:00\",\"2017-06-28T00:00:00\",\"2018-01-31T00:00:00\",\"2020-12-03T00:00:00\",\"2018-03-17T00:00:00\",\"2017-06-08T00:00:00\",\"2019-06-27T00:00:00\",\"2018-12-22T00:00:00\",\"2018-04-25T00:00:00\",\"2019-06-16T00:00:00\",\"2018-05-25T00:00:00\",\"2022-04-10T00:00:00\",\"2021-12-07T00:00:00\",\"2017-06-28T00:00:00\",\"2022-02-20T00:00:00\",\"2018-02-21T00:00:00\",\"2018-04-27T00:00:00\",\"2019-01-29T00:00:00\",\"2018-12-21T00:00:00\",\"2017-02-14T00:00:00\",\"2018-01-20T00:00:00\",\"2022-04-26T00:00:00\",\"2019-06-11T00:00:00\",\"2017-02-12T00:00:00\",\"2016-12-17T00:00:00\",\"2019-01-31T00:00:00\",\"2017-02-17T00:00:00\",\"2020-11-07T00:00:00\",\"2017-03-15T00:00:00\",\"2020-02-04T00:00:00\",\"2021-01-25T00:00:00\",\"2020-10-12T00:00:00\",\"2017-01-10T00:00:00\",\"2019-12-24T00:00:00\",\"2021-09-13T00:00:00\",\"2017-07-13T00:00:00\",\"2017-05-18T00:00:00\",\"2018-01-05T00:00:00\",\"2017-12-10T00:00:00\",\"2019-03-19T00:00:00\",\"2017-02-17T00:00:00\",\"2022-02-20T00:00:00\",\"2019-09-13T00:00:00\",\"2019-01-26T00:00:00\",\"2019-12-14T00:00:00\",\"2019-02-04T00:00:00\",\"2017-03-08T00:00:00\",\"2018-06-03T00:00:00\",\"2018-06-06T00:00:00\",\"2018-10-04T00:00:00\",\"2018-08-11T00:00:00\",\"2018-02-05T00:00:00\",\"2021-08-20T00:00:00\",\"2020-01-22T00:00:00\",\"2017-10-16T00:00:00\",\"2018-03-30T00:00:00\",\"2020-08-06T00:00:00\",\"2017-09-28T00:00:00\",\"2018-04-15T00:00:00\",\"2018-04-07T00:00:00\",\"2017-06-20T00:00:00\",\"2019-05-25T00:00:00\",\"2022-04-01T00:00:00\",\"2021-12-12T00:00:00\",\"2018-05-09T00:00:00\",\"2021-10-16T00:00:00\",\"2018-11-01T00:00:00\",\"2020-09-26T00:00:00\",\"2020-09-04T00:00:00\",\"2017-02-25T00:00:00\",\"2019-11-07T00:00:00\",\"2019-06-19T00:00:00\",\"2019-05-21T00:00:00\",\"2019-04-11T00:00:00\",\"2019-12-09T00:00:00\",\"2017-10-08T00:00:00\",\"2019-05-17T00:00:00\",\"2018-04-17T00:00:00\",\"2021-05-30T00:00:00\",\"2021-01-17T00:00:00\",\"2020-05-31T00:00:00\",\"2020-11-29T00:00:00\",\"2017-03-31T00:00:00\",\"2020-04-27T00:00:00\",\"2019-08-28T00:00:00\",\"2017-02-07T00:00:00\",\"2021-11-30T00:00:00\",\"2018-01-01T00:00:00\",\"2020-10-10T00:00:00\",\"2021-06-28T00:00:00\",\"2021-05-31T00:00:00\",\"2018-03-31T00:00:00\",\"2020-12-10T00:00:00\",\"2022-04-22T00:00:00\",\"2017-01-20T00:00:00\",\"2021-08-23T00:00:00\",\"2019-07-03T00:00:00\",\"2017-02-25T00:00:00\",\"2019-08-11T00:00:00\",\"2019-07-23T00:00:00\",\"2017-04-27T00:00:00\",\"2020-10-11T00:00:00\",\"2018-02-25T00:00:00\",\"2017-02-08T00:00:00\",\"2019-03-04T00:00:00\",\"2017-03-09T00:00:00\",\"2018-04-05T00:00:00\",\"2020-12-23T00:00:00\",\"2021-12-21T00:00:00\",\"2018-04-02T00:00:00\",\"2017-08-23T00:00:00\",\"2018-02-07T00:00:00\",\"2017-11-25T00:00:00\",\"2020-05-31T00:00:00\",\"2017-01-03T00:00:00\",\"2019-03-08T00:00:00\",\"2019-01-23T00:00:00\",\"2018-01-27T00:00:00\",\"2020-09-27T00:00:00\",\"2018-05-28T00:00:00\",\"2018-02-16T00:00:00\",\"2021-05-23T00:00:00\",\"2018-12-25T00:00:00\",\"2018-09-24T00:00:00\",\"2017-02-17T00:00:00\",\"2019-03-27T00:00:00\",\"2022-04-30T00:00:00\",\"2020-01-10T00:00:00\",\"2018-01-31T00:00:00\",\"2018-09-08T00:00:00\",\"2017-05-31T00:00:00\",\"2022-01-06T00:00:00\",\"2021-07-12T00:00:00\",\"2020-12-24T00:00:00\",\"2017-09-21T00:00:00\",\"2018-05-11T00:00:00\",\"2017-03-11T00:00:00\",\"2017-11-13T00:00:00\",\"2018-06-09T00:00:00\",\"2020-10-09T00:00:00\",\"2019-03-14T00:00:00\",\"2018-02-03T00:00:00\",\"2018-10-12T00:00:00\",\"2018-12-29T00:00:00\",\"2018-01-23T00:00:00\",\"2018-01-16T00:00:00\",\"2017-09-05T00:00:00\",\"2019-01-05T00:00:00\",\"2022-01-17T00:00:00\",\"2020-06-27T00:00:00\",\"2019-05-29T00:00:00\",\"2017-12-12T00:00:00\",\"2019-07-31T00:00:00\",\"2020-05-07T00:00:00\",\"2020-12-26T00:00:00\",\"2020-11-12T00:00:00\",\"2017-10-10T00:00:00\",\"2021-10-16T00:00:00\",\"2021-06-08T00:00:00\",\"2020-10-29T00:00:00\",\"2018-12-03T00:00:00\",\"2017-11-29T00:00:00\",\"2019-06-23T00:00:00\",\"2019-01-08T00:00:00\",\"2019-12-31T00:00:00\",\"2020-11-26T00:00:00\",\"2021-07-01T00:00:00\",\"2018-04-22T00:00:00\",\"2020-01-12T00:00:00\",\"2020-09-21T00:00:00\",\"2019-12-16T00:00:00\",\"2018-12-10T00:00:00\",\"2018-05-19T00:00:00\",\"2021-11-13T00:00:00\",\"2021-02-06T00:00:00\",\"2021-09-26T00:00:00\",\"2020-12-08T00:00:00\",\"2018-04-12T00:00:00\",\"2018-03-08T00:00:00\",\"2021-09-13T00:00:00\",\"2021-11-03T00:00:00\",\"2021-05-04T00:00:00\",\"2019-02-18T00:00:00\",\"2017-11-06T00:00:00\",\"2020-01-26T00:00:00\",\"2021-09-25T00:00:00\",\"2019-02-02T00:00:00\",\"2020-01-05T00:00:00\",\"2019-04-04T00:00:00\",\"2022-01-06T00:00:00\",\"2019-07-19T00:00:00\",\"2021-05-11T00:00:00\",\"2020-10-17T00:00:00\",\"2019-12-10T00:00:00\",\"2020-02-09T00:00:00\",\"2022-04-29T00:00:00\",\"2021-04-06T00:00:00\",\"2018-03-22T00:00:00\",\"2021-05-25T00:00:00\",\"2020-08-22T00:00:00\",\"2020-05-03T00:00:00\",\"2021-03-02T00:00:00\",\"2020-08-30T00:00:00\",\"2021-08-14T00:00:00\",\"2020-08-25T00:00:00\",\"2019-06-23T00:00:00\",\"2021-06-06T00:00:00\",\"2021-09-01T00:00:00\",\"2021-07-15T00:00:00\",\"2022-03-11T00:00:00\",\"2021-06-02T00:00:00\",\"2021-06-01T00:00:00\",\"2020-10-03T00:00:00\",\"2020-02-18T00:00:00\",\"2020-10-02T00:00:00\",\"2021-08-14T00:00:00\",\"2021-12-25T00:00:00\",\"2021-08-25T00:00:00\",\"2018-12-30T00:00:00\",\"2017-08-08T00:00:00\",\"2018-03-02T00:00:00\",\"2019-02-16T00:00:00\",\"2022-04-13T00:00:00\",\"2021-04-23T00:00:00\",\"2021-03-21T00:00:00\",\"2021-05-11T00:00:00\",\"2022-03-22T00:00:00\",\"2018-01-26T00:00:00\",\"2021-05-06T00:00:00\",\"2021-07-05T00:00:00\",\"2022-04-18T00:00:00\",\"2021-01-03T00:00:00\",\"2021-06-29T00:00:00\",\"2021-12-31T00:00:00\",\"2022-01-05T00:00:00\",\"2022-04-17T00:00:00\",\"2021-09-10T00:00:00\",\"2021-11-03T00:00:00\",\"2022-01-10T00:00:00\",\"2019-04-30T00:00:00\",\"2021-04-27T00:00:00\",\"2018-09-19T00:00:00\",\"2022-04-29T00:00:00\",\"2020-02-19T00:00:00\"],\"xaxis\":\"x\",\"y\":[368,339,261,371,563,318,592,272,252,328,329,256,528,181,176,224,224,31,528,160,528,416,330,304,272,337,270,464,201,347,244,360,228,304,190,253,190,288,282,394,288,336,336,272,266,336,456,455,273,736,304,477,288,320,256,784,368,288,345,288,392,499,256,435,256,256,304,160,320,328,224,382,222,320,672,256,438,272,800,192,327,768,192,275,204,357,416,368,512,415,408,288,338,326,320,368,368,128,72,342,280,256,416,153,128,288,448,166,271,232,166,432,125,480,272,512,248,496,218,336,256,336,352,256,158,448,240,736,286,232,278,292,275,381,260,327,436,365,274,496,353,353,384,320,338,256,365,365,912,328,440,736,287,287,640,480,384,352,272,229,413,344,259,256,400,347,384,368,512,127,384,243,252,320,256,608,319,288,256,370,320,173,380,496,296,224,349,409,274,127,338,344,432,256,512,368,400,672,262,256,496,240,304,304,352,608,448,368,256,672,304,304,192,512,127,302,304,288,354,324,338,370,299,394,338,354,336,176,328,416,560,528,176,368,224,400,367,480,288,320,127,385,320,156,428,464,256,256,512,256,560,560,336,432,400,400,127,150,352,299,320,421,416,288,127,272,544,544,272,320,496,110,320,320,373,288,368,240,752,352,352,528,211,432,304,320,224,400,240,288,192,208,416,192,448,288,464,432,368,244,336,288,736,432,656,480,272,208,290,304,416,352,368,608,512,400,352,336,384,288,304,244,322,400,528,304,272,160],\"yaxis\":\"y\",\"type\":\"bar\"}],                        {\"template\":{\"data\":{\"histogram2dcontour\":[{\"type\":\"histogram2dcontour\",\"colorbar\":{\"outlinewidth\":0,\"ticks\":\"\"},\"colorscale\":[[0.0,\"#0d0887\"],[0.1111111111111111,\"#46039f\"],[0.2222222222222222,\"#7201a8\"],[0.3333333333333333,\"#9c179e\"],[0.4444444444444444,\"#bd3786\"],[0.5555555555555556,\"#d8576b\"],[0.6666666666666666,\"#ed7953\"],[0.7777777777777778,\"#fb9f3a\"],[0.8888888888888888,\"#fdca26\"],[1.0,\"#f0f921\"]]}],\"choropleth\":[{\"type\":\"choropleth\",\"colorbar\":{\"outlinewidth\":0,\"ticks\":\"\"}}],\"histogram2d\":[{\"type\":\"histogram2d\",\"colorbar\":{\"outlinewidth\":0,\"ticks\":\"\"},\"colorscale\":[[0.0,\"#0d0887\"],[0.1111111111111111,\"#46039f\"],[0.2222222222222222,\"#7201a8\"],[0.3333333333333333,\"#9c179e\"],[0.4444444444444444,\"#bd3786\"],[0.5555555555555556,\"#d8576b\"],[0.6666666666666666,\"#ed7953\"],[0.7777777777777778,\"#fb9f3a\"],[0.8888888888888888,\"#fdca26\"],[1.0,\"#f0f921\"]]}],\"heatmap\":[{\"type\":\"heatmap\",\"colorbar\":{\"outlinewidth\":0,\"ticks\":\"\"},\"colorscale\":[[0.0,\"#0d0887\"],[0.1111111111111111,\"#46039f\"],[0.2222222222222222,\"#7201a8\"],[0.3333333333333333,\"#9c179e\"],[0.4444444444444444,\"#bd3786\"],[0.5555555555555556,\"#d8576b\"],[0.6666666666666666,\"#ed7953\"],[0.7777777777777778,\"#fb9f3a\"],[0.8888888888888888,\"#fdca26\"],[1.0,\"#f0f921\"]]}],\"heatmapgl\":[{\"type\":\"heatmapgl\",\"colorbar\":{\"outlinewidth\":0,\"ticks\":\"\"},\"colorscale\":[[0.0,\"#0d0887\"],[0.1111111111111111,\"#46039f\"],[0.2222222222222222,\"#7201a8\"],[0.3333333333333333,\"#9c179e\"],[0.4444444444444444,\"#bd3786\"],[0.5555555555555556,\"#d8576b\"],[0.6666666666666666,\"#ed7953\"],[0.7777777777777778,\"#fb9f3a\"],[0.8888888888888888,\"#fdca26\"],[1.0,\"#f0f921\"]]}],\"contourcarpet\":[{\"type\":\"contourcarpet\",\"colorbar\":{\"outlinewidth\":0,\"ticks\":\"\"}}],\"contour\":[{\"type\":\"contour\",\"colorbar\":{\"outlinewidth\":0,\"ticks\":\"\"},\"colorscale\":[[0.0,\"#0d0887\"],[0.1111111111111111,\"#46039f\"],[0.2222222222222222,\"#7201a8\"],[0.3333333333333333,\"#9c179e\"],[0.4444444444444444,\"#bd3786\"],[0.5555555555555556,\"#d8576b\"],[0.6666666666666666,\"#ed7953\"],[0.7777777777777778,\"#fb9f3a\"],[0.8888888888888888,\"#fdca26\"],[1.0,\"#f0f921\"]]}],\"surface\":[{\"type\":\"surface\",\"colorbar\":{\"outlinewidth\":0,\"ticks\":\"\"},\"colorscale\":[[0.0,\"#0d0887\"],[0.1111111111111111,\"#46039f\"],[0.2222222222222222,\"#7201a8\"],[0.3333333333333333,\"#9c179e\"],[0.4444444444444444,\"#bd3786\"],[0.5555555555555556,\"#d8576b\"],[0.6666666666666666,\"#ed7953\"],[0.7777777777777778,\"#fb9f3a\"],[0.8888888888888888,\"#fdca26\"],[1.0,\"#f0f921\"]]}],\"mesh3d\":[{\"type\":\"mesh3d\",\"colorbar\":{\"outlinewidth\":0,\"ticks\":\"\"}}],\"scatter\":[{\"fillpattern\":{\"fillmode\":\"overlay\",\"size\":10,\"solidity\":0.2},\"type\":\"scatter\"}],\"parcoords\":[{\"type\":\"parcoords\",\"line\":{\"colorbar\":{\"outlinewidth\":0,\"ticks\":\"\"}}}],\"scatterpolargl\":[{\"type\":\"scatterpolargl\",\"marker\":{\"colorbar\":{\"outlinewidth\":0,\"ticks\":\"\"}}}],\"bar\":[{\"error_x\":{\"color\":\"#2a3f5f\"},\"error_y\":{\"color\":\"#2a3f5f\"},\"marker\":{\"line\":{\"color\":\"#E5ECF6\",\"width\":0.5},\"pattern\":{\"fillmode\":\"overlay\",\"size\":10,\"solidity\":0.2}},\"type\":\"bar\"}],\"scattergeo\":[{\"type\":\"scattergeo\",\"marker\":{\"colorbar\":{\"outlinewidth\":0,\"ticks\":\"\"}}}],\"scatterpolar\":[{\"type\":\"scatterpolar\",\"marker\":{\"colorbar\":{\"outlinewidth\":0,\"ticks\":\"\"}}}],\"histogram\":[{\"marker\":{\"pattern\":{\"fillmode\":\"overlay\",\"size\":10,\"solidity\":0.2}},\"type\":\"histogram\"}],\"scattergl\":[{\"type\":\"scattergl\",\"marker\":{\"colorbar\":{\"outlinewidth\":0,\"ticks\":\"\"}}}],\"scatter3d\":[{\"type\":\"scatter3d\",\"line\":{\"colorbar\":{\"outlinewidth\":0,\"ticks\":\"\"}},\"marker\":{\"colorbar\":{\"outlinewidth\":0,\"ticks\":\"\"}}}],\"scattermapbox\":[{\"type\":\"scattermapbox\",\"marker\":{\"colorbar\":{\"outlinewidth\":0,\"ticks\":\"\"}}}],\"scatterternary\":[{\"type\":\"scatterternary\",\"marker\":{\"colorbar\":{\"outlinewidth\":0,\"ticks\":\"\"}}}],\"scattercarpet\":[{\"type\":\"scattercarpet\",\"marker\":{\"colorbar\":{\"outlinewidth\":0,\"ticks\":\"\"}}}],\"carpet\":[{\"aaxis\":{\"endlinecolor\":\"#2a3f5f\",\"gridcolor\":\"white\",\"linecolor\":\"white\",\"minorgridcolor\":\"white\",\"startlinecolor\":\"#2a3f5f\"},\"baxis\":{\"endlinecolor\":\"#2a3f5f\",\"gridcolor\":\"white\",\"linecolor\":\"white\",\"minorgridcolor\":\"white\",\"startlinecolor\":\"#2a3f5f\"},\"type\":\"carpet\"}],\"table\":[{\"cells\":{\"fill\":{\"color\":\"#EBF0F8\"},\"line\":{\"color\":\"white\"}},\"header\":{\"fill\":{\"color\":\"#C8D4E3\"},\"line\":{\"color\":\"white\"}},\"type\":\"table\"}],\"barpolar\":[{\"marker\":{\"line\":{\"color\":\"#E5ECF6\",\"width\":0.5},\"pattern\":{\"fillmode\":\"overlay\",\"size\":10,\"solidity\":0.2}},\"type\":\"barpolar\"}],\"pie\":[{\"automargin\":true,\"type\":\"pie\"}]},\"layout\":{\"autotypenumbers\":\"strict\",\"colorway\":[\"#636efa\",\"#EF553B\",\"#00cc96\",\"#ab63fa\",\"#FFA15A\",\"#19d3f3\",\"#FF6692\",\"#B6E880\",\"#FF97FF\",\"#FECB52\"],\"font\":{\"color\":\"#2a3f5f\"},\"hovermode\":\"closest\",\"hoverlabel\":{\"align\":\"left\"},\"paper_bgcolor\":\"white\",\"plot_bgcolor\":\"#E5ECF6\",\"polar\":{\"bgcolor\":\"#E5ECF6\",\"angularaxis\":{\"gridcolor\":\"white\",\"linecolor\":\"white\",\"ticks\":\"\"},\"radialaxis\":{\"gridcolor\":\"white\",\"linecolor\":\"white\",\"ticks\":\"\"}},\"ternary\":{\"bgcolor\":\"#E5ECF6\",\"aaxis\":{\"gridcolor\":\"white\",\"linecolor\":\"white\",\"ticks\":\"\"},\"baxis\":{\"gridcolor\":\"white\",\"linecolor\":\"white\",\"ticks\":\"\"},\"caxis\":{\"gridcolor\":\"white\",\"linecolor\":\"white\",\"ticks\":\"\"}},\"coloraxis\":{\"colorbar\":{\"outlinewidth\":0,\"ticks\":\"\"}},\"colorscale\":{\"sequential\":[[0.0,\"#0d0887\"],[0.1111111111111111,\"#46039f\"],[0.2222222222222222,\"#7201a8\"],[0.3333333333333333,\"#9c179e\"],[0.4444444444444444,\"#bd3786\"],[0.5555555555555556,\"#d8576b\"],[0.6666666666666666,\"#ed7953\"],[0.7777777777777778,\"#fb9f3a\"],[0.8888888888888888,\"#fdca26\"],[1.0,\"#f0f921\"]],\"sequentialminus\":[[0.0,\"#0d0887\"],[0.1111111111111111,\"#46039f\"],[0.2222222222222222,\"#7201a8\"],[0.3333333333333333,\"#9c179e\"],[0.4444444444444444,\"#bd3786\"],[0.5555555555555556,\"#d8576b\"],[0.6666666666666666,\"#ed7953\"],[0.7777777777777778,\"#fb9f3a\"],[0.8888888888888888,\"#fdca26\"],[1.0,\"#f0f921\"]],\"diverging\":[[0,\"#8e0152\"],[0.1,\"#c51b7d\"],[0.2,\"#de77ae\"],[0.3,\"#f1b6da\"],[0.4,\"#fde0ef\"],[0.5,\"#f7f7f7\"],[0.6,\"#e6f5d0\"],[0.7,\"#b8e186\"],[0.8,\"#7fbc41\"],[0.9,\"#4d9221\"],[1,\"#276419\"]]},\"xaxis\":{\"gridcolor\":\"white\",\"linecolor\":\"white\",\"ticks\":\"\",\"title\":{\"standoff\":15},\"zerolinecolor\":\"white\",\"automargin\":true,\"zerolinewidth\":2},\"yaxis\":{\"gridcolor\":\"white\",\"linecolor\":\"white\",\"ticks\":\"\",\"title\":{\"standoff\":15},\"zerolinecolor\":\"white\",\"automargin\":true,\"zerolinewidth\":2},\"scene\":{\"xaxis\":{\"backgroundcolor\":\"#E5ECF6\",\"gridcolor\":\"white\",\"linecolor\":\"white\",\"showbackground\":true,\"ticks\":\"\",\"zerolinecolor\":\"white\",\"gridwidth\":2},\"yaxis\":{\"backgroundcolor\":\"#E5ECF6\",\"gridcolor\":\"white\",\"linecolor\":\"white\",\"showbackground\":true,\"ticks\":\"\",\"zerolinecolor\":\"white\",\"gridwidth\":2},\"zaxis\":{\"backgroundcolor\":\"#E5ECF6\",\"gridcolor\":\"white\",\"linecolor\":\"white\",\"showbackground\":true,\"ticks\":\"\",\"zerolinecolor\":\"white\",\"gridwidth\":2}},\"shapedefaults\":{\"line\":{\"color\":\"#2a3f5f\"}},\"annotationdefaults\":{\"arrowcolor\":\"#2a3f5f\",\"arrowhead\":0,\"arrowwidth\":1},\"geo\":{\"bgcolor\":\"white\",\"landcolor\":\"#E5ECF6\",\"subunitcolor\":\"white\",\"showland\":true,\"showlakes\":true,\"lakecolor\":\"white\"},\"title\":{\"x\":0.05},\"mapbox\":{\"style\":\"light\"}}},\"xaxis\":{\"anchor\":\"y\",\"domain\":[0.0,1.0],\"title\":{\"text\":\"completion date\"}},\"yaxis\":{\"anchor\":\"x\",\"domain\":[0.0,1.0],\"title\":{\"text\":\"pages\"},\"range\":[0,1150]},\"legend\":{\"tracegroupgap\":0},\"margin\":{\"t\":60},\"barmode\":\"relative\"},                        {\"responsive\": true}                    ).then(function(){\n",
       "                            \n",
       "var gd = document.getElementById('cd9d8482-4bec-44dd-b9c7-64c181452cf2');\n",
       "var x = new MutationObserver(function (mutations, observer) {{\n",
       "        var display = window.getComputedStyle(gd).display;\n",
       "        if (!display || display === 'none') {{\n",
       "            console.log([gd, 'removed!']);\n",
       "            Plotly.purge(gd);\n",
       "            observer.disconnect();\n",
       "        }}\n",
       "}});\n",
       "\n",
       "// Listen for the removal of the full notebook cells\n",
       "var notebookContainer = gd.closest('#notebook-container');\n",
       "if (notebookContainer) {{\n",
       "    x.observe(notebookContainer, {childList: true});\n",
       "}}\n",
       "\n",
       "// Listen for the clearing of the current output cell\n",
       "var outputEl = gd.closest('.output');\n",
       "if (outputEl) {{\n",
       "    x.observe(outputEl, {childList: true});\n",
       "}}\n",
       "\n",
       "                        })                };                });            </script>        </div>"
      ]
     },
     "metadata": {},
     "output_type": "display_data"
    }
   ],
   "source": [
    "fig = px.bar( Completed, x= \"completion date\", y = \"pages\")\n",
    "fig.update_layout(yaxis_range = [0,1150])"
   ]
  },
  {
   "cell_type": "code",
   "execution_count": 53,
   "id": "0c52a079",
   "metadata": {
    "execution": {
     "iopub.execute_input": "2022-06-07T19:01:45.618114Z",
     "iopub.status.busy": "2022-06-07T19:01:45.617345Z",
     "iopub.status.idle": "2022-06-07T19:01:46.035128Z",
     "shell.execute_reply": "2022-06-07T19:01:46.034158Z"
    },
    "papermill": {
     "duration": 0.454344,
     "end_time": "2022-06-07T19:01:46.037558",
     "exception": false,
     "start_time": "2022-06-07T19:01:45.583214",
     "status": "completed"
    },
    "tags": []
   },
   "outputs": [
    {
     "data": {
      "image/png": "[encoded data removed]",
      "text/plain": [
       "<Figure size 432x288 with 1 Axes>"
      ]
     },
     "metadata": {},
     "output_type": "display_data"
    }
   ],
   "source": [
    "sns.barplot( x= \"completion_year\", y = \"pages\", data = Completed)\n",
    "plt.show()"
   ]
  },
  {
   "cell_type": "code",
   "execution_count": 54,
   "id": "88f954e1",
   "metadata": {
    "execution": {
     "iopub.execute_input": "2022-06-07T19:01:46.106610Z",
     "iopub.status.busy": "2022-06-07T19:01:46.105831Z",
     "iopub.status.idle": "2022-06-07T19:01:46.322291Z",
     "shell.execute_reply": "2022-06-07T19:01:46.321448Z"
    },
    "papermill": {
     "duration": 0.253414,
     "end_time": "2022-06-07T19:01:46.324497",
     "exception": false,
     "start_time": "2022-06-07T19:01:46.071083",
     "status": "completed"
    },
    "tags": []
   },
   "outputs": [
    {
     "data": {
      "image/png": "[encoded data removed]",
      "text/plain": [
       "<Figure size 432x288 with 1 Axes>"
      ]
     },
     "metadata": {},
     "output_type": "display_data"
    }
   ],
   "source": [
    "sns.countplot( x= \"completion_year\",data = Completed)\n",
    "plt.show()"
   ]
  },
  {
   "cell_type": "code",
   "execution_count": 55,
   "id": "ef6d360e",
   "metadata": {
    "execution": {
     "iopub.execute_input": "2022-06-07T19:01:46.394730Z",
     "iopub.status.busy": "2022-06-07T19:01:46.393762Z",
     "iopub.status.idle": "2022-06-07T19:01:47.066566Z",
     "shell.execute_reply": "2022-06-07T19:01:47.065676Z"
    },
    "papermill": {
     "duration": 0.710179,
     "end_time": "2022-06-07T19:01:47.068513",
     "exception": false,
     "start_time": "2022-06-07T19:01:46.358334",
     "status": "completed"
    },
    "tags": []
   },
   "outputs": [
    {
     "data": {
      "image/png": "[encoded data removed]",
      "text/plain": [
       "<Figure size 432x288 with 1 Axes>"
      ]
     },
     "metadata": {},
     "output_type": "display_data"
    }
   ],
   "source": [
    "sns.barplot( x= \"completion_month\", y = \"pages\", data = Completed)\n",
    "plt.show()"
   ]
  },
  {
   "cell_type": "code",
   "execution_count": 56,
   "id": "cd4c9dac",
   "metadata": {
    "execution": {
     "iopub.execute_input": "2022-06-07T19:01:47.142703Z",
     "iopub.status.busy": "2022-06-07T19:01:47.141764Z",
     "iopub.status.idle": "2022-06-07T19:01:48.897387Z",
     "shell.execute_reply": "2022-06-07T19:01:48.896673Z"
    },
    "papermill": {
     "duration": 1.79605,
     "end_time": "2022-06-07T19:01:48.899503",
     "exception": false,
     "start_time": "2022-06-07T19:01:47.103453",
     "status": "completed"
    },
    "tags": []
   },
   "outputs": [
    {
     "data": {
      "image/png": "[encoded data removed]",
      "text/plain": [
       "<Figure size 1728x864 with 7 Axes>"
      ]
     },
     "metadata": {},
     "output_type": "display_data"
    }
   ],
   "source": [
    "g = sns.FacetGrid(Completed, col='completion_year', height=6, col_wrap=4)\n",
    "g.map(sns.histplot, \"completion_month\",)\n",
    "plt.show()"
   ]
  },
  {
   "cell_type": "code",
   "execution_count": 57,
   "id": "76abee04",
   "metadata": {
    "execution": {
     "iopub.execute_input": "2022-06-07T19:01:48.971061Z",
     "iopub.status.busy": "2022-06-07T19:01:48.970219Z",
     "iopub.status.idle": "2022-06-07T19:01:52.796116Z",
     "shell.execute_reply": "2022-06-07T19:01:52.795438Z"
    },
    "papermill": {
     "duration": 3.863304,
     "end_time": "2022-06-07T19:01:52.797964",
     "exception": false,
     "start_time": "2022-06-07T19:01:48.934660",
     "status": "completed"
    },
    "tags": []
   },
   "outputs": [
    {
     "data": {
      "text/plain": [
       "<seaborn.axisgrid.FacetGrid at 0x7fd566e4c050>"
      ]
     },
     "execution_count": 57,
     "metadata": {},
     "output_type": "execute_result"
    },
    {
     "data": {
      "image/png": "[encoded data removed]",
      "text/plain": [
       "<Figure size 1440x720 with 7 Axes>"
      ]
     },
     "metadata": {},
     "output_type": "display_data"
    }
   ],
   "source": [
    "sns.catplot(data = Completed, x=\"completion_month\", y = \"pages\", col = \"completion_year\", kind = \"bar\", col_wrap=4)"
   ]
  },
  {
   "cell_type": "code",
   "execution_count": 58,
   "id": "07d07a58",
   "metadata": {
    "execution": {
     "iopub.execute_input": "2022-06-07T19:01:52.872905Z",
     "iopub.status.busy": "2022-06-07T19:01:52.872172Z",
     "iopub.status.idle": "2022-06-07T19:01:52.878110Z",
     "shell.execute_reply": "2022-06-07T19:01:52.877316Z"
    },
    "papermill": {
     "duration": 0.046058,
     "end_time": "2022-06-07T19:01:52.879983",
     "exception": false,
     "start_time": "2022-06-07T19:01:52.833925",
     "status": "completed"
    },
    "tags": []
   },
   "outputs": [
    {
     "data": {
      "text/plain": [
       "317"
      ]
     },
     "execution_count": 58,
     "metadata": {},
     "output_type": "execute_result"
    }
   ],
   "source": [
    "Completed[\"Title\"].nunique()"
   ]
  },
  {
   "cell_type": "code",
   "execution_count": 59,
   "id": "f5f9652f",
   "metadata": {
    "execution": {
     "iopub.execute_input": "2022-06-07T19:01:52.953001Z",
     "iopub.status.busy": "2022-06-07T19:01:52.952356Z",
     "iopub.status.idle": "2022-06-07T19:01:52.964000Z",
     "shell.execute_reply": "2022-06-07T19:01:52.963395Z"
    },
    "papermill": {
     "duration": 0.050368,
     "end_time": "2022-06-07T19:01:52.965790",
     "exception": false,
     "start_time": "2022-06-07T19:01:52.915422",
     "status": "completed"
    },
    "tags": []
   },
   "outputs": [
    {
     "data": {
      "text/html": [
       "<div>\n",
       "<style scoped>\n",
       "    .dataframe tbody tr th:only-of-type {\n",
       "        vertical-align: middle;\n",
       "    }\n",
       "\n",
       "    .dataframe tbody tr th {\n",
       "        vertical-align: top;\n",
       "    }\n",
       "\n",
       "    .dataframe thead th {\n",
       "        text-align: right;\n",
       "    }\n",
       "</style>\n",
       "<table border=\"1\" class=\"dataframe\">\n",
       "  <thead>\n",
       "    <tr style=\"text-align: right;\">\n",
       "      <th></th>\n",
       "      <th>titles</th>\n",
       "      <th>reads</th>\n",
       "    </tr>\n",
       "  </thead>\n",
       "  <tbody>\n",
       "    <tr>\n",
       "      <th>0</th>\n",
       "      <td>ぼくは明日、昨日のきみとデートする</td>\n",
       "      <td>2</td>\n",
       "    </tr>\n",
       "    <tr>\n",
       "      <th>1</th>\n",
       "      <td>Economics: The User's Guide</td>\n",
       "      <td>2</td>\n",
       "    </tr>\n",
       "    <tr>\n",
       "      <th>2</th>\n",
       "      <td>Economics</td>\n",
       "      <td>2</td>\n",
       "    </tr>\n",
       "    <tr>\n",
       "      <th>3</th>\n",
       "      <td>Magpie Murders</td>\n",
       "      <td>2</td>\n",
       "    </tr>\n",
       "    <tr>\n",
       "      <th>4</th>\n",
       "      <td>妖怪アパートの幽雅な日常 1</td>\n",
       "      <td>2</td>\n",
       "    </tr>\n",
       "  </tbody>\n",
       "</table>\n",
       "</div>"
      ],
      "text/plain": [
       "                        titles  reads\n",
       "0            ぼくは明日、昨日のきみとデートする      2\n",
       "1  Economics: The User's Guide      2\n",
       "2                    Economics      2\n",
       "3               Magpie Murders      2\n",
       "4               妖怪アパートの幽雅な日常 1      2"
      ]
     },
     "execution_count": 59,
     "metadata": {},
     "output_type": "execute_result"
    }
   ],
   "source": [
    "rereads = df[\"Title\"].value_counts().rename_axis (\"titles\").reset_index(name = \"reads\")\n",
    "rereads[rereads[\"reads\"]>1].head()"
   ]
  },
  {
   "cell_type": "code",
   "execution_count": 60,
   "id": "0e346a09",
   "metadata": {
    "execution": {
     "iopub.execute_input": "2022-06-07T19:01:53.039805Z",
     "iopub.status.busy": "2022-06-07T19:01:53.039158Z",
     "iopub.status.idle": "2022-06-07T19:01:53.045332Z",
     "shell.execute_reply": "2022-06-07T19:01:53.044458Z"
    },
    "papermill": {
     "duration": 0.045535,
     "end_time": "2022-06-07T19:01:53.047239",
     "exception": false,
     "start_time": "2022-06-07T19:01:53.001704",
     "status": "completed"
    },
    "tags": []
   },
   "outputs": [
    {
     "data": {
      "text/plain": [
       "13"
      ]
     },
     "execution_count": 60,
     "metadata": {},
     "output_type": "execute_result"
    }
   ],
   "source": [
    "rereads[rereads[\"reads\"]>1].shape[0]"
   ]
  },
  {
   "cell_type": "code",
   "execution_count": 61,
   "id": "a20949d0",
   "metadata": {
    "execution": {
     "iopub.execute_input": "2022-06-07T19:01:53.120921Z",
     "iopub.status.busy": "2022-06-07T19:01:53.120092Z",
     "iopub.status.idle": "2022-06-07T19:01:53.126083Z",
     "shell.execute_reply": "2022-06-07T19:01:53.124847Z"
    },
    "papermill": {
     "duration": 0.045903,
     "end_time": "2022-06-07T19:01:53.129035",
     "exception": false,
     "start_time": "2022-06-07T19:01:53.083132",
     "status": "completed"
    },
    "tags": []
   },
   "outputs": [
    {
     "name": "stdout",
     "output_type": "stream",
     "text": [
      "3.35 % of read books were rereads\n"
     ]
    }
   ],
   "source": [
    "print(round((1 -Completed[\"Title\"].nunique()/Completed.shape[0])*100,2), \"% of read books were rereads\")"
   ]
  },
  {
   "cell_type": "code",
   "execution_count": 62,
   "id": "da0ee0e6",
   "metadata": {
    "execution": {
     "iopub.execute_input": "2022-06-07T19:01:53.205759Z",
     "iopub.status.busy": "2022-06-07T19:01:53.205085Z",
     "iopub.status.idle": "2022-06-07T19:01:53.219423Z",
     "shell.execute_reply": "2022-06-07T19:01:53.218741Z"
    },
    "papermill": {
     "duration": 0.054237,
     "end_time": "2022-06-07T19:01:53.221207",
     "exception": false,
     "start_time": "2022-06-07T19:01:53.166970",
     "status": "completed"
    },
    "tags": []
   },
   "outputs": [
    {
     "data": {
      "text/html": [
       "<div>\n",
       "<style scoped>\n",
       "    .dataframe tbody tr th:only-of-type {\n",
       "        vertical-align: middle;\n",
       "    }\n",
       "\n",
       "    .dataframe tbody tr th {\n",
       "        vertical-align: top;\n",
       "    }\n",
       "\n",
       "    .dataframe thead th {\n",
       "        text-align: right;\n",
       "    }\n",
       "</style>\n",
       "<table border=\"1\" class=\"dataframe\">\n",
       "  <thead>\n",
       "    <tr style=\"text-align: right;\">\n",
       "      <th></th>\n",
       "      <th>author(s)</th>\n",
       "      <th>books/reads</th>\n",
       "    </tr>\n",
       "  </thead>\n",
       "  <tbody>\n",
       "    <tr>\n",
       "      <th>0</th>\n",
       "      <td>東野 圭吾</td>\n",
       "      <td>15</td>\n",
       "    </tr>\n",
       "    <tr>\n",
       "      <th>1</th>\n",
       "      <td>谷 瑞恵</td>\n",
       "      <td>13</td>\n",
       "    </tr>\n",
       "    <tr>\n",
       "      <th>2</th>\n",
       "      <td>香月 日輪</td>\n",
       "      <td>8</td>\n",
       "    </tr>\n",
       "    <tr>\n",
       "      <th>3</th>\n",
       "      <td>伊坂 幸太郎</td>\n",
       "      <td>7</td>\n",
       "    </tr>\n",
       "    <tr>\n",
       "      <th>4</th>\n",
       "      <td>ふじた</td>\n",
       "      <td>6</td>\n",
       "    </tr>\n",
       "  </tbody>\n",
       "</table>\n",
       "</div>"
      ],
      "text/plain": [
       "  author(s)  books/reads\n",
       "0     東野 圭吾           15\n",
       "1      谷 瑞恵           13\n",
       "2     香月 日輪            8\n",
       "3    伊坂 幸太郎            7\n",
       "4       ふじた            6"
      ]
     },
     "execution_count": 62,
     "metadata": {},
     "output_type": "execute_result"
    }
   ],
   "source": [
    "first_reads = Completed.drop_duplicates(subset = [\"Title\"], keep = \"first\"  )\n",
    "\n",
    "fav_authors = first_reads[\"author(s)\"].value_counts().rename_axis (\"author(s)\").reset_index(name = \"books/reads\")\n",
    "fav_authors[fav_authors[\"books/reads\"]>1].head()"
   ]
  },
  {
   "cell_type": "code",
   "execution_count": 63,
   "id": "d22fdc9b",
   "metadata": {
    "execution": {
     "iopub.execute_input": "2022-06-07T19:01:53.295548Z",
     "iopub.status.busy": "2022-06-07T19:01:53.294898Z",
     "iopub.status.idle": "2022-06-07T19:01:53.356187Z",
     "shell.execute_reply": "2022-06-07T19:01:53.355467Z"
    },
    "papermill": {
     "duration": 0.100611,
     "end_time": "2022-06-07T19:01:53.358135",
     "exception": false,
     "start_time": "2022-06-07T19:01:53.257524",
     "status": "completed"
    },
    "tags": []
   },
   "outputs": [
    {
     "data": {
      "text/html": [
       "<div>                            <div id=\"4453050d-d4a7-4eaf-b8d0-dfe6e77bf390\" class=\"plotly-graph-div\" style=\"height:525px; width:100%;\"></div>            <script type=\"text/javascript\">                require([\"plotly\"], function(Plotly) {                    window.PLOTLYENV=window.PLOTLYENV || {};                                    if (document.getElementById(\"4453050d-d4a7-4eaf-b8d0-dfe6e77bf390\")) {                    Plotly.newPlot(                        \"4453050d-d4a7-4eaf-b8d0-dfe6e77bf390\",                        [{\"alignmentgroup\":\"True\",\"hovertemplate\":\"author(s)=%{x}<br>books/reads=%{y}<extra></extra>\",\"legendgroup\":\"\",\"marker\":{\"color\":\"#636efa\",\"pattern\":{\"shape\":\"\"}},\"name\":\"\",\"offsetgroup\":\"\",\"orientation\":\"v\",\"showlegend\":false,\"textposition\":\"auto\",\"x\":[\"東野 圭吾\",\"谷 瑞恵\",\"香月 日輪\",\"伊坂 幸太郎\",\"ふじた\",\"Leigh Bardugo\",\"成田 良悟\",\"池井戸 潤\",\"藤木 稟\",\"Brandon Sanderson\",\"知念 実希人\",\"Ian Fleming\",\"J. K. Rowling\",\"V. E. Schwab\",\"枢 やな\",\"Robert Thorogood\",\"中村 ふみ\",\"誉田 哲也\",\"Anthony Horowitz\",\"Sarah J. Maas\",\"Agatha Christie\",\"葉山 透\",\"Scott Lynch\",\"赤川 次郎\",\"乙一\",\"Wilkie Collins\",\"Jane Austen\"],\"xaxis\":\"x\",\"y\":[15,13,8,7,6,5,5,5,5,4,4,4,4,4,4,4,3,3,3,3,3,3,3,3,3,3,3],\"yaxis\":\"y\",\"type\":\"bar\"}],                        {\"template\":{\"data\":{\"histogram2dcontour\":[{\"type\":\"histogram2dcontour\",\"colorbar\":{\"outlinewidth\":0,\"ticks\":\"\"},\"colorscale\":[[0.0,\"#0d0887\"],[0.1111111111111111,\"#46039f\"],[0.2222222222222222,\"#7201a8\"],[0.3333333333333333,\"#9c179e\"],[0.4444444444444444,\"#bd3786\"],[0.5555555555555556,\"#d8576b\"],[0.6666666666666666,\"#ed7953\"],[0.7777777777777778,\"#fb9f3a\"],[0.8888888888888888,\"#fdca26\"],[1.0,\"#f0f921\"]]}],\"choropleth\":[{\"type\":\"choropleth\",\"colorbar\":{\"outlinewidth\":0,\"ticks\":\"\"}}],\"histogram2d\":[{\"type\":\"histogram2d\",\"colorbar\":{\"outlinewidth\":0,\"ticks\":\"\"},\"colorscale\":[[0.0,\"#0d0887\"],[0.1111111111111111,\"#46039f\"],[0.2222222222222222,\"#7201a8\"],[0.3333333333333333,\"#9c179e\"],[0.4444444444444444,\"#bd3786\"],[0.5555555555555556,\"#d8576b\"],[0.6666666666666666,\"#ed7953\"],[0.7777777777777778,\"#fb9f3a\"],[0.8888888888888888,\"#fdca26\"],[1.0,\"#f0f921\"]]}],\"heatmap\":[{\"type\":\"heatmap\",\"colorbar\":{\"outlinewidth\":0,\"ticks\":\"\"},\"colorscale\":[[0.0,\"#0d0887\"],[0.1111111111111111,\"#46039f\"],[0.2222222222222222,\"#7201a8\"],[0.3333333333333333,\"#9c179e\"],[0.4444444444444444,\"#bd3786\"],[0.5555555555555556,\"#d8576b\"],[0.6666666666666666,\"#ed7953\"],[0.7777777777777778,\"#fb9f3a\"],[0.8888888888888888,\"#fdca26\"],[1.0,\"#f0f921\"]]}],\"heatmapgl\":[{\"type\":\"heatmapgl\",\"colorbar\":{\"outlinewidth\":0,\"ticks\":\"\"},\"colorscale\":[[0.0,\"#0d0887\"],[0.1111111111111111,\"#46039f\"],[0.2222222222222222,\"#7201a8\"],[0.3333333333333333,\"#9c179e\"],[0.4444444444444444,\"#bd3786\"],[0.5555555555555556,\"#d8576b\"],[0.6666666666666666,\"#ed7953\"],[0.7777777777777778,\"#fb9f3a\"],[0.8888888888888888,\"#fdca26\"],[1.0,\"#f0f921\"]]}],\"contourcarpet\":[{\"type\":\"contourcarpet\",\"colorbar\":{\"outlinewidth\":0,\"ticks\":\"\"}}],\"contour\":[{\"type\":\"contour\",\"colorbar\":{\"outlinewidth\":0,\"ticks\":\"\"},\"colorscale\":[[0.0,\"#0d0887\"],[0.1111111111111111,\"#46039f\"],[0.2222222222222222,\"#7201a8\"],[0.3333333333333333,\"#9c179e\"],[0.4444444444444444,\"#bd3786\"],[0.5555555555555556,\"#d8576b\"],[0.6666666666666666,\"#ed7953\"],[0.7777777777777778,\"#fb9f3a\"],[0.8888888888888888,\"#fdca26\"],[1.0,\"#f0f921\"]]}],\"surface\":[{\"type\":\"surface\",\"colorbar\":{\"outlinewidth\":0,\"ticks\":\"\"},\"colorscale\":[[0.0,\"#0d0887\"],[0.1111111111111111,\"#46039f\"],[0.2222222222222222,\"#7201a8\"],[0.3333333333333333,\"#9c179e\"],[0.4444444444444444,\"#bd3786\"],[0.5555555555555556,\"#d8576b\"],[0.6666666666666666,\"#ed7953\"],[0.7777777777777778,\"#fb9f3a\"],[0.8888888888888888,\"#fdca26\"],[1.0,\"#f0f921\"]]}],\"mesh3d\":[{\"type\":\"mesh3d\",\"colorbar\":{\"outlinewidth\":0,\"ticks\":\"\"}}],\"scatter\":[{\"fillpattern\":{\"fillmode\":\"overlay\",\"size\":10,\"solidity\":0.2},\"type\":\"scatter\"}],\"parcoords\":[{\"type\":\"parcoords\",\"line\":{\"colorbar\":{\"outlinewidth\":0,\"ticks\":\"\"}}}],\"scatterpolargl\":[{\"type\":\"scatterpolargl\",\"marker\":{\"colorbar\":{\"outlinewidth\":0,\"ticks\":\"\"}}}],\"bar\":[{\"error_x\":{\"color\":\"#2a3f5f\"},\"error_y\":{\"color\":\"#2a3f5f\"},\"marker\":{\"line\":{\"color\":\"#E5ECF6\",\"width\":0.5},\"pattern\":{\"fillmode\":\"overlay\",\"size\":10,\"solidity\":0.2}},\"type\":\"bar\"}],\"scattergeo\":[{\"type\":\"scattergeo\",\"marker\":{\"colorbar\":{\"outlinewidth\":0,\"ticks\":\"\"}}}],\"scatterpolar\":[{\"type\":\"scatterpolar\",\"marker\":{\"colorbar\":{\"outlinewidth\":0,\"ticks\":\"\"}}}],\"histogram\":[{\"marker\":{\"pattern\":{\"fillmode\":\"overlay\",\"size\":10,\"solidity\":0.2}},\"type\":\"histogram\"}],\"scattergl\":[{\"type\":\"scattergl\",\"marker\":{\"colorbar\":{\"outlinewidth\":0,\"ticks\":\"\"}}}],\"scatter3d\":[{\"type\":\"scatter3d\",\"line\":{\"colorbar\":{\"outlinewidth\":0,\"ticks\":\"\"}},\"marker\":{\"colorbar\":{\"outlinewidth\":0,\"ticks\":\"\"}}}],\"scattermapbox\":[{\"type\":\"scattermapbox\",\"marker\":{\"colorbar\":{\"outlinewidth\":0,\"ticks\":\"\"}}}],\"scatterternary\":[{\"type\":\"scatterternary\",\"marker\":{\"colorbar\":{\"outlinewidth\":0,\"ticks\":\"\"}}}],\"scattercarpet\":[{\"type\":\"scattercarpet\",\"marker\":{\"colorbar\":{\"outlinewidth\":0,\"ticks\":\"\"}}}],\"carpet\":[{\"aaxis\":{\"endlinecolor\":\"#2a3f5f\",\"gridcolor\":\"white\",\"linecolor\":\"white\",\"minorgridcolor\":\"white\",\"startlinecolor\":\"#2a3f5f\"},\"baxis\":{\"endlinecolor\":\"#2a3f5f\",\"gridcolor\":\"white\",\"linecolor\":\"white\",\"minorgridcolor\":\"white\",\"startlinecolor\":\"#2a3f5f\"},\"type\":\"carpet\"}],\"table\":[{\"cells\":{\"fill\":{\"color\":\"#EBF0F8\"},\"line\":{\"color\":\"white\"}},\"header\":{\"fill\":{\"color\":\"#C8D4E3\"},\"line\":{\"color\":\"white\"}},\"type\":\"table\"}],\"barpolar\":[{\"marker\":{\"line\":{\"color\":\"#E5ECF6\",\"width\":0.5},\"pattern\":{\"fillmode\":\"overlay\",\"size\":10,\"solidity\":0.2}},\"type\":\"barpolar\"}],\"pie\":[{\"automargin\":true,\"type\":\"pie\"}]},\"layout\":{\"autotypenumbers\":\"strict\",\"colorway\":[\"#636efa\",\"#EF553B\",\"#00cc96\",\"#ab63fa\",\"#FFA15A\",\"#19d3f3\",\"#FF6692\",\"#B6E880\",\"#FF97FF\",\"#FECB52\"],\"font\":{\"color\":\"#2a3f5f\"},\"hovermode\":\"closest\",\"hoverlabel\":{\"align\":\"left\"},\"paper_bgcolor\":\"white\",\"plot_bgcolor\":\"#E5ECF6\",\"polar\":{\"bgcolor\":\"#E5ECF6\",\"angularaxis\":{\"gridcolor\":\"white\",\"linecolor\":\"white\",\"ticks\":\"\"},\"radialaxis\":{\"gridcolor\":\"white\",\"linecolor\":\"white\",\"ticks\":\"\"}},\"ternary\":{\"bgcolor\":\"#E5ECF6\",\"aaxis\":{\"gridcolor\":\"white\",\"linecolor\":\"white\",\"ticks\":\"\"},\"baxis\":{\"gridcolor\":\"white\",\"linecolor\":\"white\",\"ticks\":\"\"},\"caxis\":{\"gridcolor\":\"white\",\"linecolor\":\"white\",\"ticks\":\"\"}},\"coloraxis\":{\"colorbar\":{\"outlinewidth\":0,\"ticks\":\"\"}},\"colorscale\":{\"sequential\":[[0.0,\"#0d0887\"],[0.1111111111111111,\"#46039f\"],[0.2222222222222222,\"#7201a8\"],[0.3333333333333333,\"#9c179e\"],[0.4444444444444444,\"#bd3786\"],[0.5555555555555556,\"#d8576b\"],[0.6666666666666666,\"#ed7953\"],[0.7777777777777778,\"#fb9f3a\"],[0.8888888888888888,\"#fdca26\"],[1.0,\"#f0f921\"]],\"sequentialminus\":[[0.0,\"#0d0887\"],[0.1111111111111111,\"#46039f\"],[0.2222222222222222,\"#7201a8\"],[0.3333333333333333,\"#9c179e\"],[0.4444444444444444,\"#bd3786\"],[0.5555555555555556,\"#d8576b\"],[0.6666666666666666,\"#ed7953\"],[0.7777777777777778,\"#fb9f3a\"],[0.8888888888888888,\"#fdca26\"],[1.0,\"#f0f921\"]],\"diverging\":[[0,\"#8e0152\"],[0.1,\"#c51b7d\"],[0.2,\"#de77ae\"],[0.3,\"#f1b6da\"],[0.4,\"#fde0ef\"],[0.5,\"#f7f7f7\"],[0.6,\"#e6f5d0\"],[0.7,\"#b8e186\"],[0.8,\"#7fbc41\"],[0.9,\"#4d9221\"],[1,\"#276419\"]]},\"xaxis\":{\"gridcolor\":\"white\",\"linecolor\":\"white\",\"ticks\":\"\",\"title\":{\"standoff\":15},\"zerolinecolor\":\"white\",\"automargin\":true,\"zerolinewidth\":2},\"yaxis\":{\"gridcolor\":\"white\",\"linecolor\":\"white\",\"ticks\":\"\",\"title\":{\"standoff\":15},\"zerolinecolor\":\"white\",\"automargin\":true,\"zerolinewidth\":2},\"scene\":{\"xaxis\":{\"backgroundcolor\":\"#E5ECF6\",\"gridcolor\":\"white\",\"linecolor\":\"white\",\"showbackground\":true,\"ticks\":\"\",\"zerolinecolor\":\"white\",\"gridwidth\":2},\"yaxis\":{\"backgroundcolor\":\"#E5ECF6\",\"gridcolor\":\"white\",\"linecolor\":\"white\",\"showbackground\":true,\"ticks\":\"\",\"zerolinecolor\":\"white\",\"gridwidth\":2},\"zaxis\":{\"backgroundcolor\":\"#E5ECF6\",\"gridcolor\":\"white\",\"linecolor\":\"white\",\"showbackground\":true,\"ticks\":\"\",\"zerolinecolor\":\"white\",\"gridwidth\":2}},\"shapedefaults\":{\"line\":{\"color\":\"#2a3f5f\"}},\"annotationdefaults\":{\"arrowcolor\":\"#2a3f5f\",\"arrowhead\":0,\"arrowwidth\":1},\"geo\":{\"bgcolor\":\"white\",\"landcolor\":\"#E5ECF6\",\"subunitcolor\":\"white\",\"showland\":true,\"showlakes\":true,\"lakecolor\":\"white\"},\"title\":{\"x\":0.05},\"mapbox\":{\"style\":\"light\"}}},\"xaxis\":{\"anchor\":\"y\",\"domain\":[0.0,1.0],\"title\":{\"text\":\"author(s)\"}},\"yaxis\":{\"anchor\":\"x\",\"domain\":[0.0,1.0],\"title\":{\"text\":\"books/reads\"}},\"legend\":{\"tracegroupgap\":0},\"margin\":{\"t\":60},\"barmode\":\"relative\"},                        {\"responsive\": true}                    ).then(function(){\n",
       "                            \n",
       "var gd = document.getElementById('4453050d-d4a7-4eaf-b8d0-dfe6e77bf390');\n",
       "var x = new MutationObserver(function (mutations, observer) {{\n",
       "        var display = window.getComputedStyle(gd).display;\n",
       "        if (!display || display === 'none') {{\n",
       "            console.log([gd, 'removed!']);\n",
       "            Plotly.purge(gd);\n",
       "            observer.disconnect();\n",
       "        }}\n",
       "}});\n",
       "\n",
       "// Listen for the removal of the full notebook cells\n",
       "var notebookContainer = gd.closest('#notebook-container');\n",
       "if (notebookContainer) {{\n",
       "    x.observe(notebookContainer, {childList: true});\n",
       "}}\n",
       "\n",
       "// Listen for the clearing of the current output cell\n",
       "var outputEl = gd.closest('.output');\n",
       "if (outputEl) {{\n",
       "    x.observe(outputEl, {childList: true});\n",
       "}}\n",
       "\n",
       "                        })                };                });            </script>        </div>"
      ]
     },
     "metadata": {},
     "output_type": "display_data"
    }
   ],
   "source": [
    "px.bar(fav_authors[fav_authors[\"books/reads\"]>2], x=\"author(s)\", y = \"books/reads\" )"
   ]
  },
  {
   "cell_type": "code",
   "execution_count": 64,
   "id": "994f3b32",
   "metadata": {
    "execution": {
     "iopub.execute_input": "2022-06-07T19:01:53.435087Z",
     "iopub.status.busy": "2022-06-07T19:01:53.434556Z",
     "iopub.status.idle": "2022-06-07T19:01:53.598005Z",
     "shell.execute_reply": "2022-06-07T19:01:53.597360Z"
    },
    "papermill": {
     "duration": 0.203539,
     "end_time": "2022-06-07T19:01:53.599884",
     "exception": false,
     "start_time": "2022-06-07T19:01:53.396345",
     "status": "completed"
    },
    "tags": []
   },
   "outputs": [
    {
     "data": {
      "text/plain": [
       "<AxesSubplot:xlabel='language', ylabel='count'>"
      ]
     },
     "execution_count": 64,
     "metadata": {},
     "output_type": "execute_result"
    },
    {
     "data": {
      "image/png": "[encoded data removed]",
      "text/plain": [
       "<Figure size 432x288 with 1 Axes>"
      ]
     },
     "metadata": {},
     "output_type": "display_data"
    }
   ],
   "source": [
    "fav_authors = fav_authors[fav_authors[\"books/reads\"]>2]\n",
    "\n",
    "sns.countplot(x = \"language\", data = Completed[Completed[\"author(s)\"].isin(fav_authors[\"author(s)\"])])"
   ]
  },
  {
   "cell_type": "code",
   "execution_count": 65,
   "id": "8c9a639f",
   "metadata": {
    "execution": {
     "iopub.execute_input": "2022-06-07T19:01:53.677047Z",
     "iopub.status.busy": "2022-06-07T19:01:53.676478Z",
     "iopub.status.idle": "2022-06-07T19:01:53.684818Z",
     "shell.execute_reply": "2022-06-07T19:01:53.683494Z"
    },
    "papermill": {
     "duration": 0.049595,
     "end_time": "2022-06-07T19:01:53.686775",
     "exception": false,
     "start_time": "2022-06-07T19:01:53.637180",
     "status": "completed"
    },
    "tags": []
   },
   "outputs": [
    {
     "name": "stdout",
     "output_type": "stream",
     "text": [
      "There were 66.42 % more Japanese rereads than English rereads\n"
     ]
    }
   ],
   "source": [
    "ratio = (sum(Completed[Completed[\"author(s)\"].isin(fav_authors[\"author(s)\"])][\"language\"]==\"Japanese\")/Completed[Completed[\"author(s)\"].isin(fav_authors[\"author(s)\"])].shape[0])*100\n",
    "print(\"There were\", round(ratio,2),\"% more Japanese rereads than English rereads\")"
   ]
  },
  {
   "cell_type": "code",
   "execution_count": 66,
   "id": "4cc480d6",
   "metadata": {
    "execution": {
     "iopub.execute_input": "2022-06-07T19:01:53.765453Z",
     "iopub.status.busy": "2022-06-07T19:01:53.764925Z",
     "iopub.status.idle": "2022-06-07T19:01:53.998850Z",
     "shell.execute_reply": "2022-06-07T19:01:53.997902Z"
    },
    "papermill": {
     "duration": 0.27593,
     "end_time": "2022-06-07T19:01:54.001157",
     "exception": false,
     "start_time": "2022-06-07T19:01:53.725227",
     "status": "completed"
    },
    "tags": []
   },
   "outputs": [
    {
     "data": {
      "text/plain": [
       "<AxesSubplot:xlabel='language', ylabel='pages'>"
      ]
     },
     "execution_count": 66,
     "metadata": {},
     "output_type": "execute_result"
    },
    {
     "data": {
      "image/png": "[encoded data removed]",
      "text/plain": [
       "<Figure size 432x288 with 1 Axes>"
      ]
     },
     "metadata": {},
     "output_type": "display_data"
    }
   ],
   "source": [
    "fav_authors = fav_authors[fav_authors[\"books/reads\"]>2]\n",
    "\n",
    "sns.barplot(x = \"language\", y = \"pages\", data = Completed[Completed[\"author(s)\"].isin(fav_authors[\"author(s)\"])])"
   ]
  },
  {
   "cell_type": "code",
   "execution_count": 67,
   "id": "8306c30e",
   "metadata": {
    "execution": {
     "iopub.execute_input": "2022-06-07T19:01:54.081543Z",
     "iopub.status.busy": "2022-06-07T19:01:54.081047Z",
     "iopub.status.idle": "2022-06-07T19:01:54.091690Z",
     "shell.execute_reply": "2022-06-07T19:01:54.090938Z"
    },
    "papermill": {
     "duration": 0.053584,
     "end_time": "2022-06-07T19:01:54.093459",
     "exception": false,
     "start_time": "2022-06-07T19:01:54.039875",
     "status": "completed"
    },
    "tags": []
   },
   "outputs": [
    {
     "data": {
      "text/plain": [
       "count    328.000000\n",
       "mean     345.042683\n",
       "std      132.200471\n",
       "min       31.000000\n",
       "25%      259.750000\n",
       "50%      327.000000\n",
       "75%      400.000000\n",
       "max      912.000000\n",
       "Name: pages, dtype: float64"
      ]
     },
     "execution_count": 67,
     "metadata": {},
     "output_type": "execute_result"
    }
   ],
   "source": [
    "Completed[\"pages\"].describe()"
   ]
  },
  {
   "cell_type": "code",
   "execution_count": 68,
   "id": "882f720c",
   "metadata": {
    "execution": {
     "iopub.execute_input": "2022-06-07T19:01:54.172503Z",
     "iopub.status.busy": "2022-06-07T19:01:54.171716Z",
     "iopub.status.idle": "2022-06-07T19:01:54.539124Z",
     "shell.execute_reply": "2022-06-07T19:01:54.538137Z"
    },
    "papermill": {
     "duration": 0.409458,
     "end_time": "2022-06-07T19:01:54.541239",
     "exception": false,
     "start_time": "2022-06-07T19:01:54.131781",
     "status": "completed"
    },
    "tags": []
   },
   "outputs": [
    {
     "data": {
      "image/png": "[encoded data removed]",
      "text/plain": [
       "<Figure size 360x360 with 1 Axes>"
      ]
     },
     "metadata": {},
     "output_type": "display_data"
    }
   ],
   "source": [
    "sns.displot(x = \"pages\", data = Completed, kind= \"kde\")\n",
    "plt.show()"
   ]
  },
  {
   "cell_type": "code",
   "execution_count": 69,
   "id": "60cfc84d",
   "metadata": {
    "execution": {
     "iopub.execute_input": "2022-06-07T19:01:54.621135Z",
     "iopub.status.busy": "2022-06-07T19:01:54.620308Z",
     "iopub.status.idle": "2022-06-07T19:01:55.144606Z",
     "shell.execute_reply": "2022-06-07T19:01:55.143483Z"
    },
    "papermill": {
     "duration": 0.565991,
     "end_time": "2022-06-07T19:01:55.146611",
     "exception": false,
     "start_time": "2022-06-07T19:01:54.580620",
     "status": "completed"
    },
    "tags": []
   },
   "outputs": [
    {
     "data": {
      "image/png": "[encoded data removed]",
      "text/plain": [
       "<Figure size 441.25x360 with 1 Axes>"
      ]
     },
     "metadata": {},
     "output_type": "display_data"
    }
   ],
   "source": [
    "sns.displot(x = \"pages\", data = Completed, kind= \"kde\", hue = \"language\")\n",
    "plt.show()"
   ]
  },
  {
   "cell_type": "code",
   "execution_count": 70,
   "id": "a39fcf47",
   "metadata": {
    "execution": {
     "iopub.execute_input": "2022-06-07T19:01:55.228507Z",
     "iopub.status.busy": "2022-06-07T19:01:55.227822Z",
     "iopub.status.idle": "2022-06-07T19:01:55.393221Z",
     "shell.execute_reply": "2022-06-07T19:01:55.392571Z"
    },
    "papermill": {
     "duration": 0.208232,
     "end_time": "2022-06-07T19:01:55.395169",
     "exception": false,
     "start_time": "2022-06-07T19:01:55.186937",
     "status": "completed"
    },
    "tags": []
   },
   "outputs": [
    {
     "data": {
      "text/plain": [
       "<AxesSubplot:xlabel='review', ylabel='count'>"
      ]
     },
     "execution_count": 70,
     "metadata": {},
     "output_type": "execute_result"
    },
    {
     "data": {
      "image/png": "[encoded data removed]",
      "text/plain": [
       "<Figure size 432x288 with 1 Axes>"
      ]
     },
     "metadata": {},
     "output_type": "display_data"
    }
   ],
   "source": [
    "sns.countplot(x = \"review\", data = Completed)"
   ]
  },
  {
   "cell_type": "code",
   "execution_count": 71,
   "id": "08deeb34",
   "metadata": {
    "execution": {
     "iopub.execute_input": "2022-06-07T19:01:55.476226Z",
     "iopub.status.busy": "2022-06-07T19:01:55.475584Z",
     "iopub.status.idle": "2022-06-07T19:01:55.485475Z",
     "shell.execute_reply": "2022-06-07T19:01:55.484429Z"
    },
    "papermill": {
     "duration": 0.052797,
     "end_time": "2022-06-07T19:01:55.487537",
     "exception": false,
     "start_time": "2022-06-07T19:01:55.434740",
     "status": "completed"
    },
    "tags": []
   },
   "outputs": [
    {
     "name": "stdout",
     "output_type": "stream",
     "text": [
      "75.0 % of books read have been reviewed\n"
     ]
    }
   ],
   "source": [
    "print(round((Completed[Completed[\"review\"]==\"Yes\"].shape[0]/Completed.dropna(subset = [\"review\"]).shape[0])*100, 1) ,\"% of books read have been reviewed\")"
   ]
  },
  {
   "cell_type": "code",
   "execution_count": 72,
   "id": "78b1d98b",
   "metadata": {
    "execution": {
     "iopub.execute_input": "2022-06-07T19:01:55.568046Z",
     "iopub.status.busy": "2022-06-07T19:01:55.567682Z",
     "iopub.status.idle": "2022-06-07T19:01:55.951040Z",
     "shell.execute_reply": "2022-06-07T19:01:55.950319Z"
    },
    "papermill": {
     "duration": 0.426003,
     "end_time": "2022-06-07T19:01:55.953069",
     "exception": false,
     "start_time": "2022-06-07T19:01:55.527066",
     "status": "completed"
    },
    "tags": []
   },
   "outputs": [
    {
     "data": {
      "text/plain": [
       "<seaborn.axisgrid.FacetGrid at 0x7fd56618c990>"
      ]
     },
     "execution_count": 72,
     "metadata": {},
     "output_type": "execute_result"
    },
    {
     "data": {
      "image/png": "[encoded data removed]",
      "text/plain": [
       "<Figure size 360x360 with 1 Axes>"
      ]
     },
     "metadata": {},
     "output_type": "display_data"
    }
   ],
   "source": [
    "sns.displot(x = \"rating\", data = Completed, kind= \"kde\")"
   ]
  },
  {
   "cell_type": "code",
   "execution_count": 73,
   "id": "4b9f4246",
   "metadata": {
    "execution": {
     "iopub.execute_input": "2022-06-07T19:01:56.038457Z",
     "iopub.status.busy": "2022-06-07T19:01:56.037746Z",
     "iopub.status.idle": "2022-06-07T19:01:56.217815Z",
     "shell.execute_reply": "2022-06-07T19:01:56.217100Z"
    },
    "papermill": {
     "duration": 0.223545,
     "end_time": "2022-06-07T19:01:56.219806",
     "exception": false,
     "start_time": "2022-06-07T19:01:55.996261",
     "status": "completed"
    },
    "tags": []
   },
   "outputs": [
    {
     "data": {
      "text/plain": [
       "<AxesSubplot:xlabel='format', ylabel='count'>"
      ]
     },
     "execution_count": 73,
     "metadata": {},
     "output_type": "execute_result"
    },
    {
     "data": {
      "image/png": "[encoded data removed]",
      "text/plain": [
       "<Figure size 432x288 with 1 Axes>"
      ]
     },
     "metadata": {},
     "output_type": "display_data"
    }
   ],
   "source": [
    "sns.countplot(x = \"format\", data = Completed)"
   ]
  },
  {
   "cell_type": "code",
   "execution_count": 74,
   "id": "6968fa93",
   "metadata": {
    "execution": {
     "iopub.execute_input": "2022-06-07T19:01:56.301277Z",
     "iopub.status.busy": "2022-06-07T19:01:56.300558Z",
     "iopub.status.idle": "2022-06-07T19:01:57.421754Z",
     "shell.execute_reply": "2022-06-07T19:01:57.420642Z"
    },
    "papermill": {
     "duration": 1.164787,
     "end_time": "2022-06-07T19:01:57.423957",
     "exception": false,
     "start_time": "2022-06-07T19:01:56.259170",
     "status": "completed"
    },
    "tags": []
   },
   "outputs": [
    {
     "data": {
      "image/png": "[encoded data removed]",
      "text/plain": [
       "<Figure size 864x864 with 4 Axes>"
      ]
     },
     "metadata": {},
     "output_type": "display_data"
    }
   ],
   "source": [
    "g = sns.FacetGrid(Completed, col='format', height=6, col_wrap=2)\n",
    "g.map(sns.histplot, \"completion_year\")\n",
    "plt.show()"
   ]
  },
  {
   "cell_type": "code",
   "execution_count": 75,
   "id": "363812a4",
   "metadata": {
    "execution": {
     "iopub.execute_input": "2022-06-07T19:01:57.509430Z",
     "iopub.status.busy": "2022-06-07T19:01:57.508993Z",
     "iopub.status.idle": "2022-06-07T19:01:58.235851Z",
     "shell.execute_reply": "2022-06-07T19:01:58.235139Z"
    },
    "papermill": {
     "duration": 0.771987,
     "end_time": "2022-06-07T19:01:58.237818",
     "exception": false,
     "start_time": "2022-06-07T19:01:57.465831",
     "status": "completed"
    },
    "tags": []
   },
   "outputs": [
    {
     "data": {
      "image/png": "[encoded data removed]",
      "text/plain": [
       "<Figure size 1728x432 with 2 Axes>"
      ]
     },
     "metadata": {},
     "output_type": "display_data"
    }
   ],
   "source": [
    "g = sns.FacetGrid(Completed, col='type', height=6, col_wrap=4)\n",
    "g.map(sns.histplot, \"completion_year\")\n",
    "plt.show()"
   ]
  },
  {
   "cell_type": "code",
   "execution_count": 76,
   "id": "2318f332",
   "metadata": {
    "execution": {
     "iopub.execute_input": "2022-06-07T19:01:58.333586Z",
     "iopub.status.busy": "2022-06-07T19:01:58.332965Z",
     "iopub.status.idle": "2022-06-07T19:01:58.513234Z",
     "shell.execute_reply": "2022-06-07T19:01:58.512574Z"
    },
    "papermill": {
     "duration": 0.234376,
     "end_time": "2022-06-07T19:01:58.515128",
     "exception": false,
     "start_time": "2022-06-07T19:01:58.280752",
     "status": "completed"
    },
    "tags": []
   },
   "outputs": [
    {
     "data": {
      "text/plain": [
       "<AxesSubplot:xlabel='format', ylabel='count'>"
      ]
     },
     "execution_count": 76,
     "metadata": {},
     "output_type": "execute_result"
    },
    {
     "data": {
      "image/png": "[encoded data removed]",
      "text/plain": [
       "<Figure size 432x288 with 1 Axes>"
      ]
     },
     "metadata": {},
     "output_type": "display_data"
    }
   ],
   "source": [
    "sns.countplot(x = \"format\", data = Completed[Completed[\"type\"]==\"Nonfiction\"])"
   ]
  },
  {
   "cell_type": "code",
   "execution_count": 77,
   "id": "2cab0b08",
   "metadata": {
    "execution": {
     "iopub.execute_input": "2022-06-07T19:01:58.599999Z",
     "iopub.status.busy": "2022-06-07T19:01:58.599475Z",
     "iopub.status.idle": "2022-06-07T19:01:58.777765Z",
     "shell.execute_reply": "2022-06-07T19:01:58.777108Z"
    },
    "papermill": {
     "duration": 0.223388,
     "end_time": "2022-06-07T19:01:58.779658",
     "exception": false,
     "start_time": "2022-06-07T19:01:58.556270",
     "status": "completed"
    },
    "tags": []
   },
   "outputs": [
    {
     "data": {
      "text/plain": [
       "<AxesSubplot:xlabel='format', ylabel='count'>"
      ]
     },
     "execution_count": 77,
     "metadata": {},
     "output_type": "execute_result"
    },
    {
     "data": {
      "image/png": "[encoded data removed]",
      "text/plain": [
       "<Figure size 432x288 with 1 Axes>"
      ]
     },
     "metadata": {},
     "output_type": "display_data"
    }
   ],
   "source": [
    "sns.countplot(x = \"format\", data = Completed[Completed[\"type\"]==\"Fiction\"])"
   ]
  },
  {
   "cell_type": "code",
   "execution_count": 78,
   "id": "112c4ae9",
   "metadata": {
    "execution": {
     "iopub.execute_input": "2022-06-07T19:01:58.866667Z",
     "iopub.status.busy": "2022-06-07T19:01:58.866058Z",
     "iopub.status.idle": "2022-06-07T19:01:59.677033Z",
     "shell.execute_reply": "2022-06-07T19:01:59.676343Z"
    },
    "papermill": {
     "duration": 0.856727,
     "end_time": "2022-06-07T19:01:59.679063",
     "exception": false,
     "start_time": "2022-06-07T19:01:58.822336",
     "status": "completed"
    },
    "tags": []
   },
   "outputs": [
    {
     "data": {
      "image/png": "[encoded data removed]",
      "text/plain": [
       "<Figure size 864x864 with 4 Axes>"
      ]
     },
     "metadata": {},
     "output_type": "display_data"
    }
   ],
   "source": [
    "g = sns.FacetGrid(Completed, col='format', height=6, col_wrap=2)\n",
    "g.map(sns.histplot, \"review\")\n",
    "plt.show()"
   ]
  },
  {
   "cell_type": "code",
   "execution_count": 79,
   "id": "0b1260b1",
   "metadata": {
    "execution": {
     "iopub.execute_input": "2022-06-07T19:01:59.766210Z",
     "iopub.status.busy": "2022-06-07T19:01:59.765833Z",
     "iopub.status.idle": "2022-06-07T19:02:01.107280Z",
     "shell.execute_reply": "2022-06-07T19:02:01.106298Z"
    },
    "papermill": {
     "duration": 1.38842,
     "end_time": "2022-06-07T19:02:01.110370",
     "exception": false,
     "start_time": "2022-06-07T19:01:59.721950",
     "status": "completed"
    },
    "tags": []
   },
   "outputs": [
    {
     "data": {
      "image/png": "[encoded data removed]",
      "text/plain": [
       "<Figure size 1728x432 with 4 Axes>"
      ]
     },
     "metadata": {},
     "output_type": "display_data"
    }
   ],
   "source": [
    "g = sns.FacetGrid(Completed, col='format', height=6, col_wrap=4)\n",
    "g.map(sns.histplot, \"rating\")\n",
    "plt.show()"
   ]
  },
  {
   "cell_type": "code",
   "execution_count": 80,
   "id": "6f9825df",
   "metadata": {
    "execution": {
     "iopub.execute_input": "2022-06-07T19:02:01.210806Z",
     "iopub.status.busy": "2022-06-07T19:02:01.210361Z",
     "iopub.status.idle": "2022-06-07T19:02:01.614939Z",
     "shell.execute_reply": "2022-06-07T19:02:01.614249Z"
    },
    "papermill": {
     "duration": 0.458353,
     "end_time": "2022-06-07T19:02:01.616772",
     "exception": false,
     "start_time": "2022-06-07T19:02:01.158419",
     "status": "completed"
    },
    "tags": []
   },
   "outputs": [
    {
     "data": {
      "text/plain": [
       "<AxesSubplot:xlabel='platform', ylabel='count'>"
      ]
     },
     "execution_count": 80,
     "metadata": {},
     "output_type": "execute_result"
    },
    {
     "data": {
      "image/png": "[encoded data removed]",
      "text/plain": [
       "<Figure size 432x288 with 1 Axes>"
      ]
     },
     "metadata": {},
     "output_type": "display_data"
    }
   ],
   "source": [
    "sns.countplot(x = \"platform\", data = Completed[Completed[\"format\"]==\"Audiobook\"])"
   ]
  },
  {
   "cell_type": "code",
   "execution_count": 81,
   "id": "d3dff95e",
   "metadata": {
    "execution": {
     "iopub.execute_input": "2022-06-07T19:02:01.706361Z",
     "iopub.status.busy": "2022-06-07T19:02:01.705262Z",
     "iopub.status.idle": "2022-06-07T19:02:02.614155Z",
     "shell.execute_reply": "2022-06-07T19:02:02.613371Z"
    },
    "papermill": {
     "duration": 0.956281,
     "end_time": "2022-06-07T19:02:02.616242",
     "exception": false,
     "start_time": "2022-06-07T19:02:01.659961",
     "status": "completed"
    },
    "tags": []
   },
   "outputs": [
    {
     "data": {
      "image/png": "[encoded data removed]",
      "text/plain": [
       "<Figure size 1728x432 with 4 Axes>"
      ]
     },
     "metadata": {},
     "output_type": "display_data"
    }
   ],
   "source": [
    "g = sns.FacetGrid(Completed[Completed[\"format\"]==\"Audiobook\"], col='completion_year', height=6, col_wrap=4)\n",
    "g.map(sns.histplot, \"platform\")\n",
    "plt.show()"
   ]
  },
  {
   "cell_type": "code",
   "execution_count": 82,
   "id": "649707f4",
   "metadata": {
    "execution": {
     "iopub.execute_input": "2022-06-07T19:02:02.706682Z",
     "iopub.status.busy": "2022-06-07T19:02:02.706072Z",
     "iopub.status.idle": "2022-06-07T19:02:02.712428Z",
     "shell.execute_reply": "2022-06-07T19:02:02.711173Z"
    },
    "papermill": {
     "duration": 0.053669,
     "end_time": "2022-06-07T19:02:02.714637",
     "exception": false,
     "start_time": "2022-06-07T19:02:02.660968",
     "status": "completed"
    },
    "tags": []
   },
   "outputs": [
    {
     "name": "stdout",
     "output_type": "stream",
     "text": [
      "56 114\n"
     ]
    }
   ],
   "source": [
    "print(first_reads[\"publisher\"].nunique(), first_reads[\"Imprint\"].nunique())\n"
   ]
  },
  {
   "cell_type": "code",
   "execution_count": 83,
   "id": "a184979d",
   "metadata": {
    "execution": {
     "iopub.execute_input": "2022-06-07T19:02:02.806606Z",
     "iopub.status.busy": "2022-06-07T19:02:02.805896Z",
     "iopub.status.idle": "2022-06-07T19:02:02.819464Z",
     "shell.execute_reply": "2022-06-07T19:02:02.818459Z"
    },
    "papermill": {
     "duration": 0.061502,
     "end_time": "2022-06-07T19:02:02.821542",
     "exception": false,
     "start_time": "2022-06-07T19:02:02.760040",
     "status": "completed"
    },
    "tags": []
   },
   "outputs": [
    {
     "data": {
      "text/html": [
       "<div>\n",
       "<style scoped>\n",
       "    .dataframe tbody tr th:only-of-type {\n",
       "        vertical-align: middle;\n",
       "    }\n",
       "\n",
       "    .dataframe tbody tr th {\n",
       "        vertical-align: top;\n",
       "    }\n",
       "\n",
       "    .dataframe thead th {\n",
       "        text-align: right;\n",
       "    }\n",
       "</style>\n",
       "<table border=\"1\" class=\"dataframe\">\n",
       "  <thead>\n",
       "    <tr style=\"text-align: right;\">\n",
       "      <th></th>\n",
       "      <th>publisher</th>\n",
       "      <th>books/reads</th>\n",
       "    </tr>\n",
       "  </thead>\n",
       "  <tbody>\n",
       "    <tr>\n",
       "      <th>0</th>\n",
       "      <td>Penguin Random House</td>\n",
       "      <td>55</td>\n",
       "    </tr>\n",
       "    <tr>\n",
       "      <th>1</th>\n",
       "      <td>KADOKAWA</td>\n",
       "      <td>52</td>\n",
       "    </tr>\n",
       "    <tr>\n",
       "      <th>2</th>\n",
       "      <td>集英社</td>\n",
       "      <td>23</td>\n",
       "    </tr>\n",
       "    <tr>\n",
       "      <th>3</th>\n",
       "      <td>講談社</td>\n",
       "      <td>22</td>\n",
       "    </tr>\n",
       "    <tr>\n",
       "      <th>4</th>\n",
       "      <td>HarperCollins</td>\n",
       "      <td>17</td>\n",
       "    </tr>\n",
       "    <tr>\n",
       "      <th>5</th>\n",
       "      <td>Macmillan Publishers</td>\n",
       "      <td>17</td>\n",
       "    </tr>\n",
       "    <tr>\n",
       "      <th>6</th>\n",
       "      <td>文藝春秋</td>\n",
       "      <td>13</td>\n",
       "    </tr>\n",
       "    <tr>\n",
       "      <th>7</th>\n",
       "      <td>Orion</td>\n",
       "      <td>12</td>\n",
       "    </tr>\n",
       "    <tr>\n",
       "      <th>8</th>\n",
       "      <td>新潮社</td>\n",
       "      <td>9</td>\n",
       "    </tr>\n",
       "    <tr>\n",
       "      <th>9</th>\n",
       "      <td>Hachette Book</td>\n",
       "      <td>9</td>\n",
       "    </tr>\n",
       "  </tbody>\n",
       "</table>\n",
       "</div>"
      ],
      "text/plain": [
       "              publisher  books/reads\n",
       "0  Penguin Random House           55\n",
       "1              KADOKAWA           52\n",
       "2                   集英社           23\n",
       "3                   講談社           22\n",
       "4         HarperCollins           17\n",
       "5  Macmillan Publishers           17\n",
       "6                  文藝春秋           13\n",
       "7                 Orion           12\n",
       "8                   新潮社            9\n",
       "9         Hachette Book            9"
      ]
     },
     "execution_count": 83,
     "metadata": {},
     "output_type": "execute_result"
    }
   ],
   "source": [
    "publisher = first_reads[\"publisher\"].value_counts().rename_axis (\"publisher\").reset_index(name = \"books/reads\")\n",
    "publisher[publisher[\"books/reads\"]>1].head(10)"
   ]
  },
  {
   "cell_type": "code",
   "execution_count": 84,
   "id": "0c8aecc5",
   "metadata": {
    "execution": {
     "iopub.execute_input": "2022-06-07T19:02:02.912003Z",
     "iopub.status.busy": "2022-06-07T19:02:02.911551Z",
     "iopub.status.idle": "2022-06-07T19:02:02.926075Z",
     "shell.execute_reply": "2022-06-07T19:02:02.925135Z"
    },
    "papermill": {
     "duration": 0.06233,
     "end_time": "2022-06-07T19:02:02.928019",
     "exception": false,
     "start_time": "2022-06-07T19:02:02.865689",
     "status": "completed"
    },
    "tags": []
   },
   "outputs": [
    {
     "data": {
      "text/html": [
       "<div>\n",
       "<style scoped>\n",
       "    .dataframe tbody tr th:only-of-type {\n",
       "        vertical-align: middle;\n",
       "    }\n",
       "\n",
       "    .dataframe tbody tr th {\n",
       "        vertical-align: top;\n",
       "    }\n",
       "\n",
       "    .dataframe thead th {\n",
       "        text-align: right;\n",
       "    }\n",
       "</style>\n",
       "<table border=\"1\" class=\"dataframe\">\n",
       "  <thead>\n",
       "    <tr style=\"text-align: right;\">\n",
       "      <th></th>\n",
       "      <th>Imprint</th>\n",
       "      <th>books/reads</th>\n",
       "    </tr>\n",
       "  </thead>\n",
       "  <tbody>\n",
       "    <tr>\n",
       "      <th>0</th>\n",
       "      <td>角川文庫</td>\n",
       "      <td>20</td>\n",
       "    </tr>\n",
       "    <tr>\n",
       "      <th>1</th>\n",
       "      <td>講談社文庫</td>\n",
       "      <td>18</td>\n",
       "    </tr>\n",
       "    <tr>\n",
       "      <th>2</th>\n",
       "      <td>コバルト文庫</td>\n",
       "      <td>15</td>\n",
       "    </tr>\n",
       "    <tr>\n",
       "      <th>3</th>\n",
       "      <td>Penguin</td>\n",
       "      <td>13</td>\n",
       "    </tr>\n",
       "    <tr>\n",
       "      <th>4</th>\n",
       "      <td>文春文庫</td>\n",
       "      <td>13</td>\n",
       "    </tr>\n",
       "    <tr>\n",
       "      <th>5</th>\n",
       "      <td>Penguin Classics</td>\n",
       "      <td>13</td>\n",
       "    </tr>\n",
       "    <tr>\n",
       "      <th>6</th>\n",
       "      <td>メディアワークス文庫</td>\n",
       "      <td>11</td>\n",
       "    </tr>\n",
       "    <tr>\n",
       "      <th>7</th>\n",
       "      <td>Picador</td>\n",
       "      <td>9</td>\n",
       "    </tr>\n",
       "    <tr>\n",
       "      <th>8</th>\n",
       "      <td>角川ホラー文庫</td>\n",
       "      <td>8</td>\n",
       "    </tr>\n",
       "    <tr>\n",
       "      <th>9</th>\n",
       "      <td>Gollancz</td>\n",
       "      <td>7</td>\n",
       "    </tr>\n",
       "  </tbody>\n",
       "</table>\n",
       "</div>"
      ],
      "text/plain": [
       "            Imprint  books/reads\n",
       "0              角川文庫           20\n",
       "1             講談社文庫           18\n",
       "2            コバルト文庫           15\n",
       "3           Penguin           13\n",
       "4              文春文庫           13\n",
       "5  Penguin Classics           13\n",
       "6        メディアワークス文庫           11\n",
       "7           Picador            9\n",
       "8           角川ホラー文庫            8\n",
       "9          Gollancz            7"
      ]
     },
     "execution_count": 84,
     "metadata": {},
     "output_type": "execute_result"
    }
   ],
   "source": [
    "Imprint = first_reads[\"Imprint\"].value_counts().rename_axis (\"Imprint\").reset_index(name = \"books/reads\")\n",
    "Imprint[Imprint[\"books/reads\"]>1].head(10)"
   ]
  },
  {
   "cell_type": "code",
   "execution_count": 85,
   "id": "7cd7f60f",
   "metadata": {
    "execution": {
     "iopub.execute_input": "2022-06-07T19:02:03.019906Z",
     "iopub.status.busy": "2022-06-07T19:02:03.019333Z",
     "iopub.status.idle": "2022-06-07T19:02:03.031292Z",
     "shell.execute_reply": "2022-06-07T19:02:03.030252Z"
    },
    "papermill": {
     "duration": 0.060401,
     "end_time": "2022-06-07T19:02:03.033341",
     "exception": false,
     "start_time": "2022-06-07T19:02:02.972940",
     "status": "completed"
    },
    "tags": []
   },
   "outputs": [
    {
     "data": {
      "text/plain": [
       "43"
      ]
     },
     "execution_count": 85,
     "metadata": {},
     "output_type": "execute_result"
    }
   ],
   "source": [
    "Japanese_first_reads = first_reads[first_reads[\"language\"]==\"Japanese\"]\n",
    "Imprint = Japanese_first_reads[\"Imprint\"].value_counts().rename_axis (\"Imprint\").reset_index(name = \"books/reads\")\n",
    "Imprint[\"Imprint\"].nunique()"
   ]
  },
  {
   "cell_type": "code",
   "execution_count": 86,
   "id": "31d77fb2",
   "metadata": {
    "execution": {
     "iopub.execute_input": "2022-06-07T19:02:03.127022Z",
     "iopub.status.busy": "2022-06-07T19:02:03.126336Z",
     "iopub.status.idle": "2022-06-07T19:02:03.138650Z",
     "shell.execute_reply": "2022-06-07T19:02:03.137551Z"
    },
    "papermill": {
     "duration": 0.062442,
     "end_time": "2022-06-07T19:02:03.140816",
     "exception": false,
     "start_time": "2022-06-07T19:02:03.078374",
     "status": "completed"
    },
    "tags": []
   },
   "outputs": [
    {
     "data": {
      "text/html": [
       "<div>\n",
       "<style scoped>\n",
       "    .dataframe tbody tr th:only-of-type {\n",
       "        vertical-align: middle;\n",
       "    }\n",
       "\n",
       "    .dataframe tbody tr th {\n",
       "        vertical-align: top;\n",
       "    }\n",
       "\n",
       "    .dataframe thead th {\n",
       "        text-align: right;\n",
       "    }\n",
       "</style>\n",
       "<table border=\"1\" class=\"dataframe\">\n",
       "  <thead>\n",
       "    <tr style=\"text-align: right;\">\n",
       "      <th></th>\n",
       "      <th>Imprint</th>\n",
       "      <th>books/reads</th>\n",
       "    </tr>\n",
       "  </thead>\n",
       "  <tbody>\n",
       "    <tr>\n",
       "      <th>0</th>\n",
       "      <td>角川文庫</td>\n",
       "      <td>20</td>\n",
       "    </tr>\n",
       "    <tr>\n",
       "      <th>1</th>\n",
       "      <td>講談社文庫</td>\n",
       "      <td>18</td>\n",
       "    </tr>\n",
       "    <tr>\n",
       "      <th>2</th>\n",
       "      <td>コバルト文庫</td>\n",
       "      <td>15</td>\n",
       "    </tr>\n",
       "    <tr>\n",
       "      <th>3</th>\n",
       "      <td>文春文庫</td>\n",
       "      <td>13</td>\n",
       "    </tr>\n",
       "    <tr>\n",
       "      <th>4</th>\n",
       "      <td>メディアワークス文庫</td>\n",
       "      <td>11</td>\n",
       "    </tr>\n",
       "    <tr>\n",
       "      <th>5</th>\n",
       "      <td>角川ホラー文庫</td>\n",
       "      <td>8</td>\n",
       "    </tr>\n",
       "    <tr>\n",
       "      <th>6</th>\n",
       "      <td>一迅社</td>\n",
       "      <td>6</td>\n",
       "    </tr>\n",
       "    <tr>\n",
       "      <th>7</th>\n",
       "      <td>新潮文庫</td>\n",
       "      <td>6</td>\n",
       "    </tr>\n",
       "    <tr>\n",
       "      <th>8</th>\n",
       "      <td>アスキーメディアワークス</td>\n",
       "      <td>5</td>\n",
       "    </tr>\n",
       "    <tr>\n",
       "      <th>9</th>\n",
       "      <td>光文社文庫</td>\n",
       "      <td>5</td>\n",
       "    </tr>\n",
       "  </tbody>\n",
       "</table>\n",
       "</div>"
      ],
      "text/plain": [
       "        Imprint  books/reads\n",
       "0          角川文庫           20\n",
       "1         講談社文庫           18\n",
       "2        コバルト文庫           15\n",
       "3          文春文庫           13\n",
       "4    メディアワークス文庫           11\n",
       "5       角川ホラー文庫            8\n",
       "6           一迅社            6\n",
       "7          新潮文庫            6\n",
       "8  アスキーメディアワークス            5\n",
       "9         光文社文庫            5"
      ]
     },
     "execution_count": 86,
     "metadata": {},
     "output_type": "execute_result"
    }
   ],
   "source": [
    "Imprint[Imprint[\"books/reads\"]>1].head(10)"
   ]
  },
  {
   "cell_type": "code",
   "execution_count": 87,
   "id": "5605dc69",
   "metadata": {
    "execution": {
     "iopub.execute_input": "2022-06-07T19:02:03.233607Z",
     "iopub.status.busy": "2022-06-07T19:02:03.233174Z",
     "iopub.status.idle": "2022-06-07T19:02:03.244264Z",
     "shell.execute_reply": "2022-06-07T19:02:03.243620Z"
    },
    "papermill": {
     "duration": 0.061,
     "end_time": "2022-06-07T19:02:03.246665",
     "exception": false,
     "start_time": "2022-06-07T19:02:03.185665",
     "status": "completed"
    },
    "tags": []
   },
   "outputs": [
    {
     "data": {
      "text/plain": [
       "72"
      ]
     },
     "execution_count": 87,
     "metadata": {},
     "output_type": "execute_result"
    }
   ],
   "source": [
    "English_first_reads = first_reads[first_reads[\"language\"]==\"English\"]\n",
    "Imprint = English_first_reads[\"Imprint\"].value_counts().rename_axis (\"Imprint\").reset_index(name = \"books/reads\")\n",
    "Imprint[\"Imprint\"].nunique()"
   ]
  },
  {
   "cell_type": "code",
   "execution_count": 88,
   "id": "ea1a32a7",
   "metadata": {
    "execution": {
     "iopub.execute_input": "2022-06-07T19:02:03.345248Z",
     "iopub.status.busy": "2022-06-07T19:02:03.344556Z",
     "iopub.status.idle": "2022-06-07T19:02:03.357161Z",
     "shell.execute_reply": "2022-06-07T19:02:03.356201Z"
    },
    "papermill": {
     "duration": 0.063261,
     "end_time": "2022-06-07T19:02:03.359205",
     "exception": false,
     "start_time": "2022-06-07T19:02:03.295944",
     "status": "completed"
    },
    "tags": []
   },
   "outputs": [
    {
     "data": {
      "text/html": [
       "<div>\n",
       "<style scoped>\n",
       "    .dataframe tbody tr th:only-of-type {\n",
       "        vertical-align: middle;\n",
       "    }\n",
       "\n",
       "    .dataframe tbody tr th {\n",
       "        vertical-align: top;\n",
       "    }\n",
       "\n",
       "    .dataframe thead th {\n",
       "        text-align: right;\n",
       "    }\n",
       "</style>\n",
       "<table border=\"1\" class=\"dataframe\">\n",
       "  <thead>\n",
       "    <tr style=\"text-align: right;\">\n",
       "      <th></th>\n",
       "      <th>Imprint</th>\n",
       "      <th>books/reads</th>\n",
       "    </tr>\n",
       "  </thead>\n",
       "  <tbody>\n",
       "    <tr>\n",
       "      <th>0</th>\n",
       "      <td>Penguin</td>\n",
       "      <td>13</td>\n",
       "    </tr>\n",
       "    <tr>\n",
       "      <th>1</th>\n",
       "      <td>Penguin Classics</td>\n",
       "      <td>12</td>\n",
       "    </tr>\n",
       "    <tr>\n",
       "      <th>2</th>\n",
       "      <td>Picador</td>\n",
       "      <td>9</td>\n",
       "    </tr>\n",
       "    <tr>\n",
       "      <th>3</th>\n",
       "      <td>Gollancz</td>\n",
       "      <td>7</td>\n",
       "    </tr>\n",
       "    <tr>\n",
       "      <th>4</th>\n",
       "      <td>Vintage Classics</td>\n",
       "      <td>6</td>\n",
       "    </tr>\n",
       "    <tr>\n",
       "      <th>5</th>\n",
       "      <td>HarperCollins</td>\n",
       "      <td>6</td>\n",
       "    </tr>\n",
       "    <tr>\n",
       "      <th>6</th>\n",
       "      <td>Wordsworth Editions</td>\n",
       "      <td>5</td>\n",
       "    </tr>\n",
       "    <tr>\n",
       "      <th>7</th>\n",
       "      <td>Orion Children's Books</td>\n",
       "      <td>5</td>\n",
       "    </tr>\n",
       "    <tr>\n",
       "      <th>8</th>\n",
       "      <td>Vintage</td>\n",
       "      <td>4</td>\n",
       "    </tr>\n",
       "    <tr>\n",
       "      <th>9</th>\n",
       "      <td>Black Swan</td>\n",
       "      <td>4</td>\n",
       "    </tr>\n",
       "  </tbody>\n",
       "</table>\n",
       "</div>"
      ],
      "text/plain": [
       "                  Imprint  books/reads\n",
       "0                 Penguin           13\n",
       "1        Penguin Classics           12\n",
       "2                 Picador            9\n",
       "3                Gollancz            7\n",
       "4        Vintage Classics            6\n",
       "5           HarperCollins            6\n",
       "6     Wordsworth Editions            5\n",
       "7  Orion Children's Books            5\n",
       "8                 Vintage            4\n",
       "9              Black Swan            4"
      ]
     },
     "execution_count": 88,
     "metadata": {},
     "output_type": "execute_result"
    }
   ],
   "source": [
    "Imprint[Imprint[\"books/reads\"]>1].head(10)"
   ]
  },
  {
   "cell_type": "code",
   "execution_count": 89,
   "id": "37fc0d89",
   "metadata": {
    "execution": {
     "iopub.execute_input": "2022-06-07T19:02:03.455506Z",
     "iopub.status.busy": "2022-06-07T19:02:03.454387Z",
     "iopub.status.idle": "2022-06-07T19:02:03.519436Z",
     "shell.execute_reply": "2022-06-07T19:02:03.518488Z"
    },
    "papermill": {
     "duration": 0.116195,
     "end_time": "2022-06-07T19:02:03.521751",
     "exception": false,
     "start_time": "2022-06-07T19:02:03.405556",
     "status": "completed"
    },
    "tags": []
   },
   "outputs": [
    {
     "data": {
      "text/html": [
       "<div>                            <div id=\"94808851-2585-4226-8152-61d1254b3b1b\" class=\"plotly-graph-div\" style=\"height:525px; width:100%;\"></div>            <script type=\"text/javascript\">                require([\"plotly\"], function(Plotly) {                    window.PLOTLYENV=window.PLOTLYENV || {};                                    if (document.getElementById(\"94808851-2585-4226-8152-61d1254b3b1b\")) {                    Plotly.newPlot(                        \"94808851-2585-4226-8152-61d1254b3b1b\",                        [{\"alignmentgroup\":\"True\",\"bingroup\":\"x\",\"hovertemplate\":\"genre=%{x}<br>count=%{y}<extra></extra>\",\"legendgroup\":\"\",\"marker\":{\"color\":\"#636efa\",\"pattern\":{\"shape\":\"\"}},\"name\":\"\",\"offsetgroup\":\"\",\"orientation\":\"v\",\"showlegend\":false,\"x\":[\"Mystery\",\"Mystery\",\"Humour/ Satire\",\"Mystery\",\"Literary Fiction\",\"Humour/ Satire\",\"Literary Fiction\",\"Humour/ Satire\",\"Fantasy\",\"Mystery\",\"Romance\",\"Science Fiction\",\"Romance\",\"Mystery\",\"Mystery\",\"Bildungsroman\",\"Self Help\",\"Picture book\",\"Mystery\",\"Literary Fiction\",\"Literary Fiction\",\"Magical realism\",\"Mystery\",\"Literary Fiction\",\"Mystery\",\"Mystery\",\"Mystery\",\"Mystery\",\"Humour/ Satire\",\"Fantasy\",\"Romance\",\"Fantasy\",\"Romance\",\"Romance\",\"Thriller\",\"Thriller\",\"Thriller\",\"Romance\",\"Romance\",\"Humour/ Satire\",\"Romance\",\"Economics\",\"Economics\",\"Horror\",\"Romance\",\"Horror\",\"Fantasy\",\"Contemporary\",\"Romance\",\"Fantasy\",\"Romance\",\"Mystery\",\"Romance\",\"Mathematics\",\"Romance\",\"Fantasy\",\"経済小説\",\"Romance\",\"Mystery\",\"Romance\",\"Fantasy\",\"Mystery\",\"Romance\",\"Mystery\",\"Fantasy\",\"Fantasy\",\"Romance\",\"Fantasy\",\"Magical realism\",\"Fantasy\",\"Fantasy\",\"science\",\"Romance\",\"Mystery\",\"Fantasy\",\"Horror\",\"Mystery\",\"経営書\",\"Fantasy\",\"Fantasy\",\"Humour/ Satire\",\"Fantasy\",\"Literary Fiction\",\"Mystery\",\"Fantasy\",\"Fantasy\",\"Mystery\",\"経済小説\",\"Horror\",\"Mystery\",\"Mystery\",\"Fantasy\",\"Horror\",\"Mystery\",\"Horror\",\"Economics\",\"Economics\",\"Literary Fiction\",\"Literary Fiction\",\"Romance\",\"Thriller\",\"Fantasy\",\"Horror\",\"Horror\",\"Fantasy\",\"Economics\",\"Horror\",\"Horror\",\"Mystery\",\"Fantasy\",\"Horror\",\"Mystery\",\"Literary Fiction\",\"Literary Fiction\",\"Romance\",\"Mystery\",\"Mystery\",\"Bildungsroman\",\"Bildungsroman\",\"Thriller\",\"Thriller\",\"Thriller\",\"Thriller\",\"Romance\",\"Horror\",\"Fantasy\",\"Psychology\",\"Mystery\",\"Contemporary\",\"Fantasy\",\"Mystery\",\"Fantasy\",\"Mystery\",\"仕事小説\",\"Fantasy\",\"Mystery\",\"Mystery\",\"Mystery\",\"Mystery\",\"仕事小説\",\"Science Fiction\",\"Science Fiction\",\"Mystery\",\"Contemporary\",\"Fantasy\",\"Self Help\",\"Economics\",\"Economics\",\"Thriller\",\"Mystery\",\"Mystery\",\"Fantasy\",\"Fantasy\",\"Romance\",\"Bildungsroman\",\"Bildungsroman\",\"Bildungsroman\",\"Bildungsroman\",\"Fashion\",\"Literary Fiction\",\"Mystery\",\"Thriller\",\"Science Fiction\",\"Horror\",\"Fantasy\",\"Humour Encyclopaedias\",\"Romance\",\"Bildungsroman\",\"science\",\"Romance\",\"Mystery\",\"Realist Literature\",\"Mystery\",\"Physical Chemistry\",\"science\",\"Science Fiction\",\"Thriller\",\"Data\",\"Mystery\",\"Mystery\",\"Law\",\"Romance\",\"Romance\",\"経済小説\",\"Mystery\",\"Mystery\",\"Thriller\",\"Romance\",\"Mystery\",\"Romance\",\"Fantasy\",\"Thriller\",\"Economics\",\"仕事小説\",\"Fantasy\",\"Economics\",\"Fantasy\",\"science\",\"Fantasy\",\"Contemporary\",\"Realist Literature\",\"Contemporary\",\"Thriller\",\"Thriller\",\"Humour/ Satire\",\"Fantasy\",\"Mystery\",\"Thriller\",\"Literary Fiction\",\"Science Fiction\",\"Self Help\",\"Self Help\",\"Fantasy\",\"Thriller\",\"Romance\",\"Fashion\",\"Fantasy\",\"Horror\",\"Mystery\",\"Romance\",\"Fantasy\",\"Mystery\",\"Romance\",\"Mystery\",\"Fantasy\",\"Contemporary\",\"Thriller\",\"Fantasy\",\"Romance\",\"Romance\",\"Fantasy\",\"Thriller\",\"Business\",\"Thriller\",\"Applied Physics\",\"Fantasy\",\"Mystery\",\"Fantasy\",\"Horror\",\"Thriller\",\"Romance\",\"Mystery\",\"Contemporary\",\"Realist Literature\",\"経済小説\",\"Mystery\",\"Bildungsroman\",\"Mystery\",\"History\",\"Adventure\",\"Mystery\",\"Mystery\",\"Literary Fiction\",\"Contemporary\",\"Thriller\",\"Contemporary\",\"Romance\",\"Fashion\",\"Humour/ Satire\",\"Mystery\",\"Mystery\",\"Fantasy\",\"Fantasy\",\"Humour/ Satire\",\"Romance\",\"Contemporary\",\"Horror\",\"Humour/ Satire\",\"History\",\"Romance\",\"Fantasy\",\"Thriller\",\"Thriller\",\"Data\",\"Law\",\"Self Help\",\"Biographies\",\"Mystery\",\"経済小説\",\"Data\",\"Realist Literature\",\"Bildungsroman\",\"Realist Literature\",\"Fantasy\",\"History\",\"Essays, Journals & Letters\",\"Fantasy\",\"Mystery\",\"Thriller\",\"Literary Fiction\",\"Contemporary\",\"Contemporary\",\"Mystery\",\"Mystery\",\"Fantasy\",\"Romance\",\"Mystery\",\"History\",\"Contemporary\",\"Humour/ Satire\",\"Mathematics\",\"Bildungsroman\",\"Fantasy\",\"Fantasy\",\"Romance\",\"Humour/ Satire\",\"Humour/ Satire\",\"Fantasy\",\"Romance\",\"Fantasy\",\"Realist Literature\",\"Fantasy\",\"Fantasy\",\"Mystery\",\"Psychology\",\"Mystery\",\"Mystery\",\"Data\",\"Economics\",\"Psychology\",\"Architectural History\",\"Literary Fiction\",\"Fantasy\",\"Romance\",\"Humour/ Satire\",\"Humour/ Satire\",\"Fashion\",\"Humour/ Satire\"],\"xaxis\":\"x\",\"yaxis\":\"y\",\"type\":\"histogram\"}],                        {\"template\":{\"data\":{\"histogram2dcontour\":[{\"type\":\"histogram2dcontour\",\"colorbar\":{\"outlinewidth\":0,\"ticks\":\"\"},\"colorscale\":[[0.0,\"#0d0887\"],[0.1111111111111111,\"#46039f\"],[0.2222222222222222,\"#7201a8\"],[0.3333333333333333,\"#9c179e\"],[0.4444444444444444,\"#bd3786\"],[0.5555555555555556,\"#d8576b\"],[0.6666666666666666,\"#ed7953\"],[0.7777777777777778,\"#fb9f3a\"],[0.8888888888888888,\"#fdca26\"],[1.0,\"#f0f921\"]]}],\"choropleth\":[{\"type\":\"choropleth\",\"colorbar\":{\"outlinewidth\":0,\"ticks\":\"\"}}],\"histogram2d\":[{\"type\":\"histogram2d\",\"colorbar\":{\"outlinewidth\":0,\"ticks\":\"\"},\"colorscale\":[[0.0,\"#0d0887\"],[0.1111111111111111,\"#46039f\"],[0.2222222222222222,\"#7201a8\"],[0.3333333333333333,\"#9c179e\"],[0.4444444444444444,\"#bd3786\"],[0.5555555555555556,\"#d8576b\"],[0.6666666666666666,\"#ed7953\"],[0.7777777777777778,\"#fb9f3a\"],[0.8888888888888888,\"#fdca26\"],[1.0,\"#f0f921\"]]}],\"heatmap\":[{\"type\":\"heatmap\",\"colorbar\":{\"outlinewidth\":0,\"ticks\":\"\"},\"colorscale\":[[0.0,\"#0d0887\"],[0.1111111111111111,\"#46039f\"],[0.2222222222222222,\"#7201a8\"],[0.3333333333333333,\"#9c179e\"],[0.4444444444444444,\"#bd3786\"],[0.5555555555555556,\"#d8576b\"],[0.6666666666666666,\"#ed7953\"],[0.7777777777777778,\"#fb9f3a\"],[0.8888888888888888,\"#fdca26\"],[1.0,\"#f0f921\"]]}],\"heatmapgl\":[{\"type\":\"heatmapgl\",\"colorbar\":{\"outlinewidth\":0,\"ticks\":\"\"},\"colorscale\":[[0.0,\"#0d0887\"],[0.1111111111111111,\"#46039f\"],[0.2222222222222222,\"#7201a8\"],[0.3333333333333333,\"#9c179e\"],[0.4444444444444444,\"#bd3786\"],[0.5555555555555556,\"#d8576b\"],[0.6666666666666666,\"#ed7953\"],[0.7777777777777778,\"#fb9f3a\"],[0.8888888888888888,\"#fdca26\"],[1.0,\"#f0f921\"]]}],\"contourcarpet\":[{\"type\":\"contourcarpet\",\"colorbar\":{\"outlinewidth\":0,\"ticks\":\"\"}}],\"contour\":[{\"type\":\"contour\",\"colorbar\":{\"outlinewidth\":0,\"ticks\":\"\"},\"colorscale\":[[0.0,\"#0d0887\"],[0.1111111111111111,\"#46039f\"],[0.2222222222222222,\"#7201a8\"],[0.3333333333333333,\"#9c179e\"],[0.4444444444444444,\"#bd3786\"],[0.5555555555555556,\"#d8576b\"],[0.6666666666666666,\"#ed7953\"],[0.7777777777777778,\"#fb9f3a\"],[0.8888888888888888,\"#fdca26\"],[1.0,\"#f0f921\"]]}],\"surface\":[{\"type\":\"surface\",\"colorbar\":{\"outlinewidth\":0,\"ticks\":\"\"},\"colorscale\":[[0.0,\"#0d0887\"],[0.1111111111111111,\"#46039f\"],[0.2222222222222222,\"#7201a8\"],[0.3333333333333333,\"#9c179e\"],[0.4444444444444444,\"#bd3786\"],[0.5555555555555556,\"#d8576b\"],[0.6666666666666666,\"#ed7953\"],[0.7777777777777778,\"#fb9f3a\"],[0.8888888888888888,\"#fdca26\"],[1.0,\"#f0f921\"]]}],\"mesh3d\":[{\"type\":\"mesh3d\",\"colorbar\":{\"outlinewidth\":0,\"ticks\":\"\"}}],\"scatter\":[{\"fillpattern\":{\"fillmode\":\"overlay\",\"size\":10,\"solidity\":0.2},\"type\":\"scatter\"}],\"parcoords\":[{\"type\":\"parcoords\",\"line\":{\"colorbar\":{\"outlinewidth\":0,\"ticks\":\"\"}}}],\"scatterpolargl\":[{\"type\":\"scatterpolargl\",\"marker\":{\"colorbar\":{\"outlinewidth\":0,\"ticks\":\"\"}}}],\"bar\":[{\"error_x\":{\"color\":\"#2a3f5f\"},\"error_y\":{\"color\":\"#2a3f5f\"},\"marker\":{\"line\":{\"color\":\"#E5ECF6\",\"width\":0.5},\"pattern\":{\"fillmode\":\"overlay\",\"size\":10,\"solidity\":0.2}},\"type\":\"bar\"}],\"scattergeo\":[{\"type\":\"scattergeo\",\"marker\":{\"colorbar\":{\"outlinewidth\":0,\"ticks\":\"\"}}}],\"scatterpolar\":[{\"type\":\"scatterpolar\",\"marker\":{\"colorbar\":{\"outlinewidth\":0,\"ticks\":\"\"}}}],\"histogram\":[{\"marker\":{\"pattern\":{\"fillmode\":\"overlay\",\"size\":10,\"solidity\":0.2}},\"type\":\"histogram\"}],\"scattergl\":[{\"type\":\"scattergl\",\"marker\":{\"colorbar\":{\"outlinewidth\":0,\"ticks\":\"\"}}}],\"scatter3d\":[{\"type\":\"scatter3d\",\"line\":{\"colorbar\":{\"outlinewidth\":0,\"ticks\":\"\"}},\"marker\":{\"colorbar\":{\"outlinewidth\":0,\"ticks\":\"\"}}}],\"scattermapbox\":[{\"type\":\"scattermapbox\",\"marker\":{\"colorbar\":{\"outlinewidth\":0,\"ticks\":\"\"}}}],\"scatterternary\":[{\"type\":\"scatterternary\",\"marker\":{\"colorbar\":{\"outlinewidth\":0,\"ticks\":\"\"}}}],\"scattercarpet\":[{\"type\":\"scattercarpet\",\"marker\":{\"colorbar\":{\"outlinewidth\":0,\"ticks\":\"\"}}}],\"carpet\":[{\"aaxis\":{\"endlinecolor\":\"#2a3f5f\",\"gridcolor\":\"white\",\"linecolor\":\"white\",\"minorgridcolor\":\"white\",\"startlinecolor\":\"#2a3f5f\"},\"baxis\":{\"endlinecolor\":\"#2a3f5f\",\"gridcolor\":\"white\",\"linecolor\":\"white\",\"minorgridcolor\":\"white\",\"startlinecolor\":\"#2a3f5f\"},\"type\":\"carpet\"}],\"table\":[{\"cells\":{\"fill\":{\"color\":\"#EBF0F8\"},\"line\":{\"color\":\"white\"}},\"header\":{\"fill\":{\"color\":\"#C8D4E3\"},\"line\":{\"color\":\"white\"}},\"type\":\"table\"}],\"barpolar\":[{\"marker\":{\"line\":{\"color\":\"#E5ECF6\",\"width\":0.5},\"pattern\":{\"fillmode\":\"overlay\",\"size\":10,\"solidity\":0.2}},\"type\":\"barpolar\"}],\"pie\":[{\"automargin\":true,\"type\":\"pie\"}]},\"layout\":{\"autotypenumbers\":\"strict\",\"colorway\":[\"#636efa\",\"#EF553B\",\"#00cc96\",\"#ab63fa\",\"#FFA15A\",\"#19d3f3\",\"#FF6692\",\"#B6E880\",\"#FF97FF\",\"#FECB52\"],\"font\":{\"color\":\"#2a3f5f\"},\"hovermode\":\"closest\",\"hoverlabel\":{\"align\":\"left\"},\"paper_bgcolor\":\"white\",\"plot_bgcolor\":\"#E5ECF6\",\"polar\":{\"bgcolor\":\"#E5ECF6\",\"angularaxis\":{\"gridcolor\":\"white\",\"linecolor\":\"white\",\"ticks\":\"\"},\"radialaxis\":{\"gridcolor\":\"white\",\"linecolor\":\"white\",\"ticks\":\"\"}},\"ternary\":{\"bgcolor\":\"#E5ECF6\",\"aaxis\":{\"gridcolor\":\"white\",\"linecolor\":\"white\",\"ticks\":\"\"},\"baxis\":{\"gridcolor\":\"white\",\"linecolor\":\"white\",\"ticks\":\"\"},\"caxis\":{\"gridcolor\":\"white\",\"linecolor\":\"white\",\"ticks\":\"\"}},\"coloraxis\":{\"colorbar\":{\"outlinewidth\":0,\"ticks\":\"\"}},\"colorscale\":{\"sequential\":[[0.0,\"#0d0887\"],[0.1111111111111111,\"#46039f\"],[0.2222222222222222,\"#7201a8\"],[0.3333333333333333,\"#9c179e\"],[0.4444444444444444,\"#bd3786\"],[0.5555555555555556,\"#d8576b\"],[0.6666666666666666,\"#ed7953\"],[0.7777777777777778,\"#fb9f3a\"],[0.8888888888888888,\"#fdca26\"],[1.0,\"#f0f921\"]],\"sequentialminus\":[[0.0,\"#0d0887\"],[0.1111111111111111,\"#46039f\"],[0.2222222222222222,\"#7201a8\"],[0.3333333333333333,\"#9c179e\"],[0.4444444444444444,\"#bd3786\"],[0.5555555555555556,\"#d8576b\"],[0.6666666666666666,\"#ed7953\"],[0.7777777777777778,\"#fb9f3a\"],[0.8888888888888888,\"#fdca26\"],[1.0,\"#f0f921\"]],\"diverging\":[[0,\"#8e0152\"],[0.1,\"#c51b7d\"],[0.2,\"#de77ae\"],[0.3,\"#f1b6da\"],[0.4,\"#fde0ef\"],[0.5,\"#f7f7f7\"],[0.6,\"#e6f5d0\"],[0.7,\"#b8e186\"],[0.8,\"#7fbc41\"],[0.9,\"#4d9221\"],[1,\"#276419\"]]},\"xaxis\":{\"gridcolor\":\"white\",\"linecolor\":\"white\",\"ticks\":\"\",\"title\":{\"standoff\":15},\"zerolinecolor\":\"white\",\"automargin\":true,\"zerolinewidth\":2},\"yaxis\":{\"gridcolor\":\"white\",\"linecolor\":\"white\",\"ticks\":\"\",\"title\":{\"standoff\":15},\"zerolinecolor\":\"white\",\"automargin\":true,\"zerolinewidth\":2},\"scene\":{\"xaxis\":{\"backgroundcolor\":\"#E5ECF6\",\"gridcolor\":\"white\",\"linecolor\":\"white\",\"showbackground\":true,\"ticks\":\"\",\"zerolinecolor\":\"white\",\"gridwidth\":2},\"yaxis\":{\"backgroundcolor\":\"#E5ECF6\",\"gridcolor\":\"white\",\"linecolor\":\"white\",\"showbackground\":true,\"ticks\":\"\",\"zerolinecolor\":\"white\",\"gridwidth\":2},\"zaxis\":{\"backgroundcolor\":\"#E5ECF6\",\"gridcolor\":\"white\",\"linecolor\":\"white\",\"showbackground\":true,\"ticks\":\"\",\"zerolinecolor\":\"white\",\"gridwidth\":2}},\"shapedefaults\":{\"line\":{\"color\":\"#2a3f5f\"}},\"annotationdefaults\":{\"arrowcolor\":\"#2a3f5f\",\"arrowhead\":0,\"arrowwidth\":1},\"geo\":{\"bgcolor\":\"white\",\"landcolor\":\"#E5ECF6\",\"subunitcolor\":\"white\",\"showland\":true,\"showlakes\":true,\"lakecolor\":\"white\"},\"title\":{\"x\":0.05},\"mapbox\":{\"style\":\"light\"}}},\"xaxis\":{\"anchor\":\"y\",\"domain\":[0.0,1.0],\"title\":{\"text\":\"genre\"}},\"yaxis\":{\"anchor\":\"x\",\"domain\":[0.0,1.0],\"title\":{\"text\":\"count\"}},\"legend\":{\"tracegroupgap\":0},\"margin\":{\"t\":60},\"barmode\":\"relative\"},                        {\"responsive\": true}                    ).then(function(){\n",
       "                            \n",
       "var gd = document.getElementById('94808851-2585-4226-8152-61d1254b3b1b');\n",
       "var x = new MutationObserver(function (mutations, observer) {{\n",
       "        var display = window.getComputedStyle(gd).display;\n",
       "        if (!display || display === 'none') {{\n",
       "            console.log([gd, 'removed!']);\n",
       "            Plotly.purge(gd);\n",
       "            observer.disconnect();\n",
       "        }}\n",
       "}});\n",
       "\n",
       "// Listen for the removal of the full notebook cells\n",
       "var notebookContainer = gd.closest('#notebook-container');\n",
       "if (notebookContainer) {{\n",
       "    x.observe(notebookContainer, {childList: true});\n",
       "}}\n",
       "\n",
       "// Listen for the clearing of the current output cell\n",
       "var outputEl = gd.closest('.output');\n",
       "if (outputEl) {{\n",
       "    x.observe(outputEl, {childList: true});\n",
       "}}\n",
       "\n",
       "                        })                };                });            </script>        </div>"
      ]
     },
     "metadata": {},
     "output_type": "display_data"
    }
   ],
   "source": [
    "px.histogram( Completed, x = \"genre\")"
   ]
  },
  {
   "cell_type": "code",
   "execution_count": 90,
   "id": "042a3e00",
   "metadata": {
    "execution": {
     "iopub.execute_input": "2022-06-07T19:02:03.618105Z",
     "iopub.status.busy": "2022-06-07T19:02:03.617564Z",
     "iopub.status.idle": "2022-06-07T19:02:03.684125Z",
     "shell.execute_reply": "2022-06-07T19:02:03.683112Z"
    },
    "papermill": {
     "duration": 0.117512,
     "end_time": "2022-06-07T19:02:03.686336",
     "exception": false,
     "start_time": "2022-06-07T19:02:03.568824",
     "status": "completed"
    },
    "tags": []
   },
   "outputs": [
    {
     "data": {
      "text/html": [
       "<div>                            <div id=\"296a2e76-8fba-471c-9c50-89bb9ca2180d\" class=\"plotly-graph-div\" style=\"height:525px; width:100%;\"></div>            <script type=\"text/javascript\">                require([\"plotly\"], function(Plotly) {                    window.PLOTLYENV=window.PLOTLYENV || {};                                    if (document.getElementById(\"296a2e76-8fba-471c-9c50-89bb9ca2180d\")) {                    Plotly.newPlot(                        \"296a2e76-8fba-471c-9c50-89bb9ca2180d\",                        [{\"alignmentgroup\":\"True\",\"bingroup\":\"x\",\"hovertemplate\":\"genre=%{x}<br>count=%{y}<extra></extra>\",\"legendgroup\":\"\",\"marker\":{\"color\":\"#636efa\",\"pattern\":{\"shape\":\"\"}},\"name\":\"\",\"offsetgroup\":\"\",\"orientation\":\"v\",\"showlegend\":false,\"x\":[\"Mystery\",\"Mystery\",\"Humour/ Satire\",\"Mystery\",\"Literary Fiction\",\"Humour/ Satire\",\"Fantasy\",\"Mystery\",\"Mystery\",\"Mystery\",\"Picture book\",\"Mystery\",\"Mystery\",\"Mystery\",\"Mystery\",\"Mystery\",\"Fantasy\",\"Romance\",\"Fantasy\",\"Romance\",\"Romance\",\"Thriller\",\"Thriller\",\"Thriller\",\"Romance\",\"Romance\",\"Humour/ Satire\",\"Romance\",\"Horror\",\"Romance\",\"Fantasy\",\"Contemporary\",\"Romance\",\"Romance\",\"Mystery\",\"Romance\",\"Romance\",\"経済小説\",\"Romance\",\"Mystery\",\"Romance\",\"Fantasy\",\"Mystery\",\"Romance\",\"Mystery\",\"Fantasy\",\"Fantasy\",\"Romance\",\"Fantasy\",\"Magical realism\",\"Fantasy\",\"Fantasy\",\"Romance\",\"Mystery\",\"Mystery\",\"経営書\",\"Fantasy\",\"Humour/ Satire\",\"Mystery\",\"Fantasy\",\"Fantasy\",\"Mystery\",\"経済小説\",\"Horror\",\"Mystery\",\"Mystery\",\"Fantasy\",\"Horror\",\"Mystery\",\"Horror\",\"Literary Fiction\",\"Romance\",\"Thriller\",\"Fantasy\",\"Horror\",\"Horror\",\"Fantasy\",\"Horror\",\"Horror\",\"Mystery\",\"Fantasy\",\"Horror\",\"Mystery\",\"Literary Fiction\",\"Mystery\",\"Bildungsroman\",\"Horror\",\"Contemporary\",\"Fantasy\",\"Mystery\",\"Fantasy\",\"Mystery\",\"仕事小説\",\"Fantasy\",\"Mystery\",\"Mystery\",\"Mystery\",\"Mystery\",\"仕事小説\",\"Mystery\",\"Contemporary\",\"Fantasy\",\"Mystery\",\"Fantasy\",\"Romance\",\"Literary Fiction\",\"Mystery\",\"Thriller\",\"Science Fiction\",\"Horror\",\"Humour Encyclopaedias\",\"Romance\",\"Realist Literature\",\"Thriller\",\"Romance\",\"Romance\",\"経済小説\",\"Mystery\",\"Thriller\",\"Romance\",\"Mystery\",\"Romance\",\"Fantasy\",\"Thriller\",\"仕事小説\",\"Fantasy\",\"Contemporary\",\"Realist Literature\",\"Contemporary\",\"Thriller\",\"Thriller\",\"Mystery\",\"Thriller\",\"Fantasy\",\"Romance\",\"Horror\",\"Mystery\",\"Romance\",\"Fantasy\",\"Mystery\",\"Romance\",\"Mystery\",\"Fantasy\",\"Contemporary\",\"Thriller\",\"Fantasy\",\"Romance\",\"Romance\",\"Mystery\",\"Horror\",\"Thriller\",\"Romance\",\"Realist Literature\",\"経済小説\",\"Mystery\",\"Mystery\",\"Contemporary\",\"Romance\",\"Mystery\",\"Mystery\",\"Romance\",\"Contemporary\",\"Thriller\",\"経済小説\",\"Realist Literature\",\"Bildungsroman\"],\"xaxis\":\"x\",\"yaxis\":\"y\",\"type\":\"histogram\"}],                        {\"template\":{\"data\":{\"histogram2dcontour\":[{\"type\":\"histogram2dcontour\",\"colorbar\":{\"outlinewidth\":0,\"ticks\":\"\"},\"colorscale\":[[0.0,\"#0d0887\"],[0.1111111111111111,\"#46039f\"],[0.2222222222222222,\"#7201a8\"],[0.3333333333333333,\"#9c179e\"],[0.4444444444444444,\"#bd3786\"],[0.5555555555555556,\"#d8576b\"],[0.6666666666666666,\"#ed7953\"],[0.7777777777777778,\"#fb9f3a\"],[0.8888888888888888,\"#fdca26\"],[1.0,\"#f0f921\"]]}],\"choropleth\":[{\"type\":\"choropleth\",\"colorbar\":{\"outlinewidth\":0,\"ticks\":\"\"}}],\"histogram2d\":[{\"type\":\"histogram2d\",\"colorbar\":{\"outlinewidth\":0,\"ticks\":\"\"},\"colorscale\":[[0.0,\"#0d0887\"],[0.1111111111111111,\"#46039f\"],[0.2222222222222222,\"#7201a8\"],[0.3333333333333333,\"#9c179e\"],[0.4444444444444444,\"#bd3786\"],[0.5555555555555556,\"#d8576b\"],[0.6666666666666666,\"#ed7953\"],[0.7777777777777778,\"#fb9f3a\"],[0.8888888888888888,\"#fdca26\"],[1.0,\"#f0f921\"]]}],\"heatmap\":[{\"type\":\"heatmap\",\"colorbar\":{\"outlinewidth\":0,\"ticks\":\"\"},\"colorscale\":[[0.0,\"#0d0887\"],[0.1111111111111111,\"#46039f\"],[0.2222222222222222,\"#7201a8\"],[0.3333333333333333,\"#9c179e\"],[0.4444444444444444,\"#bd3786\"],[0.5555555555555556,\"#d8576b\"],[0.6666666666666666,\"#ed7953\"],[0.7777777777777778,\"#fb9f3a\"],[0.8888888888888888,\"#fdca26\"],[1.0,\"#f0f921\"]]}],\"heatmapgl\":[{\"type\":\"heatmapgl\",\"colorbar\":{\"outlinewidth\":0,\"ticks\":\"\"},\"colorscale\":[[0.0,\"#0d0887\"],[0.1111111111111111,\"#46039f\"],[0.2222222222222222,\"#7201a8\"],[0.3333333333333333,\"#9c179e\"],[0.4444444444444444,\"#bd3786\"],[0.5555555555555556,\"#d8576b\"],[0.6666666666666666,\"#ed7953\"],[0.7777777777777778,\"#fb9f3a\"],[0.8888888888888888,\"#fdca26\"],[1.0,\"#f0f921\"]]}],\"contourcarpet\":[{\"type\":\"contourcarpet\",\"colorbar\":{\"outlinewidth\":0,\"ticks\":\"\"}}],\"contour\":[{\"type\":\"contour\",\"colorbar\":{\"outlinewidth\":0,\"ticks\":\"\"},\"colorscale\":[[0.0,\"#0d0887\"],[0.1111111111111111,\"#46039f\"],[0.2222222222222222,\"#7201a8\"],[0.3333333333333333,\"#9c179e\"],[0.4444444444444444,\"#bd3786\"],[0.5555555555555556,\"#d8576b\"],[0.6666666666666666,\"#ed7953\"],[0.7777777777777778,\"#fb9f3a\"],[0.8888888888888888,\"#fdca26\"],[1.0,\"#f0f921\"]]}],\"surface\":[{\"type\":\"surface\",\"colorbar\":{\"outlinewidth\":0,\"ticks\":\"\"},\"colorscale\":[[0.0,\"#0d0887\"],[0.1111111111111111,\"#46039f\"],[0.2222222222222222,\"#7201a8\"],[0.3333333333333333,\"#9c179e\"],[0.4444444444444444,\"#bd3786\"],[0.5555555555555556,\"#d8576b\"],[0.6666666666666666,\"#ed7953\"],[0.7777777777777778,\"#fb9f3a\"],[0.8888888888888888,\"#fdca26\"],[1.0,\"#f0f921\"]]}],\"mesh3d\":[{\"type\":\"mesh3d\",\"colorbar\":{\"outlinewidth\":0,\"ticks\":\"\"}}],\"scatter\":[{\"fillpattern\":{\"fillmode\":\"overlay\",\"size\":10,\"solidity\":0.2},\"type\":\"scatter\"}],\"parcoords\":[{\"type\":\"parcoords\",\"line\":{\"colorbar\":{\"outlinewidth\":0,\"ticks\":\"\"}}}],\"scatterpolargl\":[{\"type\":\"scatterpolargl\",\"marker\":{\"colorbar\":{\"outlinewidth\":0,\"ticks\":\"\"}}}],\"bar\":[{\"error_x\":{\"color\":\"#2a3f5f\"},\"error_y\":{\"color\":\"#2a3f5f\"},\"marker\":{\"line\":{\"color\":\"#E5ECF6\",\"width\":0.5},\"pattern\":{\"fillmode\":\"overlay\",\"size\":10,\"solidity\":0.2}},\"type\":\"bar\"}],\"scattergeo\":[{\"type\":\"scattergeo\",\"marker\":{\"colorbar\":{\"outlinewidth\":0,\"ticks\":\"\"}}}],\"scatterpolar\":[{\"type\":\"scatterpolar\",\"marker\":{\"colorbar\":{\"outlinewidth\":0,\"ticks\":\"\"}}}],\"histogram\":[{\"marker\":{\"pattern\":{\"fillmode\":\"overlay\",\"size\":10,\"solidity\":0.2}},\"type\":\"histogram\"}],\"scattergl\":[{\"type\":\"scattergl\",\"marker\":{\"colorbar\":{\"outlinewidth\":0,\"ticks\":\"\"}}}],\"scatter3d\":[{\"type\":\"scatter3d\",\"line\":{\"colorbar\":{\"outlinewidth\":0,\"ticks\":\"\"}},\"marker\":{\"colorbar\":{\"outlinewidth\":0,\"ticks\":\"\"}}}],\"scattermapbox\":[{\"type\":\"scattermapbox\",\"marker\":{\"colorbar\":{\"outlinewidth\":0,\"ticks\":\"\"}}}],\"scatterternary\":[{\"type\":\"scatterternary\",\"marker\":{\"colorbar\":{\"outlinewidth\":0,\"ticks\":\"\"}}}],\"scattercarpet\":[{\"type\":\"scattercarpet\",\"marker\":{\"colorbar\":{\"outlinewidth\":0,\"ticks\":\"\"}}}],\"carpet\":[{\"aaxis\":{\"endlinecolor\":\"#2a3f5f\",\"gridcolor\":\"white\",\"linecolor\":\"white\",\"minorgridcolor\":\"white\",\"startlinecolor\":\"#2a3f5f\"},\"baxis\":{\"endlinecolor\":\"#2a3f5f\",\"gridcolor\":\"white\",\"linecolor\":\"white\",\"minorgridcolor\":\"white\",\"startlinecolor\":\"#2a3f5f\"},\"type\":\"carpet\"}],\"table\":[{\"cells\":{\"fill\":{\"color\":\"#EBF0F8\"},\"line\":{\"color\":\"white\"}},\"header\":{\"fill\":{\"color\":\"#C8D4E3\"},\"line\":{\"color\":\"white\"}},\"type\":\"table\"}],\"barpolar\":[{\"marker\":{\"line\":{\"color\":\"#E5ECF6\",\"width\":0.5},\"pattern\":{\"fillmode\":\"overlay\",\"size\":10,\"solidity\":0.2}},\"type\":\"barpolar\"}],\"pie\":[{\"automargin\":true,\"type\":\"pie\"}]},\"layout\":{\"autotypenumbers\":\"strict\",\"colorway\":[\"#636efa\",\"#EF553B\",\"#00cc96\",\"#ab63fa\",\"#FFA15A\",\"#19d3f3\",\"#FF6692\",\"#B6E880\",\"#FF97FF\",\"#FECB52\"],\"font\":{\"color\":\"#2a3f5f\"},\"hovermode\":\"closest\",\"hoverlabel\":{\"align\":\"left\"},\"paper_bgcolor\":\"white\",\"plot_bgcolor\":\"#E5ECF6\",\"polar\":{\"bgcolor\":\"#E5ECF6\",\"angularaxis\":{\"gridcolor\":\"white\",\"linecolor\":\"white\",\"ticks\":\"\"},\"radialaxis\":{\"gridcolor\":\"white\",\"linecolor\":\"white\",\"ticks\":\"\"}},\"ternary\":{\"bgcolor\":\"#E5ECF6\",\"aaxis\":{\"gridcolor\":\"white\",\"linecolor\":\"white\",\"ticks\":\"\"},\"baxis\":{\"gridcolor\":\"white\",\"linecolor\":\"white\",\"ticks\":\"\"},\"caxis\":{\"gridcolor\":\"white\",\"linecolor\":\"white\",\"ticks\":\"\"}},\"coloraxis\":{\"colorbar\":{\"outlinewidth\":0,\"ticks\":\"\"}},\"colorscale\":{\"sequential\":[[0.0,\"#0d0887\"],[0.1111111111111111,\"#46039f\"],[0.2222222222222222,\"#7201a8\"],[0.3333333333333333,\"#9c179e\"],[0.4444444444444444,\"#bd3786\"],[0.5555555555555556,\"#d8576b\"],[0.6666666666666666,\"#ed7953\"],[0.7777777777777778,\"#fb9f3a\"],[0.8888888888888888,\"#fdca26\"],[1.0,\"#f0f921\"]],\"sequentialminus\":[[0.0,\"#0d0887\"],[0.1111111111111111,\"#46039f\"],[0.2222222222222222,\"#7201a8\"],[0.3333333333333333,\"#9c179e\"],[0.4444444444444444,\"#bd3786\"],[0.5555555555555556,\"#d8576b\"],[0.6666666666666666,\"#ed7953\"],[0.7777777777777778,\"#fb9f3a\"],[0.8888888888888888,\"#fdca26\"],[1.0,\"#f0f921\"]],\"diverging\":[[0,\"#8e0152\"],[0.1,\"#c51b7d\"],[0.2,\"#de77ae\"],[0.3,\"#f1b6da\"],[0.4,\"#fde0ef\"],[0.5,\"#f7f7f7\"],[0.6,\"#e6f5d0\"],[0.7,\"#b8e186\"],[0.8,\"#7fbc41\"],[0.9,\"#4d9221\"],[1,\"#276419\"]]},\"xaxis\":{\"gridcolor\":\"white\",\"linecolor\":\"white\",\"ticks\":\"\",\"title\":{\"standoff\":15},\"zerolinecolor\":\"white\",\"automargin\":true,\"zerolinewidth\":2},\"yaxis\":{\"gridcolor\":\"white\",\"linecolor\":\"white\",\"ticks\":\"\",\"title\":{\"standoff\":15},\"zerolinecolor\":\"white\",\"automargin\":true,\"zerolinewidth\":2},\"scene\":{\"xaxis\":{\"backgroundcolor\":\"#E5ECF6\",\"gridcolor\":\"white\",\"linecolor\":\"white\",\"showbackground\":true,\"ticks\":\"\",\"zerolinecolor\":\"white\",\"gridwidth\":2},\"yaxis\":{\"backgroundcolor\":\"#E5ECF6\",\"gridcolor\":\"white\",\"linecolor\":\"white\",\"showbackground\":true,\"ticks\":\"\",\"zerolinecolor\":\"white\",\"gridwidth\":2},\"zaxis\":{\"backgroundcolor\":\"#E5ECF6\",\"gridcolor\":\"white\",\"linecolor\":\"white\",\"showbackground\":true,\"ticks\":\"\",\"zerolinecolor\":\"white\",\"gridwidth\":2}},\"shapedefaults\":{\"line\":{\"color\":\"#2a3f5f\"}},\"annotationdefaults\":{\"arrowcolor\":\"#2a3f5f\",\"arrowhead\":0,\"arrowwidth\":1},\"geo\":{\"bgcolor\":\"white\",\"landcolor\":\"#E5ECF6\",\"subunitcolor\":\"white\",\"showland\":true,\"showlakes\":true,\"lakecolor\":\"white\"},\"title\":{\"x\":0.05},\"mapbox\":{\"style\":\"light\"}}},\"xaxis\":{\"anchor\":\"y\",\"domain\":[0.0,1.0],\"title\":{\"text\":\"genre\"}},\"yaxis\":{\"anchor\":\"x\",\"domain\":[0.0,1.0],\"title\":{\"text\":\"count\"}},\"legend\":{\"tracegroupgap\":0},\"margin\":{\"t\":60},\"barmode\":\"relative\"},                        {\"responsive\": true}                    ).then(function(){\n",
       "                            \n",
       "var gd = document.getElementById('296a2e76-8fba-471c-9c50-89bb9ca2180d');\n",
       "var x = new MutationObserver(function (mutations, observer) {{\n",
       "        var display = window.getComputedStyle(gd).display;\n",
       "        if (!display || display === 'none') {{\n",
       "            console.log([gd, 'removed!']);\n",
       "            Plotly.purge(gd);\n",
       "            observer.disconnect();\n",
       "        }}\n",
       "}});\n",
       "\n",
       "// Listen for the removal of the full notebook cells\n",
       "var notebookContainer = gd.closest('#notebook-container');\n",
       "if (notebookContainer) {{\n",
       "    x.observe(notebookContainer, {childList: true});\n",
       "}}\n",
       "\n",
       "// Listen for the clearing of the current output cell\n",
       "var outputEl = gd.closest('.output');\n",
       "if (outputEl) {{\n",
       "    x.observe(outputEl, {childList: true});\n",
       "}}\n",
       "\n",
       "                        })                };                });            </script>        </div>"
      ]
     },
     "metadata": {},
     "output_type": "display_data"
    }
   ],
   "source": [
    "px.histogram( Completed[Completed[\"language\"]==\"Japanese\"], x = \"genre\")"
   ]
  },
  {
   "cell_type": "code",
   "execution_count": 91,
   "id": "0809d15b",
   "metadata": {
    "execution": {
     "iopub.execute_input": "2022-06-07T19:02:03.780486Z",
     "iopub.status.busy": "2022-06-07T19:02:03.779571Z",
     "iopub.status.idle": "2022-06-07T19:02:03.846103Z",
     "shell.execute_reply": "2022-06-07T19:02:03.845141Z"
    },
    "papermill": {
     "duration": 0.116104,
     "end_time": "2022-06-07T19:02:03.848586",
     "exception": false,
     "start_time": "2022-06-07T19:02:03.732482",
     "status": "completed"
    },
    "tags": []
   },
   "outputs": [
    {
     "data": {
      "text/html": [
       "<div>                            <div id=\"e5a54a1d-1131-40f6-94c3-b71c11a7b172\" class=\"plotly-graph-div\" style=\"height:525px; width:100%;\"></div>            <script type=\"text/javascript\">                require([\"plotly\"], function(Plotly) {                    window.PLOTLYENV=window.PLOTLYENV || {};                                    if (document.getElementById(\"e5a54a1d-1131-40f6-94c3-b71c11a7b172\")) {                    Plotly.newPlot(                        \"e5a54a1d-1131-40f6-94c3-b71c11a7b172\",                        [{\"alignmentgroup\":\"True\",\"bingroup\":\"x\",\"hovertemplate\":\"genre=%{x}<br>count=%{y}<extra></extra>\",\"legendgroup\":\"\",\"marker\":{\"color\":\"#636efa\",\"pattern\":{\"shape\":\"\"}},\"name\":\"\",\"offsetgroup\":\"\",\"orientation\":\"v\",\"showlegend\":false,\"x\":[\"Literary Fiction\",\"Humour/ Satire\",\"Romance\",\"Science Fiction\",\"Romance\",\"Bildungsroman\",\"Self Help\",\"Mystery\",\"Literary Fiction\",\"Literary Fiction\",\"Magical realism\",\"Literary Fiction\",\"Humour/ Satire\",\"Economics\",\"Economics\",\"Horror\",\"Fantasy\",\"Mathematics\",\"Fantasy\",\"science\",\"Fantasy\",\"Horror\",\"Fantasy\",\"Fantasy\",\"Literary Fiction\",\"Economics\",\"Economics\",\"Literary Fiction\",\"Economics\",\"Literary Fiction\",\"Romance\",\"Mystery\",\"Bildungsroman\",\"Thriller\",\"Thriller\",\"Thriller\",\"Thriller\",\"Romance\",\"Fantasy\",\"Psychology\",\"Mystery\",\"Science Fiction\",\"Science Fiction\",\"Self Help\",\"Economics\",\"Economics\",\"Thriller\",\"Mystery\",\"Fantasy\",\"Bildungsroman\",\"Bildungsroman\",\"Bildungsroman\",\"Bildungsroman\",\"Fashion\",\"Fantasy\",\"Romance\",\"Bildungsroman\",\"science\",\"Mystery\",\"Mystery\",\"Physical Chemistry\",\"science\",\"Science Fiction\",\"Data\",\"Mystery\",\"Mystery\",\"Law\",\"Mystery\",\"Economics\",\"Fantasy\",\"Economics\",\"Fantasy\",\"science\",\"Humour/ Satire\",\"Fantasy\",\"Literary Fiction\",\"Science Fiction\",\"Self Help\",\"Self Help\",\"Thriller\",\"Fashion\",\"Fantasy\",\"Fantasy\",\"Thriller\",\"Business\",\"Thriller\",\"Applied Physics\",\"Fantasy\",\"Fantasy\",\"Mystery\",\"Contemporary\",\"Bildungsroman\",\"History\",\"Adventure\",\"Mystery\",\"Mystery\",\"Literary Fiction\",\"Thriller\",\"Contemporary\",\"Fashion\",\"Humour/ Satire\",\"Fantasy\",\"Fantasy\",\"Humour/ Satire\",\"Horror\",\"Humour/ Satire\",\"History\",\"Romance\",\"Fantasy\",\"Thriller\",\"Data\",\"Law\",\"Self Help\",\"Biographies\",\"Mystery\",\"Data\",\"Realist Literature\",\"Bildungsroman\",\"Fantasy\",\"History\",\"Essays, Journals & Letters\",\"Fantasy\",\"Mystery\",\"Thriller\",\"Literary Fiction\",\"Contemporary\",\"Contemporary\",\"Mystery\",\"Mystery\",\"Fantasy\",\"Romance\",\"Mystery\",\"History\",\"Contemporary\",\"Humour/ Satire\",\"Mathematics\",\"Fantasy\",\"Fantasy\",\"Romance\",\"Humour/ Satire\",\"Humour/ Satire\",\"Fantasy\",\"Romance\",\"Fantasy\",\"Realist Literature\",\"Fantasy\",\"Fantasy\",\"Mystery\",\"Psychology\",\"Mystery\",\"Mystery\",\"Data\",\"Economics\",\"Psychology\",\"Architectural History\",\"Literary Fiction\",\"Fantasy\",\"Romance\",\"Humour/ Satire\",\"Humour/ Satire\",\"Fashion\",\"Humour/ Satire\"],\"xaxis\":\"x\",\"yaxis\":\"y\",\"type\":\"histogram\"}],                        {\"template\":{\"data\":{\"histogram2dcontour\":[{\"type\":\"histogram2dcontour\",\"colorbar\":{\"outlinewidth\":0,\"ticks\":\"\"},\"colorscale\":[[0.0,\"#0d0887\"],[0.1111111111111111,\"#46039f\"],[0.2222222222222222,\"#7201a8\"],[0.3333333333333333,\"#9c179e\"],[0.4444444444444444,\"#bd3786\"],[0.5555555555555556,\"#d8576b\"],[0.6666666666666666,\"#ed7953\"],[0.7777777777777778,\"#fb9f3a\"],[0.8888888888888888,\"#fdca26\"],[1.0,\"#f0f921\"]]}],\"choropleth\":[{\"type\":\"choropleth\",\"colorbar\":{\"outlinewidth\":0,\"ticks\":\"\"}}],\"histogram2d\":[{\"type\":\"histogram2d\",\"colorbar\":{\"outlinewidth\":0,\"ticks\":\"\"},\"colorscale\":[[0.0,\"#0d0887\"],[0.1111111111111111,\"#46039f\"],[0.2222222222222222,\"#7201a8\"],[0.3333333333333333,\"#9c179e\"],[0.4444444444444444,\"#bd3786\"],[0.5555555555555556,\"#d8576b\"],[0.6666666666666666,\"#ed7953\"],[0.7777777777777778,\"#fb9f3a\"],[0.8888888888888888,\"#fdca26\"],[1.0,\"#f0f921\"]]}],\"heatmap\":[{\"type\":\"heatmap\",\"colorbar\":{\"outlinewidth\":0,\"ticks\":\"\"},\"colorscale\":[[0.0,\"#0d0887\"],[0.1111111111111111,\"#46039f\"],[0.2222222222222222,\"#7201a8\"],[0.3333333333333333,\"#9c179e\"],[0.4444444444444444,\"#bd3786\"],[0.5555555555555556,\"#d8576b\"],[0.6666666666666666,\"#ed7953\"],[0.7777777777777778,\"#fb9f3a\"],[0.8888888888888888,\"#fdca26\"],[1.0,\"#f0f921\"]]}],\"heatmapgl\":[{\"type\":\"heatmapgl\",\"colorbar\":{\"outlinewidth\":0,\"ticks\":\"\"},\"colorscale\":[[0.0,\"#0d0887\"],[0.1111111111111111,\"#46039f\"],[0.2222222222222222,\"#7201a8\"],[0.3333333333333333,\"#9c179e\"],[0.4444444444444444,\"#bd3786\"],[0.5555555555555556,\"#d8576b\"],[0.6666666666666666,\"#ed7953\"],[0.7777777777777778,\"#fb9f3a\"],[0.8888888888888888,\"#fdca26\"],[1.0,\"#f0f921\"]]}],\"contourcarpet\":[{\"type\":\"contourcarpet\",\"colorbar\":{\"outlinewidth\":0,\"ticks\":\"\"}}],\"contour\":[{\"type\":\"contour\",\"colorbar\":{\"outlinewidth\":0,\"ticks\":\"\"},\"colorscale\":[[0.0,\"#0d0887\"],[0.1111111111111111,\"#46039f\"],[0.2222222222222222,\"#7201a8\"],[0.3333333333333333,\"#9c179e\"],[0.4444444444444444,\"#bd3786\"],[0.5555555555555556,\"#d8576b\"],[0.6666666666666666,\"#ed7953\"],[0.7777777777777778,\"#fb9f3a\"],[0.8888888888888888,\"#fdca26\"],[1.0,\"#f0f921\"]]}],\"surface\":[{\"type\":\"surface\",\"colorbar\":{\"outlinewidth\":0,\"ticks\":\"\"},\"colorscale\":[[0.0,\"#0d0887\"],[0.1111111111111111,\"#46039f\"],[0.2222222222222222,\"#7201a8\"],[0.3333333333333333,\"#9c179e\"],[0.4444444444444444,\"#bd3786\"],[0.5555555555555556,\"#d8576b\"],[0.6666666666666666,\"#ed7953\"],[0.7777777777777778,\"#fb9f3a\"],[0.8888888888888888,\"#fdca26\"],[1.0,\"#f0f921\"]]}],\"mesh3d\":[{\"type\":\"mesh3d\",\"colorbar\":{\"outlinewidth\":0,\"ticks\":\"\"}}],\"scatter\":[{\"fillpattern\":{\"fillmode\":\"overlay\",\"size\":10,\"solidity\":0.2},\"type\":\"scatter\"}],\"parcoords\":[{\"type\":\"parcoords\",\"line\":{\"colorbar\":{\"outlinewidth\":0,\"ticks\":\"\"}}}],\"scatterpolargl\":[{\"type\":\"scatterpolargl\",\"marker\":{\"colorbar\":{\"outlinewidth\":0,\"ticks\":\"\"}}}],\"bar\":[{\"error_x\":{\"color\":\"#2a3f5f\"},\"error_y\":{\"color\":\"#2a3f5f\"},\"marker\":{\"line\":{\"color\":\"#E5ECF6\",\"width\":0.5},\"pattern\":{\"fillmode\":\"overlay\",\"size\":10,\"solidity\":0.2}},\"type\":\"bar\"}],\"scattergeo\":[{\"type\":\"scattergeo\",\"marker\":{\"colorbar\":{\"outlinewidth\":0,\"ticks\":\"\"}}}],\"scatterpolar\":[{\"type\":\"scatterpolar\",\"marker\":{\"colorbar\":{\"outlinewidth\":0,\"ticks\":\"\"}}}],\"histogram\":[{\"marker\":{\"pattern\":{\"fillmode\":\"overlay\",\"size\":10,\"solidity\":0.2}},\"type\":\"histogram\"}],\"scattergl\":[{\"type\":\"scattergl\",\"marker\":{\"colorbar\":{\"outlinewidth\":0,\"ticks\":\"\"}}}],\"scatter3d\":[{\"type\":\"scatter3d\",\"line\":{\"colorbar\":{\"outlinewidth\":0,\"ticks\":\"\"}},\"marker\":{\"colorbar\":{\"outlinewidth\":0,\"ticks\":\"\"}}}],\"scattermapbox\":[{\"type\":\"scattermapbox\",\"marker\":{\"colorbar\":{\"outlinewidth\":0,\"ticks\":\"\"}}}],\"scatterternary\":[{\"type\":\"scatterternary\",\"marker\":{\"colorbar\":{\"outlinewidth\":0,\"ticks\":\"\"}}}],\"scattercarpet\":[{\"type\":\"scattercarpet\",\"marker\":{\"colorbar\":{\"outlinewidth\":0,\"ticks\":\"\"}}}],\"carpet\":[{\"aaxis\":{\"endlinecolor\":\"#2a3f5f\",\"gridcolor\":\"white\",\"linecolor\":\"white\",\"minorgridcolor\":\"white\",\"startlinecolor\":\"#2a3f5f\"},\"baxis\":{\"endlinecolor\":\"#2a3f5f\",\"gridcolor\":\"white\",\"linecolor\":\"white\",\"minorgridcolor\":\"white\",\"startlinecolor\":\"#2a3f5f\"},\"type\":\"carpet\"}],\"table\":[{\"cells\":{\"fill\":{\"color\":\"#EBF0F8\"},\"line\":{\"color\":\"white\"}},\"header\":{\"fill\":{\"color\":\"#C8D4E3\"},\"line\":{\"color\":\"white\"}},\"type\":\"table\"}],\"barpolar\":[{\"marker\":{\"line\":{\"color\":\"#E5ECF6\",\"width\":0.5},\"pattern\":{\"fillmode\":\"overlay\",\"size\":10,\"solidity\":0.2}},\"type\":\"barpolar\"}],\"pie\":[{\"automargin\":true,\"type\":\"pie\"}]},\"layout\":{\"autotypenumbers\":\"strict\",\"colorway\":[\"#636efa\",\"#EF553B\",\"#00cc96\",\"#ab63fa\",\"#FFA15A\",\"#19d3f3\",\"#FF6692\",\"#B6E880\",\"#FF97FF\",\"#FECB52\"],\"font\":{\"color\":\"#2a3f5f\"},\"hovermode\":\"closest\",\"hoverlabel\":{\"align\":\"left\"},\"paper_bgcolor\":\"white\",\"plot_bgcolor\":\"#E5ECF6\",\"polar\":{\"bgcolor\":\"#E5ECF6\",\"angularaxis\":{\"gridcolor\":\"white\",\"linecolor\":\"white\",\"ticks\":\"\"},\"radialaxis\":{\"gridcolor\":\"white\",\"linecolor\":\"white\",\"ticks\":\"\"}},\"ternary\":{\"bgcolor\":\"#E5ECF6\",\"aaxis\":{\"gridcolor\":\"white\",\"linecolor\":\"white\",\"ticks\":\"\"},\"baxis\":{\"gridcolor\":\"white\",\"linecolor\":\"white\",\"ticks\":\"\"},\"caxis\":{\"gridcolor\":\"white\",\"linecolor\":\"white\",\"ticks\":\"\"}},\"coloraxis\":{\"colorbar\":{\"outlinewidth\":0,\"ticks\":\"\"}},\"colorscale\":{\"sequential\":[[0.0,\"#0d0887\"],[0.1111111111111111,\"#46039f\"],[0.2222222222222222,\"#7201a8\"],[0.3333333333333333,\"#9c179e\"],[0.4444444444444444,\"#bd3786\"],[0.5555555555555556,\"#d8576b\"],[0.6666666666666666,\"#ed7953\"],[0.7777777777777778,\"#fb9f3a\"],[0.8888888888888888,\"#fdca26\"],[1.0,\"#f0f921\"]],\"sequentialminus\":[[0.0,\"#0d0887\"],[0.1111111111111111,\"#46039f\"],[0.2222222222222222,\"#7201a8\"],[0.3333333333333333,\"#9c179e\"],[0.4444444444444444,\"#bd3786\"],[0.5555555555555556,\"#d8576b\"],[0.6666666666666666,\"#ed7953\"],[0.7777777777777778,\"#fb9f3a\"],[0.8888888888888888,\"#fdca26\"],[1.0,\"#f0f921\"]],\"diverging\":[[0,\"#8e0152\"],[0.1,\"#c51b7d\"],[0.2,\"#de77ae\"],[0.3,\"#f1b6da\"],[0.4,\"#fde0ef\"],[0.5,\"#f7f7f7\"],[0.6,\"#e6f5d0\"],[0.7,\"#b8e186\"],[0.8,\"#7fbc41\"],[0.9,\"#4d9221\"],[1,\"#276419\"]]},\"xaxis\":{\"gridcolor\":\"white\",\"linecolor\":\"white\",\"ticks\":\"\",\"title\":{\"standoff\":15},\"zerolinecolor\":\"white\",\"automargin\":true,\"zerolinewidth\":2},\"yaxis\":{\"gridcolor\":\"white\",\"linecolor\":\"white\",\"ticks\":\"\",\"title\":{\"standoff\":15},\"zerolinecolor\":\"white\",\"automargin\":true,\"zerolinewidth\":2},\"scene\":{\"xaxis\":{\"backgroundcolor\":\"#E5ECF6\",\"gridcolor\":\"white\",\"linecolor\":\"white\",\"showbackground\":true,\"ticks\":\"\",\"zerolinecolor\":\"white\",\"gridwidth\":2},\"yaxis\":{\"backgroundcolor\":\"#E5ECF6\",\"gridcolor\":\"white\",\"linecolor\":\"white\",\"showbackground\":true,\"ticks\":\"\",\"zerolinecolor\":\"white\",\"gridwidth\":2},\"zaxis\":{\"backgroundcolor\":\"#E5ECF6\",\"gridcolor\":\"white\",\"linecolor\":\"white\",\"showbackground\":true,\"ticks\":\"\",\"zerolinecolor\":\"white\",\"gridwidth\":2}},\"shapedefaults\":{\"line\":{\"color\":\"#2a3f5f\"}},\"annotationdefaults\":{\"arrowcolor\":\"#2a3f5f\",\"arrowhead\":0,\"arrowwidth\":1},\"geo\":{\"bgcolor\":\"white\",\"landcolor\":\"#E5ECF6\",\"subunitcolor\":\"white\",\"showland\":true,\"showlakes\":true,\"lakecolor\":\"white\"},\"title\":{\"x\":0.05},\"mapbox\":{\"style\":\"light\"}}},\"xaxis\":{\"anchor\":\"y\",\"domain\":[0.0,1.0],\"title\":{\"text\":\"genre\"}},\"yaxis\":{\"anchor\":\"x\",\"domain\":[0.0,1.0],\"title\":{\"text\":\"count\"}},\"legend\":{\"tracegroupgap\":0},\"margin\":{\"t\":60},\"barmode\":\"relative\"},                        {\"responsive\": true}                    ).then(function(){\n",
       "                            \n",
       "var gd = document.getElementById('e5a54a1d-1131-40f6-94c3-b71c11a7b172');\n",
       "var x = new MutationObserver(function (mutations, observer) {{\n",
       "        var display = window.getComputedStyle(gd).display;\n",
       "        if (!display || display === 'none') {{\n",
       "            console.log([gd, 'removed!']);\n",
       "            Plotly.purge(gd);\n",
       "            observer.disconnect();\n",
       "        }}\n",
       "}});\n",
       "\n",
       "// Listen for the removal of the full notebook cells\n",
       "var notebookContainer = gd.closest('#notebook-container');\n",
       "if (notebookContainer) {{\n",
       "    x.observe(notebookContainer, {childList: true});\n",
       "}}\n",
       "\n",
       "// Listen for the clearing of the current output cell\n",
       "var outputEl = gd.closest('.output');\n",
       "if (outputEl) {{\n",
       "    x.observe(outputEl, {childList: true});\n",
       "}}\n",
       "\n",
       "                        })                };                });            </script>        </div>"
      ]
     },
     "metadata": {},
     "output_type": "display_data"
    }
   ],
   "source": [
    "px.histogram( Completed[Completed[\"language\"]==\"English\"], x = \"genre\")"
   ]
  },
  {
   "cell_type": "code",
   "execution_count": 92,
   "id": "0fb8f955",
   "metadata": {
    "execution": {
     "iopub.execute_input": "2022-06-07T19:02:04.014274Z",
     "iopub.status.busy": "2022-06-07T19:02:04.013677Z",
     "iopub.status.idle": "2022-06-07T19:02:04.082388Z",
     "shell.execute_reply": "2022-06-07T19:02:04.081375Z"
    },
    "papermill": {
     "duration": 0.187936,
     "end_time": "2022-06-07T19:02:04.084615",
     "exception": false,
     "start_time": "2022-06-07T19:02:03.896679",
     "status": "completed"
    },
    "tags": []
   },
   "outputs": [
    {
     "data": {
      "text/html": [
       "<div>                            <div id=\"00ff4b2d-0051-431e-8c2d-78138f502f1d\" class=\"plotly-graph-div\" style=\"height:525px; width:100%;\"></div>            <script type=\"text/javascript\">                require([\"plotly\"], function(Plotly) {                    window.PLOTLYENV=window.PLOTLYENV || {};                                    if (document.getElementById(\"00ff4b2d-0051-431e-8c2d-78138f502f1d\")) {                    Plotly.newPlot(                        \"00ff4b2d-0051-431e-8c2d-78138f502f1d\",                        [{\"alignmentgroup\":\"True\",\"bingroup\":\"x\",\"hovertemplate\":\"genre=%{x}<br>count=%{y}<extra></extra>\",\"legendgroup\":\"\",\"marker\":{\"color\":\"#636efa\",\"pattern\":{\"shape\":\"\"}},\"name\":\"\",\"offsetgroup\":\"\",\"orientation\":\"v\",\"showlegend\":false,\"x\":[\"Humour/ Satire\",\"Mystery\",\"Science Fiction\",\"Self Help\",\"Literary Fiction\",\"Mystery\",\"Literary Fiction\",\"Mystery\",\"Romance\",\"Romance\",\"Romance\",\"Romance\",\"Romance\",\"Romance\",\"Romance\",\"Mystery\",\"Fantasy\",\"Romance\",\"Mystery\",\"Mystery\",\"Fantasy\",\"Mystery\",\"Literary Fiction\",\"Literary Fiction\",\"Mystery\",\"Thriller\",\"Thriller\",\"Thriller\",\"Mystery\",\"Mystery\",\"Science Fiction\",\"Fantasy\",\"Romance\",\"Literary Fiction\",\"Romance\",\"Romance\",\"Mystery\",\"Romance\",\"Mystery\",\"Romance\",\"Romance\",\"Fantasy\",\"Fantasy\",\"Fantasy\",\"Literary Fiction\",\"Romance\",\"Mystery\",\"Fantasy\",\"Mystery\",\"Fantasy\",\"Fantasy\",\"Romance\",\"Mystery\",\"Humour/ Satire\",\"Fantasy\"],\"xaxis\":\"x\",\"yaxis\":\"y\",\"type\":\"histogram\"}],                        {\"template\":{\"data\":{\"histogram2dcontour\":[{\"type\":\"histogram2dcontour\",\"colorbar\":{\"outlinewidth\":0,\"ticks\":\"\"},\"colorscale\":[[0.0,\"#0d0887\"],[0.1111111111111111,\"#46039f\"],[0.2222222222222222,\"#7201a8\"],[0.3333333333333333,\"#9c179e\"],[0.4444444444444444,\"#bd3786\"],[0.5555555555555556,\"#d8576b\"],[0.6666666666666666,\"#ed7953\"],[0.7777777777777778,\"#fb9f3a\"],[0.8888888888888888,\"#fdca26\"],[1.0,\"#f0f921\"]]}],\"choropleth\":[{\"type\":\"choropleth\",\"colorbar\":{\"outlinewidth\":0,\"ticks\":\"\"}}],\"histogram2d\":[{\"type\":\"histogram2d\",\"colorbar\":{\"outlinewidth\":0,\"ticks\":\"\"},\"colorscale\":[[0.0,\"#0d0887\"],[0.1111111111111111,\"#46039f\"],[0.2222222222222222,\"#7201a8\"],[0.3333333333333333,\"#9c179e\"],[0.4444444444444444,\"#bd3786\"],[0.5555555555555556,\"#d8576b\"],[0.6666666666666666,\"#ed7953\"],[0.7777777777777778,\"#fb9f3a\"],[0.8888888888888888,\"#fdca26\"],[1.0,\"#f0f921\"]]}],\"heatmap\":[{\"type\":\"heatmap\",\"colorbar\":{\"outlinewidth\":0,\"ticks\":\"\"},\"colorscale\":[[0.0,\"#0d0887\"],[0.1111111111111111,\"#46039f\"],[0.2222222222222222,\"#7201a8\"],[0.3333333333333333,\"#9c179e\"],[0.4444444444444444,\"#bd3786\"],[0.5555555555555556,\"#d8576b\"],[0.6666666666666666,\"#ed7953\"],[0.7777777777777778,\"#fb9f3a\"],[0.8888888888888888,\"#fdca26\"],[1.0,\"#f0f921\"]]}],\"heatmapgl\":[{\"type\":\"heatmapgl\",\"colorbar\":{\"outlinewidth\":0,\"ticks\":\"\"},\"colorscale\":[[0.0,\"#0d0887\"],[0.1111111111111111,\"#46039f\"],[0.2222222222222222,\"#7201a8\"],[0.3333333333333333,\"#9c179e\"],[0.4444444444444444,\"#bd3786\"],[0.5555555555555556,\"#d8576b\"],[0.6666666666666666,\"#ed7953\"],[0.7777777777777778,\"#fb9f3a\"],[0.8888888888888888,\"#fdca26\"],[1.0,\"#f0f921\"]]}],\"contourcarpet\":[{\"type\":\"contourcarpet\",\"colorbar\":{\"outlinewidth\":0,\"ticks\":\"\"}}],\"contour\":[{\"type\":\"contour\",\"colorbar\":{\"outlinewidth\":0,\"ticks\":\"\"},\"colorscale\":[[0.0,\"#0d0887\"],[0.1111111111111111,\"#46039f\"],[0.2222222222222222,\"#7201a8\"],[0.3333333333333333,\"#9c179e\"],[0.4444444444444444,\"#bd3786\"],[0.5555555555555556,\"#d8576b\"],[0.6666666666666666,\"#ed7953\"],[0.7777777777777778,\"#fb9f3a\"],[0.8888888888888888,\"#fdca26\"],[1.0,\"#f0f921\"]]}],\"surface\":[{\"type\":\"surface\",\"colorbar\":{\"outlinewidth\":0,\"ticks\":\"\"},\"colorscale\":[[0.0,\"#0d0887\"],[0.1111111111111111,\"#46039f\"],[0.2222222222222222,\"#7201a8\"],[0.3333333333333333,\"#9c179e\"],[0.4444444444444444,\"#bd3786\"],[0.5555555555555556,\"#d8576b\"],[0.6666666666666666,\"#ed7953\"],[0.7777777777777778,\"#fb9f3a\"],[0.8888888888888888,\"#fdca26\"],[1.0,\"#f0f921\"]]}],\"mesh3d\":[{\"type\":\"mesh3d\",\"colorbar\":{\"outlinewidth\":0,\"ticks\":\"\"}}],\"scatter\":[{\"fillpattern\":{\"fillmode\":\"overlay\",\"size\":10,\"solidity\":0.2},\"type\":\"scatter\"}],\"parcoords\":[{\"type\":\"parcoords\",\"line\":{\"colorbar\":{\"outlinewidth\":0,\"ticks\":\"\"}}}],\"scatterpolargl\":[{\"type\":\"scatterpolargl\",\"marker\":{\"colorbar\":{\"outlinewidth\":0,\"ticks\":\"\"}}}],\"bar\":[{\"error_x\":{\"color\":\"#2a3f5f\"},\"error_y\":{\"color\":\"#2a3f5f\"},\"marker\":{\"line\":{\"color\":\"#E5ECF6\",\"width\":0.5},\"pattern\":{\"fillmode\":\"overlay\",\"size\":10,\"solidity\":0.2}},\"type\":\"bar\"}],\"scattergeo\":[{\"type\":\"scattergeo\",\"marker\":{\"colorbar\":{\"outlinewidth\":0,\"ticks\":\"\"}}}],\"scatterpolar\":[{\"type\":\"scatterpolar\",\"marker\":{\"colorbar\":{\"outlinewidth\":0,\"ticks\":\"\"}}}],\"histogram\":[{\"marker\":{\"pattern\":{\"fillmode\":\"overlay\",\"size\":10,\"solidity\":0.2}},\"type\":\"histogram\"}],\"scattergl\":[{\"type\":\"scattergl\",\"marker\":{\"colorbar\":{\"outlinewidth\":0,\"ticks\":\"\"}}}],\"scatter3d\":[{\"type\":\"scatter3d\",\"line\":{\"colorbar\":{\"outlinewidth\":0,\"ticks\":\"\"}},\"marker\":{\"colorbar\":{\"outlinewidth\":0,\"ticks\":\"\"}}}],\"scattermapbox\":[{\"type\":\"scattermapbox\",\"marker\":{\"colorbar\":{\"outlinewidth\":0,\"ticks\":\"\"}}}],\"scatterternary\":[{\"type\":\"scatterternary\",\"marker\":{\"colorbar\":{\"outlinewidth\":0,\"ticks\":\"\"}}}],\"scattercarpet\":[{\"type\":\"scattercarpet\",\"marker\":{\"colorbar\":{\"outlinewidth\":0,\"ticks\":\"\"}}}],\"carpet\":[{\"aaxis\":{\"endlinecolor\":\"#2a3f5f\",\"gridcolor\":\"white\",\"linecolor\":\"white\",\"minorgridcolor\":\"white\",\"startlinecolor\":\"#2a3f5f\"},\"baxis\":{\"endlinecolor\":\"#2a3f5f\",\"gridcolor\":\"white\",\"linecolor\":\"white\",\"minorgridcolor\":\"white\",\"startlinecolor\":\"#2a3f5f\"},\"type\":\"carpet\"}],\"table\":[{\"cells\":{\"fill\":{\"color\":\"#EBF0F8\"},\"line\":{\"color\":\"white\"}},\"header\":{\"fill\":{\"color\":\"#C8D4E3\"},\"line\":{\"color\":\"white\"}},\"type\":\"table\"}],\"barpolar\":[{\"marker\":{\"line\":{\"color\":\"#E5ECF6\",\"width\":0.5},\"pattern\":{\"fillmode\":\"overlay\",\"size\":10,\"solidity\":0.2}},\"type\":\"barpolar\"}],\"pie\":[{\"automargin\":true,\"type\":\"pie\"}]},\"layout\":{\"autotypenumbers\":\"strict\",\"colorway\":[\"#636efa\",\"#EF553B\",\"#00cc96\",\"#ab63fa\",\"#FFA15A\",\"#19d3f3\",\"#FF6692\",\"#B6E880\",\"#FF97FF\",\"#FECB52\"],\"font\":{\"color\":\"#2a3f5f\"},\"hovermode\":\"closest\",\"hoverlabel\":{\"align\":\"left\"},\"paper_bgcolor\":\"white\",\"plot_bgcolor\":\"#E5ECF6\",\"polar\":{\"bgcolor\":\"#E5ECF6\",\"angularaxis\":{\"gridcolor\":\"white\",\"linecolor\":\"white\",\"ticks\":\"\"},\"radialaxis\":{\"gridcolor\":\"white\",\"linecolor\":\"white\",\"ticks\":\"\"}},\"ternary\":{\"bgcolor\":\"#E5ECF6\",\"aaxis\":{\"gridcolor\":\"white\",\"linecolor\":\"white\",\"ticks\":\"\"},\"baxis\":{\"gridcolor\":\"white\",\"linecolor\":\"white\",\"ticks\":\"\"},\"caxis\":{\"gridcolor\":\"white\",\"linecolor\":\"white\",\"ticks\":\"\"}},\"coloraxis\":{\"colorbar\":{\"outlinewidth\":0,\"ticks\":\"\"}},\"colorscale\":{\"sequential\":[[0.0,\"#0d0887\"],[0.1111111111111111,\"#46039f\"],[0.2222222222222222,\"#7201a8\"],[0.3333333333333333,\"#9c179e\"],[0.4444444444444444,\"#bd3786\"],[0.5555555555555556,\"#d8576b\"],[0.6666666666666666,\"#ed7953\"],[0.7777777777777778,\"#fb9f3a\"],[0.8888888888888888,\"#fdca26\"],[1.0,\"#f0f921\"]],\"sequentialminus\":[[0.0,\"#0d0887\"],[0.1111111111111111,\"#46039f\"],[0.2222222222222222,\"#7201a8\"],[0.3333333333333333,\"#9c179e\"],[0.4444444444444444,\"#bd3786\"],[0.5555555555555556,\"#d8576b\"],[0.6666666666666666,\"#ed7953\"],[0.7777777777777778,\"#fb9f3a\"],[0.8888888888888888,\"#fdca26\"],[1.0,\"#f0f921\"]],\"diverging\":[[0,\"#8e0152\"],[0.1,\"#c51b7d\"],[0.2,\"#de77ae\"],[0.3,\"#f1b6da\"],[0.4,\"#fde0ef\"],[0.5,\"#f7f7f7\"],[0.6,\"#e6f5d0\"],[0.7,\"#b8e186\"],[0.8,\"#7fbc41\"],[0.9,\"#4d9221\"],[1,\"#276419\"]]},\"xaxis\":{\"gridcolor\":\"white\",\"linecolor\":\"white\",\"ticks\":\"\",\"title\":{\"standoff\":15},\"zerolinecolor\":\"white\",\"automargin\":true,\"zerolinewidth\":2},\"yaxis\":{\"gridcolor\":\"white\",\"linecolor\":\"white\",\"ticks\":\"\",\"title\":{\"standoff\":15},\"zerolinecolor\":\"white\",\"automargin\":true,\"zerolinewidth\":2},\"scene\":{\"xaxis\":{\"backgroundcolor\":\"#E5ECF6\",\"gridcolor\":\"white\",\"linecolor\":\"white\",\"showbackground\":true,\"ticks\":\"\",\"zerolinecolor\":\"white\",\"gridwidth\":2},\"yaxis\":{\"backgroundcolor\":\"#E5ECF6\",\"gridcolor\":\"white\",\"linecolor\":\"white\",\"showbackground\":true,\"ticks\":\"\",\"zerolinecolor\":\"white\",\"gridwidth\":2},\"zaxis\":{\"backgroundcolor\":\"#E5ECF6\",\"gridcolor\":\"white\",\"linecolor\":\"white\",\"showbackground\":true,\"ticks\":\"\",\"zerolinecolor\":\"white\",\"gridwidth\":2}},\"shapedefaults\":{\"line\":{\"color\":\"#2a3f5f\"}},\"annotationdefaults\":{\"arrowcolor\":\"#2a3f5f\",\"arrowhead\":0,\"arrowwidth\":1},\"geo\":{\"bgcolor\":\"white\",\"landcolor\":\"#E5ECF6\",\"subunitcolor\":\"white\",\"showland\":true,\"showlakes\":true,\"lakecolor\":\"white\"},\"title\":{\"x\":0.05},\"mapbox\":{\"style\":\"light\"}}},\"xaxis\":{\"anchor\":\"y\",\"domain\":[0.0,1.0],\"title\":{\"text\":\"genre\"}},\"yaxis\":{\"anchor\":\"x\",\"domain\":[0.0,1.0],\"title\":{\"text\":\"count\"}},\"legend\":{\"tracegroupgap\":0},\"margin\":{\"t\":60},\"barmode\":\"relative\"},                        {\"responsive\": true}                    ).then(function(){\n",
       "                            \n",
       "var gd = document.getElementById('00ff4b2d-0051-431e-8c2d-78138f502f1d');\n",
       "var x = new MutationObserver(function (mutations, observer) {{\n",
       "        var display = window.getComputedStyle(gd).display;\n",
       "        if (!display || display === 'none') {{\n",
       "            console.log([gd, 'removed!']);\n",
       "            Plotly.purge(gd);\n",
       "            observer.disconnect();\n",
       "        }}\n",
       "}});\n",
       "\n",
       "// Listen for the removal of the full notebook cells\n",
       "var notebookContainer = gd.closest('#notebook-container');\n",
       "if (notebookContainer) {{\n",
       "    x.observe(notebookContainer, {childList: true});\n",
       "}}\n",
       "\n",
       "// Listen for the clearing of the current output cell\n",
       "var outputEl = gd.closest('.output');\n",
       "if (outputEl) {{\n",
       "    x.observe(outputEl, {childList: true});\n",
       "}}\n",
       "\n",
       "                        })                };                });            </script>        </div>"
      ]
     },
     "metadata": {},
     "output_type": "display_data"
    }
   ],
   "source": [
    "English_books = Completed[(Completed[\"language\"]==\"English\")&(Completed[\"completion_year\"]>2016)]\n",
    "English_popular_genres = English_books[\"genre\"].value_counts().rename_axis (\"Genre\").reset_index(name = \"books/reads\")\n",
    "\n",
    "Top_genres = English_popular_genres.head(10)\n",
    "\n",
    "popular_genres = Completed[Completed[\"genre\"].isin(Top_genres[\"Genre\"])]\n",
    "\n",
    "px.histogram( popular_genres[popular_genres[\"completion_year\"]==2017], x = \"genre\", )"
   ]
  },
  {
   "cell_type": "code",
   "execution_count": 93,
   "id": "5395a975",
   "metadata": {
    "execution": {
     "iopub.execute_input": "2022-06-07T19:02:04.179556Z",
     "iopub.status.busy": "2022-06-07T19:02:04.178977Z",
     "iopub.status.idle": "2022-06-07T19:02:04.244915Z",
     "shell.execute_reply": "2022-06-07T19:02:04.243964Z"
    },
    "papermill": {
     "duration": 0.115954,
     "end_time": "2022-06-07T19:02:04.247097",
     "exception": false,
     "start_time": "2022-06-07T19:02:04.131143",
     "status": "completed"
    },
    "tags": []
   },
   "outputs": [
    {
     "data": {
      "text/html": [
       "<div>                            <div id=\"7e7dda06-1cd1-4552-b54f-8d8105e42ba7\" class=\"plotly-graph-div\" style=\"height:525px; width:100%;\"></div>            <script type=\"text/javascript\">                require([\"plotly\"], function(Plotly) {                    window.PLOTLYENV=window.PLOTLYENV || {};                                    if (document.getElementById(\"7e7dda06-1cd1-4552-b54f-8d8105e42ba7\")) {                    Plotly.newPlot(                        \"7e7dda06-1cd1-4552-b54f-8d8105e42ba7\",                        [{\"alignmentgroup\":\"True\",\"bingroup\":\"x\",\"hovertemplate\":\"genre=%{x}<br>count=%{y}<extra></extra>\",\"legendgroup\":\"\",\"marker\":{\"color\":\"#636efa\",\"pattern\":{\"shape\":\"\"}},\"name\":\"\",\"offsetgroup\":\"\",\"orientation\":\"v\",\"showlegend\":false,\"x\":[\"Mystery\",\"Romance\",\"Mystery\",\"Mystery\",\"Fantasy\",\"Fantasy\",\"Economics\",\"Fantasy\",\"Romance\",\"Romance\",\"Romance\",\"Fantasy\",\"Fantasy\",\"Humour/ Satire\",\"Fantasy\",\"Mystery\",\"Fantasy\",\"Romance\",\"Thriller\",\"Fantasy\",\"Thriller\",\"Fantasy\",\"Mystery\",\"Fantasy\",\"Mystery\",\"Mystery\",\"Thriller\",\"Mystery\",\"Thriller\",\"Science Fiction\",\"Thriller\",\"Fantasy\",\"Economics\",\"Thriller\",\"Humour/ Satire\",\"Mystery\",\"Thriller\",\"Fantasy\",\"Thriller\",\"Romance\",\"Romance\",\"Thriller\",\"Fantasy\",\"Romance\",\"Romance\",\"Mystery\",\"Romance\",\"Fantasy\",\"Fantasy\",\"Bildungsroman\",\"Fantasy\",\"Romance\",\"Fantasy\",\"Humour/ Satire\"],\"xaxis\":\"x\",\"yaxis\":\"y\",\"type\":\"histogram\"}],                        {\"template\":{\"data\":{\"histogram2dcontour\":[{\"type\":\"histogram2dcontour\",\"colorbar\":{\"outlinewidth\":0,\"ticks\":\"\"},\"colorscale\":[[0.0,\"#0d0887\"],[0.1111111111111111,\"#46039f\"],[0.2222222222222222,\"#7201a8\"],[0.3333333333333333,\"#9c179e\"],[0.4444444444444444,\"#bd3786\"],[0.5555555555555556,\"#d8576b\"],[0.6666666666666666,\"#ed7953\"],[0.7777777777777778,\"#fb9f3a\"],[0.8888888888888888,\"#fdca26\"],[1.0,\"#f0f921\"]]}],\"choropleth\":[{\"type\":\"choropleth\",\"colorbar\":{\"outlinewidth\":0,\"ticks\":\"\"}}],\"histogram2d\":[{\"type\":\"histogram2d\",\"colorbar\":{\"outlinewidth\":0,\"ticks\":\"\"},\"colorscale\":[[0.0,\"#0d0887\"],[0.1111111111111111,\"#46039f\"],[0.2222222222222222,\"#7201a8\"],[0.3333333333333333,\"#9c179e\"],[0.4444444444444444,\"#bd3786\"],[0.5555555555555556,\"#d8576b\"],[0.6666666666666666,\"#ed7953\"],[0.7777777777777778,\"#fb9f3a\"],[0.8888888888888888,\"#fdca26\"],[1.0,\"#f0f921\"]]}],\"heatmap\":[{\"type\":\"heatmap\",\"colorbar\":{\"outlinewidth\":0,\"ticks\":\"\"},\"colorscale\":[[0.0,\"#0d0887\"],[0.1111111111111111,\"#46039f\"],[0.2222222222222222,\"#7201a8\"],[0.3333333333333333,\"#9c179e\"],[0.4444444444444444,\"#bd3786\"],[0.5555555555555556,\"#d8576b\"],[0.6666666666666666,\"#ed7953\"],[0.7777777777777778,\"#fb9f3a\"],[0.8888888888888888,\"#fdca26\"],[1.0,\"#f0f921\"]]}],\"heatmapgl\":[{\"type\":\"heatmapgl\",\"colorbar\":{\"outlinewidth\":0,\"ticks\":\"\"},\"colorscale\":[[0.0,\"#0d0887\"],[0.1111111111111111,\"#46039f\"],[0.2222222222222222,\"#7201a8\"],[0.3333333333333333,\"#9c179e\"],[0.4444444444444444,\"#bd3786\"],[0.5555555555555556,\"#d8576b\"],[0.6666666666666666,\"#ed7953\"],[0.7777777777777778,\"#fb9f3a\"],[0.8888888888888888,\"#fdca26\"],[1.0,\"#f0f921\"]]}],\"contourcarpet\":[{\"type\":\"contourcarpet\",\"colorbar\":{\"outlinewidth\":0,\"ticks\":\"\"}}],\"contour\":[{\"type\":\"contour\",\"colorbar\":{\"outlinewidth\":0,\"ticks\":\"\"},\"colorscale\":[[0.0,\"#0d0887\"],[0.1111111111111111,\"#46039f\"],[0.2222222222222222,\"#7201a8\"],[0.3333333333333333,\"#9c179e\"],[0.4444444444444444,\"#bd3786\"],[0.5555555555555556,\"#d8576b\"],[0.6666666666666666,\"#ed7953\"],[0.7777777777777778,\"#fb9f3a\"],[0.8888888888888888,\"#fdca26\"],[1.0,\"#f0f921\"]]}],\"surface\":[{\"type\":\"surface\",\"colorbar\":{\"outlinewidth\":0,\"ticks\":\"\"},\"colorscale\":[[0.0,\"#0d0887\"],[0.1111111111111111,\"#46039f\"],[0.2222222222222222,\"#7201a8\"],[0.3333333333333333,\"#9c179e\"],[0.4444444444444444,\"#bd3786\"],[0.5555555555555556,\"#d8576b\"],[0.6666666666666666,\"#ed7953\"],[0.7777777777777778,\"#fb9f3a\"],[0.8888888888888888,\"#fdca26\"],[1.0,\"#f0f921\"]]}],\"mesh3d\":[{\"type\":\"mesh3d\",\"colorbar\":{\"outlinewidth\":0,\"ticks\":\"\"}}],\"scatter\":[{\"fillpattern\":{\"fillmode\":\"overlay\",\"size\":10,\"solidity\":0.2},\"type\":\"scatter\"}],\"parcoords\":[{\"type\":\"parcoords\",\"line\":{\"colorbar\":{\"outlinewidth\":0,\"ticks\":\"\"}}}],\"scatterpolargl\":[{\"type\":\"scatterpolargl\",\"marker\":{\"colorbar\":{\"outlinewidth\":0,\"ticks\":\"\"}}}],\"bar\":[{\"error_x\":{\"color\":\"#2a3f5f\"},\"error_y\":{\"color\":\"#2a3f5f\"},\"marker\":{\"line\":{\"color\":\"#E5ECF6\",\"width\":0.5},\"pattern\":{\"fillmode\":\"overlay\",\"size\":10,\"solidity\":0.2}},\"type\":\"bar\"}],\"scattergeo\":[{\"type\":\"scattergeo\",\"marker\":{\"colorbar\":{\"outlinewidth\":0,\"ticks\":\"\"}}}],\"scatterpolar\":[{\"type\":\"scatterpolar\",\"marker\":{\"colorbar\":{\"outlinewidth\":0,\"ticks\":\"\"}}}],\"histogram\":[{\"marker\":{\"pattern\":{\"fillmode\":\"overlay\",\"size\":10,\"solidity\":0.2}},\"type\":\"histogram\"}],\"scattergl\":[{\"type\":\"scattergl\",\"marker\":{\"colorbar\":{\"outlinewidth\":0,\"ticks\":\"\"}}}],\"scatter3d\":[{\"type\":\"scatter3d\",\"line\":{\"colorbar\":{\"outlinewidth\":0,\"ticks\":\"\"}},\"marker\":{\"colorbar\":{\"outlinewidth\":0,\"ticks\":\"\"}}}],\"scattermapbox\":[{\"type\":\"scattermapbox\",\"marker\":{\"colorbar\":{\"outlinewidth\":0,\"ticks\":\"\"}}}],\"scatterternary\":[{\"type\":\"scatterternary\",\"marker\":{\"colorbar\":{\"outlinewidth\":0,\"ticks\":\"\"}}}],\"scattercarpet\":[{\"type\":\"scattercarpet\",\"marker\":{\"colorbar\":{\"outlinewidth\":0,\"ticks\":\"\"}}}],\"carpet\":[{\"aaxis\":{\"endlinecolor\":\"#2a3f5f\",\"gridcolor\":\"white\",\"linecolor\":\"white\",\"minorgridcolor\":\"white\",\"startlinecolor\":\"#2a3f5f\"},\"baxis\":{\"endlinecolor\":\"#2a3f5f\",\"gridcolor\":\"white\",\"linecolor\":\"white\",\"minorgridcolor\":\"white\",\"startlinecolor\":\"#2a3f5f\"},\"type\":\"carpet\"}],\"table\":[{\"cells\":{\"fill\":{\"color\":\"#EBF0F8\"},\"line\":{\"color\":\"white\"}},\"header\":{\"fill\":{\"color\":\"#C8D4E3\"},\"line\":{\"color\":\"white\"}},\"type\":\"table\"}],\"barpolar\":[{\"marker\":{\"line\":{\"color\":\"#E5ECF6\",\"width\":0.5},\"pattern\":{\"fillmode\":\"overlay\",\"size\":10,\"solidity\":0.2}},\"type\":\"barpolar\"}],\"pie\":[{\"automargin\":true,\"type\":\"pie\"}]},\"layout\":{\"autotypenumbers\":\"strict\",\"colorway\":[\"#636efa\",\"#EF553B\",\"#00cc96\",\"#ab63fa\",\"#FFA15A\",\"#19d3f3\",\"#FF6692\",\"#B6E880\",\"#FF97FF\",\"#FECB52\"],\"font\":{\"color\":\"#2a3f5f\"},\"hovermode\":\"closest\",\"hoverlabel\":{\"align\":\"left\"},\"paper_bgcolor\":\"white\",\"plot_bgcolor\":\"#E5ECF6\",\"polar\":{\"bgcolor\":\"#E5ECF6\",\"angularaxis\":{\"gridcolor\":\"white\",\"linecolor\":\"white\",\"ticks\":\"\"},\"radialaxis\":{\"gridcolor\":\"white\",\"linecolor\":\"white\",\"ticks\":\"\"}},\"ternary\":{\"bgcolor\":\"#E5ECF6\",\"aaxis\":{\"gridcolor\":\"white\",\"linecolor\":\"white\",\"ticks\":\"\"},\"baxis\":{\"gridcolor\":\"white\",\"linecolor\":\"white\",\"ticks\":\"\"},\"caxis\":{\"gridcolor\":\"white\",\"linecolor\":\"white\",\"ticks\":\"\"}},\"coloraxis\":{\"colorbar\":{\"outlinewidth\":0,\"ticks\":\"\"}},\"colorscale\":{\"sequential\":[[0.0,\"#0d0887\"],[0.1111111111111111,\"#46039f\"],[0.2222222222222222,\"#7201a8\"],[0.3333333333333333,\"#9c179e\"],[0.4444444444444444,\"#bd3786\"],[0.5555555555555556,\"#d8576b\"],[0.6666666666666666,\"#ed7953\"],[0.7777777777777778,\"#fb9f3a\"],[0.8888888888888888,\"#fdca26\"],[1.0,\"#f0f921\"]],\"sequentialminus\":[[0.0,\"#0d0887\"],[0.1111111111111111,\"#46039f\"],[0.2222222222222222,\"#7201a8\"],[0.3333333333333333,\"#9c179e\"],[0.4444444444444444,\"#bd3786\"],[0.5555555555555556,\"#d8576b\"],[0.6666666666666666,\"#ed7953\"],[0.7777777777777778,\"#fb9f3a\"],[0.8888888888888888,\"#fdca26\"],[1.0,\"#f0f921\"]],\"diverging\":[[0,\"#8e0152\"],[0.1,\"#c51b7d\"],[0.2,\"#de77ae\"],[0.3,\"#f1b6da\"],[0.4,\"#fde0ef\"],[0.5,\"#f7f7f7\"],[0.6,\"#e6f5d0\"],[0.7,\"#b8e186\"],[0.8,\"#7fbc41\"],[0.9,\"#4d9221\"],[1,\"#276419\"]]},\"xaxis\":{\"gridcolor\":\"white\",\"linecolor\":\"white\",\"ticks\":\"\",\"title\":{\"standoff\":15},\"zerolinecolor\":\"white\",\"automargin\":true,\"zerolinewidth\":2},\"yaxis\":{\"gridcolor\":\"white\",\"linecolor\":\"white\",\"ticks\":\"\",\"title\":{\"standoff\":15},\"zerolinecolor\":\"white\",\"automargin\":true,\"zerolinewidth\":2},\"scene\":{\"xaxis\":{\"backgroundcolor\":\"#E5ECF6\",\"gridcolor\":\"white\",\"linecolor\":\"white\",\"showbackground\":true,\"ticks\":\"\",\"zerolinecolor\":\"white\",\"gridwidth\":2},\"yaxis\":{\"backgroundcolor\":\"#E5ECF6\",\"gridcolor\":\"white\",\"linecolor\":\"white\",\"showbackground\":true,\"ticks\":\"\",\"zerolinecolor\":\"white\",\"gridwidth\":2},\"zaxis\":{\"backgroundcolor\":\"#E5ECF6\",\"gridcolor\":\"white\",\"linecolor\":\"white\",\"showbackground\":true,\"ticks\":\"\",\"zerolinecolor\":\"white\",\"gridwidth\":2}},\"shapedefaults\":{\"line\":{\"color\":\"#2a3f5f\"}},\"annotationdefaults\":{\"arrowcolor\":\"#2a3f5f\",\"arrowhead\":0,\"arrowwidth\":1},\"geo\":{\"bgcolor\":\"white\",\"landcolor\":\"#E5ECF6\",\"subunitcolor\":\"white\",\"showland\":true,\"showlakes\":true,\"lakecolor\":\"white\"},\"title\":{\"x\":0.05},\"mapbox\":{\"style\":\"light\"}}},\"xaxis\":{\"anchor\":\"y\",\"domain\":[0.0,1.0],\"title\":{\"text\":\"genre\"}},\"yaxis\":{\"anchor\":\"x\",\"domain\":[0.0,1.0],\"title\":{\"text\":\"count\"}},\"legend\":{\"tracegroupgap\":0},\"margin\":{\"t\":60},\"barmode\":\"relative\"},                        {\"responsive\": true}                    ).then(function(){\n",
       "                            \n",
       "var gd = document.getElementById('7e7dda06-1cd1-4552-b54f-8d8105e42ba7');\n",
       "var x = new MutationObserver(function (mutations, observer) {{\n",
       "        var display = window.getComputedStyle(gd).display;\n",
       "        if (!display || display === 'none') {{\n",
       "            console.log([gd, 'removed!']);\n",
       "            Plotly.purge(gd);\n",
       "            observer.disconnect();\n",
       "        }}\n",
       "}});\n",
       "\n",
       "// Listen for the removal of the full notebook cells\n",
       "var notebookContainer = gd.closest('#notebook-container');\n",
       "if (notebookContainer) {{\n",
       "    x.observe(notebookContainer, {childList: true});\n",
       "}}\n",
       "\n",
       "// Listen for the clearing of the current output cell\n",
       "var outputEl = gd.closest('.output');\n",
       "if (outputEl) {{\n",
       "    x.observe(outputEl, {childList: true});\n",
       "}}\n",
       "\n",
       "                        })                };                });            </script>        </div>"
      ]
     },
     "metadata": {},
     "output_type": "display_data"
    }
   ],
   "source": [
    "px.histogram( popular_genres[popular_genres[\"completion_year\"]==2018], x = \"genre\", )"
   ]
  },
  {
   "cell_type": "code",
   "execution_count": 94,
   "id": "aad2955d",
   "metadata": {
    "execution": {
     "iopub.execute_input": "2022-06-07T19:02:04.347496Z",
     "iopub.status.busy": "2022-06-07T19:02:04.346774Z",
     "iopub.status.idle": "2022-06-07T19:02:04.401777Z",
     "shell.execute_reply": "2022-06-07T19:02:04.400920Z"
    },
    "papermill": {
     "duration": 0.107802,
     "end_time": "2022-06-07T19:02:04.403969",
     "exception": false,
     "start_time": "2022-06-07T19:02:04.296167",
     "status": "completed"
    },
    "tags": []
   },
   "outputs": [
    {
     "data": {
      "text/html": [
       "<div>                            <div id=\"6a58f6ae-2f10-4e0a-984a-3dca7c7c4203\" class=\"plotly-graph-div\" style=\"height:525px; width:100%;\"></div>            <script type=\"text/javascript\">                require([\"plotly\"], function(Plotly) {                    window.PLOTLYENV=window.PLOTLYENV || {};                                    if (document.getElementById(\"6a58f6ae-2f10-4e0a-984a-3dca7c7c4203\")) {                    Plotly.newPlot(                        \"6a58f6ae-2f10-4e0a-984a-3dca7c7c4203\",                        [],                        {\"template\":{\"data\":{\"histogram2dcontour\":[{\"type\":\"histogram2dcontour\",\"colorbar\":{\"outlinewidth\":0,\"ticks\":\"\"},\"colorscale\":[[0.0,\"#0d0887\"],[0.1111111111111111,\"#46039f\"],[0.2222222222222222,\"#7201a8\"],[0.3333333333333333,\"#9c179e\"],[0.4444444444444444,\"#bd3786\"],[0.5555555555555556,\"#d8576b\"],[0.6666666666666666,\"#ed7953\"],[0.7777777777777778,\"#fb9f3a\"],[0.8888888888888888,\"#fdca26\"],[1.0,\"#f0f921\"]]}],\"choropleth\":[{\"type\":\"choropleth\",\"colorbar\":{\"outlinewidth\":0,\"ticks\":\"\"}}],\"histogram2d\":[{\"type\":\"histogram2d\",\"colorbar\":{\"outlinewidth\":0,\"ticks\":\"\"},\"colorscale\":[[0.0,\"#0d0887\"],[0.1111111111111111,\"#46039f\"],[0.2222222222222222,\"#7201a8\"],[0.3333333333333333,\"#9c179e\"],[0.4444444444444444,\"#bd3786\"],[0.5555555555555556,\"#d8576b\"],[0.6666666666666666,\"#ed7953\"],[0.7777777777777778,\"#fb9f3a\"],[0.8888888888888888,\"#fdca26\"],[1.0,\"#f0f921\"]]}],\"heatmap\":[{\"type\":\"heatmap\",\"colorbar\":{\"outlinewidth\":0,\"ticks\":\"\"},\"colorscale\":[[0.0,\"#0d0887\"],[0.1111111111111111,\"#46039f\"],[0.2222222222222222,\"#7201a8\"],[0.3333333333333333,\"#9c179e\"],[0.4444444444444444,\"#bd3786\"],[0.5555555555555556,\"#d8576b\"],[0.6666666666666666,\"#ed7953\"],[0.7777777777777778,\"#fb9f3a\"],[0.8888888888888888,\"#fdca26\"],[1.0,\"#f0f921\"]]}],\"heatmapgl\":[{\"type\":\"heatmapgl\",\"colorbar\":{\"outlinewidth\":0,\"ticks\":\"\"},\"colorscale\":[[0.0,\"#0d0887\"],[0.1111111111111111,\"#46039f\"],[0.2222222222222222,\"#7201a8\"],[0.3333333333333333,\"#9c179e\"],[0.4444444444444444,\"#bd3786\"],[0.5555555555555556,\"#d8576b\"],[0.6666666666666666,\"#ed7953\"],[0.7777777777777778,\"#fb9f3a\"],[0.8888888888888888,\"#fdca26\"],[1.0,\"#f0f921\"]]}],\"contourcarpet\":[{\"type\":\"contourcarpet\",\"colorbar\":{\"outlinewidth\":0,\"ticks\":\"\"}}],\"contour\":[{\"type\":\"contour\",\"colorbar\":{\"outlinewidth\":0,\"ticks\":\"\"},\"colorscale\":[[0.0,\"#0d0887\"],[0.1111111111111111,\"#46039f\"],[0.2222222222222222,\"#7201a8\"],[0.3333333333333333,\"#9c179e\"],[0.4444444444444444,\"#bd3786\"],[0.5555555555555556,\"#d8576b\"],[0.6666666666666666,\"#ed7953\"],[0.7777777777777778,\"#fb9f3a\"],[0.8888888888888888,\"#fdca26\"],[1.0,\"#f0f921\"]]}],\"surface\":[{\"type\":\"surface\",\"colorbar\":{\"outlinewidth\":0,\"ticks\":\"\"},\"colorscale\":[[0.0,\"#0d0887\"],[0.1111111111111111,\"#46039f\"],[0.2222222222222222,\"#7201a8\"],[0.3333333333333333,\"#9c179e\"],[0.4444444444444444,\"#bd3786\"],[0.5555555555555556,\"#d8576b\"],[0.6666666666666666,\"#ed7953\"],[0.7777777777777778,\"#fb9f3a\"],[0.8888888888888888,\"#fdca26\"],[1.0,\"#f0f921\"]]}],\"mesh3d\":[{\"type\":\"mesh3d\",\"colorbar\":{\"outlinewidth\":0,\"ticks\":\"\"}}],\"scatter\":[{\"fillpattern\":{\"fillmode\":\"overlay\",\"size\":10,\"solidity\":0.2},\"type\":\"scatter\"}],\"parcoords\":[{\"type\":\"parcoords\",\"line\":{\"colorbar\":{\"outlinewidth\":0,\"ticks\":\"\"}}}],\"scatterpolargl\":[{\"type\":\"scatterpolargl\",\"marker\":{\"colorbar\":{\"outlinewidth\":0,\"ticks\":\"\"}}}],\"bar\":[{\"error_x\":{\"color\":\"#2a3f5f\"},\"error_y\":{\"color\":\"#2a3f5f\"},\"marker\":{\"line\":{\"color\":\"#E5ECF6\",\"width\":0.5},\"pattern\":{\"fillmode\":\"overlay\",\"size\":10,\"solidity\":0.2}},\"type\":\"bar\"}],\"scattergeo\":[{\"type\":\"scattergeo\",\"marker\":{\"colorbar\":{\"outlinewidth\":0,\"ticks\":\"\"}}}],\"scatterpolar\":[{\"type\":\"scatterpolar\",\"marker\":{\"colorbar\":{\"outlinewidth\":0,\"ticks\":\"\"}}}],\"histogram\":[{\"marker\":{\"pattern\":{\"fillmode\":\"overlay\",\"size\":10,\"solidity\":0.2}},\"type\":\"histogram\"}],\"scattergl\":[{\"type\":\"scattergl\",\"marker\":{\"colorbar\":{\"outlinewidth\":0,\"ticks\":\"\"}}}],\"scatter3d\":[{\"type\":\"scatter3d\",\"line\":{\"colorbar\":{\"outlinewidth\":0,\"ticks\":\"\"}},\"marker\":{\"colorbar\":{\"outlinewidth\":0,\"ticks\":\"\"}}}],\"scattermapbox\":[{\"type\":\"scattermapbox\",\"marker\":{\"colorbar\":{\"outlinewidth\":0,\"ticks\":\"\"}}}],\"scatterternary\":[{\"type\":\"scatterternary\",\"marker\":{\"colorbar\":{\"outlinewidth\":0,\"ticks\":\"\"}}}],\"scattercarpet\":[{\"type\":\"scattercarpet\",\"marker\":{\"colorbar\":{\"outlinewidth\":0,\"ticks\":\"\"}}}],\"carpet\":[{\"aaxis\":{\"endlinecolor\":\"#2a3f5f\",\"gridcolor\":\"white\",\"linecolor\":\"white\",\"minorgridcolor\":\"white\",\"startlinecolor\":\"#2a3f5f\"},\"baxis\":{\"endlinecolor\":\"#2a3f5f\",\"gridcolor\":\"white\",\"linecolor\":\"white\",\"minorgridcolor\":\"white\",\"startlinecolor\":\"#2a3f5f\"},\"type\":\"carpet\"}],\"table\":[{\"cells\":{\"fill\":{\"color\":\"#EBF0F8\"},\"line\":{\"color\":\"white\"}},\"header\":{\"fill\":{\"color\":\"#C8D4E3\"},\"line\":{\"color\":\"white\"}},\"type\":\"table\"}],\"barpolar\":[{\"marker\":{\"line\":{\"color\":\"#E5ECF6\",\"width\":0.5},\"pattern\":{\"fillmode\":\"overlay\",\"size\":10,\"solidity\":0.2}},\"type\":\"barpolar\"}],\"pie\":[{\"automargin\":true,\"type\":\"pie\"}]},\"layout\":{\"autotypenumbers\":\"strict\",\"colorway\":[\"#636efa\",\"#EF553B\",\"#00cc96\",\"#ab63fa\",\"#FFA15A\",\"#19d3f3\",\"#FF6692\",\"#B6E880\",\"#FF97FF\",\"#FECB52\"],\"font\":{\"color\":\"#2a3f5f\"},\"hovermode\":\"closest\",\"hoverlabel\":{\"align\":\"left\"},\"paper_bgcolor\":\"white\",\"plot_bgcolor\":\"#E5ECF6\",\"polar\":{\"bgcolor\":\"#E5ECF6\",\"angularaxis\":{\"gridcolor\":\"white\",\"linecolor\":\"white\",\"ticks\":\"\"},\"radialaxis\":{\"gridcolor\":\"white\",\"linecolor\":\"white\",\"ticks\":\"\"}},\"ternary\":{\"bgcolor\":\"#E5ECF6\",\"aaxis\":{\"gridcolor\":\"white\",\"linecolor\":\"white\",\"ticks\":\"\"},\"baxis\":{\"gridcolor\":\"white\",\"linecolor\":\"white\",\"ticks\":\"\"},\"caxis\":{\"gridcolor\":\"white\",\"linecolor\":\"white\",\"ticks\":\"\"}},\"coloraxis\":{\"colorbar\":{\"outlinewidth\":0,\"ticks\":\"\"}},\"colorscale\":{\"sequential\":[[0.0,\"#0d0887\"],[0.1111111111111111,\"#46039f\"],[0.2222222222222222,\"#7201a8\"],[0.3333333333333333,\"#9c179e\"],[0.4444444444444444,\"#bd3786\"],[0.5555555555555556,\"#d8576b\"],[0.6666666666666666,\"#ed7953\"],[0.7777777777777778,\"#fb9f3a\"],[0.8888888888888888,\"#fdca26\"],[1.0,\"#f0f921\"]],\"sequentialminus\":[[0.0,\"#0d0887\"],[0.1111111111111111,\"#46039f\"],[0.2222222222222222,\"#7201a8\"],[0.3333333333333333,\"#9c179e\"],[0.4444444444444444,\"#bd3786\"],[0.5555555555555556,\"#d8576b\"],[0.6666666666666666,\"#ed7953\"],[0.7777777777777778,\"#fb9f3a\"],[0.8888888888888888,\"#fdca26\"],[1.0,\"#f0f921\"]],\"diverging\":[[0,\"#8e0152\"],[0.1,\"#c51b7d\"],[0.2,\"#de77ae\"],[0.3,\"#f1b6da\"],[0.4,\"#fde0ef\"],[0.5,\"#f7f7f7\"],[0.6,\"#e6f5d0\"],[0.7,\"#b8e186\"],[0.8,\"#7fbc41\"],[0.9,\"#4d9221\"],[1,\"#276419\"]]},\"xaxis\":{\"gridcolor\":\"white\",\"linecolor\":\"white\",\"ticks\":\"\",\"title\":{\"standoff\":15},\"zerolinecolor\":\"white\",\"automargin\":true,\"zerolinewidth\":2},\"yaxis\":{\"gridcolor\":\"white\",\"linecolor\":\"white\",\"ticks\":\"\",\"title\":{\"standoff\":15},\"zerolinecolor\":\"white\",\"automargin\":true,\"zerolinewidth\":2},\"scene\":{\"xaxis\":{\"backgroundcolor\":\"#E5ECF6\",\"gridcolor\":\"white\",\"linecolor\":\"white\",\"showbackground\":true,\"ticks\":\"\",\"zerolinecolor\":\"white\",\"gridwidth\":2},\"yaxis\":{\"backgroundcolor\":\"#E5ECF6\",\"gridcolor\":\"white\",\"linecolor\":\"white\",\"showbackground\":true,\"ticks\":\"\",\"zerolinecolor\":\"white\",\"gridwidth\":2},\"zaxis\":{\"backgroundcolor\":\"#E5ECF6\",\"gridcolor\":\"white\",\"linecolor\":\"white\",\"showbackground\":true,\"ticks\":\"\",\"zerolinecolor\":\"white\",\"gridwidth\":2}},\"shapedefaults\":{\"line\":{\"color\":\"#2a3f5f\"}},\"annotationdefaults\":{\"arrowcolor\":\"#2a3f5f\",\"arrowhead\":0,\"arrowwidth\":1},\"geo\":{\"bgcolor\":\"white\",\"landcolor\":\"#E5ECF6\",\"subunitcolor\":\"white\",\"showland\":true,\"showlakes\":true,\"lakecolor\":\"white\"},\"title\":{\"x\":0.05},\"mapbox\":{\"style\":\"light\"}}},\"xaxis\":{\"anchor\":\"y\",\"domain\":[0.0,1.0],\"title\":{\"text\":\"genre\"}},\"yaxis\":{\"anchor\":\"x\",\"domain\":[0.0,1.0],\"title\":{\"text\":\"count\"}},\"legend\":{\"tracegroupgap\":0},\"margin\":{\"t\":60},\"barmode\":\"relative\"},                        {\"responsive\": true}                    ).then(function(){\n",
       "                            \n",
       "var gd = document.getElementById('6a58f6ae-2f10-4e0a-984a-3dca7c7c4203');\n",
       "var x = new MutationObserver(function (mutations, observer) {{\n",
       "        var display = window.getComputedStyle(gd).display;\n",
       "        if (!display || display === 'none') {{\n",
       "            console.log([gd, 'removed!']);\n",
       "            Plotly.purge(gd);\n",
       "            observer.disconnect();\n",
       "        }}\n",
       "}});\n",
       "\n",
       "// Listen for the removal of the full notebook cells\n",
       "var notebookContainer = gd.closest('#notebook-container');\n",
       "if (notebookContainer) {{\n",
       "    x.observe(notebookContainer, {childList: true});\n",
       "}}\n",
       "\n",
       "// Listen for the clearing of the current output cell\n",
       "var outputEl = gd.closest('.output');\n",
       "if (outputEl) {{\n",
       "    x.observe(outputEl, {childList: true});\n",
       "}}\n",
       "\n",
       "                        })                };                });            </script>        </div>"
      ]
     },
     "metadata": {},
     "output_type": "display_data"
    }
   ],
   "source": [
    "px.histogram( Completed[(Completed[\"language\"]==\"English\")& Completed[\"completion_year\"]==2017], x = \"genre\", )"
   ]
  },
  {
   "cell_type": "code",
   "execution_count": null,
   "id": "6e246214",
   "metadata": {
    "papermill": {
     "duration": 0.049105,
     "end_time": "2022-06-07T19:02:04.504906",
     "exception": false,
     "start_time": "2022-06-07T19:02:04.455801",
     "status": "completed"
    },
    "tags": []
   },
   "outputs": [],
   "source": []
  }
 ],
 "metadata": {
  "kernelspec": {
   "display_name": "Python 3",
   "language": "python",
   "name": "python3"
  },
  "language_info": {
   "codemirror_mode": {
    "name": "ipython",
    "version": 3
   },
   "file_extension": ".py",
   "mimetype": "text/x-python",
   "name": "python",
   "nbconvert_exporter": "python",
   "pygments_lexer": "ipython3",
   "version": "3.7.12"
  },
  "papermill": {
   "default_parameters": {},
   "duration": 38.81325,
   "end_time": "2022-06-07T19:02:05.576540",
   "environment_variables": {},
   "exception": null,
   "input_path": "__notebook__.ipynb",
   "output_path": "__notebook__.ipynb",
   "parameters": {},
   "start_time": "2022-06-07T19:01:26.763290",
   "version": "2.3.4"
  }
 },
 "nbformat": 4,
 "nbformat_minor": 5
}
