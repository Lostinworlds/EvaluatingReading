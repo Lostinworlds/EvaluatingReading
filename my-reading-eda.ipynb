{
 "cells": [
  {
   "cell_type": "markdown",
   "id": "74d9da88",
   "metadata": {
    "papermill": {
     "duration": 0.023889,
     "end_time": "2022-06-10T12:00:53.323865",
     "exception": false,
     "start_time": "2022-06-10T12:00:53.299976",
     "status": "completed"
    },
    "tags": []
   },
   "source": [
    "# Introduction\n",
    "Previously, following various trial and error, the data pertaining to my reading habits were collated. In this project, the data will be evaluated, looking not only for patterns in the reading habits. \n",
    "# Overview\n",
    "Prior to the evaluation and visualisation of the data, there may be aspects which may need to be modified and/or cleaned. It should be noted that some aspects of the data was also pre-cleaned in Google Sheets where the original data was recorded. \n",
    "Following this cross sections of the data can be evaluated for patters and trends in the reading habits. It should be noted that this dataset contains non-English characters. This may impact certain tools and libraries. "
   ]
  },
  {
   "cell_type": "code",
   "execution_count": 1,
   "id": "7f48df5c",
   "metadata": {
    "_cell_guid": "b1076dfc-b9ad-4769-8c92-a6c4dae69d19",
    "_uuid": "8f2839f25d086af736a60e9eeb907d3b93b6e0e5",
    "execution": {
     "iopub.execute_input": "2022-06-10T12:00:53.376493Z",
     "iopub.status.busy": "2022-06-10T12:00:53.375712Z",
     "iopub.status.idle": "2022-06-10T12:00:55.818813Z",
     "shell.execute_reply": "2022-06-10T12:00:55.817992Z"
    },
    "papermill": {
     "duration": 2.468318,
     "end_time": "2022-06-10T12:00:55.821212",
     "exception": false,
     "start_time": "2022-06-10T12:00:53.352894",
     "status": "completed"
    },
    "tags": []
   },
   "outputs": [
    {
     "name": "stdout",
     "output_type": "stream",
     "text": [
      "/kaggle/input/my-reading-log/reading log.csv\n"
     ]
    }
   ],
   "source": [
    "# library for data handling\n",
    "import numpy as np \n",
    "import pandas as pd \n",
    "\n",
    "# library specific to kaggle\n",
    "import os\n",
    "for dirname, _, filenames in os.walk('/kaggle/input'):\n",
    "    for filename in filenames:\n",
    "        print(os.path.join(dirname, filename))\n",
    "\n",
    "#libraries for data visualisation \n",
    "import matplotlib.pyplot as plt\n",
    "import seaborn as sns\n",
    "import plotly_express as px\n",
    "\n",
    "#set visualisation\n",
    "%matplotlib inline\n",
    "sns.set_style(\"whitegrid\")"
   ]
  },
  {
   "cell_type": "code",
   "execution_count": 2,
   "id": "c195829f",
   "metadata": {
    "execution": {
     "iopub.execute_input": "2022-06-10T12:00:55.860517Z",
     "iopub.status.busy": "2022-06-10T12:00:55.859833Z",
     "iopub.status.idle": "2022-06-10T12:00:55.879922Z",
     "shell.execute_reply": "2022-06-10T12:00:55.878909Z"
    },
    "papermill": {
     "duration": 0.042203,
     "end_time": "2022-06-10T12:00:55.882188",
     "exception": false,
     "start_time": "2022-06-10T12:00:55.839985",
     "status": "completed"
    },
    "tags": []
   },
   "outputs": [],
   "source": [
    "# read in data\n",
    "df = pd.read_csv(\"/kaggle/input/my-reading-log/reading log.csv\")"
   ]
  },
  {
   "cell_type": "code",
   "execution_count": 3,
   "id": "f00e2e2c",
   "metadata": {
    "execution": {
     "iopub.execute_input": "2022-06-10T12:00:55.922116Z",
     "iopub.status.busy": "2022-06-10T12:00:55.921433Z",
     "iopub.status.idle": "2022-06-10T12:00:55.949225Z",
     "shell.execute_reply": "2022-06-10T12:00:55.948328Z"
    },
    "papermill": {
     "duration": 0.050397,
     "end_time": "2022-06-10T12:00:55.951583",
     "exception": false,
     "start_time": "2022-06-10T12:00:55.901186",
     "status": "completed"
    },
    "tags": []
   },
   "outputs": [
    {
     "data": {
      "text/html": [
       "<div>\n",
       "<style scoped>\n",
       "    .dataframe tbody tr th:only-of-type {\n",
       "        vertical-align: middle;\n",
       "    }\n",
       "\n",
       "    .dataframe tbody tr th {\n",
       "        vertical-align: top;\n",
       "    }\n",
       "\n",
       "    .dataframe thead th {\n",
       "        text-align: right;\n",
       "    }\n",
       "</style>\n",
       "<table border=\"1\" class=\"dataframe\">\n",
       "  <thead>\n",
       "    <tr style=\"text-align: right;\">\n",
       "      <th></th>\n",
       "      <th>completion date</th>\n",
       "      <th>Title</th>\n",
       "      <th>author(s)</th>\n",
       "      <th>pages</th>\n",
       "      <th>review</th>\n",
       "      <th>rating</th>\n",
       "      <th>status</th>\n",
       "      <th>format</th>\n",
       "      <th>platform</th>\n",
       "      <th>publisher</th>\n",
       "      <th>Imprint</th>\n",
       "      <th>publication date</th>\n",
       "      <th>type</th>\n",
       "      <th>genre</th>\n",
       "      <th>language</th>\n",
       "    </tr>\n",
       "  </thead>\n",
       "  <tbody>\n",
       "    <tr>\n",
       "      <th>0</th>\n",
       "      <td>NaN</td>\n",
       "      <td>ボッコちゃん</td>\n",
       "      <td>星 新一</td>\n",
       "      <td>315</td>\n",
       "      <td>n</td>\n",
       "      <td>2.0</td>\n",
       "      <td>Completed</td>\n",
       "      <td>Physical Book</td>\n",
       "      <td>NaN</td>\n",
       "      <td>新潮社</td>\n",
       "      <td>新潮文庫</td>\n",
       "      <td>25-May-1971</td>\n",
       "      <td>Fiction</td>\n",
       "      <td>science fiction</td>\n",
       "      <td>jp</td>\n",
       "    </tr>\n",
       "    <tr>\n",
       "      <th>1</th>\n",
       "      <td>12-05-20</td>\n",
       "      <td>三毛猫ホームズの推理</td>\n",
       "      <td>赤川 次郎</td>\n",
       "      <td>368</td>\n",
       "      <td>y</td>\n",
       "      <td>3.0</td>\n",
       "      <td>Completed</td>\n",
       "      <td>E-Book</td>\n",
       "      <td>Kindle</td>\n",
       "      <td>KADOKAWA</td>\n",
       "      <td>角川文庫</td>\n",
       "      <td>1-Apr-1984</td>\n",
       "      <td>Fiction</td>\n",
       "      <td>Mystery</td>\n",
       "      <td>jp</td>\n",
       "    </tr>\n",
       "    <tr>\n",
       "      <th>2</th>\n",
       "      <td>06-24-20</td>\n",
       "      <td>ミステリ博物館</td>\n",
       "      <td>赤川 次郎</td>\n",
       "      <td>339</td>\n",
       "      <td>n</td>\n",
       "      <td>4.0</td>\n",
       "      <td>Completed</td>\n",
       "      <td>Physical Book</td>\n",
       "      <td>NaN</td>\n",
       "      <td>KADOKAWA</td>\n",
       "      <td>角川文庫</td>\n",
       "      <td>1-Jul-1985</td>\n",
       "      <td>Fiction</td>\n",
       "      <td>Mystery</td>\n",
       "      <td>jp</td>\n",
       "    </tr>\n",
       "    <tr>\n",
       "      <th>3</th>\n",
       "      <td>02-28-19</td>\n",
       "      <td>Jacques the Fatalist and His Master</td>\n",
       "      <td>Denis Diderot</td>\n",
       "      <td>261</td>\n",
       "      <td>y</td>\n",
       "      <td>2.5</td>\n",
       "      <td>Completed</td>\n",
       "      <td>Physical Book</td>\n",
       "      <td>NaN</td>\n",
       "      <td>Penguin Random House</td>\n",
       "      <td>Penguin Classics</td>\n",
       "      <td>30-Jan-1986</td>\n",
       "      <td>Fiction</td>\n",
       "      <td>Humour/ Satire</td>\n",
       "      <td>jp</td>\n",
       "    </tr>\n",
       "    <tr>\n",
       "      <th>4</th>\n",
       "      <td>02-15-18</td>\n",
       "      <td>卒業</td>\n",
       "      <td>東野 圭吾</td>\n",
       "      <td>371</td>\n",
       "      <td>y</td>\n",
       "      <td>4.5</td>\n",
       "      <td>Completed</td>\n",
       "      <td>Physical Book</td>\n",
       "      <td>NaN</td>\n",
       "      <td>講談社</td>\n",
       "      <td>講談社文庫</td>\n",
       "      <td>8-May-1989</td>\n",
       "      <td>Fiction</td>\n",
       "      <td>Mystery</td>\n",
       "      <td>jp</td>\n",
       "    </tr>\n",
       "  </tbody>\n",
       "</table>\n",
       "</div>"
      ],
      "text/plain": [
       "  completion date                                Title      author(s)  pages  \\\n",
       "0             NaN                               ボッコちゃん           星 新一    315   \n",
       "1        12-05-20                           三毛猫ホームズの推理          赤川 次郎    368   \n",
       "2        06-24-20                              ミステリ博物館          赤川 次郎    339   \n",
       "3        02-28-19  Jacques the Fatalist and His Master  Denis Diderot    261   \n",
       "4        02-15-18                                   卒業          東野 圭吾    371   \n",
       "\n",
       "  review  rating     status         format platform             publisher  \\\n",
       "0      n     2.0  Completed  Physical Book      NaN                   新潮社   \n",
       "1      y     3.0  Completed         E-Book   Kindle              KADOKAWA   \n",
       "2      n     4.0  Completed  Physical Book      NaN              KADOKAWA   \n",
       "3      y     2.5  Completed  Physical Book      NaN  Penguin Random House   \n",
       "4      y     4.5  Completed  Physical Book      NaN                   講談社   \n",
       "\n",
       "            Imprint publication date     type            genre language  \n",
       "0              新潮文庫      25-May-1971  Fiction  science fiction       jp  \n",
       "1              角川文庫       1-Apr-1984  Fiction          Mystery       jp  \n",
       "2              角川文庫       1-Jul-1985  Fiction          Mystery       jp  \n",
       "3  Penguin Classics      30-Jan-1986  Fiction   Humour/ Satire       jp  \n",
       "4             講談社文庫       8-May-1989  Fiction          Mystery       jp  "
      ]
     },
     "execution_count": 3,
     "metadata": {},
     "output_type": "execute_result"
    }
   ],
   "source": [
    "# examine dataset\n",
    "df.head()"
   ]
  },
  {
   "cell_type": "code",
   "execution_count": 4,
   "id": "3a0e2fa4",
   "metadata": {
    "execution": {
     "iopub.execute_input": "2022-06-10T12:00:55.991489Z",
     "iopub.status.busy": "2022-06-10T12:00:55.990793Z",
     "iopub.status.idle": "2022-06-10T12:00:56.015638Z",
     "shell.execute_reply": "2022-06-10T12:00:56.014689Z"
    },
    "papermill": {
     "duration": 0.047614,
     "end_time": "2022-06-10T12:00:56.018508",
     "exception": false,
     "start_time": "2022-06-10T12:00:55.970894",
     "status": "completed"
    },
    "tags": []
   },
   "outputs": [
    {
     "name": "stdout",
     "output_type": "stream",
     "text": [
      "<class 'pandas.core.frame.DataFrame'>\n",
      "RangeIndex: 391 entries, 0 to 390\n",
      "Data columns (total 15 columns):\n",
      " #   Column            Non-Null Count  Dtype  \n",
      "---  ------            --------------  -----  \n",
      " 0   completion date   329 non-null    object \n",
      " 1   Title             391 non-null    object \n",
      " 2   author(s)         391 non-null    object \n",
      " 3   pages             391 non-null    int64  \n",
      " 4   review            384 non-null    object \n",
      " 5   rating            345 non-null    float64\n",
      " 6   status            391 non-null    object \n",
      " 7   format            391 non-null    object \n",
      " 8   platform          100 non-null    object \n",
      " 9   publisher         391 non-null    object \n",
      " 10  Imprint           391 non-null    object \n",
      " 11  publication date  391 non-null    object \n",
      " 12  type              391 non-null    object \n",
      " 13  genre             391 non-null    object \n",
      " 14  language          391 non-null    object \n",
      "dtypes: float64(1), int64(1), object(13)\n",
      "memory usage: 45.9+ KB\n"
     ]
    }
   ],
   "source": [
    "# key information on the data\n",
    "df.info()"
   ]
  },
  {
   "cell_type": "code",
   "execution_count": 5,
   "id": "dd7c1b93",
   "metadata": {
    "execution": {
     "iopub.execute_input": "2022-06-10T12:00:56.059047Z",
     "iopub.status.busy": "2022-06-10T12:00:56.058372Z",
     "iopub.status.idle": "2022-06-10T12:00:56.077719Z",
     "shell.execute_reply": "2022-06-10T12:00:56.076724Z"
    },
    "papermill": {
     "duration": 0.042,
     "end_time": "2022-06-10T12:00:56.079712",
     "exception": false,
     "start_time": "2022-06-10T12:00:56.037712",
     "status": "completed"
    },
    "tags": []
   },
   "outputs": [
    {
     "data": {
      "text/html": [
       "<div>\n",
       "<style scoped>\n",
       "    .dataframe tbody tr th:only-of-type {\n",
       "        vertical-align: middle;\n",
       "    }\n",
       "\n",
       "    .dataframe tbody tr th {\n",
       "        vertical-align: top;\n",
       "    }\n",
       "\n",
       "    .dataframe thead th {\n",
       "        text-align: right;\n",
       "    }\n",
       "</style>\n",
       "<table border=\"1\" class=\"dataframe\">\n",
       "  <thead>\n",
       "    <tr style=\"text-align: right;\">\n",
       "      <th></th>\n",
       "      <th>pages</th>\n",
       "      <th>rating</th>\n",
       "    </tr>\n",
       "  </thead>\n",
       "  <tbody>\n",
       "    <tr>\n",
       "      <th>count</th>\n",
       "      <td>391.000000</td>\n",
       "      <td>345.000000</td>\n",
       "    </tr>\n",
       "    <tr>\n",
       "      <th>mean</th>\n",
       "      <td>333.826087</td>\n",
       "      <td>3.576087</td>\n",
       "    </tr>\n",
       "    <tr>\n",
       "      <th>std</th>\n",
       "      <td>128.553393</td>\n",
       "      <td>1.057147</td>\n",
       "    </tr>\n",
       "    <tr>\n",
       "      <th>min</th>\n",
       "      <td>31.000000</td>\n",
       "      <td>1.000000</td>\n",
       "    </tr>\n",
       "    <tr>\n",
       "      <th>25%</th>\n",
       "      <td>256.000000</td>\n",
       "      <td>3.000000</td>\n",
       "    </tr>\n",
       "    <tr>\n",
       "      <th>50%</th>\n",
       "      <td>320.000000</td>\n",
       "      <td>4.000000</td>\n",
       "    </tr>\n",
       "    <tr>\n",
       "      <th>75%</th>\n",
       "      <td>384.000000</td>\n",
       "      <td>4.000000</td>\n",
       "    </tr>\n",
       "    <tr>\n",
       "      <th>max</th>\n",
       "      <td>912.000000</td>\n",
       "      <td>5.000000</td>\n",
       "    </tr>\n",
       "  </tbody>\n",
       "</table>\n",
       "</div>"
      ],
      "text/plain": [
       "            pages      rating\n",
       "count  391.000000  345.000000\n",
       "mean   333.826087    3.576087\n",
       "std    128.553393    1.057147\n",
       "min     31.000000    1.000000\n",
       "25%    256.000000    3.000000\n",
       "50%    320.000000    4.000000\n",
       "75%    384.000000    4.000000\n",
       "max    912.000000    5.000000"
      ]
     },
     "execution_count": 5,
     "metadata": {},
     "output_type": "execute_result"
    }
   ],
   "source": [
    "# descriptive stats of the data \n",
    "df.describe()"
   ]
  },
  {
   "cell_type": "markdown",
   "id": "9e49979b",
   "metadata": {
    "papermill": {
     "duration": 0.019578,
     "end_time": "2022-06-10T12:00:56.119222",
     "exception": false,
     "start_time": "2022-06-10T12:00:56.099644",
     "status": "completed"
    },
    "tags": []
   },
   "source": [
    "# Evaluate variables\n",
    "\n",
    "There are some aspects such as title which are too unique and thus very little improvements can be made for such a variable. Focusing on more categorical variables, errors should be minimised as much as possible to ensure an effective analysis of the data.  Working through the variables, the following changes were made to the data: \n",
    "\n",
    "* **Publication and completion date**\n",
    "\n",
    "Reprocess the dates to ensure that it is recognised as a date and then create new variables to store the year and month separately. \n",
    "\n",
    "It should be noted that there are 62 books where there are no completion dates available. Unless the status reads \"DNF\" (did not complete), the majority of books were read before 2016. There may also be books which were read post 2016 but were incorrectly logged leading to a blank in the completion date. In total there are 53 such books. "
   ]
  },
  {
   "cell_type": "code",
   "execution_count": 6,
   "id": "9172103c",
   "metadata": {
    "execution": {
     "iopub.execute_input": "2022-06-10T12:00:56.158575Z",
     "iopub.status.busy": "2022-06-10T12:00:56.158159Z",
     "iopub.status.idle": "2022-06-10T12:00:56.223464Z",
     "shell.execute_reply": "2022-06-10T12:00:56.222532Z"
    },
    "papermill": {
     "duration": 0.087632,
     "end_time": "2022-06-10T12:00:56.225740",
     "exception": false,
     "start_time": "2022-06-10T12:00:56.138108",
     "status": "completed"
    },
    "tags": []
   },
   "outputs": [],
   "source": [
    "# ammend publication dates\n",
    "df['publication date'] = pd.to_datetime(df['publication date'])\n",
    "df['publication_year'] = df['publication date'].dt.year\n",
    "df['publication_month'] = df['publication date'].dt.month\n",
    "\n",
    "# ammend completion dates\n",
    "df['completion date'] = pd.to_datetime(df['completion date'])\n",
    "df['completion_year'] = df['completion date'].dt.year\n",
    "df['completion_month'] = df['completion date'].dt.month"
   ]
  },
  {
   "cell_type": "code",
   "execution_count": 7,
   "id": "93943a1b",
   "metadata": {
    "execution": {
     "iopub.execute_input": "2022-06-10T12:00:56.265742Z",
     "iopub.status.busy": "2022-06-10T12:00:56.265351Z",
     "iopub.status.idle": "2022-06-10T12:00:56.271991Z",
     "shell.execute_reply": "2022-06-10T12:00:56.270898Z"
    },
    "papermill": {
     "duration": 0.029538,
     "end_time": "2022-06-10T12:00:56.273941",
     "exception": false,
     "start_time": "2022-06-10T12:00:56.244403",
     "status": "completed"
    },
    "tags": []
   },
   "outputs": [
    {
     "data": {
      "text/plain": [
       "62"
      ]
     },
     "execution_count": 7,
     "metadata": {},
     "output_type": "execute_result"
    }
   ],
   "source": [
    "# number of entries with no completion date (includes DNF and unknow completion date books)\n",
    "sum(df[\"completion date\"].isnull())"
   ]
  },
  {
   "cell_type": "code",
   "execution_count": 8,
   "id": "59c668a6",
   "metadata": {
    "execution": {
     "iopub.execute_input": "2022-06-10T12:00:56.314320Z",
     "iopub.status.busy": "2022-06-10T12:00:56.313552Z",
     "iopub.status.idle": "2022-06-10T12:00:56.336111Z",
     "shell.execute_reply": "2022-06-10T12:00:56.335232Z"
    },
    "papermill": {
     "duration": 0.044849,
     "end_time": "2022-06-10T12:00:56.338079",
     "exception": false,
     "start_time": "2022-06-10T12:00:56.293230",
     "status": "completed"
    },
    "tags": []
   },
   "outputs": [
    {
     "data": {
      "text/html": [
       "<div>\n",
       "<style scoped>\n",
       "    .dataframe tbody tr th:only-of-type {\n",
       "        vertical-align: middle;\n",
       "    }\n",
       "\n",
       "    .dataframe tbody tr th {\n",
       "        vertical-align: top;\n",
       "    }\n",
       "\n",
       "    .dataframe thead th {\n",
       "        text-align: right;\n",
       "    }\n",
       "</style>\n",
       "<table border=\"1\" class=\"dataframe\">\n",
       "  <thead>\n",
       "    <tr style=\"text-align: right;\">\n",
       "      <th></th>\n",
       "      <th>completion date</th>\n",
       "      <th>Title</th>\n",
       "      <th>author(s)</th>\n",
       "      <th>pages</th>\n",
       "      <th>review</th>\n",
       "      <th>rating</th>\n",
       "      <th>status</th>\n",
       "      <th>format</th>\n",
       "      <th>platform</th>\n",
       "      <th>publisher</th>\n",
       "      <th>Imprint</th>\n",
       "      <th>publication date</th>\n",
       "      <th>type</th>\n",
       "      <th>genre</th>\n",
       "      <th>language</th>\n",
       "      <th>publication_year</th>\n",
       "      <th>publication_month</th>\n",
       "      <th>completion_year</th>\n",
       "      <th>completion_month</th>\n",
       "    </tr>\n",
       "  </thead>\n",
       "  <tbody>\n",
       "    <tr>\n",
       "      <th>0</th>\n",
       "      <td>NaT</td>\n",
       "      <td>ボッコちゃん</td>\n",
       "      <td>星 新一</td>\n",
       "      <td>315</td>\n",
       "      <td>n</td>\n",
       "      <td>2.0</td>\n",
       "      <td>Completed</td>\n",
       "      <td>Physical Book</td>\n",
       "      <td>NaN</td>\n",
       "      <td>新潮社</td>\n",
       "      <td>新潮文庫</td>\n",
       "      <td>1971-05-25</td>\n",
       "      <td>Fiction</td>\n",
       "      <td>science fiction</td>\n",
       "      <td>jp</td>\n",
       "      <td>1971</td>\n",
       "      <td>5</td>\n",
       "      <td>NaN</td>\n",
       "      <td>NaN</td>\n",
       "    </tr>\n",
       "    <tr>\n",
       "      <th>6</th>\n",
       "      <td>NaT</td>\n",
       "      <td>注文の多い料理店</td>\n",
       "      <td>宮沢 賢治</td>\n",
       "      <td>358</td>\n",
       "      <td>n</td>\n",
       "      <td>NaN</td>\n",
       "      <td>Completed</td>\n",
       "      <td>Physical Book</td>\n",
       "      <td>NaN</td>\n",
       "      <td>新潮社</td>\n",
       "      <td>新潮文庫</td>\n",
       "      <td>1990-05-29</td>\n",
       "      <td>Fiction</td>\n",
       "      <td>Fantasy</td>\n",
       "      <td>jp</td>\n",
       "      <td>1990</td>\n",
       "      <td>5</td>\n",
       "      <td>NaN</td>\n",
       "      <td>NaN</td>\n",
       "    </tr>\n",
       "    <tr>\n",
       "      <th>21</th>\n",
       "      <td>NaT</td>\n",
       "      <td>どちらかが彼女を殺した</td>\n",
       "      <td>東野 圭吾</td>\n",
       "      <td>356</td>\n",
       "      <td>y</td>\n",
       "      <td>5.0</td>\n",
       "      <td>Completed</td>\n",
       "      <td>Physical Book</td>\n",
       "      <td>NaN</td>\n",
       "      <td>講談社</td>\n",
       "      <td>講談社文庫</td>\n",
       "      <td>1999-05-14</td>\n",
       "      <td>Fiction</td>\n",
       "      <td>Mystery</td>\n",
       "      <td>jp</td>\n",
       "      <td>1999</td>\n",
       "      <td>5</td>\n",
       "      <td>NaN</td>\n",
       "      <td>NaN</td>\n",
       "    </tr>\n",
       "    <tr>\n",
       "      <th>25</th>\n",
       "      <td>NaT</td>\n",
       "      <td>悪意</td>\n",
       "      <td>東野 圭吾</td>\n",
       "      <td>376</td>\n",
       "      <td>y</td>\n",
       "      <td>5.0</td>\n",
       "      <td>Completed</td>\n",
       "      <td>Physical Book</td>\n",
       "      <td>NaN</td>\n",
       "      <td>講談社</td>\n",
       "      <td>講談社文庫</td>\n",
       "      <td>2001-01-17</td>\n",
       "      <td>Fiction</td>\n",
       "      <td>Mystery</td>\n",
       "      <td>jp</td>\n",
       "      <td>2001</td>\n",
       "      <td>1</td>\n",
       "      <td>NaN</td>\n",
       "      <td>NaN</td>\n",
       "    </tr>\n",
       "    <tr>\n",
       "      <th>26</th>\n",
       "      <td>NaT</td>\n",
       "      <td>A Study in Scarlet &amp; The Sign of the Four</td>\n",
       "      <td>Sir Arthur Conan Doyle</td>\n",
       "      <td>224</td>\n",
       "      <td>n</td>\n",
       "      <td>4.0</td>\n",
       "      <td>Completed</td>\n",
       "      <td>Physical Book</td>\n",
       "      <td>NaN</td>\n",
       "      <td>Wordsworth Editions</td>\n",
       "      <td>Wordsworth Editions</td>\n",
       "      <td>2001-12-05</td>\n",
       "      <td>Fiction</td>\n",
       "      <td>Mystery</td>\n",
       "      <td>eng</td>\n",
       "      <td>2001</td>\n",
       "      <td>12</td>\n",
       "      <td>NaN</td>\n",
       "      <td>NaN</td>\n",
       "    </tr>\n",
       "  </tbody>\n",
       "</table>\n",
       "</div>"
      ],
      "text/plain": [
       "   completion date                                      Title  \\\n",
       "0              NaT                                     ボッコちゃん   \n",
       "6              NaT                                   注文の多い料理店   \n",
       "21             NaT                                どちらかが彼女を殺した   \n",
       "25             NaT                                         悪意   \n",
       "26             NaT  A Study in Scarlet & The Sign of the Four   \n",
       "\n",
       "                 author(s)  pages review  rating     status         format  \\\n",
       "0                     星 新一    315      n     2.0  Completed  Physical Book   \n",
       "6                    宮沢 賢治    358      n     NaN  Completed  Physical Book   \n",
       "21                   東野 圭吾    356      y     5.0  Completed  Physical Book   \n",
       "25                   東野 圭吾    376      y     5.0  Completed  Physical Book   \n",
       "26  Sir Arthur Conan Doyle    224      n     4.0  Completed  Physical Book   \n",
       "\n",
       "   platform            publisher              Imprint publication date  \\\n",
       "0       NaN                  新潮社                 新潮文庫       1971-05-25   \n",
       "6       NaN                  新潮社                 新潮文庫       1990-05-29   \n",
       "21      NaN                  講談社                講談社文庫       1999-05-14   \n",
       "25      NaN                  講談社                講談社文庫       2001-01-17   \n",
       "26      NaN  Wordsworth Editions  Wordsworth Editions       2001-12-05   \n",
       "\n",
       "       type            genre language  publication_year  publication_month  \\\n",
       "0   Fiction  science fiction       jp              1971                  5   \n",
       "6   Fiction          Fantasy       jp              1990                  5   \n",
       "21  Fiction          Mystery       jp              1999                  5   \n",
       "25  Fiction          Mystery       jp              2001                  1   \n",
       "26  Fiction          Mystery      eng              2001                 12   \n",
       "\n",
       "    completion_year  completion_month  \n",
       "0               NaN               NaN  \n",
       "6               NaN               NaN  \n",
       "21              NaN               NaN  \n",
       "25              NaN               NaN  \n",
       "26              NaN               NaN  "
      ]
     },
     "execution_count": 8,
     "metadata": {},
     "output_type": "execute_result"
    }
   ],
   "source": [
    "# extract of completed books where date of completion unknown\n",
    "df[(df[\"completion date\"].isnull())& (df[\"status\"]==\"Completed\")].head()"
   ]
  },
  {
   "cell_type": "code",
   "execution_count": 9,
   "id": "4a5ff06c",
   "metadata": {
    "execution": {
     "iopub.execute_input": "2022-06-10T12:00:56.379011Z",
     "iopub.status.busy": "2022-06-10T12:00:56.377918Z",
     "iopub.status.idle": "2022-06-10T12:00:56.385203Z",
     "shell.execute_reply": "2022-06-10T12:00:56.384066Z"
    },
    "papermill": {
     "duration": 0.030803,
     "end_time": "2022-06-10T12:00:56.388215",
     "exception": false,
     "start_time": "2022-06-10T12:00:56.357412",
     "status": "completed"
    },
    "tags": []
   },
   "outputs": [
    {
     "name": "stdout",
     "output_type": "stream",
     "text": [
      "There are 53 books read but no completion date was recorded.\n"
     ]
    }
   ],
   "source": [
    "# number of books where completion date unknow \n",
    "print(\"There are\", df[(df[\"completion date\"].isnull())& (df[\"status\"]==\"Completed\")].shape[0], \"books read but no completion date was recorded.\")"
   ]
  },
  {
   "cell_type": "markdown",
   "id": "83cbe9fb",
   "metadata": {
    "papermill": {
     "duration": 0.01931,
     "end_time": "2022-06-10T12:00:56.428296",
     "exception": false,
     "start_time": "2022-06-10T12:00:56.408986",
     "status": "completed"
    },
    "tags": []
   },
   "source": [
    "* **Review**\n",
    "\n",
    "The variable has been logged as \"y\" and \"n\" for simplicity. However, \"yes\" and \"no\" would be more accessible, therefore it variables are revised accordingly. \n"
   ]
  },
  {
   "cell_type": "code",
   "execution_count": 10,
   "id": "fd83d361",
   "metadata": {
    "execution": {
     "iopub.execute_input": "2022-06-10T12:00:56.468234Z",
     "iopub.status.busy": "2022-06-10T12:00:56.467836Z",
     "iopub.status.idle": "2022-06-10T12:00:56.476328Z",
     "shell.execute_reply": "2022-06-10T12:00:56.475585Z"
    },
    "papermill": {
     "duration": 0.031057,
     "end_time": "2022-06-10T12:00:56.478506",
     "exception": false,
     "start_time": "2022-06-10T12:00:56.447449",
     "status": "completed"
    },
    "tags": []
   },
   "outputs": [
    {
     "data": {
      "text/plain": [
       "0     No\n",
       "1    Yes\n",
       "2     No\n",
       "3    Yes\n",
       "4    Yes\n",
       "Name: review, dtype: object"
      ]
     },
     "execution_count": 10,
     "metadata": {},
     "output_type": "execute_result"
    }
   ],
   "source": [
    "# update review column responses\n",
    "df[\"review\"].replace({\"y\": \"Yes\", \"n\":\"No\"}, inplace = True)\n",
    "df[\"review\"].head()"
   ]
  },
  {
   "cell_type": "markdown",
   "id": "7190f9c6",
   "metadata": {
    "papermill": {
     "duration": 0.01928,
     "end_time": "2022-06-10T12:00:56.517048",
     "exception": false,
     "start_time": "2022-06-10T12:00:56.497768",
     "status": "completed"
    },
    "tags": []
   },
   "source": [
    "* **Platform**\n",
    "\n",
    "Some of the values, \"YouTube\" and \"unknown\" are too niche to stand on their own, thus for simplicity are merged to Unknown."
   ]
  },
  {
   "cell_type": "code",
   "execution_count": 11,
   "id": "abdbe87f",
   "metadata": {
    "execution": {
     "iopub.execute_input": "2022-06-10T12:00:56.558545Z",
     "iopub.status.busy": "2022-06-10T12:00:56.557639Z",
     "iopub.status.idle": "2022-06-10T12:00:56.565475Z",
     "shell.execute_reply": "2022-06-10T12:00:56.564327Z"
    },
    "papermill": {
     "duration": 0.031388,
     "end_time": "2022-06-10T12:00:56.568164",
     "exception": false,
     "start_time": "2022-06-10T12:00:56.536776",
     "status": "completed"
    },
    "tags": []
   },
   "outputs": [
    {
     "data": {
      "text/plain": [
       "Audible      25\n",
       "Libby        25\n",
       "BorrowBox    24\n",
       "Kindle       17\n",
       "Unknown       7\n",
       "Youtube       2\n",
       "Name: platform, dtype: int64"
      ]
     },
     "execution_count": 11,
     "metadata": {},
     "output_type": "execute_result"
    }
   ],
   "source": [
    "# distribution of platform types\n",
    "df[\"platform\"].value_counts()"
   ]
  },
  {
   "cell_type": "markdown",
   "id": "e50c15f3",
   "metadata": {
    "papermill": {
     "duration": 0.019225,
     "end_time": "2022-06-10T12:00:56.606988",
     "exception": false,
     "start_time": "2022-06-10T12:00:56.587763",
     "status": "completed"
    },
    "tags": []
   },
   "source": [
    "* **Genre**\n",
    "\n",
    "There are 36 genres in the dataset and an overview of the variable indicates that there are no major issues. However, there are genres listed in Japanese. Based on previous trails it was apparent that libraries such as matplotlib will struggle with the Japanese characters. Therefore, for such variables the *plotly* will be used. "
   ]
  },
  {
   "cell_type": "code",
   "execution_count": 12,
   "id": "107a0577",
   "metadata": {
    "execution": {
     "iopub.execute_input": "2022-06-10T12:00:56.647504Z",
     "iopub.status.busy": "2022-06-10T12:00:56.646857Z",
     "iopub.status.idle": "2022-06-10T12:00:56.652852Z",
     "shell.execute_reply": "2022-06-10T12:00:56.652201Z"
    },
    "papermill": {
     "duration": 0.028226,
     "end_time": "2022-06-10T12:00:56.654558",
     "exception": false,
     "start_time": "2022-06-10T12:00:56.626332",
     "status": "completed"
    },
    "tags": []
   },
   "outputs": [
    {
     "data": {
      "text/plain": [
       "36"
      ]
     },
     "execution_count": 12,
     "metadata": {},
     "output_type": "execute_result"
    }
   ],
   "source": [
    "# number of unique genres\n",
    "df[\"genre\"].nunique()"
   ]
  },
  {
   "cell_type": "code",
   "execution_count": 13,
   "id": "3fe4f2ff",
   "metadata": {
    "execution": {
     "iopub.execute_input": "2022-06-10T12:00:56.695321Z",
     "iopub.status.busy": "2022-06-10T12:00:56.694551Z",
     "iopub.status.idle": "2022-06-10T12:00:56.700996Z",
     "shell.execute_reply": "2022-06-10T12:00:56.700291Z"
    },
    "papermill": {
     "duration": 0.028902,
     "end_time": "2022-06-10T12:00:56.702798",
     "exception": false,
     "start_time": "2022-06-10T12:00:56.673896",
     "status": "completed"
    },
    "tags": []
   },
   "outputs": [
    {
     "data": {
      "text/plain": [
       "array(['science fiction', 'Mystery', 'Humour/ Satire', 'Literary Fiction',\n",
       "       'Fantasy', 'Romance', 'Science Fiction', 'Bildungsroman',\n",
       "       'Self Help', 'Picture book', 'Magical realism', 'Thriller',\n",
       "       'Economics', 'Horror', 'Contemporary', 'Mathematics',\n",
       "       'Self-Esteem', '経済小説', 'Dystopian', 'science', '経営書', 'Psychology',\n",
       "       '仕事小説', 'Fashion', 'Humour Encyclopaedias', 'Realist Literature',\n",
       "       'Physical Chemistry', 'Data', 'Law', 'Business', 'Adventure',\n",
       "       'Applied Physics', 'History', 'Biographies',\n",
       "       'Essays, Journals & Letters', 'Architectural History'],\n",
       "      dtype=object)"
      ]
     },
     "execution_count": 13,
     "metadata": {},
     "output_type": "execute_result"
    }
   ],
   "source": [
    "# list of genres\n",
    "df[\"genre\"].unique()"
   ]
  },
  {
   "cell_type": "markdown",
   "id": "bb9ee4b4",
   "metadata": {
    "papermill": {
     "duration": 0.019453,
     "end_time": "2022-06-10T12:00:56.742186",
     "exception": false,
     "start_time": "2022-06-10T12:00:56.722733",
     "status": "completed"
    },
    "tags": []
   },
   "source": [
    "* **Language **\n",
    "\n",
    "This variable uses \"jp\" and \"eng\" to represent Japanese and English. Similar to review, for clarity, they are updated to \"Japanese\" and \"English\" respectively. "
   ]
  },
  {
   "cell_type": "code",
   "execution_count": 14,
   "id": "cdb6461e",
   "metadata": {
    "execution": {
     "iopub.execute_input": "2022-06-10T12:00:56.783666Z",
     "iopub.status.busy": "2022-06-10T12:00:56.782629Z",
     "iopub.status.idle": "2022-06-10T12:00:56.788525Z",
     "shell.execute_reply": "2022-06-10T12:00:56.787680Z"
    },
    "papermill": {
     "duration": 0.028559,
     "end_time": "2022-06-10T12:00:56.790372",
     "exception": false,
     "start_time": "2022-06-10T12:00:56.761813",
     "status": "completed"
    },
    "tags": []
   },
   "outputs": [
    {
     "data": {
      "text/plain": [
       "array(['jp', 'eng'], dtype=object)"
      ]
     },
     "execution_count": 14,
     "metadata": {},
     "output_type": "execute_result"
    }
   ],
   "source": [
    "# view data in language column\n",
    "df[\"language\"].unique()"
   ]
  },
  {
   "cell_type": "code",
   "execution_count": 15,
   "id": "25aeaa29",
   "metadata": {
    "execution": {
     "iopub.execute_input": "2022-06-10T12:00:56.832941Z",
     "iopub.status.busy": "2022-06-10T12:00:56.832044Z",
     "iopub.status.idle": "2022-06-10T12:00:56.837695Z",
     "shell.execute_reply": "2022-06-10T12:00:56.836659Z"
    },
    "papermill": {
     "duration": 0.029196,
     "end_time": "2022-06-10T12:00:56.839739",
     "exception": false,
     "start_time": "2022-06-10T12:00:56.810543",
     "status": "completed"
    },
    "tags": []
   },
   "outputs": [],
   "source": [
    "# update language variables to Japanese and English for clarity\n",
    "df[\"language\"].replace({\"jp\": \"Japanese\", \"eng\":\"English\"}, inplace = True)"
   ]
  },
  {
   "cell_type": "markdown",
   "id": "5ec19f52",
   "metadata": {
    "papermill": {
     "duration": 0.01938,
     "end_time": "2022-06-10T12:00:56.879084",
     "exception": false,
     "start_time": "2022-06-10T12:00:56.859704",
     "status": "completed"
    },
    "tags": []
   },
   "source": [
    "* **Status**\n",
    "\n",
    "Although this is a visual aspect, \"incomplete\" should be \"Incomplete\" to match the ecstatic of the other options.  Additionally, \"incomplete\" and \"TBR\" are extremely small groups and therefore should be merged to \"other\". "
   ]
  },
  {
   "cell_type": "code",
   "execution_count": 16,
   "id": "18f4a24c",
   "metadata": {
    "execution": {
     "iopub.execute_input": "2022-06-10T12:00:56.920223Z",
     "iopub.status.busy": "2022-06-10T12:00:56.919861Z",
     "iopub.status.idle": "2022-06-10T12:00:56.926935Z",
     "shell.execute_reply": "2022-06-10T12:00:56.926219Z"
    },
    "papermill": {
     "duration": 0.029696,
     "end_time": "2022-06-10T12:00:56.928597",
     "exception": false,
     "start_time": "2022-06-10T12:00:56.898901",
     "status": "completed"
    },
    "tags": []
   },
   "outputs": [
    {
     "data": {
      "text/plain": [
       "Completed     381\n",
       "DNF             8\n",
       "incomplete      1\n",
       "TBR             1\n",
       "Name: status, dtype: int64"
      ]
     },
     "execution_count": 16,
     "metadata": {},
     "output_type": "execute_result"
    }
   ],
   "source": [
    "# view distrubution of status\n",
    "df[\"status\"].value_counts()"
   ]
  },
  {
   "cell_type": "code",
   "execution_count": 17,
   "id": "197793a8",
   "metadata": {
    "execution": {
     "iopub.execute_input": "2022-06-10T12:00:56.970683Z",
     "iopub.status.busy": "2022-06-10T12:00:56.969982Z",
     "iopub.status.idle": "2022-06-10T12:00:56.975333Z",
     "shell.execute_reply": "2022-06-10T12:00:56.974619Z"
    },
    "papermill": {
     "duration": 0.028784,
     "end_time": "2022-06-10T12:00:56.977163",
     "exception": false,
     "start_time": "2022-06-10T12:00:56.948379",
     "status": "completed"
    },
    "tags": []
   },
   "outputs": [],
   "source": [
    "# Merge Incomplete and TBR to other\n",
    "df[\"status\"].replace({\"Incomplete\": \"Other\", \"TBR\": \"Other\"}, inplace = True)"
   ]
  },
  {
   "cell_type": "markdown",
   "id": "e99e3a77",
   "metadata": {
    "papermill": {
     "duration": 0.019889,
     "end_time": "2022-06-10T12:00:57.017557",
     "exception": false,
     "start_time": "2022-06-10T12:00:56.997668",
     "status": "completed"
    },
    "tags": []
   },
   "source": [
    "* **Type**\n",
    "\n",
    "Type on face value appears to not have any issues.  "
   ]
  },
  {
   "cell_type": "code",
   "execution_count": 18,
   "id": "c42b178b",
   "metadata": {
    "execution": {
     "iopub.execute_input": "2022-06-10T12:00:57.058828Z",
     "iopub.status.busy": "2022-06-10T12:00:57.058134Z",
     "iopub.status.idle": "2022-06-10T12:00:57.065546Z",
     "shell.execute_reply": "2022-06-10T12:00:57.064697Z"
    },
    "papermill": {
     "duration": 0.030204,
     "end_time": "2022-06-10T12:00:57.067375",
     "exception": false,
     "start_time": "2022-06-10T12:00:57.037171",
     "status": "completed"
    },
    "tags": []
   },
   "outputs": [
    {
     "data": {
      "text/plain": [
       "Fiction       341\n",
       "Nonfiction     50\n",
       "Name: type, dtype: int64"
      ]
     },
     "execution_count": 18,
     "metadata": {},
     "output_type": "execute_result"
    }
   ],
   "source": [
    "# view data in type\n",
    "df[\"type\"].value_counts()"
   ]
  },
  {
   "cell_type": "markdown",
   "id": "148b433c",
   "metadata": {
    "papermill": {
     "duration": 0.019954,
     "end_time": "2022-06-10T12:00:57.107667",
     "exception": false,
     "start_time": "2022-06-10T12:00:57.087713",
     "status": "completed"
    },
    "tags": []
   },
   "source": [
    "# EDA"
   ]
  },
  {
   "cell_type": "code",
   "execution_count": 19,
   "id": "d42cf393",
   "metadata": {
    "execution": {
     "iopub.execute_input": "2022-06-10T12:00:57.149793Z",
     "iopub.status.busy": "2022-06-10T12:00:57.149079Z",
     "iopub.status.idle": "2022-06-10T12:00:57.346751Z",
     "shell.execute_reply": "2022-06-10T12:00:57.346039Z"
    },
    "papermill": {
     "duration": 0.220936,
     "end_time": "2022-06-10T12:00:57.348671",
     "exception": false,
     "start_time": "2022-06-10T12:00:57.127735",
     "status": "completed"
    },
    "tags": []
   },
   "outputs": [
    {
     "data": {
      "image/png": "[encoded data removed]",
      "text/plain": [
       "<Figure size 1080x720 with 1 Axes>"
      ]
     },
     "metadata": {},
     "output_type": "display_data"
    }
   ],
   "source": [
    "# visualisation of status data forthe whole dataset\n",
    "plt.figure(figsize = (15,10))\n",
    "sns.countplot(x = \"status\", data = df, palette = \"mako\")\n",
    "plt.title(\"Distribution of status of books\")\n",
    "plt.show()"
   ]
  },
  {
   "cell_type": "markdown",
   "id": "86a16a0a",
   "metadata": {
    "papermill": {
     "duration": 0.020077,
     "end_time": "2022-06-10T12:00:57.389438",
     "exception": false,
     "start_time": "2022-06-10T12:00:57.369361",
     "status": "completed"
    },
    "tags": []
   },
   "source": [
    "## DNF\n",
    "\n",
    "For those who are not readers, DNF stands for \"did not finish\". Although, I typically aim to avoid giving up on a book, this list is also not a comprehensive list of books that have been side-lined. In this dataset, DNF includes 8 books, 7 audiobooks and 1 physical book, and applies to over 2,375 pages. "
   ]
  },
  {
   "cell_type": "code",
   "execution_count": 20,
   "id": "48bc3ea6",
   "metadata": {
    "execution": {
     "iopub.execute_input": "2022-06-10T12:00:57.433833Z",
     "iopub.status.busy": "2022-06-10T12:00:57.433249Z",
     "iopub.status.idle": "2022-06-10T12:00:57.439456Z",
     "shell.execute_reply": "2022-06-10T12:00:57.438508Z"
    },
    "papermill": {
     "duration": 0.031832,
     "end_time": "2022-06-10T12:00:57.441550",
     "exception": false,
     "start_time": "2022-06-10T12:00:57.409718",
     "status": "completed"
    },
    "tags": []
   },
   "outputs": [],
   "source": [
    "# seperate data to DNF and completed (note there are \"others\")\n",
    "DNF = df[df[\"status\"]==\"DNF\"]\n",
    "Completed = df[df[\"status\"]==\"Completed\"]"
   ]
  },
  {
   "cell_type": "code",
   "execution_count": 21,
   "id": "bee41b27",
   "metadata": {
    "execution": {
     "iopub.execute_input": "2022-06-10T12:00:57.486393Z",
     "iopub.status.busy": "2022-06-10T12:00:57.485959Z",
     "iopub.status.idle": "2022-06-10T12:00:57.491724Z",
     "shell.execute_reply": "2022-06-10T12:00:57.490752Z"
    },
    "papermill": {
     "duration": 0.030569,
     "end_time": "2022-06-10T12:00:57.493594",
     "exception": false,
     "start_time": "2022-06-10T12:00:57.463025",
     "status": "completed"
    },
    "tags": []
   },
   "outputs": [
    {
     "name": "stdout",
     "output_type": "stream",
     "text": [
      "2375 pages were DNFed\n"
     ]
    }
   ],
   "source": [
    "# number of DNF pages\n",
    "print(sum(DNF[\"pages\"]), \"pages were DNFed\")"
   ]
  },
  {
   "cell_type": "code",
   "execution_count": 22,
   "id": "26a9b068",
   "metadata": {
    "execution": {
     "iopub.execute_input": "2022-06-10T12:00:57.537635Z",
     "iopub.status.busy": "2022-06-10T12:00:57.537164Z",
     "iopub.status.idle": "2022-06-10T12:00:57.545632Z",
     "shell.execute_reply": "2022-06-10T12:00:57.544574Z"
    },
    "papermill": {
     "duration": 0.032956,
     "end_time": "2022-06-10T12:00:57.547817",
     "exception": false,
     "start_time": "2022-06-10T12:00:57.514861",
     "status": "completed"
    },
    "tags": []
   },
   "outputs": [
    {
     "data": {
      "text/plain": [
       "Audiobook        7\n",
       "Physical Book    1\n",
       "Name: format, dtype: int64"
      ]
     },
     "execution_count": 22,
     "metadata": {},
     "output_type": "execute_result"
    }
   ],
   "source": [
    "# format of DNFed books\n",
    "DNF[\"format\"].value_counts()"
   ]
  },
  {
   "cell_type": "markdown",
   "id": "9dc42a5f",
   "metadata": {
    "papermill": {
     "duration": 0.021085,
     "end_time": "2022-06-10T12:00:57.591100",
     "exception": false,
     "start_time": "2022-06-10T12:00:57.570015",
     "status": "completed"
    },
    "tags": []
   },
   "source": [
    "There are no specific authors or publishers whose books appear on this list, (ie based on this dataset/category,  there are no authors/publishers whose books should be acquired with caution). This also applies to imprints. "
   ]
  },
  {
   "cell_type": "code",
   "execution_count": 23,
   "id": "29f3071f",
   "metadata": {
    "execution": {
     "iopub.execute_input": "2022-06-10T12:00:57.634889Z",
     "iopub.status.busy": "2022-06-10T12:00:57.634478Z",
     "iopub.status.idle": "2022-06-10T12:00:57.641168Z",
     "shell.execute_reply": "2022-06-10T12:00:57.640423Z"
    },
    "papermill": {
     "duration": 0.030795,
     "end_time": "2022-06-10T12:00:57.643249",
     "exception": false,
     "start_time": "2022-06-10T12:00:57.612454",
     "status": "completed"
    },
    "tags": []
   },
   "outputs": [
    {
     "name": "stdout",
     "output_type": "stream",
     "text": [
      "There are 8 authors and no duplicated authors.\n"
     ]
    }
   ],
   "source": [
    "# confirm whether there are duplicated authors in the DNF data\n",
    "if DNF[\"author(s)\"].nunique() ==DNF.shape[0]:\n",
    "    print(\"There are\",DNF[\"author(s)\"].nunique(), \"authors and no duplicated authors.\")\n",
    "else:\n",
    "    print(\"There are\",DNF[\"author(s)\"].nunique(),\"authors and include duplicates. You may wish to avoid some authors.\")"
   ]
  },
  {
   "cell_type": "code",
   "execution_count": 24,
   "id": "05215165",
   "metadata": {
    "execution": {
     "iopub.execute_input": "2022-06-10T12:00:57.688113Z",
     "iopub.status.busy": "2022-06-10T12:00:57.687738Z",
     "iopub.status.idle": "2022-06-10T12:00:57.694344Z",
     "shell.execute_reply": "2022-06-10T12:00:57.693238Z"
    },
    "papermill": {
     "duration": 0.032327,
     "end_time": "2022-06-10T12:00:57.696827",
     "exception": false,
     "start_time": "2022-06-10T12:00:57.664500",
     "status": "completed"
    },
    "tags": []
   },
   "outputs": [
    {
     "name": "stdout",
     "output_type": "stream",
     "text": [
      "There are 8 publishers and no duplicates.\n"
     ]
    }
   ],
   "source": [
    "# confirm whether there are duplicated publishers in the DNF data\n",
    "\n",
    "if DNF[\"author(s)\"].nunique() ==DNF.shape[0]:\n",
    "    print(\"There are\",DNF[\"publisher\"].nunique(), \"publishers and no duplicates.\")\n",
    "else:\n",
    "    print(\"There are\",DNF[\"publisher\"].nunique(),\"publishers and include duplicates. You may wish to avoid some publishers.\")"
   ]
  },
  {
   "cell_type": "code",
   "execution_count": 25,
   "id": "5c049a6b",
   "metadata": {
    "execution": {
     "iopub.execute_input": "2022-06-10T12:00:57.742154Z",
     "iopub.status.busy": "2022-06-10T12:00:57.741798Z",
     "iopub.status.idle": "2022-06-10T12:00:57.748484Z",
     "shell.execute_reply": "2022-06-10T12:00:57.747218Z"
    },
    "papermill": {
     "duration": 0.031212,
     "end_time": "2022-06-10T12:00:57.750299",
     "exception": false,
     "start_time": "2022-06-10T12:00:57.719087",
     "status": "completed"
    },
    "tags": []
   },
   "outputs": [
    {
     "name": "stdout",
     "output_type": "stream",
     "text": [
      "There are 8 imprints and no duplicates.\n"
     ]
    }
   ],
   "source": [
    "# confirm whether there are duplicated imprints in the DNF data\n",
    "\n",
    "if DNF[\"Imprint\"].nunique() ==DNF.shape[0]:\n",
    "    print(\"There are\",DNF[\"Imprint\"].nunique(), \"imprints and no duplicates.\")\n",
    "else:\n",
    "    print(\"There are\",DNF[\"Imprint\"].nunique(),\"imprints and include duplicates. You may wish to avoid some imprints.\")"
   ]
  },
  {
   "cell_type": "markdown",
   "id": "c5847476",
   "metadata": {
    "papermill": {
     "duration": 0.020256,
     "end_time": "2022-06-10T12:00:57.791163",
     "exception": false,
     "start_time": "2022-06-10T12:00:57.770907",
     "status": "completed"
    },
    "tags": []
   },
   "source": [
    "Books secured via the library audiobook service, BorrowBox, is more prone to DNFs. However, this is extremely narrow margin, beating Libby and Audible by only one book. Library books have a relatively low cost margin for DNFing a book compared to a physical books and some books purchased on Audible can also be returned if it has not met the customer's expectation. "
   ]
  },
  {
   "cell_type": "code",
   "execution_count": 26,
   "id": "dbfccfbf",
   "metadata": {
    "execution": {
     "iopub.execute_input": "2022-06-10T12:00:57.833580Z",
     "iopub.status.busy": "2022-06-10T12:00:57.833116Z",
     "iopub.status.idle": "2022-06-10T12:00:57.842401Z",
     "shell.execute_reply": "2022-06-10T12:00:57.841448Z"
    },
    "papermill": {
     "duration": 0.032751,
     "end_time": "2022-06-10T12:00:57.844437",
     "exception": false,
     "start_time": "2022-06-10T12:00:57.811686",
     "status": "completed"
    },
    "tags": []
   },
   "outputs": [
    {
     "data": {
      "text/plain": [
       "BorrowBox    3\n",
       "Audible      2\n",
       "Libby        2\n",
       "Name: platform, dtype: int64"
      ]
     },
     "execution_count": 26,
     "metadata": {},
     "output_type": "execute_result"
    }
   ],
   "source": [
    "# review how the DNF audiobooks were consumed\n",
    "DNF[DNF[\"format\"]==\"Audiobook\"][\"platform\"].value_counts()"
   ]
  },
  {
   "cell_type": "markdown",
   "id": "0f9ec22a",
   "metadata": {
    "papermill": {
     "duration": 0.020383,
     "end_time": "2022-06-10T12:00:57.885971",
     "exception": false,
     "start_time": "2022-06-10T12:00:57.865588",
     "status": "completed"
    },
    "tags": []
   },
   "source": [
    "Books more likely to be DNFed appear to have been published relatively recently, 2005-2022. 3 books published between 2015 and 2019 and was therefore, the range with the highest DNFs. As for month of publication, books published in latter half of the year are particularly porn to DNF."
   ]
  },
  {
   "cell_type": "code",
   "execution_count": 27,
   "id": "ca2f9b00",
   "metadata": {
    "execution": {
     "iopub.execute_input": "2022-06-10T12:00:57.929287Z",
     "iopub.status.busy": "2022-06-10T12:00:57.928923Z",
     "iopub.status.idle": "2022-06-10T12:00:59.135382Z",
     "shell.execute_reply": "2022-06-10T12:00:59.134360Z"
    },
    "papermill": {
     "duration": 1.230746,
     "end_time": "2022-06-10T12:00:59.137616",
     "exception": false,
     "start_time": "2022-06-10T12:00:57.906870",
     "status": "completed"
    },
    "tags": []
   },
   "outputs": [
    {
     "data": {
      "text/html": [
       "        <script type=\"text/javascript\">\n",
       "        window.PlotlyConfig = {MathJaxConfig: 'local'};\n",
       "        if (window.MathJax && window.MathJax.Hub && window.MathJax.Hub.Config) {window.MathJax.Hub.Config({SVG: {font: \"STIX-Web\"}});}\n",
       "        if (typeof require !== 'undefined') {\n",
       "        require.undef(\"plotly\");\n",
       "        requirejs.config({\n",
       "            paths: {\n",
       "                'plotly': ['https://cdn.plot.ly/plotly-2.12.1.min']\n",
       "            }\n",
       "        });\n",
       "        require(['plotly'], function(Plotly) {\n",
       "            window._Plotly = Plotly;\n",
       "        });\n",
       "        }\n",
       "        </script>\n",
       "        "
      ]
     },
     "metadata": {},
     "output_type": "display_data"
    },
    {
     "data": {
      "text/html": [
       "<div>                            <div id=\"dc6c9a66-a3af-4304-b0d0-cdf37ae74875\" class=\"plotly-graph-div\" style=\"height:525px; width:100%;\"></div>            <script type=\"text/javascript\">                require([\"plotly\"], function(Plotly) {                    window.PLOTLYENV=window.PLOTLYENV || {};                                    if (document.getElementById(\"dc6c9a66-a3af-4304-b0d0-cdf37ae74875\")) {                    Plotly.newPlot(                        \"dc6c9a66-a3af-4304-b0d0-cdf37ae74875\",                        [{\"alignmentgroup\":\"True\",\"bingroup\":\"x\",\"hovertemplate\":\"publication_year=%{x}<br>count=%{y}<extra></extra>\",\"legendgroup\":\"\",\"marker\":{\"color\":\"#636efa\",\"pattern\":{\"shape\":\"\"}},\"name\":\"\",\"nbinsx\":5,\"offsetgroup\":\"\",\"orientation\":\"v\",\"showlegend\":false,\"x\":[2007,2013,2013,2017,2017,2019,2021,2022],\"xaxis\":\"x\",\"yaxis\":\"y\",\"type\":\"histogram\"}],                        {\"template\":{\"data\":{\"histogram2dcontour\":[{\"type\":\"histogram2dcontour\",\"colorbar\":{\"outlinewidth\":0,\"ticks\":\"\"},\"colorscale\":[[0.0,\"#0d0887\"],[0.1111111111111111,\"#46039f\"],[0.2222222222222222,\"#7201a8\"],[0.3333333333333333,\"#9c179e\"],[0.4444444444444444,\"#bd3786\"],[0.5555555555555556,\"#d8576b\"],[0.6666666666666666,\"#ed7953\"],[0.7777777777777778,\"#fb9f3a\"],[0.8888888888888888,\"#fdca26\"],[1.0,\"#f0f921\"]]}],\"choropleth\":[{\"type\":\"choropleth\",\"colorbar\":{\"outlinewidth\":0,\"ticks\":\"\"}}],\"histogram2d\":[{\"type\":\"histogram2d\",\"colorbar\":{\"outlinewidth\":0,\"ticks\":\"\"},\"colorscale\":[[0.0,\"#0d0887\"],[0.1111111111111111,\"#46039f\"],[0.2222222222222222,\"#7201a8\"],[0.3333333333333333,\"#9c179e\"],[0.4444444444444444,\"#bd3786\"],[0.5555555555555556,\"#d8576b\"],[0.6666666666666666,\"#ed7953\"],[0.7777777777777778,\"#fb9f3a\"],[0.8888888888888888,\"#fdca26\"],[1.0,\"#f0f921\"]]}],\"heatmap\":[{\"type\":\"heatmap\",\"colorbar\":{\"outlinewidth\":0,\"ticks\":\"\"},\"colorscale\":[[0.0,\"#0d0887\"],[0.1111111111111111,\"#46039f\"],[0.2222222222222222,\"#7201a8\"],[0.3333333333333333,\"#9c179e\"],[0.4444444444444444,\"#bd3786\"],[0.5555555555555556,\"#d8576b\"],[0.6666666666666666,\"#ed7953\"],[0.7777777777777778,\"#fb9f3a\"],[0.8888888888888888,\"#fdca26\"],[1.0,\"#f0f921\"]]}],\"heatmapgl\":[{\"type\":\"heatmapgl\",\"colorbar\":{\"outlinewidth\":0,\"ticks\":\"\"},\"colorscale\":[[0.0,\"#0d0887\"],[0.1111111111111111,\"#46039f\"],[0.2222222222222222,\"#7201a8\"],[0.3333333333333333,\"#9c179e\"],[0.4444444444444444,\"#bd3786\"],[0.5555555555555556,\"#d8576b\"],[0.6666666666666666,\"#ed7953\"],[0.7777777777777778,\"#fb9f3a\"],[0.8888888888888888,\"#fdca26\"],[1.0,\"#f0f921\"]]}],\"contourcarpet\":[{\"type\":\"contourcarpet\",\"colorbar\":{\"outlinewidth\":0,\"ticks\":\"\"}}],\"contour\":[{\"type\":\"contour\",\"colorbar\":{\"outlinewidth\":0,\"ticks\":\"\"},\"colorscale\":[[0.0,\"#0d0887\"],[0.1111111111111111,\"#46039f\"],[0.2222222222222222,\"#7201a8\"],[0.3333333333333333,\"#9c179e\"],[0.4444444444444444,\"#bd3786\"],[0.5555555555555556,\"#d8576b\"],[0.6666666666666666,\"#ed7953\"],[0.7777777777777778,\"#fb9f3a\"],[0.8888888888888888,\"#fdca26\"],[1.0,\"#f0f921\"]]}],\"surface\":[{\"type\":\"surface\",\"colorbar\":{\"outlinewidth\":0,\"ticks\":\"\"},\"colorscale\":[[0.0,\"#0d0887\"],[0.1111111111111111,\"#46039f\"],[0.2222222222222222,\"#7201a8\"],[0.3333333333333333,\"#9c179e\"],[0.4444444444444444,\"#bd3786\"],[0.5555555555555556,\"#d8576b\"],[0.6666666666666666,\"#ed7953\"],[0.7777777777777778,\"#fb9f3a\"],[0.8888888888888888,\"#fdca26\"],[1.0,\"#f0f921\"]]}],\"mesh3d\":[{\"type\":\"mesh3d\",\"colorbar\":{\"outlinewidth\":0,\"ticks\":\"\"}}],\"scatter\":[{\"fillpattern\":{\"fillmode\":\"overlay\",\"size\":10,\"solidity\":0.2},\"type\":\"scatter\"}],\"parcoords\":[{\"type\":\"parcoords\",\"line\":{\"colorbar\":{\"outlinewidth\":0,\"ticks\":\"\"}}}],\"scatterpolargl\":[{\"type\":\"scatterpolargl\",\"marker\":{\"colorbar\":{\"outlinewidth\":0,\"ticks\":\"\"}}}],\"bar\":[{\"error_x\":{\"color\":\"#2a3f5f\"},\"error_y\":{\"color\":\"#2a3f5f\"},\"marker\":{\"line\":{\"color\":\"#E5ECF6\",\"width\":0.5},\"pattern\":{\"fillmode\":\"overlay\",\"size\":10,\"solidity\":0.2}},\"type\":\"bar\"}],\"scattergeo\":[{\"type\":\"scattergeo\",\"marker\":{\"colorbar\":{\"outlinewidth\":0,\"ticks\":\"\"}}}],\"scatterpolar\":[{\"type\":\"scatterpolar\",\"marker\":{\"colorbar\":{\"outlinewidth\":0,\"ticks\":\"\"}}}],\"histogram\":[{\"marker\":{\"pattern\":{\"fillmode\":\"overlay\",\"size\":10,\"solidity\":0.2}},\"type\":\"histogram\"}],\"scattergl\":[{\"type\":\"scattergl\",\"marker\":{\"colorbar\":{\"outlinewidth\":0,\"ticks\":\"\"}}}],\"scatter3d\":[{\"type\":\"scatter3d\",\"line\":{\"colorbar\":{\"outlinewidth\":0,\"ticks\":\"\"}},\"marker\":{\"colorbar\":{\"outlinewidth\":0,\"ticks\":\"\"}}}],\"scattermapbox\":[{\"type\":\"scattermapbox\",\"marker\":{\"colorbar\":{\"outlinewidth\":0,\"ticks\":\"\"}}}],\"scatterternary\":[{\"type\":\"scatterternary\",\"marker\":{\"colorbar\":{\"outlinewidth\":0,\"ticks\":\"\"}}}],\"scattercarpet\":[{\"type\":\"scattercarpet\",\"marker\":{\"colorbar\":{\"outlinewidth\":0,\"ticks\":\"\"}}}],\"carpet\":[{\"aaxis\":{\"endlinecolor\":\"#2a3f5f\",\"gridcolor\":\"white\",\"linecolor\":\"white\",\"minorgridcolor\":\"white\",\"startlinecolor\":\"#2a3f5f\"},\"baxis\":{\"endlinecolor\":\"#2a3f5f\",\"gridcolor\":\"white\",\"linecolor\":\"white\",\"minorgridcolor\":\"white\",\"startlinecolor\":\"#2a3f5f\"},\"type\":\"carpet\"}],\"table\":[{\"cells\":{\"fill\":{\"color\":\"#EBF0F8\"},\"line\":{\"color\":\"white\"}},\"header\":{\"fill\":{\"color\":\"#C8D4E3\"},\"line\":{\"color\":\"white\"}},\"type\":\"table\"}],\"barpolar\":[{\"marker\":{\"line\":{\"color\":\"#E5ECF6\",\"width\":0.5},\"pattern\":{\"fillmode\":\"overlay\",\"size\":10,\"solidity\":0.2}},\"type\":\"barpolar\"}],\"pie\":[{\"automargin\":true,\"type\":\"pie\"}]},\"layout\":{\"autotypenumbers\":\"strict\",\"colorway\":[\"#636efa\",\"#EF553B\",\"#00cc96\",\"#ab63fa\",\"#FFA15A\",\"#19d3f3\",\"#FF6692\",\"#B6E880\",\"#FF97FF\",\"#FECB52\"],\"font\":{\"color\":\"#2a3f5f\"},\"hovermode\":\"closest\",\"hoverlabel\":{\"align\":\"left\"},\"paper_bgcolor\":\"white\",\"plot_bgcolor\":\"#E5ECF6\",\"polar\":{\"bgcolor\":\"#E5ECF6\",\"angularaxis\":{\"gridcolor\":\"white\",\"linecolor\":\"white\",\"ticks\":\"\"},\"radialaxis\":{\"gridcolor\":\"white\",\"linecolor\":\"white\",\"ticks\":\"\"}},\"ternary\":{\"bgcolor\":\"#E5ECF6\",\"aaxis\":{\"gridcolor\":\"white\",\"linecolor\":\"white\",\"ticks\":\"\"},\"baxis\":{\"gridcolor\":\"white\",\"linecolor\":\"white\",\"ticks\":\"\"},\"caxis\":{\"gridcolor\":\"white\",\"linecolor\":\"white\",\"ticks\":\"\"}},\"coloraxis\":{\"colorbar\":{\"outlinewidth\":0,\"ticks\":\"\"}},\"colorscale\":{\"sequential\":[[0.0,\"#0d0887\"],[0.1111111111111111,\"#46039f\"],[0.2222222222222222,\"#7201a8\"],[0.3333333333333333,\"#9c179e\"],[0.4444444444444444,\"#bd3786\"],[0.5555555555555556,\"#d8576b\"],[0.6666666666666666,\"#ed7953\"],[0.7777777777777778,\"#fb9f3a\"],[0.8888888888888888,\"#fdca26\"],[1.0,\"#f0f921\"]],\"sequentialminus\":[[0.0,\"#0d0887\"],[0.1111111111111111,\"#46039f\"],[0.2222222222222222,\"#7201a8\"],[0.3333333333333333,\"#9c179e\"],[0.4444444444444444,\"#bd3786\"],[0.5555555555555556,\"#d8576b\"],[0.6666666666666666,\"#ed7953\"],[0.7777777777777778,\"#fb9f3a\"],[0.8888888888888888,\"#fdca26\"],[1.0,\"#f0f921\"]],\"diverging\":[[0,\"#8e0152\"],[0.1,\"#c51b7d\"],[0.2,\"#de77ae\"],[0.3,\"#f1b6da\"],[0.4,\"#fde0ef\"],[0.5,\"#f7f7f7\"],[0.6,\"#e6f5d0\"],[0.7,\"#b8e186\"],[0.8,\"#7fbc41\"],[0.9,\"#4d9221\"],[1,\"#276419\"]]},\"xaxis\":{\"gridcolor\":\"white\",\"linecolor\":\"white\",\"ticks\":\"\",\"title\":{\"standoff\":15},\"zerolinecolor\":\"white\",\"automargin\":true,\"zerolinewidth\":2},\"yaxis\":{\"gridcolor\":\"white\",\"linecolor\":\"white\",\"ticks\":\"\",\"title\":{\"standoff\":15},\"zerolinecolor\":\"white\",\"automargin\":true,\"zerolinewidth\":2},\"scene\":{\"xaxis\":{\"backgroundcolor\":\"#E5ECF6\",\"gridcolor\":\"white\",\"linecolor\":\"white\",\"showbackground\":true,\"ticks\":\"\",\"zerolinecolor\":\"white\",\"gridwidth\":2},\"yaxis\":{\"backgroundcolor\":\"#E5ECF6\",\"gridcolor\":\"white\",\"linecolor\":\"white\",\"showbackground\":true,\"ticks\":\"\",\"zerolinecolor\":\"white\",\"gridwidth\":2},\"zaxis\":{\"backgroundcolor\":\"#E5ECF6\",\"gridcolor\":\"white\",\"linecolor\":\"white\",\"showbackground\":true,\"ticks\":\"\",\"zerolinecolor\":\"white\",\"gridwidth\":2}},\"shapedefaults\":{\"line\":{\"color\":\"#2a3f5f\"}},\"annotationdefaults\":{\"arrowcolor\":\"#2a3f5f\",\"arrowhead\":0,\"arrowwidth\":1},\"geo\":{\"bgcolor\":\"white\",\"landcolor\":\"#E5ECF6\",\"subunitcolor\":\"white\",\"showland\":true,\"showlakes\":true,\"lakecolor\":\"white\"},\"title\":{\"x\":0.05},\"mapbox\":{\"style\":\"light\"}}},\"xaxis\":{\"anchor\":\"y\",\"domain\":[0.0,1.0],\"title\":{\"text\":\"publication_year\"}},\"yaxis\":{\"anchor\":\"x\",\"domain\":[0.0,1.0],\"title\":{\"text\":\"count\"}},\"legend\":{\"tracegroupgap\":0},\"margin\":{\"t\":60},\"barmode\":\"relative\"},                        {\"responsive\": true}                    ).then(function(){\n",
       "                            \n",
       "var gd = document.getElementById('dc6c9a66-a3af-4304-b0d0-cdf37ae74875');\n",
       "var x = new MutationObserver(function (mutations, observer) {{\n",
       "        var display = window.getComputedStyle(gd).display;\n",
       "        if (!display || display === 'none') {{\n",
       "            console.log([gd, 'removed!']);\n",
       "            Plotly.purge(gd);\n",
       "            observer.disconnect();\n",
       "        }}\n",
       "}});\n",
       "\n",
       "// Listen for the removal of the full notebook cells\n",
       "var notebookContainer = gd.closest('#notebook-container');\n",
       "if (notebookContainer) {{\n",
       "    x.observe(notebookContainer, {childList: true});\n",
       "}}\n",
       "\n",
       "// Listen for the clearing of the current output cell\n",
       "var outputEl = gd.closest('.output');\n",
       "if (outputEl) {{\n",
       "    x.observe(outputEl, {childList: true});\n",
       "}}\n",
       "\n",
       "                        })                };                });            </script>        </div>"
      ]
     },
     "metadata": {},
     "output_type": "display_data"
    }
   ],
   "source": [
    "# distribution of publication data (year) for DNFed book\n",
    "px.histogram(DNF, x = \"publication_year\", nbins=5)"
   ]
  },
  {
   "cell_type": "code",
   "execution_count": 28,
   "id": "9c5dd63c",
   "metadata": {
    "execution": {
     "iopub.execute_input": "2022-06-10T12:00:59.193430Z",
     "iopub.status.busy": "2022-06-10T12:00:59.192768Z",
     "iopub.status.idle": "2022-06-10T12:00:59.247570Z",
     "shell.execute_reply": "2022-06-10T12:00:59.246523Z"
    },
    "papermill": {
     "duration": 0.090467,
     "end_time": "2022-06-10T12:00:59.249756",
     "exception": false,
     "start_time": "2022-06-10T12:00:59.159289",
     "status": "completed"
    },
    "tags": []
   },
   "outputs": [
    {
     "data": {
      "text/html": [
       "<div>                            <div id=\"a43d044f-da25-4ea6-a167-130fe01e7484\" class=\"plotly-graph-div\" style=\"height:525px; width:100%;\"></div>            <script type=\"text/javascript\">                require([\"plotly\"], function(Plotly) {                    window.PLOTLYENV=window.PLOTLYENV || {};                                    if (document.getElementById(\"a43d044f-da25-4ea6-a167-130fe01e7484\")) {                    Plotly.newPlot(                        \"a43d044f-da25-4ea6-a167-130fe01e7484\",                        [{\"alignmentgroup\":\"True\",\"bingroup\":\"x\",\"hovertemplate\":\"publication_month=%{x}<br>count=%{y}<extra></extra>\",\"legendgroup\":\"\",\"marker\":{\"color\":\"#636efa\",\"pattern\":{\"shape\":\"\"}},\"name\":\"\",\"nbinsx\":4,\"offsetgroup\":\"\",\"orientation\":\"v\",\"showlegend\":false,\"x\":[8,5,12,9,10,1,10,5],\"xaxis\":\"x\",\"yaxis\":\"y\",\"type\":\"histogram\"}],                        {\"template\":{\"data\":{\"histogram2dcontour\":[{\"type\":\"histogram2dcontour\",\"colorbar\":{\"outlinewidth\":0,\"ticks\":\"\"},\"colorscale\":[[0.0,\"#0d0887\"],[0.1111111111111111,\"#46039f\"],[0.2222222222222222,\"#7201a8\"],[0.3333333333333333,\"#9c179e\"],[0.4444444444444444,\"#bd3786\"],[0.5555555555555556,\"#d8576b\"],[0.6666666666666666,\"#ed7953\"],[0.7777777777777778,\"#fb9f3a\"],[0.8888888888888888,\"#fdca26\"],[1.0,\"#f0f921\"]]}],\"choropleth\":[{\"type\":\"choropleth\",\"colorbar\":{\"outlinewidth\":0,\"ticks\":\"\"}}],\"histogram2d\":[{\"type\":\"histogram2d\",\"colorbar\":{\"outlinewidth\":0,\"ticks\":\"\"},\"colorscale\":[[0.0,\"#0d0887\"],[0.1111111111111111,\"#46039f\"],[0.2222222222222222,\"#7201a8\"],[0.3333333333333333,\"#9c179e\"],[0.4444444444444444,\"#bd3786\"],[0.5555555555555556,\"#d8576b\"],[0.6666666666666666,\"#ed7953\"],[0.7777777777777778,\"#fb9f3a\"],[0.8888888888888888,\"#fdca26\"],[1.0,\"#f0f921\"]]}],\"heatmap\":[{\"type\":\"heatmap\",\"colorbar\":{\"outlinewidth\":0,\"ticks\":\"\"},\"colorscale\":[[0.0,\"#0d0887\"],[0.1111111111111111,\"#46039f\"],[0.2222222222222222,\"#7201a8\"],[0.3333333333333333,\"#9c179e\"],[0.4444444444444444,\"#bd3786\"],[0.5555555555555556,\"#d8576b\"],[0.6666666666666666,\"#ed7953\"],[0.7777777777777778,\"#fb9f3a\"],[0.8888888888888888,\"#fdca26\"],[1.0,\"#f0f921\"]]}],\"heatmapgl\":[{\"type\":\"heatmapgl\",\"colorbar\":{\"outlinewidth\":0,\"ticks\":\"\"},\"colorscale\":[[0.0,\"#0d0887\"],[0.1111111111111111,\"#46039f\"],[0.2222222222222222,\"#7201a8\"],[0.3333333333333333,\"#9c179e\"],[0.4444444444444444,\"#bd3786\"],[0.5555555555555556,\"#d8576b\"],[0.6666666666666666,\"#ed7953\"],[0.7777777777777778,\"#fb9f3a\"],[0.8888888888888888,\"#fdca26\"],[1.0,\"#f0f921\"]]}],\"contourcarpet\":[{\"type\":\"contourcarpet\",\"colorbar\":{\"outlinewidth\":0,\"ticks\":\"\"}}],\"contour\":[{\"type\":\"contour\",\"colorbar\":{\"outlinewidth\":0,\"ticks\":\"\"},\"colorscale\":[[0.0,\"#0d0887\"],[0.1111111111111111,\"#46039f\"],[0.2222222222222222,\"#7201a8\"],[0.3333333333333333,\"#9c179e\"],[0.4444444444444444,\"#bd3786\"],[0.5555555555555556,\"#d8576b\"],[0.6666666666666666,\"#ed7953\"],[0.7777777777777778,\"#fb9f3a\"],[0.8888888888888888,\"#fdca26\"],[1.0,\"#f0f921\"]]}],\"surface\":[{\"type\":\"surface\",\"colorbar\":{\"outlinewidth\":0,\"ticks\":\"\"},\"colorscale\":[[0.0,\"#0d0887\"],[0.1111111111111111,\"#46039f\"],[0.2222222222222222,\"#7201a8\"],[0.3333333333333333,\"#9c179e\"],[0.4444444444444444,\"#bd3786\"],[0.5555555555555556,\"#d8576b\"],[0.6666666666666666,\"#ed7953\"],[0.7777777777777778,\"#fb9f3a\"],[0.8888888888888888,\"#fdca26\"],[1.0,\"#f0f921\"]]}],\"mesh3d\":[{\"type\":\"mesh3d\",\"colorbar\":{\"outlinewidth\":0,\"ticks\":\"\"}}],\"scatter\":[{\"fillpattern\":{\"fillmode\":\"overlay\",\"size\":10,\"solidity\":0.2},\"type\":\"scatter\"}],\"parcoords\":[{\"type\":\"parcoords\",\"line\":{\"colorbar\":{\"outlinewidth\":0,\"ticks\":\"\"}}}],\"scatterpolargl\":[{\"type\":\"scatterpolargl\",\"marker\":{\"colorbar\":{\"outlinewidth\":0,\"ticks\":\"\"}}}],\"bar\":[{\"error_x\":{\"color\":\"#2a3f5f\"},\"error_y\":{\"color\":\"#2a3f5f\"},\"marker\":{\"line\":{\"color\":\"#E5ECF6\",\"width\":0.5},\"pattern\":{\"fillmode\":\"overlay\",\"size\":10,\"solidity\":0.2}},\"type\":\"bar\"}],\"scattergeo\":[{\"type\":\"scattergeo\",\"marker\":{\"colorbar\":{\"outlinewidth\":0,\"ticks\":\"\"}}}],\"scatterpolar\":[{\"type\":\"scatterpolar\",\"marker\":{\"colorbar\":{\"outlinewidth\":0,\"ticks\":\"\"}}}],\"histogram\":[{\"marker\":{\"pattern\":{\"fillmode\":\"overlay\",\"size\":10,\"solidity\":0.2}},\"type\":\"histogram\"}],\"scattergl\":[{\"type\":\"scattergl\",\"marker\":{\"colorbar\":{\"outlinewidth\":0,\"ticks\":\"\"}}}],\"scatter3d\":[{\"type\":\"scatter3d\",\"line\":{\"colorbar\":{\"outlinewidth\":0,\"ticks\":\"\"}},\"marker\":{\"colorbar\":{\"outlinewidth\":0,\"ticks\":\"\"}}}],\"scattermapbox\":[{\"type\":\"scattermapbox\",\"marker\":{\"colorbar\":{\"outlinewidth\":0,\"ticks\":\"\"}}}],\"scatterternary\":[{\"type\":\"scatterternary\",\"marker\":{\"colorbar\":{\"outlinewidth\":0,\"ticks\":\"\"}}}],\"scattercarpet\":[{\"type\":\"scattercarpet\",\"marker\":{\"colorbar\":{\"outlinewidth\":0,\"ticks\":\"\"}}}],\"carpet\":[{\"aaxis\":{\"endlinecolor\":\"#2a3f5f\",\"gridcolor\":\"white\",\"linecolor\":\"white\",\"minorgridcolor\":\"white\",\"startlinecolor\":\"#2a3f5f\"},\"baxis\":{\"endlinecolor\":\"#2a3f5f\",\"gridcolor\":\"white\",\"linecolor\":\"white\",\"minorgridcolor\":\"white\",\"startlinecolor\":\"#2a3f5f\"},\"type\":\"carpet\"}],\"table\":[{\"cells\":{\"fill\":{\"color\":\"#EBF0F8\"},\"line\":{\"color\":\"white\"}},\"header\":{\"fill\":{\"color\":\"#C8D4E3\"},\"line\":{\"color\":\"white\"}},\"type\":\"table\"}],\"barpolar\":[{\"marker\":{\"line\":{\"color\":\"#E5ECF6\",\"width\":0.5},\"pattern\":{\"fillmode\":\"overlay\",\"size\":10,\"solidity\":0.2}},\"type\":\"barpolar\"}],\"pie\":[{\"automargin\":true,\"type\":\"pie\"}]},\"layout\":{\"autotypenumbers\":\"strict\",\"colorway\":[\"#636efa\",\"#EF553B\",\"#00cc96\",\"#ab63fa\",\"#FFA15A\",\"#19d3f3\",\"#FF6692\",\"#B6E880\",\"#FF97FF\",\"#FECB52\"],\"font\":{\"color\":\"#2a3f5f\"},\"hovermode\":\"closest\",\"hoverlabel\":{\"align\":\"left\"},\"paper_bgcolor\":\"white\",\"plot_bgcolor\":\"#E5ECF6\",\"polar\":{\"bgcolor\":\"#E5ECF6\",\"angularaxis\":{\"gridcolor\":\"white\",\"linecolor\":\"white\",\"ticks\":\"\"},\"radialaxis\":{\"gridcolor\":\"white\",\"linecolor\":\"white\",\"ticks\":\"\"}},\"ternary\":{\"bgcolor\":\"#E5ECF6\",\"aaxis\":{\"gridcolor\":\"white\",\"linecolor\":\"white\",\"ticks\":\"\"},\"baxis\":{\"gridcolor\":\"white\",\"linecolor\":\"white\",\"ticks\":\"\"},\"caxis\":{\"gridcolor\":\"white\",\"linecolor\":\"white\",\"ticks\":\"\"}},\"coloraxis\":{\"colorbar\":{\"outlinewidth\":0,\"ticks\":\"\"}},\"colorscale\":{\"sequential\":[[0.0,\"#0d0887\"],[0.1111111111111111,\"#46039f\"],[0.2222222222222222,\"#7201a8\"],[0.3333333333333333,\"#9c179e\"],[0.4444444444444444,\"#bd3786\"],[0.5555555555555556,\"#d8576b\"],[0.6666666666666666,\"#ed7953\"],[0.7777777777777778,\"#fb9f3a\"],[0.8888888888888888,\"#fdca26\"],[1.0,\"#f0f921\"]],\"sequentialminus\":[[0.0,\"#0d0887\"],[0.1111111111111111,\"#46039f\"],[0.2222222222222222,\"#7201a8\"],[0.3333333333333333,\"#9c179e\"],[0.4444444444444444,\"#bd3786\"],[0.5555555555555556,\"#d8576b\"],[0.6666666666666666,\"#ed7953\"],[0.7777777777777778,\"#fb9f3a\"],[0.8888888888888888,\"#fdca26\"],[1.0,\"#f0f921\"]],\"diverging\":[[0,\"#8e0152\"],[0.1,\"#c51b7d\"],[0.2,\"#de77ae\"],[0.3,\"#f1b6da\"],[0.4,\"#fde0ef\"],[0.5,\"#f7f7f7\"],[0.6,\"#e6f5d0\"],[0.7,\"#b8e186\"],[0.8,\"#7fbc41\"],[0.9,\"#4d9221\"],[1,\"#276419\"]]},\"xaxis\":{\"gridcolor\":\"white\",\"linecolor\":\"white\",\"ticks\":\"\",\"title\":{\"standoff\":15},\"zerolinecolor\":\"white\",\"automargin\":true,\"zerolinewidth\":2},\"yaxis\":{\"gridcolor\":\"white\",\"linecolor\":\"white\",\"ticks\":\"\",\"title\":{\"standoff\":15},\"zerolinecolor\":\"white\",\"automargin\":true,\"zerolinewidth\":2},\"scene\":{\"xaxis\":{\"backgroundcolor\":\"#E5ECF6\",\"gridcolor\":\"white\",\"linecolor\":\"white\",\"showbackground\":true,\"ticks\":\"\",\"zerolinecolor\":\"white\",\"gridwidth\":2},\"yaxis\":{\"backgroundcolor\":\"#E5ECF6\",\"gridcolor\":\"white\",\"linecolor\":\"white\",\"showbackground\":true,\"ticks\":\"\",\"zerolinecolor\":\"white\",\"gridwidth\":2},\"zaxis\":{\"backgroundcolor\":\"#E5ECF6\",\"gridcolor\":\"white\",\"linecolor\":\"white\",\"showbackground\":true,\"ticks\":\"\",\"zerolinecolor\":\"white\",\"gridwidth\":2}},\"shapedefaults\":{\"line\":{\"color\":\"#2a3f5f\"}},\"annotationdefaults\":{\"arrowcolor\":\"#2a3f5f\",\"arrowhead\":0,\"arrowwidth\":1},\"geo\":{\"bgcolor\":\"white\",\"landcolor\":\"#E5ECF6\",\"subunitcolor\":\"white\",\"showland\":true,\"showlakes\":true,\"lakecolor\":\"white\"},\"title\":{\"x\":0.05},\"mapbox\":{\"style\":\"light\"}}},\"xaxis\":{\"anchor\":\"y\",\"domain\":[0.0,1.0],\"title\":{\"text\":\"publication_month\"},\"range\":[1,12]},\"yaxis\":{\"anchor\":\"x\",\"domain\":[0.0,1.0],\"title\":{\"text\":\"count\"}},\"legend\":{\"tracegroupgap\":0},\"margin\":{\"t\":60},\"barmode\":\"relative\"},                        {\"responsive\": true}                    ).then(function(){\n",
       "                            \n",
       "var gd = document.getElementById('a43d044f-da25-4ea6-a167-130fe01e7484');\n",
       "var x = new MutationObserver(function (mutations, observer) {{\n",
       "        var display = window.getComputedStyle(gd).display;\n",
       "        if (!display || display === 'none') {{\n",
       "            console.log([gd, 'removed!']);\n",
       "            Plotly.purge(gd);\n",
       "            observer.disconnect();\n",
       "        }}\n",
       "}});\n",
       "\n",
       "// Listen for the removal of the full notebook cells\n",
       "var notebookContainer = gd.closest('#notebook-container');\n",
       "if (notebookContainer) {{\n",
       "    x.observe(notebookContainer, {childList: true});\n",
       "}}\n",
       "\n",
       "// Listen for the clearing of the current output cell\n",
       "var outputEl = gd.closest('.output');\n",
       "if (outputEl) {{\n",
       "    x.observe(outputEl, {childList: true});\n",
       "}}\n",
       "\n",
       "                        })                };                });            </script>        </div>"
      ]
     },
     "metadata": {},
     "output_type": "display_data"
    }
   ],
   "source": [
    "# distribution of publication data (month) for DNFed book\n",
    "fig = px.histogram(DNF, x = \"publication_month\", nbins=4)\n",
    "fig.update_layout(xaxis_range = [1,12])"
   ]
  },
  {
   "cell_type": "markdown",
   "id": "7eb3f368",
   "metadata": {
    "papermill": {
     "duration": 0.021644,
     "end_time": "2022-06-10T12:00:59.292832",
     "exception": false,
     "start_time": "2022-06-10T12:00:59.271188",
     "status": "completed"
    },
    "tags": []
   },
   "source": [
    "Genres self-helps and to a latter extent literary fiction, are the most susceptible to DNF. "
   ]
  },
  {
   "cell_type": "code",
   "execution_count": 29,
   "id": "2a171226",
   "metadata": {
    "execution": {
     "iopub.execute_input": "2022-06-10T12:00:59.337866Z",
     "iopub.status.busy": "2022-06-10T12:00:59.337457Z",
     "iopub.status.idle": "2022-06-10T12:00:59.391365Z",
     "shell.execute_reply": "2022-06-10T12:00:59.390375Z"
    },
    "papermill": {
     "duration": 0.080157,
     "end_time": "2022-06-10T12:00:59.394782",
     "exception": false,
     "start_time": "2022-06-10T12:00:59.314625",
     "status": "completed"
    },
    "tags": []
   },
   "outputs": [
    {
     "data": {
      "text/html": [
       "<div>                            <div id=\"c61a1cb1-63fd-465e-8e5f-d363f85213ea\" class=\"plotly-graph-div\" style=\"height:525px; width:100%;\"></div>            <script type=\"text/javascript\">                require([\"plotly\"], function(Plotly) {                    window.PLOTLYENV=window.PLOTLYENV || {};                                    if (document.getElementById(\"c61a1cb1-63fd-465e-8e5f-d363f85213ea\")) {                    Plotly.newPlot(                        \"c61a1cb1-63fd-465e-8e5f-d363f85213ea\",                        [{\"alignmentgroup\":\"True\",\"bingroup\":\"x\",\"hovertemplate\":\"genre=%{x}<br>count=%{y}<extra></extra>\",\"legendgroup\":\"\",\"marker\":{\"color\":\"#636efa\",\"pattern\":{\"shape\":\"\"}},\"name\":\"\",\"offsetgroup\":\"\",\"orientation\":\"v\",\"showlegend\":false,\"x\":[\"Self-Esteem\",\"Literary Fiction\",\"Self Help\",\"Mystery\",\"Literary Fiction\",\"Self Help\",\"Self Help\",\"Data\"],\"xaxis\":\"x\",\"yaxis\":\"y\",\"type\":\"histogram\"}],                        {\"template\":{\"data\":{\"histogram2dcontour\":[{\"type\":\"histogram2dcontour\",\"colorbar\":{\"outlinewidth\":0,\"ticks\":\"\"},\"colorscale\":[[0.0,\"#0d0887\"],[0.1111111111111111,\"#46039f\"],[0.2222222222222222,\"#7201a8\"],[0.3333333333333333,\"#9c179e\"],[0.4444444444444444,\"#bd3786\"],[0.5555555555555556,\"#d8576b\"],[0.6666666666666666,\"#ed7953\"],[0.7777777777777778,\"#fb9f3a\"],[0.8888888888888888,\"#fdca26\"],[1.0,\"#f0f921\"]]}],\"choropleth\":[{\"type\":\"choropleth\",\"colorbar\":{\"outlinewidth\":0,\"ticks\":\"\"}}],\"histogram2d\":[{\"type\":\"histogram2d\",\"colorbar\":{\"outlinewidth\":0,\"ticks\":\"\"},\"colorscale\":[[0.0,\"#0d0887\"],[0.1111111111111111,\"#46039f\"],[0.2222222222222222,\"#7201a8\"],[0.3333333333333333,\"#9c179e\"],[0.4444444444444444,\"#bd3786\"],[0.5555555555555556,\"#d8576b\"],[0.6666666666666666,\"#ed7953\"],[0.7777777777777778,\"#fb9f3a\"],[0.8888888888888888,\"#fdca26\"],[1.0,\"#f0f921\"]]}],\"heatmap\":[{\"type\":\"heatmap\",\"colorbar\":{\"outlinewidth\":0,\"ticks\":\"\"},\"colorscale\":[[0.0,\"#0d0887\"],[0.1111111111111111,\"#46039f\"],[0.2222222222222222,\"#7201a8\"],[0.3333333333333333,\"#9c179e\"],[0.4444444444444444,\"#bd3786\"],[0.5555555555555556,\"#d8576b\"],[0.6666666666666666,\"#ed7953\"],[0.7777777777777778,\"#fb9f3a\"],[0.8888888888888888,\"#fdca26\"],[1.0,\"#f0f921\"]]}],\"heatmapgl\":[{\"type\":\"heatmapgl\",\"colorbar\":{\"outlinewidth\":0,\"ticks\":\"\"},\"colorscale\":[[0.0,\"#0d0887\"],[0.1111111111111111,\"#46039f\"],[0.2222222222222222,\"#7201a8\"],[0.3333333333333333,\"#9c179e\"],[0.4444444444444444,\"#bd3786\"],[0.5555555555555556,\"#d8576b\"],[0.6666666666666666,\"#ed7953\"],[0.7777777777777778,\"#fb9f3a\"],[0.8888888888888888,\"#fdca26\"],[1.0,\"#f0f921\"]]}],\"contourcarpet\":[{\"type\":\"contourcarpet\",\"colorbar\":{\"outlinewidth\":0,\"ticks\":\"\"}}],\"contour\":[{\"type\":\"contour\",\"colorbar\":{\"outlinewidth\":0,\"ticks\":\"\"},\"colorscale\":[[0.0,\"#0d0887\"],[0.1111111111111111,\"#46039f\"],[0.2222222222222222,\"#7201a8\"],[0.3333333333333333,\"#9c179e\"],[0.4444444444444444,\"#bd3786\"],[0.5555555555555556,\"#d8576b\"],[0.6666666666666666,\"#ed7953\"],[0.7777777777777778,\"#fb9f3a\"],[0.8888888888888888,\"#fdca26\"],[1.0,\"#f0f921\"]]}],\"surface\":[{\"type\":\"surface\",\"colorbar\":{\"outlinewidth\":0,\"ticks\":\"\"},\"colorscale\":[[0.0,\"#0d0887\"],[0.1111111111111111,\"#46039f\"],[0.2222222222222222,\"#7201a8\"],[0.3333333333333333,\"#9c179e\"],[0.4444444444444444,\"#bd3786\"],[0.5555555555555556,\"#d8576b\"],[0.6666666666666666,\"#ed7953\"],[0.7777777777777778,\"#fb9f3a\"],[0.8888888888888888,\"#fdca26\"],[1.0,\"#f0f921\"]]}],\"mesh3d\":[{\"type\":\"mesh3d\",\"colorbar\":{\"outlinewidth\":0,\"ticks\":\"\"}}],\"scatter\":[{\"fillpattern\":{\"fillmode\":\"overlay\",\"size\":10,\"solidity\":0.2},\"type\":\"scatter\"}],\"parcoords\":[{\"type\":\"parcoords\",\"line\":{\"colorbar\":{\"outlinewidth\":0,\"ticks\":\"\"}}}],\"scatterpolargl\":[{\"type\":\"scatterpolargl\",\"marker\":{\"colorbar\":{\"outlinewidth\":0,\"ticks\":\"\"}}}],\"bar\":[{\"error_x\":{\"color\":\"#2a3f5f\"},\"error_y\":{\"color\":\"#2a3f5f\"},\"marker\":{\"line\":{\"color\":\"#E5ECF6\",\"width\":0.5},\"pattern\":{\"fillmode\":\"overlay\",\"size\":10,\"solidity\":0.2}},\"type\":\"bar\"}],\"scattergeo\":[{\"type\":\"scattergeo\",\"marker\":{\"colorbar\":{\"outlinewidth\":0,\"ticks\":\"\"}}}],\"scatterpolar\":[{\"type\":\"scatterpolar\",\"marker\":{\"colorbar\":{\"outlinewidth\":0,\"ticks\":\"\"}}}],\"histogram\":[{\"marker\":{\"pattern\":{\"fillmode\":\"overlay\",\"size\":10,\"solidity\":0.2}},\"type\":\"histogram\"}],\"scattergl\":[{\"type\":\"scattergl\",\"marker\":{\"colorbar\":{\"outlinewidth\":0,\"ticks\":\"\"}}}],\"scatter3d\":[{\"type\":\"scatter3d\",\"line\":{\"colorbar\":{\"outlinewidth\":0,\"ticks\":\"\"}},\"marker\":{\"colorbar\":{\"outlinewidth\":0,\"ticks\":\"\"}}}],\"scattermapbox\":[{\"type\":\"scattermapbox\",\"marker\":{\"colorbar\":{\"outlinewidth\":0,\"ticks\":\"\"}}}],\"scatterternary\":[{\"type\":\"scatterternary\",\"marker\":{\"colorbar\":{\"outlinewidth\":0,\"ticks\":\"\"}}}],\"scattercarpet\":[{\"type\":\"scattercarpet\",\"marker\":{\"colorbar\":{\"outlinewidth\":0,\"ticks\":\"\"}}}],\"carpet\":[{\"aaxis\":{\"endlinecolor\":\"#2a3f5f\",\"gridcolor\":\"white\",\"linecolor\":\"white\",\"minorgridcolor\":\"white\",\"startlinecolor\":\"#2a3f5f\"},\"baxis\":{\"endlinecolor\":\"#2a3f5f\",\"gridcolor\":\"white\",\"linecolor\":\"white\",\"minorgridcolor\":\"white\",\"startlinecolor\":\"#2a3f5f\"},\"type\":\"carpet\"}],\"table\":[{\"cells\":{\"fill\":{\"color\":\"#EBF0F8\"},\"line\":{\"color\":\"white\"}},\"header\":{\"fill\":{\"color\":\"#C8D4E3\"},\"line\":{\"color\":\"white\"}},\"type\":\"table\"}],\"barpolar\":[{\"marker\":{\"line\":{\"color\":\"#E5ECF6\",\"width\":0.5},\"pattern\":{\"fillmode\":\"overlay\",\"size\":10,\"solidity\":0.2}},\"type\":\"barpolar\"}],\"pie\":[{\"automargin\":true,\"type\":\"pie\"}]},\"layout\":{\"autotypenumbers\":\"strict\",\"colorway\":[\"#636efa\",\"#EF553B\",\"#00cc96\",\"#ab63fa\",\"#FFA15A\",\"#19d3f3\",\"#FF6692\",\"#B6E880\",\"#FF97FF\",\"#FECB52\"],\"font\":{\"color\":\"#2a3f5f\"},\"hovermode\":\"closest\",\"hoverlabel\":{\"align\":\"left\"},\"paper_bgcolor\":\"white\",\"plot_bgcolor\":\"#E5ECF6\",\"polar\":{\"bgcolor\":\"#E5ECF6\",\"angularaxis\":{\"gridcolor\":\"white\",\"linecolor\":\"white\",\"ticks\":\"\"},\"radialaxis\":{\"gridcolor\":\"white\",\"linecolor\":\"white\",\"ticks\":\"\"}},\"ternary\":{\"bgcolor\":\"#E5ECF6\",\"aaxis\":{\"gridcolor\":\"white\",\"linecolor\":\"white\",\"ticks\":\"\"},\"baxis\":{\"gridcolor\":\"white\",\"linecolor\":\"white\",\"ticks\":\"\"},\"caxis\":{\"gridcolor\":\"white\",\"linecolor\":\"white\",\"ticks\":\"\"}},\"coloraxis\":{\"colorbar\":{\"outlinewidth\":0,\"ticks\":\"\"}},\"colorscale\":{\"sequential\":[[0.0,\"#0d0887\"],[0.1111111111111111,\"#46039f\"],[0.2222222222222222,\"#7201a8\"],[0.3333333333333333,\"#9c179e\"],[0.4444444444444444,\"#bd3786\"],[0.5555555555555556,\"#d8576b\"],[0.6666666666666666,\"#ed7953\"],[0.7777777777777778,\"#fb9f3a\"],[0.8888888888888888,\"#fdca26\"],[1.0,\"#f0f921\"]],\"sequentialminus\":[[0.0,\"#0d0887\"],[0.1111111111111111,\"#46039f\"],[0.2222222222222222,\"#7201a8\"],[0.3333333333333333,\"#9c179e\"],[0.4444444444444444,\"#bd3786\"],[0.5555555555555556,\"#d8576b\"],[0.6666666666666666,\"#ed7953\"],[0.7777777777777778,\"#fb9f3a\"],[0.8888888888888888,\"#fdca26\"],[1.0,\"#f0f921\"]],\"diverging\":[[0,\"#8e0152\"],[0.1,\"#c51b7d\"],[0.2,\"#de77ae\"],[0.3,\"#f1b6da\"],[0.4,\"#fde0ef\"],[0.5,\"#f7f7f7\"],[0.6,\"#e6f5d0\"],[0.7,\"#b8e186\"],[0.8,\"#7fbc41\"],[0.9,\"#4d9221\"],[1,\"#276419\"]]},\"xaxis\":{\"gridcolor\":\"white\",\"linecolor\":\"white\",\"ticks\":\"\",\"title\":{\"standoff\":15},\"zerolinecolor\":\"white\",\"automargin\":true,\"zerolinewidth\":2},\"yaxis\":{\"gridcolor\":\"white\",\"linecolor\":\"white\",\"ticks\":\"\",\"title\":{\"standoff\":15},\"zerolinecolor\":\"white\",\"automargin\":true,\"zerolinewidth\":2},\"scene\":{\"xaxis\":{\"backgroundcolor\":\"#E5ECF6\",\"gridcolor\":\"white\",\"linecolor\":\"white\",\"showbackground\":true,\"ticks\":\"\",\"zerolinecolor\":\"white\",\"gridwidth\":2},\"yaxis\":{\"backgroundcolor\":\"#E5ECF6\",\"gridcolor\":\"white\",\"linecolor\":\"white\",\"showbackground\":true,\"ticks\":\"\",\"zerolinecolor\":\"white\",\"gridwidth\":2},\"zaxis\":{\"backgroundcolor\":\"#E5ECF6\",\"gridcolor\":\"white\",\"linecolor\":\"white\",\"showbackground\":true,\"ticks\":\"\",\"zerolinecolor\":\"white\",\"gridwidth\":2}},\"shapedefaults\":{\"line\":{\"color\":\"#2a3f5f\"}},\"annotationdefaults\":{\"arrowcolor\":\"#2a3f5f\",\"arrowhead\":0,\"arrowwidth\":1},\"geo\":{\"bgcolor\":\"white\",\"landcolor\":\"#E5ECF6\",\"subunitcolor\":\"white\",\"showland\":true,\"showlakes\":true,\"lakecolor\":\"white\"},\"title\":{\"x\":0.05},\"mapbox\":{\"style\":\"light\"}}},\"xaxis\":{\"anchor\":\"y\",\"domain\":[0.0,1.0],\"title\":{\"text\":\"genre\"}},\"yaxis\":{\"anchor\":\"x\",\"domain\":[0.0,1.0],\"title\":{\"text\":\"count\"}},\"legend\":{\"tracegroupgap\":0},\"margin\":{\"t\":60},\"barmode\":\"relative\"},                        {\"responsive\": true}                    ).then(function(){\n",
       "                            \n",
       "var gd = document.getElementById('c61a1cb1-63fd-465e-8e5f-d363f85213ea');\n",
       "var x = new MutationObserver(function (mutations, observer) {{\n",
       "        var display = window.getComputedStyle(gd).display;\n",
       "        if (!display || display === 'none') {{\n",
       "            console.log([gd, 'removed!']);\n",
       "            Plotly.purge(gd);\n",
       "            observer.disconnect();\n",
       "        }}\n",
       "}});\n",
       "\n",
       "// Listen for the removal of the full notebook cells\n",
       "var notebookContainer = gd.closest('#notebook-container');\n",
       "if (notebookContainer) {{\n",
       "    x.observe(notebookContainer, {childList: true});\n",
       "}}\n",
       "\n",
       "// Listen for the clearing of the current output cell\n",
       "var outputEl = gd.closest('.output');\n",
       "if (outputEl) {{\n",
       "    x.observe(outputEl, {childList: true});\n",
       "}}\n",
       "\n",
       "                        })                };                });            </script>        </div>"
      ]
     },
     "metadata": {},
     "output_type": "display_data"
    }
   ],
   "source": [
    "# distribution of genre for DNFed books\n",
    "px.histogram(DNF, x = \"genre\",)"
   ]
  },
  {
   "cell_type": "markdown",
   "id": "49b8d080",
   "metadata": {
    "papermill": {
     "duration": 0.022404,
     "end_time": "2022-06-10T12:00:59.440606",
     "exception": false,
     "start_time": "2022-06-10T12:00:59.418202",
     "status": "completed"
    },
    "tags": []
   },
   "source": [
    "# Read but completion date unknown\n",
    "\n",
    "The majority of the 53 books were read in Japanese with the most popular authors including  藤崎 都, 東野 圭吾 and 日丸屋 秀和. Whilst 藤崎 都 and 東野 圭吾 were authors of books, 日丸屋 秀和 is a [mangaka](https://en.wikipedia.org/wiki/Manga_artist#:~:text=A%20manga%20artist%20(or%20mangaka,artists%20were%20working%20in%20Japan). "
   ]
  },
  {
   "cell_type": "code",
   "execution_count": 30,
   "id": "23425100",
   "metadata": {
    "execution": {
     "iopub.execute_input": "2022-06-10T12:00:59.488541Z",
     "iopub.status.busy": "2022-06-10T12:00:59.488134Z",
     "iopub.status.idle": "2022-06-10T12:00:59.493476Z",
     "shell.execute_reply": "2022-06-10T12:00:59.492489Z"
    },
    "papermill": {
     "duration": 0.031765,
     "end_time": "2022-06-10T12:00:59.495603",
     "exception": false,
     "start_time": "2022-06-10T12:00:59.463838",
     "status": "completed"
    },
    "tags": []
   },
   "outputs": [],
   "source": [
    "# extract books read but with no completion date\n",
    "completion_date_unknown = Completed[Completed[\"completion date\"].isnull()]"
   ]
  },
  {
   "cell_type": "code",
   "execution_count": 31,
   "id": "a89a26b8",
   "metadata": {
    "execution": {
     "iopub.execute_input": "2022-06-10T12:00:59.540998Z",
     "iopub.status.busy": "2022-06-10T12:00:59.540610Z",
     "iopub.status.idle": "2022-06-10T12:00:59.704516Z",
     "shell.execute_reply": "2022-06-10T12:00:59.703374Z"
    },
    "papermill": {
     "duration": 0.189221,
     "end_time": "2022-06-10T12:00:59.706792",
     "exception": false,
     "start_time": "2022-06-10T12:00:59.517571",
     "status": "completed"
    },
    "tags": []
   },
   "outputs": [
    {
     "data": {
      "image/png": "[encoded data removed]",
      "text/plain": [
       "<Figure size 432x288 with 1 Axes>"
      ]
     },
     "metadata": {},
     "output_type": "display_data"
    }
   ],
   "source": [
    "# view distribution of lauagues in the dataset\n",
    "sns.countplot(x = \"language\", data = completion_date_unknown, palette = \"Blues_r\")\n",
    "plt.title(\"Distribution of the laungaues\")\n",
    "plt.show()"
   ]
  },
  {
   "cell_type": "code",
   "execution_count": 32,
   "id": "f81e2f9f",
   "metadata": {
    "execution": {
     "iopub.execute_input": "2022-06-10T12:00:59.754943Z",
     "iopub.status.busy": "2022-06-10T12:00:59.754466Z",
     "iopub.status.idle": "2022-06-10T12:00:59.762298Z",
     "shell.execute_reply": "2022-06-10T12:00:59.761666Z"
    },
    "papermill": {
     "duration": 0.034645,
     "end_time": "2022-06-10T12:00:59.764222",
     "exception": false,
     "start_time": "2022-06-10T12:00:59.729577",
     "status": "completed"
    },
    "tags": []
   },
   "outputs": [
    {
     "data": {
      "text/plain": [
       "藤崎 都                      6\n",
       "東野 圭吾                     6\n",
       "日丸屋 秀和                    6\n",
       "三上 延                      4\n",
       "谷 瑞恵                      3\n",
       "伊坂 幸太郎                    3\n",
       "葉山 透                      2\n",
       "Sir Arthur Conan Doyle    2\n",
       "朝霧 カフカ                    2\n",
       "川村 元気                     1\n",
       "Name: author(s), dtype: int64"
      ]
     },
     "execution_count": 32,
     "metadata": {},
     "output_type": "execute_result"
    }
   ],
   "source": [
    "# Top 10 authors for books read but have no recorded completion date\n",
    "completion_date_unknown[\"author(s)\"].value_counts().head(10)"
   ]
  },
  {
   "cell_type": "code",
   "execution_count": 33,
   "id": "76a0d8d1",
   "metadata": {
    "execution": {
     "iopub.execute_input": "2022-06-10T12:00:59.810772Z",
     "iopub.status.busy": "2022-06-10T12:00:59.810034Z",
     "iopub.status.idle": "2022-06-10T12:00:59.861772Z",
     "shell.execute_reply": "2022-06-10T12:00:59.860770Z"
    },
    "papermill": {
     "duration": 0.076966,
     "end_time": "2022-06-10T12:00:59.863869",
     "exception": false,
     "start_time": "2022-06-10T12:00:59.786903",
     "status": "completed"
    },
    "tags": []
   },
   "outputs": [
    {
     "data": {
      "text/html": [
       "<div>                            <div id=\"ffa02a02-7f0f-4e06-bc25-e9e1e1934598\" class=\"plotly-graph-div\" style=\"height:525px; width:100%;\"></div>            <script type=\"text/javascript\">                require([\"plotly\"], function(Plotly) {                    window.PLOTLYENV=window.PLOTLYENV || {};                                    if (document.getElementById(\"ffa02a02-7f0f-4e06-bc25-e9e1e1934598\")) {                    Plotly.newPlot(                        \"ffa02a02-7f0f-4e06-bc25-e9e1e1934598\",                        [{\"alignmentgroup\":\"True\",\"bingroup\":\"x\",\"hovertemplate\":\"author(s)=%{x}<br>count=%{y}<extra></extra>\",\"legendgroup\":\"\",\"marker\":{\"color\":\"#636efa\",\"pattern\":{\"shape\":\"\"}},\"name\":\"\",\"offsetgroup\":\"\",\"orientation\":\"v\",\"showlegend\":false,\"x\":[\"星 新一\",\"宮沢 賢治\",\"東野 圭吾\",\"東野 圭吾\",\"Sir Arthur Conan Doyle\",\"東野 圭吾\",\"谷 瑞恵\",\"谷 瑞恵\",\"谷 瑞恵\",\"E.M. Forster\",\"伊坂 幸太郎\",\"日丸屋 秀和\",\"樋野 まつり, 藤咲 あゆな\",\"George Orwell\",\"日丸屋 秀和\",\"水城 せとな\",\"伊坂 幸太郎\",\"日丸屋 秀和\",\"葉山 透\",\"三上 延\",\"江口 夏実\",\"葉山 透\",\"日丸屋 秀和\",\"Sir Arthur Conan Doyle\",\"藤崎 都\",\"若宮 シノブ, 望月 淳\",\"村上 桃子\",\"三上 延\",\"日丸屋 秀和\",\"藤崎 都\",\"藤崎 都\",\"三上 延\",\"春河35\",\"東野 圭吾\",\"藤崎 都\",\"秋川 滝美\",\"日丸屋 秀和\",\"藤咲あゆな\",\"藤崎 都\",\"朝霧 カフカ\",\"東野 圭吾\",\"朝霧 カフカ\",\"東野 圭吾\",\"川村 元気\",\"藤崎 都\",\"三上 延\",\"北川 恵海\",\"Louis Sachar\",\"伊坂 幸太郎\",\"辻村 七子\",\"福嶋ユッカ\",\"Frances Hodgson Burnett\",\"朝井 リョウ\"],\"xaxis\":\"x\",\"yaxis\":\"y\",\"type\":\"histogram\"}],                        {\"template\":{\"data\":{\"histogram2dcontour\":[{\"type\":\"histogram2dcontour\",\"colorbar\":{\"outlinewidth\":0,\"ticks\":\"\"},\"colorscale\":[[0.0,\"#0d0887\"],[0.1111111111111111,\"#46039f\"],[0.2222222222222222,\"#7201a8\"],[0.3333333333333333,\"#9c179e\"],[0.4444444444444444,\"#bd3786\"],[0.5555555555555556,\"#d8576b\"],[0.6666666666666666,\"#ed7953\"],[0.7777777777777778,\"#fb9f3a\"],[0.8888888888888888,\"#fdca26\"],[1.0,\"#f0f921\"]]}],\"choropleth\":[{\"type\":\"choropleth\",\"colorbar\":{\"outlinewidth\":0,\"ticks\":\"\"}}],\"histogram2d\":[{\"type\":\"histogram2d\",\"colorbar\":{\"outlinewidth\":0,\"ticks\":\"\"},\"colorscale\":[[0.0,\"#0d0887\"],[0.1111111111111111,\"#46039f\"],[0.2222222222222222,\"#7201a8\"],[0.3333333333333333,\"#9c179e\"],[0.4444444444444444,\"#bd3786\"],[0.5555555555555556,\"#d8576b\"],[0.6666666666666666,\"#ed7953\"],[0.7777777777777778,\"#fb9f3a\"],[0.8888888888888888,\"#fdca26\"],[1.0,\"#f0f921\"]]}],\"heatmap\":[{\"type\":\"heatmap\",\"colorbar\":{\"outlinewidth\":0,\"ticks\":\"\"},\"colorscale\":[[0.0,\"#0d0887\"],[0.1111111111111111,\"#46039f\"],[0.2222222222222222,\"#7201a8\"],[0.3333333333333333,\"#9c179e\"],[0.4444444444444444,\"#bd3786\"],[0.5555555555555556,\"#d8576b\"],[0.6666666666666666,\"#ed7953\"],[0.7777777777777778,\"#fb9f3a\"],[0.8888888888888888,\"#fdca26\"],[1.0,\"#f0f921\"]]}],\"heatmapgl\":[{\"type\":\"heatmapgl\",\"colorbar\":{\"outlinewidth\":0,\"ticks\":\"\"},\"colorscale\":[[0.0,\"#0d0887\"],[0.1111111111111111,\"#46039f\"],[0.2222222222222222,\"#7201a8\"],[0.3333333333333333,\"#9c179e\"],[0.4444444444444444,\"#bd3786\"],[0.5555555555555556,\"#d8576b\"],[0.6666666666666666,\"#ed7953\"],[0.7777777777777778,\"#fb9f3a\"],[0.8888888888888888,\"#fdca26\"],[1.0,\"#f0f921\"]]}],\"contourcarpet\":[{\"type\":\"contourcarpet\",\"colorbar\":{\"outlinewidth\":0,\"ticks\":\"\"}}],\"contour\":[{\"type\":\"contour\",\"colorbar\":{\"outlinewidth\":0,\"ticks\":\"\"},\"colorscale\":[[0.0,\"#0d0887\"],[0.1111111111111111,\"#46039f\"],[0.2222222222222222,\"#7201a8\"],[0.3333333333333333,\"#9c179e\"],[0.4444444444444444,\"#bd3786\"],[0.5555555555555556,\"#d8576b\"],[0.6666666666666666,\"#ed7953\"],[0.7777777777777778,\"#fb9f3a\"],[0.8888888888888888,\"#fdca26\"],[1.0,\"#f0f921\"]]}],\"surface\":[{\"type\":\"surface\",\"colorbar\":{\"outlinewidth\":0,\"ticks\":\"\"},\"colorscale\":[[0.0,\"#0d0887\"],[0.1111111111111111,\"#46039f\"],[0.2222222222222222,\"#7201a8\"],[0.3333333333333333,\"#9c179e\"],[0.4444444444444444,\"#bd3786\"],[0.5555555555555556,\"#d8576b\"],[0.6666666666666666,\"#ed7953\"],[0.7777777777777778,\"#fb9f3a\"],[0.8888888888888888,\"#fdca26\"],[1.0,\"#f0f921\"]]}],\"mesh3d\":[{\"type\":\"mesh3d\",\"colorbar\":{\"outlinewidth\":0,\"ticks\":\"\"}}],\"scatter\":[{\"fillpattern\":{\"fillmode\":\"overlay\",\"size\":10,\"solidity\":0.2},\"type\":\"scatter\"}],\"parcoords\":[{\"type\":\"parcoords\",\"line\":{\"colorbar\":{\"outlinewidth\":0,\"ticks\":\"\"}}}],\"scatterpolargl\":[{\"type\":\"scatterpolargl\",\"marker\":{\"colorbar\":{\"outlinewidth\":0,\"ticks\":\"\"}}}],\"bar\":[{\"error_x\":{\"color\":\"#2a3f5f\"},\"error_y\":{\"color\":\"#2a3f5f\"},\"marker\":{\"line\":{\"color\":\"#E5ECF6\",\"width\":0.5},\"pattern\":{\"fillmode\":\"overlay\",\"size\":10,\"solidity\":0.2}},\"type\":\"bar\"}],\"scattergeo\":[{\"type\":\"scattergeo\",\"marker\":{\"colorbar\":{\"outlinewidth\":0,\"ticks\":\"\"}}}],\"scatterpolar\":[{\"type\":\"scatterpolar\",\"marker\":{\"colorbar\":{\"outlinewidth\":0,\"ticks\":\"\"}}}],\"histogram\":[{\"marker\":{\"pattern\":{\"fillmode\":\"overlay\",\"size\":10,\"solidity\":0.2}},\"type\":\"histogram\"}],\"scattergl\":[{\"type\":\"scattergl\",\"marker\":{\"colorbar\":{\"outlinewidth\":0,\"ticks\":\"\"}}}],\"scatter3d\":[{\"type\":\"scatter3d\",\"line\":{\"colorbar\":{\"outlinewidth\":0,\"ticks\":\"\"}},\"marker\":{\"colorbar\":{\"outlinewidth\":0,\"ticks\":\"\"}}}],\"scattermapbox\":[{\"type\":\"scattermapbox\",\"marker\":{\"colorbar\":{\"outlinewidth\":0,\"ticks\":\"\"}}}],\"scatterternary\":[{\"type\":\"scatterternary\",\"marker\":{\"colorbar\":{\"outlinewidth\":0,\"ticks\":\"\"}}}],\"scattercarpet\":[{\"type\":\"scattercarpet\",\"marker\":{\"colorbar\":{\"outlinewidth\":0,\"ticks\":\"\"}}}],\"carpet\":[{\"aaxis\":{\"endlinecolor\":\"#2a3f5f\",\"gridcolor\":\"white\",\"linecolor\":\"white\",\"minorgridcolor\":\"white\",\"startlinecolor\":\"#2a3f5f\"},\"baxis\":{\"endlinecolor\":\"#2a3f5f\",\"gridcolor\":\"white\",\"linecolor\":\"white\",\"minorgridcolor\":\"white\",\"startlinecolor\":\"#2a3f5f\"},\"type\":\"carpet\"}],\"table\":[{\"cells\":{\"fill\":{\"color\":\"#EBF0F8\"},\"line\":{\"color\":\"white\"}},\"header\":{\"fill\":{\"color\":\"#C8D4E3\"},\"line\":{\"color\":\"white\"}},\"type\":\"table\"}],\"barpolar\":[{\"marker\":{\"line\":{\"color\":\"#E5ECF6\",\"width\":0.5},\"pattern\":{\"fillmode\":\"overlay\",\"size\":10,\"solidity\":0.2}},\"type\":\"barpolar\"}],\"pie\":[{\"automargin\":true,\"type\":\"pie\"}]},\"layout\":{\"autotypenumbers\":\"strict\",\"colorway\":[\"#636efa\",\"#EF553B\",\"#00cc96\",\"#ab63fa\",\"#FFA15A\",\"#19d3f3\",\"#FF6692\",\"#B6E880\",\"#FF97FF\",\"#FECB52\"],\"font\":{\"color\":\"#2a3f5f\"},\"hovermode\":\"closest\",\"hoverlabel\":{\"align\":\"left\"},\"paper_bgcolor\":\"white\",\"plot_bgcolor\":\"#E5ECF6\",\"polar\":{\"bgcolor\":\"#E5ECF6\",\"angularaxis\":{\"gridcolor\":\"white\",\"linecolor\":\"white\",\"ticks\":\"\"},\"radialaxis\":{\"gridcolor\":\"white\",\"linecolor\":\"white\",\"ticks\":\"\"}},\"ternary\":{\"bgcolor\":\"#E5ECF6\",\"aaxis\":{\"gridcolor\":\"white\",\"linecolor\":\"white\",\"ticks\":\"\"},\"baxis\":{\"gridcolor\":\"white\",\"linecolor\":\"white\",\"ticks\":\"\"},\"caxis\":{\"gridcolor\":\"white\",\"linecolor\":\"white\",\"ticks\":\"\"}},\"coloraxis\":{\"colorbar\":{\"outlinewidth\":0,\"ticks\":\"\"}},\"colorscale\":{\"sequential\":[[0.0,\"#0d0887\"],[0.1111111111111111,\"#46039f\"],[0.2222222222222222,\"#7201a8\"],[0.3333333333333333,\"#9c179e\"],[0.4444444444444444,\"#bd3786\"],[0.5555555555555556,\"#d8576b\"],[0.6666666666666666,\"#ed7953\"],[0.7777777777777778,\"#fb9f3a\"],[0.8888888888888888,\"#fdca26\"],[1.0,\"#f0f921\"]],\"sequentialminus\":[[0.0,\"#0d0887\"],[0.1111111111111111,\"#46039f\"],[0.2222222222222222,\"#7201a8\"],[0.3333333333333333,\"#9c179e\"],[0.4444444444444444,\"#bd3786\"],[0.5555555555555556,\"#d8576b\"],[0.6666666666666666,\"#ed7953\"],[0.7777777777777778,\"#fb9f3a\"],[0.8888888888888888,\"#fdca26\"],[1.0,\"#f0f921\"]],\"diverging\":[[0,\"#8e0152\"],[0.1,\"#c51b7d\"],[0.2,\"#de77ae\"],[0.3,\"#f1b6da\"],[0.4,\"#fde0ef\"],[0.5,\"#f7f7f7\"],[0.6,\"#e6f5d0\"],[0.7,\"#b8e186\"],[0.8,\"#7fbc41\"],[0.9,\"#4d9221\"],[1,\"#276419\"]]},\"xaxis\":{\"gridcolor\":\"white\",\"linecolor\":\"white\",\"ticks\":\"\",\"title\":{\"standoff\":15},\"zerolinecolor\":\"white\",\"automargin\":true,\"zerolinewidth\":2},\"yaxis\":{\"gridcolor\":\"white\",\"linecolor\":\"white\",\"ticks\":\"\",\"title\":{\"standoff\":15},\"zerolinecolor\":\"white\",\"automargin\":true,\"zerolinewidth\":2},\"scene\":{\"xaxis\":{\"backgroundcolor\":\"#E5ECF6\",\"gridcolor\":\"white\",\"linecolor\":\"white\",\"showbackground\":true,\"ticks\":\"\",\"zerolinecolor\":\"white\",\"gridwidth\":2},\"yaxis\":{\"backgroundcolor\":\"#E5ECF6\",\"gridcolor\":\"white\",\"linecolor\":\"white\",\"showbackground\":true,\"ticks\":\"\",\"zerolinecolor\":\"white\",\"gridwidth\":2},\"zaxis\":{\"backgroundcolor\":\"#E5ECF6\",\"gridcolor\":\"white\",\"linecolor\":\"white\",\"showbackground\":true,\"ticks\":\"\",\"zerolinecolor\":\"white\",\"gridwidth\":2}},\"shapedefaults\":{\"line\":{\"color\":\"#2a3f5f\"}},\"annotationdefaults\":{\"arrowcolor\":\"#2a3f5f\",\"arrowhead\":0,\"arrowwidth\":1},\"geo\":{\"bgcolor\":\"white\",\"landcolor\":\"#E5ECF6\",\"subunitcolor\":\"white\",\"showland\":true,\"showlakes\":true,\"lakecolor\":\"white\"},\"title\":{\"x\":0.05},\"mapbox\":{\"style\":\"light\"}}},\"xaxis\":{\"anchor\":\"y\",\"domain\":[0.0,1.0],\"title\":{\"text\":\"author(s)\"}},\"yaxis\":{\"anchor\":\"x\",\"domain\":[0.0,1.0],\"title\":{\"text\":\"count\"}},\"legend\":{\"tracegroupgap\":0},\"margin\":{\"t\":60},\"barmode\":\"relative\"},                        {\"responsive\": true}                    ).then(function(){\n",
       "                            \n",
       "var gd = document.getElementById('ffa02a02-7f0f-4e06-bc25-e9e1e1934598');\n",
       "var x = new MutationObserver(function (mutations, observer) {{\n",
       "        var display = window.getComputedStyle(gd).display;\n",
       "        if (!display || display === 'none') {{\n",
       "            console.log([gd, 'removed!']);\n",
       "            Plotly.purge(gd);\n",
       "            observer.disconnect();\n",
       "        }}\n",
       "}});\n",
       "\n",
       "// Listen for the removal of the full notebook cells\n",
       "var notebookContainer = gd.closest('#notebook-container');\n",
       "if (notebookContainer) {{\n",
       "    x.observe(notebookContainer, {childList: true});\n",
       "}}\n",
       "\n",
       "// Listen for the clearing of the current output cell\n",
       "var outputEl = gd.closest('.output');\n",
       "if (outputEl) {{\n",
       "    x.observe(outputEl, {childList: true});\n",
       "}}\n",
       "\n",
       "                        })                };                });            </script>        </div>"
      ]
     },
     "metadata": {},
     "output_type": "display_data"
    }
   ],
   "source": [
    "# visualisation of authors for books read but have no recorded completion date\n",
    "px.histogram( completion_date_unknown, x = \"author(s)\")"
   ]
  },
  {
   "cell_type": "code",
   "execution_count": 34,
   "id": "21b270fd",
   "metadata": {
    "execution": {
     "iopub.execute_input": "2022-06-10T12:00:59.911143Z",
     "iopub.status.busy": "2022-06-10T12:00:59.910531Z",
     "iopub.status.idle": "2022-06-10T12:00:59.917949Z",
     "shell.execute_reply": "2022-06-10T12:00:59.916833Z"
    },
    "papermill": {
     "duration": 0.033372,
     "end_time": "2022-06-10T12:00:59.919783",
     "exception": false,
     "start_time": "2022-06-10T12:00:59.886411",
     "status": "completed"
    },
    "tags": []
   },
   "outputs": [
    {
     "name": "stdout",
     "output_type": "stream",
     "text": [
      "The books by the most popular authors were consumed as a physical book.\n"
     ]
    }
   ],
   "source": [
    "# How were the books by the most popular authors consumed\n",
    "Book_format = completion_date_unknown[(completion_date_unknown[\"author(s)\"] ==\"東野 圭吾\")|(completion_date_unknown[\"author(s)\"] ==\"藤崎 都\")][\"format\"].unique()\n",
    "if len(Book_format) ==1: \n",
    "    print(\"The books by the most popular authors were consumed as a\", \"{}{}\".format(Book_format[0].lower(),\".\"))\n",
    "else: \n",
    "    print(\"The books by the most popular authors were consumed as a\",Book_format)"
   ]
  },
  {
   "cell_type": "markdown",
   "id": "beaf1c89",
   "metadata": {
    "papermill": {
     "duration": 0.021961,
     "end_time": "2022-06-10T12:00:59.964823",
     "exception": false,
     "start_time": "2022-06-10T12:00:59.942862",
     "status": "completed"
    },
    "tags": []
   },
   "source": [
    "During this time, a high proportion, 79.3% , of the books consumed were via physical books. Only one book was consumed via audiobook."
   ]
  },
  {
   "cell_type": "code",
   "execution_count": 35,
   "id": "20da38ff",
   "metadata": {
    "execution": {
     "iopub.execute_input": "2022-06-10T12:01:00.012443Z",
     "iopub.status.busy": "2022-06-10T12:01:00.011838Z",
     "iopub.status.idle": "2022-06-10T12:01:00.191822Z",
     "shell.execute_reply": "2022-06-10T12:01:00.191086Z"
    },
    "papermill": {
     "duration": 0.205842,
     "end_time": "2022-06-10T12:01:00.193835",
     "exception": false,
     "start_time": "2022-06-10T12:00:59.987993",
     "status": "completed"
    },
    "tags": []
   },
   "outputs": [
    {
     "data": {
      "image/png": "[encoded data removed]",
      "text/plain": [
       "<Figure size 432x288 with 1 Axes>"
      ]
     },
     "metadata": {},
     "output_type": "display_data"
    }
   ],
   "source": [
    "# distribution of formats thoughout the books read with no completion date\n",
    "sns.countplot(x = \"format\", data = completion_date_unknown, palette = \"Blues_r\")\n",
    "plt.title(\"Format of the books.\")\n",
    "plt.show()"
   ]
  },
  {
   "cell_type": "code",
   "execution_count": 36,
   "id": "0a80eeed",
   "metadata": {
    "execution": {
     "iopub.execute_input": "2022-06-10T12:01:00.241266Z",
     "iopub.status.busy": "2022-06-10T12:01:00.240643Z",
     "iopub.status.idle": "2022-06-10T12:01:00.247231Z",
     "shell.execute_reply": "2022-06-10T12:01:00.245829Z"
    },
    "papermill": {
     "duration": 0.032781,
     "end_time": "2022-06-10T12:01:00.249420",
     "exception": false,
     "start_time": "2022-06-10T12:01:00.216639",
     "status": "completed"
    },
    "tags": []
   },
   "outputs": [
    {
     "name": "stdout",
     "output_type": "stream",
     "text": [
      "79.25% of books with no completion date were consumed as a physical book.\n"
     ]
    }
   ],
   "source": [
    "percent = round(((completion_date_unknown[completion_date_unknown[\"format\"]== \"Physical Book\"].shape[0]/completion_date_unknown.shape[0])*100), 2)\n",
    "print(\"{}{}\".format(percent,\"% of books with no completion date were consumed as a physical book.\"))"
   ]
  },
  {
   "cell_type": "code",
   "execution_count": 37,
   "id": "f76b31ae",
   "metadata": {
    "execution": {
     "iopub.execute_input": "2022-06-10T12:01:00.296419Z",
     "iopub.status.busy": "2022-06-10T12:01:00.295997Z",
     "iopub.status.idle": "2022-06-10T12:01:00.315142Z",
     "shell.execute_reply": "2022-06-10T12:01:00.314455Z"
    },
    "papermill": {
     "duration": 0.044964,
     "end_time": "2022-06-10T12:01:00.317091",
     "exception": false,
     "start_time": "2022-06-10T12:01:00.272127",
     "status": "completed"
    },
    "tags": []
   },
   "outputs": [
    {
     "data": {
      "text/html": [
       "<div>\n",
       "<style scoped>\n",
       "    .dataframe tbody tr th:only-of-type {\n",
       "        vertical-align: middle;\n",
       "    }\n",
       "\n",
       "    .dataframe tbody tr th {\n",
       "        vertical-align: top;\n",
       "    }\n",
       "\n",
       "    .dataframe thead th {\n",
       "        text-align: right;\n",
       "    }\n",
       "</style>\n",
       "<table border=\"1\" class=\"dataframe\">\n",
       "  <thead>\n",
       "    <tr style=\"text-align: right;\">\n",
       "      <th></th>\n",
       "      <th>completion date</th>\n",
       "      <th>Title</th>\n",
       "      <th>author(s)</th>\n",
       "      <th>pages</th>\n",
       "      <th>review</th>\n",
       "      <th>rating</th>\n",
       "      <th>status</th>\n",
       "      <th>format</th>\n",
       "      <th>platform</th>\n",
       "      <th>publisher</th>\n",
       "      <th>Imprint</th>\n",
       "      <th>publication date</th>\n",
       "      <th>type</th>\n",
       "      <th>genre</th>\n",
       "      <th>language</th>\n",
       "      <th>publication_year</th>\n",
       "      <th>publication_month</th>\n",
       "      <th>completion_year</th>\n",
       "      <th>completion_month</th>\n",
       "    </tr>\n",
       "  </thead>\n",
       "  <tbody>\n",
       "    <tr>\n",
       "      <th>349</th>\n",
       "      <td>NaT</td>\n",
       "      <td>どうしても生きてる</td>\n",
       "      <td>朝井 リョウ</td>\n",
       "      <td>323</td>\n",
       "      <td>Yes</td>\n",
       "      <td>4.0</td>\n",
       "      <td>Completed</td>\n",
       "      <td>Audiobook</td>\n",
       "      <td>Audible</td>\n",
       "      <td>幻冬舎</td>\n",
       "      <td>幻冬舎文庫</td>\n",
       "      <td>2019-10-10</td>\n",
       "      <td>Fiction</td>\n",
       "      <td>Contemporary</td>\n",
       "      <td>Japanese</td>\n",
       "      <td>2019</td>\n",
       "      <td>10</td>\n",
       "      <td>NaN</td>\n",
       "      <td>NaN</td>\n",
       "    </tr>\n",
       "  </tbody>\n",
       "</table>\n",
       "</div>"
      ],
      "text/plain": [
       "    completion date      Title author(s)  pages review  rating     status  \\\n",
       "349             NaT  どうしても生きてる    朝井 リョウ    323    Yes     4.0  Completed   \n",
       "\n",
       "        format platform publisher Imprint publication date     type  \\\n",
       "349  Audiobook  Audible       幻冬舎   幻冬舎文庫       2019-10-10  Fiction   \n",
       "\n",
       "            genre  language  publication_year  publication_month  \\\n",
       "349  Contemporary  Japanese              2019                 10   \n",
       "\n",
       "     completion_year  completion_month  \n",
       "349              NaN               NaN  "
      ]
     },
     "execution_count": 37,
     "metadata": {},
     "output_type": "execute_result"
    }
   ],
   "source": [
    "# information of the book with no completion date consumed as an audiobook\n",
    "completion_date_unknown[completion_date_unknown[\"format\"]== \"Audiobook\"]"
   ]
  },
  {
   "cell_type": "code",
   "execution_count": 38,
   "id": "1e36a8e2",
   "metadata": {
    "execution": {
     "iopub.execute_input": "2022-06-10T12:01:00.364678Z",
     "iopub.status.busy": "2022-06-10T12:01:00.363776Z",
     "iopub.status.idle": "2022-06-10T12:01:00.417271Z",
     "shell.execute_reply": "2022-06-10T12:01:00.416350Z"
    },
    "papermill": {
     "duration": 0.079731,
     "end_time": "2022-06-10T12:01:00.419543",
     "exception": false,
     "start_time": "2022-06-10T12:01:00.339812",
     "status": "completed"
    },
    "tags": []
   },
   "outputs": [
    {
     "data": {
      "text/html": [
       "<div>                            <div id=\"3a31d7f3-8cc5-46df-9ae5-fdf785f77c57\" class=\"plotly-graph-div\" style=\"height:525px; width:100%;\"></div>            <script type=\"text/javascript\">                require([\"plotly\"], function(Plotly) {                    window.PLOTLYENV=window.PLOTLYENV || {};                                    if (document.getElementById(\"3a31d7f3-8cc5-46df-9ae5-fdf785f77c57\")) {                    Plotly.newPlot(                        \"3a31d7f3-8cc5-46df-9ae5-fdf785f77c57\",                        [{\"alignmentgroup\":\"True\",\"bingroup\":\"x\",\"hovertemplate\":\"Imprint=%{x}<br>count=%{y}<extra></extra>\",\"legendgroup\":\"\",\"marker\":{\"color\":\"#636efa\",\"pattern\":{\"shape\":\"\"}},\"name\":\"\",\"offsetgroup\":\"\",\"orientation\":\"v\",\"showlegend\":false,\"x\":[\"新潮文庫\",\"新潮文庫\",\"講談社文庫\",\"講談社文庫\",\"Wordsworth Editions\",\"講談社文庫\",\"コバルト文庫\",\"コバルト文庫\",\"コバルト文庫\",\"Penguin Classics\",\"祥伝社文庫\",\"幻冬舎コミックス\",\"花とゆめCOMICSスペシャルララノベルズ\",\"Penguin\",\"幻冬舎コミックス\",\"フラワーコミックスα\",\"祥伝社文庫\",\"幻冬舎コミックス\",\"メディアワークス文庫\",\"メディアワークス文庫\",\"モーニング KC\",\"メディアワークス文庫\",\"幻冬舎コミックス\",\"Penguin\",\"角川ルビー文庫\",\"Ｇファンタジーノベルズ\",\"リンダブックス\",\"メディアワークス文庫\",\"幻冬舎コミックス\",\"角川ルビー文庫\",\"角川ルビー文庫\",\"メディアワークス文庫\",\"カドカワコミックス・エース\",\"文春文庫\",\"角川ルビー文庫\",\"アルファポリス\",\"幻冬舎コミックス\",\"花とゆめCOMICSスペシャルララノベルズ\",\"角川ルビー文庫\",\"角川ビーンズ文庫\",\"集英社文庫\",\"角川ビーンズ文庫\",\"集英社文庫\",\"小学館文庫\",\"角川ルビー文庫\",\"メディアワークス文庫\",\"メディアワークス文庫\",\"Bloomsbury Children's Books\",\"ノン・ノベル\",\"集英社オレンジ文庫\",\"GUSH COMICS\",\"Collins Classics\",\"幻冬舎文庫\"],\"xaxis\":\"x\",\"yaxis\":\"y\",\"type\":\"histogram\"}],                        {\"template\":{\"data\":{\"histogram2dcontour\":[{\"type\":\"histogram2dcontour\",\"colorbar\":{\"outlinewidth\":0,\"ticks\":\"\"},\"colorscale\":[[0.0,\"#0d0887\"],[0.1111111111111111,\"#46039f\"],[0.2222222222222222,\"#7201a8\"],[0.3333333333333333,\"#9c179e\"],[0.4444444444444444,\"#bd3786\"],[0.5555555555555556,\"#d8576b\"],[0.6666666666666666,\"#ed7953\"],[0.7777777777777778,\"#fb9f3a\"],[0.8888888888888888,\"#fdca26\"],[1.0,\"#f0f921\"]]}],\"choropleth\":[{\"type\":\"choropleth\",\"colorbar\":{\"outlinewidth\":0,\"ticks\":\"\"}}],\"histogram2d\":[{\"type\":\"histogram2d\",\"colorbar\":{\"outlinewidth\":0,\"ticks\":\"\"},\"colorscale\":[[0.0,\"#0d0887\"],[0.1111111111111111,\"#46039f\"],[0.2222222222222222,\"#7201a8\"],[0.3333333333333333,\"#9c179e\"],[0.4444444444444444,\"#bd3786\"],[0.5555555555555556,\"#d8576b\"],[0.6666666666666666,\"#ed7953\"],[0.7777777777777778,\"#fb9f3a\"],[0.8888888888888888,\"#fdca26\"],[1.0,\"#f0f921\"]]}],\"heatmap\":[{\"type\":\"heatmap\",\"colorbar\":{\"outlinewidth\":0,\"ticks\":\"\"},\"colorscale\":[[0.0,\"#0d0887\"],[0.1111111111111111,\"#46039f\"],[0.2222222222222222,\"#7201a8\"],[0.3333333333333333,\"#9c179e\"],[0.4444444444444444,\"#bd3786\"],[0.5555555555555556,\"#d8576b\"],[0.6666666666666666,\"#ed7953\"],[0.7777777777777778,\"#fb9f3a\"],[0.8888888888888888,\"#fdca26\"],[1.0,\"#f0f921\"]]}],\"heatmapgl\":[{\"type\":\"heatmapgl\",\"colorbar\":{\"outlinewidth\":0,\"ticks\":\"\"},\"colorscale\":[[0.0,\"#0d0887\"],[0.1111111111111111,\"#46039f\"],[0.2222222222222222,\"#7201a8\"],[0.3333333333333333,\"#9c179e\"],[0.4444444444444444,\"#bd3786\"],[0.5555555555555556,\"#d8576b\"],[0.6666666666666666,\"#ed7953\"],[0.7777777777777778,\"#fb9f3a\"],[0.8888888888888888,\"#fdca26\"],[1.0,\"#f0f921\"]]}],\"contourcarpet\":[{\"type\":\"contourcarpet\",\"colorbar\":{\"outlinewidth\":0,\"ticks\":\"\"}}],\"contour\":[{\"type\":\"contour\",\"colorbar\":{\"outlinewidth\":0,\"ticks\":\"\"},\"colorscale\":[[0.0,\"#0d0887\"],[0.1111111111111111,\"#46039f\"],[0.2222222222222222,\"#7201a8\"],[0.3333333333333333,\"#9c179e\"],[0.4444444444444444,\"#bd3786\"],[0.5555555555555556,\"#d8576b\"],[0.6666666666666666,\"#ed7953\"],[0.7777777777777778,\"#fb9f3a\"],[0.8888888888888888,\"#fdca26\"],[1.0,\"#f0f921\"]]}],\"surface\":[{\"type\":\"surface\",\"colorbar\":{\"outlinewidth\":0,\"ticks\":\"\"},\"colorscale\":[[0.0,\"#0d0887\"],[0.1111111111111111,\"#46039f\"],[0.2222222222222222,\"#7201a8\"],[0.3333333333333333,\"#9c179e\"],[0.4444444444444444,\"#bd3786\"],[0.5555555555555556,\"#d8576b\"],[0.6666666666666666,\"#ed7953\"],[0.7777777777777778,\"#fb9f3a\"],[0.8888888888888888,\"#fdca26\"],[1.0,\"#f0f921\"]]}],\"mesh3d\":[{\"type\":\"mesh3d\",\"colorbar\":{\"outlinewidth\":0,\"ticks\":\"\"}}],\"scatter\":[{\"fillpattern\":{\"fillmode\":\"overlay\",\"size\":10,\"solidity\":0.2},\"type\":\"scatter\"}],\"parcoords\":[{\"type\":\"parcoords\",\"line\":{\"colorbar\":{\"outlinewidth\":0,\"ticks\":\"\"}}}],\"scatterpolargl\":[{\"type\":\"scatterpolargl\",\"marker\":{\"colorbar\":{\"outlinewidth\":0,\"ticks\":\"\"}}}],\"bar\":[{\"error_x\":{\"color\":\"#2a3f5f\"},\"error_y\":{\"color\":\"#2a3f5f\"},\"marker\":{\"line\":{\"color\":\"#E5ECF6\",\"width\":0.5},\"pattern\":{\"fillmode\":\"overlay\",\"size\":10,\"solidity\":0.2}},\"type\":\"bar\"}],\"scattergeo\":[{\"type\":\"scattergeo\",\"marker\":{\"colorbar\":{\"outlinewidth\":0,\"ticks\":\"\"}}}],\"scatterpolar\":[{\"type\":\"scatterpolar\",\"marker\":{\"colorbar\":{\"outlinewidth\":0,\"ticks\":\"\"}}}],\"histogram\":[{\"marker\":{\"pattern\":{\"fillmode\":\"overlay\",\"size\":10,\"solidity\":0.2}},\"type\":\"histogram\"}],\"scattergl\":[{\"type\":\"scattergl\",\"marker\":{\"colorbar\":{\"outlinewidth\":0,\"ticks\":\"\"}}}],\"scatter3d\":[{\"type\":\"scatter3d\",\"line\":{\"colorbar\":{\"outlinewidth\":0,\"ticks\":\"\"}},\"marker\":{\"colorbar\":{\"outlinewidth\":0,\"ticks\":\"\"}}}],\"scattermapbox\":[{\"type\":\"scattermapbox\",\"marker\":{\"colorbar\":{\"outlinewidth\":0,\"ticks\":\"\"}}}],\"scatterternary\":[{\"type\":\"scatterternary\",\"marker\":{\"colorbar\":{\"outlinewidth\":0,\"ticks\":\"\"}}}],\"scattercarpet\":[{\"type\":\"scattercarpet\",\"marker\":{\"colorbar\":{\"outlinewidth\":0,\"ticks\":\"\"}}}],\"carpet\":[{\"aaxis\":{\"endlinecolor\":\"#2a3f5f\",\"gridcolor\":\"white\",\"linecolor\":\"white\",\"minorgridcolor\":\"white\",\"startlinecolor\":\"#2a3f5f\"},\"baxis\":{\"endlinecolor\":\"#2a3f5f\",\"gridcolor\":\"white\",\"linecolor\":\"white\",\"minorgridcolor\":\"white\",\"startlinecolor\":\"#2a3f5f\"},\"type\":\"carpet\"}],\"table\":[{\"cells\":{\"fill\":{\"color\":\"#EBF0F8\"},\"line\":{\"color\":\"white\"}},\"header\":{\"fill\":{\"color\":\"#C8D4E3\"},\"line\":{\"color\":\"white\"}},\"type\":\"table\"}],\"barpolar\":[{\"marker\":{\"line\":{\"color\":\"#E5ECF6\",\"width\":0.5},\"pattern\":{\"fillmode\":\"overlay\",\"size\":10,\"solidity\":0.2}},\"type\":\"barpolar\"}],\"pie\":[{\"automargin\":true,\"type\":\"pie\"}]},\"layout\":{\"autotypenumbers\":\"strict\",\"colorway\":[\"#636efa\",\"#EF553B\",\"#00cc96\",\"#ab63fa\",\"#FFA15A\",\"#19d3f3\",\"#FF6692\",\"#B6E880\",\"#FF97FF\",\"#FECB52\"],\"font\":{\"color\":\"#2a3f5f\"},\"hovermode\":\"closest\",\"hoverlabel\":{\"align\":\"left\"},\"paper_bgcolor\":\"white\",\"plot_bgcolor\":\"#E5ECF6\",\"polar\":{\"bgcolor\":\"#E5ECF6\",\"angularaxis\":{\"gridcolor\":\"white\",\"linecolor\":\"white\",\"ticks\":\"\"},\"radialaxis\":{\"gridcolor\":\"white\",\"linecolor\":\"white\",\"ticks\":\"\"}},\"ternary\":{\"bgcolor\":\"#E5ECF6\",\"aaxis\":{\"gridcolor\":\"white\",\"linecolor\":\"white\",\"ticks\":\"\"},\"baxis\":{\"gridcolor\":\"white\",\"linecolor\":\"white\",\"ticks\":\"\"},\"caxis\":{\"gridcolor\":\"white\",\"linecolor\":\"white\",\"ticks\":\"\"}},\"coloraxis\":{\"colorbar\":{\"outlinewidth\":0,\"ticks\":\"\"}},\"colorscale\":{\"sequential\":[[0.0,\"#0d0887\"],[0.1111111111111111,\"#46039f\"],[0.2222222222222222,\"#7201a8\"],[0.3333333333333333,\"#9c179e\"],[0.4444444444444444,\"#bd3786\"],[0.5555555555555556,\"#d8576b\"],[0.6666666666666666,\"#ed7953\"],[0.7777777777777778,\"#fb9f3a\"],[0.8888888888888888,\"#fdca26\"],[1.0,\"#f0f921\"]],\"sequentialminus\":[[0.0,\"#0d0887\"],[0.1111111111111111,\"#46039f\"],[0.2222222222222222,\"#7201a8\"],[0.3333333333333333,\"#9c179e\"],[0.4444444444444444,\"#bd3786\"],[0.5555555555555556,\"#d8576b\"],[0.6666666666666666,\"#ed7953\"],[0.7777777777777778,\"#fb9f3a\"],[0.8888888888888888,\"#fdca26\"],[1.0,\"#f0f921\"]],\"diverging\":[[0,\"#8e0152\"],[0.1,\"#c51b7d\"],[0.2,\"#de77ae\"],[0.3,\"#f1b6da\"],[0.4,\"#fde0ef\"],[0.5,\"#f7f7f7\"],[0.6,\"#e6f5d0\"],[0.7,\"#b8e186\"],[0.8,\"#7fbc41\"],[0.9,\"#4d9221\"],[1,\"#276419\"]]},\"xaxis\":{\"gridcolor\":\"white\",\"linecolor\":\"white\",\"ticks\":\"\",\"title\":{\"standoff\":15},\"zerolinecolor\":\"white\",\"automargin\":true,\"zerolinewidth\":2},\"yaxis\":{\"gridcolor\":\"white\",\"linecolor\":\"white\",\"ticks\":\"\",\"title\":{\"standoff\":15},\"zerolinecolor\":\"white\",\"automargin\":true,\"zerolinewidth\":2},\"scene\":{\"xaxis\":{\"backgroundcolor\":\"#E5ECF6\",\"gridcolor\":\"white\",\"linecolor\":\"white\",\"showbackground\":true,\"ticks\":\"\",\"zerolinecolor\":\"white\",\"gridwidth\":2},\"yaxis\":{\"backgroundcolor\":\"#E5ECF6\",\"gridcolor\":\"white\",\"linecolor\":\"white\",\"showbackground\":true,\"ticks\":\"\",\"zerolinecolor\":\"white\",\"gridwidth\":2},\"zaxis\":{\"backgroundcolor\":\"#E5ECF6\",\"gridcolor\":\"white\",\"linecolor\":\"white\",\"showbackground\":true,\"ticks\":\"\",\"zerolinecolor\":\"white\",\"gridwidth\":2}},\"shapedefaults\":{\"line\":{\"color\":\"#2a3f5f\"}},\"annotationdefaults\":{\"arrowcolor\":\"#2a3f5f\",\"arrowhead\":0,\"arrowwidth\":1},\"geo\":{\"bgcolor\":\"white\",\"landcolor\":\"#E5ECF6\",\"subunitcolor\":\"white\",\"showland\":true,\"showlakes\":true,\"lakecolor\":\"white\"},\"title\":{\"x\":0.05},\"mapbox\":{\"style\":\"light\"}}},\"xaxis\":{\"anchor\":\"y\",\"domain\":[0.0,1.0],\"title\":{\"text\":\"Imprint\"}},\"yaxis\":{\"anchor\":\"x\",\"domain\":[0.0,1.0],\"title\":{\"text\":\"count\"}},\"legend\":{\"tracegroupgap\":0},\"margin\":{\"t\":60},\"barmode\":\"relative\"},                        {\"responsive\": true}                    ).then(function(){\n",
       "                            \n",
       "var gd = document.getElementById('3a31d7f3-8cc5-46df-9ae5-fdf785f77c57');\n",
       "var x = new MutationObserver(function (mutations, observer) {{\n",
       "        var display = window.getComputedStyle(gd).display;\n",
       "        if (!display || display === 'none') {{\n",
       "            console.log([gd, 'removed!']);\n",
       "            Plotly.purge(gd);\n",
       "            observer.disconnect();\n",
       "        }}\n",
       "}});\n",
       "\n",
       "// Listen for the removal of the full notebook cells\n",
       "var notebookContainer = gd.closest('#notebook-container');\n",
       "if (notebookContainer) {{\n",
       "    x.observe(notebookContainer, {childList: true});\n",
       "}}\n",
       "\n",
       "// Listen for the clearing of the current output cell\n",
       "var outputEl = gd.closest('.output');\n",
       "if (outputEl) {{\n",
       "    x.observe(outputEl, {childList: true});\n",
       "}}\n",
       "\n",
       "                        })                };                });            </script>        </div>"
      ]
     },
     "metadata": {},
     "output_type": "display_data"
    }
   ],
   "source": [
    "# Imprints of books with no completion date\n",
    "px.histogram( completion_date_unknown, x = \"Imprint\")"
   ]
  },
  {
   "cell_type": "code",
   "execution_count": 39,
   "id": "10bd7833",
   "metadata": {
    "execution": {
     "iopub.execute_input": "2022-06-10T12:01:00.467852Z",
     "iopub.status.busy": "2022-06-10T12:01:00.467455Z",
     "iopub.status.idle": "2022-06-10T12:01:00.475748Z",
     "shell.execute_reply": "2022-06-10T12:01:00.474720Z"
    },
    "papermill": {
     "duration": 0.034768,
     "end_time": "2022-06-10T12:01:00.477751",
     "exception": false,
     "start_time": "2022-06-10T12:01:00.442983",
     "status": "completed"
    },
    "tags": []
   },
   "outputs": [
    {
     "name": "stdout",
     "output_type": "stream",
     "text": [
      "For the popular authors in the list of read books with no completion date, their books were published via the following imprints:, 講談社文庫, 幻冬舎コミックス, 角川ルビー文庫, 文春文庫, 集英社文庫\n"
     ]
    }
   ],
   "source": [
    "#imprints of favoured authors\n",
    "imprints = completion_date_unknown[(completion_date_unknown[\"author(s)\"] ==\"東野 圭吾\")|(completion_date_unknown[\"author(s)\"] ==\"藤崎 都\")|(completion_date_unknown[\"author(s)\"] ==\"日丸屋 秀和\")][\"Imprint\"].unique()\n",
    "\n",
    "print(\"For the popular authors in the list of read books with no completion date, their books were published via the following imprints:\",*imprints, sep= \", \")"
   ]
  },
  {
   "cell_type": "code",
   "execution_count": 40,
   "id": "b6bd2bd2",
   "metadata": {
    "execution": {
     "iopub.execute_input": "2022-06-10T12:01:00.525882Z",
     "iopub.status.busy": "2022-06-10T12:01:00.525271Z",
     "iopub.status.idle": "2022-06-10T12:01:00.575369Z",
     "shell.execute_reply": "2022-06-10T12:01:00.574395Z"
    },
    "papermill": {
     "duration": 0.076676,
     "end_time": "2022-06-10T12:01:00.577576",
     "exception": false,
     "start_time": "2022-06-10T12:01:00.500900",
     "status": "completed"
    },
    "tags": []
   },
   "outputs": [
    {
     "data": {
      "text/html": [
       "<div>                            <div id=\"c4dd3962-d492-4f37-b942-de6677108cb0\" class=\"plotly-graph-div\" style=\"height:525px; width:100%;\"></div>            <script type=\"text/javascript\">                require([\"plotly\"], function(Plotly) {                    window.PLOTLYENV=window.PLOTLYENV || {};                                    if (document.getElementById(\"c4dd3962-d492-4f37-b942-de6677108cb0\")) {                    Plotly.newPlot(                        \"c4dd3962-d492-4f37-b942-de6677108cb0\",                        [{\"alignmentgroup\":\"True\",\"bingroup\":\"x\",\"hovertemplate\":\"publisher=%{x}<br>count=%{y}<extra></extra>\",\"legendgroup\":\"\",\"marker\":{\"color\":\"#636efa\",\"pattern\":{\"shape\":\"\"}},\"name\":\"\",\"offsetgroup\":\"\",\"orientation\":\"v\",\"showlegend\":false,\"x\":[\"新潮社\",\"新潮社\",\"講談社\",\"講談社\",\"Wordsworth Editions\",\"講談社\",\"集英社\",\"集英社\",\"集英社\",\"Penguin Random House\",\"祥伝社\",\"幻冬舎\",\"白泉社\",\"Penguin Random House\",\"幻冬舎\",\"小学館\",\"祥伝社\",\"幻冬舎\",\"KADOKAWA\",\"KADOKAWA\",\"講談社\",\"KADOKAWA\",\"幻冬舎\",\"Penguin Random House\",\"KADOKAWA\",\"スクウェア・エニックス\",\"泰文堂\",\"KADOKAWA\",\"幻冬舎\",\"KADOKAWA\",\"KADOKAWA\",\"KADOKAWA\",\"KADOKAWA\",\"文藝春秋\",\"KADOKAWA\",\"アルファポリス\",\"幻冬舎\",\"白泉社\",\"KADOKAWA\",\"KADOKAWA\",\"集英社\",\"KADOKAWA\",\"集英社\",\"小学館\",\"KADOKAWA\",\"KADOKAWA\",\"KADOKAWA\",\"Bloomsbury\",\"祥伝社\",\"集英社\",\"海王社\",\"William Collins\",\"幻冬舎\"],\"xaxis\":\"x\",\"yaxis\":\"y\",\"type\":\"histogram\"}],                        {\"template\":{\"data\":{\"histogram2dcontour\":[{\"type\":\"histogram2dcontour\",\"colorbar\":{\"outlinewidth\":0,\"ticks\":\"\"},\"colorscale\":[[0.0,\"#0d0887\"],[0.1111111111111111,\"#46039f\"],[0.2222222222222222,\"#7201a8\"],[0.3333333333333333,\"#9c179e\"],[0.4444444444444444,\"#bd3786\"],[0.5555555555555556,\"#d8576b\"],[0.6666666666666666,\"#ed7953\"],[0.7777777777777778,\"#fb9f3a\"],[0.8888888888888888,\"#fdca26\"],[1.0,\"#f0f921\"]]}],\"choropleth\":[{\"type\":\"choropleth\",\"colorbar\":{\"outlinewidth\":0,\"ticks\":\"\"}}],\"histogram2d\":[{\"type\":\"histogram2d\",\"colorbar\":{\"outlinewidth\":0,\"ticks\":\"\"},\"colorscale\":[[0.0,\"#0d0887\"],[0.1111111111111111,\"#46039f\"],[0.2222222222222222,\"#7201a8\"],[0.3333333333333333,\"#9c179e\"],[0.4444444444444444,\"#bd3786\"],[0.5555555555555556,\"#d8576b\"],[0.6666666666666666,\"#ed7953\"],[0.7777777777777778,\"#fb9f3a\"],[0.8888888888888888,\"#fdca26\"],[1.0,\"#f0f921\"]]}],\"heatmap\":[{\"type\":\"heatmap\",\"colorbar\":{\"outlinewidth\":0,\"ticks\":\"\"},\"colorscale\":[[0.0,\"#0d0887\"],[0.1111111111111111,\"#46039f\"],[0.2222222222222222,\"#7201a8\"],[0.3333333333333333,\"#9c179e\"],[0.4444444444444444,\"#bd3786\"],[0.5555555555555556,\"#d8576b\"],[0.6666666666666666,\"#ed7953\"],[0.7777777777777778,\"#fb9f3a\"],[0.8888888888888888,\"#fdca26\"],[1.0,\"#f0f921\"]]}],\"heatmapgl\":[{\"type\":\"heatmapgl\",\"colorbar\":{\"outlinewidth\":0,\"ticks\":\"\"},\"colorscale\":[[0.0,\"#0d0887\"],[0.1111111111111111,\"#46039f\"],[0.2222222222222222,\"#7201a8\"],[0.3333333333333333,\"#9c179e\"],[0.4444444444444444,\"#bd3786\"],[0.5555555555555556,\"#d8576b\"],[0.6666666666666666,\"#ed7953\"],[0.7777777777777778,\"#fb9f3a\"],[0.8888888888888888,\"#fdca26\"],[1.0,\"#f0f921\"]]}],\"contourcarpet\":[{\"type\":\"contourcarpet\",\"colorbar\":{\"outlinewidth\":0,\"ticks\":\"\"}}],\"contour\":[{\"type\":\"contour\",\"colorbar\":{\"outlinewidth\":0,\"ticks\":\"\"},\"colorscale\":[[0.0,\"#0d0887\"],[0.1111111111111111,\"#46039f\"],[0.2222222222222222,\"#7201a8\"],[0.3333333333333333,\"#9c179e\"],[0.4444444444444444,\"#bd3786\"],[0.5555555555555556,\"#d8576b\"],[0.6666666666666666,\"#ed7953\"],[0.7777777777777778,\"#fb9f3a\"],[0.8888888888888888,\"#fdca26\"],[1.0,\"#f0f921\"]]}],\"surface\":[{\"type\":\"surface\",\"colorbar\":{\"outlinewidth\":0,\"ticks\":\"\"},\"colorscale\":[[0.0,\"#0d0887\"],[0.1111111111111111,\"#46039f\"],[0.2222222222222222,\"#7201a8\"],[0.3333333333333333,\"#9c179e\"],[0.4444444444444444,\"#bd3786\"],[0.5555555555555556,\"#d8576b\"],[0.6666666666666666,\"#ed7953\"],[0.7777777777777778,\"#fb9f3a\"],[0.8888888888888888,\"#fdca26\"],[1.0,\"#f0f921\"]]}],\"mesh3d\":[{\"type\":\"mesh3d\",\"colorbar\":{\"outlinewidth\":0,\"ticks\":\"\"}}],\"scatter\":[{\"fillpattern\":{\"fillmode\":\"overlay\",\"size\":10,\"solidity\":0.2},\"type\":\"scatter\"}],\"parcoords\":[{\"type\":\"parcoords\",\"line\":{\"colorbar\":{\"outlinewidth\":0,\"ticks\":\"\"}}}],\"scatterpolargl\":[{\"type\":\"scatterpolargl\",\"marker\":{\"colorbar\":{\"outlinewidth\":0,\"ticks\":\"\"}}}],\"bar\":[{\"error_x\":{\"color\":\"#2a3f5f\"},\"error_y\":{\"color\":\"#2a3f5f\"},\"marker\":{\"line\":{\"color\":\"#E5ECF6\",\"width\":0.5},\"pattern\":{\"fillmode\":\"overlay\",\"size\":10,\"solidity\":0.2}},\"type\":\"bar\"}],\"scattergeo\":[{\"type\":\"scattergeo\",\"marker\":{\"colorbar\":{\"outlinewidth\":0,\"ticks\":\"\"}}}],\"scatterpolar\":[{\"type\":\"scatterpolar\",\"marker\":{\"colorbar\":{\"outlinewidth\":0,\"ticks\":\"\"}}}],\"histogram\":[{\"marker\":{\"pattern\":{\"fillmode\":\"overlay\",\"size\":10,\"solidity\":0.2}},\"type\":\"histogram\"}],\"scattergl\":[{\"type\":\"scattergl\",\"marker\":{\"colorbar\":{\"outlinewidth\":0,\"ticks\":\"\"}}}],\"scatter3d\":[{\"type\":\"scatter3d\",\"line\":{\"colorbar\":{\"outlinewidth\":0,\"ticks\":\"\"}},\"marker\":{\"colorbar\":{\"outlinewidth\":0,\"ticks\":\"\"}}}],\"scattermapbox\":[{\"type\":\"scattermapbox\",\"marker\":{\"colorbar\":{\"outlinewidth\":0,\"ticks\":\"\"}}}],\"scatterternary\":[{\"type\":\"scatterternary\",\"marker\":{\"colorbar\":{\"outlinewidth\":0,\"ticks\":\"\"}}}],\"scattercarpet\":[{\"type\":\"scattercarpet\",\"marker\":{\"colorbar\":{\"outlinewidth\":0,\"ticks\":\"\"}}}],\"carpet\":[{\"aaxis\":{\"endlinecolor\":\"#2a3f5f\",\"gridcolor\":\"white\",\"linecolor\":\"white\",\"minorgridcolor\":\"white\",\"startlinecolor\":\"#2a3f5f\"},\"baxis\":{\"endlinecolor\":\"#2a3f5f\",\"gridcolor\":\"white\",\"linecolor\":\"white\",\"minorgridcolor\":\"white\",\"startlinecolor\":\"#2a3f5f\"},\"type\":\"carpet\"}],\"table\":[{\"cells\":{\"fill\":{\"color\":\"#EBF0F8\"},\"line\":{\"color\":\"white\"}},\"header\":{\"fill\":{\"color\":\"#C8D4E3\"},\"line\":{\"color\":\"white\"}},\"type\":\"table\"}],\"barpolar\":[{\"marker\":{\"line\":{\"color\":\"#E5ECF6\",\"width\":0.5},\"pattern\":{\"fillmode\":\"overlay\",\"size\":10,\"solidity\":0.2}},\"type\":\"barpolar\"}],\"pie\":[{\"automargin\":true,\"type\":\"pie\"}]},\"layout\":{\"autotypenumbers\":\"strict\",\"colorway\":[\"#636efa\",\"#EF553B\",\"#00cc96\",\"#ab63fa\",\"#FFA15A\",\"#19d3f3\",\"#FF6692\",\"#B6E880\",\"#FF97FF\",\"#FECB52\"],\"font\":{\"color\":\"#2a3f5f\"},\"hovermode\":\"closest\",\"hoverlabel\":{\"align\":\"left\"},\"paper_bgcolor\":\"white\",\"plot_bgcolor\":\"#E5ECF6\",\"polar\":{\"bgcolor\":\"#E5ECF6\",\"angularaxis\":{\"gridcolor\":\"white\",\"linecolor\":\"white\",\"ticks\":\"\"},\"radialaxis\":{\"gridcolor\":\"white\",\"linecolor\":\"white\",\"ticks\":\"\"}},\"ternary\":{\"bgcolor\":\"#E5ECF6\",\"aaxis\":{\"gridcolor\":\"white\",\"linecolor\":\"white\",\"ticks\":\"\"},\"baxis\":{\"gridcolor\":\"white\",\"linecolor\":\"white\",\"ticks\":\"\"},\"caxis\":{\"gridcolor\":\"white\",\"linecolor\":\"white\",\"ticks\":\"\"}},\"coloraxis\":{\"colorbar\":{\"outlinewidth\":0,\"ticks\":\"\"}},\"colorscale\":{\"sequential\":[[0.0,\"#0d0887\"],[0.1111111111111111,\"#46039f\"],[0.2222222222222222,\"#7201a8\"],[0.3333333333333333,\"#9c179e\"],[0.4444444444444444,\"#bd3786\"],[0.5555555555555556,\"#d8576b\"],[0.6666666666666666,\"#ed7953\"],[0.7777777777777778,\"#fb9f3a\"],[0.8888888888888888,\"#fdca26\"],[1.0,\"#f0f921\"]],\"sequentialminus\":[[0.0,\"#0d0887\"],[0.1111111111111111,\"#46039f\"],[0.2222222222222222,\"#7201a8\"],[0.3333333333333333,\"#9c179e\"],[0.4444444444444444,\"#bd3786\"],[0.5555555555555556,\"#d8576b\"],[0.6666666666666666,\"#ed7953\"],[0.7777777777777778,\"#fb9f3a\"],[0.8888888888888888,\"#fdca26\"],[1.0,\"#f0f921\"]],\"diverging\":[[0,\"#8e0152\"],[0.1,\"#c51b7d\"],[0.2,\"#de77ae\"],[0.3,\"#f1b6da\"],[0.4,\"#fde0ef\"],[0.5,\"#f7f7f7\"],[0.6,\"#e6f5d0\"],[0.7,\"#b8e186\"],[0.8,\"#7fbc41\"],[0.9,\"#4d9221\"],[1,\"#276419\"]]},\"xaxis\":{\"gridcolor\":\"white\",\"linecolor\":\"white\",\"ticks\":\"\",\"title\":{\"standoff\":15},\"zerolinecolor\":\"white\",\"automargin\":true,\"zerolinewidth\":2},\"yaxis\":{\"gridcolor\":\"white\",\"linecolor\":\"white\",\"ticks\":\"\",\"title\":{\"standoff\":15},\"zerolinecolor\":\"white\",\"automargin\":true,\"zerolinewidth\":2},\"scene\":{\"xaxis\":{\"backgroundcolor\":\"#E5ECF6\",\"gridcolor\":\"white\",\"linecolor\":\"white\",\"showbackground\":true,\"ticks\":\"\",\"zerolinecolor\":\"white\",\"gridwidth\":2},\"yaxis\":{\"backgroundcolor\":\"#E5ECF6\",\"gridcolor\":\"white\",\"linecolor\":\"white\",\"showbackground\":true,\"ticks\":\"\",\"zerolinecolor\":\"white\",\"gridwidth\":2},\"zaxis\":{\"backgroundcolor\":\"#E5ECF6\",\"gridcolor\":\"white\",\"linecolor\":\"white\",\"showbackground\":true,\"ticks\":\"\",\"zerolinecolor\":\"white\",\"gridwidth\":2}},\"shapedefaults\":{\"line\":{\"color\":\"#2a3f5f\"}},\"annotationdefaults\":{\"arrowcolor\":\"#2a3f5f\",\"arrowhead\":0,\"arrowwidth\":1},\"geo\":{\"bgcolor\":\"white\",\"landcolor\":\"#E5ECF6\",\"subunitcolor\":\"white\",\"showland\":true,\"showlakes\":true,\"lakecolor\":\"white\"},\"title\":{\"x\":0.05},\"mapbox\":{\"style\":\"light\"}}},\"xaxis\":{\"anchor\":\"y\",\"domain\":[0.0,1.0],\"title\":{\"text\":\"publisher\"}},\"yaxis\":{\"anchor\":\"x\",\"domain\":[0.0,1.0],\"title\":{\"text\":\"count\"}},\"legend\":{\"tracegroupgap\":0},\"margin\":{\"t\":60},\"barmode\":\"relative\"},                        {\"responsive\": true}                    ).then(function(){\n",
       "                            \n",
       "var gd = document.getElementById('c4dd3962-d492-4f37-b942-de6677108cb0');\n",
       "var x = new MutationObserver(function (mutations, observer) {{\n",
       "        var display = window.getComputedStyle(gd).display;\n",
       "        if (!display || display === 'none') {{\n",
       "            console.log([gd, 'removed!']);\n",
       "            Plotly.purge(gd);\n",
       "            observer.disconnect();\n",
       "        }}\n",
       "}});\n",
       "\n",
       "// Listen for the removal of the full notebook cells\n",
       "var notebookContainer = gd.closest('#notebook-container');\n",
       "if (notebookContainer) {{\n",
       "    x.observe(notebookContainer, {childList: true});\n",
       "}}\n",
       "\n",
       "// Listen for the clearing of the current output cell\n",
       "var outputEl = gd.closest('.output');\n",
       "if (outputEl) {{\n",
       "    x.observe(outputEl, {childList: true});\n",
       "}}\n",
       "\n",
       "                        })                };                });            </script>        </div>"
      ]
     },
     "metadata": {},
     "output_type": "display_data"
    }
   ],
   "source": [
    "# distribution of publishers for books with no completion date\n",
    "px.histogram( completion_date_unknown, x = \"publisher\")"
   ]
  },
  {
   "cell_type": "code",
   "execution_count": 41,
   "id": "2630aa1e",
   "metadata": {
    "execution": {
     "iopub.execute_input": "2022-06-10T12:01:00.626786Z",
     "iopub.status.busy": "2022-06-10T12:01:00.626393Z",
     "iopub.status.idle": "2022-06-10T12:01:00.634361Z",
     "shell.execute_reply": "2022-06-10T12:01:00.632895Z"
    },
    "papermill": {
     "duration": 0.034911,
     "end_time": "2022-06-10T12:01:00.636476",
     "exception": false,
     "start_time": "2022-06-10T12:01:00.601565",
     "status": "completed"
    },
    "tags": []
   },
   "outputs": [
    {
     "name": "stdout",
     "output_type": "stream",
     "text": [
      "For the popular authors in the list of read books with no completion date, their books were published by:, 講談社, 幻冬舎, KADOKAWA, 文藝春秋, 集英社\n"
     ]
    }
   ],
   "source": [
    "#publisher of favoured authors\n",
    "publisher = completion_date_unknown[(completion_date_unknown[\"author(s)\"] ==\"東野 圭吾\")|(completion_date_unknown[\"author(s)\"] ==\"藤崎 都\")|(completion_date_unknown[\"author(s)\"] ==\"日丸屋 秀和\")][\"publisher\"].unique()\n",
    "\n",
    "print(\"For the popular authors in the list of read books with no completion date, their books were published by:\",*publisher, sep= \", \")"
   ]
  },
  {
   "cell_type": "code",
   "execution_count": 42,
   "id": "8559f6fb",
   "metadata": {
    "execution": {
     "iopub.execute_input": "2022-06-10T12:01:00.684867Z",
     "iopub.status.busy": "2022-06-10T12:01:00.684480Z",
     "iopub.status.idle": "2022-06-10T12:01:00.845679Z",
     "shell.execute_reply": "2022-06-10T12:01:00.844511Z"
    },
    "papermill": {
     "duration": 0.188167,
     "end_time": "2022-06-10T12:01:00.848339",
     "exception": false,
     "start_time": "2022-06-10T12:01:00.660172",
     "status": "completed"
    },
    "tags": []
   },
   "outputs": [
    {
     "data": {
      "image/png": "[encoded data removed]",
      "text/plain": [
       "<Figure size 432x288 with 1 Axes>"
      ]
     },
     "metadata": {},
     "output_type": "display_data"
    }
   ],
   "source": [
    "# type of books which were included in the books with no completion date\n",
    "sns.countplot(x = \"type\", data = completion_date_unknown, palette = \"Blues_r\" )\n",
    "plt.title(\"Type of books read\")\n",
    "plt.show()"
   ]
  },
  {
   "cell_type": "code",
   "execution_count": 43,
   "id": "35a9d5cd",
   "metadata": {
    "execution": {
     "iopub.execute_input": "2022-06-10T12:01:00.897613Z",
     "iopub.status.busy": "2022-06-10T12:01:00.896620Z",
     "iopub.status.idle": "2022-06-10T12:01:00.947394Z",
     "shell.execute_reply": "2022-06-10T12:01:00.946051Z"
    },
    "papermill": {
     "duration": 0.077601,
     "end_time": "2022-06-10T12:01:00.949465",
     "exception": false,
     "start_time": "2022-06-10T12:01:00.871864",
     "status": "completed"
    },
    "tags": []
   },
   "outputs": [
    {
     "data": {
      "text/html": [
       "<div>                            <div id=\"a8f39218-8fe6-4af9-8686-08959b6fe00f\" class=\"plotly-graph-div\" style=\"height:525px; width:100%;\"></div>            <script type=\"text/javascript\">                require([\"plotly\"], function(Plotly) {                    window.PLOTLYENV=window.PLOTLYENV || {};                                    if (document.getElementById(\"a8f39218-8fe6-4af9-8686-08959b6fe00f\")) {                    Plotly.newPlot(                        \"a8f39218-8fe6-4af9-8686-08959b6fe00f\",                        [{\"alignmentgroup\":\"True\",\"bingroup\":\"x\",\"hovertemplate\":\"genre=%{x}<br>count=%{y}<extra></extra>\",\"legendgroup\":\"\",\"marker\":{\"color\":\"#636efa\",\"pattern\":{\"shape\":\"\"}},\"name\":\"\",\"offsetgroup\":\"\",\"orientation\":\"v\",\"showlegend\":false,\"x\":[\"science fiction\",\"Fantasy\",\"Mystery\",\"Mystery\",\"Mystery\",\"Mystery\",\"Romance\",\"Romance\",\"Romance\",\"Romance\",\"Humour/ Satire\",\"Humour/ Satire\",\"Fantasy\",\"Dystopian\",\"Humour/ Satire\",\"Romance\",\"Humour/ Satire\",\"Humour/ Satire\",\"Mystery\",\"Mystery\",\"Fantasy\",\"Mystery\",\"Humour/ Satire\",\"Mystery\",\"Romance\",\"Fantasy\",\"Romance\",\"Mystery\",\"Humour/ Satire\",\"Romance\",\"Romance\",\"Mystery\",\"Fantasy\",\"Mystery\",\"Romance\",\"Romance\",\"Humour/ Satire\",\"Fantasy\",\"Romance\",\"Fantasy\",\"Mystery\",\"Fantasy\",\"Mystery\",\"Literary Fiction\",\"Romance\",\"Mystery\",\"仕事小説\",\"Bildungsroman\",\"Humour/ Satire\",\"Mystery\",\"Romance\",\"Adventure\",\"Contemporary\"],\"xaxis\":\"x\",\"yaxis\":\"y\",\"type\":\"histogram\"}],                        {\"template\":{\"data\":{\"histogram2dcontour\":[{\"type\":\"histogram2dcontour\",\"colorbar\":{\"outlinewidth\":0,\"ticks\":\"\"},\"colorscale\":[[0.0,\"#0d0887\"],[0.1111111111111111,\"#46039f\"],[0.2222222222222222,\"#7201a8\"],[0.3333333333333333,\"#9c179e\"],[0.4444444444444444,\"#bd3786\"],[0.5555555555555556,\"#d8576b\"],[0.6666666666666666,\"#ed7953\"],[0.7777777777777778,\"#fb9f3a\"],[0.8888888888888888,\"#fdca26\"],[1.0,\"#f0f921\"]]}],\"choropleth\":[{\"type\":\"choropleth\",\"colorbar\":{\"outlinewidth\":0,\"ticks\":\"\"}}],\"histogram2d\":[{\"type\":\"histogram2d\",\"colorbar\":{\"outlinewidth\":0,\"ticks\":\"\"},\"colorscale\":[[0.0,\"#0d0887\"],[0.1111111111111111,\"#46039f\"],[0.2222222222222222,\"#7201a8\"],[0.3333333333333333,\"#9c179e\"],[0.4444444444444444,\"#bd3786\"],[0.5555555555555556,\"#d8576b\"],[0.6666666666666666,\"#ed7953\"],[0.7777777777777778,\"#fb9f3a\"],[0.8888888888888888,\"#fdca26\"],[1.0,\"#f0f921\"]]}],\"heatmap\":[{\"type\":\"heatmap\",\"colorbar\":{\"outlinewidth\":0,\"ticks\":\"\"},\"colorscale\":[[0.0,\"#0d0887\"],[0.1111111111111111,\"#46039f\"],[0.2222222222222222,\"#7201a8\"],[0.3333333333333333,\"#9c179e\"],[0.4444444444444444,\"#bd3786\"],[0.5555555555555556,\"#d8576b\"],[0.6666666666666666,\"#ed7953\"],[0.7777777777777778,\"#fb9f3a\"],[0.8888888888888888,\"#fdca26\"],[1.0,\"#f0f921\"]]}],\"heatmapgl\":[{\"type\":\"heatmapgl\",\"colorbar\":{\"outlinewidth\":0,\"ticks\":\"\"},\"colorscale\":[[0.0,\"#0d0887\"],[0.1111111111111111,\"#46039f\"],[0.2222222222222222,\"#7201a8\"],[0.3333333333333333,\"#9c179e\"],[0.4444444444444444,\"#bd3786\"],[0.5555555555555556,\"#d8576b\"],[0.6666666666666666,\"#ed7953\"],[0.7777777777777778,\"#fb9f3a\"],[0.8888888888888888,\"#fdca26\"],[1.0,\"#f0f921\"]]}],\"contourcarpet\":[{\"type\":\"contourcarpet\",\"colorbar\":{\"outlinewidth\":0,\"ticks\":\"\"}}],\"contour\":[{\"type\":\"contour\",\"colorbar\":{\"outlinewidth\":0,\"ticks\":\"\"},\"colorscale\":[[0.0,\"#0d0887\"],[0.1111111111111111,\"#46039f\"],[0.2222222222222222,\"#7201a8\"],[0.3333333333333333,\"#9c179e\"],[0.4444444444444444,\"#bd3786\"],[0.5555555555555556,\"#d8576b\"],[0.6666666666666666,\"#ed7953\"],[0.7777777777777778,\"#fb9f3a\"],[0.8888888888888888,\"#fdca26\"],[1.0,\"#f0f921\"]]}],\"surface\":[{\"type\":\"surface\",\"colorbar\":{\"outlinewidth\":0,\"ticks\":\"\"},\"colorscale\":[[0.0,\"#0d0887\"],[0.1111111111111111,\"#46039f\"],[0.2222222222222222,\"#7201a8\"],[0.3333333333333333,\"#9c179e\"],[0.4444444444444444,\"#bd3786\"],[0.5555555555555556,\"#d8576b\"],[0.6666666666666666,\"#ed7953\"],[0.7777777777777778,\"#fb9f3a\"],[0.8888888888888888,\"#fdca26\"],[1.0,\"#f0f921\"]]}],\"mesh3d\":[{\"type\":\"mesh3d\",\"colorbar\":{\"outlinewidth\":0,\"ticks\":\"\"}}],\"scatter\":[{\"fillpattern\":{\"fillmode\":\"overlay\",\"size\":10,\"solidity\":0.2},\"type\":\"scatter\"}],\"parcoords\":[{\"type\":\"parcoords\",\"line\":{\"colorbar\":{\"outlinewidth\":0,\"ticks\":\"\"}}}],\"scatterpolargl\":[{\"type\":\"scatterpolargl\",\"marker\":{\"colorbar\":{\"outlinewidth\":0,\"ticks\":\"\"}}}],\"bar\":[{\"error_x\":{\"color\":\"#2a3f5f\"},\"error_y\":{\"color\":\"#2a3f5f\"},\"marker\":{\"line\":{\"color\":\"#E5ECF6\",\"width\":0.5},\"pattern\":{\"fillmode\":\"overlay\",\"size\":10,\"solidity\":0.2}},\"type\":\"bar\"}],\"scattergeo\":[{\"type\":\"scattergeo\",\"marker\":{\"colorbar\":{\"outlinewidth\":0,\"ticks\":\"\"}}}],\"scatterpolar\":[{\"type\":\"scatterpolar\",\"marker\":{\"colorbar\":{\"outlinewidth\":0,\"ticks\":\"\"}}}],\"histogram\":[{\"marker\":{\"pattern\":{\"fillmode\":\"overlay\",\"size\":10,\"solidity\":0.2}},\"type\":\"histogram\"}],\"scattergl\":[{\"type\":\"scattergl\",\"marker\":{\"colorbar\":{\"outlinewidth\":0,\"ticks\":\"\"}}}],\"scatter3d\":[{\"type\":\"scatter3d\",\"line\":{\"colorbar\":{\"outlinewidth\":0,\"ticks\":\"\"}},\"marker\":{\"colorbar\":{\"outlinewidth\":0,\"ticks\":\"\"}}}],\"scattermapbox\":[{\"type\":\"scattermapbox\",\"marker\":{\"colorbar\":{\"outlinewidth\":0,\"ticks\":\"\"}}}],\"scatterternary\":[{\"type\":\"scatterternary\",\"marker\":{\"colorbar\":{\"outlinewidth\":0,\"ticks\":\"\"}}}],\"scattercarpet\":[{\"type\":\"scattercarpet\",\"marker\":{\"colorbar\":{\"outlinewidth\":0,\"ticks\":\"\"}}}],\"carpet\":[{\"aaxis\":{\"endlinecolor\":\"#2a3f5f\",\"gridcolor\":\"white\",\"linecolor\":\"white\",\"minorgridcolor\":\"white\",\"startlinecolor\":\"#2a3f5f\"},\"baxis\":{\"endlinecolor\":\"#2a3f5f\",\"gridcolor\":\"white\",\"linecolor\":\"white\",\"minorgridcolor\":\"white\",\"startlinecolor\":\"#2a3f5f\"},\"type\":\"carpet\"}],\"table\":[{\"cells\":{\"fill\":{\"color\":\"#EBF0F8\"},\"line\":{\"color\":\"white\"}},\"header\":{\"fill\":{\"color\":\"#C8D4E3\"},\"line\":{\"color\":\"white\"}},\"type\":\"table\"}],\"barpolar\":[{\"marker\":{\"line\":{\"color\":\"#E5ECF6\",\"width\":0.5},\"pattern\":{\"fillmode\":\"overlay\",\"size\":10,\"solidity\":0.2}},\"type\":\"barpolar\"}],\"pie\":[{\"automargin\":true,\"type\":\"pie\"}]},\"layout\":{\"autotypenumbers\":\"strict\",\"colorway\":[\"#636efa\",\"#EF553B\",\"#00cc96\",\"#ab63fa\",\"#FFA15A\",\"#19d3f3\",\"#FF6692\",\"#B6E880\",\"#FF97FF\",\"#FECB52\"],\"font\":{\"color\":\"#2a3f5f\"},\"hovermode\":\"closest\",\"hoverlabel\":{\"align\":\"left\"},\"paper_bgcolor\":\"white\",\"plot_bgcolor\":\"#E5ECF6\",\"polar\":{\"bgcolor\":\"#E5ECF6\",\"angularaxis\":{\"gridcolor\":\"white\",\"linecolor\":\"white\",\"ticks\":\"\"},\"radialaxis\":{\"gridcolor\":\"white\",\"linecolor\":\"white\",\"ticks\":\"\"}},\"ternary\":{\"bgcolor\":\"#E5ECF6\",\"aaxis\":{\"gridcolor\":\"white\",\"linecolor\":\"white\",\"ticks\":\"\"},\"baxis\":{\"gridcolor\":\"white\",\"linecolor\":\"white\",\"ticks\":\"\"},\"caxis\":{\"gridcolor\":\"white\",\"linecolor\":\"white\",\"ticks\":\"\"}},\"coloraxis\":{\"colorbar\":{\"outlinewidth\":0,\"ticks\":\"\"}},\"colorscale\":{\"sequential\":[[0.0,\"#0d0887\"],[0.1111111111111111,\"#46039f\"],[0.2222222222222222,\"#7201a8\"],[0.3333333333333333,\"#9c179e\"],[0.4444444444444444,\"#bd3786\"],[0.5555555555555556,\"#d8576b\"],[0.6666666666666666,\"#ed7953\"],[0.7777777777777778,\"#fb9f3a\"],[0.8888888888888888,\"#fdca26\"],[1.0,\"#f0f921\"]],\"sequentialminus\":[[0.0,\"#0d0887\"],[0.1111111111111111,\"#46039f\"],[0.2222222222222222,\"#7201a8\"],[0.3333333333333333,\"#9c179e\"],[0.4444444444444444,\"#bd3786\"],[0.5555555555555556,\"#d8576b\"],[0.6666666666666666,\"#ed7953\"],[0.7777777777777778,\"#fb9f3a\"],[0.8888888888888888,\"#fdca26\"],[1.0,\"#f0f921\"]],\"diverging\":[[0,\"#8e0152\"],[0.1,\"#c51b7d\"],[0.2,\"#de77ae\"],[0.3,\"#f1b6da\"],[0.4,\"#fde0ef\"],[0.5,\"#f7f7f7\"],[0.6,\"#e6f5d0\"],[0.7,\"#b8e186\"],[0.8,\"#7fbc41\"],[0.9,\"#4d9221\"],[1,\"#276419\"]]},\"xaxis\":{\"gridcolor\":\"white\",\"linecolor\":\"white\",\"ticks\":\"\",\"title\":{\"standoff\":15},\"zerolinecolor\":\"white\",\"automargin\":true,\"zerolinewidth\":2},\"yaxis\":{\"gridcolor\":\"white\",\"linecolor\":\"white\",\"ticks\":\"\",\"title\":{\"standoff\":15},\"zerolinecolor\":\"white\",\"automargin\":true,\"zerolinewidth\":2},\"scene\":{\"xaxis\":{\"backgroundcolor\":\"#E5ECF6\",\"gridcolor\":\"white\",\"linecolor\":\"white\",\"showbackground\":true,\"ticks\":\"\",\"zerolinecolor\":\"white\",\"gridwidth\":2},\"yaxis\":{\"backgroundcolor\":\"#E5ECF6\",\"gridcolor\":\"white\",\"linecolor\":\"white\",\"showbackground\":true,\"ticks\":\"\",\"zerolinecolor\":\"white\",\"gridwidth\":2},\"zaxis\":{\"backgroundcolor\":\"#E5ECF6\",\"gridcolor\":\"white\",\"linecolor\":\"white\",\"showbackground\":true,\"ticks\":\"\",\"zerolinecolor\":\"white\",\"gridwidth\":2}},\"shapedefaults\":{\"line\":{\"color\":\"#2a3f5f\"}},\"annotationdefaults\":{\"arrowcolor\":\"#2a3f5f\",\"arrowhead\":0,\"arrowwidth\":1},\"geo\":{\"bgcolor\":\"white\",\"landcolor\":\"#E5ECF6\",\"subunitcolor\":\"white\",\"showland\":true,\"showlakes\":true,\"lakecolor\":\"white\"},\"title\":{\"x\":0.05},\"mapbox\":{\"style\":\"light\"}}},\"xaxis\":{\"anchor\":\"y\",\"domain\":[0.0,1.0],\"title\":{\"text\":\"genre\"}},\"yaxis\":{\"anchor\":\"x\",\"domain\":[0.0,1.0],\"title\":{\"text\":\"count\"}},\"legend\":{\"tracegroupgap\":0},\"margin\":{\"t\":60},\"barmode\":\"relative\"},                        {\"responsive\": true}                    ).then(function(){\n",
       "                            \n",
       "var gd = document.getElementById('a8f39218-8fe6-4af9-8686-08959b6fe00f');\n",
       "var x = new MutationObserver(function (mutations, observer) {{\n",
       "        var display = window.getComputedStyle(gd).display;\n",
       "        if (!display || display === 'none') {{\n",
       "            console.log([gd, 'removed!']);\n",
       "            Plotly.purge(gd);\n",
       "            observer.disconnect();\n",
       "        }}\n",
       "}});\n",
       "\n",
       "// Listen for the removal of the full notebook cells\n",
       "var notebookContainer = gd.closest('#notebook-container');\n",
       "if (notebookContainer) {{\n",
       "    x.observe(notebookContainer, {childList: true});\n",
       "}}\n",
       "\n",
       "// Listen for the clearing of the current output cell\n",
       "var outputEl = gd.closest('.output');\n",
       "if (outputEl) {{\n",
       "    x.observe(outputEl, {childList: true});\n",
       "}}\n",
       "\n",
       "                        })                };                });            </script>        </div>"
      ]
     },
     "metadata": {},
     "output_type": "display_data"
    }
   ],
   "source": [
    "# genre of books with no completion date\n",
    "px.histogram( completion_date_unknown, x = \"genre\")"
   ]
  },
  {
   "cell_type": "code",
   "execution_count": 44,
   "id": "6c50d4c5",
   "metadata": {
    "execution": {
     "iopub.execute_input": "2022-06-10T12:01:01.001058Z",
     "iopub.status.busy": "2022-06-10T12:01:00.999949Z",
     "iopub.status.idle": "2022-06-10T12:01:01.323917Z",
     "shell.execute_reply": "2022-06-10T12:01:01.322901Z"
    },
    "papermill": {
     "duration": 0.350954,
     "end_time": "2022-06-10T12:01:01.326044",
     "exception": false,
     "start_time": "2022-06-10T12:01:00.975090",
     "status": "completed"
    },
    "tags": []
   },
   "outputs": [
    {
     "data": {
      "image/png": "[encoded data removed]",
      "text/plain": [
       "<Figure size 1080x720 with 1 Axes>"
      ]
     },
     "metadata": {},
     "output_type": "display_data"
    }
   ],
   "source": [
    "# year of publication of books with no completion date\n",
    "plt.figure(figsize = (15,10))\n",
    "sns.countplot(x = \"publication_year\", data = completion_date_unknown, palette = \"mako\")\n",
    "plt.title(\"Publication year for books with no recorded completion date\")\n",
    "plt.show()"
   ]
  },
  {
   "cell_type": "code",
   "execution_count": 45,
   "id": "fbc3ef6e",
   "metadata": {
    "execution": {
     "iopub.execute_input": "2022-06-10T12:01:01.376294Z",
     "iopub.status.busy": "2022-06-10T12:01:01.375408Z",
     "iopub.status.idle": "2022-06-10T12:01:01.547766Z",
     "shell.execute_reply": "2022-06-10T12:01:01.546927Z"
    },
    "papermill": {
     "duration": 0.199935,
     "end_time": "2022-06-10T12:01:01.549998",
     "exception": false,
     "start_time": "2022-06-10T12:01:01.350063",
     "status": "completed"
    },
    "tags": []
   },
   "outputs": [
    {
     "data": {
      "image/png": "[encoded data removed]",
      "text/plain": [
       "<Figure size 432x288 with 1 Axes>"
      ]
     },
     "metadata": {},
     "output_type": "display_data"
    }
   ],
   "source": [
    "# review status of books with no completion date\n",
    "sns.countplot(x = \"review\", data = completion_date_unknown,palette = \"Blues_r\")\n",
    "plt.title(\"Review status of books with no recorded completion date\")\n",
    "plt.show()"
   ]
  },
  {
   "cell_type": "code",
   "execution_count": 46,
   "id": "9068e927",
   "metadata": {
    "execution": {
     "iopub.execute_input": "2022-06-10T12:01:01.602008Z",
     "iopub.status.busy": "2022-06-10T12:01:01.601623Z",
     "iopub.status.idle": "2022-06-10T12:01:01.607196Z",
     "shell.execute_reply": "2022-06-10T12:01:01.606533Z"
    },
    "papermill": {
     "duration": 0.034239,
     "end_time": "2022-06-10T12:01:01.609328",
     "exception": false,
     "start_time": "2022-06-10T12:01:01.575089",
     "status": "completed"
    },
    "tags": []
   },
   "outputs": [
    {
     "name": "stdout",
     "output_type": "stream",
     "text": [
      "-33.96% of books with no completion date have a rating.\n"
     ]
    }
   ],
   "source": [
    "# calcualate the % of reviews in the data\n",
    "\n",
    "reviews = round(((1-completion_date_unknown[\"rating\"].isnull().sum())/completion_date_unknown.shape[0])*100,2)\n",
    "\n",
    "# output as sentence\n",
    "print(\"{}{}\".format(reviews,\"% of books with no completion date have a rating.\"))"
   ]
  },
  {
   "cell_type": "code",
   "execution_count": 47,
   "id": "4ebe4f40",
   "metadata": {
    "execution": {
     "iopub.execute_input": "2022-06-10T12:01:01.660439Z",
     "iopub.status.busy": "2022-06-10T12:01:01.659789Z",
     "iopub.status.idle": "2022-06-10T12:01:02.048996Z",
     "shell.execute_reply": "2022-06-10T12:01:02.047909Z"
    },
    "papermill": {
     "duration": 0.417558,
     "end_time": "2022-06-10T12:01:02.051404",
     "exception": false,
     "start_time": "2022-06-10T12:01:01.633846",
     "status": "completed"
    },
    "tags": []
   },
   "outputs": [
    {
     "data": {
      "image/png": "[encoded data removed]",
      "text/plain": [
       "<Figure size 360x360 with 1 Axes>"
      ]
     },
     "metadata": {},
     "output_type": "display_data"
    }
   ],
   "source": [
    "# kde distribution of ratings for books with no completion date\n",
    "sns.displot(x = \"rating\", data = completion_date_unknown, kind= \"kde\")\n",
    "plt.title(\"Distribution of ratings for books with no completion date\")\n",
    "plt.show()"
   ]
  },
  {
   "cell_type": "code",
   "execution_count": 48,
   "id": "66f1910a",
   "metadata": {
    "execution": {
     "iopub.execute_input": "2022-06-10T12:01:02.104264Z",
     "iopub.status.busy": "2022-06-10T12:01:02.103862Z",
     "iopub.status.idle": "2022-06-10T12:01:02.109052Z",
     "shell.execute_reply": "2022-06-10T12:01:02.107934Z"
    },
    "papermill": {
     "duration": 0.034722,
     "end_time": "2022-06-10T12:01:02.111773",
     "exception": false,
     "start_time": "2022-06-10T12:01:02.077051",
     "status": "completed"
    },
    "tags": []
   },
   "outputs": [
    {
     "name": "stdout",
     "output_type": "stream",
     "text": [
      "5.0 is the highest rating book for which no completion date was included.\n"
     ]
    }
   ],
   "source": [
    "print(completion_date_unknown[\"rating\"].max(), \"is the highest rating book for which no completion date was included.\")"
   ]
  },
  {
   "cell_type": "markdown",
   "id": "4b851993",
   "metadata": {
    "papermill": {
     "duration": 0.024815,
     "end_time": "2022-06-10T12:01:02.163708",
     "exception": false,
     "start_time": "2022-06-10T12:01:02.138893",
     "status": "completed"
    },
    "tags": []
   },
   "source": [
    "# completion books"
   ]
  },
  {
   "cell_type": "code",
   "execution_count": 49,
   "id": "2059235d",
   "metadata": {
    "execution": {
     "iopub.execute_input": "2022-06-10T12:01:02.216810Z",
     "iopub.status.busy": "2022-06-10T12:01:02.216072Z",
     "iopub.status.idle": "2022-06-10T12:01:02.222971Z",
     "shell.execute_reply": "2022-06-10T12:01:02.222138Z"
    },
    "papermill": {
     "duration": 0.035509,
     "end_time": "2022-06-10T12:01:02.225150",
     "exception": false,
     "start_time": "2022-06-10T12:01:02.189641",
     "status": "completed"
    },
    "tags": []
   },
   "outputs": [],
   "source": [
    "# exclude completed books with no completion date\n",
    "Completed = Completed.dropna(subset = [\"completion date\"])"
   ]
  },
  {
   "cell_type": "code",
   "execution_count": 50,
   "id": "e51f3ea5",
   "metadata": {
    "execution": {
     "iopub.execute_input": "2022-06-10T12:01:02.279083Z",
     "iopub.status.busy": "2022-06-10T12:01:02.278375Z",
     "iopub.status.idle": "2022-06-10T12:01:02.358415Z",
     "shell.execute_reply": "2022-06-10T12:01:02.357463Z"
    },
    "papermill": {
     "duration": 0.109808,
     "end_time": "2022-06-10T12:01:02.360687",
     "exception": false,
     "start_time": "2022-06-10T12:01:02.250879",
     "status": "completed"
    },
    "tags": []
   },
   "outputs": [
    {
     "data": {
      "text/html": [
       "<div>                            <div id=\"64472bfd-4170-4612-9973-56e40b6b544b\" class=\"plotly-graph-div\" style=\"height:525px; width:100%;\"></div>            <script type=\"text/javascript\">                require([\"plotly\"], function(Plotly) {                    window.PLOTLYENV=window.PLOTLYENV || {};                                    if (document.getElementById(\"64472bfd-4170-4612-9973-56e40b6b544b\")) {                    Plotly.newPlot(                        \"64472bfd-4170-4612-9973-56e40b6b544b\",                        [{\"alignmentgroup\":\"True\",\"hovertemplate\":\"completion date=%{x}<br>pages=%{y}<extra></extra>\",\"legendgroup\":\"\",\"marker\":{\"color\":\"#636efa\",\"pattern\":{\"shape\":\"\"}},\"name\":\"\",\"offsetgroup\":\"\",\"orientation\":\"v\",\"showlegend\":false,\"textposition\":\"auto\",\"x\":[\"2020-12-05T00:00:00\",\"2020-06-24T00:00:00\",\"2019-02-28T00:00:00\",\"2018-02-15T00:00:00\",\"2020-11-01T00:00:00\",\"2020-07-17T00:00:00\",\"2020-10-26T00:00:00\",\"2017-05-10T00:00:00\",\"2020-08-06T00:00:00\",\"2017-03-17T00:00:00\",\"2018-06-14T00:00:00\",\"2017-09-12T00:00:00\",\"2020-10-24T00:00:00\",\"2018-09-01T00:00:00\",\"2018-09-06T00:00:00\",\"2019-07-20T00:00:00\",\"2017-04-18T00:00:00\",\"2017-06-28T00:00:00\",\"2020-04-26T00:00:00\",\"2017-07-21T00:00:00\",\"2019-03-10T00:00:00\",\"2019-01-03T00:00:00\",\"2017-06-13T00:00:00\",\"2017-03-25T00:00:00\",\"2017-05-28T00:00:00\",\"2020-01-18T00:00:00\",\"2020-10-06T00:00:00\",\"2019-09-13T00:00:00\",\"2020-10-04T00:00:00\",\"2018-01-09T00:00:00\",\"2017-04-06T00:00:00\",\"2018-05-17T00:00:00\",\"2017-05-23T00:00:00\",\"2017-02-22T00:00:00\",\"2020-11-18T00:00:00\",\"2019-04-18T00:00:00\",\"2019-03-25T00:00:00\",\"2017-03-05T00:00:00\",\"2017-06-02T00:00:00\",\"2020-08-17T00:00:00\",\"2017-08-31T00:00:00\",\"2018-07-10T00:00:00\",\"2022-04-08T00:00:00\",\"2020-12-13T00:00:00\",\"2017-10-04T00:00:00\",\"2021-10-06T00:00:00\",\"2018-06-25T00:00:00\",\"2021-01-11T00:00:00\",\"2018-01-19T00:00:00\",\"2020-06-21T00:00:00\",\"2018-03-09T00:00:00\",\"2020-10-16T00:00:00\",\"2019-01-10T00:00:00\",\"2020-06-06T00:00:00\",\"2018-09-10T00:00:00\",\"2020-07-10T00:00:00\",\"2020-01-08T00:00:00\",\"2019-01-15T00:00:00\",\"2021-07-02T00:00:00\",\"2020-11-09T00:00:00\",\"2019-10-03T00:00:00\",\"2020-11-17T00:00:00\",\"2020-11-14T00:00:00\",\"2017-08-26T00:00:00\",\"2020-12-31T00:00:00\",\"2017-10-24T00:00:00\",\"2020-12-28T00:00:00\",\"2020-12-30T00:00:00\",\"2017-02-28T00:00:00\",\"2020-10-27T00:00:00\",\"2018-03-12T00:00:00\",\"2020-03-11T00:00:00\",\"2017-03-20T00:00:00\",\"2017-09-25T00:00:00\",\"2020-11-06T00:00:00\",\"2020-07-19T00:00:00\",\"2019-02-08T00:00:00\",\"2021-03-31T00:00:00\",\"2020-11-24T00:00:00\",\"2018-04-30T00:00:00\",\"2018-03-24T00:00:00\",\"2020-12-22T00:00:00\",\"2021-05-31T00:00:00\",\"2017-07-07T00:00:00\",\"2018-08-30T00:00:00\",\"2017-06-28T00:00:00\",\"2018-01-31T00:00:00\",\"2020-12-03T00:00:00\",\"2018-03-17T00:00:00\",\"2017-06-08T00:00:00\",\"2019-06-27T00:00:00\",\"2018-12-22T00:00:00\",\"2018-04-25T00:00:00\",\"2019-06-16T00:00:00\",\"2018-05-25T00:00:00\",\"2022-04-10T00:00:00\",\"2021-12-07T00:00:00\",\"2017-06-28T00:00:00\",\"2022-02-20T00:00:00\",\"2018-02-21T00:00:00\",\"2018-04-27T00:00:00\",\"2019-01-29T00:00:00\",\"2018-12-21T00:00:00\",\"2017-02-14T00:00:00\",\"2018-01-20T00:00:00\",\"2022-04-26T00:00:00\",\"2019-06-11T00:00:00\",\"2017-02-12T00:00:00\",\"2016-12-17T00:00:00\",\"2019-01-31T00:00:00\",\"2017-02-17T00:00:00\",\"2020-11-07T00:00:00\",\"2017-03-15T00:00:00\",\"2020-02-04T00:00:00\",\"2021-01-25T00:00:00\",\"2020-10-12T00:00:00\",\"2017-01-10T00:00:00\",\"2019-12-24T00:00:00\",\"2021-09-13T00:00:00\",\"2017-07-13T00:00:00\",\"2017-05-18T00:00:00\",\"2018-01-05T00:00:00\",\"2017-12-10T00:00:00\",\"2019-03-19T00:00:00\",\"2017-02-17T00:00:00\",\"2022-02-20T00:00:00\",\"2019-09-13T00:00:00\",\"2019-01-26T00:00:00\",\"2019-12-14T00:00:00\",\"2019-02-04T00:00:00\",\"2017-03-08T00:00:00\",\"2018-06-03T00:00:00\",\"2018-06-06T00:00:00\",\"2018-10-04T00:00:00\",\"2018-08-11T00:00:00\",\"2018-02-05T00:00:00\",\"2021-08-20T00:00:00\",\"2020-01-22T00:00:00\",\"2017-10-16T00:00:00\",\"2018-03-30T00:00:00\",\"2020-08-06T00:00:00\",\"2017-09-28T00:00:00\",\"2018-04-15T00:00:00\",\"2018-04-07T00:00:00\",\"2017-06-20T00:00:00\",\"2019-05-25T00:00:00\",\"2022-04-01T00:00:00\",\"2021-12-12T00:00:00\",\"2018-05-09T00:00:00\",\"2021-10-16T00:00:00\",\"2018-11-01T00:00:00\",\"2020-09-26T00:00:00\",\"2020-09-04T00:00:00\",\"2017-02-25T00:00:00\",\"2019-11-07T00:00:00\",\"2019-06-19T00:00:00\",\"2019-05-21T00:00:00\",\"2019-04-11T00:00:00\",\"2019-12-09T00:00:00\",\"2017-10-08T00:00:00\",\"2019-05-17T00:00:00\",\"2018-04-17T00:00:00\",\"2021-05-30T00:00:00\",\"2021-01-17T00:00:00\",\"2020-05-31T00:00:00\",\"2020-11-29T00:00:00\",\"2017-03-31T00:00:00\",\"2020-04-27T00:00:00\",\"2019-08-28T00:00:00\",\"2017-02-07T00:00:00\",\"2021-11-30T00:00:00\",\"2018-01-01T00:00:00\",\"2020-10-10T00:00:00\",\"2021-06-28T00:00:00\",\"2021-05-31T00:00:00\",\"2018-03-31T00:00:00\",\"2020-12-10T00:00:00\",\"2022-04-22T00:00:00\",\"2017-01-20T00:00:00\",\"2021-08-23T00:00:00\",\"2019-07-03T00:00:00\",\"2017-02-25T00:00:00\",\"2019-08-11T00:00:00\",\"2019-07-23T00:00:00\",\"2017-04-27T00:00:00\",\"2020-10-11T00:00:00\",\"2018-02-25T00:00:00\",\"2017-02-08T00:00:00\",\"2019-03-04T00:00:00\",\"2017-03-09T00:00:00\",\"2018-04-05T00:00:00\",\"2020-12-23T00:00:00\",\"2021-12-21T00:00:00\",\"2018-04-02T00:00:00\",\"2017-08-23T00:00:00\",\"2018-02-07T00:00:00\",\"2017-11-25T00:00:00\",\"2020-05-31T00:00:00\",\"2017-01-03T00:00:00\",\"2019-03-08T00:00:00\",\"2019-01-23T00:00:00\",\"2018-01-27T00:00:00\",\"2020-09-27T00:00:00\",\"2018-05-28T00:00:00\",\"2018-02-16T00:00:00\",\"2021-05-23T00:00:00\",\"2018-12-25T00:00:00\",\"2018-09-24T00:00:00\",\"2017-02-17T00:00:00\",\"2019-03-27T00:00:00\",\"2022-04-30T00:00:00\",\"2020-01-10T00:00:00\",\"2018-01-31T00:00:00\",\"2018-09-08T00:00:00\",\"2017-05-31T00:00:00\",\"2022-01-06T00:00:00\",\"2021-07-12T00:00:00\",\"2020-12-24T00:00:00\",\"2017-09-21T00:00:00\",\"2018-05-11T00:00:00\",\"2017-03-11T00:00:00\",\"2017-11-13T00:00:00\",\"2018-06-09T00:00:00\",\"2020-10-09T00:00:00\",\"2019-03-14T00:00:00\",\"2018-02-03T00:00:00\",\"2018-10-12T00:00:00\",\"2018-12-29T00:00:00\",\"2018-01-23T00:00:00\",\"2018-01-16T00:00:00\",\"2017-09-05T00:00:00\",\"2019-01-05T00:00:00\",\"2022-01-17T00:00:00\",\"2020-06-27T00:00:00\",\"2019-05-29T00:00:00\",\"2017-12-12T00:00:00\",\"2019-07-31T00:00:00\",\"2020-05-07T00:00:00\",\"2020-12-26T00:00:00\",\"2020-11-12T00:00:00\",\"2017-10-10T00:00:00\",\"2021-10-16T00:00:00\",\"2021-06-08T00:00:00\",\"2020-10-29T00:00:00\",\"2018-12-03T00:00:00\",\"2017-11-29T00:00:00\",\"2019-06-23T00:00:00\",\"2019-01-08T00:00:00\",\"2019-12-31T00:00:00\",\"2020-11-26T00:00:00\",\"2021-07-01T00:00:00\",\"2018-04-22T00:00:00\",\"2020-01-12T00:00:00\",\"2020-09-21T00:00:00\",\"2019-12-16T00:00:00\",\"2018-12-10T00:00:00\",\"2018-05-19T00:00:00\",\"2021-11-13T00:00:00\",\"2021-02-06T00:00:00\",\"2021-09-26T00:00:00\",\"2020-12-08T00:00:00\",\"2018-04-12T00:00:00\",\"2018-03-08T00:00:00\",\"2021-09-13T00:00:00\",\"2021-11-03T00:00:00\",\"2021-05-04T00:00:00\",\"2019-02-18T00:00:00\",\"2017-11-06T00:00:00\",\"2020-01-26T00:00:00\",\"2021-09-25T00:00:00\",\"2019-02-02T00:00:00\",\"2020-01-05T00:00:00\",\"2019-04-04T00:00:00\",\"2022-01-06T00:00:00\",\"2019-07-19T00:00:00\",\"2021-05-11T00:00:00\",\"2020-10-17T00:00:00\",\"2019-12-10T00:00:00\",\"2020-02-09T00:00:00\",\"2022-04-29T00:00:00\",\"2021-04-06T00:00:00\",\"2018-03-22T00:00:00\",\"2021-05-25T00:00:00\",\"2020-08-22T00:00:00\",\"2020-05-03T00:00:00\",\"2021-03-02T00:00:00\",\"2020-08-30T00:00:00\",\"2021-08-14T00:00:00\",\"2020-08-25T00:00:00\",\"2019-06-23T00:00:00\",\"2021-06-06T00:00:00\",\"2021-09-01T00:00:00\",\"2021-07-15T00:00:00\",\"2022-03-11T00:00:00\",\"2021-06-02T00:00:00\",\"2021-06-01T00:00:00\",\"2020-10-03T00:00:00\",\"2020-02-18T00:00:00\",\"2020-10-02T00:00:00\",\"2021-08-14T00:00:00\",\"2021-12-25T00:00:00\",\"2021-08-25T00:00:00\",\"2018-12-30T00:00:00\",\"2017-08-08T00:00:00\",\"2018-03-02T00:00:00\",\"2019-02-16T00:00:00\",\"2022-04-13T00:00:00\",\"2021-04-23T00:00:00\",\"2021-03-21T00:00:00\",\"2021-05-11T00:00:00\",\"2022-03-22T00:00:00\",\"2018-01-26T00:00:00\",\"2021-05-06T00:00:00\",\"2021-07-05T00:00:00\",\"2022-04-18T00:00:00\",\"2021-01-03T00:00:00\",\"2021-06-29T00:00:00\",\"2021-12-31T00:00:00\",\"2022-01-05T00:00:00\",\"2022-04-17T00:00:00\",\"2021-09-10T00:00:00\",\"2021-11-03T00:00:00\",\"2022-01-10T00:00:00\",\"2019-04-30T00:00:00\",\"2021-04-27T00:00:00\",\"2018-09-19T00:00:00\",\"2022-04-29T00:00:00\",\"2020-02-19T00:00:00\"],\"xaxis\":\"x\",\"y\":[368,339,261,371,563,318,592,272,252,328,329,256,528,181,176,224,224,31,528,160,528,416,330,304,272,337,270,464,201,347,244,360,228,304,190,253,190,288,282,394,288,336,336,272,266,336,456,455,273,736,304,477,288,320,256,784,368,288,345,288,392,499,256,435,256,256,304,160,320,328,224,382,222,320,672,256,438,272,800,192,327,768,192,275,204,357,416,368,512,415,408,288,338,326,320,368,368,128,72,342,280,256,416,153,128,288,448,166,271,232,166,432,125,480,272,512,248,496,218,336,256,336,352,256,158,448,240,736,286,232,278,292,275,381,260,327,436,365,274,496,353,353,384,320,338,256,365,365,912,328,440,736,287,287,640,480,384,352,272,229,413,344,259,256,400,347,384,368,512,127,384,243,252,320,256,608,319,288,256,370,320,173,380,496,296,224,349,409,274,127,338,344,432,256,512,368,400,672,262,256,496,240,304,304,352,608,448,368,256,672,304,304,192,512,127,302,304,288,354,324,338,370,299,394,338,354,336,176,328,416,560,528,176,368,224,400,367,480,288,320,127,385,320,156,428,464,256,256,512,256,560,560,336,432,400,400,127,150,352,299,320,421,416,288,127,272,544,544,272,320,496,110,320,320,373,288,368,240,752,352,352,528,211,432,304,320,224,400,240,288,192,208,416,192,448,288,464,432,368,244,336,288,736,432,656,480,272,208,290,304,416,352,368,608,512,400,352,336,384,288,304,244,322,400,528,304,272,160],\"yaxis\":\"y\",\"type\":\"bar\"}],                        {\"template\":{\"data\":{\"histogram2dcontour\":[{\"type\":\"histogram2dcontour\",\"colorbar\":{\"outlinewidth\":0,\"ticks\":\"\"},\"colorscale\":[[0.0,\"#0d0887\"],[0.1111111111111111,\"#46039f\"],[0.2222222222222222,\"#7201a8\"],[0.3333333333333333,\"#9c179e\"],[0.4444444444444444,\"#bd3786\"],[0.5555555555555556,\"#d8576b\"],[0.6666666666666666,\"#ed7953\"],[0.7777777777777778,\"#fb9f3a\"],[0.8888888888888888,\"#fdca26\"],[1.0,\"#f0f921\"]]}],\"choropleth\":[{\"type\":\"choropleth\",\"colorbar\":{\"outlinewidth\":0,\"ticks\":\"\"}}],\"histogram2d\":[{\"type\":\"histogram2d\",\"colorbar\":{\"outlinewidth\":0,\"ticks\":\"\"},\"colorscale\":[[0.0,\"#0d0887\"],[0.1111111111111111,\"#46039f\"],[0.2222222222222222,\"#7201a8\"],[0.3333333333333333,\"#9c179e\"],[0.4444444444444444,\"#bd3786\"],[0.5555555555555556,\"#d8576b\"],[0.6666666666666666,\"#ed7953\"],[0.7777777777777778,\"#fb9f3a\"],[0.8888888888888888,\"#fdca26\"],[1.0,\"#f0f921\"]]}],\"heatmap\":[{\"type\":\"heatmap\",\"colorbar\":{\"outlinewidth\":0,\"ticks\":\"\"},\"colorscale\":[[0.0,\"#0d0887\"],[0.1111111111111111,\"#46039f\"],[0.2222222222222222,\"#7201a8\"],[0.3333333333333333,\"#9c179e\"],[0.4444444444444444,\"#bd3786\"],[0.5555555555555556,\"#d8576b\"],[0.6666666666666666,\"#ed7953\"],[0.7777777777777778,\"#fb9f3a\"],[0.8888888888888888,\"#fdca26\"],[1.0,\"#f0f921\"]]}],\"heatmapgl\":[{\"type\":\"heatmapgl\",\"colorbar\":{\"outlinewidth\":0,\"ticks\":\"\"},\"colorscale\":[[0.0,\"#0d0887\"],[0.1111111111111111,\"#46039f\"],[0.2222222222222222,\"#7201a8\"],[0.3333333333333333,\"#9c179e\"],[0.4444444444444444,\"#bd3786\"],[0.5555555555555556,\"#d8576b\"],[0.6666666666666666,\"#ed7953\"],[0.7777777777777778,\"#fb9f3a\"],[0.8888888888888888,\"#fdca26\"],[1.0,\"#f0f921\"]]}],\"contourcarpet\":[{\"type\":\"contourcarpet\",\"colorbar\":{\"outlinewidth\":0,\"ticks\":\"\"}}],\"contour\":[{\"type\":\"contour\",\"colorbar\":{\"outlinewidth\":0,\"ticks\":\"\"},\"colorscale\":[[0.0,\"#0d0887\"],[0.1111111111111111,\"#46039f\"],[0.2222222222222222,\"#7201a8\"],[0.3333333333333333,\"#9c179e\"],[0.4444444444444444,\"#bd3786\"],[0.5555555555555556,\"#d8576b\"],[0.6666666666666666,\"#ed7953\"],[0.7777777777777778,\"#fb9f3a\"],[0.8888888888888888,\"#fdca26\"],[1.0,\"#f0f921\"]]}],\"surface\":[{\"type\":\"surface\",\"colorbar\":{\"outlinewidth\":0,\"ticks\":\"\"},\"colorscale\":[[0.0,\"#0d0887\"],[0.1111111111111111,\"#46039f\"],[0.2222222222222222,\"#7201a8\"],[0.3333333333333333,\"#9c179e\"],[0.4444444444444444,\"#bd3786\"],[0.5555555555555556,\"#d8576b\"],[0.6666666666666666,\"#ed7953\"],[0.7777777777777778,\"#fb9f3a\"],[0.8888888888888888,\"#fdca26\"],[1.0,\"#f0f921\"]]}],\"mesh3d\":[{\"type\":\"mesh3d\",\"colorbar\":{\"outlinewidth\":0,\"ticks\":\"\"}}],\"scatter\":[{\"fillpattern\":{\"fillmode\":\"overlay\",\"size\":10,\"solidity\":0.2},\"type\":\"scatter\"}],\"parcoords\":[{\"type\":\"parcoords\",\"line\":{\"colorbar\":{\"outlinewidth\":0,\"ticks\":\"\"}}}],\"scatterpolargl\":[{\"type\":\"scatterpolargl\",\"marker\":{\"colorbar\":{\"outlinewidth\":0,\"ticks\":\"\"}}}],\"bar\":[{\"error_x\":{\"color\":\"#2a3f5f\"},\"error_y\":{\"color\":\"#2a3f5f\"},\"marker\":{\"line\":{\"color\":\"#E5ECF6\",\"width\":0.5},\"pattern\":{\"fillmode\":\"overlay\",\"size\":10,\"solidity\":0.2}},\"type\":\"bar\"}],\"scattergeo\":[{\"type\":\"scattergeo\",\"marker\":{\"colorbar\":{\"outlinewidth\":0,\"ticks\":\"\"}}}],\"scatterpolar\":[{\"type\":\"scatterpolar\",\"marker\":{\"colorbar\":{\"outlinewidth\":0,\"ticks\":\"\"}}}],\"histogram\":[{\"marker\":{\"pattern\":{\"fillmode\":\"overlay\",\"size\":10,\"solidity\":0.2}},\"type\":\"histogram\"}],\"scattergl\":[{\"type\":\"scattergl\",\"marker\":{\"colorbar\":{\"outlinewidth\":0,\"ticks\":\"\"}}}],\"scatter3d\":[{\"type\":\"scatter3d\",\"line\":{\"colorbar\":{\"outlinewidth\":0,\"ticks\":\"\"}},\"marker\":{\"colorbar\":{\"outlinewidth\":0,\"ticks\":\"\"}}}],\"scattermapbox\":[{\"type\":\"scattermapbox\",\"marker\":{\"colorbar\":{\"outlinewidth\":0,\"ticks\":\"\"}}}],\"scatterternary\":[{\"type\":\"scatterternary\",\"marker\":{\"colorbar\":{\"outlinewidth\":0,\"ticks\":\"\"}}}],\"scattercarpet\":[{\"type\":\"scattercarpet\",\"marker\":{\"colorbar\":{\"outlinewidth\":0,\"ticks\":\"\"}}}],\"carpet\":[{\"aaxis\":{\"endlinecolor\":\"#2a3f5f\",\"gridcolor\":\"white\",\"linecolor\":\"white\",\"minorgridcolor\":\"white\",\"startlinecolor\":\"#2a3f5f\"},\"baxis\":{\"endlinecolor\":\"#2a3f5f\",\"gridcolor\":\"white\",\"linecolor\":\"white\",\"minorgridcolor\":\"white\",\"startlinecolor\":\"#2a3f5f\"},\"type\":\"carpet\"}],\"table\":[{\"cells\":{\"fill\":{\"color\":\"#EBF0F8\"},\"line\":{\"color\":\"white\"}},\"header\":{\"fill\":{\"color\":\"#C8D4E3\"},\"line\":{\"color\":\"white\"}},\"type\":\"table\"}],\"barpolar\":[{\"marker\":{\"line\":{\"color\":\"#E5ECF6\",\"width\":0.5},\"pattern\":{\"fillmode\":\"overlay\",\"size\":10,\"solidity\":0.2}},\"type\":\"barpolar\"}],\"pie\":[{\"automargin\":true,\"type\":\"pie\"}]},\"layout\":{\"autotypenumbers\":\"strict\",\"colorway\":[\"#636efa\",\"#EF553B\",\"#00cc96\",\"#ab63fa\",\"#FFA15A\",\"#19d3f3\",\"#FF6692\",\"#B6E880\",\"#FF97FF\",\"#FECB52\"],\"font\":{\"color\":\"#2a3f5f\"},\"hovermode\":\"closest\",\"hoverlabel\":{\"align\":\"left\"},\"paper_bgcolor\":\"white\",\"plot_bgcolor\":\"#E5ECF6\",\"polar\":{\"bgcolor\":\"#E5ECF6\",\"angularaxis\":{\"gridcolor\":\"white\",\"linecolor\":\"white\",\"ticks\":\"\"},\"radialaxis\":{\"gridcolor\":\"white\",\"linecolor\":\"white\",\"ticks\":\"\"}},\"ternary\":{\"bgcolor\":\"#E5ECF6\",\"aaxis\":{\"gridcolor\":\"white\",\"linecolor\":\"white\",\"ticks\":\"\"},\"baxis\":{\"gridcolor\":\"white\",\"linecolor\":\"white\",\"ticks\":\"\"},\"caxis\":{\"gridcolor\":\"white\",\"linecolor\":\"white\",\"ticks\":\"\"}},\"coloraxis\":{\"colorbar\":{\"outlinewidth\":0,\"ticks\":\"\"}},\"colorscale\":{\"sequential\":[[0.0,\"#0d0887\"],[0.1111111111111111,\"#46039f\"],[0.2222222222222222,\"#7201a8\"],[0.3333333333333333,\"#9c179e\"],[0.4444444444444444,\"#bd3786\"],[0.5555555555555556,\"#d8576b\"],[0.6666666666666666,\"#ed7953\"],[0.7777777777777778,\"#fb9f3a\"],[0.8888888888888888,\"#fdca26\"],[1.0,\"#f0f921\"]],\"sequentialminus\":[[0.0,\"#0d0887\"],[0.1111111111111111,\"#46039f\"],[0.2222222222222222,\"#7201a8\"],[0.3333333333333333,\"#9c179e\"],[0.4444444444444444,\"#bd3786\"],[0.5555555555555556,\"#d8576b\"],[0.6666666666666666,\"#ed7953\"],[0.7777777777777778,\"#fb9f3a\"],[0.8888888888888888,\"#fdca26\"],[1.0,\"#f0f921\"]],\"diverging\":[[0,\"#8e0152\"],[0.1,\"#c51b7d\"],[0.2,\"#de77ae\"],[0.3,\"#f1b6da\"],[0.4,\"#fde0ef\"],[0.5,\"#f7f7f7\"],[0.6,\"#e6f5d0\"],[0.7,\"#b8e186\"],[0.8,\"#7fbc41\"],[0.9,\"#4d9221\"],[1,\"#276419\"]]},\"xaxis\":{\"gridcolor\":\"white\",\"linecolor\":\"white\",\"ticks\":\"\",\"title\":{\"standoff\":15},\"zerolinecolor\":\"white\",\"automargin\":true,\"zerolinewidth\":2},\"yaxis\":{\"gridcolor\":\"white\",\"linecolor\":\"white\",\"ticks\":\"\",\"title\":{\"standoff\":15},\"zerolinecolor\":\"white\",\"automargin\":true,\"zerolinewidth\":2},\"scene\":{\"xaxis\":{\"backgroundcolor\":\"#E5ECF6\",\"gridcolor\":\"white\",\"linecolor\":\"white\",\"showbackground\":true,\"ticks\":\"\",\"zerolinecolor\":\"white\",\"gridwidth\":2},\"yaxis\":{\"backgroundcolor\":\"#E5ECF6\",\"gridcolor\":\"white\",\"linecolor\":\"white\",\"showbackground\":true,\"ticks\":\"\",\"zerolinecolor\":\"white\",\"gridwidth\":2},\"zaxis\":{\"backgroundcolor\":\"#E5ECF6\",\"gridcolor\":\"white\",\"linecolor\":\"white\",\"showbackground\":true,\"ticks\":\"\",\"zerolinecolor\":\"white\",\"gridwidth\":2}},\"shapedefaults\":{\"line\":{\"color\":\"#2a3f5f\"}},\"annotationdefaults\":{\"arrowcolor\":\"#2a3f5f\",\"arrowhead\":0,\"arrowwidth\":1},\"geo\":{\"bgcolor\":\"white\",\"landcolor\":\"#E5ECF6\",\"subunitcolor\":\"white\",\"showland\":true,\"showlakes\":true,\"lakecolor\":\"white\"},\"title\":{\"x\":0.05},\"mapbox\":{\"style\":\"light\"}}},\"xaxis\":{\"anchor\":\"y\",\"domain\":[0.0,1.0],\"title\":{\"text\":\"completion date\"}},\"yaxis\":{\"anchor\":\"x\",\"domain\":[0.0,1.0],\"title\":{\"text\":\"pages\"},\"range\":[0,1150]},\"legend\":{\"tracegroupgap\":0},\"margin\":{\"t\":60},\"barmode\":\"relative\"},                        {\"responsive\": true}                    ).then(function(){\n",
       "                            \n",
       "var gd = document.getElementById('64472bfd-4170-4612-9973-56e40b6b544b');\n",
       "var x = new MutationObserver(function (mutations, observer) {{\n",
       "        var display = window.getComputedStyle(gd).display;\n",
       "        if (!display || display === 'none') {{\n",
       "            console.log([gd, 'removed!']);\n",
       "            Plotly.purge(gd);\n",
       "            observer.disconnect();\n",
       "        }}\n",
       "}});\n",
       "\n",
       "// Listen for the removal of the full notebook cells\n",
       "var notebookContainer = gd.closest('#notebook-container');\n",
       "if (notebookContainer) {{\n",
       "    x.observe(notebookContainer, {childList: true});\n",
       "}}\n",
       "\n",
       "// Listen for the clearing of the current output cell\n",
       "var outputEl = gd.closest('.output');\n",
       "if (outputEl) {{\n",
       "    x.observe(outputEl, {childList: true});\n",
       "}}\n",
       "\n",
       "                        })                };                });            </script>        </div>"
      ]
     },
     "metadata": {},
     "output_type": "display_data"
    }
   ],
   "source": [
    "# distribution of completion dates and the pages read\n",
    "fig = px.bar( Completed, x= \"completion date\", y = \"pages\")\n",
    "fig.update_layout(yaxis_range = [0,1150])"
   ]
  },
  {
   "cell_type": "code",
   "execution_count": 51,
   "id": "55916d3d",
   "metadata": {
    "execution": {
     "iopub.execute_input": "2022-06-10T12:01:02.414037Z",
     "iopub.status.busy": "2022-06-10T12:01:02.413353Z",
     "iopub.status.idle": "2022-06-10T12:01:02.652967Z",
     "shell.execute_reply": "2022-06-10T12:01:02.651945Z"
    },
    "papermill": {
     "duration": 0.268805,
     "end_time": "2022-06-10T12:01:02.655175",
     "exception": false,
     "start_time": "2022-06-10T12:01:02.386370",
     "status": "completed"
    },
    "tags": []
   },
   "outputs": [
    {
     "data": {
      "image/png": "[encoded data removed]",
      "text/plain": [
       "<Figure size 1080x720 with 1 Axes>"
      ]
     },
     "metadata": {},
     "output_type": "display_data"
    }
   ],
   "source": [
    "# Number of pages read since 2016 to 2022\n",
    "plt.figure(figsize = (15,10))\n",
    "sns.barplot( x= Completed[\"completion_year\"].astype(\"int\"), y = \"pages\", data = Completed, ci = None, palette = \"mako\")\n",
    "plt.show()"
   ]
  },
  {
   "cell_type": "code",
   "execution_count": 52,
   "id": "1af1dbbd",
   "metadata": {
    "execution": {
     "iopub.execute_input": "2022-06-10T12:01:02.712352Z",
     "iopub.status.busy": "2022-06-10T12:01:02.711786Z",
     "iopub.status.idle": "2022-06-10T12:01:02.951604Z",
     "shell.execute_reply": "2022-06-10T12:01:02.950593Z"
    },
    "papermill": {
     "duration": 0.270788,
     "end_time": "2022-06-10T12:01:02.953841",
     "exception": false,
     "start_time": "2022-06-10T12:01:02.683053",
     "status": "completed"
    },
    "tags": []
   },
   "outputs": [
    {
     "data": {
      "image/png": "[encoded data removed]",
      "text/plain": [
       "<Figure size 1080x720 with 1 Axes>"
      ]
     },
     "metadata": {},
     "output_type": "display_data"
    }
   ],
   "source": [
    "# Number of books read since 2017\n",
    "plt.figure(figsize = (15,10))\n",
    "sns.countplot( x= Completed[\"completion_year\"].astype(\"int\"),data = Completed, palette = \"mako\")\n",
    "plt.show()"
   ]
  },
  {
   "cell_type": "code",
   "execution_count": 53,
   "id": "296ddcb2",
   "metadata": {
    "execution": {
     "iopub.execute_input": "2022-06-10T12:01:03.009085Z",
     "iopub.status.busy": "2022-06-10T12:01:03.008678Z",
     "iopub.status.idle": "2022-06-10T12:01:03.289172Z",
     "shell.execute_reply": "2022-06-10T12:01:03.288148Z"
    },
    "papermill": {
     "duration": 0.310168,
     "end_time": "2022-06-10T12:01:03.291415",
     "exception": false,
     "start_time": "2022-06-10T12:01:02.981247",
     "status": "completed"
    },
    "tags": []
   },
   "outputs": [
    {
     "data": {
      "image/png": "[encoded data removed]",
      "text/plain": [
       "<Figure size 1080x720 with 1 Axes>"
      ]
     },
     "metadata": {},
     "output_type": "display_data"
    }
   ],
   "source": [
    "# Number of books read in various months\n",
    "plt.figure(figsize = (15,10))\n",
    "sns.barplot( x= Completed[\"completion_month\"].astype(\"int\"), y = \"pages\", data = Completed,ci = None, palette = \"mako\")\n",
    "plt.show()"
   ]
  },
  {
   "cell_type": "code",
   "execution_count": 54,
   "id": "7f9f3038",
   "metadata": {
    "execution": {
     "iopub.execute_input": "2022-06-10T12:01:03.346845Z",
     "iopub.status.busy": "2022-06-10T12:01:03.346109Z",
     "iopub.status.idle": "2022-06-10T12:01:05.034820Z",
     "shell.execute_reply": "2022-06-10T12:01:05.034106Z"
    },
    "papermill": {
     "duration": 1.718217,
     "end_time": "2022-06-10T12:01:05.036550",
     "exception": false,
     "start_time": "2022-06-10T12:01:03.318333",
     "status": "completed"
    },
    "tags": []
   },
   "outputs": [
    {
     "data": {
      "image/png": "[encoded data removed]",
      "text/plain": [
       "<Figure size 1728x864 with 7 Axes>"
      ]
     },
     "metadata": {},
     "output_type": "display_data"
    }
   ],
   "source": [
    "g = sns.FacetGrid(Completed, col='completion_year', height=6, col_wrap=4)\n",
    "g.map(sns.histplot, \"completion_month\",)\n",
    "plt.show()"
   ]
  },
  {
   "cell_type": "code",
   "execution_count": 55,
   "id": "f43c7981",
   "metadata": {
    "execution": {
     "iopub.execute_input": "2022-06-10T12:01:05.094289Z",
     "iopub.status.busy": "2022-06-10T12:01:05.093370Z",
     "iopub.status.idle": "2022-06-10T12:01:06.838054Z",
     "shell.execute_reply": "2022-06-10T12:01:06.837069Z"
    },
    "papermill": {
     "duration": 1.77618,
     "end_time": "2022-06-10T12:01:06.840341",
     "exception": false,
     "start_time": "2022-06-10T12:01:05.064161",
     "status": "completed"
    },
    "tags": []
   },
   "outputs": [
    {
     "data": {
      "text/plain": [
       "<Figure size 1080x720 with 0 Axes>"
      ]
     },
     "metadata": {},
     "output_type": "display_data"
    },
    {
     "data": {
      "image/png": "[encoded data removed]",
      "text/plain": [
       "<Figure size 1440x720 with 7 Axes>"
      ]
     },
     "metadata": {},
     "output_type": "display_data"
    }
   ],
   "source": [
    "# fluctuations in the number of pages read over time\n",
    "plt.figure(figsize = (15,10))\n",
    "sns.catplot(data = Completed, x=\"completion_month\", y = \"pages\", col = \"completion_year\", kind = \"bar\", col_wrap=4,ci = None, palette = \"mako\")\n",
    "plt.show()"
   ]
  },
  {
   "cell_type": "code",
   "execution_count": 56,
   "id": "0248a930",
   "metadata": {
    "execution": {
     "iopub.execute_input": "2022-06-10T12:01:06.899562Z",
     "iopub.status.busy": "2022-06-10T12:01:06.898837Z",
     "iopub.status.idle": "2022-06-10T12:01:06.904564Z",
     "shell.execute_reply": "2022-06-10T12:01:06.903667Z"
    },
    "papermill": {
     "duration": 0.036562,
     "end_time": "2022-06-10T12:01:06.906576",
     "exception": false,
     "start_time": "2022-06-10T12:01:06.870014",
     "status": "completed"
    },
    "tags": []
   },
   "outputs": [
    {
     "name": "stdout",
     "output_type": "stream",
     "text": [
      "There are 317 unique titles.\n"
     ]
    }
   ],
   "source": [
    "print(\"There are\", Completed[\"Title\"].nunique(), \"unique titles.\")"
   ]
  },
  {
   "cell_type": "code",
   "execution_count": 57,
   "id": "93c0c3fe",
   "metadata": {
    "execution": {
     "iopub.execute_input": "2022-06-10T12:01:06.964197Z",
     "iopub.status.busy": "2022-06-10T12:01:06.963623Z",
     "iopub.status.idle": "2022-06-10T12:01:06.976020Z",
     "shell.execute_reply": "2022-06-10T12:01:06.974884Z"
    },
    "papermill": {
     "duration": 0.043826,
     "end_time": "2022-06-10T12:01:06.977869",
     "exception": false,
     "start_time": "2022-06-10T12:01:06.934043",
     "status": "completed"
    },
    "tags": []
   },
   "outputs": [
    {
     "data": {
      "text/html": [
       "<div>\n",
       "<style scoped>\n",
       "    .dataframe tbody tr th:only-of-type {\n",
       "        vertical-align: middle;\n",
       "    }\n",
       "\n",
       "    .dataframe tbody tr th {\n",
       "        vertical-align: top;\n",
       "    }\n",
       "\n",
       "    .dataframe thead th {\n",
       "        text-align: right;\n",
       "    }\n",
       "</style>\n",
       "<table border=\"1\" class=\"dataframe\">\n",
       "  <thead>\n",
       "    <tr style=\"text-align: right;\">\n",
       "      <th></th>\n",
       "      <th>titles</th>\n",
       "      <th>reads</th>\n",
       "    </tr>\n",
       "  </thead>\n",
       "  <tbody>\n",
       "    <tr>\n",
       "      <th>0</th>\n",
       "      <td>ぼくは明日、昨日のきみとデートする</td>\n",
       "      <td>2</td>\n",
       "    </tr>\n",
       "    <tr>\n",
       "      <th>1</th>\n",
       "      <td>Economics: The User's Guide</td>\n",
       "      <td>2</td>\n",
       "    </tr>\n",
       "    <tr>\n",
       "      <th>2</th>\n",
       "      <td>Economics</td>\n",
       "      <td>2</td>\n",
       "    </tr>\n",
       "    <tr>\n",
       "      <th>3</th>\n",
       "      <td>Magpie Murders</td>\n",
       "      <td>2</td>\n",
       "    </tr>\n",
       "    <tr>\n",
       "      <th>4</th>\n",
       "      <td>妖怪アパートの幽雅な日常 1</td>\n",
       "      <td>2</td>\n",
       "    </tr>\n",
       "  </tbody>\n",
       "</table>\n",
       "</div>"
      ],
      "text/plain": [
       "                        titles  reads\n",
       "0            ぼくは明日、昨日のきみとデートする      2\n",
       "1  Economics: The User's Guide      2\n",
       "2                    Economics      2\n",
       "3               Magpie Murders      2\n",
       "4               妖怪アパートの幽雅な日常 1      2"
      ]
     },
     "execution_count": 57,
     "metadata": {},
     "output_type": "execute_result"
    }
   ],
   "source": [
    "# list of rereads\n",
    "rereads = df[\"Title\"].value_counts().rename_axis (\"titles\").reset_index(name = \"reads\")\n",
    "rereads[rereads[\"reads\"]>1].head()"
   ]
  },
  {
   "cell_type": "code",
   "execution_count": 58,
   "id": "96d26cf8",
   "metadata": {
    "execution": {
     "iopub.execute_input": "2022-06-10T12:01:07.035509Z",
     "iopub.status.busy": "2022-06-10T12:01:07.034897Z",
     "iopub.status.idle": "2022-06-10T12:01:07.041813Z",
     "shell.execute_reply": "2022-06-10T12:01:07.040699Z"
    },
    "papermill": {
     "duration": 0.038329,
     "end_time": "2022-06-10T12:01:07.043951",
     "exception": false,
     "start_time": "2022-06-10T12:01:07.005622",
     "status": "completed"
    },
    "tags": []
   },
   "outputs": [
    {
     "name": "stdout",
     "output_type": "stream",
     "text": [
      "13 of books were reread.\n",
      "This accounts to 3.35 % of books with a recorded completion date.\n"
     ]
    }
   ],
   "source": [
    "print(rereads[rereads[\"reads\"]>1].shape[0], \"of books were reread.\")\n",
    "print(\"This accounts to\", round((1 -Completed[\"Title\"].nunique()/Completed.shape[0])*100,2), \"% of books with a recorded completion date.\")"
   ]
  },
  {
   "cell_type": "code",
   "execution_count": 59,
   "id": "6c5d9a41",
   "metadata": {
    "execution": {
     "iopub.execute_input": "2022-06-10T12:01:07.102463Z",
     "iopub.status.busy": "2022-06-10T12:01:07.101744Z",
     "iopub.status.idle": "2022-06-10T12:01:07.113249Z",
     "shell.execute_reply": "2022-06-10T12:01:07.112346Z"
    },
    "papermill": {
     "duration": 0.042897,
     "end_time": "2022-06-10T12:01:07.115265",
     "exception": false,
     "start_time": "2022-06-10T12:01:07.072368",
     "status": "completed"
    },
    "tags": []
   },
   "outputs": [
    {
     "data": {
      "text/plain": [
       "44"
      ]
     },
     "execution_count": 59,
     "metadata": {},
     "output_type": "execute_result"
    }
   ],
   "source": [
    "# exclude reread entries\n",
    "first_reads = Completed.drop_duplicates(subset = [\"Title\"], keep = \"first\"  )\n",
    "\n",
    "# find the most popular author in the remaining list of books. \n",
    "fav_authors = first_reads[\"author(s)\"].value_counts().rename_axis (\"author(s)\").reset_index(name = \"books/reads\")\n",
    "\n",
    "# Number of authors, for whome more than one book was read. \n",
    "fav_authors[fav_authors[\"books/reads\"]>1].shape[0]"
   ]
  },
  {
   "cell_type": "code",
   "execution_count": 60,
   "id": "7eb05e3d",
   "metadata": {
    "execution": {
     "iopub.execute_input": "2022-06-10T12:01:07.173815Z",
     "iopub.status.busy": "2022-06-10T12:01:07.173192Z",
     "iopub.status.idle": "2022-06-10T12:01:07.182431Z",
     "shell.execute_reply": "2022-06-10T12:01:07.181673Z"
    },
    "papermill": {
     "duration": 0.041347,
     "end_time": "2022-06-10T12:01:07.184456",
     "exception": false,
     "start_time": "2022-06-10T12:01:07.143109",
     "status": "completed"
    },
    "tags": []
   },
   "outputs": [
    {
     "data": {
      "text/html": [
       "<div>\n",
       "<style scoped>\n",
       "    .dataframe tbody tr th:only-of-type {\n",
       "        vertical-align: middle;\n",
       "    }\n",
       "\n",
       "    .dataframe tbody tr th {\n",
       "        vertical-align: top;\n",
       "    }\n",
       "\n",
       "    .dataframe thead th {\n",
       "        text-align: right;\n",
       "    }\n",
       "</style>\n",
       "<table border=\"1\" class=\"dataframe\">\n",
       "  <thead>\n",
       "    <tr style=\"text-align: right;\">\n",
       "      <th></th>\n",
       "      <th>author(s)</th>\n",
       "      <th>books/reads</th>\n",
       "    </tr>\n",
       "  </thead>\n",
       "  <tbody>\n",
       "    <tr>\n",
       "      <th>0</th>\n",
       "      <td>東野 圭吾</td>\n",
       "      <td>15</td>\n",
       "    </tr>\n",
       "    <tr>\n",
       "      <th>1</th>\n",
       "      <td>谷 瑞恵</td>\n",
       "      <td>13</td>\n",
       "    </tr>\n",
       "    <tr>\n",
       "      <th>2</th>\n",
       "      <td>香月 日輪</td>\n",
       "      <td>8</td>\n",
       "    </tr>\n",
       "    <tr>\n",
       "      <th>3</th>\n",
       "      <td>伊坂 幸太郎</td>\n",
       "      <td>7</td>\n",
       "    </tr>\n",
       "    <tr>\n",
       "      <th>4</th>\n",
       "      <td>ふじた</td>\n",
       "      <td>6</td>\n",
       "    </tr>\n",
       "  </tbody>\n",
       "</table>\n",
       "</div>"
      ],
      "text/plain": [
       "  author(s)  books/reads\n",
       "0     東野 圭吾           15\n",
       "1      谷 瑞恵           13\n",
       "2     香月 日輪            8\n",
       "3    伊坂 幸太郎            7\n",
       "4       ふじた            6"
      ]
     },
     "execution_count": 60,
     "metadata": {},
     "output_type": "execute_result"
    }
   ],
   "source": [
    "# top 10 authors with most number of books read\n",
    "fav_authors[fav_authors[\"books/reads\"]>1].head()"
   ]
  },
  {
   "cell_type": "code",
   "execution_count": 61,
   "id": "44143a6c",
   "metadata": {
    "execution": {
     "iopub.execute_input": "2022-06-10T12:01:07.243536Z",
     "iopub.status.busy": "2022-06-10T12:01:07.243166Z",
     "iopub.status.idle": "2022-06-10T12:01:07.294590Z",
     "shell.execute_reply": "2022-06-10T12:01:07.293811Z"
    },
    "papermill": {
     "duration": 0.083227,
     "end_time": "2022-06-10T12:01:07.296584",
     "exception": false,
     "start_time": "2022-06-10T12:01:07.213357",
     "status": "completed"
    },
    "tags": []
   },
   "outputs": [
    {
     "data": {
      "text/html": [
       "<div>                            <div id=\"cc72570e-513c-4cf4-a684-4313ee0d97c8\" class=\"plotly-graph-div\" style=\"height:525px; width:100%;\"></div>            <script type=\"text/javascript\">                require([\"plotly\"], function(Plotly) {                    window.PLOTLYENV=window.PLOTLYENV || {};                                    if (document.getElementById(\"cc72570e-513c-4cf4-a684-4313ee0d97c8\")) {                    Plotly.newPlot(                        \"cc72570e-513c-4cf4-a684-4313ee0d97c8\",                        [{\"alignmentgroup\":\"True\",\"hovertemplate\":\"author(s)=%{x}<br>books/reads=%{y}<extra></extra>\",\"legendgroup\":\"\",\"marker\":{\"color\":\"#636efa\",\"pattern\":{\"shape\":\"\"}},\"name\":\"\",\"offsetgroup\":\"\",\"orientation\":\"v\",\"showlegend\":false,\"textposition\":\"auto\",\"x\":[\"東野 圭吾\",\"谷 瑞恵\",\"香月 日輪\",\"伊坂 幸太郎\",\"ふじた\",\"Leigh Bardugo\",\"成田 良悟\",\"池井戸 潤\",\"藤木 稟\",\"Brandon Sanderson\",\"知念 実希人\",\"Ian Fleming\",\"J. K. Rowling\",\"V. E. Schwab\",\"枢 やな\",\"Robert Thorogood\",\"中村 ふみ\",\"誉田 哲也\",\"Anthony Horowitz\",\"Sarah J. Maas\",\"Agatha Christie\",\"葉山 透\",\"Scott Lynch\",\"赤川 次郎\",\"乙一\",\"Wilkie Collins\",\"Jane Austen\"],\"xaxis\":\"x\",\"y\":[15,13,8,7,6,5,5,5,5,4,4,4,4,4,4,4,3,3,3,3,3,3,3,3,3,3,3],\"yaxis\":\"y\",\"type\":\"bar\"}],                        {\"template\":{\"data\":{\"histogram2dcontour\":[{\"type\":\"histogram2dcontour\",\"colorbar\":{\"outlinewidth\":0,\"ticks\":\"\"},\"colorscale\":[[0.0,\"#0d0887\"],[0.1111111111111111,\"#46039f\"],[0.2222222222222222,\"#7201a8\"],[0.3333333333333333,\"#9c179e\"],[0.4444444444444444,\"#bd3786\"],[0.5555555555555556,\"#d8576b\"],[0.6666666666666666,\"#ed7953\"],[0.7777777777777778,\"#fb9f3a\"],[0.8888888888888888,\"#fdca26\"],[1.0,\"#f0f921\"]]}],\"choropleth\":[{\"type\":\"choropleth\",\"colorbar\":{\"outlinewidth\":0,\"ticks\":\"\"}}],\"histogram2d\":[{\"type\":\"histogram2d\",\"colorbar\":{\"outlinewidth\":0,\"ticks\":\"\"},\"colorscale\":[[0.0,\"#0d0887\"],[0.1111111111111111,\"#46039f\"],[0.2222222222222222,\"#7201a8\"],[0.3333333333333333,\"#9c179e\"],[0.4444444444444444,\"#bd3786\"],[0.5555555555555556,\"#d8576b\"],[0.6666666666666666,\"#ed7953\"],[0.7777777777777778,\"#fb9f3a\"],[0.8888888888888888,\"#fdca26\"],[1.0,\"#f0f921\"]]}],\"heatmap\":[{\"type\":\"heatmap\",\"colorbar\":{\"outlinewidth\":0,\"ticks\":\"\"},\"colorscale\":[[0.0,\"#0d0887\"],[0.1111111111111111,\"#46039f\"],[0.2222222222222222,\"#7201a8\"],[0.3333333333333333,\"#9c179e\"],[0.4444444444444444,\"#bd3786\"],[0.5555555555555556,\"#d8576b\"],[0.6666666666666666,\"#ed7953\"],[0.7777777777777778,\"#fb9f3a\"],[0.8888888888888888,\"#fdca26\"],[1.0,\"#f0f921\"]]}],\"heatmapgl\":[{\"type\":\"heatmapgl\",\"colorbar\":{\"outlinewidth\":0,\"ticks\":\"\"},\"colorscale\":[[0.0,\"#0d0887\"],[0.1111111111111111,\"#46039f\"],[0.2222222222222222,\"#7201a8\"],[0.3333333333333333,\"#9c179e\"],[0.4444444444444444,\"#bd3786\"],[0.5555555555555556,\"#d8576b\"],[0.6666666666666666,\"#ed7953\"],[0.7777777777777778,\"#fb9f3a\"],[0.8888888888888888,\"#fdca26\"],[1.0,\"#f0f921\"]]}],\"contourcarpet\":[{\"type\":\"contourcarpet\",\"colorbar\":{\"outlinewidth\":0,\"ticks\":\"\"}}],\"contour\":[{\"type\":\"contour\",\"colorbar\":{\"outlinewidth\":0,\"ticks\":\"\"},\"colorscale\":[[0.0,\"#0d0887\"],[0.1111111111111111,\"#46039f\"],[0.2222222222222222,\"#7201a8\"],[0.3333333333333333,\"#9c179e\"],[0.4444444444444444,\"#bd3786\"],[0.5555555555555556,\"#d8576b\"],[0.6666666666666666,\"#ed7953\"],[0.7777777777777778,\"#fb9f3a\"],[0.8888888888888888,\"#fdca26\"],[1.0,\"#f0f921\"]]}],\"surface\":[{\"type\":\"surface\",\"colorbar\":{\"outlinewidth\":0,\"ticks\":\"\"},\"colorscale\":[[0.0,\"#0d0887\"],[0.1111111111111111,\"#46039f\"],[0.2222222222222222,\"#7201a8\"],[0.3333333333333333,\"#9c179e\"],[0.4444444444444444,\"#bd3786\"],[0.5555555555555556,\"#d8576b\"],[0.6666666666666666,\"#ed7953\"],[0.7777777777777778,\"#fb9f3a\"],[0.8888888888888888,\"#fdca26\"],[1.0,\"#f0f921\"]]}],\"mesh3d\":[{\"type\":\"mesh3d\",\"colorbar\":{\"outlinewidth\":0,\"ticks\":\"\"}}],\"scatter\":[{\"fillpattern\":{\"fillmode\":\"overlay\",\"size\":10,\"solidity\":0.2},\"type\":\"scatter\"}],\"parcoords\":[{\"type\":\"parcoords\",\"line\":{\"colorbar\":{\"outlinewidth\":0,\"ticks\":\"\"}}}],\"scatterpolargl\":[{\"type\":\"scatterpolargl\",\"marker\":{\"colorbar\":{\"outlinewidth\":0,\"ticks\":\"\"}}}],\"bar\":[{\"error_x\":{\"color\":\"#2a3f5f\"},\"error_y\":{\"color\":\"#2a3f5f\"},\"marker\":{\"line\":{\"color\":\"#E5ECF6\",\"width\":0.5},\"pattern\":{\"fillmode\":\"overlay\",\"size\":10,\"solidity\":0.2}},\"type\":\"bar\"}],\"scattergeo\":[{\"type\":\"scattergeo\",\"marker\":{\"colorbar\":{\"outlinewidth\":0,\"ticks\":\"\"}}}],\"scatterpolar\":[{\"type\":\"scatterpolar\",\"marker\":{\"colorbar\":{\"outlinewidth\":0,\"ticks\":\"\"}}}],\"histogram\":[{\"marker\":{\"pattern\":{\"fillmode\":\"overlay\",\"size\":10,\"solidity\":0.2}},\"type\":\"histogram\"}],\"scattergl\":[{\"type\":\"scattergl\",\"marker\":{\"colorbar\":{\"outlinewidth\":0,\"ticks\":\"\"}}}],\"scatter3d\":[{\"type\":\"scatter3d\",\"line\":{\"colorbar\":{\"outlinewidth\":0,\"ticks\":\"\"}},\"marker\":{\"colorbar\":{\"outlinewidth\":0,\"ticks\":\"\"}}}],\"scattermapbox\":[{\"type\":\"scattermapbox\",\"marker\":{\"colorbar\":{\"outlinewidth\":0,\"ticks\":\"\"}}}],\"scatterternary\":[{\"type\":\"scatterternary\",\"marker\":{\"colorbar\":{\"outlinewidth\":0,\"ticks\":\"\"}}}],\"scattercarpet\":[{\"type\":\"scattercarpet\",\"marker\":{\"colorbar\":{\"outlinewidth\":0,\"ticks\":\"\"}}}],\"carpet\":[{\"aaxis\":{\"endlinecolor\":\"#2a3f5f\",\"gridcolor\":\"white\",\"linecolor\":\"white\",\"minorgridcolor\":\"white\",\"startlinecolor\":\"#2a3f5f\"},\"baxis\":{\"endlinecolor\":\"#2a3f5f\",\"gridcolor\":\"white\",\"linecolor\":\"white\",\"minorgridcolor\":\"white\",\"startlinecolor\":\"#2a3f5f\"},\"type\":\"carpet\"}],\"table\":[{\"cells\":{\"fill\":{\"color\":\"#EBF0F8\"},\"line\":{\"color\":\"white\"}},\"header\":{\"fill\":{\"color\":\"#C8D4E3\"},\"line\":{\"color\":\"white\"}},\"type\":\"table\"}],\"barpolar\":[{\"marker\":{\"line\":{\"color\":\"#E5ECF6\",\"width\":0.5},\"pattern\":{\"fillmode\":\"overlay\",\"size\":10,\"solidity\":0.2}},\"type\":\"barpolar\"}],\"pie\":[{\"automargin\":true,\"type\":\"pie\"}]},\"layout\":{\"autotypenumbers\":\"strict\",\"colorway\":[\"#636efa\",\"#EF553B\",\"#00cc96\",\"#ab63fa\",\"#FFA15A\",\"#19d3f3\",\"#FF6692\",\"#B6E880\",\"#FF97FF\",\"#FECB52\"],\"font\":{\"color\":\"#2a3f5f\"},\"hovermode\":\"closest\",\"hoverlabel\":{\"align\":\"left\"},\"paper_bgcolor\":\"white\",\"plot_bgcolor\":\"#E5ECF6\",\"polar\":{\"bgcolor\":\"#E5ECF6\",\"angularaxis\":{\"gridcolor\":\"white\",\"linecolor\":\"white\",\"ticks\":\"\"},\"radialaxis\":{\"gridcolor\":\"white\",\"linecolor\":\"white\",\"ticks\":\"\"}},\"ternary\":{\"bgcolor\":\"#E5ECF6\",\"aaxis\":{\"gridcolor\":\"white\",\"linecolor\":\"white\",\"ticks\":\"\"},\"baxis\":{\"gridcolor\":\"white\",\"linecolor\":\"white\",\"ticks\":\"\"},\"caxis\":{\"gridcolor\":\"white\",\"linecolor\":\"white\",\"ticks\":\"\"}},\"coloraxis\":{\"colorbar\":{\"outlinewidth\":0,\"ticks\":\"\"}},\"colorscale\":{\"sequential\":[[0.0,\"#0d0887\"],[0.1111111111111111,\"#46039f\"],[0.2222222222222222,\"#7201a8\"],[0.3333333333333333,\"#9c179e\"],[0.4444444444444444,\"#bd3786\"],[0.5555555555555556,\"#d8576b\"],[0.6666666666666666,\"#ed7953\"],[0.7777777777777778,\"#fb9f3a\"],[0.8888888888888888,\"#fdca26\"],[1.0,\"#f0f921\"]],\"sequentialminus\":[[0.0,\"#0d0887\"],[0.1111111111111111,\"#46039f\"],[0.2222222222222222,\"#7201a8\"],[0.3333333333333333,\"#9c179e\"],[0.4444444444444444,\"#bd3786\"],[0.5555555555555556,\"#d8576b\"],[0.6666666666666666,\"#ed7953\"],[0.7777777777777778,\"#fb9f3a\"],[0.8888888888888888,\"#fdca26\"],[1.0,\"#f0f921\"]],\"diverging\":[[0,\"#8e0152\"],[0.1,\"#c51b7d\"],[0.2,\"#de77ae\"],[0.3,\"#f1b6da\"],[0.4,\"#fde0ef\"],[0.5,\"#f7f7f7\"],[0.6,\"#e6f5d0\"],[0.7,\"#b8e186\"],[0.8,\"#7fbc41\"],[0.9,\"#4d9221\"],[1,\"#276419\"]]},\"xaxis\":{\"gridcolor\":\"white\",\"linecolor\":\"white\",\"ticks\":\"\",\"title\":{\"standoff\":15},\"zerolinecolor\":\"white\",\"automargin\":true,\"zerolinewidth\":2},\"yaxis\":{\"gridcolor\":\"white\",\"linecolor\":\"white\",\"ticks\":\"\",\"title\":{\"standoff\":15},\"zerolinecolor\":\"white\",\"automargin\":true,\"zerolinewidth\":2},\"scene\":{\"xaxis\":{\"backgroundcolor\":\"#E5ECF6\",\"gridcolor\":\"white\",\"linecolor\":\"white\",\"showbackground\":true,\"ticks\":\"\",\"zerolinecolor\":\"white\",\"gridwidth\":2},\"yaxis\":{\"backgroundcolor\":\"#E5ECF6\",\"gridcolor\":\"white\",\"linecolor\":\"white\",\"showbackground\":true,\"ticks\":\"\",\"zerolinecolor\":\"white\",\"gridwidth\":2},\"zaxis\":{\"backgroundcolor\":\"#E5ECF6\",\"gridcolor\":\"white\",\"linecolor\":\"white\",\"showbackground\":true,\"ticks\":\"\",\"zerolinecolor\":\"white\",\"gridwidth\":2}},\"shapedefaults\":{\"line\":{\"color\":\"#2a3f5f\"}},\"annotationdefaults\":{\"arrowcolor\":\"#2a3f5f\",\"arrowhead\":0,\"arrowwidth\":1},\"geo\":{\"bgcolor\":\"white\",\"landcolor\":\"#E5ECF6\",\"subunitcolor\":\"white\",\"showland\":true,\"showlakes\":true,\"lakecolor\":\"white\"},\"title\":{\"x\":0.05},\"mapbox\":{\"style\":\"light\"}}},\"xaxis\":{\"anchor\":\"y\",\"domain\":[0.0,1.0],\"title\":{\"text\":\"author(s)\"}},\"yaxis\":{\"anchor\":\"x\",\"domain\":[0.0,1.0],\"title\":{\"text\":\"books/reads\"}},\"legend\":{\"tracegroupgap\":0},\"margin\":{\"t\":60},\"barmode\":\"relative\"},                        {\"responsive\": true}                    ).then(function(){\n",
       "                            \n",
       "var gd = document.getElementById('cc72570e-513c-4cf4-a684-4313ee0d97c8');\n",
       "var x = new MutationObserver(function (mutations, observer) {{\n",
       "        var display = window.getComputedStyle(gd).display;\n",
       "        if (!display || display === 'none') {{\n",
       "            console.log([gd, 'removed!']);\n",
       "            Plotly.purge(gd);\n",
       "            observer.disconnect();\n",
       "        }}\n",
       "}});\n",
       "\n",
       "// Listen for the removal of the full notebook cells\n",
       "var notebookContainer = gd.closest('#notebook-container');\n",
       "if (notebookContainer) {{\n",
       "    x.observe(notebookContainer, {childList: true});\n",
       "}}\n",
       "\n",
       "// Listen for the clearing of the current output cell\n",
       "var outputEl = gd.closest('.output');\n",
       "if (outputEl) {{\n",
       "    x.observe(outputEl, {childList: true});\n",
       "}}\n",
       "\n",
       "                        })                };                });            </script>        </div>"
      ]
     },
     "metadata": {},
     "output_type": "display_data"
    }
   ],
   "source": [
    "# popular authors for whome more than 2 books were read. \n",
    "px.bar(fav_authors[fav_authors[\"books/reads\"]>2], x=\"author(s)\", y = \"books/reads\" )"
   ]
  },
  {
   "cell_type": "code",
   "execution_count": 62,
   "id": "6a92e4b2",
   "metadata": {
    "execution": {
     "iopub.execute_input": "2022-06-10T12:01:07.355688Z",
     "iopub.status.busy": "2022-06-10T12:01:07.355043Z",
     "iopub.status.idle": "2022-06-10T12:01:07.520573Z",
     "shell.execute_reply": "2022-06-10T12:01:07.519664Z"
    },
    "papermill": {
     "duration": 0.197732,
     "end_time": "2022-06-10T12:01:07.522697",
     "exception": false,
     "start_time": "2022-06-10T12:01:07.324965",
     "status": "completed"
    },
    "tags": []
   },
   "outputs": [
    {
     "data": {
      "image/png": "[encoded data removed]",
      "text/plain": [
       "<Figure size 720x576 with 1 Axes>"
      ]
     },
     "metadata": {},
     "output_type": "display_data"
    }
   ],
   "source": [
    "# laguage distribution of the books where more than two books by the author was read. \n",
    "fav_authors = fav_authors[fav_authors[\"books/reads\"]>2]\n",
    "\n",
    "plt.figure(figsize = (10,8))\n",
    "sns.countplot(x = \"language\", data = Completed[Completed[\"author(s)\"].isin(fav_authors[\"author(s)\"])], palette = \"Blues_r\")\n",
    "plt.show()"
   ]
  },
  {
   "cell_type": "code",
   "execution_count": 63,
   "id": "341da091",
   "metadata": {
    "execution": {
     "iopub.execute_input": "2022-06-10T12:01:07.583018Z",
     "iopub.status.busy": "2022-06-10T12:01:07.582472Z",
     "iopub.status.idle": "2022-06-10T12:01:07.591380Z",
     "shell.execute_reply": "2022-06-10T12:01:07.590056Z"
    },
    "papermill": {
     "duration": 0.041684,
     "end_time": "2022-06-10T12:01:07.593553",
     "exception": false,
     "start_time": "2022-06-10T12:01:07.551869",
     "status": "completed"
    },
    "tags": []
   },
   "outputs": [
    {
     "name": "stdout",
     "output_type": "stream",
     "text": [
      "There were 66.42 % more Japanese rereads than English rereads\n"
     ]
    }
   ],
   "source": [
    "ratio = (sum(Completed[Completed[\"author(s)\"].isin(fav_authors[\"author(s)\"])][\"language\"]==\"Japanese\")/Completed[Completed[\"author(s)\"].isin(fav_authors[\"author(s)\"])].shape[0])*100\n",
    "print(\"There were\", round(ratio,2),\"% more Japanese rereads than English rereads\")"
   ]
  },
  {
   "cell_type": "code",
   "execution_count": 64,
   "id": "6810f03c",
   "metadata": {
    "execution": {
     "iopub.execute_input": "2022-06-10T12:01:07.654155Z",
     "iopub.status.busy": "2022-06-10T12:01:07.652986Z",
     "iopub.status.idle": "2022-06-10T12:01:07.828696Z",
     "shell.execute_reply": "2022-06-10T12:01:07.827728Z"
    },
    "papermill": {
     "duration": 0.208711,
     "end_time": "2022-06-10T12:01:07.831159",
     "exception": false,
     "start_time": "2022-06-10T12:01:07.622448",
     "status": "completed"
    },
    "tags": []
   },
   "outputs": [
    {
     "data": {
      "image/png": "[encoded data removed]",
      "text/plain": [
       "<Figure size 720x576 with 1 Axes>"
      ]
     },
     "metadata": {},
     "output_type": "display_data"
    }
   ],
   "source": [
    "# where more than two books for an author was read, the visualisation of the number of pages per language read. \n",
    "fav_authors = fav_authors[fav_authors[\"books/reads\"]>2]\n",
    "\n",
    "plt.figure(figsize = (10,8))\n",
    "sns.barplot(x = \"language\", y = \"pages\", data = Completed[Completed[\"author(s)\"].isin(fav_authors[\"author(s)\"])], ci = None, palette = \"Blues_r\")\n",
    "plt.show()"
   ]
  },
  {
   "cell_type": "code",
   "execution_count": 65,
   "id": "9f8ce859",
   "metadata": {
    "execution": {
     "iopub.execute_input": "2022-06-10T12:01:07.891813Z",
     "iopub.status.busy": "2022-06-10T12:01:07.891406Z",
     "iopub.status.idle": "2022-06-10T12:01:07.901685Z",
     "shell.execute_reply": "2022-06-10T12:01:07.900622Z"
    },
    "papermill": {
     "duration": 0.042921,
     "end_time": "2022-06-10T12:01:07.903642",
     "exception": false,
     "start_time": "2022-06-10T12:01:07.860721",
     "status": "completed"
    },
    "tags": []
   },
   "outputs": [
    {
     "data": {
      "text/plain": [
       "count    328.000000\n",
       "mean     345.042683\n",
       "std      132.200471\n",
       "min       31.000000\n",
       "25%      259.750000\n",
       "50%      327.000000\n",
       "75%      400.000000\n",
       "max      912.000000\n",
       "Name: pages, dtype: float64"
      ]
     },
     "execution_count": 65,
     "metadata": {},
     "output_type": "execute_result"
    }
   ],
   "source": [
    "# the spread of the number of pages and its descriptive statistic\n",
    "Completed[\"pages\"].describe()"
   ]
  },
  {
   "cell_type": "code",
   "execution_count": 66,
   "id": "2cb81972",
   "metadata": {
    "execution": {
     "iopub.execute_input": "2022-06-10T12:01:07.964547Z",
     "iopub.status.busy": "2022-06-10T12:01:07.963796Z",
     "iopub.status.idle": "2022-06-10T12:01:08.310458Z",
     "shell.execute_reply": "2022-06-10T12:01:08.309506Z"
    },
    "papermill": {
     "duration": 0.379099,
     "end_time": "2022-06-10T12:01:08.312428",
     "exception": false,
     "start_time": "2022-06-10T12:01:07.933329",
     "status": "completed"
    },
    "tags": []
   },
   "outputs": [
    {
     "data": {
      "text/plain": [
       "<Figure size 720x576 with 0 Axes>"
      ]
     },
     "metadata": {},
     "output_type": "display_data"
    },
    {
     "data": {
      "image/png": "[encoded data removed]",
      "text/plain": [
       "<Figure size 360x360 with 1 Axes>"
      ]
     },
     "metadata": {},
     "output_type": "display_data"
    }
   ],
   "source": [
    "# destribution of the pages for books with a completion date\n",
    "\n",
    "plt.figure(figsize = (10,8))\n",
    "sns.displot(x = \"pages\", data = Completed, kind= \"kde\")\n",
    "plt.show()"
   ]
  },
  {
   "cell_type": "code",
   "execution_count": 67,
   "id": "f3613385",
   "metadata": {
    "execution": {
     "iopub.execute_input": "2022-06-10T12:01:08.373786Z",
     "iopub.status.busy": "2022-06-10T12:01:08.372976Z",
     "iopub.status.idle": "2022-06-10T12:01:08.851478Z",
     "shell.execute_reply": "2022-06-10T12:01:08.850386Z"
    },
    "papermill": {
     "duration": 0.511647,
     "end_time": "2022-06-10T12:01:08.853897",
     "exception": false,
     "start_time": "2022-06-10T12:01:08.342250",
     "status": "completed"
    },
    "tags": []
   },
   "outputs": [
    {
     "data": {
      "text/plain": [
       "<Figure size 720x576 with 0 Axes>"
      ]
     },
     "metadata": {},
     "output_type": "display_data"
    },
    {
     "data": {
      "image/png": "[encoded data removed]",
      "text/plain": [
       "<Figure size 441.25x360 with 1 Axes>"
      ]
     },
     "metadata": {},
     "output_type": "display_data"
    }
   ],
   "source": [
    "# destribution of the pages for books with a completion date seperated by laguage\n",
    "plt.figure(figsize = (10,8))\n",
    "sns.displot(x = \"pages\", data = Completed, kind= \"kde\", hue = \"language\")\n",
    "plt.show()"
   ]
  },
  {
   "cell_type": "code",
   "execution_count": 68,
   "id": "f363e54c",
   "metadata": {
    "execution": {
     "iopub.execute_input": "2022-06-10T12:01:08.918385Z",
     "iopub.status.busy": "2022-06-10T12:01:08.917945Z",
     "iopub.status.idle": "2022-06-10T12:01:09.031803Z",
     "shell.execute_reply": "2022-06-10T12:01:09.031107Z"
    },
    "papermill": {
     "duration": 0.148193,
     "end_time": "2022-06-10T12:01:09.033747",
     "exception": false,
     "start_time": "2022-06-10T12:01:08.885554",
     "status": "completed"
    },
    "tags": []
   },
   "outputs": [
    {
     "data": {
      "image/png": "[encoded data removed]",
      "text/plain": [
       "<Figure size 720x576 with 1 Axes>"
      ]
     },
     "metadata": {},
     "output_type": "display_data"
    }
   ],
   "source": [
    "# ratio of reviews to no reviews for books with a known completion date\n",
    "plt.figure(figsize = (10,8))\n",
    "sns.countplot(x = \"review\", data = Completed, palette = \"Blues_r\")\n",
    "plt.show()"
   ]
  },
  {
   "cell_type": "code",
   "execution_count": 69,
   "id": "ec759839",
   "metadata": {
    "execution": {
     "iopub.execute_input": "2022-06-10T12:01:09.098263Z",
     "iopub.status.busy": "2022-06-10T12:01:09.097510Z",
     "iopub.status.idle": "2022-06-10T12:01:09.107620Z",
     "shell.execute_reply": "2022-06-10T12:01:09.106214Z"
    },
    "papermill": {
     "duration": 0.045034,
     "end_time": "2022-06-10T12:01:09.109781",
     "exception": false,
     "start_time": "2022-06-10T12:01:09.064747",
     "status": "completed"
    },
    "tags": []
   },
   "outputs": [
    {
     "name": "stdout",
     "output_type": "stream",
     "text": [
      "75.0 % of books read have been reviewed\n"
     ]
    }
   ],
   "source": [
    "print(round((Completed[Completed[\"review\"]==\"Yes\"].shape[0]/Completed.dropna(subset = [\"review\"]).shape[0])*100, 1) ,\"% of books read have been reviewed\")"
   ]
  },
  {
   "cell_type": "code",
   "execution_count": 70,
   "id": "323a6281",
   "metadata": {
    "execution": {
     "iopub.execute_input": "2022-06-10T12:01:09.173138Z",
     "iopub.status.busy": "2022-06-10T12:01:09.172077Z",
     "iopub.status.idle": "2022-06-10T12:01:09.545871Z",
     "shell.execute_reply": "2022-06-10T12:01:09.545138Z"
    },
    "papermill": {
     "duration": 0.407376,
     "end_time": "2022-06-10T12:01:09.547716",
     "exception": false,
     "start_time": "2022-06-10T12:01:09.140340",
     "status": "completed"
    },
    "tags": []
   },
   "outputs": [
    {
     "data": {
      "image/png": "[encoded data removed]",
      "text/plain": [
       "<Figure size 360x360 with 1 Axes>"
      ]
     },
     "metadata": {},
     "output_type": "display_data"
    }
   ],
   "source": [
    "# distribution of the ratings for books with a known completion date\n",
    "\n",
    "sns.displot(x = \"rating\", data = Completed, kind= \"kde\")\n",
    "plt.show()"
   ]
  },
  {
   "cell_type": "code",
   "execution_count": 71,
   "id": "1afb6a14",
   "metadata": {
    "execution": {
     "iopub.execute_input": "2022-06-10T12:01:09.614323Z",
     "iopub.status.busy": "2022-06-10T12:01:09.613199Z",
     "iopub.status.idle": "2022-06-10T12:01:10.139919Z",
     "shell.execute_reply": "2022-06-10T12:01:10.139167Z"
    },
    "papermill": {
     "duration": 0.56223,
     "end_time": "2022-06-10T12:01:10.142016",
     "exception": false,
     "start_time": "2022-06-10T12:01:09.579786",
     "status": "completed"
    },
    "tags": []
   },
   "outputs": [
    {
     "data": {
      "image/png": "[encoded data removed]",
      "text/plain": [
       "<Figure size 441.25x360 with 1 Axes>"
      ]
     },
     "metadata": {},
     "output_type": "display_data"
    }
   ],
   "source": [
    "# distribution of the ratings for books with a known completion date with respect to language\n",
    "\n",
    "sns.displot(x = \"rating\", data = Completed, kind= \"kde\", hue = \"language\")\n",
    "\n",
    "plt.show()"
   ]
  },
  {
   "cell_type": "code",
   "execution_count": 72,
   "id": "8a6e687d",
   "metadata": {
    "execution": {
     "iopub.execute_input": "2022-06-10T12:01:10.208202Z",
     "iopub.status.busy": "2022-06-10T12:01:10.207545Z",
     "iopub.status.idle": "2022-06-10T12:01:10.389432Z",
     "shell.execute_reply": "2022-06-10T12:01:10.388773Z"
    },
    "papermill": {
     "duration": 0.216766,
     "end_time": "2022-06-10T12:01:10.391237",
     "exception": false,
     "start_time": "2022-06-10T12:01:10.174471",
     "status": "completed"
    },
    "tags": []
   },
   "outputs": [
    {
     "data": {
      "image/png": "[encoded data removed]",
      "text/plain": [
       "<Figure size 720x576 with 1 Axes>"
      ]
     },
     "metadata": {},
     "output_type": "display_data"
    }
   ],
   "source": [
    "# distribution of the formats for books with a known completion date\n",
    "plt.figure(figsize = (10,8))\n",
    "sns.countplot(x = \"format\", data = Completed, palette = \"mako\")\n",
    "plt.show()"
   ]
  },
  {
   "cell_type": "code",
   "execution_count": 73,
   "id": "2a671248",
   "metadata": {
    "execution": {
     "iopub.execute_input": "2022-06-10T12:01:10.457747Z",
     "iopub.status.busy": "2022-06-10T12:01:10.456955Z",
     "iopub.status.idle": "2022-06-10T12:01:10.688247Z",
     "shell.execute_reply": "2022-06-10T12:01:10.687057Z"
    },
    "papermill": {
     "duration": 0.267147,
     "end_time": "2022-06-10T12:01:10.690608",
     "exception": false,
     "start_time": "2022-06-10T12:01:10.423461",
     "status": "completed"
    },
    "tags": []
   },
   "outputs": [
    {
     "data": {
      "image/png": "[encoded data removed]",
      "text/plain": [
       "<Figure size 720x576 with 1 Axes>"
      ]
     },
     "metadata": {},
     "output_type": "display_data"
    }
   ],
   "source": [
    "# distribution of the formats for books with a known completion date with respect to langauge\n",
    "plt.figure(figsize = (10,8))\n",
    "sns.countplot(x = \"format\", data = Completed, hue = \"language\", palette = \"Blues_r\")\n",
    "plt.show()"
   ]
  },
  {
   "cell_type": "code",
   "execution_count": 74,
   "id": "49f0f752",
   "metadata": {
    "execution": {
     "iopub.execute_input": "2022-06-10T12:01:10.756879Z",
     "iopub.status.busy": "2022-06-10T12:01:10.756494Z",
     "iopub.status.idle": "2022-06-10T12:01:11.790581Z",
     "shell.execute_reply": "2022-06-10T12:01:11.789390Z"
    },
    "papermill": {
     "duration": 1.070188,
     "end_time": "2022-06-10T12:01:11.793044",
     "exception": false,
     "start_time": "2022-06-10T12:01:10.722856",
     "status": "completed"
    },
    "tags": []
   },
   "outputs": [
    {
     "data": {
      "image/png": "[encoded data removed]",
      "text/plain": [
       "<Figure size 864x864 with 4 Axes>"
      ]
     },
     "metadata": {},
     "output_type": "display_data"
    }
   ],
   "source": [
    "# changes to the format of books with a know completion date with respect to time\n",
    "g = sns.FacetGrid(Completed, col='format', height=6, col_wrap=2)\n",
    "g.map(sns.histplot, \"completion_year\")\n",
    "plt.show()"
   ]
  },
  {
   "cell_type": "code",
   "execution_count": 75,
   "id": "7e386d7a",
   "metadata": {
    "execution": {
     "iopub.execute_input": "2022-06-10T12:01:11.861160Z",
     "iopub.status.busy": "2022-06-10T12:01:11.860165Z",
     "iopub.status.idle": "2022-06-10T12:01:12.539329Z",
     "shell.execute_reply": "2022-06-10T12:01:12.538356Z"
    },
    "papermill": {
     "duration": 0.715193,
     "end_time": "2022-06-10T12:01:12.541638",
     "exception": false,
     "start_time": "2022-06-10T12:01:11.826445",
     "status": "completed"
    },
    "tags": []
   },
   "outputs": [
    {
     "data": {
      "image/png": "[encoded data removed]",
      "text/plain": [
       "<Figure size 1728x432 with 2 Axes>"
      ]
     },
     "metadata": {},
     "output_type": "display_data"
    }
   ],
   "source": [
    "# changes to type for books with know completion date with respect to time\n",
    "g = sns.FacetGrid(Completed, col='type', height=6, col_wrap=4)\n",
    "g.map(sns.histplot, \"completion_year\")\n",
    "plt.show()"
   ]
  },
  {
   "cell_type": "code",
   "execution_count": 76,
   "id": "77645de9",
   "metadata": {
    "execution": {
     "iopub.execute_input": "2022-06-10T12:01:12.609187Z",
     "iopub.status.busy": "2022-06-10T12:01:12.608770Z",
     "iopub.status.idle": "2022-06-10T12:01:12.805898Z",
     "shell.execute_reply": "2022-06-10T12:01:12.804636Z"
    },
    "papermill": {
     "duration": 0.234013,
     "end_time": "2022-06-10T12:01:12.808155",
     "exception": false,
     "start_time": "2022-06-10T12:01:12.574142",
     "status": "completed"
    },
    "tags": []
   },
   "outputs": [
    {
     "data": {
      "image/png": "[encoded data removed]",
      "text/plain": [
       "<Figure size 720x576 with 1 Axes>"
      ]
     },
     "metadata": {},
     "output_type": "display_data"
    }
   ],
   "source": [
    "# consumption patter of nonfiction books where completion date is known\n",
    "\n",
    "plt.figure(figsize = (10,8))\n",
    "sns.countplot(x = \"format\", data = Completed[Completed[\"type\"]==\"Nonfiction\"], palette = \"mako\")\n",
    "plt.show()"
   ]
  },
  {
   "cell_type": "code",
   "execution_count": 77,
   "id": "a3216cfc",
   "metadata": {
    "execution": {
     "iopub.execute_input": "2022-06-10T12:01:12.877107Z",
     "iopub.status.busy": "2022-06-10T12:01:12.876715Z",
     "iopub.status.idle": "2022-06-10T12:01:13.070477Z",
     "shell.execute_reply": "2022-06-10T12:01:13.069337Z"
    },
    "papermill": {
     "duration": 0.231993,
     "end_time": "2022-06-10T12:01:13.072977",
     "exception": false,
     "start_time": "2022-06-10T12:01:12.840984",
     "status": "completed"
    },
    "tags": []
   },
   "outputs": [
    {
     "data": {
      "image/png": "[encoded data removed]",
      "text/plain": [
       "<Figure size 720x576 with 1 Axes>"
      ]
     },
     "metadata": {},
     "output_type": "display_data"
    }
   ],
   "source": [
    "\n",
    "# consumption patter of fiction books where completion date is known\n",
    "\n",
    "plt.figure(figsize = (10,8))\n",
    "sns.countplot(x = \"format\", data = Completed[Completed[\"type\"]==\"Fiction\"], palette = \"mako\")\n",
    "plt.show()"
   ]
  },
  {
   "cell_type": "code",
   "execution_count": 78,
   "id": "b99ea65c",
   "metadata": {
    "execution": {
     "iopub.execute_input": "2022-06-10T12:01:13.141689Z",
     "iopub.status.busy": "2022-06-10T12:01:13.141267Z",
     "iopub.status.idle": "2022-06-10T12:01:13.924360Z",
     "shell.execute_reply": "2022-06-10T12:01:13.923063Z"
    },
    "papermill": {
     "duration": 0.819624,
     "end_time": "2022-06-10T12:01:13.926864",
     "exception": false,
     "start_time": "2022-06-10T12:01:13.107240",
     "status": "completed"
    },
    "tags": []
   },
   "outputs": [
    {
     "data": {
      "image/png": "[encoded data removed]",
      "text/plain": [
       "<Figure size 864x864 with 4 Axes>"
      ]
     },
     "metadata": {},
     "output_type": "display_data"
    }
   ],
   "source": [
    "# distribution of reviews with respect to format for books with a known completion date\n",
    "g = sns.FacetGrid(Completed, col='format', height=6, col_wrap=2)\n",
    "g.map(sns.histplot, \"review\")\n",
    "plt.show()"
   ]
  },
  {
   "cell_type": "code",
   "execution_count": 79,
   "id": "6caf7727",
   "metadata": {
    "execution": {
     "iopub.execute_input": "2022-06-10T12:01:14.001676Z",
     "iopub.status.busy": "2022-06-10T12:01:14.001223Z",
     "iopub.status.idle": "2022-06-10T12:01:15.501951Z",
     "shell.execute_reply": "2022-06-10T12:01:15.500934Z"
    },
    "papermill": {
     "duration": 1.542959,
     "end_time": "2022-06-10T12:01:15.504652",
     "exception": false,
     "start_time": "2022-06-10T12:01:13.961693",
     "status": "completed"
    },
    "tags": []
   },
   "outputs": [
    {
     "data": {
      "image/png": "[encoded data removed]",
      "text/plain": [
       "<Figure size 1728x432 with 4 Axes>"
      ]
     },
     "metadata": {},
     "output_type": "display_data"
    }
   ],
   "source": [
    "# distribution of ratings with respect to format for books with a known completion date\n",
    "g = sns.FacetGrid(Completed, col='format', height=6, col_wrap=4)\n",
    "g.map(sns.histplot, \"rating\")\n",
    "plt.show()"
   ]
  },
  {
   "cell_type": "code",
   "execution_count": 80,
   "id": "1f929011",
   "metadata": {
    "execution": {
     "iopub.execute_input": "2022-06-10T12:01:15.580423Z",
     "iopub.status.busy": "2022-06-10T12:01:15.580013Z",
     "iopub.status.idle": "2022-06-10T12:01:15.782001Z",
     "shell.execute_reply": "2022-06-10T12:01:15.780677Z"
    },
    "papermill": {
     "duration": 0.24354,
     "end_time": "2022-06-10T12:01:15.784622",
     "exception": false,
     "start_time": "2022-06-10T12:01:15.541082",
     "status": "completed"
    },
    "tags": []
   },
   "outputs": [
    {
     "data": {
      "image/png": "[encoded data removed]",
      "text/plain": [
       "<Figure size 720x576 with 1 Axes>"
      ]
     },
     "metadata": {},
     "output_type": "display_data"
    }
   ],
   "source": [
    "# consumption pattern of audibooks for books with a known completiond date\n",
    "\n",
    "plt.figure(figsize = (10,8))\n",
    "sns.countplot(x = \"platform\", data = Completed[Completed[\"format\"]==\"Audiobook\"], palette = \"mako\")\n",
    "plt.show()"
   ]
  },
  {
   "cell_type": "code",
   "execution_count": 81,
   "id": "20094dbe",
   "metadata": {
    "execution": {
     "iopub.execute_input": "2022-06-10T12:01:15.861263Z",
     "iopub.status.busy": "2022-06-10T12:01:15.860439Z",
     "iopub.status.idle": "2022-06-10T12:01:16.783150Z",
     "shell.execute_reply": "2022-06-10T12:01:16.782160Z"
    },
    "papermill": {
     "duration": 0.963644,
     "end_time": "2022-06-10T12:01:16.785384",
     "exception": false,
     "start_time": "2022-06-10T12:01:15.821740",
     "status": "completed"
    },
    "tags": []
   },
   "outputs": [
    {
     "data": {
      "image/png": "[encoded data removed]",
      "text/plain": [
       "<Figure size 1728x432 with 4 Axes>"
      ]
     },
     "metadata": {},
     "output_type": "display_data"
    }
   ],
   "source": [
    "# fluctuations over time in the consumption patterns of audibooks for books with a known completiond date\n",
    "g = sns.FacetGrid(Completed[Completed[\"format\"]==\"Audiobook\"], col='completion_year', height=6, col_wrap=4)\n",
    "g.map(sns.histplot, \"platform\")\n",
    "plt.show()"
   ]
  },
  {
   "cell_type": "code",
   "execution_count": 82,
   "id": "8695f7a2",
   "metadata": {
    "execution": {
     "iopub.execute_input": "2022-06-10T12:01:16.858444Z",
     "iopub.status.busy": "2022-06-10T12:01:16.857685Z",
     "iopub.status.idle": "2022-06-10T12:01:16.864098Z",
     "shell.execute_reply": "2022-06-10T12:01:16.863389Z"
    },
    "papermill": {
     "duration": 0.04563,
     "end_time": "2022-06-10T12:01:16.867038",
     "exception": false,
     "start_time": "2022-06-10T12:01:16.821408",
     "status": "completed"
    },
    "tags": []
   },
   "outputs": [
    {
     "name": "stdout",
     "output_type": "stream",
     "text": [
      "There are 56 publishers and 114 imprints for each unique book.\n"
     ]
    }
   ],
   "source": [
    "print(\"There are\",first_reads[\"publisher\"].nunique(),\"publishers and\", first_reads[\"Imprint\"].nunique(), \"imprints for each unique book.\")"
   ]
  },
  {
   "cell_type": "code",
   "execution_count": 83,
   "id": "d3d8d608",
   "metadata": {
    "execution": {
     "iopub.execute_input": "2022-06-10T12:01:16.941847Z",
     "iopub.status.busy": "2022-06-10T12:01:16.940862Z",
     "iopub.status.idle": "2022-06-10T12:01:16.956037Z",
     "shell.execute_reply": "2022-06-10T12:01:16.955323Z"
    },
    "papermill": {
     "duration": 0.053397,
     "end_time": "2022-06-10T12:01:16.958126",
     "exception": false,
     "start_time": "2022-06-10T12:01:16.904729",
     "status": "completed"
    },
    "tags": []
   },
   "outputs": [
    {
     "data": {
      "text/html": [
       "<div>\n",
       "<style scoped>\n",
       "    .dataframe tbody tr th:only-of-type {\n",
       "        vertical-align: middle;\n",
       "    }\n",
       "\n",
       "    .dataframe tbody tr th {\n",
       "        vertical-align: top;\n",
       "    }\n",
       "\n",
       "    .dataframe thead th {\n",
       "        text-align: right;\n",
       "    }\n",
       "</style>\n",
       "<table border=\"1\" class=\"dataframe\">\n",
       "  <thead>\n",
       "    <tr style=\"text-align: right;\">\n",
       "      <th></th>\n",
       "      <th>publisher</th>\n",
       "      <th>books/reads</th>\n",
       "    </tr>\n",
       "  </thead>\n",
       "  <tbody>\n",
       "    <tr>\n",
       "      <th>0</th>\n",
       "      <td>Penguin Random House</td>\n",
       "      <td>55</td>\n",
       "    </tr>\n",
       "    <tr>\n",
       "      <th>1</th>\n",
       "      <td>KADOKAWA</td>\n",
       "      <td>52</td>\n",
       "    </tr>\n",
       "    <tr>\n",
       "      <th>2</th>\n",
       "      <td>集英社</td>\n",
       "      <td>23</td>\n",
       "    </tr>\n",
       "    <tr>\n",
       "      <th>3</th>\n",
       "      <td>講談社</td>\n",
       "      <td>22</td>\n",
       "    </tr>\n",
       "    <tr>\n",
       "      <th>4</th>\n",
       "      <td>HarperCollins</td>\n",
       "      <td>17</td>\n",
       "    </tr>\n",
       "    <tr>\n",
       "      <th>5</th>\n",
       "      <td>Macmillan Publishers</td>\n",
       "      <td>17</td>\n",
       "    </tr>\n",
       "    <tr>\n",
       "      <th>6</th>\n",
       "      <td>文藝春秋</td>\n",
       "      <td>13</td>\n",
       "    </tr>\n",
       "    <tr>\n",
       "      <th>7</th>\n",
       "      <td>Orion</td>\n",
       "      <td>12</td>\n",
       "    </tr>\n",
       "    <tr>\n",
       "      <th>8</th>\n",
       "      <td>新潮社</td>\n",
       "      <td>9</td>\n",
       "    </tr>\n",
       "    <tr>\n",
       "      <th>9</th>\n",
       "      <td>Hachette Book</td>\n",
       "      <td>9</td>\n",
       "    </tr>\n",
       "  </tbody>\n",
       "</table>\n",
       "</div>"
      ],
      "text/plain": [
       "              publisher  books/reads\n",
       "0  Penguin Random House           55\n",
       "1              KADOKAWA           52\n",
       "2                   集英社           23\n",
       "3                   講談社           22\n",
       "4         HarperCollins           17\n",
       "5  Macmillan Publishers           17\n",
       "6                  文藝春秋           13\n",
       "7                 Orion           12\n",
       "8                   新潮社            9\n",
       "9         Hachette Book            9"
      ]
     },
     "execution_count": 83,
     "metadata": {},
     "output_type": "execute_result"
    }
   ],
   "source": [
    "# mos popular publishers\n",
    "publisher = first_reads[\"publisher\"].value_counts().rename_axis (\"publisher\").reset_index(name = \"books/reads\")\n",
    "publisher[publisher[\"books/reads\"]>1].head(10)"
   ]
  },
  {
   "cell_type": "code",
   "execution_count": 84,
   "id": "9cf85f67",
   "metadata": {
    "execution": {
     "iopub.execute_input": "2022-06-10T12:01:17.030996Z",
     "iopub.status.busy": "2022-06-10T12:01:17.029525Z",
     "iopub.status.idle": "2022-06-10T12:01:17.045084Z",
     "shell.execute_reply": "2022-06-10T12:01:17.044140Z"
    },
    "papermill": {
     "duration": 0.053782,
     "end_time": "2022-06-10T12:01:17.047118",
     "exception": false,
     "start_time": "2022-06-10T12:01:16.993336",
     "status": "completed"
    },
    "tags": []
   },
   "outputs": [
    {
     "data": {
      "text/html": [
       "<div>\n",
       "<style scoped>\n",
       "    .dataframe tbody tr th:only-of-type {\n",
       "        vertical-align: middle;\n",
       "    }\n",
       "\n",
       "    .dataframe tbody tr th {\n",
       "        vertical-align: top;\n",
       "    }\n",
       "\n",
       "    .dataframe thead th {\n",
       "        text-align: right;\n",
       "    }\n",
       "</style>\n",
       "<table border=\"1\" class=\"dataframe\">\n",
       "  <thead>\n",
       "    <tr style=\"text-align: right;\">\n",
       "      <th></th>\n",
       "      <th>Imprint</th>\n",
       "      <th>books/reads</th>\n",
       "    </tr>\n",
       "  </thead>\n",
       "  <tbody>\n",
       "    <tr>\n",
       "      <th>0</th>\n",
       "      <td>角川文庫</td>\n",
       "      <td>20</td>\n",
       "    </tr>\n",
       "    <tr>\n",
       "      <th>1</th>\n",
       "      <td>講談社文庫</td>\n",
       "      <td>18</td>\n",
       "    </tr>\n",
       "    <tr>\n",
       "      <th>2</th>\n",
       "      <td>コバルト文庫</td>\n",
       "      <td>15</td>\n",
       "    </tr>\n",
       "    <tr>\n",
       "      <th>3</th>\n",
       "      <td>Penguin</td>\n",
       "      <td>13</td>\n",
       "    </tr>\n",
       "    <tr>\n",
       "      <th>4</th>\n",
       "      <td>文春文庫</td>\n",
       "      <td>13</td>\n",
       "    </tr>\n",
       "    <tr>\n",
       "      <th>5</th>\n",
       "      <td>Penguin Classics</td>\n",
       "      <td>13</td>\n",
       "    </tr>\n",
       "    <tr>\n",
       "      <th>6</th>\n",
       "      <td>メディアワークス文庫</td>\n",
       "      <td>11</td>\n",
       "    </tr>\n",
       "    <tr>\n",
       "      <th>7</th>\n",
       "      <td>Picador</td>\n",
       "      <td>9</td>\n",
       "    </tr>\n",
       "    <tr>\n",
       "      <th>8</th>\n",
       "      <td>角川ホラー文庫</td>\n",
       "      <td>8</td>\n",
       "    </tr>\n",
       "    <tr>\n",
       "      <th>9</th>\n",
       "      <td>Gollancz</td>\n",
       "      <td>7</td>\n",
       "    </tr>\n",
       "  </tbody>\n",
       "</table>\n",
       "</div>"
      ],
      "text/plain": [
       "            Imprint  books/reads\n",
       "0              角川文庫           20\n",
       "1             講談社文庫           18\n",
       "2            コバルト文庫           15\n",
       "3           Penguin           13\n",
       "4              文春文庫           13\n",
       "5  Penguin Classics           13\n",
       "6        メディアワークス文庫           11\n",
       "7           Picador            9\n",
       "8           角川ホラー文庫            8\n",
       "9          Gollancz            7"
      ]
     },
     "execution_count": 84,
     "metadata": {},
     "output_type": "execute_result"
    }
   ],
   "source": [
    "# most popular imprints \n",
    "Imprint = first_reads[\"Imprint\"].value_counts().rename_axis (\"Imprint\").reset_index(name = \"books/reads\")\n",
    "Imprint[Imprint[\"books/reads\"]>1].head(10)"
   ]
  },
  {
   "cell_type": "code",
   "execution_count": 85,
   "id": "a28cf58b",
   "metadata": {
    "execution": {
     "iopub.execute_input": "2022-06-10T12:01:17.126612Z",
     "iopub.status.busy": "2022-06-10T12:01:17.125609Z",
     "iopub.status.idle": "2022-06-10T12:01:17.137816Z",
     "shell.execute_reply": "2022-06-10T12:01:17.136248Z"
    },
    "papermill": {
     "duration": 0.054725,
     "end_time": "2022-06-10T12:01:17.140814",
     "exception": false,
     "start_time": "2022-06-10T12:01:17.086089",
     "status": "completed"
    },
    "tags": []
   },
   "outputs": [
    {
     "name": "stdout",
     "output_type": "stream",
     "text": [
      "There are 43 imprints in the books consumed in Japanese.\n"
     ]
    }
   ],
   "source": [
    "Japanese_first_reads = first_reads[first_reads[\"language\"]==\"Japanese\"]\n",
    "Imprint = Japanese_first_reads[\"Imprint\"].value_counts().rename_axis (\"Imprint\").reset_index(name = \"books/reads\")\n",
    "print(\"There are\", Imprint[\"Imprint\"].nunique(),\"imprints in the books consumed in Japanese.\")"
   ]
  },
  {
   "cell_type": "code",
   "execution_count": 86,
   "id": "7050bee7",
   "metadata": {
    "execution": {
     "iopub.execute_input": "2022-06-10T12:01:17.221684Z",
     "iopub.status.busy": "2022-06-10T12:01:17.221165Z",
     "iopub.status.idle": "2022-06-10T12:01:17.232189Z",
     "shell.execute_reply": "2022-06-10T12:01:17.231115Z"
    },
    "papermill": {
     "duration": 0.054493,
     "end_time": "2022-06-10T12:01:17.235029",
     "exception": false,
     "start_time": "2022-06-10T12:01:17.180536",
     "status": "completed"
    },
    "tags": []
   },
   "outputs": [
    {
     "data": {
      "text/html": [
       "<div>\n",
       "<style scoped>\n",
       "    .dataframe tbody tr th:only-of-type {\n",
       "        vertical-align: middle;\n",
       "    }\n",
       "\n",
       "    .dataframe tbody tr th {\n",
       "        vertical-align: top;\n",
       "    }\n",
       "\n",
       "    .dataframe thead th {\n",
       "        text-align: right;\n",
       "    }\n",
       "</style>\n",
       "<table border=\"1\" class=\"dataframe\">\n",
       "  <thead>\n",
       "    <tr style=\"text-align: right;\">\n",
       "      <th></th>\n",
       "      <th>Imprint</th>\n",
       "      <th>books/reads</th>\n",
       "    </tr>\n",
       "  </thead>\n",
       "  <tbody>\n",
       "    <tr>\n",
       "      <th>0</th>\n",
       "      <td>角川文庫</td>\n",
       "      <td>20</td>\n",
       "    </tr>\n",
       "    <tr>\n",
       "      <th>1</th>\n",
       "      <td>講談社文庫</td>\n",
       "      <td>18</td>\n",
       "    </tr>\n",
       "    <tr>\n",
       "      <th>2</th>\n",
       "      <td>コバルト文庫</td>\n",
       "      <td>15</td>\n",
       "    </tr>\n",
       "    <tr>\n",
       "      <th>3</th>\n",
       "      <td>文春文庫</td>\n",
       "      <td>13</td>\n",
       "    </tr>\n",
       "    <tr>\n",
       "      <th>4</th>\n",
       "      <td>メディアワークス文庫</td>\n",
       "      <td>11</td>\n",
       "    </tr>\n",
       "    <tr>\n",
       "      <th>5</th>\n",
       "      <td>角川ホラー文庫</td>\n",
       "      <td>8</td>\n",
       "    </tr>\n",
       "    <tr>\n",
       "      <th>6</th>\n",
       "      <td>一迅社</td>\n",
       "      <td>6</td>\n",
       "    </tr>\n",
       "    <tr>\n",
       "      <th>7</th>\n",
       "      <td>新潮文庫</td>\n",
       "      <td>6</td>\n",
       "    </tr>\n",
       "    <tr>\n",
       "      <th>8</th>\n",
       "      <td>アスキーメディアワークス</td>\n",
       "      <td>5</td>\n",
       "    </tr>\n",
       "    <tr>\n",
       "      <th>9</th>\n",
       "      <td>光文社文庫</td>\n",
       "      <td>5</td>\n",
       "    </tr>\n",
       "  </tbody>\n",
       "</table>\n",
       "</div>"
      ],
      "text/plain": [
       "        Imprint  books/reads\n",
       "0          角川文庫           20\n",
       "1         講談社文庫           18\n",
       "2        コバルト文庫           15\n",
       "3          文春文庫           13\n",
       "4    メディアワークス文庫           11\n",
       "5       角川ホラー文庫            8\n",
       "6           一迅社            6\n",
       "7          新潮文庫            6\n",
       "8  アスキーメディアワークス            5\n",
       "9         光文社文庫            5"
      ]
     },
     "execution_count": 86,
     "metadata": {},
     "output_type": "execute_result"
    }
   ],
   "source": [
    "# most popular imprints for Japanese books\n",
    "Imprint[Imprint[\"books/reads\"]>1].head(10)"
   ]
  },
  {
   "cell_type": "code",
   "execution_count": 87,
   "id": "26cd1224",
   "metadata": {
    "execution": {
     "iopub.execute_input": "2022-06-10T12:01:17.312940Z",
     "iopub.status.busy": "2022-06-10T12:01:17.312069Z",
     "iopub.status.idle": "2022-06-10T12:01:17.323103Z",
     "shell.execute_reply": "2022-06-10T12:01:17.321937Z"
    },
    "papermill": {
     "duration": 0.05145,
     "end_time": "2022-06-10T12:01:17.325323",
     "exception": false,
     "start_time": "2022-06-10T12:01:17.273873",
     "status": "completed"
    },
    "tags": []
   },
   "outputs": [
    {
     "name": "stdout",
     "output_type": "stream",
     "text": [
      "There are 72 imprints in the books consumed in English.\n"
     ]
    }
   ],
   "source": [
    "English_first_reads = first_reads[first_reads[\"language\"]==\"English\"]\n",
    "Imprint = English_first_reads[\"Imprint\"].value_counts().rename_axis (\"Imprint\").reset_index(name = \"books/reads\")\n",
    "print(\"There are\", Imprint[\"Imprint\"].nunique(),\"imprints in the books consumed in English.\")"
   ]
  },
  {
   "cell_type": "code",
   "execution_count": 88,
   "id": "b3851ac6",
   "metadata": {
    "execution": {
     "iopub.execute_input": "2022-06-10T12:01:17.398142Z",
     "iopub.status.busy": "2022-06-10T12:01:17.397484Z",
     "iopub.status.idle": "2022-06-10T12:01:17.407901Z",
     "shell.execute_reply": "2022-06-10T12:01:17.407136Z"
    },
    "papermill": {
     "duration": 0.049508,
     "end_time": "2022-06-10T12:01:17.409893",
     "exception": false,
     "start_time": "2022-06-10T12:01:17.360385",
     "status": "completed"
    },
    "tags": []
   },
   "outputs": [
    {
     "data": {
      "text/html": [
       "<div>\n",
       "<style scoped>\n",
       "    .dataframe tbody tr th:only-of-type {\n",
       "        vertical-align: middle;\n",
       "    }\n",
       "\n",
       "    .dataframe tbody tr th {\n",
       "        vertical-align: top;\n",
       "    }\n",
       "\n",
       "    .dataframe thead th {\n",
       "        text-align: right;\n",
       "    }\n",
       "</style>\n",
       "<table border=\"1\" class=\"dataframe\">\n",
       "  <thead>\n",
       "    <tr style=\"text-align: right;\">\n",
       "      <th></th>\n",
       "      <th>Imprint</th>\n",
       "      <th>books/reads</th>\n",
       "    </tr>\n",
       "  </thead>\n",
       "  <tbody>\n",
       "    <tr>\n",
       "      <th>0</th>\n",
       "      <td>Penguin</td>\n",
       "      <td>13</td>\n",
       "    </tr>\n",
       "    <tr>\n",
       "      <th>1</th>\n",
       "      <td>Penguin Classics</td>\n",
       "      <td>12</td>\n",
       "    </tr>\n",
       "    <tr>\n",
       "      <th>2</th>\n",
       "      <td>Picador</td>\n",
       "      <td>9</td>\n",
       "    </tr>\n",
       "    <tr>\n",
       "      <th>3</th>\n",
       "      <td>Gollancz</td>\n",
       "      <td>7</td>\n",
       "    </tr>\n",
       "    <tr>\n",
       "      <th>4</th>\n",
       "      <td>Vintage Classics</td>\n",
       "      <td>6</td>\n",
       "    </tr>\n",
       "    <tr>\n",
       "      <th>5</th>\n",
       "      <td>HarperCollins</td>\n",
       "      <td>6</td>\n",
       "    </tr>\n",
       "    <tr>\n",
       "      <th>6</th>\n",
       "      <td>Wordsworth Editions</td>\n",
       "      <td>5</td>\n",
       "    </tr>\n",
       "    <tr>\n",
       "      <th>7</th>\n",
       "      <td>Orion Children's Books</td>\n",
       "      <td>5</td>\n",
       "    </tr>\n",
       "    <tr>\n",
       "      <th>8</th>\n",
       "      <td>Vintage</td>\n",
       "      <td>4</td>\n",
       "    </tr>\n",
       "    <tr>\n",
       "      <th>9</th>\n",
       "      <td>Black Swan</td>\n",
       "      <td>4</td>\n",
       "    </tr>\n",
       "  </tbody>\n",
       "</table>\n",
       "</div>"
      ],
      "text/plain": [
       "                  Imprint  books/reads\n",
       "0                 Penguin           13\n",
       "1        Penguin Classics           12\n",
       "2                 Picador            9\n",
       "3                Gollancz            7\n",
       "4        Vintage Classics            6\n",
       "5           HarperCollins            6\n",
       "6     Wordsworth Editions            5\n",
       "7  Orion Children's Books            5\n",
       "8                 Vintage            4\n",
       "9              Black Swan            4"
      ]
     },
     "execution_count": 88,
     "metadata": {},
     "output_type": "execute_result"
    }
   ],
   "source": [
    "# most popular imprints for English books\n",
    "Imprint[Imprint[\"books/reads\"]>1].head(10)"
   ]
  },
  {
   "cell_type": "code",
   "execution_count": 89,
   "id": "713cbc80",
   "metadata": {
    "execution": {
     "iopub.execute_input": "2022-06-10T12:01:17.487983Z",
     "iopub.status.busy": "2022-06-10T12:01:17.487285Z",
     "iopub.status.idle": "2022-06-10T12:01:17.540024Z",
     "shell.execute_reply": "2022-06-10T12:01:17.539028Z"
    },
    "papermill": {
     "duration": 0.094367,
     "end_time": "2022-06-10T12:01:17.542292",
     "exception": false,
     "start_time": "2022-06-10T12:01:17.447925",
     "status": "completed"
    },
    "tags": []
   },
   "outputs": [
    {
     "data": {
      "text/html": [
       "<div>                            <div id=\"bd9fa5cd-ae60-4dbf-9ef0-cd619f268114\" class=\"plotly-graph-div\" style=\"height:525px; width:100%;\"></div>            <script type=\"text/javascript\">                require([\"plotly\"], function(Plotly) {                    window.PLOTLYENV=window.PLOTLYENV || {};                                    if (document.getElementById(\"bd9fa5cd-ae60-4dbf-9ef0-cd619f268114\")) {                    Plotly.newPlot(                        \"bd9fa5cd-ae60-4dbf-9ef0-cd619f268114\",                        [{\"alignmentgroup\":\"True\",\"bingroup\":\"x\",\"hovertemplate\":\"genre=%{x}<br>count=%{y}<extra></extra>\",\"legendgroup\":\"\",\"marker\":{\"color\":\"#636efa\",\"pattern\":{\"shape\":\"\"}},\"name\":\"\",\"offsetgroup\":\"\",\"orientation\":\"v\",\"showlegend\":false,\"x\":[\"Mystery\",\"Mystery\",\"Humour/ Satire\",\"Mystery\",\"Literary Fiction\",\"Humour/ Satire\",\"Literary Fiction\",\"Humour/ Satire\",\"Fantasy\",\"Mystery\",\"Romance\",\"Science Fiction\",\"Romance\",\"Mystery\",\"Mystery\",\"Bildungsroman\",\"Self Help\",\"Picture book\",\"Mystery\",\"Literary Fiction\",\"Literary Fiction\",\"Magical realism\",\"Mystery\",\"Literary Fiction\",\"Mystery\",\"Mystery\",\"Mystery\",\"Mystery\",\"Humour/ Satire\",\"Fantasy\",\"Romance\",\"Fantasy\",\"Romance\",\"Romance\",\"Thriller\",\"Thriller\",\"Thriller\",\"Romance\",\"Romance\",\"Humour/ Satire\",\"Romance\",\"Economics\",\"Economics\",\"Horror\",\"Romance\",\"Horror\",\"Fantasy\",\"Contemporary\",\"Romance\",\"Fantasy\",\"Romance\",\"Mystery\",\"Romance\",\"Mathematics\",\"Romance\",\"Fantasy\",\"経済小説\",\"Romance\",\"Mystery\",\"Romance\",\"Fantasy\",\"Mystery\",\"Romance\",\"Mystery\",\"Fantasy\",\"Fantasy\",\"Romance\",\"Fantasy\",\"Magical realism\",\"Fantasy\",\"Fantasy\",\"science\",\"Romance\",\"Mystery\",\"Fantasy\",\"Horror\",\"Mystery\",\"経営書\",\"Fantasy\",\"Fantasy\",\"Humour/ Satire\",\"Fantasy\",\"Literary Fiction\",\"Mystery\",\"Fantasy\",\"Fantasy\",\"Mystery\",\"経済小説\",\"Horror\",\"Mystery\",\"Mystery\",\"Fantasy\",\"Horror\",\"Mystery\",\"Horror\",\"Economics\",\"Economics\",\"Literary Fiction\",\"Literary Fiction\",\"Romance\",\"Thriller\",\"Fantasy\",\"Horror\",\"Horror\",\"Fantasy\",\"Economics\",\"Horror\",\"Horror\",\"Mystery\",\"Fantasy\",\"Horror\",\"Mystery\",\"Literary Fiction\",\"Literary Fiction\",\"Romance\",\"Mystery\",\"Mystery\",\"Bildungsroman\",\"Bildungsroman\",\"Thriller\",\"Thriller\",\"Thriller\",\"Thriller\",\"Romance\",\"Horror\",\"Fantasy\",\"Psychology\",\"Mystery\",\"Contemporary\",\"Fantasy\",\"Mystery\",\"Fantasy\",\"Mystery\",\"仕事小説\",\"Fantasy\",\"Mystery\",\"Mystery\",\"Mystery\",\"Mystery\",\"仕事小説\",\"Science Fiction\",\"Science Fiction\",\"Mystery\",\"Contemporary\",\"Fantasy\",\"Self Help\",\"Economics\",\"Economics\",\"Thriller\",\"Mystery\",\"Mystery\",\"Fantasy\",\"Fantasy\",\"Romance\",\"Bildungsroman\",\"Bildungsroman\",\"Bildungsroman\",\"Bildungsroman\",\"Fashion\",\"Literary Fiction\",\"Mystery\",\"Thriller\",\"Science Fiction\",\"Horror\",\"Fantasy\",\"Humour Encyclopaedias\",\"Romance\",\"Bildungsroman\",\"science\",\"Romance\",\"Mystery\",\"Realist Literature\",\"Mystery\",\"Physical Chemistry\",\"science\",\"Science Fiction\",\"Thriller\",\"Data\",\"Mystery\",\"Mystery\",\"Law\",\"Romance\",\"Romance\",\"経済小説\",\"Mystery\",\"Mystery\",\"Thriller\",\"Romance\",\"Mystery\",\"Romance\",\"Fantasy\",\"Thriller\",\"Economics\",\"仕事小説\",\"Fantasy\",\"Economics\",\"Fantasy\",\"science\",\"Fantasy\",\"Contemporary\",\"Realist Literature\",\"Contemporary\",\"Thriller\",\"Thriller\",\"Humour/ Satire\",\"Fantasy\",\"Mystery\",\"Thriller\",\"Literary Fiction\",\"Science Fiction\",\"Self Help\",\"Self Help\",\"Fantasy\",\"Thriller\",\"Romance\",\"Fashion\",\"Fantasy\",\"Horror\",\"Mystery\",\"Romance\",\"Fantasy\",\"Mystery\",\"Romance\",\"Mystery\",\"Fantasy\",\"Contemporary\",\"Thriller\",\"Fantasy\",\"Romance\",\"Romance\",\"Fantasy\",\"Thriller\",\"Business\",\"Thriller\",\"Applied Physics\",\"Fantasy\",\"Mystery\",\"Fantasy\",\"Horror\",\"Thriller\",\"Romance\",\"Mystery\",\"Contemporary\",\"Realist Literature\",\"経済小説\",\"Mystery\",\"Bildungsroman\",\"Mystery\",\"History\",\"Adventure\",\"Mystery\",\"Mystery\",\"Literary Fiction\",\"Contemporary\",\"Thriller\",\"Contemporary\",\"Romance\",\"Fashion\",\"Humour/ Satire\",\"Mystery\",\"Mystery\",\"Fantasy\",\"Fantasy\",\"Humour/ Satire\",\"Romance\",\"Contemporary\",\"Horror\",\"Humour/ Satire\",\"History\",\"Romance\",\"Fantasy\",\"Thriller\",\"Thriller\",\"Data\",\"Law\",\"Self Help\",\"Biographies\",\"Mystery\",\"経済小説\",\"Data\",\"Realist Literature\",\"Bildungsroman\",\"Realist Literature\",\"Fantasy\",\"History\",\"Essays, Journals & Letters\",\"Fantasy\",\"Mystery\",\"Thriller\",\"Literary Fiction\",\"Contemporary\",\"Contemporary\",\"Mystery\",\"Mystery\",\"Fantasy\",\"Romance\",\"Mystery\",\"History\",\"Contemporary\",\"Humour/ Satire\",\"Mathematics\",\"Bildungsroman\",\"Fantasy\",\"Fantasy\",\"Romance\",\"Humour/ Satire\",\"Humour/ Satire\",\"Fantasy\",\"Romance\",\"Fantasy\",\"Realist Literature\",\"Fantasy\",\"Fantasy\",\"Mystery\",\"Psychology\",\"Mystery\",\"Mystery\",\"Data\",\"Economics\",\"Psychology\",\"Architectural History\",\"Literary Fiction\",\"Fantasy\",\"Romance\",\"Humour/ Satire\",\"Humour/ Satire\",\"Fashion\",\"Humour/ Satire\"],\"xaxis\":\"x\",\"yaxis\":\"y\",\"type\":\"histogram\"}],                        {\"template\":{\"data\":{\"histogram2dcontour\":[{\"type\":\"histogram2dcontour\",\"colorbar\":{\"outlinewidth\":0,\"ticks\":\"\"},\"colorscale\":[[0.0,\"#0d0887\"],[0.1111111111111111,\"#46039f\"],[0.2222222222222222,\"#7201a8\"],[0.3333333333333333,\"#9c179e\"],[0.4444444444444444,\"#bd3786\"],[0.5555555555555556,\"#d8576b\"],[0.6666666666666666,\"#ed7953\"],[0.7777777777777778,\"#fb9f3a\"],[0.8888888888888888,\"#fdca26\"],[1.0,\"#f0f921\"]]}],\"choropleth\":[{\"type\":\"choropleth\",\"colorbar\":{\"outlinewidth\":0,\"ticks\":\"\"}}],\"histogram2d\":[{\"type\":\"histogram2d\",\"colorbar\":{\"outlinewidth\":0,\"ticks\":\"\"},\"colorscale\":[[0.0,\"#0d0887\"],[0.1111111111111111,\"#46039f\"],[0.2222222222222222,\"#7201a8\"],[0.3333333333333333,\"#9c179e\"],[0.4444444444444444,\"#bd3786\"],[0.5555555555555556,\"#d8576b\"],[0.6666666666666666,\"#ed7953\"],[0.7777777777777778,\"#fb9f3a\"],[0.8888888888888888,\"#fdca26\"],[1.0,\"#f0f921\"]]}],\"heatmap\":[{\"type\":\"heatmap\",\"colorbar\":{\"outlinewidth\":0,\"ticks\":\"\"},\"colorscale\":[[0.0,\"#0d0887\"],[0.1111111111111111,\"#46039f\"],[0.2222222222222222,\"#7201a8\"],[0.3333333333333333,\"#9c179e\"],[0.4444444444444444,\"#bd3786\"],[0.5555555555555556,\"#d8576b\"],[0.6666666666666666,\"#ed7953\"],[0.7777777777777778,\"#fb9f3a\"],[0.8888888888888888,\"#fdca26\"],[1.0,\"#f0f921\"]]}],\"heatmapgl\":[{\"type\":\"heatmapgl\",\"colorbar\":{\"outlinewidth\":0,\"ticks\":\"\"},\"colorscale\":[[0.0,\"#0d0887\"],[0.1111111111111111,\"#46039f\"],[0.2222222222222222,\"#7201a8\"],[0.3333333333333333,\"#9c179e\"],[0.4444444444444444,\"#bd3786\"],[0.5555555555555556,\"#d8576b\"],[0.6666666666666666,\"#ed7953\"],[0.7777777777777778,\"#fb9f3a\"],[0.8888888888888888,\"#fdca26\"],[1.0,\"#f0f921\"]]}],\"contourcarpet\":[{\"type\":\"contourcarpet\",\"colorbar\":{\"outlinewidth\":0,\"ticks\":\"\"}}],\"contour\":[{\"type\":\"contour\",\"colorbar\":{\"outlinewidth\":0,\"ticks\":\"\"},\"colorscale\":[[0.0,\"#0d0887\"],[0.1111111111111111,\"#46039f\"],[0.2222222222222222,\"#7201a8\"],[0.3333333333333333,\"#9c179e\"],[0.4444444444444444,\"#bd3786\"],[0.5555555555555556,\"#d8576b\"],[0.6666666666666666,\"#ed7953\"],[0.7777777777777778,\"#fb9f3a\"],[0.8888888888888888,\"#fdca26\"],[1.0,\"#f0f921\"]]}],\"surface\":[{\"type\":\"surface\",\"colorbar\":{\"outlinewidth\":0,\"ticks\":\"\"},\"colorscale\":[[0.0,\"#0d0887\"],[0.1111111111111111,\"#46039f\"],[0.2222222222222222,\"#7201a8\"],[0.3333333333333333,\"#9c179e\"],[0.4444444444444444,\"#bd3786\"],[0.5555555555555556,\"#d8576b\"],[0.6666666666666666,\"#ed7953\"],[0.7777777777777778,\"#fb9f3a\"],[0.8888888888888888,\"#fdca26\"],[1.0,\"#f0f921\"]]}],\"mesh3d\":[{\"type\":\"mesh3d\",\"colorbar\":{\"outlinewidth\":0,\"ticks\":\"\"}}],\"scatter\":[{\"fillpattern\":{\"fillmode\":\"overlay\",\"size\":10,\"solidity\":0.2},\"type\":\"scatter\"}],\"parcoords\":[{\"type\":\"parcoords\",\"line\":{\"colorbar\":{\"outlinewidth\":0,\"ticks\":\"\"}}}],\"scatterpolargl\":[{\"type\":\"scatterpolargl\",\"marker\":{\"colorbar\":{\"outlinewidth\":0,\"ticks\":\"\"}}}],\"bar\":[{\"error_x\":{\"color\":\"#2a3f5f\"},\"error_y\":{\"color\":\"#2a3f5f\"},\"marker\":{\"line\":{\"color\":\"#E5ECF6\",\"width\":0.5},\"pattern\":{\"fillmode\":\"overlay\",\"size\":10,\"solidity\":0.2}},\"type\":\"bar\"}],\"scattergeo\":[{\"type\":\"scattergeo\",\"marker\":{\"colorbar\":{\"outlinewidth\":0,\"ticks\":\"\"}}}],\"scatterpolar\":[{\"type\":\"scatterpolar\",\"marker\":{\"colorbar\":{\"outlinewidth\":0,\"ticks\":\"\"}}}],\"histogram\":[{\"marker\":{\"pattern\":{\"fillmode\":\"overlay\",\"size\":10,\"solidity\":0.2}},\"type\":\"histogram\"}],\"scattergl\":[{\"type\":\"scattergl\",\"marker\":{\"colorbar\":{\"outlinewidth\":0,\"ticks\":\"\"}}}],\"scatter3d\":[{\"type\":\"scatter3d\",\"line\":{\"colorbar\":{\"outlinewidth\":0,\"ticks\":\"\"}},\"marker\":{\"colorbar\":{\"outlinewidth\":0,\"ticks\":\"\"}}}],\"scattermapbox\":[{\"type\":\"scattermapbox\",\"marker\":{\"colorbar\":{\"outlinewidth\":0,\"ticks\":\"\"}}}],\"scatterternary\":[{\"type\":\"scatterternary\",\"marker\":{\"colorbar\":{\"outlinewidth\":0,\"ticks\":\"\"}}}],\"scattercarpet\":[{\"type\":\"scattercarpet\",\"marker\":{\"colorbar\":{\"outlinewidth\":0,\"ticks\":\"\"}}}],\"carpet\":[{\"aaxis\":{\"endlinecolor\":\"#2a3f5f\",\"gridcolor\":\"white\",\"linecolor\":\"white\",\"minorgridcolor\":\"white\",\"startlinecolor\":\"#2a3f5f\"},\"baxis\":{\"endlinecolor\":\"#2a3f5f\",\"gridcolor\":\"white\",\"linecolor\":\"white\",\"minorgridcolor\":\"white\",\"startlinecolor\":\"#2a3f5f\"},\"type\":\"carpet\"}],\"table\":[{\"cells\":{\"fill\":{\"color\":\"#EBF0F8\"},\"line\":{\"color\":\"white\"}},\"header\":{\"fill\":{\"color\":\"#C8D4E3\"},\"line\":{\"color\":\"white\"}},\"type\":\"table\"}],\"barpolar\":[{\"marker\":{\"line\":{\"color\":\"#E5ECF6\",\"width\":0.5},\"pattern\":{\"fillmode\":\"overlay\",\"size\":10,\"solidity\":0.2}},\"type\":\"barpolar\"}],\"pie\":[{\"automargin\":true,\"type\":\"pie\"}]},\"layout\":{\"autotypenumbers\":\"strict\",\"colorway\":[\"#636efa\",\"#EF553B\",\"#00cc96\",\"#ab63fa\",\"#FFA15A\",\"#19d3f3\",\"#FF6692\",\"#B6E880\",\"#FF97FF\",\"#FECB52\"],\"font\":{\"color\":\"#2a3f5f\"},\"hovermode\":\"closest\",\"hoverlabel\":{\"align\":\"left\"},\"paper_bgcolor\":\"white\",\"plot_bgcolor\":\"#E5ECF6\",\"polar\":{\"bgcolor\":\"#E5ECF6\",\"angularaxis\":{\"gridcolor\":\"white\",\"linecolor\":\"white\",\"ticks\":\"\"},\"radialaxis\":{\"gridcolor\":\"white\",\"linecolor\":\"white\",\"ticks\":\"\"}},\"ternary\":{\"bgcolor\":\"#E5ECF6\",\"aaxis\":{\"gridcolor\":\"white\",\"linecolor\":\"white\",\"ticks\":\"\"},\"baxis\":{\"gridcolor\":\"white\",\"linecolor\":\"white\",\"ticks\":\"\"},\"caxis\":{\"gridcolor\":\"white\",\"linecolor\":\"white\",\"ticks\":\"\"}},\"coloraxis\":{\"colorbar\":{\"outlinewidth\":0,\"ticks\":\"\"}},\"colorscale\":{\"sequential\":[[0.0,\"#0d0887\"],[0.1111111111111111,\"#46039f\"],[0.2222222222222222,\"#7201a8\"],[0.3333333333333333,\"#9c179e\"],[0.4444444444444444,\"#bd3786\"],[0.5555555555555556,\"#d8576b\"],[0.6666666666666666,\"#ed7953\"],[0.7777777777777778,\"#fb9f3a\"],[0.8888888888888888,\"#fdca26\"],[1.0,\"#f0f921\"]],\"sequentialminus\":[[0.0,\"#0d0887\"],[0.1111111111111111,\"#46039f\"],[0.2222222222222222,\"#7201a8\"],[0.3333333333333333,\"#9c179e\"],[0.4444444444444444,\"#bd3786\"],[0.5555555555555556,\"#d8576b\"],[0.6666666666666666,\"#ed7953\"],[0.7777777777777778,\"#fb9f3a\"],[0.8888888888888888,\"#fdca26\"],[1.0,\"#f0f921\"]],\"diverging\":[[0,\"#8e0152\"],[0.1,\"#c51b7d\"],[0.2,\"#de77ae\"],[0.3,\"#f1b6da\"],[0.4,\"#fde0ef\"],[0.5,\"#f7f7f7\"],[0.6,\"#e6f5d0\"],[0.7,\"#b8e186\"],[0.8,\"#7fbc41\"],[0.9,\"#4d9221\"],[1,\"#276419\"]]},\"xaxis\":{\"gridcolor\":\"white\",\"linecolor\":\"white\",\"ticks\":\"\",\"title\":{\"standoff\":15},\"zerolinecolor\":\"white\",\"automargin\":true,\"zerolinewidth\":2},\"yaxis\":{\"gridcolor\":\"white\",\"linecolor\":\"white\",\"ticks\":\"\",\"title\":{\"standoff\":15},\"zerolinecolor\":\"white\",\"automargin\":true,\"zerolinewidth\":2},\"scene\":{\"xaxis\":{\"backgroundcolor\":\"#E5ECF6\",\"gridcolor\":\"white\",\"linecolor\":\"white\",\"showbackground\":true,\"ticks\":\"\",\"zerolinecolor\":\"white\",\"gridwidth\":2},\"yaxis\":{\"backgroundcolor\":\"#E5ECF6\",\"gridcolor\":\"white\",\"linecolor\":\"white\",\"showbackground\":true,\"ticks\":\"\",\"zerolinecolor\":\"white\",\"gridwidth\":2},\"zaxis\":{\"backgroundcolor\":\"#E5ECF6\",\"gridcolor\":\"white\",\"linecolor\":\"white\",\"showbackground\":true,\"ticks\":\"\",\"zerolinecolor\":\"white\",\"gridwidth\":2}},\"shapedefaults\":{\"line\":{\"color\":\"#2a3f5f\"}},\"annotationdefaults\":{\"arrowcolor\":\"#2a3f5f\",\"arrowhead\":0,\"arrowwidth\":1},\"geo\":{\"bgcolor\":\"white\",\"landcolor\":\"#E5ECF6\",\"subunitcolor\":\"white\",\"showland\":true,\"showlakes\":true,\"lakecolor\":\"white\"},\"title\":{\"x\":0.05},\"mapbox\":{\"style\":\"light\"}}},\"xaxis\":{\"anchor\":\"y\",\"domain\":[0.0,1.0],\"title\":{\"text\":\"genre\"}},\"yaxis\":{\"anchor\":\"x\",\"domain\":[0.0,1.0],\"title\":{\"text\":\"count\"}},\"legend\":{\"tracegroupgap\":0},\"margin\":{\"t\":60},\"barmode\":\"relative\"},                        {\"responsive\": true}                    ).then(function(){\n",
       "                            \n",
       "var gd = document.getElementById('bd9fa5cd-ae60-4dbf-9ef0-cd619f268114');\n",
       "var x = new MutationObserver(function (mutations, observer) {{\n",
       "        var display = window.getComputedStyle(gd).display;\n",
       "        if (!display || display === 'none') {{\n",
       "            console.log([gd, 'removed!']);\n",
       "            Plotly.purge(gd);\n",
       "            observer.disconnect();\n",
       "        }}\n",
       "}});\n",
       "\n",
       "// Listen for the removal of the full notebook cells\n",
       "var notebookContainer = gd.closest('#notebook-container');\n",
       "if (notebookContainer) {{\n",
       "    x.observe(notebookContainer, {childList: true});\n",
       "}}\n",
       "\n",
       "// Listen for the clearing of the current output cell\n",
       "var outputEl = gd.closest('.output');\n",
       "if (outputEl) {{\n",
       "    x.observe(outputEl, {childList: true});\n",
       "}}\n",
       "\n",
       "                        })                };                });            </script>        </div>"
      ]
     },
     "metadata": {},
     "output_type": "display_data"
    }
   ],
   "source": [
    "# distribution of genres for books with a known completion date\n",
    "px.histogram( Completed, x = \"genre\")"
   ]
  },
  {
   "cell_type": "code",
   "execution_count": 90,
   "id": "74c6eaeb",
   "metadata": {
    "execution": {
     "iopub.execute_input": "2022-06-10T12:01:17.619130Z",
     "iopub.status.busy": "2022-06-10T12:01:17.618767Z",
     "iopub.status.idle": "2022-06-10T12:01:17.675478Z",
     "shell.execute_reply": "2022-06-10T12:01:17.674487Z"
    },
    "papermill": {
     "duration": 0.097354,
     "end_time": "2022-06-10T12:01:17.677749",
     "exception": false,
     "start_time": "2022-06-10T12:01:17.580395",
     "status": "completed"
    },
    "tags": []
   },
   "outputs": [
    {
     "data": {
      "text/html": [
       "<div>                            <div id=\"548bf953-28e1-4d72-91bf-30187b7a3061\" class=\"plotly-graph-div\" style=\"height:525px; width:100%;\"></div>            <script type=\"text/javascript\">                require([\"plotly\"], function(Plotly) {                    window.PLOTLYENV=window.PLOTLYENV || {};                                    if (document.getElementById(\"548bf953-28e1-4d72-91bf-30187b7a3061\")) {                    Plotly.newPlot(                        \"548bf953-28e1-4d72-91bf-30187b7a3061\",                        [{\"alignmentgroup\":\"True\",\"bingroup\":\"x\",\"hovertemplate\":\"genre=%{x}<br>count=%{y}<extra></extra>\",\"legendgroup\":\"\",\"marker\":{\"color\":\"#636efa\",\"pattern\":{\"shape\":\"\"}},\"name\":\"\",\"offsetgroup\":\"\",\"orientation\":\"v\",\"showlegend\":false,\"x\":[\"Mystery\",\"Mystery\",\"Humour/ Satire\",\"Mystery\",\"Literary Fiction\",\"Humour/ Satire\",\"Fantasy\",\"Mystery\",\"Mystery\",\"Mystery\",\"Picture book\",\"Mystery\",\"Mystery\",\"Mystery\",\"Mystery\",\"Mystery\",\"Fantasy\",\"Romance\",\"Fantasy\",\"Romance\",\"Romance\",\"Thriller\",\"Thriller\",\"Thriller\",\"Romance\",\"Romance\",\"Humour/ Satire\",\"Romance\",\"Horror\",\"Romance\",\"Fantasy\",\"Contemporary\",\"Romance\",\"Romance\",\"Mystery\",\"Romance\",\"Romance\",\"経済小説\",\"Romance\",\"Mystery\",\"Romance\",\"Fantasy\",\"Mystery\",\"Romance\",\"Mystery\",\"Fantasy\",\"Fantasy\",\"Romance\",\"Fantasy\",\"Magical realism\",\"Fantasy\",\"Fantasy\",\"Romance\",\"Mystery\",\"Mystery\",\"経営書\",\"Fantasy\",\"Humour/ Satire\",\"Mystery\",\"Fantasy\",\"Fantasy\",\"Mystery\",\"経済小説\",\"Horror\",\"Mystery\",\"Mystery\",\"Fantasy\",\"Horror\",\"Mystery\",\"Horror\",\"Literary Fiction\",\"Romance\",\"Thriller\",\"Fantasy\",\"Horror\",\"Horror\",\"Fantasy\",\"Horror\",\"Horror\",\"Mystery\",\"Fantasy\",\"Horror\",\"Mystery\",\"Literary Fiction\",\"Mystery\",\"Bildungsroman\",\"Horror\",\"Contemporary\",\"Fantasy\",\"Mystery\",\"Fantasy\",\"Mystery\",\"仕事小説\",\"Fantasy\",\"Mystery\",\"Mystery\",\"Mystery\",\"Mystery\",\"仕事小説\",\"Mystery\",\"Contemporary\",\"Fantasy\",\"Mystery\",\"Fantasy\",\"Romance\",\"Literary Fiction\",\"Mystery\",\"Thriller\",\"Science Fiction\",\"Horror\",\"Humour Encyclopaedias\",\"Romance\",\"Realist Literature\",\"Thriller\",\"Romance\",\"Romance\",\"経済小説\",\"Mystery\",\"Thriller\",\"Romance\",\"Mystery\",\"Romance\",\"Fantasy\",\"Thriller\",\"仕事小説\",\"Fantasy\",\"Contemporary\",\"Realist Literature\",\"Contemporary\",\"Thriller\",\"Thriller\",\"Mystery\",\"Thriller\",\"Fantasy\",\"Romance\",\"Horror\",\"Mystery\",\"Romance\",\"Fantasy\",\"Mystery\",\"Romance\",\"Mystery\",\"Fantasy\",\"Contemporary\",\"Thriller\",\"Fantasy\",\"Romance\",\"Romance\",\"Mystery\",\"Horror\",\"Thriller\",\"Romance\",\"Realist Literature\",\"経済小説\",\"Mystery\",\"Mystery\",\"Contemporary\",\"Romance\",\"Mystery\",\"Mystery\",\"Romance\",\"Contemporary\",\"Thriller\",\"経済小説\",\"Realist Literature\",\"Bildungsroman\"],\"xaxis\":\"x\",\"yaxis\":\"y\",\"type\":\"histogram\"}],                        {\"template\":{\"data\":{\"histogram2dcontour\":[{\"type\":\"histogram2dcontour\",\"colorbar\":{\"outlinewidth\":0,\"ticks\":\"\"},\"colorscale\":[[0.0,\"#0d0887\"],[0.1111111111111111,\"#46039f\"],[0.2222222222222222,\"#7201a8\"],[0.3333333333333333,\"#9c179e\"],[0.4444444444444444,\"#bd3786\"],[0.5555555555555556,\"#d8576b\"],[0.6666666666666666,\"#ed7953\"],[0.7777777777777778,\"#fb9f3a\"],[0.8888888888888888,\"#fdca26\"],[1.0,\"#f0f921\"]]}],\"choropleth\":[{\"type\":\"choropleth\",\"colorbar\":{\"outlinewidth\":0,\"ticks\":\"\"}}],\"histogram2d\":[{\"type\":\"histogram2d\",\"colorbar\":{\"outlinewidth\":0,\"ticks\":\"\"},\"colorscale\":[[0.0,\"#0d0887\"],[0.1111111111111111,\"#46039f\"],[0.2222222222222222,\"#7201a8\"],[0.3333333333333333,\"#9c179e\"],[0.4444444444444444,\"#bd3786\"],[0.5555555555555556,\"#d8576b\"],[0.6666666666666666,\"#ed7953\"],[0.7777777777777778,\"#fb9f3a\"],[0.8888888888888888,\"#fdca26\"],[1.0,\"#f0f921\"]]}],\"heatmap\":[{\"type\":\"heatmap\",\"colorbar\":{\"outlinewidth\":0,\"ticks\":\"\"},\"colorscale\":[[0.0,\"#0d0887\"],[0.1111111111111111,\"#46039f\"],[0.2222222222222222,\"#7201a8\"],[0.3333333333333333,\"#9c179e\"],[0.4444444444444444,\"#bd3786\"],[0.5555555555555556,\"#d8576b\"],[0.6666666666666666,\"#ed7953\"],[0.7777777777777778,\"#fb9f3a\"],[0.8888888888888888,\"#fdca26\"],[1.0,\"#f0f921\"]]}],\"heatmapgl\":[{\"type\":\"heatmapgl\",\"colorbar\":{\"outlinewidth\":0,\"ticks\":\"\"},\"colorscale\":[[0.0,\"#0d0887\"],[0.1111111111111111,\"#46039f\"],[0.2222222222222222,\"#7201a8\"],[0.3333333333333333,\"#9c179e\"],[0.4444444444444444,\"#bd3786\"],[0.5555555555555556,\"#d8576b\"],[0.6666666666666666,\"#ed7953\"],[0.7777777777777778,\"#fb9f3a\"],[0.8888888888888888,\"#fdca26\"],[1.0,\"#f0f921\"]]}],\"contourcarpet\":[{\"type\":\"contourcarpet\",\"colorbar\":{\"outlinewidth\":0,\"ticks\":\"\"}}],\"contour\":[{\"type\":\"contour\",\"colorbar\":{\"outlinewidth\":0,\"ticks\":\"\"},\"colorscale\":[[0.0,\"#0d0887\"],[0.1111111111111111,\"#46039f\"],[0.2222222222222222,\"#7201a8\"],[0.3333333333333333,\"#9c179e\"],[0.4444444444444444,\"#bd3786\"],[0.5555555555555556,\"#d8576b\"],[0.6666666666666666,\"#ed7953\"],[0.7777777777777778,\"#fb9f3a\"],[0.8888888888888888,\"#fdca26\"],[1.0,\"#f0f921\"]]}],\"surface\":[{\"type\":\"surface\",\"colorbar\":{\"outlinewidth\":0,\"ticks\":\"\"},\"colorscale\":[[0.0,\"#0d0887\"],[0.1111111111111111,\"#46039f\"],[0.2222222222222222,\"#7201a8\"],[0.3333333333333333,\"#9c179e\"],[0.4444444444444444,\"#bd3786\"],[0.5555555555555556,\"#d8576b\"],[0.6666666666666666,\"#ed7953\"],[0.7777777777777778,\"#fb9f3a\"],[0.8888888888888888,\"#fdca26\"],[1.0,\"#f0f921\"]]}],\"mesh3d\":[{\"type\":\"mesh3d\",\"colorbar\":{\"outlinewidth\":0,\"ticks\":\"\"}}],\"scatter\":[{\"fillpattern\":{\"fillmode\":\"overlay\",\"size\":10,\"solidity\":0.2},\"type\":\"scatter\"}],\"parcoords\":[{\"type\":\"parcoords\",\"line\":{\"colorbar\":{\"outlinewidth\":0,\"ticks\":\"\"}}}],\"scatterpolargl\":[{\"type\":\"scatterpolargl\",\"marker\":{\"colorbar\":{\"outlinewidth\":0,\"ticks\":\"\"}}}],\"bar\":[{\"error_x\":{\"color\":\"#2a3f5f\"},\"error_y\":{\"color\":\"#2a3f5f\"},\"marker\":{\"line\":{\"color\":\"#E5ECF6\",\"width\":0.5},\"pattern\":{\"fillmode\":\"overlay\",\"size\":10,\"solidity\":0.2}},\"type\":\"bar\"}],\"scattergeo\":[{\"type\":\"scattergeo\",\"marker\":{\"colorbar\":{\"outlinewidth\":0,\"ticks\":\"\"}}}],\"scatterpolar\":[{\"type\":\"scatterpolar\",\"marker\":{\"colorbar\":{\"outlinewidth\":0,\"ticks\":\"\"}}}],\"histogram\":[{\"marker\":{\"pattern\":{\"fillmode\":\"overlay\",\"size\":10,\"solidity\":0.2}},\"type\":\"histogram\"}],\"scattergl\":[{\"type\":\"scattergl\",\"marker\":{\"colorbar\":{\"outlinewidth\":0,\"ticks\":\"\"}}}],\"scatter3d\":[{\"type\":\"scatter3d\",\"line\":{\"colorbar\":{\"outlinewidth\":0,\"ticks\":\"\"}},\"marker\":{\"colorbar\":{\"outlinewidth\":0,\"ticks\":\"\"}}}],\"scattermapbox\":[{\"type\":\"scattermapbox\",\"marker\":{\"colorbar\":{\"outlinewidth\":0,\"ticks\":\"\"}}}],\"scatterternary\":[{\"type\":\"scatterternary\",\"marker\":{\"colorbar\":{\"outlinewidth\":0,\"ticks\":\"\"}}}],\"scattercarpet\":[{\"type\":\"scattercarpet\",\"marker\":{\"colorbar\":{\"outlinewidth\":0,\"ticks\":\"\"}}}],\"carpet\":[{\"aaxis\":{\"endlinecolor\":\"#2a3f5f\",\"gridcolor\":\"white\",\"linecolor\":\"white\",\"minorgridcolor\":\"white\",\"startlinecolor\":\"#2a3f5f\"},\"baxis\":{\"endlinecolor\":\"#2a3f5f\",\"gridcolor\":\"white\",\"linecolor\":\"white\",\"minorgridcolor\":\"white\",\"startlinecolor\":\"#2a3f5f\"},\"type\":\"carpet\"}],\"table\":[{\"cells\":{\"fill\":{\"color\":\"#EBF0F8\"},\"line\":{\"color\":\"white\"}},\"header\":{\"fill\":{\"color\":\"#C8D4E3\"},\"line\":{\"color\":\"white\"}},\"type\":\"table\"}],\"barpolar\":[{\"marker\":{\"line\":{\"color\":\"#E5ECF6\",\"width\":0.5},\"pattern\":{\"fillmode\":\"overlay\",\"size\":10,\"solidity\":0.2}},\"type\":\"barpolar\"}],\"pie\":[{\"automargin\":true,\"type\":\"pie\"}]},\"layout\":{\"autotypenumbers\":\"strict\",\"colorway\":[\"#636efa\",\"#EF553B\",\"#00cc96\",\"#ab63fa\",\"#FFA15A\",\"#19d3f3\",\"#FF6692\",\"#B6E880\",\"#FF97FF\",\"#FECB52\"],\"font\":{\"color\":\"#2a3f5f\"},\"hovermode\":\"closest\",\"hoverlabel\":{\"align\":\"left\"},\"paper_bgcolor\":\"white\",\"plot_bgcolor\":\"#E5ECF6\",\"polar\":{\"bgcolor\":\"#E5ECF6\",\"angularaxis\":{\"gridcolor\":\"white\",\"linecolor\":\"white\",\"ticks\":\"\"},\"radialaxis\":{\"gridcolor\":\"white\",\"linecolor\":\"white\",\"ticks\":\"\"}},\"ternary\":{\"bgcolor\":\"#E5ECF6\",\"aaxis\":{\"gridcolor\":\"white\",\"linecolor\":\"white\",\"ticks\":\"\"},\"baxis\":{\"gridcolor\":\"white\",\"linecolor\":\"white\",\"ticks\":\"\"},\"caxis\":{\"gridcolor\":\"white\",\"linecolor\":\"white\",\"ticks\":\"\"}},\"coloraxis\":{\"colorbar\":{\"outlinewidth\":0,\"ticks\":\"\"}},\"colorscale\":{\"sequential\":[[0.0,\"#0d0887\"],[0.1111111111111111,\"#46039f\"],[0.2222222222222222,\"#7201a8\"],[0.3333333333333333,\"#9c179e\"],[0.4444444444444444,\"#bd3786\"],[0.5555555555555556,\"#d8576b\"],[0.6666666666666666,\"#ed7953\"],[0.7777777777777778,\"#fb9f3a\"],[0.8888888888888888,\"#fdca26\"],[1.0,\"#f0f921\"]],\"sequentialminus\":[[0.0,\"#0d0887\"],[0.1111111111111111,\"#46039f\"],[0.2222222222222222,\"#7201a8\"],[0.3333333333333333,\"#9c179e\"],[0.4444444444444444,\"#bd3786\"],[0.5555555555555556,\"#d8576b\"],[0.6666666666666666,\"#ed7953\"],[0.7777777777777778,\"#fb9f3a\"],[0.8888888888888888,\"#fdca26\"],[1.0,\"#f0f921\"]],\"diverging\":[[0,\"#8e0152\"],[0.1,\"#c51b7d\"],[0.2,\"#de77ae\"],[0.3,\"#f1b6da\"],[0.4,\"#fde0ef\"],[0.5,\"#f7f7f7\"],[0.6,\"#e6f5d0\"],[0.7,\"#b8e186\"],[0.8,\"#7fbc41\"],[0.9,\"#4d9221\"],[1,\"#276419\"]]},\"xaxis\":{\"gridcolor\":\"white\",\"linecolor\":\"white\",\"ticks\":\"\",\"title\":{\"standoff\":15},\"zerolinecolor\":\"white\",\"automargin\":true,\"zerolinewidth\":2},\"yaxis\":{\"gridcolor\":\"white\",\"linecolor\":\"white\",\"ticks\":\"\",\"title\":{\"standoff\":15},\"zerolinecolor\":\"white\",\"automargin\":true,\"zerolinewidth\":2},\"scene\":{\"xaxis\":{\"backgroundcolor\":\"#E5ECF6\",\"gridcolor\":\"white\",\"linecolor\":\"white\",\"showbackground\":true,\"ticks\":\"\",\"zerolinecolor\":\"white\",\"gridwidth\":2},\"yaxis\":{\"backgroundcolor\":\"#E5ECF6\",\"gridcolor\":\"white\",\"linecolor\":\"white\",\"showbackground\":true,\"ticks\":\"\",\"zerolinecolor\":\"white\",\"gridwidth\":2},\"zaxis\":{\"backgroundcolor\":\"#E5ECF6\",\"gridcolor\":\"white\",\"linecolor\":\"white\",\"showbackground\":true,\"ticks\":\"\",\"zerolinecolor\":\"white\",\"gridwidth\":2}},\"shapedefaults\":{\"line\":{\"color\":\"#2a3f5f\"}},\"annotationdefaults\":{\"arrowcolor\":\"#2a3f5f\",\"arrowhead\":0,\"arrowwidth\":1},\"geo\":{\"bgcolor\":\"white\",\"landcolor\":\"#E5ECF6\",\"subunitcolor\":\"white\",\"showland\":true,\"showlakes\":true,\"lakecolor\":\"white\"},\"title\":{\"x\":0.05},\"mapbox\":{\"style\":\"light\"}}},\"xaxis\":{\"anchor\":\"y\",\"domain\":[0.0,1.0],\"title\":{\"text\":\"genre\"}},\"yaxis\":{\"anchor\":\"x\",\"domain\":[0.0,1.0],\"title\":{\"text\":\"count\"}},\"legend\":{\"tracegroupgap\":0},\"margin\":{\"t\":60},\"barmode\":\"relative\"},                        {\"responsive\": true}                    ).then(function(){\n",
       "                            \n",
       "var gd = document.getElementById('548bf953-28e1-4d72-91bf-30187b7a3061');\n",
       "var x = new MutationObserver(function (mutations, observer) {{\n",
       "        var display = window.getComputedStyle(gd).display;\n",
       "        if (!display || display === 'none') {{\n",
       "            console.log([gd, 'removed!']);\n",
       "            Plotly.purge(gd);\n",
       "            observer.disconnect();\n",
       "        }}\n",
       "}});\n",
       "\n",
       "// Listen for the removal of the full notebook cells\n",
       "var notebookContainer = gd.closest('#notebook-container');\n",
       "if (notebookContainer) {{\n",
       "    x.observe(notebookContainer, {childList: true});\n",
       "}}\n",
       "\n",
       "// Listen for the clearing of the current output cell\n",
       "var outputEl = gd.closest('.output');\n",
       "if (outputEl) {{\n",
       "    x.observe(outputEl, {childList: true});\n",
       "}}\n",
       "\n",
       "                        })                };                });            </script>        </div>"
      ]
     },
     "metadata": {},
     "output_type": "display_data"
    }
   ],
   "source": [
    "# distribution of genres for Japanese books with a known completion date\n",
    "px.histogram( Completed[Completed[\"language\"]==\"Japanese\"], x = \"genre\")"
   ]
  },
  {
   "cell_type": "code",
   "execution_count": 91,
   "id": "895d1567",
   "metadata": {
    "execution": {
     "iopub.execute_input": "2022-06-10T12:01:17.760789Z",
     "iopub.status.busy": "2022-06-10T12:01:17.759662Z",
     "iopub.status.idle": "2022-06-10T12:01:17.815812Z",
     "shell.execute_reply": "2022-06-10T12:01:17.815062Z"
    },
    "papermill": {
     "duration": 0.099612,
     "end_time": "2022-06-10T12:01:17.818031",
     "exception": false,
     "start_time": "2022-06-10T12:01:17.718419",
     "status": "completed"
    },
    "tags": []
   },
   "outputs": [
    {
     "data": {
      "text/html": [
       "<div>                            <div id=\"daebb0c0-f1ed-4ef6-b173-aa95a4eac48e\" class=\"plotly-graph-div\" style=\"height:525px; width:100%;\"></div>            <script type=\"text/javascript\">                require([\"plotly\"], function(Plotly) {                    window.PLOTLYENV=window.PLOTLYENV || {};                                    if (document.getElementById(\"daebb0c0-f1ed-4ef6-b173-aa95a4eac48e\")) {                    Plotly.newPlot(                        \"daebb0c0-f1ed-4ef6-b173-aa95a4eac48e\",                        [{\"alignmentgroup\":\"True\",\"bingroup\":\"x\",\"hovertemplate\":\"genre=%{x}<br>count=%{y}<extra></extra>\",\"legendgroup\":\"\",\"marker\":{\"color\":\"#636efa\",\"pattern\":{\"shape\":\"\"}},\"name\":\"\",\"offsetgroup\":\"\",\"orientation\":\"v\",\"showlegend\":false,\"x\":[\"Literary Fiction\",\"Humour/ Satire\",\"Romance\",\"Science Fiction\",\"Romance\",\"Bildungsroman\",\"Self Help\",\"Mystery\",\"Literary Fiction\",\"Literary Fiction\",\"Magical realism\",\"Literary Fiction\",\"Humour/ Satire\",\"Economics\",\"Economics\",\"Horror\",\"Fantasy\",\"Mathematics\",\"Fantasy\",\"science\",\"Fantasy\",\"Horror\",\"Fantasy\",\"Fantasy\",\"Literary Fiction\",\"Economics\",\"Economics\",\"Literary Fiction\",\"Economics\",\"Literary Fiction\",\"Romance\",\"Mystery\",\"Bildungsroman\",\"Thriller\",\"Thriller\",\"Thriller\",\"Thriller\",\"Romance\",\"Fantasy\",\"Psychology\",\"Mystery\",\"Science Fiction\",\"Science Fiction\",\"Self Help\",\"Economics\",\"Economics\",\"Thriller\",\"Mystery\",\"Fantasy\",\"Bildungsroman\",\"Bildungsroman\",\"Bildungsroman\",\"Bildungsroman\",\"Fashion\",\"Fantasy\",\"Romance\",\"Bildungsroman\",\"science\",\"Mystery\",\"Mystery\",\"Physical Chemistry\",\"science\",\"Science Fiction\",\"Data\",\"Mystery\",\"Mystery\",\"Law\",\"Mystery\",\"Economics\",\"Fantasy\",\"Economics\",\"Fantasy\",\"science\",\"Humour/ Satire\",\"Fantasy\",\"Literary Fiction\",\"Science Fiction\",\"Self Help\",\"Self Help\",\"Thriller\",\"Fashion\",\"Fantasy\",\"Fantasy\",\"Thriller\",\"Business\",\"Thriller\",\"Applied Physics\",\"Fantasy\",\"Fantasy\",\"Mystery\",\"Contemporary\",\"Bildungsroman\",\"History\",\"Adventure\",\"Mystery\",\"Mystery\",\"Literary Fiction\",\"Thriller\",\"Contemporary\",\"Fashion\",\"Humour/ Satire\",\"Fantasy\",\"Fantasy\",\"Humour/ Satire\",\"Horror\",\"Humour/ Satire\",\"History\",\"Romance\",\"Fantasy\",\"Thriller\",\"Data\",\"Law\",\"Self Help\",\"Biographies\",\"Mystery\",\"Data\",\"Realist Literature\",\"Bildungsroman\",\"Fantasy\",\"History\",\"Essays, Journals & Letters\",\"Fantasy\",\"Mystery\",\"Thriller\",\"Literary Fiction\",\"Contemporary\",\"Contemporary\",\"Mystery\",\"Mystery\",\"Fantasy\",\"Romance\",\"Mystery\",\"History\",\"Contemporary\",\"Humour/ Satire\",\"Mathematics\",\"Fantasy\",\"Fantasy\",\"Romance\",\"Humour/ Satire\",\"Humour/ Satire\",\"Fantasy\",\"Romance\",\"Fantasy\",\"Realist Literature\",\"Fantasy\",\"Fantasy\",\"Mystery\",\"Psychology\",\"Mystery\",\"Mystery\",\"Data\",\"Economics\",\"Psychology\",\"Architectural History\",\"Literary Fiction\",\"Fantasy\",\"Romance\",\"Humour/ Satire\",\"Humour/ Satire\",\"Fashion\",\"Humour/ Satire\"],\"xaxis\":\"x\",\"yaxis\":\"y\",\"type\":\"histogram\"}],                        {\"template\":{\"data\":{\"histogram2dcontour\":[{\"type\":\"histogram2dcontour\",\"colorbar\":{\"outlinewidth\":0,\"ticks\":\"\"},\"colorscale\":[[0.0,\"#0d0887\"],[0.1111111111111111,\"#46039f\"],[0.2222222222222222,\"#7201a8\"],[0.3333333333333333,\"#9c179e\"],[0.4444444444444444,\"#bd3786\"],[0.5555555555555556,\"#d8576b\"],[0.6666666666666666,\"#ed7953\"],[0.7777777777777778,\"#fb9f3a\"],[0.8888888888888888,\"#fdca26\"],[1.0,\"#f0f921\"]]}],\"choropleth\":[{\"type\":\"choropleth\",\"colorbar\":{\"outlinewidth\":0,\"ticks\":\"\"}}],\"histogram2d\":[{\"type\":\"histogram2d\",\"colorbar\":{\"outlinewidth\":0,\"ticks\":\"\"},\"colorscale\":[[0.0,\"#0d0887\"],[0.1111111111111111,\"#46039f\"],[0.2222222222222222,\"#7201a8\"],[0.3333333333333333,\"#9c179e\"],[0.4444444444444444,\"#bd3786\"],[0.5555555555555556,\"#d8576b\"],[0.6666666666666666,\"#ed7953\"],[0.7777777777777778,\"#fb9f3a\"],[0.8888888888888888,\"#fdca26\"],[1.0,\"#f0f921\"]]}],\"heatmap\":[{\"type\":\"heatmap\",\"colorbar\":{\"outlinewidth\":0,\"ticks\":\"\"},\"colorscale\":[[0.0,\"#0d0887\"],[0.1111111111111111,\"#46039f\"],[0.2222222222222222,\"#7201a8\"],[0.3333333333333333,\"#9c179e\"],[0.4444444444444444,\"#bd3786\"],[0.5555555555555556,\"#d8576b\"],[0.6666666666666666,\"#ed7953\"],[0.7777777777777778,\"#fb9f3a\"],[0.8888888888888888,\"#fdca26\"],[1.0,\"#f0f921\"]]}],\"heatmapgl\":[{\"type\":\"heatmapgl\",\"colorbar\":{\"outlinewidth\":0,\"ticks\":\"\"},\"colorscale\":[[0.0,\"#0d0887\"],[0.1111111111111111,\"#46039f\"],[0.2222222222222222,\"#7201a8\"],[0.3333333333333333,\"#9c179e\"],[0.4444444444444444,\"#bd3786\"],[0.5555555555555556,\"#d8576b\"],[0.6666666666666666,\"#ed7953\"],[0.7777777777777778,\"#fb9f3a\"],[0.8888888888888888,\"#fdca26\"],[1.0,\"#f0f921\"]]}],\"contourcarpet\":[{\"type\":\"contourcarpet\",\"colorbar\":{\"outlinewidth\":0,\"ticks\":\"\"}}],\"contour\":[{\"type\":\"contour\",\"colorbar\":{\"outlinewidth\":0,\"ticks\":\"\"},\"colorscale\":[[0.0,\"#0d0887\"],[0.1111111111111111,\"#46039f\"],[0.2222222222222222,\"#7201a8\"],[0.3333333333333333,\"#9c179e\"],[0.4444444444444444,\"#bd3786\"],[0.5555555555555556,\"#d8576b\"],[0.6666666666666666,\"#ed7953\"],[0.7777777777777778,\"#fb9f3a\"],[0.8888888888888888,\"#fdca26\"],[1.0,\"#f0f921\"]]}],\"surface\":[{\"type\":\"surface\",\"colorbar\":{\"outlinewidth\":0,\"ticks\":\"\"},\"colorscale\":[[0.0,\"#0d0887\"],[0.1111111111111111,\"#46039f\"],[0.2222222222222222,\"#7201a8\"],[0.3333333333333333,\"#9c179e\"],[0.4444444444444444,\"#bd3786\"],[0.5555555555555556,\"#d8576b\"],[0.6666666666666666,\"#ed7953\"],[0.7777777777777778,\"#fb9f3a\"],[0.8888888888888888,\"#fdca26\"],[1.0,\"#f0f921\"]]}],\"mesh3d\":[{\"type\":\"mesh3d\",\"colorbar\":{\"outlinewidth\":0,\"ticks\":\"\"}}],\"scatter\":[{\"fillpattern\":{\"fillmode\":\"overlay\",\"size\":10,\"solidity\":0.2},\"type\":\"scatter\"}],\"parcoords\":[{\"type\":\"parcoords\",\"line\":{\"colorbar\":{\"outlinewidth\":0,\"ticks\":\"\"}}}],\"scatterpolargl\":[{\"type\":\"scatterpolargl\",\"marker\":{\"colorbar\":{\"outlinewidth\":0,\"ticks\":\"\"}}}],\"bar\":[{\"error_x\":{\"color\":\"#2a3f5f\"},\"error_y\":{\"color\":\"#2a3f5f\"},\"marker\":{\"line\":{\"color\":\"#E5ECF6\",\"width\":0.5},\"pattern\":{\"fillmode\":\"overlay\",\"size\":10,\"solidity\":0.2}},\"type\":\"bar\"}],\"scattergeo\":[{\"type\":\"scattergeo\",\"marker\":{\"colorbar\":{\"outlinewidth\":0,\"ticks\":\"\"}}}],\"scatterpolar\":[{\"type\":\"scatterpolar\",\"marker\":{\"colorbar\":{\"outlinewidth\":0,\"ticks\":\"\"}}}],\"histogram\":[{\"marker\":{\"pattern\":{\"fillmode\":\"overlay\",\"size\":10,\"solidity\":0.2}},\"type\":\"histogram\"}],\"scattergl\":[{\"type\":\"scattergl\",\"marker\":{\"colorbar\":{\"outlinewidth\":0,\"ticks\":\"\"}}}],\"scatter3d\":[{\"type\":\"scatter3d\",\"line\":{\"colorbar\":{\"outlinewidth\":0,\"ticks\":\"\"}},\"marker\":{\"colorbar\":{\"outlinewidth\":0,\"ticks\":\"\"}}}],\"scattermapbox\":[{\"type\":\"scattermapbox\",\"marker\":{\"colorbar\":{\"outlinewidth\":0,\"ticks\":\"\"}}}],\"scatterternary\":[{\"type\":\"scatterternary\",\"marker\":{\"colorbar\":{\"outlinewidth\":0,\"ticks\":\"\"}}}],\"scattercarpet\":[{\"type\":\"scattercarpet\",\"marker\":{\"colorbar\":{\"outlinewidth\":0,\"ticks\":\"\"}}}],\"carpet\":[{\"aaxis\":{\"endlinecolor\":\"#2a3f5f\",\"gridcolor\":\"white\",\"linecolor\":\"white\",\"minorgridcolor\":\"white\",\"startlinecolor\":\"#2a3f5f\"},\"baxis\":{\"endlinecolor\":\"#2a3f5f\",\"gridcolor\":\"white\",\"linecolor\":\"white\",\"minorgridcolor\":\"white\",\"startlinecolor\":\"#2a3f5f\"},\"type\":\"carpet\"}],\"table\":[{\"cells\":{\"fill\":{\"color\":\"#EBF0F8\"},\"line\":{\"color\":\"white\"}},\"header\":{\"fill\":{\"color\":\"#C8D4E3\"},\"line\":{\"color\":\"white\"}},\"type\":\"table\"}],\"barpolar\":[{\"marker\":{\"line\":{\"color\":\"#E5ECF6\",\"width\":0.5},\"pattern\":{\"fillmode\":\"overlay\",\"size\":10,\"solidity\":0.2}},\"type\":\"barpolar\"}],\"pie\":[{\"automargin\":true,\"type\":\"pie\"}]},\"layout\":{\"autotypenumbers\":\"strict\",\"colorway\":[\"#636efa\",\"#EF553B\",\"#00cc96\",\"#ab63fa\",\"#FFA15A\",\"#19d3f3\",\"#FF6692\",\"#B6E880\",\"#FF97FF\",\"#FECB52\"],\"font\":{\"color\":\"#2a3f5f\"},\"hovermode\":\"closest\",\"hoverlabel\":{\"align\":\"left\"},\"paper_bgcolor\":\"white\",\"plot_bgcolor\":\"#E5ECF6\",\"polar\":{\"bgcolor\":\"#E5ECF6\",\"angularaxis\":{\"gridcolor\":\"white\",\"linecolor\":\"white\",\"ticks\":\"\"},\"radialaxis\":{\"gridcolor\":\"white\",\"linecolor\":\"white\",\"ticks\":\"\"}},\"ternary\":{\"bgcolor\":\"#E5ECF6\",\"aaxis\":{\"gridcolor\":\"white\",\"linecolor\":\"white\",\"ticks\":\"\"},\"baxis\":{\"gridcolor\":\"white\",\"linecolor\":\"white\",\"ticks\":\"\"},\"caxis\":{\"gridcolor\":\"white\",\"linecolor\":\"white\",\"ticks\":\"\"}},\"coloraxis\":{\"colorbar\":{\"outlinewidth\":0,\"ticks\":\"\"}},\"colorscale\":{\"sequential\":[[0.0,\"#0d0887\"],[0.1111111111111111,\"#46039f\"],[0.2222222222222222,\"#7201a8\"],[0.3333333333333333,\"#9c179e\"],[0.4444444444444444,\"#bd3786\"],[0.5555555555555556,\"#d8576b\"],[0.6666666666666666,\"#ed7953\"],[0.7777777777777778,\"#fb9f3a\"],[0.8888888888888888,\"#fdca26\"],[1.0,\"#f0f921\"]],\"sequentialminus\":[[0.0,\"#0d0887\"],[0.1111111111111111,\"#46039f\"],[0.2222222222222222,\"#7201a8\"],[0.3333333333333333,\"#9c179e\"],[0.4444444444444444,\"#bd3786\"],[0.5555555555555556,\"#d8576b\"],[0.6666666666666666,\"#ed7953\"],[0.7777777777777778,\"#fb9f3a\"],[0.8888888888888888,\"#fdca26\"],[1.0,\"#f0f921\"]],\"diverging\":[[0,\"#8e0152\"],[0.1,\"#c51b7d\"],[0.2,\"#de77ae\"],[0.3,\"#f1b6da\"],[0.4,\"#fde0ef\"],[0.5,\"#f7f7f7\"],[0.6,\"#e6f5d0\"],[0.7,\"#b8e186\"],[0.8,\"#7fbc41\"],[0.9,\"#4d9221\"],[1,\"#276419\"]]},\"xaxis\":{\"gridcolor\":\"white\",\"linecolor\":\"white\",\"ticks\":\"\",\"title\":{\"standoff\":15},\"zerolinecolor\":\"white\",\"automargin\":true,\"zerolinewidth\":2},\"yaxis\":{\"gridcolor\":\"white\",\"linecolor\":\"white\",\"ticks\":\"\",\"title\":{\"standoff\":15},\"zerolinecolor\":\"white\",\"automargin\":true,\"zerolinewidth\":2},\"scene\":{\"xaxis\":{\"backgroundcolor\":\"#E5ECF6\",\"gridcolor\":\"white\",\"linecolor\":\"white\",\"showbackground\":true,\"ticks\":\"\",\"zerolinecolor\":\"white\",\"gridwidth\":2},\"yaxis\":{\"backgroundcolor\":\"#E5ECF6\",\"gridcolor\":\"white\",\"linecolor\":\"white\",\"showbackground\":true,\"ticks\":\"\",\"zerolinecolor\":\"white\",\"gridwidth\":2},\"zaxis\":{\"backgroundcolor\":\"#E5ECF6\",\"gridcolor\":\"white\",\"linecolor\":\"white\",\"showbackground\":true,\"ticks\":\"\",\"zerolinecolor\":\"white\",\"gridwidth\":2}},\"shapedefaults\":{\"line\":{\"color\":\"#2a3f5f\"}},\"annotationdefaults\":{\"arrowcolor\":\"#2a3f5f\",\"arrowhead\":0,\"arrowwidth\":1},\"geo\":{\"bgcolor\":\"white\",\"landcolor\":\"#E5ECF6\",\"subunitcolor\":\"white\",\"showland\":true,\"showlakes\":true,\"lakecolor\":\"white\"},\"title\":{\"x\":0.05},\"mapbox\":{\"style\":\"light\"}}},\"xaxis\":{\"anchor\":\"y\",\"domain\":[0.0,1.0],\"title\":{\"text\":\"genre\"}},\"yaxis\":{\"anchor\":\"x\",\"domain\":[0.0,1.0],\"title\":{\"text\":\"count\"}},\"legend\":{\"tracegroupgap\":0},\"margin\":{\"t\":60},\"barmode\":\"relative\"},                        {\"responsive\": true}                    ).then(function(){\n",
       "                            \n",
       "var gd = document.getElementById('daebb0c0-f1ed-4ef6-b173-aa95a4eac48e');\n",
       "var x = new MutationObserver(function (mutations, observer) {{\n",
       "        var display = window.getComputedStyle(gd).display;\n",
       "        if (!display || display === 'none') {{\n",
       "            console.log([gd, 'removed!']);\n",
       "            Plotly.purge(gd);\n",
       "            observer.disconnect();\n",
       "        }}\n",
       "}});\n",
       "\n",
       "// Listen for the removal of the full notebook cells\n",
       "var notebookContainer = gd.closest('#notebook-container');\n",
       "if (notebookContainer) {{\n",
       "    x.observe(notebookContainer, {childList: true});\n",
       "}}\n",
       "\n",
       "// Listen for the clearing of the current output cell\n",
       "var outputEl = gd.closest('.output');\n",
       "if (outputEl) {{\n",
       "    x.observe(outputEl, {childList: true});\n",
       "}}\n",
       "\n",
       "                        })                };                });            </script>        </div>"
      ]
     },
     "metadata": {},
     "output_type": "display_data"
    }
   ],
   "source": [
    "# distribution of genres for English books with a known completion date\n",
    "px.histogram( Completed[Completed[\"language\"]==\"English\"], x = \"genre\")"
   ]
  },
  {
   "cell_type": "code",
   "execution_count": 92,
   "id": "1910468c",
   "metadata": {
    "execution": {
     "iopub.execute_input": "2022-06-10T12:01:17.900403Z",
     "iopub.status.busy": "2022-06-10T12:01:17.899736Z",
     "iopub.status.idle": "2022-06-10T12:01:17.956376Z",
     "shell.execute_reply": "2022-06-10T12:01:17.955388Z"
    },
    "papermill": {
     "duration": 0.100359,
     "end_time": "2022-06-10T12:01:17.958612",
     "exception": false,
     "start_time": "2022-06-10T12:01:17.858253",
     "status": "completed"
    },
    "tags": []
   },
   "outputs": [
    {
     "data": {
      "text/html": [
       "<div>                            <div id=\"ea6f5285-9d3a-457e-b9da-e949b73e539d\" class=\"plotly-graph-div\" style=\"height:525px; width:100%;\"></div>            <script type=\"text/javascript\">                require([\"plotly\"], function(Plotly) {                    window.PLOTLYENV=window.PLOTLYENV || {};                                    if (document.getElementById(\"ea6f5285-9d3a-457e-b9da-e949b73e539d\")) {                    Plotly.newPlot(                        \"ea6f5285-9d3a-457e-b9da-e949b73e539d\",                        [{\"alignmentgroup\":\"True\",\"bingroup\":\"x\",\"hovertemplate\":\"genre=%{x}<br>count=%{y}<extra></extra>\",\"legendgroup\":\"\",\"marker\":{\"color\":\"#636efa\",\"pattern\":{\"shape\":\"\"}},\"name\":\"\",\"offsetgroup\":\"\",\"orientation\":\"v\",\"showlegend\":false,\"x\":[\"Humour/ Satire\",\"Mystery\",\"Science Fiction\",\"Self Help\",\"Literary Fiction\",\"Mystery\",\"Literary Fiction\",\"Mystery\",\"Romance\",\"Romance\",\"Romance\",\"Romance\",\"Romance\",\"Romance\",\"Romance\",\"Mystery\",\"Fantasy\",\"Romance\",\"Mystery\",\"Mystery\",\"Fantasy\",\"Mystery\",\"Literary Fiction\",\"Literary Fiction\",\"Mystery\",\"Thriller\",\"Thriller\",\"Thriller\",\"Mystery\",\"Mystery\",\"Science Fiction\",\"Fantasy\",\"Romance\",\"Literary Fiction\",\"Romance\",\"Romance\",\"Mystery\",\"Romance\",\"Mystery\",\"Romance\",\"Romance\",\"Fantasy\",\"Fantasy\",\"Fantasy\",\"Literary Fiction\",\"Romance\",\"Mystery\",\"Fantasy\",\"Mystery\",\"Fantasy\",\"Fantasy\",\"Romance\",\"Mystery\",\"Humour/ Satire\",\"Fantasy\"],\"xaxis\":\"x\",\"yaxis\":\"y\",\"type\":\"histogram\"}],                        {\"template\":{\"data\":{\"histogram2dcontour\":[{\"type\":\"histogram2dcontour\",\"colorbar\":{\"outlinewidth\":0,\"ticks\":\"\"},\"colorscale\":[[0.0,\"#0d0887\"],[0.1111111111111111,\"#46039f\"],[0.2222222222222222,\"#7201a8\"],[0.3333333333333333,\"#9c179e\"],[0.4444444444444444,\"#bd3786\"],[0.5555555555555556,\"#d8576b\"],[0.6666666666666666,\"#ed7953\"],[0.7777777777777778,\"#fb9f3a\"],[0.8888888888888888,\"#fdca26\"],[1.0,\"#f0f921\"]]}],\"choropleth\":[{\"type\":\"choropleth\",\"colorbar\":{\"outlinewidth\":0,\"ticks\":\"\"}}],\"histogram2d\":[{\"type\":\"histogram2d\",\"colorbar\":{\"outlinewidth\":0,\"ticks\":\"\"},\"colorscale\":[[0.0,\"#0d0887\"],[0.1111111111111111,\"#46039f\"],[0.2222222222222222,\"#7201a8\"],[0.3333333333333333,\"#9c179e\"],[0.4444444444444444,\"#bd3786\"],[0.5555555555555556,\"#d8576b\"],[0.6666666666666666,\"#ed7953\"],[0.7777777777777778,\"#fb9f3a\"],[0.8888888888888888,\"#fdca26\"],[1.0,\"#f0f921\"]]}],\"heatmap\":[{\"type\":\"heatmap\",\"colorbar\":{\"outlinewidth\":0,\"ticks\":\"\"},\"colorscale\":[[0.0,\"#0d0887\"],[0.1111111111111111,\"#46039f\"],[0.2222222222222222,\"#7201a8\"],[0.3333333333333333,\"#9c179e\"],[0.4444444444444444,\"#bd3786\"],[0.5555555555555556,\"#d8576b\"],[0.6666666666666666,\"#ed7953\"],[0.7777777777777778,\"#fb9f3a\"],[0.8888888888888888,\"#fdca26\"],[1.0,\"#f0f921\"]]}],\"heatmapgl\":[{\"type\":\"heatmapgl\",\"colorbar\":{\"outlinewidth\":0,\"ticks\":\"\"},\"colorscale\":[[0.0,\"#0d0887\"],[0.1111111111111111,\"#46039f\"],[0.2222222222222222,\"#7201a8\"],[0.3333333333333333,\"#9c179e\"],[0.4444444444444444,\"#bd3786\"],[0.5555555555555556,\"#d8576b\"],[0.6666666666666666,\"#ed7953\"],[0.7777777777777778,\"#fb9f3a\"],[0.8888888888888888,\"#fdca26\"],[1.0,\"#f0f921\"]]}],\"contourcarpet\":[{\"type\":\"contourcarpet\",\"colorbar\":{\"outlinewidth\":0,\"ticks\":\"\"}}],\"contour\":[{\"type\":\"contour\",\"colorbar\":{\"outlinewidth\":0,\"ticks\":\"\"},\"colorscale\":[[0.0,\"#0d0887\"],[0.1111111111111111,\"#46039f\"],[0.2222222222222222,\"#7201a8\"],[0.3333333333333333,\"#9c179e\"],[0.4444444444444444,\"#bd3786\"],[0.5555555555555556,\"#d8576b\"],[0.6666666666666666,\"#ed7953\"],[0.7777777777777778,\"#fb9f3a\"],[0.8888888888888888,\"#fdca26\"],[1.0,\"#f0f921\"]]}],\"surface\":[{\"type\":\"surface\",\"colorbar\":{\"outlinewidth\":0,\"ticks\":\"\"},\"colorscale\":[[0.0,\"#0d0887\"],[0.1111111111111111,\"#46039f\"],[0.2222222222222222,\"#7201a8\"],[0.3333333333333333,\"#9c179e\"],[0.4444444444444444,\"#bd3786\"],[0.5555555555555556,\"#d8576b\"],[0.6666666666666666,\"#ed7953\"],[0.7777777777777778,\"#fb9f3a\"],[0.8888888888888888,\"#fdca26\"],[1.0,\"#f0f921\"]]}],\"mesh3d\":[{\"type\":\"mesh3d\",\"colorbar\":{\"outlinewidth\":0,\"ticks\":\"\"}}],\"scatter\":[{\"fillpattern\":{\"fillmode\":\"overlay\",\"size\":10,\"solidity\":0.2},\"type\":\"scatter\"}],\"parcoords\":[{\"type\":\"parcoords\",\"line\":{\"colorbar\":{\"outlinewidth\":0,\"ticks\":\"\"}}}],\"scatterpolargl\":[{\"type\":\"scatterpolargl\",\"marker\":{\"colorbar\":{\"outlinewidth\":0,\"ticks\":\"\"}}}],\"bar\":[{\"error_x\":{\"color\":\"#2a3f5f\"},\"error_y\":{\"color\":\"#2a3f5f\"},\"marker\":{\"line\":{\"color\":\"#E5ECF6\",\"width\":0.5},\"pattern\":{\"fillmode\":\"overlay\",\"size\":10,\"solidity\":0.2}},\"type\":\"bar\"}],\"scattergeo\":[{\"type\":\"scattergeo\",\"marker\":{\"colorbar\":{\"outlinewidth\":0,\"ticks\":\"\"}}}],\"scatterpolar\":[{\"type\":\"scatterpolar\",\"marker\":{\"colorbar\":{\"outlinewidth\":0,\"ticks\":\"\"}}}],\"histogram\":[{\"marker\":{\"pattern\":{\"fillmode\":\"overlay\",\"size\":10,\"solidity\":0.2}},\"type\":\"histogram\"}],\"scattergl\":[{\"type\":\"scattergl\",\"marker\":{\"colorbar\":{\"outlinewidth\":0,\"ticks\":\"\"}}}],\"scatter3d\":[{\"type\":\"scatter3d\",\"line\":{\"colorbar\":{\"outlinewidth\":0,\"ticks\":\"\"}},\"marker\":{\"colorbar\":{\"outlinewidth\":0,\"ticks\":\"\"}}}],\"scattermapbox\":[{\"type\":\"scattermapbox\",\"marker\":{\"colorbar\":{\"outlinewidth\":0,\"ticks\":\"\"}}}],\"scatterternary\":[{\"type\":\"scatterternary\",\"marker\":{\"colorbar\":{\"outlinewidth\":0,\"ticks\":\"\"}}}],\"scattercarpet\":[{\"type\":\"scattercarpet\",\"marker\":{\"colorbar\":{\"outlinewidth\":0,\"ticks\":\"\"}}}],\"carpet\":[{\"aaxis\":{\"endlinecolor\":\"#2a3f5f\",\"gridcolor\":\"white\",\"linecolor\":\"white\",\"minorgridcolor\":\"white\",\"startlinecolor\":\"#2a3f5f\"},\"baxis\":{\"endlinecolor\":\"#2a3f5f\",\"gridcolor\":\"white\",\"linecolor\":\"white\",\"minorgridcolor\":\"white\",\"startlinecolor\":\"#2a3f5f\"},\"type\":\"carpet\"}],\"table\":[{\"cells\":{\"fill\":{\"color\":\"#EBF0F8\"},\"line\":{\"color\":\"white\"}},\"header\":{\"fill\":{\"color\":\"#C8D4E3\"},\"line\":{\"color\":\"white\"}},\"type\":\"table\"}],\"barpolar\":[{\"marker\":{\"line\":{\"color\":\"#E5ECF6\",\"width\":0.5},\"pattern\":{\"fillmode\":\"overlay\",\"size\":10,\"solidity\":0.2}},\"type\":\"barpolar\"}],\"pie\":[{\"automargin\":true,\"type\":\"pie\"}]},\"layout\":{\"autotypenumbers\":\"strict\",\"colorway\":[\"#636efa\",\"#EF553B\",\"#00cc96\",\"#ab63fa\",\"#FFA15A\",\"#19d3f3\",\"#FF6692\",\"#B6E880\",\"#FF97FF\",\"#FECB52\"],\"font\":{\"color\":\"#2a3f5f\"},\"hovermode\":\"closest\",\"hoverlabel\":{\"align\":\"left\"},\"paper_bgcolor\":\"white\",\"plot_bgcolor\":\"#E5ECF6\",\"polar\":{\"bgcolor\":\"#E5ECF6\",\"angularaxis\":{\"gridcolor\":\"white\",\"linecolor\":\"white\",\"ticks\":\"\"},\"radialaxis\":{\"gridcolor\":\"white\",\"linecolor\":\"white\",\"ticks\":\"\"}},\"ternary\":{\"bgcolor\":\"#E5ECF6\",\"aaxis\":{\"gridcolor\":\"white\",\"linecolor\":\"white\",\"ticks\":\"\"},\"baxis\":{\"gridcolor\":\"white\",\"linecolor\":\"white\",\"ticks\":\"\"},\"caxis\":{\"gridcolor\":\"white\",\"linecolor\":\"white\",\"ticks\":\"\"}},\"coloraxis\":{\"colorbar\":{\"outlinewidth\":0,\"ticks\":\"\"}},\"colorscale\":{\"sequential\":[[0.0,\"#0d0887\"],[0.1111111111111111,\"#46039f\"],[0.2222222222222222,\"#7201a8\"],[0.3333333333333333,\"#9c179e\"],[0.4444444444444444,\"#bd3786\"],[0.5555555555555556,\"#d8576b\"],[0.6666666666666666,\"#ed7953\"],[0.7777777777777778,\"#fb9f3a\"],[0.8888888888888888,\"#fdca26\"],[1.0,\"#f0f921\"]],\"sequentialminus\":[[0.0,\"#0d0887\"],[0.1111111111111111,\"#46039f\"],[0.2222222222222222,\"#7201a8\"],[0.3333333333333333,\"#9c179e\"],[0.4444444444444444,\"#bd3786\"],[0.5555555555555556,\"#d8576b\"],[0.6666666666666666,\"#ed7953\"],[0.7777777777777778,\"#fb9f3a\"],[0.8888888888888888,\"#fdca26\"],[1.0,\"#f0f921\"]],\"diverging\":[[0,\"#8e0152\"],[0.1,\"#c51b7d\"],[0.2,\"#de77ae\"],[0.3,\"#f1b6da\"],[0.4,\"#fde0ef\"],[0.5,\"#f7f7f7\"],[0.6,\"#e6f5d0\"],[0.7,\"#b8e186\"],[0.8,\"#7fbc41\"],[0.9,\"#4d9221\"],[1,\"#276419\"]]},\"xaxis\":{\"gridcolor\":\"white\",\"linecolor\":\"white\",\"ticks\":\"\",\"title\":{\"standoff\":15},\"zerolinecolor\":\"white\",\"automargin\":true,\"zerolinewidth\":2},\"yaxis\":{\"gridcolor\":\"white\",\"linecolor\":\"white\",\"ticks\":\"\",\"title\":{\"standoff\":15},\"zerolinecolor\":\"white\",\"automargin\":true,\"zerolinewidth\":2},\"scene\":{\"xaxis\":{\"backgroundcolor\":\"#E5ECF6\",\"gridcolor\":\"white\",\"linecolor\":\"white\",\"showbackground\":true,\"ticks\":\"\",\"zerolinecolor\":\"white\",\"gridwidth\":2},\"yaxis\":{\"backgroundcolor\":\"#E5ECF6\",\"gridcolor\":\"white\",\"linecolor\":\"white\",\"showbackground\":true,\"ticks\":\"\",\"zerolinecolor\":\"white\",\"gridwidth\":2},\"zaxis\":{\"backgroundcolor\":\"#E5ECF6\",\"gridcolor\":\"white\",\"linecolor\":\"white\",\"showbackground\":true,\"ticks\":\"\",\"zerolinecolor\":\"white\",\"gridwidth\":2}},\"shapedefaults\":{\"line\":{\"color\":\"#2a3f5f\"}},\"annotationdefaults\":{\"arrowcolor\":\"#2a3f5f\",\"arrowhead\":0,\"arrowwidth\":1},\"geo\":{\"bgcolor\":\"white\",\"landcolor\":\"#E5ECF6\",\"subunitcolor\":\"white\",\"showland\":true,\"showlakes\":true,\"lakecolor\":\"white\"},\"title\":{\"x\":0.05},\"mapbox\":{\"style\":\"light\"}}},\"xaxis\":{\"anchor\":\"y\",\"domain\":[0.0,1.0],\"title\":{\"text\":\"genre\"}},\"yaxis\":{\"anchor\":\"x\",\"domain\":[0.0,1.0],\"title\":{\"text\":\"count\"}},\"legend\":{\"tracegroupgap\":0},\"margin\":{\"t\":60},\"barmode\":\"relative\"},                        {\"responsive\": true}                    ).then(function(){\n",
       "                            \n",
       "var gd = document.getElementById('ea6f5285-9d3a-457e-b9da-e949b73e539d');\n",
       "var x = new MutationObserver(function (mutations, observer) {{\n",
       "        var display = window.getComputedStyle(gd).display;\n",
       "        if (!display || display === 'none') {{\n",
       "            console.log([gd, 'removed!']);\n",
       "            Plotly.purge(gd);\n",
       "            observer.disconnect();\n",
       "        }}\n",
       "}});\n",
       "\n",
       "// Listen for the removal of the full notebook cells\n",
       "var notebookContainer = gd.closest('#notebook-container');\n",
       "if (notebookContainer) {{\n",
       "    x.observe(notebookContainer, {childList: true});\n",
       "}}\n",
       "\n",
       "// Listen for the clearing of the current output cell\n",
       "var outputEl = gd.closest('.output');\n",
       "if (outputEl) {{\n",
       "    x.observe(outputEl, {childList: true});\n",
       "}}\n",
       "\n",
       "                        })                };                });            </script>        </div>"
      ]
     },
     "metadata": {},
     "output_type": "display_data"
    }
   ],
   "source": [
    "English_books = Completed[(Completed[\"language\"]==\"English\")&(Completed[\"completion_year\"]>2016)]\n",
    "English_popular_genres = English_books[\"genre\"].value_counts().rename_axis (\"Genre\").reset_index(name = \"books/reads\")\n",
    "\n",
    "Top_genres = English_popular_genres.head(10)\n",
    "\n",
    "popular_genres = Completed[Completed[\"genre\"].isin(Top_genres[\"Genre\"])]\n",
    "\n",
    "px.histogram( popular_genres[popular_genres[\"completion_year\"]==2017], x = \"genre\", )"
   ]
  },
  {
   "cell_type": "code",
   "execution_count": null,
   "id": "c5bea288",
   "metadata": {
    "papermill": {
     "duration": 0.037155,
     "end_time": "2022-06-10T12:01:18.032040",
     "exception": false,
     "start_time": "2022-06-10T12:01:17.994885",
     "status": "completed"
    },
    "tags": []
   },
   "outputs": [],
   "source": []
  }
 ],
 "metadata": {
  "kernelspec": {
   "display_name": "Python 3",
   "language": "python",
   "name": "python3"
  },
  "language_info": {
   "codemirror_mode": {
    "name": "ipython",
    "version": 3
   },
   "file_extension": ".py",
   "mimetype": "text/x-python",
   "name": "python",
   "nbconvert_exporter": "python",
   "pygments_lexer": "ipython3",
   "version": "3.7.12"
  },
  "papermill": {
   "default_parameters": {},
   "duration": 35.293986,
   "end_time": "2022-06-10T12:01:18.992473",
   "environment_variables": {},
   "exception": null,
   "input_path": "__notebook__.ipynb",
   "output_path": "__notebook__.ipynb",
   "parameters": {},
   "start_time": "2022-06-10T12:00:43.698487",
   "version": "2.3.4"
  }
 },
 "nbformat": 4,
 "nbformat_minor": 5
}
